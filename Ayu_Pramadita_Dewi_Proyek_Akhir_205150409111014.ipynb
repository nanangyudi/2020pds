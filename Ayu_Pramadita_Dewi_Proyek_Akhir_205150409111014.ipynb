{
  "nbformat": 4,
  "nbformat_minor": 0,
  "metadata": {
    "colab": {
      "name": "Ayu Pramadita Dewi_Proyek Akhir_205150409111014.ipynb",
      "provenance": [],
      "collapsed_sections": [
        "KID1u-xQeeOl",
        "JfKVJ0poqqV7",
        "eFHOWIxvMSj6",
        "U_mzsVLaOui0"
      ],
      "include_colab_link": true
    },
    "kernelspec": {
      "name": "python3",
      "display_name": "Python 3"
    }
  },
  "cells": [
    {
      "cell_type": "markdown",
      "metadata": {
        "id": "view-in-github",
        "colab_type": "text"
      },
      "source": [
        "<a href=\"https://colab.research.google.com/github/nanangyudi/2020pds_d/blob/main/Ayu_Pramadita_Dewi_Proyek_Akhir_205150409111014.ipynb\" target=\"_parent\"><img src=\"https://colab.research.google.com/assets/colab-badge.svg\" alt=\"Open In Colab\"/></a>"
      ]
    },
    {
      "cell_type": "code",
      "metadata": {
        "id": "7mpzaMNHcfuD"
      },
      "source": [
        "import pandas as pd\n",
        "url = 'https://raw.githubusercontent.com/pramadita99/tugas-data-python/main/StudentsPerformance.csv'"
      ],
      "execution_count": null,
      "outputs": []
    },
    {
      "cell_type": "markdown",
      "metadata": {
        "id": "8dUgC3XECrOP"
      },
      "source": [
        "# **Deskripsi tujuan bisnis**\r\n",
        "\r\n",
        "---\r\n",
        "\r\n"
      ]
    },
    {
      "cell_type": "markdown",
      "metadata": {
        "id": "PJqjfMQIiV3C"
      },
      "source": [
        "\n",
        ">Data analyst dalam sebuah perusahaan berperan penting dalam sebuah perusahaan. Seorang data analyst berperan dalam mengekstraksi data yang berupa angka menjadi sebuah laporan yang berguna bagi perusahaan terutama bagi manajemen. Setiap perusahaan tentu membutuhkan banyak data seperti data penjualan, riset pasar, dan lain sebagainya. Dari kebutuhan perusahaan akan data, maka data analyst ini sangat dibutuhkan dalam sebuah perusahaan untuk membuat sebuah keputusan demi mencapai tujuan bisnis sebuah perusahaan.\n",
        "\n",
        "\n",
        ">Dalam kasus kali ini, akan dilakukan analisis data yang berupa data performa pelajar dalam ujian. Data ini berisi hasil ujian pelajar di beberapa tingkat pendidikan. \n",
        "Sehingga tujuan dari analisis data ini adalah untuk mengetahui hasil hipotesis yang ditetapkan dengan mencari beberapa hipotesis dimana nilai hipotesis yang memiliki nilai korelasi tertinggi akan dianalisis modelnya dan didapatkan nilai signifikannya.\n",
        "\n"
      ]
    },
    {
      "cell_type": "markdown",
      "metadata": {
        "id": "DoWscyGMCztb"
      },
      "source": [
        "# **Analisa Pendekatan Yang Akan Dilakukan**\r\n",
        "\r\n",
        "---\r\n",
        "\r\n"
      ]
    },
    {
      "cell_type": "markdown",
      "metadata": {
        "id": "pSMIBRZhimy1"
      },
      "source": [
        "\n",
        ">Dalam analisa data ini, digunakan pendekatan EDA (Exploratory Data Analysis). Pendekatan EDA (Exploratory Data Analysis) merupakan pendekatan yang bertujuan untuk mengetahui, memahami, dan menafsir isi serta komponen dari sebuah data. Exploratory data analysis digunakan untuk menganalisis untuk menyimpulkan karakter sebuah dataset yang biasanya disajikan dalam bentuk visual. Visualisasi data eksploratory yang digunakan adalah histogram, scatterplot, boxplot, dan stripplot. \n",
        "\n",
        "> Pada tahap akhir, evaluasi dilakukan dengan cara analisis regresi. Kemudian melalui tahap penentuan hipotesis dan pengujian hipotesis. Untuk pengujian hipotesis akan digunakan metode pearson untuk mengetahui nilai korelasi antar variabel dan beberapa metode untuk menguji hipotesis. Serta dilakukan penggunaan linear least square untuk memastikan kecocokan hasil dengan data.\n",
        "\n"
      ]
    },
    {
      "cell_type": "markdown",
      "metadata": {
        "id": "jFGz3Q-YC7hj"
      },
      "source": [
        "# **Pengumpulan Data**\r\n",
        "\r\n",
        "---\r\n",
        "\r\n"
      ]
    },
    {
      "cell_type": "markdown",
      "metadata": {
        "id": "h5BhLlZRit3G"
      },
      "source": [
        "\n",
        ">Untuk pengumpulan data, dataset telah didapatkan melalui situs website kaggle.com. Dataset yang digunakan adalah \"*student performance in exam*\" dalam format csv. Kaggle merupakan salah satu platform yang sering digunakan dalam data saintis. Di dalam Kaggle, pengguna dapat bersaing untuk membuat model yang paling baik dari suatu dataset yang tersedia. Dataset biasanya disediakan oleh suatu perusahaan atau instansi. Banyak perusahaan, perorangan, maupun instansi yang tidak memiliki data saintis sehingga dataset perusahaan dimasukkan kedalam Kaggle.com dan nantinya akan dilakukan pengolahan dataset tersebut untuk mendapatkan hasil yang terbaik."
      ]
    },
    {
      "cell_type": "markdown",
      "metadata": {
        "id": "Pes90QPSDCMG"
      },
      "source": [
        "# **Pemahaman Terhadap Data Yang Telah Dikumpulkan**\r\n",
        "\r\n",
        "---\r\n",
        "\r\n"
      ]
    },
    {
      "cell_type": "markdown",
      "metadata": {
        "id": "-yLDNpvoix0J"
      },
      "source": [
        ">Data yang telah dikumpulkan yaitu didapatkan dari dataset situs website Kaggle.com. Dataset yang didapatkan yaitu data performa pelajar dam/atau mahasiswa dalam ujian. Pada dataset tersebut berisikan data pelajar dan/atau mahasiswa dengan jenis kelamin laki-laki dan perempuan pada tingkat pendidikan yang berbeda-beda mulai dari level high school (SMA) hingga pada level tertinggi dataset ini adalah Master. Pada dataset ini juga terdapat data pelajar dan/atau mahasiswa yang telah melakukan persiapan atau course sebelum ujian dilaksanakan. Kemudian dalam dataset student performance ini juga dipaparkan nilai atau skor yang didapatkan oleh pelajar dan/atau mahasiswa pada subject matematika, membaca, dan dalam menulis. Sehingga dari data tersebut terdata jelas berapa skor yang di dapatkan oleh setiap pelajar dan/atau mahasiswa baik laki-laki maupun perempuan dan baik yang telah melakukan persiapan sebelum ujian ataupun yang belum."
      ]
    },
    {
      "cell_type": "markdown",
      "metadata": {
        "id": "KID1u-xQeeOl"
      },
      "source": [
        "# **Eksplorasi Data**"
      ]
    },
    {
      "cell_type": "code",
      "metadata": {
        "colab": {
          "base_uri": "https://localhost:8080/",
          "height": 269
        },
        "id": "X9svQjQ-ctTj",
        "outputId": "b6096dbf-7b94-4c2e-bc52-b77d670e8244"
      },
      "source": [
        "import pandas as pd\n",
        "df = pd.read_csv(url, error_bad_lines=False)\n",
        "df.head(7)"
      ],
      "execution_count": null,
      "outputs": [
        {
          "output_type": "execute_result",
          "data": {
            "text/html": [
              "<div>\n",
              "<style scoped>\n",
              "    .dataframe tbody tr th:only-of-type {\n",
              "        vertical-align: middle;\n",
              "    }\n",
              "\n",
              "    .dataframe tbody tr th {\n",
              "        vertical-align: top;\n",
              "    }\n",
              "\n",
              "    .dataframe thead th {\n",
              "        text-align: right;\n",
              "    }\n",
              "</style>\n",
              "<table border=\"1\" class=\"dataframe\">\n",
              "  <thead>\n",
              "    <tr style=\"text-align: right;\">\n",
              "      <th></th>\n",
              "      <th>gender</th>\n",
              "      <th>race/ethnicity</th>\n",
              "      <th>parental level of education</th>\n",
              "      <th>lunch</th>\n",
              "      <th>test preparation course</th>\n",
              "      <th>math score</th>\n",
              "      <th>reading score</th>\n",
              "      <th>writing score</th>\n",
              "    </tr>\n",
              "  </thead>\n",
              "  <tbody>\n",
              "    <tr>\n",
              "      <th>0</th>\n",
              "      <td>female</td>\n",
              "      <td>group B</td>\n",
              "      <td>bachelor's degree</td>\n",
              "      <td>standard</td>\n",
              "      <td>none</td>\n",
              "      <td>72</td>\n",
              "      <td>72</td>\n",
              "      <td>74</td>\n",
              "    </tr>\n",
              "    <tr>\n",
              "      <th>1</th>\n",
              "      <td>female</td>\n",
              "      <td>group C</td>\n",
              "      <td>some college</td>\n",
              "      <td>standard</td>\n",
              "      <td>completed</td>\n",
              "      <td>69</td>\n",
              "      <td>90</td>\n",
              "      <td>88</td>\n",
              "    </tr>\n",
              "    <tr>\n",
              "      <th>2</th>\n",
              "      <td>female</td>\n",
              "      <td>group B</td>\n",
              "      <td>master's degree</td>\n",
              "      <td>standard</td>\n",
              "      <td>none</td>\n",
              "      <td>90</td>\n",
              "      <td>95</td>\n",
              "      <td>93</td>\n",
              "    </tr>\n",
              "    <tr>\n",
              "      <th>3</th>\n",
              "      <td>male</td>\n",
              "      <td>group A</td>\n",
              "      <td>associate's degree</td>\n",
              "      <td>free/reduced</td>\n",
              "      <td>none</td>\n",
              "      <td>47</td>\n",
              "      <td>57</td>\n",
              "      <td>44</td>\n",
              "    </tr>\n",
              "    <tr>\n",
              "      <th>4</th>\n",
              "      <td>male</td>\n",
              "      <td>group C</td>\n",
              "      <td>some college</td>\n",
              "      <td>standard</td>\n",
              "      <td>none</td>\n",
              "      <td>76</td>\n",
              "      <td>78</td>\n",
              "      <td>75</td>\n",
              "    </tr>\n",
              "    <tr>\n",
              "      <th>5</th>\n",
              "      <td>female</td>\n",
              "      <td>group B</td>\n",
              "      <td>associate's degree</td>\n",
              "      <td>standard</td>\n",
              "      <td>none</td>\n",
              "      <td>71</td>\n",
              "      <td>83</td>\n",
              "      <td>78</td>\n",
              "    </tr>\n",
              "    <tr>\n",
              "      <th>6</th>\n",
              "      <td>female</td>\n",
              "      <td>group B</td>\n",
              "      <td>some college</td>\n",
              "      <td>standard</td>\n",
              "      <td>completed</td>\n",
              "      <td>88</td>\n",
              "      <td>95</td>\n",
              "      <td>92</td>\n",
              "    </tr>\n",
              "  </tbody>\n",
              "</table>\n",
              "</div>"
            ],
            "text/plain": [
              "   gender race/ethnicity  ... reading score writing score\n",
              "0  female        group B  ...            72            74\n",
              "1  female        group C  ...            90            88\n",
              "2  female        group B  ...            95            93\n",
              "3    male        group A  ...            57            44\n",
              "4    male        group C  ...            78            75\n",
              "5  female        group B  ...            83            78\n",
              "6  female        group B  ...            95            92\n",
              "\n",
              "[7 rows x 8 columns]"
            ]
          },
          "metadata": {
            "tags": []
          },
          "execution_count": 15
        }
      ]
    },
    {
      "cell_type": "markdown",
      "metadata": {
        "id": "w3yiZ6FEcyjM"
      },
      "source": [
        "Pada function di atas dilakukan import atau mounting data meenggunakan pandas dengan dataset yang digunakan adalah raw data dari URL github yang telah di import di awal colab. Kemudian ada juga function df.head(7) dimana ditunjukkan 7 data awal pada dataset students performance in exam. "
      ]
    },
    {
      "cell_type": "code",
      "metadata": {
        "colab": {
          "base_uri": "https://localhost:8080/",
          "height": 363
        },
        "id": "8czqo1UXcwfb",
        "outputId": "393dfa01-0892-4501-adeb-92fd0a506867"
      },
      "source": [
        "df.head(10)"
      ],
      "execution_count": null,
      "outputs": [
        {
          "output_type": "execute_result",
          "data": {
            "text/html": [
              "<div>\n",
              "<style scoped>\n",
              "    .dataframe tbody tr th:only-of-type {\n",
              "        vertical-align: middle;\n",
              "    }\n",
              "\n",
              "    .dataframe tbody tr th {\n",
              "        vertical-align: top;\n",
              "    }\n",
              "\n",
              "    .dataframe thead th {\n",
              "        text-align: right;\n",
              "    }\n",
              "</style>\n",
              "<table border=\"1\" class=\"dataframe\">\n",
              "  <thead>\n",
              "    <tr style=\"text-align: right;\">\n",
              "      <th></th>\n",
              "      <th>gender</th>\n",
              "      <th>race/ethnicity</th>\n",
              "      <th>parental level of education</th>\n",
              "      <th>lunch</th>\n",
              "      <th>test preparation course</th>\n",
              "      <th>math score</th>\n",
              "      <th>reading score</th>\n",
              "      <th>writing score</th>\n",
              "    </tr>\n",
              "  </thead>\n",
              "  <tbody>\n",
              "    <tr>\n",
              "      <th>0</th>\n",
              "      <td>female</td>\n",
              "      <td>group B</td>\n",
              "      <td>bachelor's degree</td>\n",
              "      <td>standard</td>\n",
              "      <td>none</td>\n",
              "      <td>72</td>\n",
              "      <td>72</td>\n",
              "      <td>74</td>\n",
              "    </tr>\n",
              "    <tr>\n",
              "      <th>1</th>\n",
              "      <td>female</td>\n",
              "      <td>group C</td>\n",
              "      <td>some college</td>\n",
              "      <td>standard</td>\n",
              "      <td>completed</td>\n",
              "      <td>69</td>\n",
              "      <td>90</td>\n",
              "      <td>88</td>\n",
              "    </tr>\n",
              "    <tr>\n",
              "      <th>2</th>\n",
              "      <td>female</td>\n",
              "      <td>group B</td>\n",
              "      <td>master's degree</td>\n",
              "      <td>standard</td>\n",
              "      <td>none</td>\n",
              "      <td>90</td>\n",
              "      <td>95</td>\n",
              "      <td>93</td>\n",
              "    </tr>\n",
              "    <tr>\n",
              "      <th>3</th>\n",
              "      <td>male</td>\n",
              "      <td>group A</td>\n",
              "      <td>associate's degree</td>\n",
              "      <td>free/reduced</td>\n",
              "      <td>none</td>\n",
              "      <td>47</td>\n",
              "      <td>57</td>\n",
              "      <td>44</td>\n",
              "    </tr>\n",
              "    <tr>\n",
              "      <th>4</th>\n",
              "      <td>male</td>\n",
              "      <td>group C</td>\n",
              "      <td>some college</td>\n",
              "      <td>standard</td>\n",
              "      <td>none</td>\n",
              "      <td>76</td>\n",
              "      <td>78</td>\n",
              "      <td>75</td>\n",
              "    </tr>\n",
              "    <tr>\n",
              "      <th>5</th>\n",
              "      <td>female</td>\n",
              "      <td>group B</td>\n",
              "      <td>associate's degree</td>\n",
              "      <td>standard</td>\n",
              "      <td>none</td>\n",
              "      <td>71</td>\n",
              "      <td>83</td>\n",
              "      <td>78</td>\n",
              "    </tr>\n",
              "    <tr>\n",
              "      <th>6</th>\n",
              "      <td>female</td>\n",
              "      <td>group B</td>\n",
              "      <td>some college</td>\n",
              "      <td>standard</td>\n",
              "      <td>completed</td>\n",
              "      <td>88</td>\n",
              "      <td>95</td>\n",
              "      <td>92</td>\n",
              "    </tr>\n",
              "    <tr>\n",
              "      <th>7</th>\n",
              "      <td>male</td>\n",
              "      <td>group B</td>\n",
              "      <td>some college</td>\n",
              "      <td>free/reduced</td>\n",
              "      <td>none</td>\n",
              "      <td>40</td>\n",
              "      <td>43</td>\n",
              "      <td>39</td>\n",
              "    </tr>\n",
              "    <tr>\n",
              "      <th>8</th>\n",
              "      <td>male</td>\n",
              "      <td>group D</td>\n",
              "      <td>high school</td>\n",
              "      <td>free/reduced</td>\n",
              "      <td>completed</td>\n",
              "      <td>64</td>\n",
              "      <td>64</td>\n",
              "      <td>67</td>\n",
              "    </tr>\n",
              "    <tr>\n",
              "      <th>9</th>\n",
              "      <td>female</td>\n",
              "      <td>group B</td>\n",
              "      <td>high school</td>\n",
              "      <td>free/reduced</td>\n",
              "      <td>none</td>\n",
              "      <td>38</td>\n",
              "      <td>60</td>\n",
              "      <td>50</td>\n",
              "    </tr>\n",
              "  </tbody>\n",
              "</table>\n",
              "</div>"
            ],
            "text/plain": [
              "   gender race/ethnicity  ... reading score writing score\n",
              "0  female        group B  ...            72            74\n",
              "1  female        group C  ...            90            88\n",
              "2  female        group B  ...            95            93\n",
              "3    male        group A  ...            57            44\n",
              "4    male        group C  ...            78            75\n",
              "5  female        group B  ...            83            78\n",
              "6  female        group B  ...            95            92\n",
              "7    male        group B  ...            43            39\n",
              "8    male        group D  ...            64            67\n",
              "9  female        group B  ...            60            50\n",
              "\n",
              "[10 rows x 8 columns]"
            ]
          },
          "metadata": {
            "tags": []
          },
          "execution_count": 16
        }
      ]
    },
    {
      "cell_type": "markdown",
      "metadata": {
        "id": "Q2L61W4Cc3ES"
      },
      "source": [
        "Pada coding df.head(10) di atas, dapat diketahui 10 data awal dari dataset. "
      ]
    },
    {
      "cell_type": "code",
      "metadata": {
        "colab": {
          "base_uri": "https://localhost:8080/",
          "height": 363
        },
        "id": "KvyzEkd4c3_4",
        "outputId": "a46a5a53-e0c9-48b2-e1e8-52a7d25f85cb"
      },
      "source": [
        "df.tail(10)"
      ],
      "execution_count": null,
      "outputs": [
        {
          "output_type": "execute_result",
          "data": {
            "text/html": [
              "<div>\n",
              "<style scoped>\n",
              "    .dataframe tbody tr th:only-of-type {\n",
              "        vertical-align: middle;\n",
              "    }\n",
              "\n",
              "    .dataframe tbody tr th {\n",
              "        vertical-align: top;\n",
              "    }\n",
              "\n",
              "    .dataframe thead th {\n",
              "        text-align: right;\n",
              "    }\n",
              "</style>\n",
              "<table border=\"1\" class=\"dataframe\">\n",
              "  <thead>\n",
              "    <tr style=\"text-align: right;\">\n",
              "      <th></th>\n",
              "      <th>gender</th>\n",
              "      <th>race/ethnicity</th>\n",
              "      <th>parental level of education</th>\n",
              "      <th>lunch</th>\n",
              "      <th>test preparation course</th>\n",
              "      <th>math score</th>\n",
              "      <th>reading score</th>\n",
              "      <th>writing score</th>\n",
              "    </tr>\n",
              "  </thead>\n",
              "  <tbody>\n",
              "    <tr>\n",
              "      <th>990</th>\n",
              "      <td>male</td>\n",
              "      <td>group E</td>\n",
              "      <td>high school</td>\n",
              "      <td>free/reduced</td>\n",
              "      <td>completed</td>\n",
              "      <td>86</td>\n",
              "      <td>81</td>\n",
              "      <td>75</td>\n",
              "    </tr>\n",
              "    <tr>\n",
              "      <th>991</th>\n",
              "      <td>female</td>\n",
              "      <td>group B</td>\n",
              "      <td>some high school</td>\n",
              "      <td>standard</td>\n",
              "      <td>completed</td>\n",
              "      <td>65</td>\n",
              "      <td>82</td>\n",
              "      <td>78</td>\n",
              "    </tr>\n",
              "    <tr>\n",
              "      <th>992</th>\n",
              "      <td>female</td>\n",
              "      <td>group D</td>\n",
              "      <td>associate's degree</td>\n",
              "      <td>free/reduced</td>\n",
              "      <td>none</td>\n",
              "      <td>55</td>\n",
              "      <td>76</td>\n",
              "      <td>76</td>\n",
              "    </tr>\n",
              "    <tr>\n",
              "      <th>993</th>\n",
              "      <td>female</td>\n",
              "      <td>group D</td>\n",
              "      <td>bachelor's degree</td>\n",
              "      <td>free/reduced</td>\n",
              "      <td>none</td>\n",
              "      <td>62</td>\n",
              "      <td>72</td>\n",
              "      <td>74</td>\n",
              "    </tr>\n",
              "    <tr>\n",
              "      <th>994</th>\n",
              "      <td>male</td>\n",
              "      <td>group A</td>\n",
              "      <td>high school</td>\n",
              "      <td>standard</td>\n",
              "      <td>none</td>\n",
              "      <td>63</td>\n",
              "      <td>63</td>\n",
              "      <td>62</td>\n",
              "    </tr>\n",
              "    <tr>\n",
              "      <th>995</th>\n",
              "      <td>female</td>\n",
              "      <td>group E</td>\n",
              "      <td>master's degree</td>\n",
              "      <td>standard</td>\n",
              "      <td>completed</td>\n",
              "      <td>88</td>\n",
              "      <td>99</td>\n",
              "      <td>95</td>\n",
              "    </tr>\n",
              "    <tr>\n",
              "      <th>996</th>\n",
              "      <td>male</td>\n",
              "      <td>group C</td>\n",
              "      <td>high school</td>\n",
              "      <td>free/reduced</td>\n",
              "      <td>none</td>\n",
              "      <td>62</td>\n",
              "      <td>55</td>\n",
              "      <td>55</td>\n",
              "    </tr>\n",
              "    <tr>\n",
              "      <th>997</th>\n",
              "      <td>female</td>\n",
              "      <td>group C</td>\n",
              "      <td>high school</td>\n",
              "      <td>free/reduced</td>\n",
              "      <td>completed</td>\n",
              "      <td>59</td>\n",
              "      <td>71</td>\n",
              "      <td>65</td>\n",
              "    </tr>\n",
              "    <tr>\n",
              "      <th>998</th>\n",
              "      <td>female</td>\n",
              "      <td>group D</td>\n",
              "      <td>some college</td>\n",
              "      <td>standard</td>\n",
              "      <td>completed</td>\n",
              "      <td>68</td>\n",
              "      <td>78</td>\n",
              "      <td>77</td>\n",
              "    </tr>\n",
              "    <tr>\n",
              "      <th>999</th>\n",
              "      <td>female</td>\n",
              "      <td>group D</td>\n",
              "      <td>some college</td>\n",
              "      <td>free/reduced</td>\n",
              "      <td>none</td>\n",
              "      <td>77</td>\n",
              "      <td>86</td>\n",
              "      <td>86</td>\n",
              "    </tr>\n",
              "  </tbody>\n",
              "</table>\n",
              "</div>"
            ],
            "text/plain": [
              "     gender race/ethnicity  ... reading score writing score\n",
              "990    male        group E  ...            81            75\n",
              "991  female        group B  ...            82            78\n",
              "992  female        group D  ...            76            76\n",
              "993  female        group D  ...            72            74\n",
              "994    male        group A  ...            63            62\n",
              "995  female        group E  ...            99            95\n",
              "996    male        group C  ...            55            55\n",
              "997  female        group C  ...            71            65\n",
              "998  female        group D  ...            78            77\n",
              "999  female        group D  ...            86            86\n",
              "\n",
              "[10 rows x 8 columns]"
            ]
          },
          "metadata": {
            "tags": []
          },
          "execution_count": 17
        }
      ]
    },
    {
      "cell_type": "markdown",
      "metadata": {
        "id": "_tt6Fj0Xc7z3"
      },
      "source": [
        "Kemudian pada code atau function df.tail(10) di atas menunjukkan tabel dengan urutan 10 data di akhir dataset. Function df.head() dan df.tail() sangat berguna untuk memberikan gambaran data awal dan data akhir ketika dataset yang diolah memiliki jumlah atau kapasitas yang sangat banyak."
      ]
    },
    {
      "cell_type": "code",
      "metadata": {
        "colab": {
          "base_uri": "https://localhost:8080/"
        },
        "id": "4uyP3iwVc-jR",
        "outputId": "46b56045-8b7f-41b8-fba1-4a4c2dfbc256"
      },
      "source": [
        "df.shape"
      ],
      "execution_count": null,
      "outputs": [
        {
          "output_type": "execute_result",
          "data": {
            "text/plain": [
              "(1000, 8)"
            ]
          },
          "metadata": {
            "tags": []
          },
          "execution_count": 18
        }
      ]
    },
    {
      "cell_type": "markdown",
      "metadata": {
        "id": "kEcSK-P9dA_C"
      },
      "source": [
        "Pada function df.shape di atas dapat diketahui di dalam dataset terdiri dari 1000 baris dengan 8 kolom. "
      ]
    },
    {
      "cell_type": "code",
      "metadata": {
        "colab": {
          "base_uri": "https://localhost:8080/"
        },
        "id": "WeerQieqdDVQ",
        "outputId": "810150d4-3cca-42bd-e6a5-6c4e1a9831d2"
      },
      "source": [
        "df.columns"
      ],
      "execution_count": null,
      "outputs": [
        {
          "output_type": "execute_result",
          "data": {
            "text/plain": [
              "Index(['gender', 'race/ethnicity', 'parental level of education', 'lunch',\n",
              "       'test preparation course', 'math score', 'reading score',\n",
              "       'writing score'],\n",
              "      dtype='object')"
            ]
          },
          "metadata": {
            "tags": []
          },
          "execution_count": 19
        }
      ]
    },
    {
      "cell_type": "code",
      "metadata": {
        "colab": {
          "base_uri": "https://localhost:8080/"
        },
        "id": "-h1LG-FndFt-",
        "outputId": "4b785bf7-61c6-4d58-c485-73810ac41598"
      },
      "source": [
        "df.index"
      ],
      "execution_count": null,
      "outputs": [
        {
          "output_type": "execute_result",
          "data": {
            "text/plain": [
              "RangeIndex(start=0, stop=1000, step=1)"
            ]
          },
          "metadata": {
            "tags": []
          },
          "execution_count": 20
        }
      ]
    },
    {
      "cell_type": "markdown",
      "metadata": {
        "id": "Rrl2aVJTdI9N"
      },
      "source": [
        "Selanjutnya input function df.columns untuk mengetahui kolom apa saja yang tersedia di dalam dataset. Pada function dataset df.shape telah diketahui jumlah kolom yang ada adalah 8 kolom dengan rincian pada function df.columns yaitu gender, race/ethnicity, parental level of education, lunch, test preparation course, math score, reading score, dan writing score. Kemudian pada function df.index() kita dapat mengetahui range o sampai 100 dengan kenaikannya adalah 1. "
      ]
    },
    {
      "cell_type": "code",
      "metadata": {
        "colab": {
          "base_uri": "https://localhost:8080/"
        },
        "id": "QBMDvJ9mdLtk",
        "outputId": "a456bea4-b7b5-43eb-ccd8-0213c0e69ce8"
      },
      "source": [
        "df.info()"
      ],
      "execution_count": null,
      "outputs": [
        {
          "output_type": "stream",
          "text": [
            "<class 'pandas.core.frame.DataFrame'>\n",
            "RangeIndex: 1000 entries, 0 to 999\n",
            "Data columns (total 8 columns):\n",
            " #   Column                       Non-Null Count  Dtype \n",
            "---  ------                       --------------  ----- \n",
            " 0   gender                       1000 non-null   object\n",
            " 1   race/ethnicity               1000 non-null   object\n",
            " 2   parental level of education  1000 non-null   object\n",
            " 3   lunch                        1000 non-null   object\n",
            " 4   test preparation course      1000 non-null   object\n",
            " 5   math score                   1000 non-null   int64 \n",
            " 6   reading score                1000 non-null   int64 \n",
            " 7   writing score                1000 non-null   int64 \n",
            "dtypes: int64(3), object(5)\n",
            "memory usage: 62.6+ KB\n"
          ],
          "name": "stdout"
        }
      ]
    },
    {
      "cell_type": "markdown",
      "metadata": {
        "id": "RZ8nCBEYdN1E"
      },
      "source": [
        "Pada function df.info() hasilnya sama dengan yang ditampilkan dari pandas. Pada function tersebut diketahui informasi data yang kita butuhkan yang ada di dalam dataset. Pada data di atas diketahui tidak ada variabel yang memiliki null/missing values. Data terdiri dari integer dan object. "
      ]
    },
    {
      "cell_type": "code",
      "metadata": {
        "colab": {
          "base_uri": "https://localhost:8080/",
          "height": 300
        },
        "id": "g0CGS1hDdQUU",
        "outputId": "f08ddaf1-8323-4753-914f-c9d0afd63ae9"
      },
      "source": [
        "df.describe()"
      ],
      "execution_count": null,
      "outputs": [
        {
          "output_type": "execute_result",
          "data": {
            "text/html": [
              "<div>\n",
              "<style scoped>\n",
              "    .dataframe tbody tr th:only-of-type {\n",
              "        vertical-align: middle;\n",
              "    }\n",
              "\n",
              "    .dataframe tbody tr th {\n",
              "        vertical-align: top;\n",
              "    }\n",
              "\n",
              "    .dataframe thead th {\n",
              "        text-align: right;\n",
              "    }\n",
              "</style>\n",
              "<table border=\"1\" class=\"dataframe\">\n",
              "  <thead>\n",
              "    <tr style=\"text-align: right;\">\n",
              "      <th></th>\n",
              "      <th>math score</th>\n",
              "      <th>reading score</th>\n",
              "      <th>writing score</th>\n",
              "    </tr>\n",
              "  </thead>\n",
              "  <tbody>\n",
              "    <tr>\n",
              "      <th>count</th>\n",
              "      <td>1000.00000</td>\n",
              "      <td>1000.000000</td>\n",
              "      <td>1000.000000</td>\n",
              "    </tr>\n",
              "    <tr>\n",
              "      <th>mean</th>\n",
              "      <td>66.08900</td>\n",
              "      <td>69.169000</td>\n",
              "      <td>68.054000</td>\n",
              "    </tr>\n",
              "    <tr>\n",
              "      <th>std</th>\n",
              "      <td>15.16308</td>\n",
              "      <td>14.600192</td>\n",
              "      <td>15.195657</td>\n",
              "    </tr>\n",
              "    <tr>\n",
              "      <th>min</th>\n",
              "      <td>0.00000</td>\n",
              "      <td>17.000000</td>\n",
              "      <td>10.000000</td>\n",
              "    </tr>\n",
              "    <tr>\n",
              "      <th>25%</th>\n",
              "      <td>57.00000</td>\n",
              "      <td>59.000000</td>\n",
              "      <td>57.750000</td>\n",
              "    </tr>\n",
              "    <tr>\n",
              "      <th>50%</th>\n",
              "      <td>66.00000</td>\n",
              "      <td>70.000000</td>\n",
              "      <td>69.000000</td>\n",
              "    </tr>\n",
              "    <tr>\n",
              "      <th>75%</th>\n",
              "      <td>77.00000</td>\n",
              "      <td>79.000000</td>\n",
              "      <td>79.000000</td>\n",
              "    </tr>\n",
              "    <tr>\n",
              "      <th>max</th>\n",
              "      <td>100.00000</td>\n",
              "      <td>100.000000</td>\n",
              "      <td>100.000000</td>\n",
              "    </tr>\n",
              "  </tbody>\n",
              "</table>\n",
              "</div>"
            ],
            "text/plain": [
              "       math score  reading score  writing score\n",
              "count  1000.00000    1000.000000    1000.000000\n",
              "mean     66.08900      69.169000      68.054000\n",
              "std      15.16308      14.600192      15.195657\n",
              "min       0.00000      17.000000      10.000000\n",
              "25%      57.00000      59.000000      57.750000\n",
              "50%      66.00000      70.000000      69.000000\n",
              "75%      77.00000      79.000000      79.000000\n",
              "max     100.00000     100.000000     100.000000"
            ]
          },
          "metadata": {
            "tags": []
          },
          "execution_count": 22
        }
      ]
    },
    {
      "cell_type": "markdown",
      "metadata": {
        "id": "iAEpqBKNdSvq"
      },
      "source": [
        "Pada function df.describe() di atas, terdapat beberapa fungsi tambahan untuk mengetahui distribusi data pada dataset selain dalam bentuk visualisasi. Pada hasil tersebut dapat dilihat count (jumlah data pada setiap variabel), mean (rata-rata pada setiap variabel), std (standard deviasi pada setiap variabel), min (nilai minimum pada setiap variabel), Q1, Q2, dan Q3, serta max (nilai maximum pada setiap variabel)."
      ]
    },
    {
      "cell_type": "code",
      "metadata": {
        "colab": {
          "base_uri": "https://localhost:8080/"
        },
        "id": "Bj3BxRFpdUpz",
        "outputId": "284ba036-6db7-4c3c-fa27-32e332dd7650"
      },
      "source": [
        "df.isna().sum()"
      ],
      "execution_count": null,
      "outputs": [
        {
          "output_type": "execute_result",
          "data": {
            "text/plain": [
              "gender                         0\n",
              "race/ethnicity                 0\n",
              "parental level of education    0\n",
              "lunch                          0\n",
              "test preparation course        0\n",
              "math score                     0\n",
              "reading score                  0\n",
              "writing score                  0\n",
              "dtype: int64"
            ]
          },
          "metadata": {
            "tags": []
          },
          "execution_count": 23
        }
      ]
    },
    {
      "cell_type": "markdown",
      "metadata": {
        "id": "Lr9ajwJVdWf9"
      },
      "source": [
        "Pada function df.isna().sum() digunakan untuk mengetahui data yang memiliki missing value. Setelah dilakukan coding di atas, diketahui pada dataset tidak memiliki missing values. Jumlah variabel pada missing valuenya adalam 0 sehingga tidak ada missing values di setiap kolom. Function isna() di atas berguna untuk mengetahui missing values dalam data. Jika data menunjukkan nilai 0 maka tidak terdeteksi missing value."
      ]
    },
    {
      "cell_type": "markdown",
      "metadata": {
        "id": "zdHb3Xm6ofRG"
      },
      "source": [
        "\n",
        "**Histogram** matplotlib 2 variabel antara gender dan reading score\n",
        "\n"
      ]
    },
    {
      "cell_type": "code",
      "metadata": {
        "colab": {
          "base_uri": "https://localhost:8080/",
          "height": 301
        },
        "id": "nHD5_CK0dYf0",
        "outputId": "3d9d349c-861d-40d9-86c4-ad763ec32a66"
      },
      "source": [
        "import matplotlib.pyplot as plt\n",
        "import pandas as pd\n",
        "df=pd.read_csv(url, error_bad_lines=False)\n",
        "#Plots in matplotlib reside within a figure object\n",
        "fig=plt.figure()\n",
        "#Create one or more subplots using add_subplot, because you can't create blank figure\n",
        "ax = fig.add_subplot(1,1,1)\n",
        "#Variable\n",
        "ax.hist(df['gender'],bins = 5)\n",
        "#Labels and Tit\n",
        "plt.title('matplot')\n",
        "plt.xlabel('gender')\n",
        "plt.ylabel('reading score')\n",
        "plt.show()"
      ],
      "execution_count": null,
      "outputs": [
        {
          "output_type": "display_data",
          "data": {
            "image/png": "[encoded data removed]",
            "text/plain": [
              "<Figure size 432x288 with 1 Axes>"
            ]
          },
          "metadata": {
            "tags": []
          }
        }
      ]
    },
    {
      "cell_type": "markdown",
      "metadata": {
        "id": "aN0aTSoioLsX"
      },
      "source": [
        "\n",
        "\n",
        "*  Pada grafik histogram di atas, diketahui jumlah skor reading pada jenis kelamin perempuan keseluruhan adalah 520 dan pada jenis kelamin pria mendapatkan total skor 450. Sehingga dapat disimpulkan nilai total reading tertinggi adalah pada pelajar perempuan.\n",
        "\n"
      ]
    },
    {
      "cell_type": "markdown",
      "metadata": {
        "id": "JWCbpyF8pNOI"
      },
      "source": [
        "\n",
        "\n",
        "**Boxplot** variabel reading score\n",
        "\n"
      ]
    },
    {
      "cell_type": "code",
      "metadata": {
        "colab": {
          "base_uri": "https://localhost:8080/",
          "height": 336
        },
        "id": "nAcfEmnNdc-B",
        "outputId": "627570f8-fda5-4ba4-a133-8a2dc2140a5a"
      },
      "source": [
        "import seaborn as sns \n",
        "sns.boxplot(df['reading score']) \n",
        "sns.despine()"
      ],
      "execution_count": null,
      "outputs": [
        {
          "output_type": "stream",
          "text": [
            "/usr/local/lib/python3.6/dist-packages/seaborn/_decorators.py:43: FutureWarning: Pass the following variable as a keyword arg: x. From version 0.12, the only valid positional argument will be `data`, and passing other arguments without an explicit keyword will result in an error or misinterpretation.\n",
            "  FutureWarning\n"
          ],
          "name": "stderr"
        },
        {
          "output_type": "display_data",
          "data": {
            "image/png": "[encoded data removed]",
            "text/plain": [
              "<Figure size 432x288 with 1 Axes>"
            ]
          },
          "metadata": {
            "tags": [],
            "needs_background": "light"
          }
        }
      ]
    },
    {
      "cell_type": "markdown",
      "metadata": {
        "id": "P15AxMPPVDMj"
      },
      "source": [
        "**Analisis Boxplot**\r\n",
        "\r\n",
        "> \r\n",
        "\r\n",
        "*   Nilai minimal pada boxplot di atas menunjukkan skor reading adalah 30\r\n",
        "*   Nilai quartil terendah pada boxplot di atas adalah sekitar 58 pada skor reading\r\n",
        "*   Nilai median pada boxplot di atas menunjukkan sekitar 70 pada skor reading\r\n",
        "*   Nilai quartil atas nya menunjukkan 78 pada skor reading\r\n",
        "*   Nilai maksimal pada boxplot di atas menunjukkan 100 pada skor reading\r\n",
        "*   Outlier pada data di atas adalah  sekitar antara 18 hingga 28\r\n",
        "\r\n",
        "\r\n",
        "\r\n",
        "\r\n",
        "\r\n",
        "\r\n",
        "\r\n",
        "\r\n"
      ]
    },
    {
      "cell_type": "markdown",
      "metadata": {
        "id": "3m1BjEhmvd3P"
      },
      "source": [
        "\n",
        "\n",
        "Boxplot untuk mengetahui nilai min, Q1, Q2, Q3, dan max pada variabel test preparation course dan math score pada jenis kelamin laki-laki dan perempuan.\n",
        "\n"
      ]
    },
    {
      "cell_type": "code",
      "metadata": {
        "colab": {
          "base_uri": "https://localhost:8080/",
          "height": 297
        },
        "id": "KDH9ZDyyuZHB",
        "outputId": "57adce95-63d1-4e31-e34e-eb9853b0a0ab"
      },
      "source": [
        "sns.boxplot(x=\"test preparation course\", y=\"math score\", data=df, hue = 'gender') "
      ],
      "execution_count": null,
      "outputs": [
        {
          "output_type": "execute_result",
          "data": {
            "text/plain": [
              "<matplotlib.axes._subplots.AxesSubplot at 0x7ff6b4042cf8>"
            ]
          },
          "metadata": {
            "tags": []
          },
          "execution_count": 28
        },
        {
          "output_type": "display_data",
          "data": {
            "image/png": "[encoded data removed]",
            "text/plain": [
              "<Figure size 432x288 with 1 Axes>"
            ]
          },
          "metadata": {
            "tags": [],
            "needs_background": "light"
          }
        }
      ]
    },
    {
      "cell_type": "markdown",
      "metadata": {
        "id": "zvtVwn_4Xess"
      },
      "source": [
        "Pada data boxplot di atas, didapatkan hasil pada skor math dengan pelajar yang telah melakukan persiapan tes dan yang belum melakukan persiapan tes pada setiap gender, sebagai berikut :\r\n",
        "\r\n",
        "1.   Untuk nilai math pada pelajar yang belum melakukan persiapan tes dengan gender female :\r\n",
        "\r\n",
        "*   Nilai minimal pada boxplot di atas menunjukkan skor math adalah sekitar 21.\r\n",
        "*   Nilai quartil terendah pada boxplot di atas adalah sekitar 55 pada skor math.\r\n",
        "*   Nilai median pada boxplot di atas menunjukkan sekitar 62 pada skor math.\r\n",
        "*   Nilai quartil atas nya menunjukkan 76 pada skor math.\r\n",
        "*   Nilai maksimal pada boxplot di atas menunjukkan 100 pada skor math.\r\n",
        "*   Outlier pada data di atas adalah  sekitar antara 0 hingga 20.\r\n",
        "\r\n",
        "\r\n",
        "2.   Untuk nilai math pada pelajar yang belum melakukan persiapan tes dengan gender male :\r\n",
        "*   Nilai minimal pada boxplot di atas menunjukkan skor math adalah sekitar 35.\r\n",
        "*   Nilai quartil terendah pada boxplot di atas adalah sekitar 58 pada skor math.\r\n",
        "*   Nilai median pada boxplot di atas menunjukkan sekitar 65 pada skor math.\r\n",
        "*   Nilai quartil atas nya menunjukkan 78 pada skor math.\r\n",
        "*   Nilai maksimal pada boxplot di atas menunjukkan 97 pada skor math.\r\n",
        "*   Outlier pada data di atas adalah  sekitar antara 22 hingga 35.\r\n",
        "\r\n",
        "3.   Untuk nilai math pada pelajar yang sudah melakukan persiapan tes dengan gender female :\r\n",
        "*   Nilai minimal pada boxplot di atas menunjukkan skor math adalah sekitar 34.\r\n",
        "*   Nilai quartil terendah pada boxplot di atas adalah sekitar 57 pada skor math.\r\n",
        "*   Nilai median pada boxplot di atas menunjukkan sekitar 65 pada skor math.\r\n",
        "*   Nilai quartil atas nya menunjukkan 78 pada skor math.\r\n",
        "*   Nilai maksimal pada boxplot di atas menunjukkan 98 pada skor math.\r\n",
        "*   Outlier pada data di atas adalah  sekitar antara 20 hingga 33.\r\n",
        "\r\n",
        "4.   Untuk nilai math pada pelajar yang sudah melakukan persiapan tes dengan gender male :\r\n",
        "*   Nilai minimal pada boxplot di atas menunjukkan skor math adalah sekitar 37.\r\n",
        "*   Nilai quartil terendah pada boxplot di atas adalah sekitar 60 pada skor math.\r\n",
        "*   Nilai median pada boxplot di atas menunjukkan sekitar 70 pada skor math.\r\n",
        "*   Nilai quartil atas nya menunjukkan 80 pada skor math.\r\n",
        "*   Nilai maksimal pada boxplot di atas menunjukkan 99 pada skor math.\r\n",
        "*   Pada data boxplot di atas tidak terdapat outlier.\r\n",
        "\r\n"
      ]
    },
    {
      "cell_type": "markdown",
      "metadata": {
        "id": "6ZfS7MrRh4jS"
      },
      "source": [
        "**Analisis Frekuensi :**"
      ]
    },
    {
      "cell_type": "code",
      "metadata": {
        "colab": {
          "base_uri": "https://localhost:8080/"
        },
        "id": "2_ut0CT1dfT6",
        "outputId": "e3b6e6e6-6be0-4679-f2c6-29e7d553796d"
      },
      "source": [
        "import pandas as pd\n",
        "df=pd.read_csv(url, error_bad_lines=False) \n",
        "print (df)\n",
        "test= df.groupby(['parental level of education','gender'])\n",
        "test.size()"
      ],
      "execution_count": null,
      "outputs": [
        {
          "output_type": "stream",
          "text": [
            "     gender race/ethnicity  ... reading score writing score\n",
            "0    female        group B  ...            72            74\n",
            "1    female        group C  ...            90            88\n",
            "2    female        group B  ...            95            93\n",
            "3      male        group A  ...            57            44\n",
            "4      male        group C  ...            78            75\n",
            "..      ...            ...  ...           ...           ...\n",
            "995  female        group E  ...            99            95\n",
            "996    male        group C  ...            55            55\n",
            "997  female        group C  ...            71            65\n",
            "998  female        group D  ...            78            77\n",
            "999  female        group D  ...            86            86\n",
            "\n",
            "[1000 rows x 8 columns]\n"
          ],
          "name": "stdout"
        },
        {
          "output_type": "execute_result",
          "data": {
            "text/plain": [
              "parental level of education  gender\n",
              "associate's degree           female    116\n",
              "                             male      106\n",
              "bachelor's degree            female     63\n",
              "                             male       55\n",
              "high school                  female     94\n",
              "                             male      102\n",
              "master's degree              female     36\n",
              "                             male       23\n",
              "some college                 female    118\n",
              "                             male      108\n",
              "some high school             female     91\n",
              "                             male       88\n",
              "dtype: int64"
            ]
          },
          "metadata": {
            "tags": []
          },
          "execution_count": 44
        }
      ]
    },
    {
      "cell_type": "markdown",
      "metadata": {
        "id": "AWyE2VNIh9we"
      },
      "source": [
        "**Analisis frekuensi** \r\n",
        "\r\n",
        "> Pada data di atas diketahui bahwa :\r\n",
        "\r\n",
        "*  Gender female pada level associate's degree mempunyai frekuensi 116\r\n",
        "*  Gender male pada level associate's degree mempunyai frekueni 106\r\n",
        "\r\n",
        "*  Gender female pada level bachelor's degree mempunyai frekuensi 63\r\n",
        "*  Gender male pada level bachelor's degree mempunyai frekuensi 55\r\n",
        "\r\n",
        "*   Gender female pada level high shool/SMA memiliki frekuensi 94\r\n",
        "*   Gender male pada level high school/SMA memiliki frekuensi 102\r\n",
        "\r\n",
        "*   Gender female pada level master memiliki frekuensi 36\r\n",
        "*   Gender male pada level master memiliki frekuensi 23\r\n",
        "\r\n",
        "*   Gender female pada beberapa kampus memiliki frekuensi 118\r\n",
        "*   Gender male pada beberapa kampus memiliki frekuensi 108\r\n",
        "\r\n",
        "*   Gender female pada beberapa SMA memiliki frekuensi 91\r\n",
        "*   Gender male pada beberapa SMA memiliki frekuensi 88\r\n",
        "\r\n",
        "\r\n",
        "\r\n",
        "\r\n",
        "\r\n",
        "\r\n",
        "\r\n",
        "\r\n",
        "\r\n",
        "\r\n",
        "\r\n",
        "\r\n"
      ]
    },
    {
      "cell_type": "markdown",
      "metadata": {
        "id": "xKiXfWGd01Ha"
      },
      "source": [
        "**Analisis Pengelompokan Skor dengan acuan Parental Level of Education**"
      ]
    },
    {
      "cell_type": "code",
      "metadata": {
        "colab": {
          "base_uri": "https://localhost:8080/",
          "height": 459
        },
        "id": "EAeOxbGHdh04",
        "outputId": "e3f674d3-d868-4a69-b2b0-002b650faa71"
      },
      "source": [
        "test= df.groupby(['parental level of education'])\n",
        "test.describe()"
      ],
      "execution_count": null,
      "outputs": [
        {
          "output_type": "execute_result",
          "data": {
            "text/html": [
              "<div>\n",
              "<style scoped>\n",
              "    .dataframe tbody tr th:only-of-type {\n",
              "        vertical-align: middle;\n",
              "    }\n",
              "\n",
              "    .dataframe tbody tr th {\n",
              "        vertical-align: top;\n",
              "    }\n",
              "\n",
              "    .dataframe thead tr th {\n",
              "        text-align: left;\n",
              "    }\n",
              "\n",
              "    .dataframe thead tr:last-of-type th {\n",
              "        text-align: right;\n",
              "    }\n",
              "</style>\n",
              "<table border=\"1\" class=\"dataframe\">\n",
              "  <thead>\n",
              "    <tr>\n",
              "      <th></th>\n",
              "      <th colspan=\"8\" halign=\"left\">math score</th>\n",
              "      <th colspan=\"8\" halign=\"left\">reading score</th>\n",
              "      <th colspan=\"8\" halign=\"left\">writing score</th>\n",
              "    </tr>\n",
              "    <tr>\n",
              "      <th></th>\n",
              "      <th>count</th>\n",
              "      <th>mean</th>\n",
              "      <th>std</th>\n",
              "      <th>min</th>\n",
              "      <th>25%</th>\n",
              "      <th>50%</th>\n",
              "      <th>75%</th>\n",
              "      <th>max</th>\n",
              "      <th>count</th>\n",
              "      <th>mean</th>\n",
              "      <th>std</th>\n",
              "      <th>min</th>\n",
              "      <th>25%</th>\n",
              "      <th>50%</th>\n",
              "      <th>75%</th>\n",
              "      <th>max</th>\n",
              "      <th>count</th>\n",
              "      <th>mean</th>\n",
              "      <th>std</th>\n",
              "      <th>min</th>\n",
              "      <th>25%</th>\n",
              "      <th>50%</th>\n",
              "      <th>75%</th>\n",
              "      <th>max</th>\n",
              "    </tr>\n",
              "    <tr>\n",
              "      <th>parental level of education</th>\n",
              "      <th></th>\n",
              "      <th></th>\n",
              "      <th></th>\n",
              "      <th></th>\n",
              "      <th></th>\n",
              "      <th></th>\n",
              "      <th></th>\n",
              "      <th></th>\n",
              "      <th></th>\n",
              "      <th></th>\n",
              "      <th></th>\n",
              "      <th></th>\n",
              "      <th></th>\n",
              "      <th></th>\n",
              "      <th></th>\n",
              "      <th></th>\n",
              "      <th></th>\n",
              "      <th></th>\n",
              "      <th></th>\n",
              "      <th></th>\n",
              "      <th></th>\n",
              "      <th></th>\n",
              "      <th></th>\n",
              "      <th></th>\n",
              "    </tr>\n",
              "  </thead>\n",
              "  <tbody>\n",
              "    <tr>\n",
              "      <th>associate's degree</th>\n",
              "      <td>222.0</td>\n",
              "      <td>67.882883</td>\n",
              "      <td>15.112093</td>\n",
              "      <td>26.0</td>\n",
              "      <td>57.00</td>\n",
              "      <td>67.0</td>\n",
              "      <td>80.0</td>\n",
              "      <td>100.0</td>\n",
              "      <td>222.0</td>\n",
              "      <td>70.927928</td>\n",
              "      <td>13.868948</td>\n",
              "      <td>31.0</td>\n",
              "      <td>61.0</td>\n",
              "      <td>72.5</td>\n",
              "      <td>81.00</td>\n",
              "      <td>100.0</td>\n",
              "      <td>222.0</td>\n",
              "      <td>69.896396</td>\n",
              "      <td>14.311122</td>\n",
              "      <td>35.0</td>\n",
              "      <td>58.0</td>\n",
              "      <td>70.5</td>\n",
              "      <td>80.0</td>\n",
              "      <td>100.0</td>\n",
              "    </tr>\n",
              "    <tr>\n",
              "      <th>bachelor's degree</th>\n",
              "      <td>118.0</td>\n",
              "      <td>69.389831</td>\n",
              "      <td>14.943789</td>\n",
              "      <td>29.0</td>\n",
              "      <td>61.00</td>\n",
              "      <td>68.0</td>\n",
              "      <td>79.0</td>\n",
              "      <td>100.0</td>\n",
              "      <td>118.0</td>\n",
              "      <td>73.000000</td>\n",
              "      <td>14.285250</td>\n",
              "      <td>41.0</td>\n",
              "      <td>63.0</td>\n",
              "      <td>73.0</td>\n",
              "      <td>82.75</td>\n",
              "      <td>100.0</td>\n",
              "      <td>118.0</td>\n",
              "      <td>73.381356</td>\n",
              "      <td>14.728262</td>\n",
              "      <td>38.0</td>\n",
              "      <td>62.5</td>\n",
              "      <td>74.0</td>\n",
              "      <td>83.0</td>\n",
              "      <td>100.0</td>\n",
              "    </tr>\n",
              "    <tr>\n",
              "      <th>high school</th>\n",
              "      <td>196.0</td>\n",
              "      <td>62.137755</td>\n",
              "      <td>14.539651</td>\n",
              "      <td>8.0</td>\n",
              "      <td>53.75</td>\n",
              "      <td>63.0</td>\n",
              "      <td>72.0</td>\n",
              "      <td>99.0</td>\n",
              "      <td>196.0</td>\n",
              "      <td>64.704082</td>\n",
              "      <td>14.132130</td>\n",
              "      <td>24.0</td>\n",
              "      <td>54.0</td>\n",
              "      <td>66.0</td>\n",
              "      <td>74.25</td>\n",
              "      <td>99.0</td>\n",
              "      <td>196.0</td>\n",
              "      <td>62.448980</td>\n",
              "      <td>14.085907</td>\n",
              "      <td>15.0</td>\n",
              "      <td>52.0</td>\n",
              "      <td>64.0</td>\n",
              "      <td>73.0</td>\n",
              "      <td>100.0</td>\n",
              "    </tr>\n",
              "    <tr>\n",
              "      <th>master's degree</th>\n",
              "      <td>59.0</td>\n",
              "      <td>69.745763</td>\n",
              "      <td>15.153915</td>\n",
              "      <td>40.0</td>\n",
              "      <td>55.50</td>\n",
              "      <td>73.0</td>\n",
              "      <td>81.0</td>\n",
              "      <td>95.0</td>\n",
              "      <td>59.0</td>\n",
              "      <td>75.372881</td>\n",
              "      <td>13.775163</td>\n",
              "      <td>42.0</td>\n",
              "      <td>65.5</td>\n",
              "      <td>76.0</td>\n",
              "      <td>84.50</td>\n",
              "      <td>100.0</td>\n",
              "      <td>59.0</td>\n",
              "      <td>75.677966</td>\n",
              "      <td>13.730711</td>\n",
              "      <td>46.0</td>\n",
              "      <td>67.0</td>\n",
              "      <td>75.0</td>\n",
              "      <td>85.0</td>\n",
              "      <td>100.0</td>\n",
              "    </tr>\n",
              "    <tr>\n",
              "      <th>some college</th>\n",
              "      <td>226.0</td>\n",
              "      <td>67.128319</td>\n",
              "      <td>14.312897</td>\n",
              "      <td>19.0</td>\n",
              "      <td>59.00</td>\n",
              "      <td>67.5</td>\n",
              "      <td>76.0</td>\n",
              "      <td>100.0</td>\n",
              "      <td>226.0</td>\n",
              "      <td>69.460177</td>\n",
              "      <td>14.057049</td>\n",
              "      <td>23.0</td>\n",
              "      <td>60.0</td>\n",
              "      <td>70.5</td>\n",
              "      <td>79.75</td>\n",
              "      <td>100.0</td>\n",
              "      <td>226.0</td>\n",
              "      <td>68.840708</td>\n",
              "      <td>15.012331</td>\n",
              "      <td>19.0</td>\n",
              "      <td>60.0</td>\n",
              "      <td>70.0</td>\n",
              "      <td>79.0</td>\n",
              "      <td>99.0</td>\n",
              "    </tr>\n",
              "    <tr>\n",
              "      <th>some high school</th>\n",
              "      <td>179.0</td>\n",
              "      <td>63.497207</td>\n",
              "      <td>15.927989</td>\n",
              "      <td>0.0</td>\n",
              "      <td>53.00</td>\n",
              "      <td>65.0</td>\n",
              "      <td>74.0</td>\n",
              "      <td>97.0</td>\n",
              "      <td>179.0</td>\n",
              "      <td>66.938547</td>\n",
              "      <td>15.479295</td>\n",
              "      <td>17.0</td>\n",
              "      <td>56.5</td>\n",
              "      <td>67.0</td>\n",
              "      <td>79.00</td>\n",
              "      <td>100.0</td>\n",
              "      <td>179.0</td>\n",
              "      <td>64.888268</td>\n",
              "      <td>15.736197</td>\n",
              "      <td>10.0</td>\n",
              "      <td>54.0</td>\n",
              "      <td>66.0</td>\n",
              "      <td>77.0</td>\n",
              "      <td>100.0</td>\n",
              "    </tr>\n",
              "  </tbody>\n",
              "</table>\n",
              "</div>"
            ],
            "text/plain": [
              "                            math score                        ... writing score             \n",
              "                                 count       mean        std  ...           50%   75%    max\n",
              "parental level of education                                   ...                           \n",
              "associate's degree               222.0  67.882883  15.112093  ...          70.5  80.0  100.0\n",
              "bachelor's degree                118.0  69.389831  14.943789  ...          74.0  83.0  100.0\n",
              "high school                      196.0  62.137755  14.539651  ...          64.0  73.0  100.0\n",
              "master's degree                   59.0  69.745763  15.153915  ...          75.0  85.0  100.0\n",
              "some college                     226.0  67.128319  14.312897  ...          70.0  79.0   99.0\n",
              "some high school                 179.0  63.497207  15.927989  ...          66.0  77.0  100.0\n",
              "\n",
              "[6 rows x 24 columns]"
            ]
          },
          "metadata": {
            "tags": []
          },
          "execution_count": 47
        }
      ]
    },
    {
      "cell_type": "markdown",
      "metadata": {
        "id": "exdmfoOE1Lmj"
      },
      "source": [
        "Pada data di atas didapatkan pengelompokan nilai math score, reading score, dan writing score dengan rincian count, mean (rata-rata), std, nilai minimum, 25% (Q1), 50% (Q2/median), 75% (Q3) serta nilai maksimum. Pengelompokan skor math, reading, dan writing dengan asosiasi parental level of education."
      ]
    },
    {
      "cell_type": "markdown",
      "metadata": {
        "id": "bHx8yK_bt7lG"
      },
      "source": [
        "**Stripplots** untuk mengetahui frekuensi nilai pada gender female dan male\n",
        "\n"
      ]
    },
    {
      "cell_type": "code",
      "metadata": {
        "colab": {
          "base_uri": "https://localhost:8080/",
          "height": 297
        },
        "id": "r1hRF8CSstqs",
        "outputId": "052a975d-2802-4d02-a0fc-dfbb39d89244"
      },
      "source": [
        "sns.stripplot(x=\"gender\", y=\"math score\", data=df) "
      ],
      "execution_count": null,
      "outputs": [
        {
          "output_type": "execute_result",
          "data": {
            "text/plain": [
              "<matplotlib.axes._subplots.AxesSubplot at 0x7ff6a76ccb70>"
            ]
          },
          "metadata": {
            "tags": []
          },
          "execution_count": 33
        },
        {
          "output_type": "display_data",
          "data": {
            "image/png": "[encoded data removed]",
            "text/plain": [
              "<Figure size 432x288 with 1 Axes>"
            ]
          },
          "metadata": {
            "tags": [],
            "needs_background": "light"
          }
        }
      ]
    },
    {
      "cell_type": "markdown",
      "metadata": {
        "id": "nCyyaqRbpef2"
      },
      "source": [
        "**Analisis Stripplot**\r\n",
        "\r\n",
        "> Pada stripplot di atas, gender female dengan frekuensi skor math terbanyak pada kisaran skor 50 sampai 80. Sedangkan pada gender male, skor math terbanyak adalah pada kisaran skor 45 sampai 85.\r\n",
        "\r\n"
      ]
    },
    {
      "cell_type": "code",
      "metadata": {
        "id": "5KVE_hLd_wLP"
      },
      "source": [
        "df.drop([\"race/ethnicity\",\"parental level of education\"],axis=1,inplace=True)"
      ],
      "execution_count": null,
      "outputs": []
    },
    {
      "cell_type": "code",
      "metadata": {
        "id": "PwDL4Rq0_1SX"
      },
      "source": [
        "df=pd.get_dummies(df,drop_first=True)"
      ],
      "execution_count": null,
      "outputs": []
    },
    {
      "cell_type": "code",
      "metadata": {
        "colab": {
          "base_uri": "https://localhost:8080/",
          "height": 363
        },
        "id": "bAGGPVO2_4A1",
        "outputId": "cdbf3d35-70bc-4947-c18f-c4f0b30b15ca"
      },
      "source": [
        "df.head(10)"
      ],
      "execution_count": null,
      "outputs": [
        {
          "output_type": "execute_result",
          "data": {
            "text/html": [
              "<div>\n",
              "<style scoped>\n",
              "    .dataframe tbody tr th:only-of-type {\n",
              "        vertical-align: middle;\n",
              "    }\n",
              "\n",
              "    .dataframe tbody tr th {\n",
              "        vertical-align: top;\n",
              "    }\n",
              "\n",
              "    .dataframe thead th {\n",
              "        text-align: right;\n",
              "    }\n",
              "</style>\n",
              "<table border=\"1\" class=\"dataframe\">\n",
              "  <thead>\n",
              "    <tr style=\"text-align: right;\">\n",
              "      <th></th>\n",
              "      <th>math score</th>\n",
              "      <th>reading score</th>\n",
              "      <th>writing score</th>\n",
              "      <th>residuals</th>\n",
              "      <th>gender_male</th>\n",
              "      <th>lunch_standard</th>\n",
              "      <th>test preparation course_none</th>\n",
              "    </tr>\n",
              "  </thead>\n",
              "  <tbody>\n",
              "    <tr>\n",
              "      <th>0</th>\n",
              "      <td>72</td>\n",
              "      <td>72</td>\n",
              "      <td>74</td>\n",
              "      <td>-2.628075</td>\n",
              "      <td>0</td>\n",
              "      <td>1</td>\n",
              "      <td>1</td>\n",
              "    </tr>\n",
              "    <tr>\n",
              "      <th>1</th>\n",
              "      <td>69</td>\n",
              "      <td>90</td>\n",
              "      <td>88</td>\n",
              "      <td>2.518402</td>\n",
              "      <td>0</td>\n",
              "      <td>1</td>\n",
              "      <td>0</td>\n",
              "    </tr>\n",
              "    <tr>\n",
              "      <th>2</th>\n",
              "      <td>90</td>\n",
              "      <td>95</td>\n",
              "      <td>93</td>\n",
              "      <td>2.927858</td>\n",
              "      <td>0</td>\n",
              "      <td>1</td>\n",
              "      <td>1</td>\n",
              "    </tr>\n",
              "    <tr>\n",
              "      <th>3</th>\n",
              "      <td>47</td>\n",
              "      <td>57</td>\n",
              "      <td>44</td>\n",
              "      <td>9.915189</td>\n",
              "      <td>1</td>\n",
              "      <td>0</td>\n",
              "      <td>1</td>\n",
              "    </tr>\n",
              "    <tr>\n",
              "      <th>4</th>\n",
              "      <td>76</td>\n",
              "      <td>78</td>\n",
              "      <td>75</td>\n",
              "      <td>2.453816</td>\n",
              "      <td>1</td>\n",
              "      <td>1</td>\n",
              "      <td>1</td>\n",
              "    </tr>\n",
              "    <tr>\n",
              "      <th>5</th>\n",
              "      <td>71</td>\n",
              "      <td>83</td>\n",
              "      <td>78</td>\n",
              "      <td>4.699490</td>\n",
              "      <td>0</td>\n",
              "      <td>1</td>\n",
              "      <td>1</td>\n",
              "    </tr>\n",
              "    <tr>\n",
              "      <th>6</th>\n",
              "      <td>88</td>\n",
              "      <td>95</td>\n",
              "      <td>92</td>\n",
              "      <td>3.845967</td>\n",
              "      <td>0</td>\n",
              "      <td>1</td>\n",
              "      <td>0</td>\n",
              "    </tr>\n",
              "    <tr>\n",
              "      <th>7</th>\n",
              "      <td>40</td>\n",
              "      <td>43</td>\n",
              "      <td>39</td>\n",
              "      <td>0.505733</td>\n",
              "      <td>1</td>\n",
              "      <td>0</td>\n",
              "      <td>1</td>\n",
              "    </tr>\n",
              "    <tr>\n",
              "      <th>8</th>\n",
              "      <td>64</td>\n",
              "      <td>64</td>\n",
              "      <td>67</td>\n",
              "      <td>-4.201313</td>\n",
              "      <td>1</td>\n",
              "      <td>0</td>\n",
              "      <td>0</td>\n",
              "    </tr>\n",
              "    <tr>\n",
              "      <th>9</th>\n",
              "      <td>38</td>\n",
              "      <td>60</td>\n",
              "      <td>50</td>\n",
              "      <td>7.406536</td>\n",
              "      <td>0</td>\n",
              "      <td>0</td>\n",
              "      <td>1</td>\n",
              "    </tr>\n",
              "  </tbody>\n",
              "</table>\n",
              "</div>"
            ],
            "text/plain": [
              "   math score  reading score  ...  lunch_standard  test preparation course_none\n",
              "0          72             72  ...               1                             1\n",
              "1          69             90  ...               1                             0\n",
              "2          90             95  ...               1                             1\n",
              "3          47             57  ...               0                             1\n",
              "4          76             78  ...               1                             1\n",
              "5          71             83  ...               1                             1\n",
              "6          88             95  ...               1                             0\n",
              "7          40             43  ...               0                             1\n",
              "8          64             64  ...               0                             0\n",
              "9          38             60  ...               0                             1\n",
              "\n",
              "[10 rows x 7 columns]"
            ]
          },
          "metadata": {
            "tags": []
          },
          "execution_count": 52
        }
      ]
    },
    {
      "cell_type": "code",
      "metadata": {
        "colab": {
          "base_uri": "https://localhost:8080/",
          "height": 426
        },
        "id": "fPOOYpV_0jEE",
        "outputId": "1d6e70f5-8d6b-4455-af76-f6cac158bdb4"
      },
      "source": [
        "df = pd.read_csv(url, error_bad_lines=False)\n",
        "\n",
        "df = df.pivot_table(index='parental level of education', columns='gender', values='writing score')\n",
        "\n",
        "print(df)\n",
        "\n",
        "sns.heatmap(df, annot=True, cmap='coolwarm')\n",
        "\n",
        "plt.show()"
      ],
      "execution_count": null,
      "outputs": [
        {
          "output_type": "stream",
          "text": [
            "gender                          female       male\n",
            "parental level of education                      \n",
            "associate's degree           74.000000  65.405660\n",
            "bachelor's degree            78.380952  67.654545\n",
            "high school                  66.691489  58.539216\n",
            "master's degree              77.638889  72.608696\n",
            "some college                 74.050847  63.148148\n",
            "some high school             68.285714  61.375000\n"
          ],
          "name": "stdout"
        },
        {
          "output_type": "display_data",
          "data": {
            "image/png": "[encoded data removed]",
            "text/plain": [
              "<Figure size 432x288 with 2 Axes>"
            ]
          },
          "metadata": {
            "tags": [],
            "needs_background": "light"
          }
        }
      ]
    },
    {
      "cell_type": "code",
      "metadata": {
        "colab": {
          "base_uri": "https://localhost:8080/",
          "height": 426
        },
        "id": "Qb32-OH8BUG8",
        "outputId": "6222b6f9-b37a-4cc3-cd2a-55bdd67d0300"
      },
      "source": [
        "df = pd.read_csv(url, error_bad_lines=False)\n",
        "\n",
        "df = df.pivot_table(index='parental level of education', columns='gender', values='math score')\n",
        "\n",
        "print(df)\n",
        "\n",
        "sns.heatmap(df, annot=True, cmap='coolwarm')\n",
        "\n",
        "plt.show()"
      ],
      "execution_count": null,
      "outputs": [
        {
          "output_type": "stream",
          "text": [
            "gender                          female       male\n",
            "parental level of education                      \n",
            "associate's degree           65.250000  70.764151\n",
            "bachelor's degree            68.349206  70.581818\n",
            "high school                  59.351064  64.705882\n",
            "master's degree              66.500000  74.826087\n",
            "some college                 65.406780  69.009259\n",
            "some high school             59.296703  67.840909\n"
          ],
          "name": "stdout"
        },
        {
          "output_type": "display_data",
          "data": {
            "image/png": "[encoded data removed]",
            "text/plain": [
              "<Figure size 432x288 with 2 Axes>"
            ]
          },
          "metadata": {
            "tags": [],
            "needs_background": "light"
          }
        }
      ]
    },
    {
      "cell_type": "code",
      "metadata": {
        "colab": {
          "base_uri": "https://localhost:8080/",
          "height": 426
        },
        "id": "SNbuslPvBaMm",
        "outputId": "bf1ca884-f31f-44df-b5be-4d444d36ad8d"
      },
      "source": [
        "df = pd.read_csv(url, error_bad_lines=False)\n",
        "\n",
        "df = df.pivot_table(index='parental level of education', columns='gender', values='reading score')\n",
        "\n",
        "print(df)\n",
        "\n",
        "sns.heatmap(df, annot=True, cmap='coolwarm')\n",
        "\n",
        "plt.show()"
      ],
      "execution_count": null,
      "outputs": [
        {
          "output_type": "stream",
          "text": [
            "gender                          female       male\n",
            "parental level of education                      \n",
            "associate's degree           74.120690  67.433962\n",
            "bachelor's degree            77.285714  68.090909\n",
            "high school                  68.202128  61.480392\n",
            "master's degree              76.805556  73.130435\n",
            "some college                 73.550847  64.990741\n",
            "some high school             69.109890  64.693182\n"
          ],
          "name": "stdout"
        },
        {
          "output_type": "display_data",
          "data": {
            "image/png": "[encoded data removed]",
            "text/plain": [
              "<Figure size 432x288 with 2 Axes>"
            ]
          },
          "metadata": {
            "tags": [],
            "needs_background": "light"
          }
        }
      ]
    },
    {
      "cell_type": "markdown",
      "metadata": {
        "id": "Q9pvbPZr2YRy"
      },
      "source": [
        "\n",
        "\n",
        "*   Berdasarkan data di atas, dilakukan pengukuran nilai tertinggi pada math score, reading score, dan writing score dengan melihat jenis kelamin dan level pendidikan. \n",
        "*   Dari data tersebut diketahui nilai tertinggi pada writing score ada pada tingkatan master dan sarjana/bachelor, kemudian untuk math score nilai tertinggi ada pada tingkatan master, sedangkan pada reading score ada pada tingkatan sarjana dan master.\n",
        "*   Untuk writing score nilai tertinggi pada level sarjana dan master mendapatkan predikat nilai 78, kemudian untuk math score nilai tertinggi pada level master dengan predikat nilai 75, sedangkan pada reading score nilai tertinggi pada sarjana dan master dengan predikat nilai 77.\n",
        "*   Sedangkan pada jenis kelamin, predikat nilai tertinggi pada writing score dan reading score adalah jenis kelamin perempuan, sedangkan pada math score nilai tertinggi ada pada laki-laki.\n",
        "\n",
        "\n"
      ]
    },
    {
      "cell_type": "markdown",
      "metadata": {
        "id": "JfKVJ0poqqV7"
      },
      "source": [
        "#**Permodelan Data 1**\r\n",
        "\r\n",
        "---\r\n",
        "\r\n"
      ]
    },
    {
      "cell_type": "code",
      "metadata": {
        "colab": {
          "base_uri": "https://localhost:8080/",
          "height": 206
        },
        "id": "SgaQKqEeXqDg",
        "outputId": "02f1824f-d740-4a3a-9c73-d8133f09e9d5"
      },
      "source": [
        "retail = pd.read_csv(url, error_bad_lines=False)\n",
        "retail.head()"
      ],
      "execution_count": null,
      "outputs": [
        {
          "output_type": "execute_result",
          "data": {
            "text/html": [
              "<div>\n",
              "<style scoped>\n",
              "    .dataframe tbody tr th:only-of-type {\n",
              "        vertical-align: middle;\n",
              "    }\n",
              "\n",
              "    .dataframe tbody tr th {\n",
              "        vertical-align: top;\n",
              "    }\n",
              "\n",
              "    .dataframe thead th {\n",
              "        text-align: right;\n",
              "    }\n",
              "</style>\n",
              "<table border=\"1\" class=\"dataframe\">\n",
              "  <thead>\n",
              "    <tr style=\"text-align: right;\">\n",
              "      <th></th>\n",
              "      <th>gender</th>\n",
              "      <th>race/ethnicity</th>\n",
              "      <th>parental level of education</th>\n",
              "      <th>lunch</th>\n",
              "      <th>test preparation course</th>\n",
              "      <th>math score</th>\n",
              "      <th>reading score</th>\n",
              "      <th>writing score</th>\n",
              "    </tr>\n",
              "  </thead>\n",
              "  <tbody>\n",
              "    <tr>\n",
              "      <th>0</th>\n",
              "      <td>female</td>\n",
              "      <td>group B</td>\n",
              "      <td>bachelor's degree</td>\n",
              "      <td>standard</td>\n",
              "      <td>none</td>\n",
              "      <td>72</td>\n",
              "      <td>72</td>\n",
              "      <td>74</td>\n",
              "    </tr>\n",
              "    <tr>\n",
              "      <th>1</th>\n",
              "      <td>female</td>\n",
              "      <td>group C</td>\n",
              "      <td>some college</td>\n",
              "      <td>standard</td>\n",
              "      <td>completed</td>\n",
              "      <td>69</td>\n",
              "      <td>90</td>\n",
              "      <td>88</td>\n",
              "    </tr>\n",
              "    <tr>\n",
              "      <th>2</th>\n",
              "      <td>female</td>\n",
              "      <td>group B</td>\n",
              "      <td>master's degree</td>\n",
              "      <td>standard</td>\n",
              "      <td>none</td>\n",
              "      <td>90</td>\n",
              "      <td>95</td>\n",
              "      <td>93</td>\n",
              "    </tr>\n",
              "    <tr>\n",
              "      <th>3</th>\n",
              "      <td>male</td>\n",
              "      <td>group A</td>\n",
              "      <td>associate's degree</td>\n",
              "      <td>free/reduced</td>\n",
              "      <td>none</td>\n",
              "      <td>47</td>\n",
              "      <td>57</td>\n",
              "      <td>44</td>\n",
              "    </tr>\n",
              "    <tr>\n",
              "      <th>4</th>\n",
              "      <td>male</td>\n",
              "      <td>group C</td>\n",
              "      <td>some college</td>\n",
              "      <td>standard</td>\n",
              "      <td>none</td>\n",
              "      <td>76</td>\n",
              "      <td>78</td>\n",
              "      <td>75</td>\n",
              "    </tr>\n",
              "  </tbody>\n",
              "</table>\n",
              "</div>"
            ],
            "text/plain": [
              "   gender race/ethnicity  ... reading score writing score\n",
              "0  female        group B  ...            72            74\n",
              "1  female        group C  ...            90            88\n",
              "2  female        group B  ...            95            93\n",
              "3    male        group A  ...            57            44\n",
              "4    male        group C  ...            78            75\n",
              "\n",
              "[5 rows x 8 columns]"
            ]
          },
          "metadata": {
            "tags": []
          },
          "execution_count": 16
        }
      ]
    },
    {
      "cell_type": "code",
      "metadata": {
        "colab": {
          "base_uri": "https://localhost:8080/"
        },
        "id": "_J5GjlYzYBwi",
        "outputId": "240e63b9-4f49-4d14-eb7e-0c0a9d181cc0"
      },
      "source": [
        "retail.info()"
      ],
      "execution_count": null,
      "outputs": [
        {
          "output_type": "stream",
          "text": [
            "<class 'pandas.core.frame.DataFrame'>\n",
            "RangeIndex: 1000 entries, 0 to 999\n",
            "Data columns (total 8 columns):\n",
            " #   Column                       Non-Null Count  Dtype \n",
            "---  ------                       --------------  ----- \n",
            " 0   gender                       1000 non-null   object\n",
            " 1   race/ethnicity               1000 non-null   object\n",
            " 2   parental level of education  1000 non-null   object\n",
            " 3   lunch                        1000 non-null   object\n",
            " 4   test preparation course      1000 non-null   object\n",
            " 5   math score                   1000 non-null   int64 \n",
            " 6   reading score                1000 non-null   int64 \n",
            " 7   writing score                1000 non-null   int64 \n",
            "dtypes: int64(3), object(5)\n",
            "memory usage: 62.6+ KB\n"
          ],
          "name": "stdout"
        }
      ]
    },
    {
      "cell_type": "markdown",
      "metadata": {
        "id": "Ps8A-TT0YLNH"
      },
      "source": [
        "Data di atas menunjukkan jumlah variabel yang akan diteliti berjumlah 8 variabel dan pada dataset tersebut tidak terdeteksi nilai kosong."
      ]
    },
    {
      "cell_type": "code",
      "metadata": {
        "colab": {
          "base_uri": "https://localhost:8080/",
          "height": 363
        },
        "id": "3cilN4HNZol9",
        "outputId": "3bc2e1aa-08f2-47a8-f347-ec94637b3f39"
      },
      "source": [
        "retail_x = retail.iloc[:, 5:7]\n",
        "retail_x.head(10)"
      ],
      "execution_count": null,
      "outputs": [
        {
          "output_type": "execute_result",
          "data": {
            "text/html": [
              "<div>\n",
              "<style scoped>\n",
              "    .dataframe tbody tr th:only-of-type {\n",
              "        vertical-align: middle;\n",
              "    }\n",
              "\n",
              "    .dataframe tbody tr th {\n",
              "        vertical-align: top;\n",
              "    }\n",
              "\n",
              "    .dataframe thead th {\n",
              "        text-align: right;\n",
              "    }\n",
              "</style>\n",
              "<table border=\"1\" class=\"dataframe\">\n",
              "  <thead>\n",
              "    <tr style=\"text-align: right;\">\n",
              "      <th></th>\n",
              "      <th>math score</th>\n",
              "      <th>reading score</th>\n",
              "    </tr>\n",
              "  </thead>\n",
              "  <tbody>\n",
              "    <tr>\n",
              "      <th>0</th>\n",
              "      <td>72</td>\n",
              "      <td>72</td>\n",
              "    </tr>\n",
              "    <tr>\n",
              "      <th>1</th>\n",
              "      <td>69</td>\n",
              "      <td>90</td>\n",
              "    </tr>\n",
              "    <tr>\n",
              "      <th>2</th>\n",
              "      <td>90</td>\n",
              "      <td>95</td>\n",
              "    </tr>\n",
              "    <tr>\n",
              "      <th>3</th>\n",
              "      <td>47</td>\n",
              "      <td>57</td>\n",
              "    </tr>\n",
              "    <tr>\n",
              "      <th>4</th>\n",
              "      <td>76</td>\n",
              "      <td>78</td>\n",
              "    </tr>\n",
              "    <tr>\n",
              "      <th>5</th>\n",
              "      <td>71</td>\n",
              "      <td>83</td>\n",
              "    </tr>\n",
              "    <tr>\n",
              "      <th>6</th>\n",
              "      <td>88</td>\n",
              "      <td>95</td>\n",
              "    </tr>\n",
              "    <tr>\n",
              "      <th>7</th>\n",
              "      <td>40</td>\n",
              "      <td>43</td>\n",
              "    </tr>\n",
              "    <tr>\n",
              "      <th>8</th>\n",
              "      <td>64</td>\n",
              "      <td>64</td>\n",
              "    </tr>\n",
              "    <tr>\n",
              "      <th>9</th>\n",
              "      <td>38</td>\n",
              "      <td>60</td>\n",
              "    </tr>\n",
              "  </tbody>\n",
              "</table>\n",
              "</div>"
            ],
            "text/plain": [
              "   math score  reading score\n",
              "0          72             72\n",
              "1          69             90\n",
              "2          90             95\n",
              "3          47             57\n",
              "4          76             78\n",
              "5          71             83\n",
              "6          88             95\n",
              "7          40             43\n",
              "8          64             64\n",
              "9          38             60"
            ]
          },
          "metadata": {
            "tags": []
          },
          "execution_count": 40
        }
      ]
    },
    {
      "cell_type": "markdown",
      "metadata": {
        "id": "cgguO_TNuhgd"
      },
      "source": [
        "Data di atas menunjukkan data yang akan dilakukan clustering. Kali ini variabel yang akan dilakukan clustering adalah math score dan reading score."
      ]
    },
    {
      "cell_type": "code",
      "metadata": {
        "colab": {
          "base_uri": "https://localhost:8080/",
          "height": 297
        },
        "id": "jf6PHKAfaj5F",
        "outputId": "00b9b5a4-b7f4-451c-9d3f-2394fbac4c9c"
      },
      "source": [
        "import seaborn as sns\r\n",
        "sns.scatterplot(x=\"math score\", y=\"reading score\", data=retail, s=100, color=\"red\", alpha = 0.5)"
      ],
      "execution_count": null,
      "outputs": [
        {
          "output_type": "execute_result",
          "data": {
            "text/plain": [
              "<matplotlib.axes._subplots.AxesSubplot at 0x7fdeb62a66a0>"
            ]
          },
          "metadata": {
            "tags": []
          },
          "execution_count": 20
        },
        {
          "output_type": "display_data",
          "data": {
            "image/png": "[encoded data removed]",
            "text/plain": [
              "<Figure size 432x288 with 1 Axes>"
            ]
          },
          "metadata": {
            "tags": [],
            "needs_background": "light"
          }
        }
      ]
    },
    {
      "cell_type": "markdown",
      "metadata": {
        "id": "X0fJrVod7M5y"
      },
      "source": [
        "Selanjutnya diketahui dari hasil persebaran data clustering seperti pada gambar di atas."
      ]
    },
    {
      "cell_type": "code",
      "metadata": {
        "id": "KiD2C1Pub2Ux"
      },
      "source": [
        "from sklearn.cluster import KMeans\n",
        "import numpy as np"
      ],
      "execution_count": null,
      "outputs": []
    },
    {
      "cell_type": "code",
      "metadata": {
        "colab": {
          "base_uri": "https://localhost:8080/",
          "height": 295
        },
        "id": "_oyi8BbBfBqo",
        "outputId": "2c6a323c-f934-45b5-ce7f-b77164b500ca"
      },
      "source": [
        "# Menggunakan metode elbow untuk menentukan angka cluster yang tepat\n",
        "from sklearn.cluster import KMeans\n",
        "wcss = []\n",
        "for i in range(1, 11):\n",
        "    kmeans = KMeans(n_clusters = i, init = 'k-means++', random_state = 42)\n",
        "    kmeans.fit(retail_x)\n",
        "    wcss.append(kmeans.inertia_)\n",
        "plt.plot(range(1, 11), wcss)\n",
        "plt.title('Metode Elbow')\n",
        "plt.xlabel('Jumlah clusters')\n",
        "plt.ylabel('WCSS')\n",
        "plt.show()"
      ],
      "execution_count": null,
      "outputs": [
        {
          "output_type": "display_data",
          "data": {
            "image/png": "[encoded data removed]",
            "text/plain": [
              "<Figure size 432x288 with 1 Axes>"
            ]
          },
          "metadata": {
            "tags": [],
            "needs_background": "light"
          }
        }
      ]
    },
    {
      "cell_type": "markdown",
      "metadata": {
        "id": "8D9UX5747o4a"
      },
      "source": [
        "**Metode elbow** merupakan salah satu metode yang digunakan untuk menentukan jumlah cluster yang biasa digunakan pada metode KMeans. Dalam clustering dilakukan penghitungan untuk meminimumkan jarak antara data point dan centroid dan memaksimumkan jarak centeroid pada WCSS (within-cluster sum of squares). Melalui gambar metode elbow di atas, dapat diketahui bahwa jumlah cluster yang dapat digunakan untuk mengelompokkan dataset ini adalah sebanyak 5 cluster. "
      ]
    },
    {
      "cell_type": "code",
      "metadata": {
        "id": "MGRvaIuAf3j1"
      },
      "source": [
        "# Menjalankan K-Means Clustering kedalam dataset\n",
        "kmeans = KMeans(n_clusters = 5, init = 'k-means++', random_state = 42)\n",
        "y_kmeans = kmeans.fit_predict(retail_x)"
      ],
      "execution_count": null,
      "outputs": []
    },
    {
      "cell_type": "code",
      "metadata": {
        "colab": {
          "base_uri": "https://localhost:8080/"
        },
        "id": "NdzWh1ihgFZ2",
        "outputId": "4de8430d-36c7-47a1-aec9-5d376c6e3817"
      },
      "source": [
        "print(kmeans.cluster_centers_)"
      ],
      "execution_count": null,
      "outputs": [
        {
          "output_type": "stream",
          "text": [
            "[[87.37195122 88.90243902]\n",
            " [51.52444444 55.39555556]\n",
            " [64.05902778 66.60069444]\n",
            " [35.375      39.375     ]\n",
            " [73.92134831 77.6741573 ]]\n"
          ],
          "name": "stdout"
        }
      ]
    },
    {
      "cell_type": "markdown",
      "metadata": {
        "id": "RrcYTuXuFAUC"
      },
      "source": [
        "Setelah dilakukan metode elbow untuk menentukan jumlah cluster, selanjutnya dilakukan clustering data kedalam 5 cluster yang telah ditentukan. Selanjutnya kita melihat pusat dari setiap cluster."
      ]
    },
    {
      "cell_type": "code",
      "metadata": {
        "id": "bcQlo7rAiutl"
      },
      "source": [
        "from sklearn.preprocessing import MinMaxScaler"
      ],
      "execution_count": null,
      "outputs": []
    },
    {
      "cell_type": "code",
      "metadata": {
        "colab": {
          "base_uri": "https://localhost:8080/"
        },
        "id": "WvOomJCKi1GN",
        "outputId": "ca66bce5-99d3-4b6b-eaa1-165ca347fc33"
      },
      "source": [
        "x_array =  np.array(retail_x)\n",
        "print(x_array)"
      ],
      "execution_count": null,
      "outputs": [
        {
          "output_type": "stream",
          "text": [
            "[[72 72]\n",
            " [69 90]\n",
            " [90 95]\n",
            " ...\n",
            " [59 71]\n",
            " [68 78]\n",
            " [77 86]]\n"
          ],
          "name": "stdout"
        }
      ]
    },
    {
      "cell_type": "markdown",
      "metadata": {
        "id": "-nb5WxTMJDWm"
      },
      "source": [
        "Data di atas merupakan hasil perubahan dari bentuk data sebelumnya menjadi data array."
      ]
    },
    {
      "cell_type": "code",
      "metadata": {
        "colab": {
          "base_uri": "https://localhost:8080/"
        },
        "id": "AvXeoyY-jhK_",
        "outputId": "e4c26efa-e1a0-470b-c822-1efe8fc9cbce"
      },
      "source": [
        "scaler = MinMaxScaler()\n",
        "x_scaled = scaler.fit_transform(x_array)\n",
        "x_scaled"
      ],
      "execution_count": null,
      "outputs": [
        {
          "output_type": "execute_result",
          "data": {
            "text/plain": [
              "array([[0.72      , 0.6626506 ],\n",
              "       [0.69      , 0.87951807],\n",
              "       [0.9       , 0.93975904],\n",
              "       ...,\n",
              "       [0.59      , 0.65060241],\n",
              "       [0.68      , 0.73493976],\n",
              "       [0.77      , 0.8313253 ]])"
            ]
          },
          "metadata": {
            "tags": []
          },
          "execution_count": 27
        }
      ]
    },
    {
      "cell_type": "markdown",
      "metadata": {
        "id": "qapCfvdDMGK2"
      },
      "source": [
        "Kemudian dilakukan standarisasi dengan hasil di atas yaitu dengan scalling 0 hingga 1 sehingga nantinya dapat mudah diclusterkan. "
      ]
    },
    {
      "cell_type": "code",
      "metadata": {
        "colab": {
          "base_uri": "https://localhost:8080/"
        },
        "id": "GoTU5Sz3jpJ5",
        "outputId": "ea21f087-15c9-4a3a-bc0d-e334ba21bfab"
      },
      "source": [
        "# Menentukan dan mengkonfigurasi fungsi kmeans\n",
        "kmeans = KMeans(n_clusters = 5, random_state=123)\n",
        "# Menentukan kluster dari data\n",
        "kmeans.fit(x_scaled)"
      ],
      "execution_count": null,
      "outputs": [
        {
          "output_type": "execute_result",
          "data": {
            "text/plain": [
              "KMeans(algorithm='auto', copy_x=True, init='k-means++', max_iter=300,\n",
              "       n_clusters=5, n_init=10, n_jobs=None, precompute_distances='auto',\n",
              "       random_state=123, tol=0.0001, verbose=0)"
            ]
          },
          "metadata": {
            "tags": []
          },
          "execution_count": 28
        }
      ]
    },
    {
      "cell_type": "code",
      "metadata": {
        "colab": {
          "base_uri": "https://localhost:8080/"
        },
        "id": "oE3OmZWMjxVd",
        "outputId": "944cc797-0c02-483f-8a22-928abe2e6a0f"
      },
      "source": [
        "print(kmeans.cluster_centers_)"
      ],
      "execution_count": null,
      "outputs": [
        {
          "output_type": "stream",
          "text": [
            "[[0.74691729 0.7361174 ]\n",
            " [0.52099138 0.46177815]\n",
            " [0.64413559 0.60428834]\n",
            " [0.8714     0.88168675]\n",
            " [0.36157895 0.2646375 ]]\n"
          ],
          "name": "stdout"
        }
      ]
    },
    {
      "cell_type": "markdown",
      "metadata": {
        "id": "lxpTdfzeMSyG"
      },
      "source": [
        "Data di atas adalah nilai pusat dari setiap cluster."
      ]
    },
    {
      "cell_type": "code",
      "metadata": {
        "colab": {
          "base_uri": "https://localhost:8080/",
          "height": 720
        },
        "id": "Z9VsNjNwj0jY",
        "outputId": "e38fd90a-217f-4db0-be8b-bc53957905a7"
      },
      "source": [
        "# Menampilkan hasil kluster\n",
        "print(kmeans.labels_)\n",
        "# Menambahkan kolom \"kluster\" dalam data frame\n",
        "retail[\"kluster\"] = kmeans.labels_\n",
        "retail.head()"
      ],
      "execution_count": null,
      "outputs": [
        {
          "output_type": "stream",
          "text": [
            "[0 0 3 1 0 0 3 4 2 1 1 1 0 0 1 0 3 4 4 1 2 2 1 0 0 0 2 2 2 2 0 2 2 4 3 0 0\n",
            " 1 3 1 1 2 1 2 1 1 2 2 2 3 1 0 1 0 0 4 3 1 1 4 0 4 2 0 1 2 4 2 1 1 2 1 1 1\n",
            " 1 4 4 0 2 2 1 1 1 2 4 0 0 2 2 0 2 4 0 4 3 0 2 2 2 2 0 0 3 1 3 2 3 2 2 2 3\n",
            " 1 1 1 3 0 0 0 1 2 3 3 3 1 0 3 2 0 0 1 3 4 0 0 0 1 1 2 2 2 0 2 1 1 0 4 3 2\n",
            " 0 3 2 2 2 1 2 0 2 2 0 2 0 0 1 1 3 3 1 2 0 0 0 3 3 2 1 3 1 0 2 3 2 1 1 2 1\n",
            " 2 0 2 1 3 2 0 2 2 0 1 2 1 1 0 0 0 0 2 1 0 2 0 0 1 0 4 1 1 3 3 3 4 0 1 2 3\n",
            " 2 0 2 1 0 1 2 3 2 4 0 3 0 0 2 2 1 0 2 0 1 1 0 0 0 2 2 2 1 0 2 0 1 2 2 0 0\n",
            " 0 0 0 1 3 0 1 2 2 3 0 2 1 1 2 3 0 3 2 0 2 1 1 0 0 4 0 3 0 0 0 0 0 2 2 0 2\n",
            " 4 0 4 3 0 1 0 0 0 2 3 1 2 1 0 2 2 2 2 2 0 0 2 2 0 0 0 1 4 3 2 4 0 1 2 4 1\n",
            " 3 3 2 0 1 4 1 1 2 0 2 0 0 2 3 0 0 1 2 0 1 2 2 2 1 2 3 2 3 1 4 1 1 2 2 1 0\n",
            " 0 2 0 3 2 4 3 3 0 2 3 3 0 4 4 0 2 2 2 2 2 0 2 1 2 1 1 3 2 1 1 1 1 3 1 2 2\n",
            " 0 1 3 2 3 2 2 2 0 0 0 2 1 3 1 1 0 4 2 3 2 2 2 2 2 1 1 2 1 2 2 2 3 0 0 2 0\n",
            " 0 2 2 3 1 0 0 3 0 2 1 1 3 1 3 2 1 1 2 3 2 3 4 2 3 0 3 2 0 2 3 0 2 0 2 0 0\n",
            " 1 2 1 1 0 1 2 1 0 0 2 3 3 1 2 1 2 2 0 0 3 2 3 1 0 2 1 0 3 0 1 1 1 3 0 0 2\n",
            " 0 0 1 3 2 1 1 2 1 1 4 2 2 1 2 3 2 0 1 1 0 3 2 0 0 3 2 0 3 2 2 0 0 3 4 2 1\n",
            " 4 2 2 2 2 0 2 3 0 1 4 3 2 1 2 0 3 1 1 0 1 1 3 1 1 3 0 2 0 0 0 2 1 1 1 1 2\n",
            " 2 0 3 2 4 1 0 0 1 4 0 1 3 0 3 1 2 2 2 1 3 0 3 2 4 0 3 2 1 2 1 3 1 3 2 1 1\n",
            " 1 2 2 2 0 3 0 0 3 0 0 1 0 0 0 2 0 2 2 1 0 1 0 3 2 0 2 2 2 1 3 0 2 2 2 2 1\n",
            " 2 0 0 0 0 1 0 0 0 1 0 0 0 2 2 2 1 4 2 3 0 0 1 3 1 0 2 0 1 3 0 2 2 2 0 2 3\n",
            " 2 2 2 4 2 3 1 3 3 3 0 2 3 0 3 0 0 2 1 3 1 4 0 2 1 3 4 0 1 3 1 1 2 3 2 0 2\n",
            " 0 1 0 2 1 0 0 2 1 3 2 2 0 3 1 3 1 2 1 0 2 1 0 2 2 0 2 2 2 1 1 0 2 0 2 1 2\n",
            " 4 0 3 1 3 0 1 3 4 0 4 2 1 1 2 2 3 1 2 2 0 2 1 2 0 3 3 0 0 2 4 0 1 4 1 1 3\n",
            " 0 3 1 2 2 3 3 3 1 0 1 2 2 2 0 1 2 0 2 0 1 2 2 0 1 0 1 2 4 0 1 3 3 1 2 0 2\n",
            " 2 3 0 2 3 2 0 1 0 1 3 4 2 3 0 1 1 0 1 1 2 3 3 1 2 0 1 2 2 2 2 2 1 1 2 3 2\n",
            " 2 1 3 3 1 0 2 4 4 0 1 0 3 0 4 3 0 0 1 0 0 2 4 0 1 1 1 2 3 1 2 3 2 4 2 2 0\n",
            " 2 1 2 4 1 2 1 2 0 3 2 2 1 0 0 2 3 0 2 2 1 0 1 1 2 0 0 0 1 2 2 3 3 1 0 1 1\n",
            " 3 0 2 2 2 2 0 0 3 0 1 1 1 0 2 2 1 3 4 0 0 3 0 1 1 0 4 0 3 0 2 2 2 3 1 2 0\n",
            " 0]\n"
          ],
          "name": "stdout"
        },
        {
          "output_type": "execute_result",
          "data": {
            "text/html": [
              "<div>\n",
              "<style scoped>\n",
              "    .dataframe tbody tr th:only-of-type {\n",
              "        vertical-align: middle;\n",
              "    }\n",
              "\n",
              "    .dataframe tbody tr th {\n",
              "        vertical-align: top;\n",
              "    }\n",
              "\n",
              "    .dataframe thead th {\n",
              "        text-align: right;\n",
              "    }\n",
              "</style>\n",
              "<table border=\"1\" class=\"dataframe\">\n",
              "  <thead>\n",
              "    <tr style=\"text-align: right;\">\n",
              "      <th></th>\n",
              "      <th>gender</th>\n",
              "      <th>race/ethnicity</th>\n",
              "      <th>parental level of education</th>\n",
              "      <th>lunch</th>\n",
              "      <th>test preparation course</th>\n",
              "      <th>math score</th>\n",
              "      <th>reading score</th>\n",
              "      <th>writing score</th>\n",
              "      <th>kluster</th>\n",
              "    </tr>\n",
              "  </thead>\n",
              "  <tbody>\n",
              "    <tr>\n",
              "      <th>0</th>\n",
              "      <td>female</td>\n",
              "      <td>group B</td>\n",
              "      <td>bachelor's degree</td>\n",
              "      <td>standard</td>\n",
              "      <td>none</td>\n",
              "      <td>72</td>\n",
              "      <td>72</td>\n",
              "      <td>74</td>\n",
              "      <td>0</td>\n",
              "    </tr>\n",
              "    <tr>\n",
              "      <th>1</th>\n",
              "      <td>female</td>\n",
              "      <td>group C</td>\n",
              "      <td>some college</td>\n",
              "      <td>standard</td>\n",
              "      <td>completed</td>\n",
              "      <td>69</td>\n",
              "      <td>90</td>\n",
              "      <td>88</td>\n",
              "      <td>0</td>\n",
              "    </tr>\n",
              "    <tr>\n",
              "      <th>2</th>\n",
              "      <td>female</td>\n",
              "      <td>group B</td>\n",
              "      <td>master's degree</td>\n",
              "      <td>standard</td>\n",
              "      <td>none</td>\n",
              "      <td>90</td>\n",
              "      <td>95</td>\n",
              "      <td>93</td>\n",
              "      <td>3</td>\n",
              "    </tr>\n",
              "    <tr>\n",
              "      <th>3</th>\n",
              "      <td>male</td>\n",
              "      <td>group A</td>\n",
              "      <td>associate's degree</td>\n",
              "      <td>free/reduced</td>\n",
              "      <td>none</td>\n",
              "      <td>47</td>\n",
              "      <td>57</td>\n",
              "      <td>44</td>\n",
              "      <td>1</td>\n",
              "    </tr>\n",
              "    <tr>\n",
              "      <th>4</th>\n",
              "      <td>male</td>\n",
              "      <td>group C</td>\n",
              "      <td>some college</td>\n",
              "      <td>standard</td>\n",
              "      <td>none</td>\n",
              "      <td>76</td>\n",
              "      <td>78</td>\n",
              "      <td>75</td>\n",
              "      <td>0</td>\n",
              "    </tr>\n",
              "  </tbody>\n",
              "</table>\n",
              "</div>"
            ],
            "text/plain": [
              "   gender race/ethnicity  ... writing score kluster\n",
              "0  female        group B  ...            74       0\n",
              "1  female        group C  ...            88       0\n",
              "2  female        group B  ...            93       3\n",
              "3    male        group A  ...            44       1\n",
              "4    male        group C  ...            75       0\n",
              "\n",
              "[5 rows x 9 columns]"
            ]
          },
          "metadata": {
            "tags": []
          },
          "execution_count": 30
        }
      ]
    },
    {
      "cell_type": "markdown",
      "metadata": {
        "id": "sLof14sMMnUD"
      },
      "source": [
        "Data di atas adalah hasil dari input data clustering ke dalam dataframe dengan menambahkan kolom kluster di sebelah kanan."
      ]
    },
    {
      "cell_type": "code",
      "metadata": {
        "id": "rbcTJJi21C1g",
        "colab": {
          "base_uri": "https://localhost:8080/",
          "height": 677
        },
        "outputId": "19c4bec0-e8f2-49d1-9cd7-c6eff4229b47"
      },
      "source": [
        "retail.head(20)"
      ],
      "execution_count": null,
      "outputs": [
        {
          "output_type": "execute_result",
          "data": {
            "text/html": [
              "<div>\n",
              "<style scoped>\n",
              "    .dataframe tbody tr th:only-of-type {\n",
              "        vertical-align: middle;\n",
              "    }\n",
              "\n",
              "    .dataframe tbody tr th {\n",
              "        vertical-align: top;\n",
              "    }\n",
              "\n",
              "    .dataframe thead th {\n",
              "        text-align: right;\n",
              "    }\n",
              "</style>\n",
              "<table border=\"1\" class=\"dataframe\">\n",
              "  <thead>\n",
              "    <tr style=\"text-align: right;\">\n",
              "      <th></th>\n",
              "      <th>gender</th>\n",
              "      <th>race/ethnicity</th>\n",
              "      <th>parental level of education</th>\n",
              "      <th>lunch</th>\n",
              "      <th>test preparation course</th>\n",
              "      <th>math score</th>\n",
              "      <th>reading score</th>\n",
              "      <th>writing score</th>\n",
              "      <th>kluster</th>\n",
              "    </tr>\n",
              "  </thead>\n",
              "  <tbody>\n",
              "    <tr>\n",
              "      <th>0</th>\n",
              "      <td>female</td>\n",
              "      <td>group B</td>\n",
              "      <td>bachelor's degree</td>\n",
              "      <td>standard</td>\n",
              "      <td>none</td>\n",
              "      <td>72</td>\n",
              "      <td>72</td>\n",
              "      <td>74</td>\n",
              "      <td>0</td>\n",
              "    </tr>\n",
              "    <tr>\n",
              "      <th>1</th>\n",
              "      <td>female</td>\n",
              "      <td>group C</td>\n",
              "      <td>some college</td>\n",
              "      <td>standard</td>\n",
              "      <td>completed</td>\n",
              "      <td>69</td>\n",
              "      <td>90</td>\n",
              "      <td>88</td>\n",
              "      <td>0</td>\n",
              "    </tr>\n",
              "    <tr>\n",
              "      <th>2</th>\n",
              "      <td>female</td>\n",
              "      <td>group B</td>\n",
              "      <td>master's degree</td>\n",
              "      <td>standard</td>\n",
              "      <td>none</td>\n",
              "      <td>90</td>\n",
              "      <td>95</td>\n",
              "      <td>93</td>\n",
              "      <td>3</td>\n",
              "    </tr>\n",
              "    <tr>\n",
              "      <th>3</th>\n",
              "      <td>male</td>\n",
              "      <td>group A</td>\n",
              "      <td>associate's degree</td>\n",
              "      <td>free/reduced</td>\n",
              "      <td>none</td>\n",
              "      <td>47</td>\n",
              "      <td>57</td>\n",
              "      <td>44</td>\n",
              "      <td>1</td>\n",
              "    </tr>\n",
              "    <tr>\n",
              "      <th>4</th>\n",
              "      <td>male</td>\n",
              "      <td>group C</td>\n",
              "      <td>some college</td>\n",
              "      <td>standard</td>\n",
              "      <td>none</td>\n",
              "      <td>76</td>\n",
              "      <td>78</td>\n",
              "      <td>75</td>\n",
              "      <td>0</td>\n",
              "    </tr>\n",
              "    <tr>\n",
              "      <th>5</th>\n",
              "      <td>female</td>\n",
              "      <td>group B</td>\n",
              "      <td>associate's degree</td>\n",
              "      <td>standard</td>\n",
              "      <td>none</td>\n",
              "      <td>71</td>\n",
              "      <td>83</td>\n",
              "      <td>78</td>\n",
              "      <td>0</td>\n",
              "    </tr>\n",
              "    <tr>\n",
              "      <th>6</th>\n",
              "      <td>female</td>\n",
              "      <td>group B</td>\n",
              "      <td>some college</td>\n",
              "      <td>standard</td>\n",
              "      <td>completed</td>\n",
              "      <td>88</td>\n",
              "      <td>95</td>\n",
              "      <td>92</td>\n",
              "      <td>3</td>\n",
              "    </tr>\n",
              "    <tr>\n",
              "      <th>7</th>\n",
              "      <td>male</td>\n",
              "      <td>group B</td>\n",
              "      <td>some college</td>\n",
              "      <td>free/reduced</td>\n",
              "      <td>none</td>\n",
              "      <td>40</td>\n",
              "      <td>43</td>\n",
              "      <td>39</td>\n",
              "      <td>4</td>\n",
              "    </tr>\n",
              "    <tr>\n",
              "      <th>8</th>\n",
              "      <td>male</td>\n",
              "      <td>group D</td>\n",
              "      <td>high school</td>\n",
              "      <td>free/reduced</td>\n",
              "      <td>completed</td>\n",
              "      <td>64</td>\n",
              "      <td>64</td>\n",
              "      <td>67</td>\n",
              "      <td>2</td>\n",
              "    </tr>\n",
              "    <tr>\n",
              "      <th>9</th>\n",
              "      <td>female</td>\n",
              "      <td>group B</td>\n",
              "      <td>high school</td>\n",
              "      <td>free/reduced</td>\n",
              "      <td>none</td>\n",
              "      <td>38</td>\n",
              "      <td>60</td>\n",
              "      <td>50</td>\n",
              "      <td>1</td>\n",
              "    </tr>\n",
              "    <tr>\n",
              "      <th>10</th>\n",
              "      <td>male</td>\n",
              "      <td>group C</td>\n",
              "      <td>associate's degree</td>\n",
              "      <td>standard</td>\n",
              "      <td>none</td>\n",
              "      <td>58</td>\n",
              "      <td>54</td>\n",
              "      <td>52</td>\n",
              "      <td>1</td>\n",
              "    </tr>\n",
              "    <tr>\n",
              "      <th>11</th>\n",
              "      <td>male</td>\n",
              "      <td>group D</td>\n",
              "      <td>associate's degree</td>\n",
              "      <td>standard</td>\n",
              "      <td>none</td>\n",
              "      <td>40</td>\n",
              "      <td>52</td>\n",
              "      <td>43</td>\n",
              "      <td>1</td>\n",
              "    </tr>\n",
              "    <tr>\n",
              "      <th>12</th>\n",
              "      <td>female</td>\n",
              "      <td>group B</td>\n",
              "      <td>high school</td>\n",
              "      <td>standard</td>\n",
              "      <td>none</td>\n",
              "      <td>65</td>\n",
              "      <td>81</td>\n",
              "      <td>73</td>\n",
              "      <td>0</td>\n",
              "    </tr>\n",
              "    <tr>\n",
              "      <th>13</th>\n",
              "      <td>male</td>\n",
              "      <td>group A</td>\n",
              "      <td>some college</td>\n",
              "      <td>standard</td>\n",
              "      <td>completed</td>\n",
              "      <td>78</td>\n",
              "      <td>72</td>\n",
              "      <td>70</td>\n",
              "      <td>0</td>\n",
              "    </tr>\n",
              "    <tr>\n",
              "      <th>14</th>\n",
              "      <td>female</td>\n",
              "      <td>group A</td>\n",
              "      <td>master's degree</td>\n",
              "      <td>standard</td>\n",
              "      <td>none</td>\n",
              "      <td>50</td>\n",
              "      <td>53</td>\n",
              "      <td>58</td>\n",
              "      <td>1</td>\n",
              "    </tr>\n",
              "    <tr>\n",
              "      <th>15</th>\n",
              "      <td>female</td>\n",
              "      <td>group C</td>\n",
              "      <td>some high school</td>\n",
              "      <td>standard</td>\n",
              "      <td>none</td>\n",
              "      <td>69</td>\n",
              "      <td>75</td>\n",
              "      <td>78</td>\n",
              "      <td>0</td>\n",
              "    </tr>\n",
              "    <tr>\n",
              "      <th>16</th>\n",
              "      <td>male</td>\n",
              "      <td>group C</td>\n",
              "      <td>high school</td>\n",
              "      <td>standard</td>\n",
              "      <td>none</td>\n",
              "      <td>88</td>\n",
              "      <td>89</td>\n",
              "      <td>86</td>\n",
              "      <td>3</td>\n",
              "    </tr>\n",
              "    <tr>\n",
              "      <th>17</th>\n",
              "      <td>female</td>\n",
              "      <td>group B</td>\n",
              "      <td>some high school</td>\n",
              "      <td>free/reduced</td>\n",
              "      <td>none</td>\n",
              "      <td>18</td>\n",
              "      <td>32</td>\n",
              "      <td>28</td>\n",
              "      <td>4</td>\n",
              "    </tr>\n",
              "    <tr>\n",
              "      <th>18</th>\n",
              "      <td>male</td>\n",
              "      <td>group C</td>\n",
              "      <td>master's degree</td>\n",
              "      <td>free/reduced</td>\n",
              "      <td>completed</td>\n",
              "      <td>46</td>\n",
              "      <td>42</td>\n",
              "      <td>46</td>\n",
              "      <td>4</td>\n",
              "    </tr>\n",
              "    <tr>\n",
              "      <th>19</th>\n",
              "      <td>female</td>\n",
              "      <td>group C</td>\n",
              "      <td>associate's degree</td>\n",
              "      <td>free/reduced</td>\n",
              "      <td>none</td>\n",
              "      <td>54</td>\n",
              "      <td>58</td>\n",
              "      <td>61</td>\n",
              "      <td>1</td>\n",
              "    </tr>\n",
              "  </tbody>\n",
              "</table>\n",
              "</div>"
            ],
            "text/plain": [
              "    gender race/ethnicity  ... writing score kluster\n",
              "0   female        group B  ...            74       0\n",
              "1   female        group C  ...            88       0\n",
              "2   female        group B  ...            93       3\n",
              "3     male        group A  ...            44       1\n",
              "4     male        group C  ...            75       0\n",
              "5   female        group B  ...            78       0\n",
              "6   female        group B  ...            92       3\n",
              "7     male        group B  ...            39       4\n",
              "8     male        group D  ...            67       2\n",
              "9   female        group B  ...            50       1\n",
              "10    male        group C  ...            52       1\n",
              "11    male        group D  ...            43       1\n",
              "12  female        group B  ...            73       0\n",
              "13    male        group A  ...            70       0\n",
              "14  female        group A  ...            58       1\n",
              "15  female        group C  ...            78       0\n",
              "16    male        group C  ...            86       3\n",
              "17  female        group B  ...            28       4\n",
              "18    male        group C  ...            46       4\n",
              "19  female        group C  ...            61       1\n",
              "\n",
              "[20 rows x 9 columns]"
            ]
          },
          "metadata": {
            "tags": []
          },
          "execution_count": 126
        }
      ]
    },
    {
      "cell_type": "markdown",
      "metadata": {
        "id": "AM-TlC4rM15B"
      },
      "source": [
        "Dataframe di atas merupakan 20 data awal yang baru setelah ditambahkan kolom kluster."
      ]
    },
    {
      "cell_type": "code",
      "metadata": {
        "id": "Ripzj2HTr8q4"
      },
      "source": [
        "# Menjalankan K-Means Clustering ke dataset\r\n",
        "from sklearn.cluster import KMeans\r\n",
        "kmeans = KMeans(n_clusters = 5, init = 'k-means++', random_state = 42)\r\n",
        "y_kmeans = kmeans.fit_predict(retail_x)"
      ],
      "execution_count": null,
      "outputs": []
    },
    {
      "cell_type": "code",
      "metadata": {
        "colab": {
          "base_uri": "https://localhost:8080/",
          "height": 313
        },
        "id": "1j7foFu3kHBt",
        "outputId": "911f7278-9dc0-4558-bc5e-e73e08c49615"
      },
      "source": [
        "output = plt.scatter(x_scaled[:,0], \n",
        "x_scaled[:,1], s = 100, c = retail.kluster, marker = \"o\", alpha = 1,)\n",
        "centers = kmeans.cluster_centers_\n",
        "plt.scatter(centers[:,0], centers[:,1], c='red', s=200, alpha=1 , marker=\"s\");\n",
        "plt.title(\"Hasil Klustering K-Means\")\n",
        "plt.xlabel(\"Scaled math score\")\n",
        "plt.ylabel(\"Scaled reading score\")\n",
        "plt.colorbar (output)\n",
        "plt.legend()\n",
        "plt.show()"
      ],
      "execution_count": null,
      "outputs": [
        {
          "output_type": "stream",
          "text": [
            "No handles with labels found to put in legend.\n"
          ],
          "name": "stderr"
        },
        {
          "output_type": "display_data",
          "data": {
            "image/png": "[encoded data removed]",
            "text/plain": [
              "<Figure size 432x288 with 2 Axes>"
            ]
          },
          "metadata": {
            "tags": [],
            "needs_background": "light"
          }
        }
      ]
    },
    {
      "cell_type": "markdown",
      "metadata": {
        "id": "NJQ5c-oANCfO"
      },
      "source": [
        "Gambar di atas merupakan **visualisasi** hasil clustering dari data math score dan reading score dengan data yang telah distandarisasi. Clustering di atas terdiri dari 5 cluster"
      ]
    },
    {
      "cell_type": "markdown",
      "metadata": {
        "id": "GTsl59USnD_L"
      },
      "source": [
        "# **Permodelan Data 2**\r\n",
        "\r\n",
        "---\r\n",
        "\r\n"
      ]
    },
    {
      "cell_type": "markdown",
      "metadata": {
        "id": "avwMohXXnV1d"
      },
      "source": [
        "Pada permodelan kali ini saya akan melakukan pendekatan unsur untuk menemukan korelasi antar variabel."
      ]
    },
    {
      "cell_type": "code",
      "metadata": {
        "id": "KfRY7tPlncOU"
      },
      "source": [
        "import numpy as np \r\n",
        "import pandas as pd \r\n",
        "\r\n",
        "import os\r\n",
        "for dirname, _, filenames in os.walk('https://raw.githubusercontent.com/pramadita99/tugas-data-python/main/StudentsPerformance.csv'):\r\n",
        "    for filename in filenames:\r\n",
        "        print(os.path.join(dirname, filename))"
      ],
      "execution_count": null,
      "outputs": []
    },
    {
      "cell_type": "code",
      "metadata": {
        "id": "xLvNXbefnoKe"
      },
      "source": [
        "import random\r\n",
        "import math\r\n",
        "import statistics\r\n",
        "import matplotlib.pyplot as plt\r\n",
        "import seaborn as sns\r\n",
        "from matplotlib import style\r\n",
        "style.use('ggplot')"
      ],
      "execution_count": null,
      "outputs": []
    },
    {
      "cell_type": "code",
      "metadata": {
        "id": "T8t9_nvinq_6"
      },
      "source": [
        "df = pd.read_csv('https://raw.githubusercontent.com/pramadita99/tugas-data-python/main/StudentsPerformance.csv')"
      ],
      "execution_count": null,
      "outputs": []
    },
    {
      "cell_type": "code",
      "metadata": {
        "colab": {
          "base_uri": "https://localhost:8080/",
          "height": 363
        },
        "id": "iavOwlOznva9",
        "outputId": "ebe9916b-c1db-4050-ed42-48d946ebcf65"
      },
      "source": [
        "df.head(10)"
      ],
      "execution_count": null,
      "outputs": [
        {
          "output_type": "execute_result",
          "data": {
            "text/html": [
              "<div>\n",
              "<style scoped>\n",
              "    .dataframe tbody tr th:only-of-type {\n",
              "        vertical-align: middle;\n",
              "    }\n",
              "\n",
              "    .dataframe tbody tr th {\n",
              "        vertical-align: top;\n",
              "    }\n",
              "\n",
              "    .dataframe thead th {\n",
              "        text-align: right;\n",
              "    }\n",
              "</style>\n",
              "<table border=\"1\" class=\"dataframe\">\n",
              "  <thead>\n",
              "    <tr style=\"text-align: right;\">\n",
              "      <th></th>\n",
              "      <th>gender</th>\n",
              "      <th>race/ethnicity</th>\n",
              "      <th>parental level of education</th>\n",
              "      <th>lunch</th>\n",
              "      <th>test preparation course</th>\n",
              "      <th>math score</th>\n",
              "      <th>reading score</th>\n",
              "      <th>writing score</th>\n",
              "    </tr>\n",
              "  </thead>\n",
              "  <tbody>\n",
              "    <tr>\n",
              "      <th>0</th>\n",
              "      <td>female</td>\n",
              "      <td>group B</td>\n",
              "      <td>bachelor's degree</td>\n",
              "      <td>standard</td>\n",
              "      <td>none</td>\n",
              "      <td>72</td>\n",
              "      <td>72</td>\n",
              "      <td>74</td>\n",
              "    </tr>\n",
              "    <tr>\n",
              "      <th>1</th>\n",
              "      <td>female</td>\n",
              "      <td>group C</td>\n",
              "      <td>some college</td>\n",
              "      <td>standard</td>\n",
              "      <td>completed</td>\n",
              "      <td>69</td>\n",
              "      <td>90</td>\n",
              "      <td>88</td>\n",
              "    </tr>\n",
              "    <tr>\n",
              "      <th>2</th>\n",
              "      <td>female</td>\n",
              "      <td>group B</td>\n",
              "      <td>master's degree</td>\n",
              "      <td>standard</td>\n",
              "      <td>none</td>\n",
              "      <td>90</td>\n",
              "      <td>95</td>\n",
              "      <td>93</td>\n",
              "    </tr>\n",
              "    <tr>\n",
              "      <th>3</th>\n",
              "      <td>male</td>\n",
              "      <td>group A</td>\n",
              "      <td>associate's degree</td>\n",
              "      <td>free/reduced</td>\n",
              "      <td>none</td>\n",
              "      <td>47</td>\n",
              "      <td>57</td>\n",
              "      <td>44</td>\n",
              "    </tr>\n",
              "    <tr>\n",
              "      <th>4</th>\n",
              "      <td>male</td>\n",
              "      <td>group C</td>\n",
              "      <td>some college</td>\n",
              "      <td>standard</td>\n",
              "      <td>none</td>\n",
              "      <td>76</td>\n",
              "      <td>78</td>\n",
              "      <td>75</td>\n",
              "    </tr>\n",
              "    <tr>\n",
              "      <th>5</th>\n",
              "      <td>female</td>\n",
              "      <td>group B</td>\n",
              "      <td>associate's degree</td>\n",
              "      <td>standard</td>\n",
              "      <td>none</td>\n",
              "      <td>71</td>\n",
              "      <td>83</td>\n",
              "      <td>78</td>\n",
              "    </tr>\n",
              "    <tr>\n",
              "      <th>6</th>\n",
              "      <td>female</td>\n",
              "      <td>group B</td>\n",
              "      <td>some college</td>\n",
              "      <td>standard</td>\n",
              "      <td>completed</td>\n",
              "      <td>88</td>\n",
              "      <td>95</td>\n",
              "      <td>92</td>\n",
              "    </tr>\n",
              "    <tr>\n",
              "      <th>7</th>\n",
              "      <td>male</td>\n",
              "      <td>group B</td>\n",
              "      <td>some college</td>\n",
              "      <td>free/reduced</td>\n",
              "      <td>none</td>\n",
              "      <td>40</td>\n",
              "      <td>43</td>\n",
              "      <td>39</td>\n",
              "    </tr>\n",
              "    <tr>\n",
              "      <th>8</th>\n",
              "      <td>male</td>\n",
              "      <td>group D</td>\n",
              "      <td>high school</td>\n",
              "      <td>free/reduced</td>\n",
              "      <td>completed</td>\n",
              "      <td>64</td>\n",
              "      <td>64</td>\n",
              "      <td>67</td>\n",
              "    </tr>\n",
              "    <tr>\n",
              "      <th>9</th>\n",
              "      <td>female</td>\n",
              "      <td>group B</td>\n",
              "      <td>high school</td>\n",
              "      <td>free/reduced</td>\n",
              "      <td>none</td>\n",
              "      <td>38</td>\n",
              "      <td>60</td>\n",
              "      <td>50</td>\n",
              "    </tr>\n",
              "  </tbody>\n",
              "</table>\n",
              "</div>"
            ],
            "text/plain": [
              "   gender race/ethnicity  ... reading score writing score\n",
              "0  female        group B  ...            72            74\n",
              "1  female        group C  ...            90            88\n",
              "2  female        group B  ...            95            93\n",
              "3    male        group A  ...            57            44\n",
              "4    male        group C  ...            78            75\n",
              "5  female        group B  ...            83            78\n",
              "6  female        group B  ...            95            92\n",
              "7    male        group B  ...            43            39\n",
              "8    male        group D  ...            64            67\n",
              "9  female        group B  ...            60            50\n",
              "\n",
              "[10 rows x 8 columns]"
            ]
          },
          "metadata": {
            "tags": []
          },
          "execution_count": 24
        }
      ]
    },
    {
      "cell_type": "markdown",
      "metadata": {
        "id": "-zgdgG5ypum1"
      },
      "source": [
        "**Korelasi menggunakan Metode Pearson :**"
      ]
    },
    {
      "cell_type": "code",
      "metadata": {
        "id": "qps_8wVPp1-i"
      },
      "source": [
        "def de_mean(x):\r\n",
        "    x_bar = np.mean(x)\r\n",
        "    return [x_i - x_bar for x_i in x]\r\n",
        "\r\n",
        "def covariance(x, y):\r\n",
        "    n = len(x)\r\n",
        "    return np.dot(de_mean(x), de_mean(y)) / (n - 1)"
      ],
      "execution_count": null,
      "outputs": []
    },
    {
      "cell_type": "code",
      "metadata": {
        "id": "Y7xcOaIKp6DB"
      },
      "source": [
        "def correlation(x, y):\r\n",
        "    std_x = np.std(x)\r\n",
        "    std_y = np.std(y)\r\n",
        "    if std_x > 0 and std_y > 0:\r\n",
        "        return covariance(x, y) / (std_x * std_y)\r\n",
        "        # we can also return covariance(x, y) / std_x / std_y\r\n",
        "    else:\r\n",
        "        return 0"
      ],
      "execution_count": null,
      "outputs": []
    },
    {
      "cell_type": "code",
      "metadata": {
        "id": "--48088gp8Yy"
      },
      "source": [
        "ms = df['math score']\r\n",
        "rs = df['reading score']\r\n",
        "ws = df['writing score']"
      ],
      "execution_count": null,
      "outputs": []
    },
    {
      "cell_type": "code",
      "metadata": {
        "colab": {
          "base_uri": "https://localhost:8080/"
        },
        "id": "rwdYZ-DDp_Pv",
        "outputId": "f7079951-9adc-419e-cf5b-4b503ec6c0ae"
      },
      "source": [
        "print('correlation between Maths score and reading score: ', correlation(ms, rs))\r\n",
        "print('correlation between Maths score and writing score: ', correlation(ms, ws))\r\n",
        "print('correlation between writing score and reading score: ', correlation(ws, rs))"
      ],
      "execution_count": null,
      "outputs": [
        {
          "output_type": "stream",
          "text": [
            "correlation between Maths score and reading score:  0.8183980617337869\n",
            "correlation between Maths score and writing score:  0.8034454914412488\n",
            "correlation between writing score and reading score:  0.9555536307770252\n"
          ],
          "name": "stdout"
        }
      ]
    },
    {
      "cell_type": "markdown",
      "metadata": {
        "id": "6zO3JIFXrGvv"
      },
      "source": [
        "Metode pearson ini digunakan untuk menemukan kekuatan korelasi antar variabel. Metode pearson ini lebih kuat dari scatter plot. Pada metode pearson ini ditemukan angka korelasi antar variabelnya. Pada analisis scatterplot di bawah, diketahui relasi/korelasi antar variabel adalah linear sehingga metode korelasi pearson ini tepat untuk digunakan sebagai analisis korelasi."
      ]
    },
    {
      "cell_type": "markdown",
      "metadata": {
        "id": "ZnvPruZ8smOz"
      },
      "source": [
        "Dari permodelan di atas, didapatkan prediksi setidaknya ada 2 korelasi yang memiliki hasil lebih dari 0,8 adalah benar, dan korelasi antara writing skor dan reading skor lebih dari 0,9 juga benar."
      ]
    },
    {
      "cell_type": "markdown",
      "metadata": {
        "id": "0zI-4jmnnz8R"
      },
      "source": [
        "**Plotting menggunakan scatterplot** :"
      ]
    },
    {
      "cell_type": "code",
      "metadata": {
        "colab": {
          "base_uri": "https://localhost:8080/",
          "height": 296
        },
        "id": "kg-hPv3Jn6UO",
        "outputId": "3ab8c918-214d-4837-def3-ca7eee671920"
      },
      "source": [
        "plt.scatter(df['math score'], df['reading score'])"
      ],
      "execution_count": null,
      "outputs": [
        {
          "output_type": "execute_result",
          "data": {
            "text/plain": [
              "<matplotlib.collections.PathCollection at 0x7f17e58ee940>"
            ]
          },
          "metadata": {
            "tags": []
          },
          "execution_count": 25
        },
        {
          "output_type": "display_data",
          "data": {
            "image/png": "[encoded data removed]",
            "text/plain": [
              "<Figure size 432x288 with 1 Axes>"
            ]
          },
          "metadata": {
            "tags": []
          }
        }
      ]
    },
    {
      "cell_type": "code",
      "metadata": {
        "colab": {
          "base_uri": "https://localhost:8080/",
          "height": 296
        },
        "id": "ywpOKgc5n-3M",
        "outputId": "3fea3c67-e8df-4fbd-8044-cf3ef4cbc2f1"
      },
      "source": [
        "plt.scatter(df['math score'], df['writing score'])"
      ],
      "execution_count": null,
      "outputs": [
        {
          "output_type": "execute_result",
          "data": {
            "text/plain": [
              "<matplotlib.collections.PathCollection at 0x7f17e5887d30>"
            ]
          },
          "metadata": {
            "tags": []
          },
          "execution_count": 26
        },
        {
          "output_type": "display_data",
          "data": {
            "image/png": "[encoded data removed]",
            "text/plain": [
              "<Figure size 432x288 with 1 Axes>"
            ]
          },
          "metadata": {
            "tags": []
          }
        }
      ]
    },
    {
      "cell_type": "code",
      "metadata": {
        "colab": {
          "base_uri": "https://localhost:8080/",
          "height": 296
        },
        "id": "BWac0AsUoCRu",
        "outputId": "8d8af6a8-ec9c-4eff-85d4-bff9b437bd89"
      },
      "source": [
        "plt.scatter(df['writing score'], df['reading score'])"
      ],
      "execution_count": null,
      "outputs": [
        {
          "output_type": "execute_result",
          "data": {
            "text/plain": [
              "<matplotlib.collections.PathCollection at 0x7f17e53a7080>"
            ]
          },
          "metadata": {
            "tags": []
          },
          "execution_count": 27
        },
        {
          "output_type": "display_data",
          "data": {
            "image/png": "[encoded data removed]",
            "text/plain": [
              "<Figure size 432x288 with 1 Axes>"
            ]
          },
          "metadata": {
            "tags": []
          }
        }
      ]
    },
    {
      "cell_type": "markdown",
      "metadata": {
        "id": "foqOEdt-oFmH"
      },
      "source": [
        "Pada data di atas, didapatkan hasil sebagai berikut :\r\n",
        "\r\n",
        "*   Bentuk scatter di atas adalah linear dimana artinya adanya korelasi yang kuat (lebih dari 0,5) di antara variabel-variabelnya.\r\n",
        "*   Korelasi antara variabel math score, reading score, dan writing score adalah lebih dari 0,8.\r\n",
        "*   Terdapat korelasi yang lebih kuat antara variabel reading skor dan writing skor, dimana kemungkinan korelasinya lebih dari 0,9.\r\n",
        "\r\n",
        "> Angka korelasi tersebut didapatkan dari metode pearson.\r\n",
        "\r\n",
        "\r\n",
        "\r\n",
        "\r\n",
        "\r\n",
        "\r\n"
      ]
    },
    {
      "cell_type": "markdown",
      "metadata": {
        "id": "nIPXLgr_tCGu"
      },
      "source": [
        " **Correlation Matriks**"
      ]
    },
    {
      "cell_type": "code",
      "metadata": {
        "colab": {
          "base_uri": "https://localhost:8080/",
          "height": 533
        },
        "id": "Be2aWd2KtAv8",
        "outputId": "d801cec2-2ec5-4de6-97aa-fff75f400ac0"
      },
      "source": [
        "cor = df.corr()\r\n",
        "\r\n",
        "plt.figure(figsize = (15, 8))\r\n",
        "sns.heatmap(cor, annot = True, vmin = -1, cmap = 'mako')"
      ],
      "execution_count": null,
      "outputs": [
        {
          "output_type": "execute_result",
          "data": {
            "text/plain": [
              "<matplotlib.axes._subplots.AxesSubplot at 0x7f17e63b5320>"
            ]
          },
          "metadata": {
            "tags": []
          },
          "execution_count": 32
        },
        {
          "output_type": "display_data",
          "data": {
            "image/png": "[encoded data removed]",
            "text/plain": [
              "<Figure size 1080x576 with 2 Axes>"
            ]
          },
          "metadata": {
            "tags": []
          }
        }
      ]
    },
    {
      "cell_type": "markdown",
      "metadata": {
        "id": "xkMv-Y8wtNb_"
      },
      "source": [
        "**Analisis** :\r\n",
        "\r\n",
        "> Pada heatmap korelasi di atas, dapat disimpulkan dengan kemungkinan bahwa :\r\n",
        "\r\n",
        "1.   Warna yang terang menunjukkan nilai atau skor yang baik pada semua ujian/exam\r\n",
        "2.   Jika pelajar memiliki kemampuan yang baik pada reading dan writing, maka mereka dapat meningkatkan kemampuan math nya juga.\r\n",
        "3. Jika guru yang sama memeriksa ujian membaca dan menulis, harus terkesan dengan yang satu mencetak lebih banyak di salah satu mata pelajaran dan akhirnya memberikan nilai yang sama di mata pelajaran yang lain. Kebalikannya dalam kasus siswa dengan nilai rendah.\r\n",
        "\r\n"
      ]
    },
    {
      "cell_type": "markdown",
      "metadata": {
        "id": "zTGJCoeckPzU"
      },
      "source": [
        "# **Evaluasi Data**\r\n",
        "\r\n",
        "---\r\n",
        "\r\n"
      ]
    },
    {
      "cell_type": "markdown",
      "metadata": {
        "id": "YWWMXYiQlxIJ"
      },
      "source": [
        "Untuk evaluasi kali ini, akan dilakukan **analisis regresi** guna memprediksi skor reading menggunakan variabel skor writing"
      ]
    },
    {
      "cell_type": "code",
      "metadata": {
        "id": "DmPPEX-LmAjX"
      },
      "source": [
        "import numpy as np \r\n",
        "import pandas as pd "
      ],
      "execution_count": null,
      "outputs": []
    },
    {
      "cell_type": "code",
      "metadata": {
        "id": "B-R4WLavmJnj"
      },
      "source": [
        "import os\r\n",
        "for dirname, _, filenames in os.walk('https://raw.githubusercontent.com/pramadita99/tugas-data-python/main/StudentsPerformance.csv'):\r\n",
        "    for filename in filenames:\r\n",
        "        print(os.path.join(dirname, filename))"
      ],
      "execution_count": null,
      "outputs": []
    },
    {
      "cell_type": "code",
      "metadata": {
        "id": "36QQEQiimVPc"
      },
      "source": [
        "import matplotlib.pyplot as plt\r\n",
        "from matplotlib import style\r\n",
        "style.use('fivethirtyeight')"
      ],
      "execution_count": null,
      "outputs": []
    },
    {
      "cell_type": "code",
      "metadata": {
        "id": "_EqOzAHQmYIr"
      },
      "source": [
        "df = pd.read_csv('https://raw.githubusercontent.com/pramadita99/tugas-data-python/main/StudentsPerformance.csv')"
      ],
      "execution_count": null,
      "outputs": []
    },
    {
      "cell_type": "code",
      "metadata": {
        "colab": {
          "base_uri": "https://localhost:8080/",
          "height": 363
        },
        "id": "wSDGYJhWmexP",
        "outputId": "56234f0c-550b-41be-ffe6-d6a35a60c57a"
      },
      "source": [
        "df.head(10)"
      ],
      "execution_count": null,
      "outputs": [
        {
          "output_type": "execute_result",
          "data": {
            "text/html": [
              "<div>\n",
              "<style scoped>\n",
              "    .dataframe tbody tr th:only-of-type {\n",
              "        vertical-align: middle;\n",
              "    }\n",
              "\n",
              "    .dataframe tbody tr th {\n",
              "        vertical-align: top;\n",
              "    }\n",
              "\n",
              "    .dataframe thead th {\n",
              "        text-align: right;\n",
              "    }\n",
              "</style>\n",
              "<table border=\"1\" class=\"dataframe\">\n",
              "  <thead>\n",
              "    <tr style=\"text-align: right;\">\n",
              "      <th></th>\n",
              "      <th>gender</th>\n",
              "      <th>race/ethnicity</th>\n",
              "      <th>parental level of education</th>\n",
              "      <th>lunch</th>\n",
              "      <th>test preparation course</th>\n",
              "      <th>math score</th>\n",
              "      <th>reading score</th>\n",
              "      <th>writing score</th>\n",
              "    </tr>\n",
              "  </thead>\n",
              "  <tbody>\n",
              "    <tr>\n",
              "      <th>0</th>\n",
              "      <td>female</td>\n",
              "      <td>group B</td>\n",
              "      <td>bachelor's degree</td>\n",
              "      <td>standard</td>\n",
              "      <td>none</td>\n",
              "      <td>72</td>\n",
              "      <td>72</td>\n",
              "      <td>74</td>\n",
              "    </tr>\n",
              "    <tr>\n",
              "      <th>1</th>\n",
              "      <td>female</td>\n",
              "      <td>group C</td>\n",
              "      <td>some college</td>\n",
              "      <td>standard</td>\n",
              "      <td>completed</td>\n",
              "      <td>69</td>\n",
              "      <td>90</td>\n",
              "      <td>88</td>\n",
              "    </tr>\n",
              "    <tr>\n",
              "      <th>2</th>\n",
              "      <td>female</td>\n",
              "      <td>group B</td>\n",
              "      <td>master's degree</td>\n",
              "      <td>standard</td>\n",
              "      <td>none</td>\n",
              "      <td>90</td>\n",
              "      <td>95</td>\n",
              "      <td>93</td>\n",
              "    </tr>\n",
              "    <tr>\n",
              "      <th>3</th>\n",
              "      <td>male</td>\n",
              "      <td>group A</td>\n",
              "      <td>associate's degree</td>\n",
              "      <td>free/reduced</td>\n",
              "      <td>none</td>\n",
              "      <td>47</td>\n",
              "      <td>57</td>\n",
              "      <td>44</td>\n",
              "    </tr>\n",
              "    <tr>\n",
              "      <th>4</th>\n",
              "      <td>male</td>\n",
              "      <td>group C</td>\n",
              "      <td>some college</td>\n",
              "      <td>standard</td>\n",
              "      <td>none</td>\n",
              "      <td>76</td>\n",
              "      <td>78</td>\n",
              "      <td>75</td>\n",
              "    </tr>\n",
              "    <tr>\n",
              "      <th>5</th>\n",
              "      <td>female</td>\n",
              "      <td>group B</td>\n",
              "      <td>associate's degree</td>\n",
              "      <td>standard</td>\n",
              "      <td>none</td>\n",
              "      <td>71</td>\n",
              "      <td>83</td>\n",
              "      <td>78</td>\n",
              "    </tr>\n",
              "    <tr>\n",
              "      <th>6</th>\n",
              "      <td>female</td>\n",
              "      <td>group B</td>\n",
              "      <td>some college</td>\n",
              "      <td>standard</td>\n",
              "      <td>completed</td>\n",
              "      <td>88</td>\n",
              "      <td>95</td>\n",
              "      <td>92</td>\n",
              "    </tr>\n",
              "    <tr>\n",
              "      <th>7</th>\n",
              "      <td>male</td>\n",
              "      <td>group B</td>\n",
              "      <td>some college</td>\n",
              "      <td>free/reduced</td>\n",
              "      <td>none</td>\n",
              "      <td>40</td>\n",
              "      <td>43</td>\n",
              "      <td>39</td>\n",
              "    </tr>\n",
              "    <tr>\n",
              "      <th>8</th>\n",
              "      <td>male</td>\n",
              "      <td>group D</td>\n",
              "      <td>high school</td>\n",
              "      <td>free/reduced</td>\n",
              "      <td>completed</td>\n",
              "      <td>64</td>\n",
              "      <td>64</td>\n",
              "      <td>67</td>\n",
              "    </tr>\n",
              "    <tr>\n",
              "      <th>9</th>\n",
              "      <td>female</td>\n",
              "      <td>group B</td>\n",
              "      <td>high school</td>\n",
              "      <td>free/reduced</td>\n",
              "      <td>none</td>\n",
              "      <td>38</td>\n",
              "      <td>60</td>\n",
              "      <td>50</td>\n",
              "    </tr>\n",
              "  </tbody>\n",
              "</table>\n",
              "</div>"
            ],
            "text/plain": [
              "   gender race/ethnicity  ... reading score writing score\n",
              "0  female        group B  ...            72            74\n",
              "1  female        group C  ...            90            88\n",
              "2  female        group B  ...            95            93\n",
              "3    male        group A  ...            57            44\n",
              "4    male        group C  ...            78            75\n",
              "5  female        group B  ...            83            78\n",
              "6  female        group B  ...            95            92\n",
              "7    male        group B  ...            43            39\n",
              "8    male        group D  ...            64            67\n",
              "9  female        group B  ...            60            50\n",
              "\n",
              "[10 rows x 8 columns]"
            ]
          },
          "metadata": {
            "tags": []
          },
          "execution_count": 20
        }
      ]
    },
    {
      "cell_type": "markdown",
      "metadata": {
        "id": "2IkdawCbv2PK"
      },
      "source": [
        "Pada data permodelan korelasi antara reading score dan writing score memiliki nilai korelasi yang kuat yaitu lebih dari 0,9 dengan menggunakan perhitungan pearson. Korelasi antara reading score dan writing score juga linear."
      ]
    },
    {
      "cell_type": "markdown",
      "metadata": {
        "id": "0WmiGJo5yI0s"
      },
      "source": [
        "Pada uji regresi kali ini ditetapkan hipotesis null nya adalah korelasi kuat lebih dari 0,9 yang terjadi dengan kebetulan.\r\n",
        "\r\n",
        "> Jika p value pada hipotesis null berubah menjadi lebih kecil maka hipotesis ditolak.\r\n",
        "\r\n",
        "> Langkah selanjutnya bertujuan untuk mengetahui apakah hipotesis ditolak atau diterima dengan mengetahui hasil signifikasnsinya.\r\n",
        "\r\n",
        "\r\n",
        "\r\n"
      ]
    },
    {
      "cell_type": "code",
      "metadata": {
        "id": "Fd6pmOSBzIEd"
      },
      "source": [
        "class HypothesisTest(object):\r\n",
        "    \r\n",
        "    def __init__(self, data):\r\n",
        "        self.data = data\r\n",
        "        self.MakeModel()\r\n",
        "        self.actual = self.TestStatistic(data)\r\n",
        "        \r\n",
        "    def PValue(self, iters = 1000):\r\n",
        "        self.test_stats = [self.TestStatistic(self.RunModel()) for _ in range(iters)]\r\n",
        "        count = sum(1 for x in self.test_stats if x >= self.actual)\r\n",
        "        return count / iters\r\n",
        "    \r\n",
        "    def TestStatistic(self, data):\r\n",
        "        raise UnimplementedMethodException()\r\n",
        "        \r\n",
        "    def MakeModel(self):\r\n",
        "        pass\r\n",
        "    \r\n",
        "    def RunModel(self):\r\n",
        "        raise UnimplementedMethodException()"
      ],
      "execution_count": null,
      "outputs": []
    },
    {
      "cell_type": "code",
      "metadata": {
        "id": "vqsAtKBvzM2E"
      },
      "source": [
        "class CorrPermute(HypothesisTest):\r\n",
        "    \r\n",
        "    def TestStatistic(self, data):\r\n",
        "        xs, ys = data\r\n",
        "        test_stat = abs(correlation(xs, ys))\r\n",
        "        return test_stat\r\n",
        "    \r\n",
        "    def RunModel(self):\r\n",
        "        xs, ys = self.data\r\n",
        "        xs = np.random.permutation(xs)\r\n",
        "        return xs, ys\r\n",
        "    \r\n",
        "def correlation(x, y):\r\n",
        "    std_x = np.std(x)\r\n",
        "    std_y = np.std(y)\r\n",
        "    if std_x and std_y > 0:\r\n",
        "        return covariance(x, y) / std_x / std_y\r\n",
        "    else:\r\n",
        "        return 0\r\n",
        "    \r\n",
        "def de_mean(x):\r\n",
        "    x_bar = np.mean(x)\r\n",
        "    return [x_i - x_bar for x_i in x]\r\n",
        "\r\n",
        "def covariance(x, y):\r\n",
        "    n = len(x)\r\n",
        "    return np.dot(de_mean(x), de_mean(y)) / (n - 1)"
      ],
      "execution_count": null,
      "outputs": []
    },
    {
      "cell_type": "code",
      "metadata": {
        "id": "ZE7jhESVzSLn"
      },
      "source": [
        "rs = df['reading score']\r\n",
        "ws = df['writing score']\r\n",
        "\r\n",
        "ct = CorrPermute((rs, ws))\r\n",
        "pvalue = ct.PValue()"
      ],
      "execution_count": null,
      "outputs": []
    },
    {
      "cell_type": "code",
      "metadata": {
        "colab": {
          "base_uri": "https://localhost:8080/"
        },
        "id": "Faq_Ej3ezV4S",
        "outputId": "a3cf9afc-d7e6-4353-d03f-b4c77ba382c1"
      },
      "source": [
        "print('The P-Value is: ', pvalue)"
      ],
      "execution_count": null,
      "outputs": [
        {
          "output_type": "stream",
          "text": [
            "The P-Value is:  0.0\n"
          ],
          "name": "stdout"
        }
      ]
    },
    {
      "cell_type": "markdown",
      "metadata": {
        "id": "R1KSNdzfznX0"
      },
      "source": [
        "**Analisis** :\r\n",
        "\r\n",
        "*   Nilai P-Value pada hipotesis null di atas adalah 0.\r\n",
        "*   Hipotesis null adalah salah, dan korelasi kuat yaitu 0,9 antara skor reading dan writing tidak terjadi secara kebetulan. Dapat disimpulkan bahwa korelasi yang terjadi adalah signifikan secara statistik.\r\n",
        "\r\n"
      ]
    },
    {
      "cell_type": "markdown",
      "metadata": {
        "id": "9uhkPqR20h57"
      },
      "source": [
        "**Memprediksi skor reading dengan atau tanpa writing skor :**"
      ]
    },
    {
      "cell_type": "markdown",
      "metadata": {
        "id": "yXEHuj2B19Bw"
      },
      "source": [
        "Penggunaan Linear least square :\r\n",
        "\r\n",
        "*    Linear least score digunakan untuk mengetahui korelasi dalam mengukur kekuatan dan tanda suatu hubungan antar variabel.\r\n",
        "*   Linear least square digunakan untuk meminimalkan MSE (mean squared error).\r\n",
        "\r\n",
        "\r\n",
        "\r\n",
        "\r\n"
      ]
    },
    {
      "cell_type": "markdown",
      "metadata": {
        "id": "2wXF-axO3iXF"
      },
      "source": [
        "Kali ini, untuk mendapatkan garis kemiringan dan intersep menggunakan linear least square untuk memprediksi skor reading."
      ]
    },
    {
      "cell_type": "code",
      "metadata": {
        "id": "RVdtlQi40_sL"
      },
      "source": [
        "def LeastSquares(xs, ys):\r\n",
        "    meanx, varx = np.mean(xs), np.var(xs)\r\n",
        "    meany = np.mean(ys)\r\n",
        "    \r\n",
        "    slope = covariance(xs, ys) / varx\r\n",
        "    inter = meany - slope * meanx\r\n",
        "    \r\n",
        "    return inter, slope\r\n",
        "\r\n",
        "def FitLine(xs, inter, slope):\r\n",
        "    fit_xs = np.sort(xs)\r\n",
        "    fit_ys = inter + slope * fit_xs\r\n",
        "    \r\n",
        "    return fit_xs, fit_ys"
      ],
      "execution_count": null,
      "outputs": []
    },
    {
      "cell_type": "code",
      "metadata": {
        "colab": {
          "base_uri": "https://localhost:8080/"
        },
        "id": "GsRHgbZ01EHq",
        "outputId": "7869c0bd-0cb2-484d-a3e7-b80ffa7bd5a8"
      },
      "source": [
        "inter, slope = LeastSquares(ws, rs)\r\n",
        "fit_xs, fit_ys = FitLine(ws, inter, slope)\r\n",
        "\r\n",
        "print('intercept is: {} and slope is: {}'.format(inter, slope))"
      ],
      "execution_count": null,
      "outputs": [
        {
          "output_type": "stream",
          "text": [
            "intercept is: 6.688023759635257 and slope is: 0.9181087994881232\n"
          ],
          "name": "stdout"
        }
      ]
    },
    {
      "cell_type": "markdown",
      "metadata": {
        "id": "djpinqIf4VuI"
      },
      "source": [
        "Pada linear least skor di atas, didapatkan hasil intersepnya adalah lebih dari 6,69 dan slope-nya adalah lebih dari 0,9"
      ]
    },
    {
      "cell_type": "markdown",
      "metadata": {
        "id": "2sdZKaNh48Af"
      },
      "source": [
        "**Residual** :"
      ]
    },
    {
      "cell_type": "code",
      "metadata": {
        "id": "vq0kpOni1FE3"
      },
      "source": [
        "def Residuals(xs, ys, inter, slope):\r\n",
        "    xs = np.asarray(xs)\r\n",
        "    ys = np.asarray(ys)\r\n",
        "    res = ys - (inter + slope * xs)\r\n",
        "    return res"
      ],
      "execution_count": null,
      "outputs": []
    },
    {
      "cell_type": "code",
      "metadata": {
        "id": "PM_-XiMK1hY8"
      },
      "source": [
        "res = Residuals(ws, rs, inter, slope)\r\n",
        "\r\n",
        "df['residuals'] = res"
      ],
      "execution_count": null,
      "outputs": []
    },
    {
      "cell_type": "markdown",
      "metadata": {
        "id": "wf7sOt8b5LSc"
      },
      "source": [
        "**Memprediksi skor reading dengan atau tanpa skor writing :**"
      ]
    },
    {
      "cell_type": "code",
      "metadata": {
        "colab": {
          "base_uri": "https://localhost:8080/"
        },
        "id": "wtL2qNPD1nQb",
        "outputId": "594707a0-ccf3-40e1-f486-4d75b48b3570"
      },
      "source": [
        "print('RMSE if we predict the reading scores using the writing scores: ', np.std(res))\r\n",
        "print('RMSE if we predict the reading scores without using the writing scores: ', np.std(rs))"
      ],
      "execution_count": null,
      "outputs": [
        {
          "output_type": "stream",
          "text": [
            "RMSE if we predict the reading scores using the writing scores:  4.347197790160473\n",
            "RMSE if we predict the reading scores without using the writing scores:  14.59289001534652\n"
          ],
          "name": "stdout"
        }
      ]
    },
    {
      "cell_type": "markdown",
      "metadata": {
        "id": "4KU5weiG5WYG"
      },
      "source": [
        "Dari data di atas, dapat diinterpretasikan sebagai berikut :\r\n",
        "\r\n",
        "*   Nilai RMSE (Root Mean Square Error) lebih dari 4 jika menggunakan skor writing untuk memprediksi nilai dari reading skor.\r\n",
        "*   Nilai RMSE (Root Mean Square Error) lebih dari 14 jika tidak menggunakan skor writing untuk memprediksi nilai dari reading skor.\r\n",
        "\r\n",
        "> Sehingga dari RMSE di atas, dapat disimpulkan bahwa lebih baik menggunakan skor writing untuk memprediksi nilai/skor reading.\r\n",
        "\r\n",
        "\r\n",
        "\r\n"
      ]
    },
    {
      "cell_type": "markdown",
      "metadata": {
        "id": "hLq8gp1P6Jvj"
      },
      "source": [
        "**Koefisien Determinasi**:\r\n",
        "\r\n",
        "> Koefisien determinasi merupakan metric yang digunakan untuk mendeterminasikan seberapa baik model kita\r\n",
        "\r\n",
        "\r\n"
      ]
    },
    {
      "cell_type": "code",
      "metadata": {
        "colab": {
          "base_uri": "https://localhost:8080/"
        },
        "id": "8lvrm4L61t_1",
        "outputId": "347d1869-c7eb-499d-ed4d-b4cfb4cc9ec2"
      },
      "source": [
        "r_squared = 1 - (np.var(res) / np.var(rs))\r\n",
        "\r\n",
        "print('The Coefficient of Determination or r^2 is: ', r_squared)"
      ],
      "execution_count": null,
      "outputs": [
        {
          "output_type": "stream",
          "text": [
            "The Coefficient of Determination or r^2 is:  0.9112565758085726\n"
          ],
          "name": "stdout"
        }
      ]
    },
    {
      "cell_type": "markdown",
      "metadata": {
        "id": "5JeEUd_46dSm"
      },
      "source": [
        "Dari data di atas, nilai dari R^2 lebih dari 0,9, sehingga garis yang dihasilkan cocok untuk data ini sehingga garis ini dapat digunakan untuk memprediksi skor reading."
      ]
    },
    {
      "cell_type": "markdown",
      "metadata": {
        "id": "V9t3LZr464lF"
      },
      "source": [
        "**Visualisasi Plotting Garis/Line :**"
      ]
    },
    {
      "cell_type": "code",
      "metadata": {
        "colab": {
          "base_uri": "https://localhost:8080/",
          "height": 546
        },
        "id": "0YarKTec1x1U",
        "outputId": "017b9d2f-bbc2-4b25-f020-0caf098583e9"
      },
      "source": [
        "plt.figure(figsize = (15, 8))\r\n",
        "\r\n",
        "plt.xlabel('Writing scores')\r\n",
        "plt.ylabel('Reading scores')\r\n",
        "\r\n",
        "plt.plot(fit_xs, fit_ys, color = 'black')\r\n",
        "plt.scatter(ws, rs, color = 'red')"
      ],
      "execution_count": null,
      "outputs": [
        {
          "output_type": "execute_result",
          "data": {
            "text/plain": [
              "<matplotlib.collections.PathCollection at 0x7f17e2a2eba8>"
            ]
          },
          "metadata": {
            "tags": []
          },
          "execution_count": 47
        },
        {
          "output_type": "display_data",
          "data": {
            "image/png": "[encoded data removed]",
            "text/plain": [
              "<Figure size 1080x576 with 1 Axes>"
            ]
          },
          "metadata": {
            "tags": []
          }
        }
      ]
    },
    {
      "cell_type": "markdown",
      "metadata": {
        "id": "gnP4RHLI6-vf"
      },
      "source": [
        "Gambar visualisasi di atas, menunjukkan bahwa garis yang dihasilkan cocok dengan data."
      ]
    }
  ]
}