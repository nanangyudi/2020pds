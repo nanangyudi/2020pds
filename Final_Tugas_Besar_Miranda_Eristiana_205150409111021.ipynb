{
  "nbformat": 4,
  "nbformat_minor": 0,
  "metadata": {
    "colab": {
      "name": "Final- Tugas Besar - Miranda Eristiana - 205150409111021.ipynb",
      "provenance": [],
      "collapsed_sections": [],
      "include_colab_link": true
    },
    "kernelspec": {
      "name": "python3",
      "display_name": "Python 3"
    }
  },
  "cells": [
    {
      "cell_type": "markdown",
      "metadata": {
        "id": "view-in-github",
        "colab_type": "text"
      },
      "source": [
        "<a href=\"https://colab.research.google.com/github/nanangyudi/2020pds_d/blob/main/Final_Tugas_Besar_Miranda_Eristiana_205150409111021.ipynb\" target=\"_parent\"><img src=\"https://colab.research.google.com/assets/colab-badge.svg\" alt=\"Open In Colab\"/></a>"
      ]
    },
    {
      "cell_type": "markdown",
      "metadata": {
        "id": "wEnUyxzPyi0P"
      },
      "source": [
        "> **Deskripsi Tujuan Bisnis**\n",
        "\n",
        "\n",
        "1. Dengan adanya data ini user akan mengetahui Rating dan Review dari tiap buku yang ada di website amazon.\n",
        "2. Mengetahui mana saja buku yang paling populer di kalangan masyarakat.\n",
        "3. Dapat mengetahui harga dari buku yang dijual.\n",
        "4. Dapat mengetahui seberapa banyak review yang didapat dalam masing-masing buku."
      ]
    },
    {
      "cell_type": "markdown",
      "metadata": {
        "id": "2vjDV4aWEeWG"
      },
      "source": [
        "> **Analisa Pendekatan**\n",
        "\n",
        "Dalam analisa kali ini peneliti menggunakan metode EDA. *Exploratory Data Analysis* atau disebut dengan EDA merupakan metode eksplorasi data dengan menggunakan teknik aritmatika sederhana dan teknik grafis dalam meringkas data pengamatan.\n",
        "Langkah-langkah yang terdapat dalam metode EDA ini urutannya sebagai berikut:\n",
        "Masalah -> Data -> Analisis -> Model -> Kesimpulan."
      ]
    },
    {
      "cell_type": "markdown",
      "metadata": {
        "id": "OUhBsDLGLsBR"
      },
      "source": [
        "\n",
        "\n",
        "\n",
        "> **Pengumpulan Data**\n",
        "\n",
        "Dalam tahapan pengumpulan data disini peneliti menggunakan dataset yang diambil dari kaggle.com yang berjudul Amazon Top 50 Bestselling Books 2009 - 2019. Dataset ini dibuat oleh Sooter Salu.\n",
        "\n",
        "\n",
        "\n"
      ]
    },
    {
      "cell_type": "markdown",
      "metadata": {
        "id": "iC6NgPYePwXw"
      },
      "source": [
        "> **Pemahaman Data**\n",
        "\n",
        "Dalam dataset yang berjudul \"***Amazon Top 50 Bestselling Books 2009 - 2019***\" ini berisikan mengenai data terkait penjualan buku yang ada di website amazon yang termasuk dalam 50 kategori penjualan terbanyak selama tahun 2009-2019. Didalam nya terdapat kolom yang berikan nama buku apa saja yang masuk dalam kategori 50 penjualan terbanyak, *author* yang menerbitkan, user rating dalam masing-masing buku yang berada dalam kategori tersebut, jumlah total *review* dari masing-masing buku, harga buku, tahun diterbitkannya, serta genre buku tersebut. Peneliti bisa melakukan analisa data untuk melihat total review pertahunnya untuk buku yang masuk dalam 50 kategori tersebut. Atau bisa juga menganalisa mana buku yang paling populer, dsb.\n",
        "\n",
        "\n"
      ]
    },
    {
      "cell_type": "markdown",
      "metadata": {
        "id": "F_l7DjOiqUFv"
      },
      "source": [
        "\n",
        "\n",
        "> **Eksplorasi Data**\n",
        "\n"
      ]
    },
    {
      "cell_type": "markdown",
      "metadata": {
        "id": "doMAOQfcT6p6"
      },
      "source": [
        "- **Mempersiapkan Data**\n",
        "\n"
      ]
    },
    {
      "cell_type": "markdown",
      "metadata": {
        "id": "Iz5QlYGVxy3n"
      },
      "source": [
        "Disini peneliti menggunakan library \"pandas\", \"numpy\", \"seaborn\""
      ]
    },
    {
      "cell_type": "code",
      "metadata": {
        "id": "vwvNPJ-0JjRa"
      },
      "source": [
        "import pandas as pd\n",
        "import os \n",
        "os.listdir ('sample_data')\n",
        "import matplotlib.pyplot as plt\n",
        "import seaborn as sns\n",
        "pd.set_option('display.max_columns',None)\n",
        "import numpy as np\n",
        "import re # import library for regular expression\n",
        "import random # library for random number generation"
      ],
      "execution_count": null,
      "outputs": []
    },
    {
      "cell_type": "markdown",
      "metadata": {
        "id": "CPeF2h6up7U-"
      },
      "source": [
        "\n",
        "- **Memasukkan Dataset**\n",
        "\n"
      ]
    },
    {
      "cell_type": "code",
      "metadata": {
        "colab": {
          "base_uri": "https://localhost:8080/"
        },
        "id": "7CCnNtH3LpHw",
        "outputId": "0efaae56-8b53-4a7b-8784-966d81532b22"
      },
      "source": [
        "df = pd.read_csv('https://raw.githubusercontent.com/mirandaerist/Data-Set-Python/main/bestsellers%20with%20categories.csv')\n",
        "print(\"read dataset in dataframe!\")"
      ],
      "execution_count": null,
      "outputs": [
        {
          "output_type": "stream",
          "text": [
            "read dataset in dataframe!\n"
          ],
          "name": "stdout"
        }
      ]
    },
    {
      "cell_type": "markdown",
      "metadata": {
        "id": "85DZn_Bnq-69"
      },
      "source": [
        "\n",
        "- **Menampilkan Data**\n",
        "\n"
      ]
    },
    {
      "cell_type": "markdown",
      "metadata": {
        "id": "OxNOCJ-uyCyP"
      },
      "source": [
        "Berikut merupakan tabel dari dataset yang akan digunakan oleh peneliti. "
      ]
    },
    {
      "cell_type": "code",
      "metadata": {
        "id": "ikELAj1Uybvo",
        "colab": {
          "base_uri": "https://localhost:8080/",
          "height": 281
        },
        "outputId": "bc035759-fb03-4d46-806f-c2d1b705df5d"
      },
      "source": [
        "df.head()"
      ],
      "execution_count": null,
      "outputs": [
        {
          "output_type": "execute_result",
          "data": {
            "text/html": [
              "<div>\n",
              "<style scoped>\n",
              "    .dataframe tbody tr th:only-of-type {\n",
              "        vertical-align: middle;\n",
              "    }\n",
              "\n",
              "    .dataframe tbody tr th {\n",
              "        vertical-align: top;\n",
              "    }\n",
              "\n",
              "    .dataframe thead th {\n",
              "        text-align: right;\n",
              "    }\n",
              "</style>\n",
              "<table border=\"1\" class=\"dataframe\">\n",
              "  <thead>\n",
              "    <tr style=\"text-align: right;\">\n",
              "      <th></th>\n",
              "      <th>Name</th>\n",
              "      <th>Author</th>\n",
              "      <th>User Rating</th>\n",
              "      <th>Reviews</th>\n",
              "      <th>Price</th>\n",
              "      <th>Year</th>\n",
              "      <th>Genre</th>\n",
              "    </tr>\n",
              "  </thead>\n",
              "  <tbody>\n",
              "    <tr>\n",
              "      <th>0</th>\n",
              "      <td>10-Day Green Smoothie Cleanse</td>\n",
              "      <td>JJ Smith</td>\n",
              "      <td>4.7</td>\n",
              "      <td>17350</td>\n",
              "      <td>8</td>\n",
              "      <td>2016</td>\n",
              "      <td>Non Fiction</td>\n",
              "    </tr>\n",
              "    <tr>\n",
              "      <th>1</th>\n",
              "      <td>11/22/63: A Novel</td>\n",
              "      <td>Stephen King</td>\n",
              "      <td>4.6</td>\n",
              "      <td>2052</td>\n",
              "      <td>22</td>\n",
              "      <td>2011</td>\n",
              "      <td>Fiction</td>\n",
              "    </tr>\n",
              "    <tr>\n",
              "      <th>2</th>\n",
              "      <td>12 Rules for Life: An Antidote to Chaos</td>\n",
              "      <td>Jordan B. Peterson</td>\n",
              "      <td>4.7</td>\n",
              "      <td>18979</td>\n",
              "      <td>15</td>\n",
              "      <td>2018</td>\n",
              "      <td>Non Fiction</td>\n",
              "    </tr>\n",
              "    <tr>\n",
              "      <th>3</th>\n",
              "      <td>1984 (Signet Classics)</td>\n",
              "      <td>George Orwell</td>\n",
              "      <td>4.7</td>\n",
              "      <td>21424</td>\n",
              "      <td>6</td>\n",
              "      <td>2017</td>\n",
              "      <td>Fiction</td>\n",
              "    </tr>\n",
              "    <tr>\n",
              "      <th>4</th>\n",
              "      <td>5,000 Awesome Facts (About Everything!) (Natio...</td>\n",
              "      <td>National Geographic Kids</td>\n",
              "      <td>4.8</td>\n",
              "      <td>7665</td>\n",
              "      <td>12</td>\n",
              "      <td>2019</td>\n",
              "      <td>Non Fiction</td>\n",
              "    </tr>\n",
              "  </tbody>\n",
              "</table>\n",
              "</div>"
            ],
            "text/plain": [
              "                                                Name  \\\n",
              "0                      10-Day Green Smoothie Cleanse   \n",
              "1                                  11/22/63: A Novel   \n",
              "2            12 Rules for Life: An Antidote to Chaos   \n",
              "3                             1984 (Signet Classics)   \n",
              "4  5,000 Awesome Facts (About Everything!) (Natio...   \n",
              "\n",
              "                     Author  User Rating  Reviews  Price  Year        Genre  \n",
              "0                  JJ Smith          4.7    17350      8  2016  Non Fiction  \n",
              "1              Stephen King          4.6     2052     22  2011      Fiction  \n",
              "2        Jordan B. Peterson          4.7    18979     15  2018  Non Fiction  \n",
              "3             George Orwell          4.7    21424      6  2017      Fiction  \n",
              "4  National Geographic Kids          4.8     7665     12  2019  Non Fiction  "
            ]
          },
          "metadata": {
            "tags": []
          },
          "execution_count": 33
        }
      ]
    },
    {
      "cell_type": "markdown",
      "metadata": {
        "id": "SoYn-q_mrtSb"
      },
      "source": [
        "- **Melihat Dimensi Data**\n",
        "\n"
      ]
    },
    {
      "cell_type": "code",
      "metadata": {
        "colab": {
          "base_uri": "https://localhost:8080/"
        },
        "id": "FPbplTyAr0Al",
        "outputId": "06c16b2f-e963-409a-f511-cac356579cc1"
      },
      "source": [
        "dimensi      = df.shape\n",
        "panjang_data = len(df)\n",
        "print(f'Dimensi data adalah {dimensi[0]} baris, dan {dimensi[1]} kolom')"
      ],
      "execution_count": null,
      "outputs": [
        {
          "output_type": "stream",
          "text": [
            "Dimensi data adalah 550 baris, dan 7 kolom\n"
          ],
          "name": "stdout"
        }
      ]
    },
    {
      "cell_type": "markdown",
      "metadata": {
        "id": "xGwYeWIHHAmg"
      },
      "source": [
        "- **Cek Missing Values**"
      ]
    },
    {
      "cell_type": "code",
      "metadata": {
        "colab": {
          "base_uri": "https://localhost:8080/"
        },
        "id": "VxrTdssMHFaN",
        "outputId": "b0574214-040e-4e14-88f5-94513ec2b126"
      },
      "source": [
        "df.isnull().sum()"
      ],
      "execution_count": null,
      "outputs": [
        {
          "output_type": "execute_result",
          "data": {
            "text/plain": [
              "Name           0\n",
              "Author         0\n",
              "User Rating    0\n",
              "Reviews        0\n",
              "Price          0\n",
              "Year           0\n",
              "Genre          0\n",
              "dtype: int64"
            ]
          },
          "metadata": {
            "tags": []
          },
          "execution_count": 53
        }
      ]
    },
    {
      "cell_type": "markdown",
      "metadata": {
        "id": "-JWibMbPHLZ6"
      },
      "source": [
        "Berdasarkan data diatas maka dataset ini tidak terdapat nilai kosong atau \"*missing value*\" pada setiap kolom nya"
      ]
    },
    {
      "cell_type": "markdown",
      "metadata": {
        "id": "1oOYwqO44c5i"
      },
      "source": [
        "\n",
        "\n",
        "> **Pemodelan Data**\n",
        "\n"
      ]
    },
    {
      "cell_type": "markdown",
      "metadata": {
        "id": "z4HhV5MFtuVZ"
      },
      "source": [
        "- **Melihat Frekuensi Data Berdasarkan Review Tiap Tahunnya**\n",
        "\n",
        "\n",
        "\n"
      ]
    },
    {
      "cell_type": "code",
      "metadata": {
        "colab": {
          "base_uri": "https://localhost:8080/",
          "height": 294
        },
        "id": "VTZYSfQAtt24",
        "outputId": "b602d07a-aabf-4f53-e7e5-e41159cc7910"
      },
      "source": [
        "fig=plt.figure()\n",
        "\n",
        "ax = fig.add_subplot(1,1,1)\n",
        "\n",
        "#Variable\n",
        "ax.hist(df['Year'],bins = 5)\n",
        "#Labels and Tit\n",
        "plt.title('Grafik Reviews Pertahun')\n",
        "plt.xlabel('Year')\n",
        "plt.ylabel('Reviews')\n",
        "plt.show()"
      ],
      "execution_count": null,
      "outputs": [
        {
          "output_type": "display_data",
          "data": {
            "image/png": "[encoded data removed]",
            "text/plain": [
              "<Figure size 432x288 with 1 Axes>"
            ]
          },
          "metadata": {
            "tags": [],
            "needs_background": "light"
          }
        }
      ]
    },
    {
      "cell_type": "markdown",
      "metadata": {
        "id": "xcKmYI0kulu8"
      },
      "source": [
        "Berdasarkan Grafik diatas maka dapat dianalisa bahwa jumlah review buku pada website amazon.com yang tertinggi adalah tahun 2018 \n"
      ]
    },
    {
      "cell_type": "markdown",
      "metadata": {
        "id": "SMaR19JmLS6e"
      },
      "source": [
        "- **Melihat keterkaitan hubungan data berdasarkan Tahun diterbitkannya buku dengan Review buku menggunakan Scatter Plot**"
      ]
    },
    {
      "cell_type": "code",
      "metadata": {
        "colab": {
          "base_uri": "https://localhost:8080/",
          "height": 294
        },
        "id": "oRh43FvAMpcl",
        "outputId": "c0571099-448c-4b4b-b4cf-ab274206c897"
      },
      "source": [
        "#Plots in matplotlib reside within a figureobject, use plt.figure to create new figure\n",
        "fig=plt.figure()\n",
        "\n",
        "#Create one or more subplots usingadd_subplot, because you can'tcreate blank figure\n",
        "ax = fig.add_subplot(1,1,1)\n",
        "\n",
        "#Variable\n",
        "ax.scatter(df['Year'],df['Reviews'])\n",
        "\n",
        "#Labels and Tit\n",
        "plt.title('Year and Reviews distribution')\n",
        "plt.xlabel('Year')\n",
        "plt.ylabel('Review')\n",
        "plt.show()"
      ],
      "execution_count": null,
      "outputs": [
        {
          "output_type": "display_data",
          "data": {
            "image/png": "[encoded data removed]",
            "text/plain": [
              "<Figure size 432x288 with 1 Axes>"
            ]
          },
          "metadata": {
            "tags": [],
            "needs_background": "light"
          }
        }
      ]
    },
    {
      "cell_type": "markdown",
      "metadata": {
        "id": "bbSTJAd-OeUx"
      },
      "source": [
        "Berdasarkan Scatterplot diatas menunjukkan bahwa data yang dianalisa merupakan data normal."
      ]
    },
    {
      "cell_type": "markdown",
      "metadata": {
        "id": "j5ECo8bO0p20"
      },
      "source": [
        "- **Box-plot keterkaitan User Rating terhadap Genre buku**"
      ]
    },
    {
      "cell_type": "code",
      "metadata": {
        "colab": {
          "base_uri": "https://localhost:8080/",
          "height": 278
        },
        "id": "RXC5rtz_yA5E",
        "outputId": "9fcba80a-6413-4a17-956f-970fc9d167b5"
      },
      "source": [
        "sns.boxplot(data=df, x='User Rating', y='Genre')\n",
        "sns.despine()\n",
        "plt.show()"
      ],
      "execution_count": null,
      "outputs": [
        {
          "output_type": "display_data",
          "data": {
            "image/png": "[encoded data removed]",
            "text/plain": [
              "<Figure size 432x288 with 1 Axes>"
            ]
          },
          "metadata": {
            "tags": [],
            "needs_background": "light"
          }
        }
      ]
    },
    {
      "cell_type": "markdown",
      "metadata": {
        "id": "VzpLOjvB-A2t"
      },
      "source": [
        "Berdasarkan Boxplot diatas dapat dilihat bahwa: \n",
        "\n",
        "*   Nilai median user rating terhadap genre buku memiliki perbedaan. Hal ini dapat diliat dari adanya perbedaan antara nilai median yang tidak signifikan antara genre fiction dan non fiction.\n",
        "*   Interval bawah genre non fiction dan fiction jauh lebih banyak dibandingkan interval atasnya. \n",
        "*   IQR (interquartile range) atau simpangan kuartil. Dimana IQR adalah ukuran yang digunakan untuk mengukur penyebaran data. Jika Semakin lebar boxplot maka menunjukkan data semakin menyebar. Maka dapat dilihat bahwa IQR User Rating terhadap kedua genre terjadi kesamaan dalam penyebaran nya dalam artian tersebar merata.\n",
        "\n",
        "\n",
        "\n",
        "\n",
        "\n",
        "\n",
        "  \n"
      ]
    },
    {
      "cell_type": "markdown",
      "metadata": {
        "id": "-szCFxuyyOW6"
      },
      "source": [
        "- **Tabel Frekuensi**"
      ]
    },
    {
      "cell_type": "code",
      "metadata": {
        "id": "8paz_lOw0OV7",
        "colab": {
          "base_uri": "https://localhost:8080/"
        },
        "outputId": "6ecb0940-66a2-419f-ecf0-3c7cda778f3f"
      },
      "source": [
        "test= df.groupby(['Name','User Rating'])\n",
        "test.size()"
      ],
      "execution_count": null,
      "outputs": [
        {
          "output_type": "execute_result",
          "data": {
            "text/plain": [
              "Name                                                                                    User Rating\n",
              "10-Day Green Smoothie Cleanse                                                           4.7            1\n",
              "11/22/63: A Novel                                                                       4.6            1\n",
              "12 Rules for Life: An Antidote to Chaos                                                 4.7            1\n",
              "1984 (Signet Classics)                                                                  4.7            1\n",
              "5,000 Awesome Facts (About Everything!) (National Geographic Kids)                      4.8            1\n",
              "                                                                                                      ..\n",
              "Winter of the World: Book Two of the Century Trilogy                                    4.5            1\n",
              "Women Food and God: An Unexpected Path to Almost Everything                             4.2            1\n",
              "Wonder                                                                                  4.8            5\n",
              "Wrecking Ball (Diary of a Wimpy Kid Book 14)                                            4.9            1\n",
              "You Are a Badass: How to Stop Doubting Your Greatness and Start Living an Awesome Life  4.7            4\n",
              "Length: 352, dtype: int64"
            ]
          },
          "metadata": {
            "tags": []
          },
          "execution_count": 11
        }
      ]
    },
    {
      "cell_type": "markdown",
      "metadata": {
        "id": "D-PQ3Ar51G10"
      },
      "source": [
        "Tabel Frekuensi diatas digunakan untuk mengelompokkan judul buku dan user rating pada masing-masing buku. Sehingga pengguna dapat melihat judul buku beserta user rating yang telah diberikan oleh pengguna amazon.com."
      ]
    },
    {
      "cell_type": "markdown",
      "metadata": {
        "id": "4L9GmEai3vNi"
      },
      "source": [
        "- **Mengelompokkan Variabel**"
      ]
    },
    {
      "cell_type": "code",
      "metadata": {
        "colab": {
          "base_uri": "https://localhost:8080/",
          "height": 564
        },
        "id": "_7m4nwDD37Nq",
        "outputId": "3307121d-2fdf-4f93-a830-c305b5e8af00"
      },
      "source": [
        "test= df.groupby(['User Rating'])\n",
        "test.describe()"
      ],
      "execution_count": null,
      "outputs": [
        {
          "output_type": "execute_result",
          "data": {
            "text/html": [
              "<div>\n",
              "<style scoped>\n",
              "    .dataframe tbody tr th:only-of-type {\n",
              "        vertical-align: middle;\n",
              "    }\n",
              "\n",
              "    .dataframe tbody tr th {\n",
              "        vertical-align: top;\n",
              "    }\n",
              "\n",
              "    .dataframe thead tr th {\n",
              "        text-align: left;\n",
              "    }\n",
              "\n",
              "    .dataframe thead tr:last-of-type th {\n",
              "        text-align: right;\n",
              "    }\n",
              "</style>\n",
              "<table border=\"1\" class=\"dataframe\">\n",
              "  <thead>\n",
              "    <tr>\n",
              "      <th></th>\n",
              "      <th colspan=\"8\" halign=\"left\">Reviews</th>\n",
              "      <th colspan=\"8\" halign=\"left\">Price</th>\n",
              "      <th colspan=\"8\" halign=\"left\">Year</th>\n",
              "    </tr>\n",
              "    <tr>\n",
              "      <th></th>\n",
              "      <th>count</th>\n",
              "      <th>mean</th>\n",
              "      <th>std</th>\n",
              "      <th>min</th>\n",
              "      <th>25%</th>\n",
              "      <th>50%</th>\n",
              "      <th>75%</th>\n",
              "      <th>max</th>\n",
              "      <th>count</th>\n",
              "      <th>mean</th>\n",
              "      <th>std</th>\n",
              "      <th>min</th>\n",
              "      <th>25%</th>\n",
              "      <th>50%</th>\n",
              "      <th>75%</th>\n",
              "      <th>max</th>\n",
              "      <th>count</th>\n",
              "      <th>mean</th>\n",
              "      <th>std</th>\n",
              "      <th>min</th>\n",
              "      <th>25%</th>\n",
              "      <th>50%</th>\n",
              "      <th>75%</th>\n",
              "      <th>max</th>\n",
              "    </tr>\n",
              "    <tr>\n",
              "      <th>User Rating</th>\n",
              "      <th></th>\n",
              "      <th></th>\n",
              "      <th></th>\n",
              "      <th></th>\n",
              "      <th></th>\n",
              "      <th></th>\n",
              "      <th></th>\n",
              "      <th></th>\n",
              "      <th></th>\n",
              "      <th></th>\n",
              "      <th></th>\n",
              "      <th></th>\n",
              "      <th></th>\n",
              "      <th></th>\n",
              "      <th></th>\n",
              "      <th></th>\n",
              "      <th></th>\n",
              "      <th></th>\n",
              "      <th></th>\n",
              "      <th></th>\n",
              "      <th></th>\n",
              "      <th></th>\n",
              "      <th></th>\n",
              "      <th></th>\n",
              "    </tr>\n",
              "  </thead>\n",
              "  <tbody>\n",
              "    <tr>\n",
              "      <th>3.3</th>\n",
              "      <td>1.0</td>\n",
              "      <td>9372.000000</td>\n",
              "      <td>NaN</td>\n",
              "      <td>9372.0</td>\n",
              "      <td>9372.00</td>\n",
              "      <td>9372.0</td>\n",
              "      <td>9372.00</td>\n",
              "      <td>9372.0</td>\n",
              "      <td>1.0</td>\n",
              "      <td>12.000000</td>\n",
              "      <td>NaN</td>\n",
              "      <td>12.0</td>\n",
              "      <td>12.00</td>\n",
              "      <td>12.0</td>\n",
              "      <td>12.00</td>\n",
              "      <td>12.0</td>\n",
              "      <td>1.0</td>\n",
              "      <td>2012.000000</td>\n",
              "      <td>NaN</td>\n",
              "      <td>2012.0</td>\n",
              "      <td>2012.00</td>\n",
              "      <td>2012.0</td>\n",
              "      <td>2012.00</td>\n",
              "      <td>2012.0</td>\n",
              "    </tr>\n",
              "    <tr>\n",
              "      <th>3.6</th>\n",
              "      <td>1.0</td>\n",
              "      <td>14982.000000</td>\n",
              "      <td>NaN</td>\n",
              "      <td>14982.0</td>\n",
              "      <td>14982.00</td>\n",
              "      <td>14982.0</td>\n",
              "      <td>14982.00</td>\n",
              "      <td>14982.0</td>\n",
              "      <td>1.0</td>\n",
              "      <td>19.000000</td>\n",
              "      <td>NaN</td>\n",
              "      <td>19.0</td>\n",
              "      <td>19.00</td>\n",
              "      <td>19.0</td>\n",
              "      <td>19.00</td>\n",
              "      <td>19.0</td>\n",
              "      <td>1.0</td>\n",
              "      <td>2015.000000</td>\n",
              "      <td>NaN</td>\n",
              "      <td>2015.0</td>\n",
              "      <td>2015.00</td>\n",
              "      <td>2015.0</td>\n",
              "      <td>2015.00</td>\n",
              "      <td>2015.0</td>\n",
              "    </tr>\n",
              "    <tr>\n",
              "      <th>3.8</th>\n",
              "      <td>2.0</td>\n",
              "      <td>47265.000000</td>\n",
              "      <td>0.000000</td>\n",
              "      <td>47265.0</td>\n",
              "      <td>47265.00</td>\n",
              "      <td>47265.0</td>\n",
              "      <td>47265.00</td>\n",
              "      <td>47265.0</td>\n",
              "      <td>2.0</td>\n",
              "      <td>14.000000</td>\n",
              "      <td>0.000000</td>\n",
              "      <td>14.0</td>\n",
              "      <td>14.00</td>\n",
              "      <td>14.0</td>\n",
              "      <td>14.00</td>\n",
              "      <td>14.0</td>\n",
              "      <td>2.0</td>\n",
              "      <td>2012.500000</td>\n",
              "      <td>0.707107</td>\n",
              "      <td>2012.0</td>\n",
              "      <td>2012.25</td>\n",
              "      <td>2012.5</td>\n",
              "      <td>2012.75</td>\n",
              "      <td>2013.0</td>\n",
              "    </tr>\n",
              "    <tr>\n",
              "      <th>3.9</th>\n",
              "      <td>3.0</td>\n",
              "      <td>24666.000000</td>\n",
              "      <td>15896.762312</td>\n",
              "      <td>6310.0</td>\n",
              "      <td>20077.00</td>\n",
              "      <td>33844.0</td>\n",
              "      <td>33844.00</td>\n",
              "      <td>33844.0</td>\n",
              "      <td>3.0</td>\n",
              "      <td>17.666667</td>\n",
              "      <td>4.041452</td>\n",
              "      <td>13.0</td>\n",
              "      <td>16.50</td>\n",
              "      <td>20.0</td>\n",
              "      <td>20.00</td>\n",
              "      <td>20.0</td>\n",
              "      <td>3.0</td>\n",
              "      <td>2013.333333</td>\n",
              "      <td>0.577350</td>\n",
              "      <td>2013.0</td>\n",
              "      <td>2013.00</td>\n",
              "      <td>2013.0</td>\n",
              "      <td>2013.50</td>\n",
              "      <td>2014.0</td>\n",
              "    </tr>\n",
              "    <tr>\n",
              "      <th>4.0</th>\n",
              "      <td>14.0</td>\n",
              "      <td>17376.142857</td>\n",
              "      <td>22226.614355</td>\n",
              "      <td>1859.0</td>\n",
              "      <td>5069.00</td>\n",
              "      <td>5069.0</td>\n",
              "      <td>19247.00</td>\n",
              "      <td>57271.0</td>\n",
              "      <td>14.0</td>\n",
              "      <td>14.642857</td>\n",
              "      <td>3.342204</td>\n",
              "      <td>9.0</td>\n",
              "      <td>11.25</td>\n",
              "      <td>17.0</td>\n",
              "      <td>17.00</td>\n",
              "      <td>17.0</td>\n",
              "      <td>14.0</td>\n",
              "      <td>2012.928571</td>\n",
              "      <td>2.585887</td>\n",
              "      <td>2009.0</td>\n",
              "      <td>2011.25</td>\n",
              "      <td>2013.0</td>\n",
              "      <td>2014.75</td>\n",
              "      <td>2017.0</td>\n",
              "    </tr>\n",
              "    <tr>\n",
              "      <th>4.1</th>\n",
              "      <td>6.0</td>\n",
              "      <td>32384.166667</td>\n",
              "      <td>38003.991187</td>\n",
              "      <td>1467.0</td>\n",
              "      <td>2085.25</td>\n",
              "      <td>15961.5</td>\n",
              "      <td>66997.25</td>\n",
              "      <td>79446.0</td>\n",
              "      <td>6.0</td>\n",
              "      <td>11.666667</td>\n",
              "      <td>4.760952</td>\n",
              "      <td>6.0</td>\n",
              "      <td>7.75</td>\n",
              "      <td>12.0</td>\n",
              "      <td>14.75</td>\n",
              "      <td>18.0</td>\n",
              "      <td>6.0</td>\n",
              "      <td>2013.000000</td>\n",
              "      <td>2.280351</td>\n",
              "      <td>2010.0</td>\n",
              "      <td>2011.50</td>\n",
              "      <td>2013.0</td>\n",
              "      <td>2014.50</td>\n",
              "      <td>2016.0</td>\n",
              "    </tr>\n",
              "    <tr>\n",
              "      <th>4.2</th>\n",
              "      <td>8.0</td>\n",
              "      <td>4283.500000</td>\n",
              "      <td>4620.537446</td>\n",
              "      <td>491.0</td>\n",
              "      <td>1562.25</td>\n",
              "      <td>1941.5</td>\n",
              "      <td>5576.00</td>\n",
              "      <td>13677.0</td>\n",
              "      <td>8.0</td>\n",
              "      <td>11.625000</td>\n",
              "      <td>4.749060</td>\n",
              "      <td>4.0</td>\n",
              "      <td>9.75</td>\n",
              "      <td>12.5</td>\n",
              "      <td>14.00</td>\n",
              "      <td>19.0</td>\n",
              "      <td>8.0</td>\n",
              "      <td>2011.250000</td>\n",
              "      <td>2.915476</td>\n",
              "      <td>2009.0</td>\n",
              "      <td>2009.75</td>\n",
              "      <td>2010.5</td>\n",
              "      <td>2011.25</td>\n",
              "      <td>2018.0</td>\n",
              "    </tr>\n",
              "    <tr>\n",
              "      <th>4.3</th>\n",
              "      <td>25.0</td>\n",
              "      <td>8362.880000</td>\n",
              "      <td>6570.520574</td>\n",
              "      <td>807.0</td>\n",
              "      <td>3523.00</td>\n",
              "      <td>6740.0</td>\n",
              "      <td>13061.00</td>\n",
              "      <td>29442.0</td>\n",
              "      <td>25.0</td>\n",
              "      <td>13.280000</td>\n",
              "      <td>6.736221</td>\n",
              "      <td>6.0</td>\n",
              "      <td>8.00</td>\n",
              "      <td>12.0</td>\n",
              "      <td>16.00</td>\n",
              "      <td>36.0</td>\n",
              "      <td>25.0</td>\n",
              "      <td>2013.680000</td>\n",
              "      <td>3.602314</td>\n",
              "      <td>2009.0</td>\n",
              "      <td>2011.00</td>\n",
              "      <td>2013.0</td>\n",
              "      <td>2017.00</td>\n",
              "      <td>2019.0</td>\n",
              "    </tr>\n",
              "    <tr>\n",
              "      <th>4.4</th>\n",
              "      <td>38.0</td>\n",
              "      <td>7038.973684</td>\n",
              "      <td>6244.774254</td>\n",
              "      <td>440.0</td>\n",
              "      <td>1904.00</td>\n",
              "      <td>5342.0</td>\n",
              "      <td>10559.00</td>\n",
              "      <td>25624.0</td>\n",
              "      <td>38.0</td>\n",
              "      <td>14.447368</td>\n",
              "      <td>11.233871</td>\n",
              "      <td>2.0</td>\n",
              "      <td>7.00</td>\n",
              "      <td>12.0</td>\n",
              "      <td>17.75</td>\n",
              "      <td>40.0</td>\n",
              "      <td>38.0</td>\n",
              "      <td>2012.815789</td>\n",
              "      <td>2.948708</td>\n",
              "      <td>2009.0</td>\n",
              "      <td>2011.00</td>\n",
              "      <td>2012.0</td>\n",
              "      <td>2014.75</td>\n",
              "      <td>2019.0</td>\n",
              "    </tr>\n",
              "    <tr>\n",
              "      <th>4.5</th>\n",
              "      <td>60.0</td>\n",
              "      <td>9231.116667</td>\n",
              "      <td>8086.518909</td>\n",
              "      <td>408.0</td>\n",
              "      <td>3346.25</td>\n",
              "      <td>7305.5</td>\n",
              "      <td>10917.75</td>\n",
              "      <td>27536.0</td>\n",
              "      <td>60.0</td>\n",
              "      <td>20.933333</td>\n",
              "      <td>20.964754</td>\n",
              "      <td>1.0</td>\n",
              "      <td>8.75</td>\n",
              "      <td>14.0</td>\n",
              "      <td>21.50</td>\n",
              "      <td>105.0</td>\n",
              "      <td>60.0</td>\n",
              "      <td>2013.416667</td>\n",
              "      <td>2.912810</td>\n",
              "      <td>2009.0</td>\n",
              "      <td>2011.00</td>\n",
              "      <td>2013.0</td>\n",
              "      <td>2015.25</td>\n",
              "      <td>2019.0</td>\n",
              "    </tr>\n",
              "    <tr>\n",
              "      <th>4.6</th>\n",
              "      <td>105.0</td>\n",
              "      <td>9260.038095</td>\n",
              "      <td>8149.838102</td>\n",
              "      <td>37.0</td>\n",
              "      <td>3207.00</td>\n",
              "      <td>6990.0</td>\n",
              "      <td>10927.00</td>\n",
              "      <td>36348.0</td>\n",
              "      <td>105.0</td>\n",
              "      <td>12.095238</td>\n",
              "      <td>6.584545</td>\n",
              "      <td>0.0</td>\n",
              "      <td>6.00</td>\n",
              "      <td>12.0</td>\n",
              "      <td>16.00</td>\n",
              "      <td>32.0</td>\n",
              "      <td>105.0</td>\n",
              "      <td>2013.314286</td>\n",
              "      <td>3.073817</td>\n",
              "      <td>2009.0</td>\n",
              "      <td>2011.00</td>\n",
              "      <td>2013.0</td>\n",
              "      <td>2016.00</td>\n",
              "      <td>2019.0</td>\n",
              "    </tr>\n",
              "    <tr>\n",
              "      <th>4.7</th>\n",
              "      <td>108.0</td>\n",
              "      <td>13660.925926</td>\n",
              "      <td>11555.175739</td>\n",
              "      <td>615.0</td>\n",
              "      <td>4725.00</td>\n",
              "      <td>9722.0</td>\n",
              "      <td>19708.00</td>\n",
              "      <td>50482.0</td>\n",
              "      <td>108.0</td>\n",
              "      <td>12.990741</td>\n",
              "      <td>10.044290</td>\n",
              "      <td>0.0</td>\n",
              "      <td>8.00</td>\n",
              "      <td>10.0</td>\n",
              "      <td>15.00</td>\n",
              "      <td>82.0</td>\n",
              "      <td>108.0</td>\n",
              "      <td>2013.833333</td>\n",
              "      <td>3.125117</td>\n",
              "      <td>2009.0</td>\n",
              "      <td>2011.00</td>\n",
              "      <td>2014.0</td>\n",
              "      <td>2016.00</td>\n",
              "      <td>2019.0</td>\n",
              "    </tr>\n",
              "    <tr>\n",
              "      <th>4.8</th>\n",
              "      <td>127.0</td>\n",
              "      <td>13840.110236</td>\n",
              "      <td>13107.696524</td>\n",
              "      <td>548.0</td>\n",
              "      <td>4937.50</td>\n",
              "      <td>9737.0</td>\n",
              "      <td>18613.00</td>\n",
              "      <td>87841.0</td>\n",
              "      <td>127.0</td>\n",
              "      <td>10.866142</td>\n",
              "      <td>8.075401</td>\n",
              "      <td>0.0</td>\n",
              "      <td>5.00</td>\n",
              "      <td>9.0</td>\n",
              "      <td>14.00</td>\n",
              "      <td>52.0</td>\n",
              "      <td>127.0</td>\n",
              "      <td>2014.929134</td>\n",
              "      <td>3.237138</td>\n",
              "      <td>2009.0</td>\n",
              "      <td>2013.00</td>\n",
              "      <td>2015.0</td>\n",
              "      <td>2018.00</td>\n",
              "      <td>2019.0</td>\n",
              "    </tr>\n",
              "    <tr>\n",
              "      <th>4.9</th>\n",
              "      <td>52.0</td>\n",
              "      <td>12957.423077</td>\n",
              "      <td>6898.999761</td>\n",
              "      <td>1884.0</td>\n",
              "      <td>7122.00</td>\n",
              "      <td>10966.5</td>\n",
              "      <td>19576.00</td>\n",
              "      <td>21834.0</td>\n",
              "      <td>52.0</td>\n",
              "      <td>10.288462</td>\n",
              "      <td>8.644020</td>\n",
              "      <td>0.0</td>\n",
              "      <td>5.75</td>\n",
              "      <td>8.0</td>\n",
              "      <td>10.00</td>\n",
              "      <td>54.0</td>\n",
              "      <td>52.0</td>\n",
              "      <td>2016.096154</td>\n",
              "      <td>2.361950</td>\n",
              "      <td>2011.0</td>\n",
              "      <td>2014.00</td>\n",
              "      <td>2016.0</td>\n",
              "      <td>2018.00</td>\n",
              "      <td>2019.0</td>\n",
              "    </tr>\n",
              "  </tbody>\n",
              "</table>\n",
              "</div>"
            ],
            "text/plain": [
              "            Reviews                                                          \\\n",
              "              count          mean           std      min       25%      50%   \n",
              "User Rating                                                                   \n",
              "3.3             1.0   9372.000000           NaN   9372.0   9372.00   9372.0   \n",
              "3.6             1.0  14982.000000           NaN  14982.0  14982.00  14982.0   \n",
              "3.8             2.0  47265.000000      0.000000  47265.0  47265.00  47265.0   \n",
              "3.9             3.0  24666.000000  15896.762312   6310.0  20077.00  33844.0   \n",
              "4.0            14.0  17376.142857  22226.614355   1859.0   5069.00   5069.0   \n",
              "4.1             6.0  32384.166667  38003.991187   1467.0   2085.25  15961.5   \n",
              "4.2             8.0   4283.500000   4620.537446    491.0   1562.25   1941.5   \n",
              "4.3            25.0   8362.880000   6570.520574    807.0   3523.00   6740.0   \n",
              "4.4            38.0   7038.973684   6244.774254    440.0   1904.00   5342.0   \n",
              "4.5            60.0   9231.116667   8086.518909    408.0   3346.25   7305.5   \n",
              "4.6           105.0   9260.038095   8149.838102     37.0   3207.00   6990.0   \n",
              "4.7           108.0  13660.925926  11555.175739    615.0   4725.00   9722.0   \n",
              "4.8           127.0  13840.110236  13107.696524    548.0   4937.50   9737.0   \n",
              "4.9            52.0  12957.423077   6898.999761   1884.0   7122.00  10966.5   \n",
              "\n",
              "                                Price                                     \\\n",
              "                  75%      max  count       mean        std   min    25%   \n",
              "User Rating                                                                \n",
              "3.3           9372.00   9372.0    1.0  12.000000        NaN  12.0  12.00   \n",
              "3.6          14982.00  14982.0    1.0  19.000000        NaN  19.0  19.00   \n",
              "3.8          47265.00  47265.0    2.0  14.000000   0.000000  14.0  14.00   \n",
              "3.9          33844.00  33844.0    3.0  17.666667   4.041452  13.0  16.50   \n",
              "4.0          19247.00  57271.0   14.0  14.642857   3.342204   9.0  11.25   \n",
              "4.1          66997.25  79446.0    6.0  11.666667   4.760952   6.0   7.75   \n",
              "4.2           5576.00  13677.0    8.0  11.625000   4.749060   4.0   9.75   \n",
              "4.3          13061.00  29442.0   25.0  13.280000   6.736221   6.0   8.00   \n",
              "4.4          10559.00  25624.0   38.0  14.447368  11.233871   2.0   7.00   \n",
              "4.5          10917.75  27536.0   60.0  20.933333  20.964754   1.0   8.75   \n",
              "4.6          10927.00  36348.0  105.0  12.095238   6.584545   0.0   6.00   \n",
              "4.7          19708.00  50482.0  108.0  12.990741  10.044290   0.0   8.00   \n",
              "4.8          18613.00  87841.0  127.0  10.866142   8.075401   0.0   5.00   \n",
              "4.9          19576.00  21834.0   52.0  10.288462   8.644020   0.0   5.75   \n",
              "\n",
              "                                  Year                                 \\\n",
              "              50%    75%    max  count         mean       std     min   \n",
              "User Rating                                                             \n",
              "3.3          12.0  12.00   12.0    1.0  2012.000000       NaN  2012.0   \n",
              "3.6          19.0  19.00   19.0    1.0  2015.000000       NaN  2015.0   \n",
              "3.8          14.0  14.00   14.0    2.0  2012.500000  0.707107  2012.0   \n",
              "3.9          20.0  20.00   20.0    3.0  2013.333333  0.577350  2013.0   \n",
              "4.0          17.0  17.00   17.0   14.0  2012.928571  2.585887  2009.0   \n",
              "4.1          12.0  14.75   18.0    6.0  2013.000000  2.280351  2010.0   \n",
              "4.2          12.5  14.00   19.0    8.0  2011.250000  2.915476  2009.0   \n",
              "4.3          12.0  16.00   36.0   25.0  2013.680000  3.602314  2009.0   \n",
              "4.4          12.0  17.75   40.0   38.0  2012.815789  2.948708  2009.0   \n",
              "4.5          14.0  21.50  105.0   60.0  2013.416667  2.912810  2009.0   \n",
              "4.6          12.0  16.00   32.0  105.0  2013.314286  3.073817  2009.0   \n",
              "4.7          10.0  15.00   82.0  108.0  2013.833333  3.125117  2009.0   \n",
              "4.8           9.0  14.00   52.0  127.0  2014.929134  3.237138  2009.0   \n",
              "4.9           8.0  10.00   54.0   52.0  2016.096154  2.361950  2011.0   \n",
              "\n",
              "                                               \n",
              "                 25%     50%      75%     max  \n",
              "User Rating                                    \n",
              "3.3          2012.00  2012.0  2012.00  2012.0  \n",
              "3.6          2015.00  2015.0  2015.00  2015.0  \n",
              "3.8          2012.25  2012.5  2012.75  2013.0  \n",
              "3.9          2013.00  2013.0  2013.50  2014.0  \n",
              "4.0          2011.25  2013.0  2014.75  2017.0  \n",
              "4.1          2011.50  2013.0  2014.50  2016.0  \n",
              "4.2          2009.75  2010.5  2011.25  2018.0  \n",
              "4.3          2011.00  2013.0  2017.00  2019.0  \n",
              "4.4          2011.00  2012.0  2014.75  2019.0  \n",
              "4.5          2011.00  2013.0  2015.25  2019.0  \n",
              "4.6          2011.00  2013.0  2016.00  2019.0  \n",
              "4.7          2011.00  2014.0  2016.00  2019.0  \n",
              "4.8          2013.00  2015.0  2018.00  2019.0  \n",
              "4.9          2014.00  2016.0  2018.00  2019.0  "
            ]
          },
          "metadata": {
            "tags": []
          },
          "execution_count": 12
        }
      ]
    },
    {
      "cell_type": "markdown",
      "metadata": {
        "id": "pPhpH5GV5TwY"
      },
      "source": [
        "- **Corellation Mapping**"
      ]
    },
    {
      "cell_type": "code",
      "metadata": {
        "colab": {
          "base_uri": "https://localhost:8080/",
          "height": 553
        },
        "id": "l53J3QBBo4uZ",
        "outputId": "c7e1ca26-2dae-4f2e-f4a4-269cbf1dead3"
      },
      "source": [
        "f, ax = plt.subplots(figsize=(11, 9))\n",
        "cmap = sns.diverging_palette(230, 20, as_cmap=True)\n",
        "\n",
        "sns.heatmap(df.corr(),annot=True, cmap=cmap, vmax=.3, center=0,\n",
        "            square=True, linewidths=.5, cbar_kws={\"shrink\": .5})\n",
        "plt.title(\"Correlation Matrix Amazon Best\",fontweight=\"bold\")\n",
        "plt.show()"
      ],
      "execution_count": null,
      "outputs": [
        {
          "output_type": "display_data",
          "data": {
            "image/png": "[encoded data removed]",
            "text/plain": [
              "<Figure size 792x648 with 2 Axes>"
            ]
          },
          "metadata": {
            "tags": [],
            "needs_background": "light"
          }
        }
      ]
    },
    {
      "cell_type": "markdown",
      "metadata": {
        "id": "P9yH3IKNzEqO"
      },
      "source": [
        "Dilihat dari Corelation Mapping diatas dapat disimpulkan bahwa yang mempunyai: \n",
        "\n",
        "*   Korelasi positif yaitu kolom \"Reviews\" dan \"Year\", \"User Rating dan Year\".\n",
        "*   Korelasi negatif yaitu \"Price dan User Rating\", \"Price Year dan Year\", \"Price dan Reviews\".\n",
        "\n",
        " \n"
      ]
    },
    {
      "cell_type": "markdown",
      "metadata": {
        "id": "vJXwfCdK2dsa"
      },
      "source": [
        "\n",
        "\n",
        "> **Evaluasi Model**\n",
        "\n"
      ]
    },
    {
      "cell_type": "markdown",
      "metadata": {
        "id": "T22pUwtvHWnX"
      },
      "source": [
        "- **Analisa Top 20 Buku Dengan Jumlah Review Terbanyak**\n",
        "\n"
      ]
    },
    {
      "cell_type": "code",
      "metadata": {
        "colab": {
          "base_uri": "https://localhost:8080/",
          "height": 725
        },
        "id": "ndADohjHHO8m",
        "outputId": "3c5a4e99-edd5-4613-eb59-60ca0b75383b"
      },
      "source": [
        "df[[\"Name\",\"Reviews\"]].nlargest(20,\"Reviews\").plot.bar(x=\"Name\",y=\"Reviews\",width=0.4,)#'vertical', 'horizontal',color=color\n",
        "plt.title(\"Top 20 Books with highest number of Reviews\",fontsize=20)\n",
        "plt.xlabel(\"Name of the Books\",fontsize=15)\n",
        "plt.ylabel(\"No.of Reviews\",fontsize=15)\n",
        "plt.show()"
      ],
      "execution_count": null,
      "outputs": [
        {
          "output_type": "display_data",
          "data": {
            "image/png": "[encoded data removed]",
            "text/plain": [
              "<Figure size 432x288 with 1 Axes>"
            ]
          },
          "metadata": {
            "tags": [],
            "needs_background": "light"
          }
        }
      ]
    },
    {
      "cell_type": "markdown",
      "metadata": {
        "id": "thTdbhriImFf"
      },
      "source": [
        "Berdasarkan grafik diatas kita bisa mengetahui top 20 buku yang paling banyak direview oleh pengguna amazon.com"
      ]
    },
    {
      "cell_type": "markdown",
      "metadata": {
        "id": "2MH4GQFoRMMj"
      },
      "source": [
        "- **Menganalisa kategori buku yang mempunyai review tertinggi**"
      ]
    },
    {
      "cell_type": "code",
      "metadata": {
        "colab": {
          "base_uri": "https://localhost:8080/",
          "height": 78
        },
        "id": "IBW0AwMiRS1b",
        "outputId": "ce112210-b0e6-45b6-dee6-3c15d0e0de22"
      },
      "source": [
        "df[df.Reviews == max(df.Reviews)]"
      ],
      "execution_count": null,
      "outputs": [
        {
          "output_type": "execute_result",
          "data": {
            "text/html": [
              "<div>\n",
              "<style scoped>\n",
              "    .dataframe tbody tr th:only-of-type {\n",
              "        vertical-align: middle;\n",
              "    }\n",
              "\n",
              "    .dataframe tbody tr th {\n",
              "        vertical-align: top;\n",
              "    }\n",
              "\n",
              "    .dataframe thead th {\n",
              "        text-align: right;\n",
              "    }\n",
              "</style>\n",
              "<table border=\"1\" class=\"dataframe\">\n",
              "  <thead>\n",
              "    <tr style=\"text-align: right;\">\n",
              "      <th></th>\n",
              "      <th>Name</th>\n",
              "      <th>Author</th>\n",
              "      <th>User Rating</th>\n",
              "      <th>Reviews</th>\n",
              "      <th>Price</th>\n",
              "      <th>Year</th>\n",
              "      <th>Genre</th>\n",
              "    </tr>\n",
              "  </thead>\n",
              "  <tbody>\n",
              "    <tr>\n",
              "      <th>534</th>\n",
              "      <td>Where the Crawdads Sing</td>\n",
              "      <td>Delia Owens</td>\n",
              "      <td>4.8</td>\n",
              "      <td>87841</td>\n",
              "      <td>15</td>\n",
              "      <td>2019</td>\n",
              "      <td>Fiction</td>\n",
              "    </tr>\n",
              "  </tbody>\n",
              "</table>\n",
              "</div>"
            ],
            "text/plain": [
              "                        Name       Author  User Rating  Reviews  Price  Year  \\\n",
              "534  Where the Crawdads Sing  Delia Owens          4.8    87841     15  2019   \n",
              "\n",
              "       Genre  \n",
              "534  Fiction  "
            ]
          },
          "metadata": {
            "tags": []
          },
          "execution_count": 63
        }
      ]
    },
    {
      "cell_type": "markdown",
      "metadata": {
        "id": "TIFCipsxRrMa"
      },
      "source": [
        "Berdasarkan data diatas maka buku yang berjudul \"Where the Crawdads Sing\" memiliki jumlah review paling banyak yakni sebanyak 87841 review dari pembaca di situs amazon.com"
      ]
    },
    {
      "cell_type": "markdown",
      "metadata": {
        "id": "44hAiWUC5RPe"
      },
      "source": [
        "- **Menganalisa kategori buku yang mempunyai review terendah**"
      ]
    },
    {
      "cell_type": "code",
      "metadata": {
        "colab": {
          "base_uri": "https://localhost:8080/",
          "height": 113
        },
        "id": "s_I2kW0u6ZEf",
        "outputId": "f936b543-37a2-42ce-dab6-c7133d8f9ffb"
      },
      "source": [
        "df[df.Reviews == min(df.Reviews)]"
      ],
      "execution_count": null,
      "outputs": [
        {
          "output_type": "execute_result",
          "data": {
            "text/html": [
              "<div>\n",
              "<style scoped>\n",
              "    .dataframe tbody tr th:only-of-type {\n",
              "        vertical-align: middle;\n",
              "    }\n",
              "\n",
              "    .dataframe tbody tr th {\n",
              "        vertical-align: top;\n",
              "    }\n",
              "\n",
              "    .dataframe thead th {\n",
              "        text-align: right;\n",
              "    }\n",
              "</style>\n",
              "<table border=\"1\" class=\"dataframe\">\n",
              "  <thead>\n",
              "    <tr style=\"text-align: right;\">\n",
              "      <th></th>\n",
              "      <th>Name</th>\n",
              "      <th>Author</th>\n",
              "      <th>User Rating</th>\n",
              "      <th>Reviews</th>\n",
              "      <th>Price</th>\n",
              "      <th>Year</th>\n",
              "      <th>Genre</th>\n",
              "    </tr>\n",
              "  </thead>\n",
              "  <tbody>\n",
              "    <tr>\n",
              "      <th>78</th>\n",
              "      <td>Divine Soul Mind Body Healing and Transmission...</td>\n",
              "      <td>Zhi Gang Sha</td>\n",
              "      <td>4.6</td>\n",
              "      <td>37</td>\n",
              "      <td>6</td>\n",
              "      <td>2009</td>\n",
              "      <td>Non Fiction</td>\n",
              "    </tr>\n",
              "  </tbody>\n",
              "</table>\n",
              "</div>"
            ],
            "text/plain": [
              "                                                 Name        Author  \\\n",
              "78  Divine Soul Mind Body Healing and Transmission...  Zhi Gang Sha   \n",
              "\n",
              "    User Rating  Reviews  Price  Year        Genre  \n",
              "78          4.6       37      6  2009  Non Fiction  "
            ]
          },
          "metadata": {
            "tags": []
          },
          "execution_count": 50
        }
      ]
    },
    {
      "cell_type": "markdown",
      "metadata": {
        "id": "n8Nt2XouBnVm"
      },
      "source": [
        "Berdasarkan data diatas maka buku yang berjudul \"Divine Mind Body Healling and Transmission\" memiliki jumlah review paling sedikit yakni sebanyak 37 review dari pembaca di situs amazon.com"
      ]
    },
    {
      "cell_type": "markdown",
      "metadata": {
        "id": "vj3Ppi6pB-sq"
      },
      "source": [
        "- **Melihat Jumlah Buku Berdasarkan Genre**"
      ]
    },
    {
      "cell_type": "code",
      "metadata": {
        "colab": {
          "base_uri": "https://localhost:8080/"
        },
        "id": "nVZPZt3TEtXQ",
        "outputId": "70542354-a982-40a8-ad9b-9178b49c1f81"
      },
      "source": [
        "df[\"Genre\"].value_counts()"
      ],
      "execution_count": null,
      "outputs": [
        {
          "output_type": "execute_result",
          "data": {
            "text/plain": [
              "Non Fiction    310\n",
              "Fiction        240\n",
              "Name: Genre, dtype: int64"
            ]
          },
          "metadata": {
            "tags": []
          },
          "execution_count": 52
        }
      ]
    },
    {
      "cell_type": "markdown",
      "metadata": {
        "id": "xop6ewbIGDT-"
      },
      "source": [
        "Dapat kita lihat bahwa jumlah buku dengan genre non fiction sejumlah 310 dan jumlah buku dengan genre fiction sejumlah 240 "
      ]
    },
    {
      "cell_type": "markdown",
      "metadata": {
        "id": "M30X1cLtLFPw"
      },
      "source": [
        "- **Analisa kategori buku yang termasuk Top 50 dengan User Rating Tertinggi**"
      ]
    },
    {
      "cell_type": "code",
      "metadata": {
        "colab": {
          "base_uri": "https://localhost:8080/",
          "height": 1000
        },
        "id": "czjIeFWuKV0V",
        "outputId": "658ba057-5325-451b-9471-5ee61de30052"
      },
      "source": [
        "df[[\"Name\",\"User Rating\",\"Author\",\"Genre\"]].nlargest(50,\"User Rating\")"
      ],
      "execution_count": null,
      "outputs": [
        {
          "output_type": "execute_result",
          "data": {
            "text/html": [
              "<div>\n",
              "<style scoped>\n",
              "    .dataframe tbody tr th:only-of-type {\n",
              "        vertical-align: middle;\n",
              "    }\n",
              "\n",
              "    .dataframe tbody tr th {\n",
              "        vertical-align: top;\n",
              "    }\n",
              "\n",
              "    .dataframe thead th {\n",
              "        text-align: right;\n",
              "    }\n",
              "</style>\n",
              "<table border=\"1\" class=\"dataframe\">\n",
              "  <thead>\n",
              "    <tr style=\"text-align: right;\">\n",
              "      <th></th>\n",
              "      <th>Name</th>\n",
              "      <th>User Rating</th>\n",
              "      <th>Author</th>\n",
              "      <th>Genre</th>\n",
              "    </tr>\n",
              "  </thead>\n",
              "  <tbody>\n",
              "    <tr>\n",
              "      <th>40</th>\n",
              "      <td>Brown Bear, Brown Bear, What Do You See?</td>\n",
              "      <td>4.9</td>\n",
              "      <td>Bill Martin Jr.</td>\n",
              "      <td>Fiction</td>\n",
              "    </tr>\n",
              "    <tr>\n",
              "      <th>41</th>\n",
              "      <td>Brown Bear, Brown Bear, What Do You See?</td>\n",
              "      <td>4.9</td>\n",
              "      <td>Bill Martin Jr.</td>\n",
              "      <td>Fiction</td>\n",
              "    </tr>\n",
              "    <tr>\n",
              "      <th>81</th>\n",
              "      <td>Dog Man and Cat Kid: From the Creator of Capta...</td>\n",
              "      <td>4.9</td>\n",
              "      <td>Dav Pilkey</td>\n",
              "      <td>Fiction</td>\n",
              "    </tr>\n",
              "    <tr>\n",
              "      <th>82</th>\n",
              "      <td>Dog Man: A Tale of Two Kitties: From the Creat...</td>\n",
              "      <td>4.9</td>\n",
              "      <td>Dav Pilkey</td>\n",
              "      <td>Fiction</td>\n",
              "    </tr>\n",
              "    <tr>\n",
              "      <th>83</th>\n",
              "      <td>Dog Man: Brawl of the Wild: From the Creator o...</td>\n",
              "      <td>4.9</td>\n",
              "      <td>Dav Pilkey</td>\n",
              "      <td>Fiction</td>\n",
              "    </tr>\n",
              "    <tr>\n",
              "      <th>84</th>\n",
              "      <td>Dog Man: Brawl of the Wild: From the Creator o...</td>\n",
              "      <td>4.9</td>\n",
              "      <td>Dav Pilkey</td>\n",
              "      <td>Fiction</td>\n",
              "    </tr>\n",
              "    <tr>\n",
              "      <th>85</th>\n",
              "      <td>Dog Man: Fetch-22: From the Creator of Captain...</td>\n",
              "      <td>4.9</td>\n",
              "      <td>Dav Pilkey</td>\n",
              "      <td>Fiction</td>\n",
              "    </tr>\n",
              "    <tr>\n",
              "      <th>86</th>\n",
              "      <td>Dog Man: For Whom the Ball Rolls: From the Cre...</td>\n",
              "      <td>4.9</td>\n",
              "      <td>Dav Pilkey</td>\n",
              "      <td>Fiction</td>\n",
              "    </tr>\n",
              "    <tr>\n",
              "      <th>87</th>\n",
              "      <td>Dog Man: Lord of the Fleas: From the Creator o...</td>\n",
              "      <td>4.9</td>\n",
              "      <td>Dav Pilkey</td>\n",
              "      <td>Fiction</td>\n",
              "    </tr>\n",
              "    <tr>\n",
              "      <th>146</th>\n",
              "      <td>Goodnight, Goodnight Construction Site (Hardco...</td>\n",
              "      <td>4.9</td>\n",
              "      <td>Sherri Duskey Rinker</td>\n",
              "      <td>Fiction</td>\n",
              "    </tr>\n",
              "    <tr>\n",
              "      <th>147</th>\n",
              "      <td>Goodnight, Goodnight Construction Site (Hardco...</td>\n",
              "      <td>4.9</td>\n",
              "      <td>Sherri Duskey Rinker</td>\n",
              "      <td>Fiction</td>\n",
              "    </tr>\n",
              "    <tr>\n",
              "      <th>151</th>\n",
              "      <td>Hamilton: The Revolution</td>\n",
              "      <td>4.9</td>\n",
              "      <td>Lin-Manuel Miranda</td>\n",
              "      <td>Non Fiction</td>\n",
              "    </tr>\n",
              "    <tr>\n",
              "      <th>153</th>\n",
              "      <td>Harry Potter and the Chamber of Secrets: The I...</td>\n",
              "      <td>4.9</td>\n",
              "      <td>J.K. Rowling</td>\n",
              "      <td>Fiction</td>\n",
              "    </tr>\n",
              "    <tr>\n",
              "      <th>155</th>\n",
              "      <td>Harry Potter and the Goblet of Fire: The Illus...</td>\n",
              "      <td>4.9</td>\n",
              "      <td>J. K. Rowling</td>\n",
              "      <td>Fiction</td>\n",
              "    </tr>\n",
              "    <tr>\n",
              "      <th>156</th>\n",
              "      <td>Harry Potter and the Prisoner of Azkaban: The ...</td>\n",
              "      <td>4.9</td>\n",
              "      <td>J.K. Rowling</td>\n",
              "      <td>Fiction</td>\n",
              "    </tr>\n",
              "    <tr>\n",
              "      <th>157</th>\n",
              "      <td>Harry Potter and the Sorcerer's Stone: The Ill...</td>\n",
              "      <td>4.9</td>\n",
              "      <td>J.K. Rowling</td>\n",
              "      <td>Fiction</td>\n",
              "    </tr>\n",
              "    <tr>\n",
              "      <th>174</th>\n",
              "      <td>Humans of New York : Stories</td>\n",
              "      <td>4.9</td>\n",
              "      <td>Brandon Stanton</td>\n",
              "      <td>Non Fiction</td>\n",
              "    </tr>\n",
              "    <tr>\n",
              "      <th>187</th>\n",
              "      <td>Jesus Calling: Enjoying Peace in His Presence ...</td>\n",
              "      <td>4.9</td>\n",
              "      <td>Sarah Young</td>\n",
              "      <td>Non Fiction</td>\n",
              "    </tr>\n",
              "    <tr>\n",
              "      <th>188</th>\n",
              "      <td>Jesus Calling: Enjoying Peace in His Presence ...</td>\n",
              "      <td>4.9</td>\n",
              "      <td>Sarah Young</td>\n",
              "      <td>Non Fiction</td>\n",
              "    </tr>\n",
              "    <tr>\n",
              "      <th>189</th>\n",
              "      <td>Jesus Calling: Enjoying Peace in His Presence ...</td>\n",
              "      <td>4.9</td>\n",
              "      <td>Sarah Young</td>\n",
              "      <td>Non Fiction</td>\n",
              "    </tr>\n",
              "    <tr>\n",
              "      <th>190</th>\n",
              "      <td>Jesus Calling: Enjoying Peace in His Presence ...</td>\n",
              "      <td>4.9</td>\n",
              "      <td>Sarah Young</td>\n",
              "      <td>Non Fiction</td>\n",
              "    </tr>\n",
              "    <tr>\n",
              "      <th>191</th>\n",
              "      <td>Jesus Calling: Enjoying Peace in His Presence ...</td>\n",
              "      <td>4.9</td>\n",
              "      <td>Sarah Young</td>\n",
              "      <td>Non Fiction</td>\n",
              "    </tr>\n",
              "    <tr>\n",
              "      <th>192</th>\n",
              "      <td>Jesus Calling: Enjoying Peace in His Presence ...</td>\n",
              "      <td>4.9</td>\n",
              "      <td>Sarah Young</td>\n",
              "      <td>Non Fiction</td>\n",
              "    </tr>\n",
              "    <tr>\n",
              "      <th>207</th>\n",
              "      <td>Last Week Tonight with John Oliver Presents A ...</td>\n",
              "      <td>4.9</td>\n",
              "      <td>Jill Twiss</td>\n",
              "      <td>Fiction</td>\n",
              "    </tr>\n",
              "    <tr>\n",
              "      <th>219</th>\n",
              "      <td>Little Blue Truck</td>\n",
              "      <td>4.9</td>\n",
              "      <td>Alice Schertle</td>\n",
              "      <td>Fiction</td>\n",
              "    </tr>\n",
              "    <tr>\n",
              "      <th>244</th>\n",
              "      <td>Obama: An Intimate Portrait</td>\n",
              "      <td>4.9</td>\n",
              "      <td>Pete Souza</td>\n",
              "      <td>Non Fiction</td>\n",
              "    </tr>\n",
              "    <tr>\n",
              "      <th>245</th>\n",
              "      <td>Oh, the Places You'll Go!</td>\n",
              "      <td>4.9</td>\n",
              "      <td>Dr. Seuss</td>\n",
              "      <td>Fiction</td>\n",
              "    </tr>\n",
              "    <tr>\n",
              "      <th>246</th>\n",
              "      <td>Oh, the Places You'll Go!</td>\n",
              "      <td>4.9</td>\n",
              "      <td>Dr. Seuss</td>\n",
              "      <td>Fiction</td>\n",
              "    </tr>\n",
              "    <tr>\n",
              "      <th>247</th>\n",
              "      <td>Oh, the Places You'll Go!</td>\n",
              "      <td>4.9</td>\n",
              "      <td>Dr. Seuss</td>\n",
              "      <td>Fiction</td>\n",
              "    </tr>\n",
              "    <tr>\n",
              "      <th>248</th>\n",
              "      <td>Oh, the Places You'll Go!</td>\n",
              "      <td>4.9</td>\n",
              "      <td>Dr. Seuss</td>\n",
              "      <td>Fiction</td>\n",
              "    </tr>\n",
              "    <tr>\n",
              "      <th>249</th>\n",
              "      <td>Oh, the Places You'll Go!</td>\n",
              "      <td>4.9</td>\n",
              "      <td>Dr. Seuss</td>\n",
              "      <td>Fiction</td>\n",
              "    </tr>\n",
              "    <tr>\n",
              "      <th>250</th>\n",
              "      <td>Oh, the Places You'll Go!</td>\n",
              "      <td>4.9</td>\n",
              "      <td>Dr. Seuss</td>\n",
              "      <td>Fiction</td>\n",
              "    </tr>\n",
              "    <tr>\n",
              "      <th>251</th>\n",
              "      <td>Oh, the Places You'll Go!</td>\n",
              "      <td>4.9</td>\n",
              "      <td>Dr. Seuss</td>\n",
              "      <td>Fiction</td>\n",
              "    </tr>\n",
              "    <tr>\n",
              "      <th>252</th>\n",
              "      <td>Oh, the Places You'll Go!</td>\n",
              "      <td>4.9</td>\n",
              "      <td>Dr. Seuss</td>\n",
              "      <td>Fiction</td>\n",
              "    </tr>\n",
              "    <tr>\n",
              "      <th>288</th>\n",
              "      <td>Rush Revere and the Brave Pilgrims: Time-Trave...</td>\n",
              "      <td>4.9</td>\n",
              "      <td>Rush Limbaugh</td>\n",
              "      <td>Fiction</td>\n",
              "    </tr>\n",
              "    <tr>\n",
              "      <th>289</th>\n",
              "      <td>Rush Revere and the First Patriots: Time-Trave...</td>\n",
              "      <td>4.9</td>\n",
              "      <td>Rush Limbaugh</td>\n",
              "      <td>Fiction</td>\n",
              "    </tr>\n",
              "    <tr>\n",
              "      <th>303</th>\n",
              "      <td>Strange Planet (Strange Planet Series)</td>\n",
              "      <td>4.9</td>\n",
              "      <td>Nathan W. Pyle</td>\n",
              "      <td>Fiction</td>\n",
              "    </tr>\n",
              "    <tr>\n",
              "      <th>420</th>\n",
              "      <td>The Legend of Zelda: Hyrule Historia</td>\n",
              "      <td>4.9</td>\n",
              "      <td>Patrick Thorpe</td>\n",
              "      <td>Fiction</td>\n",
              "    </tr>\n",
              "    <tr>\n",
              "      <th>431</th>\n",
              "      <td>The Magnolia Story</td>\n",
              "      <td>4.9</td>\n",
              "      <td>Chip Gaines</td>\n",
              "      <td>Non Fiction</td>\n",
              "    </tr>\n",
              "    <tr>\n",
              "      <th>476</th>\n",
              "      <td>The Very Hungry Caterpillar</td>\n",
              "      <td>4.9</td>\n",
              "      <td>Eric Carle</td>\n",
              "      <td>Fiction</td>\n",
              "    </tr>\n",
              "    <tr>\n",
              "      <th>477</th>\n",
              "      <td>The Very Hungry Caterpillar</td>\n",
              "      <td>4.9</td>\n",
              "      <td>Eric Carle</td>\n",
              "      <td>Fiction</td>\n",
              "    </tr>\n",
              "    <tr>\n",
              "      <th>478</th>\n",
              "      <td>The Very Hungry Caterpillar</td>\n",
              "      <td>4.9</td>\n",
              "      <td>Eric Carle</td>\n",
              "      <td>Fiction</td>\n",
              "    </tr>\n",
              "    <tr>\n",
              "      <th>479</th>\n",
              "      <td>The Very Hungry Caterpillar</td>\n",
              "      <td>4.9</td>\n",
              "      <td>Eric Carle</td>\n",
              "      <td>Fiction</td>\n",
              "    </tr>\n",
              "    <tr>\n",
              "      <th>480</th>\n",
              "      <td>The Very Hungry Caterpillar</td>\n",
              "      <td>4.9</td>\n",
              "      <td>Eric Carle</td>\n",
              "      <td>Fiction</td>\n",
              "    </tr>\n",
              "    <tr>\n",
              "      <th>481</th>\n",
              "      <td>The Very Hungry Caterpillar</td>\n",
              "      <td>4.9</td>\n",
              "      <td>Eric Carle</td>\n",
              "      <td>Fiction</td>\n",
              "    </tr>\n",
              "    <tr>\n",
              "      <th>482</th>\n",
              "      <td>The Very Hungry Caterpillar</td>\n",
              "      <td>4.9</td>\n",
              "      <td>Eric Carle</td>\n",
              "      <td>Fiction</td>\n",
              "    </tr>\n",
              "    <tr>\n",
              "      <th>486</th>\n",
              "      <td>The Wonderful Things You Will Be</td>\n",
              "      <td>4.9</td>\n",
              "      <td>Emily Winfield Martin</td>\n",
              "      <td>Fiction</td>\n",
              "    </tr>\n",
              "    <tr>\n",
              "      <th>487</th>\n",
              "      <td>The Wonderful Things You Will Be</td>\n",
              "      <td>4.9</td>\n",
              "      <td>Emily Winfield Martin</td>\n",
              "      <td>Fiction</td>\n",
              "    </tr>\n",
              "    <tr>\n",
              "      <th>488</th>\n",
              "      <td>The Wonderful Things You Will Be</td>\n",
              "      <td>4.9</td>\n",
              "      <td>Emily Winfield Martin</td>\n",
              "      <td>Fiction</td>\n",
              "    </tr>\n",
              "    <tr>\n",
              "      <th>489</th>\n",
              "      <td>The Wonderful Things You Will Be</td>\n",
              "      <td>4.9</td>\n",
              "      <td>Emily Winfield Martin</td>\n",
              "      <td>Fiction</td>\n",
              "    </tr>\n",
              "  </tbody>\n",
              "</table>\n",
              "</div>"
            ],
            "text/plain": [
              "                                                  Name  User Rating  \\\n",
              "40            Brown Bear, Brown Bear, What Do You See?          4.9   \n",
              "41            Brown Bear, Brown Bear, What Do You See?          4.9   \n",
              "81   Dog Man and Cat Kid: From the Creator of Capta...          4.9   \n",
              "82   Dog Man: A Tale of Two Kitties: From the Creat...          4.9   \n",
              "83   Dog Man: Brawl of the Wild: From the Creator o...          4.9   \n",
              "84   Dog Man: Brawl of the Wild: From the Creator o...          4.9   \n",
              "85   Dog Man: Fetch-22: From the Creator of Captain...          4.9   \n",
              "86   Dog Man: For Whom the Ball Rolls: From the Cre...          4.9   \n",
              "87   Dog Man: Lord of the Fleas: From the Creator o...          4.9   \n",
              "146  Goodnight, Goodnight Construction Site (Hardco...          4.9   \n",
              "147  Goodnight, Goodnight Construction Site (Hardco...          4.9   \n",
              "151                           Hamilton: The Revolution          4.9   \n",
              "153  Harry Potter and the Chamber of Secrets: The I...          4.9   \n",
              "155  Harry Potter and the Goblet of Fire: The Illus...          4.9   \n",
              "156  Harry Potter and the Prisoner of Azkaban: The ...          4.9   \n",
              "157  Harry Potter and the Sorcerer's Stone: The Ill...          4.9   \n",
              "174                       Humans of New York : Stories          4.9   \n",
              "187  Jesus Calling: Enjoying Peace in His Presence ...          4.9   \n",
              "188  Jesus Calling: Enjoying Peace in His Presence ...          4.9   \n",
              "189  Jesus Calling: Enjoying Peace in His Presence ...          4.9   \n",
              "190  Jesus Calling: Enjoying Peace in His Presence ...          4.9   \n",
              "191  Jesus Calling: Enjoying Peace in His Presence ...          4.9   \n",
              "192  Jesus Calling: Enjoying Peace in His Presence ...          4.9   \n",
              "207  Last Week Tonight with John Oliver Presents A ...          4.9   \n",
              "219                                  Little Blue Truck          4.9   \n",
              "244                        Obama: An Intimate Portrait          4.9   \n",
              "245                          Oh, the Places You'll Go!          4.9   \n",
              "246                          Oh, the Places You'll Go!          4.9   \n",
              "247                          Oh, the Places You'll Go!          4.9   \n",
              "248                          Oh, the Places You'll Go!          4.9   \n",
              "249                          Oh, the Places You'll Go!          4.9   \n",
              "250                          Oh, the Places You'll Go!          4.9   \n",
              "251                          Oh, the Places You'll Go!          4.9   \n",
              "252                          Oh, the Places You'll Go!          4.9   \n",
              "288  Rush Revere and the Brave Pilgrims: Time-Trave...          4.9   \n",
              "289  Rush Revere and the First Patriots: Time-Trave...          4.9   \n",
              "303             Strange Planet (Strange Planet Series)          4.9   \n",
              "420               The Legend of Zelda: Hyrule Historia          4.9   \n",
              "431                                 The Magnolia Story          4.9   \n",
              "476                        The Very Hungry Caterpillar          4.9   \n",
              "477                        The Very Hungry Caterpillar          4.9   \n",
              "478                        The Very Hungry Caterpillar          4.9   \n",
              "479                        The Very Hungry Caterpillar          4.9   \n",
              "480                        The Very Hungry Caterpillar          4.9   \n",
              "481                        The Very Hungry Caterpillar          4.9   \n",
              "482                        The Very Hungry Caterpillar          4.9   \n",
              "486                   The Wonderful Things You Will Be          4.9   \n",
              "487                   The Wonderful Things You Will Be          4.9   \n",
              "488                   The Wonderful Things You Will Be          4.9   \n",
              "489                   The Wonderful Things You Will Be          4.9   \n",
              "\n",
              "                    Author        Genre  \n",
              "40         Bill Martin Jr.      Fiction  \n",
              "41         Bill Martin Jr.      Fiction  \n",
              "81              Dav Pilkey      Fiction  \n",
              "82              Dav Pilkey      Fiction  \n",
              "83              Dav Pilkey      Fiction  \n",
              "84              Dav Pilkey      Fiction  \n",
              "85              Dav Pilkey      Fiction  \n",
              "86              Dav Pilkey      Fiction  \n",
              "87              Dav Pilkey      Fiction  \n",
              "146   Sherri Duskey Rinker      Fiction  \n",
              "147   Sherri Duskey Rinker      Fiction  \n",
              "151     Lin-Manuel Miranda  Non Fiction  \n",
              "153           J.K. Rowling      Fiction  \n",
              "155          J. K. Rowling      Fiction  \n",
              "156           J.K. Rowling      Fiction  \n",
              "157           J.K. Rowling      Fiction  \n",
              "174        Brandon Stanton  Non Fiction  \n",
              "187            Sarah Young  Non Fiction  \n",
              "188            Sarah Young  Non Fiction  \n",
              "189            Sarah Young  Non Fiction  \n",
              "190            Sarah Young  Non Fiction  \n",
              "191            Sarah Young  Non Fiction  \n",
              "192            Sarah Young  Non Fiction  \n",
              "207             Jill Twiss      Fiction  \n",
              "219         Alice Schertle      Fiction  \n",
              "244             Pete Souza  Non Fiction  \n",
              "245              Dr. Seuss      Fiction  \n",
              "246              Dr. Seuss      Fiction  \n",
              "247              Dr. Seuss      Fiction  \n",
              "248              Dr. Seuss      Fiction  \n",
              "249              Dr. Seuss      Fiction  \n",
              "250              Dr. Seuss      Fiction  \n",
              "251              Dr. Seuss      Fiction  \n",
              "252              Dr. Seuss      Fiction  \n",
              "288          Rush Limbaugh      Fiction  \n",
              "289          Rush Limbaugh      Fiction  \n",
              "303         Nathan W. Pyle      Fiction  \n",
              "420         Patrick Thorpe      Fiction  \n",
              "431            Chip Gaines  Non Fiction  \n",
              "476             Eric Carle      Fiction  \n",
              "477             Eric Carle      Fiction  \n",
              "478             Eric Carle      Fiction  \n",
              "479             Eric Carle      Fiction  \n",
              "480             Eric Carle      Fiction  \n",
              "481             Eric Carle      Fiction  \n",
              "482             Eric Carle      Fiction  \n",
              "486  Emily Winfield Martin      Fiction  \n",
              "487  Emily Winfield Martin      Fiction  \n",
              "488  Emily Winfield Martin      Fiction  \n",
              "489  Emily Winfield Martin      Fiction  "
            ]
          },
          "metadata": {
            "tags": []
          },
          "execution_count": 62
        }
      ]
    },
    {
      "cell_type": "markdown",
      "metadata": {
        "id": "34vLMtx6Lkvb"
      },
      "source": [
        "Hasil data diatas merupakan 50 buku dengan perolehan user rating tertinggi di situs amazon.com pada tahun 2009-2019. Dan Buku yang mendapatkan perolehan user rating tertinggi adalah \"Brown Bear, Brown Bear, What Do You See?\" Karya Bill Martin Jr, yang ber-genre fiksi dan mendapatkan rating 4.9. "
      ]
    },
    {
      "cell_type": "markdown",
      "metadata": {
        "id": "sSjJhnkwSBf_"
      },
      "source": [
        "- **Kesimpulan**"
      ]
    },
    {
      "cell_type": "markdown",
      "metadata": {
        "id": "n1Y0m0BHMpw1"
      },
      "source": [
        "Berdasarkan data yang telah diamati diatas maka dapat disimpulkan bahwa:\n",
        "1. Dilihat dari Explorasi data diatas maka dataset ini tidak memiliki nilai kosong yang harus dihilangkan. Dan dataset ini memiliki 550 baris, dan 7 kolom  \n",
        "2.  Berdasarkan pemodelan diatas dapat disimpulkan bahwa dataset ini dalam kategori data normal yang mana telah dianalisa diatas. \n",
        "3.  Dilihat dari mapping data pada data set ini bahwa terjadinya korelasi positif dan negatif. Dimana yang mempunyai korelasi positif yakni hubungan antara Reviews dan Year, dan User Rating dan Year.\n",
        "4. Berdasarkan evaluasi data diatas maka:\n",
        "- Buku yang mendapatkan perolehan **user rating tertinggi** adalah \"Brown Bear, Brown Bear, What Do You See?\" Karya Bill Martin Jr, yang ber-genre fiksi dan mendapatkan rating 4.9. \n",
        "- Jumlah buku dengan genre non fiction sejumlah 310 dan jumlah buku dengan genre fiction sejumlah 240 \n",
        "- Buku dengan Review terendah adalah \"Divine Mind Body Healling and Transmission\" Karya Zhi Gang Sha\n",
        "- Buku dengan Review teratas adalah \"Where the Crawdads Sing\" Karya Della Ownes\n",
        "\n"
      ]
    }
  ]
}