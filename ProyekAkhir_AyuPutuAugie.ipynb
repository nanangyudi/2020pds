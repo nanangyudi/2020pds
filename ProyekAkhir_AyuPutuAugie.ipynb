{
  "nbformat": 4,
  "nbformat_minor": 0,
  "metadata": {
    "colab": {
      "name": "ProyekAkhir_AyuPutuAugie.ipynb",
      "provenance": [],
      "collapsed_sections": [],
      "include_colab_link": true
    },
    "kernelspec": {
      "name": "python3",
      "display_name": "Python 3"
    }
  },
  "cells": [
    {
      "cell_type": "markdown",
      "metadata": {
        "id": "view-in-github",
        "colab_type": "text"
      },
      "source": [
        "<a href=\"https://colab.research.google.com/github/nanangyudi/2020pds_d/blob/main/ProyekAkhir_AyuPutuAugie.ipynb\" target=\"_parent\"><img src=\"https://colab.research.google.com/assets/colab-badge.svg\" alt=\"Open In Colab\"/></a>"
      ]
    },
    {
      "cell_type": "markdown",
      "metadata": {
        "id": "NR_5G83llYTA"
      },
      "source": [
        "Sebelum melakukan analisis, kita perlu **memasukkan data ke dalam repository GitHub** dengan code berikut :"
      ]
    },
    {
      "cell_type": "code",
      "metadata": {
        "id": "tOesHwc1Qogo"
      },
      "source": [
        "import pandas as pd\n",
        "url = 'https://raw.githubusercontent.com/AyuPutu-Augie/python/main/cereal.csv'"
      ],
      "execution_count": null,
      "outputs": []
    },
    {
      "cell_type": "markdown",
      "metadata": {
        "id": "JGcBsCcNlr8i"
      },
      "source": [
        "Setelah memasukkan data ke dalam repository GitHub maka selanjutnya kita perlu untuk **mengimport library yang dibutuhkan**, dengan code sebagai berikut:"
      ]
    },
    {
      "cell_type": "code",
      "metadata": {
        "id": "elGrBwG461NQ"
      },
      "source": [
        "from sklearn.datasets import make_classification\r\n",
        "from matplotlib import pyplot as plt\r\n",
        "from sklearn.linear_model import LogisticRegression\r\n",
        "import seaborn as sns\r\n",
        "sns.set()\r\n",
        "from sklearn.model_selection import train_test_split\r\n",
        "from sklearn.metrics import confusion_matrix\r\n",
        "import pandas as pd"
      ],
      "execution_count": null,
      "outputs": []
    },
    {
      "cell_type": "markdown",
      "metadata": {
        "id": "CeZZugLNbklm"
      },
      "source": [
        "**A. TAHAP DESKRIPSI TUJUAN**\n",
        "\n",
        "\n",
        "\n",
        "**I. Deskripsi Tujuan Bisnis Pabrik Cereal**\n",
        "\n",
        "Tujuan dari pengolahan data ini adalah untuk mengelola data dari setiap stok cereal yang ada di pabrik. Selain itu, dengan mengelola data maka perusahaan dapat mempelajari data produk sehingga akan membantu dalam membuat keputusan yang berhubungan. Dengan memberikan prediksi data, maka keputusan yang dibuat oleh perusahaan akan lebih akurat.\n",
        "\n",
        "**II. Kebutuhan Organisasi**\n",
        "\n",
        "Kebutuhan organisasi yang akan diperlukan melalui analisa data sains ini adalah:\n",
        "\n",
        "1. Menghitung jumlah produksi cereal pada kurun waktu tertentu\n",
        "2. Mengetahui total produksi cereal dengan kategori tertentu\n",
        "3. Mengetahui jumlah rating dengan total produksi cereal yang terbanyak\n",
        "\n",
        "**B. TAHAP ANALISIS PENDEKATAN**\n",
        "\n",
        "**III. Analisa pendekatan yang dilakukan** : \n",
        "\n",
        "EDA (Exploratory Data Analysis)\n",
        "Teknik EDA merupakan metode eksplorasi data dengan menggunakan teknik aritmatika sederhana dan teknik grafis dalam meringkas data pengamatan\n",
        "Langkah-langkah yang digunakan yaitu:\n",
        "1. Mencari permasalahan\n",
        "2. Pengumpulan data\n",
        "3. Melakukan analisis\n",
        "4. Membuat pemodelan\n",
        "5. Kesimpulan\n",
        "\n",
        "**C. TAHAP PENGUMPULAN DATA**\n",
        "\n",
        "**IV. Pengumpulan data** : \n",
        "\n",
        "data yang didapatkan bersumber dari Kaggle.com yang dipublikasi oleh VirgoData. Berikut ini adalah link datanya: https://www.kaggle.com/virgodata/cereal\n",
        "\n",
        "**V. Pemahaman terhadap data yang telah dikumpulkan** :\n",
        "\n",
        "Berdasarkan tabel data yang didapatkan, tabel tersebut menggambarkan nilai gizi dan peringkat produk\n",
        "Hal yang dijelaskan di dalam tabel seperti manufactoring code (mfr), type, nilai calories, protein, fat, sodium, fiber, carbohidrat, sugars, potass, vitamins, shelf, weight, cups, dan ratings produk\n",
        "\n",
        "**D. TAHAP EKSPLORASI DATA**\n",
        "\n",
        "**VI. Persiapan data (eksplorasi data)** :\n",
        "\n",
        "Dalam eksplorasi data dapat menggunakan beberapa library seperti Pandas, Matplotlib, dan Seaborn.\n",
        "1. Import data menggunakan library Pandas\n",
        "2. Membuat histogram menggunakan library matplotlib dan pandas\n",
        "3. Membuat scatterplot menggunakan library dan pandas\n",
        "4. Membuat boxplot menggunakan library seaborn\n",
        "5. Menghitung frekuensi menggunakan library pandas\n",
        "6. Membuat mapping menggunakan library matplotlib, pandas, dan seaborn\n",
        "\n",
        "**V. Pemodelan data** :\n",
        "\n",
        "Pemodelan data menggunakan metode univariate data, dengan \n",
        "1. Memuat tabel data\n",
        "2. Membuat plots, yang terdiri dari Histogram, Scatter Plot, dan Box Plot\n",
        "3. Membuat mapping\n",
        "\n",
        "**VI. Evaluasi model** :\n",
        "\n",
        "Berdasarkan pengelompokan produk menurut kalori berdasarkan histogram, nilai kalori produk yang terbanyak berada di rentang 100-120 nilai kalori.\n",
        "Disamping itu, jika menggunakan data kalori maka hasil yang didapatkan pada histogram adalah data normal.\n",
        "Jika dilihat dari hasil scatter plot, maka semakin tinggi nilai kalori tidak menentukan makin tingginya nilai protein.\n",
        "Hal ini dapat dlihat dari hasil scatter plot yang tersebar\n",
        "Melalui box plot, dapat dilihat nilai mean kalori yaitu diantara 100 hingga 110. Namun rentang nilai kalori di bawah berada mulai pada nilai 90 dan tertinggi berada pada nilai 120.\n",
        "\n",
        "Berdasarkan hasil frekuensi maka dapat dilihat bahwa tidak ada keterhubungan antara nilai kalori dan protein. Hal tersebut bergantung pada bahan-bahan yang digunakan dalam pembuatan cereal. Produk yang terbanyak berada dalam kategori calories 100 dengan nilai protein 2.\n",
        "\n",
        "Jika dilihat dari hasil mapping maka ratings tertinggi yang bernilai 94 maka terdapat pada produk yang memiliki nilai protein 4 dan calories 50."
      ]
    },
    {
      "cell_type": "markdown",
      "metadata": {
        "id": "cPhmNSkXFKGb"
      },
      "source": [
        "**TAHAP EKSPLORASI DATA**\r\n",
        "\r\n",
        "**1. Memuat Tabel Data**\r\n",
        "\r\n",
        "1.1 Dalam tahap ini berfungsi untuk menampilkan data yang telah diimport dari url github dengan menampilkan data teratas"
      ]
    },
    {
      "cell_type": "code",
      "metadata": {
        "colab": {
          "base_uri": "https://localhost:8080/",
          "height": 359
        },
        "id": "vYiA6MPA35Sd",
        "outputId": "a5dee4cb-07fc-48f0-8dea-a45508623f30"
      },
      "source": [
        "import pandas as pd\n",
        "dt = pd.read_csv(url, error_bad_lines=False)\n",
        "dt.head(10)"
      ],
      "execution_count": null,
      "outputs": [
        {
          "output_type": "execute_result",
          "data": {
            "text/html": [
              "<div>\n",
              "<style scoped>\n",
              "    .dataframe tbody tr th:only-of-type {\n",
              "        vertical-align: middle;\n",
              "    }\n",
              "\n",
              "    .dataframe tbody tr th {\n",
              "        vertical-align: top;\n",
              "    }\n",
              "\n",
              "    .dataframe thead th {\n",
              "        text-align: right;\n",
              "    }\n",
              "</style>\n",
              "<table border=\"1\" class=\"dataframe\">\n",
              "  <thead>\n",
              "    <tr style=\"text-align: right;\">\n",
              "      <th></th>\n",
              "      <th>name</th>\n",
              "      <th>mfr</th>\n",
              "      <th>type</th>\n",
              "      <th>calories</th>\n",
              "      <th>protein</th>\n",
              "      <th>fat</th>\n",
              "      <th>sodium</th>\n",
              "      <th>fiber</th>\n",
              "      <th>carbo</th>\n",
              "      <th>sugars</th>\n",
              "      <th>potass</th>\n",
              "      <th>vitamins</th>\n",
              "      <th>shelf</th>\n",
              "      <th>weight</th>\n",
              "      <th>cups</th>\n",
              "      <th>rating</th>\n",
              "    </tr>\n",
              "  </thead>\n",
              "  <tbody>\n",
              "    <tr>\n",
              "      <th>0</th>\n",
              "      <td>100% Bran</td>\n",
              "      <td>N</td>\n",
              "      <td>C</td>\n",
              "      <td>70</td>\n",
              "      <td>4</td>\n",
              "      <td>1</td>\n",
              "      <td>130</td>\n",
              "      <td>10.0</td>\n",
              "      <td>5.0</td>\n",
              "      <td>6</td>\n",
              "      <td>280</td>\n",
              "      <td>25</td>\n",
              "      <td>3</td>\n",
              "      <td>1.00</td>\n",
              "      <td>0.33</td>\n",
              "      <td>68.402973</td>\n",
              "    </tr>\n",
              "    <tr>\n",
              "      <th>1</th>\n",
              "      <td>100% Natural Bran</td>\n",
              "      <td>Q</td>\n",
              "      <td>C</td>\n",
              "      <td>120</td>\n",
              "      <td>3</td>\n",
              "      <td>5</td>\n",
              "      <td>15</td>\n",
              "      <td>2.0</td>\n",
              "      <td>8.0</td>\n",
              "      <td>8</td>\n",
              "      <td>135</td>\n",
              "      <td>0</td>\n",
              "      <td>3</td>\n",
              "      <td>1.00</td>\n",
              "      <td>1.00</td>\n",
              "      <td>33.983679</td>\n",
              "    </tr>\n",
              "    <tr>\n",
              "      <th>2</th>\n",
              "      <td>All-Bran</td>\n",
              "      <td>K</td>\n",
              "      <td>C</td>\n",
              "      <td>70</td>\n",
              "      <td>4</td>\n",
              "      <td>1</td>\n",
              "      <td>260</td>\n",
              "      <td>9.0</td>\n",
              "      <td>7.0</td>\n",
              "      <td>5</td>\n",
              "      <td>320</td>\n",
              "      <td>25</td>\n",
              "      <td>3</td>\n",
              "      <td>1.00</td>\n",
              "      <td>0.33</td>\n",
              "      <td>59.425505</td>\n",
              "    </tr>\n",
              "    <tr>\n",
              "      <th>3</th>\n",
              "      <td>All-Bran with Extra Fiber</td>\n",
              "      <td>K</td>\n",
              "      <td>C</td>\n",
              "      <td>50</td>\n",
              "      <td>4</td>\n",
              "      <td>0</td>\n",
              "      <td>140</td>\n",
              "      <td>14.0</td>\n",
              "      <td>8.0</td>\n",
              "      <td>0</td>\n",
              "      <td>330</td>\n",
              "      <td>25</td>\n",
              "      <td>3</td>\n",
              "      <td>1.00</td>\n",
              "      <td>0.50</td>\n",
              "      <td>93.704912</td>\n",
              "    </tr>\n",
              "    <tr>\n",
              "      <th>4</th>\n",
              "      <td>Almond Delight</td>\n",
              "      <td>R</td>\n",
              "      <td>C</td>\n",
              "      <td>110</td>\n",
              "      <td>2</td>\n",
              "      <td>2</td>\n",
              "      <td>200</td>\n",
              "      <td>1.0</td>\n",
              "      <td>14.0</td>\n",
              "      <td>8</td>\n",
              "      <td>-1</td>\n",
              "      <td>25</td>\n",
              "      <td>3</td>\n",
              "      <td>1.00</td>\n",
              "      <td>0.75</td>\n",
              "      <td>34.384843</td>\n",
              "    </tr>\n",
              "    <tr>\n",
              "      <th>5</th>\n",
              "      <td>Apple Cinnamon Cheerios</td>\n",
              "      <td>G</td>\n",
              "      <td>C</td>\n",
              "      <td>110</td>\n",
              "      <td>2</td>\n",
              "      <td>2</td>\n",
              "      <td>180</td>\n",
              "      <td>1.5</td>\n",
              "      <td>10.5</td>\n",
              "      <td>10</td>\n",
              "      <td>70</td>\n",
              "      <td>25</td>\n",
              "      <td>1</td>\n",
              "      <td>1.00</td>\n",
              "      <td>0.75</td>\n",
              "      <td>29.509541</td>\n",
              "    </tr>\n",
              "    <tr>\n",
              "      <th>6</th>\n",
              "      <td>Apple Jacks</td>\n",
              "      <td>K</td>\n",
              "      <td>C</td>\n",
              "      <td>110</td>\n",
              "      <td>2</td>\n",
              "      <td>0</td>\n",
              "      <td>125</td>\n",
              "      <td>1.0</td>\n",
              "      <td>11.0</td>\n",
              "      <td>14</td>\n",
              "      <td>30</td>\n",
              "      <td>25</td>\n",
              "      <td>2</td>\n",
              "      <td>1.00</td>\n",
              "      <td>1.00</td>\n",
              "      <td>33.174094</td>\n",
              "    </tr>\n",
              "    <tr>\n",
              "      <th>7</th>\n",
              "      <td>Basic 4</td>\n",
              "      <td>G</td>\n",
              "      <td>C</td>\n",
              "      <td>130</td>\n",
              "      <td>3</td>\n",
              "      <td>2</td>\n",
              "      <td>210</td>\n",
              "      <td>2.0</td>\n",
              "      <td>18.0</td>\n",
              "      <td>8</td>\n",
              "      <td>100</td>\n",
              "      <td>25</td>\n",
              "      <td>3</td>\n",
              "      <td>1.33</td>\n",
              "      <td>0.75</td>\n",
              "      <td>37.038562</td>\n",
              "    </tr>\n",
              "    <tr>\n",
              "      <th>8</th>\n",
              "      <td>Bran Chex</td>\n",
              "      <td>R</td>\n",
              "      <td>C</td>\n",
              "      <td>90</td>\n",
              "      <td>2</td>\n",
              "      <td>1</td>\n",
              "      <td>200</td>\n",
              "      <td>4.0</td>\n",
              "      <td>15.0</td>\n",
              "      <td>6</td>\n",
              "      <td>125</td>\n",
              "      <td>25</td>\n",
              "      <td>1</td>\n",
              "      <td>1.00</td>\n",
              "      <td>0.67</td>\n",
              "      <td>49.120253</td>\n",
              "    </tr>\n",
              "    <tr>\n",
              "      <th>9</th>\n",
              "      <td>Bran Flakes</td>\n",
              "      <td>P</td>\n",
              "      <td>C</td>\n",
              "      <td>90</td>\n",
              "      <td>3</td>\n",
              "      <td>0</td>\n",
              "      <td>210</td>\n",
              "      <td>5.0</td>\n",
              "      <td>13.0</td>\n",
              "      <td>5</td>\n",
              "      <td>190</td>\n",
              "      <td>25</td>\n",
              "      <td>3</td>\n",
              "      <td>1.00</td>\n",
              "      <td>0.67</td>\n",
              "      <td>53.313813</td>\n",
              "    </tr>\n",
              "  </tbody>\n",
              "</table>\n",
              "</div>"
            ],
            "text/plain": [
              "                        name mfr type  calories  ...  shelf  weight  cups     rating\n",
              "0                  100% Bran   N    C        70  ...      3    1.00  0.33  68.402973\n",
              "1          100% Natural Bran   Q    C       120  ...      3    1.00  1.00  33.983679\n",
              "2                   All-Bran   K    C        70  ...      3    1.00  0.33  59.425505\n",
              "3  All-Bran with Extra Fiber   K    C        50  ...      3    1.00  0.50  93.704912\n",
              "4             Almond Delight   R    C       110  ...      3    1.00  0.75  34.384843\n",
              "5    Apple Cinnamon Cheerios   G    C       110  ...      1    1.00  0.75  29.509541\n",
              "6                Apple Jacks   K    C       110  ...      2    1.00  1.00  33.174094\n",
              "7                    Basic 4   G    C       130  ...      3    1.33  0.75  37.038562\n",
              "8                  Bran Chex   R    C        90  ...      1    1.00  0.67  49.120253\n",
              "9                Bran Flakes   P    C        90  ...      3    1.00  0.67  53.313813\n",
              "\n",
              "[10 rows x 16 columns]"
            ]
          },
          "metadata": {
            "tags": []
          },
          "execution_count": 3
        }
      ]
    },
    {
      "cell_type": "markdown",
      "metadata": {
        "id": "wbTgS4YFnaSe"
      },
      "source": [
        "1.2. Jika ingin menampilkan data terbawah maka codenya sebagai berikut:"
      ]
    },
    {
      "cell_type": "code",
      "metadata": {
        "colab": {
          "base_uri": "https://localhost:8080/",
          "height": 359
        },
        "id": "KrlUMAxSnUej",
        "outputId": "a3cd13ff-ce91-4aa2-e130-f7eb5b22e46d"
      },
      "source": [
        "dt.tail(10)"
      ],
      "execution_count": null,
      "outputs": [
        {
          "output_type": "execute_result",
          "data": {
            "text/html": [
              "<div>\n",
              "<style scoped>\n",
              "    .dataframe tbody tr th:only-of-type {\n",
              "        vertical-align: middle;\n",
              "    }\n",
              "\n",
              "    .dataframe tbody tr th {\n",
              "        vertical-align: top;\n",
              "    }\n",
              "\n",
              "    .dataframe thead th {\n",
              "        text-align: right;\n",
              "    }\n",
              "</style>\n",
              "<table border=\"1\" class=\"dataframe\">\n",
              "  <thead>\n",
              "    <tr style=\"text-align: right;\">\n",
              "      <th></th>\n",
              "      <th>name</th>\n",
              "      <th>mfr</th>\n",
              "      <th>type</th>\n",
              "      <th>calories</th>\n",
              "      <th>protein</th>\n",
              "      <th>fat</th>\n",
              "      <th>sodium</th>\n",
              "      <th>fiber</th>\n",
              "      <th>carbo</th>\n",
              "      <th>sugars</th>\n",
              "      <th>potass</th>\n",
              "      <th>vitamins</th>\n",
              "      <th>shelf</th>\n",
              "      <th>weight</th>\n",
              "      <th>cups</th>\n",
              "      <th>rating</th>\n",
              "    </tr>\n",
              "  </thead>\n",
              "  <tbody>\n",
              "    <tr>\n",
              "      <th>67</th>\n",
              "      <td>Special K</td>\n",
              "      <td>K</td>\n",
              "      <td>C</td>\n",
              "      <td>110</td>\n",
              "      <td>6</td>\n",
              "      <td>0</td>\n",
              "      <td>230</td>\n",
              "      <td>1.0</td>\n",
              "      <td>16.0</td>\n",
              "      <td>3</td>\n",
              "      <td>55</td>\n",
              "      <td>25</td>\n",
              "      <td>1</td>\n",
              "      <td>1.0</td>\n",
              "      <td>1.00</td>\n",
              "      <td>53.131324</td>\n",
              "    </tr>\n",
              "    <tr>\n",
              "      <th>68</th>\n",
              "      <td>Strawberry Fruit Wheats</td>\n",
              "      <td>N</td>\n",
              "      <td>C</td>\n",
              "      <td>90</td>\n",
              "      <td>2</td>\n",
              "      <td>0</td>\n",
              "      <td>15</td>\n",
              "      <td>3.0</td>\n",
              "      <td>15.0</td>\n",
              "      <td>5</td>\n",
              "      <td>90</td>\n",
              "      <td>25</td>\n",
              "      <td>2</td>\n",
              "      <td>1.0</td>\n",
              "      <td>1.00</td>\n",
              "      <td>59.363993</td>\n",
              "    </tr>\n",
              "    <tr>\n",
              "      <th>69</th>\n",
              "      <td>Total Corn Flakes</td>\n",
              "      <td>G</td>\n",
              "      <td>C</td>\n",
              "      <td>110</td>\n",
              "      <td>2</td>\n",
              "      <td>1</td>\n",
              "      <td>200</td>\n",
              "      <td>0.0</td>\n",
              "      <td>21.0</td>\n",
              "      <td>3</td>\n",
              "      <td>35</td>\n",
              "      <td>100</td>\n",
              "      <td>3</td>\n",
              "      <td>1.0</td>\n",
              "      <td>1.00</td>\n",
              "      <td>38.839746</td>\n",
              "    </tr>\n",
              "    <tr>\n",
              "      <th>70</th>\n",
              "      <td>Total Raisin Bran</td>\n",
              "      <td>G</td>\n",
              "      <td>C</td>\n",
              "      <td>140</td>\n",
              "      <td>3</td>\n",
              "      <td>1</td>\n",
              "      <td>190</td>\n",
              "      <td>4.0</td>\n",
              "      <td>15.0</td>\n",
              "      <td>14</td>\n",
              "      <td>230</td>\n",
              "      <td>100</td>\n",
              "      <td>3</td>\n",
              "      <td>1.5</td>\n",
              "      <td>1.00</td>\n",
              "      <td>28.592785</td>\n",
              "    </tr>\n",
              "    <tr>\n",
              "      <th>71</th>\n",
              "      <td>Total Whole Grain</td>\n",
              "      <td>G</td>\n",
              "      <td>C</td>\n",
              "      <td>100</td>\n",
              "      <td>3</td>\n",
              "      <td>1</td>\n",
              "      <td>200</td>\n",
              "      <td>3.0</td>\n",
              "      <td>16.0</td>\n",
              "      <td>3</td>\n",
              "      <td>110</td>\n",
              "      <td>100</td>\n",
              "      <td>3</td>\n",
              "      <td>1.0</td>\n",
              "      <td>1.00</td>\n",
              "      <td>46.658844</td>\n",
              "    </tr>\n",
              "    <tr>\n",
              "      <th>72</th>\n",
              "      <td>Triples</td>\n",
              "      <td>G</td>\n",
              "      <td>C</td>\n",
              "      <td>110</td>\n",
              "      <td>2</td>\n",
              "      <td>1</td>\n",
              "      <td>250</td>\n",
              "      <td>0.0</td>\n",
              "      <td>21.0</td>\n",
              "      <td>3</td>\n",
              "      <td>60</td>\n",
              "      <td>25</td>\n",
              "      <td>3</td>\n",
              "      <td>1.0</td>\n",
              "      <td>0.75</td>\n",
              "      <td>39.106174</td>\n",
              "    </tr>\n",
              "    <tr>\n",
              "      <th>73</th>\n",
              "      <td>Trix</td>\n",
              "      <td>G</td>\n",
              "      <td>C</td>\n",
              "      <td>110</td>\n",
              "      <td>1</td>\n",
              "      <td>1</td>\n",
              "      <td>140</td>\n",
              "      <td>0.0</td>\n",
              "      <td>13.0</td>\n",
              "      <td>12</td>\n",
              "      <td>25</td>\n",
              "      <td>25</td>\n",
              "      <td>2</td>\n",
              "      <td>1.0</td>\n",
              "      <td>1.00</td>\n",
              "      <td>27.753301</td>\n",
              "    </tr>\n",
              "    <tr>\n",
              "      <th>74</th>\n",
              "      <td>Wheat Chex</td>\n",
              "      <td>R</td>\n",
              "      <td>C</td>\n",
              "      <td>100</td>\n",
              "      <td>3</td>\n",
              "      <td>1</td>\n",
              "      <td>230</td>\n",
              "      <td>3.0</td>\n",
              "      <td>17.0</td>\n",
              "      <td>3</td>\n",
              "      <td>115</td>\n",
              "      <td>25</td>\n",
              "      <td>1</td>\n",
              "      <td>1.0</td>\n",
              "      <td>0.67</td>\n",
              "      <td>49.787445</td>\n",
              "    </tr>\n",
              "    <tr>\n",
              "      <th>75</th>\n",
              "      <td>Wheaties</td>\n",
              "      <td>G</td>\n",
              "      <td>C</td>\n",
              "      <td>100</td>\n",
              "      <td>3</td>\n",
              "      <td>1</td>\n",
              "      <td>200</td>\n",
              "      <td>3.0</td>\n",
              "      <td>17.0</td>\n",
              "      <td>3</td>\n",
              "      <td>110</td>\n",
              "      <td>25</td>\n",
              "      <td>1</td>\n",
              "      <td>1.0</td>\n",
              "      <td>1.00</td>\n",
              "      <td>51.592193</td>\n",
              "    </tr>\n",
              "    <tr>\n",
              "      <th>76</th>\n",
              "      <td>Wheaties Honey Gold</td>\n",
              "      <td>G</td>\n",
              "      <td>C</td>\n",
              "      <td>110</td>\n",
              "      <td>2</td>\n",
              "      <td>1</td>\n",
              "      <td>200</td>\n",
              "      <td>1.0</td>\n",
              "      <td>16.0</td>\n",
              "      <td>8</td>\n",
              "      <td>60</td>\n",
              "      <td>25</td>\n",
              "      <td>1</td>\n",
              "      <td>1.0</td>\n",
              "      <td>0.75</td>\n",
              "      <td>36.187559</td>\n",
              "    </tr>\n",
              "  </tbody>\n",
              "</table>\n",
              "</div>"
            ],
            "text/plain": [
              "                       name mfr type  calories  ...  shelf  weight  cups     rating\n",
              "67                Special K   K    C       110  ...      1     1.0  1.00  53.131324\n",
              "68  Strawberry Fruit Wheats   N    C        90  ...      2     1.0  1.00  59.363993\n",
              "69        Total Corn Flakes   G    C       110  ...      3     1.0  1.00  38.839746\n",
              "70        Total Raisin Bran   G    C       140  ...      3     1.5  1.00  28.592785\n",
              "71        Total Whole Grain   G    C       100  ...      3     1.0  1.00  46.658844\n",
              "72                  Triples   G    C       110  ...      3     1.0  0.75  39.106174\n",
              "73                     Trix   G    C       110  ...      2     1.0  1.00  27.753301\n",
              "74               Wheat Chex   R    C       100  ...      1     1.0  0.67  49.787445\n",
              "75                 Wheaties   G    C       100  ...      1     1.0  1.00  51.592193\n",
              "76      Wheaties Honey Gold   G    C       110  ...      1     1.0  0.75  36.187559\n",
              "\n",
              "[10 rows x 16 columns]"
            ]
          },
          "metadata": {
            "tags": []
          },
          "execution_count": 4
        }
      ]
    },
    {
      "cell_type": "markdown",
      "metadata": {
        "id": "xzyubkexoBDI"
      },
      "source": [
        "1.3 Menampilkan jumlah data dan baris kolom dari data yang diolah"
      ]
    },
    {
      "cell_type": "code",
      "metadata": {
        "colab": {
          "base_uri": "https://localhost:8080/"
        },
        "id": "JLKTCvrdoH4L",
        "outputId": "a6c5a6cc-4a50-4ac8-dda5-ea857b6cbc07"
      },
      "source": [
        "dt.shape"
      ],
      "execution_count": null,
      "outputs": [
        {
          "output_type": "execute_result",
          "data": {
            "text/plain": [
              "(77, 16)"
            ]
          },
          "metadata": {
            "tags": []
          },
          "execution_count": 5
        }
      ]
    },
    {
      "cell_type": "markdown",
      "metadata": {
        "id": "QHIszt5hoL6r"
      },
      "source": [
        "1.4 Menampilkan data informasi mengenai kolom dari tabel data yang diolah"
      ]
    },
    {
      "cell_type": "code",
      "metadata": {
        "colab": {
          "base_uri": "https://localhost:8080/"
        },
        "id": "6jnErat_oT31",
        "outputId": "4a629a66-27c6-4f0f-b25e-53093d48a2f1"
      },
      "source": [
        "dt.info()"
      ],
      "execution_count": null,
      "outputs": [
        {
          "output_type": "stream",
          "text": [
            "<class 'pandas.core.frame.DataFrame'>\n",
            "RangeIndex: 77 entries, 0 to 76\n",
            "Data columns (total 16 columns):\n",
            " #   Column    Non-Null Count  Dtype  \n",
            "---  ------    --------------  -----  \n",
            " 0   name      77 non-null     object \n",
            " 1   mfr       77 non-null     object \n",
            " 2   type      77 non-null     object \n",
            " 3   calories  77 non-null     int64  \n",
            " 4   protein   77 non-null     int64  \n",
            " 5   fat       77 non-null     int64  \n",
            " 6   sodium    77 non-null     int64  \n",
            " 7   fiber     77 non-null     float64\n",
            " 8   carbo     77 non-null     float64\n",
            " 9   sugars    77 non-null     int64  \n",
            " 10  potass    77 non-null     int64  \n",
            " 11  vitamins  77 non-null     int64  \n",
            " 12  shelf     77 non-null     int64  \n",
            " 13  weight    77 non-null     float64\n",
            " 14  cups      77 non-null     float64\n",
            " 15  rating    77 non-null     float64\n",
            "dtypes: float64(5), int64(8), object(3)\n",
            "memory usage: 9.8+ KB\n"
          ],
          "name": "stdout"
        }
      ]
    },
    {
      "cell_type": "markdown",
      "metadata": {
        "id": "V9SYJNQXFVq4"
      },
      "source": [
        "**2. Membuat Histogram**\r\n",
        "\r\n",
        "Dalam tahap ini dilakukan analisis histogram dari tabel data yang diolah. Pada kasus ini, hal yang dianalisis adalah nilai kalori dari produk yang dihasilkan oleh pabrik.\r\n",
        "\r\n"
      ]
    },
    {
      "cell_type": "code",
      "metadata": {
        "colab": {
          "base_uri": "https://localhost:8080/",
          "height": 295
        },
        "id": "bU6bW0jZ6PMI",
        "outputId": "7aa50c52-daf0-4de2-abdd-53dbe7fafcbd"
      },
      "source": [
        "import matplotlib.pyplot as plt\n",
        "import pandas as pd\n",
        "dt = pd.read_csv(url, error_bad_lines=False)\n",
        "\n",
        "#Plots in matplotlib reside within a figure\n",
        "\n",
        "fig=plt.figure()\n",
        "\n",
        "\n",
        "ax = fig.add_subplot(1,1,1)\n",
        "\n",
        "#Variable\n",
        "ax.hist(dt['calories'],bins = 5)\n",
        "#Labels and Title\n",
        "plt.title('Cereal distribution')\n",
        "plt.xlabel('Cereal Calories')\n",
        "plt.ylabel('Jumlah kategori kalori produk')\n",
        "plt.show()"
      ],
      "execution_count": null,
      "outputs": [
        {
          "output_type": "display_data",
          "data": {
            "image/png": "[encoded data removed]",
            "text/plain": [
              "<Figure size 432x288 with 1 Axes>"
            ]
          },
          "metadata": {
            "tags": [],
            "needs_background": "light"
          }
        }
      ]
    },
    {
      "cell_type": "markdown",
      "metadata": {
        "id": "mTXP7ZBxpJvt"
      },
      "source": [
        "**Hasil analisis histogram** :\r\n",
        "\r\n",
        "Berdasarkan pengelompokan produk menurut kalori berdasarkan histogram, nilai kalori produk yang terbanyak berada di rentang 100-120 nilai kalori.\r\n",
        "Disamping itu, jika menggunakan data kalori maka hasil yang didapatkan pada histogram adalah data normal."
      ]
    },
    {
      "cell_type": "markdown",
      "metadata": {
        "id": "TXF-rjOaFaiJ"
      },
      "source": [
        "**3. Membuat Scatter Plot**\r\n",
        "\r\n",
        "Pada tahap ini dilakukan analisis nilai kalori dan protein dari cereal yang dihasilkan oleh perusahaan"
      ]
    },
    {
      "cell_type": "code",
      "metadata": {
        "colab": {
          "base_uri": "https://localhost:8080/",
          "height": 295
        },
        "id": "kDZnn8AW7eXc",
        "outputId": "7b536bfd-3bbb-476c-b917-9a6ef6ea336c"
      },
      "source": [
        "#Plots in matplotlib reside within a figureobject, use plt.figure to create new figure\n",
        "fig=plt.figure()\n",
        "\n",
        "#Create one or more subplots usingadd_subplot, because you can'tcreate blank figure\n",
        "ax = fig.add_subplot(1,1,1)\n",
        "\n",
        "#Variable\n",
        "ax.scatter(dt['calories'],dt['protein'])\n",
        "\n",
        "#Labels and Title\n",
        "plt.title('Distribusi Nilai Kalori dan Protein Produk')\n",
        "plt.xlabel('calories')\n",
        "plt.ylabel('protein')\n",
        "plt.show()"
      ],
      "execution_count": null,
      "outputs": [
        {
          "output_type": "display_data",
          "data": {
            "image/png": "[encoded data removed]",
            "text/plain": [
              "<Figure size 432x288 with 1 Axes>"
            ]
          },
          "metadata": {
            "tags": [],
            "needs_background": "light"
          }
        }
      ]
    },
    {
      "cell_type": "markdown",
      "metadata": {
        "id": "e-QAQjInp9iV"
      },
      "source": [
        "**Analisis Scatter Plot** :\r\n",
        "\r\n",
        "Jika dilihat dari hasil scatter plot, maka semakin tinggi nilai kalori tidak menentukan makin tingginya nilai protein.\r\n",
        "Hal ini dapat dlihat dari hasil scatter plot yang tersebar. Pada nilai kalori tertinggi yaitu 160 nilai protein yang didapatkan bernilai 3. Sedangkan nilai protein tertinggi berada pada nilai kalori 110."
      ]
    },
    {
      "cell_type": "markdown",
      "metadata": {
        "id": "Flm3PQ0KFe9g"
      },
      "source": [
        "**4. Membuat Box Plot**\r\n",
        "\r\n",
        "Dalam tahap ini dilakukan analisis menggunakan boxplot dari nilai kalori produk cereal yang dihasilkan oleh pabrik "
      ]
    },
    {
      "cell_type": "code",
      "metadata": {
        "colab": {
          "base_uri": "https://localhost:8080/",
          "height": 333
        },
        "id": "fVCYUihV7ujO",
        "outputId": "ee2bdf84-e3ca-443c-b42d-f73ce1abec57"
      },
      "source": [
        "import seaborn as sns\n",
        "sns.boxplot(dt['calories'])\n",
        "sns.despine()"
      ],
      "execution_count": null,
      "outputs": [
        {
          "output_type": "stream",
          "text": [
            "/usr/local/lib/python3.6/dist-packages/seaborn/_decorators.py:43: FutureWarning: Pass the following variable as a keyword arg: x. From version 0.12, the only valid positional argument will be `data`, and passing other arguments without an explicit keyword will result in an error or misinterpretation.\n",
            "  FutureWarning\n"
          ],
          "name": "stderr"
        },
        {
          "output_type": "display_data",
          "data": {
            "image/png": "[encoded data removed]",
            "text/plain": [
              "<Figure size 432x288 with 1 Axes>"
            ]
          },
          "metadata": {
            "tags": [],
            "needs_background": "light"
          }
        }
      ]
    },
    {
      "cell_type": "markdown",
      "metadata": {
        "id": "TYH86MRvr_EJ"
      },
      "source": [
        "**Analisis Boxplot**: \r\n",
        "\r\n",
        "1. Nilai minimal dari kalori produk berdasarkan boxplot adalah 90\r\n",
        "2. Nilai quartil terendah menunjukkan nilai kalori 90\r\n",
        "3. Nilai quartil tertinggi menunjukkan nilai kalori 110\r\n",
        "4. Nilai tertinggi dari kalori produk berdasarkan boxplot adalah 120\r\n",
        "5. Terdapat outlier atau pencilan data yang tersebar pada kisaran nilai 20, 70, 80 dan 130, 140, 150, 150"
      ]
    },
    {
      "cell_type": "markdown",
      "metadata": {
        "id": "GeFIFeIewBuA"
      },
      "source": [
        "4.1 Analisis menggunakan plots mfr dan type produk"
      ]
    },
    {
      "cell_type": "code",
      "metadata": {
        "colab": {
          "base_uri": "https://localhost:8080/",
          "height": 302
        },
        "id": "HBCH1e-hwXyp",
        "outputId": "ed8332b0-c063-4bcb-af6a-28fb9168cf89"
      },
      "source": [
        "sns.stripplot(x=\"type\", y=\"mfr\", data=dt) "
      ],
      "execution_count": null,
      "outputs": [
        {
          "output_type": "execute_result",
          "data": {
            "text/plain": [
              "<matplotlib.axes._subplots.AxesSubplot at 0x7fa128cea0f0>"
            ]
          },
          "metadata": {
            "tags": []
          },
          "execution_count": 9
        },
        {
          "output_type": "display_data",
          "data": {
            "image/png": "[encoded data removed]",
            "text/plain": [
              "<Figure size 432x288 with 1 Axes>"
            ]
          },
          "metadata": {
            "tags": []
          }
        }
      ]
    },
    {
      "cell_type": "markdown",
      "metadata": {
        "id": "FIxU_rbwxMBo"
      },
      "source": [
        "**Analisis plots**:\r\n",
        "\r\n",
        "Pada jenis mfr P, G, R, K produk cereal hanya memiliki type C. Untuk nilai mfr Q dan N kebanyakan berada pada type C namun memiliki outlier pada type H. Selain itu nilai mfr A hanya memiliki type produk H"
      ]
    },
    {
      "cell_type": "markdown",
      "metadata": {
        "id": "yKYB4xkT1Mii"
      },
      "source": [
        "4.2 Analisis boxplot antara nilai mfr dengan type"
      ]
    },
    {
      "cell_type": "code",
      "metadata": {
        "colab": {
          "base_uri": "https://localhost:8080/",
          "height": 302
        },
        "id": "TlKKfDtm1nGS",
        "outputId": "1eec64dd-9b94-455d-ea41-d2ae71c16bd6"
      },
      "source": [
        "sns.boxplot(x=\"mfr\", y=\"carbo\", data=dt, hue = 'type')"
      ],
      "execution_count": null,
      "outputs": [
        {
          "output_type": "execute_result",
          "data": {
            "text/plain": [
              "<matplotlib.axes._subplots.AxesSubplot at 0x7fa1287e19e8>"
            ]
          },
          "metadata": {
            "tags": []
          },
          "execution_count": 12
        },
        {
          "output_type": "display_data",
          "data": {
            "image/png": "[encoded data removed]",
            "text/plain": [
              "<Figure size 432x288 with 1 Axes>"
            ]
          },
          "metadata": {
            "tags": []
          }
        }
      ]
    },
    {
      "cell_type": "markdown",
      "metadata": {
        "id": "LMX0Ix2S2HYH"
      },
      "source": [
        "**Analisis Boxplot**\r\n",
        "\r\n",
        "1. Nilai mfr N menunjukkan nilai tengah (median) kurang lebih 16, dengan nilai tertinggi 20 dan outlier pada nilai carbo 5\r\n",
        "2. Nilai mfr Q menunjukkan nilai tengah (median) kurang lebih 12, dengan nilai tertinggi kurang lebih 14 dan outlier pada nilai carbo kurang lebih 9\r\n",
        "3. Nilai mfr K menunjukkan nilai tengah (median) 15, dengan nilai tertinggi kurang lebih 23 dan nilai terendah kurang lebih 7\r\n",
        "4. Nilai mfr R menunjukkan nilai tengah (median) kurang lebih 16, dengan nilai tertinggi 24 dan outlier pada nilai terendah kurang lebih 14\r\n",
        "5. Nilai mfr G menunjukkan nilai tengah (median) kurang lebih 14, dengan nilai tertinggi 21 dan outlier pada nilai terendah kurang lebih 10\r\n",
        "6. Nilai mfr P menunjukkan nilai tengah (median) kurang lebih 16, dengan nilai tertinggi 17 dan outlier pada nilai terendah kurang lebih 11"
      ]
    },
    {
      "cell_type": "markdown",
      "metadata": {
        "id": "KLFflElqFmB5"
      },
      "source": [
        "**5. Frekuensi**\r\n",
        "\r\n",
        "Analisis frekuensi produk berdasarkan nilai kalori dan protein"
      ]
    },
    {
      "cell_type": "code",
      "metadata": {
        "colab": {
          "base_uri": "https://localhost:8080/"
        },
        "id": "iu7ibgQU70Ky",
        "outputId": "18f076c4-5e0f-4174-9d1d-99ce54289728"
      },
      "source": [
        "import pandas as pd\n",
        "dt = pd.read_csv(url, error_bad_lines=False)\n",
        "print (dt)\n",
        "test= dt.groupby(['calories','protein'])\n",
        "test.size()"
      ],
      "execution_count": null,
      "outputs": [
        {
          "output_type": "stream",
          "text": [
            "                         name mfr type  ...  weight  cups     rating\n",
            "0                   100% Bran   N    C  ...     1.0  0.33  68.402973\n",
            "1           100% Natural Bran   Q    C  ...     1.0  1.00  33.983679\n",
            "2                    All-Bran   K    C  ...     1.0  0.33  59.425505\n",
            "3   All-Bran with Extra Fiber   K    C  ...     1.0  0.50  93.704912\n",
            "4              Almond Delight   R    C  ...     1.0  0.75  34.384843\n",
            "..                        ...  ..  ...  ...     ...   ...        ...\n",
            "72                    Triples   G    C  ...     1.0  0.75  39.106174\n",
            "73                       Trix   G    C  ...     1.0  1.00  27.753301\n",
            "74                 Wheat Chex   R    C  ...     1.0  0.67  49.787445\n",
            "75                   Wheaties   G    C  ...     1.0  1.00  51.592193\n",
            "76        Wheaties Honey Gold   G    C  ...     1.0  0.75  36.187559\n",
            "\n",
            "[77 rows x 16 columns]\n"
          ],
          "name": "stdout"
        },
        {
          "output_type": "execute_result",
          "data": {
            "text/plain": [
              "calories  protein\n",
              "50        1           1\n",
              "          2           1\n",
              "          4           1\n",
              "70        4           2\n",
              "80        2           1\n",
              "90        2           3\n",
              "          3           4\n",
              "100       2           5\n",
              "          3           8\n",
              "          4           3\n",
              "          5           1\n",
              "110       1           9\n",
              "          2          14\n",
              "          3           4\n",
              "          6           2\n",
              "120       1           3\n",
              "          2           1\n",
              "          3           6\n",
              "130       3           2\n",
              "140       3           3\n",
              "150       4           2\n",
              "160       3           1\n",
              "dtype: int64"
            ]
          },
          "metadata": {
            "tags": []
          },
          "execution_count": 10
        }
      ]
    },
    {
      "cell_type": "markdown",
      "metadata": {
        "id": "IzCgIhvN5qX2"
      },
      "source": [
        "**Analisis Frekuensi** :\r\n",
        "\r\n",
        "1. Terdapat data tabel yang akan dianalisis\r\n",
        "2. Kalori dan protein dikelompokkan dan terdapat jumlah frekuensi yang telah dilakukan\r\n",
        "\r\n",
        "Berdasarkan frekuensi yang dilakukan maka hasil produk terbanyak memiliki nilai protein 2 yaitu sebanyak 14 produk."
      ]
    },
    {
      "cell_type": "markdown",
      "metadata": {
        "id": "KADeUuoDFkzV"
      },
      "source": [
        "**6. Membuat Mapping**\r\n",
        "\r\n",
        "Melakukan analisis mapping mengenai nilai kalori dengan nilai protein produk yang dianalisis dari rating masing-masing produk"
      ]
    },
    {
      "cell_type": "code",
      "metadata": {
        "colab": {
          "base_uri": "https://localhost:8080/",
          "height": 500
        },
        "id": "wpBG04MR63W2",
        "outputId": "7d8ef7d6-23af-4fde-d6ff-d194e6d25519"
      },
      "source": [
        "import pandas as pd\n",
        "import matplotlib.pyplot as plt\n",
        "import seaborn as sns\n",
        "\n",
        "df = pd.read_csv(url, error_bad_lines=False)\n",
        "\n",
        "df = df.pivot_table(index='calories', columns='protein', values='rating')\n",
        "\n",
        "print (df)\n",
        "\n",
        "sns.heatmap(df, annot=True, cmap='coolwarm')\n",
        "\n",
        "plt.show()"
      ],
      "execution_count": null,
      "outputs": [
        {
          "output_type": "stream",
          "text": [
            "protein           1          2          3          4          5          6\n",
            "calories                                                                  \n",
            "50        60.756112  63.005645        NaN  93.704912        NaN        NaN\n",
            "70              NaN        NaN        NaN  63.914239        NaN        NaN\n",
            "80              NaN  68.235885        NaN        NaN        NaN        NaN\n",
            "90              NaN  54.605796  65.057846        NaN        NaN        NaN\n",
            "100             NaN  40.345757  50.525160  49.896955  50.828392        NaN\n",
            "110       29.186242  36.145695  41.323051        NaN        NaN  51.948161\n",
            "120       19.912572  29.924285  39.804621        NaN        NaN        NaN\n",
            "130             NaN        NaN  33.744703        NaN        NaN        NaN\n",
            "140             NaN        NaN  35.252206        NaN        NaN        NaN\n",
            "150             NaN        NaN        NaN  35.638314        NaN        NaN\n",
            "160             NaN        NaN  30.313351        NaN        NaN        NaN\n"
          ],
          "name": "stdout"
        },
        {
          "output_type": "display_data",
          "data": {
            "image/png": "[encoded data removed]",
            "text/plain": [
              "<Figure size 432x288 with 2 Axes>"
            ]
          },
          "metadata": {
            "tags": [],
            "needs_background": "light"
          }
        }
      ]
    },
    {
      "cell_type": "markdown",
      "metadata": {
        "id": "azbtbbBm9Ma0"
      },
      "source": [
        "**Analisis Mapping**: \n",
        "\n",
        "Dalam mapping dibagi menjadi beberapa pengelompokan angka berdasarkan rating yang ada. Dapat dilihat dari mapping di atas bahwa terjadi pengelompokan rating dari dua variabel yaitu protein dan calories. Nilai rating tertinggi berada pada nilai protein 4 dengan nilai kalori 50 dengan rating 94. Sedangkan rating terendah berada pada nilai protein 1 dan nilai kalori 120."
      ]
    },
    {
      "cell_type": "markdown",
      "metadata": {
        "id": "DwbFozjgEtgV"
      },
      "source": [
        "**Tahapan Pemodelan Data**\r\n",
        "\r\n",
        "1. Import library yang digunakan dalam pemodelan data"
      ]
    },
    {
      "cell_type": "code",
      "metadata": {
        "id": "W2SLcGQR9dzu"
      },
      "source": [
        "from sklearn.cluster import KMeans\r\n",
        "import numpy as np\r\n",
        "from sklearn.preprocessing import MinMaxScaler\r\n",
        "import math"
      ],
      "execution_count": null,
      "outputs": []
    },
    {
      "cell_type": "markdown",
      "metadata": {
        "id": "0FENBs2n9hyA"
      },
      "source": [
        "2. Memunculkan tabel hasil produksi cereal"
      ]
    },
    {
      "cell_type": "code",
      "metadata": {
        "colab": {
          "base_uri": "https://localhost:8080/",
          "height": 204
        },
        "id": "cWMMMlYgAO6z",
        "outputId": "85e9e1d6-559a-41ad-f929-4ea70da5f126"
      },
      "source": [
        "import pandas as pd\r\n",
        "production = pd.read_csv(url, error_bad_lines=False)\r\n",
        "production.head()"
      ],
      "execution_count": null,
      "outputs": [
        {
          "output_type": "execute_result",
          "data": {
            "text/html": [
              "<div>\n",
              "<style scoped>\n",
              "    .dataframe tbody tr th:only-of-type {\n",
              "        vertical-align: middle;\n",
              "    }\n",
              "\n",
              "    .dataframe tbody tr th {\n",
              "        vertical-align: top;\n",
              "    }\n",
              "\n",
              "    .dataframe thead th {\n",
              "        text-align: right;\n",
              "    }\n",
              "</style>\n",
              "<table border=\"1\" class=\"dataframe\">\n",
              "  <thead>\n",
              "    <tr style=\"text-align: right;\">\n",
              "      <th></th>\n",
              "      <th>name</th>\n",
              "      <th>mfr</th>\n",
              "      <th>type</th>\n",
              "      <th>calories</th>\n",
              "      <th>protein</th>\n",
              "      <th>fat</th>\n",
              "      <th>sodium</th>\n",
              "      <th>fiber</th>\n",
              "      <th>carbo</th>\n",
              "      <th>sugars</th>\n",
              "      <th>potass</th>\n",
              "      <th>vitamins</th>\n",
              "      <th>shelf</th>\n",
              "      <th>weight</th>\n",
              "      <th>cups</th>\n",
              "      <th>rating</th>\n",
              "    </tr>\n",
              "  </thead>\n",
              "  <tbody>\n",
              "    <tr>\n",
              "      <th>0</th>\n",
              "      <td>100% Bran</td>\n",
              "      <td>N</td>\n",
              "      <td>C</td>\n",
              "      <td>70</td>\n",
              "      <td>4</td>\n",
              "      <td>1</td>\n",
              "      <td>130</td>\n",
              "      <td>10.0</td>\n",
              "      <td>5.0</td>\n",
              "      <td>6</td>\n",
              "      <td>280</td>\n",
              "      <td>25</td>\n",
              "      <td>3</td>\n",
              "      <td>1.0</td>\n",
              "      <td>0.33</td>\n",
              "      <td>68.402973</td>\n",
              "    </tr>\n",
              "    <tr>\n",
              "      <th>1</th>\n",
              "      <td>100% Natural Bran</td>\n",
              "      <td>Q</td>\n",
              "      <td>C</td>\n",
              "      <td>120</td>\n",
              "      <td>3</td>\n",
              "      <td>5</td>\n",
              "      <td>15</td>\n",
              "      <td>2.0</td>\n",
              "      <td>8.0</td>\n",
              "      <td>8</td>\n",
              "      <td>135</td>\n",
              "      <td>0</td>\n",
              "      <td>3</td>\n",
              "      <td>1.0</td>\n",
              "      <td>1.00</td>\n",
              "      <td>33.983679</td>\n",
              "    </tr>\n",
              "    <tr>\n",
              "      <th>2</th>\n",
              "      <td>All-Bran</td>\n",
              "      <td>K</td>\n",
              "      <td>C</td>\n",
              "      <td>70</td>\n",
              "      <td>4</td>\n",
              "      <td>1</td>\n",
              "      <td>260</td>\n",
              "      <td>9.0</td>\n",
              "      <td>7.0</td>\n",
              "      <td>5</td>\n",
              "      <td>320</td>\n",
              "      <td>25</td>\n",
              "      <td>3</td>\n",
              "      <td>1.0</td>\n",
              "      <td>0.33</td>\n",
              "      <td>59.425505</td>\n",
              "    </tr>\n",
              "    <tr>\n",
              "      <th>3</th>\n",
              "      <td>All-Bran with Extra Fiber</td>\n",
              "      <td>K</td>\n",
              "      <td>C</td>\n",
              "      <td>50</td>\n",
              "      <td>4</td>\n",
              "      <td>0</td>\n",
              "      <td>140</td>\n",
              "      <td>14.0</td>\n",
              "      <td>8.0</td>\n",
              "      <td>0</td>\n",
              "      <td>330</td>\n",
              "      <td>25</td>\n",
              "      <td>3</td>\n",
              "      <td>1.0</td>\n",
              "      <td>0.50</td>\n",
              "      <td>93.704912</td>\n",
              "    </tr>\n",
              "    <tr>\n",
              "      <th>4</th>\n",
              "      <td>Almond Delight</td>\n",
              "      <td>R</td>\n",
              "      <td>C</td>\n",
              "      <td>110</td>\n",
              "      <td>2</td>\n",
              "      <td>2</td>\n",
              "      <td>200</td>\n",
              "      <td>1.0</td>\n",
              "      <td>14.0</td>\n",
              "      <td>8</td>\n",
              "      <td>-1</td>\n",
              "      <td>25</td>\n",
              "      <td>3</td>\n",
              "      <td>1.0</td>\n",
              "      <td>0.75</td>\n",
              "      <td>34.384843</td>\n",
              "    </tr>\n",
              "  </tbody>\n",
              "</table>\n",
              "</div>"
            ],
            "text/plain": [
              "                        name mfr type  calories  ...  shelf  weight  cups     rating\n",
              "0                  100% Bran   N    C        70  ...      3     1.0  0.33  68.402973\n",
              "1          100% Natural Bran   Q    C       120  ...      3     1.0  1.00  33.983679\n",
              "2                   All-Bran   K    C        70  ...      3     1.0  0.33  59.425505\n",
              "3  All-Bran with Extra Fiber   K    C        50  ...      3     1.0  0.50  93.704912\n",
              "4             Almond Delight   R    C       110  ...      3     1.0  0.75  34.384843\n",
              "\n",
              "[5 rows x 16 columns]"
            ]
          },
          "metadata": {
            "tags": []
          },
          "execution_count": 22
        }
      ]
    },
    {
      "cell_type": "markdown",
      "metadata": {
        "id": "zNYa1UWq-UEk"
      },
      "source": [
        "3. Pengelompokkan data menggunakan acuan type produk"
      ]
    },
    {
      "cell_type": "code",
      "metadata": {
        "colab": {
          "base_uri": "https://localhost:8080/",
          "height": 377
        },
        "id": "ETdYheEP-bfF",
        "outputId": "91ba19a8-0a49-41b5-bb96-f7ac7817dc69"
      },
      "source": [
        "test= dt.groupby(['mfr'])\r\n",
        "test.describe()"
      ],
      "execution_count": null,
      "outputs": [
        {
          "output_type": "execute_result",
          "data": {
            "text/html": [
              "<div>\n",
              "<style scoped>\n",
              "    .dataframe tbody tr th:only-of-type {\n",
              "        vertical-align: middle;\n",
              "    }\n",
              "\n",
              "    .dataframe tbody tr th {\n",
              "        vertical-align: top;\n",
              "    }\n",
              "\n",
              "    .dataframe thead tr th {\n",
              "        text-align: left;\n",
              "    }\n",
              "\n",
              "    .dataframe thead tr:last-of-type th {\n",
              "        text-align: right;\n",
              "    }\n",
              "</style>\n",
              "<table border=\"1\" class=\"dataframe\">\n",
              "  <thead>\n",
              "    <tr>\n",
              "      <th></th>\n",
              "      <th colspan=\"8\" halign=\"left\">calories</th>\n",
              "      <th colspan=\"8\" halign=\"left\">protein</th>\n",
              "      <th colspan=\"8\" halign=\"left\">fat</th>\n",
              "      <th colspan=\"8\" halign=\"left\">sodium</th>\n",
              "      <th colspan=\"8\" halign=\"left\">fiber</th>\n",
              "      <th>...</th>\n",
              "      <th colspan=\"8\" halign=\"left\">vitamins</th>\n",
              "      <th colspan=\"8\" halign=\"left\">shelf</th>\n",
              "      <th colspan=\"8\" halign=\"left\">weight</th>\n",
              "      <th colspan=\"8\" halign=\"left\">cups</th>\n",
              "      <th colspan=\"8\" halign=\"left\">rating</th>\n",
              "    </tr>\n",
              "    <tr>\n",
              "      <th></th>\n",
              "      <th>count</th>\n",
              "      <th>mean</th>\n",
              "      <th>std</th>\n",
              "      <th>min</th>\n",
              "      <th>25%</th>\n",
              "      <th>50%</th>\n",
              "      <th>75%</th>\n",
              "      <th>max</th>\n",
              "      <th>count</th>\n",
              "      <th>mean</th>\n",
              "      <th>std</th>\n",
              "      <th>min</th>\n",
              "      <th>25%</th>\n",
              "      <th>50%</th>\n",
              "      <th>75%</th>\n",
              "      <th>max</th>\n",
              "      <th>count</th>\n",
              "      <th>mean</th>\n",
              "      <th>std</th>\n",
              "      <th>min</th>\n",
              "      <th>25%</th>\n",
              "      <th>50%</th>\n",
              "      <th>75%</th>\n",
              "      <th>max</th>\n",
              "      <th>count</th>\n",
              "      <th>mean</th>\n",
              "      <th>std</th>\n",
              "      <th>min</th>\n",
              "      <th>25%</th>\n",
              "      <th>50%</th>\n",
              "      <th>75%</th>\n",
              "      <th>max</th>\n",
              "      <th>count</th>\n",
              "      <th>mean</th>\n",
              "      <th>std</th>\n",
              "      <th>min</th>\n",
              "      <th>25%</th>\n",
              "      <th>50%</th>\n",
              "      <th>75%</th>\n",
              "      <th>max</th>\n",
              "      <th>...</th>\n",
              "      <th>count</th>\n",
              "      <th>mean</th>\n",
              "      <th>std</th>\n",
              "      <th>min</th>\n",
              "      <th>25%</th>\n",
              "      <th>50%</th>\n",
              "      <th>75%</th>\n",
              "      <th>max</th>\n",
              "      <th>count</th>\n",
              "      <th>mean</th>\n",
              "      <th>std</th>\n",
              "      <th>min</th>\n",
              "      <th>25%</th>\n",
              "      <th>50%</th>\n",
              "      <th>75%</th>\n",
              "      <th>max</th>\n",
              "      <th>count</th>\n",
              "      <th>mean</th>\n",
              "      <th>std</th>\n",
              "      <th>min</th>\n",
              "      <th>25%</th>\n",
              "      <th>50%</th>\n",
              "      <th>75%</th>\n",
              "      <th>max</th>\n",
              "      <th>count</th>\n",
              "      <th>mean</th>\n",
              "      <th>std</th>\n",
              "      <th>min</th>\n",
              "      <th>25%</th>\n",
              "      <th>50%</th>\n",
              "      <th>75%</th>\n",
              "      <th>max</th>\n",
              "      <th>count</th>\n",
              "      <th>mean</th>\n",
              "      <th>std</th>\n",
              "      <th>min</th>\n",
              "      <th>25%</th>\n",
              "      <th>50%</th>\n",
              "      <th>75%</th>\n",
              "      <th>max</th>\n",
              "    </tr>\n",
              "    <tr>\n",
              "      <th>mfr</th>\n",
              "      <th></th>\n",
              "      <th></th>\n",
              "      <th></th>\n",
              "      <th></th>\n",
              "      <th></th>\n",
              "      <th></th>\n",
              "      <th></th>\n",
              "      <th></th>\n",
              "      <th></th>\n",
              "      <th></th>\n",
              "      <th></th>\n",
              "      <th></th>\n",
              "      <th></th>\n",
              "      <th></th>\n",
              "      <th></th>\n",
              "      <th></th>\n",
              "      <th></th>\n",
              "      <th></th>\n",
              "      <th></th>\n",
              "      <th></th>\n",
              "      <th></th>\n",
              "      <th></th>\n",
              "      <th></th>\n",
              "      <th></th>\n",
              "      <th></th>\n",
              "      <th></th>\n",
              "      <th></th>\n",
              "      <th></th>\n",
              "      <th></th>\n",
              "      <th></th>\n",
              "      <th></th>\n",
              "      <th></th>\n",
              "      <th></th>\n",
              "      <th></th>\n",
              "      <th></th>\n",
              "      <th></th>\n",
              "      <th></th>\n",
              "      <th></th>\n",
              "      <th></th>\n",
              "      <th></th>\n",
              "      <th></th>\n",
              "      <th></th>\n",
              "      <th></th>\n",
              "      <th></th>\n",
              "      <th></th>\n",
              "      <th></th>\n",
              "      <th></th>\n",
              "      <th></th>\n",
              "      <th></th>\n",
              "      <th></th>\n",
              "      <th></th>\n",
              "      <th></th>\n",
              "      <th></th>\n",
              "      <th></th>\n",
              "      <th></th>\n",
              "      <th></th>\n",
              "      <th></th>\n",
              "      <th></th>\n",
              "      <th></th>\n",
              "      <th></th>\n",
              "      <th></th>\n",
              "      <th></th>\n",
              "      <th></th>\n",
              "      <th></th>\n",
              "      <th></th>\n",
              "      <th></th>\n",
              "      <th></th>\n",
              "      <th></th>\n",
              "      <th></th>\n",
              "      <th></th>\n",
              "      <th></th>\n",
              "      <th></th>\n",
              "      <th></th>\n",
              "      <th></th>\n",
              "      <th></th>\n",
              "      <th></th>\n",
              "      <th></th>\n",
              "      <th></th>\n",
              "      <th></th>\n",
              "      <th></th>\n",
              "      <th></th>\n",
              "    </tr>\n",
              "  </thead>\n",
              "  <tbody>\n",
              "    <tr>\n",
              "      <th>A</th>\n",
              "      <td>1.0</td>\n",
              "      <td>100.000000</td>\n",
              "      <td>NaN</td>\n",
              "      <td>100.0</td>\n",
              "      <td>100.0</td>\n",
              "      <td>100.0</td>\n",
              "      <td>100.0</td>\n",
              "      <td>100.0</td>\n",
              "      <td>1.0</td>\n",
              "      <td>4.000000</td>\n",
              "      <td>NaN</td>\n",
              "      <td>4.0</td>\n",
              "      <td>4.00</td>\n",
              "      <td>4.0</td>\n",
              "      <td>4.00</td>\n",
              "      <td>4.0</td>\n",
              "      <td>1.0</td>\n",
              "      <td>1.000000</td>\n",
              "      <td>NaN</td>\n",
              "      <td>1.0</td>\n",
              "      <td>1.00</td>\n",
              "      <td>1.0</td>\n",
              "      <td>1.00</td>\n",
              "      <td>1.0</td>\n",
              "      <td>1.0</td>\n",
              "      <td>0.000000</td>\n",
              "      <td>NaN</td>\n",
              "      <td>0.0</td>\n",
              "      <td>0.0</td>\n",
              "      <td>0.0</td>\n",
              "      <td>0.00</td>\n",
              "      <td>0.0</td>\n",
              "      <td>1.0</td>\n",
              "      <td>0.000000</td>\n",
              "      <td>NaN</td>\n",
              "      <td>0.0</td>\n",
              "      <td>0.00</td>\n",
              "      <td>0.0</td>\n",
              "      <td>0.00</td>\n",
              "      <td>0.0</td>\n",
              "      <td>...</td>\n",
              "      <td>1.0</td>\n",
              "      <td>25.000000</td>\n",
              "      <td>NaN</td>\n",
              "      <td>25.0</td>\n",
              "      <td>25.0</td>\n",
              "      <td>25.0</td>\n",
              "      <td>25.00</td>\n",
              "      <td>25.0</td>\n",
              "      <td>1.0</td>\n",
              "      <td>2.000000</td>\n",
              "      <td>NaN</td>\n",
              "      <td>2.0</td>\n",
              "      <td>2.00</td>\n",
              "      <td>2.0</td>\n",
              "      <td>2.0</td>\n",
              "      <td>2.0</td>\n",
              "      <td>1.0</td>\n",
              "      <td>1.000000</td>\n",
              "      <td>NaN</td>\n",
              "      <td>1.00</td>\n",
              "      <td>1.000</td>\n",
              "      <td>1.0</td>\n",
              "      <td>1.0</td>\n",
              "      <td>1.00</td>\n",
              "      <td>1.0</td>\n",
              "      <td>1.000000</td>\n",
              "      <td>NaN</td>\n",
              "      <td>1.00</td>\n",
              "      <td>1.00</td>\n",
              "      <td>1.000</td>\n",
              "      <td>1.00</td>\n",
              "      <td>1.00</td>\n",
              "      <td>1.0</td>\n",
              "      <td>54.850917</td>\n",
              "      <td>NaN</td>\n",
              "      <td>54.850917</td>\n",
              "      <td>54.850917</td>\n",
              "      <td>54.850917</td>\n",
              "      <td>54.850917</td>\n",
              "      <td>54.850917</td>\n",
              "    </tr>\n",
              "    <tr>\n",
              "      <th>G</th>\n",
              "      <td>22.0</td>\n",
              "      <td>111.363636</td>\n",
              "      <td>10.371873</td>\n",
              "      <td>100.0</td>\n",
              "      <td>110.0</td>\n",
              "      <td>110.0</td>\n",
              "      <td>110.0</td>\n",
              "      <td>140.0</td>\n",
              "      <td>22.0</td>\n",
              "      <td>2.318182</td>\n",
              "      <td>1.129111</td>\n",
              "      <td>1.0</td>\n",
              "      <td>2.00</td>\n",
              "      <td>2.0</td>\n",
              "      <td>3.00</td>\n",
              "      <td>6.0</td>\n",
              "      <td>22.0</td>\n",
              "      <td>1.363636</td>\n",
              "      <td>0.581087</td>\n",
              "      <td>1.0</td>\n",
              "      <td>1.00</td>\n",
              "      <td>1.0</td>\n",
              "      <td>2.00</td>\n",
              "      <td>3.0</td>\n",
              "      <td>22.0</td>\n",
              "      <td>200.454545</td>\n",
              "      <td>44.021345</td>\n",
              "      <td>140.0</td>\n",
              "      <td>180.0</td>\n",
              "      <td>200.0</td>\n",
              "      <td>217.50</td>\n",
              "      <td>290.0</td>\n",
              "      <td>22.0</td>\n",
              "      <td>1.272727</td>\n",
              "      <td>1.241421</td>\n",
              "      <td>0.0</td>\n",
              "      <td>0.00</td>\n",
              "      <td>1.5</td>\n",
              "      <td>2.00</td>\n",
              "      <td>4.0</td>\n",
              "      <td>...</td>\n",
              "      <td>22.0</td>\n",
              "      <td>35.227273</td>\n",
              "      <td>26.343756</td>\n",
              "      <td>25.0</td>\n",
              "      <td>25.0</td>\n",
              "      <td>25.0</td>\n",
              "      <td>25.00</td>\n",
              "      <td>100.0</td>\n",
              "      <td>22.0</td>\n",
              "      <td>2.136364</td>\n",
              "      <td>0.833550</td>\n",
              "      <td>1.0</td>\n",
              "      <td>1.25</td>\n",
              "      <td>2.0</td>\n",
              "      <td>3.0</td>\n",
              "      <td>3.0</td>\n",
              "      <td>22.0</td>\n",
              "      <td>1.049091</td>\n",
              "      <td>0.132446</td>\n",
              "      <td>1.00</td>\n",
              "      <td>1.000</td>\n",
              "      <td>1.0</td>\n",
              "      <td>1.0</td>\n",
              "      <td>1.50</td>\n",
              "      <td>22.0</td>\n",
              "      <td>0.875000</td>\n",
              "      <td>0.240906</td>\n",
              "      <td>0.50</td>\n",
              "      <td>0.75</td>\n",
              "      <td>0.875</td>\n",
              "      <td>1.00</td>\n",
              "      <td>1.50</td>\n",
              "      <td>22.0</td>\n",
              "      <td>34.485852</td>\n",
              "      <td>8.946704</td>\n",
              "      <td>19.823573</td>\n",
              "      <td>27.963172</td>\n",
              "      <td>36.181877</td>\n",
              "      <td>39.587829</td>\n",
              "      <td>51.592193</td>\n",
              "    </tr>\n",
              "    <tr>\n",
              "      <th>K</th>\n",
              "      <td>23.0</td>\n",
              "      <td>108.695652</td>\n",
              "      <td>22.218818</td>\n",
              "      <td>50.0</td>\n",
              "      <td>100.0</td>\n",
              "      <td>110.0</td>\n",
              "      <td>115.0</td>\n",
              "      <td>160.0</td>\n",
              "      <td>23.0</td>\n",
              "      <td>2.652174</td>\n",
              "      <td>1.070628</td>\n",
              "      <td>1.0</td>\n",
              "      <td>2.00</td>\n",
              "      <td>3.0</td>\n",
              "      <td>3.00</td>\n",
              "      <td>6.0</td>\n",
              "      <td>23.0</td>\n",
              "      <td>0.608696</td>\n",
              "      <td>0.838783</td>\n",
              "      <td>0.0</td>\n",
              "      <td>0.00</td>\n",
              "      <td>0.0</td>\n",
              "      <td>1.00</td>\n",
              "      <td>3.0</td>\n",
              "      <td>23.0</td>\n",
              "      <td>174.782609</td>\n",
              "      <td>84.132988</td>\n",
              "      <td>0.0</td>\n",
              "      <td>132.5</td>\n",
              "      <td>170.0</td>\n",
              "      <td>225.00</td>\n",
              "      <td>320.0</td>\n",
              "      <td>23.0</td>\n",
              "      <td>2.739130</td>\n",
              "      <td>3.193991</td>\n",
              "      <td>0.0</td>\n",
              "      <td>1.00</td>\n",
              "      <td>1.0</td>\n",
              "      <td>3.00</td>\n",
              "      <td>14.0</td>\n",
              "      <td>...</td>\n",
              "      <td>23.0</td>\n",
              "      <td>34.782609</td>\n",
              "      <td>25.826267</td>\n",
              "      <td>25.0</td>\n",
              "      <td>25.0</td>\n",
              "      <td>25.0</td>\n",
              "      <td>25.00</td>\n",
              "      <td>100.0</td>\n",
              "      <td>23.0</td>\n",
              "      <td>2.347826</td>\n",
              "      <td>0.775107</td>\n",
              "      <td>1.0</td>\n",
              "      <td>2.00</td>\n",
              "      <td>3.0</td>\n",
              "      <td>3.0</td>\n",
              "      <td>3.0</td>\n",
              "      <td>23.0</td>\n",
              "      <td>1.077826</td>\n",
              "      <td>0.154830</td>\n",
              "      <td>1.00</td>\n",
              "      <td>1.000</td>\n",
              "      <td>1.0</td>\n",
              "      <td>1.0</td>\n",
              "      <td>1.50</td>\n",
              "      <td>23.0</td>\n",
              "      <td>0.796087</td>\n",
              "      <td>0.209778</td>\n",
              "      <td>0.33</td>\n",
              "      <td>0.67</td>\n",
              "      <td>0.750</td>\n",
              "      <td>1.00</td>\n",
              "      <td>1.00</td>\n",
              "      <td>23.0</td>\n",
              "      <td>44.038462</td>\n",
              "      <td>14.457434</td>\n",
              "      <td>29.924285</td>\n",
              "      <td>34.478442</td>\n",
              "      <td>40.560159</td>\n",
              "      <td>50.013484</td>\n",
              "      <td>93.704912</td>\n",
              "    </tr>\n",
              "    <tr>\n",
              "      <th>N</th>\n",
              "      <td>6.0</td>\n",
              "      <td>86.666667</td>\n",
              "      <td>10.327956</td>\n",
              "      <td>70.0</td>\n",
              "      <td>82.5</td>\n",
              "      <td>90.0</td>\n",
              "      <td>90.0</td>\n",
              "      <td>100.0</td>\n",
              "      <td>6.0</td>\n",
              "      <td>2.833333</td>\n",
              "      <td>0.752773</td>\n",
              "      <td>2.0</td>\n",
              "      <td>2.25</td>\n",
              "      <td>3.0</td>\n",
              "      <td>3.00</td>\n",
              "      <td>4.0</td>\n",
              "      <td>6.0</td>\n",
              "      <td>0.166667</td>\n",
              "      <td>0.408248</td>\n",
              "      <td>0.0</td>\n",
              "      <td>0.00</td>\n",
              "      <td>0.0</td>\n",
              "      <td>0.00</td>\n",
              "      <td>1.0</td>\n",
              "      <td>6.0</td>\n",
              "      <td>37.500000</td>\n",
              "      <td>54.931776</td>\n",
              "      <td>0.0</td>\n",
              "      <td>0.0</td>\n",
              "      <td>7.5</td>\n",
              "      <td>63.75</td>\n",
              "      <td>130.0</td>\n",
              "      <td>6.0</td>\n",
              "      <td>4.000000</td>\n",
              "      <td>3.098387</td>\n",
              "      <td>1.0</td>\n",
              "      <td>3.00</td>\n",
              "      <td>3.0</td>\n",
              "      <td>3.75</td>\n",
              "      <td>10.0</td>\n",
              "      <td>...</td>\n",
              "      <td>6.0</td>\n",
              "      <td>8.333333</td>\n",
              "      <td>12.909944</td>\n",
              "      <td>0.0</td>\n",
              "      <td>0.0</td>\n",
              "      <td>0.0</td>\n",
              "      <td>18.75</td>\n",
              "      <td>25.0</td>\n",
              "      <td>6.0</td>\n",
              "      <td>1.666667</td>\n",
              "      <td>0.816497</td>\n",
              "      <td>1.0</td>\n",
              "      <td>1.00</td>\n",
              "      <td>1.5</td>\n",
              "      <td>2.0</td>\n",
              "      <td>3.0</td>\n",
              "      <td>6.0</td>\n",
              "      <td>0.971667</td>\n",
              "      <td>0.069402</td>\n",
              "      <td>0.83</td>\n",
              "      <td>1.000</td>\n",
              "      <td>1.0</td>\n",
              "      <td>1.0</td>\n",
              "      <td>1.00</td>\n",
              "      <td>6.0</td>\n",
              "      <td>0.778333</td>\n",
              "      <td>0.272721</td>\n",
              "      <td>0.33</td>\n",
              "      <td>0.67</td>\n",
              "      <td>0.835</td>\n",
              "      <td>1.00</td>\n",
              "      <td>1.00</td>\n",
              "      <td>6.0</td>\n",
              "      <td>67.968567</td>\n",
              "      <td>5.509326</td>\n",
              "      <td>59.363993</td>\n",
              "      <td>65.459333</td>\n",
              "      <td>68.319429</td>\n",
              "      <td>71.702084</td>\n",
              "      <td>74.472949</td>\n",
              "    </tr>\n",
              "    <tr>\n",
              "      <th>P</th>\n",
              "      <td>9.0</td>\n",
              "      <td>108.888889</td>\n",
              "      <td>10.540926</td>\n",
              "      <td>90.0</td>\n",
              "      <td>100.0</td>\n",
              "      <td>110.0</td>\n",
              "      <td>120.0</td>\n",
              "      <td>120.0</td>\n",
              "      <td>9.0</td>\n",
              "      <td>2.444444</td>\n",
              "      <td>0.881917</td>\n",
              "      <td>1.0</td>\n",
              "      <td>2.00</td>\n",
              "      <td>3.0</td>\n",
              "      <td>3.00</td>\n",
              "      <td>3.0</td>\n",
              "      <td>9.0</td>\n",
              "      <td>0.888889</td>\n",
              "      <td>1.054093</td>\n",
              "      <td>0.0</td>\n",
              "      <td>0.00</td>\n",
              "      <td>1.0</td>\n",
              "      <td>1.00</td>\n",
              "      <td>3.0</td>\n",
              "      <td>9.0</td>\n",
              "      <td>146.111111</td>\n",
              "      <td>55.157602</td>\n",
              "      <td>45.0</td>\n",
              "      <td>135.0</td>\n",
              "      <td>160.0</td>\n",
              "      <td>180.00</td>\n",
              "      <td>210.0</td>\n",
              "      <td>9.0</td>\n",
              "      <td>2.777778</td>\n",
              "      <td>2.333333</td>\n",
              "      <td>0.0</td>\n",
              "      <td>0.00</td>\n",
              "      <td>3.0</td>\n",
              "      <td>5.00</td>\n",
              "      <td>6.0</td>\n",
              "      <td>...</td>\n",
              "      <td>9.0</td>\n",
              "      <td>25.000000</td>\n",
              "      <td>0.000000</td>\n",
              "      <td>25.0</td>\n",
              "      <td>25.0</td>\n",
              "      <td>25.0</td>\n",
              "      <td>25.00</td>\n",
              "      <td>25.0</td>\n",
              "      <td>9.0</td>\n",
              "      <td>2.444444</td>\n",
              "      <td>0.881917</td>\n",
              "      <td>1.0</td>\n",
              "      <td>2.00</td>\n",
              "      <td>3.0</td>\n",
              "      <td>3.0</td>\n",
              "      <td>3.0</td>\n",
              "      <td>9.0</td>\n",
              "      <td>1.064444</td>\n",
              "      <td>0.129433</td>\n",
              "      <td>1.00</td>\n",
              "      <td>1.000</td>\n",
              "      <td>1.0</td>\n",
              "      <td>1.0</td>\n",
              "      <td>1.33</td>\n",
              "      <td>9.0</td>\n",
              "      <td>0.714444</td>\n",
              "      <td>0.317101</td>\n",
              "      <td>0.25</td>\n",
              "      <td>0.67</td>\n",
              "      <td>0.670</td>\n",
              "      <td>0.88</td>\n",
              "      <td>1.33</td>\n",
              "      <td>9.0</td>\n",
              "      <td>41.705744</td>\n",
              "      <td>10.047647</td>\n",
              "      <td>28.025765</td>\n",
              "      <td>35.252444</td>\n",
              "      <td>40.917047</td>\n",
              "      <td>52.076897</td>\n",
              "      <td>53.371007</td>\n",
              "    </tr>\n",
              "    <tr>\n",
              "      <th>Q</th>\n",
              "      <td>8.0</td>\n",
              "      <td>95.000000</td>\n",
              "      <td>29.277002</td>\n",
              "      <td>50.0</td>\n",
              "      <td>87.5</td>\n",
              "      <td>100.0</td>\n",
              "      <td>120.0</td>\n",
              "      <td>120.0</td>\n",
              "      <td>8.0</td>\n",
              "      <td>2.625000</td>\n",
              "      <td>1.597990</td>\n",
              "      <td>1.0</td>\n",
              "      <td>1.00</td>\n",
              "      <td>2.5</td>\n",
              "      <td>4.00</td>\n",
              "      <td>5.0</td>\n",
              "      <td>8.0</td>\n",
              "      <td>1.750000</td>\n",
              "      <td>1.581139</td>\n",
              "      <td>0.0</td>\n",
              "      <td>0.75</td>\n",
              "      <td>2.0</td>\n",
              "      <td>2.00</td>\n",
              "      <td>5.0</td>\n",
              "      <td>8.0</td>\n",
              "      <td>92.500000</td>\n",
              "      <td>99.498744</td>\n",
              "      <td>0.0</td>\n",
              "      <td>0.0</td>\n",
              "      <td>75.0</td>\n",
              "      <td>167.50</td>\n",
              "      <td>220.0</td>\n",
              "      <td>8.0</td>\n",
              "      <td>1.337500</td>\n",
              "      <td>0.998481</td>\n",
              "      <td>0.0</td>\n",
              "      <td>0.75</td>\n",
              "      <td>1.5</td>\n",
              "      <td>2.00</td>\n",
              "      <td>2.7</td>\n",
              "      <td>...</td>\n",
              "      <td>8.0</td>\n",
              "      <td>12.500000</td>\n",
              "      <td>13.363062</td>\n",
              "      <td>0.0</td>\n",
              "      <td>0.0</td>\n",
              "      <td>12.5</td>\n",
              "      <td>25.00</td>\n",
              "      <td>25.0</td>\n",
              "      <td>8.0</td>\n",
              "      <td>2.375000</td>\n",
              "      <td>0.744024</td>\n",
              "      <td>1.0</td>\n",
              "      <td>2.00</td>\n",
              "      <td>2.5</td>\n",
              "      <td>3.0</td>\n",
              "      <td>3.0</td>\n",
              "      <td>8.0</td>\n",
              "      <td>0.875000</td>\n",
              "      <td>0.231455</td>\n",
              "      <td>0.50</td>\n",
              "      <td>0.875</td>\n",
              "      <td>1.0</td>\n",
              "      <td>1.0</td>\n",
              "      <td>1.00</td>\n",
              "      <td>8.0</td>\n",
              "      <td>0.823750</td>\n",
              "      <td>0.200637</td>\n",
              "      <td>0.50</td>\n",
              "      <td>0.67</td>\n",
              "      <td>0.875</td>\n",
              "      <td>1.00</td>\n",
              "      <td>1.00</td>\n",
              "      <td>8.0</td>\n",
              "      <td>42.915990</td>\n",
              "      <td>16.797673</td>\n",
              "      <td>18.042851</td>\n",
              "      <td>30.955582</td>\n",
              "      <td>47.419974</td>\n",
              "      <td>53.310322</td>\n",
              "      <td>63.005645</td>\n",
              "    </tr>\n",
              "    <tr>\n",
              "      <th>R</th>\n",
              "      <td>8.0</td>\n",
              "      <td>115.000000</td>\n",
              "      <td>22.677868</td>\n",
              "      <td>90.0</td>\n",
              "      <td>100.0</td>\n",
              "      <td>110.0</td>\n",
              "      <td>120.0</td>\n",
              "      <td>150.0</td>\n",
              "      <td>8.0</td>\n",
              "      <td>2.500000</td>\n",
              "      <td>1.069045</td>\n",
              "      <td>1.0</td>\n",
              "      <td>2.00</td>\n",
              "      <td>2.0</td>\n",
              "      <td>3.25</td>\n",
              "      <td>4.0</td>\n",
              "      <td>8.0</td>\n",
              "      <td>1.250000</td>\n",
              "      <td>1.281740</td>\n",
              "      <td>0.0</td>\n",
              "      <td>0.00</td>\n",
              "      <td>1.0</td>\n",
              "      <td>2.25</td>\n",
              "      <td>3.0</td>\n",
              "      <td>8.0</td>\n",
              "      <td>198.125000</td>\n",
              "      <td>56.690734</td>\n",
              "      <td>95.0</td>\n",
              "      <td>180.0</td>\n",
              "      <td>200.0</td>\n",
              "      <td>232.50</td>\n",
              "      <td>280.0</td>\n",
              "      <td>8.0</td>\n",
              "      <td>1.875000</td>\n",
              "      <td>1.552648</td>\n",
              "      <td>0.0</td>\n",
              "      <td>0.75</td>\n",
              "      <td>2.0</td>\n",
              "      <td>3.00</td>\n",
              "      <td>4.0</td>\n",
              "      <td>...</td>\n",
              "      <td>8.0</td>\n",
              "      <td>25.000000</td>\n",
              "      <td>0.000000</td>\n",
              "      <td>25.0</td>\n",
              "      <td>25.0</td>\n",
              "      <td>25.0</td>\n",
              "      <td>25.00</td>\n",
              "      <td>25.0</td>\n",
              "      <td>8.0</td>\n",
              "      <td>2.000000</td>\n",
              "      <td>1.069045</td>\n",
              "      <td>1.0</td>\n",
              "      <td>1.00</td>\n",
              "      <td>2.0</td>\n",
              "      <td>3.0</td>\n",
              "      <td>3.0</td>\n",
              "      <td>8.0</td>\n",
              "      <td>1.000000</td>\n",
              "      <td>0.000000</td>\n",
              "      <td>1.00</td>\n",
              "      <td>1.000</td>\n",
              "      <td>1.0</td>\n",
              "      <td>1.0</td>\n",
              "      <td>1.00</td>\n",
              "      <td>8.0</td>\n",
              "      <td>0.871250</td>\n",
              "      <td>0.180114</td>\n",
              "      <td>0.67</td>\n",
              "      <td>0.73</td>\n",
              "      <td>0.875</td>\n",
              "      <td>1.00</td>\n",
              "      <td>1.13</td>\n",
              "      <td>8.0</td>\n",
              "      <td>41.542997</td>\n",
              "      <td>6.080841</td>\n",
              "      <td>34.139765</td>\n",
              "      <td>36.448858</td>\n",
              "      <td>41.721976</td>\n",
              "      <td>45.528205</td>\n",
              "      <td>49.787445</td>\n",
              "    </tr>\n",
              "  </tbody>\n",
              "</table>\n",
              "<p>7 rows × 104 columns</p>\n",
              "</div>"
            ],
            "text/plain": [
              "    calories                         ...     rating                      \n",
              "       count        mean        std  ...        50%        75%        max\n",
              "mfr                                  ...                                 \n",
              "A        1.0  100.000000        NaN  ...  54.850917  54.850917  54.850917\n",
              "G       22.0  111.363636  10.371873  ...  36.181877  39.587829  51.592193\n",
              "K       23.0  108.695652  22.218818  ...  40.560159  50.013484  93.704912\n",
              "N        6.0   86.666667  10.327956  ...  68.319429  71.702084  74.472949\n",
              "P        9.0  108.888889  10.540926  ...  40.917047  52.076897  53.371007\n",
              "Q        8.0   95.000000  29.277002  ...  47.419974  53.310322  63.005645\n",
              "R        8.0  115.000000  22.677868  ...  41.721976  45.528205  49.787445\n",
              "\n",
              "[7 rows x 104 columns]"
            ]
          },
          "metadata": {
            "tags": []
          },
          "execution_count": 15
        }
      ]
    },
    {
      "cell_type": "markdown",
      "metadata": {
        "id": "5xcg2HzeAFei"
      },
      "source": [
        "**Analisis pengelompokkan** :\r\n",
        "\r\n",
        "Dengan pengelompokkan menggunakan acuan mfr maka dibagi menjadi calories, protein, fat, sodium, fiber, vitamins, shelf, weight, cups, dan rating. Hal-hal tersebut dikelompokkan lagi menjadi count, mean, std, min, 25%, 50%, 75%, dan max"
      ]
    },
    {
      "cell_type": "markdown",
      "metadata": {
        "id": "sXWi8arVBoOG"
      },
      "source": [
        "4. Menampilkan data informasi mengenai data tabel yang diolah"
      ]
    },
    {
      "cell_type": "code",
      "metadata": {
        "colab": {
          "base_uri": "https://localhost:8080/"
        },
        "id": "T7JC355SAp_j",
        "outputId": "1c0c0cc7-105e-42e5-fb90-7e5d80090d58"
      },
      "source": [
        "production.info()"
      ],
      "execution_count": null,
      "outputs": [
        {
          "output_type": "stream",
          "text": [
            "<class 'pandas.core.frame.DataFrame'>\n",
            "RangeIndex: 77 entries, 0 to 76\n",
            "Data columns (total 16 columns):\n",
            " #   Column    Non-Null Count  Dtype  \n",
            "---  ------    --------------  -----  \n",
            " 0   name      77 non-null     object \n",
            " 1   mfr       77 non-null     object \n",
            " 2   type      77 non-null     object \n",
            " 3   calories  77 non-null     int64  \n",
            " 4   protein   77 non-null     int64  \n",
            " 5   fat       77 non-null     int64  \n",
            " 6   sodium    77 non-null     int64  \n",
            " 7   fiber     77 non-null     float64\n",
            " 8   carbo     77 non-null     float64\n",
            " 9   sugars    77 non-null     int64  \n",
            " 10  potass    77 non-null     int64  \n",
            " 11  vitamins  77 non-null     int64  \n",
            " 12  shelf     77 non-null     int64  \n",
            " 13  weight    77 non-null     float64\n",
            " 14  cups      77 non-null     float64\n",
            " 15  rating    77 non-null     float64\n",
            "dtypes: float64(5), int64(8), object(3)\n",
            "memory usage: 9.8+ KB\n"
          ],
          "name": "stdout"
        }
      ]
    },
    {
      "cell_type": "markdown",
      "metadata": {
        "id": "rd8zZseqB7M4"
      },
      "source": [
        "5. Tahap ini melakukan pengelompokkan indeks untuk pemilihan berdasarkan kolom 5 hingga kolom 7"
      ]
    },
    {
      "cell_type": "code",
      "metadata": {
        "colab": {
          "base_uri": "https://localhost:8080/",
          "height": 204
        },
        "id": "PniKFlt7A3WB",
        "outputId": "3df63e77-15fa-4379-dfec-bc0fea67bd94"
      },
      "source": [
        "production_x = production.iloc[:, 5:7]\r\n",
        "production_x.head()"
      ],
      "execution_count": null,
      "outputs": [
        {
          "output_type": "execute_result",
          "data": {
            "text/html": [
              "<div>\n",
              "<style scoped>\n",
              "    .dataframe tbody tr th:only-of-type {\n",
              "        vertical-align: middle;\n",
              "    }\n",
              "\n",
              "    .dataframe tbody tr th {\n",
              "        vertical-align: top;\n",
              "    }\n",
              "\n",
              "    .dataframe thead th {\n",
              "        text-align: right;\n",
              "    }\n",
              "</style>\n",
              "<table border=\"1\" class=\"dataframe\">\n",
              "  <thead>\n",
              "    <tr style=\"text-align: right;\">\n",
              "      <th></th>\n",
              "      <th>fat</th>\n",
              "      <th>sodium</th>\n",
              "    </tr>\n",
              "  </thead>\n",
              "  <tbody>\n",
              "    <tr>\n",
              "      <th>0</th>\n",
              "      <td>1</td>\n",
              "      <td>130</td>\n",
              "    </tr>\n",
              "    <tr>\n",
              "      <th>1</th>\n",
              "      <td>5</td>\n",
              "      <td>15</td>\n",
              "    </tr>\n",
              "    <tr>\n",
              "      <th>2</th>\n",
              "      <td>1</td>\n",
              "      <td>260</td>\n",
              "    </tr>\n",
              "    <tr>\n",
              "      <th>3</th>\n",
              "      <td>0</td>\n",
              "      <td>140</td>\n",
              "    </tr>\n",
              "    <tr>\n",
              "      <th>4</th>\n",
              "      <td>2</td>\n",
              "      <td>200</td>\n",
              "    </tr>\n",
              "  </tbody>\n",
              "</table>\n",
              "</div>"
            ],
            "text/plain": [
              "   fat  sodium\n",
              "0    1     130\n",
              "1    5      15\n",
              "2    1     260\n",
              "3    0     140\n",
              "4    2     200"
            ]
          },
          "metadata": {
            "tags": []
          },
          "execution_count": 24
        }
      ]
    },
    {
      "cell_type": "markdown",
      "metadata": {
        "id": "_Yn8XKlnCJiz"
      },
      "source": [
        "**Analisis** :\r\n",
        "\r\n",
        "Kolom yang dimunculkan pada tabel di atas yaitu fat dan sodium. Karena kolom tersebut memiliki nilai integer."
      ]
    },
    {
      "cell_type": "markdown",
      "metadata": {
        "id": "6o0N_us0CeiA"
      },
      "source": [
        "6. Menampilkan scatterplot menggunakan library seaborn dengan kolom sodium dan fat"
      ]
    },
    {
      "cell_type": "code",
      "metadata": {
        "colab": {
          "base_uri": "https://localhost:8080/",
          "height": 296
        },
        "id": "ANhotTmoBK7Q",
        "outputId": "7f2eee00-159b-462d-c6f4-5b82554fa00a"
      },
      "source": [
        "import seaborn as sns\r\n",
        "sns.scatterplot(x=\"fat\", y=\"sodium\", data=production, s=100, color=\"red\", alpha = 0.5)"
      ],
      "execution_count": null,
      "outputs": [
        {
          "output_type": "execute_result",
          "data": {
            "text/plain": [
              "<matplotlib.axes._subplots.AxesSubplot at 0x7f2725c1b2e8>"
            ]
          },
          "metadata": {
            "tags": []
          },
          "execution_count": 7
        },
        {
          "output_type": "display_data",
          "data": {
            "image/png": "[encoded data removed]",
            "text/plain": [
              "<Figure size 432x288 with 1 Axes>"
            ]
          },
          "metadata": {
            "tags": [],
            "needs_background": "light"
          }
        }
      ]
    },
    {
      "cell_type": "markdown",
      "metadata": {
        "id": "WdFidGLcCs4r"
      },
      "source": [
        "7. Mengimport library numpy yang digunakan"
      ]
    },
    {
      "cell_type": "code",
      "metadata": {
        "id": "RoVJjjXHByhb"
      },
      "source": [
        "from sklearn.cluster import KMeans\r\n",
        "import numpy as np"
      ],
      "execution_count": null,
      "outputs": []
    },
    {
      "cell_type": "markdown",
      "metadata": {
        "id": "C4JYj9_HC0Ag"
      },
      "source": [
        "8. Pengelompokkan menggunakan metode Elbow"
      ]
    },
    {
      "cell_type": "code",
      "metadata": {
        "colab": {
          "base_uri": "https://localhost:8080/",
          "height": 295
        },
        "id": "4qkxlGMCB4hx",
        "outputId": "ccedde29-dd46-4773-cfc5-b190c35f5ed5"
      },
      "source": [
        "# Menggunakan metode elbow untuk menentukan angka cluster yang tepat\r\n",
        "import matplotlib.pyplot as plt\r\n",
        "from sklearn.cluster import KMeans\r\n",
        "wcss = []\r\n",
        "for i in range(1, 11):\r\n",
        "    kmeans = KMeans(n_clusters = i, init = 'k-means++', random_state = 42)\r\n",
        "    kmeans.fit(production_x)\r\n",
        "    wcss.append(kmeans.inertia_)\r\n",
        "plt.plot(range(1, 11), wcss)\r\n",
        "plt.title('Metode Elbow')\r\n",
        "plt.xlabel('Jumlah clusters')\r\n",
        "plt.ylabel('WCSS')\r\n",
        "plt.show()"
      ],
      "execution_count": null,
      "outputs": [
        {
          "output_type": "display_data",
          "data": {
            "image/png": "[encoded data removed]",
            "text/plain": [
              "<Figure size 432x288 with 1 Axes>"
            ]
          },
          "metadata": {
            "tags": [],
            "needs_background": "light"
          }
        }
      ]
    },
    {
      "cell_type": "markdown",
      "metadata": {
        "id": "ZouD1CokDA-6"
      },
      "source": [
        "**Analisis** :\r\n",
        "\r\n",
        "Pengelompokkan menggunakan metode Elbow digunakan untuk mengetahui jumlah cluster yang optimal. Untuk mendapatkan nilai yang digunakan dalam grafik, beberapa model menggunakan jumlah cluster yang berbeda dan menyimpan nilai WCSS setiap saat.\r\n",
        "\r\n",
        "WCSS merupakan jumlah jarak kuadrat antara setiap anggota cluster dan pusatnya.\r\n",
        "\r\n",
        "Elbow yang ditemukan diperkirakan pada titik (x,y) = (3,90000)"
      ]
    },
    {
      "cell_type": "markdown",
      "metadata": {
        "id": "dvkUQQJzEKZo"
      },
      "source": [
        "9. Pengelompokkan menggunakan KMeans Clustering"
      ]
    },
    {
      "cell_type": "code",
      "metadata": {
        "id": "1Z0Gse_PCszw"
      },
      "source": [
        "# Menjalankan K-Means Clustering ke dataset\r\n",
        "kmeans = KMeans(n_clusters = 5, init = 'k-means++', random_state = 42)\r\n",
        "y_kmeans = kmeans.fit_predict(production_x)"
      ],
      "execution_count": null,
      "outputs": []
    },
    {
      "cell_type": "code",
      "metadata": {
        "colab": {
          "base_uri": "https://localhost:8080/"
        },
        "id": "yRcN9BZvCw3q",
        "outputId": "6732dcb0-b097-43aa-e47e-c0bfa11895dd"
      },
      "source": [
        "print(kmeans.cluster_centers_)"
      ],
      "execution_count": null,
      "outputs": [
        {
          "output_type": "stream",
          "text": [
            "[[  1.28571429 147.14285714]\n",
            " [  1.16666667  75.83333333]\n",
            " [  0.58333333 270.83333333]\n",
            " [  1.07407407 202.59259259]\n",
            " [  0.72727273   2.72727273]]\n"
          ],
          "name": "stdout"
        }
      ]
    },
    {
      "cell_type": "markdown",
      "metadata": {
        "id": "yBa8DGDQES_W"
      },
      "source": [
        "**Analisis** :\r\n",
        "\r\n",
        "Prediksi yang didapatkan dari pengelompokkan nilai fat dan sodium dari sebuah produk."
      ]
    },
    {
      "cell_type": "markdown",
      "metadata": {
        "id": "ka9g_HaiE1Y-"
      },
      "source": [
        "10. Tahap selanjutnya adalah **pengelompokkan berdasarkan array**. Namun sebelumnya pastikan untuk mengimport library yang dibutuhkan"
      ]
    },
    {
      "cell_type": "code",
      "metadata": {
        "id": "IFnYk30uC1S8"
      },
      "source": [
        "from sklearn.preprocessing import MinMaxScaler"
      ],
      "execution_count": null,
      "outputs": []
    },
    {
      "cell_type": "code",
      "metadata": {
        "colab": {
          "base_uri": "https://localhost:8080/"
        },
        "id": "iGYXvbjXC4mJ",
        "outputId": "1e05de61-ee3c-45d4-d956-9df76168bcfe"
      },
      "source": [
        "x_array =  np.array(production_x)\r\n",
        "print(x_array)"
      ],
      "execution_count": null,
      "outputs": [
        {
          "output_type": "stream",
          "text": [
            "[[  1 130]\n",
            " [  5  15]\n",
            " [  1 260]\n",
            " [  0 140]\n",
            " [  2 200]\n",
            " [  2 180]\n",
            " [  0 125]\n",
            " [  2 210]\n",
            " [  1 200]\n",
            " [  0 210]\n",
            " [  2 220]\n",
            " [  2 290]\n",
            " [  3 210]\n",
            " [  2 140]\n",
            " [  1 180]\n",
            " [  0 280]\n",
            " [  0 290]\n",
            " [  0  90]\n",
            " [  1 180]\n",
            " [  3 140]\n",
            " [  0  80]\n",
            " [  0 220]\n",
            " [  1 140]\n",
            " [  0 190]\n",
            " [  1 125]\n",
            " [  0 200]\n",
            " [  0   0]\n",
            " [  2 160]\n",
            " [  0 240]\n",
            " [  1 135]\n",
            " [  0  45]\n",
            " [  1 280]\n",
            " [  1 140]\n",
            " [  0 170]\n",
            " [  3  75]\n",
            " [  2 220]\n",
            " [  1 250]\n",
            " [  0 180]\n",
            " [  1 170]\n",
            " [  1 170]\n",
            " [  1 260]\n",
            " [  2 150]\n",
            " [  1 180]\n",
            " [  1   0]\n",
            " [  3  95]\n",
            " [  3 150]\n",
            " [  2 150]\n",
            " [  1 220]\n",
            " [  1 190]\n",
            " [  2 220]\n",
            " [  0 170]\n",
            " [  2 170]\n",
            " [  1 200]\n",
            " [  0 320]\n",
            " [  0   0]\n",
            " [  0   0]\n",
            " [  1 135]\n",
            " [  2   0]\n",
            " [  1 210]\n",
            " [  2 140]\n",
            " [  0   0]\n",
            " [  0 240]\n",
            " [  0 290]\n",
            " [  0   0]\n",
            " [  0   0]\n",
            " [  0   0]\n",
            " [  1  70]\n",
            " [  0 230]\n",
            " [  0  15]\n",
            " [  1 200]\n",
            " [  1 190]\n",
            " [  1 200]\n",
            " [  1 250]\n",
            " [  1 140]\n",
            " [  1 230]\n",
            " [  1 200]\n",
            " [  1 200]]\n"
          ],
          "name": "stdout"
        }
      ]
    },
    {
      "cell_type": "markdown",
      "metadata": {
        "id": "xo-KeDULFJdi"
      },
      "source": [
        "11. Pengelompokkan berdasarkan skala"
      ]
    },
    {
      "cell_type": "code",
      "metadata": {
        "colab": {
          "base_uri": "https://localhost:8080/"
        },
        "id": "4qcDudkPDGGz",
        "outputId": "5d80cc69-4628-4d23-9cdc-d0df075aad80"
      },
      "source": [
        "scaler = MinMaxScaler()\r\n",
        "x_scaled = scaler.fit_transform(x_array)\r\n",
        "x_scaled"
      ],
      "execution_count": null,
      "outputs": [
        {
          "output_type": "execute_result",
          "data": {
            "text/plain": [
              "array([[0.2     , 0.40625 ],\n",
              "       [1.      , 0.046875],\n",
              "       [0.2     , 0.8125  ],\n",
              "       [0.      , 0.4375  ],\n",
              "       [0.4     , 0.625   ],\n",
              "       [0.4     , 0.5625  ],\n",
              "       [0.      , 0.390625],\n",
              "       [0.4     , 0.65625 ],\n",
              "       [0.2     , 0.625   ],\n",
              "       [0.      , 0.65625 ],\n",
              "       [0.4     , 0.6875  ],\n",
              "       [0.4     , 0.90625 ],\n",
              "       [0.6     , 0.65625 ],\n",
              "       [0.4     , 0.4375  ],\n",
              "       [0.2     , 0.5625  ],\n",
              "       [0.      , 0.875   ],\n",
              "       [0.      , 0.90625 ],\n",
              "       [0.      , 0.28125 ],\n",
              "       [0.2     , 0.5625  ],\n",
              "       [0.6     , 0.4375  ],\n",
              "       [0.      , 0.25    ],\n",
              "       [0.      , 0.6875  ],\n",
              "       [0.2     , 0.4375  ],\n",
              "       [0.      , 0.59375 ],\n",
              "       [0.2     , 0.390625],\n",
              "       [0.      , 0.625   ],\n",
              "       [0.      , 0.      ],\n",
              "       [0.4     , 0.5     ],\n",
              "       [0.      , 0.75    ],\n",
              "       [0.2     , 0.421875],\n",
              "       [0.      , 0.140625],\n",
              "       [0.2     , 0.875   ],\n",
              "       [0.2     , 0.4375  ],\n",
              "       [0.      , 0.53125 ],\n",
              "       [0.6     , 0.234375],\n",
              "       [0.4     , 0.6875  ],\n",
              "       [0.2     , 0.78125 ],\n",
              "       [0.      , 0.5625  ],\n",
              "       [0.2     , 0.53125 ],\n",
              "       [0.2     , 0.53125 ],\n",
              "       [0.2     , 0.8125  ],\n",
              "       [0.4     , 0.46875 ],\n",
              "       [0.2     , 0.5625  ],\n",
              "       [0.2     , 0.      ],\n",
              "       [0.6     , 0.296875],\n",
              "       [0.6     , 0.46875 ],\n",
              "       [0.4     , 0.46875 ],\n",
              "       [0.2     , 0.6875  ],\n",
              "       [0.2     , 0.59375 ],\n",
              "       [0.4     , 0.6875  ],\n",
              "       [0.      , 0.53125 ],\n",
              "       [0.4     , 0.53125 ],\n",
              "       [0.2     , 0.625   ],\n",
              "       [0.      , 1.      ],\n",
              "       [0.      , 0.      ],\n",
              "       [0.      , 0.      ],\n",
              "       [0.2     , 0.421875],\n",
              "       [0.4     , 0.      ],\n",
              "       [0.2     , 0.65625 ],\n",
              "       [0.4     , 0.4375  ],\n",
              "       [0.      , 0.      ],\n",
              "       [0.      , 0.75    ],\n",
              "       [0.      , 0.90625 ],\n",
              "       [0.      , 0.      ],\n",
              "       [0.      , 0.      ],\n",
              "       [0.      , 0.      ],\n",
              "       [0.2     , 0.21875 ],\n",
              "       [0.      , 0.71875 ],\n",
              "       [0.      , 0.046875],\n",
              "       [0.2     , 0.625   ],\n",
              "       [0.2     , 0.59375 ],\n",
              "       [0.2     , 0.625   ],\n",
              "       [0.2     , 0.78125 ],\n",
              "       [0.2     , 0.4375  ],\n",
              "       [0.2     , 0.71875 ],\n",
              "       [0.2     , 0.625   ],\n",
              "       [0.2     , 0.625   ]])"
            ]
          },
          "metadata": {
            "tags": []
          },
          "execution_count": 15
        }
      ]
    },
    {
      "cell_type": "markdown",
      "metadata": {
        "id": "g4CgPXprFfAt"
      },
      "source": [
        "**Analisis**\r\n",
        "\r\n",
        "Data ini menunjukkan array dengan menggunakan skala yang mencakup ketahanan terhadap stdev yang kecil dan mempertahankan entri nol dalam data renggang."
      ]
    },
    {
      "cell_type": "markdown",
      "metadata": {
        "id": "WG7xJPjpFzUt"
      },
      "source": [
        "12. Menyelesaikan masalah KMeans dengan menggunakan algoritma Lloyd atau Elkan"
      ]
    },
    {
      "cell_type": "code",
      "metadata": {
        "colab": {
          "base_uri": "https://localhost:8080/"
        },
        "id": "xTus2B8MDYHd",
        "outputId": "a0fd6ca9-dd63-4ab8-add4-181d95a9d5de"
      },
      "source": [
        "# Menentukan dan mengkonfigurasi fungsi kmeans\r\n",
        "kmeans = KMeans(n_clusters = 5, random_state=123)\r\n",
        "# Menentukan kluster dari data\r\n",
        "kmeans.fit(x_scaled)"
      ],
      "execution_count": null,
      "outputs": [
        {
          "output_type": "execute_result",
          "data": {
            "text/plain": [
              "KMeans(algorithm='auto', copy_x=True, init='k-means++', max_iter=300,\n",
              "       n_clusters=5, n_init=10, n_jobs=None, precompute_distances='auto',\n",
              "       random_state=123, tol=0.0001, verbose=0)"
            ]
          },
          "metadata": {
            "tags": []
          },
          "execution_count": 27
        }
      ]
    },
    {
      "cell_type": "markdown",
      "metadata": {
        "id": "fPYDdUqDGD6H"
      },
      "source": [
        "**Analisis** \r\n",
        "\r\n",
        "Inisialisasi dari penyelesaian permasalahan KMeans"
      ]
    },
    {
      "cell_type": "code",
      "metadata": {
        "colab": {
          "base_uri": "https://localhost:8080/"
        },
        "id": "vCLWofNHDfDS",
        "outputId": "691fa2ee-152c-4bae-b306-bc380de2c0aa"
      },
      "source": [
        "print(kmeans.cluster_centers_)"
      ],
      "execution_count": null,
      "outputs": [
        {
          "output_type": "stream",
          "text": [
            "[[0.68       0.296875  ]\n",
            " [0.15       0.53459821]\n",
            " [0.10588235 0.80147059]\n",
            " [0.05714286 0.06696429]\n",
            " [0.41538462 0.56971154]]\n"
          ],
          "name": "stdout"
        }
      ]
    },
    {
      "cell_type": "markdown",
      "metadata": {
        "id": "u9QUxPTDGMco"
      },
      "source": [
        "**Analisis**\r\n",
        "\r\n",
        "Print ulang setelah masalah diselesaikan menggunakan prediksi yang didapatkan dari pengelompokkan jumlah produksi cereal dari kolom fat dan sodium"
      ]
    },
    {
      "cell_type": "markdown",
      "metadata": {
        "id": "KYn7TstBGaXf"
      },
      "source": [
        "13. Menampilkan hasil cluster"
      ]
    },
    {
      "cell_type": "code",
      "metadata": {
        "colab": {
          "base_uri": "https://localhost:8080/",
          "height": 255
        },
        "id": "ADh9Q6z_DkMZ",
        "outputId": "30657034-9409-4ff2-9167-00c34dcb24b3"
      },
      "source": [
        "# Menampilkan hasil kluster\r\n",
        "print(kmeans.labels_)\r\n",
        "# Menambahkan kolom \"kluster\" dalam data frame\r\n",
        "production[\"cluster\"] = kmeans.labels_\r\n",
        "production.head()"
      ],
      "execution_count": null,
      "outputs": [
        {
          "output_type": "stream",
          "text": [
            "[1 0 2 1 4 4 1 4 1 2 4 2 4 4 1 2 2 3 1 0 3 2 1 1 1 1 3 4 2 1 3 2 1 1 0 4 2\n",
            " 1 1 1 2 4 1 3 0 0 4 2 1 4 1 4 1 2 3 3 1 3 1 4 3 2 2 3 3 3 3 2 3 1 1 1 2 1\n",
            " 2 1 1]\n"
          ],
          "name": "stdout"
        },
        {
          "output_type": "execute_result",
          "data": {
            "text/html": [
              "<div>\n",
              "<style scoped>\n",
              "    .dataframe tbody tr th:only-of-type {\n",
              "        vertical-align: middle;\n",
              "    }\n",
              "\n",
              "    .dataframe tbody tr th {\n",
              "        vertical-align: top;\n",
              "    }\n",
              "\n",
              "    .dataframe thead th {\n",
              "        text-align: right;\n",
              "    }\n",
              "</style>\n",
              "<table border=\"1\" class=\"dataframe\">\n",
              "  <thead>\n",
              "    <tr style=\"text-align: right;\">\n",
              "      <th></th>\n",
              "      <th>name</th>\n",
              "      <th>mfr</th>\n",
              "      <th>type</th>\n",
              "      <th>calories</th>\n",
              "      <th>protein</th>\n",
              "      <th>fat</th>\n",
              "      <th>sodium</th>\n",
              "      <th>fiber</th>\n",
              "      <th>carbo</th>\n",
              "      <th>sugars</th>\n",
              "      <th>potass</th>\n",
              "      <th>vitamins</th>\n",
              "      <th>shelf</th>\n",
              "      <th>weight</th>\n",
              "      <th>cups</th>\n",
              "      <th>rating</th>\n",
              "      <th>cluster</th>\n",
              "    </tr>\n",
              "  </thead>\n",
              "  <tbody>\n",
              "    <tr>\n",
              "      <th>0</th>\n",
              "      <td>100% Bran</td>\n",
              "      <td>N</td>\n",
              "      <td>C</td>\n",
              "      <td>70</td>\n",
              "      <td>4</td>\n",
              "      <td>1</td>\n",
              "      <td>130</td>\n",
              "      <td>10.0</td>\n",
              "      <td>5.0</td>\n",
              "      <td>6</td>\n",
              "      <td>280</td>\n",
              "      <td>25</td>\n",
              "      <td>3</td>\n",
              "      <td>1.0</td>\n",
              "      <td>0.33</td>\n",
              "      <td>68.402973</td>\n",
              "      <td>1</td>\n",
              "    </tr>\n",
              "    <tr>\n",
              "      <th>1</th>\n",
              "      <td>100% Natural Bran</td>\n",
              "      <td>Q</td>\n",
              "      <td>C</td>\n",
              "      <td>120</td>\n",
              "      <td>3</td>\n",
              "      <td>5</td>\n",
              "      <td>15</td>\n",
              "      <td>2.0</td>\n",
              "      <td>8.0</td>\n",
              "      <td>8</td>\n",
              "      <td>135</td>\n",
              "      <td>0</td>\n",
              "      <td>3</td>\n",
              "      <td>1.0</td>\n",
              "      <td>1.00</td>\n",
              "      <td>33.983679</td>\n",
              "      <td>0</td>\n",
              "    </tr>\n",
              "    <tr>\n",
              "      <th>2</th>\n",
              "      <td>All-Bran</td>\n",
              "      <td>K</td>\n",
              "      <td>C</td>\n",
              "      <td>70</td>\n",
              "      <td>4</td>\n",
              "      <td>1</td>\n",
              "      <td>260</td>\n",
              "      <td>9.0</td>\n",
              "      <td>7.0</td>\n",
              "      <td>5</td>\n",
              "      <td>320</td>\n",
              "      <td>25</td>\n",
              "      <td>3</td>\n",
              "      <td>1.0</td>\n",
              "      <td>0.33</td>\n",
              "      <td>59.425505</td>\n",
              "      <td>2</td>\n",
              "    </tr>\n",
              "    <tr>\n",
              "      <th>3</th>\n",
              "      <td>All-Bran with Extra Fiber</td>\n",
              "      <td>K</td>\n",
              "      <td>C</td>\n",
              "      <td>50</td>\n",
              "      <td>4</td>\n",
              "      <td>0</td>\n",
              "      <td>140</td>\n",
              "      <td>14.0</td>\n",
              "      <td>8.0</td>\n",
              "      <td>0</td>\n",
              "      <td>330</td>\n",
              "      <td>25</td>\n",
              "      <td>3</td>\n",
              "      <td>1.0</td>\n",
              "      <td>0.50</td>\n",
              "      <td>93.704912</td>\n",
              "      <td>1</td>\n",
              "    </tr>\n",
              "    <tr>\n",
              "      <th>4</th>\n",
              "      <td>Almond Delight</td>\n",
              "      <td>R</td>\n",
              "      <td>C</td>\n",
              "      <td>110</td>\n",
              "      <td>2</td>\n",
              "      <td>2</td>\n",
              "      <td>200</td>\n",
              "      <td>1.0</td>\n",
              "      <td>14.0</td>\n",
              "      <td>8</td>\n",
              "      <td>-1</td>\n",
              "      <td>25</td>\n",
              "      <td>3</td>\n",
              "      <td>1.0</td>\n",
              "      <td>0.75</td>\n",
              "      <td>34.384843</td>\n",
              "      <td>4</td>\n",
              "    </tr>\n",
              "  </tbody>\n",
              "</table>\n",
              "</div>"
            ],
            "text/plain": [
              "                        name mfr type  ...  cups     rating  cluster\n",
              "0                  100% Bran   N    C  ...  0.33  68.402973        1\n",
              "1          100% Natural Bran   Q    C  ...  1.00  33.983679        0\n",
              "2                   All-Bran   K    C  ...  0.33  59.425505        2\n",
              "3  All-Bran with Extra Fiber   K    C  ...  0.50  93.704912        1\n",
              "4             Almond Delight   R    C  ...  0.75  34.384843        4\n",
              "\n",
              "[5 rows x 17 columns]"
            ]
          },
          "metadata": {
            "tags": []
          },
          "execution_count": 18
        }
      ]
    },
    {
      "cell_type": "markdown",
      "metadata": {
        "id": "xz4NkJb6H66V"
      },
      "source": [
        "**Analisis**\r\n",
        "\r\n",
        "Semua data ditampilkan dengan jumlah cluster yang sesuai dengan item yang ada "
      ]
    },
    {
      "cell_type": "code",
      "metadata": {
        "colab": {
          "base_uri": "https://localhost:8080/",
          "height": 669
        },
        "id": "-QAQByaMDuBB",
        "outputId": "e4fe0c89-cd39-4592-c087-8adb41c813ae"
      },
      "source": [
        "production.head(20)"
      ],
      "execution_count": null,
      "outputs": [
        {
          "output_type": "execute_result",
          "data": {
            "text/html": [
              "<div>\n",
              "<style scoped>\n",
              "    .dataframe tbody tr th:only-of-type {\n",
              "        vertical-align: middle;\n",
              "    }\n",
              "\n",
              "    .dataframe tbody tr th {\n",
              "        vertical-align: top;\n",
              "    }\n",
              "\n",
              "    .dataframe thead th {\n",
              "        text-align: right;\n",
              "    }\n",
              "</style>\n",
              "<table border=\"1\" class=\"dataframe\">\n",
              "  <thead>\n",
              "    <tr style=\"text-align: right;\">\n",
              "      <th></th>\n",
              "      <th>name</th>\n",
              "      <th>mfr</th>\n",
              "      <th>type</th>\n",
              "      <th>calories</th>\n",
              "      <th>protein</th>\n",
              "      <th>fat</th>\n",
              "      <th>sodium</th>\n",
              "      <th>fiber</th>\n",
              "      <th>carbo</th>\n",
              "      <th>sugars</th>\n",
              "      <th>potass</th>\n",
              "      <th>vitamins</th>\n",
              "      <th>shelf</th>\n",
              "      <th>weight</th>\n",
              "      <th>cups</th>\n",
              "      <th>rating</th>\n",
              "      <th>cluster</th>\n",
              "    </tr>\n",
              "  </thead>\n",
              "  <tbody>\n",
              "    <tr>\n",
              "      <th>0</th>\n",
              "      <td>100% Bran</td>\n",
              "      <td>N</td>\n",
              "      <td>C</td>\n",
              "      <td>70</td>\n",
              "      <td>4</td>\n",
              "      <td>1</td>\n",
              "      <td>130</td>\n",
              "      <td>10.0</td>\n",
              "      <td>5.0</td>\n",
              "      <td>6</td>\n",
              "      <td>280</td>\n",
              "      <td>25</td>\n",
              "      <td>3</td>\n",
              "      <td>1.00</td>\n",
              "      <td>0.33</td>\n",
              "      <td>68.402973</td>\n",
              "      <td>1</td>\n",
              "    </tr>\n",
              "    <tr>\n",
              "      <th>1</th>\n",
              "      <td>100% Natural Bran</td>\n",
              "      <td>Q</td>\n",
              "      <td>C</td>\n",
              "      <td>120</td>\n",
              "      <td>3</td>\n",
              "      <td>5</td>\n",
              "      <td>15</td>\n",
              "      <td>2.0</td>\n",
              "      <td>8.0</td>\n",
              "      <td>8</td>\n",
              "      <td>135</td>\n",
              "      <td>0</td>\n",
              "      <td>3</td>\n",
              "      <td>1.00</td>\n",
              "      <td>1.00</td>\n",
              "      <td>33.983679</td>\n",
              "      <td>0</td>\n",
              "    </tr>\n",
              "    <tr>\n",
              "      <th>2</th>\n",
              "      <td>All-Bran</td>\n",
              "      <td>K</td>\n",
              "      <td>C</td>\n",
              "      <td>70</td>\n",
              "      <td>4</td>\n",
              "      <td>1</td>\n",
              "      <td>260</td>\n",
              "      <td>9.0</td>\n",
              "      <td>7.0</td>\n",
              "      <td>5</td>\n",
              "      <td>320</td>\n",
              "      <td>25</td>\n",
              "      <td>3</td>\n",
              "      <td>1.00</td>\n",
              "      <td>0.33</td>\n",
              "      <td>59.425505</td>\n",
              "      <td>2</td>\n",
              "    </tr>\n",
              "    <tr>\n",
              "      <th>3</th>\n",
              "      <td>All-Bran with Extra Fiber</td>\n",
              "      <td>K</td>\n",
              "      <td>C</td>\n",
              "      <td>50</td>\n",
              "      <td>4</td>\n",
              "      <td>0</td>\n",
              "      <td>140</td>\n",
              "      <td>14.0</td>\n",
              "      <td>8.0</td>\n",
              "      <td>0</td>\n",
              "      <td>330</td>\n",
              "      <td>25</td>\n",
              "      <td>3</td>\n",
              "      <td>1.00</td>\n",
              "      <td>0.50</td>\n",
              "      <td>93.704912</td>\n",
              "      <td>1</td>\n",
              "    </tr>\n",
              "    <tr>\n",
              "      <th>4</th>\n",
              "      <td>Almond Delight</td>\n",
              "      <td>R</td>\n",
              "      <td>C</td>\n",
              "      <td>110</td>\n",
              "      <td>2</td>\n",
              "      <td>2</td>\n",
              "      <td>200</td>\n",
              "      <td>1.0</td>\n",
              "      <td>14.0</td>\n",
              "      <td>8</td>\n",
              "      <td>-1</td>\n",
              "      <td>25</td>\n",
              "      <td>3</td>\n",
              "      <td>1.00</td>\n",
              "      <td>0.75</td>\n",
              "      <td>34.384843</td>\n",
              "      <td>4</td>\n",
              "    </tr>\n",
              "    <tr>\n",
              "      <th>5</th>\n",
              "      <td>Apple Cinnamon Cheerios</td>\n",
              "      <td>G</td>\n",
              "      <td>C</td>\n",
              "      <td>110</td>\n",
              "      <td>2</td>\n",
              "      <td>2</td>\n",
              "      <td>180</td>\n",
              "      <td>1.5</td>\n",
              "      <td>10.5</td>\n",
              "      <td>10</td>\n",
              "      <td>70</td>\n",
              "      <td>25</td>\n",
              "      <td>1</td>\n",
              "      <td>1.00</td>\n",
              "      <td>0.75</td>\n",
              "      <td>29.509541</td>\n",
              "      <td>4</td>\n",
              "    </tr>\n",
              "    <tr>\n",
              "      <th>6</th>\n",
              "      <td>Apple Jacks</td>\n",
              "      <td>K</td>\n",
              "      <td>C</td>\n",
              "      <td>110</td>\n",
              "      <td>2</td>\n",
              "      <td>0</td>\n",
              "      <td>125</td>\n",
              "      <td>1.0</td>\n",
              "      <td>11.0</td>\n",
              "      <td>14</td>\n",
              "      <td>30</td>\n",
              "      <td>25</td>\n",
              "      <td>2</td>\n",
              "      <td>1.00</td>\n",
              "      <td>1.00</td>\n",
              "      <td>33.174094</td>\n",
              "      <td>1</td>\n",
              "    </tr>\n",
              "    <tr>\n",
              "      <th>7</th>\n",
              "      <td>Basic 4</td>\n",
              "      <td>G</td>\n",
              "      <td>C</td>\n",
              "      <td>130</td>\n",
              "      <td>3</td>\n",
              "      <td>2</td>\n",
              "      <td>210</td>\n",
              "      <td>2.0</td>\n",
              "      <td>18.0</td>\n",
              "      <td>8</td>\n",
              "      <td>100</td>\n",
              "      <td>25</td>\n",
              "      <td>3</td>\n",
              "      <td>1.33</td>\n",
              "      <td>0.75</td>\n",
              "      <td>37.038562</td>\n",
              "      <td>4</td>\n",
              "    </tr>\n",
              "    <tr>\n",
              "      <th>8</th>\n",
              "      <td>Bran Chex</td>\n",
              "      <td>R</td>\n",
              "      <td>C</td>\n",
              "      <td>90</td>\n",
              "      <td>2</td>\n",
              "      <td>1</td>\n",
              "      <td>200</td>\n",
              "      <td>4.0</td>\n",
              "      <td>15.0</td>\n",
              "      <td>6</td>\n",
              "      <td>125</td>\n",
              "      <td>25</td>\n",
              "      <td>1</td>\n",
              "      <td>1.00</td>\n",
              "      <td>0.67</td>\n",
              "      <td>49.120253</td>\n",
              "      <td>1</td>\n",
              "    </tr>\n",
              "    <tr>\n",
              "      <th>9</th>\n",
              "      <td>Bran Flakes</td>\n",
              "      <td>P</td>\n",
              "      <td>C</td>\n",
              "      <td>90</td>\n",
              "      <td>3</td>\n",
              "      <td>0</td>\n",
              "      <td>210</td>\n",
              "      <td>5.0</td>\n",
              "      <td>13.0</td>\n",
              "      <td>5</td>\n",
              "      <td>190</td>\n",
              "      <td>25</td>\n",
              "      <td>3</td>\n",
              "      <td>1.00</td>\n",
              "      <td>0.67</td>\n",
              "      <td>53.313813</td>\n",
              "      <td>2</td>\n",
              "    </tr>\n",
              "    <tr>\n",
              "      <th>10</th>\n",
              "      <td>Cap'n'Crunch</td>\n",
              "      <td>Q</td>\n",
              "      <td>C</td>\n",
              "      <td>120</td>\n",
              "      <td>1</td>\n",
              "      <td>2</td>\n",
              "      <td>220</td>\n",
              "      <td>0.0</td>\n",
              "      <td>12.0</td>\n",
              "      <td>12</td>\n",
              "      <td>35</td>\n",
              "      <td>25</td>\n",
              "      <td>2</td>\n",
              "      <td>1.00</td>\n",
              "      <td>0.75</td>\n",
              "      <td>18.042851</td>\n",
              "      <td>4</td>\n",
              "    </tr>\n",
              "    <tr>\n",
              "      <th>11</th>\n",
              "      <td>Cheerios</td>\n",
              "      <td>G</td>\n",
              "      <td>C</td>\n",
              "      <td>110</td>\n",
              "      <td>6</td>\n",
              "      <td>2</td>\n",
              "      <td>290</td>\n",
              "      <td>2.0</td>\n",
              "      <td>17.0</td>\n",
              "      <td>1</td>\n",
              "      <td>105</td>\n",
              "      <td>25</td>\n",
              "      <td>1</td>\n",
              "      <td>1.00</td>\n",
              "      <td>1.25</td>\n",
              "      <td>50.764999</td>\n",
              "      <td>2</td>\n",
              "    </tr>\n",
              "    <tr>\n",
              "      <th>12</th>\n",
              "      <td>Cinnamon Toast Crunch</td>\n",
              "      <td>G</td>\n",
              "      <td>C</td>\n",
              "      <td>120</td>\n",
              "      <td>1</td>\n",
              "      <td>3</td>\n",
              "      <td>210</td>\n",
              "      <td>0.0</td>\n",
              "      <td>13.0</td>\n",
              "      <td>9</td>\n",
              "      <td>45</td>\n",
              "      <td>25</td>\n",
              "      <td>2</td>\n",
              "      <td>1.00</td>\n",
              "      <td>0.75</td>\n",
              "      <td>19.823573</td>\n",
              "      <td>4</td>\n",
              "    </tr>\n",
              "    <tr>\n",
              "      <th>13</th>\n",
              "      <td>Clusters</td>\n",
              "      <td>G</td>\n",
              "      <td>C</td>\n",
              "      <td>110</td>\n",
              "      <td>3</td>\n",
              "      <td>2</td>\n",
              "      <td>140</td>\n",
              "      <td>2.0</td>\n",
              "      <td>13.0</td>\n",
              "      <td>7</td>\n",
              "      <td>105</td>\n",
              "      <td>25</td>\n",
              "      <td>3</td>\n",
              "      <td>1.00</td>\n",
              "      <td>0.50</td>\n",
              "      <td>40.400208</td>\n",
              "      <td>4</td>\n",
              "    </tr>\n",
              "    <tr>\n",
              "      <th>14</th>\n",
              "      <td>Cocoa Puffs</td>\n",
              "      <td>G</td>\n",
              "      <td>C</td>\n",
              "      <td>110</td>\n",
              "      <td>1</td>\n",
              "      <td>1</td>\n",
              "      <td>180</td>\n",
              "      <td>0.0</td>\n",
              "      <td>12.0</td>\n",
              "      <td>13</td>\n",
              "      <td>55</td>\n",
              "      <td>25</td>\n",
              "      <td>2</td>\n",
              "      <td>1.00</td>\n",
              "      <td>1.00</td>\n",
              "      <td>22.736446</td>\n",
              "      <td>1</td>\n",
              "    </tr>\n",
              "    <tr>\n",
              "      <th>15</th>\n",
              "      <td>Corn Chex</td>\n",
              "      <td>R</td>\n",
              "      <td>C</td>\n",
              "      <td>110</td>\n",
              "      <td>2</td>\n",
              "      <td>0</td>\n",
              "      <td>280</td>\n",
              "      <td>0.0</td>\n",
              "      <td>22.0</td>\n",
              "      <td>3</td>\n",
              "      <td>25</td>\n",
              "      <td>25</td>\n",
              "      <td>1</td>\n",
              "      <td>1.00</td>\n",
              "      <td>1.00</td>\n",
              "      <td>41.445019</td>\n",
              "      <td>2</td>\n",
              "    </tr>\n",
              "    <tr>\n",
              "      <th>16</th>\n",
              "      <td>Corn Flakes</td>\n",
              "      <td>K</td>\n",
              "      <td>C</td>\n",
              "      <td>100</td>\n",
              "      <td>2</td>\n",
              "      <td>0</td>\n",
              "      <td>290</td>\n",
              "      <td>1.0</td>\n",
              "      <td>21.0</td>\n",
              "      <td>2</td>\n",
              "      <td>35</td>\n",
              "      <td>25</td>\n",
              "      <td>1</td>\n",
              "      <td>1.00</td>\n",
              "      <td>1.00</td>\n",
              "      <td>45.863324</td>\n",
              "      <td>2</td>\n",
              "    </tr>\n",
              "    <tr>\n",
              "      <th>17</th>\n",
              "      <td>Corn Pops</td>\n",
              "      <td>K</td>\n",
              "      <td>C</td>\n",
              "      <td>110</td>\n",
              "      <td>1</td>\n",
              "      <td>0</td>\n",
              "      <td>90</td>\n",
              "      <td>1.0</td>\n",
              "      <td>13.0</td>\n",
              "      <td>12</td>\n",
              "      <td>20</td>\n",
              "      <td>25</td>\n",
              "      <td>2</td>\n",
              "      <td>1.00</td>\n",
              "      <td>1.00</td>\n",
              "      <td>35.782791</td>\n",
              "      <td>3</td>\n",
              "    </tr>\n",
              "    <tr>\n",
              "      <th>18</th>\n",
              "      <td>Count Chocula</td>\n",
              "      <td>G</td>\n",
              "      <td>C</td>\n",
              "      <td>110</td>\n",
              "      <td>1</td>\n",
              "      <td>1</td>\n",
              "      <td>180</td>\n",
              "      <td>0.0</td>\n",
              "      <td>12.0</td>\n",
              "      <td>13</td>\n",
              "      <td>65</td>\n",
              "      <td>25</td>\n",
              "      <td>2</td>\n",
              "      <td>1.00</td>\n",
              "      <td>1.00</td>\n",
              "      <td>22.396513</td>\n",
              "      <td>1</td>\n",
              "    </tr>\n",
              "    <tr>\n",
              "      <th>19</th>\n",
              "      <td>Cracklin' Oat Bran</td>\n",
              "      <td>K</td>\n",
              "      <td>C</td>\n",
              "      <td>110</td>\n",
              "      <td>3</td>\n",
              "      <td>3</td>\n",
              "      <td>140</td>\n",
              "      <td>4.0</td>\n",
              "      <td>10.0</td>\n",
              "      <td>7</td>\n",
              "      <td>160</td>\n",
              "      <td>25</td>\n",
              "      <td>3</td>\n",
              "      <td>1.00</td>\n",
              "      <td>0.50</td>\n",
              "      <td>40.448772</td>\n",
              "      <td>0</td>\n",
              "    </tr>\n",
              "  </tbody>\n",
              "</table>\n",
              "</div>"
            ],
            "text/plain": [
              "                         name mfr type  ...  cups     rating  cluster\n",
              "0                   100% Bran   N    C  ...  0.33  68.402973        1\n",
              "1           100% Natural Bran   Q    C  ...  1.00  33.983679        0\n",
              "2                    All-Bran   K    C  ...  0.33  59.425505        2\n",
              "3   All-Bran with Extra Fiber   K    C  ...  0.50  93.704912        1\n",
              "4              Almond Delight   R    C  ...  0.75  34.384843        4\n",
              "5     Apple Cinnamon Cheerios   G    C  ...  0.75  29.509541        4\n",
              "6                 Apple Jacks   K    C  ...  1.00  33.174094        1\n",
              "7                     Basic 4   G    C  ...  0.75  37.038562        4\n",
              "8                   Bran Chex   R    C  ...  0.67  49.120253        1\n",
              "9                 Bran Flakes   P    C  ...  0.67  53.313813        2\n",
              "10               Cap'n'Crunch   Q    C  ...  0.75  18.042851        4\n",
              "11                   Cheerios   G    C  ...  1.25  50.764999        2\n",
              "12      Cinnamon Toast Crunch   G    C  ...  0.75  19.823573        4\n",
              "13                   Clusters   G    C  ...  0.50  40.400208        4\n",
              "14                Cocoa Puffs   G    C  ...  1.00  22.736446        1\n",
              "15                  Corn Chex   R    C  ...  1.00  41.445019        2\n",
              "16                Corn Flakes   K    C  ...  1.00  45.863324        2\n",
              "17                  Corn Pops   K    C  ...  1.00  35.782791        3\n",
              "18              Count Chocula   G    C  ...  1.00  22.396513        1\n",
              "19         Cracklin' Oat Bran   K    C  ...  0.50  40.448772        0\n",
              "\n",
              "[20 rows x 17 columns]"
            ]
          },
          "metadata": {
            "tags": []
          },
          "execution_count": 19
        }
      ]
    },
    {
      "cell_type": "markdown",
      "metadata": {
        "id": "nRXsXWroIWKY"
      },
      "source": [
        "14. Hasil cluster dengan pengelompokkan menggunakan diagram "
      ]
    },
    {
      "cell_type": "code",
      "metadata": {
        "colab": {
          "base_uri": "https://localhost:8080/",
          "height": 312
        },
        "id": "JCvxlyJPD521",
        "outputId": "e7f5f84f-7e53-4d3a-9ef8-341348681ffc"
      },
      "source": [
        "output = plt.scatter(x_scaled[:,0], \r\n",
        "x_scaled[:,1], s = 100, c = retail.cluster, marker = \"o\", alpha = 1,)\r\n",
        "centers = kmeans.cluster_centers_\r\n",
        "plt.scatter(centers[:,0], centers[:,1], c='red', s=200, alpha=1 , marker=\"s\");\r\n",
        "plt.title(\"Hasil Klustering K-Means\")\r\n",
        "plt.xlabel(\"Scaled fat score\")\r\n",
        "plt.ylabel(\"Scaled sodium score\")\r\n",
        "plt.colorbar (output)\r\n",
        "plt.legend()\r\n",
        "plt.show()"
      ],
      "execution_count": null,
      "outputs": [
        {
          "output_type": "stream",
          "text": [
            "No handles with labels found to put in legend.\n"
          ],
          "name": "stderr"
        },
        {
          "output_type": "display_data",
          "data": {
            "image/png": "[encoded data removed]",
            "text/plain": [
              "<Figure size 432x288 with 2 Axes>"
            ]
          },
          "metadata": {
            "tags": [],
            "needs_background": "light"
          }
        }
      ]
    },
    {
      "cell_type": "markdown",
      "metadata": {
        "id": "KbMNFO-oIg__"
      },
      "source": [
        "**Analisis**\r\n",
        "\r\n",
        "Jika dilihat dari warna level diagram dengan range 0-4, pengelompokkan data dibagi menjadi 5 clustering. Struktur clustering menggunakan metode partitional clustering yaitu data dikelompokkan ke dalam sejumlah cluster tanpa adanya struktur hirarki antara satu dengan yang lainnya."
      ]
    },
    {
      "cell_type": "markdown",
      "metadata": {
        "id": "8nFESITDJ4Y5"
      },
      "source": [
        "**ANALISIS PEMODELAN MENENTUKAN HIPOTESIS**"
      ]
    },
    {
      "cell_type": "markdown",
      "metadata": {
        "id": "1cdvwyNZJ924"
      },
      "source": [
        "1. Menggunakan metode Pearson"
      ]
    },
    {
      "cell_type": "code",
      "metadata": {
        "id": "jWrIfO6aKBb2"
      },
      "source": [
        "def mean(x):\r\n",
        "        return  sum(x)/len(x)"
      ],
      "execution_count": null,
      "outputs": []
    },
    {
      "cell_type": "code",
      "metadata": {
        "id": "fxpTPmqTKFRV"
      },
      "source": [
        "def de_mean(data):\r\n",
        "# convert x by subtracting its mean ( so the result has mean 0)\r\n",
        "        x_bar = mean(data)\r\n",
        "        return [x_i - x_bar for x_i in data]"
      ],
      "execution_count": null,
      "outputs": []
    },
    {
      "cell_type": "code",
      "metadata": {
        "id": "cdqGr0JAKIGW"
      },
      "source": [
        "def sum_of_square(v):\r\n",
        "        return np.dot(v,v)"
      ],
      "execution_count": null,
      "outputs": []
    },
    {
      "cell_type": "code",
      "metadata": {
        "id": "IYRBCsTLKK3Z"
      },
      "source": [
        "def covariance(x,y):\r\n",
        "        n = len(x)\r\n",
        "        return np.dot(de_mean(x), de_mean(y)) / (n-1)"
      ],
      "execution_count": null,
      "outputs": []
    },
    {
      "cell_type": "code",
      "metadata": {
        "id": "ypVXAixXKNX2"
      },
      "source": [
        "def variance(data):\r\n",
        "        n = len(data)\r\n",
        "        deviations = de_mean(data)\r\n",
        "        return sum_of_square(deviations) / (n-1)"
      ],
      "execution_count": null,
      "outputs": []
    },
    {
      "cell_type": "code",
      "metadata": {
        "id": "vO958x4wKP3v"
      },
      "source": [
        "def correlation(x,y):\r\n",
        "        stdev_x = np.std(x)\r\n",
        "        stdev_y = np.std(y)\r\n",
        "        if stdev_x > 0 and stdev_y > 0:\r\n",
        "            return covariance(x,y) / stdev_x / stdev_y\r\n",
        "        else:\r\n",
        "            return 0"
      ],
      "execution_count": null,
      "outputs": []
    },
    {
      "cell_type": "code",
      "metadata": {
        "id": "Ct1IjVFGKTy3"
      },
      "source": [
        "fat = dt['fat']\r\n",
        "so = dt['sodium']\r\n",
        "ca = dt['calories']"
      ],
      "execution_count": null,
      "outputs": []
    },
    {
      "cell_type": "code",
      "metadata": {
        "colab": {
          "base_uri": "https://localhost:8080/"
        },
        "id": "mj1k60yIK0Et",
        "outputId": "374cf429-4a71-441d-f3a0-d877c81c1fe3"
      },
      "source": [
        "print('Korelasi antar kolom : ')\r\n",
        "print('Korelasi antara fat dan sodium adalah ', correlation(fat, so))\r\n",
        "print('Korelasi antara fat dan calories adalah ', correlation(fat, ca))\r\n",
        "print('Korelasi antara sodium dan calories adalah ', correlation(so, ca))\r\n",
        "\r\n",
        "print(' ')\r\n",
        "print('Kovarian antar kolom : ')\r\n",
        "print('Kovarian antara fat dan sodium adalah ', covariance (fat, so))\r\n",
        "print('Kovarian antara fat dan calories adalah ', covariance (fat, ca))\r\n",
        "print('Kovarian antara sodium dan calories adalah ', covariance(so, ca))"
      ],
      "execution_count": null,
      "outputs": [
        {
          "output_type": "stream",
          "text": [
            "Korelasi antar kolom : \n",
            "Korelasi antara fat dan sodium adalah  -0.0054786149869747985\n",
            "Korelasi antara fat dan calories adalah  0.5051704697517085\n",
            "Korelasi antara sodium dan calories adalah  0.30460513783364307\n",
            " \n",
            "Kovarian antar kolom : \n",
            "Kovarian antara fat dan sodium adalah  -0.45625427204374525\n",
            "Kovarian antara fat dan calories adalah  9.777853725222146\n",
            "Kovarian antara sodium dan calories adalah  491.0799726589199\n"
          ],
          "name": "stdout"
        }
      ]
    },
    {
      "cell_type": "code",
      "metadata": {
        "colab": {
          "base_uri": "https://localhost:8080/",
          "height": 353
        },
        "id": "hQLiCbjLNpoj",
        "outputId": "7cf44353-de66-44ab-f6c7-02930c3c5ec6"
      },
      "source": [
        "plt.scatter(dt['fat'], dt['sodium'])\r\n",
        "print('Korelasi antar kolom : ')\r\n",
        "print('Korelasi antara fat dan sodium adalah ', correlation(fat, so))\r\n",
        "\r\n",
        "print(' ')\r\n",
        "print('Kovarian antar kolom : ')\r\n",
        "print('Kovarian antara fat dan sodium adalah ', covariance (fat, so))"
      ],
      "execution_count": null,
      "outputs": [
        {
          "output_type": "stream",
          "text": [
            "Korelasi antar kolom : \n",
            "Korelasi antara fat dan sodium adalah  -0.0054786149869747985\n",
            " \n",
            "Kovarian antar kolom : \n",
            "Kovarian antara fat dan sodium adalah  -0.45625427204374525\n"
          ],
          "name": "stdout"
        },
        {
          "output_type": "display_data",
          "data": {
            "image/png": "[encoded data removed]",
            "text/plain": [
              "<Figure size 432x288 with 1 Axes>"
            ]
          },
          "metadata": {
            "tags": []
          }
        }
      ]
    },
    {
      "cell_type": "markdown",
      "metadata": {
        "id": "i0OTllo1OPOq"
      },
      "source": [
        "**Analisis**\r\n",
        "\r\n",
        "Berdasarkan pemodelan di atas, didapatkan prediksi korelasi antara fat dan sodium adalah - 0,0055 dan prediksi kovarian adalah - 0,46"
      ]
    },
    {
      "cell_type": "code",
      "metadata": {
        "colab": {
          "base_uri": "https://localhost:8080/",
          "height": 353
        },
        "id": "hdzVrDroOm49",
        "outputId": "90b37eb8-70ff-4fcc-8afa-f6bbb7d9e1ea"
      },
      "source": [
        "plt.scatter(dt['fat'], dt['calories'])\r\n",
        "print('Korelasi antar kolom : ')\r\n",
        "print('Korelasi antara fat dan calories adalah ', correlation(fat, ca))\r\n",
        "\r\n",
        "print(' ')\r\n",
        "print('Kovarian antar kolom : ')\r\n",
        "print('Kovarian antara fat dan calories adalah ', covariance (fat, ca))"
      ],
      "execution_count": null,
      "outputs": [
        {
          "output_type": "stream",
          "text": [
            "Korelasi antar kolom : \n",
            "Korelasi antara fat dan calories adalah  0.5051704697517085\n",
            " \n",
            "Kovarian antar kolom : \n",
            "Kovarian antara fat dan calories adalah  9.777853725222146\n"
          ],
          "name": "stdout"
        },
        {
          "output_type": "display_data",
          "data": {
            "image/png": "[encoded data removed]",
            "text/plain": [
              "<Figure size 432x288 with 1 Axes>"
            ]
          },
          "metadata": {
            "tags": []
          }
        }
      ]
    },
    {
      "cell_type": "markdown",
      "metadata": {
        "id": "dZ9grF5rO-xj"
      },
      "source": [
        "**Analisis**\r\n",
        "\r\n",
        "Berdasarkan pemodelan di atas, didapatkan prediksi korelasi antara fat dan calories adalah 0,5 dan prediksi kovarian adalah 9,7"
      ]
    },
    {
      "cell_type": "code",
      "metadata": {
        "colab": {
          "base_uri": "https://localhost:8080/",
          "height": 353
        },
        "id": "88c8qW3TPWxq",
        "outputId": "fe3b897f-8f39-4b66-edfe-4538a307f4fd"
      },
      "source": [
        "plt.scatter(dt['sodium'], dt['calories'])\r\n",
        "\r\n",
        "print('Korelasi antar kolom : ')\r\n",
        "print('Korelasi antara sodium dan calories adalah ', correlation(so, ca))\r\n",
        "\r\n",
        "print(' ')\r\n",
        "print('Kovarian antar kolom : ')\r\n",
        "print('Kovarian antara sodium dan calories adalah ', covariance(so, ca))"
      ],
      "execution_count": null,
      "outputs": [
        {
          "output_type": "stream",
          "text": [
            "Korelasi antar kolom : \n",
            "Korelasi antara sodium dan calories adalah  0.30460513783364307\n",
            " \n",
            "Kovarian antar kolom : \n",
            "Kovarian antara sodium dan calories adalah  491.0799726589199\n"
          ],
          "name": "stdout"
        },
        {
          "output_type": "display_data",
          "data": {
            "image/png": "[encoded data removed]",
            "text/plain": [
              "<Figure size 432x288 with 1 Axes>"
            ]
          },
          "metadata": {
            "tags": []
          }
        }
      ]
    },
    {
      "cell_type": "markdown",
      "metadata": {
        "id": "fpKV7O0wPtFp"
      },
      "source": [
        "**Analisis**\r\n",
        "\r\n",
        "Berdasarkan pemodelan di atas, didapatkan prediksi korelasi antara sodium dan calories adalah 0,3 dan prediksi kovarian adalah 491,07"
      ]
    },
    {
      "cell_type": "code",
      "metadata": {
        "colab": {
          "base_uri": "https://localhost:8080/",
          "height": 489
        },
        "id": "AUHEKk_iQBwY",
        "outputId": "210b91b1-a01e-4915-ce01-0d49b6bd3690"
      },
      "source": [
        "corr = dt.corr()\r\n",
        "\r\n",
        "plt.figure(figsize=(15,8))\r\n",
        "\r\n",
        "sns.heatmap(corr, annot=True, vmin = -1, cmap='coolwarm')\r\n",
        "\r\n",
        "plt.show()"
      ],
      "execution_count": null,
      "outputs": [
        {
          "output_type": "display_data",
          "data": {
            "image/png": "[encoded data removed]",
            "text/plain": [
              "<Figure size 1080x576 with 2 Axes>"
            ]
          },
          "metadata": {
            "tags": []
          }
        }
      ]
    },
    {
      "cell_type": "markdown",
      "metadata": {
        "id": "y0Uft8z2QxMg"
      },
      "source": [
        "**Analisis**\r\n",
        "\r\n",
        "Berdasarkan hasil heatmap korelasi didapatkan korelasi antara fat, sodium, dan calories dengan kesimpulan sebagai berikut:\r\n",
        "1. Fat dan sodium memiliki nilai korelasi -0,005 dimana hal ini menunjukkan bahwa korelasi berada di tengah-tengah dikarenakan berwarna abu-abu pada tabel\r\n",
        "2. Fat dan calories memiliki nilai korelasi 0,5 dimana hal ini menunjukkan bahwa korelasi lebih baik dikarenakan berwarna sudah cenderung merah sesuai skala warna pada tabel\r\n",
        "3. Sodium dan calories memiliki nilai korelasi 0,3 dimana hal ini menunjukkan bahwa korelasi berada cenderung di atas namun tidak sebaik jika dibandingkan dengan fat dan calories. "
      ]
    },
    {
      "cell_type": "markdown",
      "metadata": {
        "id": "v73hjLxD9ZZK"
      },
      "source": [
        "**TAHAP EVALUASI DATA**"
      ]
    },
    {
      "cell_type": "markdown",
      "metadata": {
        "id": "VcbwfO0A_XN1"
      },
      "source": [
        "1. **Inisialisasi klasifikasi grafik x dan y.** Menggunakan fungsi make_classification dari library scikit-learn untuk menghasilkan data"
      ]
    },
    {
      "cell_type": "code",
      "metadata": {
        "id": "dJEMGG_39mqe"
      },
      "source": [
        "x, y = make_classification(\r\n",
        "    n_samples=100,\r\n",
        "    n_features=1,\r\n",
        "    n_classes=2,\r\n",
        "    n_clusters_per_class=1,\r\n",
        "    flip_y=0.03,\r\n",
        "    n_informative=1,\r\n",
        "    n_redundant=0,\r\n",
        "    n_repeated=0\r\n",
        ")"
      ],
      "execution_count": null,
      "outputs": []
    },
    {
      "cell_type": "markdown",
      "metadata": {
        "id": "G2CeWX1U_nQR"
      },
      "source": [
        "**2. Melakukan plot untuk fitur dan kelas**\r\n",
        "\r\n",
        "Dalam tahap ini menampilkan plot hubungan antara fitur dan kelas yang ada dengan klasifikasi yang sudah dibentuk pada grafik x dan y"
      ]
    },
    {
      "cell_type": "code",
      "metadata": {
        "colab": {
          "base_uri": "https://localhost:8080/",
          "height": 285
        },
        "id": "11LnG3VX-NKv",
        "outputId": "55c87612-8717-4d84-aa38-a28ea09eb083"
      },
      "source": [
        "plt.scatter(x, y, c=y, cmap='rainbow')"
      ],
      "execution_count": null,
      "outputs": [
        {
          "output_type": "execute_result",
          "data": {
            "text/plain": [
              "<matplotlib.collections.PathCollection at 0x7efff003c208>"
            ]
          },
          "metadata": {
            "tags": []
          },
          "execution_count": 5
        },
        {
          "output_type": "display_data",
          "data": {
            "image/png": "[encoded data removed]",
            "text/plain": [
              "<Figure size 432x288 with 1 Axes>"
            ]
          },
          "metadata": {
            "tags": []
          }
        }
      ]
    },
    {
      "cell_type": "markdown",
      "metadata": {
        "id": "14KIkwAnTgiS"
      },
      "source": [
        "**Analisis**\r\n",
        "\r\n",
        "Scatter plot digunakan untuk pemetaan dari grafik x dan y dengan dibagi menjadi 2 warna yang berbeda untuk menunjukkan masing-masing bagiannya. Pemetaan ini dilakukan untuk melihat persebaran data yang ada."
      ]
    },
    {
      "cell_type": "markdown",
      "metadata": {
        "id": "ybr0pQ61__lE"
      },
      "source": [
        "**3. Inisialisasi untuk evaluasi subset. **\r\n",
        "\r\n",
        "Dalam tahap ini menyisihkan sebagian data untuk mengevaluasi performanya"
      ]
    },
    {
      "cell_type": "code",
      "metadata": {
        "id": "6zL6Ly2X-kUx"
      },
      "source": [
        "x_train, x_test, y_train, y_test = train_test_split(x, y, random_state=1)"
      ],
      "execution_count": null,
      "outputs": []
    },
    {
      "cell_type": "markdown",
      "metadata": {
        "id": "rEbI1fMyBibr"
      },
      "source": [
        "**4. Membuat model yang mempelajari hubungan antara digit (x_train) dan label (y_train)**\r\n",
        "\r\n",
        "Tahapan ini dilakukan untuk membuat intance kelas LogisticRegression dan memanggil fungsi fit dengan fitur dan label sebagai argumen"
      ]
    },
    {
      "cell_type": "code",
      "metadata": {
        "colab": {
          "base_uri": "https://localhost:8080/"
        },
        "id": "VxVytXTBB0i7",
        "outputId": "fa5ae421-a719-46b0-803e-2d0282db1b4f"
      },
      "source": [
        "lr = LogisticRegression()\r\n",
        "lr.fit(x_train, y_train)"
      ],
      "execution_count": null,
      "outputs": [
        {
          "output_type": "execute_result",
          "data": {
            "text/plain": [
              "LogisticRegression(C=1.0, class_weight=None, dual=False, fit_intercept=True,\n",
              "                   intercept_scaling=1, l1_ratio=None, max_iter=100,\n",
              "                   multi_class='auto', n_jobs=None, penalty='l2',\n",
              "                   random_state=None, solver='lbfgs', tol=0.0001, verbose=0,\n",
              "                   warm_start=False)"
            ]
          },
          "metadata": {
            "tags": []
          },
          "execution_count": 7
        }
      ]
    },
    {
      "cell_type": "markdown",
      "metadata": {
        "id": "ywsOOIDHB80o"
      },
      "source": [
        "5. **Menampilkan evaluasi** dengan melihat koefisien kemiringan dan perpotongan y dari garis yang paling cocok. \r\n"
      ]
    },
    {
      "cell_type": "code",
      "metadata": {
        "colab": {
          "base_uri": "https://localhost:8080/"
        },
        "id": "SwolSGk4CJbQ",
        "outputId": "e31c5761-f4a1-4f72-dcfc-95134889da18"
      },
      "source": [
        "print(lr.coef_)\r\n",
        "print(lr.intercept_)"
      ],
      "execution_count": null,
      "outputs": [
        {
          "output_type": "stream",
          "text": [
            "[[2.93043317]]\n",
            "[0.60589977]\n"
          ],
          "name": "stdout"
        }
      ]
    },
    {
      "cell_type": "markdown",
      "metadata": {
        "id": "KiyYcZTJUlOU"
      },
      "source": [
        "**Analisis** :\r\n",
        "\r\n",
        "Evaluasi dengan menggunakan model regresi dilihat dari koefisien kemiringan yang bernilai 2,93043317 dan perpotongan garis y 0,60589977"
      ]
    },
    {
      "cell_type": "markdown",
      "metadata": {
        "id": "OTimaSpeCVF6"
      },
      "source": [
        "**6. Performa model terhadap data yang belum dilatih**"
      ]
    },
    {
      "cell_type": "code",
      "metadata": {
        "id": "SY2t6RR9CesQ"
      },
      "source": [
        "y_pred = lr.predict(x_test)"
      ],
      "execution_count": null,
      "outputs": []
    },
    {
      "cell_type": "markdown",
      "metadata": {
        "id": "cZSJSy3cCk27"
      },
      "source": [
        "**7. Menggunakan confusion matrix untuk mengukur akurasi model**"
      ]
    },
    {
      "cell_type": "code",
      "metadata": {
        "colab": {
          "base_uri": "https://localhost:8080/"
        },
        "id": "jxW-S5rkCszn",
        "outputId": "460cf840-19ee-47bd-c88a-ffff3cd06a8b"
      },
      "source": [
        "confusion_matrix(y_test, y_pred)"
      ],
      "execution_count": null,
      "outputs": [
        {
          "output_type": "execute_result",
          "data": {
            "text/plain": [
              "array([[12,  0],\n",
              "       [ 0, 13]])"
            ]
          },
          "metadata": {
            "tags": []
          },
          "execution_count": 10
        }
      ]
    },
    {
      "cell_type": "markdown",
      "metadata": {
        "id": "NKuNw5LbC23g"
      },
      "source": [
        "Berdasarkan hasil dari confusion matrix maka dapat disimpulkan bahwa:\r\n",
        "1. True positive :\r\n",
        "2. True negative :\r\n",
        "3. False positive :\r\n",
        "4. False negative :"
      ]
    },
    {
      "cell_type": "markdown",
      "metadata": {
        "id": "_h8OAsRnDmDc"
      },
      "source": [
        "**8. Memeriksa probabilitas sebenarnya bahwa titik data termasuk dalam kelas tertentu, yang dapat menggunakan fungsi predict_proba**"
      ]
    },
    {
      "cell_type": "code",
      "metadata": {
        "colab": {
          "base_uri": "https://localhost:8080/"
        },
        "id": "S7rpmXd6D0rY",
        "outputId": "a8ee04ad-bfb2-4a7c-ae5c-fc91a3d30b06"
      },
      "source": [
        "lr.predict_proba(x_test)"
      ],
      "execution_count": null,
      "outputs": [
        {
          "output_type": "execute_result",
          "data": {
            "text/plain": [
              "array([[7.36526854e-03, 9.92634731e-01],\n",
              "       [9.11185973e-01, 8.88140268e-02],\n",
              "       [4.32116397e-03, 9.95678836e-01],\n",
              "       [3.01880979e-02, 9.69811902e-01],\n",
              "       [2.03383279e-02, 9.79661672e-01],\n",
              "       [1.01853642e-02, 9.89814636e-01],\n",
              "       [9.36184346e-01, 6.38156544e-02],\n",
              "       [9.58806807e-01, 4.11931925e-02],\n",
              "       [1.98027010e-01, 8.01972990e-01],\n",
              "       [2.26985104e-02, 9.77301490e-01],\n",
              "       [8.80091439e-01, 1.19908561e-01],\n",
              "       [6.93665278e-01, 3.06334722e-01],\n",
              "       [8.50516664e-01, 1.49483336e-01],\n",
              "       [6.21185358e-01, 3.78814642e-01],\n",
              "       [8.05560144e-01, 1.94439856e-01],\n",
              "       [8.17238588e-04, 9.99182761e-01],\n",
              "       [8.28873143e-02, 9.17112686e-01],\n",
              "       [7.33584733e-01, 2.66415267e-01],\n",
              "       [8.88500649e-01, 1.11499351e-01],\n",
              "       [3.50244798e-03, 9.96497552e-01],\n",
              "       [6.75209012e-03, 9.93247910e-01],\n",
              "       [9.04965620e-01, 9.50343798e-02],\n",
              "       [9.60120310e-03, 9.90398797e-01],\n",
              "       [8.61407098e-01, 1.38592902e-01],\n",
              "       [1.29520288e-02, 9.87047971e-01]])"
            ]
          },
          "metadata": {
            "tags": []
          },
          "execution_count": 11
        }
      ]
    },
    {
      "cell_type": "markdown",
      "metadata": {
        "id": "3vExbJEhD9lh"
      },
      "source": [
        "Kolom pertama menunjukkan probabilitas bahwa sampel termasuk dalam kelas pertama dan kolom kedua menunjukkan probabilitas sampel termasuk dalam kelas kedua"
      ]
    },
    {
      "cell_type": "markdown",
      "metadata": {
        "id": "ZlZn7mglEP6U"
      },
      "source": [
        "**9. Sebelum mencoba fungsi Sigmoid, membuat dan mengurutkan DataFrame yang berisi data pengujian kami**"
      ]
    },
    {
      "cell_type": "code",
      "metadata": {
        "colab": {
          "base_uri": "https://localhost:8080/",
          "height": 285
        },
        "id": "svW-JTY7EkSl",
        "outputId": "e0deed95-ed09-47c4-f885-1315dfc58135"
      },
      "source": [
        "df = pd.DataFrame({'x': x_test[:,0], 'y': y_test})\r\n",
        "df = df.sort_values(by='x')\r\n",
        "from scipy.special import expit\r\n",
        "sigmoid_function = expit(df['x'] * lr.coef_[0][0] + lr.intercept_[0]).ravel()\r\n",
        "plt.plot(df['x'], sigmoid_function)\r\n",
        "plt.scatter(df['x'], df['y'], c=df['y'], cmap='rainbow', edgecolors='b')"
      ],
      "execution_count": null,
      "outputs": [
        {
          "output_type": "execute_result",
          "data": {
            "text/plain": [
              "<matplotlib.collections.PathCollection at 0x7effee881dd8>"
            ]
          },
          "metadata": {
            "tags": []
          },
          "execution_count": 12
        },
        {
          "output_type": "display_data",
          "data": {
            "image/png": "[encoded data removed]",
            "text/plain": [
              "<Figure size 432x288 with 1 Axes>"
            ]
          },
          "metadata": {
            "tags": []
          }
        }
      ]
    },
    {
      "cell_type": "markdown",
      "metadata": {
        "id": "aiO91es4WvRl"
      },
      "source": [
        "**EVALUASI HIPOTESIS PEMODELAN**\r\n",
        "\r\n",
        "Jika nilai P-value = 0 atau lebih dari 0 maka hipotesis diterima dan korelasinya kuat.\r\n",
        "Jika nilai P-value kurang dari 0 maka hipotesis ditolak.\r\n"
      ]
    },
    {
      "cell_type": "code",
      "metadata": {
        "id": "DMXocWIkXfd2"
      },
      "source": [
        "class HypothesisTest(object):\r\n",
        "    \r\n",
        "    def __init__(self, data):\r\n",
        "        self.data = data\r\n",
        "        self.MakeModel()\r\n",
        "        self.actual = self.TestStatistic(data)\r\n",
        "        \r\n",
        "    def PValue(self, iters = 1000):\r\n",
        "        self.test_stats = [self.TestStatistic(self.RunModel()) for _ in range(iters)]\r\n",
        "        count = sum(1 for x in self.test_stats if x >= self.actual)\r\n",
        "        return count / iters\r\n",
        "    \r\n",
        "    def TestStatistic(self, data):\r\n",
        "        raise UnimplementedMethodException()\r\n",
        "        \r\n",
        "    def MakeModel(self):\r\n",
        "        pass\r\n",
        "    \r\n",
        "    def RunModel(self):\r\n",
        "        raise UnimplementedMethodException()"
      ],
      "execution_count": null,
      "outputs": []
    },
    {
      "cell_type": "code",
      "metadata": {
        "id": "J7u-AUs0Xofz"
      },
      "source": [
        "class CorrPermute(HypothesisTest):\r\n",
        "    \r\n",
        "    def TestStatistic(self, data):\r\n",
        "        xs, ys = data\r\n",
        "        test_stat = abs(correlation(xs, ys))\r\n",
        "        return test_stat\r\n",
        "    \r\n",
        "    def RunModel(self):\r\n",
        "        xs, ys = self.data\r\n",
        "        xs = np.random.permutation(xs)\r\n",
        "        return xs, ys\r\n",
        "    \r\n",
        "def correlation(x, y):\r\n",
        "    std_x = np.std(x)\r\n",
        "    std_y = np.std(y)\r\n",
        "    if std_x and std_y > 0:\r\n",
        "        return covariance(x, y) / std_x / std_y\r\n",
        "    else:\r\n",
        "        return 0\r\n",
        "    \r\n",
        "def de_mean(x):\r\n",
        "    x_bar = np.mean(x)\r\n",
        "    return [x_i - x_bar for x_i in x]\r\n",
        "\r\n",
        "def covariance(x, y):\r\n",
        "    n = len(x)\r\n",
        "    return np.dot(de_mean(x), de_mean(y)) / (n - 1)"
      ],
      "execution_count": null,
      "outputs": []
    },
    {
      "cell_type": "code",
      "metadata": {
        "colab": {
          "base_uri": "https://localhost:8080/"
        },
        "id": "-Sr0SAGOXtgA",
        "outputId": "40ac6e50-0678-487a-c67b-cca12a2a2726"
      },
      "source": [
        "cp = CorrPermute((fat, ca))\r\n",
        "pvalue = cp.PValue()\r\n",
        "\r\n",
        "print('Hipotesis akhir p-value: ', pvalue)"
      ],
      "execution_count": null,
      "outputs": [
        {
          "output_type": "stream",
          "text": [
            "Hipotesis akhir p-value:  0.0\n"
          ],
          "name": "stdout"
        }
      ]
    },
    {
      "cell_type": "markdown",
      "metadata": {
        "id": "CD_2jYpwX3ZW"
      },
      "source": [
        "**Analisis**\r\n",
        "\r\n",
        "Nilai P-value pada hipotesis akhir adalah 0. Dimana dapat disimpulkan bahwa korelasi yang terjadi adalah signifikan secara statistik."
      ]
    },
    {
      "cell_type": "markdown",
      "metadata": {
        "id": "LK19lZLSYKKP"
      },
      "source": [
        "**MEMPREDIKSI FAT DAN CALORIES MENGGUNAKAN LINEAR LEAST SQUARE**"
      ]
    },
    {
      "cell_type": "code",
      "metadata": {
        "id": "xprGB1KIbZLf"
      },
      "source": [
        "def LeastSquares(xs, ys):\r\n",
        "    meanx, varx = np.mean(xs), np.var(xs)\r\n",
        "    meany = np.mean(ys)\r\n",
        "    \r\n",
        "    slope = covariance(xs, ys) / varx\r\n",
        "    inter = meany - slope * meanx\r\n",
        "    \r\n",
        "    return inter, slope\r\n",
        "\r\n",
        "def FitLine(xs, inter, slope):\r\n",
        "    fit_xs = np.sort(xs)\r\n",
        "    fit_ys = inter + slope * fit_xs\r\n",
        "    \r\n",
        "    return fit_xs, fit_ys"
      ],
      "execution_count": null,
      "outputs": []
    },
    {
      "cell_type": "code",
      "metadata": {
        "colab": {
          "base_uri": "https://localhost:8080/"
        },
        "id": "KsYofMslbdeK",
        "outputId": "434ae1da-d0e4-450c-cecd-e0a5117ff07a"
      },
      "source": [
        "inter, slope = LeastSquares(fat, ca)\r\n",
        "fit_xs, fit_ys = FitLine(fat, inter, slope)\r\n",
        "\r\n",
        "print('intercept is: {} and slope is: {}'.format(inter, slope))"
      ],
      "execution_count": null,
      "outputs": [
        {
          "output_type": "stream",
          "text": [
            "intercept is: 96.97660718782602 and slope is: 9.779503160735851\n"
          ],
          "name": "stdout"
        }
      ]
    },
    {
      "cell_type": "markdown",
      "metadata": {
        "id": "zvBrHTuPbrbg"
      },
      "source": [
        "**Analisis** :\r\n",
        "\r\n",
        "Pada hasil linear least square untuk intercept adalah 96,97660 dan slope 9,7795"
      ]
    },
    {
      "cell_type": "markdown",
      "metadata": {
        "id": "yHADlJ4QcF5I"
      },
      "source": [
        "**RESIDUAL**"
      ]
    },
    {
      "cell_type": "code",
      "metadata": {
        "id": "mc1DUuNocMtH"
      },
      "source": [
        "def Residuals(xs, ys, inter, slope):\r\n",
        "    xs = np.asarray(xs)\r\n",
        "    ys = np.asarray(ys)\r\n",
        "    res = ys - (inter + slope * xs)\r\n",
        "    return res"
      ],
      "execution_count": null,
      "outputs": []
    },
    {
      "cell_type": "code",
      "metadata": {
        "id": "xShcf-1QcSCq"
      },
      "source": [
        "res = Residuals(fat, ca, inter, slope)\r\n",
        "\r\n",
        "dt['residuals'] = res"
      ],
      "execution_count": null,
      "outputs": []
    },
    {
      "cell_type": "code",
      "metadata": {
        "colab": {
          "base_uri": "https://localhost:8080/"
        },
        "id": "4RwbDYmvcrBh",
        "outputId": "14b6e1a7-09a0-4d79-d801-2a365443fe4c"
      },
      "source": [
        "print('Prediksi RMSE adalah :  ', np.std(res))"
      ],
      "execution_count": null,
      "outputs": [
        {
          "output_type": "stream",
          "text": [
            "Prediksi RMSE adalah :   16.77980259938427\n"
          ],
          "name": "stdout"
        }
      ]
    },
    {
      "cell_type": "markdown",
      "metadata": {
        "id": "5Uewl-pKcwS-"
      },
      "source": [
        "**Analisis** : \r\n",
        "\r\n",
        "Prediksi RMSE adalah 16,7798"
      ]
    },
    {
      "cell_type": "markdown",
      "metadata": {
        "id": "XKYM63PVc5a9"
      },
      "source": [
        "**KOEFISIEN DETERMINASI**"
      ]
    },
    {
      "cell_type": "code",
      "metadata": {
        "colab": {
          "base_uri": "https://localhost:8080/"
        },
        "id": "-LZEdBm5c88O",
        "outputId": "4f72c446-dfe8-49af-f151-a0f30b36364f"
      },
      "source": [
        "r_squared = 1 - (np.var(res) / np.var(ca))\r\n",
        "\r\n",
        "print('Koefisien determinasi didapatkan adalah: ', r_squared)"
      ],
      "execution_count": null,
      "outputs": [
        {
          "output_type": "stream",
          "text": [
            "Koefisien determinasi didapatkan adalah:  0.2485687047167161\n"
          ],
          "name": "stdout"
        }
      ]
    },
    {
      "cell_type": "markdown",
      "metadata": {
        "id": "Ls5wIeSLdNx6"
      },
      "source": [
        "**Analisis**\r\n",
        "\r\n",
        "Koefisien determinasi yang didapatkan adalah 0,248"
      ]
    },
    {
      "cell_type": "markdown",
      "metadata": {
        "id": "WWe29CvNdXVk"
      },
      "source": [
        "**VISUALISASI PLOT DARI EVALUASI YANG SUDAH DILAKUKAN**"
      ]
    },
    {
      "cell_type": "code",
      "metadata": {
        "colab": {
          "base_uri": "https://localhost:8080/",
          "height": 374
        },
        "id": "LR5dBm_ddcuO",
        "outputId": "87ad3857-cdaa-46c3-9725-c9bc7338fd3e"
      },
      "source": [
        "plt.figure(figsize = (15, 8))\r\n",
        "\r\n",
        "plt.xlabel('calories')\r\n",
        "plt.ylabel('sodium')\r\n",
        "\r\n",
        "plt.plot(fit_xs, fit_ys, color = 'black')\r\n",
        "plt.scatter(ca, so, color = 'blue')"
      ],
      "execution_count": null,
      "outputs": [
        {
          "output_type": "execute_result",
          "data": {
            "text/plain": [
              "<matplotlib.collections.PathCollection at 0x7fa12535de10>"
            ]
          },
          "metadata": {
            "tags": []
          },
          "execution_count": 52
        },
        {
          "output_type": "display_data",
          "data": {
            "image/png": "[encoded data removed]",
            "text/plain": [
              "<Figure size 1080x576 with 1 Axes>"
            ]
          },
          "metadata": {
            "tags": []
          }
        }
      ]
    }
  ]
}