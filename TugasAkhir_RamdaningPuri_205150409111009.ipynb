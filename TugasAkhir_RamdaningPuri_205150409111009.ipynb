{
  "nbformat": 4,
  "nbformat_minor": 0,
  "metadata": {
    "colab": {
      "name": "TugasAkhir_RamdaningPuri_205150409111009.ipynb",
      "provenance": [],
      "collapsed_sections": [],
      "include_colab_link": true
    },
    "kernelspec": {
      "name": "python3",
      "display_name": "Python 3"
    }
  },
  "cells": [
    {
      "cell_type": "markdown",
      "metadata": {
        "id": "view-in-github",
        "colab_type": "text"
      },
      "source": [
        "<a href=\"https://colab.research.google.com/github/nanangyudi/2020pds_d/blob/main/TugasAkhir_RamdaningPuri_205150409111009.ipynb\" target=\"_parent\"><img src=\"https://colab.research.google.com/assets/colab-badge.svg\" alt=\"Open In Colab\"/></a>"
      ]
    },
    {
      "cell_type": "markdown",
      "metadata": {
        "id": "pnbaC1jh8DsG"
      },
      "source": [
        "# **TAHAP DESKRIPSI TUJUAN**"
      ]
    },
    {
      "cell_type": "markdown",
      "metadata": {
        "id": "-s_M3Jyl8ylr"
      },
      "source": [
        "**A. Deskripsi Tujuan Bisnis Supermarket**\r\n",
        "\r\n",
        "Tujuan dari pengolahan data ini adalah :\r\n",
        "1. Untuk mengelola data transaksi yang terdapat pada supermarket\r\n",
        "2. Untuk mengetahui informasi dan menghasilkan informasi yang dibutuhkan bagi supermarket tersebut\r\n",
        "\r\n",
        "\r\n",
        "**B. Kebutuhan organisasi :** \r\n",
        "\r\n",
        "Kebutuhan organisasi adalah kebutuhan yang akan dianalisis atau informasi yang akan didapatkan setelah melakukan analisis ini, yaitu :\r\n",
        "1. Mengetahui jenis transaksi apa yang sering dilakukan dengan produk yang sering dibeli\r\n",
        "2. Mengetahui total penjualan dengan penilaian rating yang diberikan\r\n",
        "3. Mengetahui jumlah rating dengan total penjualan yang terbanyak\r\n",
        "4. Mengetahui pengelompokan jenis transaksi dengan jumlah produk yang terjual dihubungkan dengan rating\r\n",
        "5. Mengetahui seberapa banyak penjualan produk yang dibeli dilihat dari jenis kelamin\r\n"
      ]
    },
    {
      "cell_type": "markdown",
      "metadata": {
        "id": "TM4H4Dwg8dNa"
      },
      "source": [
        "# **TAHAP ANALISIS PENDEKATAN**"
      ]
    },
    {
      "cell_type": "markdown",
      "metadata": {
        "id": "IEDcb5Tb9AQV"
      },
      "source": [
        "**Analisis Pendekatan yang Dilakukan**\r\n",
        "\r\n",
        "Menggunakan pendekatan EDA, yaitu metode eksplorasi data dengan menggunakan teknik aritmatika sederhana dan teknik grafis dalam meringkas data pengamatan.\r\n",
        "Tahapan yang dilakukan dalam analisis EDA adalah :\r\n",
        "1. Merumuskan masalah\r\n",
        "2. Mengumpulkan data\r\n",
        "3. Melakukan analisis\r\n",
        "4. Melakukan pemodelan data\r\n",
        "5. Kesimpulan"
      ]
    },
    {
      "cell_type": "markdown",
      "metadata": {
        "id": "DrZoXCin8m_t"
      },
      "source": [
        "# **TAHAP PENGUMPULAN DATA**"
      ]
    },
    {
      "cell_type": "markdown",
      "metadata": {
        "id": "g74LXynA9JSA"
      },
      "source": [
        "**Pengumpulan Data**\r\n",
        "\r\n",
        "Dataset yang didapatkan bersumber dari Kanggle.com. Berikut link data : https://www.kaggle.com/aungpyaeap/supermarket-sales di publikasi oleh Aung Pyae.\r\n"
      ]
    },
    {
      "cell_type": "markdown",
      "metadata": {
        "id": "Vyv0ZgUf8rVz"
      },
      "source": [
        "# **TAHAP PEMAHAMAN DATA YANG DIKUMPULKAN**"
      ]
    },
    {
      "cell_type": "markdown",
      "metadata": {
        "id": "ape03Ma29NhV"
      },
      "source": [
        "**Pemahaman Terhadap Data yang Telah Dikumpulkan**\r\n",
        "    \r\n",
        "Data yang didapatkan berupa data transaksi supermarket yang telah dilakukan.\r\n",
        "\r\n",
        "Terdapat beberapa data seperti kode invoice, data kota pembelian, data jenis pelanggan, produk yang dibeli, harga, waktu transaksi, jenis transaksi, dan rating.\r\n",
        "\r\n",
        "Pada data ini dijelaskan bahwa histori transaksi yang di record pada setiap harinya."
      ]
    },
    {
      "cell_type": "markdown",
      "metadata": {
        "id": "IptLPifjw9j7"
      },
      "source": [
        "# **TAHAP EKSPLORASI DATA**"
      ]
    },
    {
      "cell_type": "markdown",
      "metadata": {
        "id": "XXzzT53rlPQZ"
      },
      "source": [
        "**Tahap pertama** : Memasukan data dari url, data disimpan di repository Github"
      ]
    },
    {
      "cell_type": "code",
      "metadata": {
        "id": "Pe1dsBRRzutM"
      },
      "source": [
        "import pandas as pd\n",
        "import matplotlib.pyplot as plt\n",
        "import seaborn as sns\n",
        "\n",
        "url = 'https://raw.githubusercontent.com/daninpr/supermarket/main/supermarket.csv'\n",
        "supermarket = pd.read_csv(url, error_bad_lines=False)"
      ],
      "execution_count": null,
      "outputs": []
    },
    {
      "cell_type": "markdown",
      "metadata": {
        "id": "dIQTJbegljA5"
      },
      "source": [
        "**Tahap Kedua** : Menampilkan data yang telah di import dari url dengan \r\n",
        "\r\n",
        "---\r\n",
        "\r\n",
        "---\r\n",
        "\r\n",
        "\r\n",
        "\r\n",
        "menampilkan 10 data bagian atas."
      ]
    },
    {
      "cell_type": "code",
      "metadata": {
        "colab": {
          "base_uri": "https://localhost:8080/",
          "height": 563
        },
        "id": "3zumjT970Ayt",
        "outputId": "f1f1bf58-60d7-4d14-baa6-f19fd73da00f"
      },
      "source": [
        "supermarket.head(10)"
      ],
      "execution_count": null,
      "outputs": [
        {
          "output_type": "execute_result",
          "data": {
            "text/html": [
              "<div>\n",
              "<style scoped>\n",
              "    .dataframe tbody tr th:only-of-type {\n",
              "        vertical-align: middle;\n",
              "    }\n",
              "\n",
              "    .dataframe tbody tr th {\n",
              "        vertical-align: top;\n",
              "    }\n",
              "\n",
              "    .dataframe thead th {\n",
              "        text-align: right;\n",
              "    }\n",
              "</style>\n",
              "<table border=\"1\" class=\"dataframe\">\n",
              "  <thead>\n",
              "    <tr style=\"text-align: right;\">\n",
              "      <th></th>\n",
              "      <th>Invoice ID</th>\n",
              "      <th>Branch</th>\n",
              "      <th>City</th>\n",
              "      <th>Customer type</th>\n",
              "      <th>Gender</th>\n",
              "      <th>Product line</th>\n",
              "      <th>Unit price</th>\n",
              "      <th>Quantity</th>\n",
              "      <th>Tax 5%</th>\n",
              "      <th>Total</th>\n",
              "      <th>Date</th>\n",
              "      <th>Time</th>\n",
              "      <th>Payment</th>\n",
              "      <th>cogs</th>\n",
              "      <th>gross margin percentage</th>\n",
              "      <th>gross income</th>\n",
              "      <th>Rating</th>\n",
              "    </tr>\n",
              "  </thead>\n",
              "  <tbody>\n",
              "    <tr>\n",
              "      <th>0</th>\n",
              "      <td>750-67-8428</td>\n",
              "      <td>A</td>\n",
              "      <td>Yangon</td>\n",
              "      <td>Member</td>\n",
              "      <td>Female</td>\n",
              "      <td>Health and beauty</td>\n",
              "      <td>74.69</td>\n",
              "      <td>7</td>\n",
              "      <td>26.1415</td>\n",
              "      <td>548.9715</td>\n",
              "      <td>1/5/2019</td>\n",
              "      <td>13:08</td>\n",
              "      <td>Ewallet</td>\n",
              "      <td>522.83</td>\n",
              "      <td>4.761905</td>\n",
              "      <td>26.1415</td>\n",
              "      <td>9.1</td>\n",
              "    </tr>\n",
              "    <tr>\n",
              "      <th>1</th>\n",
              "      <td>226-31-3081</td>\n",
              "      <td>C</td>\n",
              "      <td>Naypyitaw</td>\n",
              "      <td>Normal</td>\n",
              "      <td>Female</td>\n",
              "      <td>Electronic accessories</td>\n",
              "      <td>15.28</td>\n",
              "      <td>5</td>\n",
              "      <td>3.8200</td>\n",
              "      <td>80.2200</td>\n",
              "      <td>3/8/2019</td>\n",
              "      <td>10:29</td>\n",
              "      <td>Cash</td>\n",
              "      <td>76.40</td>\n",
              "      <td>4.761905</td>\n",
              "      <td>3.8200</td>\n",
              "      <td>9.6</td>\n",
              "    </tr>\n",
              "    <tr>\n",
              "      <th>2</th>\n",
              "      <td>631-41-3108</td>\n",
              "      <td>A</td>\n",
              "      <td>Yangon</td>\n",
              "      <td>Normal</td>\n",
              "      <td>Male</td>\n",
              "      <td>Home and lifestyle</td>\n",
              "      <td>46.33</td>\n",
              "      <td>7</td>\n",
              "      <td>16.2155</td>\n",
              "      <td>340.5255</td>\n",
              "      <td>3/3/2019</td>\n",
              "      <td>13:23</td>\n",
              "      <td>Credit card</td>\n",
              "      <td>324.31</td>\n",
              "      <td>4.761905</td>\n",
              "      <td>16.2155</td>\n",
              "      <td>7.4</td>\n",
              "    </tr>\n",
              "    <tr>\n",
              "      <th>3</th>\n",
              "      <td>123-19-1176</td>\n",
              "      <td>A</td>\n",
              "      <td>Yangon</td>\n",
              "      <td>Member</td>\n",
              "      <td>Male</td>\n",
              "      <td>Health and beauty</td>\n",
              "      <td>58.22</td>\n",
              "      <td>8</td>\n",
              "      <td>23.2880</td>\n",
              "      <td>489.0480</td>\n",
              "      <td>1/27/2019</td>\n",
              "      <td>20:33</td>\n",
              "      <td>Ewallet</td>\n",
              "      <td>465.76</td>\n",
              "      <td>4.761905</td>\n",
              "      <td>23.2880</td>\n",
              "      <td>8.4</td>\n",
              "    </tr>\n",
              "    <tr>\n",
              "      <th>4</th>\n",
              "      <td>373-73-7910</td>\n",
              "      <td>A</td>\n",
              "      <td>Yangon</td>\n",
              "      <td>Normal</td>\n",
              "      <td>Male</td>\n",
              "      <td>Sports and travel</td>\n",
              "      <td>86.31</td>\n",
              "      <td>7</td>\n",
              "      <td>30.2085</td>\n",
              "      <td>634.3785</td>\n",
              "      <td>2/8/2019</td>\n",
              "      <td>10:37</td>\n",
              "      <td>Ewallet</td>\n",
              "      <td>604.17</td>\n",
              "      <td>4.761905</td>\n",
              "      <td>30.2085</td>\n",
              "      <td>5.3</td>\n",
              "    </tr>\n",
              "    <tr>\n",
              "      <th>5</th>\n",
              "      <td>699-14-3026</td>\n",
              "      <td>C</td>\n",
              "      <td>Naypyitaw</td>\n",
              "      <td>Normal</td>\n",
              "      <td>Male</td>\n",
              "      <td>Electronic accessories</td>\n",
              "      <td>85.39</td>\n",
              "      <td>7</td>\n",
              "      <td>29.8865</td>\n",
              "      <td>627.6165</td>\n",
              "      <td>3/25/2019</td>\n",
              "      <td>18:30</td>\n",
              "      <td>Ewallet</td>\n",
              "      <td>597.73</td>\n",
              "      <td>4.761905</td>\n",
              "      <td>29.8865</td>\n",
              "      <td>4.1</td>\n",
              "    </tr>\n",
              "    <tr>\n",
              "      <th>6</th>\n",
              "      <td>355-53-5943</td>\n",
              "      <td>A</td>\n",
              "      <td>Yangon</td>\n",
              "      <td>Member</td>\n",
              "      <td>Female</td>\n",
              "      <td>Electronic accessories</td>\n",
              "      <td>68.84</td>\n",
              "      <td>6</td>\n",
              "      <td>20.6520</td>\n",
              "      <td>433.6920</td>\n",
              "      <td>2/25/2019</td>\n",
              "      <td>14:36</td>\n",
              "      <td>Ewallet</td>\n",
              "      <td>413.04</td>\n",
              "      <td>4.761905</td>\n",
              "      <td>20.6520</td>\n",
              "      <td>5.8</td>\n",
              "    </tr>\n",
              "    <tr>\n",
              "      <th>7</th>\n",
              "      <td>315-22-5665</td>\n",
              "      <td>C</td>\n",
              "      <td>Naypyitaw</td>\n",
              "      <td>Normal</td>\n",
              "      <td>Female</td>\n",
              "      <td>Home and lifestyle</td>\n",
              "      <td>73.56</td>\n",
              "      <td>10</td>\n",
              "      <td>36.7800</td>\n",
              "      <td>772.3800</td>\n",
              "      <td>2/24/2019</td>\n",
              "      <td>11:38</td>\n",
              "      <td>Ewallet</td>\n",
              "      <td>735.60</td>\n",
              "      <td>4.761905</td>\n",
              "      <td>36.7800</td>\n",
              "      <td>8.0</td>\n",
              "    </tr>\n",
              "    <tr>\n",
              "      <th>8</th>\n",
              "      <td>665-32-9167</td>\n",
              "      <td>A</td>\n",
              "      <td>Yangon</td>\n",
              "      <td>Member</td>\n",
              "      <td>Female</td>\n",
              "      <td>Health and beauty</td>\n",
              "      <td>36.26</td>\n",
              "      <td>2</td>\n",
              "      <td>3.6260</td>\n",
              "      <td>76.1460</td>\n",
              "      <td>1/10/2019</td>\n",
              "      <td>17:15</td>\n",
              "      <td>Credit card</td>\n",
              "      <td>72.52</td>\n",
              "      <td>4.761905</td>\n",
              "      <td>3.6260</td>\n",
              "      <td>7.2</td>\n",
              "    </tr>\n",
              "    <tr>\n",
              "      <th>9</th>\n",
              "      <td>692-92-5582</td>\n",
              "      <td>B</td>\n",
              "      <td>Mandalay</td>\n",
              "      <td>Member</td>\n",
              "      <td>Female</td>\n",
              "      <td>Food and beverages</td>\n",
              "      <td>54.84</td>\n",
              "      <td>3</td>\n",
              "      <td>8.2260</td>\n",
              "      <td>172.7460</td>\n",
              "      <td>2/20/2019</td>\n",
              "      <td>13:27</td>\n",
              "      <td>Credit card</td>\n",
              "      <td>164.52</td>\n",
              "      <td>4.761905</td>\n",
              "      <td>8.2260</td>\n",
              "      <td>5.9</td>\n",
              "    </tr>\n",
              "  </tbody>\n",
              "</table>\n",
              "</div>"
            ],
            "text/plain": [
              "    Invoice ID Branch       City  ... gross margin percentage gross income Rating\n",
              "0  750-67-8428      A     Yangon  ...                4.761905      26.1415    9.1\n",
              "1  226-31-3081      C  Naypyitaw  ...                4.761905       3.8200    9.6\n",
              "2  631-41-3108      A     Yangon  ...                4.761905      16.2155    7.4\n",
              "3  123-19-1176      A     Yangon  ...                4.761905      23.2880    8.4\n",
              "4  373-73-7910      A     Yangon  ...                4.761905      30.2085    5.3\n",
              "5  699-14-3026      C  Naypyitaw  ...                4.761905      29.8865    4.1\n",
              "6  355-53-5943      A     Yangon  ...                4.761905      20.6520    5.8\n",
              "7  315-22-5665      C  Naypyitaw  ...                4.761905      36.7800    8.0\n",
              "8  665-32-9167      A     Yangon  ...                4.761905       3.6260    7.2\n",
              "9  692-92-5582      B   Mandalay  ...                4.761905       8.2260    5.9\n",
              "\n",
              "[10 rows x 17 columns]"
            ]
          },
          "metadata": {
            "tags": []
          },
          "execution_count": 42
        }
      ]
    },
    {
      "cell_type": "markdown",
      "metadata": {
        "id": "1TRWUndl-djD"
      },
      "source": [
        "**Tahap Ketiga** : Menampilkan data yang telah di import dari url dengan menampilkan 10 data bagian bawah."
      ]
    },
    {
      "cell_type": "code",
      "metadata": {
        "colab": {
          "base_uri": "https://localhost:8080/",
          "height": 563
        },
        "id": "sg5Qftf0ikyF",
        "outputId": "be7ef951-7cb0-451a-e410-7c44b6197713"
      },
      "source": [
        "supermarket.tail(10)"
      ],
      "execution_count": null,
      "outputs": [
        {
          "output_type": "execute_result",
          "data": {
            "text/html": [
              "<div>\n",
              "<style scoped>\n",
              "    .dataframe tbody tr th:only-of-type {\n",
              "        vertical-align: middle;\n",
              "    }\n",
              "\n",
              "    .dataframe tbody tr th {\n",
              "        vertical-align: top;\n",
              "    }\n",
              "\n",
              "    .dataframe thead th {\n",
              "        text-align: right;\n",
              "    }\n",
              "</style>\n",
              "<table border=\"1\" class=\"dataframe\">\n",
              "  <thead>\n",
              "    <tr style=\"text-align: right;\">\n",
              "      <th></th>\n",
              "      <th>Invoice ID</th>\n",
              "      <th>Branch</th>\n",
              "      <th>City</th>\n",
              "      <th>Customer type</th>\n",
              "      <th>Gender</th>\n",
              "      <th>Product line</th>\n",
              "      <th>Unit price</th>\n",
              "      <th>Quantity</th>\n",
              "      <th>Tax 5%</th>\n",
              "      <th>Total</th>\n",
              "      <th>Date</th>\n",
              "      <th>Time</th>\n",
              "      <th>Payment</th>\n",
              "      <th>cogs</th>\n",
              "      <th>gross margin percentage</th>\n",
              "      <th>gross income</th>\n",
              "      <th>Rating</th>\n",
              "    </tr>\n",
              "  </thead>\n",
              "  <tbody>\n",
              "    <tr>\n",
              "      <th>990</th>\n",
              "      <td>886-18-2897</td>\n",
              "      <td>A</td>\n",
              "      <td>Yangon</td>\n",
              "      <td>Normal</td>\n",
              "      <td>Female</td>\n",
              "      <td>Food and beverages</td>\n",
              "      <td>56.56</td>\n",
              "      <td>5</td>\n",
              "      <td>14.1400</td>\n",
              "      <td>296.9400</td>\n",
              "      <td>3/22/2019</td>\n",
              "      <td>19:06</td>\n",
              "      <td>Credit card</td>\n",
              "      <td>282.80</td>\n",
              "      <td>4.761905</td>\n",
              "      <td>14.1400</td>\n",
              "      <td>4.5</td>\n",
              "    </tr>\n",
              "    <tr>\n",
              "      <th>991</th>\n",
              "      <td>602-16-6955</td>\n",
              "      <td>B</td>\n",
              "      <td>Mandalay</td>\n",
              "      <td>Normal</td>\n",
              "      <td>Female</td>\n",
              "      <td>Sports and travel</td>\n",
              "      <td>76.60</td>\n",
              "      <td>10</td>\n",
              "      <td>38.3000</td>\n",
              "      <td>804.3000</td>\n",
              "      <td>1/24/2019</td>\n",
              "      <td>18:10</td>\n",
              "      <td>Ewallet</td>\n",
              "      <td>766.00</td>\n",
              "      <td>4.761905</td>\n",
              "      <td>38.3000</td>\n",
              "      <td>6.0</td>\n",
              "    </tr>\n",
              "    <tr>\n",
              "      <th>992</th>\n",
              "      <td>745-74-0715</td>\n",
              "      <td>A</td>\n",
              "      <td>Yangon</td>\n",
              "      <td>Normal</td>\n",
              "      <td>Male</td>\n",
              "      <td>Electronic accessories</td>\n",
              "      <td>58.03</td>\n",
              "      <td>2</td>\n",
              "      <td>5.8030</td>\n",
              "      <td>121.8630</td>\n",
              "      <td>3/10/2019</td>\n",
              "      <td>20:46</td>\n",
              "      <td>Ewallet</td>\n",
              "      <td>116.06</td>\n",
              "      <td>4.761905</td>\n",
              "      <td>5.8030</td>\n",
              "      <td>8.8</td>\n",
              "    </tr>\n",
              "    <tr>\n",
              "      <th>993</th>\n",
              "      <td>690-01-6631</td>\n",
              "      <td>B</td>\n",
              "      <td>Mandalay</td>\n",
              "      <td>Normal</td>\n",
              "      <td>Male</td>\n",
              "      <td>Fashion accessories</td>\n",
              "      <td>17.49</td>\n",
              "      <td>10</td>\n",
              "      <td>8.7450</td>\n",
              "      <td>183.6450</td>\n",
              "      <td>2/22/2019</td>\n",
              "      <td>18:35</td>\n",
              "      <td>Ewallet</td>\n",
              "      <td>174.90</td>\n",
              "      <td>4.761905</td>\n",
              "      <td>8.7450</td>\n",
              "      <td>6.6</td>\n",
              "    </tr>\n",
              "    <tr>\n",
              "      <th>994</th>\n",
              "      <td>652-49-6720</td>\n",
              "      <td>C</td>\n",
              "      <td>Naypyitaw</td>\n",
              "      <td>Member</td>\n",
              "      <td>Female</td>\n",
              "      <td>Electronic accessories</td>\n",
              "      <td>60.95</td>\n",
              "      <td>1</td>\n",
              "      <td>3.0475</td>\n",
              "      <td>63.9975</td>\n",
              "      <td>2/18/2019</td>\n",
              "      <td>11:40</td>\n",
              "      <td>Ewallet</td>\n",
              "      <td>60.95</td>\n",
              "      <td>4.761905</td>\n",
              "      <td>3.0475</td>\n",
              "      <td>5.9</td>\n",
              "    </tr>\n",
              "    <tr>\n",
              "      <th>995</th>\n",
              "      <td>233-67-5758</td>\n",
              "      <td>C</td>\n",
              "      <td>Naypyitaw</td>\n",
              "      <td>Normal</td>\n",
              "      <td>Male</td>\n",
              "      <td>Health and beauty</td>\n",
              "      <td>40.35</td>\n",
              "      <td>1</td>\n",
              "      <td>2.0175</td>\n",
              "      <td>42.3675</td>\n",
              "      <td>1/29/2019</td>\n",
              "      <td>13:46</td>\n",
              "      <td>Ewallet</td>\n",
              "      <td>40.35</td>\n",
              "      <td>4.761905</td>\n",
              "      <td>2.0175</td>\n",
              "      <td>6.2</td>\n",
              "    </tr>\n",
              "    <tr>\n",
              "      <th>996</th>\n",
              "      <td>303-96-2227</td>\n",
              "      <td>B</td>\n",
              "      <td>Mandalay</td>\n",
              "      <td>Normal</td>\n",
              "      <td>Female</td>\n",
              "      <td>Home and lifestyle</td>\n",
              "      <td>97.38</td>\n",
              "      <td>10</td>\n",
              "      <td>48.6900</td>\n",
              "      <td>1022.4900</td>\n",
              "      <td>3/2/2019</td>\n",
              "      <td>17:16</td>\n",
              "      <td>Ewallet</td>\n",
              "      <td>973.80</td>\n",
              "      <td>4.761905</td>\n",
              "      <td>48.6900</td>\n",
              "      <td>4.4</td>\n",
              "    </tr>\n",
              "    <tr>\n",
              "      <th>997</th>\n",
              "      <td>727-02-1313</td>\n",
              "      <td>A</td>\n",
              "      <td>Yangon</td>\n",
              "      <td>Member</td>\n",
              "      <td>Male</td>\n",
              "      <td>Food and beverages</td>\n",
              "      <td>31.84</td>\n",
              "      <td>1</td>\n",
              "      <td>1.5920</td>\n",
              "      <td>33.4320</td>\n",
              "      <td>2/9/2019</td>\n",
              "      <td>13:22</td>\n",
              "      <td>Cash</td>\n",
              "      <td>31.84</td>\n",
              "      <td>4.761905</td>\n",
              "      <td>1.5920</td>\n",
              "      <td>7.7</td>\n",
              "    </tr>\n",
              "    <tr>\n",
              "      <th>998</th>\n",
              "      <td>347-56-2442</td>\n",
              "      <td>A</td>\n",
              "      <td>Yangon</td>\n",
              "      <td>Normal</td>\n",
              "      <td>Male</td>\n",
              "      <td>Home and lifestyle</td>\n",
              "      <td>65.82</td>\n",
              "      <td>1</td>\n",
              "      <td>3.2910</td>\n",
              "      <td>69.1110</td>\n",
              "      <td>2/22/2019</td>\n",
              "      <td>15:33</td>\n",
              "      <td>Cash</td>\n",
              "      <td>65.82</td>\n",
              "      <td>4.761905</td>\n",
              "      <td>3.2910</td>\n",
              "      <td>4.1</td>\n",
              "    </tr>\n",
              "    <tr>\n",
              "      <th>999</th>\n",
              "      <td>849-09-3807</td>\n",
              "      <td>A</td>\n",
              "      <td>Yangon</td>\n",
              "      <td>Member</td>\n",
              "      <td>Female</td>\n",
              "      <td>Fashion accessories</td>\n",
              "      <td>88.34</td>\n",
              "      <td>7</td>\n",
              "      <td>30.9190</td>\n",
              "      <td>649.2990</td>\n",
              "      <td>2/18/2019</td>\n",
              "      <td>13:28</td>\n",
              "      <td>Cash</td>\n",
              "      <td>618.38</td>\n",
              "      <td>4.761905</td>\n",
              "      <td>30.9190</td>\n",
              "      <td>6.6</td>\n",
              "    </tr>\n",
              "  </tbody>\n",
              "</table>\n",
              "</div>"
            ],
            "text/plain": [
              "      Invoice ID Branch  ... gross income Rating\n",
              "990  886-18-2897      A  ...      14.1400    4.5\n",
              "991  602-16-6955      B  ...      38.3000    6.0\n",
              "992  745-74-0715      A  ...       5.8030    8.8\n",
              "993  690-01-6631      B  ...       8.7450    6.6\n",
              "994  652-49-6720      C  ...       3.0475    5.9\n",
              "995  233-67-5758      C  ...       2.0175    6.2\n",
              "996  303-96-2227      B  ...      48.6900    4.4\n",
              "997  727-02-1313      A  ...       1.5920    7.7\n",
              "998  347-56-2442      A  ...       3.2910    4.1\n",
              "999  849-09-3807      A  ...      30.9190    6.6\n",
              "\n",
              "[10 rows x 17 columns]"
            ]
          },
          "metadata": {
            "tags": []
          },
          "execution_count": 43
        }
      ]
    },
    {
      "cell_type": "markdown",
      "metadata": {
        "id": "FLTToEKh-k0w"
      },
      "source": [
        "**Tahap Keempat** : Menampilkan jumlah data dan baris kolom."
      ]
    },
    {
      "cell_type": "code",
      "metadata": {
        "colab": {
          "base_uri": "https://localhost:8080/"
        },
        "id": "VuiNN1eOfkvd",
        "outputId": "996e061c-c244-40a8-ec01-4ba107c7cdfc"
      },
      "source": [
        "supermarket.shape"
      ],
      "execution_count": null,
      "outputs": [
        {
          "output_type": "execute_result",
          "data": {
            "text/plain": [
              "(1000, 17)"
            ]
          },
          "metadata": {
            "tags": []
          },
          "execution_count": 44
        }
      ]
    },
    {
      "cell_type": "markdown",
      "metadata": {
        "id": "wff-Q0Mq-xoR"
      },
      "source": [
        "**Tahap Kelima** : Menampilkan data informasi mengenai kolom."
      ]
    },
    {
      "cell_type": "code",
      "metadata": {
        "colab": {
          "base_uri": "https://localhost:8080/"
        },
        "id": "f_9AjF0_mBfY",
        "outputId": "93aff1ae-7203-46e4-a542-e2571df6be9c"
      },
      "source": [
        "supermarket.info()"
      ],
      "execution_count": null,
      "outputs": [
        {
          "output_type": "stream",
          "text": [
            "<class 'pandas.core.frame.DataFrame'>\n",
            "RangeIndex: 1000 entries, 0 to 999\n",
            "Data columns (total 17 columns):\n",
            " #   Column                   Non-Null Count  Dtype  \n",
            "---  ------                   --------------  -----  \n",
            " 0   Invoice ID               1000 non-null   object \n",
            " 1   Branch                   1000 non-null   object \n",
            " 2   City                     1000 non-null   object \n",
            " 3   Customer type            1000 non-null   object \n",
            " 4   Gender                   1000 non-null   object \n",
            " 5   Product line             1000 non-null   object \n",
            " 6   Unit price               1000 non-null   float64\n",
            " 7   Quantity                 1000 non-null   int64  \n",
            " 8   Tax 5%                   1000 non-null   float64\n",
            " 9   Total                    1000 non-null   float64\n",
            " 10  Date                     1000 non-null   object \n",
            " 11  Time                     1000 non-null   object \n",
            " 12  Payment                  1000 non-null   object \n",
            " 13  cogs                     1000 non-null   float64\n",
            " 14  gross margin percentage  1000 non-null   float64\n",
            " 15  gross income             1000 non-null   float64\n",
            " 16  Rating                   1000 non-null   float64\n",
            "dtypes: float64(7), int64(1), object(9)\n",
            "memory usage: 132.9+ KB\n"
          ],
          "name": "stdout"
        }
      ]
    },
    {
      "cell_type": "markdown",
      "metadata": {
        "id": "QpYcDYpDmUil"
      },
      "source": [
        "**Tahap keenam** : Menganalisis tentang jenis transaksi seperti Wallet, Cash, Credit dianalisis dari produk yang dibeli."
      ]
    },
    {
      "cell_type": "code",
      "metadata": {
        "colab": {
          "base_uri": "https://localhost:8080/",
          "height": 301
        },
        "id": "mwckUI-d7Zel",
        "outputId": "291a9714-6b47-491d-c8e2-e6097f49199e"
      },
      "source": [
        "fig=plt.figure()\n",
        "ax = fig.add_subplot(1,1,1)\n",
        "\n",
        "#Variable\n",
        "ax.hist(supermarket['Payment'],bins = 6)\n",
        "#Labels and Tit\n",
        "plt.title('Kategori Transaksi yang Sering Digunakan')\n",
        "plt.xlabel('Payment')\n",
        "plt.ylabel('Product line')\n",
        "plt.show()"
      ],
      "execution_count": null,
      "outputs": [
        {
          "output_type": "display_data",
          "data": {
            "image/png": "[encoded data removed]",
            "text/plain": [
              "<Figure size 432x288 with 1 Axes>"
            ]
          },
          "metadata": {
            "tags": []
          }
        }
      ]
    },
    {
      "cell_type": "markdown",
      "metadata": {
        "id": "NmlxS11lm8bK"
      },
      "source": [
        "- **Analisis Histogram :** Ditampilkan bahwa transaksi menggunakan EWallet dan cash mencapai 350 total jumlah produk, dan credit 300 total jumlah produk."
      ]
    },
    {
      "cell_type": "markdown",
      "metadata": {
        "id": "tG6ADNRynUSO"
      },
      "source": [
        "**Tahap ketujuh :** Analisis total penjualan dengan rating yang diberikan oleh konsumen"
      ]
    },
    {
      "cell_type": "code",
      "metadata": {
        "colab": {
          "base_uri": "https://localhost:8080/",
          "height": 301
        },
        "id": "WMl-KBHaJv3h",
        "outputId": "1a2818ae-92a6-44d3-bca6-14befc46de87"
      },
      "source": [
        "fig=plt.figure()\n",
        "ax = fig.add_subplot(1,1,1)\n",
        "\n",
        "#Variable\n",
        "ax.scatter(supermarket['Total'],supermarket['Rating'])\n",
        "\n",
        "#Labels and Tit\n",
        "plt.title('Total dan Rating')\n",
        "plt.xlabel('Total')\n",
        "plt.ylabel('Rating')\n",
        "plt.show()"
      ],
      "execution_count": null,
      "outputs": [
        {
          "output_type": "display_data",
          "data": {
            "image/png": "[encoded data removed]",
            "text/plain": [
              "<Figure size 432x288 with 1 Axes>"
            ]
          },
          "metadata": {
            "tags": []
          }
        }
      ]
    },
    {
      "cell_type": "markdown",
      "metadata": {
        "id": "wYmuFCMBnxHO"
      },
      "source": [
        "- **Analisis Scatter Plot**: Total penjualan terbanyak dapat dilihat bahwa hanya mencapai 300, dan total penjualan paling tinggi pada 1000 lebih namun dengan Rating yang belum mencapai maksimal."
      ]
    },
    {
      "cell_type": "markdown",
      "metadata": {
        "id": "cgNDxf54ox1o"
      },
      "source": [
        "**Tahap ke delapan** : Analisis menggunakan Boxplot dilihat dari total penjualan dengan rating yang diberikan oleh konsumen"
      ]
    },
    {
      "cell_type": "code",
      "metadata": {
        "colab": {
          "base_uri": "https://localhost:8080/",
          "height": 339
        },
        "id": "8GS7-FujS0sz",
        "outputId": "e7a89e5e-b87f-47dc-e85a-4fb4b0853d40"
      },
      "source": [
        "sns.boxplot(supermarket['Total'])\n",
        "sns.despine()"
      ],
      "execution_count": null,
      "outputs": [
        {
          "output_type": "stream",
          "text": [
            "/usr/local/lib/python3.6/dist-packages/seaborn/_decorators.py:43: FutureWarning: Pass the following variable as a keyword arg: x. From version 0.12, the only valid positional argument will be `data`, and passing other arguments without an explicit keyword will result in an error or misinterpretation.\n",
            "  FutureWarning\n"
          ],
          "name": "stderr"
        },
        {
          "output_type": "display_data",
          "data": {
            "image/png": "[encoded data removed]",
            "text/plain": [
              "<Figure size 432x288 with 1 Axes>"
            ]
          },
          "metadata": {
            "tags": []
          }
        }
      ]
    },
    {
      "cell_type": "markdown",
      "metadata": {
        "id": "Es1d2UTSpAgg"
      },
      "source": [
        "- **Analisis Boxplot** : \n",
        "1. Nilai minimal menunjukan total penjualan 0\n",
        "2. Nilai Quartil terendah menunjukan total penjualan kira-kira 120\n",
        "3. Nilai Median menunjukan total penjualan kira-kira 250\n",
        "4. Nilai Quartil teratas menunjukan total penjualan kira-kira 490\n",
        "5. Nilai maksimal menunjukan total penjualan kira-kira 950\n",
        "6. Terdapat pencilan data pada total penjualan 1000"
      ]
    },
    {
      "cell_type": "markdown",
      "metadata": {
        "id": "4A0ZLo51JZpq"
      },
      "source": [
        "**Tahap ke sembilan** : Analisis menggunakan Plots jenis transaksi yang digunakan dengan total yang dibeli."
      ]
    },
    {
      "cell_type": "code",
      "metadata": {
        "colab": {
          "base_uri": "https://localhost:8080/",
          "height": 302
        },
        "id": "wMYZXqN4k7C6",
        "outputId": "2ea8710a-a213-4ec6-8efa-ddc8dcbfb4cc"
      },
      "source": [
        "sns.stripplot(x=\"Payment\", y=\"Total\", data=supermarket) "
      ],
      "execution_count": null,
      "outputs": [
        {
          "output_type": "execute_result",
          "data": {
            "text/plain": [
              "<matplotlib.axes._subplots.AxesSubplot at 0x7f67da0c2128>"
            ]
          },
          "metadata": {
            "tags": []
          },
          "execution_count": 49
        },
        {
          "output_type": "display_data",
          "data": {
            "image/png": "[encoded data removed]",
            "text/plain": [
              "<Figure size 432x288 with 1 Axes>"
            ]
          },
          "metadata": {
            "tags": []
          }
        }
      ]
    },
    {
      "cell_type": "markdown",
      "metadata": {
        "id": "f9dtKRKeKT5g"
      },
      "source": [
        "- **Analisis Plots** : Pada transaksi EWallet total banyak penjual rata-rata 0-300, transaksi Cash total banyak penjual rata-rata 0-400, dan transaksi Credit card total banyak penjual rata-rata 0-200"
      ]
    },
    {
      "cell_type": "markdown",
      "metadata": {
        "id": "XzHMmSQtLbI1"
      },
      "source": [
        "**Tahap kesepuluh** : Analisis menggunakan Boxplot jenis transaksi yang digunakan dengan total yang dibeli."
      ]
    },
    {
      "cell_type": "code",
      "metadata": {
        "colab": {
          "base_uri": "https://localhost:8080/",
          "height": 302
        },
        "id": "VvHnfrlpiJhS",
        "outputId": "e8789dc3-f46f-46de-9795-cd050da9d236"
      },
      "source": [
        "sns.boxplot(x=\"Payment\", y=\"Total\", data=supermarket, hue = 'Gender') "
      ],
      "execution_count": null,
      "outputs": [
        {
          "output_type": "execute_result",
          "data": {
            "text/plain": [
              "<matplotlib.axes._subplots.AxesSubplot at 0x7f67da087a20>"
            ]
          },
          "metadata": {
            "tags": []
          },
          "execution_count": 50
        },
        {
          "output_type": "display_data",
          "data": {
            "image/png": "[encoded data removed]",
            "text/plain": [
              "<Figure size 432x288 with 1 Axes>"
            ]
          },
          "metadata": {
            "tags": []
          }
        }
      ]
    },
    {
      "cell_type": "markdown",
      "metadata": {
        "id": "8XdIgUfdLwMr"
      },
      "source": [
        "- **Analisis Boxplot EWallet Female** : \r\n",
        "1. Nilai minimal menunjukan total penjualan 0\r\n",
        "2. Nilai Quartil terendah menunjukan total penjualan kira-kira 180\r\n",
        "3. Nilai Median menunjukan total penjualan kira-kira 300\r\n",
        "4. Nilai Quartil teratas menunjukan total penjualan kira-kira 500\r\n",
        "5. Nilai maksimal menunjukan total penjualan kira-kira 1010\r\n",
        "\r\n",
        "- **Analisis Boxplot EWallet Male** : \r\n",
        "1. Nilai minimal menunjukan total penjualan 0\r\n",
        "2. Nilai Quartil terendah menunjukan total penjualan kira-kira 160\r\n",
        "3. Nilai Median menunjukan total penjualan kira-kira 200\r\n",
        "4. Nilai Quartil teratas menunjukan total penjualan kira-kira 410\r\n",
        "5. Nilai maksimal menunjukan total penjualan kira-kira 970\r\n",
        "6. Terdapat pencilan data pada total penjualan 1000\r\n",
        "\r\n",
        "- **Analisis Boxplot Cash Female** : \r\n",
        "1. Nilai minimal menunjukan total penjualan 0\r\n",
        "2. Nilai Quartil terendah menunjukan total penjualan kira-kira 200\r\n",
        "3. Nilai Median menunjukan total penjualan kira-kira 300\r\n",
        "4. Nilai Quartil teratas menunjukan total penjualan kira-kira 500\r\n",
        "5. Nilai maksimal menunjukan total penjualan kira-kira 1000\r\n",
        "6. Terdapat pencilan data pada total penjualan 1000\r\n",
        "\r\n",
        "- **Analisis Boxplot Cash Male** : \r\n",
        "1. Nilai minimal menunjukan total penjualan 0\r\n",
        "2. Nilai Quartil terendah menunjukan total penjualan kira-kira 180\r\n",
        "3. Nilai Median menunjukan total penjualan kira-kira 290\r\n",
        "4. Nilai Quartil teratas menunjukan total penjualan kira-kira 500\r\n",
        "5. Nilai maksimal menunjukan total penjualan kira-kira 1000\r\n",
        "\r\n",
        "- **Analisis Boxplot Credit Card Female** : \r\n",
        "1. Nilai minimal menunjukan total penjualan 0\r\n",
        "2. Nilai Quartil terendah menunjukan total penjualan kira-kira 180\r\n",
        "3. Nilai Median menunjukan total penjualan kira-kira 240\r\n",
        "4. Nilai Quartil teratas menunjukan total penjualan kira-kira 500\r\n",
        "5. Nilai maksimal menunjukan total penjualan kira-kira 1000\r\n",
        "\r\n",
        "- **Analisis Boxplot Credit Card Male** : \r\n",
        "1. Nilai minimal menunjukan total penjualan 0\r\n",
        "2. Nilai Quartil terendah menunjukan total penjualan kira-kira 200\r\n",
        "3. Nilai Median menunjukan total penjualan kira-kira 300\r\n",
        "4. Nilai Quartil teratas menunjukan total penjualan kira-kira 480\r\n",
        "5. Nilai maksimal menunjukan total penjualan kira-kira 960\r\n",
        "6. Terdapat pencilan data pada total penjualan 1000"
      ]
    },
    {
      "cell_type": "markdown",
      "metadata": {
        "id": "6-WxRg6tqmDo"
      },
      "source": [
        "**Tahap ke sebelas** : Analisis frekuensi produk yang dibeli dengan gender."
      ]
    },
    {
      "cell_type": "code",
      "metadata": {
        "colab": {
          "base_uri": "https://localhost:8080/"
        },
        "id": "OkCyw-coTAys",
        "outputId": "88a2cb6f-c36c-45e4-d244-5efb911c8c11"
      },
      "source": [
        "print (supermarket)\n",
        "test= supermarket.groupby(['Product line','Gender'])\n",
        "test.size()"
      ],
      "execution_count": null,
      "outputs": [
        {
          "output_type": "stream",
          "text": [
            "      Invoice ID Branch  ... gross income Rating\n",
            "0    750-67-8428      A  ...      26.1415    9.1\n",
            "1    226-31-3081      C  ...       3.8200    9.6\n",
            "2    631-41-3108      A  ...      16.2155    7.4\n",
            "3    123-19-1176      A  ...      23.2880    8.4\n",
            "4    373-73-7910      A  ...      30.2085    5.3\n",
            "..           ...    ...  ...          ...    ...\n",
            "995  233-67-5758      C  ...       2.0175    6.2\n",
            "996  303-96-2227      B  ...      48.6900    4.4\n",
            "997  727-02-1313      A  ...       1.5920    7.7\n",
            "998  347-56-2442      A  ...       3.2910    4.1\n",
            "999  849-09-3807      A  ...      30.9190    6.6\n",
            "\n",
            "[1000 rows x 17 columns]\n"
          ],
          "name": "stdout"
        },
        {
          "output_type": "execute_result",
          "data": {
            "text/plain": [
              "Product line            Gender\n",
              "Electronic accessories  Female    84\n",
              "                        Male      86\n",
              "Fashion accessories     Female    96\n",
              "                        Male      82\n",
              "Food and beverages      Female    90\n",
              "                        Male      84\n",
              "Health and beauty       Female    64\n",
              "                        Male      88\n",
              "Home and lifestyle      Female    79\n",
              "                        Male      81\n",
              "Sports and travel       Female    88\n",
              "                        Male      78\n",
              "dtype: int64"
            ]
          },
          "metadata": {
            "tags": []
          },
          "execution_count": 51
        }
      ]
    },
    {
      "cell_type": "markdown",
      "metadata": {
        "id": "yClMFtCIrDj4"
      },
      "source": [
        "\n",
        "\n",
        "\n",
        "- **Analisis Frekuensi** : \n",
        "1. Terdapat data table yang akan dianalisis\n",
        "2. Produk dan Gender dikelompokan dan terdapat jumlah frekuensi yang telah dilakukan\n",
        "\n",
        "- Produk yang banyak dibeli dilihat dari Gender Female adalah Fashion accessories sebanyak 96 dan dari Gender Male adalah Health and beauty Female sebanyak 64"
      ]
    },
    {
      "cell_type": "markdown",
      "metadata": {
        "id": "XCVqCqKirXFd"
      },
      "source": [
        "**Tahap ke dua belas** : Analisis mapping tentang jenis transaksi dengan quantity yang dianalisis dari rating yang diberikan."
      ]
    },
    {
      "cell_type": "code",
      "metadata": {
        "colab": {
          "base_uri": "https://localhost:8080/",
          "height": 404
        },
        "id": "9xB3qL8q_BsQ",
        "outputId": "89144fda-21bb-4c6c-b708-ea876508f9eb"
      },
      "source": [
        "sp_pivot = supermarket.pivot_table(index='Payment', columns='Quantity', values='Rating')\n",
        "\n",
        "print(sp_pivot)\n",
        "\n",
        "sns.heatmap(sp_pivot, annot=True, cmap='coolwarm')\n",
        "\n",
        "plt.show()"
      ],
      "execution_count": null,
      "outputs": [
        {
          "output_type": "stream",
          "text": [
            "Quantity           1         2         3   ...        8         9         10\n",
            "Payment                                    ...                              \n",
            "Cash         6.604444  6.859259  7.054545  ...  7.026923  6.921622  6.602778\n",
            "Credit card  7.091176  6.668966  7.426471  ...  6.604167  7.192308  6.931818\n",
            "Ewallet      7.451515  7.020000  6.632353  ...  7.377143  6.827586  6.882051\n",
            "\n",
            "[3 rows x 10 columns]\n"
          ],
          "name": "stdout"
        },
        {
          "output_type": "display_data",
          "data": {
            "image/png": "[encoded data removed]",
            "text/plain": [
              "<Figure size 432x288 with 2 Axes>"
            ]
          },
          "metadata": {
            "tags": []
          }
        }
      ]
    },
    {
      "cell_type": "markdown",
      "metadata": {
        "id": "wNgD7leKP7z-"
      },
      "source": [
        "- **Analisis Mapping**: Dibagi antara beberapa kelompok berdasarkan rating yang diberikan dapat dilihat dari jenis transkasi dan quantity.\r\n",
        "\r\n",
        "- Dilihat dari mapping yang sudah dibuat bahwa Rating tertinggi 7,5 dengan transaksi menggunakan E-wallet dengan quantity sejumlah 1, dan rating terendah dengan transkasi menggunakan E-walletdengan quantity sejumlah 7"
      ]
    },
    {
      "cell_type": "markdown",
      "metadata": {
        "id": "rzZmQF5blyDv"
      },
      "source": [
        "# **TAHAP PEMODELAN DATA**"
      ]
    },
    {
      "cell_type": "markdown",
      "metadata": {
        "id": "LO_-mL3TQMQq"
      },
      "source": [
        "**Tahap pertama** : Import library yang digunakan"
      ]
    },
    {
      "cell_type": "code",
      "metadata": {
        "id": "KiD2C1Pub2Ux"
      },
      "source": [
        "from sklearn.cluster import KMeans\n",
        "import numpy as np\n",
        "from sklearn.preprocessing import MinMaxScaler\n",
        "import math"
      ],
      "execution_count": null,
      "outputs": []
    },
    {
      "cell_type": "markdown",
      "metadata": {
        "id": "6V3NBgTOQdqk"
      },
      "source": [
        "**Tahap kedua** : Pengelompokan data menggunakan acuan product line."
      ]
    },
    {
      "cell_type": "code",
      "metadata": {
        "colab": {
          "base_uri": "https://localhost:8080/",
          "height": 436
        },
        "id": "ZlEwwWM-lvvL",
        "outputId": "7e6b1313-2d42-4e5c-f69e-885acaa2358c"
      },
      "source": [
        "test= supermarket.groupby(['Product line'])\r\n",
        "test.describe()"
      ],
      "execution_count": null,
      "outputs": [
        {
          "output_type": "execute_result",
          "data": {
            "text/html": [
              "<div>\n",
              "<style scoped>\n",
              "    .dataframe tbody tr th:only-of-type {\n",
              "        vertical-align: middle;\n",
              "    }\n",
              "\n",
              "    .dataframe tbody tr th {\n",
              "        vertical-align: top;\n",
              "    }\n",
              "\n",
              "    .dataframe thead tr th {\n",
              "        text-align: left;\n",
              "    }\n",
              "\n",
              "    .dataframe thead tr:last-of-type th {\n",
              "        text-align: right;\n",
              "    }\n",
              "</style>\n",
              "<table border=\"1\" class=\"dataframe\">\n",
              "  <thead>\n",
              "    <tr>\n",
              "      <th></th>\n",
              "      <th colspan=\"8\" halign=\"left\">Unit price</th>\n",
              "      <th colspan=\"8\" halign=\"left\">Quantity</th>\n",
              "      <th colspan=\"8\" halign=\"left\">Tax 5%</th>\n",
              "      <th colspan=\"8\" halign=\"left\">Total</th>\n",
              "      <th colspan=\"8\" halign=\"left\">cogs</th>\n",
              "      <th colspan=\"8\" halign=\"left\">gross margin percentage</th>\n",
              "      <th colspan=\"8\" halign=\"left\">gross income</th>\n",
              "      <th colspan=\"8\" halign=\"left\">Rating</th>\n",
              "    </tr>\n",
              "    <tr>\n",
              "      <th></th>\n",
              "      <th>count</th>\n",
              "      <th>mean</th>\n",
              "      <th>std</th>\n",
              "      <th>min</th>\n",
              "      <th>25%</th>\n",
              "      <th>50%</th>\n",
              "      <th>75%</th>\n",
              "      <th>max</th>\n",
              "      <th>count</th>\n",
              "      <th>mean</th>\n",
              "      <th>std</th>\n",
              "      <th>min</th>\n",
              "      <th>25%</th>\n",
              "      <th>50%</th>\n",
              "      <th>75%</th>\n",
              "      <th>max</th>\n",
              "      <th>count</th>\n",
              "      <th>mean</th>\n",
              "      <th>std</th>\n",
              "      <th>min</th>\n",
              "      <th>25%</th>\n",
              "      <th>50%</th>\n",
              "      <th>75%</th>\n",
              "      <th>max</th>\n",
              "      <th>count</th>\n",
              "      <th>mean</th>\n",
              "      <th>std</th>\n",
              "      <th>min</th>\n",
              "      <th>25%</th>\n",
              "      <th>50%</th>\n",
              "      <th>75%</th>\n",
              "      <th>max</th>\n",
              "      <th>count</th>\n",
              "      <th>mean</th>\n",
              "      <th>std</th>\n",
              "      <th>min</th>\n",
              "      <th>25%</th>\n",
              "      <th>50%</th>\n",
              "      <th>75%</th>\n",
              "      <th>max</th>\n",
              "      <th>count</th>\n",
              "      <th>mean</th>\n",
              "      <th>std</th>\n",
              "      <th>min</th>\n",
              "      <th>25%</th>\n",
              "      <th>50%</th>\n",
              "      <th>75%</th>\n",
              "      <th>max</th>\n",
              "      <th>count</th>\n",
              "      <th>mean</th>\n",
              "      <th>std</th>\n",
              "      <th>min</th>\n",
              "      <th>25%</th>\n",
              "      <th>50%</th>\n",
              "      <th>75%</th>\n",
              "      <th>max</th>\n",
              "      <th>count</th>\n",
              "      <th>mean</th>\n",
              "      <th>std</th>\n",
              "      <th>min</th>\n",
              "      <th>25%</th>\n",
              "      <th>50%</th>\n",
              "      <th>75%</th>\n",
              "      <th>max</th>\n",
              "    </tr>\n",
              "    <tr>\n",
              "      <th>Product line</th>\n",
              "      <th></th>\n",
              "      <th></th>\n",
              "      <th></th>\n",
              "      <th></th>\n",
              "      <th></th>\n",
              "      <th></th>\n",
              "      <th></th>\n",
              "      <th></th>\n",
              "      <th></th>\n",
              "      <th></th>\n",
              "      <th></th>\n",
              "      <th></th>\n",
              "      <th></th>\n",
              "      <th></th>\n",
              "      <th></th>\n",
              "      <th></th>\n",
              "      <th></th>\n",
              "      <th></th>\n",
              "      <th></th>\n",
              "      <th></th>\n",
              "      <th></th>\n",
              "      <th></th>\n",
              "      <th></th>\n",
              "      <th></th>\n",
              "      <th></th>\n",
              "      <th></th>\n",
              "      <th></th>\n",
              "      <th></th>\n",
              "      <th></th>\n",
              "      <th></th>\n",
              "      <th></th>\n",
              "      <th></th>\n",
              "      <th></th>\n",
              "      <th></th>\n",
              "      <th></th>\n",
              "      <th></th>\n",
              "      <th></th>\n",
              "      <th></th>\n",
              "      <th></th>\n",
              "      <th></th>\n",
              "      <th></th>\n",
              "      <th></th>\n",
              "      <th></th>\n",
              "      <th></th>\n",
              "      <th></th>\n",
              "      <th></th>\n",
              "      <th></th>\n",
              "      <th></th>\n",
              "      <th></th>\n",
              "      <th></th>\n",
              "      <th></th>\n",
              "      <th></th>\n",
              "      <th></th>\n",
              "      <th></th>\n",
              "      <th></th>\n",
              "      <th></th>\n",
              "      <th></th>\n",
              "      <th></th>\n",
              "      <th></th>\n",
              "      <th></th>\n",
              "      <th></th>\n",
              "      <th></th>\n",
              "      <th></th>\n",
              "      <th></th>\n",
              "    </tr>\n",
              "  </thead>\n",
              "  <tbody>\n",
              "    <tr>\n",
              "      <th>Electronic accessories</th>\n",
              "      <td>170.0</td>\n",
              "      <td>53.551588</td>\n",
              "      <td>26.748102</td>\n",
              "      <td>10.56</td>\n",
              "      <td>27.9825</td>\n",
              "      <td>51.505</td>\n",
              "      <td>75.9025</td>\n",
              "      <td>99.73</td>\n",
              "      <td>170.0</td>\n",
              "      <td>5.711765</td>\n",
              "      <td>2.909764</td>\n",
              "      <td>1.0</td>\n",
              "      <td>3.00</td>\n",
              "      <td>6.0</td>\n",
              "      <td>8.0</td>\n",
              "      <td>10.0</td>\n",
              "      <td>170.0</td>\n",
              "      <td>15.220597</td>\n",
              "      <td>11.711696</td>\n",
              "      <td>1.2725</td>\n",
              "      <td>5.643000</td>\n",
              "      <td>11.48650</td>\n",
              "      <td>22.658250</td>\n",
              "      <td>44.8785</td>\n",
              "      <td>170.0</td>\n",
              "      <td>319.632538</td>\n",
              "      <td>245.945626</td>\n",
              "      <td>26.7225</td>\n",
              "      <td>118.503000</td>\n",
              "      <td>241.21650</td>\n",
              "      <td>475.823250</td>\n",
              "      <td>942.4485</td>\n",
              "      <td>170.0</td>\n",
              "      <td>304.411941</td>\n",
              "      <td>234.233930</td>\n",
              "      <td>25.45</td>\n",
              "      <td>112.8600</td>\n",
              "      <td>229.730</td>\n",
              "      <td>453.1650</td>\n",
              "      <td>897.57</td>\n",
              "      <td>170.0</td>\n",
              "      <td>4.761905</td>\n",
              "      <td>1.870685e-14</td>\n",
              "      <td>4.761905</td>\n",
              "      <td>4.761905</td>\n",
              "      <td>4.761905</td>\n",
              "      <td>4.761905</td>\n",
              "      <td>4.761905</td>\n",
              "      <td>170.0</td>\n",
              "      <td>15.220597</td>\n",
              "      <td>11.711696</td>\n",
              "      <td>1.2725</td>\n",
              "      <td>5.643000</td>\n",
              "      <td>11.48650</td>\n",
              "      <td>22.658250</td>\n",
              "      <td>44.8785</td>\n",
              "      <td>170.0</td>\n",
              "      <td>6.924706</td>\n",
              "      <td>1.702028</td>\n",
              "      <td>4.0</td>\n",
              "      <td>5.500</td>\n",
              "      <td>6.70</td>\n",
              "      <td>8.35</td>\n",
              "      <td>10.0</td>\n",
              "    </tr>\n",
              "    <tr>\n",
              "      <th>Fashion accessories</th>\n",
              "      <td>178.0</td>\n",
              "      <td>57.153652</td>\n",
              "      <td>26.666294</td>\n",
              "      <td>10.18</td>\n",
              "      <td>35.5200</td>\n",
              "      <td>55.090</td>\n",
              "      <td>81.1025</td>\n",
              "      <td>99.89</td>\n",
              "      <td>178.0</td>\n",
              "      <td>5.067416</td>\n",
              "      <td>3.102023</td>\n",
              "      <td>1.0</td>\n",
              "      <td>2.00</td>\n",
              "      <td>5.0</td>\n",
              "      <td>8.0</td>\n",
              "      <td>10.0</td>\n",
              "      <td>178.0</td>\n",
              "      <td>14.528062</td>\n",
              "      <td>11.598292</td>\n",
              "      <td>0.6045</td>\n",
              "      <td>5.055000</td>\n",
              "      <td>10.07850</td>\n",
              "      <td>21.080500</td>\n",
              "      <td>49.6500</td>\n",
              "      <td>178.0</td>\n",
              "      <td>305.089298</td>\n",
              "      <td>243.564130</td>\n",
              "      <td>12.6945</td>\n",
              "      <td>106.155000</td>\n",
              "      <td>211.64850</td>\n",
              "      <td>442.690500</td>\n",
              "      <td>1042.6500</td>\n",
              "      <td>178.0</td>\n",
              "      <td>290.561236</td>\n",
              "      <td>231.965838</td>\n",
              "      <td>12.09</td>\n",
              "      <td>101.1000</td>\n",
              "      <td>201.570</td>\n",
              "      <td>421.6100</td>\n",
              "      <td>993.00</td>\n",
              "      <td>178.0</td>\n",
              "      <td>4.761905</td>\n",
              "      <td>1.959505e-14</td>\n",
              "      <td>4.761905</td>\n",
              "      <td>4.761905</td>\n",
              "      <td>4.761905</td>\n",
              "      <td>4.761905</td>\n",
              "      <td>4.761905</td>\n",
              "      <td>178.0</td>\n",
              "      <td>14.528062</td>\n",
              "      <td>11.598292</td>\n",
              "      <td>0.6045</td>\n",
              "      <td>5.055000</td>\n",
              "      <td>10.07850</td>\n",
              "      <td>21.080500</td>\n",
              "      <td>49.6500</td>\n",
              "      <td>178.0</td>\n",
              "      <td>7.029213</td>\n",
              "      <td>1.713437</td>\n",
              "      <td>4.0</td>\n",
              "      <td>5.600</td>\n",
              "      <td>6.95</td>\n",
              "      <td>8.50</td>\n",
              "      <td>9.9</td>\n",
              "    </tr>\n",
              "    <tr>\n",
              "      <th>Food and beverages</th>\n",
              "      <td>174.0</td>\n",
              "      <td>56.008851</td>\n",
              "      <td>26.270242</td>\n",
              "      <td>10.13</td>\n",
              "      <td>33.4675</td>\n",
              "      <td>53.995</td>\n",
              "      <td>78.7375</td>\n",
              "      <td>99.79</td>\n",
              "      <td>174.0</td>\n",
              "      <td>5.471264</td>\n",
              "      <td>2.872388</td>\n",
              "      <td>1.0</td>\n",
              "      <td>3.00</td>\n",
              "      <td>5.0</td>\n",
              "      <td>8.0</td>\n",
              "      <td>10.0</td>\n",
              "      <td>174.0</td>\n",
              "      <td>15.365310</td>\n",
              "      <td>11.769418</td>\n",
              "      <td>1.0790</td>\n",
              "      <td>6.424000</td>\n",
              "      <td>12.02325</td>\n",
              "      <td>21.554625</td>\n",
              "      <td>49.2600</td>\n",
              "      <td>174.0</td>\n",
              "      <td>322.671517</td>\n",
              "      <td>247.157780</td>\n",
              "      <td>22.6590</td>\n",
              "      <td>134.904000</td>\n",
              "      <td>252.48825</td>\n",
              "      <td>452.647125</td>\n",
              "      <td>1034.4600</td>\n",
              "      <td>174.0</td>\n",
              "      <td>307.306207</td>\n",
              "      <td>235.388362</td>\n",
              "      <td>21.58</td>\n",
              "      <td>128.4800</td>\n",
              "      <td>240.465</td>\n",
              "      <td>431.0925</td>\n",
              "      <td>985.20</td>\n",
              "      <td>174.0</td>\n",
              "      <td>4.761905</td>\n",
              "      <td>1.870558e-14</td>\n",
              "      <td>4.761905</td>\n",
              "      <td>4.761905</td>\n",
              "      <td>4.761905</td>\n",
              "      <td>4.761905</td>\n",
              "      <td>4.761905</td>\n",
              "      <td>174.0</td>\n",
              "      <td>15.365310</td>\n",
              "      <td>11.769418</td>\n",
              "      <td>1.0790</td>\n",
              "      <td>6.424000</td>\n",
              "      <td>12.02325</td>\n",
              "      <td>21.554625</td>\n",
              "      <td>49.2600</td>\n",
              "      <td>174.0</td>\n",
              "      <td>7.113218</td>\n",
              "      <td>1.715181</td>\n",
              "      <td>4.0</td>\n",
              "      <td>5.800</td>\n",
              "      <td>7.30</td>\n",
              "      <td>8.60</td>\n",
              "      <td>9.9</td>\n",
              "    </tr>\n",
              "    <tr>\n",
              "      <th>Health and beauty</th>\n",
              "      <td>152.0</td>\n",
              "      <td>54.854474</td>\n",
              "      <td>26.353058</td>\n",
              "      <td>10.08</td>\n",
              "      <td>32.4250</td>\n",
              "      <td>57.405</td>\n",
              "      <td>76.1350</td>\n",
              "      <td>99.96</td>\n",
              "      <td>152.0</td>\n",
              "      <td>5.618421</td>\n",
              "      <td>2.846944</td>\n",
              "      <td>1.0</td>\n",
              "      <td>3.00</td>\n",
              "      <td>6.0</td>\n",
              "      <td>8.0</td>\n",
              "      <td>10.0</td>\n",
              "      <td>152.0</td>\n",
              "      <td>15.411572</td>\n",
              "      <td>11.311372</td>\n",
              "      <td>0.8875</td>\n",
              "      <td>5.984125</td>\n",
              "      <td>12.96700</td>\n",
              "      <td>23.462875</td>\n",
              "      <td>45.2500</td>\n",
              "      <td>152.0</td>\n",
              "      <td>323.643020</td>\n",
              "      <td>237.538815</td>\n",
              "      <td>18.6375</td>\n",
              "      <td>125.666625</td>\n",
              "      <td>272.30700</td>\n",
              "      <td>492.720375</td>\n",
              "      <td>950.2500</td>\n",
              "      <td>152.0</td>\n",
              "      <td>308.231447</td>\n",
              "      <td>226.227443</td>\n",
              "      <td>17.75</td>\n",
              "      <td>119.6825</td>\n",
              "      <td>259.340</td>\n",
              "      <td>469.2575</td>\n",
              "      <td>905.00</td>\n",
              "      <td>152.0</td>\n",
              "      <td>4.761905</td>\n",
              "      <td>1.782229e-14</td>\n",
              "      <td>4.761905</td>\n",
              "      <td>4.761905</td>\n",
              "      <td>4.761905</td>\n",
              "      <td>4.761905</td>\n",
              "      <td>4.761905</td>\n",
              "      <td>152.0</td>\n",
              "      <td>15.411572</td>\n",
              "      <td>11.311372</td>\n",
              "      <td>0.8875</td>\n",
              "      <td>5.984125</td>\n",
              "      <td>12.96700</td>\n",
              "      <td>23.462875</td>\n",
              "      <td>45.2500</td>\n",
              "      <td>152.0</td>\n",
              "      <td>7.003289</td>\n",
              "      <td>1.763817</td>\n",
              "      <td>4.0</td>\n",
              "      <td>5.450</td>\n",
              "      <td>7.20</td>\n",
              "      <td>8.40</td>\n",
              "      <td>10.0</td>\n",
              "    </tr>\n",
              "    <tr>\n",
              "      <th>Home and lifestyle</th>\n",
              "      <td>160.0</td>\n",
              "      <td>55.316937</td>\n",
              "      <td>26.206963</td>\n",
              "      <td>10.53</td>\n",
              "      <td>34.3125</td>\n",
              "      <td>55.590</td>\n",
              "      <td>77.5225</td>\n",
              "      <td>99.92</td>\n",
              "      <td>160.0</td>\n",
              "      <td>5.693750</td>\n",
              "      <td>2.821741</td>\n",
              "      <td>1.0</td>\n",
              "      <td>3.75</td>\n",
              "      <td>6.0</td>\n",
              "      <td>8.0</td>\n",
              "      <td>10.0</td>\n",
              "      <td>160.0</td>\n",
              "      <td>16.030331</td>\n",
              "      <td>12.123841</td>\n",
              "      <td>0.6990</td>\n",
              "      <td>6.003625</td>\n",
              "      <td>12.29475</td>\n",
              "      <td>23.417250</td>\n",
              "      <td>48.7500</td>\n",
              "      <td>160.0</td>\n",
              "      <td>336.636956</td>\n",
              "      <td>254.600671</td>\n",
              "      <td>14.6790</td>\n",
              "      <td>126.076125</td>\n",
              "      <td>258.18975</td>\n",
              "      <td>491.762250</td>\n",
              "      <td>1023.7500</td>\n",
              "      <td>160.0</td>\n",
              "      <td>320.606625</td>\n",
              "      <td>242.476830</td>\n",
              "      <td>13.98</td>\n",
              "      <td>120.0725</td>\n",
              "      <td>245.895</td>\n",
              "      <td>468.3450</td>\n",
              "      <td>975.00</td>\n",
              "      <td>160.0</td>\n",
              "      <td>4.761905</td>\n",
              "      <td>1.871031e-14</td>\n",
              "      <td>4.761905</td>\n",
              "      <td>4.761905</td>\n",
              "      <td>4.761905</td>\n",
              "      <td>4.761905</td>\n",
              "      <td>4.761905</td>\n",
              "      <td>160.0</td>\n",
              "      <td>16.030331</td>\n",
              "      <td>12.123841</td>\n",
              "      <td>0.6990</td>\n",
              "      <td>6.003625</td>\n",
              "      <td>12.29475</td>\n",
              "      <td>23.417250</td>\n",
              "      <td>48.7500</td>\n",
              "      <td>160.0</td>\n",
              "      <td>6.837500</td>\n",
              "      <td>1.718627</td>\n",
              "      <td>4.1</td>\n",
              "      <td>5.400</td>\n",
              "      <td>7.00</td>\n",
              "      <td>8.20</td>\n",
              "      <td>9.9</td>\n",
              "    </tr>\n",
              "    <tr>\n",
              "      <th>Sports and travel</th>\n",
              "      <td>166.0</td>\n",
              "      <td>56.993253</td>\n",
              "      <td>26.905015</td>\n",
              "      <td>10.17</td>\n",
              "      <td>34.4175</td>\n",
              "      <td>58.650</td>\n",
              "      <td>80.6800</td>\n",
              "      <td>99.96</td>\n",
              "      <td>166.0</td>\n",
              "      <td>5.542169</td>\n",
              "      <td>2.951327</td>\n",
              "      <td>1.0</td>\n",
              "      <td>3.00</td>\n",
              "      <td>6.0</td>\n",
              "      <td>8.0</td>\n",
              "      <td>10.0</td>\n",
              "      <td>166.0</td>\n",
              "      <td>15.812630</td>\n",
              "      <td>11.827397</td>\n",
              "      <td>0.5085</td>\n",
              "      <td>6.345750</td>\n",
              "      <td>12.90150</td>\n",
              "      <td>22.746875</td>\n",
              "      <td>47.7200</td>\n",
              "      <td>166.0</td>\n",
              "      <td>332.065220</td>\n",
              "      <td>248.375328</td>\n",
              "      <td>10.6785</td>\n",
              "      <td>133.260750</td>\n",
              "      <td>270.93150</td>\n",
              "      <td>477.684375</td>\n",
              "      <td>1002.1200</td>\n",
              "      <td>166.0</td>\n",
              "      <td>316.252590</td>\n",
              "      <td>236.547931</td>\n",
              "      <td>10.17</td>\n",
              "      <td>126.9150</td>\n",
              "      <td>258.030</td>\n",
              "      <td>454.9375</td>\n",
              "      <td>954.40</td>\n",
              "      <td>166.0</td>\n",
              "      <td>4.761905</td>\n",
              "      <td>1.870818e-14</td>\n",
              "      <td>4.761905</td>\n",
              "      <td>4.761905</td>\n",
              "      <td>4.761905</td>\n",
              "      <td>4.761905</td>\n",
              "      <td>4.761905</td>\n",
              "      <td>166.0</td>\n",
              "      <td>15.812630</td>\n",
              "      <td>11.827397</td>\n",
              "      <td>0.5085</td>\n",
              "      <td>6.345750</td>\n",
              "      <td>12.90150</td>\n",
              "      <td>22.746875</td>\n",
              "      <td>47.7200</td>\n",
              "      <td>166.0</td>\n",
              "      <td>6.916265</td>\n",
              "      <td>1.714477</td>\n",
              "      <td>4.0</td>\n",
              "      <td>5.525</td>\n",
              "      <td>6.70</td>\n",
              "      <td>8.45</td>\n",
              "      <td>10.0</td>\n",
              "    </tr>\n",
              "  </tbody>\n",
              "</table>\n",
              "</div>"
            ],
            "text/plain": [
              "                       Unit price                        ... Rating            \n",
              "                            count       mean        std  ...    50%   75%   max\n",
              "Product line                                             ...                   \n",
              "Electronic accessories      170.0  53.551588  26.748102  ...   6.70  8.35  10.0\n",
              "Fashion accessories         178.0  57.153652  26.666294  ...   6.95  8.50   9.9\n",
              "Food and beverages          174.0  56.008851  26.270242  ...   7.30  8.60   9.9\n",
              "Health and beauty           152.0  54.854474  26.353058  ...   7.20  8.40  10.0\n",
              "Home and lifestyle          160.0  55.316937  26.206963  ...   7.00  8.20   9.9\n",
              "Sports and travel           166.0  56.993253  26.905015  ...   6.70  8.45  10.0\n",
              "\n",
              "[6 rows x 64 columns]"
            ]
          },
          "metadata": {
            "tags": []
          },
          "execution_count": 54
        }
      ]
    },
    {
      "cell_type": "markdown",
      "metadata": {
        "id": "mVuQlVhxQ7In"
      },
      "source": [
        "- **Analisis Pengelompokan** : Digunakan acuan Product line dibagi menjadi unit price, quantity, tax 5%, total, cogs, gross margin percentage, gross income,\tRating. Dikelompokkan menjadi count, mean, std, min, 25%, 50%, 75%, max."
      ]
    },
    {
      "cell_type": "markdown",
      "metadata": {
        "id": "YgmASv131jX5"
      },
      "source": [
        "**Tahap ketiga** : Pengelompokan indeks integer untuk pemilihan berdasarkan kolom 7 sampai 10."
      ]
    },
    {
      "cell_type": "code",
      "metadata": {
        "colab": {
          "base_uri": "https://localhost:8080/",
          "height": 204
        },
        "id": "l5pRMhCxmVqQ",
        "outputId": "65bc30b7-ea9c-438b-99b9-b1f6c90519cb"
      },
      "source": [
        "supermarket_x = supermarket.iloc[:, 7:10]\r\n",
        "supermarket_x.head()"
      ],
      "execution_count": null,
      "outputs": [
        {
          "output_type": "execute_result",
          "data": {
            "text/html": [
              "<div>\n",
              "<style scoped>\n",
              "    .dataframe tbody tr th:only-of-type {\n",
              "        vertical-align: middle;\n",
              "    }\n",
              "\n",
              "    .dataframe tbody tr th {\n",
              "        vertical-align: top;\n",
              "    }\n",
              "\n",
              "    .dataframe thead th {\n",
              "        text-align: right;\n",
              "    }\n",
              "</style>\n",
              "<table border=\"1\" class=\"dataframe\">\n",
              "  <thead>\n",
              "    <tr style=\"text-align: right;\">\n",
              "      <th></th>\n",
              "      <th>Quantity</th>\n",
              "      <th>Tax 5%</th>\n",
              "      <th>Total</th>\n",
              "    </tr>\n",
              "  </thead>\n",
              "  <tbody>\n",
              "    <tr>\n",
              "      <th>0</th>\n",
              "      <td>7</td>\n",
              "      <td>26.1415</td>\n",
              "      <td>548.9715</td>\n",
              "    </tr>\n",
              "    <tr>\n",
              "      <th>1</th>\n",
              "      <td>5</td>\n",
              "      <td>3.8200</td>\n",
              "      <td>80.2200</td>\n",
              "    </tr>\n",
              "    <tr>\n",
              "      <th>2</th>\n",
              "      <td>7</td>\n",
              "      <td>16.2155</td>\n",
              "      <td>340.5255</td>\n",
              "    </tr>\n",
              "    <tr>\n",
              "      <th>3</th>\n",
              "      <td>8</td>\n",
              "      <td>23.2880</td>\n",
              "      <td>489.0480</td>\n",
              "    </tr>\n",
              "    <tr>\n",
              "      <th>4</th>\n",
              "      <td>7</td>\n",
              "      <td>30.2085</td>\n",
              "      <td>634.3785</td>\n",
              "    </tr>\n",
              "  </tbody>\n",
              "</table>\n",
              "</div>"
            ],
            "text/plain": [
              "   Quantity   Tax 5%     Total\n",
              "0         7  26.1415  548.9715\n",
              "1         5   3.8200   80.2200\n",
              "2         7  16.2155  340.5255\n",
              "3         8  23.2880  489.0480\n",
              "4         7  30.2085  634.3785"
            ]
          },
          "metadata": {
            "tags": []
          },
          "execution_count": 55
        }
      ]
    },
    {
      "cell_type": "markdown",
      "metadata": {
        "id": "RdUhX9Cx14YC"
      },
      "source": [
        "- **Analisis** : Kolom yang muncul yaitu Quantity, Tax 5%, Total karena kolom tersebut memiliki nilai integer."
      ]
    },
    {
      "cell_type": "markdown",
      "metadata": {
        "id": "xDYwdRT62Mdu"
      },
      "source": [
        "**Tahap Keempat** : Pengelompokan menggunakan metode Elbow."
      ]
    },
    {
      "cell_type": "code",
      "metadata": {
        "colab": {
          "base_uri": "https://localhost:8080/",
          "height": 301
        },
        "id": "_oyi8BbBfBqo",
        "outputId": "55f869dc-9b8f-420a-c374-f6f4ca2570c6"
      },
      "source": [
        "# Menggunakan metode elbow untuk menentukan angka cluster yang tepat\n",
        "wcss = []\n",
        "for i in range(1, 11):\n",
        "    kmeans = KMeans(n_clusters = i, init = 'k-means++', random_state = 42)\n",
        "    kmeans.fit(supermarket_x)\n",
        "    wcss.append(kmeans.inertia_)\n",
        "plt.plot(range(1, 11), wcss)\n",
        "plt.title('Metode Elbow')\n",
        "plt.xlabel('Jumlah clusters')\n",
        "plt.ylabel('WCSS')\n",
        "plt.show()"
      ],
      "execution_count": null,
      "outputs": [
        {
          "output_type": "display_data",
          "data": {
            "image/png": "[encoded data removed]",
            "text/plain": [
              "<Figure size 432x288 with 1 Axes>"
            ]
          },
          "metadata": {
            "tags": []
          }
        }
      ]
    },
    {
      "cell_type": "markdown",
      "metadata": {
        "id": "KoQYE8YV3k9a"
      },
      "source": [
        "- **Analisis** : Pengelompokan menggunakan metode Elbow untuk mengetahui jumlah cluster yang optimal. Untuk mendapatkan nilai yang digunakan dalam grafik, beberapa model menggunakan jumlah cluster yang berbeda dan menyimpan nilai intertia_properti (WCSS) setiap saat.\r\n",
        "\r\n",
        "- WCSS didefinisikan sebagai jumlah jarak kuadrat antara setiap anggota cluster dan pusatnya.\r\n",
        "\r\n",
        "- Elbow yang di temukan pada titik (x,y) = (3, 0.9)"
      ]
    },
    {
      "cell_type": "markdown",
      "metadata": {
        "id": "x_iRgohP4gkS"
      },
      "source": [
        "**Tahap kelima** : Pengelompokkan menggunakan KMeans Clustering"
      ]
    },
    {
      "cell_type": "code",
      "metadata": {
        "id": "MGRvaIuAf3j1"
      },
      "source": [
        "# Menjalankan K-Means Clustering ke dataset\n",
        "kmeans = KMeans(n_clusters = 5, init = 'k-means++', random_state = 42)\n",
        "y_kmeans = kmeans.fit_predict(supermarket_x)"
      ],
      "execution_count": null,
      "outputs": []
    },
    {
      "cell_type": "code",
      "metadata": {
        "colab": {
          "base_uri": "https://localhost:8080/"
        },
        "id": "NdzWh1ihgFZ2",
        "outputId": "f20ffd80-5164-4ca5-d335-e0cdcc78ead6"
      },
      "source": [
        "print(kmeans.cluster_centers_)"
      ],
      "execution_count": null,
      "outputs": [
        {
          "output_type": "stream",
          "text": [
            "[[  2.99378882   4.13078106  86.74640217]\n",
            " [  9.17647059  39.79489216 835.69273529]\n",
            " [  6.68478261  18.91940489 397.30750272]\n",
            " [  7.6870229   28.09480916 589.99099237]\n",
            " [  5.2605364   10.83750192 227.58754023]]\n"
          ],
          "name": "stdout"
        }
      ]
    },
    {
      "cell_type": "markdown",
      "metadata": {
        "id": "XRSyqwhO5GoL"
      },
      "source": [
        "- **Analisis** : Prediksi yang didapatkan dari pengelompokan jumlah data supermarket_x yaitu dari kolom Quantity, Tax 5%, Total. Membentuk matriks 3x3 dari pengelompokkan nilai tengah."
      ]
    },
    {
      "cell_type": "markdown",
      "metadata": {
        "id": "ruW8DeLz6PsN"
      },
      "source": [
        "**Tahap Keenam** : Pengelompokan berdasarkan Array"
      ]
    },
    {
      "cell_type": "code",
      "metadata": {
        "colab": {
          "base_uri": "https://localhost:8080/"
        },
        "id": "WvOomJCKi1GN",
        "outputId": "244fecce-3747-491d-8065-32ace4a36f80"
      },
      "source": [
        "x_array =  np.array(supermarket_x)\n",
        "print(x_array)"
      ],
      "execution_count": null,
      "outputs": [
        {
          "output_type": "stream",
          "text": [
            "[[  7.      26.1415 548.9715]\n",
            " [  5.       3.82    80.22  ]\n",
            " [  7.      16.2155 340.5255]\n",
            " ...\n",
            " [  1.       1.592   33.432 ]\n",
            " [  1.       3.291   69.111 ]\n",
            " [  7.      30.919  649.299 ]]\n"
          ],
          "name": "stdout"
        }
      ]
    },
    {
      "cell_type": "markdown",
      "metadata": {
        "id": "0Y5I8aap6a0E"
      },
      "source": [
        "- **Analisis** : Array yang didapatkan dari pengelompokan jumlah data supermarket_x yaitu dari kolom Quantity, Tax 5%, Total."
      ]
    },
    {
      "cell_type": "markdown",
      "metadata": {
        "id": "mvDmDPsMBGKl"
      },
      "source": [
        "**Tahap Ketujuh** : Mengelompokkan berdasarkan Skala"
      ]
    },
    {
      "cell_type": "code",
      "metadata": {
        "colab": {
          "base_uri": "https://localhost:8080/"
        },
        "id": "AvXeoyY-jhK_",
        "outputId": "775d87bc-e0fd-4f65-e8a6-50aa7ff48bd4"
      },
      "source": [
        "scaler = MinMaxScaler()\n",
        "x_scaled = scaler.fit_transform(x_array)\n",
        "x_scaled"
      ],
      "execution_count": null,
      "outputs": [
        {
          "output_type": "execute_result",
          "data": {
            "text/plain": [
              "array([[0.66666667, 0.52161615, 0.52161615],\n",
              "       [0.44444444, 0.06738704, 0.06738704],\n",
              "       [0.66666667, 0.31962801, 0.31962801],\n",
              "       ...,\n",
              "       [0.        , 0.02204857, 0.02204857],\n",
              "       [0.        , 0.0566222 , 0.0566222 ],\n",
              "       [0.66666667, 0.6188354 , 0.6188354 ]])"
            ]
          },
          "metadata": {
            "tags": []
          },
          "execution_count": 60
        }
      ]
    },
    {
      "cell_type": "markdown",
      "metadata": {
        "id": "sZrT3nZGBtER"
      },
      "source": [
        "- **Analisis** : Data ini menunjukan array dengan menggunakan penskalaan  mencakup ketahanan terhadap stdev yang sangat kecil dan mempertahankan entri nol dalam data renggang."
      ]
    },
    {
      "cell_type": "markdown",
      "metadata": {
        "id": "KGVkzlZ4GBHz"
      },
      "source": [
        "**Tahap ke delapan** :  Menyelesaikan masalah KMeans dengan menggunakan algoritma Lloyd atau Elkan."
      ]
    },
    {
      "cell_type": "code",
      "metadata": {
        "colab": {
          "base_uri": "https://localhost:8080/"
        },
        "id": "GoTU5Sz3jpJ5",
        "outputId": "23d414ec-adda-462c-bbbc-b83b44cd6e35"
      },
      "source": [
        "# Menentukan dan mengkonfigurasi fungsi kmeans\n",
        "kmeans = KMeans(n_clusters = 5, random_state=123)\n",
        "# Menentukan kluster dari data\n",
        "kmeans.fit(x_scaled)"
      ],
      "execution_count": null,
      "outputs": [
        {
          "output_type": "execute_result",
          "data": {
            "text/plain": [
              "KMeans(algorithm='auto', copy_x=True, init='k-means++', max_iter=300,\n",
              "       n_clusters=5, n_init=10, n_jobs=None, precompute_distances='auto',\n",
              "       random_state=123, tol=0.0001, verbose=0)"
            ]
          },
          "metadata": {
            "tags": []
          },
          "execution_count": 61
        }
      ]
    },
    {
      "cell_type": "markdown",
      "metadata": {
        "id": "69CErmXXGMEE"
      },
      "source": [
        "- **Analisis** : Inisialisasi dari penyelesaian masalah KMeans."
      ]
    },
    {
      "cell_type": "code",
      "metadata": {
        "colab": {
          "base_uri": "https://localhost:8080/"
        },
        "id": "oE3OmZWMjxVd",
        "outputId": "56020059-d94d-4879-ec01-30e42e0d01f3"
      },
      "source": [
        "print(kmeans.cluster_centers_)"
      ],
      "execution_count": null,
      "outputs": [
        {
          "output_type": "stream",
          "text": [
            "[[0.08222222 0.07756361 0.07756361]\n",
            " [0.84550989 0.22669063 0.22669063]\n",
            " [0.67309942 0.48423146 0.48423146]\n",
            " [0.38810642 0.20818181 0.20818181]\n",
            " [0.91538462 0.76152234 0.76152234]]\n"
          ],
          "name": "stdout"
        }
      ]
    },
    {
      "cell_type": "markdown",
      "metadata": {
        "id": "eEyhoX9tHCkl"
      },
      "source": [
        "- **Analisis** : Print kembali setelah masalah diselesaiakn prediksi yang didapatkan dari pengelompokan jumlah data supermarket_x yaitu dari kolom Quantity, Tax 5%, Total. Membentuk matriks 3x3 dari pengelompokkan nilai tengah."
      ]
    },
    {
      "cell_type": "markdown",
      "metadata": {
        "id": "-PintCwiHaam"
      },
      "source": [
        "**Tahap ke sembilan** : Menampilkan hasil kluster"
      ]
    },
    {
      "cell_type": "code",
      "metadata": {
        "colab": {
          "base_uri": "https://localhost:8080/",
          "height": 1000
        },
        "id": "Z9VsNjNwj0jY",
        "outputId": "696e9aab-d187-4a17-bb83-eb8098bfedec"
      },
      "source": [
        "# Menampilkan hasil kluster\n",
        "print (kmeans.labels_)\n",
        "# Menambahkan kolom \"kluster\" dalam data frame\n",
        "supermarket[\"kluster\"] = kmeans.labels_\n",
        "supermarket.head(999)"
      ],
      "execution_count": null,
      "outputs": [
        {
          "output_type": "stream",
          "text": [
            "[2 3 1 2 2 2 2 4 0 0 3 3 3 1 4 2 2 2 0 0 2 3 0 3 3 2 0 0 2 1 2 4 4 0 3 0 3\n",
            " 2 2 1 0 0 2 4 0 3 2 1 3 4 2 3 3 0 0 4 0 4 4 3 0 3 2 1 3 1 0 2 4 0 4 4 0 2\n",
            " 4 1 2 1 4 3 2 3 1 3 3 2 3 2 0 2 3 2 1 2 0 0 4 3 0 2 0 4 1 2 1 4 3 2 1 4 0\n",
            " 3 2 2 4 0 3 0 1 0 4 2 4 2 2 2 3 1 2 4 1 2 3 2 2 3 3 3 2 2 4 4 4 0 2 3 1 3\n",
            " 2 1 3 1 4 3 4 2 0 3 4 2 1 0 1 0 1 1 4 4 3 2 3 2 1 3 1 1 1 1 2 3 2 1 1 1 1\n",
            " 0 4 3 0 3 3 0 4 3 3 0 0 0 3 3 3 3 2 1 3 1 4 1 0 4 1 4 2 0 1 0 3 3 4 3 3 2\n",
            " 3 0 0 0 4 3 2 2 0 0 4 3 2 0 3 3 3 0 1 0 0 3 4 2 3 3 3 2 2 1 0 3 2 3 0 3 3\n",
            " 3 4 3 3 1 0 4 3 4 3 1 3 0 1 0 2 2 1 3 4 2 2 0 0 2 3 3 0 1 2 2 1 1 0 0 1 3\n",
            " 3 2 3 0 0 0 0 3 1 2 1 4 0 0 2 0 3 1 4 0 0 3 1 3 1 0 3 3 3 3 2 3 3 3 1 0 3\n",
            " 0 3 3 4 2 0 1 0 2 2 2 0 4 0 4 1 1 4 2 2 1 0 3 1 4 0 0 4 4 0 2 3 3 2 3 1 1\n",
            " 1 0 2 3 3 2 1 2 3 3 3 0 2 3 3 0 3 1 2 1 3 1 0 2 0 3 3 1 3 1 3 3 0 3 4 3 3\n",
            " 3 3 3 1 0 3 0 2 0 3 0 0 1 0 3 4 1 0 1 2 0 3 4 0 0 3 2 0 4 3 3 3 1 3 4 4 0\n",
            " 1 0 1 0 0 0 2 3 3 0 3 3 4 4 2 0 3 4 3 0 3 4 1 3 0 0 2 3 1 2 3 3 3 3 1 0 2\n",
            " 1 3 4 1 3 1 3 0 4 0 1 1 1 0 2 0 2 0 2 0 0 0 0 0 1 0 2 3 3 2 3 2 4 2 0 3 3\n",
            " 0 3 0 2 3 0 2 2 3 0 4 4 3 4 1 1 3 1 0 0 3 2 0 0 3 3 0 3 1 2 3 2 3 2 2 3 1\n",
            " 0 0 4 3 3 1 4 1 2 0 4 2 4 2 2 2 1 1 0 2 2 3 3 3 0 0 3 0 3 3 3 0 3 4 3 3 1\n",
            " 0 3 3 0 0 2 3 0 0 0 4 3 2 3 2 3 0 0 0 4 3 0 4 1 2 2 2 3 3 0 2 4 0 0 0 4 0\n",
            " 0 4 3 0 3 3 4 1 0 3 0 3 4 0 2 3 1 2 0 0 1 3 3 4 1 3 0 0 3 3 0 0 1 2 4 0 3\n",
            " 3 3 3 0 4 0 3 1 2 0 2 3 4 3 0 0 3 0 3 0 0 4 0 3 4 2 2 2 2 2 3 3 4 4 2 0 1\n",
            " 4 4 2 3 0 1 0 2 3 4 1 4 3 2 0 0 3 1 4 0 1 3 1 3 4 3 2 3 3 0 2 0 4 2 4 4 4\n",
            " 2 0 0 0 1 0 4 3 1 2 3 3 1 3 3 4 1 2 1 3 4 4 2 3 3 4 3 3 3 3 3 2 2 0 0 3 2\n",
            " 0 3 4 1 3 0 1 3 2 2 3 3 2 0 3 4 2 0 0 0 1 0 2 3 1 2 2 4 3 0 3 0 4 1 1 3 0\n",
            " 2 2 1 1 3 3 3 0 0 3 2 3 4 0 4 4 1 3 1 0 1 0 3 3 4 3 0 0 0 0 0 3 0 0 4 2 0\n",
            " 0 2 2 2 1 1 3 2 2 0 0 1 2 3 0 4 0 0 3 1 0 1 2 3 2 0 0 4 1 1 1 1 3 0 1 0 4\n",
            " 1 4 2 2 2 3 3 4 2 3 2 1 2 3 3 1 0 3 4 2 0 2 0 3 4 2 3 3 0 3 3 0 1 3 0 2 3\n",
            " 3 0 1 4 0 2 0 4 2 2 3 2 2 3 2 3 4 2 3 1 2 0 0 3 1 0 0 3 3 2 1 2 3 1 4 0 0\n",
            " 0 3 0 0 1 3 0 3 4 1 2 3 0 0 3 3 0 0 3 3 4 4 2 3 0 2 4 2 3 4 0 1 0 0 4 0 0\n",
            " 2]\n"
          ],
          "name": "stdout"
        },
        {
          "output_type": "execute_result",
          "data": {
            "text/html": [
              "<div>\n",
              "<style scoped>\n",
              "    .dataframe tbody tr th:only-of-type {\n",
              "        vertical-align: middle;\n",
              "    }\n",
              "\n",
              "    .dataframe tbody tr th {\n",
              "        vertical-align: top;\n",
              "    }\n",
              "\n",
              "    .dataframe thead th {\n",
              "        text-align: right;\n",
              "    }\n",
              "</style>\n",
              "<table border=\"1\" class=\"dataframe\">\n",
              "  <thead>\n",
              "    <tr style=\"text-align: right;\">\n",
              "      <th></th>\n",
              "      <th>Invoice ID</th>\n",
              "      <th>Branch</th>\n",
              "      <th>City</th>\n",
              "      <th>Customer type</th>\n",
              "      <th>Gender</th>\n",
              "      <th>Product line</th>\n",
              "      <th>Unit price</th>\n",
              "      <th>Quantity</th>\n",
              "      <th>Tax 5%</th>\n",
              "      <th>Total</th>\n",
              "      <th>Date</th>\n",
              "      <th>Time</th>\n",
              "      <th>Payment</th>\n",
              "      <th>cogs</th>\n",
              "      <th>gross margin percentage</th>\n",
              "      <th>gross income</th>\n",
              "      <th>Rating</th>\n",
              "      <th>kluster</th>\n",
              "    </tr>\n",
              "  </thead>\n",
              "  <tbody>\n",
              "    <tr>\n",
              "      <th>0</th>\n",
              "      <td>750-67-8428</td>\n",
              "      <td>A</td>\n",
              "      <td>Yangon</td>\n",
              "      <td>Member</td>\n",
              "      <td>Female</td>\n",
              "      <td>Health and beauty</td>\n",
              "      <td>74.69</td>\n",
              "      <td>7</td>\n",
              "      <td>26.1415</td>\n",
              "      <td>548.9715</td>\n",
              "      <td>1/5/2019</td>\n",
              "      <td>13:08</td>\n",
              "      <td>Ewallet</td>\n",
              "      <td>522.83</td>\n",
              "      <td>4.761905</td>\n",
              "      <td>26.1415</td>\n",
              "      <td>9.1</td>\n",
              "      <td>2</td>\n",
              "    </tr>\n",
              "    <tr>\n",
              "      <th>1</th>\n",
              "      <td>226-31-3081</td>\n",
              "      <td>C</td>\n",
              "      <td>Naypyitaw</td>\n",
              "      <td>Normal</td>\n",
              "      <td>Female</td>\n",
              "      <td>Electronic accessories</td>\n",
              "      <td>15.28</td>\n",
              "      <td>5</td>\n",
              "      <td>3.8200</td>\n",
              "      <td>80.2200</td>\n",
              "      <td>3/8/2019</td>\n",
              "      <td>10:29</td>\n",
              "      <td>Cash</td>\n",
              "      <td>76.40</td>\n",
              "      <td>4.761905</td>\n",
              "      <td>3.8200</td>\n",
              "      <td>9.6</td>\n",
              "      <td>3</td>\n",
              "    </tr>\n",
              "    <tr>\n",
              "      <th>2</th>\n",
              "      <td>631-41-3108</td>\n",
              "      <td>A</td>\n",
              "      <td>Yangon</td>\n",
              "      <td>Normal</td>\n",
              "      <td>Male</td>\n",
              "      <td>Home and lifestyle</td>\n",
              "      <td>46.33</td>\n",
              "      <td>7</td>\n",
              "      <td>16.2155</td>\n",
              "      <td>340.5255</td>\n",
              "      <td>3/3/2019</td>\n",
              "      <td>13:23</td>\n",
              "      <td>Credit card</td>\n",
              "      <td>324.31</td>\n",
              "      <td>4.761905</td>\n",
              "      <td>16.2155</td>\n",
              "      <td>7.4</td>\n",
              "      <td>1</td>\n",
              "    </tr>\n",
              "    <tr>\n",
              "      <th>3</th>\n",
              "      <td>123-19-1176</td>\n",
              "      <td>A</td>\n",
              "      <td>Yangon</td>\n",
              "      <td>Member</td>\n",
              "      <td>Male</td>\n",
              "      <td>Health and beauty</td>\n",
              "      <td>58.22</td>\n",
              "      <td>8</td>\n",
              "      <td>23.2880</td>\n",
              "      <td>489.0480</td>\n",
              "      <td>1/27/2019</td>\n",
              "      <td>20:33</td>\n",
              "      <td>Ewallet</td>\n",
              "      <td>465.76</td>\n",
              "      <td>4.761905</td>\n",
              "      <td>23.2880</td>\n",
              "      <td>8.4</td>\n",
              "      <td>2</td>\n",
              "    </tr>\n",
              "    <tr>\n",
              "      <th>4</th>\n",
              "      <td>373-73-7910</td>\n",
              "      <td>A</td>\n",
              "      <td>Yangon</td>\n",
              "      <td>Normal</td>\n",
              "      <td>Male</td>\n",
              "      <td>Sports and travel</td>\n",
              "      <td>86.31</td>\n",
              "      <td>7</td>\n",
              "      <td>30.2085</td>\n",
              "      <td>634.3785</td>\n",
              "      <td>2/8/2019</td>\n",
              "      <td>10:37</td>\n",
              "      <td>Ewallet</td>\n",
              "      <td>604.17</td>\n",
              "      <td>4.761905</td>\n",
              "      <td>30.2085</td>\n",
              "      <td>5.3</td>\n",
              "      <td>2</td>\n",
              "    </tr>\n",
              "    <tr>\n",
              "      <th>...</th>\n",
              "      <td>...</td>\n",
              "      <td>...</td>\n",
              "      <td>...</td>\n",
              "      <td>...</td>\n",
              "      <td>...</td>\n",
              "      <td>...</td>\n",
              "      <td>...</td>\n",
              "      <td>...</td>\n",
              "      <td>...</td>\n",
              "      <td>...</td>\n",
              "      <td>...</td>\n",
              "      <td>...</td>\n",
              "      <td>...</td>\n",
              "      <td>...</td>\n",
              "      <td>...</td>\n",
              "      <td>...</td>\n",
              "      <td>...</td>\n",
              "      <td>...</td>\n",
              "    </tr>\n",
              "    <tr>\n",
              "      <th>994</th>\n",
              "      <td>652-49-6720</td>\n",
              "      <td>C</td>\n",
              "      <td>Naypyitaw</td>\n",
              "      <td>Member</td>\n",
              "      <td>Female</td>\n",
              "      <td>Electronic accessories</td>\n",
              "      <td>60.95</td>\n",
              "      <td>1</td>\n",
              "      <td>3.0475</td>\n",
              "      <td>63.9975</td>\n",
              "      <td>2/18/2019</td>\n",
              "      <td>11:40</td>\n",
              "      <td>Ewallet</td>\n",
              "      <td>60.95</td>\n",
              "      <td>4.761905</td>\n",
              "      <td>3.0475</td>\n",
              "      <td>5.9</td>\n",
              "      <td>0</td>\n",
              "    </tr>\n",
              "    <tr>\n",
              "      <th>995</th>\n",
              "      <td>233-67-5758</td>\n",
              "      <td>C</td>\n",
              "      <td>Naypyitaw</td>\n",
              "      <td>Normal</td>\n",
              "      <td>Male</td>\n",
              "      <td>Health and beauty</td>\n",
              "      <td>40.35</td>\n",
              "      <td>1</td>\n",
              "      <td>2.0175</td>\n",
              "      <td>42.3675</td>\n",
              "      <td>1/29/2019</td>\n",
              "      <td>13:46</td>\n",
              "      <td>Ewallet</td>\n",
              "      <td>40.35</td>\n",
              "      <td>4.761905</td>\n",
              "      <td>2.0175</td>\n",
              "      <td>6.2</td>\n",
              "      <td>0</td>\n",
              "    </tr>\n",
              "    <tr>\n",
              "      <th>996</th>\n",
              "      <td>303-96-2227</td>\n",
              "      <td>B</td>\n",
              "      <td>Mandalay</td>\n",
              "      <td>Normal</td>\n",
              "      <td>Female</td>\n",
              "      <td>Home and lifestyle</td>\n",
              "      <td>97.38</td>\n",
              "      <td>10</td>\n",
              "      <td>48.6900</td>\n",
              "      <td>1022.4900</td>\n",
              "      <td>3/2/2019</td>\n",
              "      <td>17:16</td>\n",
              "      <td>Ewallet</td>\n",
              "      <td>973.80</td>\n",
              "      <td>4.761905</td>\n",
              "      <td>48.6900</td>\n",
              "      <td>4.4</td>\n",
              "      <td>4</td>\n",
              "    </tr>\n",
              "    <tr>\n",
              "      <th>997</th>\n",
              "      <td>727-02-1313</td>\n",
              "      <td>A</td>\n",
              "      <td>Yangon</td>\n",
              "      <td>Member</td>\n",
              "      <td>Male</td>\n",
              "      <td>Food and beverages</td>\n",
              "      <td>31.84</td>\n",
              "      <td>1</td>\n",
              "      <td>1.5920</td>\n",
              "      <td>33.4320</td>\n",
              "      <td>2/9/2019</td>\n",
              "      <td>13:22</td>\n",
              "      <td>Cash</td>\n",
              "      <td>31.84</td>\n",
              "      <td>4.761905</td>\n",
              "      <td>1.5920</td>\n",
              "      <td>7.7</td>\n",
              "      <td>0</td>\n",
              "    </tr>\n",
              "    <tr>\n",
              "      <th>998</th>\n",
              "      <td>347-56-2442</td>\n",
              "      <td>A</td>\n",
              "      <td>Yangon</td>\n",
              "      <td>Normal</td>\n",
              "      <td>Male</td>\n",
              "      <td>Home and lifestyle</td>\n",
              "      <td>65.82</td>\n",
              "      <td>1</td>\n",
              "      <td>3.2910</td>\n",
              "      <td>69.1110</td>\n",
              "      <td>2/22/2019</td>\n",
              "      <td>15:33</td>\n",
              "      <td>Cash</td>\n",
              "      <td>65.82</td>\n",
              "      <td>4.761905</td>\n",
              "      <td>3.2910</td>\n",
              "      <td>4.1</td>\n",
              "      <td>0</td>\n",
              "    </tr>\n",
              "  </tbody>\n",
              "</table>\n",
              "<p>999 rows × 18 columns</p>\n",
              "</div>"
            ],
            "text/plain": [
              "      Invoice ID Branch       City  ... gross income Rating kluster\n",
              "0    750-67-8428      A     Yangon  ...      26.1415    9.1       2\n",
              "1    226-31-3081      C  Naypyitaw  ...       3.8200    9.6       3\n",
              "2    631-41-3108      A     Yangon  ...      16.2155    7.4       1\n",
              "3    123-19-1176      A     Yangon  ...      23.2880    8.4       2\n",
              "4    373-73-7910      A     Yangon  ...      30.2085    5.3       2\n",
              "..           ...    ...        ...  ...          ...    ...     ...\n",
              "994  652-49-6720      C  Naypyitaw  ...       3.0475    5.9       0\n",
              "995  233-67-5758      C  Naypyitaw  ...       2.0175    6.2       0\n",
              "996  303-96-2227      B   Mandalay  ...      48.6900    4.4       4\n",
              "997  727-02-1313      A     Yangon  ...       1.5920    7.7       0\n",
              "998  347-56-2442      A     Yangon  ...       3.2910    4.1       0\n",
              "\n",
              "[999 rows x 18 columns]"
            ]
          },
          "metadata": {
            "tags": []
          },
          "execution_count": 63
        }
      ]
    },
    {
      "cell_type": "markdown",
      "metadata": {
        "id": "A_qk_Ci4KOfT"
      },
      "source": [
        "- **Analisis** : Semua data ditampilkan dengan jumlah kluster yang sesuai dengan item-item yang ada."
      ]
    },
    {
      "cell_type": "markdown",
      "metadata": {
        "id": "W9et-4uEPRWA"
      },
      "source": [
        "**Tahap ke sepuluh** : Hasil kluster dengan pengelompokan menggunakan diagram"
      ]
    },
    {
      "cell_type": "code",
      "metadata": {
        "colab": {
          "base_uri": "https://localhost:8080/",
          "height": 318
        },
        "id": "1j7foFu3kHBt",
        "outputId": "060245a2-e121-4cb6-d8dc-14cc706eac21"
      },
      "source": [
        "output = plt.scatter(x_scaled[:,0], \n",
        "x_scaled[:,1], s = 200, c = supermarket.kluster, marker = \".\", alpha = 1,)\n",
        "centers = kmeans.cluster_centers_\n",
        "plt.scatter(centers[:,0], centers[:,1], c='red', s=100, alpha=1 , marker=\"s\");\n",
        "plt.title(\"Hasil Clustering K-Means\")\n",
        "plt.xlabel(\"Clustering X\")\n",
        "plt.ylabel(\"Clustering Y\")\n",
        "plt.colorbar (output)\n",
        "plt.legend()\n",
        "plt.show()"
      ],
      "execution_count": null,
      "outputs": [
        {
          "output_type": "stream",
          "text": [
            "No handles with labels found to put in legend.\n"
          ],
          "name": "stderr"
        },
        {
          "output_type": "display_data",
          "data": {
            "image/png": "[encoded data removed]",
            "text/plain": [
              "<Figure size 432x288 with 2 Axes>"
            ]
          },
          "metadata": {
            "tags": []
          }
        }
      ]
    },
    {
      "cell_type": "markdown",
      "metadata": {
        "id": "hKnqYMVbSJZ5"
      },
      "source": [
        "- **Analisis** : Dilihat dari warna level diagram dengan range 0-4. Pengelompokan data dibagi menjadi 5 Clustering. Struktur clustering menggunakan metode partitional clustering yaitu data dikelompokkan ke dalam sejumlah cluster tanpa adanya struktur hirarki antara satu dengan yang lainnya."
      ]
    },
    {
      "cell_type": "markdown",
      "metadata": {
        "id": "STTkSsN1Kj58"
      },
      "source": [
        "> **ANALISIS PEMODELAN MENENTUKAN HIPOTESIS**\r\n",
        "\r\n"
      ]
    },
    {
      "cell_type": "markdown",
      "metadata": {
        "id": "BxKZ2wcrgKRH"
      },
      "source": [
        "**Dengan menggunakan Metode Pearson**"
      ]
    },
    {
      "cell_type": "code",
      "metadata": {
        "id": "gjGT1kSRzcdF"
      },
      "source": [
        "def mean(x):\r\n",
        "        return  sum(x)/len(x)"
      ],
      "execution_count": null,
      "outputs": []
    },
    {
      "cell_type": "code",
      "metadata": {
        "id": "1CImeQJZzfn6"
      },
      "source": [
        "def de_mean(data):\r\n",
        "# convert x by subtracting its mean ( so the result has mean 0)\r\n",
        "        x_bar = mean(data)\r\n",
        "        return [x_i - x_bar for x_i in data]"
      ],
      "execution_count": null,
      "outputs": []
    },
    {
      "cell_type": "code",
      "metadata": {
        "id": "qRe3U9OPzj1w"
      },
      "source": [
        "def sum_of_square(v):\r\n",
        "        return np.dot(v,v)"
      ],
      "execution_count": null,
      "outputs": []
    },
    {
      "cell_type": "code",
      "metadata": {
        "id": "Vt5smko4zpWi"
      },
      "source": [
        "def covariance(x,y):\r\n",
        "        n = len(x)\r\n",
        "        return np.dot(de_mean(x), de_mean(y)) / (n-1)"
      ],
      "execution_count": null,
      "outputs": []
    },
    {
      "cell_type": "code",
      "metadata": {
        "id": "RvFm8QLVztUj"
      },
      "source": [
        "def variance(data):\r\n",
        "        n = len(data)\r\n",
        "        deviations = de_mean(data)\r\n",
        "        return sum_of_square(deviations) / (n-1)"
      ],
      "execution_count": null,
      "outputs": []
    },
    {
      "cell_type": "code",
      "metadata": {
        "id": "7iu8z3Rez1gx"
      },
      "source": [
        "def correlation(x,y):\r\n",
        "        stdev_x = np.std(x)\r\n",
        "        stdev_y = np.std(y)\r\n",
        "        if stdev_x > 0 and stdev_y > 0:\r\n",
        "            return covariance(x,y) / stdev_x / stdev_y\r\n",
        "        else:\r\n",
        "            return 0"
      ],
      "execution_count": null,
      "outputs": []
    },
    {
      "cell_type": "code",
      "metadata": {
        "id": "qwC4nrkgz3QQ"
      },
      "source": [
        "up = supermarket['Unit price']\r\n",
        "qu = supermarket['Quantity']\r\n",
        "tot = supermarket['Total']"
      ],
      "execution_count": null,
      "outputs": []
    },
    {
      "cell_type": "code",
      "metadata": {
        "colab": {
          "base_uri": "https://localhost:8080/"
        },
        "id": "N1TdXxiC0Xnw",
        "outputId": "8b36d3c5-44fa-43e0-f01a-860fcb642c11"
      },
      "source": [
        "print('Korelasi antar kolom : ')\r\n",
        "print('Korelasi antara Unit price dan Quantity adalah ', correlation(up, qu))\r\n",
        "print('Korelasi antara Unit price dan Total adalah ', correlation(up, tot))\r\n",
        "print('Korelasi antara Total dan Quantity adalah ', correlation(qu, tot))\r\n",
        "\r\n",
        "print(' ')\r\n",
        "print('Kovarian antar kolom : ')\r\n",
        "print('Kovarian antara Unit price dan Quantity adalah ', covariance (up, qu))\r\n",
        "print('Kovarian antara Unit price dan Total adalah ', covariance (up, tot))\r\n",
        "print('Kovarian antara Total dan Quantity adalah ', covariance(qu, tot))\r\n",
        "\r\n"
      ],
      "execution_count": null,
      "outputs": [
        {
          "output_type": "stream",
          "text": [
            "Korelasi antar kolom : \n",
            "Korelasi antara Unit price dan Quantity adalah  0.010788352695192462\n",
            "Korelasi antara Unit price dan Total adalah  0.6345966852743429\n",
            "Korelasi antara Total dan Quantity adalah  0.706216402345651\n",
            " \n",
            "Kovarian antar kolom : \n",
            "Kovarian antara Unit price dan Quantity adalah  0.8347784784784777\n",
            "Kovarian antara Unit price dan Total adalah  4130.035141976607\n",
            "Kovarian antara Total dan Quantity adalah  507.1409779879879\n"
          ],
          "name": "stdout"
        }
      ]
    },
    {
      "cell_type": "code",
      "metadata": {
        "colab": {
          "base_uri": "https://localhost:8080/",
          "height": 353
        },
        "id": "nRx2teqH6FgC",
        "outputId": "ff44ea49-1f89-4b3d-f656-88e4dd17590b"
      },
      "source": [
        "plt.scatter(supermarket['Unit price'], supermarket['Quantity'])\r\n",
        "print('Korelasi antar kolom : ')\r\n",
        "print('Korelasi antara Unit price dan Quantity adalah ', correlation(up, qu))\r\n",
        "\r\n",
        "print(' ')\r\n",
        "print('Kovarian antar kolom : ')\r\n",
        "print('Kovarian antara Unit price dan Quantity adalah ', covariance (up, qu))"
      ],
      "execution_count": null,
      "outputs": [
        {
          "output_type": "stream",
          "text": [
            "Korelasi antar kolom : \n",
            "Korelasi antara Unit price dan Quantity adalah  0.010788352695192462\n",
            " \n",
            "Kovarian antar kolom : \n",
            "Kovarian antara Unit price dan Quantity adalah  0.8347784784784777\n"
          ],
          "name": "stdout"
        },
        {
          "output_type": "display_data",
          "data": {
            "image/png": "[encoded data removed]",
            "text/plain": [
              "<Figure size 432x288 with 1 Axes>"
            ]
          },
          "metadata": {
            "tags": []
          }
        }
      ]
    },
    {
      "cell_type": "markdown",
      "metadata": {
        "id": "RgqFqJ8zgbDX"
      },
      "source": [
        "**Analisis** : Dari permodelan di atas, didapatkan prediksi korelasi antara Unit price dan Quantity adalah 0,01, dan prediksi kovarian adalah 0,8."
      ]
    },
    {
      "cell_type": "code",
      "metadata": {
        "colab": {
          "base_uri": "https://localhost:8080/",
          "height": 353
        },
        "id": "Ada01GJs6gOs",
        "outputId": "99cb7b6e-6102-47e4-bb1d-717707a871c6"
      },
      "source": [
        "plt.scatter(supermarket['Unit price'], supermarket['Total'])\r\n",
        "print('Korelasi antar kolom : ')\r\n",
        "print('Korelasi antara Unit price dan Total adalah ', correlation(up, tot))\r\n",
        "\r\n",
        "print(' ')\r\n",
        "print('Kovarian antar kolom : ')\r\n",
        "print('Kovarian antara Unit price dan Total adalah ', covariance (up, tot))"
      ],
      "execution_count": null,
      "outputs": [
        {
          "output_type": "stream",
          "text": [
            "Korelasi antar kolom : \n",
            "Korelasi antara Unit price dan Total adalah  0.6345966852743429\n",
            " \n",
            "Kovarian antar kolom : \n",
            "Kovarian antara Unit price dan Total adalah  4130.035141976607\n"
          ],
          "name": "stdout"
        },
        {
          "output_type": "display_data",
          "data": {
            "image/png": "[encoded data removed]",
            "text/plain": [
              "<Figure size 432x288 with 1 Axes>"
            ]
          },
          "metadata": {
            "tags": []
          }
        }
      ]
    },
    {
      "cell_type": "markdown",
      "metadata": {
        "id": "go97g2yMg2Ic"
      },
      "source": [
        "**Analisis** : Dari permodelan di atas, didapatkan prediksi korelasi antara Unit price dan Total adalah 0,6, dan prediksi kovarian adalah 4130,03."
      ]
    },
    {
      "cell_type": "code",
      "metadata": {
        "colab": {
          "base_uri": "https://localhost:8080/",
          "height": 353
        },
        "id": "LCGvJevZ6lDc",
        "outputId": "ab57ad45-a6b4-4b3d-ef86-d3b4e13067fc"
      },
      "source": [
        "plt.scatter(supermarket['Quantity'], supermarket['Total'])\r\n",
        "\r\n",
        "print('Korelasi antar kolom : ')\r\n",
        "print('Korelasi antara Total dan Quantity adalah ', correlation(qu, tot))\r\n",
        "\r\n",
        "print(' ')\r\n",
        "print('Kovarian antar kolom : ')\r\n",
        "print('Kovarian antara Total dan Quantity adalah ', covariance(qu, tot))"
      ],
      "execution_count": null,
      "outputs": [
        {
          "output_type": "stream",
          "text": [
            "Korelasi antar kolom : \n",
            "Korelasi antara Total dan Quantity adalah  0.706216402345651\n",
            " \n",
            "Kovarian antar kolom : \n",
            "Kovarian antara Total dan Quantity adalah  507.1409779879879\n"
          ],
          "name": "stdout"
        },
        {
          "output_type": "display_data",
          "data": {
            "image/png": "[encoded data removed]",
            "text/plain": [
              "<Figure size 432x288 with 1 Axes>"
            ]
          },
          "metadata": {
            "tags": []
          }
        }
      ]
    },
    {
      "cell_type": "markdown",
      "metadata": {
        "id": "ktNj_g04g9zx"
      },
      "source": [
        "**Analisis** : Dari permodelan di atas, didapatkan prediksi korelasi antara Total dan Quantity adalah 0,7, dan prediksi kovarian adalah 507,14."
      ]
    },
    {
      "cell_type": "code",
      "metadata": {
        "colab": {
          "base_uri": "https://localhost:8080/",
          "height": 618
        },
        "id": "XXV9sNrd6zIM",
        "outputId": "da717113-04b0-43c6-e860-04c18815cf89"
      },
      "source": [
        "corr = supermarket.corr()\r\n",
        "\r\n",
        "plt.figure(figsize=(15,8))\r\n",
        "\r\n",
        "sns.heatmap(corr, annot=True, vmin = -1, cmap='coolwarm')\r\n",
        "\r\n",
        "plt.show()"
      ],
      "execution_count": null,
      "outputs": [
        {
          "output_type": "display_data",
          "data": {
            "image/png": "[encoded data removed]",
            "text/plain": [
              "<Figure size 1080x576 with 2 Axes>"
            ]
          },
          "metadata": {
            "tags": []
          }
        }
      ]
    },
    {
      "cell_type": "markdown",
      "metadata": {
        "id": "oFKcG6jdhwvC"
      },
      "source": [
        "**Analisis** : Pada Heatmap korelasi disini didapatkan korelasi antara Unit price, Total, dan Rating dengan simpulan bahwa :\r\n",
        "\r\n",
        "- Unit price dan Quantity senilai 0,011 (menggambarkan warna korelasi berada di tengah-tengah)\r\n",
        "- Unit price dan Total senilai 0,63 (menggambarkan warna korelasi lebih baik dibandingkan korelasi antara Unit price dan Quantity)\r\n",
        "- Quantity dan Total senilai 0,71 (menggambarkan warna korelasi yang lebih baik)"
      ]
    },
    {
      "cell_type": "markdown",
      "metadata": {
        "id": "WaErmZcnz0Sd"
      },
      "source": [
        "# **TAHAP-TAHAP EVALUASI DATA**"
      ]
    },
    {
      "cell_type": "markdown",
      "metadata": {
        "id": "nKsrJmzAUtrV"
      },
      "source": [
        "**Tahap pertama** : Import library yang digunakan untuk evaluasi data."
      ]
    },
    {
      "cell_type": "code",
      "metadata": {
        "id": "x65pxWliIrZi"
      },
      "source": [
        "from sklearn.datasets import make_classification\r\n",
        "from matplotlib import pyplot as plt\r\n",
        "from sklearn.linear_model import LogisticRegression\r\n",
        "from sklearn.model_selection import train_test_split\r\n",
        "from sklearn.metrics import confusion_matrix\r\n",
        "import seaborn as sns\r\n",
        "import pandas as pd\r\n",
        "\r\n",
        "sns.set()"
      ],
      "execution_count": null,
      "outputs": []
    },
    {
      "cell_type": "markdown",
      "metadata": {
        "id": "_NFNIsT6VUiG"
      },
      "source": [
        "**Tahap kedua** : Inisialisasi klasifikasi dari grafik x dan y"
      ]
    },
    {
      "cell_type": "code",
      "metadata": {
        "id": "CDjf0MPNIySy"
      },
      "source": [
        "x, y = make_classification(\r\n",
        "    n_samples=100,\r\n",
        "    n_features=1,\r\n",
        "    n_classes=2,\r\n",
        "    n_clusters_per_class=1,\r\n",
        "    flip_y=0.03,\r\n",
        "    n_informative=1,\r\n",
        "    n_redundant=0,\r\n",
        "    n_repeated=0\r\n",
        ")"
      ],
      "execution_count": null,
      "outputs": []
    },
    {
      "cell_type": "markdown",
      "metadata": {
        "id": "dlg_383PX_kN"
      },
      "source": [
        "**Tahap ketiga** : Menampilkan plot hubungan antara fungsi dan kelas yang ada dengan klasifikasi yang sudah dibentuk pada grafik x dan y."
      ]
    },
    {
      "cell_type": "code",
      "metadata": {
        "colab": {
          "base_uri": "https://localhost:8080/",
          "height": 285
        },
        "id": "Jma_qagSI0m4",
        "outputId": "ca070f35-0abe-4bbc-9f45-9d1b60c360a1"
      },
      "source": [
        "plt.scatter(x, y, c=y, cmap='rainbow')"
      ],
      "execution_count": null,
      "outputs": [
        {
          "output_type": "execute_result",
          "data": {
            "text/plain": [
              "<matplotlib.collections.PathCollection at 0x7f67dd3ea908>"
            ]
          },
          "metadata": {
            "tags": []
          },
          "execution_count": 80
        },
        {
          "output_type": "display_data",
          "data": {
            "image/png": "[encoded data removed]",
            "text/plain": [
              "<Figure size 432x288 with 1 Axes>"
            ]
          },
          "metadata": {
            "tags": []
          }
        }
      ]
    },
    {
      "cell_type": "markdown",
      "metadata": {
        "id": "zWfGQVvvYmAY"
      },
      "source": [
        "- **Analisis** : Scatter plot digunakan untuk pemetaan dari grafik x dan y dengan dibagi 2 warna bagian. Pemetaan ini digunakan untuk melihat persebaran data yang ada."
      ]
    },
    {
      "cell_type": "markdown",
      "metadata": {
        "id": "24BXrWJZb0JR"
      },
      "source": [
        "**Tahap keempat** : Inisialisasi untuk evaluasi subset"
      ]
    },
    {
      "cell_type": "code",
      "metadata": {
        "id": "5tA6VSe8JAiC"
      },
      "source": [
        "x_train, x_test, y_train, y_test = train_test_split(x, y, random_state=1)"
      ],
      "execution_count": null,
      "outputs": []
    },
    {
      "cell_type": "markdown",
      "metadata": {
        "id": "qu9FjM5ehaLU"
      },
      "source": [
        "**Tahap kelima** : Membuat model mempelajari hubungan antara digit (x_train) dan label (y_train)"
      ]
    },
    {
      "cell_type": "code",
      "metadata": {
        "colab": {
          "base_uri": "https://localhost:8080/"
        },
        "id": "ihBH9X4wJGJv",
        "outputId": "1ae356a0-d2ff-4f8e-bc26-c697f3286280"
      },
      "source": [
        "lr = LogisticRegression()\r\n",
        "lr.fit(x_train, y_train)"
      ],
      "execution_count": null,
      "outputs": [
        {
          "output_type": "execute_result",
          "data": {
            "text/plain": [
              "LogisticRegression(C=1.0, class_weight=None, dual=False, fit_intercept=True,\n",
              "                   intercept_scaling=1, l1_ratio=None, max_iter=100,\n",
              "                   multi_class='auto', n_jobs=None, penalty='l2',\n",
              "                   random_state=None, solver='lbfgs', tol=0.0001, verbose=0,\n",
              "                   warm_start=False)"
            ]
          },
          "metadata": {
            "tags": []
          },
          "execution_count": 82
        }
      ]
    },
    {
      "cell_type": "markdown",
      "metadata": {
        "id": "s0VI-0BPhjNW"
      },
      "source": [
        "**Tahap keenam** : Menampilkan evaluasi dengan melihat koefisien kemiringan dan perpotongan y dari garis yang paling cocok"
      ]
    },
    {
      "cell_type": "code",
      "metadata": {
        "colab": {
          "base_uri": "https://localhost:8080/"
        },
        "id": "IUigT9SfJJgs",
        "outputId": "eb6ca95d-ac1d-4c7b-d5f7-7b4c14c98727"
      },
      "source": [
        "print(lr.coef_)\r\n",
        "print(lr.intercept_)"
      ],
      "execution_count": null,
      "outputs": [
        {
          "output_type": "stream",
          "text": [
            "[[2.25464169]]\n",
            "[-0.00150097]\n"
          ],
          "name": "stdout"
        }
      ]
    },
    {
      "cell_type": "markdown",
      "metadata": {
        "id": "Xmdp9UO0lCTp"
      },
      "source": [
        "- **Analisis** : Evaluasi dengan menggunakan model Regresi dilihat dari koefisien kemiringan bernilai 2.25464169 dan perpotongan garis y adalah -0.00150097"
      ]
    },
    {
      "cell_type": "markdown",
      "metadata": {
        "id": "HsD1XflolHWN"
      },
      "source": [
        "> **EVALUASI HIPOTESIS DARI PEMODELAN** "
      ]
    },
    {
      "cell_type": "markdown",
      "metadata": {
        "id": "CvcnIdy5lTnG"
      },
      "source": [
        "Hipotesis dari pemodelan yang sudah dilakukan mendapatkan nilai korelasi yang baik adalah 0,7. \r\n",
        "\r\n",
        "- Jika P-Value sama dengan 0 atau lebih dari 0 maka hipotesis diterima dan korelasi kuat\r\n",
        "- Jika P-Value kurang dari 0 maka hipotesis ditolak."
      ]
    },
    {
      "cell_type": "code",
      "metadata": {
        "id": "_aB-Fcpdm3AZ"
      },
      "source": [
        "class HypothesisTest(object):\r\n",
        "    \r\n",
        "    def __init__(self, data):\r\n",
        "        self.data = data\r\n",
        "        self.MakeModel()\r\n",
        "        self.actual = self.TestStatistic(data)\r\n",
        "        \r\n",
        "    def PValue(self, iters = 1000):\r\n",
        "        self.test_stats = [self.TestStatistic(self.RunModel()) for _ in range(iters)]\r\n",
        "        count = sum(1 for x in self.test_stats if x >= self.actual)\r\n",
        "        return count / iters\r\n",
        "    \r\n",
        "    def TestStatistic(self, data):\r\n",
        "        raise UnimplementedMethodException()\r\n",
        "        \r\n",
        "    def MakeModel(self):\r\n",
        "        pass\r\n",
        "    \r\n",
        "    def RunModel(self):\r\n",
        "        raise UnimplementedMethodException()"
      ],
      "execution_count": null,
      "outputs": []
    },
    {
      "cell_type": "code",
      "metadata": {
        "id": "GRG__PRBm9Zk"
      },
      "source": [
        "class CorrPermute(HypothesisTest):\r\n",
        "    \r\n",
        "    def TestStatistic(self, data):\r\n",
        "        xs, ys = data\r\n",
        "        test_stat = abs(correlation(xs, ys))\r\n",
        "        return test_stat\r\n",
        "    \r\n",
        "    def RunModel(self):\r\n",
        "        xs, ys = self.data\r\n",
        "        xs = np.random.permutation(xs)\r\n",
        "        return xs, ys\r\n",
        "    \r\n",
        "def correlation(x, y):\r\n",
        "    std_x = np.std(x)\r\n",
        "    std_y = np.std(y)\r\n",
        "    if std_x and std_y > 0:\r\n",
        "        return covariance(x, y) / std_x / std_y\r\n",
        "    else:\r\n",
        "        return 0\r\n",
        "    \r\n",
        "def de_mean(x):\r\n",
        "    x_bar = np.mean(x)\r\n",
        "    return [x_i - x_bar for x_i in x]\r\n",
        "\r\n",
        "def covariance(x, y):\r\n",
        "    n = len(x)\r\n",
        "    return np.dot(de_mean(x), de_mean(y)) / (n - 1)"
      ],
      "execution_count": null,
      "outputs": []
    },
    {
      "cell_type": "code",
      "metadata": {
        "colab": {
          "base_uri": "https://localhost:8080/"
        },
        "id": "lOBn6tjjnD9F",
        "outputId": "51b018db-6e8c-4788-9209-fa44534e934c"
      },
      "source": [
        "cp = CorrPermute((qu, tot))\r\n",
        "pvalue = cp.PValue()\r\n",
        "\r\n",
        "print('Hipotesis akhir p-value: ', pvalue)"
      ],
      "execution_count": null,
      "outputs": [
        {
          "output_type": "stream",
          "text": [
            "Hipotesis akhir p-value:  0.0\n"
          ],
          "name": "stdout"
        }
      ]
    },
    {
      "cell_type": "markdown",
      "metadata": {
        "id": "AMcvmsFInwgG"
      },
      "source": [
        "**Analisis** :\r\n",
        "\r\n",
        "Nilai P-Value pada hipotesis akhir di atas adalah 0.\r\n",
        "Hipotesis akhir adalah salah dan korelasi kuat yaitu 0,7 antara Quantity dan Total yang tidak terjadi secara kebetulan. \r\n",
        "\r\n",
        "- Disimpulkan bahwa korelasi yang terjadi adalah signifikan secara statistik."
      ]
    },
    {
      "cell_type": "markdown",
      "metadata": {
        "id": "-tFnNy4fq5Zm"
      },
      "source": [
        "> **MEMPREDIKSI ANTARA QUANTITY DAN TOTAL MENGGUNAKAN LINEAR LEAST SQUARE**"
      ]
    },
    {
      "cell_type": "code",
      "metadata": {
        "id": "TrXDLiI9rJMA"
      },
      "source": [
        "def LeastSquares(xs, ys):\r\n",
        "    meanx, varx = np.mean(xs), np.var(xs)\r\n",
        "    meany = np.mean(ys)\r\n",
        "    \r\n",
        "    slope = covariance(xs, ys) / varx\r\n",
        "    inter = meany - slope * meanx\r\n",
        "    \r\n",
        "    return inter, slope\r\n",
        "\r\n",
        "def FitLine(xs, inter, slope):\r\n",
        "    fit_xs = np.sort(xs)\r\n",
        "    fit_ys = inter + slope * fit_xs\r\n",
        "    \r\n",
        "    return fit_xs, fit_ys"
      ],
      "execution_count": null,
      "outputs": []
    },
    {
      "cell_type": "code",
      "metadata": {
        "colab": {
          "base_uri": "https://localhost:8080/"
        },
        "id": "6qZ_kjprrlT5",
        "outputId": "bf1e625b-48aa-4aa8-c5df-5dabd327e3f2"
      },
      "source": [
        "inter, slope = LeastSquares(qu, tot)\r\n",
        "fit_xs, fit_ys = FitLine(qu, inter, slope)\r\n",
        "\r\n",
        "print('intercept is: {} and slope is: {}'.format(inter, slope))"
      ],
      "execution_count": null,
      "outputs": [
        {
          "output_type": "stream",
          "text": [
            "intercept is: -4.320615423782328 and slope is: 59.398795721194624\n"
          ],
          "name": "stdout"
        }
      ]
    },
    {
      "cell_type": "markdown",
      "metadata": {
        "id": "19NXBYSRsCqg"
      },
      "source": [
        "**Analisis** : Pada hasil linear least square untuk intersepsi adalah -4,32 dan slope adalah 59,4"
      ]
    },
    {
      "cell_type": "markdown",
      "metadata": {
        "id": "Sr4bzp3rsgWO"
      },
      "source": [
        "> **RESIDUAL**"
      ]
    },
    {
      "cell_type": "code",
      "metadata": {
        "id": "MEtOTPA0snTq"
      },
      "source": [
        "def Residuals(xs, ys, inter, slope):\r\n",
        "    xs = np.asarray(xs)\r\n",
        "    ys = np.asarray(ys)\r\n",
        "    res = ys - (inter + slope * xs)\r\n",
        "    return res"
      ],
      "execution_count": null,
      "outputs": []
    },
    {
      "cell_type": "code",
      "metadata": {
        "id": "O_FgDxpwstal"
      },
      "source": [
        "res = Residuals(qu, tot, inter, slope)\r\n",
        "\r\n",
        "supermarket['residuals'] = res"
      ],
      "execution_count": null,
      "outputs": []
    },
    {
      "cell_type": "code",
      "metadata": {
        "colab": {
          "base_uri": "https://localhost:8080/"
        },
        "id": "joKq23wutJP3",
        "outputId": "fb244c2b-3ea3-4595-ec27-f61462e038c7"
      },
      "source": [
        "print('Prediksi RMSE adalah :  ', np.std(res))"
      ],
      "execution_count": null,
      "outputs": [
        {
          "output_type": "stream",
          "text": [
            "Prediksi RMSE adalah :   174.1718180218913\n"
          ],
          "name": "stdout"
        }
      ]
    },
    {
      "cell_type": "markdown",
      "metadata": {
        "id": "InoNs2mntbG_"
      },
      "source": [
        "**Analisis** : Prediksi RSME adalah 174,17"
      ]
    },
    {
      "cell_type": "markdown",
      "metadata": {
        "id": "qOoM5MZXti4D"
      },
      "source": [
        "> **KOEFISIEN DETERMINASI**"
      ]
    },
    {
      "cell_type": "code",
      "metadata": {
        "colab": {
          "base_uri": "https://localhost:8080/"
        },
        "id": "dwceUNDnt1Hg",
        "outputId": "07a475ea-cd44-4e7b-db45-d8e778c2ae9b"
      },
      "source": [
        "r_squared = 1 - (np.var(res) / np.var(tot))\r\n",
        "\r\n",
        "print('Koefisien determinasi didapatkan adalah: ', r_squared)"
      ],
      "execution_count": null,
      "outputs": [
        {
          "output_type": "stream",
          "text": [
            "Koefisien determinasi didapatkan adalah:  0.4977441237281527\n"
          ],
          "name": "stdout"
        }
      ]
    },
    {
      "cell_type": "markdown",
      "metadata": {
        "id": "LT7niv8it_4b"
      },
      "source": [
        "**Analisis** : koefisien determinasi yang didapatkan adalah 0,498."
      ]
    },
    {
      "cell_type": "markdown",
      "metadata": {
        "id": "yM-rlCkHuLkn"
      },
      "source": [
        "> **VISUALISASI PLOT DARI EVALUASI YANG SUDAH DILAKUKAN**"
      ]
    },
    {
      "cell_type": "code",
      "metadata": {
        "colab": {
          "base_uri": "https://localhost:8080/",
          "height": 519
        },
        "id": "er2TZEpsuW_O",
        "outputId": "b10c739f-7290-45c5-b3b5-c11cb6edbf79"
      },
      "source": [
        "plt.figure(figsize = (15, 8))\r\n",
        "\r\n",
        "plt.xlabel('Quantity')\r\n",
        "plt.ylabel('Total')\r\n",
        "\r\n",
        "plt.plot(fit_xs, fit_ys, color = 'black')\r\n",
        "plt.scatter(qu, tot, color = 'blue')"
      ],
      "execution_count": null,
      "outputs": [
        {
          "output_type": "execute_result",
          "data": {
            "text/plain": [
              "<matplotlib.collections.PathCollection at 0x7f67dd2d5160>"
            ]
          },
          "metadata": {
            "tags": []
          },
          "execution_count": 101
        },
        {
          "output_type": "display_data",
          "data": {
            "image/png": "[encoded data removed]",
            "text/plain": [
              "<Figure size 1080x576 with 1 Axes>"
            ]
          },
          "metadata": {
            "tags": []
          }
        }
      ]
    },
    {
      "cell_type": "markdown",
      "metadata": {
        "id": "GJ1Z4UDAujx8"
      },
      "source": [
        "**Analisis** : hasil visualisasi yang didapatkan antara Quantity dan Total pada pemodelan yang sudah dilakukan sama dengan data visualisasi ini."
      ]
    }
  ]
}