{
  "nbformat": 4,
  "nbformat_minor": 0,
  "metadata": {
    "colab": {
      "name": "MuhammadIskaPU_Proyek.ipynb",
      "provenance": [],
      "include_colab_link": true
    },
    "kernelspec": {
      "name": "python3",
      "display_name": "Python 3"
    }
  },
  "cells": [
    {
      "cell_type": "markdown",
      "metadata": {
        "id": "view-in-github",
        "colab_type": "text"
      },
      "source": [
        "<a href=\"https://colab.research.google.com/github/nanangyudi/2020pds_d/blob/main/MuhammadIskaPU_Proyek.ipynb\" target=\"_parent\"><img src=\"https://colab.research.google.com/assets/colab-badge.svg\" alt=\"Open In Colab\"/></a>"
      ]
    },
    {
      "cell_type": "markdown",
      "metadata": {
        "id": "9NzWyGhfHc_R"
      },
      "source": [
        "**1. Deskripsi tujuan bisnis**\n",
        "- untuk mengetahui jumlah bmi pada saat pemeriksaan\n",
        "- sebagai perbandingan jumlah bmi melalui usia\n",
        "\n",
        "**2. Analisa pendekatan**\n",
        "- pada analisa data ini kami menggunakan Exploratory Data Analysis (EDA)\n",
        "- memungkinkan analyst memahami isi data yang digunakan, mulai dari distribusi, frekuensi, korelasi dan lainnya\n",
        "\n",
        "**3. Pengumpulan data**\n",
        "- saya menggunakan data dari website kaggle.com dengan besar data yang saya download adalah 55 KB\n",
        "\n",
        "**4. Pemahaman terhadap data yang dikumpulkan** \n",
        "- data yang didapatkan menunjukkan informasi seputar kesehatan seperti jumlah bmi\n",
        "- data yang terkumpul berjumlah 1338 data\n",
        "- data yang lain adalah umur, jenis kelamin, jumlah anak, jumlah biaya, perokok \n",
        ", dan alamat\n",
        "\n",
        "**5. Persiapan data**\n",
        "- Library yang digunakan dalam explorasi data adalah pandas, Matpolib, dan Seaborn\n",
        "\n",
        "**6. Permodelan data**\n",
        "- explorasi data yang saya lakukan menghasilkan sebuah informasi berupa scatter plot, diagram histogram, dan boxplot\n",
        "\n",
        "**7. Evaluasi model**\n",
        "- pada data yang telah di analisis menunjukkan diagram yang normal, data tersebut adalah jumlah seluruh BMI yang dihasilkan dengan total data keseluruhan\n",
        "- hasil dari scratter plot yang telah saya analisis menunjukkan korelasi data yang  mengumpul telah inputkan di bmi 20 sampai 40 rentang umur 20 sampai 60 tahun\n",
        "- data pada boxplot menunjukkan mean diantara rentang nilai 0-2, data minimal dari jumlah anak adalah tidak punya dan data maksimal berada berjumlah 5 anak"
      ]
    },
    {
      "cell_type": "markdown",
      "metadata": {
        "id": "9IhEVM1t52UE"
      },
      "source": [
        "**Tahap pertama** : Memasukan data dari url, data disimpan di repository Github,dan menampilkannya"
      ]
    },
    {
      "cell_type": "code",
      "metadata": {
        "id": "4otIaNYm5EkW"
      },
      "source": [
        "import pandas as pd\r\n",
        "import matplotlib.pyplot as plt\r\n",
        "import seaborn as sns\r\n",
        "url = 'https://raw.githubusercontent.com/iskautama/iskautama/main/insurance.csv'\r\n",
        "bmi= pd.read_csv(url, error_bad_lines=False)"
      ],
      "execution_count": null,
      "outputs": []
    },
    {
      "cell_type": "markdown",
      "metadata": {
        "id": "zSfKyDvn51Ok"
      },
      "source": [
        "**Tahap Kedua** : Menampilkan data yang telah di import dari url dengan \r\n",
        "\r\n",
        "---\r\n",
        "\r\n",
        "---\r\n",
        "\r\n",
        "\r\n",
        "\r\n",
        "menampilkan 10 data bagian atas."
      ]
    },
    {
      "cell_type": "code",
      "metadata": {
        "colab": {
          "base_uri": "https://localhost:8080/",
          "height": 359
        },
        "id": "fo5V7H-dHjFr",
        "outputId": "aed3d5d9-7ee1-4f12-a6d8-dd0d3a198374"
      },
      "source": [
        "bmi.head(10)"
      ],
      "execution_count": null,
      "outputs": [
        {
          "output_type": "execute_result",
          "data": {
            "text/html": [
              "<div>\n",
              "<style scoped>\n",
              "    .dataframe tbody tr th:only-of-type {\n",
              "        vertical-align: middle;\n",
              "    }\n",
              "\n",
              "    .dataframe tbody tr th {\n",
              "        vertical-align: top;\n",
              "    }\n",
              "\n",
              "    .dataframe thead th {\n",
              "        text-align: right;\n",
              "    }\n",
              "</style>\n",
              "<table border=\"1\" class=\"dataframe\">\n",
              "  <thead>\n",
              "    <tr style=\"text-align: right;\">\n",
              "      <th></th>\n",
              "      <th>age</th>\n",
              "      <th>sex</th>\n",
              "      <th>bmi</th>\n",
              "      <th>children</th>\n",
              "      <th>smoker</th>\n",
              "      <th>region</th>\n",
              "      <th>charges</th>\n",
              "    </tr>\n",
              "  </thead>\n",
              "  <tbody>\n",
              "    <tr>\n",
              "      <th>0</th>\n",
              "      <td>19</td>\n",
              "      <td>female</td>\n",
              "      <td>27.900</td>\n",
              "      <td>0</td>\n",
              "      <td>yes</td>\n",
              "      <td>southwest</td>\n",
              "      <td>16884.92400</td>\n",
              "    </tr>\n",
              "    <tr>\n",
              "      <th>1</th>\n",
              "      <td>18</td>\n",
              "      <td>male</td>\n",
              "      <td>33.770</td>\n",
              "      <td>1</td>\n",
              "      <td>no</td>\n",
              "      <td>southeast</td>\n",
              "      <td>1725.55230</td>\n",
              "    </tr>\n",
              "    <tr>\n",
              "      <th>2</th>\n",
              "      <td>28</td>\n",
              "      <td>male</td>\n",
              "      <td>33.000</td>\n",
              "      <td>3</td>\n",
              "      <td>no</td>\n",
              "      <td>southeast</td>\n",
              "      <td>4449.46200</td>\n",
              "    </tr>\n",
              "    <tr>\n",
              "      <th>3</th>\n",
              "      <td>33</td>\n",
              "      <td>male</td>\n",
              "      <td>22.705</td>\n",
              "      <td>0</td>\n",
              "      <td>no</td>\n",
              "      <td>northwest</td>\n",
              "      <td>21984.47061</td>\n",
              "    </tr>\n",
              "    <tr>\n",
              "      <th>4</th>\n",
              "      <td>32</td>\n",
              "      <td>male</td>\n",
              "      <td>28.880</td>\n",
              "      <td>0</td>\n",
              "      <td>no</td>\n",
              "      <td>northwest</td>\n",
              "      <td>3866.85520</td>\n",
              "    </tr>\n",
              "    <tr>\n",
              "      <th>5</th>\n",
              "      <td>31</td>\n",
              "      <td>female</td>\n",
              "      <td>25.740</td>\n",
              "      <td>0</td>\n",
              "      <td>no</td>\n",
              "      <td>southeast</td>\n",
              "      <td>3756.62160</td>\n",
              "    </tr>\n",
              "    <tr>\n",
              "      <th>6</th>\n",
              "      <td>46</td>\n",
              "      <td>female</td>\n",
              "      <td>33.440</td>\n",
              "      <td>1</td>\n",
              "      <td>no</td>\n",
              "      <td>southeast</td>\n",
              "      <td>8240.58960</td>\n",
              "    </tr>\n",
              "    <tr>\n",
              "      <th>7</th>\n",
              "      <td>37</td>\n",
              "      <td>female</td>\n",
              "      <td>27.740</td>\n",
              "      <td>3</td>\n",
              "      <td>no</td>\n",
              "      <td>northwest</td>\n",
              "      <td>7281.50560</td>\n",
              "    </tr>\n",
              "    <tr>\n",
              "      <th>8</th>\n",
              "      <td>37</td>\n",
              "      <td>male</td>\n",
              "      <td>29.830</td>\n",
              "      <td>2</td>\n",
              "      <td>no</td>\n",
              "      <td>northeast</td>\n",
              "      <td>6406.41070</td>\n",
              "    </tr>\n",
              "    <tr>\n",
              "      <th>9</th>\n",
              "      <td>60</td>\n",
              "      <td>female</td>\n",
              "      <td>25.840</td>\n",
              "      <td>0</td>\n",
              "      <td>no</td>\n",
              "      <td>northwest</td>\n",
              "      <td>28923.13692</td>\n",
              "    </tr>\n",
              "  </tbody>\n",
              "</table>\n",
              "</div>"
            ],
            "text/plain": [
              "   age     sex     bmi  children smoker     region      charges\n",
              "0   19  female  27.900         0    yes  southwest  16884.92400\n",
              "1   18    male  33.770         1     no  southeast   1725.55230\n",
              "2   28    male  33.000         3     no  southeast   4449.46200\n",
              "3   33    male  22.705         0     no  northwest  21984.47061\n",
              "4   32    male  28.880         0     no  northwest   3866.85520\n",
              "5   31  female  25.740         0     no  southeast   3756.62160\n",
              "6   46  female  33.440         1     no  southeast   8240.58960\n",
              "7   37  female  27.740         3     no  northwest   7281.50560\n",
              "8   37    male  29.830         2     no  northeast   6406.41070\n",
              "9   60  female  25.840         0     no  northwest  28923.13692"
            ]
          },
          "metadata": {
            "tags": []
          },
          "execution_count": 4
        }
      ]
    },
    {
      "cell_type": "markdown",
      "metadata": {
        "id": "6M-7CiWq6E3N"
      },
      "source": [
        "**Tahap Ketiga** : Menampilkan data yang telah di import dari url dengan menampilkan 10 data bagian bawah."
      ]
    },
    {
      "cell_type": "code",
      "metadata": {
        "colab": {
          "base_uri": "https://localhost:8080/",
          "height": 359
        },
        "id": "wis0gqXI6HFb",
        "outputId": "cfa41cf7-263e-4522-8cd0-554c844bf84c"
      },
      "source": [
        "bmi.tail(10)"
      ],
      "execution_count": null,
      "outputs": [
        {
          "output_type": "execute_result",
          "data": {
            "text/html": [
              "<div>\n",
              "<style scoped>\n",
              "    .dataframe tbody tr th:only-of-type {\n",
              "        vertical-align: middle;\n",
              "    }\n",
              "\n",
              "    .dataframe tbody tr th {\n",
              "        vertical-align: top;\n",
              "    }\n",
              "\n",
              "    .dataframe thead th {\n",
              "        text-align: right;\n",
              "    }\n",
              "</style>\n",
              "<table border=\"1\" class=\"dataframe\">\n",
              "  <thead>\n",
              "    <tr style=\"text-align: right;\">\n",
              "      <th></th>\n",
              "      <th>age</th>\n",
              "      <th>sex</th>\n",
              "      <th>bmi</th>\n",
              "      <th>children</th>\n",
              "      <th>smoker</th>\n",
              "      <th>region</th>\n",
              "      <th>charges</th>\n",
              "    </tr>\n",
              "  </thead>\n",
              "  <tbody>\n",
              "    <tr>\n",
              "      <th>1328</th>\n",
              "      <td>23</td>\n",
              "      <td>female</td>\n",
              "      <td>24.225</td>\n",
              "      <td>2</td>\n",
              "      <td>no</td>\n",
              "      <td>northeast</td>\n",
              "      <td>22395.74424</td>\n",
              "    </tr>\n",
              "    <tr>\n",
              "      <th>1329</th>\n",
              "      <td>52</td>\n",
              "      <td>male</td>\n",
              "      <td>38.600</td>\n",
              "      <td>2</td>\n",
              "      <td>no</td>\n",
              "      <td>southwest</td>\n",
              "      <td>10325.20600</td>\n",
              "    </tr>\n",
              "    <tr>\n",
              "      <th>1330</th>\n",
              "      <td>57</td>\n",
              "      <td>female</td>\n",
              "      <td>25.740</td>\n",
              "      <td>2</td>\n",
              "      <td>no</td>\n",
              "      <td>southeast</td>\n",
              "      <td>12629.16560</td>\n",
              "    </tr>\n",
              "    <tr>\n",
              "      <th>1331</th>\n",
              "      <td>23</td>\n",
              "      <td>female</td>\n",
              "      <td>33.400</td>\n",
              "      <td>0</td>\n",
              "      <td>no</td>\n",
              "      <td>southwest</td>\n",
              "      <td>10795.93733</td>\n",
              "    </tr>\n",
              "    <tr>\n",
              "      <th>1332</th>\n",
              "      <td>52</td>\n",
              "      <td>female</td>\n",
              "      <td>44.700</td>\n",
              "      <td>3</td>\n",
              "      <td>no</td>\n",
              "      <td>southwest</td>\n",
              "      <td>11411.68500</td>\n",
              "    </tr>\n",
              "    <tr>\n",
              "      <th>1333</th>\n",
              "      <td>50</td>\n",
              "      <td>male</td>\n",
              "      <td>30.970</td>\n",
              "      <td>3</td>\n",
              "      <td>no</td>\n",
              "      <td>northwest</td>\n",
              "      <td>10600.54830</td>\n",
              "    </tr>\n",
              "    <tr>\n",
              "      <th>1334</th>\n",
              "      <td>18</td>\n",
              "      <td>female</td>\n",
              "      <td>31.920</td>\n",
              "      <td>0</td>\n",
              "      <td>no</td>\n",
              "      <td>northeast</td>\n",
              "      <td>2205.98080</td>\n",
              "    </tr>\n",
              "    <tr>\n",
              "      <th>1335</th>\n",
              "      <td>18</td>\n",
              "      <td>female</td>\n",
              "      <td>36.850</td>\n",
              "      <td>0</td>\n",
              "      <td>no</td>\n",
              "      <td>southeast</td>\n",
              "      <td>1629.83350</td>\n",
              "    </tr>\n",
              "    <tr>\n",
              "      <th>1336</th>\n",
              "      <td>21</td>\n",
              "      <td>female</td>\n",
              "      <td>25.800</td>\n",
              "      <td>0</td>\n",
              "      <td>no</td>\n",
              "      <td>southwest</td>\n",
              "      <td>2007.94500</td>\n",
              "    </tr>\n",
              "    <tr>\n",
              "      <th>1337</th>\n",
              "      <td>61</td>\n",
              "      <td>female</td>\n",
              "      <td>29.070</td>\n",
              "      <td>0</td>\n",
              "      <td>yes</td>\n",
              "      <td>northwest</td>\n",
              "      <td>29141.36030</td>\n",
              "    </tr>\n",
              "  </tbody>\n",
              "</table>\n",
              "</div>"
            ],
            "text/plain": [
              "      age     sex     bmi  children smoker     region      charges\n",
              "1328   23  female  24.225         2     no  northeast  22395.74424\n",
              "1329   52    male  38.600         2     no  southwest  10325.20600\n",
              "1330   57  female  25.740         2     no  southeast  12629.16560\n",
              "1331   23  female  33.400         0     no  southwest  10795.93733\n",
              "1332   52  female  44.700         3     no  southwest  11411.68500\n",
              "1333   50    male  30.970         3     no  northwest  10600.54830\n",
              "1334   18  female  31.920         0     no  northeast   2205.98080\n",
              "1335   18  female  36.850         0     no  southeast   1629.83350\n",
              "1336   21  female  25.800         0     no  southwest   2007.94500\n",
              "1337   61  female  29.070         0    yes  northwest  29141.36030"
            ]
          },
          "metadata": {
            "tags": []
          },
          "execution_count": 2
        }
      ]
    },
    {
      "cell_type": "markdown",
      "metadata": {
        "id": "kqaQHXGC5508"
      },
      "source": [
        "mengecek info tab"
      ]
    },
    {
      "cell_type": "code",
      "metadata": {
        "colab": {
          "base_uri": "https://localhost:8080/"
        },
        "id": "Bo_uKKWg6oCa",
        "outputId": "faa282d4-92df-4528-c703-5a8cd17894f7"
      },
      "source": [
        "bmi.shape"
      ],
      "execution_count": null,
      "outputs": [
        {
          "output_type": "execute_result",
          "data": {
            "text/plain": [
              "(1338, 7)"
            ]
          },
          "metadata": {
            "tags": []
          },
          "execution_count": 3
        }
      ]
    },
    {
      "cell_type": "code",
      "metadata": {
        "colab": {
          "base_uri": "https://localhost:8080/"
        },
        "id": "wZyeiQ5m3Z5k",
        "outputId": "64c3bf1d-c58e-46cb-c2de-0c71553c01ad"
      },
      "source": [
        "bmi.info()"
      ],
      "execution_count": null,
      "outputs": [
        {
          "output_type": "stream",
          "text": [
            "<class 'pandas.core.frame.DataFrame'>\n",
            "RangeIndex: 1338 entries, 0 to 1337\n",
            "Data columns (total 7 columns):\n",
            " #   Column    Non-Null Count  Dtype  \n",
            "---  ------    --------------  -----  \n",
            " 0   age       1338 non-null   int64  \n",
            " 1   sex       1338 non-null   object \n",
            " 2   bmi       1338 non-null   float64\n",
            " 3   children  1338 non-null   int64  \n",
            " 4   smoker    1338 non-null   object \n",
            " 5   region    1338 non-null   object \n",
            " 6   charges   1338 non-null   float64\n",
            "dtypes: float64(2), int64(2), object(3)\n",
            "memory usage: 73.3+ KB\n"
          ],
          "name": "stdout"
        }
      ]
    },
    {
      "cell_type": "code",
      "metadata": {
        "colab": {
          "base_uri": "https://localhost:8080/",
          "height": 295
        },
        "id": "FWdwYamuKUjC",
        "outputId": "f221cde2-073a-4f13-9c57-6ae20323ef6a"
      },
      "source": [
        "\n",
        "\n",
        "#Plots in matplotlib reside within a figure\n",
        "\n",
        "fig=plt.figure()\n",
        "\n",
        "\n",
        "ax = fig.add_subplot(1,1,1)\n",
        "\n",
        "#Variable\n",
        "ax.hist(bmi['bmi'],bins = 10)\n",
        "#Labels and Tit\n",
        "plt.title('kategori bmi ')\n",
        "plt.xlabel('bmi')\n",
        "plt.ylabel('jumlah bmi')\n",
        "plt.show()"
      ],
      "execution_count": null,
      "outputs": [
        {
          "output_type": "display_data",
          "data": {
            "image/png": "[encoded data removed]",
            "text/plain": [
              "<Figure size 432x288 with 1 Axes>"
            ]
          },
          "metadata": {
            "tags": [],
            "needs_background": "light"
          }
        }
      ]
    },
    {
      "cell_type": "markdown",
      "metadata": {
        "id": "73aoPs-gUFXs"
      },
      "source": [
        "- **Analisis Histogram :**  pada data yang telah di analisis menunjukkan angka bmi atau masa lemak lebih di angka 25-30 KG lebih banyak"
      ]
    },
    {
      "cell_type": "markdown",
      "metadata": {
        "id": "fqegt3RD7zNp"
      },
      "source": [
        "- Analisis Jumlah masa lemak tubuh dan umur"
      ]
    },
    {
      "cell_type": "code",
      "metadata": {
        "colab": {
          "base_uri": "https://localhost:8080/",
          "height": 295
        },
        "id": "O3Hx7aCFNHfs",
        "outputId": "f29041f8-86fc-4d0b-cc19-87a99e7b777c"
      },
      "source": [
        "fig=plt.figure()\n",
        "\n",
        "ax = fig.add_subplot(1,1,1)\n",
        "\n",
        "ax.scatter(bmi['bmi'],bmi['age'])\n",
        "\n",
        "plt.title('lebih masa lemak dan umur')\n",
        "plt.xlabel('bmi')\n",
        "plt.ylabel('age')\n",
        "plt.show()"
      ],
      "execution_count": null,
      "outputs": [
        {
          "output_type": "display_data",
          "data": {
            "image/png": "[encoded data removed]",
            "text/plain": [
              "<Figure size 432x288 with 1 Axes>"
            ]
          },
          "metadata": {
            "tags": [],
            "needs_background": "light"
          }
        }
      ]
    },
    {
      "cell_type": "markdown",
      "metadata": {
        "id": "UsbDLxOiUyxB"
      },
      "source": [
        "hasil dari scratter plot yang telah saya analisis menunjukkan korelasi data yang  mengumpul telah inputkan di bmi 20 sampai 40 rentang umur 20 sampai 60 tahun\n"
      ]
    },
    {
      "cell_type": "code",
      "metadata": {
        "colab": {
          "base_uri": "https://localhost:8080/",
          "height": 333
        },
        "id": "30sXxZBcVqDM",
        "outputId": "b4bb2525-c7ec-41da-aeb4-5367896130a4"
      },
      "source": [
        "sns.boxplot(bmi['children'])\n",
        "sns.despine()"
      ],
      "execution_count": null,
      "outputs": [
        {
          "output_type": "stream",
          "text": [
            "/usr/local/lib/python3.6/dist-packages/seaborn/_decorators.py:43: FutureWarning: Pass the following variable as a keyword arg: x. From version 0.12, the only valid positional argument will be `data`, and passing other arguments without an explicit keyword will result in an error or misinterpretation.\n",
            "  FutureWarning\n"
          ],
          "name": "stderr"
        },
        {
          "output_type": "display_data",
          "data": {
            "image/png": "[encoded data removed]",
            "text/plain": [
              "<Figure size 432x288 with 1 Axes>"
            ]
          },
          "metadata": {
            "tags": [],
            "needs_background": "light"
          }
        }
      ]
    },
    {
      "cell_type": "markdown",
      "metadata": {
        "id": "01nIn7V-Wali"
      },
      "source": [
        "data pada boxplot menunjukkan mean diantara rentang nilai 0-2, data minimal dari jumlah anak adalah tidak punya dan data maksimal berada berjumlah 5 anak"
      ]
    },
    {
      "cell_type": "code",
      "metadata": {
        "colab": {
          "base_uri": "https://localhost:8080/",
          "height": 296
        },
        "id": "4P9PCSZCWttq",
        "outputId": "1c8337cd-d41e-4592-952a-b208db1a8613"
      },
      "source": [
        "sns.stripplot(x=\"region\", y=\"charges\", data=bmi) "
      ],
      "execution_count": null,
      "outputs": [
        {
          "output_type": "execute_result",
          "data": {
            "text/plain": [
              "<matplotlib.axes._subplots.AxesSubplot at 0x7fd7a910a2b0>"
            ]
          },
          "metadata": {
            "tags": []
          },
          "execution_count": 10
        },
        {
          "output_type": "display_data",
          "data": {
            "image/png": "[encoded data removed]",
            "text/plain": [
              "<Figure size 432x288 with 1 Axes>"
            ]
          },
          "metadata": {
            "tags": [],
            "needs_background": "light"
          }
        }
      ]
    },
    {
      "cell_type": "markdown",
      "metadata": {
        "id": "2Qi45r_NAXME"
      },
      "source": [
        "Pada wilayah southwest rerata biaya yang dikeluarkan adalah 0-13000,Pada wilayah southeast rerata biaya yang dikeluarkan adalah 0-12000,pada wilayah northwest rerata biaya yang dikeluarkan adalah 0-14000 dan pada wilayah southwest rerata biaya yang dikeluarkan adalah 0-15000 "
      ]
    },
    {
      "cell_type": "markdown",
      "metadata": {
        "id": "34morzsgCe_8"
      },
      "source": [
        "Analisis menggunakan Boxplot wilayah dan total biaya dengan gender"
      ]
    },
    {
      "cell_type": "code",
      "metadata": {
        "colab": {
          "base_uri": "https://localhost:8080/",
          "height": 296
        },
        "id": "EdfDXqgGW4J2",
        "outputId": "0026231b-f739-4648-db26-d63d9d9e6a2e"
      },
      "source": [
        "sns.boxplot(x=\"region\", y=\"charges\", data=bmi, hue = 'sex') "
      ],
      "execution_count": null,
      "outputs": [
        {
          "output_type": "execute_result",
          "data": {
            "text/plain": [
              "<matplotlib.axes._subplots.AxesSubplot at 0x7fd7a901c780>"
            ]
          },
          "metadata": {
            "tags": []
          },
          "execution_count": 14
        },
        {
          "output_type": "display_data",
          "data": {
            "image/png": "[encoded data removed]",
            "text/plain": [
              "<Figure size 432x288 with 1 Axes>"
            ]
          },
          "metadata": {
            "tags": [],
            "needs_background": "light"
          }
        }
      ]
    },
    {
      "cell_type": "markdown",
      "metadata": {
        "id": "4KZnOTjxCuCL"
      },
      "source": [
        "Analisis frekuensi wilayah dengan gender."
      ]
    },
    {
      "cell_type": "code",
      "metadata": {
        "colab": {
          "base_uri": "https://localhost:8080/"
        },
        "id": "dbfXZobPXKId",
        "outputId": "7b48383f-c455-4171-f534-cdd68aa812b1"
      },
      "source": [
        "print (bmi)\n",
        "test= bmi.groupby(['region','sex'])\n",
        "test.size()"
      ],
      "execution_count": null,
      "outputs": [
        {
          "output_type": "stream",
          "text": [
            "      age     sex     bmi  children smoker     region      charges\n",
            "0      19  female  27.900         0    yes  southwest  16884.92400\n",
            "1      18    male  33.770         1     no  southeast   1725.55230\n",
            "2      28    male  33.000         3     no  southeast   4449.46200\n",
            "3      33    male  22.705         0     no  northwest  21984.47061\n",
            "4      32    male  28.880         0     no  northwest   3866.85520\n",
            "...   ...     ...     ...       ...    ...        ...          ...\n",
            "1333   50    male  30.970         3     no  northwest  10600.54830\n",
            "1334   18  female  31.920         0     no  northeast   2205.98080\n",
            "1335   18  female  36.850         0     no  southeast   1629.83350\n",
            "1336   21  female  25.800         0     no  southwest   2007.94500\n",
            "1337   61  female  29.070         0    yes  northwest  29141.36030\n",
            "\n",
            "[1338 rows x 7 columns]\n"
          ],
          "name": "stdout"
        },
        {
          "output_type": "execute_result",
          "data": {
            "text/plain": [
              "region     sex   \n",
              "northeast  female    161\n",
              "           male      163\n",
              "northwest  female    164\n",
              "           male      161\n",
              "southeast  female    175\n",
              "           male      189\n",
              "southwest  female    162\n",
              "           male      163\n",
              "dtype: int64"
            ]
          },
          "metadata": {
            "tags": []
          },
          "execution_count": 16
        }
      ]
    },
    {
      "cell_type": "markdown",
      "metadata": {
        "id": "iFekKrdDXc4K"
      },
      "source": [
        "Analisis Frekuensi :\r\n",
        "Terdapat data table yang akan dianalisis\r\n",
        "wilayah dan Gender dikelompokan dan terdapat jumlah frekuensi yang telah dilakukan\r\n",
        "Berdasarkan wilawah yang banyak di datangi female dan male terbanyak adalah di wilayah southeast, yang mana female 175 dan male 189"
      ]
    },
    {
      "cell_type": "code",
      "metadata": {
        "colab": {
          "base_uri": "https://localhost:8080/",
          "height": 418
        },
        "id": "uTlwREzNGRMt",
        "outputId": "a8e23015-07f2-4710-f514-5d88440df2d5"
      },
      "source": [
        "sp_pivot = bmi.pivot_table(index='region', columns='age', values='children')\r\n",
        "\r\n",
        "print(sp_pivot)\r\n",
        "\r\n",
        "sns.heatmap(sp_pivot, annot=True, cmap='coolwarm')\r\n",
        "\r\n",
        "plt.show()"
      ],
      "execution_count": null,
      "outputs": [
        {
          "output_type": "stream",
          "text": [
            "age              18        19        20  ...        62        63    64\n",
            "region                                   ...                          \n",
            "northeast  0.406250       NaN  0.833333  ...  0.500000  0.000000  0.50\n",
            "northwest       NaN  0.470588  0.714286  ...  1.500000  0.666667  0.80\n",
            "southeast  0.486486  0.000000  0.750000  ...  0.166667  0.666667  0.75\n",
            "southwest       NaN  0.419355  1.125000  ...  0.000000  0.833333  1.00\n",
            "\n",
            "[4 rows x 47 columns]\n"
          ],
          "name": "stdout"
        },
        {
          "output_type": "display_data",
          "data": {
            "image/png": "[encoded data removed]",
            "text/plain": [
              "<Figure size 432x288 with 2 Axes>"
            ]
          },
          "metadata": {
            "tags": [],
            "needs_background": "light"
          }
        }
      ]
    },
    {
      "cell_type": "markdown",
      "metadata": {
        "id": "WyREdhJhGQjI"
      },
      "source": [
        "# PEMODELAN DATA\r\n"
      ]
    },
    {
      "cell_type": "markdown",
      "metadata": {
        "id": "e7wg_doKHM2p"
      },
      "source": [
        "Tahap pertama : Import library yang digunakan"
      ]
    },
    {
      "cell_type": "code",
      "metadata": {
        "id": "5Fle3Pl6HSHp"
      },
      "source": [
        "from sklearn.cluster import KMeans\r\n",
        "import numpy as np\r\n",
        "from sklearn.preprocessing import MinMaxScaler\r\n",
        "import math"
      ],
      "execution_count": null,
      "outputs": []
    },
    {
      "cell_type": "markdown",
      "metadata": {
        "id": "MriLip1zHd25"
      },
      "source": [
        "Tahap kedua : Pengelompokan data menggunakan acuan wilayah."
      ]
    },
    {
      "cell_type": "code",
      "metadata": {
        "colab": {
          "base_uri": "https://localhost:8080/",
          "height": 255
        },
        "id": "A0NzE8NkHbzD",
        "outputId": "90a1bdeb-576e-49ca-e31e-90af54c58fec"
      },
      "source": [
        "test= bmi.groupby(['region'])\r\n",
        "test.describe()"
      ],
      "execution_count": null,
      "outputs": [
        {
          "output_type": "execute_result",
          "data": {
            "text/html": [
              "<div>\n",
              "<style scoped>\n",
              "    .dataframe tbody tr th:only-of-type {\n",
              "        vertical-align: middle;\n",
              "    }\n",
              "\n",
              "    .dataframe tbody tr th {\n",
              "        vertical-align: top;\n",
              "    }\n",
              "\n",
              "    .dataframe thead tr th {\n",
              "        text-align: left;\n",
              "    }\n",
              "\n",
              "    .dataframe thead tr:last-of-type th {\n",
              "        text-align: right;\n",
              "    }\n",
              "</style>\n",
              "<table border=\"1\" class=\"dataframe\">\n",
              "  <thead>\n",
              "    <tr>\n",
              "      <th></th>\n",
              "      <th colspan=\"8\" halign=\"left\">age</th>\n",
              "      <th colspan=\"8\" halign=\"left\">bmi</th>\n",
              "      <th colspan=\"8\" halign=\"left\">children</th>\n",
              "      <th colspan=\"8\" halign=\"left\">charges</th>\n",
              "    </tr>\n",
              "    <tr>\n",
              "      <th></th>\n",
              "      <th>count</th>\n",
              "      <th>mean</th>\n",
              "      <th>std</th>\n",
              "      <th>min</th>\n",
              "      <th>25%</th>\n",
              "      <th>50%</th>\n",
              "      <th>75%</th>\n",
              "      <th>max</th>\n",
              "      <th>count</th>\n",
              "      <th>mean</th>\n",
              "      <th>std</th>\n",
              "      <th>min</th>\n",
              "      <th>25%</th>\n",
              "      <th>50%</th>\n",
              "      <th>75%</th>\n",
              "      <th>max</th>\n",
              "      <th>count</th>\n",
              "      <th>mean</th>\n",
              "      <th>std</th>\n",
              "      <th>min</th>\n",
              "      <th>25%</th>\n",
              "      <th>50%</th>\n",
              "      <th>75%</th>\n",
              "      <th>max</th>\n",
              "      <th>count</th>\n",
              "      <th>mean</th>\n",
              "      <th>std</th>\n",
              "      <th>min</th>\n",
              "      <th>25%</th>\n",
              "      <th>50%</th>\n",
              "      <th>75%</th>\n",
              "      <th>max</th>\n",
              "    </tr>\n",
              "    <tr>\n",
              "      <th>region</th>\n",
              "      <th></th>\n",
              "      <th></th>\n",
              "      <th></th>\n",
              "      <th></th>\n",
              "      <th></th>\n",
              "      <th></th>\n",
              "      <th></th>\n",
              "      <th></th>\n",
              "      <th></th>\n",
              "      <th></th>\n",
              "      <th></th>\n",
              "      <th></th>\n",
              "      <th></th>\n",
              "      <th></th>\n",
              "      <th></th>\n",
              "      <th></th>\n",
              "      <th></th>\n",
              "      <th></th>\n",
              "      <th></th>\n",
              "      <th></th>\n",
              "      <th></th>\n",
              "      <th></th>\n",
              "      <th></th>\n",
              "      <th></th>\n",
              "      <th></th>\n",
              "      <th></th>\n",
              "      <th></th>\n",
              "      <th></th>\n",
              "      <th></th>\n",
              "      <th></th>\n",
              "      <th></th>\n",
              "      <th></th>\n",
              "    </tr>\n",
              "  </thead>\n",
              "  <tbody>\n",
              "    <tr>\n",
              "      <th>northeast</th>\n",
              "      <td>324.0</td>\n",
              "      <td>39.268519</td>\n",
              "      <td>14.069007</td>\n",
              "      <td>18.0</td>\n",
              "      <td>27.00</td>\n",
              "      <td>39.5</td>\n",
              "      <td>51.0</td>\n",
              "      <td>64.0</td>\n",
              "      <td>324.0</td>\n",
              "      <td>29.173503</td>\n",
              "      <td>5.937513</td>\n",
              "      <td>15.960</td>\n",
              "      <td>24.86625</td>\n",
              "      <td>28.88</td>\n",
              "      <td>32.89375</td>\n",
              "      <td>48.07</td>\n",
              "      <td>324.0</td>\n",
              "      <td>1.046296</td>\n",
              "      <td>1.198949</td>\n",
              "      <td>0.0</td>\n",
              "      <td>0.0</td>\n",
              "      <td>1.0</td>\n",
              "      <td>2.0</td>\n",
              "      <td>5.0</td>\n",
              "      <td>324.0</td>\n",
              "      <td>13406.384516</td>\n",
              "      <td>11255.803066</td>\n",
              "      <td>1694.7964</td>\n",
              "      <td>5194.322288</td>\n",
              "      <td>10057.652025</td>\n",
              "      <td>16687.3641</td>\n",
              "      <td>58571.07448</td>\n",
              "    </tr>\n",
              "    <tr>\n",
              "      <th>northwest</th>\n",
              "      <td>325.0</td>\n",
              "      <td>39.196923</td>\n",
              "      <td>14.051646</td>\n",
              "      <td>19.0</td>\n",
              "      <td>26.00</td>\n",
              "      <td>39.0</td>\n",
              "      <td>51.0</td>\n",
              "      <td>64.0</td>\n",
              "      <td>325.0</td>\n",
              "      <td>29.199785</td>\n",
              "      <td>5.136765</td>\n",
              "      <td>17.385</td>\n",
              "      <td>25.74500</td>\n",
              "      <td>28.88</td>\n",
              "      <td>32.77500</td>\n",
              "      <td>42.94</td>\n",
              "      <td>325.0</td>\n",
              "      <td>1.147692</td>\n",
              "      <td>1.171828</td>\n",
              "      <td>0.0</td>\n",
              "      <td>0.0</td>\n",
              "      <td>1.0</td>\n",
              "      <td>2.0</td>\n",
              "      <td>5.0</td>\n",
              "      <td>325.0</td>\n",
              "      <td>12417.575374</td>\n",
              "      <td>11072.276928</td>\n",
              "      <td>1621.3402</td>\n",
              "      <td>4719.736550</td>\n",
              "      <td>8965.795750</td>\n",
              "      <td>14711.7438</td>\n",
              "      <td>60021.39897</td>\n",
              "    </tr>\n",
              "    <tr>\n",
              "      <th>southeast</th>\n",
              "      <td>364.0</td>\n",
              "      <td>38.939560</td>\n",
              "      <td>14.164585</td>\n",
              "      <td>18.0</td>\n",
              "      <td>26.75</td>\n",
              "      <td>39.0</td>\n",
              "      <td>51.0</td>\n",
              "      <td>64.0</td>\n",
              "      <td>364.0</td>\n",
              "      <td>33.355989</td>\n",
              "      <td>6.477648</td>\n",
              "      <td>19.800</td>\n",
              "      <td>28.57250</td>\n",
              "      <td>33.33</td>\n",
              "      <td>37.81250</td>\n",
              "      <td>53.13</td>\n",
              "      <td>364.0</td>\n",
              "      <td>1.049451</td>\n",
              "      <td>1.177276</td>\n",
              "      <td>0.0</td>\n",
              "      <td>0.0</td>\n",
              "      <td>1.0</td>\n",
              "      <td>2.0</td>\n",
              "      <td>5.0</td>\n",
              "      <td>364.0</td>\n",
              "      <td>14735.411438</td>\n",
              "      <td>13971.098589</td>\n",
              "      <td>1121.8739</td>\n",
              "      <td>4440.886200</td>\n",
              "      <td>9294.131950</td>\n",
              "      <td>19526.2869</td>\n",
              "      <td>63770.42801</td>\n",
              "    </tr>\n",
              "    <tr>\n",
              "      <th>southwest</th>\n",
              "      <td>325.0</td>\n",
              "      <td>39.455385</td>\n",
              "      <td>13.959886</td>\n",
              "      <td>19.0</td>\n",
              "      <td>27.00</td>\n",
              "      <td>39.0</td>\n",
              "      <td>51.0</td>\n",
              "      <td>64.0</td>\n",
              "      <td>325.0</td>\n",
              "      <td>30.596615</td>\n",
              "      <td>5.691836</td>\n",
              "      <td>17.400</td>\n",
              "      <td>26.90000</td>\n",
              "      <td>30.30</td>\n",
              "      <td>34.60000</td>\n",
              "      <td>47.60</td>\n",
              "      <td>325.0</td>\n",
              "      <td>1.141538</td>\n",
              "      <td>1.275952</td>\n",
              "      <td>0.0</td>\n",
              "      <td>0.0</td>\n",
              "      <td>1.0</td>\n",
              "      <td>2.0</td>\n",
              "      <td>5.0</td>\n",
              "      <td>325.0</td>\n",
              "      <td>12346.937377</td>\n",
              "      <td>11557.179101</td>\n",
              "      <td>1241.5650</td>\n",
              "      <td>4751.070000</td>\n",
              "      <td>8798.593000</td>\n",
              "      <td>13462.5200</td>\n",
              "      <td>52590.82939</td>\n",
              "    </tr>\n",
              "  </tbody>\n",
              "</table>\n",
              "</div>"
            ],
            "text/plain": [
              "             age                        ...       charges                         \n",
              "           count       mean        std  ...           50%         75%          max\n",
              "region                                  ...                                       \n",
              "northeast  324.0  39.268519  14.069007  ...  10057.652025  16687.3641  58571.07448\n",
              "northwest  325.0  39.196923  14.051646  ...   8965.795750  14711.7438  60021.39897\n",
              "southeast  364.0  38.939560  14.164585  ...   9294.131950  19526.2869  63770.42801\n",
              "southwest  325.0  39.455385  13.959886  ...   8798.593000  13462.5200  52590.82939\n",
              "\n",
              "[4 rows x 32 columns]"
            ]
          },
          "metadata": {
            "tags": []
          },
          "execution_count": 20
        }
      ]
    },
    {
      "cell_type": "markdown",
      "metadata": {
        "id": "K3jFnL2sIaOI"
      },
      "source": [
        "Analisis Pengelompokan : Digunakan acuan Region dibagi menjadi age, bmi dan children"
      ]
    },
    {
      "cell_type": "markdown",
      "metadata": {
        "id": "NUIHelw9JL_p"
      },
      "source": [
        "Tahap ketiga : Pengelompokan indeks integer untuk pemilihan berdasarkan kolom 0 sampai 3."
      ]
    },
    {
      "cell_type": "code",
      "metadata": {
        "colab": {
          "base_uri": "https://localhost:8080/",
          "height": 204
        },
        "id": "FsxgydRbIyfn",
        "outputId": "56063fc0-dbcc-4845-9f81-9fab16d499b4"
      },
      "source": [
        "bmi_x = bmi.iloc[:, 3:7]\r\n",
        "bmi_x.head()"
      ],
      "execution_count": null,
      "outputs": [
        {
          "output_type": "execute_result",
          "data": {
            "text/html": [
              "<div>\n",
              "<style scoped>\n",
              "    .dataframe tbody tr th:only-of-type {\n",
              "        vertical-align: middle;\n",
              "    }\n",
              "\n",
              "    .dataframe tbody tr th {\n",
              "        vertical-align: top;\n",
              "    }\n",
              "\n",
              "    .dataframe thead th {\n",
              "        text-align: right;\n",
              "    }\n",
              "</style>\n",
              "<table border=\"1\" class=\"dataframe\">\n",
              "  <thead>\n",
              "    <tr style=\"text-align: right;\">\n",
              "      <th></th>\n",
              "      <th>children</th>\n",
              "      <th>smoker</th>\n",
              "      <th>region</th>\n",
              "      <th>charges</th>\n",
              "    </tr>\n",
              "  </thead>\n",
              "  <tbody>\n",
              "    <tr>\n",
              "      <th>0</th>\n",
              "      <td>0</td>\n",
              "      <td>yes</td>\n",
              "      <td>southwest</td>\n",
              "      <td>16884.92400</td>\n",
              "    </tr>\n",
              "    <tr>\n",
              "      <th>1</th>\n",
              "      <td>1</td>\n",
              "      <td>no</td>\n",
              "      <td>southeast</td>\n",
              "      <td>1725.55230</td>\n",
              "    </tr>\n",
              "    <tr>\n",
              "      <th>2</th>\n",
              "      <td>3</td>\n",
              "      <td>no</td>\n",
              "      <td>southeast</td>\n",
              "      <td>4449.46200</td>\n",
              "    </tr>\n",
              "    <tr>\n",
              "      <th>3</th>\n",
              "      <td>0</td>\n",
              "      <td>no</td>\n",
              "      <td>northwest</td>\n",
              "      <td>21984.47061</td>\n",
              "    </tr>\n",
              "    <tr>\n",
              "      <th>4</th>\n",
              "      <td>0</td>\n",
              "      <td>no</td>\n",
              "      <td>northwest</td>\n",
              "      <td>3866.85520</td>\n",
              "    </tr>\n",
              "  </tbody>\n",
              "</table>\n",
              "</div>"
            ],
            "text/plain": [
              "   children smoker     region      charges\n",
              "0         0    yes  southwest  16884.92400\n",
              "1         1     no  southeast   1725.55230\n",
              "2         3     no  southeast   4449.46200\n",
              "3         0     no  northwest  21984.47061\n",
              "4         0     no  northwest   3866.85520"
            ]
          },
          "metadata": {
            "tags": []
          },
          "execution_count": 40
        }
      ]
    },
    {
      "cell_type": "markdown",
      "metadata": {
        "id": "wl3xX0zSKNVa"
      },
      "source": [
        "Tahap Keempat : Pengelompokan menggunakan array"
      ]
    },
    {
      "cell_type": "code",
      "metadata": {
        "colab": {
          "base_uri": "https://localhost:8080/"
        },
        "id": "iZdLW2htKLKZ",
        "outputId": "0eff5734-c5e0-4985-ba25-47d4c622ba79"
      },
      "source": [
        "x_array =  np.array(bmi_x)\r\n",
        "print(x_array)"
      ],
      "execution_count": null,
      "outputs": [
        {
          "output_type": "stream",
          "text": [
            "[[19 'female' 27.9]\n",
            " [18 'male' 33.77]\n",
            " [28 'male' 33.0]\n",
            " ...\n",
            " [18 'female' 36.85]\n",
            " [21 'female' 25.8]\n",
            " [61 'female' 29.07]]\n"
          ],
          "name": "stdout"
        }
      ]
    },
    {
      "cell_type": "markdown",
      "metadata": {
        "id": "maD_D0muMlPu"
      },
      "source": [
        "- **Analisis** : Array yang didapatkan dari pengelompokan jumlah data bmi yaitu dari kolom age sex, dan bmi."
      ]
    },
    {
      "cell_type": "markdown",
      "metadata": {
        "id": "tGqQMl7ZOjpO"
      },
      "source": [
        "**ANALISIS PEMODELAN MENENTUKAN HIPOTESIS**"
      ]
    },
    {
      "cell_type": "code",
      "metadata": {
        "id": "LucSnScQOlQs"
      },
      "source": [
        "def mean(x):\r\n",
        "        return  sum(x)/len(x)"
      ],
      "execution_count": null,
      "outputs": []
    },
    {
      "cell_type": "code",
      "metadata": {
        "id": "urZqGPRGOp2a"
      },
      "source": [
        "def de_mean(data):\r\n",
        "# convert x by subtracting its mean ( so the result has mean 0)\r\n",
        "        x_bar = mean(data)\r\n",
        "        return [x_i - x_bar for x_i in data]"
      ],
      "execution_count": null,
      "outputs": []
    },
    {
      "cell_type": "code",
      "metadata": {
        "id": "qYrGXF4DOsVq"
      },
      "source": [
        "def sum_of_square(v):\r\n",
        "        return np.dot(v,v)"
      ],
      "execution_count": null,
      "outputs": []
    },
    {
      "cell_type": "code",
      "metadata": {
        "id": "diiTjPVyOu0m"
      },
      "source": [
        "def covariance(x,y):\r\n",
        "        n = len(x)\r\n",
        "        return np.dot(de_mean(x), de_mean(y)) / (n-1)"
      ],
      "execution_count": null,
      "outputs": []
    },
    {
      "cell_type": "code",
      "metadata": {
        "id": "HOF_-dSQO9iW"
      },
      "source": [
        "def variance(data):\r\n",
        "        n = len(data)\r\n",
        "        deviations = de_mean(data)\r\n",
        "        return sum_of_square(deviations) / (n-1)"
      ],
      "execution_count": null,
      "outputs": []
    },
    {
      "cell_type": "code",
      "metadata": {
        "id": "Fqh2aLvLO_Fe"
      },
      "source": [
        "def correlation(x,y):\r\n",
        "        stdev_x = np.std(x)\r\n",
        "        stdev_y = np.std(y)\r\n",
        "        if stdev_x > 0 and stdev_y > 0:\r\n",
        "            return covariance(x,y) / stdev_x / stdev_y\r\n",
        "        else:\r\n",
        "            return 0"
      ],
      "execution_count": null,
      "outputs": []
    },
    {
      "cell_type": "code",
      "metadata": {
        "id": "b6xkHZJ6PBp8"
      },
      "source": [
        "up = bmi['age']\r\n",
        "qu = bmi['bmi']\r\n",
        "tot = bmi['charges']"
      ],
      "execution_count": null,
      "outputs": []
    },
    {
      "cell_type": "code",
      "metadata": {
        "colab": {
          "base_uri": "https://localhost:8080/"
        },
        "id": "3Sl_bT3rPMXB",
        "outputId": "b0f4a9e2-18ce-4b0e-8890-ddd3d7c0cf73"
      },
      "source": [
        "print('Korelasi antar kolom : ')\r\n",
        "print('Korelasi antara Umur dan bmi adalah ', correlation(up, qu))\r\n",
        "print('Korelasi antara Umur dan charges adalah ', correlation(up, tot))\r\n",
        "print('Korelasi antara charges dan bmi adalah ', correlation(qu, tot))\r\n",
        "\r\n",
        "print(' ')\r\n",
        "print('Kovarian antar kolom : ')\r\n",
        "print('Kovarian antara Umur dan bmi adalah ', covariance (up, qu))\r\n",
        "print('Kovarian antara Umur dan charges adalah ', covariance (up, tot))\r\n",
        "print('Kovarian antara charges dan bmi adalah ', covariance(qu, tot))\r\n",
        "\r\n"
      ],
      "execution_count": null,
      "outputs": [
        {
          "output_type": "stream",
          "text": [
            "Korelasi antar kolom : \n",
            "Korelasi antara Umur dan bmi adalah  0.10935361070451743\n",
            "Korelasi antara Umur dan charges adalah  0.29923183446253276\n",
            "Korelasi antara charges dan bmi adalah  0.19848931660388594\n",
            " \n",
            "Kovarian antar kolom : \n",
            "Kovarian antara Umur dan bmi adalah  9.362336626407423\n",
            "Kovarian antara Umur dan charges adalah  50874.80229785854\n",
            "Kovarian antara charges dan bmi adalah  14647.30442632216\n"
          ],
          "name": "stdout"
        }
      ]
    },
    {
      "cell_type": "code",
      "metadata": {
        "colab": {
          "base_uri": "https://localhost:8080/",
          "height": 350
        },
        "id": "DytZNjaVP3rl",
        "outputId": "c3c5d9e1-23de-4a6c-d877-f350648eaa89"
      },
      "source": [
        "plt.scatter(bmi['age'], bmi['bmi'])\r\n",
        "print('Korelasi antar kolom : ')\r\n",
        "print('Korelasi antara age dan bmi adalah ', correlation(up, qu))\r\n",
        "\r\n",
        "print(' ')\r\n",
        "print('Kovarian antar kolom : ')\r\n",
        "print('Kovarian antara age dan bmi adalah ', covariance (up, qu))"
      ],
      "execution_count": null,
      "outputs": [
        {
          "output_type": "stream",
          "text": [
            "Korelasi antar kolom : \n",
            "Korelasi antara age dan bmi adalah  0.10935361070451743\n",
            " \n",
            "Kovarian antar kolom : \n",
            "Kovarian antara age dan bmi adalah  9.362336626407423\n"
          ],
          "name": "stdout"
        },
        {
          "output_type": "display_data",
          "data": {
            "image/png": "[encoded data removed]",
            "text/plain": [
              "<Figure size 432x288 with 1 Axes>"
            ]
          },
          "metadata": {
            "tags": [],
            "needs_background": "light"
          }
        }
      ]
    },
    {
      "cell_type": "markdown",
      "metadata": {
        "id": "Kirdx89OQEp3"
      },
      "source": [
        "Analisis : Dari permodelan di atas, didapatkan prediksi korelasi antara age dan bmi adalah 0,1, dan prediksi kovarian adalah 9,3."
      ]
    },
    {
      "cell_type": "code",
      "metadata": {
        "colab": {
          "base_uri": "https://localhost:8080/",
          "height": 350
        },
        "id": "UmOdG_jSQSE1",
        "outputId": "dd086fd3-27be-44db-8e51-53ba6b4c1764"
      },
      "source": [
        "plt.scatter(bmi['bmi'], bmi['charges'])\r\n",
        "print('Korelasi antar kolom : ')\r\n",
        "print('Korelasi antara bmi dan charges adalah ', correlation(up, tot))\r\n",
        "\r\n",
        "print(' ')\r\n",
        "print('Kovarian antar kolom : ')\r\n",
        "print('Kovarian antara bmi dan charges adalah ', covariance (up, tot))"
      ],
      "execution_count": null,
      "outputs": [
        {
          "output_type": "stream",
          "text": [
            "Korelasi antar kolom : \n",
            "Korelasi antara bmi dan charges adalah  0.29923183446253276\n",
            " \n",
            "Kovarian antar kolom : \n",
            "Kovarian antara bmi dan charges adalah  50874.80229785854\n"
          ],
          "name": "stdout"
        },
        {
          "output_type": "display_data",
          "data": {
            "image/png": "[encoded data removed]",
            "text/plain": [
              "<Figure size 432x288 with 1 Axes>"
            ]
          },
          "metadata": {
            "tags": [],
            "needs_background": "light"
          }
        }
      ]
    },
    {
      "cell_type": "markdown",
      "metadata": {
        "id": "HY8qp2jdQbhH"
      },
      "source": [
        "Analisis : Dari permodelan di atas, didapatkan prediksi korelasi antara age dan charges adalah 0,2, dan prediksi kovarian adalah 50874,802."
      ]
    },
    {
      "cell_type": "code",
      "metadata": {
        "colab": {
          "base_uri": "https://localhost:8080/",
          "height": 350
        },
        "id": "YNnQYhBEQ2v_",
        "outputId": "e102dbe1-daca-4de8-dac5-df9350e53695"
      },
      "source": [
        "plt.scatter(bmi['bmi'], bmi['charges'])\r\n",
        "\r\n",
        "print('Korelasi antar kolom : ')\r\n",
        "print('Korelasi antara bmi dan charges adalah ', correlation(qu, tot))\r\n",
        "\r\n",
        "print(' ')\r\n",
        "print('Kovarian antar kolom : ')\r\n",
        "print('Kovarian antara bmi dan charges adalah ', covariance(qu, tot))"
      ],
      "execution_count": null,
      "outputs": [
        {
          "output_type": "stream",
          "text": [
            "Korelasi antar kolom : \n",
            "Korelasi antara bmi dan charges adalah  0.19848931660388594\n",
            " \n",
            "Kovarian antar kolom : \n",
            "Kovarian antara bmi dan charges adalah  14647.30442632216\n"
          ],
          "name": "stdout"
        },
        {
          "output_type": "display_data",
          "data": {
            "image/png": "[encoded data removed]",
            "text/plain": [
              "<Figure size 432x288 with 1 Axes>"
            ]
          },
          "metadata": {
            "tags": [],
            "needs_background": "light"
          }
        }
      ]
    },
    {
      "cell_type": "markdown",
      "metadata": {
        "id": "SfO277tJRBAt"
      },
      "source": [
        "Analisis : Dari permodelan di atas, didapatkan prediksi korelasi antara bmi dan charges adalah 0,1, dan prediksi kovarian adalah 14647,30."
      ]
    },
    {
      "cell_type": "code",
      "metadata": {
        "colab": {
          "base_uri": "https://localhost:8080/",
          "height": 487
        },
        "id": "cmbqPv7vRqxs",
        "outputId": "35dac04a-bde7-4b19-e9fb-6c44fd65fd67"
      },
      "source": [
        "corr = bmi.corr()\r\n",
        "\r\n",
        "plt.figure(figsize=(15,8))\r\n",
        "\r\n",
        "sns.heatmap(corr, annot=True, vmin = -1, cmap='coolwarm')\r\n",
        "\r\n",
        "plt.show()"
      ],
      "execution_count": null,
      "outputs": [
        {
          "output_type": "display_data",
          "data": {
            "image/png": "[encoded data removed]",
            "text/plain": [
              "<Figure size 1080x576 with 2 Axes>"
            ]
          },
          "metadata": {
            "tags": [],
            "needs_background": "light"
          }
        }
      ]
    },
    {
      "cell_type": "markdown",
      "metadata": {
        "id": "jpvDihp5SEVn"
      },
      "source": [
        "Analisis : Pada Heatmap korelasi disini didapatkan korelasi dan disimpulkan bahwa warna korelasi memiliki perbedaan cukup sedikit "
      ]
    },
    {
      "cell_type": "markdown",
      "metadata": {
        "id": "mE058vEnTnAh"
      },
      "source": [
        "**TAHAP-TAHAP EVALUASI DATA**"
      ]
    },
    {
      "cell_type": "markdown",
      "metadata": {
        "id": "qMlFbWOUTpJ1"
      },
      "source": [
        "Tahap pertama : Import library yang digunakan untuk evaluasi data."
      ]
    },
    {
      "cell_type": "code",
      "metadata": {
        "id": "TYNLTEnrTr8F"
      },
      "source": [
        "from sklearn.datasets import make_classification\r\n",
        "from matplotlib import pyplot as plt\r\n",
        "from sklearn.linear_model import LogisticRegression\r\n",
        "from sklearn.model_selection import train_test_split\r\n",
        "from sklearn.metrics import confusion_matrix\r\n",
        "import seaborn as sns\r\n",
        "import pandas as pd\r\n",
        "\r\n",
        "sns.set()"
      ],
      "execution_count": null,
      "outputs": []
    },
    {
      "cell_type": "markdown",
      "metadata": {
        "id": "ZJGGLAHMTxZg"
      },
      "source": [
        "Tahap kedua : Inisialisasi klasifikasi dari grafik x dan y"
      ]
    },
    {
      "cell_type": "code",
      "metadata": {
        "id": "9lUXiiosTtxa"
      },
      "source": [
        "x, y = make_classification(\r\n",
        "    n_samples=100,\r\n",
        "    n_features=1,\r\n",
        "    n_classes=2,\r\n",
        "    n_clusters_per_class=1,\r\n",
        "    flip_y=0.03,\r\n",
        "    n_informative=1,\r\n",
        "    n_redundant=0,\r\n",
        "    n_repeated=0\r\n",
        ")"
      ],
      "execution_count": null,
      "outputs": []
    },
    {
      "cell_type": "markdown",
      "metadata": {
        "id": "luLDDTnHT3CR"
      },
      "source": [
        "Tahap ketiga : Menampilkan plot hubungan antara fungsi dan kelas yang ada dengan klasifikasi yang sudah dibentuk pada grafik x dan y."
      ]
    },
    {
      "cell_type": "code",
      "metadata": {
        "colab": {
          "base_uri": "https://localhost:8080/",
          "height": 285
        },
        "id": "mPg5di9bT5MG",
        "outputId": "fdeafa06-cd3f-48ce-aff9-fa74c99e72d7"
      },
      "source": [
        "plt.scatter(x, y, c=y, cmap='rainbow')"
      ],
      "execution_count": null,
      "outputs": [
        {
          "output_type": "execute_result",
          "data": {
            "text/plain": [
              "<matplotlib.collections.PathCollection at 0x7fd79e3b36a0>"
            ]
          },
          "metadata": {
            "tags": []
          },
          "execution_count": 68
        },
        {
          "output_type": "display_data",
          "data": {
            "image/png": "[encoded data removed]",
            "text/plain": [
              "<Figure size 432x288 with 1 Axes>"
            ]
          },
          "metadata": {
            "tags": []
          }
        }
      ]
    },
    {
      "cell_type": "code",
      "metadata": {
        "id": "DBg7L-K_T7wL"
      },
      "source": [
        "Analisis : Scatter plot digunakan untuk pemetaan dari grafik x dan y dengan dibagi 2 warna bagian. Pemetaan ini digunakan untuk melihat persebaran data yang ada."
      ],
      "execution_count": null,
      "outputs": []
    },
    {
      "cell_type": "markdown",
      "metadata": {
        "id": "huHdIvZ_T-7T"
      },
      "source": [
        "Tahap keempat : Inisialisasi untuk evaluasi subset"
      ]
    },
    {
      "cell_type": "code",
      "metadata": {
        "id": "Gnh1Me9iUAyR"
      },
      "source": [
        "x_train, x_test, y_train, y_test = train_test_split(x, y, random_state=1)"
      ],
      "execution_count": null,
      "outputs": []
    },
    {
      "cell_type": "markdown",
      "metadata": {
        "id": "gfSEy1jQUD-M"
      },
      "source": [
        "Tahap kelima : Membuat model mempelajari hubungan antara digit (x_train) dan label (y_train)"
      ]
    },
    {
      "cell_type": "code",
      "metadata": {
        "colab": {
          "base_uri": "https://localhost:8080/"
        },
        "id": "2mVJeWQ3UGYb",
        "outputId": "f08375e6-7780-4589-c22f-9ac124b785f3"
      },
      "source": [
        "lr = LogisticRegression()\r\n",
        "lr.fit(x_train, y_train)"
      ],
      "execution_count": null,
      "outputs": [
        {
          "output_type": "execute_result",
          "data": {
            "text/plain": [
              "LogisticRegression(C=1.0, class_weight=None, dual=False, fit_intercept=True,\n",
              "                   intercept_scaling=1, l1_ratio=None, max_iter=100,\n",
              "                   multi_class='auto', n_jobs=None, penalty='l2',\n",
              "                   random_state=None, solver='lbfgs', tol=0.0001, verbose=0,\n",
              "                   warm_start=False)"
            ]
          },
          "metadata": {
            "tags": []
          },
          "execution_count": 70
        }
      ]
    },
    {
      "cell_type": "markdown",
      "metadata": {
        "id": "zdTWc2oUULSh"
      },
      "source": [
        "Tahap keenam : Menampilkan evaluasi dengan melihat koefisien kemiringan dan perpotongan y dari garis yang paling cocok"
      ]
    },
    {
      "cell_type": "code",
      "metadata": {
        "colab": {
          "base_uri": "https://localhost:8080/"
        },
        "id": "8j7f5BuFUTEn",
        "outputId": "068536ee-930c-41f5-80ba-5fe4866a3e19"
      },
      "source": [
        "print(lr.coef_)\r\n",
        "print(lr.intercept_)"
      ],
      "execution_count": null,
      "outputs": [
        {
          "output_type": "stream",
          "text": [
            "[[2.74035649]]\n",
            "[-0.58076606]\n"
          ],
          "name": "stdout"
        }
      ]
    },
    {
      "cell_type": "markdown",
      "metadata": {
        "id": "RhrY891hUWBE"
      },
      "source": [
        "Analisis : Evaluasi dengan menggunakan model Regresi dilihat dari koefisien kemiringan bernilai 2.74035649 dan perpotongan garis y adalah -0.58076606"
      ]
    },
    {
      "cell_type": "markdown",
      "metadata": {
        "id": "poMAQr2HUioH"
      },
      "source": [
        "**EVALUASI HIPOTESIS DARI PEMODELAN**"
      ]
    },
    {
      "cell_type": "markdown",
      "metadata": {
        "id": "vXol6tsyUljP"
      },
      "source": [
        "Hipotesis dari pemodelan yang sudah dilakukan mendapatkan nilai korelasi yang baik adalah 0,3.\r\n",
        "\r\n",
        "Jika P-Value sama dengan 0 atau lebih dari 0 maka hipotesis diterima dan korelasi kuat\r\n",
        "Jika P-Value kurang dari 0 maka hipotesis ditolak."
      ]
    },
    {
      "cell_type": "code",
      "metadata": {
        "id": "jvQgkbAPUoFd"
      },
      "source": [
        "class HypothesisTest(object):\r\n",
        "    \r\n",
        "    def __init__(self, data):\r\n",
        "        self.data = data\r\n",
        "        self.MakeModel()\r\n",
        "        self.actual = self.TestStatistic(data)\r\n",
        "        \r\n",
        "    def PValue(self, iters = 1000):\r\n",
        "        self.test_stats = [self.TestStatistic(self.RunModel()) for _ in range(iters)]\r\n",
        "        count = sum(1 for x in self.test_stats if x >= self.actual)\r\n",
        "        return count / iters\r\n",
        "    \r\n",
        "    def TestStatistic(self, data):\r\n",
        "        raise UnimplementedMethodException()\r\n",
        "        \r\n",
        "    def MakeModel(self):\r\n",
        "        pass\r\n",
        "    \r\n",
        "    def RunModel(self):\r\n",
        "        raise UnimplementedMethodException()"
      ],
      "execution_count": null,
      "outputs": []
    },
    {
      "cell_type": "code",
      "metadata": {
        "id": "GRG__PRBm9Zk"
      },
      "source": [
        "class CorrPermute(HypothesisTest):\r\n",
        "    \r\n",
        "    def TestStatistic(self, data):\r\n",
        "        xs, ys = data\r\n",
        "        test_stat = abs(correlation(xs, ys))\r\n",
        "        return test_stat\r\n",
        "    \r\n",
        "    def RunModel(self):\r\n",
        "        xs, ys = self.data\r\n",
        "        xs = np.random.permutation(xs)\r\n",
        "        return xs, ys\r\n",
        "    \r\n",
        "def correlation(x, y):\r\n",
        "    std_x = np.std(x)\r\n",
        "    std_y = np.std(y)\r\n",
        "    if std_x and std_y > 0:\r\n",
        "        return covariance(x, y) / std_x / std_y\r\n",
        "    else:\r\n",
        "        return 0\r\n",
        "    \r\n",
        "def de_mean(x):\r\n",
        "    x_bar = np.mean(x)\r\n",
        "    return [x_i - x_bar for x_i in x]\r\n",
        "\r\n",
        "def covariance(x, y):\r\n",
        "    n = len(x)\r\n",
        "    return np.dot(de_mean(x), de_mean(y)) / (n - 1)"
      ],
      "execution_count": null,
      "outputs": []
    },
    {
      "cell_type": "code",
      "metadata": {
        "colab": {
          "base_uri": "https://localhost:8080/"
        },
        "id": "iH8JpW58U9vd",
        "outputId": "1620b079-5096-4e8b-82d5-3f1886c9e173"
      },
      "source": [
        "cp = CorrPermute((qu, tot))\r\n",
        "pvalue = cp.PValue()\r\n",
        "\r\n",
        "print('Hipotesis akhir p-value: ', pvalue)"
      ],
      "execution_count": null,
      "outputs": [
        {
          "output_type": "stream",
          "text": [
            "Hipotesis akhir p-value:  0.0\n"
          ],
          "name": "stdout"
        }
      ]
    },
    {
      "cell_type": "markdown",
      "metadata": {
        "id": "_1e4z9fBVDrw"
      },
      "source": [
        "Analisis :\r\n",
        "\r\n",
        "Nilai P-Value pada hipotesis akhir di atas adalah 0. Hipotesis akhir adalah salah dan korelasi baik yaitu hanya 0,26 antara bmi dan charges yang tidak terjadi secara kebetulan.\r\n",
        "\r\n",
        "Disimpulkan bahwa korelasi yang terjadi adalah signifikan secara statistik."
      ]
    }
  ]
}