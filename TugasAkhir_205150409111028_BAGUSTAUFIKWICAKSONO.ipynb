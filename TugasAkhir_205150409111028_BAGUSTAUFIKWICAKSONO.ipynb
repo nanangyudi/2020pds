{
  "nbformat": 4,
  "nbformat_minor": 0,
  "metadata": {
    "colab": {
      "name": "TugasAkhir_205150409111028_BAGUSTAUFIKWICAKSONO.ipynb",
      "provenance": [],
      "collapsed_sections": [],
      "include_colab_link": true
    },
    "kernelspec": {
      "display_name": "Python 3",
      "name": "python3"
    }
  },
  "cells": [
    {
      "cell_type": "markdown",
      "metadata": {
        "id": "view-in-github",
        "colab_type": "text"
      },
      "source": [
        "<a href=\"https://colab.research.google.com/github/nanangyudi/2020pds_d/blob/main/TugasAkhir_205150409111028_BAGUSTAUFIKWICAKSONO.ipynb\" target=\"_parent\"><img src=\"https://colab.research.google.com/assets/colab-badge.svg\" alt=\"Open In Colab\"/></a>"
      ]
    },
    {
      "cell_type": "markdown",
      "metadata": {
        "id": "7NJkt8dI9ih7"
      },
      "source": [
        "**1. Deskripsi tujuan bisnis**\r\n",
        "- untuk mengetahui perbandingan film yang ada didunia\r\n",
        "\r\n",
        "**2. Analisa pendekatan**\r\n",
        "- pada analisa data ini kami menggunakan Exploratory Data Analysis (EDA)\r\n",
        "- memungkinkan analyst memahami isi data yang digunakan, mulai dari distribusi, frekuensi, korelasi dan lainnya\r\n",
        "\r\n",
        "**3. Pengumpulan data**\r\n",
        "- saya mendapatkan dan menggunakan data dari website kaggle.com dengan besar data yang saya download adalah 600 KB\r\n",
        "\r\n",
        "**4. Pemahaman terhadap data yang dikumpulkan** \r\n",
        "- data yang didapatkan menunjukkan informasi tentang daftar platform film diseluruh dunia\r\n",
        "- data terdiri dari \r\n",
        "1. id\r\n",
        "2. tittle\r\n",
        "3. year\r\n",
        "4. IMDb\r\n",
        "5. Rotten Tomatoes\r\n",
        "6. Netflix\r\n",
        "7. Hulu\r\n",
        "8. Prime Video\r\n",
        "9. Disney+\r\n",
        "10. Type\r\n",
        "11. Directors\r\n",
        "12. Genre\r\n",
        "13. Country\r\n",
        "14. Language\r\n",
        "15. Runtime\r\n",
        "\r\n",
        "**5. Eksplorasi Data**\r\n",
        "- Library yang digunakan dalam explorasi data adalah pandas, Matpolib, dan Seaborn"
      ]
    },
    {
      "cell_type": "markdown",
      "metadata": {
        "id": "x6laH5ud_lhB"
      },
      "source": [
        "**TAHAP EKSPLORASI DATA**"
      ]
    },
    {
      "cell_type": "code",
      "metadata": {
        "id": "89lbAlSyK_Qq"
      },
      "source": [
        "import pandas as pd\r\n",
        "import os \r\n",
        "os.listdir ('sample_data')\r\n",
        "import matplotlib.pyplot as plt\r\n",
        "import seaborn as sns\r\n",
        "pd.set_option('display.max_columns',None)\r\n",
        "import numpy as np\r\n",
        "import re # import library for regular expression\r\n",
        "import random # library for random number generation"
      ],
      "execution_count": null,
      "outputs": []
    },
    {
      "cell_type": "code",
      "metadata": {
        "colab": {
          "base_uri": "https://localhost:8080/"
        },
        "id": "bHaTUuSfly-A",
        "outputId": "f37d2161-a26e-4dd0-ef00-b5353f3fab1c"
      },
      "source": [
        "df = pd.read_csv('https://raw.githubusercontent.com/taufikbaguss/bloounded/master/movies.csv')\r\n",
        "print(\"read dataset in dataframe!\")"
      ],
      "execution_count": null,
      "outputs": [
        {
          "output_type": "stream",
          "text": [
            "read dataset in dataframe!\n"
          ],
          "name": "stdout"
        }
      ]
    },
    {
      "cell_type": "markdown",
      "metadata": {
        "id": "Xjr9rHSZ_xj-"
      },
      "source": [
        "Menampilkan 15 kolom data file"
      ]
    },
    {
      "cell_type": "code",
      "metadata": {
        "colab": {
          "base_uri": "https://localhost:8080/",
          "height": 898
        },
        "id": "tN1DbuT_l6hx",
        "outputId": "ad33768f-725c-44d1-ff6e-4156853bf4f5"
      },
      "source": [
        "df.head(15)"
      ],
      "execution_count": null,
      "outputs": [
        {
          "output_type": "execute_result",
          "data": {
            "text/html": [
              "<div>\n",
              "<style scoped>\n",
              "    .dataframe tbody tr th:only-of-type {\n",
              "        vertical-align: middle;\n",
              "    }\n",
              "\n",
              "    .dataframe tbody tr th {\n",
              "        vertical-align: top;\n",
              "    }\n",
              "\n",
              "    .dataframe thead th {\n",
              "        text-align: right;\n",
              "    }\n",
              "</style>\n",
              "<table border=\"1\" class=\"dataframe\">\n",
              "  <thead>\n",
              "    <tr style=\"text-align: right;\">\n",
              "      <th></th>\n",
              "      <th>Unnamed: 0</th>\n",
              "      <th>ID</th>\n",
              "      <th>Title</th>\n",
              "      <th>Year</th>\n",
              "      <th>Age</th>\n",
              "      <th>IMDb</th>\n",
              "      <th>Rotten Tomatoes</th>\n",
              "      <th>Netflix</th>\n",
              "      <th>Hulu</th>\n",
              "      <th>Prime Video</th>\n",
              "      <th>Disney+</th>\n",
              "      <th>Type</th>\n",
              "      <th>Directors</th>\n",
              "      <th>Genres</th>\n",
              "      <th>Country</th>\n",
              "      <th>Language</th>\n",
              "      <th>Runtime</th>\n",
              "    </tr>\n",
              "  </thead>\n",
              "  <tbody>\n",
              "    <tr>\n",
              "      <th>0</th>\n",
              "      <td>0</td>\n",
              "      <td>1</td>\n",
              "      <td>Inception</td>\n",
              "      <td>2010</td>\n",
              "      <td>13+</td>\n",
              "      <td>8.8</td>\n",
              "      <td>87%</td>\n",
              "      <td>1</td>\n",
              "      <td>0</td>\n",
              "      <td>0</td>\n",
              "      <td>0</td>\n",
              "      <td>0</td>\n",
              "      <td>Christopher Nolan</td>\n",
              "      <td>Action,Adventure,Sci-Fi,Thriller</td>\n",
              "      <td>United States,United Kingdom</td>\n",
              "      <td>English,Japanese,French</td>\n",
              "      <td>148.0</td>\n",
              "    </tr>\n",
              "    <tr>\n",
              "      <th>1</th>\n",
              "      <td>1</td>\n",
              "      <td>2</td>\n",
              "      <td>The Matrix</td>\n",
              "      <td>1999</td>\n",
              "      <td>18+</td>\n",
              "      <td>8.7</td>\n",
              "      <td>87%</td>\n",
              "      <td>1</td>\n",
              "      <td>0</td>\n",
              "      <td>0</td>\n",
              "      <td>0</td>\n",
              "      <td>0</td>\n",
              "      <td>Lana Wachowski,Lilly Wachowski</td>\n",
              "      <td>Action,Sci-Fi</td>\n",
              "      <td>United States</td>\n",
              "      <td>English</td>\n",
              "      <td>136.0</td>\n",
              "    </tr>\n",
              "    <tr>\n",
              "      <th>2</th>\n",
              "      <td>2</td>\n",
              "      <td>3</td>\n",
              "      <td>Avengers: Infinity War</td>\n",
              "      <td>2018</td>\n",
              "      <td>13+</td>\n",
              "      <td>8.5</td>\n",
              "      <td>84%</td>\n",
              "      <td>1</td>\n",
              "      <td>0</td>\n",
              "      <td>0</td>\n",
              "      <td>0</td>\n",
              "      <td>0</td>\n",
              "      <td>Anthony Russo,Joe Russo</td>\n",
              "      <td>Action,Adventure,Sci-Fi</td>\n",
              "      <td>United States</td>\n",
              "      <td>English</td>\n",
              "      <td>149.0</td>\n",
              "    </tr>\n",
              "    <tr>\n",
              "      <th>3</th>\n",
              "      <td>3</td>\n",
              "      <td>4</td>\n",
              "      <td>Back to the Future</td>\n",
              "      <td>1985</td>\n",
              "      <td>7+</td>\n",
              "      <td>8.5</td>\n",
              "      <td>96%</td>\n",
              "      <td>1</td>\n",
              "      <td>0</td>\n",
              "      <td>0</td>\n",
              "      <td>0</td>\n",
              "      <td>0</td>\n",
              "      <td>Robert Zemeckis</td>\n",
              "      <td>Adventure,Comedy,Sci-Fi</td>\n",
              "      <td>United States</td>\n",
              "      <td>English</td>\n",
              "      <td>116.0</td>\n",
              "    </tr>\n",
              "    <tr>\n",
              "      <th>4</th>\n",
              "      <td>4</td>\n",
              "      <td>5</td>\n",
              "      <td>The Good, the Bad and the Ugly</td>\n",
              "      <td>1966</td>\n",
              "      <td>18+</td>\n",
              "      <td>8.8</td>\n",
              "      <td>97%</td>\n",
              "      <td>1</td>\n",
              "      <td>0</td>\n",
              "      <td>1</td>\n",
              "      <td>0</td>\n",
              "      <td>0</td>\n",
              "      <td>Sergio Leone</td>\n",
              "      <td>Western</td>\n",
              "      <td>Italy,Spain,West Germany</td>\n",
              "      <td>Italian</td>\n",
              "      <td>161.0</td>\n",
              "    </tr>\n",
              "    <tr>\n",
              "      <th>5</th>\n",
              "      <td>5</td>\n",
              "      <td>6</td>\n",
              "      <td>Spider-Man: Into the Spider-Verse</td>\n",
              "      <td>2018</td>\n",
              "      <td>7+</td>\n",
              "      <td>8.4</td>\n",
              "      <td>97%</td>\n",
              "      <td>1</td>\n",
              "      <td>0</td>\n",
              "      <td>0</td>\n",
              "      <td>0</td>\n",
              "      <td>0</td>\n",
              "      <td>Bob Persichetti,Peter Ramsey,Rodney Rothman</td>\n",
              "      <td>Animation,Action,Adventure,Family,Sci-Fi</td>\n",
              "      <td>United States</td>\n",
              "      <td>English,Spanish</td>\n",
              "      <td>117.0</td>\n",
              "    </tr>\n",
              "    <tr>\n",
              "      <th>6</th>\n",
              "      <td>6</td>\n",
              "      <td>7</td>\n",
              "      <td>The Pianist</td>\n",
              "      <td>2002</td>\n",
              "      <td>18+</td>\n",
              "      <td>8.5</td>\n",
              "      <td>95%</td>\n",
              "      <td>1</td>\n",
              "      <td>0</td>\n",
              "      <td>1</td>\n",
              "      <td>0</td>\n",
              "      <td>0</td>\n",
              "      <td>Roman Polanski</td>\n",
              "      <td>Biography,Drama,Music,War</td>\n",
              "      <td>United Kingdom,France,Poland,Germany</td>\n",
              "      <td>English,German,Russian</td>\n",
              "      <td>150.0</td>\n",
              "    </tr>\n",
              "    <tr>\n",
              "      <th>7</th>\n",
              "      <td>7</td>\n",
              "      <td>8</td>\n",
              "      <td>Django Unchained</td>\n",
              "      <td>2012</td>\n",
              "      <td>18+</td>\n",
              "      <td>8.4</td>\n",
              "      <td>87%</td>\n",
              "      <td>1</td>\n",
              "      <td>0</td>\n",
              "      <td>0</td>\n",
              "      <td>0</td>\n",
              "      <td>0</td>\n",
              "      <td>Quentin Tarantino</td>\n",
              "      <td>Drama,Western</td>\n",
              "      <td>United States</td>\n",
              "      <td>English,German,French,Italian</td>\n",
              "      <td>165.0</td>\n",
              "    </tr>\n",
              "    <tr>\n",
              "      <th>8</th>\n",
              "      <td>8</td>\n",
              "      <td>9</td>\n",
              "      <td>Raiders of the Lost Ark</td>\n",
              "      <td>1981</td>\n",
              "      <td>7+</td>\n",
              "      <td>8.4</td>\n",
              "      <td>95%</td>\n",
              "      <td>1</td>\n",
              "      <td>0</td>\n",
              "      <td>0</td>\n",
              "      <td>0</td>\n",
              "      <td>0</td>\n",
              "      <td>Steven Spielberg</td>\n",
              "      <td>Action,Adventure</td>\n",
              "      <td>United States</td>\n",
              "      <td>English,German,Hebrew,Spanish,Arabic,Nepali</td>\n",
              "      <td>115.0</td>\n",
              "    </tr>\n",
              "    <tr>\n",
              "      <th>9</th>\n",
              "      <td>9</td>\n",
              "      <td>10</td>\n",
              "      <td>Inglourious Basterds</td>\n",
              "      <td>2009</td>\n",
              "      <td>18+</td>\n",
              "      <td>8.3</td>\n",
              "      <td>89%</td>\n",
              "      <td>1</td>\n",
              "      <td>0</td>\n",
              "      <td>0</td>\n",
              "      <td>0</td>\n",
              "      <td>0</td>\n",
              "      <td>Quentin Tarantino</td>\n",
              "      <td>Adventure,Drama,War</td>\n",
              "      <td>Germany,United States</td>\n",
              "      <td>English,German,French,Italian</td>\n",
              "      <td>153.0</td>\n",
              "    </tr>\n",
              "    <tr>\n",
              "      <th>10</th>\n",
              "      <td>10</td>\n",
              "      <td>11</td>\n",
              "      <td>Taxi Driver</td>\n",
              "      <td>1976</td>\n",
              "      <td>18+</td>\n",
              "      <td>8.3</td>\n",
              "      <td>95%</td>\n",
              "      <td>1</td>\n",
              "      <td>0</td>\n",
              "      <td>0</td>\n",
              "      <td>0</td>\n",
              "      <td>0</td>\n",
              "      <td>Martin Scorsese</td>\n",
              "      <td>Crime,Drama</td>\n",
              "      <td>United States</td>\n",
              "      <td>English,Spanish</td>\n",
              "      <td>114.0</td>\n",
              "    </tr>\n",
              "    <tr>\n",
              "      <th>11</th>\n",
              "      <td>11</td>\n",
              "      <td>12</td>\n",
              "      <td>3 Idiots</td>\n",
              "      <td>2009</td>\n",
              "      <td>13+</td>\n",
              "      <td>8.4</td>\n",
              "      <td>100%</td>\n",
              "      <td>1</td>\n",
              "      <td>0</td>\n",
              "      <td>1</td>\n",
              "      <td>0</td>\n",
              "      <td>0</td>\n",
              "      <td>Rajkumar Hirani</td>\n",
              "      <td>Comedy,Drama</td>\n",
              "      <td>India</td>\n",
              "      <td>Hindi,English</td>\n",
              "      <td>170.0</td>\n",
              "    </tr>\n",
              "    <tr>\n",
              "      <th>12</th>\n",
              "      <td>12</td>\n",
              "      <td>13</td>\n",
              "      <td>Pan's Labyrinth</td>\n",
              "      <td>2006</td>\n",
              "      <td>18+</td>\n",
              "      <td>8.2</td>\n",
              "      <td>95%</td>\n",
              "      <td>1</td>\n",
              "      <td>0</td>\n",
              "      <td>0</td>\n",
              "      <td>0</td>\n",
              "      <td>0</td>\n",
              "      <td>Guillermo del Toro</td>\n",
              "      <td>Drama,Fantasy,War</td>\n",
              "      <td>Mexico,Spain</td>\n",
              "      <td>Spanish</td>\n",
              "      <td>118.0</td>\n",
              "    </tr>\n",
              "    <tr>\n",
              "      <th>13</th>\n",
              "      <td>13</td>\n",
              "      <td>14</td>\n",
              "      <td>Room</td>\n",
              "      <td>2015</td>\n",
              "      <td>18+</td>\n",
              "      <td>8.1</td>\n",
              "      <td>93%</td>\n",
              "      <td>1</td>\n",
              "      <td>0</td>\n",
              "      <td>0</td>\n",
              "      <td>0</td>\n",
              "      <td>0</td>\n",
              "      <td>Lenny Abrahamson</td>\n",
              "      <td>Drama,Thriller</td>\n",
              "      <td>Ireland,Canada,United Kingdom,United States</td>\n",
              "      <td>English</td>\n",
              "      <td>118.0</td>\n",
              "    </tr>\n",
              "    <tr>\n",
              "      <th>14</th>\n",
              "      <td>14</td>\n",
              "      <td>15</td>\n",
              "      <td>Monty Python and the Holy Grail</td>\n",
              "      <td>1975</td>\n",
              "      <td>7+</td>\n",
              "      <td>8.2</td>\n",
              "      <td>97%</td>\n",
              "      <td>1</td>\n",
              "      <td>0</td>\n",
              "      <td>0</td>\n",
              "      <td>0</td>\n",
              "      <td>0</td>\n",
              "      <td>Terry Gilliam,Terry Jones</td>\n",
              "      <td>Adventure,Comedy,Fantasy</td>\n",
              "      <td>United Kingdom</td>\n",
              "      <td>English,French,Latin</td>\n",
              "      <td>91.0</td>\n",
              "    </tr>\n",
              "  </tbody>\n",
              "</table>\n",
              "</div>"
            ],
            "text/plain": [
              "    Unnamed: 0  ID                              Title  Year  Age  IMDb  \\\n",
              "0            0   1                          Inception  2010  13+   8.8   \n",
              "1            1   2                         The Matrix  1999  18+   8.7   \n",
              "2            2   3             Avengers: Infinity War  2018  13+   8.5   \n",
              "3            3   4                 Back to the Future  1985   7+   8.5   \n",
              "4            4   5     The Good, the Bad and the Ugly  1966  18+   8.8   \n",
              "5            5   6  Spider-Man: Into the Spider-Verse  2018   7+   8.4   \n",
              "6            6   7                        The Pianist  2002  18+   8.5   \n",
              "7            7   8                   Django Unchained  2012  18+   8.4   \n",
              "8            8   9            Raiders of the Lost Ark  1981   7+   8.4   \n",
              "9            9  10               Inglourious Basterds  2009  18+   8.3   \n",
              "10          10  11                        Taxi Driver  1976  18+   8.3   \n",
              "11          11  12                           3 Idiots  2009  13+   8.4   \n",
              "12          12  13                    Pan's Labyrinth  2006  18+   8.2   \n",
              "13          13  14                               Room  2015  18+   8.1   \n",
              "14          14  15    Monty Python and the Holy Grail  1975   7+   8.2   \n",
              "\n",
              "   Rotten Tomatoes  Netflix  Hulu  Prime Video  Disney+  Type  \\\n",
              "0              87%        1     0            0        0     0   \n",
              "1              87%        1     0            0        0     0   \n",
              "2              84%        1     0            0        0     0   \n",
              "3              96%        1     0            0        0     0   \n",
              "4              97%        1     0            1        0     0   \n",
              "5              97%        1     0            0        0     0   \n",
              "6              95%        1     0            1        0     0   \n",
              "7              87%        1     0            0        0     0   \n",
              "8              95%        1     0            0        0     0   \n",
              "9              89%        1     0            0        0     0   \n",
              "10             95%        1     0            0        0     0   \n",
              "11            100%        1     0            1        0     0   \n",
              "12             95%        1     0            0        0     0   \n",
              "13             93%        1     0            0        0     0   \n",
              "14             97%        1     0            0        0     0   \n",
              "\n",
              "                                      Directors  \\\n",
              "0                             Christopher Nolan   \n",
              "1                Lana Wachowski,Lilly Wachowski   \n",
              "2                       Anthony Russo,Joe Russo   \n",
              "3                               Robert Zemeckis   \n",
              "4                                  Sergio Leone   \n",
              "5   Bob Persichetti,Peter Ramsey,Rodney Rothman   \n",
              "6                                Roman Polanski   \n",
              "7                             Quentin Tarantino   \n",
              "8                              Steven Spielberg   \n",
              "9                             Quentin Tarantino   \n",
              "10                              Martin Scorsese   \n",
              "11                              Rajkumar Hirani   \n",
              "12                           Guillermo del Toro   \n",
              "13                             Lenny Abrahamson   \n",
              "14                    Terry Gilliam,Terry Jones   \n",
              "\n",
              "                                      Genres  \\\n",
              "0           Action,Adventure,Sci-Fi,Thriller   \n",
              "1                              Action,Sci-Fi   \n",
              "2                    Action,Adventure,Sci-Fi   \n",
              "3                    Adventure,Comedy,Sci-Fi   \n",
              "4                                    Western   \n",
              "5   Animation,Action,Adventure,Family,Sci-Fi   \n",
              "6                  Biography,Drama,Music,War   \n",
              "7                              Drama,Western   \n",
              "8                           Action,Adventure   \n",
              "9                        Adventure,Drama,War   \n",
              "10                               Crime,Drama   \n",
              "11                              Comedy,Drama   \n",
              "12                         Drama,Fantasy,War   \n",
              "13                            Drama,Thriller   \n",
              "14                  Adventure,Comedy,Fantasy   \n",
              "\n",
              "                                        Country  \\\n",
              "0                  United States,United Kingdom   \n",
              "1                                 United States   \n",
              "2                                 United States   \n",
              "3                                 United States   \n",
              "4                      Italy,Spain,West Germany   \n",
              "5                                 United States   \n",
              "6          United Kingdom,France,Poland,Germany   \n",
              "7                                 United States   \n",
              "8                                 United States   \n",
              "9                         Germany,United States   \n",
              "10                                United States   \n",
              "11                                        India   \n",
              "12                                 Mexico,Spain   \n",
              "13  Ireland,Canada,United Kingdom,United States   \n",
              "14                               United Kingdom   \n",
              "\n",
              "                                       Language  Runtime  \n",
              "0                       English,Japanese,French    148.0  \n",
              "1                                       English    136.0  \n",
              "2                                       English    149.0  \n",
              "3                                       English    116.0  \n",
              "4                                       Italian    161.0  \n",
              "5                               English,Spanish    117.0  \n",
              "6                        English,German,Russian    150.0  \n",
              "7                 English,German,French,Italian    165.0  \n",
              "8   English,German,Hebrew,Spanish,Arabic,Nepali    115.0  \n",
              "9                 English,German,French,Italian    153.0  \n",
              "10                              English,Spanish    114.0  \n",
              "11                                Hindi,English    170.0  \n",
              "12                                      Spanish    118.0  \n",
              "13                                      English    118.0  \n",
              "14                         English,French,Latin     91.0  "
            ]
          },
          "metadata": {
            "tags": []
          },
          "execution_count": 101
        }
      ]
    },
    {
      "cell_type": "markdown",
      "metadata": {
        "id": "qSQzobks_4zI"
      },
      "source": [
        "Mendeskripsikan data file"
      ]
    },
    {
      "cell_type": "code",
      "metadata": {
        "colab": {
          "base_uri": "https://localhost:8080/",
          "height": 284
        },
        "id": "k2dgvNC9mt8m",
        "outputId": "55e73882-0ba1-4eee-859c-fcab50c07ba4"
      },
      "source": [
        "df.describe()"
      ],
      "execution_count": null,
      "outputs": [
        {
          "output_type": "execute_result",
          "data": {
            "text/html": [
              "<div>\n",
              "<style scoped>\n",
              "    .dataframe tbody tr th:only-of-type {\n",
              "        vertical-align: middle;\n",
              "    }\n",
              "\n",
              "    .dataframe tbody tr th {\n",
              "        vertical-align: top;\n",
              "    }\n",
              "\n",
              "    .dataframe thead th {\n",
              "        text-align: right;\n",
              "    }\n",
              "</style>\n",
              "<table border=\"1\" class=\"dataframe\">\n",
              "  <thead>\n",
              "    <tr style=\"text-align: right;\">\n",
              "      <th></th>\n",
              "      <th>Unnamed: 0</th>\n",
              "      <th>ID</th>\n",
              "      <th>Year</th>\n",
              "      <th>IMDb</th>\n",
              "      <th>Netflix</th>\n",
              "      <th>Hulu</th>\n",
              "      <th>Prime Video</th>\n",
              "      <th>Disney+</th>\n",
              "      <th>Type</th>\n",
              "      <th>Runtime</th>\n",
              "    </tr>\n",
              "  </thead>\n",
              "  <tbody>\n",
              "    <tr>\n",
              "      <th>count</th>\n",
              "      <td>16744.000000</td>\n",
              "      <td>16744.000000</td>\n",
              "      <td>16744.000000</td>\n",
              "      <td>16173.000000</td>\n",
              "      <td>16744.000000</td>\n",
              "      <td>16744.000000</td>\n",
              "      <td>16744.000000</td>\n",
              "      <td>16744.000000</td>\n",
              "      <td>16744.0</td>\n",
              "      <td>16152.000000</td>\n",
              "    </tr>\n",
              "    <tr>\n",
              "      <th>mean</th>\n",
              "      <td>8371.500000</td>\n",
              "      <td>8372.500000</td>\n",
              "      <td>2003.014035</td>\n",
              "      <td>5.902751</td>\n",
              "      <td>0.212613</td>\n",
              "      <td>0.053930</td>\n",
              "      <td>0.737817</td>\n",
              "      <td>0.033684</td>\n",
              "      <td>0.0</td>\n",
              "      <td>93.413447</td>\n",
              "    </tr>\n",
              "    <tr>\n",
              "      <th>std</th>\n",
              "      <td>4833.720789</td>\n",
              "      <td>4833.720789</td>\n",
              "      <td>20.674321</td>\n",
              "      <td>1.347867</td>\n",
              "      <td>0.409169</td>\n",
              "      <td>0.225886</td>\n",
              "      <td>0.439835</td>\n",
              "      <td>0.180419</td>\n",
              "      <td>0.0</td>\n",
              "      <td>28.219222</td>\n",
              "    </tr>\n",
              "    <tr>\n",
              "      <th>min</th>\n",
              "      <td>0.000000</td>\n",
              "      <td>1.000000</td>\n",
              "      <td>1902.000000</td>\n",
              "      <td>0.000000</td>\n",
              "      <td>0.000000</td>\n",
              "      <td>0.000000</td>\n",
              "      <td>0.000000</td>\n",
              "      <td>0.000000</td>\n",
              "      <td>0.0</td>\n",
              "      <td>1.000000</td>\n",
              "    </tr>\n",
              "    <tr>\n",
              "      <th>25%</th>\n",
              "      <td>4185.750000</td>\n",
              "      <td>4186.750000</td>\n",
              "      <td>2000.000000</td>\n",
              "      <td>5.100000</td>\n",
              "      <td>0.000000</td>\n",
              "      <td>0.000000</td>\n",
              "      <td>0.000000</td>\n",
              "      <td>0.000000</td>\n",
              "      <td>0.0</td>\n",
              "      <td>82.000000</td>\n",
              "    </tr>\n",
              "    <tr>\n",
              "      <th>50%</th>\n",
              "      <td>8371.500000</td>\n",
              "      <td>8372.500000</td>\n",
              "      <td>2012.000000</td>\n",
              "      <td>6.100000</td>\n",
              "      <td>0.000000</td>\n",
              "      <td>0.000000</td>\n",
              "      <td>1.000000</td>\n",
              "      <td>0.000000</td>\n",
              "      <td>0.0</td>\n",
              "      <td>92.000000</td>\n",
              "    </tr>\n",
              "    <tr>\n",
              "      <th>75%</th>\n",
              "      <td>12557.250000</td>\n",
              "      <td>12558.250000</td>\n",
              "      <td>2016.000000</td>\n",
              "      <td>6.900000</td>\n",
              "      <td>0.000000</td>\n",
              "      <td>0.000000</td>\n",
              "      <td>1.000000</td>\n",
              "      <td>0.000000</td>\n",
              "      <td>0.0</td>\n",
              "      <td>104.000000</td>\n",
              "    </tr>\n",
              "    <tr>\n",
              "      <th>max</th>\n",
              "      <td>16743.000000</td>\n",
              "      <td>16744.000000</td>\n",
              "      <td>2020.000000</td>\n",
              "      <td>9.300000</td>\n",
              "      <td>1.000000</td>\n",
              "      <td>1.000000</td>\n",
              "      <td>1.000000</td>\n",
              "      <td>1.000000</td>\n",
              "      <td>0.0</td>\n",
              "      <td>1256.000000</td>\n",
              "    </tr>\n",
              "  </tbody>\n",
              "</table>\n",
              "</div>"
            ],
            "text/plain": [
              "         Unnamed: 0            ID          Year          IMDb       Netflix  \\\n",
              "count  16744.000000  16744.000000  16744.000000  16173.000000  16744.000000   \n",
              "mean    8371.500000   8372.500000   2003.014035      5.902751      0.212613   \n",
              "std     4833.720789   4833.720789     20.674321      1.347867      0.409169   \n",
              "min        0.000000      1.000000   1902.000000      0.000000      0.000000   \n",
              "25%     4185.750000   4186.750000   2000.000000      5.100000      0.000000   \n",
              "50%     8371.500000   8372.500000   2012.000000      6.100000      0.000000   \n",
              "75%    12557.250000  12558.250000   2016.000000      6.900000      0.000000   \n",
              "max    16743.000000  16744.000000   2020.000000      9.300000      1.000000   \n",
              "\n",
              "               Hulu   Prime Video       Disney+     Type       Runtime  \n",
              "count  16744.000000  16744.000000  16744.000000  16744.0  16152.000000  \n",
              "mean       0.053930      0.737817      0.033684      0.0     93.413447  \n",
              "std        0.225886      0.439835      0.180419      0.0     28.219222  \n",
              "min        0.000000      0.000000      0.000000      0.0      1.000000  \n",
              "25%        0.000000      0.000000      0.000000      0.0     82.000000  \n",
              "50%        0.000000      1.000000      0.000000      0.0     92.000000  \n",
              "75%        0.000000      1.000000      0.000000      0.0    104.000000  \n",
              "max        1.000000      1.000000      1.000000      0.0   1256.000000  "
            ]
          },
          "metadata": {
            "tags": []
          },
          "execution_count": 102
        }
      ]
    },
    {
      "cell_type": "markdown",
      "metadata": {
        "id": "mRrPNhNL_7p6"
      },
      "source": [
        "Menampilkan dimensi data"
      ]
    },
    {
      "cell_type": "code",
      "metadata": {
        "colab": {
          "base_uri": "https://localhost:8080/"
        },
        "id": "jZdw3oThm5VE",
        "outputId": "f14418d1-ea7a-4741-a592-660ec1a6fe08"
      },
      "source": [
        "dimensi = df.shape\r\n",
        "print(f'Dimensi data sejumlah {dimensi[0]} data, dan terdiri dari {dimensi[1]} kolom')"
      ],
      "execution_count": null,
      "outputs": [
        {
          "output_type": "stream",
          "text": [
            "Dimensi data sejumlah 16744 data, dan terdiri dari 17 kolom\n"
          ],
          "name": "stdout"
        }
      ]
    },
    {
      "cell_type": "markdown",
      "metadata": {
        "id": "KPxNixC9_-m6"
      },
      "source": [
        "Menampilkan jumlah pengguna Netflix dan Disney+"
      ]
    },
    {
      "cell_type": "code",
      "metadata": {
        "colab": {
          "base_uri": "https://localhost:8080/",
          "height": 280
        },
        "id": "lpX0Qye_nheX",
        "outputId": "8b3170e7-ac2e-466c-d116-c16258e32c3d"
      },
      "source": [
        "df['Netflix'].value_counts() \r\n",
        "df['Disney+'].value_counts().plot(kind='bar')"
      ],
      "execution_count": null,
      "outputs": [
        {
          "output_type": "execute_result",
          "data": {
            "text/plain": [
              "<matplotlib.axes._subplots.AxesSubplot at 0x7f403b4aa940>"
            ]
          },
          "metadata": {
            "tags": []
          },
          "execution_count": 104
        },
        {
          "output_type": "display_data",
          "data": {
            "image/png": "[encoded data removed]",
            "text/plain": [
              "<Figure size 432x288 with 1 Axes>"
            ]
          },
          "metadata": {
            "tags": [],
            "needs_background": "light"
          }
        }
      ]
    },
    {
      "cell_type": "markdown",
      "metadata": {
        "id": "SH4IEaBrAP6J"
      },
      "source": [
        "Menampilkan Total dari IMDb"
      ]
    },
    {
      "cell_type": "code",
      "metadata": {
        "colab": {
          "base_uri": "https://localhost:8080/",
          "height": 366
        },
        "id": "E5EMW4cUrX-q",
        "outputId": "3d6b470d-8f99-4eb0-90b3-9b70d7e291e6"
      },
      "source": [
        "import matplotlib.pyplot as plt\r\n",
        "fig=plt.figure()\r\n",
        "ax = fig.add_subplot(1,1,1)\r\n",
        "\r\n",
        "#Variable\r\n",
        "ax.hist(df['IMDb'],bins = 10)\r\n",
        "#Labels and Title\r\n",
        "plt.title('Total IMDb')\r\n",
        "plt.xlabel('IMDb')\r\n",
        "plt.ylabel('Jumlah')\r\n",
        "plt.show()"
      ],
      "execution_count": null,
      "outputs": [
        {
          "output_type": "stream",
          "text": [
            "/usr/local/lib/python3.6/dist-packages/numpy/lib/histograms.py:839: RuntimeWarning: invalid value encountered in greater_equal\n",
            "  keep = (tmp_a >= first_edge)\n",
            "/usr/local/lib/python3.6/dist-packages/numpy/lib/histograms.py:840: RuntimeWarning: invalid value encountered in less_equal\n",
            "  keep &= (tmp_a <= last_edge)\n"
          ],
          "name": "stderr"
        },
        {
          "output_type": "display_data",
          "data": {
            "image/png": "[encoded data removed]",
            "text/plain": [
              "<Figure size 432x288 with 1 Axes>"
            ]
          },
          "metadata": {
            "tags": [],
            "needs_background": "light"
          }
        }
      ]
    },
    {
      "cell_type": "markdown",
      "metadata": {
        "id": "aHYUeg0ZAUNp"
      },
      "source": [
        "Menjelaskan Genres film dari masing masing judul film"
      ]
    },
    {
      "cell_type": "code",
      "metadata": {
        "id": "MhDJnT601sNh",
        "colab": {
          "base_uri": "https://localhost:8080/"
        },
        "outputId": "0e04c3f4-1afe-46b5-ce1f-8af96d5032ef"
      },
      "source": [
        "data= df.groupby(['Title','Genres'])\n",
        "data.size()"
      ],
      "execution_count": null,
      "outputs": [
        {
          "output_type": "execute_result",
          "data": {
            "text/plain": [
              "Title                        Genres                          \n",
              "#IMomSoHard Live             Comedy                              1\n",
              "#LoveSwag                    Short,Comedy,Drama,Romance          1\n",
              "#Rucker50                    Documentary                         1\n",
              "#Selfie                      Comedy                              1\n",
              "#SquadGoals                  Drama,Thriller                      1\n",
              "                                                                ..\n",
              "Æon Flux                     Action,Adventure,Sci-Fi,Thriller    1\n",
              "Çok Filim Hareketler Bunlar  Comedy                              1\n",
              "Öldür Beni Sevgilim          Comedy,Romance                      1\n",
              "İncir Reçeli 2               Drama,Romance                       1\n",
              "​Maj Rati ​​Keteki           Drama                               1\n",
              "Length: 16469, dtype: int64"
            ]
          },
          "metadata": {
            "tags": []
          },
          "execution_count": 106
        }
      ]
    },
    {
      "cell_type": "markdown",
      "metadata": {
        "id": "1wlb3n4nA9YK"
      },
      "source": [
        "Import library yang akan digunakan"
      ]
    },
    {
      "cell_type": "code",
      "metadata": {
        "id": "E2t_5V4lo9mG"
      },
      "source": [
        "#import the libs\r\n",
        "import pandas as pd\r\n",
        "import numpy as np\r\n",
        "import matplotlib.pyplot as plt\r\n",
        "import seaborn as sns\r\n",
        "from pandas import Series\r\n",
        "\r\n",
        "%matplotlib inline\r\n",
        "pd.set_option('display.max_rows', 500)"
      ],
      "execution_count": null,
      "outputs": []
    },
    {
      "cell_type": "code",
      "metadata": {
        "id": "2aN9yEIWqngZ"
      },
      "source": [
        "#import the libs\r\n",
        "import pandas as pd\r\n",
        "import numpy as np\r\n",
        "import matplotlib.pyplot as plt\r\n",
        "import seaborn as sns\r\n",
        "from pandas import Series\r\n",
        "\r\n",
        "%matplotlib inline\r\n",
        "pd.set_option('display.max_rows', 500)"
      ],
      "execution_count": null,
      "outputs": []
    },
    {
      "cell_type": "markdown",
      "metadata": {
        "id": "7gHoGpfpA_7Q"
      },
      "source": [
        "**PEMODELAN DATA**"
      ]
    },
    {
      "cell_type": "markdown",
      "metadata": {
        "id": "YDICuovsCZaU"
      },
      "source": [
        "Memasukkan model yang akan diterapkan"
      ]
    },
    {
      "cell_type": "code",
      "metadata": {
        "id": "-ejJ3UF8qrBi"
      },
      "source": [
        "\r\n",
        "#function to investigate the data\r\n",
        "\r\n",
        "def data_inv(df):\r\n",
        "    print('No of Rows: ', df.shape[0])\r\n",
        "    print('No of Coloums: ', df.shape[1])\r\n",
        "    print('**'*25)\r\n",
        "    print('Colums Names: \\n', df.columns)\r\n",
        "    print('**'*25)\r\n",
        "    print('Datatype of Columns: \\n', df.dtypes)\r\n",
        "    print('**'*25)\r\n",
        "    print('Missing Values: ')\r\n",
        "    c = df.isnull().sum()\r\n",
        "    c = c[c>0]\r\n",
        "    print(c)\r\n",
        "    print('**'*25)\r\n",
        "    print('Missing vaules %age wise:\\n')\r\n",
        "    print((100*(df.isnull().sum()/len(df.index))))\r\n",
        "    print('**'*25)\r\n",
        "    print('Pictorial Representation:')\r\n",
        "    plt.figure(figsize=(8,6))\r\n",
        "    sns.heatmap(df.isnull(), yticklabels=False,cbar=False)\r\n",
        "    plt.show()  "
      ],
      "execution_count": null,
      "outputs": []
    },
    {
      "cell_type": "markdown",
      "metadata": {
        "id": "0qJOJ3LzBDld"
      },
      "source": [
        "Menampilkan data dari perbandingan platform film"
      ]
    },
    {
      "cell_type": "code",
      "metadata": {
        "colab": {
          "base_uri": "https://localhost:8080/",
          "height": 925
        },
        "id": "RBz3TJzIqt6Q",
        "outputId": "78737b81-1be4-4047-ac6c-a51207ecfef7"
      },
      "source": [
        "df.head(15)"
      ],
      "execution_count": null,
      "outputs": [
        {
          "output_type": "execute_result",
          "data": {
            "text/html": [
              "<div>\n",
              "<style scoped>\n",
              "    .dataframe tbody tr th:only-of-type {\n",
              "        vertical-align: middle;\n",
              "    }\n",
              "\n",
              "    .dataframe tbody tr th {\n",
              "        vertical-align: top;\n",
              "    }\n",
              "\n",
              "    .dataframe thead th {\n",
              "        text-align: right;\n",
              "    }\n",
              "</style>\n",
              "<table border=\"1\" class=\"dataframe\">\n",
              "  <thead>\n",
              "    <tr style=\"text-align: right;\">\n",
              "      <th></th>\n",
              "      <th>Unnamed: 0</th>\n",
              "      <th>ID</th>\n",
              "      <th>Title</th>\n",
              "      <th>Year</th>\n",
              "      <th>Age</th>\n",
              "      <th>IMDb</th>\n",
              "      <th>Rotten Tomatoes</th>\n",
              "      <th>Netflix</th>\n",
              "      <th>Hulu</th>\n",
              "      <th>Prime Video</th>\n",
              "      <th>Disney+</th>\n",
              "      <th>Type</th>\n",
              "      <th>Directors</th>\n",
              "      <th>Genres</th>\n",
              "      <th>Country</th>\n",
              "      <th>Language</th>\n",
              "      <th>Runtime</th>\n",
              "    </tr>\n",
              "  </thead>\n",
              "  <tbody>\n",
              "    <tr>\n",
              "      <th>0</th>\n",
              "      <td>0</td>\n",
              "      <td>1</td>\n",
              "      <td>Inception</td>\n",
              "      <td>2010</td>\n",
              "      <td>13+</td>\n",
              "      <td>8.8</td>\n",
              "      <td>87%</td>\n",
              "      <td>1</td>\n",
              "      <td>0</td>\n",
              "      <td>0</td>\n",
              "      <td>0</td>\n",
              "      <td>0</td>\n",
              "      <td>Christopher Nolan</td>\n",
              "      <td>Action,Adventure,Sci-Fi,Thriller</td>\n",
              "      <td>United States,United Kingdom</td>\n",
              "      <td>English,Japanese,French</td>\n",
              "      <td>148.0</td>\n",
              "    </tr>\n",
              "    <tr>\n",
              "      <th>1</th>\n",
              "      <td>1</td>\n",
              "      <td>2</td>\n",
              "      <td>The Matrix</td>\n",
              "      <td>1999</td>\n",
              "      <td>18+</td>\n",
              "      <td>8.7</td>\n",
              "      <td>87%</td>\n",
              "      <td>1</td>\n",
              "      <td>0</td>\n",
              "      <td>0</td>\n",
              "      <td>0</td>\n",
              "      <td>0</td>\n",
              "      <td>Lana Wachowski,Lilly Wachowski</td>\n",
              "      <td>Action,Sci-Fi</td>\n",
              "      <td>United States</td>\n",
              "      <td>English</td>\n",
              "      <td>136.0</td>\n",
              "    </tr>\n",
              "    <tr>\n",
              "      <th>2</th>\n",
              "      <td>2</td>\n",
              "      <td>3</td>\n",
              "      <td>Avengers: Infinity War</td>\n",
              "      <td>2018</td>\n",
              "      <td>13+</td>\n",
              "      <td>8.5</td>\n",
              "      <td>84%</td>\n",
              "      <td>1</td>\n",
              "      <td>0</td>\n",
              "      <td>0</td>\n",
              "      <td>0</td>\n",
              "      <td>0</td>\n",
              "      <td>Anthony Russo,Joe Russo</td>\n",
              "      <td>Action,Adventure,Sci-Fi</td>\n",
              "      <td>United States</td>\n",
              "      <td>English</td>\n",
              "      <td>149.0</td>\n",
              "    </tr>\n",
              "    <tr>\n",
              "      <th>3</th>\n",
              "      <td>3</td>\n",
              "      <td>4</td>\n",
              "      <td>Back to the Future</td>\n",
              "      <td>1985</td>\n",
              "      <td>7+</td>\n",
              "      <td>8.5</td>\n",
              "      <td>96%</td>\n",
              "      <td>1</td>\n",
              "      <td>0</td>\n",
              "      <td>0</td>\n",
              "      <td>0</td>\n",
              "      <td>0</td>\n",
              "      <td>Robert Zemeckis</td>\n",
              "      <td>Adventure,Comedy,Sci-Fi</td>\n",
              "      <td>United States</td>\n",
              "      <td>English</td>\n",
              "      <td>116.0</td>\n",
              "    </tr>\n",
              "    <tr>\n",
              "      <th>4</th>\n",
              "      <td>4</td>\n",
              "      <td>5</td>\n",
              "      <td>The Good, the Bad and the Ugly</td>\n",
              "      <td>1966</td>\n",
              "      <td>18+</td>\n",
              "      <td>8.8</td>\n",
              "      <td>97%</td>\n",
              "      <td>1</td>\n",
              "      <td>0</td>\n",
              "      <td>1</td>\n",
              "      <td>0</td>\n",
              "      <td>0</td>\n",
              "      <td>Sergio Leone</td>\n",
              "      <td>Western</td>\n",
              "      <td>Italy,Spain,West Germany</td>\n",
              "      <td>Italian</td>\n",
              "      <td>161.0</td>\n",
              "    </tr>\n",
              "    <tr>\n",
              "      <th>5</th>\n",
              "      <td>5</td>\n",
              "      <td>6</td>\n",
              "      <td>Spider-Man: Into the Spider-Verse</td>\n",
              "      <td>2018</td>\n",
              "      <td>7+</td>\n",
              "      <td>8.4</td>\n",
              "      <td>97%</td>\n",
              "      <td>1</td>\n",
              "      <td>0</td>\n",
              "      <td>0</td>\n",
              "      <td>0</td>\n",
              "      <td>0</td>\n",
              "      <td>Bob Persichetti,Peter Ramsey,Rodney Rothman</td>\n",
              "      <td>Animation,Action,Adventure,Family,Sci-Fi</td>\n",
              "      <td>United States</td>\n",
              "      <td>English,Spanish</td>\n",
              "      <td>117.0</td>\n",
              "    </tr>\n",
              "    <tr>\n",
              "      <th>6</th>\n",
              "      <td>6</td>\n",
              "      <td>7</td>\n",
              "      <td>The Pianist</td>\n",
              "      <td>2002</td>\n",
              "      <td>18+</td>\n",
              "      <td>8.5</td>\n",
              "      <td>95%</td>\n",
              "      <td>1</td>\n",
              "      <td>0</td>\n",
              "      <td>1</td>\n",
              "      <td>0</td>\n",
              "      <td>0</td>\n",
              "      <td>Roman Polanski</td>\n",
              "      <td>Biography,Drama,Music,War</td>\n",
              "      <td>United Kingdom,France,Poland,Germany</td>\n",
              "      <td>English,German,Russian</td>\n",
              "      <td>150.0</td>\n",
              "    </tr>\n",
              "    <tr>\n",
              "      <th>7</th>\n",
              "      <td>7</td>\n",
              "      <td>8</td>\n",
              "      <td>Django Unchained</td>\n",
              "      <td>2012</td>\n",
              "      <td>18+</td>\n",
              "      <td>8.4</td>\n",
              "      <td>87%</td>\n",
              "      <td>1</td>\n",
              "      <td>0</td>\n",
              "      <td>0</td>\n",
              "      <td>0</td>\n",
              "      <td>0</td>\n",
              "      <td>Quentin Tarantino</td>\n",
              "      <td>Drama,Western</td>\n",
              "      <td>United States</td>\n",
              "      <td>English,German,French,Italian</td>\n",
              "      <td>165.0</td>\n",
              "    </tr>\n",
              "    <tr>\n",
              "      <th>8</th>\n",
              "      <td>8</td>\n",
              "      <td>9</td>\n",
              "      <td>Raiders of the Lost Ark</td>\n",
              "      <td>1981</td>\n",
              "      <td>7+</td>\n",
              "      <td>8.4</td>\n",
              "      <td>95%</td>\n",
              "      <td>1</td>\n",
              "      <td>0</td>\n",
              "      <td>0</td>\n",
              "      <td>0</td>\n",
              "      <td>0</td>\n",
              "      <td>Steven Spielberg</td>\n",
              "      <td>Action,Adventure</td>\n",
              "      <td>United States</td>\n",
              "      <td>English,German,Hebrew,Spanish,Arabic,Nepali</td>\n",
              "      <td>115.0</td>\n",
              "    </tr>\n",
              "    <tr>\n",
              "      <th>9</th>\n",
              "      <td>9</td>\n",
              "      <td>10</td>\n",
              "      <td>Inglourious Basterds</td>\n",
              "      <td>2009</td>\n",
              "      <td>18+</td>\n",
              "      <td>8.3</td>\n",
              "      <td>89%</td>\n",
              "      <td>1</td>\n",
              "      <td>0</td>\n",
              "      <td>0</td>\n",
              "      <td>0</td>\n",
              "      <td>0</td>\n",
              "      <td>Quentin Tarantino</td>\n",
              "      <td>Adventure,Drama,War</td>\n",
              "      <td>Germany,United States</td>\n",
              "      <td>English,German,French,Italian</td>\n",
              "      <td>153.0</td>\n",
              "    </tr>\n",
              "    <tr>\n",
              "      <th>10</th>\n",
              "      <td>10</td>\n",
              "      <td>11</td>\n",
              "      <td>Taxi Driver</td>\n",
              "      <td>1976</td>\n",
              "      <td>18+</td>\n",
              "      <td>8.3</td>\n",
              "      <td>95%</td>\n",
              "      <td>1</td>\n",
              "      <td>0</td>\n",
              "      <td>0</td>\n",
              "      <td>0</td>\n",
              "      <td>0</td>\n",
              "      <td>Martin Scorsese</td>\n",
              "      <td>Crime,Drama</td>\n",
              "      <td>United States</td>\n",
              "      <td>English,Spanish</td>\n",
              "      <td>114.0</td>\n",
              "    </tr>\n",
              "    <tr>\n",
              "      <th>11</th>\n",
              "      <td>11</td>\n",
              "      <td>12</td>\n",
              "      <td>3 Idiots</td>\n",
              "      <td>2009</td>\n",
              "      <td>13+</td>\n",
              "      <td>8.4</td>\n",
              "      <td>100%</td>\n",
              "      <td>1</td>\n",
              "      <td>0</td>\n",
              "      <td>1</td>\n",
              "      <td>0</td>\n",
              "      <td>0</td>\n",
              "      <td>Rajkumar Hirani</td>\n",
              "      <td>Comedy,Drama</td>\n",
              "      <td>India</td>\n",
              "      <td>Hindi,English</td>\n",
              "      <td>170.0</td>\n",
              "    </tr>\n",
              "    <tr>\n",
              "      <th>12</th>\n",
              "      <td>12</td>\n",
              "      <td>13</td>\n",
              "      <td>Pan's Labyrinth</td>\n",
              "      <td>2006</td>\n",
              "      <td>18+</td>\n",
              "      <td>8.2</td>\n",
              "      <td>95%</td>\n",
              "      <td>1</td>\n",
              "      <td>0</td>\n",
              "      <td>0</td>\n",
              "      <td>0</td>\n",
              "      <td>0</td>\n",
              "      <td>Guillermo del Toro</td>\n",
              "      <td>Drama,Fantasy,War</td>\n",
              "      <td>Mexico,Spain</td>\n",
              "      <td>Spanish</td>\n",
              "      <td>118.0</td>\n",
              "    </tr>\n",
              "    <tr>\n",
              "      <th>13</th>\n",
              "      <td>13</td>\n",
              "      <td>14</td>\n",
              "      <td>Room</td>\n",
              "      <td>2015</td>\n",
              "      <td>18+</td>\n",
              "      <td>8.1</td>\n",
              "      <td>93%</td>\n",
              "      <td>1</td>\n",
              "      <td>0</td>\n",
              "      <td>0</td>\n",
              "      <td>0</td>\n",
              "      <td>0</td>\n",
              "      <td>Lenny Abrahamson</td>\n",
              "      <td>Drama,Thriller</td>\n",
              "      <td>Ireland,Canada,United Kingdom,United States</td>\n",
              "      <td>English</td>\n",
              "      <td>118.0</td>\n",
              "    </tr>\n",
              "    <tr>\n",
              "      <th>14</th>\n",
              "      <td>14</td>\n",
              "      <td>15</td>\n",
              "      <td>Monty Python and the Holy Grail</td>\n",
              "      <td>1975</td>\n",
              "      <td>7+</td>\n",
              "      <td>8.2</td>\n",
              "      <td>97%</td>\n",
              "      <td>1</td>\n",
              "      <td>0</td>\n",
              "      <td>0</td>\n",
              "      <td>0</td>\n",
              "      <td>0</td>\n",
              "      <td>Terry Gilliam,Terry Jones</td>\n",
              "      <td>Adventure,Comedy,Fantasy</td>\n",
              "      <td>United Kingdom</td>\n",
              "      <td>English,French,Latin</td>\n",
              "      <td>91.0</td>\n",
              "    </tr>\n",
              "  </tbody>\n",
              "</table>\n",
              "</div>"
            ],
            "text/plain": [
              "    Unnamed: 0  ID                              Title  Year  Age  IMDb  \\\n",
              "0            0   1                          Inception  2010  13+   8.8   \n",
              "1            1   2                         The Matrix  1999  18+   8.7   \n",
              "2            2   3             Avengers: Infinity War  2018  13+   8.5   \n",
              "3            3   4                 Back to the Future  1985   7+   8.5   \n",
              "4            4   5     The Good, the Bad and the Ugly  1966  18+   8.8   \n",
              "5            5   6  Spider-Man: Into the Spider-Verse  2018   7+   8.4   \n",
              "6            6   7                        The Pianist  2002  18+   8.5   \n",
              "7            7   8                   Django Unchained  2012  18+   8.4   \n",
              "8            8   9            Raiders of the Lost Ark  1981   7+   8.4   \n",
              "9            9  10               Inglourious Basterds  2009  18+   8.3   \n",
              "10          10  11                        Taxi Driver  1976  18+   8.3   \n",
              "11          11  12                           3 Idiots  2009  13+   8.4   \n",
              "12          12  13                    Pan's Labyrinth  2006  18+   8.2   \n",
              "13          13  14                               Room  2015  18+   8.1   \n",
              "14          14  15    Monty Python and the Holy Grail  1975   7+   8.2   \n",
              "\n",
              "   Rotten Tomatoes  Netflix  Hulu  Prime Video  Disney+  Type  \\\n",
              "0              87%        1     0            0        0     0   \n",
              "1              87%        1     0            0        0     0   \n",
              "2              84%        1     0            0        0     0   \n",
              "3              96%        1     0            0        0     0   \n",
              "4              97%        1     0            1        0     0   \n",
              "5              97%        1     0            0        0     0   \n",
              "6              95%        1     0            1        0     0   \n",
              "7              87%        1     0            0        0     0   \n",
              "8              95%        1     0            0        0     0   \n",
              "9              89%        1     0            0        0     0   \n",
              "10             95%        1     0            0        0     0   \n",
              "11            100%        1     0            1        0     0   \n",
              "12             95%        1     0            0        0     0   \n",
              "13             93%        1     0            0        0     0   \n",
              "14             97%        1     0            0        0     0   \n",
              "\n",
              "                                      Directors  \\\n",
              "0                             Christopher Nolan   \n",
              "1                Lana Wachowski,Lilly Wachowski   \n",
              "2                       Anthony Russo,Joe Russo   \n",
              "3                               Robert Zemeckis   \n",
              "4                                  Sergio Leone   \n",
              "5   Bob Persichetti,Peter Ramsey,Rodney Rothman   \n",
              "6                                Roman Polanski   \n",
              "7                             Quentin Tarantino   \n",
              "8                              Steven Spielberg   \n",
              "9                             Quentin Tarantino   \n",
              "10                              Martin Scorsese   \n",
              "11                              Rajkumar Hirani   \n",
              "12                           Guillermo del Toro   \n",
              "13                             Lenny Abrahamson   \n",
              "14                    Terry Gilliam,Terry Jones   \n",
              "\n",
              "                                      Genres  \\\n",
              "0           Action,Adventure,Sci-Fi,Thriller   \n",
              "1                              Action,Sci-Fi   \n",
              "2                    Action,Adventure,Sci-Fi   \n",
              "3                    Adventure,Comedy,Sci-Fi   \n",
              "4                                    Western   \n",
              "5   Animation,Action,Adventure,Family,Sci-Fi   \n",
              "6                  Biography,Drama,Music,War   \n",
              "7                              Drama,Western   \n",
              "8                           Action,Adventure   \n",
              "9                        Adventure,Drama,War   \n",
              "10                               Crime,Drama   \n",
              "11                              Comedy,Drama   \n",
              "12                         Drama,Fantasy,War   \n",
              "13                            Drama,Thriller   \n",
              "14                  Adventure,Comedy,Fantasy   \n",
              "\n",
              "                                        Country  \\\n",
              "0                  United States,United Kingdom   \n",
              "1                                 United States   \n",
              "2                                 United States   \n",
              "3                                 United States   \n",
              "4                      Italy,Spain,West Germany   \n",
              "5                                 United States   \n",
              "6          United Kingdom,France,Poland,Germany   \n",
              "7                                 United States   \n",
              "8                                 United States   \n",
              "9                         Germany,United States   \n",
              "10                                United States   \n",
              "11                                        India   \n",
              "12                                 Mexico,Spain   \n",
              "13  Ireland,Canada,United Kingdom,United States   \n",
              "14                               United Kingdom   \n",
              "\n",
              "                                       Language  Runtime  \n",
              "0                       English,Japanese,French    148.0  \n",
              "1                                       English    136.0  \n",
              "2                                       English    149.0  \n",
              "3                                       English    116.0  \n",
              "4                                       Italian    161.0  \n",
              "5                               English,Spanish    117.0  \n",
              "6                        English,German,Russian    150.0  \n",
              "7                 English,German,French,Italian    165.0  \n",
              "8   English,German,Hebrew,Spanish,Arabic,Nepali    115.0  \n",
              "9                 English,German,French,Italian    153.0  \n",
              "10                              English,Spanish    114.0  \n",
              "11                                Hindi,English    170.0  \n",
              "12                                      Spanish    118.0  \n",
              "13                                      English    118.0  \n",
              "14                         English,French,Latin     91.0  "
            ]
          },
          "metadata": {
            "tags": []
          },
          "execution_count": 14
        }
      ]
    },
    {
      "cell_type": "markdown",
      "metadata": {
        "id": "pdUWXg6_BnGQ"
      },
      "source": [
        "Menampilkan data yang tidak memiliki baris dan kolom"
      ]
    },
    {
      "cell_type": "code",
      "metadata": {
        "id": "u1ZFJqkeqwLB",
        "colab": {
          "base_uri": "https://localhost:8080/",
          "height": 1000
        },
        "outputId": "1231d7f8-faaf-4766-fcca-dea33503db53"
      },
      "source": [
        "data_inv(df)"
      ],
      "execution_count": null,
      "outputs": [
        {
          "output_type": "stream",
          "text": [
            "No of Rows:  16744\n",
            "No of Coloums:  17\n",
            "**************************************************\n",
            "Colums Names: \n",
            " Index(['Unnamed: 0', 'ID', 'Title', 'Year', 'Age', 'IMDb', 'Rotten Tomatoes',\n",
            "       'Netflix', 'Hulu', 'Prime Video', 'Disney+', 'Type', 'Directors',\n",
            "       'Genres', 'Country', 'Language', 'Runtime'],\n",
            "      dtype='object')\n",
            "**************************************************\n",
            "Datatype of Columns: \n",
            " Unnamed: 0           int64\n",
            "ID                   int64\n",
            "Title               object\n",
            "Year                 int64\n",
            "Age                 object\n",
            "IMDb               float64\n",
            "Rotten Tomatoes     object\n",
            "Netflix              int64\n",
            "Hulu                 int64\n",
            "Prime Video          int64\n",
            "Disney+              int64\n",
            "Type                 int64\n",
            "Directors           object\n",
            "Genres              object\n",
            "Country             object\n",
            "Language            object\n",
            "Runtime            float64\n",
            "dtype: object\n",
            "**************************************************\n",
            "Missing Values: \n",
            "Age                 9390\n",
            "IMDb                 571\n",
            "Rotten Tomatoes    11586\n",
            "Directors            726\n",
            "Genres               275\n",
            "Country              435\n",
            "Language             599\n",
            "Runtime              592\n",
            "dtype: int64\n",
            "**************************************************\n",
            "Missing vaules %age wise:\n",
            "\n",
            "Unnamed: 0          0.000000\n",
            "ID                  0.000000\n",
            "Title               0.000000\n",
            "Year                0.000000\n",
            "Age                56.079790\n",
            "IMDb                3.410177\n",
            "Rotten Tomatoes    69.194935\n",
            "Netflix             0.000000\n",
            "Hulu                0.000000\n",
            "Prime Video         0.000000\n",
            "Disney+             0.000000\n",
            "Type                0.000000\n",
            "Directors           4.335882\n",
            "Genres              1.642379\n",
            "Country             2.597946\n",
            "Language            3.577401\n",
            "Runtime             3.535595\n",
            "dtype: float64\n",
            "**************************************************\n",
            "Pictorial Representation:\n"
          ],
          "name": "stdout"
        },
        {
          "output_type": "display_data",
          "data": {
            "image/png": "[encoded data removed]",
            "text/plain": [
              "<Figure size 576x432 with 1 Axes>"
            ]
          },
          "metadata": {
            "tags": [],
            "needs_background": "light"
          }
        }
      ]
    },
    {
      "cell_type": "markdown",
      "metadata": {
        "id": "F68YDRdRB6Oc"
      },
      "source": [
        "Menghapus data Rotten Tomatoes"
      ]
    },
    {
      "cell_type": "code",
      "metadata": {
        "id": "op6jeydYvYrG"
      },
      "source": [
        "df.drop(['Rotten Tomatoes', 'Age'], axis = 1, inplace=True)"
      ],
      "execution_count": null,
      "outputs": []
    },
    {
      "cell_type": "markdown",
      "metadata": {
        "id": "urq0QHQ_Fg_Z"
      },
      "source": [
        ""
      ]
    },
    {
      "cell_type": "code",
      "metadata": {
        "colab": {
          "base_uri": "https://localhost:8080/",
          "height": 1000
        },
        "id": "8MeaBfV1vdw_",
        "outputId": "22380f0b-5560-4d7b-b636-8d94b781736f"
      },
      "source": [
        "data_inv(df)"
      ],
      "execution_count": null,
      "outputs": [
        {
          "output_type": "stream",
          "text": [
            "No of Rows:  16744\n",
            "No of Coloums:  15\n",
            "**************************************************\n",
            "Colums Names: \n",
            " Index(['Unnamed: 0', 'ID', 'Title', 'Year', 'IMDb', 'Netflix', 'Hulu',\n",
            "       'Prime Video', 'Disney+', 'Type', 'Directors', 'Genres', 'Country',\n",
            "       'Language', 'Runtime'],\n",
            "      dtype='object')\n",
            "**************************************************\n",
            "Datatype of Columns: \n",
            " Unnamed: 0       int64\n",
            "ID               int64\n",
            "Title           object\n",
            "Year             int64\n",
            "IMDb           float64\n",
            "Netflix          int64\n",
            "Hulu             int64\n",
            "Prime Video      int64\n",
            "Disney+          int64\n",
            "Type             int64\n",
            "Directors       object\n",
            "Genres          object\n",
            "Country         object\n",
            "Language        object\n",
            "Runtime        float64\n",
            "dtype: object\n",
            "**************************************************\n",
            "Missing Values: \n",
            "IMDb         571\n",
            "Directors    726\n",
            "Genres       275\n",
            "Country      435\n",
            "Language     599\n",
            "Runtime      592\n",
            "dtype: int64\n",
            "**************************************************\n",
            "Missing vaules %age wise:\n",
            "\n",
            "Unnamed: 0     0.000000\n",
            "ID             0.000000\n",
            "Title          0.000000\n",
            "Year           0.000000\n",
            "IMDb           3.410177\n",
            "Netflix        0.000000\n",
            "Hulu           0.000000\n",
            "Prime Video    0.000000\n",
            "Disney+        0.000000\n",
            "Type           0.000000\n",
            "Directors      4.335882\n",
            "Genres         1.642379\n",
            "Country        2.597946\n",
            "Language       3.577401\n",
            "Runtime        3.535595\n",
            "dtype: float64\n",
            "**************************************************\n",
            "Pictorial Representation:\n"
          ],
          "name": "stdout"
        },
        {
          "output_type": "display_data",
          "data": {
            "image/png": "[encoded data removed]",
            "text/plain": [
              "<Figure size 576x432 with 1 Axes>"
            ]
          },
          "metadata": {
            "tags": [],
            "needs_background": "light"
          }
        }
      ]
    },
    {
      "cell_type": "code",
      "metadata": {
        "id": "Ie44caexvkrF"
      },
      "source": [
        "df.dropna(subset=['IMDb'], inplace=True)"
      ],
      "execution_count": null,
      "outputs": []
    },
    {
      "cell_type": "code",
      "metadata": {
        "colab": {
          "base_uri": "https://localhost:8080/",
          "height": 1000
        },
        "id": "FdjAXVIVvons",
        "outputId": "0de63c0f-0c48-4f92-d795-68cfd8e9d3de"
      },
      "source": [
        "data_inv(df)"
      ],
      "execution_count": null,
      "outputs": [
        {
          "output_type": "stream",
          "text": [
            "No of Rows:  16173\n",
            "No of Coloums:  15\n",
            "**************************************************\n",
            "Colums Names: \n",
            " Index(['Unnamed: 0', 'ID', 'Title', 'Year', 'IMDb', 'Netflix', 'Hulu',\n",
            "       'Prime Video', 'Disney+', 'Type', 'Directors', 'Genres', 'Country',\n",
            "       'Language', 'Runtime'],\n",
            "      dtype='object')\n",
            "**************************************************\n",
            "Datatype of Columns: \n",
            " Unnamed: 0       int64\n",
            "ID               int64\n",
            "Title           object\n",
            "Year             int64\n",
            "IMDb           float64\n",
            "Netflix          int64\n",
            "Hulu             int64\n",
            "Prime Video      int64\n",
            "Disney+          int64\n",
            "Type             int64\n",
            "Directors       object\n",
            "Genres          object\n",
            "Country         object\n",
            "Language        object\n",
            "Runtime        float64\n",
            "dtype: object\n",
            "**************************************************\n",
            "Missing Values: \n",
            "Directors    483\n",
            "Genres       101\n",
            "Country      218\n",
            "Language     372\n",
            "Runtime      354\n",
            "dtype: int64\n",
            "**************************************************\n",
            "Missing vaules %age wise:\n",
            "\n",
            "Unnamed: 0     0.000000\n",
            "ID             0.000000\n",
            "Title          0.000000\n",
            "Year           0.000000\n",
            "IMDb           0.000000\n",
            "Netflix        0.000000\n",
            "Hulu           0.000000\n",
            "Prime Video    0.000000\n",
            "Disney+        0.000000\n",
            "Type           0.000000\n",
            "Directors      2.986459\n",
            "Genres         0.624498\n",
            "Country        1.347926\n",
            "Language       2.300130\n",
            "Runtime        2.188833\n",
            "dtype: float64\n",
            "**************************************************\n",
            "Pictorial Representation:\n"
          ],
          "name": "stdout"
        },
        {
          "output_type": "display_data",
          "data": {
            "image/png": "[encoded data removed]",
            "text/plain": [
              "<Figure size 576x432 with 1 Axes>"
            ]
          },
          "metadata": {
            "tags": [],
            "needs_background": "light"
          }
        }
      ]
    },
    {
      "cell_type": "code",
      "metadata": {
        "colab": {
          "base_uri": "https://localhost:8080/",
          "height": 1000
        },
        "id": "xTQE0JMmwMfN",
        "outputId": "5a94e17f-ac36-417e-9d0a-39afd958e3b5"
      },
      "source": [
        "df.dropna(subset=['Directors', 'Genres', 'Country', 'Language', 'Runtime'],inplace=True)\r\n",
        "data_inv(df)"
      ],
      "execution_count": null,
      "outputs": [
        {
          "output_type": "stream",
          "text": [
            "No of Rows:  15233\n",
            "No of Coloums:  15\n",
            "**************************************************\n",
            "Colums Names: \n",
            " Index(['Unnamed: 0', 'ID', 'Title', 'Year', 'IMDb', 'Netflix', 'Hulu',\n",
            "       'Prime Video', 'Disney+', 'Type', 'Directors', 'Genres', 'Country',\n",
            "       'Language', 'Runtime'],\n",
            "      dtype='object')\n",
            "**************************************************\n",
            "Datatype of Columns: \n",
            " Unnamed: 0       int64\n",
            "ID               int64\n",
            "Title           object\n",
            "Year             int64\n",
            "IMDb           float64\n",
            "Netflix          int64\n",
            "Hulu             int64\n",
            "Prime Video      int64\n",
            "Disney+          int64\n",
            "Type             int64\n",
            "Directors       object\n",
            "Genres          object\n",
            "Country         object\n",
            "Language        object\n",
            "Runtime        float64\n",
            "dtype: object\n",
            "**************************************************\n",
            "Missing Values: \n",
            "Series([], dtype: int64)\n",
            "**************************************************\n",
            "Missing vaules %age wise:\n",
            "\n",
            "Unnamed: 0     0.0\n",
            "ID             0.0\n",
            "Title          0.0\n",
            "Year           0.0\n",
            "IMDb           0.0\n",
            "Netflix        0.0\n",
            "Hulu           0.0\n",
            "Prime Video    0.0\n",
            "Disney+        0.0\n",
            "Type           0.0\n",
            "Directors      0.0\n",
            "Genres         0.0\n",
            "Country        0.0\n",
            "Language       0.0\n",
            "Runtime        0.0\n",
            "dtype: float64\n",
            "**************************************************\n",
            "Pictorial Representation:\n"
          ],
          "name": "stdout"
        },
        {
          "output_type": "display_data",
          "data": {
            "image/png": "[encoded data removed]",
            "text/plain": [
              "<Figure size 576x432 with 1 Axes>"
            ]
          },
          "metadata": {
            "tags": [],
            "needs_background": "light"
          }
        }
      ]
    },
    {
      "cell_type": "markdown",
      "metadata": {
        "id": "Id6SXG0vIKl-"
      },
      "source": [
        "Data yang dihasilkan 0"
      ]
    },
    {
      "cell_type": "markdown",
      "metadata": {
        "id": "2uwlVecbCRwV"
      },
      "source": [
        "**EVALUASI DATA**"
      ]
    },
    {
      "cell_type": "code",
      "metadata": {
        "colab": {
          "base_uri": "https://localhost:8080/",
          "height": 428
        },
        "id": "n3x2HdmOwsAd",
        "outputId": "905491a0-c9d5-4dd5-a302-32056493bf03"
      },
      "source": [
        "df.head()"
      ],
      "execution_count": null,
      "outputs": [
        {
          "output_type": "execute_result",
          "data": {
            "text/html": [
              "<div>\n",
              "<style scoped>\n",
              "    .dataframe tbody tr th:only-of-type {\n",
              "        vertical-align: middle;\n",
              "    }\n",
              "\n",
              "    .dataframe tbody tr th {\n",
              "        vertical-align: top;\n",
              "    }\n",
              "\n",
              "    .dataframe thead th {\n",
              "        text-align: right;\n",
              "    }\n",
              "</style>\n",
              "<table border=\"1\" class=\"dataframe\">\n",
              "  <thead>\n",
              "    <tr style=\"text-align: right;\">\n",
              "      <th></th>\n",
              "      <th>Unnamed: 0</th>\n",
              "      <th>ID</th>\n",
              "      <th>Title</th>\n",
              "      <th>Year</th>\n",
              "      <th>IMDb</th>\n",
              "      <th>Netflix</th>\n",
              "      <th>Hulu</th>\n",
              "      <th>Prime Video</th>\n",
              "      <th>Disney+</th>\n",
              "      <th>Type</th>\n",
              "      <th>Directors</th>\n",
              "      <th>Genres</th>\n",
              "      <th>Country</th>\n",
              "      <th>Language</th>\n",
              "      <th>Runtime</th>\n",
              "    </tr>\n",
              "  </thead>\n",
              "  <tbody>\n",
              "    <tr>\n",
              "      <th>0</th>\n",
              "      <td>0</td>\n",
              "      <td>1</td>\n",
              "      <td>Inception</td>\n",
              "      <td>2010</td>\n",
              "      <td>8.8</td>\n",
              "      <td>1</td>\n",
              "      <td>0</td>\n",
              "      <td>0</td>\n",
              "      <td>0</td>\n",
              "      <td>0</td>\n",
              "      <td>Christopher Nolan</td>\n",
              "      <td>Action,Adventure,Sci-Fi,Thriller</td>\n",
              "      <td>United States,United Kingdom</td>\n",
              "      <td>English,Japanese,French</td>\n",
              "      <td>148.0</td>\n",
              "    </tr>\n",
              "    <tr>\n",
              "      <th>1</th>\n",
              "      <td>1</td>\n",
              "      <td>2</td>\n",
              "      <td>The Matrix</td>\n",
              "      <td>1999</td>\n",
              "      <td>8.7</td>\n",
              "      <td>1</td>\n",
              "      <td>0</td>\n",
              "      <td>0</td>\n",
              "      <td>0</td>\n",
              "      <td>0</td>\n",
              "      <td>Lana Wachowski,Lilly Wachowski</td>\n",
              "      <td>Action,Sci-Fi</td>\n",
              "      <td>United States</td>\n",
              "      <td>English</td>\n",
              "      <td>136.0</td>\n",
              "    </tr>\n",
              "    <tr>\n",
              "      <th>2</th>\n",
              "      <td>2</td>\n",
              "      <td>3</td>\n",
              "      <td>Avengers: Infinity War</td>\n",
              "      <td>2018</td>\n",
              "      <td>8.5</td>\n",
              "      <td>1</td>\n",
              "      <td>0</td>\n",
              "      <td>0</td>\n",
              "      <td>0</td>\n",
              "      <td>0</td>\n",
              "      <td>Anthony Russo,Joe Russo</td>\n",
              "      <td>Action,Adventure,Sci-Fi</td>\n",
              "      <td>United States</td>\n",
              "      <td>English</td>\n",
              "      <td>149.0</td>\n",
              "    </tr>\n",
              "    <tr>\n",
              "      <th>3</th>\n",
              "      <td>3</td>\n",
              "      <td>4</td>\n",
              "      <td>Back to the Future</td>\n",
              "      <td>1985</td>\n",
              "      <td>8.5</td>\n",
              "      <td>1</td>\n",
              "      <td>0</td>\n",
              "      <td>0</td>\n",
              "      <td>0</td>\n",
              "      <td>0</td>\n",
              "      <td>Robert Zemeckis</td>\n",
              "      <td>Adventure,Comedy,Sci-Fi</td>\n",
              "      <td>United States</td>\n",
              "      <td>English</td>\n",
              "      <td>116.0</td>\n",
              "    </tr>\n",
              "    <tr>\n",
              "      <th>4</th>\n",
              "      <td>4</td>\n",
              "      <td>5</td>\n",
              "      <td>The Good, the Bad and the Ugly</td>\n",
              "      <td>1966</td>\n",
              "      <td>8.8</td>\n",
              "      <td>1</td>\n",
              "      <td>0</td>\n",
              "      <td>1</td>\n",
              "      <td>0</td>\n",
              "      <td>0</td>\n",
              "      <td>Sergio Leone</td>\n",
              "      <td>Western</td>\n",
              "      <td>Italy,Spain,West Germany</td>\n",
              "      <td>Italian</td>\n",
              "      <td>161.0</td>\n",
              "    </tr>\n",
              "  </tbody>\n",
              "</table>\n",
              "</div>"
            ],
            "text/plain": [
              "   Unnamed: 0  ID                           Title  Year  IMDb  Netflix  Hulu  \\\n",
              "0           0   1                       Inception  2010   8.8        1     0   \n",
              "1           1   2                      The Matrix  1999   8.7        1     0   \n",
              "2           2   3          Avengers: Infinity War  2018   8.5        1     0   \n",
              "3           3   4              Back to the Future  1985   8.5        1     0   \n",
              "4           4   5  The Good, the Bad and the Ugly  1966   8.8        1     0   \n",
              "\n",
              "   Prime Video  Disney+  Type                       Directors  \\\n",
              "0            0        0     0               Christopher Nolan   \n",
              "1            0        0     0  Lana Wachowski,Lilly Wachowski   \n",
              "2            0        0     0         Anthony Russo,Joe Russo   \n",
              "3            0        0     0                 Robert Zemeckis   \n",
              "4            1        0     0                    Sergio Leone   \n",
              "\n",
              "                             Genres                       Country  \\\n",
              "0  Action,Adventure,Sci-Fi,Thriller  United States,United Kingdom   \n",
              "1                     Action,Sci-Fi                 United States   \n",
              "2           Action,Adventure,Sci-Fi                 United States   \n",
              "3           Adventure,Comedy,Sci-Fi                 United States   \n",
              "4                           Western      Italy,Spain,West Germany   \n",
              "\n",
              "                  Language  Runtime  \n",
              "0  English,Japanese,French    148.0  \n",
              "1                  English    136.0  \n",
              "2                  English    149.0  \n",
              "3                  English    116.0  \n",
              "4                  Italian    161.0  "
            ]
          },
          "metadata": {
            "tags": []
          },
          "execution_count": 21
        }
      ]
    },
    {
      "cell_type": "code",
      "metadata": {
        "colab": {
          "base_uri": "https://localhost:8080/"
        },
        "id": "5f3p_tWpwziu",
        "outputId": "5aac0df1-6039-4a09-9faa-02443449c5aa"
      },
      "source": [
        "df.shape"
      ],
      "execution_count": null,
      "outputs": [
        {
          "output_type": "execute_result",
          "data": {
            "text/plain": [
              "(15233, 15)"
            ]
          },
          "metadata": {
            "tags": []
          },
          "execution_count": 22
        }
      ]
    },
    {
      "cell_type": "markdown",
      "metadata": {
        "id": "5eHGLjrrCmcq"
      },
      "source": [
        "Melakukan cek data yang memiliki duplikat"
      ]
    },
    {
      "cell_type": "code",
      "metadata": {
        "id": "c4FtU0Xzw2vf"
      },
      "source": [
        "#checking for any duplicate data\r\n",
        "df.drop_duplicates(inplace=True)"
      ],
      "execution_count": null,
      "outputs": []
    },
    {
      "cell_type": "markdown",
      "metadata": {
        "id": "lc3dqjH4CsTQ"
      },
      "source": [
        "Melakukan pengecekan kolom yang unik atau berbeda"
      ]
    },
    {
      "cell_type": "code",
      "metadata": {
        "colab": {
          "base_uri": "https://localhost:8080/"
        },
        "id": "qfpriFD9w5M6",
        "outputId": "415f288f-f3db-4368-8f54-04953976d631"
      },
      "source": [
        "#lets check out the unique values in first Column\r\n",
        "df['Title'].value_counts()"
      ],
      "execution_count": null,
      "outputs": [
        {
          "output_type": "execute_result",
          "data": {
            "text/plain": [
              "The Invincible Armour                       1\n",
              "Finding Nemo                                1\n",
              "You Changed My Life                         1\n",
              "Old Enough                                  1\n",
              "The Return of Rin Tin Tin                   1\n",
              "                                           ..\n",
              "Fear and Desire                             1\n",
              "Anthropoid                                  1\n",
              "Love Laughs at Andy Hardy                   1\n",
              "Katt Williams: The Pimp Chronicles Pt. 1    1\n",
              "When Love Happens                           1\n",
              "Name: Title, Length: 15233, dtype: int64"
            ]
          },
          "metadata": {
            "tags": []
          },
          "execution_count": 24
        }
      ]
    },
    {
      "cell_type": "markdown",
      "metadata": {
        "id": "_g9VfVS0C1Qh"
      },
      "source": [
        "Tittlesnya bagus & unik"
      ]
    },
    {
      "cell_type": "code",
      "metadata": {
        "colab": {
          "base_uri": "https://localhost:8080/"
        },
        "id": "t3eLP59nxkDX",
        "outputId": "1d183ddb-8dde-4eb6-a138-982145af125c"
      },
      "source": [
        "print('Minimum IMDb rating: ', df['IMDb'].min())\r\n",
        "print('Maximum IMDb rating: ', df['IMDb'].max())"
      ],
      "execution_count": null,
      "outputs": [
        {
          "output_type": "stream",
          "text": [
            "Minimum IMDb rating:  0.0\n",
            "Maximum IMDb rating:  9.3\n"
          ],
          "name": "stdout"
        }
      ]
    },
    {
      "cell_type": "markdown",
      "metadata": {
        "id": "uiin8s5JC5_O"
      },
      "source": [
        "Melakukan pengecekan tahun"
      ]
    },
    {
      "cell_type": "code",
      "metadata": {
        "id": "8pQc_6kwyWAU",
        "colab": {
          "base_uri": "https://localhost:8080/",
          "height": 395
        },
        "outputId": "61aec2c5-bee4-4654-c9aa-e8e998ef1179"
      },
      "source": [
        "#checking years\r\n",
        "plt.figure(figsize=(10,10))\r\n",
        "sns.distplot(df['Year'])\r\n",
        "plt.show()"
      ],
      "execution_count": null,
      "outputs": [
        {
          "output_type": "stream",
          "text": [
            "/usr/local/lib/python3.6/dist-packages/seaborn/distributions.py:2551: FutureWarning: `distplot` is a deprecated function and will be removed in a future version. Please adapt your code to use either `displot` (a figure-level function with similar flexibility) or `histplot` (an axes-level function for histograms).\n",
            "  warnings.warn(msg, FutureWarning)\n"
          ],
          "name": "stderr"
        },
        {
          "output_type": "display_data",
          "data": {
            "image/png": "[encoded data removed]",
            "text/plain": [
              "<Figure size 720x720 with 1 Axes>"
            ]
          },
          "metadata": {
            "tags": [],
            "needs_background": "light"
          }
        }
      ]
    },
    {
      "cell_type": "markdown",
      "metadata": {
        "id": "HORag-PZDBMO"
      },
      "source": [
        "Memasukkan method fungsi"
      ]
    },
    {
      "cell_type": "code",
      "metadata": {
        "id": "weBn7sCqy6Q_"
      },
      "source": [
        "def movies_count (platform, count=False):\r\n",
        "    if count==False:\r\n",
        "        print('Movies in {} are {}'. format(platform, df[platform].sum()))\r\n",
        "    else:\r\n",
        "        return df[platform].sum()"
      ],
      "execution_count": null,
      "outputs": []
    },
    {
      "cell_type": "code",
      "metadata": {
        "colab": {
          "base_uri": "https://localhost:8080/"
        },
        "id": "W9JtMvRty8ih",
        "outputId": "2177e4f5-5c81-4bdf-fd35-54d745a8852b"
      },
      "source": [
        "df['IMDb']"
      ],
      "execution_count": null,
      "outputs": [
        {
          "output_type": "execute_result",
          "data": {
            "text/plain": [
              "0        8.8\n",
              "1        8.7\n",
              "2        8.5\n",
              "3        8.5\n",
              "4        8.8\n",
              "        ... \n",
              "16734    5.9\n",
              "16737    6.2\n",
              "16738    5.0\n",
              "16739    6.2\n",
              "16740    4.7\n",
              "Name: IMDb, Length: 15233, dtype: float64"
            ]
          },
          "metadata": {
            "tags": []
          },
          "execution_count": 28
        }
      ]
    },
    {
      "cell_type": "markdown",
      "metadata": {
        "id": "aeQXfsLKDNGP"
      },
      "source": [
        "Menampilkan Histogram Movies"
      ]
    },
    {
      "cell_type": "code",
      "metadata": {
        "colab": {
          "base_uri": "https://localhost:8080/",
          "height": 395
        },
        "id": "-QhG0AJDzAJ5",
        "outputId": "4d5c50e4-b80f-4957-c306-5d8148dbbc8b"
      },
      "source": [
        "plt.figure(figsize=(10,10))\r\n",
        "sns.distplot(df['IMDb'])\r\n",
        "#plt.hist(movies['IMDb'])\r\n",
        "plt.show()"
      ],
      "execution_count": null,
      "outputs": [
        {
          "output_type": "stream",
          "text": [
            "/usr/local/lib/python3.6/dist-packages/seaborn/distributions.py:2551: FutureWarning: `distplot` is a deprecated function and will be removed in a future version. Please adapt your code to use either `displot` (a figure-level function with similar flexibility) or `histplot` (an axes-level function for histograms).\n",
            "  warnings.warn(msg, FutureWarning)\n"
          ],
          "name": "stderr"
        },
        {
          "output_type": "display_data",
          "data": {
            "image/png": "[encoded data removed]",
            "text/plain": [
              "<Figure size 720x720 with 1 Axes>"
            ]
          },
          "metadata": {
            "tags": [],
            "needs_background": "light"
          }
        }
      ]
    },
    {
      "cell_type": "markdown",
      "metadata": {
        "id": "3qRIyYreDPuC"
      },
      "source": [
        "Menampilkan rating terendah dan tertinggi dari IMDb"
      ]
    },
    {
      "cell_type": "code",
      "metadata": {
        "colab": {
          "base_uri": "https://localhost:8080/"
        },
        "id": "b1EXWDkNzJ-2",
        "outputId": "d096c53c-c37f-430c-ecd5-60f347803d5e"
      },
      "source": [
        "print('Minimum IMDb rating: ', df['IMDb'].min())\r\n",
        "print('Maximum IMDb rating: ', df['IMDb'].max())"
      ],
      "execution_count": null,
      "outputs": [
        {
          "output_type": "stream",
          "text": [
            "Minimum IMDb rating:  0.0\n",
            "Maximum IMDb rating:  9.3\n"
          ],
          "name": "stdout"
        }
      ]
    },
    {
      "cell_type": "markdown",
      "metadata": {
        "id": "BybZWkWIDazG"
      },
      "source": [
        "Menghitung Jumlah film di masing masing platform"
      ]
    },
    {
      "cell_type": "code",
      "metadata": {
        "colab": {
          "base_uri": "https://localhost:8080/"
        },
        "id": "i3U96tRVzNqw",
        "outputId": "8c7f4d19-4414-41e2-e11f-1feed503c071"
      },
      "source": [
        "movies_count('Netflix')\r\n",
        "movies_count('Hulu')\r\n",
        "movies_count('Prime Video')\r\n",
        "movies_count('Disney+')"
      ],
      "execution_count": null,
      "outputs": [
        {
          "output_type": "stream",
          "text": [
            "Movies in Netflix are 3152\n",
            "Movies in Hulu are 848\n",
            "Movies in Prime Video are 11289\n",
            "Movies in Disney+ are 542\n"
          ],
          "name": "stdout"
        }
      ]
    },
    {
      "cell_type": "markdown",
      "metadata": {
        "id": "AeOxS3LkDglA"
      },
      "source": [
        "Gambaran grafik dari masing-masing platform film"
      ]
    },
    {
      "cell_type": "code",
      "metadata": {
        "colab": {
          "base_uri": "https://localhost:8080/",
          "height": 249
        },
        "id": "OxEwt9AYzRdt",
        "outputId": "c34f7fd2-0725-460d-b035-aa3ba74b2483"
      },
      "source": [
        "#Movies per platform\r\n",
        "labels = 'Netflix', 'Hulu', 'Prime Video', 'Disney'\r\n",
        "size = [movies_count('Netflix', count=True), \r\n",
        "        movies_count('Hulu', count=True),\r\n",
        "        movies_count('Prime Video', count=True),\r\n",
        "        movies_count('Disney+', count=True)]\r\n",
        "\r\n",
        "explode = (0.1, 0.1, 0.1, 0.1)\r\n",
        "\r\n",
        "#plotting\r\n",
        "fig1, ax1 = plt.subplots()\r\n",
        "\r\n",
        "ax1.pie(size,\r\n",
        "       labels = labels,\r\n",
        "       autopct = '%1.1f%%',\r\n",
        "       explode = explode,\r\n",
        "       shadow = True,\r\n",
        "       startangle = 100)\r\n",
        "\r\n",
        "ax1.axis = ('equal')\r\n",
        "plt.show()\r\n"
      ],
      "execution_count": null,
      "outputs": [
        {
          "output_type": "display_data",
          "data": {
            "image/png": "[encoded data removed]",
            "text/plain": [
              "<Figure size 432x288 with 1 Axes>"
            ]
          },
          "metadata": {
            "tags": []
          }
        }
      ]
    },
    {
      "cell_type": "markdown",
      "metadata": {
        "id": "luJqrmVIDq86"
      },
      "source": [
        "Jadi, Prime Vides menampung jumlah maksimum judul, tetapi perlu dicatat bahwa pada jumlah tambahan (3152+ 848 + 11289 + 542), maka didapatkan 15831, yang berarti ada 598 film yang hadir di lebih dari satu platform"
      ]
    },
    {
      "cell_type": "markdown",
      "metadata": {
        "id": "9_cH03I7D2ne"
      },
      "source": [
        "Kolom Type memiliki nilai 0"
      ]
    },
    {
      "cell_type": "code",
      "metadata": {
        "colab": {
          "base_uri": "https://localhost:8080/"
        },
        "id": "0VxFJozVzUUE",
        "outputId": "20d4e2da-f14c-4515-e5c7-22c6ffb6ceed"
      },
      "source": [
        "df['Type'].value_counts()"
      ],
      "execution_count": null,
      "outputs": [
        {
          "output_type": "execute_result",
          "data": {
            "text/plain": [
              "0    15233\n",
              "Name: Type, dtype: int64"
            ]
          },
          "metadata": {
            "tags": []
          },
          "execution_count": 33
        }
      ]
    },
    {
      "cell_type": "markdown",
      "metadata": {
        "id": "O2Hjoh4aD9OL"
      },
      "source": [
        "Menghapus kolom type"
      ]
    },
    {
      "cell_type": "code",
      "metadata": {
        "id": "qoAh4x0qzWRf",
        "colab": {
          "base_uri": "https://localhost:8080/"
        },
        "outputId": "db7ed484-d298-44d1-fe25-04e682e7ec4a"
      },
      "source": [
        "df.drop('Type', inplace=True, axis =1)\r\n",
        "df.shape"
      ],
      "execution_count": null,
      "outputs": [
        {
          "output_type": "execute_result",
          "data": {
            "text/plain": [
              "(15233, 14)"
            ]
          },
          "metadata": {
            "tags": []
          },
          "execution_count": 34
        }
      ]
    },
    {
      "cell_type": "markdown",
      "metadata": {
        "id": "nCbgn-CbEQ0Y"
      },
      "source": [
        "Menghitung kolom direktor"
      ]
    },
    {
      "cell_type": "code",
      "metadata": {
        "id": "ISulDSdUzYie",
        "colab": {
          "base_uri": "https://localhost:8080/"
        },
        "outputId": "4da38bec-f554-40c4-f4fc-b0c836bf7e32"
      },
      "source": [
        "df['Directors'].value_counts()"
      ],
      "execution_count": null,
      "outputs": [
        {
          "output_type": "execute_result",
          "data": {
            "text/plain": [
              "Jay Chapman                       35\n",
              "Joseph Kane                       30\n",
              "Cheh Chang                        26\n",
              "Jim Wynorski                      22\n",
              "Sam Newfield                      22\n",
              "                                  ..\n",
              "Gabriele Muccino                   1\n",
              "Keefe Brasselle,I. Robert Levy     1\n",
              "Darin Beckstead                    1\n",
              "Brad Watson                        1\n",
              "Bryan Law                          1\n",
              "Name: Directors, Length: 10788, dtype: int64"
            ]
          },
          "metadata": {
            "tags": []
          },
          "execution_count": 35
        }
      ]
    },
    {
      "cell_type": "markdown",
      "metadata": {
        "id": "8ZBvlHD4EU6v"
      },
      "source": [
        "Memberikan method"
      ]
    },
    {
      "cell_type": "code",
      "metadata": {
        "id": "aRS1W9r9za0S"
      },
      "source": [
        "s = df['Directors'].str.split(',').apply(Series, 1).stack()\r\n",
        "s.index = s.index.droplevel(-1)\r\n",
        "s.name = 'Directors'\r\n",
        "del df['Directors']\r\n",
        "df_directors = df.join(s)"
      ],
      "execution_count": null,
      "outputs": []
    },
    {
      "cell_type": "markdown",
      "metadata": {
        "id": "xtT1HBo3EmmH"
      },
      "source": [
        "Menampilkan Grafik tertinggi dilihat dari direktur masing-masing platform film"
      ]
    },
    {
      "cell_type": "code",
      "metadata": {
        "colab": {
          "base_uri": "https://localhost:8080/",
          "height": 392
        },
        "id": "uTsfR0IzzfYV",
        "outputId": "9330bbe1-394d-443f-e969-5c7a7f16b6a8"
      },
      "source": [
        "data = df_directors['Directors'].value_counts()\r\n",
        "threshold = 10\r\n",
        "prob = data > threshold\r\n",
        "data_new = data.loc[prob]\r\n",
        "\r\n",
        "plt.figure(figsize=(10,10))\r\n",
        "data_new.plot(kind='bar')\r\n",
        "plt.show()"
      ],
      "execution_count": null,
      "outputs": [
        {
          "output_type": "display_data",
          "data": {
            "image/png": "[encoded data removed]",
            "text/plain": [
              "<Figure size 720x720 with 1 Axes>"
            ]
          },
          "metadata": {
            "tags": [],
            "needs_background": "light"
          }
        }
      ]
    },
    {
      "cell_type": "markdown",
      "metadata": {
        "id": "2uRWhuqsGWns"
      },
      "source": [
        "Memasukkan method"
      ]
    },
    {
      "cell_type": "code",
      "metadata": {
        "id": "hXlxfVT-zjGb"
      },
      "source": [
        "s = df['Genres'].str.split(',').apply(Series, 1).stack()\r\n",
        "s.index = s.index.droplevel(-1)\r\n",
        "s.name = 'Genres'\r\n",
        "del df['Genres']\r\n",
        "df_genres = df.join(s)"
      ],
      "execution_count": null,
      "outputs": []
    },
    {
      "cell_type": "markdown",
      "metadata": {
        "id": "I_GsILMZGgY0"
      },
      "source": [
        "Menampilkan data berdasarkan genres"
      ]
    },
    {
      "cell_type": "code",
      "metadata": {
        "colab": {
          "base_uri": "https://localhost:8080/",
          "height": 394
        },
        "id": "DIFI4LPxznru",
        "outputId": "c90e211c-86e2-4ede-e09a-4629177092db"
      },
      "source": [
        "df_genres.head()"
      ],
      "execution_count": null,
      "outputs": [
        {
          "output_type": "execute_result",
          "data": {
            "text/html": [
              "<div>\n",
              "<style scoped>\n",
              "    .dataframe tbody tr th:only-of-type {\n",
              "        vertical-align: middle;\n",
              "    }\n",
              "\n",
              "    .dataframe tbody tr th {\n",
              "        vertical-align: top;\n",
              "    }\n",
              "\n",
              "    .dataframe thead th {\n",
              "        text-align: right;\n",
              "    }\n",
              "</style>\n",
              "<table border=\"1\" class=\"dataframe\">\n",
              "  <thead>\n",
              "    <tr style=\"text-align: right;\">\n",
              "      <th></th>\n",
              "      <th>Unnamed: 0</th>\n",
              "      <th>ID</th>\n",
              "      <th>Title</th>\n",
              "      <th>Year</th>\n",
              "      <th>IMDb</th>\n",
              "      <th>Netflix</th>\n",
              "      <th>Hulu</th>\n",
              "      <th>Prime Video</th>\n",
              "      <th>Disney+</th>\n",
              "      <th>Country</th>\n",
              "      <th>Language</th>\n",
              "      <th>Runtime</th>\n",
              "      <th>Genres</th>\n",
              "    </tr>\n",
              "  </thead>\n",
              "  <tbody>\n",
              "    <tr>\n",
              "      <th>0</th>\n",
              "      <td>0</td>\n",
              "      <td>1</td>\n",
              "      <td>Inception</td>\n",
              "      <td>2010</td>\n",
              "      <td>8.8</td>\n",
              "      <td>1</td>\n",
              "      <td>0</td>\n",
              "      <td>0</td>\n",
              "      <td>0</td>\n",
              "      <td>United States,United Kingdom</td>\n",
              "      <td>English,Japanese,French</td>\n",
              "      <td>148.0</td>\n",
              "      <td>Action</td>\n",
              "    </tr>\n",
              "    <tr>\n",
              "      <th>0</th>\n",
              "      <td>0</td>\n",
              "      <td>1</td>\n",
              "      <td>Inception</td>\n",
              "      <td>2010</td>\n",
              "      <td>8.8</td>\n",
              "      <td>1</td>\n",
              "      <td>0</td>\n",
              "      <td>0</td>\n",
              "      <td>0</td>\n",
              "      <td>United States,United Kingdom</td>\n",
              "      <td>English,Japanese,French</td>\n",
              "      <td>148.0</td>\n",
              "      <td>Adventure</td>\n",
              "    </tr>\n",
              "    <tr>\n",
              "      <th>0</th>\n",
              "      <td>0</td>\n",
              "      <td>1</td>\n",
              "      <td>Inception</td>\n",
              "      <td>2010</td>\n",
              "      <td>8.8</td>\n",
              "      <td>1</td>\n",
              "      <td>0</td>\n",
              "      <td>0</td>\n",
              "      <td>0</td>\n",
              "      <td>United States,United Kingdom</td>\n",
              "      <td>English,Japanese,French</td>\n",
              "      <td>148.0</td>\n",
              "      <td>Sci-Fi</td>\n",
              "    </tr>\n",
              "    <tr>\n",
              "      <th>0</th>\n",
              "      <td>0</td>\n",
              "      <td>1</td>\n",
              "      <td>Inception</td>\n",
              "      <td>2010</td>\n",
              "      <td>8.8</td>\n",
              "      <td>1</td>\n",
              "      <td>0</td>\n",
              "      <td>0</td>\n",
              "      <td>0</td>\n",
              "      <td>United States,United Kingdom</td>\n",
              "      <td>English,Japanese,French</td>\n",
              "      <td>148.0</td>\n",
              "      <td>Thriller</td>\n",
              "    </tr>\n",
              "    <tr>\n",
              "      <th>1</th>\n",
              "      <td>1</td>\n",
              "      <td>2</td>\n",
              "      <td>The Matrix</td>\n",
              "      <td>1999</td>\n",
              "      <td>8.7</td>\n",
              "      <td>1</td>\n",
              "      <td>0</td>\n",
              "      <td>0</td>\n",
              "      <td>0</td>\n",
              "      <td>United States</td>\n",
              "      <td>English</td>\n",
              "      <td>136.0</td>\n",
              "      <td>Action</td>\n",
              "    </tr>\n",
              "  </tbody>\n",
              "</table>\n",
              "</div>"
            ],
            "text/plain": [
              "   Unnamed: 0  ID       Title  Year  IMDb  Netflix  Hulu  Prime Video  \\\n",
              "0           0   1   Inception  2010   8.8        1     0            0   \n",
              "0           0   1   Inception  2010   8.8        1     0            0   \n",
              "0           0   1   Inception  2010   8.8        1     0            0   \n",
              "0           0   1   Inception  2010   8.8        1     0            0   \n",
              "1           1   2  The Matrix  1999   8.7        1     0            0   \n",
              "\n",
              "   Disney+                       Country                 Language  Runtime  \\\n",
              "0        0  United States,United Kingdom  English,Japanese,French    148.0   \n",
              "0        0  United States,United Kingdom  English,Japanese,French    148.0   \n",
              "0        0  United States,United Kingdom  English,Japanese,French    148.0   \n",
              "0        0  United States,United Kingdom  English,Japanese,French    148.0   \n",
              "1        0                 United States                  English    136.0   \n",
              "\n",
              "      Genres  \n",
              "0     Action  \n",
              "0  Adventure  \n",
              "0     Sci-Fi  \n",
              "0   Thriller  \n",
              "1     Action  "
            ]
          },
          "metadata": {
            "tags": []
          },
          "execution_count": 39
        }
      ]
    },
    {
      "cell_type": "markdown",
      "metadata": {
        "id": "Nv00SYKPGjzc"
      },
      "source": [
        "Menampilkan Jumlah dari genres terbanyak dari data-data lainnya"
      ]
    },
    {
      "cell_type": "code",
      "metadata": {
        "colab": {
          "base_uri": "https://localhost:8080/",
          "height": 369
        },
        "id": "IKBVJB2fzpnW",
        "outputId": "829a3029-dde7-479e-b3c7-6407eea6cd42"
      },
      "source": [
        "plt.figure(figsize=(10,10))\r\n",
        "sns.countplot(x='Genres', data=df_genres)\r\n",
        "plt.xticks(rotation=90)\r\n",
        "plt.show()"
      ],
      "execution_count": null,
      "outputs": [
        {
          "output_type": "display_data",
          "data": {
            "image/png": "[encoded data removed]",
            "text/plain": [
              "<Figure size 720x720 with 1 Axes>"
            ]
          },
          "metadata": {
            "tags": [],
            "needs_background": "light"
          }
        }
      ]
    },
    {
      "cell_type": "markdown",
      "metadata": {
        "id": "U37Zeu3oGqyd"
      },
      "source": [
        "Memasukkan method"
      ]
    },
    {
      "cell_type": "code",
      "metadata": {
        "id": "xwDHmG_AzsaH"
      },
      "source": [
        "s = df['Country'].str.split(',').apply(Series, 1).stack()\r\n",
        "s.index = s.index.droplevel(-1)\r\n",
        "s.name = 'Country'\r\n",
        "del df['Country']\r\n",
        "df_country = df.join(s)"
      ],
      "execution_count": null,
      "outputs": []
    },
    {
      "cell_type": "markdown",
      "metadata": {
        "id": "_txC0sBrGtA6"
      },
      "source": [
        "Menampilkan data Country terbanyak"
      ]
    },
    {
      "cell_type": "code",
      "metadata": {
        "colab": {
          "base_uri": "https://localhost:8080/",
          "height": 294
        },
        "id": "Z635hGUWzzgD",
        "outputId": "053fe71f-4266-482b-c1c4-0d033beeb227"
      },
      "source": [
        "df_country['Country'].value_counts()[:10].plot(kind='bar')\r\n",
        "plt.show()"
      ],
      "execution_count": null,
      "outputs": [
        {
          "output_type": "display_data",
          "data": {
            "image/png": "[encoded data removed]",
            "text/plain": [
              "<Figure size 432x288 with 1 Axes>"
            ]
          },
          "metadata": {
            "tags": [],
            "needs_background": "light"
          }
        }
      ]
    },
    {
      "cell_type": "markdown",
      "metadata": {
        "id": "JcoXzps2G1dU"
      },
      "source": [
        "Memasukkan method"
      ]
    },
    {
      "cell_type": "code",
      "metadata": {
        "id": "YrcSVpGAz3Kc"
      },
      "source": [
        "s = df['Language'].str.split(',').apply(Series,1).stack()\r\n",
        "s.index = s.index.droplevel(-1)\r\n",
        "s.name = 'Language'\r\n",
        "del df['Language']\r\n",
        "df_language = df.join(s)"
      ],
      "execution_count": null,
      "outputs": []
    },
    {
      "cell_type": "markdown",
      "metadata": {
        "id": "O9Hc6SbWG4L1"
      },
      "source": [
        "Menampilkan jumlah language terbanyak dari data-data lainnya"
      ]
    },
    {
      "cell_type": "code",
      "metadata": {
        "colab": {
          "base_uri": "https://localhost:8080/",
          "height": 221
        },
        "id": "BG42AedLz_hb",
        "outputId": "1236d9b3-9b22-4042-b669-70987f69a2ca"
      },
      "source": [
        "df_language['Language'].value_counts()[:10].plot(kind='barh')\r\n",
        "plt.show()"
      ],
      "execution_count": null,
      "outputs": [
        {
          "output_type": "display_data",
          "data": {
            "image/png": "[encoded data removed]",
            "text/plain": [
              "<Figure size 432x288 with 1 Axes>"
            ]
          },
          "metadata": {
            "tags": [],
            "needs_background": "light"
          }
        }
      ]
    },
    {
      "cell_type": "markdown",
      "metadata": {
        "id": "oRlHvivXG-62"
      },
      "source": [
        "Menampilkan jumlah penayangan tertinggi"
      ]
    },
    {
      "cell_type": "code",
      "metadata": {
        "colab": {
          "base_uri": "https://localhost:8080/",
          "height": 292
        },
        "id": "_5tJQ8mj0B2T",
        "outputId": "cd9a8374-e1e9-4e40-ee0c-c2711e03e2f2"
      },
      "source": [
        "sns.distplot(df['Runtime'])\r\n",
        "plt.show()"
      ],
      "execution_count": null,
      "outputs": [
        {
          "output_type": "stream",
          "text": [
            "/usr/local/lib/python3.6/dist-packages/seaborn/distributions.py:2551: FutureWarning: `distplot` is a deprecated function and will be removed in a future version. Please adapt your code to use either `displot` (a figure-level function with similar flexibility) or `histplot` (an axes-level function for histograms).\n",
            "  warnings.warn(msg, FutureWarning)\n"
          ],
          "name": "stderr"
        },
        {
          "output_type": "display_data",
          "data": {
            "image/png": "[encoded data removed]",
            "text/plain": [
              "<Figure size 432x288 with 1 Axes>"
            ]
          },
          "metadata": {
            "tags": [],
            "needs_background": "light"
          }
        }
      ]
    },
    {
      "cell_type": "markdown",
      "metadata": {
        "id": "jgw_hCQLHDc5"
      },
      "source": [
        "Menampilkan judul film dengan jumlah runtime terbanyak"
      ]
    },
    {
      "cell_type": "code",
      "metadata": {
        "colab": {
          "base_uri": "https://localhost:8080/",
          "height": 151
        },
        "id": "ar0ziM4p0Fch",
        "outputId": "e63f8343-67d9-4a87-bf91-36007ddbd11e"
      },
      "source": [
        "filter =( df['Runtime'] == (df['Runtime'].max()))\r\n",
        "df[filter]"
      ],
      "execution_count": null,
      "outputs": [
        {
          "output_type": "execute_result",
          "data": {
            "text/html": [
              "<div>\n",
              "<style scoped>\n",
              "    .dataframe tbody tr th:only-of-type {\n",
              "        vertical-align: middle;\n",
              "    }\n",
              "\n",
              "    .dataframe tbody tr th {\n",
              "        vertical-align: top;\n",
              "    }\n",
              "\n",
              "    .dataframe thead th {\n",
              "        text-align: right;\n",
              "    }\n",
              "</style>\n",
              "<table border=\"1\" class=\"dataframe\">\n",
              "  <thead>\n",
              "    <tr style=\"text-align: right;\">\n",
              "      <th></th>\n",
              "      <th>Unnamed: 0</th>\n",
              "      <th>ID</th>\n",
              "      <th>Title</th>\n",
              "      <th>Year</th>\n",
              "      <th>IMDb</th>\n",
              "      <th>Netflix</th>\n",
              "      <th>Hulu</th>\n",
              "      <th>Prime Video</th>\n",
              "      <th>Disney+</th>\n",
              "      <th>Runtime</th>\n",
              "    </tr>\n",
              "  </thead>\n",
              "  <tbody>\n",
              "    <tr>\n",
              "      <th>13048</th>\n",
              "      <td>13048</td>\n",
              "      <td>13049</td>\n",
              "      <td>Custer's Last Stand</td>\n",
              "      <td>1936</td>\n",
              "      <td>4.6</td>\n",
              "      <td>0</td>\n",
              "      <td>0</td>\n",
              "      <td>1</td>\n",
              "      <td>0</td>\n",
              "      <td>328.0</td>\n",
              "    </tr>\n",
              "  </tbody>\n",
              "</table>\n",
              "</div>"
            ],
            "text/plain": [
              "       Unnamed: 0     ID                Title  Year  IMDb  Netflix  Hulu  \\\n",
              "13048       13048  13049  Custer's Last Stand  1936   4.6        0     0   \n",
              "\n",
              "       Prime Video  Disney+  Runtime  \n",
              "13048            1        0    328.0  "
            ]
          },
          "metadata": {
            "tags": []
          },
          "execution_count": 46
        }
      ]
    },
    {
      "cell_type": "markdown",
      "metadata": {
        "id": "fSp1TfFzHLV7"
      },
      "source": [
        "Menampilkan judul film dengan runtime paling sedikit"
      ]
    },
    {
      "cell_type": "code",
      "metadata": {
        "colab": {
          "base_uri": "https://localhost:8080/",
          "height": 151
        },
        "id": "7khH9l1R0Ks6",
        "outputId": "018bd5b6-de57-4ba2-9831-30edf947f2aa"
      },
      "source": [
        "filter =( df['Runtime'] == (df['Runtime'].min()))\r\n",
        "df[filter]"
      ],
      "execution_count": null,
      "outputs": [
        {
          "output_type": "execute_result",
          "data": {
            "text/html": [
              "<div>\n",
              "<style scoped>\n",
              "    .dataframe tbody tr th:only-of-type {\n",
              "        vertical-align: middle;\n",
              "    }\n",
              "\n",
              "    .dataframe tbody tr th {\n",
              "        vertical-align: top;\n",
              "    }\n",
              "\n",
              "    .dataframe thead th {\n",
              "        text-align: right;\n",
              "    }\n",
              "</style>\n",
              "<table border=\"1\" class=\"dataframe\">\n",
              "  <thead>\n",
              "    <tr style=\"text-align: right;\">\n",
              "      <th></th>\n",
              "      <th>Unnamed: 0</th>\n",
              "      <th>ID</th>\n",
              "      <th>Title</th>\n",
              "      <th>Year</th>\n",
              "      <th>IMDb</th>\n",
              "      <th>Netflix</th>\n",
              "      <th>Hulu</th>\n",
              "      <th>Prime Video</th>\n",
              "      <th>Disney+</th>\n",
              "      <th>Runtime</th>\n",
              "    </tr>\n",
              "  </thead>\n",
              "  <tbody>\n",
              "    <tr>\n",
              "      <th>2626</th>\n",
              "      <td>2626</td>\n",
              "      <td>2627</td>\n",
              "      <td>Liefling The Movie</td>\n",
              "      <td>2010</td>\n",
              "      <td>6.3</td>\n",
              "      <td>1</td>\n",
              "      <td>0</td>\n",
              "      <td>0</td>\n",
              "      <td>0</td>\n",
              "      <td>1.0</td>\n",
              "    </tr>\n",
              "  </tbody>\n",
              "</table>\n",
              "</div>"
            ],
            "text/plain": [
              "      Unnamed: 0    ID               Title  Year  IMDb  Netflix  Hulu  \\\n",
              "2626        2626  2627  Liefling The Movie  2010   6.3        1     0   \n",
              "\n",
              "      Prime Video  Disney+  Runtime  \n",
              "2626            0        0      1.0  "
            ]
          },
          "metadata": {
            "tags": []
          },
          "execution_count": 47
        }
      ]
    },
    {
      "cell_type": "markdown",
      "metadata": {
        "id": "bCcZn5W-HPrb"
      },
      "source": [
        "Menampilkan film urutan film terbaik"
      ]
    },
    {
      "cell_type": "code",
      "metadata": {
        "id": "A1Jp79DQ0OAA",
        "colab": {
          "base_uri": "https://localhost:8080/",
          "height": 278
        },
        "outputId": "527fb6ad-4adb-41d2-ec45-075b7b0710ac"
      },
      "source": [
        "#top rated movie\r\n",
        "filter =( df['IMDb'] == (df['IMDb'].max()))\r\n",
        "df[filter]"
      ],
      "execution_count": null,
      "outputs": [
        {
          "output_type": "execute_result",
          "data": {
            "text/html": [
              "<div>\n",
              "<style scoped>\n",
              "    .dataframe tbody tr th:only-of-type {\n",
              "        vertical-align: middle;\n",
              "    }\n",
              "\n",
              "    .dataframe tbody tr th {\n",
              "        vertical-align: top;\n",
              "    }\n",
              "\n",
              "    .dataframe thead th {\n",
              "        text-align: right;\n",
              "    }\n",
              "</style>\n",
              "<table border=\"1\" class=\"dataframe\">\n",
              "  <thead>\n",
              "    <tr style=\"text-align: right;\">\n",
              "      <th></th>\n",
              "      <th>Unnamed: 0</th>\n",
              "      <th>ID</th>\n",
              "      <th>Title</th>\n",
              "      <th>Year</th>\n",
              "      <th>IMDb</th>\n",
              "      <th>Netflix</th>\n",
              "      <th>Hulu</th>\n",
              "      <th>Prime Video</th>\n",
              "      <th>Disney+</th>\n",
              "      <th>Runtime</th>\n",
              "    </tr>\n",
              "  </thead>\n",
              "  <tbody>\n",
              "    <tr>\n",
              "      <th>6566</th>\n",
              "      <td>6566</td>\n",
              "      <td>6567</td>\n",
              "      <td>Square One</td>\n",
              "      <td>2019</td>\n",
              "      <td>9.3</td>\n",
              "      <td>0</td>\n",
              "      <td>0</td>\n",
              "      <td>1</td>\n",
              "      <td>0</td>\n",
              "      <td>83.0</td>\n",
              "    </tr>\n",
              "    <tr>\n",
              "      <th>6837</th>\n",
              "      <td>6837</td>\n",
              "      <td>6838</td>\n",
              "      <td>Steven Banks: Home Entertainment Center</td>\n",
              "      <td>1989</td>\n",
              "      <td>9.3</td>\n",
              "      <td>0</td>\n",
              "      <td>0</td>\n",
              "      <td>1</td>\n",
              "      <td>0</td>\n",
              "      <td>60.0</td>\n",
              "    </tr>\n",
              "    <tr>\n",
              "      <th>7220</th>\n",
              "      <td>7220</td>\n",
              "      <td>7221</td>\n",
              "      <td>Down, But Not Out!</td>\n",
              "      <td>2015</td>\n",
              "      <td>9.3</td>\n",
              "      <td>0</td>\n",
              "      <td>0</td>\n",
              "      <td>1</td>\n",
              "      <td>0</td>\n",
              "      <td>68.0</td>\n",
              "    </tr>\n",
              "    <tr>\n",
              "      <th>7426</th>\n",
              "      <td>7426</td>\n",
              "      <td>7427</td>\n",
              "      <td>Bounty</td>\n",
              "      <td>2011</td>\n",
              "      <td>9.3</td>\n",
              "      <td>0</td>\n",
              "      <td>0</td>\n",
              "      <td>1</td>\n",
              "      <td>0</td>\n",
              "      <td>132.0</td>\n",
              "    </tr>\n",
              "  </tbody>\n",
              "</table>\n",
              "</div>"
            ],
            "text/plain": [
              "      Unnamed: 0    ID                                    Title  Year  IMDb  \\\n",
              "6566        6566  6567                               Square One  2019   9.3   \n",
              "6837        6837  6838  Steven Banks: Home Entertainment Center  1989   9.3   \n",
              "7220        7220  7221                       Down, But Not Out!  2015   9.3   \n",
              "7426        7426  7427                                   Bounty  2011   9.3   \n",
              "\n",
              "      Netflix  Hulu  Prime Video  Disney+  Runtime  \n",
              "6566        0     0            1        0     83.0  \n",
              "6837        0     0            1        0     60.0  \n",
              "7220        0     0            1        0     68.0  \n",
              "7426        0     0            1        0    132.0  "
            ]
          },
          "metadata": {
            "tags": []
          },
          "execution_count": 48
        }
      ]
    },
    {
      "cell_type": "markdown",
      "metadata": {
        "id": "H3CfGkftHTav"
      },
      "source": [
        "Menampilkan urutan film dari yang terendah"
      ]
    },
    {
      "cell_type": "code",
      "metadata": {
        "id": "08xFEuP_0QLN",
        "colab": {
          "base_uri": "https://localhost:8080/",
          "height": 233
        },
        "outputId": "fb7e11d0-58e6-4a48-c412-eaa216664f56"
      },
      "source": [
        "# Bottom Rated movie\r\n",
        "filter =( df['IMDb'] == (df['IMDb'].min()))\r\n",
        "df[filter]"
      ],
      "execution_count": null,
      "outputs": [
        {
          "output_type": "execute_result",
          "data": {
            "text/html": [
              "<div>\n",
              "<style scoped>\n",
              "    .dataframe tbody tr th:only-of-type {\n",
              "        vertical-align: middle;\n",
              "    }\n",
              "\n",
              "    .dataframe tbody tr th {\n",
              "        vertical-align: top;\n",
              "    }\n",
              "\n",
              "    .dataframe thead th {\n",
              "        text-align: right;\n",
              "    }\n",
              "</style>\n",
              "<table border=\"1\" class=\"dataframe\">\n",
              "  <thead>\n",
              "    <tr style=\"text-align: right;\">\n",
              "      <th></th>\n",
              "      <th>Unnamed: 0</th>\n",
              "      <th>ID</th>\n",
              "      <th>Title</th>\n",
              "      <th>Year</th>\n",
              "      <th>IMDb</th>\n",
              "      <th>Netflix</th>\n",
              "      <th>Hulu</th>\n",
              "      <th>Prime Video</th>\n",
              "      <th>Disney+</th>\n",
              "      <th>Runtime</th>\n",
              "    </tr>\n",
              "  </thead>\n",
              "  <tbody>\n",
              "    <tr>\n",
              "      <th>13813</th>\n",
              "      <td>13813</td>\n",
              "      <td>13814</td>\n",
              "      <td>In Memoriam Alexander Litvinenko</td>\n",
              "      <td>2007</td>\n",
              "      <td>0.0</td>\n",
              "      <td>0</td>\n",
              "      <td>0</td>\n",
              "      <td>1</td>\n",
              "      <td>0</td>\n",
              "      <td>55.0</td>\n",
              "    </tr>\n",
              "    <tr>\n",
              "      <th>13821</th>\n",
              "      <td>13821</td>\n",
              "      <td>13822</td>\n",
              "      <td>From Philadelphia To Fallujah</td>\n",
              "      <td>2011</td>\n",
              "      <td>0.0</td>\n",
              "      <td>0</td>\n",
              "      <td>0</td>\n",
              "      <td>1</td>\n",
              "      <td>0</td>\n",
              "      <td>42.0</td>\n",
              "    </tr>\n",
              "  </tbody>\n",
              "</table>\n",
              "</div>"
            ],
            "text/plain": [
              "       Unnamed: 0     ID                             Title  Year  IMDb  \\\n",
              "13813       13813  13814  In Memoriam Alexander Litvinenko  2007   0.0   \n",
              "13821       13821  13822     From Philadelphia To Fallujah  2011   0.0   \n",
              "\n",
              "       Netflix  Hulu  Prime Video  Disney+  Runtime  \n",
              "13813        0     0            1        0     55.0  \n",
              "13821        0     0            1        0     42.0  "
            ]
          },
          "metadata": {
            "tags": []
          },
          "execution_count": 49
        }
      ]
    },
    {
      "cell_type": "markdown",
      "metadata": {
        "id": "42QWk1AhHWpN"
      },
      "source": [
        "**KESIMPULAN**\r\n",
        "\r\n",
        "Menjelaskan tentang dafta platform film yang ada di dunia untuk dibandingan dan dilihat mana platform film terbaik dan mana platform film yang paling rendah digunakan. tujuannya untuk bisa mengetahui data-data dari jumlah platform film yang sering digunakan oleh manusia."
      ]
    }
  ]
}