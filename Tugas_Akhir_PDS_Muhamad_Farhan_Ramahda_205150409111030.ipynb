{
  "nbformat": 4,
  "nbformat_minor": 0,
  "metadata": {
    "colab": {
      "name": "Tugas Akhir_PDS_Muhamad Farhan Ramahda_205150409111030.ipynb",
      "provenance": [],
      "collapsed_sections": [],
      "include_colab_link": true
    },
    "kernelspec": {
      "display_name": "Python 3",
      "name": "python3"
    }
  },
  "cells": [
    {
      "cell_type": "markdown",
      "metadata": {
        "id": "view-in-github",
        "colab_type": "text"
      },
      "source": [
        "<a href=\"https://colab.research.google.com/github/nanangyudi/2020pds_d/blob/main/Tugas_Akhir_PDS_Muhamad_Farhan_Ramahda_205150409111030.ipynb\" target=\"_parent\"><img src=\"https://colab.research.google.com/assets/colab-badge.svg\" alt=\"Open In Colab\"/></a>"
      ]
    },
    {
      "cell_type": "markdown",
      "metadata": {
        "id": "YcEG4up6rCLT"
      },
      "source": [
        "**Deskripsi Tujuan** :\r\n",
        "\r\n",
        "Untuk mengetahui jumlah data Klasifikasi Bintang\r\n",
        "\r\n",
        "1.   Untuk mengetahui jumlah data pemain basket NBA Amerika\r\n",
        "2.   Untuk mengetahui berat badan, tinggi badan, dan karir sebagai pemain NBA\r\n",
        "3.   Sebagai bahan perbandingan dari performa setiap pemain ke pemain dari banyak prestasi\r\n",
        "\r\n",
        "**Analisa Pendekatan** :\r\n",
        "\r\n",
        "\r\n",
        "1.   Pada analisa data ini kami menggunakan Exploratory Data Analysis (EDA)adalah pendekatan untuk menganalisis set data untuk merangkum karakteristik utama mereka, seringkali dengan metode visual dan pendekatan untuk menganalisis set data untuk merangkum karakteristik utama mereka, seringkali dengan metode visual.\r\n",
        "\r\n",
        "**Pengumpulan data** :\r\n",
        "\r\n",
        "\r\n",
        "1.   Mendapatkan data melalui website kaggle.com\r\n",
        "\r\n",
        "**Pemahaman terhadap data yang dikumpulkan**:\r\n",
        "\r\n",
        "1.   Data yang ditunjukan memuat informasi tentang Kalsifikasi Bintang\r\n",
        "\r\n",
        "**Persiapan data** :\r\n",
        "\r\n",
        "\r\n",
        "1.   Library yang saya gunakan dalam explorasi data adalah pandas, Matpolib, Seaborn\r\n",
        "\r\n",
        "**Pemodelan data** :\r\n",
        "\r\n",
        "1.   Explorasi data yang telah saya lakukan menghasilkan sebuah informasi berupa scater scatter plot, diagram histogram dan boxplot.\r\n",
        "\r\n",
        "**Evaluasi Model**:\r\n",
        "\r\n",
        "\r\n",
        "1.   pada data yang telah di analisis menunjukkan diagram histogram yang tidak normal, data tersebut adalah berdasarkan klasifikasi dari scratter plot yang telah dianalisis menunjukan nilai x semakin besar dan semakin besar pula nilai y. Dapat disimpulkan variabel yang diteliti memiliki hubungan linear atau positif dan memiliki hubungan yang sangat kuat. \r\n",
        "\r\n",
        "\r\n",
        "\r\n",
        "\r\n",
        "\r\n",
        "\r\n",
        "\r\n",
        "\r\n",
        "\r\n",
        "\r\n",
        "\r\n",
        "\r\n",
        "\r\n",
        "\r\n"
      ]
    },
    {
      "cell_type": "markdown",
      "metadata": {
        "id": "dHh0mfPDHGyd"
      },
      "source": [
        "**Memasukan data dari url, data disimpan di repository Github kemudian menampilkannya**"
      ]
    },
    {
      "cell_type": "code",
      "metadata": {
        "colab": {
          "base_uri": "https://localhost:8080/"
        },
        "id": "fbbX0fgVLwBt",
        "outputId": "ab526ab2-6cab-4abe-c910-b4d5e7cdba25"
      },
      "source": [
        "url = 'https://raw.githubusercontent.com/FarhanRamahda/Muhamad-Farhan-Ramahda/main/6_class_csv.csv'\r\n",
        "df = pd.read_csv(\"https://raw.githubusercontent.com/FarhanRamahda/Muhamad-Farhan-Ramahda/main/6_class_csv.csv\") \r\n",
        "print(\"data read into dataframe!\")"
      ],
      "execution_count": null,
      "outputs": [
        {
          "output_type": "stream",
          "text": [
            "data read into dataframe!\n"
          ],
          "name": "stdout"
        }
      ]
    },
    {
      "cell_type": "markdown",
      "metadata": {
        "id": "mQSvBQvrHVV7"
      },
      "source": [
        "**Menampilkan 10 data bagian atas**"
      ]
    },
    {
      "cell_type": "code",
      "metadata": {
        "colab": {
          "base_uri": "https://localhost:8080/",
          "height": 343
        },
        "id": "lcfAX4ydNEvy",
        "outputId": "a070cfd8-9aff-47c0-dc9b-b1de95ffaf8d"
      },
      "source": [
        "df.head(10)"
      ],
      "execution_count": null,
      "outputs": [
        {
          "output_type": "execute_result",
          "data": {
            "text/html": [
              "<div>\n",
              "<style scoped>\n",
              "    .dataframe tbody tr th:only-of-type {\n",
              "        vertical-align: middle;\n",
              "    }\n",
              "\n",
              "    .dataframe tbody tr th {\n",
              "        vertical-align: top;\n",
              "    }\n",
              "\n",
              "    .dataframe thead th {\n",
              "        text-align: right;\n",
              "    }\n",
              "</style>\n",
              "<table border=\"1\" class=\"dataframe\">\n",
              "  <thead>\n",
              "    <tr style=\"text-align: right;\">\n",
              "      <th></th>\n",
              "      <th>Temperature (K)</th>\n",
              "      <th>Luminosity(L/Lo)</th>\n",
              "      <th>Radius(R/Ro)</th>\n",
              "      <th>Absolute_magnitude(Mv)</th>\n",
              "      <th>Star_type</th>\n",
              "      <th>Star_color</th>\n",
              "      <th>Spectral_Class</th>\n",
              "    </tr>\n",
              "  </thead>\n",
              "  <tbody>\n",
              "    <tr>\n",
              "      <th>0</th>\n",
              "      <td>3068</td>\n",
              "      <td>0.002400</td>\n",
              "      <td>0.1700</td>\n",
              "      <td>16.12</td>\n",
              "      <td>0</td>\n",
              "      <td>Red</td>\n",
              "      <td>M</td>\n",
              "    </tr>\n",
              "    <tr>\n",
              "      <th>1</th>\n",
              "      <td>3042</td>\n",
              "      <td>0.000500</td>\n",
              "      <td>0.1542</td>\n",
              "      <td>16.60</td>\n",
              "      <td>0</td>\n",
              "      <td>Red</td>\n",
              "      <td>M</td>\n",
              "    </tr>\n",
              "    <tr>\n",
              "      <th>2</th>\n",
              "      <td>2600</td>\n",
              "      <td>0.000300</td>\n",
              "      <td>0.1020</td>\n",
              "      <td>18.70</td>\n",
              "      <td>0</td>\n",
              "      <td>Red</td>\n",
              "      <td>M</td>\n",
              "    </tr>\n",
              "    <tr>\n",
              "      <th>3</th>\n",
              "      <td>2800</td>\n",
              "      <td>0.000200</td>\n",
              "      <td>0.1600</td>\n",
              "      <td>16.65</td>\n",
              "      <td>0</td>\n",
              "      <td>Red</td>\n",
              "      <td>M</td>\n",
              "    </tr>\n",
              "    <tr>\n",
              "      <th>4</th>\n",
              "      <td>1939</td>\n",
              "      <td>0.000138</td>\n",
              "      <td>0.1030</td>\n",
              "      <td>20.06</td>\n",
              "      <td>0</td>\n",
              "      <td>Red</td>\n",
              "      <td>M</td>\n",
              "    </tr>\n",
              "    <tr>\n",
              "      <th>5</th>\n",
              "      <td>2840</td>\n",
              "      <td>0.000650</td>\n",
              "      <td>0.1100</td>\n",
              "      <td>16.98</td>\n",
              "      <td>0</td>\n",
              "      <td>Red</td>\n",
              "      <td>M</td>\n",
              "    </tr>\n",
              "    <tr>\n",
              "      <th>6</th>\n",
              "      <td>2637</td>\n",
              "      <td>0.000730</td>\n",
              "      <td>0.1270</td>\n",
              "      <td>17.22</td>\n",
              "      <td>0</td>\n",
              "      <td>Red</td>\n",
              "      <td>M</td>\n",
              "    </tr>\n",
              "    <tr>\n",
              "      <th>7</th>\n",
              "      <td>2600</td>\n",
              "      <td>0.000400</td>\n",
              "      <td>0.0960</td>\n",
              "      <td>17.40</td>\n",
              "      <td>0</td>\n",
              "      <td>Red</td>\n",
              "      <td>M</td>\n",
              "    </tr>\n",
              "    <tr>\n",
              "      <th>8</th>\n",
              "      <td>2650</td>\n",
              "      <td>0.000690</td>\n",
              "      <td>0.1100</td>\n",
              "      <td>17.45</td>\n",
              "      <td>0</td>\n",
              "      <td>Red</td>\n",
              "      <td>M</td>\n",
              "    </tr>\n",
              "    <tr>\n",
              "      <th>9</th>\n",
              "      <td>2700</td>\n",
              "      <td>0.000180</td>\n",
              "      <td>0.1300</td>\n",
              "      <td>16.05</td>\n",
              "      <td>0</td>\n",
              "      <td>Red</td>\n",
              "      <td>M</td>\n",
              "    </tr>\n",
              "  </tbody>\n",
              "</table>\n",
              "</div>"
            ],
            "text/plain": [
              "   Temperature (K)  Luminosity(L/Lo)  ...  Star_color  Spectral_Class\n",
              "0             3068          0.002400  ...         Red               M\n",
              "1             3042          0.000500  ...         Red               M\n",
              "2             2600          0.000300  ...         Red               M\n",
              "3             2800          0.000200  ...         Red               M\n",
              "4             1939          0.000138  ...         Red               M\n",
              "5             2840          0.000650  ...         Red               M\n",
              "6             2637          0.000730  ...         Red               M\n",
              "7             2600          0.000400  ...         Red               M\n",
              "8             2650          0.000690  ...         Red               M\n",
              "9             2700          0.000180  ...         Red               M\n",
              "\n",
              "[10 rows x 7 columns]"
            ]
          },
          "metadata": {
            "tags": []
          },
          "execution_count": 31
        }
      ]
    },
    {
      "cell_type": "markdown",
      "metadata": {
        "id": "kUGaDJD0c89_"
      },
      "source": [
        "**Melihat Dimensi Data**"
      ]
    },
    {
      "cell_type": "code",
      "metadata": {
        "id": "oC4xCan9OyBF",
        "colab": {
          "base_uri": "https://localhost:8080/"
        },
        "outputId": "8d9e5638-69d2-4dac-d2b1-80d0f0a60e33"
      },
      "source": [
        "dimensi      = df.shape\r\n",
        "panjang_data = len(df)\r\n",
        "print(f'Dimensi data adalah {dimensi[0]} baris, dan {dimensi[1]} kolom')\r\n",
        "print(f'Panjang data adalah {panjang_data} baris')\r\n"
      ],
      "execution_count": null,
      "outputs": [
        {
          "output_type": "stream",
          "text": [
            "Dimensi data adalah 240 baris, dan 7 kolom\n",
            "Panjang data adalah 240 baris\n"
          ],
          "name": "stdout"
        }
      ]
    },
    {
      "cell_type": "markdown",
      "metadata": {
        "id": "BgEQGWOKc1j8"
      },
      "source": [
        "**Cek Missing Values**"
      ]
    },
    {
      "cell_type": "code",
      "metadata": {
        "id": "9RdNVB8oPIsb",
        "colab": {
          "base_uri": "https://localhost:8080/"
        },
        "outputId": "510ecd8d-7ae6-4b95-fa05-12ad7f693fe8"
      },
      "source": [
        "df.isnull().sum()"
      ],
      "execution_count": null,
      "outputs": [
        {
          "output_type": "execute_result",
          "data": {
            "text/plain": [
              "Temperature (K)           0\n",
              "Luminosity(L/Lo)          0\n",
              "Radius(R/Ro)              0\n",
              "Absolute_magnitude(Mv)    0\n",
              "Star_type                 0\n",
              "Star_color                0\n",
              "Spectral_Class            0\n",
              "dtype: int64"
            ]
          },
          "metadata": {
            "tags": []
          },
          "execution_count": 33
        }
      ]
    },
    {
      "cell_type": "code",
      "metadata": {
        "id": "dcrBNN2_Vy-Q"
      },
      "source": [
        "import matplotlib.pyplot as plt"
      ],
      "execution_count": null,
      "outputs": []
    },
    {
      "cell_type": "markdown",
      "metadata": {
        "id": "ma9vLw44ch6C"
      },
      "source": [
        "**Cek Dimensi**"
      ]
    },
    {
      "cell_type": "code",
      "metadata": {
        "id": "Zuv16rl5WR9a",
        "colab": {
          "base_uri": "https://localhost:8080/",
          "height": 34
        },
        "outputId": "c3b33a46-6e56-4e15-db43-ea2f60e3ac29"
      },
      "source": [
        "fig=plt.figure()"
      ],
      "execution_count": null,
      "outputs": [
        {
          "output_type": "display_data",
          "data": {
            "text/plain": [
              "<Figure size 432x288 with 0 Axes>"
            ]
          },
          "metadata": {
            "tags": []
          }
        }
      ]
    },
    {
      "cell_type": "markdown",
      "metadata": {
        "id": "Ru-vk_aLcdB4"
      },
      "source": [
        "**Melihat dimensi**"
      ]
    },
    {
      "cell_type": "code",
      "metadata": {
        "id": "OPYQAusLZF8f",
        "colab": {
          "base_uri": "https://localhost:8080/"
        },
        "outputId": "9bbbd8e4-469d-4d60-e9cb-836222f5db92"
      },
      "source": [
        "df.Star_color.value_counts()"
      ],
      "execution_count": null,
      "outputs": [
        {
          "output_type": "execute_result",
          "data": {
            "text/plain": [
              "Red                   112\n",
              "Blue                   55\n",
              "Blue-white             26\n",
              "Blue White             10\n",
              "yellow-white            8\n",
              "White                   7\n",
              "Yellowish White         3\n",
              "white                   3\n",
              "Blue white              3\n",
              "Orange                  2\n",
              "yellowish               2\n",
              "Whitish                 2\n",
              "Blue                    1\n",
              "Yellowish               1\n",
              "Pale yellow orange      1\n",
              "Blue white              1\n",
              "Orange-Red              1\n",
              "Blue-White              1\n",
              "White-Yellow            1\n",
              "Name: Star_color, dtype: int64"
            ]
          },
          "metadata": {
            "tags": []
          },
          "execution_count": 36
        }
      ]
    },
    {
      "cell_type": "markdown",
      "metadata": {
        "id": "_OFJMtWtcN-3"
      },
      "source": [
        "**Melihat frekuensi data Berdasarkan Klasifikasi**"
      ]
    },
    {
      "cell_type": "code",
      "metadata": {
        "id": "P0ixvVuiaqp6",
        "colab": {
          "base_uri": "https://localhost:8080/",
          "height": 309
        },
        "outputId": "3df57df2-6d3d-41ad-e54d-efcab940aea5"
      },
      "source": [
        "plt.hist(df['Absolute_magnitude(Mv)'], bins = 10, edgecolor = 'black')\r\n",
        "plt.suptitle('(KLASIFIKASI BINTANG)', fontsize=14, fontweight='bold')\r\n",
        "plt.title('Berdasarkan Klasifikasi')\r\n",
        "plt.xlabel('Absolute_magnitude(Mv)')\r\n",
        "plt.ylabel('Temperature (K)')\r\n",
        "plt.show()"
      ],
      "execution_count": null,
      "outputs": [
        {
          "output_type": "display_data",
          "data": {
            "image/png": "[encoded data removed]",
            "text/plain": [
              "<Figure size 432x288 with 1 Axes>"
            ]
          },
          "metadata": {
            "tags": [],
            "needs_background": "light"
          }
        }
      ]
    },
    {
      "cell_type": "markdown",
      "metadata": {
        "id": "RpNHGq_mb1s3"
      },
      "source": [
        "**Melihat hubungan data Berdasarkan Hubungan Absolute Magnitude dan Temperature menggunakan Scatter plot**"
      ]
    },
    {
      "cell_type": "code",
      "metadata": {
        "id": "rQXFleA3c0W9",
        "colab": {
          "base_uri": "https://localhost:8080/",
          "height": 296
        },
        "outputId": "26d98272-cab7-4575-9cfe-2e66a4814b99"
      },
      "source": [
        "fig=plt.figure()\r\n",
        "ax = fig.add_subplot(1,1,1)\r\n",
        "ax.scatter(df['Absolute_magnitude(Mv)'],df['Temperature (K)'])\r\n",
        "plt.title('Absolute Magnitude dan Temperature')\r\n",
        "plt.xlabel('Absolute_magnitude(Mv)')\r\n",
        "plt.ylabel('Temperature (K)')\r\n",
        "plt.show()"
      ],
      "execution_count": null,
      "outputs": [
        {
          "output_type": "display_data",
          "data": {
            "image/png": "[encoded data removed]",
            "text/plain": [
              "<Figure size 432x288 with 1 Axes>"
            ]
          },
          "metadata": {
            "tags": [],
            "needs_background": "light"
          }
        }
      ]
    },
    {
      "cell_type": "code",
      "metadata": {
        "id": "EUczUErCgAFi"
      },
      "source": [
        "import seaborn as sns"
      ],
      "execution_count": null,
      "outputs": []
    },
    {
      "cell_type": "markdown",
      "metadata": {
        "id": "l9zG1v_Sbbln"
      },
      "source": [
        "**Box-plot dari Absolute Magnitude**"
      ]
    },
    {
      "cell_type": "code",
      "metadata": {
        "id": "eNCViMR1fXyq",
        "colab": {
          "base_uri": "https://localhost:8080/",
          "height": 334
        },
        "outputId": "67bfa9e9-98c3-4e93-924c-e00d5bf3fa4d"
      },
      "source": [
        "sns.boxplot(df['Absolute_magnitude(Mv)'])\r\n",
        "sns.despine()"
      ],
      "execution_count": null,
      "outputs": [
        {
          "output_type": "stream",
          "text": [
            "/usr/local/lib/python3.6/dist-packages/seaborn/_decorators.py:43: FutureWarning: Pass the following variable as a keyword arg: x. From version 0.12, the only valid positional argument will be `data`, and passing other arguments without an explicit keyword will result in an error or misinterpretation.\n",
            "  FutureWarning\n"
          ],
          "name": "stderr"
        },
        {
          "output_type": "display_data",
          "data": {
            "image/png": "[encoded data removed]",
            "text/plain": [
              "<Figure size 432x288 with 1 Axes>"
            ]
          },
          "metadata": {
            "tags": [],
            "needs_background": "light"
          }
        }
      ]
    },
    {
      "cell_type": "markdown",
      "metadata": {
        "id": "i_lua4k8bRza"
      },
      "source": [
        "**Tabel Frekuensi**"
      ]
    },
    {
      "cell_type": "code",
      "metadata": {
        "id": "5nLvMui3gPl0",
        "colab": {
          "base_uri": "https://localhost:8080/"
        },
        "outputId": "4ff3bd0a-c5f0-429d-aeb1-b686ac10d1bf"
      },
      "source": [
        "test= df.groupby(['Absolute_magnitude(Mv)','Temperature (K)'])\r\n",
        "test.size()"
      ],
      "execution_count": null,
      "outputs": [
        {
          "output_type": "execute_result",
          "data": {
            "text/plain": [
              "Absolute_magnitude(Mv)  Temperature (K)\n",
              "-11.92                  3660               1\n",
              "-11.75                  3450               1\n",
              "-11.39                  4015               1\n",
              "-11.36                  3535               1\n",
              "-11.33                  3615               1\n",
              "                                          ..\n",
              " 19.56                  2856               1\n",
              " 19.63                  3225               1\n",
              " 19.94                  3531               1\n",
              " 20.02                  3218               1\n",
              " 20.06                  1939               1\n",
              "Length: 240, dtype: int64"
            ]
          },
          "metadata": {
            "tags": []
          },
          "execution_count": 41
        }
      ]
    },
    {
      "cell_type": "markdown",
      "metadata": {
        "id": "R7pTSYERbL3n"
      },
      "source": [
        "**Mengelompokkan variabel**"
      ]
    },
    {
      "cell_type": "code",
      "metadata": {
        "id": "gy224-RiivEF",
        "colab": {
          "base_uri": "https://localhost:8080/",
          "height": 481
        },
        "outputId": "af607e04-1509-41d8-e340-46d675503a4a"
      },
      "source": [
        "test= df.groupby(['Absolute_magnitude(Mv)'])\r\n",
        "test.describe()"
      ],
      "execution_count": null,
      "outputs": [
        {
          "output_type": "execute_result",
          "data": {
            "text/html": [
              "<div>\n",
              "<style scoped>\n",
              "    .dataframe tbody tr th:only-of-type {\n",
              "        vertical-align: middle;\n",
              "    }\n",
              "\n",
              "    .dataframe tbody tr th {\n",
              "        vertical-align: top;\n",
              "    }\n",
              "\n",
              "    .dataframe thead tr th {\n",
              "        text-align: left;\n",
              "    }\n",
              "\n",
              "    .dataframe thead tr:last-of-type th {\n",
              "        text-align: right;\n",
              "    }\n",
              "</style>\n",
              "<table border=\"1\" class=\"dataframe\">\n",
              "  <thead>\n",
              "    <tr>\n",
              "      <th></th>\n",
              "      <th colspan=\"8\" halign=\"left\">Temperature (K)</th>\n",
              "      <th colspan=\"8\" halign=\"left\">Luminosity(L/Lo)</th>\n",
              "      <th colspan=\"8\" halign=\"left\">Radius(R/Ro)</th>\n",
              "      <th colspan=\"8\" halign=\"left\">Star_type</th>\n",
              "    </tr>\n",
              "    <tr>\n",
              "      <th></th>\n",
              "      <th>count</th>\n",
              "      <th>mean</th>\n",
              "      <th>std</th>\n",
              "      <th>min</th>\n",
              "      <th>25%</th>\n",
              "      <th>50%</th>\n",
              "      <th>75%</th>\n",
              "      <th>max</th>\n",
              "      <th>count</th>\n",
              "      <th>mean</th>\n",
              "      <th>std</th>\n",
              "      <th>min</th>\n",
              "      <th>25%</th>\n",
              "      <th>50%</th>\n",
              "      <th>75%</th>\n",
              "      <th>max</th>\n",
              "      <th>count</th>\n",
              "      <th>mean</th>\n",
              "      <th>std</th>\n",
              "      <th>min</th>\n",
              "      <th>25%</th>\n",
              "      <th>50%</th>\n",
              "      <th>75%</th>\n",
              "      <th>max</th>\n",
              "      <th>count</th>\n",
              "      <th>mean</th>\n",
              "      <th>std</th>\n",
              "      <th>min</th>\n",
              "      <th>25%</th>\n",
              "      <th>50%</th>\n",
              "      <th>75%</th>\n",
              "      <th>max</th>\n",
              "    </tr>\n",
              "    <tr>\n",
              "      <th>Absolute_magnitude(Mv)</th>\n",
              "      <th></th>\n",
              "      <th></th>\n",
              "      <th></th>\n",
              "      <th></th>\n",
              "      <th></th>\n",
              "      <th></th>\n",
              "      <th></th>\n",
              "      <th></th>\n",
              "      <th></th>\n",
              "      <th></th>\n",
              "      <th></th>\n",
              "      <th></th>\n",
              "      <th></th>\n",
              "      <th></th>\n",
              "      <th></th>\n",
              "      <th></th>\n",
              "      <th></th>\n",
              "      <th></th>\n",
              "      <th></th>\n",
              "      <th></th>\n",
              "      <th></th>\n",
              "      <th></th>\n",
              "      <th></th>\n",
              "      <th></th>\n",
              "      <th></th>\n",
              "      <th></th>\n",
              "      <th></th>\n",
              "      <th></th>\n",
              "      <th></th>\n",
              "      <th></th>\n",
              "      <th></th>\n",
              "      <th></th>\n",
              "    </tr>\n",
              "  </thead>\n",
              "  <tbody>\n",
              "    <tr>\n",
              "      <th>-11.92</th>\n",
              "      <td>1.0</td>\n",
              "      <td>3660.0</td>\n",
              "      <td>NaN</td>\n",
              "      <td>3660.0</td>\n",
              "      <td>3660.0</td>\n",
              "      <td>3660.0</td>\n",
              "      <td>3660.0</td>\n",
              "      <td>3660.0</td>\n",
              "      <td>1.0</td>\n",
              "      <td>363000.000000</td>\n",
              "      <td>NaN</td>\n",
              "      <td>363000.000000</td>\n",
              "      <td>363000.000000</td>\n",
              "      <td>363000.000000</td>\n",
              "      <td>363000.000000</td>\n",
              "      <td>363000.000000</td>\n",
              "      <td>1.0</td>\n",
              "      <td>1673.0000</td>\n",
              "      <td>NaN</td>\n",
              "      <td>1673.0000</td>\n",
              "      <td>1673.0000</td>\n",
              "      <td>1673.0000</td>\n",
              "      <td>1673.0000</td>\n",
              "      <td>1673.0000</td>\n",
              "      <td>1.0</td>\n",
              "      <td>5.0</td>\n",
              "      <td>NaN</td>\n",
              "      <td>5.0</td>\n",
              "      <td>5.0</td>\n",
              "      <td>5.0</td>\n",
              "      <td>5.0</td>\n",
              "      <td>5.0</td>\n",
              "    </tr>\n",
              "    <tr>\n",
              "      <th>-11.75</th>\n",
              "      <td>1.0</td>\n",
              "      <td>3450.0</td>\n",
              "      <td>NaN</td>\n",
              "      <td>3450.0</td>\n",
              "      <td>3450.0</td>\n",
              "      <td>3450.0</td>\n",
              "      <td>3450.0</td>\n",
              "      <td>3450.0</td>\n",
              "      <td>1.0</td>\n",
              "      <td>263000.000000</td>\n",
              "      <td>NaN</td>\n",
              "      <td>263000.000000</td>\n",
              "      <td>263000.000000</td>\n",
              "      <td>263000.000000</td>\n",
              "      <td>263000.000000</td>\n",
              "      <td>263000.000000</td>\n",
              "      <td>1.0</td>\n",
              "      <td>1349.0000</td>\n",
              "      <td>NaN</td>\n",
              "      <td>1349.0000</td>\n",
              "      <td>1349.0000</td>\n",
              "      <td>1349.0000</td>\n",
              "      <td>1349.0000</td>\n",
              "      <td>1349.0000</td>\n",
              "      <td>1.0</td>\n",
              "      <td>5.0</td>\n",
              "      <td>NaN</td>\n",
              "      <td>5.0</td>\n",
              "      <td>5.0</td>\n",
              "      <td>5.0</td>\n",
              "      <td>5.0</td>\n",
              "      <td>5.0</td>\n",
              "    </tr>\n",
              "    <tr>\n",
              "      <th>-11.39</th>\n",
              "      <td>1.0</td>\n",
              "      <td>4015.0</td>\n",
              "      <td>NaN</td>\n",
              "      <td>4015.0</td>\n",
              "      <td>4015.0</td>\n",
              "      <td>4015.0</td>\n",
              "      <td>4015.0</td>\n",
              "      <td>4015.0</td>\n",
              "      <td>1.0</td>\n",
              "      <td>282000.000000</td>\n",
              "      <td>NaN</td>\n",
              "      <td>282000.000000</td>\n",
              "      <td>282000.000000</td>\n",
              "      <td>282000.000000</td>\n",
              "      <td>282000.000000</td>\n",
              "      <td>282000.000000</td>\n",
              "      <td>1.0</td>\n",
              "      <td>1534.0000</td>\n",
              "      <td>NaN</td>\n",
              "      <td>1534.0000</td>\n",
              "      <td>1534.0000</td>\n",
              "      <td>1534.0000</td>\n",
              "      <td>1534.0000</td>\n",
              "      <td>1534.0000</td>\n",
              "      <td>1.0</td>\n",
              "      <td>5.0</td>\n",
              "      <td>NaN</td>\n",
              "      <td>5.0</td>\n",
              "      <td>5.0</td>\n",
              "      <td>5.0</td>\n",
              "      <td>5.0</td>\n",
              "      <td>5.0</td>\n",
              "    </tr>\n",
              "    <tr>\n",
              "      <th>-11.36</th>\n",
              "      <td>1.0</td>\n",
              "      <td>3535.0</td>\n",
              "      <td>NaN</td>\n",
              "      <td>3535.0</td>\n",
              "      <td>3535.0</td>\n",
              "      <td>3535.0</td>\n",
              "      <td>3535.0</td>\n",
              "      <td>3535.0</td>\n",
              "      <td>1.0</td>\n",
              "      <td>195000.000000</td>\n",
              "      <td>NaN</td>\n",
              "      <td>195000.000000</td>\n",
              "      <td>195000.000000</td>\n",
              "      <td>195000.000000</td>\n",
              "      <td>195000.000000</td>\n",
              "      <td>195000.000000</td>\n",
              "      <td>1.0</td>\n",
              "      <td>1546.0000</td>\n",
              "      <td>NaN</td>\n",
              "      <td>1546.0000</td>\n",
              "      <td>1546.0000</td>\n",
              "      <td>1546.0000</td>\n",
              "      <td>1546.0000</td>\n",
              "      <td>1546.0000</td>\n",
              "      <td>1.0</td>\n",
              "      <td>5.0</td>\n",
              "      <td>NaN</td>\n",
              "      <td>5.0</td>\n",
              "      <td>5.0</td>\n",
              "      <td>5.0</td>\n",
              "      <td>5.0</td>\n",
              "      <td>5.0</td>\n",
              "    </tr>\n",
              "    <tr>\n",
              "      <th>-11.33</th>\n",
              "      <td>1.0</td>\n",
              "      <td>3615.0</td>\n",
              "      <td>NaN</td>\n",
              "      <td>3615.0</td>\n",
              "      <td>3615.0</td>\n",
              "      <td>3615.0</td>\n",
              "      <td>3615.0</td>\n",
              "      <td>3615.0</td>\n",
              "      <td>1.0</td>\n",
              "      <td>200000.000000</td>\n",
              "      <td>NaN</td>\n",
              "      <td>200000.000000</td>\n",
              "      <td>200000.000000</td>\n",
              "      <td>200000.000000</td>\n",
              "      <td>200000.000000</td>\n",
              "      <td>200000.000000</td>\n",
              "      <td>1.0</td>\n",
              "      <td>1635.0000</td>\n",
              "      <td>NaN</td>\n",
              "      <td>1635.0000</td>\n",
              "      <td>1635.0000</td>\n",
              "      <td>1635.0000</td>\n",
              "      <td>1635.0000</td>\n",
              "      <td>1635.0000</td>\n",
              "      <td>1.0</td>\n",
              "      <td>5.0</td>\n",
              "      <td>NaN</td>\n",
              "      <td>5.0</td>\n",
              "      <td>5.0</td>\n",
              "      <td>5.0</td>\n",
              "      <td>5.0</td>\n",
              "      <td>5.0</td>\n",
              "    </tr>\n",
              "    <tr>\n",
              "      <th>...</th>\n",
              "      <td>...</td>\n",
              "      <td>...</td>\n",
              "      <td>...</td>\n",
              "      <td>...</td>\n",
              "      <td>...</td>\n",
              "      <td>...</td>\n",
              "      <td>...</td>\n",
              "      <td>...</td>\n",
              "      <td>...</td>\n",
              "      <td>...</td>\n",
              "      <td>...</td>\n",
              "      <td>...</td>\n",
              "      <td>...</td>\n",
              "      <td>...</td>\n",
              "      <td>...</td>\n",
              "      <td>...</td>\n",
              "      <td>...</td>\n",
              "      <td>...</td>\n",
              "      <td>...</td>\n",
              "      <td>...</td>\n",
              "      <td>...</td>\n",
              "      <td>...</td>\n",
              "      <td>...</td>\n",
              "      <td>...</td>\n",
              "      <td>...</td>\n",
              "      <td>...</td>\n",
              "      <td>...</td>\n",
              "      <td>...</td>\n",
              "      <td>...</td>\n",
              "      <td>...</td>\n",
              "      <td>...</td>\n",
              "      <td>...</td>\n",
              "    </tr>\n",
              "    <tr>\n",
              "      <th>19.56</th>\n",
              "      <td>1.0</td>\n",
              "      <td>2856.0</td>\n",
              "      <td>NaN</td>\n",
              "      <td>2856.0</td>\n",
              "      <td>2856.0</td>\n",
              "      <td>2856.0</td>\n",
              "      <td>2856.0</td>\n",
              "      <td>2856.0</td>\n",
              "      <td>1.0</td>\n",
              "      <td>0.000896</td>\n",
              "      <td>NaN</td>\n",
              "      <td>0.000896</td>\n",
              "      <td>0.000896</td>\n",
              "      <td>0.000896</td>\n",
              "      <td>0.000896</td>\n",
              "      <td>0.000896</td>\n",
              "      <td>1.0</td>\n",
              "      <td>0.0782</td>\n",
              "      <td>NaN</td>\n",
              "      <td>0.0782</td>\n",
              "      <td>0.0782</td>\n",
              "      <td>0.0782</td>\n",
              "      <td>0.0782</td>\n",
              "      <td>0.0782</td>\n",
              "      <td>1.0</td>\n",
              "      <td>0.0</td>\n",
              "      <td>NaN</td>\n",
              "      <td>0.0</td>\n",
              "      <td>0.0</td>\n",
              "      <td>0.0</td>\n",
              "      <td>0.0</td>\n",
              "      <td>0.0</td>\n",
              "    </tr>\n",
              "    <tr>\n",
              "      <th>19.63</th>\n",
              "      <td>1.0</td>\n",
              "      <td>3225.0</td>\n",
              "      <td>NaN</td>\n",
              "      <td>3225.0</td>\n",
              "      <td>3225.0</td>\n",
              "      <td>3225.0</td>\n",
              "      <td>3225.0</td>\n",
              "      <td>3225.0</td>\n",
              "      <td>1.0</td>\n",
              "      <td>0.000760</td>\n",
              "      <td>NaN</td>\n",
              "      <td>0.000760</td>\n",
              "      <td>0.000760</td>\n",
              "      <td>0.000760</td>\n",
              "      <td>0.000760</td>\n",
              "      <td>0.000760</td>\n",
              "      <td>1.0</td>\n",
              "      <td>0.1210</td>\n",
              "      <td>NaN</td>\n",
              "      <td>0.1210</td>\n",
              "      <td>0.1210</td>\n",
              "      <td>0.1210</td>\n",
              "      <td>0.1210</td>\n",
              "      <td>0.1210</td>\n",
              "      <td>1.0</td>\n",
              "      <td>0.0</td>\n",
              "      <td>NaN</td>\n",
              "      <td>0.0</td>\n",
              "      <td>0.0</td>\n",
              "      <td>0.0</td>\n",
              "      <td>0.0</td>\n",
              "      <td>0.0</td>\n",
              "    </tr>\n",
              "    <tr>\n",
              "      <th>19.94</th>\n",
              "      <td>1.0</td>\n",
              "      <td>3531.0</td>\n",
              "      <td>NaN</td>\n",
              "      <td>3531.0</td>\n",
              "      <td>3531.0</td>\n",
              "      <td>3531.0</td>\n",
              "      <td>3531.0</td>\n",
              "      <td>3531.0</td>\n",
              "      <td>1.0</td>\n",
              "      <td>0.000930</td>\n",
              "      <td>NaN</td>\n",
              "      <td>0.000930</td>\n",
              "      <td>0.000930</td>\n",
              "      <td>0.000930</td>\n",
              "      <td>0.000930</td>\n",
              "      <td>0.000930</td>\n",
              "      <td>1.0</td>\n",
              "      <td>0.0976</td>\n",
              "      <td>NaN</td>\n",
              "      <td>0.0976</td>\n",
              "      <td>0.0976</td>\n",
              "      <td>0.0976</td>\n",
              "      <td>0.0976</td>\n",
              "      <td>0.0976</td>\n",
              "      <td>1.0</td>\n",
              "      <td>0.0</td>\n",
              "      <td>NaN</td>\n",
              "      <td>0.0</td>\n",
              "      <td>0.0</td>\n",
              "      <td>0.0</td>\n",
              "      <td>0.0</td>\n",
              "      <td>0.0</td>\n",
              "    </tr>\n",
              "    <tr>\n",
              "      <th>20.02</th>\n",
              "      <td>1.0</td>\n",
              "      <td>3218.0</td>\n",
              "      <td>NaN</td>\n",
              "      <td>3218.0</td>\n",
              "      <td>3218.0</td>\n",
              "      <td>3218.0</td>\n",
              "      <td>3218.0</td>\n",
              "      <td>3218.0</td>\n",
              "      <td>1.0</td>\n",
              "      <td>0.000540</td>\n",
              "      <td>NaN</td>\n",
              "      <td>0.000540</td>\n",
              "      <td>0.000540</td>\n",
              "      <td>0.000540</td>\n",
              "      <td>0.000540</td>\n",
              "      <td>0.000540</td>\n",
              "      <td>1.0</td>\n",
              "      <td>0.1100</td>\n",
              "      <td>NaN</td>\n",
              "      <td>0.1100</td>\n",
              "      <td>0.1100</td>\n",
              "      <td>0.1100</td>\n",
              "      <td>0.1100</td>\n",
              "      <td>0.1100</td>\n",
              "      <td>1.0</td>\n",
              "      <td>0.0</td>\n",
              "      <td>NaN</td>\n",
              "      <td>0.0</td>\n",
              "      <td>0.0</td>\n",
              "      <td>0.0</td>\n",
              "      <td>0.0</td>\n",
              "      <td>0.0</td>\n",
              "    </tr>\n",
              "    <tr>\n",
              "      <th>20.06</th>\n",
              "      <td>1.0</td>\n",
              "      <td>1939.0</td>\n",
              "      <td>NaN</td>\n",
              "      <td>1939.0</td>\n",
              "      <td>1939.0</td>\n",
              "      <td>1939.0</td>\n",
              "      <td>1939.0</td>\n",
              "      <td>1939.0</td>\n",
              "      <td>1.0</td>\n",
              "      <td>0.000138</td>\n",
              "      <td>NaN</td>\n",
              "      <td>0.000138</td>\n",
              "      <td>0.000138</td>\n",
              "      <td>0.000138</td>\n",
              "      <td>0.000138</td>\n",
              "      <td>0.000138</td>\n",
              "      <td>1.0</td>\n",
              "      <td>0.1030</td>\n",
              "      <td>NaN</td>\n",
              "      <td>0.1030</td>\n",
              "      <td>0.1030</td>\n",
              "      <td>0.1030</td>\n",
              "      <td>0.1030</td>\n",
              "      <td>0.1030</td>\n",
              "      <td>1.0</td>\n",
              "      <td>0.0</td>\n",
              "      <td>NaN</td>\n",
              "      <td>0.0</td>\n",
              "      <td>0.0</td>\n",
              "      <td>0.0</td>\n",
              "      <td>0.0</td>\n",
              "      <td>0.0</td>\n",
              "    </tr>\n",
              "  </tbody>\n",
              "</table>\n",
              "<p>228 rows × 32 columns</p>\n",
              "</div>"
            ],
            "text/plain": [
              "                       Temperature (K)                      ... Star_type               \n",
              "                                 count    mean std     min  ...       25%  50%  75%  max\n",
              "Absolute_magnitude(Mv)                                      ...                         \n",
              "-11.92                             1.0  3660.0 NaN  3660.0  ...       5.0  5.0  5.0  5.0\n",
              "-11.75                             1.0  3450.0 NaN  3450.0  ...       5.0  5.0  5.0  5.0\n",
              "-11.39                             1.0  4015.0 NaN  4015.0  ...       5.0  5.0  5.0  5.0\n",
              "-11.36                             1.0  3535.0 NaN  3535.0  ...       5.0  5.0  5.0  5.0\n",
              "-11.33                             1.0  3615.0 NaN  3615.0  ...       5.0  5.0  5.0  5.0\n",
              "...                                ...     ...  ..     ...  ...       ...  ...  ...  ...\n",
              " 19.56                             1.0  2856.0 NaN  2856.0  ...       0.0  0.0  0.0  0.0\n",
              " 19.63                             1.0  3225.0 NaN  3225.0  ...       0.0  0.0  0.0  0.0\n",
              " 19.94                             1.0  3531.0 NaN  3531.0  ...       0.0  0.0  0.0  0.0\n",
              " 20.02                             1.0  3218.0 NaN  3218.0  ...       0.0  0.0  0.0  0.0\n",
              " 20.06                             1.0  1939.0 NaN  1939.0  ...       0.0  0.0  0.0  0.0\n",
              "\n",
              "[228 rows x 32 columns]"
            ]
          },
          "metadata": {
            "tags": []
          },
          "execution_count": 42
        }
      ]
    },
    {
      "cell_type": "markdown",
      "metadata": {
        "id": "KEH6THO1bDOw"
      },
      "source": [
        "**Corellation Mapping**"
      ]
    },
    {
      "cell_type": "code",
      "metadata": {
        "id": "NAKDMDXGi_W7",
        "colab": {
          "base_uri": "https://localhost:8080/",
          "height": 554
        },
        "outputId": "967f9acb-ed46-4d49-cb5a-62e01dfd0876"
      },
      "source": [
        "f, ax = plt.subplots(figsize=(11, 9))\r\n",
        "cmap = sns.diverging_palette(230, 20, as_cmap=True)\r\n",
        "\r\n",
        "sns.heatmap(df.corr(),annot=True, cmap=cmap, vmax=.3, center=0,\r\n",
        "            square=True, linewidths=.5, cbar_kws={\"shrink\": .5})\r\n",
        "plt.title(\"Klasifikasi Bintang\",fontweight=\"bold\")\r\n",
        "plt.show()"
      ],
      "execution_count": null,
      "outputs": [
        {
          "output_type": "display_data",
          "data": {
            "image/png": "[encoded data removed]",
            "text/plain": [
              "<Figure size 792x648 with 2 Axes>"
            ]
          },
          "metadata": {
            "tags": [],
            "needs_background": "light"
          }
        }
      ]
    },
    {
      "cell_type": "markdown",
      "metadata": {
        "id": "-u7jEYZ-au9S"
      },
      "source": [
        "**Evaluasi Model**"
      ]
    },
    {
      "cell_type": "code",
      "metadata": {
        "id": "rhq55YIajfwA",
        "colab": {
          "base_uri": "https://localhost:8080/",
          "height": 324
        },
        "outputId": "acd397a1-9097-44f3-ce8d-ec134e3cd0c0"
      },
      "source": [
        "df[[\"Absolute_magnitude(Mv)\",\"Temperature (K)\"]].nlargest(20,\"Absolute_magnitude(Mv)\").plot.bar(x=\"Absolute_magnitude(Mv)\",y=\"Temperature (K)\",width=0.4,)#'vertical', 'horizontal',color=color\r\n",
        "plt.title(\"Absolute Magnitude dan Temperature\",fontsize=20)\r\n",
        "plt.xlabel(\"Absolute Magnitude\",fontsize=15)\r\n",
        "plt.ylabel(\"Berdasarkan Klarifikasi\",fontsize=15)\r\n",
        "plt.show()"
      ],
      "execution_count": null,
      "outputs": [
        {
          "output_type": "display_data",
          "data": {
            "image/png": "[encoded data removed]",
            "text/plain": [
              "<Figure size 432x288 with 1 Axes>"
            ]
          },
          "metadata": {
            "tags": [],
            "needs_background": "light"
          }
        }
      ]
    },
    {
      "cell_type": "markdown",
      "metadata": {
        "id": "57V291sTq_ut"
      },
      "source": [
        "**Jumlah Star type tertinggi**"
      ]
    },
    {
      "cell_type": "code",
      "metadata": {
        "id": "1uchp5E3032i",
        "colab": {
          "base_uri": "https://localhost:8080/",
          "height": 1000
        },
        "outputId": "8a0ddef6-678f-4a63-c40b-e42963759281"
      },
      "source": [
        "df[df.Star_type == max(df.Star_type)]"
      ],
      "execution_count": null,
      "outputs": [
        {
          "output_type": "execute_result",
          "data": {
            "text/html": [
              "<div>\n",
              "<style scoped>\n",
              "    .dataframe tbody tr th:only-of-type {\n",
              "        vertical-align: middle;\n",
              "    }\n",
              "\n",
              "    .dataframe tbody tr th {\n",
              "        vertical-align: top;\n",
              "    }\n",
              "\n",
              "    .dataframe thead th {\n",
              "        text-align: right;\n",
              "    }\n",
              "</style>\n",
              "<table border=\"1\" class=\"dataframe\">\n",
              "  <thead>\n",
              "    <tr style=\"text-align: right;\">\n",
              "      <th></th>\n",
              "      <th>Temperature (K)</th>\n",
              "      <th>Luminosity(L/Lo)</th>\n",
              "      <th>Radius(R/Ro)</th>\n",
              "      <th>Absolute_magnitude(Mv)</th>\n",
              "      <th>Star_type</th>\n",
              "      <th>Star_color</th>\n",
              "      <th>Spectral_Class</th>\n",
              "    </tr>\n",
              "  </thead>\n",
              "  <tbody>\n",
              "    <tr>\n",
              "      <th>50</th>\n",
              "      <td>3490</td>\n",
              "      <td>270000.0</td>\n",
              "      <td>1520.0</td>\n",
              "      <td>-9.40</td>\n",
              "      <td>5</td>\n",
              "      <td>Red</td>\n",
              "      <td>M</td>\n",
              "    </tr>\n",
              "    <tr>\n",
              "      <th>51</th>\n",
              "      <td>3750</td>\n",
              "      <td>283000.0</td>\n",
              "      <td>1260.0</td>\n",
              "      <td>-7.63</td>\n",
              "      <td>5</td>\n",
              "      <td>Red</td>\n",
              "      <td>M</td>\n",
              "    </tr>\n",
              "    <tr>\n",
              "      <th>52</th>\n",
              "      <td>3834</td>\n",
              "      <td>272000.0</td>\n",
              "      <td>1183.0</td>\n",
              "      <td>-9.20</td>\n",
              "      <td>5</td>\n",
              "      <td>Red</td>\n",
              "      <td>M</td>\n",
              "    </tr>\n",
              "    <tr>\n",
              "      <th>53</th>\n",
              "      <td>3749</td>\n",
              "      <td>550000.0</td>\n",
              "      <td>1648.0</td>\n",
              "      <td>-8.05</td>\n",
              "      <td>5</td>\n",
              "      <td>Orange</td>\n",
              "      <td>M</td>\n",
              "    </tr>\n",
              "    <tr>\n",
              "      <th>54</th>\n",
              "      <td>3650</td>\n",
              "      <td>310000.0</td>\n",
              "      <td>1324.0</td>\n",
              "      <td>-7.79</td>\n",
              "      <td>5</td>\n",
              "      <td>Red</td>\n",
              "      <td>M</td>\n",
              "    </tr>\n",
              "    <tr>\n",
              "      <th>55</th>\n",
              "      <td>3450</td>\n",
              "      <td>263000.0</td>\n",
              "      <td>1349.0</td>\n",
              "      <td>-11.75</td>\n",
              "      <td>5</td>\n",
              "      <td>Red</td>\n",
              "      <td>M</td>\n",
              "    </tr>\n",
              "    <tr>\n",
              "      <th>56</th>\n",
              "      <td>3660</td>\n",
              "      <td>363000.0</td>\n",
              "      <td>1673.0</td>\n",
              "      <td>-11.92</td>\n",
              "      <td>5</td>\n",
              "      <td>Red</td>\n",
              "      <td>M</td>\n",
              "    </tr>\n",
              "    <tr>\n",
              "      <th>57</th>\n",
              "      <td>3450</td>\n",
              "      <td>174000.0</td>\n",
              "      <td>1284.0</td>\n",
              "      <td>-11.28</td>\n",
              "      <td>5</td>\n",
              "      <td>Red</td>\n",
              "      <td>M</td>\n",
              "    </tr>\n",
              "    <tr>\n",
              "      <th>58</th>\n",
              "      <td>3752</td>\n",
              "      <td>209000.0</td>\n",
              "      <td>955.0</td>\n",
              "      <td>-11.24</td>\n",
              "      <td>5</td>\n",
              "      <td>Red</td>\n",
              "      <td>M</td>\n",
              "    </tr>\n",
              "    <tr>\n",
              "      <th>59</th>\n",
              "      <td>3535</td>\n",
              "      <td>195000.0</td>\n",
              "      <td>1546.0</td>\n",
              "      <td>-11.36</td>\n",
              "      <td>5</td>\n",
              "      <td>Red</td>\n",
              "      <td>M</td>\n",
              "    </tr>\n",
              "    <tr>\n",
              "      <th>110</th>\n",
              "      <td>3459</td>\n",
              "      <td>100000.0</td>\n",
              "      <td>1289.0</td>\n",
              "      <td>-10.70</td>\n",
              "      <td>5</td>\n",
              "      <td>Red</td>\n",
              "      <td>M</td>\n",
              "    </tr>\n",
              "    <tr>\n",
              "      <th>111</th>\n",
              "      <td>3605</td>\n",
              "      <td>126000.0</td>\n",
              "      <td>1124.0</td>\n",
              "      <td>-10.81</td>\n",
              "      <td>5</td>\n",
              "      <td>Red</td>\n",
              "      <td>M</td>\n",
              "    </tr>\n",
              "    <tr>\n",
              "      <th>112</th>\n",
              "      <td>3615</td>\n",
              "      <td>200000.0</td>\n",
              "      <td>1635.0</td>\n",
              "      <td>-11.33</td>\n",
              "      <td>5</td>\n",
              "      <td>Red</td>\n",
              "      <td>M</td>\n",
              "    </tr>\n",
              "    <tr>\n",
              "      <th>113</th>\n",
              "      <td>3399</td>\n",
              "      <td>117000.0</td>\n",
              "      <td>1486.0</td>\n",
              "      <td>-10.92</td>\n",
              "      <td>5</td>\n",
              "      <td>Red</td>\n",
              "      <td>M</td>\n",
              "    </tr>\n",
              "    <tr>\n",
              "      <th>114</th>\n",
              "      <td>3610</td>\n",
              "      <td>132000.0</td>\n",
              "      <td>1522.0</td>\n",
              "      <td>-10.86</td>\n",
              "      <td>5</td>\n",
              "      <td>Red</td>\n",
              "      <td>M</td>\n",
              "    </tr>\n",
              "    <tr>\n",
              "      <th>115</th>\n",
              "      <td>3553</td>\n",
              "      <td>145000.0</td>\n",
              "      <td>1324.0</td>\n",
              "      <td>-11.03</td>\n",
              "      <td>5</td>\n",
              "      <td>Red</td>\n",
              "      <td>M</td>\n",
              "    </tr>\n",
              "    <tr>\n",
              "      <th>116</th>\n",
              "      <td>4015</td>\n",
              "      <td>282000.0</td>\n",
              "      <td>1534.0</td>\n",
              "      <td>-11.39</td>\n",
              "      <td>5</td>\n",
              "      <td>Red</td>\n",
              "      <td>K</td>\n",
              "    </tr>\n",
              "    <tr>\n",
              "      <th>117</th>\n",
              "      <td>3625</td>\n",
              "      <td>74000.0</td>\n",
              "      <td>876.0</td>\n",
              "      <td>-10.25</td>\n",
              "      <td>5</td>\n",
              "      <td>Red</td>\n",
              "      <td>M</td>\n",
              "    </tr>\n",
              "    <tr>\n",
              "      <th>118</th>\n",
              "      <td>6850</td>\n",
              "      <td>229000.0</td>\n",
              "      <td>1467.0</td>\n",
              "      <td>-10.07</td>\n",
              "      <td>5</td>\n",
              "      <td>Red</td>\n",
              "      <td>G</td>\n",
              "    </tr>\n",
              "    <tr>\n",
              "      <th>119</th>\n",
              "      <td>3780</td>\n",
              "      <td>200000.0</td>\n",
              "      <td>1324.0</td>\n",
              "      <td>-10.70</td>\n",
              "      <td>5</td>\n",
              "      <td>Red</td>\n",
              "      <td>M</td>\n",
              "    </tr>\n",
              "    <tr>\n",
              "      <th>170</th>\n",
              "      <td>3570</td>\n",
              "      <td>320000.0</td>\n",
              "      <td>1480.0</td>\n",
              "      <td>-7.58</td>\n",
              "      <td>5</td>\n",
              "      <td>Red</td>\n",
              "      <td>M</td>\n",
              "    </tr>\n",
              "    <tr>\n",
              "      <th>171</th>\n",
              "      <td>3500</td>\n",
              "      <td>138000.0</td>\n",
              "      <td>1420.0</td>\n",
              "      <td>-8.18</td>\n",
              "      <td>5</td>\n",
              "      <td>Red</td>\n",
              "      <td>M</td>\n",
              "    </tr>\n",
              "    <tr>\n",
              "      <th>172</th>\n",
              "      <td>4287</td>\n",
              "      <td>630000.0</td>\n",
              "      <td>1315.0</td>\n",
              "      <td>-9.20</td>\n",
              "      <td>5</td>\n",
              "      <td>Orange</td>\n",
              "      <td>K</td>\n",
              "    </tr>\n",
              "    <tr>\n",
              "      <th>173</th>\n",
              "      <td>26000</td>\n",
              "      <td>316000.0</td>\n",
              "      <td>1679.0</td>\n",
              "      <td>-9.10</td>\n",
              "      <td>5</td>\n",
              "      <td>Blue</td>\n",
              "      <td>B</td>\n",
              "    </tr>\n",
              "    <tr>\n",
              "      <th>174</th>\n",
              "      <td>3600</td>\n",
              "      <td>240000.0</td>\n",
              "      <td>1190.0</td>\n",
              "      <td>-7.89</td>\n",
              "      <td>5</td>\n",
              "      <td>Red</td>\n",
              "      <td>M</td>\n",
              "    </tr>\n",
              "    <tr>\n",
              "      <th>175</th>\n",
              "      <td>3614</td>\n",
              "      <td>145000.0</td>\n",
              "      <td>1553.0</td>\n",
              "      <td>-7.71</td>\n",
              "      <td>5</td>\n",
              "      <td>Red</td>\n",
              "      <td>M</td>\n",
              "    </tr>\n",
              "    <tr>\n",
              "      <th>176</th>\n",
              "      <td>18000</td>\n",
              "      <td>200000.0</td>\n",
              "      <td>1045.0</td>\n",
              "      <td>-8.30</td>\n",
              "      <td>5</td>\n",
              "      <td>Blue</td>\n",
              "      <td>O</td>\n",
              "    </tr>\n",
              "    <tr>\n",
              "      <th>177</th>\n",
              "      <td>11000</td>\n",
              "      <td>170000.0</td>\n",
              "      <td>1779.0</td>\n",
              "      <td>-9.90</td>\n",
              "      <td>5</td>\n",
              "      <td>Blue-white</td>\n",
              "      <td>B</td>\n",
              "    </tr>\n",
              "    <tr>\n",
              "      <th>178</th>\n",
              "      <td>12100</td>\n",
              "      <td>120000.0</td>\n",
              "      <td>708.9</td>\n",
              "      <td>-7.84</td>\n",
              "      <td>5</td>\n",
              "      <td>Blue-white</td>\n",
              "      <td>B</td>\n",
              "    </tr>\n",
              "    <tr>\n",
              "      <th>179</th>\n",
              "      <td>24490</td>\n",
              "      <td>248490.0</td>\n",
              "      <td>1134.5</td>\n",
              "      <td>-8.24</td>\n",
              "      <td>5</td>\n",
              "      <td>Blue-white</td>\n",
              "      <td>B</td>\n",
              "    </tr>\n",
              "    <tr>\n",
              "      <th>230</th>\n",
              "      <td>24145</td>\n",
              "      <td>382993.0</td>\n",
              "      <td>1494.0</td>\n",
              "      <td>-8.84</td>\n",
              "      <td>5</td>\n",
              "      <td>Blue-white</td>\n",
              "      <td>B</td>\n",
              "    </tr>\n",
              "    <tr>\n",
              "      <th>231</th>\n",
              "      <td>38234</td>\n",
              "      <td>272830.0</td>\n",
              "      <td>1356.0</td>\n",
              "      <td>-9.29</td>\n",
              "      <td>5</td>\n",
              "      <td>Blue</td>\n",
              "      <td>O</td>\n",
              "    </tr>\n",
              "    <tr>\n",
              "      <th>232</th>\n",
              "      <td>32489</td>\n",
              "      <td>648430.0</td>\n",
              "      <td>1948.5</td>\n",
              "      <td>-10.84</td>\n",
              "      <td>5</td>\n",
              "      <td>Blue</td>\n",
              "      <td>O</td>\n",
              "    </tr>\n",
              "    <tr>\n",
              "      <th>233</th>\n",
              "      <td>27739</td>\n",
              "      <td>849420.0</td>\n",
              "      <td>1252.0</td>\n",
              "      <td>-7.59</td>\n",
              "      <td>5</td>\n",
              "      <td>Blue-white</td>\n",
              "      <td>B</td>\n",
              "    </tr>\n",
              "    <tr>\n",
              "      <th>234</th>\n",
              "      <td>21904</td>\n",
              "      <td>748490.0</td>\n",
              "      <td>1130.0</td>\n",
              "      <td>-7.67</td>\n",
              "      <td>5</td>\n",
              "      <td>Blue-white</td>\n",
              "      <td>B</td>\n",
              "    </tr>\n",
              "    <tr>\n",
              "      <th>235</th>\n",
              "      <td>38940</td>\n",
              "      <td>374830.0</td>\n",
              "      <td>1356.0</td>\n",
              "      <td>-9.93</td>\n",
              "      <td>5</td>\n",
              "      <td>Blue</td>\n",
              "      <td>O</td>\n",
              "    </tr>\n",
              "    <tr>\n",
              "      <th>236</th>\n",
              "      <td>30839</td>\n",
              "      <td>834042.0</td>\n",
              "      <td>1194.0</td>\n",
              "      <td>-10.63</td>\n",
              "      <td>5</td>\n",
              "      <td>Blue</td>\n",
              "      <td>O</td>\n",
              "    </tr>\n",
              "    <tr>\n",
              "      <th>237</th>\n",
              "      <td>8829</td>\n",
              "      <td>537493.0</td>\n",
              "      <td>1423.0</td>\n",
              "      <td>-10.73</td>\n",
              "      <td>5</td>\n",
              "      <td>White</td>\n",
              "      <td>A</td>\n",
              "    </tr>\n",
              "    <tr>\n",
              "      <th>238</th>\n",
              "      <td>9235</td>\n",
              "      <td>404940.0</td>\n",
              "      <td>1112.0</td>\n",
              "      <td>-11.23</td>\n",
              "      <td>5</td>\n",
              "      <td>White</td>\n",
              "      <td>A</td>\n",
              "    </tr>\n",
              "    <tr>\n",
              "      <th>239</th>\n",
              "      <td>37882</td>\n",
              "      <td>294903.0</td>\n",
              "      <td>1783.0</td>\n",
              "      <td>-7.80</td>\n",
              "      <td>5</td>\n",
              "      <td>Blue</td>\n",
              "      <td>O</td>\n",
              "    </tr>\n",
              "  </tbody>\n",
              "</table>\n",
              "</div>"
            ],
            "text/plain": [
              "     Temperature (K)  Luminosity(L/Lo)  ...  Star_color  Spectral_Class\n",
              "50              3490          270000.0  ...         Red               M\n",
              "51              3750          283000.0  ...         Red               M\n",
              "52              3834          272000.0  ...         Red               M\n",
              "53              3749          550000.0  ...      Orange               M\n",
              "54              3650          310000.0  ...         Red               M\n",
              "55              3450          263000.0  ...         Red               M\n",
              "56              3660          363000.0  ...         Red               M\n",
              "57              3450          174000.0  ...         Red               M\n",
              "58              3752          209000.0  ...         Red               M\n",
              "59              3535          195000.0  ...         Red               M\n",
              "110             3459          100000.0  ...         Red               M\n",
              "111             3605          126000.0  ...         Red               M\n",
              "112             3615          200000.0  ...         Red               M\n",
              "113             3399          117000.0  ...         Red               M\n",
              "114             3610          132000.0  ...         Red               M\n",
              "115             3553          145000.0  ...         Red               M\n",
              "116             4015          282000.0  ...         Red               K\n",
              "117             3625           74000.0  ...         Red               M\n",
              "118             6850          229000.0  ...         Red               G\n",
              "119             3780          200000.0  ...         Red               M\n",
              "170             3570          320000.0  ...         Red               M\n",
              "171             3500          138000.0  ...         Red               M\n",
              "172             4287          630000.0  ...      Orange               K\n",
              "173            26000          316000.0  ...        Blue               B\n",
              "174             3600          240000.0  ...         Red               M\n",
              "175             3614          145000.0  ...         Red               M\n",
              "176            18000          200000.0  ...        Blue               O\n",
              "177            11000          170000.0  ...  Blue-white               B\n",
              "178            12100          120000.0  ...  Blue-white               B\n",
              "179            24490          248490.0  ...  Blue-white               B\n",
              "230            24145          382993.0  ...  Blue-white               B\n",
              "231            38234          272830.0  ...        Blue               O\n",
              "232            32489          648430.0  ...        Blue               O\n",
              "233            27739          849420.0  ...  Blue-white               B\n",
              "234            21904          748490.0  ...  Blue-white               B\n",
              "235            38940          374830.0  ...        Blue               O\n",
              "236            30839          834042.0  ...        Blue               O\n",
              "237             8829          537493.0  ...       White               A\n",
              "238             9235          404940.0  ...       White               A\n",
              "239            37882          294903.0  ...        Blue               O\n",
              "\n",
              "[40 rows x 7 columns]"
            ]
          },
          "metadata": {
            "tags": []
          },
          "execution_count": 45
        }
      ]
    },
    {
      "cell_type": "markdown",
      "metadata": {
        "id": "kl8_UVCDZvzY"
      },
      "source": [
        "**Jumlah Star type terendah**"
      ]
    },
    {
      "cell_type": "code",
      "metadata": {
        "id": "GTVePdGF2iPZ",
        "colab": {
          "base_uri": "https://localhost:8080/",
          "height": 1000
        },
        "outputId": "0e21d66b-c1f0-4a27-8e49-40aab222d4bc"
      },
      "source": [
        "df[df.Star_type == min(df.Star_type)]"
      ],
      "execution_count": null,
      "outputs": [
        {
          "output_type": "execute_result",
          "data": {
            "text/html": [
              "<div>\n",
              "<style scoped>\n",
              "    .dataframe tbody tr th:only-of-type {\n",
              "        vertical-align: middle;\n",
              "    }\n",
              "\n",
              "    .dataframe tbody tr th {\n",
              "        vertical-align: top;\n",
              "    }\n",
              "\n",
              "    .dataframe thead th {\n",
              "        text-align: right;\n",
              "    }\n",
              "</style>\n",
              "<table border=\"1\" class=\"dataframe\">\n",
              "  <thead>\n",
              "    <tr style=\"text-align: right;\">\n",
              "      <th></th>\n",
              "      <th>Temperature (K)</th>\n",
              "      <th>Luminosity(L/Lo)</th>\n",
              "      <th>Radius(R/Ro)</th>\n",
              "      <th>Absolute_magnitude(Mv)</th>\n",
              "      <th>Star_type</th>\n",
              "      <th>Star_color</th>\n",
              "      <th>Spectral_Class</th>\n",
              "    </tr>\n",
              "  </thead>\n",
              "  <tbody>\n",
              "    <tr>\n",
              "      <th>0</th>\n",
              "      <td>3068</td>\n",
              "      <td>0.002400</td>\n",
              "      <td>0.1700</td>\n",
              "      <td>16.12</td>\n",
              "      <td>0</td>\n",
              "      <td>Red</td>\n",
              "      <td>M</td>\n",
              "    </tr>\n",
              "    <tr>\n",
              "      <th>1</th>\n",
              "      <td>3042</td>\n",
              "      <td>0.000500</td>\n",
              "      <td>0.1542</td>\n",
              "      <td>16.60</td>\n",
              "      <td>0</td>\n",
              "      <td>Red</td>\n",
              "      <td>M</td>\n",
              "    </tr>\n",
              "    <tr>\n",
              "      <th>2</th>\n",
              "      <td>2600</td>\n",
              "      <td>0.000300</td>\n",
              "      <td>0.1020</td>\n",
              "      <td>18.70</td>\n",
              "      <td>0</td>\n",
              "      <td>Red</td>\n",
              "      <td>M</td>\n",
              "    </tr>\n",
              "    <tr>\n",
              "      <th>3</th>\n",
              "      <td>2800</td>\n",
              "      <td>0.000200</td>\n",
              "      <td>0.1600</td>\n",
              "      <td>16.65</td>\n",
              "      <td>0</td>\n",
              "      <td>Red</td>\n",
              "      <td>M</td>\n",
              "    </tr>\n",
              "    <tr>\n",
              "      <th>4</th>\n",
              "      <td>1939</td>\n",
              "      <td>0.000138</td>\n",
              "      <td>0.1030</td>\n",
              "      <td>20.06</td>\n",
              "      <td>0</td>\n",
              "      <td>Red</td>\n",
              "      <td>M</td>\n",
              "    </tr>\n",
              "    <tr>\n",
              "      <th>5</th>\n",
              "      <td>2840</td>\n",
              "      <td>0.000650</td>\n",
              "      <td>0.1100</td>\n",
              "      <td>16.98</td>\n",
              "      <td>0</td>\n",
              "      <td>Red</td>\n",
              "      <td>M</td>\n",
              "    </tr>\n",
              "    <tr>\n",
              "      <th>6</th>\n",
              "      <td>2637</td>\n",
              "      <td>0.000730</td>\n",
              "      <td>0.1270</td>\n",
              "      <td>17.22</td>\n",
              "      <td>0</td>\n",
              "      <td>Red</td>\n",
              "      <td>M</td>\n",
              "    </tr>\n",
              "    <tr>\n",
              "      <th>7</th>\n",
              "      <td>2600</td>\n",
              "      <td>0.000400</td>\n",
              "      <td>0.0960</td>\n",
              "      <td>17.40</td>\n",
              "      <td>0</td>\n",
              "      <td>Red</td>\n",
              "      <td>M</td>\n",
              "    </tr>\n",
              "    <tr>\n",
              "      <th>8</th>\n",
              "      <td>2650</td>\n",
              "      <td>0.000690</td>\n",
              "      <td>0.1100</td>\n",
              "      <td>17.45</td>\n",
              "      <td>0</td>\n",
              "      <td>Red</td>\n",
              "      <td>M</td>\n",
              "    </tr>\n",
              "    <tr>\n",
              "      <th>9</th>\n",
              "      <td>2700</td>\n",
              "      <td>0.000180</td>\n",
              "      <td>0.1300</td>\n",
              "      <td>16.05</td>\n",
              "      <td>0</td>\n",
              "      <td>Red</td>\n",
              "      <td>M</td>\n",
              "    </tr>\n",
              "    <tr>\n",
              "      <th>60</th>\n",
              "      <td>3341</td>\n",
              "      <td>0.005600</td>\n",
              "      <td>0.0570</td>\n",
              "      <td>16.23</td>\n",
              "      <td>0</td>\n",
              "      <td>Red</td>\n",
              "      <td>M</td>\n",
              "    </tr>\n",
              "    <tr>\n",
              "      <th>61</th>\n",
              "      <td>3432</td>\n",
              "      <td>0.000670</td>\n",
              "      <td>0.1900</td>\n",
              "      <td>16.94</td>\n",
              "      <td>0</td>\n",
              "      <td>Red</td>\n",
              "      <td>M</td>\n",
              "    </tr>\n",
              "    <tr>\n",
              "      <th>62</th>\n",
              "      <td>2983</td>\n",
              "      <td>0.000240</td>\n",
              "      <td>0.0940</td>\n",
              "      <td>16.09</td>\n",
              "      <td>0</td>\n",
              "      <td>Red</td>\n",
              "      <td>M</td>\n",
              "    </tr>\n",
              "    <tr>\n",
              "      <th>63</th>\n",
              "      <td>2835</td>\n",
              "      <td>0.000340</td>\n",
              "      <td>0.0918</td>\n",
              "      <td>16.96</td>\n",
              "      <td>0</td>\n",
              "      <td>Red</td>\n",
              "      <td>M</td>\n",
              "    </tr>\n",
              "    <tr>\n",
              "      <th>64</th>\n",
              "      <td>2935</td>\n",
              "      <td>0.000140</td>\n",
              "      <td>0.1160</td>\n",
              "      <td>18.89</td>\n",
              "      <td>0</td>\n",
              "      <td>Red</td>\n",
              "      <td>M</td>\n",
              "    </tr>\n",
              "    <tr>\n",
              "      <th>65</th>\n",
              "      <td>3295</td>\n",
              "      <td>0.000980</td>\n",
              "      <td>0.1320</td>\n",
              "      <td>17.13</td>\n",
              "      <td>0</td>\n",
              "      <td>Red</td>\n",
              "      <td>M</td>\n",
              "    </tr>\n",
              "    <tr>\n",
              "      <th>66</th>\n",
              "      <td>2945</td>\n",
              "      <td>0.000320</td>\n",
              "      <td>0.0930</td>\n",
              "      <td>18.34</td>\n",
              "      <td>0</td>\n",
              "      <td>Red</td>\n",
              "      <td>M</td>\n",
              "    </tr>\n",
              "    <tr>\n",
              "      <th>67</th>\n",
              "      <td>2817</td>\n",
              "      <td>0.000980</td>\n",
              "      <td>0.0911</td>\n",
              "      <td>16.45</td>\n",
              "      <td>0</td>\n",
              "      <td>Red</td>\n",
              "      <td>M</td>\n",
              "    </tr>\n",
              "    <tr>\n",
              "      <th>68</th>\n",
              "      <td>2774</td>\n",
              "      <td>0.000360</td>\n",
              "      <td>0.1180</td>\n",
              "      <td>17.39</td>\n",
              "      <td>0</td>\n",
              "      <td>Red</td>\n",
              "      <td>M</td>\n",
              "    </tr>\n",
              "    <tr>\n",
              "      <th>69</th>\n",
              "      <td>2871</td>\n",
              "      <td>0.000720</td>\n",
              "      <td>0.1200</td>\n",
              "      <td>19.43</td>\n",
              "      <td>0</td>\n",
              "      <td>Red</td>\n",
              "      <td>M</td>\n",
              "    </tr>\n",
              "    <tr>\n",
              "      <th>120</th>\n",
              "      <td>3323</td>\n",
              "      <td>0.000430</td>\n",
              "      <td>0.0912</td>\n",
              "      <td>17.16</td>\n",
              "      <td>0</td>\n",
              "      <td>Red</td>\n",
              "      <td>M</td>\n",
              "    </tr>\n",
              "    <tr>\n",
              "      <th>121</th>\n",
              "      <td>3531</td>\n",
              "      <td>0.000930</td>\n",
              "      <td>0.0976</td>\n",
              "      <td>19.94</td>\n",
              "      <td>0</td>\n",
              "      <td>Red</td>\n",
              "      <td>M</td>\n",
              "    </tr>\n",
              "    <tr>\n",
              "      <th>122</th>\n",
              "      <td>3218</td>\n",
              "      <td>0.000540</td>\n",
              "      <td>0.1100</td>\n",
              "      <td>20.02</td>\n",
              "      <td>0</td>\n",
              "      <td>Red</td>\n",
              "      <td>M</td>\n",
              "    </tr>\n",
              "    <tr>\n",
              "      <th>123</th>\n",
              "      <td>3146</td>\n",
              "      <td>0.000150</td>\n",
              "      <td>0.0932</td>\n",
              "      <td>16.92</td>\n",
              "      <td>0</td>\n",
              "      <td>Red</td>\n",
              "      <td>M</td>\n",
              "    </tr>\n",
              "    <tr>\n",
              "      <th>124</th>\n",
              "      <td>3511</td>\n",
              "      <td>0.000640</td>\n",
              "      <td>0.1090</td>\n",
              "      <td>17.12</td>\n",
              "      <td>0</td>\n",
              "      <td>Red</td>\n",
              "      <td>M</td>\n",
              "    </tr>\n",
              "    <tr>\n",
              "      <th>125</th>\n",
              "      <td>3225</td>\n",
              "      <td>0.000760</td>\n",
              "      <td>0.1210</td>\n",
              "      <td>19.63</td>\n",
              "      <td>0</td>\n",
              "      <td>Red</td>\n",
              "      <td>M</td>\n",
              "    </tr>\n",
              "    <tr>\n",
              "      <th>126</th>\n",
              "      <td>2935</td>\n",
              "      <td>0.000870</td>\n",
              "      <td>0.0932</td>\n",
              "      <td>16.88</td>\n",
              "      <td>0</td>\n",
              "      <td>Red</td>\n",
              "      <td>M</td>\n",
              "    </tr>\n",
              "    <tr>\n",
              "      <th>127</th>\n",
              "      <td>2861</td>\n",
              "      <td>0.000190</td>\n",
              "      <td>0.0899</td>\n",
              "      <td>16.71</td>\n",
              "      <td>0</td>\n",
              "      <td>Red</td>\n",
              "      <td>M</td>\n",
              "    </tr>\n",
              "    <tr>\n",
              "      <th>128</th>\n",
              "      <td>2856</td>\n",
              "      <td>0.000896</td>\n",
              "      <td>0.0782</td>\n",
              "      <td>19.56</td>\n",
              "      <td>0</td>\n",
              "      <td>Red</td>\n",
              "      <td>M</td>\n",
              "    </tr>\n",
              "    <tr>\n",
              "      <th>129</th>\n",
              "      <td>2731</td>\n",
              "      <td>0.000437</td>\n",
              "      <td>0.0856</td>\n",
              "      <td>18.09</td>\n",
              "      <td>0</td>\n",
              "      <td>Red</td>\n",
              "      <td>M</td>\n",
              "    </tr>\n",
              "    <tr>\n",
              "      <th>180</th>\n",
              "      <td>2831</td>\n",
              "      <td>0.000231</td>\n",
              "      <td>0.0915</td>\n",
              "      <td>16.21</td>\n",
              "      <td>0</td>\n",
              "      <td>Red</td>\n",
              "      <td>M</td>\n",
              "    </tr>\n",
              "    <tr>\n",
              "      <th>181</th>\n",
              "      <td>2914</td>\n",
              "      <td>0.000631</td>\n",
              "      <td>0.1160</td>\n",
              "      <td>18.39</td>\n",
              "      <td>0</td>\n",
              "      <td>Red</td>\n",
              "      <td>M</td>\n",
              "    </tr>\n",
              "    <tr>\n",
              "      <th>182</th>\n",
              "      <td>3419</td>\n",
              "      <td>0.000245</td>\n",
              "      <td>0.1260</td>\n",
              "      <td>17.56</td>\n",
              "      <td>0</td>\n",
              "      <td>Red</td>\n",
              "      <td>M</td>\n",
              "    </tr>\n",
              "    <tr>\n",
              "      <th>183</th>\n",
              "      <td>3218</td>\n",
              "      <td>0.000452</td>\n",
              "      <td>0.0987</td>\n",
              "      <td>17.34</td>\n",
              "      <td>0</td>\n",
              "      <td>Red</td>\n",
              "      <td>M</td>\n",
              "    </tr>\n",
              "    <tr>\n",
              "      <th>184</th>\n",
              "      <td>3453</td>\n",
              "      <td>0.000621</td>\n",
              "      <td>0.0773</td>\n",
              "      <td>17.08</td>\n",
              "      <td>0</td>\n",
              "      <td>Red</td>\n",
              "      <td>M</td>\n",
              "    </tr>\n",
              "    <tr>\n",
              "      <th>185</th>\n",
              "      <td>2889</td>\n",
              "      <td>0.000352</td>\n",
              "      <td>0.0973</td>\n",
              "      <td>16.93</td>\n",
              "      <td>0</td>\n",
              "      <td>Red</td>\n",
              "      <td>M</td>\n",
              "    </tr>\n",
              "    <tr>\n",
              "      <th>186</th>\n",
              "      <td>2968</td>\n",
              "      <td>0.000461</td>\n",
              "      <td>0.1190</td>\n",
              "      <td>17.45</td>\n",
              "      <td>0</td>\n",
              "      <td>Red</td>\n",
              "      <td>M</td>\n",
              "    </tr>\n",
              "    <tr>\n",
              "      <th>187</th>\n",
              "      <td>3484</td>\n",
              "      <td>0.000551</td>\n",
              "      <td>0.0998</td>\n",
              "      <td>16.67</td>\n",
              "      <td>0</td>\n",
              "      <td>Red</td>\n",
              "      <td>M</td>\n",
              "    </tr>\n",
              "    <tr>\n",
              "      <th>188</th>\n",
              "      <td>2778</td>\n",
              "      <td>0.000849</td>\n",
              "      <td>0.1120</td>\n",
              "      <td>19.45</td>\n",
              "      <td>0</td>\n",
              "      <td>Red</td>\n",
              "      <td>M</td>\n",
              "    </tr>\n",
              "    <tr>\n",
              "      <th>189</th>\n",
              "      <td>3523</td>\n",
              "      <td>0.000957</td>\n",
              "      <td>0.1290</td>\n",
              "      <td>16.35</td>\n",
              "      <td>0</td>\n",
              "      <td>Red</td>\n",
              "      <td>M</td>\n",
              "    </tr>\n",
              "  </tbody>\n",
              "</table>\n",
              "</div>"
            ],
            "text/plain": [
              "     Temperature (K)  Luminosity(L/Lo)  ...  Star_color  Spectral_Class\n",
              "0               3068          0.002400  ...         Red               M\n",
              "1               3042          0.000500  ...         Red               M\n",
              "2               2600          0.000300  ...         Red               M\n",
              "3               2800          0.000200  ...         Red               M\n",
              "4               1939          0.000138  ...         Red               M\n",
              "5               2840          0.000650  ...         Red               M\n",
              "6               2637          0.000730  ...         Red               M\n",
              "7               2600          0.000400  ...         Red               M\n",
              "8               2650          0.000690  ...         Red               M\n",
              "9               2700          0.000180  ...         Red               M\n",
              "60              3341          0.005600  ...         Red               M\n",
              "61              3432          0.000670  ...         Red               M\n",
              "62              2983          0.000240  ...         Red               M\n",
              "63              2835          0.000340  ...         Red               M\n",
              "64              2935          0.000140  ...         Red               M\n",
              "65              3295          0.000980  ...         Red               M\n",
              "66              2945          0.000320  ...         Red               M\n",
              "67              2817          0.000980  ...         Red               M\n",
              "68              2774          0.000360  ...         Red               M\n",
              "69              2871          0.000720  ...         Red               M\n",
              "120             3323          0.000430  ...         Red               M\n",
              "121             3531          0.000930  ...         Red               M\n",
              "122             3218          0.000540  ...         Red               M\n",
              "123             3146          0.000150  ...         Red               M\n",
              "124             3511          0.000640  ...         Red               M\n",
              "125             3225          0.000760  ...         Red               M\n",
              "126             2935          0.000870  ...         Red               M\n",
              "127             2861          0.000190  ...         Red               M\n",
              "128             2856          0.000896  ...         Red               M\n",
              "129             2731          0.000437  ...         Red               M\n",
              "180             2831          0.000231  ...         Red               M\n",
              "181             2914          0.000631  ...         Red               M\n",
              "182             3419          0.000245  ...         Red               M\n",
              "183             3218          0.000452  ...         Red               M\n",
              "184             3453          0.000621  ...         Red               M\n",
              "185             2889          0.000352  ...         Red               M\n",
              "186             2968          0.000461  ...         Red               M\n",
              "187             3484          0.000551  ...         Red               M\n",
              "188             2778          0.000849  ...         Red               M\n",
              "189             3523          0.000957  ...         Red               M\n",
              "\n",
              "[40 rows x 7 columns]"
            ]
          },
          "metadata": {
            "tags": []
          },
          "execution_count": 46
        }
      ]
    },
    {
      "cell_type": "markdown",
      "metadata": {
        "id": "75T923xzY5Iv"
      },
      "source": [
        "**Jumlah Star type tertinggi**"
      ]
    },
    {
      "cell_type": "code",
      "metadata": {
        "id": "3C25MVmJ22E9",
        "colab": {
          "base_uri": "https://localhost:8080/",
          "height": 343
        },
        "outputId": "58cc5108-9b5e-4cbf-c710-dd18a5aac468"
      },
      "source": [
        "df[['Temperature (K)',\t'Luminosity(L/Lo)',\t'Radius(R/Ro)',\t'Absolute_magnitude(Mv)',\t'Star_type',\t'Star_color', 'Spectral_Class']].nlargest(10,\"Star_type\")"
      ],
      "execution_count": null,
      "outputs": [
        {
          "output_type": "execute_result",
          "data": {
            "text/html": [
              "<div>\n",
              "<style scoped>\n",
              "    .dataframe tbody tr th:only-of-type {\n",
              "        vertical-align: middle;\n",
              "    }\n",
              "\n",
              "    .dataframe tbody tr th {\n",
              "        vertical-align: top;\n",
              "    }\n",
              "\n",
              "    .dataframe thead th {\n",
              "        text-align: right;\n",
              "    }\n",
              "</style>\n",
              "<table border=\"1\" class=\"dataframe\">\n",
              "  <thead>\n",
              "    <tr style=\"text-align: right;\">\n",
              "      <th></th>\n",
              "      <th>Temperature (K)</th>\n",
              "      <th>Luminosity(L/Lo)</th>\n",
              "      <th>Radius(R/Ro)</th>\n",
              "      <th>Absolute_magnitude(Mv)</th>\n",
              "      <th>Star_type</th>\n",
              "      <th>Star_color</th>\n",
              "      <th>Spectral_Class</th>\n",
              "    </tr>\n",
              "  </thead>\n",
              "  <tbody>\n",
              "    <tr>\n",
              "      <th>50</th>\n",
              "      <td>3490</td>\n",
              "      <td>270000.0</td>\n",
              "      <td>1520.0</td>\n",
              "      <td>-9.40</td>\n",
              "      <td>5</td>\n",
              "      <td>Red</td>\n",
              "      <td>M</td>\n",
              "    </tr>\n",
              "    <tr>\n",
              "      <th>51</th>\n",
              "      <td>3750</td>\n",
              "      <td>283000.0</td>\n",
              "      <td>1260.0</td>\n",
              "      <td>-7.63</td>\n",
              "      <td>5</td>\n",
              "      <td>Red</td>\n",
              "      <td>M</td>\n",
              "    </tr>\n",
              "    <tr>\n",
              "      <th>52</th>\n",
              "      <td>3834</td>\n",
              "      <td>272000.0</td>\n",
              "      <td>1183.0</td>\n",
              "      <td>-9.20</td>\n",
              "      <td>5</td>\n",
              "      <td>Red</td>\n",
              "      <td>M</td>\n",
              "    </tr>\n",
              "    <tr>\n",
              "      <th>53</th>\n",
              "      <td>3749</td>\n",
              "      <td>550000.0</td>\n",
              "      <td>1648.0</td>\n",
              "      <td>-8.05</td>\n",
              "      <td>5</td>\n",
              "      <td>Orange</td>\n",
              "      <td>M</td>\n",
              "    </tr>\n",
              "    <tr>\n",
              "      <th>54</th>\n",
              "      <td>3650</td>\n",
              "      <td>310000.0</td>\n",
              "      <td>1324.0</td>\n",
              "      <td>-7.79</td>\n",
              "      <td>5</td>\n",
              "      <td>Red</td>\n",
              "      <td>M</td>\n",
              "    </tr>\n",
              "    <tr>\n",
              "      <th>55</th>\n",
              "      <td>3450</td>\n",
              "      <td>263000.0</td>\n",
              "      <td>1349.0</td>\n",
              "      <td>-11.75</td>\n",
              "      <td>5</td>\n",
              "      <td>Red</td>\n",
              "      <td>M</td>\n",
              "    </tr>\n",
              "    <tr>\n",
              "      <th>56</th>\n",
              "      <td>3660</td>\n",
              "      <td>363000.0</td>\n",
              "      <td>1673.0</td>\n",
              "      <td>-11.92</td>\n",
              "      <td>5</td>\n",
              "      <td>Red</td>\n",
              "      <td>M</td>\n",
              "    </tr>\n",
              "    <tr>\n",
              "      <th>57</th>\n",
              "      <td>3450</td>\n",
              "      <td>174000.0</td>\n",
              "      <td>1284.0</td>\n",
              "      <td>-11.28</td>\n",
              "      <td>5</td>\n",
              "      <td>Red</td>\n",
              "      <td>M</td>\n",
              "    </tr>\n",
              "    <tr>\n",
              "      <th>58</th>\n",
              "      <td>3752</td>\n",
              "      <td>209000.0</td>\n",
              "      <td>955.0</td>\n",
              "      <td>-11.24</td>\n",
              "      <td>5</td>\n",
              "      <td>Red</td>\n",
              "      <td>M</td>\n",
              "    </tr>\n",
              "    <tr>\n",
              "      <th>59</th>\n",
              "      <td>3535</td>\n",
              "      <td>195000.0</td>\n",
              "      <td>1546.0</td>\n",
              "      <td>-11.36</td>\n",
              "      <td>5</td>\n",
              "      <td>Red</td>\n",
              "      <td>M</td>\n",
              "    </tr>\n",
              "  </tbody>\n",
              "</table>\n",
              "</div>"
            ],
            "text/plain": [
              "    Temperature (K)  Luminosity(L/Lo)  ...  Star_color  Spectral_Class\n",
              "50             3490          270000.0  ...         Red               M\n",
              "51             3750          283000.0  ...         Red               M\n",
              "52             3834          272000.0  ...         Red               M\n",
              "53             3749          550000.0  ...      Orange               M\n",
              "54             3650          310000.0  ...         Red               M\n",
              "55             3450          263000.0  ...         Red               M\n",
              "56             3660          363000.0  ...         Red               M\n",
              "57             3450          174000.0  ...         Red               M\n",
              "58             3752          209000.0  ...         Red               M\n",
              "59             3535          195000.0  ...         Red               M\n",
              "\n",
              "[10 rows x 7 columns]"
            ]
          },
          "metadata": {
            "tags": []
          },
          "execution_count": 47
        }
      ]
    },
    {
      "cell_type": "markdown",
      "metadata": {
        "id": "Y2C_oQz4ZJ0I"
      },
      "source": [
        "Hasil diatas adalah 10 urutan dari data yang tertinggi. Hasil yang menunjukkan \"Jumlah Star type tertinggi\" pada data diatas tidak ada, karena dataa menunjukkan hasil yang sama"
      ]
    },
    {
      "cell_type": "markdown",
      "metadata": {
        "id": "L755c26jAUJi"
      },
      "source": [
        "**Clustering menggunakan K-Means**"
      ]
    },
    {
      "cell_type": "code",
      "metadata": {
        "id": "FdPGv3uk5Mmz"
      },
      "source": [
        "import pandas as pd\r\n",
        "import numpy as np\r\n",
        "import seaborn as sns\r\n",
        "import matplotlib.pyplot as plt\r\n",
        "from sklearn.cluster import KMeans\r\n",
        "from sklearn.preprocessing import MinMaxScaler"
      ],
      "execution_count": null,
      "outputs": []
    },
    {
      "cell_type": "code",
      "metadata": {
        "id": "UYMnQ0dA5ve_",
        "colab": {
          "base_uri": "https://localhost:8080/",
          "height": 195
        },
        "outputId": "eb4d2190-d5bb-4e06-cb1c-e40584314686"
      },
      "source": [
        "retail = pd.read_csv(\"https://raw.githubusercontent.com/FarhanRamahda/Muhamad-Farhan-Ramahda/main/6_class_csv.csv\")\r\n",
        "retail.head()"
      ],
      "execution_count": null,
      "outputs": [
        {
          "output_type": "execute_result",
          "data": {
            "text/html": [
              "<div>\n",
              "<style scoped>\n",
              "    .dataframe tbody tr th:only-of-type {\n",
              "        vertical-align: middle;\n",
              "    }\n",
              "\n",
              "    .dataframe tbody tr th {\n",
              "        vertical-align: top;\n",
              "    }\n",
              "\n",
              "    .dataframe thead th {\n",
              "        text-align: right;\n",
              "    }\n",
              "</style>\n",
              "<table border=\"1\" class=\"dataframe\">\n",
              "  <thead>\n",
              "    <tr style=\"text-align: right;\">\n",
              "      <th></th>\n",
              "      <th>Temperature (K)</th>\n",
              "      <th>Luminosity(L/Lo)</th>\n",
              "      <th>Radius(R/Ro)</th>\n",
              "      <th>Absolute_magnitude(Mv)</th>\n",
              "      <th>Star_type</th>\n",
              "      <th>Star_color</th>\n",
              "      <th>Spectral_Class</th>\n",
              "    </tr>\n",
              "  </thead>\n",
              "  <tbody>\n",
              "    <tr>\n",
              "      <th>0</th>\n",
              "      <td>3068</td>\n",
              "      <td>0.002400</td>\n",
              "      <td>0.1700</td>\n",
              "      <td>16.12</td>\n",
              "      <td>0</td>\n",
              "      <td>Red</td>\n",
              "      <td>M</td>\n",
              "    </tr>\n",
              "    <tr>\n",
              "      <th>1</th>\n",
              "      <td>3042</td>\n",
              "      <td>0.000500</td>\n",
              "      <td>0.1542</td>\n",
              "      <td>16.60</td>\n",
              "      <td>0</td>\n",
              "      <td>Red</td>\n",
              "      <td>M</td>\n",
              "    </tr>\n",
              "    <tr>\n",
              "      <th>2</th>\n",
              "      <td>2600</td>\n",
              "      <td>0.000300</td>\n",
              "      <td>0.1020</td>\n",
              "      <td>18.70</td>\n",
              "      <td>0</td>\n",
              "      <td>Red</td>\n",
              "      <td>M</td>\n",
              "    </tr>\n",
              "    <tr>\n",
              "      <th>3</th>\n",
              "      <td>2800</td>\n",
              "      <td>0.000200</td>\n",
              "      <td>0.1600</td>\n",
              "      <td>16.65</td>\n",
              "      <td>0</td>\n",
              "      <td>Red</td>\n",
              "      <td>M</td>\n",
              "    </tr>\n",
              "    <tr>\n",
              "      <th>4</th>\n",
              "      <td>1939</td>\n",
              "      <td>0.000138</td>\n",
              "      <td>0.1030</td>\n",
              "      <td>20.06</td>\n",
              "      <td>0</td>\n",
              "      <td>Red</td>\n",
              "      <td>M</td>\n",
              "    </tr>\n",
              "  </tbody>\n",
              "</table>\n",
              "</div>"
            ],
            "text/plain": [
              "   Temperature (K)  Luminosity(L/Lo)  ...  Star_color  Spectral_Class\n",
              "0             3068          0.002400  ...         Red               M\n",
              "1             3042          0.000500  ...         Red               M\n",
              "2             2600          0.000300  ...         Red               M\n",
              "3             2800          0.000200  ...         Red               M\n",
              "4             1939          0.000138  ...         Red               M\n",
              "\n",
              "[5 rows x 7 columns]"
            ]
          },
          "metadata": {
            "tags": []
          },
          "execution_count": 50
        }
      ]
    },
    {
      "cell_type": "code",
      "metadata": {
        "id": "Js7aOtoi59m1",
        "colab": {
          "base_uri": "https://localhost:8080/"
        },
        "outputId": "9031609a-7510-4887-8981-c783a88b785e"
      },
      "source": [
        "df.info()"
      ],
      "execution_count": null,
      "outputs": [
        {
          "output_type": "stream",
          "text": [
            "<class 'pandas.core.frame.DataFrame'>\n",
            "RangeIndex: 240 entries, 0 to 239\n",
            "Data columns (total 7 columns):\n",
            " #   Column                  Non-Null Count  Dtype  \n",
            "---  ------                  --------------  -----  \n",
            " 0   Temperature (K)         240 non-null    int64  \n",
            " 1   Luminosity(L/Lo)        240 non-null    float64\n",
            " 2   Radius(R/Ro)            240 non-null    float64\n",
            " 3   Absolute_magnitude(Mv)  240 non-null    float64\n",
            " 4   Star_type               240 non-null    int64  \n",
            " 5   Star_color              240 non-null    object \n",
            " 6   Spectral_Class          240 non-null    object \n",
            "dtypes: float64(3), int64(2), object(2)\n",
            "memory usage: 13.2+ KB\n"
          ],
          "name": "stdout"
        }
      ]
    },
    {
      "cell_type": "code",
      "metadata": {
        "id": "RPWnSgXj619y",
        "colab": {
          "base_uri": "https://localhost:8080/",
          "height": 195
        },
        "outputId": "e5047e50-21ba-488f-cb57-c802077b3360"
      },
      "source": [
        "retail = retail.drop([\"Temperature (K)\", \"Star_color\", \"Spectral_Class\", \"Absolute_magnitude(Mv)\"], axis = 1)\r\n",
        "retail.head()"
      ],
      "execution_count": null,
      "outputs": [
        {
          "output_type": "execute_result",
          "data": {
            "text/html": [
              "<div>\n",
              "<style scoped>\n",
              "    .dataframe tbody tr th:only-of-type {\n",
              "        vertical-align: middle;\n",
              "    }\n",
              "\n",
              "    .dataframe tbody tr th {\n",
              "        vertical-align: top;\n",
              "    }\n",
              "\n",
              "    .dataframe thead th {\n",
              "        text-align: right;\n",
              "    }\n",
              "</style>\n",
              "<table border=\"1\" class=\"dataframe\">\n",
              "  <thead>\n",
              "    <tr style=\"text-align: right;\">\n",
              "      <th></th>\n",
              "      <th>Luminosity(L/Lo)</th>\n",
              "      <th>Radius(R/Ro)</th>\n",
              "      <th>Star_type</th>\n",
              "    </tr>\n",
              "  </thead>\n",
              "  <tbody>\n",
              "    <tr>\n",
              "      <th>0</th>\n",
              "      <td>0.002400</td>\n",
              "      <td>0.1700</td>\n",
              "      <td>0</td>\n",
              "    </tr>\n",
              "    <tr>\n",
              "      <th>1</th>\n",
              "      <td>0.000500</td>\n",
              "      <td>0.1542</td>\n",
              "      <td>0</td>\n",
              "    </tr>\n",
              "    <tr>\n",
              "      <th>2</th>\n",
              "      <td>0.000300</td>\n",
              "      <td>0.1020</td>\n",
              "      <td>0</td>\n",
              "    </tr>\n",
              "    <tr>\n",
              "      <th>3</th>\n",
              "      <td>0.000200</td>\n",
              "      <td>0.1600</td>\n",
              "      <td>0</td>\n",
              "    </tr>\n",
              "    <tr>\n",
              "      <th>4</th>\n",
              "      <td>0.000138</td>\n",
              "      <td>0.1030</td>\n",
              "      <td>0</td>\n",
              "    </tr>\n",
              "  </tbody>\n",
              "</table>\n",
              "</div>"
            ],
            "text/plain": [
              "   Luminosity(L/Lo)  Radius(R/Ro)  Star_type\n",
              "0          0.002400        0.1700          0\n",
              "1          0.000500        0.1542          0\n",
              "2          0.000300        0.1020          0\n",
              "3          0.000200        0.1600          0\n",
              "4          0.000138        0.1030          0"
            ]
          },
          "metadata": {
            "tags": []
          },
          "execution_count": 52
        }
      ]
    },
    {
      "cell_type": "markdown",
      "metadata": {
        "id": "ocl-2AzME3kz"
      },
      "source": [
        "**Membuat cluster**"
      ]
    },
    {
      "cell_type": "code",
      "metadata": {
        "id": "E26JbhZQ7oEI",
        "colab": {
          "base_uri": "https://localhost:8080/",
          "height": 195
        },
        "outputId": "11526b3c-3be3-4bd3-9b1e-079012a9fcad"
      },
      "source": [
        "df_x = df.iloc[:, 2:4]\r\n",
        "df_x.head()"
      ],
      "execution_count": null,
      "outputs": [
        {
          "output_type": "execute_result",
          "data": {
            "text/html": [
              "<div>\n",
              "<style scoped>\n",
              "    .dataframe tbody tr th:only-of-type {\n",
              "        vertical-align: middle;\n",
              "    }\n",
              "\n",
              "    .dataframe tbody tr th {\n",
              "        vertical-align: top;\n",
              "    }\n",
              "\n",
              "    .dataframe thead th {\n",
              "        text-align: right;\n",
              "    }\n",
              "</style>\n",
              "<table border=\"1\" class=\"dataframe\">\n",
              "  <thead>\n",
              "    <tr style=\"text-align: right;\">\n",
              "      <th></th>\n",
              "      <th>Radius(R/Ro)</th>\n",
              "      <th>Absolute_magnitude(Mv)</th>\n",
              "    </tr>\n",
              "  </thead>\n",
              "  <tbody>\n",
              "    <tr>\n",
              "      <th>0</th>\n",
              "      <td>0.1700</td>\n",
              "      <td>16.12</td>\n",
              "    </tr>\n",
              "    <tr>\n",
              "      <th>1</th>\n",
              "      <td>0.1542</td>\n",
              "      <td>16.60</td>\n",
              "    </tr>\n",
              "    <tr>\n",
              "      <th>2</th>\n",
              "      <td>0.1020</td>\n",
              "      <td>18.70</td>\n",
              "    </tr>\n",
              "    <tr>\n",
              "      <th>3</th>\n",
              "      <td>0.1600</td>\n",
              "      <td>16.65</td>\n",
              "    </tr>\n",
              "    <tr>\n",
              "      <th>4</th>\n",
              "      <td>0.1030</td>\n",
              "      <td>20.06</td>\n",
              "    </tr>\n",
              "  </tbody>\n",
              "</table>\n",
              "</div>"
            ],
            "text/plain": [
              "   Radius(R/Ro)  Absolute_magnitude(Mv)\n",
              "0        0.1700                   16.12\n",
              "1        0.1542                   16.60\n",
              "2        0.1020                   18.70\n",
              "3        0.1600                   16.65\n",
              "4        0.1030                   20.06"
            ]
          },
          "metadata": {
            "tags": []
          },
          "execution_count": 53
        }
      ]
    },
    {
      "cell_type": "markdown",
      "metadata": {
        "id": "ptKvk5b8Aj0j"
      },
      "source": [
        "**Mengubah variabel data frame menjadi array sebelum menentukan nilai K**"
      ]
    },
    {
      "cell_type": "code",
      "metadata": {
        "id": "DghVsrp07zk7",
        "colab": {
          "base_uri": "https://localhost:8080/"
        },
        "outputId": "54b5a9fc-089a-4340-cb2a-d920a75cbc4c"
      },
      "source": [
        "x_array = np.array(df_x)\r\n",
        "print(x_array)"
      ],
      "execution_count": null,
      "outputs": [
        {
          "output_type": "stream",
          "text": [
            "[[ 1.7000e-01  1.6120e+01]\n",
            " [ 1.5420e-01  1.6600e+01]\n",
            " [ 1.0200e-01  1.8700e+01]\n",
            " [ 1.6000e-01  1.6650e+01]\n",
            " [ 1.0300e-01  2.0060e+01]\n",
            " [ 1.1000e-01  1.6980e+01]\n",
            " [ 1.2700e-01  1.7220e+01]\n",
            " [ 9.6000e-02  1.7400e+01]\n",
            " [ 1.1000e-01  1.7450e+01]\n",
            " [ 1.3000e-01  1.6050e+01]\n",
            " [ 5.1000e-01  1.0690e+01]\n",
            " [ 3.7610e-01  1.1790e+01]\n",
            " [ 1.9600e-01  1.3210e+01]\n",
            " [ 3.9300e-01  1.0480e+01]\n",
            " [ 1.4000e-01  1.1782e+01]\n",
            " [ 2.4000e-01  1.3070e+01]\n",
            " [ 1.6000e-01  1.4790e+01]\n",
            " [ 4.7000e-01  1.0800e+01]\n",
            " [ 1.9670e-01  1.3530e+01]\n",
            " [ 3.5100e-01  1.1180e+01]\n",
            " [ 8.4000e-03  1.0580e+01]\n",
            " [ 1.2340e-02  1.4020e+01]\n",
            " [ 1.1000e-02  1.4230e+01]\n",
            " [ 1.0000e-02  1.4500e+01]\n",
            " [ 1.4000e-02  1.1890e+01]\n",
            " [ 9.8400e-03  1.2230e+01]\n",
            " [ 9.7000e-03  1.4200e+01]\n",
            " [ 1.2800e-02  1.4470e+01]\n",
            " [ 1.1000e-02  1.2590e+01]\n",
            " [ 1.3000e-02  1.4080e+01]\n",
            " [ 1.0600e+01 -4.7000e+00]\n",
            " [ 6.3000e+00 -4.2000e+00]\n",
            " [ 7.2000e+00 -1.9700e+00]\n",
            " [ 2.8900e+00  1.6000e-01]\n",
            " [ 9.0000e-01  5.0500e+00]\n",
            " [ 1.8000e+00  2.4200e+00]\n",
            " [ 1.1200e+00  2.4100e+00]\n",
            " [ 9.8000e-01  2.9300e+00]\n",
            " [ 1.1060e+00  4.4600e+00]\n",
            " [ 9.9000e-01  5.0300e+00]\n",
            " [ 1.9000e+01 -6.9300e+00]\n",
            " [ 2.3000e+01 -6.2000e+00]\n",
            " [ 8.8000e+01 -6.0200e+00]\n",
            " [ 1.7000e+01 -7.2200e+00]\n",
            " [ 2.5000e+01 -6.0000e+00]\n",
            " [ 2.9000e+01 -6.6000e+00]\n",
            " [ 4.5000e+01 -6.7800e+00]\n",
            " [ 8.9000e+01 -5.2400e+00]\n",
            " [ 8.4000e+01 -6.7400e+00]\n",
            " [ 2.6000e+01 -6.1000e+00]\n",
            " [ 1.5200e+03 -9.4000e+00]\n",
            " [ 1.2600e+03 -7.6300e+00]\n",
            " [ 1.1830e+03 -9.2000e+00]\n",
            " [ 1.6480e+03 -8.0500e+00]\n",
            " [ 1.3240e+03 -7.7900e+00]\n",
            " [ 1.3490e+03 -1.1750e+01]\n",
            " [ 1.6730e+03 -1.1920e+01]\n",
            " [ 1.2840e+03 -1.1280e+01]\n",
            " [ 9.5500e+02 -1.1240e+01]\n",
            " [ 1.5460e+03 -1.1360e+01]\n",
            " [ 5.7000e-02  1.6230e+01]\n",
            " [ 1.9000e-01  1.6940e+01]\n",
            " [ 9.4000e-02  1.6090e+01]\n",
            " [ 9.1800e-02  1.6960e+01]\n",
            " [ 1.1600e-01  1.8890e+01]\n",
            " [ 1.3200e-01  1.7130e+01]\n",
            " [ 9.3000e-02  1.8340e+01]\n",
            " [ 9.1100e-02  1.6450e+01]\n",
            " [ 1.1800e-01  1.7390e+01]\n",
            " [ 1.2000e-01  1.9430e+01]\n",
            " [ 2.7300e-01  1.2300e+01]\n",
            " [ 3.8000e-01  1.0120e+01]\n",
            " [ 1.8000e-01  1.3200e+01]\n",
            " [ 3.5000e-01  1.1940e+01]\n",
            " [ 2.9100e-01  1.0890e+01]\n",
            " [ 3.5000e-01  1.1760e+01]\n",
            " [ 2.4000e-01  1.3460e+01]\n",
            " [ 3.0700e-01  1.1870e+01]\n",
            " [ 9.8000e-02  1.2810e+01]\n",
            " [ 1.6100e-01  1.3980e+01]\n",
            " [ 1.2000e-02  1.4090e+01]\n",
            " [ 9.2000e-03  1.2020e+01]\n",
            " [ 9.5000e-03  1.3780e+01]\n",
            " [ 1.5000e-02  1.2450e+01]\n",
            " [ 8.9000e-03  1.2170e+01]\n",
            " [ 1.0900e-02  1.3980e+01]\n",
            " [ 9.2000e-03  1.2130e+01]\n",
            " [ 8.7000e-03  1.1190e+01]\n",
            " [ 8.9200e-03  1.2970e+01]\n",
            " [ 1.3100e-02  1.1340e+01]\n",
            " [ 9.1000e-01  5.4900e+00]\n",
            " [ 8.6500e-01  6.5060e+00]\n",
            " [ 7.9500e-01  6.2280e+00]\n",
            " [ 1.1300e+00  4.7800e+00]\n",
            " [ 2.6300e+00  1.4500e+00]\n",
            " [ 6.9800e+00 -2.3000e+00]\n",
            " [ 8.7600e-01  4.6800e+00]\n",
            " [ 1.3400e+00  2.4400e+00]\n",
            " [ 7.0100e+00  2.0000e-02]\n",
            " [ 1.0200e+01 -4.4000e+00]\n",
            " [ 1.2000e+01 -6.5000e+00]\n",
            " [ 1.4000e+01 -6.2300e+00]\n",
            " [ 3.6000e+01 -5.7600e+00]\n",
            " [ 8.3000e+01 -6.8900e+00]\n",
            " [ 1.2000e+01 -5.9100e+00]\n",
            " [ 4.2000e+01 -6.1200e+00]\n",
            " [ 6.3000e+01 -5.8300e+00]\n",
            " [ 3.6000e+01 -6.3400e+00]\n",
            " [ 5.7000e+01 -6.2400e+00]\n",
            " [ 6.7000e+01 -5.7900e+00]\n",
            " [ 1.2890e+03 -1.0700e+01]\n",
            " [ 1.1240e+03 -1.0810e+01]\n",
            " [ 1.6350e+03 -1.1330e+01]\n",
            " [ 1.4860e+03 -1.0920e+01]\n",
            " [ 1.5220e+03 -1.0860e+01]\n",
            " [ 1.3240e+03 -1.1030e+01]\n",
            " [ 1.5340e+03 -1.1390e+01]\n",
            " [ 8.7600e+02 -1.0250e+01]\n",
            " [ 1.4670e+03 -1.0070e+01]\n",
            " [ 1.3240e+03 -1.0700e+01]\n",
            " [ 9.1200e-02  1.7160e+01]\n",
            " [ 9.7600e-02  1.9940e+01]\n",
            " [ 1.1000e-01  2.0020e+01]\n",
            " [ 9.3200e-02  1.6920e+01]\n",
            " [ 1.0900e-01  1.7120e+01]\n",
            " [ 1.2100e-01  1.9630e+01]\n",
            " [ 9.3200e-02  1.6880e+01]\n",
            " [ 8.9900e-02  1.6710e+01]\n",
            " [ 7.8200e-02  1.9560e+01]\n",
            " [ 8.5600e-02  1.8090e+01]\n",
            " [ 4.9200e-01  1.0870e+01]\n",
            " [ 3.8000e-01  1.0340e+01]\n",
            " [ 3.1000e-01  1.1170e+01]\n",
            " [ 3.4000e-01  1.3120e+01]\n",
            " [ 6.2000e-01  1.4230e+01]\n",
            " [ 7.3000e-01  1.4750e+01]\n",
            " [ 2.4000e-01  1.1430e+01]\n",
            " [ 5.6000e-01  1.4260e+01]\n",
            " [ 3.4000e-01  1.2230e+01]\n",
            " [ 2.5600e-01  1.4330e+01]\n",
            " [ 9.8100e-03  1.3670e+01]\n",
            " [ 1.1200e-02  1.1520e+01]\n",
            " [ 9.3400e-03  1.2780e+01]\n",
            " [ 9.7200e-03  1.1920e+01]\n",
            " [ 8.9800e-03  1.1380e+01]\n",
            " [ 8.7900e-03  1.4870e+01]\n",
            " [ 9.4500e-03  1.2830e+01]\n",
            " [ 8.9200e-03  1.2890e+01]\n",
            " [ 8.7800e-03  1.4810e+01]\n",
            " [ 9.9600e-03  1.1230e+01]\n",
            " [ 6.0200e+00 -4.0100e+00]\n",
            " [ 2.4870e+00  1.2000e-01]\n",
            " [ 5.7450e+00 -2.0400e+00]\n",
            " [ 5.6800e+00 -3.3200e+00]\n",
            " [ 5.9200e+00 -3.9800e+00]\n",
            " [ 6.4000e+00 -4.0900e+00]\n",
            " [ 5.4900e+00 -3.8000e+00]\n",
            " [ 6.7800e+00 -3.4000e+00]\n",
            " [ 6.2100e+00 -1.3800e+00]\n",
            " [ 6.8600e+00 -4.5600e+00]\n",
            " [ 5.7000e+01 -5.9200e+00]\n",
            " [ 3.6000e+01 -6.2450e+00]\n",
            " [ 8.3000e+01 -5.6200e+00]\n",
            " [ 9.7000e+01 -6.6300e+00]\n",
            " [ 3.5000e+01 -7.3400e+00]\n",
            " [ 2.4000e+01 -7.2200e+00]\n",
            " [ 7.3000e+01 -5.6900e+00]\n",
            " [ 3.9000e+01 -5.8300e+00]\n",
            " [ 3.0000e+01 -6.0900e+00]\n",
            " [ 2.4000e+01 -5.9900e+00]\n",
            " [ 1.4800e+03 -7.5800e+00]\n",
            " [ 1.4200e+03 -8.1800e+00]\n",
            " [ 1.3150e+03 -9.2000e+00]\n",
            " [ 1.6790e+03 -9.1000e+00]\n",
            " [ 1.1900e+03 -7.8900e+00]\n",
            " [ 1.5530e+03 -7.7100e+00]\n",
            " [ 1.0450e+03 -8.3000e+00]\n",
            " [ 1.7790e+03 -9.9000e+00]\n",
            " [ 7.0890e+02 -7.8400e+00]\n",
            " [ 1.1345e+03 -8.2400e+00]\n",
            " [ 9.1500e-02  1.6210e+01]\n",
            " [ 1.1600e-01  1.8390e+01]\n",
            " [ 1.2600e-01  1.7560e+01]\n",
            " [ 9.8700e-02  1.7340e+01]\n",
            " [ 7.7300e-02  1.7080e+01]\n",
            " [ 9.7300e-02  1.6930e+01]\n",
            " [ 1.1900e-01  1.7450e+01]\n",
            " [ 9.9800e-02  1.6670e+01]\n",
            " [ 1.1200e-01  1.9450e+01]\n",
            " [ 1.2900e-01  1.6350e+01]\n",
            " [ 1.4800e-01  1.1470e+01]\n",
            " [ 4.6000e-01  1.0730e+01]\n",
            " [ 2.8000e-01  1.3450e+01]\n",
            " [ 3.7800e-01  1.2854e+01]\n",
            " [ 3.1900e-01  1.2430e+01]\n",
            " [ 6.7000e-01  1.3667e+01]\n",
            " [ 2.5800e-01  1.4120e+01]\n",
            " [ 3.3600e-01  1.4940e+01]\n",
            " [ 4.7100e-01  1.2780e+01]\n",
            " [ 6.7500e-01  1.4776e+01]\n",
            " [ 1.2100e-02  1.2870e+01]\n",
            " [ 1.1400e-02  1.1920e+01]\n",
            " [ 1.1300e-02  1.2230e+01]\n",
            " [ 1.1600e-02  1.2900e+01]\n",
            " [ 1.2400e-02  1.1220e+01]\n",
            " [ 1.4200e-02  1.1340e+01]\n",
            " [ 1.2700e-02  1.0550e+01]\n",
            " [ 1.0400e-02  1.0180e+01]\n",
            " [ 1.0600e-02  1.1660e+01]\n",
            " [ 9.9800e-03  1.1620e+01]\n",
            " [ 6.3600e+00 -3.6700e+00]\n",
            " [ 5.8560e+00  1.3000e-02]\n",
            " [ 5.9920e+00 -1.2000e-01]\n",
            " [ 6.6400e+00 -2.5500e+00]\n",
            " [ 6.3900e+00 -4.5700e+00]\n",
            " [ 6.2370e+00 -4.3600e+00]\n",
            " [ 1.9100e+00  1.2360e+00]\n",
            " [ 6.0300e+00 -3.0800e+00]\n",
            " [ 5.6530e+00 -2.6400e+00]\n",
            " [ 1.9300e+00 -9.8000e-01]\n",
            " [ 3.5000e+01 -6.2700e+00]\n",
            " [ 7.6000e+01 -7.0200e+00]\n",
            " [ 9.8000e+01 -6.9800e+00]\n",
            " [ 8.1000e+01 -5.9750e+00]\n",
            " [ 6.2000e+01 -6.3500e+00]\n",
            " [ 4.6000e+01 -7.4500e+00]\n",
            " [ 8.0000e+01 -7.2620e+00]\n",
            " [ 2.5000e+01 -6.2240e+00]\n",
            " [ 8.6000e+01 -5.9050e+00]\n",
            " [ 9.2000e+01 -7.3460e+00]\n",
            " [ 1.4940e+03 -8.8400e+00]\n",
            " [ 1.3560e+03 -9.2900e+00]\n",
            " [ 1.9485e+03 -1.0840e+01]\n",
            " [ 1.2520e+03 -7.5900e+00]\n",
            " [ 1.1300e+03 -7.6700e+00]\n",
            " [ 1.3560e+03 -9.9300e+00]\n",
            " [ 1.1940e+03 -1.0630e+01]\n",
            " [ 1.4230e+03 -1.0730e+01]\n",
            " [ 1.1120e+03 -1.1230e+01]\n",
            " [ 1.7830e+03 -7.8000e+00]]\n"
          ],
          "name": "stdout"
        }
      ]
    },
    {
      "cell_type": "markdown",
      "metadata": {
        "id": "WTMUpYYeAxj9"
      },
      "source": [
        "**Menstandarkan kembali ukuran variabel array**"
      ]
    },
    {
      "cell_type": "code",
      "metadata": {
        "id": "Zg1VVe9c86Mp",
        "colab": {
          "base_uri": "https://localhost:8080/",
          "height": 297
        },
        "outputId": "8ca40250-a7fb-4cd0-e941-0cd705d8fa28"
      },
      "source": [
        "sns.scatterplot(x=\"Star_type\", y=\"Temperature (K)\", data=df, s=100, color=\"red\" , alpha = 0.5)"
      ],
      "execution_count": null,
      "outputs": [
        {
          "output_type": "execute_result",
          "data": {
            "text/plain": [
              "<matplotlib.axes._subplots.AxesSubplot at 0x7f8329920d30>"
            ]
          },
          "metadata": {
            "tags": []
          },
          "execution_count": 55
        },
        {
          "output_type": "display_data",
          "data": {
            "image/png": "[encoded data removed]",
            "text/plain": [
              "<Figure size 432x288 with 1 Axes>"
            ]
          },
          "metadata": {
            "tags": [],
            "needs_background": "light"
          }
        }
      ]
    },
    {
      "cell_type": "markdown",
      "metadata": {
        "id": "ZmY11ZzGA3-W"
      },
      "source": [
        "Menentukan dan konfigurasi fungsi k-means. syntax berikut merupakan syntax untuk mengelompokkan data menjadi 4 cluster. menentukan nilai K (cluster) dari data."
      ]
    },
    {
      "cell_type": "code",
      "metadata": {
        "id": "vAVsD_n0-eyI",
        "colab": {
          "base_uri": "https://localhost:8080/"
        },
        "outputId": "2ffdb9eb-72c9-47de-e191-6cebcd00438d"
      },
      "source": [
        "scaler = MinMaxScaler()\r\n",
        "x_scaled = scaler.fit_transform(x_array)\r\n",
        "x_scaled"
      ],
      "execution_count": null,
      "outputs": [
        {
          "output_type": "execute_result",
          "data": {
            "text/plain": [
              "array([[8.29359490e-05, 8.76797999e-01],\n",
              "       [7.48271124e-05, 8.91807380e-01],\n",
              "       [4.80371586e-05, 9.57473421e-01],\n",
              "       [7.78037740e-05, 8.93370857e-01],\n",
              "       [4.85503761e-05, 1.00000000e+00],\n",
              "       [5.21428986e-05, 9.03689806e-01],\n",
              "       [6.08675962e-05, 9.11194497e-01],\n",
              "       [4.49578536e-05, 9.16823014e-01],\n",
              "       [5.21428986e-05, 9.18386492e-01],\n",
              "       [6.24072488e-05, 8.74609131e-01],\n",
              "       [2.57429901e-04, 7.07004378e-01],\n",
              "       [1.88710077e-04, 7.41400876e-01],\n",
              "       [9.62796042e-05, 7.85803627e-01],\n",
              "       [1.97383453e-04, 7.00437774e-01],\n",
              "       [6.75394238e-05, 7.41150719e-01],\n",
              "       [1.18861174e-04, 7.81425891e-01],\n",
              "       [7.78037740e-05, 8.35209506e-01],\n",
              "       [2.36901201e-04, 7.10444028e-01],\n",
              "       [9.66388564e-05, 7.95809881e-01],\n",
              "       [1.75828318e-04, 7.22326454e-01],\n",
              "       [0.00000000e+00, 7.03564728e-01],\n",
              "       [2.02207697e-06, 8.11131957e-01],\n",
              "       [1.33436552e-06, 8.17698562e-01],\n",
              "       [8.21148010e-07, 8.26141338e-01],\n",
              "       [2.87401804e-06, 7.44527830e-01],\n",
              "       [7.39033209e-07, 7.55159475e-01],\n",
              "       [6.67182758e-07, 8.16760475e-01],\n",
              "       [2.25815703e-06, 8.25203252e-01],\n",
              "       [1.33436552e-06, 7.66416510e-01],\n",
              "       [2.36080053e-06, 8.13008130e-01],\n",
              "       [5.43579454e-03, 2.25766104e-01],\n",
              "       [3.22895926e-03, 2.41400876e-01],\n",
              "       [3.69085502e-03, 3.11131957e-01],\n",
              "       [1.47888757e-03, 3.77736085e-01],\n",
              "       [4.57584729e-04, 5.30644153e-01],\n",
              "       [9.19480484e-04, 4.48405253e-01],\n",
              "       [5.70492580e-04, 4.48092558e-01],\n",
              "       [4.98642129e-04, 4.64352720e-01],\n",
              "       [5.63307535e-04, 5.12195122e-01],\n",
              "       [5.03774304e-04, 5.30018762e-01],\n",
              "       [9.74682159e-03, 1.56035022e-01],\n",
              "       [1.17996916e-02, 1.78861789e-01],\n",
              "       [4.51588295e-02, 1.84490306e-01],\n",
              "       [8.72038658e-03, 1.46966854e-01],\n",
              "       [1.28261266e-02, 1.85115697e-01],\n",
              "       [1.48789967e-02, 1.66353971e-01],\n",
              "       [2.30904768e-02, 1.60725453e-01],\n",
              "       [4.56720470e-02, 2.08880550e-01],\n",
              "       [4.31059595e-02, 1.61976235e-01],\n",
              "       [1.33393441e-02, 1.81988743e-01],\n",
              "       [7.80086299e-01, 7.87992495e-02],\n",
              "       [6.46649747e-01, 1.34146341e-01],\n",
              "       [6.07131999e-01, 8.50531582e-02],\n",
              "       [8.45778139e-01, 1.21013133e-01],\n",
              "       [6.79495667e-01, 1.29143215e-01],\n",
              "       [6.92326105e-01, 5.31582239e-03],\n",
              "       [8.58608577e-01, 0.00000000e+00],\n",
              "       [6.58966967e-01, 2.00125078e-02],\n",
              "       [4.90118407e-01, 2.12632896e-02],\n",
              "       [7.93429954e-01, 1.75109443e-02],\n",
              "       [2.49423708e-05, 8.80237649e-01],\n",
              "       [9.32002991e-05, 9.02439024e-01],\n",
              "       [4.39314185e-05, 8.75859912e-01],\n",
              "       [4.28023400e-05, 9.03064415e-01],\n",
              "       [5.52222037e-05, 9.63414634e-01],\n",
              "       [6.34336838e-05, 9.08380238e-01],\n",
              "       [4.34182010e-05, 9.46216385e-01],\n",
              "       [4.24430878e-05, 8.87116948e-01],\n",
              "       [5.62486387e-05, 9.16510319e-01],\n",
              "       [5.72750737e-05, 9.80300188e-01],\n",
              "       [1.35797352e-04, 7.57348343e-01],\n",
              "       [1.90711625e-04, 6.89180738e-01],\n",
              "       [8.80681241e-05, 7.85490932e-01],\n",
              "       [1.75315100e-04, 7.46091307e-01],\n",
              "       [1.45035267e-04, 7.13258286e-01],\n",
              "       [1.75315100e-04, 7.40462789e-01],\n",
              "       [1.18861174e-04, 7.93621013e-01],\n",
              "       [1.53246747e-04, 7.43902439e-01],\n",
              "       [4.59842886e-05, 7.73295810e-01],\n",
              "       [7.83169915e-05, 8.09881176e-01],\n",
              "       [1.84758302e-06, 8.13320826e-01],\n",
              "       [4.10574005e-07, 7.48592871e-01],\n",
              "       [5.64539257e-07, 8.03627267e-01],\n",
              "       [3.38723554e-06, 7.62038774e-01],\n",
              "       [2.56608753e-07, 7.53283302e-01],\n",
              "       [1.28304377e-06, 8.09881176e-01],\n",
              "       [4.10574005e-07, 7.52032520e-01],\n",
              "       [1.53965252e-07, 7.22639149e-01],\n",
              "       [2.66873103e-07, 7.78298937e-01],\n",
              "       [2.41212228e-06, 7.27329581e-01],\n",
              "       [4.62716904e-04, 5.44402752e-01],\n",
              "       [4.39622116e-04, 5.76172608e-01],\n",
              "       [4.03696890e-04, 5.67479675e-01],\n",
              "       [5.75624755e-04, 5.22201376e-01],\n",
              "       [1.34545101e-03, 4.18073796e-01],\n",
              "       [3.57794717e-03, 3.00813008e-01],\n",
              "       [4.45267508e-04, 5.19074422e-01],\n",
              "       [6.83400431e-04, 4.49030644e-01],\n",
              "       [3.59334369e-03, 3.73358349e-01],\n",
              "       [5.23050754e-03, 2.35146967e-01],\n",
              "       [6.15429905e-03, 1.69480926e-01],\n",
              "       [7.18073406e-03, 1.77923702e-01],\n",
              "       [1.84715192e-02, 1.92620388e-01],\n",
              "       [4.25927420e-02, 1.57285804e-01],\n",
              "       [6.15429905e-03, 1.87929956e-01],\n",
              "       [2.15508242e-02, 1.81363352e-01],\n",
              "       [3.23283919e-02, 1.90431520e-01],\n",
              "       [1.84715192e-02, 1.74484053e-01],\n",
              "       [2.92490868e-02, 1.77611007e-01],\n",
              "       [3.43812619e-02, 1.91682301e-01],\n",
              "       [6.61533055e-01, 3.81488430e-02],\n",
              "       [5.76852166e-01, 3.47091932e-02],\n",
              "       [8.39106312e-01, 1.84490306e-02],\n",
              "       [7.62636903e-01, 3.12695435e-02],\n",
              "       [7.81112734e-01, 3.31457161e-02],\n",
              "       [6.79495667e-01, 2.78298937e-02],\n",
              "       [7.87271344e-01, 1.65728580e-02],\n",
              "       [4.49574224e-01, 5.22201376e-02],\n",
              "       [7.52885771e-01, 5.78486554e-02],\n",
              "       [6.79495667e-01, 3.81488430e-02],\n",
              "       [4.24944095e-05, 9.09318324e-01],\n",
              "       [4.57790016e-05, 9.96247655e-01],\n",
              "       [5.21428986e-05, 9.98749218e-01],\n",
              "       [4.35208445e-05, 9.01813634e-01],\n",
              "       [5.16296811e-05, 9.08067542e-01],\n",
              "       [5.77882912e-05, 9.86554096e-01],\n",
              "       [4.35208445e-05, 9.00562852e-01],\n",
              "       [4.18272268e-05, 8.95247029e-01],\n",
              "       [3.58225819e-05, 9.84365228e-01],\n",
              "       [3.96203915e-05, 9.38398999e-01],\n",
              "       [2.48191986e-04, 7.12632896e-01],\n",
              "       [1.90711625e-04, 6.96060038e-01],\n",
              "       [1.54786400e-04, 7.22013759e-01],\n",
              "       [1.70182925e-04, 7.82989368e-01],\n",
              "       [3.13883827e-04, 8.17698562e-01],\n",
              "       [3.70337753e-04, 8.33958724e-01],\n",
              "       [1.18861174e-04, 7.30143840e-01],\n",
              "       [2.83090776e-04, 8.18636648e-01],\n",
              "       [1.70182925e-04, 7.55159475e-01],\n",
              "       [1.27072655e-04, 8.20825516e-01],\n",
              "       [7.23636684e-07, 8.00187617e-01],\n",
              "       [1.43700902e-06, 7.32958099e-01],\n",
              "       [4.82424456e-07, 7.72357724e-01],\n",
              "       [6.77447108e-07, 7.45465916e-01],\n",
              "       [2.97666154e-07, 7.28580363e-01],\n",
              "       [2.00154827e-07, 8.37711069e-01],\n",
              "       [5.38878382e-07, 7.73921201e-01],\n",
              "       [2.66873103e-07, 7.75797373e-01],\n",
              "       [1.95022652e-07, 8.35834897e-01],\n",
              "       [8.00619310e-07, 7.23889931e-01],\n",
              "       [3.08525836e-03, 2.47342089e-01],\n",
              "       [1.27206091e-03, 3.76485303e-01],\n",
              "       [2.94412355e-03, 3.08943089e-01],\n",
              "       [2.91076441e-03, 2.68918074e-01],\n",
              "       [3.03393661e-03, 2.48280175e-01],\n",
              "       [3.28028101e-03, 2.44840525e-01],\n",
              "       [2.81325308e-03, 2.53908693e-01],\n",
              "       [3.47530367e-03, 2.66416510e-01],\n",
              "       [3.18276969e-03, 3.29580988e-01],\n",
              "       [3.51636107e-03, 2.30143840e-01],\n",
              "       [2.92490868e-02, 1.87617261e-01],\n",
              "       [1.84715192e-02, 1.77454659e-01],\n",
              "       [4.25927420e-02, 1.96998124e-01],\n",
              "       [4.97777871e-02, 1.65415885e-01],\n",
              "       [1.79583017e-02, 1.43214509e-01],\n",
              "       [1.23129091e-02, 1.46966854e-01],\n",
              "       [3.74605669e-02, 1.94809256e-01],\n",
              "       [2.00111717e-02, 1.90431520e-01],\n",
              "       [1.53922142e-02, 1.82301438e-01],\n",
              "       [1.23129091e-02, 1.85428393e-01],\n",
              "       [7.59557598e-01, 1.35709819e-01],\n",
              "       [7.28764548e-01, 1.16948093e-01],\n",
              "       [6.74876710e-01, 8.50531582e-02],\n",
              "       [8.61687882e-01, 8.81801126e-02],\n",
              "       [6.10724521e-01, 1.26016260e-01],\n",
              "       [7.97022476e-01, 1.31644778e-01],\n",
              "       [5.36307983e-01, 1.13195747e-01],\n",
              "       [9.13009633e-01, 6.31644778e-02],\n",
              "       [3.63815579e-01, 1.27579737e-01],\n",
              "       [5.82240950e-01, 1.15071920e-01],\n",
              "       [4.26483748e-05, 8.79612258e-01],\n",
              "       [5.52222037e-05, 9.47779862e-01],\n",
              "       [6.03543787e-05, 9.21826141e-01],\n",
              "       [4.63435408e-05, 9.14946842e-01],\n",
              "       [3.53606862e-05, 9.06816760e-01],\n",
              "       [4.56250363e-05, 9.02126329e-01],\n",
              "       [5.67618562e-05, 9.18386492e-01],\n",
              "       [4.69080801e-05, 8.93996248e-01],\n",
              "       [5.31693337e-05, 9.80925578e-01],\n",
              "       [6.18940313e-05, 8.83989994e-01],\n",
              "       [7.16451639e-05, 7.31394622e-01],\n",
              "       [2.31769026e-04, 7.08255159e-01],\n",
              "       [1.39389875e-04, 7.93308318e-01],\n",
              "       [1.89685190e-04, 7.74671670e-01],\n",
              "       [1.59405357e-04, 7.61413383e-01],\n",
              "       [3.39544702e-04, 8.00093809e-01],\n",
              "       [1.28099090e-04, 8.14258912e-01],\n",
              "       [1.68130055e-04, 8.39899937e-01],\n",
              "       [2.37414418e-04, 7.72357724e-01],\n",
              "       [3.42110790e-04, 8.34771732e-01],\n",
              "       [1.89890477e-06, 7.75171982e-01],\n",
              "       [1.53965252e-06, 7.45465916e-01],\n",
              "       [1.48833077e-06, 7.55159475e-01],\n",
              "       [1.64229602e-06, 7.76110069e-01],\n",
              "       [2.05287003e-06, 7.23577236e-01],\n",
              "       [2.97666154e-06, 7.27329581e-01],\n",
              "       [2.20683528e-06, 7.02626642e-01],\n",
              "       [1.02643501e-06, 6.91056911e-01],\n",
              "       [1.12907851e-06, 7.37335835e-01],\n",
              "       [8.10883660e-07, 7.36085053e-01],\n",
              "       [3.25975231e-03, 2.57973734e-01],\n",
              "       [3.00109069e-03, 3.73139462e-01],\n",
              "       [3.07088827e-03, 3.68980613e-01],\n",
              "       [3.40345321e-03, 2.92995622e-01],\n",
              "       [3.27514884e-03, 2.29831144e-01],\n",
              "       [3.19662656e-03, 2.36397749e-01],\n",
              "       [9.75934410e-04, 4.11382114e-01],\n",
              "       [3.09039054e-03, 2.76422764e-01],\n",
              "       [2.89690754e-03, 2.90181363e-01],\n",
              "       [9.86198760e-04, 3.42088806e-01],\n",
              "       [1.79583017e-02, 1.76672921e-01],\n",
              "       [3.90002195e-02, 1.53220763e-01],\n",
              "       [5.02910046e-02, 1.54471545e-01],\n",
              "       [4.15663070e-02, 1.85897436e-01],\n",
              "       [3.18151744e-02, 1.74171357e-01],\n",
              "       [2.36036943e-02, 1.39774859e-01],\n",
              "       [4.10530895e-02, 1.45653533e-01],\n",
              "       [1.28261266e-02, 1.78111320e-01],\n",
              "       [4.41323945e-02, 1.88086304e-01],\n",
              "       [4.72116996e-02, 1.43026892e-01],\n",
              "       [7.66742643e-01, 9.63101939e-02],\n",
              "       [6.95918628e-01, 8.22388993e-02],\n",
              "       [1.00000000e+00, 3.37711069e-02],\n",
              "       [6.42544007e-01, 1.35397123e-01],\n",
              "       [5.79931471e-01, 1.32895560e-01],\n",
              "       [6.95918628e-01, 6.22263915e-02],\n",
              "       [6.12777391e-01, 4.03377111e-02],\n",
              "       [7.30304200e-01, 3.72107567e-02],\n",
              "       [5.70693556e-01, 2.15759850e-02],\n",
              "       [9.15062503e-01, 1.28830519e-01]])"
            ]
          },
          "metadata": {
            "tags": []
          },
          "execution_count": 56
        }
      ]
    },
    {
      "cell_type": "code",
      "metadata": {
        "id": "s7fZ6E-6Sq4u"
      },
      "source": [
        "from sklearn.cluster import KMeans"
      ],
      "execution_count": null,
      "outputs": []
    },
    {
      "cell_type": "markdown",
      "metadata": {
        "id": "hhPdVjTmF74a"
      },
      "source": [
        "Menentukan dan konfigurasi fungsi k-means. syntax berikut merupakan syntax untuk mengelompokkan data menjadi 4 cluster. menentukan nilai K (cluster) dari data."
      ]
    },
    {
      "cell_type": "code",
      "metadata": {
        "id": "PPxaFgh7DiGn",
        "colab": {
          "base_uri": "https://localhost:8080/"
        },
        "outputId": "038d5a33-775f-4282-ad29-0b9f56a21102"
      },
      "source": [
        "# Menentukan dan mengkonfigurasi fungsi kmeans\r\n",
        "kmeans = KMeans(n_clusters = 4, random_state=123)\r\n",
        "# Menentukan kluster dari data\r\n",
        "kmeans.fit(x_scaled)"
      ],
      "execution_count": null,
      "outputs": [
        {
          "output_type": "execute_result",
          "data": {
            "text/plain": [
              "KMeans(algorithm='auto', copy_x=True, init='k-means++', max_iter=300,\n",
              "       n_clusters=4, n_init=10, n_jobs=None, precompute_distances='auto',\n",
              "       random_state=123, tol=0.0001, verbose=0)"
            ]
          },
          "metadata": {
            "tags": []
          },
          "execution_count": 62
        }
      ]
    },
    {
      "cell_type": "markdown",
      "metadata": {
        "id": "cO8YyEuFGHmr"
      },
      "source": [
        "**Menampilkan pusat cluster. Untuk melihat pusat cluster.**"
      ]
    },
    {
      "cell_type": "code",
      "metadata": {
        "id": "RwbMaE6LFqv2",
        "colab": {
          "base_uri": "https://localhost:8080/"
        },
        "outputId": "b63d4023-1f32-43ec-910d-ecb2d8dc995c"
      },
      "source": [
        "print(kmeans.cluster_centers_)"
      ],
      "execution_count": null,
      "outputs": [
        {
          "output_type": "stream",
          "text": [
            "[[1.21096359e-03 4.51566455e-01]\n",
            " [7.01511415e-01 7.08489681e-02]\n",
            " [7.59028591e-05 8.17656608e-01]\n",
            " [1.89019695e-02 2.01843843e-01]]\n"
          ],
          "name": "stdout"
        }
      ]
    },
    {
      "cell_type": "markdown",
      "metadata": {
        "id": "HWIEEJEaNp0S"
      },
      "source": [
        "**Menambahkan kolom cluster dalam data frame df.**"
      ]
    },
    {
      "cell_type": "code",
      "metadata": {
        "id": "GOmPpkFNGV_R",
        "colab": {
          "base_uri": "https://localhost:8080/",
          "height": 313
        },
        "outputId": "e033b057-3d0a-4079-f30f-c7e90cdcc475"
      },
      "source": [
        "# Menampilkan hasil kluster\r\n",
        "print(kmeans.labels_)\r\n",
        "# Menambahkan kolom \"kluster\" dalam data frame ritel\r\n",
        "retail[\"kluster\"] = kmeans.labels_\r\n",
        "retail.head()"
      ],
      "execution_count": null,
      "outputs": [
        {
          "output_type": "stream",
          "text": [
            "[2 2 2 2 2 2 2 2 2 2 2 2 2 2 2 2 2 2 2 2 2 2 2 2 2 2 2 2 2 2 3 3 3 0 0 0 0\n",
            " 0 0 0 3 3 3 3 3 3 3 3 3 3 1 1 1 1 1 1 1 1 1 1 2 2 2 2 2 2 2 2 2 2 2 2 2 2\n",
            " 2 2 2 2 2 2 2 2 2 2 2 2 2 2 2 2 0 0 0 0 0 3 0 0 0 3 3 3 3 3 3 3 3 3 3 3 1\n",
            " 1 1 1 1 1 1 1 1 1 2 2 2 2 2 2 2 2 2 2 2 2 2 2 2 2 2 2 2 2 2 2 2 2 2 2 2 2\n",
            " 2 2 3 0 3 3 3 3 3 3 0 3 3 3 3 3 3 3 3 3 3 3 1 1 1 1 1 1 1 1 1 1 2 2 2 2 2\n",
            " 2 2 2 2 2 2 2 2 2 2 2 2 2 2 2 2 2 2 2 2 2 2 2 2 2 3 0 0 3 3 3 0 3 3 0 3 3\n",
            " 3 3 3 3 3 3 3 3 1 1 1 1 1 1 1 1 1 1]\n"
          ],
          "name": "stdout"
        },
        {
          "output_type": "execute_result",
          "data": {
            "text/html": [
              "<div>\n",
              "<style scoped>\n",
              "    .dataframe tbody tr th:only-of-type {\n",
              "        vertical-align: middle;\n",
              "    }\n",
              "\n",
              "    .dataframe tbody tr th {\n",
              "        vertical-align: top;\n",
              "    }\n",
              "\n",
              "    .dataframe thead th {\n",
              "        text-align: right;\n",
              "    }\n",
              "</style>\n",
              "<table border=\"1\" class=\"dataframe\">\n",
              "  <thead>\n",
              "    <tr style=\"text-align: right;\">\n",
              "      <th></th>\n",
              "      <th>Luminosity(L/Lo)</th>\n",
              "      <th>Radius(R/Ro)</th>\n",
              "      <th>Star_type</th>\n",
              "      <th>kluster</th>\n",
              "    </tr>\n",
              "  </thead>\n",
              "  <tbody>\n",
              "    <tr>\n",
              "      <th>0</th>\n",
              "      <td>0.002400</td>\n",
              "      <td>0.1700</td>\n",
              "      <td>0</td>\n",
              "      <td>2</td>\n",
              "    </tr>\n",
              "    <tr>\n",
              "      <th>1</th>\n",
              "      <td>0.000500</td>\n",
              "      <td>0.1542</td>\n",
              "      <td>0</td>\n",
              "      <td>2</td>\n",
              "    </tr>\n",
              "    <tr>\n",
              "      <th>2</th>\n",
              "      <td>0.000300</td>\n",
              "      <td>0.1020</td>\n",
              "      <td>0</td>\n",
              "      <td>2</td>\n",
              "    </tr>\n",
              "    <tr>\n",
              "      <th>3</th>\n",
              "      <td>0.000200</td>\n",
              "      <td>0.1600</td>\n",
              "      <td>0</td>\n",
              "      <td>2</td>\n",
              "    </tr>\n",
              "    <tr>\n",
              "      <th>4</th>\n",
              "      <td>0.000138</td>\n",
              "      <td>0.1030</td>\n",
              "      <td>0</td>\n",
              "      <td>2</td>\n",
              "    </tr>\n",
              "  </tbody>\n",
              "</table>\n",
              "</div>"
            ],
            "text/plain": [
              "   Luminosity(L/Lo)  Radius(R/Ro)  Star_type  kluster\n",
              "0          0.002400        0.1700          0        2\n",
              "1          0.000500        0.1542          0        2\n",
              "2          0.000300        0.1020          0        2\n",
              "3          0.000200        0.1600          0        2\n",
              "4          0.000138        0.1030          0        2"
            ]
          },
          "metadata": {
            "tags": []
          },
          "execution_count": 64
        }
      ]
    },
    {
      "cell_type": "code",
      "metadata": {
        "colab": {
          "base_uri": "https://localhost:8080/",
          "height": 313
        },
        "id": "aZBNkTqOTu7h",
        "outputId": "4e4f2303-d77c-434f-b88c-9d42f437e97b"
      },
      "source": [
        "output = plt.scatter(x_scaled[:,0], \r\n",
        "x_scaled[:,1], s = 100, c = retail.kluster, marker = \"o\", alpha = 1,)\r\n",
        "centers = kmeans.cluster_centers_\r\n",
        "plt.scatter(centers[:,0], centers[:,1], c='red', s=200, alpha=1 , marker=\"s\");\r\n",
        "plt.title(\"Hasil Klustering K-Means\")\r\n",
        "plt.xlabel(\"Scaled Star_type\")\r\n",
        "plt.ylabel(\"Scaled Temperature (K)\")\r\n",
        "plt.colorbar (output)\r\n",
        "plt.legend()\r\n",
        "plt.show()"
      ],
      "execution_count": null,
      "outputs": [
        {
          "output_type": "stream",
          "text": [
            "No handles with labels found to put in legend.\n"
          ],
          "name": "stderr"
        },
        {
          "output_type": "display_data",
          "data": {
            "image/png": "[encoded data removed]",
            "text/plain": [
              "<Figure size 432x288 with 2 Axes>"
            ]
          },
          "metadata": {
            "tags": [],
            "needs_background": "light"
          }
        }
      ]
    },
    {
      "cell_type": "markdown",
      "metadata": {
        "id": "R6GYT6IQYb6q"
      },
      "source": [
        "**Evaluasi Data**"
      ]
    },
    {
      "cell_type": "code",
      "metadata": {
        "id": "AdaqaiaNVOGj"
      },
      "source": [
        "import numpy as np \r\n",
        "import pandas as pd "
      ],
      "execution_count": null,
      "outputs": []
    },
    {
      "cell_type": "code",
      "metadata": {
        "colab": {
          "base_uri": "https://localhost:8080/",
          "height": 195
        },
        "id": "e36ukGJhVSs3",
        "outputId": "bf7b87ba-73aa-4a4d-904f-0101dbbb0ac2"
      },
      "source": [
        "url = 'https://raw.githubusercontent.com/FarhanRamahda/Muhamad-Farhan-Ramahda/main/6_class_csv.csv'\r\n",
        "df = pd.read_csv(\"https://raw.githubusercontent.com/FarhanRamahda/Muhamad-Farhan-Ramahda/main/6_class_csv.csv\") \r\n",
        "df.head()"
      ],
      "execution_count": null,
      "outputs": [
        {
          "output_type": "execute_result",
          "data": {
            "text/html": [
              "<div>\n",
              "<style scoped>\n",
              "    .dataframe tbody tr th:only-of-type {\n",
              "        vertical-align: middle;\n",
              "    }\n",
              "\n",
              "    .dataframe tbody tr th {\n",
              "        vertical-align: top;\n",
              "    }\n",
              "\n",
              "    .dataframe thead th {\n",
              "        text-align: right;\n",
              "    }\n",
              "</style>\n",
              "<table border=\"1\" class=\"dataframe\">\n",
              "  <thead>\n",
              "    <tr style=\"text-align: right;\">\n",
              "      <th></th>\n",
              "      <th>Temperature (K)</th>\n",
              "      <th>Luminosity(L/Lo)</th>\n",
              "      <th>Radius(R/Ro)</th>\n",
              "      <th>Absolute_magnitude(Mv)</th>\n",
              "      <th>Star_type</th>\n",
              "      <th>Star_color</th>\n",
              "      <th>Spectral_Class</th>\n",
              "    </tr>\n",
              "  </thead>\n",
              "  <tbody>\n",
              "    <tr>\n",
              "      <th>0</th>\n",
              "      <td>3068</td>\n",
              "      <td>0.002400</td>\n",
              "      <td>0.1700</td>\n",
              "      <td>16.12</td>\n",
              "      <td>0</td>\n",
              "      <td>Red</td>\n",
              "      <td>M</td>\n",
              "    </tr>\n",
              "    <tr>\n",
              "      <th>1</th>\n",
              "      <td>3042</td>\n",
              "      <td>0.000500</td>\n",
              "      <td>0.1542</td>\n",
              "      <td>16.60</td>\n",
              "      <td>0</td>\n",
              "      <td>Red</td>\n",
              "      <td>M</td>\n",
              "    </tr>\n",
              "    <tr>\n",
              "      <th>2</th>\n",
              "      <td>2600</td>\n",
              "      <td>0.000300</td>\n",
              "      <td>0.1020</td>\n",
              "      <td>18.70</td>\n",
              "      <td>0</td>\n",
              "      <td>Red</td>\n",
              "      <td>M</td>\n",
              "    </tr>\n",
              "    <tr>\n",
              "      <th>3</th>\n",
              "      <td>2800</td>\n",
              "      <td>0.000200</td>\n",
              "      <td>0.1600</td>\n",
              "      <td>16.65</td>\n",
              "      <td>0</td>\n",
              "      <td>Red</td>\n",
              "      <td>M</td>\n",
              "    </tr>\n",
              "    <tr>\n",
              "      <th>4</th>\n",
              "      <td>1939</td>\n",
              "      <td>0.000138</td>\n",
              "      <td>0.1030</td>\n",
              "      <td>20.06</td>\n",
              "      <td>0</td>\n",
              "      <td>Red</td>\n",
              "      <td>M</td>\n",
              "    </tr>\n",
              "  </tbody>\n",
              "</table>\n",
              "</div>"
            ],
            "text/plain": [
              "   Temperature (K)  Luminosity(L/Lo)  ...  Star_color  Spectral_Class\n",
              "0             3068          0.002400  ...         Red               M\n",
              "1             3042          0.000500  ...         Red               M\n",
              "2             2600          0.000300  ...         Red               M\n",
              "3             2800          0.000200  ...         Red               M\n",
              "4             1939          0.000138  ...         Red               M\n",
              "\n",
              "[5 rows x 7 columns]"
            ]
          },
          "metadata": {
            "tags": []
          },
          "execution_count": 68
        }
      ]
    },
    {
      "cell_type": "code",
      "metadata": {
        "id": "kqfljbEBVoIp"
      },
      "source": [
        "class HypothesisTest(object):\r\n",
        "    \r\n",
        "    def __init__(self, data):\r\n",
        "        self.data = data\r\n",
        "        self.MakeModel()\r\n",
        "        self.actual = self.TestStatistic(data)\r\n",
        "        \r\n",
        "    def PValue(self, iters = 1000):\r\n",
        "        self.test_stats = [self.TestStatistic(self.RunModel()) for _ in range(iters)]\r\n",
        "        count = sum(1 for x in self.test_stats if x >= self.actual)\r\n",
        "        return count / iters\r\n",
        "    \r\n",
        "    def TestStatistic(self, data):\r\n",
        "        raise UnimplementedMethodException()\r\n",
        "        \r\n",
        "    def MakeModel(self):\r\n",
        "        pass\r\n",
        "    \r\n",
        "    def RunModel(self):\r\n",
        "        raise UnimplementedMethodException()"
      ],
      "execution_count": null,
      "outputs": []
    },
    {
      "cell_type": "code",
      "metadata": {
        "id": "BBX-lthaVqD2"
      },
      "source": [
        "class CorrPermute(HypothesisTest):\r\n",
        "    \r\n",
        "    def TestStatistic(self, data):\r\n",
        "        xs, ys = data\r\n",
        "        test_stat = abs(correlation(xs, ys))\r\n",
        "        return test_stat\r\n",
        "    \r\n",
        "    def RunModel(self):\r\n",
        "        xs, ys = self.data\r\n",
        "        xs = np.random.permutation(xs)\r\n",
        "        return xs, ys\r\n",
        "    \r\n",
        "def correlation(x, y):\r\n",
        "    std_x = np.std(x)\r\n",
        "    std_y = np.std(y)\r\n",
        "    if std_x and std_y > 0:\r\n",
        "        return covariance(x, y) / std_x / std_y\r\n",
        "    else:\r\n",
        "        return 0\r\n",
        "    \r\n",
        "def de_mean(x):\r\n",
        "    x_bar = np.mean(x)\r\n",
        "    return [x_i - x_bar for x_i in x]\r\n",
        "\r\n",
        "def covariance(x, y):\r\n",
        "    n = len(x)\r\n",
        "    return np.dot(de_mean(x), de_mean(y)) / (n - 1)"
      ],
      "execution_count": null,
      "outputs": []
    },
    {
      "cell_type": "code",
      "metadata": {
        "id": "buqZy7AbVwHY"
      },
      "source": [
        "rs = df['Star_type']\r\n",
        "ws = df['Temperature (K)']\r\n",
        "\r\n",
        "ct = CorrPermute((rs, ws))\r\n",
        "pvalue = ct.PValue()"
      ],
      "execution_count": null,
      "outputs": []
    },
    {
      "cell_type": "code",
      "metadata": {
        "colab": {
          "base_uri": "https://localhost:8080/"
        },
        "id": "GBNU1bq6WJG4",
        "outputId": "f80e4279-424c-4a5b-9cbe-b280ad3f5d8e"
      },
      "source": [
        "print('The P-Value is: ', pvalue)"
      ],
      "execution_count": null,
      "outputs": [
        {
          "output_type": "stream",
          "text": [
            "The P-Value is:  0.0\n"
          ],
          "name": "stdout"
        }
      ]
    },
    {
      "cell_type": "markdown",
      "metadata": {
        "id": "7b440_GUYWCr"
      },
      "source": [
        "**Memprediksi Star type dan Temperature**"
      ]
    },
    {
      "cell_type": "code",
      "metadata": {
        "id": "5I7DVs7MWXiZ"
      },
      "source": [
        "def LeastSquares(xs, ys):\r\n",
        "    meanx, varx = np.mean(xs), np.var(xs)\r\n",
        "    meany = np.mean(ys)\r\n",
        "    \r\n",
        "    slope = covariance(xs, ys) / varx\r\n",
        "    inter = meany - slope * meanx\r\n",
        "    \r\n",
        "    return inter, slope\r\n",
        "\r\n",
        "def FitLine(xs, inter, slope):\r\n",
        "    fit_xs = np.sort(xs)\r\n",
        "    fit_ys = inter + slope * fit_xs\r\n",
        "    \r\n",
        "    return fit_xs, fit_ys"
      ],
      "execution_count": null,
      "outputs": []
    },
    {
      "cell_type": "code",
      "metadata": {
        "colab": {
          "base_uri": "https://localhost:8080/"
        },
        "id": "4WqebqpqWbzR",
        "outputId": "e6727818-bfcd-42ba-bac4-747fa11b5e62"
      },
      "source": [
        "inter, slope = LeastSquares(ws, rs)\r\n",
        "fit_xs, fit_ys = FitLine(ws, inter, slope)\r\n",
        "\r\n",
        "print('intercept is: {} and slope is: {}'.format(inter, slope))"
      ],
      "execution_count": null,
      "outputs": [
        {
          "output_type": "stream",
          "text": [
            "intercept is: 1.723552677019943 and slope is: 7.39652390261034e-05\n"
          ],
          "name": "stdout"
        }
      ]
    },
    {
      "cell_type": "markdown",
      "metadata": {
        "id": "usbzyrCIYFQW"
      },
      "source": [
        "**Residuals**"
      ]
    },
    {
      "cell_type": "code",
      "metadata": {
        "id": "rLlpWg46Wgs4"
      },
      "source": [
        "def Residuals(xs, ys, inter, slope):\r\n",
        "    xs = np.asarray(xs)\r\n",
        "    ys = np.asarray(ys)\r\n",
        "    res = ys - (inter + slope * xs)\r\n",
        "    return res"
      ],
      "execution_count": null,
      "outputs": []
    },
    {
      "cell_type": "code",
      "metadata": {
        "id": "bPp3b-ohWkkv"
      },
      "source": [
        "res = Residuals(ws, rs, inter, slope)"
      ],
      "execution_count": null,
      "outputs": []
    },
    {
      "cell_type": "markdown",
      "metadata": {
        "id": "pBuksRf4Xw57"
      },
      "source": [
        "**Memprediksi Star type dan Temperature:**"
      ]
    },
    {
      "cell_type": "code",
      "metadata": {
        "colab": {
          "base_uri": "https://localhost:8080/"
        },
        "id": "bgglygK9Wltw",
        "outputId": "1206d5f1-b312-4248-f9fc-c7543cd7c9ef"
      },
      "source": [
        "print('RMSE if we predict the reading scores using the writing scores: ', np.std(res))\r\n",
        "print('RMSE if we predict the reading scores without using the writing scores: ', np.std(rs))"
      ],
      "execution_count": null,
      "outputs": [
        {
          "output_type": "stream",
          "text": [
            "RMSE if we predict the reading scores using the writing scores:  1.5568173362064854\n",
            "RMSE if we predict the reading scores without using the writing scores:  1.707825127659933\n"
          ],
          "name": "stdout"
        }
      ]
    },
    {
      "cell_type": "markdown",
      "metadata": {
        "id": "G7IR9PXNXr_A"
      },
      "source": [
        "**koefisien Desterminasi**"
      ]
    },
    {
      "cell_type": "code",
      "metadata": {
        "colab": {
          "base_uri": "https://localhost:8080/"
        },
        "id": "j26x9vLMWpxy",
        "outputId": "f5fcc249-c437-4d45-eaa8-f6891120d88c"
      },
      "source": [
        "r_squared = 1 - (np.var(res) / np.var(rs))\r\n",
        "\r\n",
        "print('The Coefficient of Determination or r^2 is: ', r_squared)"
      ],
      "execution_count": null,
      "outputs": [
        {
          "output_type": "stream",
          "text": [
            "The Coefficient of Determination or r^2 is:  0.16902392514980902\n"
          ],
          "name": "stdout"
        }
      ]
    },
    {
      "cell_type": "markdown",
      "metadata": {
        "id": "FOoLbQQoXlXw"
      },
      "source": [
        "**Visualisasi Plotting Garis/Line**"
      ]
    },
    {
      "cell_type": "code",
      "metadata": {
        "colab": {
          "base_uri": "https://localhost:8080/",
          "height": 514
        },
        "id": "VMTIqiNCWwIZ",
        "outputId": "fb63c15d-260c-4f24-8bd2-f5e94fb592b9"
      },
      "source": [
        "plt.figure(figsize = (15, 8))\r\n",
        "\r\n",
        "plt.xlabel('reb')\r\n",
        "plt.ylabel('ast')\r\n",
        "\r\n",
        "plt.plot(fit_xs, fit_ys, color = 'black')\r\n",
        "plt.scatter(ws, rs, color = 'red')"
      ],
      "execution_count": null,
      "outputs": [
        {
          "output_type": "execute_result",
          "data": {
            "text/plain": [
              "<matplotlib.collections.PathCollection at 0x7f83295f77f0>"
            ]
          },
          "metadata": {
            "tags": []
          },
          "execution_count": 79
        },
        {
          "output_type": "display_data",
          "data": {
            "image/png": "[encoded data removed]",
            "text/plain": [
              "<Figure size 1080x576 with 1 Axes>"
            ]
          },
          "metadata": {
            "tags": [],
            "needs_background": "light"
          }
        }
      ]
    },
    {
      "cell_type": "markdown",
      "metadata": {
        "id": "13tITv4jXeth"
      },
      "source": [
        "Gambar visualisasi di atas, menunjukkan bahwa garis yang dihasilkan cocok dengan diagram pada visualisasi data sebelumnya."
      ]
    }
  ]
}