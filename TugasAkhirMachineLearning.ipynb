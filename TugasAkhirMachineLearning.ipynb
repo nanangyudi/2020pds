{
  "nbformat": 4,
  "nbformat_minor": 0,
  "metadata": {
    "colab": {
      "name": "TugasAkhirMachineLearning.ipynb",
      "provenance": [],
      "collapsed_sections": [],
      "include_colab_link": true
    },
    "kernelspec": {
      "name": "python3",
      "display_name": "Python 3"
    }
  },
  "cells": [
    {
      "cell_type": "markdown",
      "metadata": {
        "id": "view-in-github",
        "colab_type": "text"
      },
      "source": [
        "<a href=\"https://colab.research.google.com/github/nanangyudi/2020pds_d/blob/main/TugasAkhirMachineLearning.ipynb\" target=\"_parent\"><img src=\"https://colab.research.google.com/assets/colab-badge.svg\" alt=\"Open In Colab\"/></a>"
      ]
    },
    {
      "cell_type": "markdown",
      "metadata": {
        "id": "qYcmIQU-5EZu"
      },
      "source": [
        "# **TAHAP DESKRIPSI TUJUAN**\r\n",
        "\r\n"
      ]
    },
    {
      "cell_type": "markdown",
      "metadata": {
        "id": "NQvFvkgh5Zzh"
      },
      "source": [
        "**A. Deskripsi Tujuan Bisnis**\r\n",
        "\r\n",
        "Tujuan dari pengolahan data ini adalah :\r\n",
        "1. Untuk mengelola data acara TV dan film yang tersedia di App Streaming Movie\r\n",
        "2. Untuk mengetahui informasi dan menghasilkan informasi yang dibutuhkan bagi pihak terkait\r\n",
        "\r\n",
        "\r\n",
        "\r\n",
        "**B. Kebutuhan organisasi :** \r\n",
        "\r\n",
        "Kebutuhan organisasi adalah kebutuhan yang akan dianalisis atau informasi yang akan didapatkan setelah melakukan analisis ini, yaitu :\r\n",
        "\r\n",
        "1. Memahami konten apa yang tersedia di berbagai negara\r\n",
        "2. Rata-rata rating IMDb dari sebuah film yang diproduksi di suatu negara\r\n",
        "3. Analisis jaringan Aktor / Sutradara dan temukan wawasan menarik\r\n",
        "4. aplikasi streaming paling ramai.\r\n"
      ]
    },
    {
      "cell_type": "markdown",
      "metadata": {
        "id": "-mxlNtQf9L11"
      },
      "source": [
        "# **TAHAP ANALISIS PENDEKATAN**"
      ]
    },
    {
      "cell_type": "markdown",
      "metadata": {
        "id": "Pci10pls9TC-"
      },
      "source": [
        "**Analisis Pendekatan yang Dilakukan**\r\n",
        "\r\n",
        "Menggunakan pendekatan EDA, yaitu metode eksplorasi data dengan menggunakan teknik aritmatika sederhana dan teknik grafis dalam meringkas data pengamatan.\r\n",
        "Tahapan yang dilakukan dalam analisis EDA adalah :\r\n",
        "1. Merumuskan masalah\r\n",
        "2. Mengumpulkan data\r\n",
        "3. Melakukan analisis\r\n",
        "4. Melakukan pemodelan data\r\n",
        "5. Kesimpulan"
      ]
    },
    {
      "cell_type": "markdown",
      "metadata": {
        "id": "VBWjJU649Wjp"
      },
      "source": [
        "# **TAHAP PENGUMPULAN DATA**"
      ]
    },
    {
      "cell_type": "markdown",
      "metadata": {
        "id": "yz44Qped9Y_v"
      },
      "source": [
        "**Pengumpulan Data**\r\n",
        "\r\n",
        "Dataset yang didapatkan bersumber dari Kanggle.com. Berikut link data : https://www.kaggle.com/ruchi798/movies-on-netflix-prime-video-hulu-and-disney di publikasi oleh Ruchi Bhatia.\r\n"
      ]
    },
    {
      "cell_type": "markdown",
      "metadata": {
        "id": "BT0Y2BCw9hi8"
      },
      "source": [
        "# **TAHAP PEMAHAMAN DATA YANG DIKUMPULKAN**"
      ]
    },
    {
      "cell_type": "markdown",
      "metadata": {
        "id": "2ngpLdGG9jqE"
      },
      "source": [
        "Data yang didapatkan berupa data acara TV dan film yang tersedia di streaming platforms.\r\n",
        "\r\n",
        "Terdapat beberapa data seperti kode show, tipe, judul, director, cast, country, date added, release year, rating, duration"
      ]
    },
    {
      "cell_type": "markdown",
      "metadata": {
        "id": "5odMKJ7X_VAB"
      },
      "source": [
        "# **TAHAP EKSPLORASI DATA**"
      ]
    },
    {
      "cell_type": "markdown",
      "metadata": {
        "id": "SiwRcYFG_XuM"
      },
      "source": [
        "**Tahap pertama** : Memasukan data dari url, data disimpan di repository Github,dan menampilkannya"
      ]
    },
    {
      "cell_type": "code",
      "metadata": {
        "colab": {
          "base_uri": "https://localhost:8080/",
          "height": 428
        },
        "id": "jopJ8MzR3AnP",
        "outputId": "ed185e1a-c860-469f-abac-249a76fd06b5"
      },
      "source": [
        "import matplotlib.pyplot as plt\r\n",
        "import seaborn as sns\r\n",
        "import pandas as pd\r\n",
        "url = 'https://raw.githubusercontent.com/theoxgn/filecsv/main/MoviesOnStreamingPlatforms_updated.csv'\r\n",
        "df = pd.read_csv(url, error_bad_lines=False)\r\n",
        "df.head()"
      ],
      "execution_count": null,
      "outputs": [
        {
          "output_type": "execute_result",
          "data": {
            "text/html": [
              "<div>\n",
              "<style scoped>\n",
              "    .dataframe tbody tr th:only-of-type {\n",
              "        vertical-align: middle;\n",
              "    }\n",
              "\n",
              "    .dataframe tbody tr th {\n",
              "        vertical-align: top;\n",
              "    }\n",
              "\n",
              "    .dataframe thead th {\n",
              "        text-align: right;\n",
              "    }\n",
              "</style>\n",
              "<table border=\"1\" class=\"dataframe\">\n",
              "  <thead>\n",
              "    <tr style=\"text-align: right;\">\n",
              "      <th></th>\n",
              "      <th>Unnamed: 0</th>\n",
              "      <th>ID</th>\n",
              "      <th>Title</th>\n",
              "      <th>Year</th>\n",
              "      <th>Age</th>\n",
              "      <th>IMDb</th>\n",
              "      <th>Rotten Tomatoes</th>\n",
              "      <th>Netflix</th>\n",
              "      <th>Hulu</th>\n",
              "      <th>Prime Video</th>\n",
              "      <th>Disney+</th>\n",
              "      <th>Type</th>\n",
              "      <th>Directors</th>\n",
              "      <th>Genres</th>\n",
              "      <th>Country</th>\n",
              "      <th>Language</th>\n",
              "      <th>Runtime</th>\n",
              "    </tr>\n",
              "  </thead>\n",
              "  <tbody>\n",
              "    <tr>\n",
              "      <th>0</th>\n",
              "      <td>0</td>\n",
              "      <td>1</td>\n",
              "      <td>Inception</td>\n",
              "      <td>2010</td>\n",
              "      <td>13+</td>\n",
              "      <td>8.8</td>\n",
              "      <td>87%</td>\n",
              "      <td>1</td>\n",
              "      <td>0</td>\n",
              "      <td>0</td>\n",
              "      <td>0</td>\n",
              "      <td>0</td>\n",
              "      <td>Christopher Nolan</td>\n",
              "      <td>Action,Adventure,Sci-Fi,Thriller</td>\n",
              "      <td>United States,United Kingdom</td>\n",
              "      <td>English,Japanese,French</td>\n",
              "      <td>148.0</td>\n",
              "    </tr>\n",
              "    <tr>\n",
              "      <th>1</th>\n",
              "      <td>1</td>\n",
              "      <td>2</td>\n",
              "      <td>The Matrix</td>\n",
              "      <td>1999</td>\n",
              "      <td>18+</td>\n",
              "      <td>8.7</td>\n",
              "      <td>87%</td>\n",
              "      <td>1</td>\n",
              "      <td>0</td>\n",
              "      <td>0</td>\n",
              "      <td>0</td>\n",
              "      <td>0</td>\n",
              "      <td>Lana Wachowski,Lilly Wachowski</td>\n",
              "      <td>Action,Sci-Fi</td>\n",
              "      <td>United States</td>\n",
              "      <td>English</td>\n",
              "      <td>136.0</td>\n",
              "    </tr>\n",
              "    <tr>\n",
              "      <th>2</th>\n",
              "      <td>2</td>\n",
              "      <td>3</td>\n",
              "      <td>Avengers: Infinity War</td>\n",
              "      <td>2018</td>\n",
              "      <td>13+</td>\n",
              "      <td>8.5</td>\n",
              "      <td>84%</td>\n",
              "      <td>1</td>\n",
              "      <td>0</td>\n",
              "      <td>0</td>\n",
              "      <td>0</td>\n",
              "      <td>0</td>\n",
              "      <td>Anthony Russo,Joe Russo</td>\n",
              "      <td>Action,Adventure,Sci-Fi</td>\n",
              "      <td>United States</td>\n",
              "      <td>English</td>\n",
              "      <td>149.0</td>\n",
              "    </tr>\n",
              "    <tr>\n",
              "      <th>3</th>\n",
              "      <td>3</td>\n",
              "      <td>4</td>\n",
              "      <td>Back to the Future</td>\n",
              "      <td>1985</td>\n",
              "      <td>7+</td>\n",
              "      <td>8.5</td>\n",
              "      <td>96%</td>\n",
              "      <td>1</td>\n",
              "      <td>0</td>\n",
              "      <td>0</td>\n",
              "      <td>0</td>\n",
              "      <td>0</td>\n",
              "      <td>Robert Zemeckis</td>\n",
              "      <td>Adventure,Comedy,Sci-Fi</td>\n",
              "      <td>United States</td>\n",
              "      <td>English</td>\n",
              "      <td>116.0</td>\n",
              "    </tr>\n",
              "    <tr>\n",
              "      <th>4</th>\n",
              "      <td>4</td>\n",
              "      <td>5</td>\n",
              "      <td>The Good, the Bad and the Ugly</td>\n",
              "      <td>1966</td>\n",
              "      <td>18+</td>\n",
              "      <td>8.8</td>\n",
              "      <td>97%</td>\n",
              "      <td>1</td>\n",
              "      <td>0</td>\n",
              "      <td>1</td>\n",
              "      <td>0</td>\n",
              "      <td>0</td>\n",
              "      <td>Sergio Leone</td>\n",
              "      <td>Western</td>\n",
              "      <td>Italy,Spain,West Germany</td>\n",
              "      <td>Italian</td>\n",
              "      <td>161.0</td>\n",
              "    </tr>\n",
              "  </tbody>\n",
              "</table>\n",
              "</div>"
            ],
            "text/plain": [
              "   Unnamed: 0  ID  ...                 Language  Runtime\n",
              "0           0   1  ...  English,Japanese,French    148.0\n",
              "1           1   2  ...                  English    136.0\n",
              "2           2   3  ...                  English    149.0\n",
              "3           3   4  ...                  English    116.0\n",
              "4           4   5  ...                  Italian    161.0\n",
              "\n",
              "[5 rows x 17 columns]"
            ]
          },
          "metadata": {
            "tags": []
          },
          "execution_count": 67
        }
      ]
    },
    {
      "cell_type": "code",
      "metadata": {
        "colab": {
          "base_uri": "https://localhost:8080/",
          "height": 394
        },
        "id": "i3Rf0Oh__3eY",
        "outputId": "70009957-2d77-402e-9aae-03921ef1f402"
      },
      "source": [
        "df.tail()"
      ],
      "execution_count": null,
      "outputs": [
        {
          "output_type": "execute_result",
          "data": {
            "text/html": [
              "<div>\n",
              "<style scoped>\n",
              "    .dataframe tbody tr th:only-of-type {\n",
              "        vertical-align: middle;\n",
              "    }\n",
              "\n",
              "    .dataframe tbody tr th {\n",
              "        vertical-align: top;\n",
              "    }\n",
              "\n",
              "    .dataframe thead th {\n",
              "        text-align: right;\n",
              "    }\n",
              "</style>\n",
              "<table border=\"1\" class=\"dataframe\">\n",
              "  <thead>\n",
              "    <tr style=\"text-align: right;\">\n",
              "      <th></th>\n",
              "      <th>Unnamed: 0</th>\n",
              "      <th>ID</th>\n",
              "      <th>Title</th>\n",
              "      <th>Year</th>\n",
              "      <th>Age</th>\n",
              "      <th>IMDb</th>\n",
              "      <th>Rotten Tomatoes</th>\n",
              "      <th>Netflix</th>\n",
              "      <th>Hulu</th>\n",
              "      <th>Prime Video</th>\n",
              "      <th>Disney+</th>\n",
              "      <th>Type</th>\n",
              "      <th>Directors</th>\n",
              "      <th>Genres</th>\n",
              "      <th>Country</th>\n",
              "      <th>Language</th>\n",
              "      <th>Runtime</th>\n",
              "    </tr>\n",
              "  </thead>\n",
              "  <tbody>\n",
              "    <tr>\n",
              "      <th>16739</th>\n",
              "      <td>16739</td>\n",
              "      <td>16740</td>\n",
              "      <td>The Ghosts of Buxley Hall</td>\n",
              "      <td>1980</td>\n",
              "      <td>NaN</td>\n",
              "      <td>6.2</td>\n",
              "      <td>NaN</td>\n",
              "      <td>0</td>\n",
              "      <td>0</td>\n",
              "      <td>0</td>\n",
              "      <td>1</td>\n",
              "      <td>0</td>\n",
              "      <td>Bruce Bilson</td>\n",
              "      <td>Comedy,Family,Fantasy,Horror</td>\n",
              "      <td>United States</td>\n",
              "      <td>English</td>\n",
              "      <td>120.0</td>\n",
              "    </tr>\n",
              "    <tr>\n",
              "      <th>16740</th>\n",
              "      <td>16740</td>\n",
              "      <td>16741</td>\n",
              "      <td>The Poof Point</td>\n",
              "      <td>2001</td>\n",
              "      <td>7+</td>\n",
              "      <td>4.7</td>\n",
              "      <td>NaN</td>\n",
              "      <td>0</td>\n",
              "      <td>0</td>\n",
              "      <td>0</td>\n",
              "      <td>1</td>\n",
              "      <td>0</td>\n",
              "      <td>Neal Israel</td>\n",
              "      <td>Comedy,Family,Sci-Fi</td>\n",
              "      <td>United States</td>\n",
              "      <td>English</td>\n",
              "      <td>90.0</td>\n",
              "    </tr>\n",
              "    <tr>\n",
              "      <th>16741</th>\n",
              "      <td>16741</td>\n",
              "      <td>16742</td>\n",
              "      <td>Sharks of Lost Island</td>\n",
              "      <td>2013</td>\n",
              "      <td>NaN</td>\n",
              "      <td>5.7</td>\n",
              "      <td>NaN</td>\n",
              "      <td>0</td>\n",
              "      <td>0</td>\n",
              "      <td>0</td>\n",
              "      <td>1</td>\n",
              "      <td>0</td>\n",
              "      <td>Neil Gelinas</td>\n",
              "      <td>Documentary</td>\n",
              "      <td>United States</td>\n",
              "      <td>English</td>\n",
              "      <td>NaN</td>\n",
              "    </tr>\n",
              "    <tr>\n",
              "      <th>16742</th>\n",
              "      <td>16742</td>\n",
              "      <td>16743</td>\n",
              "      <td>Man Among Cheetahs</td>\n",
              "      <td>2017</td>\n",
              "      <td>NaN</td>\n",
              "      <td>6.6</td>\n",
              "      <td>NaN</td>\n",
              "      <td>0</td>\n",
              "      <td>0</td>\n",
              "      <td>0</td>\n",
              "      <td>1</td>\n",
              "      <td>0</td>\n",
              "      <td>Richard Slater-Jones</td>\n",
              "      <td>Documentary</td>\n",
              "      <td>United States</td>\n",
              "      <td>English</td>\n",
              "      <td>NaN</td>\n",
              "    </tr>\n",
              "    <tr>\n",
              "      <th>16743</th>\n",
              "      <td>16743</td>\n",
              "      <td>16744</td>\n",
              "      <td>In Beaver Valley</td>\n",
              "      <td>1950</td>\n",
              "      <td>NaN</td>\n",
              "      <td>NaN</td>\n",
              "      <td>NaN</td>\n",
              "      <td>0</td>\n",
              "      <td>0</td>\n",
              "      <td>0</td>\n",
              "      <td>1</td>\n",
              "      <td>0</td>\n",
              "      <td>James Algar</td>\n",
              "      <td>Documentary,Short,Family</td>\n",
              "      <td>United States</td>\n",
              "      <td>English</td>\n",
              "      <td>32.0</td>\n",
              "    </tr>\n",
              "  </tbody>\n",
              "</table>\n",
              "</div>"
            ],
            "text/plain": [
              "       Unnamed: 0     ID  ... Language  Runtime\n",
              "16739       16739  16740  ...  English    120.0\n",
              "16740       16740  16741  ...  English     90.0\n",
              "16741       16741  16742  ...  English      NaN\n",
              "16742       16742  16743  ...  English      NaN\n",
              "16743       16743  16744  ...  English     32.0\n",
              "\n",
              "[5 rows x 17 columns]"
            ]
          },
          "metadata": {
            "tags": []
          },
          "execution_count": 68
        }
      ]
    },
    {
      "cell_type": "markdown",
      "metadata": {
        "id": "eDq6Ok1u_zWf"
      },
      "source": [
        "**Tahap kedua** : Menampilkan jumlah data dan baris kolom."
      ]
    },
    {
      "cell_type": "code",
      "metadata": {
        "colab": {
          "base_uri": "https://localhost:8080/"
        },
        "id": "fu_k_dt5ACYj",
        "outputId": "fa52c9d2-781f-4ac9-a599-625968c28647"
      },
      "source": [
        "df.shape"
      ],
      "execution_count": null,
      "outputs": [
        {
          "output_type": "execute_result",
          "data": {
            "text/plain": [
              "(16744, 17)"
            ]
          },
          "metadata": {
            "tags": []
          },
          "execution_count": 69
        }
      ]
    },
    {
      "cell_type": "markdown",
      "metadata": {
        "id": "JEnabE8VAB5p"
      },
      "source": [
        "**Tahap ketiga** : Menampilkan data informasi mengenai kolom.\r\n",
        "\r\n"
      ]
    },
    {
      "cell_type": "code",
      "metadata": {
        "colab": {
          "base_uri": "https://localhost:8080/"
        },
        "id": "DTILboyRAQR7",
        "outputId": "b08222c6-6a4e-4329-e8d1-a933369d34b8"
      },
      "source": [
        "df.info()"
      ],
      "execution_count": null,
      "outputs": [
        {
          "output_type": "stream",
          "text": [
            "<class 'pandas.core.frame.DataFrame'>\n",
            "RangeIndex: 16744 entries, 0 to 16743\n",
            "Data columns (total 17 columns):\n",
            " #   Column           Non-Null Count  Dtype  \n",
            "---  ------           --------------  -----  \n",
            " 0   Unnamed: 0       16744 non-null  int64  \n",
            " 1   ID               16744 non-null  int64  \n",
            " 2   Title            16744 non-null  object \n",
            " 3   Year             16744 non-null  int64  \n",
            " 4   Age              7354 non-null   object \n",
            " 5   IMDb             16173 non-null  float64\n",
            " 6   Rotten Tomatoes  5158 non-null   object \n",
            " 7   Netflix          16744 non-null  int64  \n",
            " 8   Hulu             16744 non-null  int64  \n",
            " 9   Prime Video      16744 non-null  int64  \n",
            " 10  Disney+          16744 non-null  int64  \n",
            " 11  Type             16744 non-null  int64  \n",
            " 12  Directors        16018 non-null  object \n",
            " 13  Genres           16469 non-null  object \n",
            " 14  Country          16309 non-null  object \n",
            " 15  Language         16145 non-null  object \n",
            " 16  Runtime          16152 non-null  float64\n",
            "dtypes: float64(2), int64(8), object(7)\n",
            "memory usage: 2.2+ MB\n"
          ],
          "name": "stdout"
        }
      ]
    },
    {
      "cell_type": "markdown",
      "metadata": {
        "id": "E1DZjmUrAbEd"
      },
      "source": [
        "**Tahap keempat** : Menganalisis tentang tahun rilis terbanyak \r\n",
        "\r\n",
        "\r\n"
      ]
    },
    {
      "cell_type": "code",
      "metadata": {
        "colab": {
          "base_uri": "https://localhost:8080/",
          "height": 295
        },
        "id": "Yw-lrsGPApFV",
        "outputId": "9973c026-16e0-4df2-b542-1a605ea8b6d3"
      },
      "source": [
        "fig=plt.figure()\r\n",
        "ax = fig.add_subplot(1,1,1)\r\n",
        "\r\n",
        "#Variable\r\n",
        "ax.hist(df['Year'])\r\n",
        "#Labels and Tit\r\n",
        "plt.title('Release Year')\r\n",
        "plt.xlabel('Year')\r\n",
        "plt.ylabel('Total')\r\n",
        "plt.show()"
      ],
      "execution_count": null,
      "outputs": [
        {
          "output_type": "display_data",
          "data": {
            "image/png": "[encoded data removed]",
            "text/plain": [
              "<Figure size 432x288 with 1 Axes>"
            ]
          },
          "metadata": {
            "tags": [],
            "needs_background": "light"
          }
        }
      ]
    },
    {
      "cell_type": "markdown",
      "metadata": {
        "id": "C5kCyP2eCB6R"
      },
      "source": [
        "- **Analisis Histogram :** Ditampilkan bahwa  tahun rilis terbanyak ada ditahun 2020"
      ]
    },
    {
      "cell_type": "markdown",
      "metadata": {
        "id": "pflOn2EwGao3"
      },
      "source": [
        "**Tahap kelima :** Analisis type dengan release_year"
      ]
    },
    {
      "cell_type": "code",
      "metadata": {
        "colab": {
          "base_uri": "https://localhost:8080/",
          "height": 295
        },
        "id": "YwbLVvbqDOC7",
        "outputId": "4461c067-8a62-4fe7-80c7-a13b9836108f"
      },
      "source": [
        "fig=plt.figure()\r\n",
        "ax = fig.add_subplot()\r\n",
        "#Variable\r\n",
        "ax.scatter(df['Year'],df['IMDb'])\r\n",
        "\r\n",
        "#Labels and Tit\r\n",
        "plt.title('IMDb dan Release_year')\r\n",
        "plt.xlabel('Year')\r\n",
        "plt.ylabel('IMDb')\r\n",
        "plt.show()"
      ],
      "execution_count": null,
      "outputs": [
        {
          "output_type": "display_data",
          "data": {
            "image/png": "[encoded data removed]",
            "text/plain": [
              "<Figure size 432x288 with 1 Axes>"
            ]
          },
          "metadata": {
            "tags": [],
            "needs_background": "light"
          }
        }
      ]
    },
    {
      "cell_type": "markdown",
      "metadata": {
        "id": "jPLNivqwH6PK"
      },
      "source": [
        "- **Analisis Scatter Plot**: Total rating terbanyak dapat dilihat bahwa hanya di tahun 2020"
      ]
    },
    {
      "cell_type": "markdown",
      "metadata": {
        "id": "gO9elp-UIsAz"
      },
      "source": [
        "**Tahap ke enam** : Analisis menggunakan Boxplot dilihat dari release_year"
      ]
    },
    {
      "cell_type": "code",
      "metadata": {
        "colab": {
          "base_uri": "https://localhost:8080/",
          "height": 333
        },
        "id": "yUtOFI0PInof",
        "outputId": "dbd273d8-c5fb-4a81-828a-8840219281c3"
      },
      "source": [
        "sns.boxplot(df['Year'])\r\n",
        "sns.despine()"
      ],
      "execution_count": null,
      "outputs": [
        {
          "output_type": "stream",
          "text": [
            "/usr/local/lib/python3.6/dist-packages/seaborn/_decorators.py:43: FutureWarning: Pass the following variable as a keyword arg: x. From version 0.12, the only valid positional argument will be `data`, and passing other arguments without an explicit keyword will result in an error or misinterpretation.\n",
            "  FutureWarning\n"
          ],
          "name": "stderr"
        },
        {
          "output_type": "display_data",
          "data": {
            "image/png": "[encoded data removed]",
            "text/plain": [
              "<Figure size 432x288 with 1 Axes>"
            ]
          },
          "metadata": {
            "tags": [],
            "needs_background": "light"
          }
        }
      ]
    },
    {
      "cell_type": "markdown",
      "metadata": {
        "id": "UIr0z0yvIsHv"
      },
      "source": [
        "- **Analisis Boxplot** : \r\n",
        "1. Nilai minimal menunjukan release_year kirs-kira 1970\r\n",
        "2. Nilai Quartil terendah menunjukan release_year kira-kira 2000\r\n",
        "3. Nilai Median menunjukan release_year kira-kira 2017\r\n",
        "4. Nilai Quartil teratas menunjukan release_year kira-kira 2019\r\n",
        "5. Nilai maksimal menunjukan total penjualan kira-kira 2020\r\n",
        "6. Terdapat pencilan data pada release_year yaitu 1900 "
      ]
    },
    {
      "cell_type": "markdown",
      "metadata": {
        "id": "SrSFrCx6KxNX"
      },
      "source": [
        "**Tahap ke tujuh** : Analisis menggunakan Plots type dengan country."
      ]
    },
    {
      "cell_type": "code",
      "metadata": {
        "colab": {
          "base_uri": "https://localhost:8080/",
          "height": 296
        },
        "id": "ojDqKluOKttX",
        "outputId": "edc676b0-ab5e-4114-cf40-787f0a4466b4"
      },
      "source": [
        "sns.stripplot(x=\"Age\", y=\"Year\", data=df) "
      ],
      "execution_count": null,
      "outputs": [
        {
          "output_type": "execute_result",
          "data": {
            "text/plain": [
              "<matplotlib.axes._subplots.AxesSubplot at 0x7fa01eb2f780>"
            ]
          },
          "metadata": {
            "tags": []
          },
          "execution_count": 95
        },
        {
          "output_type": "display_data",
          "data": {
            "image/png": "[encoded data removed]",
            "text/plain": [
              "<Figure size 432x288 with 1 Axes>"
            ]
          },
          "metadata": {
            "tags": [],
            "needs_background": "light"
          }
        }
      ]
    },
    {
      "cell_type": "markdown",
      "metadata": {
        "id": "tRn_bJr8bu6I"
      },
      "source": [
        "- **Analisis Plots** : Pada tahun 2000-2020 film yang dirilis lebih merata untuk semua umur"
      ]
    },
    {
      "cell_type": "markdown",
      "metadata": {
        "id": "A0gqEOW1cF0y"
      },
      "source": [
        "**Tahap Delapan** : Analisis menggunakan Boxplot Netflix release year dan digunakan perbandingan Umur untuk penayangannya."
      ]
    },
    {
      "cell_type": "code",
      "metadata": {
        "colab": {
          "base_uri": "https://localhost:8080/",
          "height": 296
        },
        "id": "WS8vwRwocCkp",
        "outputId": "8da9a33d-12b3-4868-f528-b4a18508d82f"
      },
      "source": [
        "sns.boxplot(x=\"Age\", y=\"Year\", data=df, hue = 'Netflix') "
      ],
      "execution_count": null,
      "outputs": [
        {
          "output_type": "execute_result",
          "data": {
            "text/plain": [
              "<matplotlib.axes._subplots.AxesSubplot at 0x7f9ffab71668>"
            ]
          },
          "metadata": {
            "tags": []
          },
          "execution_count": 108
        },
        {
          "output_type": "display_data",
          "data": {
            "image/png": "[encoded data removed]",
            "text/plain": [
              "<Figure size 432x288 with 1 Axes>"
            ]
          },
          "metadata": {
            "tags": [],
            "needs_background": "light"
          }
        }
      ]
    },
    {
      "cell_type": "markdown",
      "metadata": {
        "id": "AfBb67Rle0RV"
      },
      "source": [
        "**Analisis Boxplot Netflix**\r\n",
        "netflix kebanyakan merilis film pada tahun 2000 hingga 2020 dengan batasan umur paling banyak adalah all, dan paling sedikit adalah 16+ yang hanya baru baru dirilis pada tahun 2018 hingga 2020. sedangkan data (0) menunjukkan film dengan batasan umur yang tidak dirilis netflix dan dirilis di streaming app lain"
      ]
    },
    {
      "cell_type": "markdown",
      "metadata": {
        "id": "myzzRyK2gDiN"
      },
      "source": [
        "**Tahap ke sembilan** : Analisis frekuensi rilis Hulu dengan Age."
      ]
    },
    {
      "cell_type": "code",
      "metadata": {
        "colab": {
          "base_uri": "https://localhost:8080/"
        },
        "id": "J6nAobRSfgk5",
        "outputId": "d2342f0b-1e75-4bbf-a8cf-1757df82bcae"
      },
      "source": [
        "print (df)\r\n",
        "test= df.groupby(['Hulu','Age'])\r\n",
        "test.size()"
      ],
      "execution_count": null,
      "outputs": [
        {
          "output_type": "stream",
          "text": [
            "       Unnamed: 0     ID  ...                 Language  Runtime\n",
            "0               0      1  ...  English,Japanese,French    148.0\n",
            "1               1      2  ...                  English    136.0\n",
            "2               2      3  ...                  English    149.0\n",
            "3               3      4  ...                  English    116.0\n",
            "4               4      5  ...                  Italian    161.0\n",
            "...           ...    ...  ...                      ...      ...\n",
            "16739       16739  16740  ...                  English    120.0\n",
            "16740       16740  16741  ...                  English     90.0\n",
            "16741       16741  16742  ...                  English      NaN\n",
            "16742       16742  16743  ...                  English      NaN\n",
            "16743       16743  16744  ...                  English     32.0\n",
            "\n",
            "[16744 rows x 17 columns]\n"
          ],
          "name": "stdout"
        },
        {
          "output_type": "execute_result",
          "data": {
            "text/plain": [
              "Hulu  Age\n",
              "0     13+    1136\n",
              "      16+     303\n",
              "      18+    3184\n",
              "      7+     1353\n",
              "      all     788\n",
              "1     13+     119\n",
              "      16+      17\n",
              "      18+     290\n",
              "      7+      109\n",
              "      all      55\n",
              "dtype: int64"
            ]
          },
          "metadata": {
            "tags": []
          },
          "execution_count": 109
        }
      ]
    },
    {
      "cell_type": "markdown",
      "metadata": {
        "id": "42LcqD35fr9S"
      },
      "source": [
        "- **Analisis Frekuensi** : \r\n",
        "1. Terdapat data table yang akan dianalisis\r\n",
        "2. Hulu dan Age dikelompokan dan terdapat jumlah frekuensi yang telah dilakukan\r\n",
        "\r\n",
        "- Hulu merilis film terbanyak untuk batasan umur 18+, dan paling sedikit untuk umur 16+"
      ]
    },
    {
      "cell_type": "markdown",
      "metadata": {
        "id": "sTQSEQ--gV6S"
      },
      "source": [
        "**Tahap ke sepuluh** : Analisis mapping tentang umur, skor IMDb di aplikasi hulu"
      ]
    },
    {
      "cell_type": "code",
      "metadata": {
        "colab": {
          "base_uri": "https://localhost:8080/",
          "height": 442
        },
        "id": "kDe2vN9-oToW",
        "outputId": "7d0d0aba-3296-43cc-908d-93972624a193"
      },
      "source": [
        "sp_pivot = df.pivot_table(index='Age', columns='IMDb', values='Hulu')\r\n",
        "\r\n",
        "print(sp_pivot)(figsize=(15,8))\r\n",
        "\r\n",
        "sns.heatmap(sp_pivot, cmap='coolwarm')\r\n",
        "\r\n",
        "plt.show()"
      ],
      "execution_count": null,
      "outputs": [
        {
          "output_type": "stream",
          "text": [
            "IMDb  1.0  1.5  1.6  1.7  1.8  1.9  2.0  ...  8.5  8.6       8.7  8.8  8.9  9.0  9.1\n",
            "Age                                      ...                                        \n",
            "13+   NaN  NaN  NaN  0.0  NaN  0.0  0.0  ...  0.0  0.0  0.000000  0.0  NaN  1.0  0.0\n",
            "16+   NaN  NaN  NaN  NaN  0.0  NaN  0.0  ...  NaN  0.0       NaN  0.0  NaN  NaN  NaN\n",
            "18+   NaN  0.0  0.0  0.0  0.0  NaN  0.0  ...  0.0  0.4  0.333333  0.0  NaN  NaN  NaN\n",
            "7+    NaN  NaN  NaN  NaN  0.0  NaN  NaN  ...  0.2  0.0  0.000000  NaN  NaN  NaN  NaN\n",
            "all   0.0  NaN  0.0  NaN  NaN  0.0  NaN  ...  0.0  0.0  0.000000  NaN  0.0  NaN  NaN\n",
            "\n",
            "[5 rows x 78 columns]\n"
          ],
          "name": "stdout"
        },
        {
          "output_type": "display_data",
          "data": {
            "image/png": "[encoded data removed]",
            "text/plain": [
              "<Figure size 432x288 with 2 Axes>"
            ]
          },
          "metadata": {
            "tags": [],
            "needs_background": "light"
          }
        }
      ]
    },
    {
      "cell_type": "markdown",
      "metadata": {
        "id": "p-40AOigpFsh"
      },
      "source": [
        "- **Analisis Mapping**: Dibagi antara beberapa kelompok berdasarkan rating IMBd untuk aplikasi Hulu yang diberikan\r\n",
        "\r\n",
        "- Dilihat dari mapping yang sudah dibuat bahwa Rating tertinggi 9.0 pada film dengan batasan umur 13+, dan rating terendah adalah 0"
      ]
    },
    {
      "cell_type": "markdown",
      "metadata": {
        "id": "AurhIVnTpo35"
      },
      "source": [
        "# **TAHAP PEMODELAN DATA**"
      ]
    },
    {
      "cell_type": "markdown",
      "metadata": {
        "id": "l9O2yon6pt7W"
      },
      "source": [
        "**Tahap pertama** : Import library yang digunakan"
      ]
    },
    {
      "cell_type": "code",
      "metadata": {
        "id": "RZoaHebLpmAZ"
      },
      "source": [
        "from sklearn.cluster import KMeans\r\n",
        "import numpy as np\r\n",
        "from sklearn.preprocessing import MinMaxScaler\r\n",
        "import math"
      ],
      "execution_count": null,
      "outputs": []
    },
    {
      "cell_type": "markdown",
      "metadata": {
        "id": "bia3D5jwpyLU"
      },
      "source": [
        "**Tahap kedua** : Pengelompokan data menggunakan acuan Age."
      ]
    },
    {
      "cell_type": "code",
      "metadata": {
        "colab": {
          "base_uri": "https://localhost:8080/",
          "height": 286
        },
        "id": "qK_mKDU2p0Zu",
        "outputId": "a1e36d9e-dbc0-4f44-da2e-2079c00e62c5"
      },
      "source": [
        "x = df.groupby(['Age'])\r\n",
        "x.describe()"
      ],
      "execution_count": null,
      "outputs": [
        {
          "output_type": "execute_result",
          "data": {
            "text/html": [
              "<div>\n",
              "<style scoped>\n",
              "    .dataframe tbody tr th:only-of-type {\n",
              "        vertical-align: middle;\n",
              "    }\n",
              "\n",
              "    .dataframe tbody tr th {\n",
              "        vertical-align: top;\n",
              "    }\n",
              "\n",
              "    .dataframe thead tr th {\n",
              "        text-align: left;\n",
              "    }\n",
              "\n",
              "    .dataframe thead tr:last-of-type th {\n",
              "        text-align: right;\n",
              "    }\n",
              "</style>\n",
              "<table border=\"1\" class=\"dataframe\">\n",
              "  <thead>\n",
              "    <tr>\n",
              "      <th></th>\n",
              "      <th colspan=\"8\" halign=\"left\">Unnamed: 0</th>\n",
              "      <th colspan=\"8\" halign=\"left\">ID</th>\n",
              "      <th colspan=\"8\" halign=\"left\">Year</th>\n",
              "      <th colspan=\"8\" halign=\"left\">IMDb</th>\n",
              "      <th colspan=\"8\" halign=\"left\">Netflix</th>\n",
              "      <th colspan=\"8\" halign=\"left\">Hulu</th>\n",
              "      <th colspan=\"8\" halign=\"left\">Prime Video</th>\n",
              "      <th colspan=\"8\" halign=\"left\">Disney+</th>\n",
              "      <th colspan=\"8\" halign=\"left\">Type</th>\n",
              "      <th colspan=\"8\" halign=\"left\">Runtime</th>\n",
              "    </tr>\n",
              "    <tr>\n",
              "      <th></th>\n",
              "      <th>count</th>\n",
              "      <th>mean</th>\n",
              "      <th>std</th>\n",
              "      <th>min</th>\n",
              "      <th>25%</th>\n",
              "      <th>50%</th>\n",
              "      <th>75%</th>\n",
              "      <th>max</th>\n",
              "      <th>count</th>\n",
              "      <th>mean</th>\n",
              "      <th>std</th>\n",
              "      <th>min</th>\n",
              "      <th>25%</th>\n",
              "      <th>50%</th>\n",
              "      <th>75%</th>\n",
              "      <th>max</th>\n",
              "      <th>count</th>\n",
              "      <th>mean</th>\n",
              "      <th>std</th>\n",
              "      <th>min</th>\n",
              "      <th>25%</th>\n",
              "      <th>50%</th>\n",
              "      <th>75%</th>\n",
              "      <th>max</th>\n",
              "      <th>count</th>\n",
              "      <th>mean</th>\n",
              "      <th>std</th>\n",
              "      <th>min</th>\n",
              "      <th>25%</th>\n",
              "      <th>50%</th>\n",
              "      <th>75%</th>\n",
              "      <th>max</th>\n",
              "      <th>count</th>\n",
              "      <th>mean</th>\n",
              "      <th>std</th>\n",
              "      <th>min</th>\n",
              "      <th>25%</th>\n",
              "      <th>50%</th>\n",
              "      <th>75%</th>\n",
              "      <th>max</th>\n",
              "      <th>count</th>\n",
              "      <th>mean</th>\n",
              "      <th>std</th>\n",
              "      <th>min</th>\n",
              "      <th>25%</th>\n",
              "      <th>50%</th>\n",
              "      <th>75%</th>\n",
              "      <th>max</th>\n",
              "      <th>count</th>\n",
              "      <th>mean</th>\n",
              "      <th>std</th>\n",
              "      <th>min</th>\n",
              "      <th>25%</th>\n",
              "      <th>50%</th>\n",
              "      <th>75%</th>\n",
              "      <th>max</th>\n",
              "      <th>count</th>\n",
              "      <th>mean</th>\n",
              "      <th>std</th>\n",
              "      <th>min</th>\n",
              "      <th>25%</th>\n",
              "      <th>50%</th>\n",
              "      <th>75%</th>\n",
              "      <th>max</th>\n",
              "      <th>count</th>\n",
              "      <th>mean</th>\n",
              "      <th>std</th>\n",
              "      <th>min</th>\n",
              "      <th>25%</th>\n",
              "      <th>50%</th>\n",
              "      <th>75%</th>\n",
              "      <th>max</th>\n",
              "      <th>count</th>\n",
              "      <th>mean</th>\n",
              "      <th>std</th>\n",
              "      <th>min</th>\n",
              "      <th>25%</th>\n",
              "      <th>50%</th>\n",
              "      <th>75%</th>\n",
              "      <th>max</th>\n",
              "    </tr>\n",
              "    <tr>\n",
              "      <th>Age</th>\n",
              "      <th></th>\n",
              "      <th></th>\n",
              "      <th></th>\n",
              "      <th></th>\n",
              "      <th></th>\n",
              "      <th></th>\n",
              "      <th></th>\n",
              "      <th></th>\n",
              "      <th></th>\n",
              "      <th></th>\n",
              "      <th></th>\n",
              "      <th></th>\n",
              "      <th></th>\n",
              "      <th></th>\n",
              "      <th></th>\n",
              "      <th></th>\n",
              "      <th></th>\n",
              "      <th></th>\n",
              "      <th></th>\n",
              "      <th></th>\n",
              "      <th></th>\n",
              "      <th></th>\n",
              "      <th></th>\n",
              "      <th></th>\n",
              "      <th></th>\n",
              "      <th></th>\n",
              "      <th></th>\n",
              "      <th></th>\n",
              "      <th></th>\n",
              "      <th></th>\n",
              "      <th></th>\n",
              "      <th></th>\n",
              "      <th></th>\n",
              "      <th></th>\n",
              "      <th></th>\n",
              "      <th></th>\n",
              "      <th></th>\n",
              "      <th></th>\n",
              "      <th></th>\n",
              "      <th></th>\n",
              "      <th></th>\n",
              "      <th></th>\n",
              "      <th></th>\n",
              "      <th></th>\n",
              "      <th></th>\n",
              "      <th></th>\n",
              "      <th></th>\n",
              "      <th></th>\n",
              "      <th></th>\n",
              "      <th></th>\n",
              "      <th></th>\n",
              "      <th></th>\n",
              "      <th></th>\n",
              "      <th></th>\n",
              "      <th></th>\n",
              "      <th></th>\n",
              "      <th></th>\n",
              "      <th></th>\n",
              "      <th></th>\n",
              "      <th></th>\n",
              "      <th></th>\n",
              "      <th></th>\n",
              "      <th></th>\n",
              "      <th></th>\n",
              "      <th></th>\n",
              "      <th></th>\n",
              "      <th></th>\n",
              "      <th></th>\n",
              "      <th></th>\n",
              "      <th></th>\n",
              "      <th></th>\n",
              "      <th></th>\n",
              "      <th></th>\n",
              "      <th></th>\n",
              "      <th></th>\n",
              "      <th></th>\n",
              "      <th></th>\n",
              "      <th></th>\n",
              "      <th></th>\n",
              "      <th></th>\n",
              "    </tr>\n",
              "  </thead>\n",
              "  <tbody>\n",
              "    <tr>\n",
              "      <th>13+</th>\n",
              "      <td>1255.0</td>\n",
              "      <td>6257.701992</td>\n",
              "      <td>4666.912010</td>\n",
              "      <td>0.0</td>\n",
              "      <td>2088.00</td>\n",
              "      <td>5543.0</td>\n",
              "      <td>9330.00</td>\n",
              "      <td>16464.0</td>\n",
              "      <td>1255.0</td>\n",
              "      <td>6258.701992</td>\n",
              "      <td>4666.912010</td>\n",
              "      <td>1.0</td>\n",
              "      <td>2089.00</td>\n",
              "      <td>5544.0</td>\n",
              "      <td>9331.00</td>\n",
              "      <td>16465.0</td>\n",
              "      <td>1255.0</td>\n",
              "      <td>2008.431076</td>\n",
              "      <td>11.282786</td>\n",
              "      <td>1919.0</td>\n",
              "      <td>2006.0</td>\n",
              "      <td>2012.0</td>\n",
              "      <td>2016.0</td>\n",
              "      <td>2020.0</td>\n",
              "      <td>1241.0</td>\n",
              "      <td>6.132151</td>\n",
              "      <td>1.288293</td>\n",
              "      <td>1.7</td>\n",
              "      <td>5.4</td>\n",
              "      <td>6.3</td>\n",
              "      <td>7.0</td>\n",
              "      <td>9.1</td>\n",
              "      <td>1255.0</td>\n",
              "      <td>0.305179</td>\n",
              "      <td>0.460667</td>\n",
              "      <td>0.0</td>\n",
              "      <td>0.0</td>\n",
              "      <td>0.0</td>\n",
              "      <td>1.0</td>\n",
              "      <td>1.0</td>\n",
              "      <td>1255.0</td>\n",
              "      <td>0.094821</td>\n",
              "      <td>0.293084</td>\n",
              "      <td>0.0</td>\n",
              "      <td>0.0</td>\n",
              "      <td>0.0</td>\n",
              "      <td>0.0</td>\n",
              "      <td>1.0</td>\n",
              "      <td>1255.0</td>\n",
              "      <td>0.652590</td>\n",
              "      <td>0.476337</td>\n",
              "      <td>0.0</td>\n",
              "      <td>0.0</td>\n",
              "      <td>1.0</td>\n",
              "      <td>1.0</td>\n",
              "      <td>1.0</td>\n",
              "      <td>1255.0</td>\n",
              "      <td>0.031873</td>\n",
              "      <td>0.175731</td>\n",
              "      <td>0.0</td>\n",
              "      <td>0.0</td>\n",
              "      <td>0.0</td>\n",
              "      <td>0.0</td>\n",
              "      <td>1.0</td>\n",
              "      <td>1255.0</td>\n",
              "      <td>0.0</td>\n",
              "      <td>0.0</td>\n",
              "      <td>0.0</td>\n",
              "      <td>0.0</td>\n",
              "      <td>0.0</td>\n",
              "      <td>0.0</td>\n",
              "      <td>0.0</td>\n",
              "      <td>1232.0</td>\n",
              "      <td>102.486201</td>\n",
              "      <td>24.276865</td>\n",
              "      <td>2.0</td>\n",
              "      <td>90.0</td>\n",
              "      <td>98.0</td>\n",
              "      <td>113.00</td>\n",
              "      <td>270.0</td>\n",
              "    </tr>\n",
              "    <tr>\n",
              "      <th>16+</th>\n",
              "      <td>320.0</td>\n",
              "      <td>7403.875000</td>\n",
              "      <td>4778.228431</td>\n",
              "      <td>234.0</td>\n",
              "      <td>2548.25</td>\n",
              "      <td>7200.5</td>\n",
              "      <td>11165.00</td>\n",
              "      <td>16611.0</td>\n",
              "      <td>320.0</td>\n",
              "      <td>7404.875000</td>\n",
              "      <td>4778.228431</td>\n",
              "      <td>235.0</td>\n",
              "      <td>2549.25</td>\n",
              "      <td>7201.5</td>\n",
              "      <td>11166.00</td>\n",
              "      <td>16612.0</td>\n",
              "      <td>320.0</td>\n",
              "      <td>2013.525000</td>\n",
              "      <td>6.312599</td>\n",
              "      <td>1971.0</td>\n",
              "      <td>2012.0</td>\n",
              "      <td>2015.0</td>\n",
              "      <td>2017.0</td>\n",
              "      <td>2020.0</td>\n",
              "      <td>319.0</td>\n",
              "      <td>5.515047</td>\n",
              "      <td>1.532281</td>\n",
              "      <td>1.8</td>\n",
              "      <td>4.4</td>\n",
              "      <td>5.6</td>\n",
              "      <td>6.8</td>\n",
              "      <td>8.8</td>\n",
              "      <td>320.0</td>\n",
              "      <td>0.278125</td>\n",
              "      <td>0.448777</td>\n",
              "      <td>0.0</td>\n",
              "      <td>0.0</td>\n",
              "      <td>0.0</td>\n",
              "      <td>1.0</td>\n",
              "      <td>1.0</td>\n",
              "      <td>320.0</td>\n",
              "      <td>0.053125</td>\n",
              "      <td>0.224634</td>\n",
              "      <td>0.0</td>\n",
              "      <td>0.0</td>\n",
              "      <td>0.0</td>\n",
              "      <td>0.0</td>\n",
              "      <td>1.0</td>\n",
              "      <td>320.0</td>\n",
              "      <td>0.706250</td>\n",
              "      <td>0.456192</td>\n",
              "      <td>0.0</td>\n",
              "      <td>0.0</td>\n",
              "      <td>1.0</td>\n",
              "      <td>1.0</td>\n",
              "      <td>1.0</td>\n",
              "      <td>320.0</td>\n",
              "      <td>0.003125</td>\n",
              "      <td>0.055902</td>\n",
              "      <td>0.0</td>\n",
              "      <td>0.0</td>\n",
              "      <td>0.0</td>\n",
              "      <td>0.0</td>\n",
              "      <td>1.0</td>\n",
              "      <td>320.0</td>\n",
              "      <td>0.0</td>\n",
              "      <td>0.0</td>\n",
              "      <td>0.0</td>\n",
              "      <td>0.0</td>\n",
              "      <td>0.0</td>\n",
              "      <td>0.0</td>\n",
              "      <td>0.0</td>\n",
              "      <td>316.0</td>\n",
              "      <td>93.667722</td>\n",
              "      <td>24.910768</td>\n",
              "      <td>17.0</td>\n",
              "      <td>85.0</td>\n",
              "      <td>91.0</td>\n",
              "      <td>100.25</td>\n",
              "      <td>360.0</td>\n",
              "    </tr>\n",
              "    <tr>\n",
              "      <th>18+</th>\n",
              "      <td>3474.0</td>\n",
              "      <td>7238.673575</td>\n",
              "      <td>4632.909828</td>\n",
              "      <td>1.0</td>\n",
              "      <td>3808.50</td>\n",
              "      <td>6672.0</td>\n",
              "      <td>10788.75</td>\n",
              "      <td>16136.0</td>\n",
              "      <td>3474.0</td>\n",
              "      <td>7239.673575</td>\n",
              "      <td>4632.909828</td>\n",
              "      <td>2.0</td>\n",
              "      <td>3809.50</td>\n",
              "      <td>6673.0</td>\n",
              "      <td>10789.75</td>\n",
              "      <td>16137.0</td>\n",
              "      <td>3474.0</td>\n",
              "      <td>2005.097582</td>\n",
              "      <td>13.553532</td>\n",
              "      <td>1933.0</td>\n",
              "      <td>1999.0</td>\n",
              "      <td>2010.0</td>\n",
              "      <td>2016.0</td>\n",
              "      <td>2020.0</td>\n",
              "      <td>3468.0</td>\n",
              "      <td>5.609862</td>\n",
              "      <td>1.352928</td>\n",
              "      <td>1.5</td>\n",
              "      <td>4.7</td>\n",
              "      <td>5.8</td>\n",
              "      <td>6.6</td>\n",
              "      <td>8.8</td>\n",
              "      <td>3474.0</td>\n",
              "      <td>0.216465</td>\n",
              "      <td>0.411894</td>\n",
              "      <td>0.0</td>\n",
              "      <td>0.0</td>\n",
              "      <td>0.0</td>\n",
              "      <td>0.0</td>\n",
              "      <td>1.0</td>\n",
              "      <td>3474.0</td>\n",
              "      <td>0.083477</td>\n",
              "      <td>0.276642</td>\n",
              "      <td>0.0</td>\n",
              "      <td>0.0</td>\n",
              "      <td>0.0</td>\n",
              "      <td>0.0</td>\n",
              "      <td>1.0</td>\n",
              "      <td>3474.0</td>\n",
              "      <td>0.751871</td>\n",
              "      <td>0.431989</td>\n",
              "      <td>0.0</td>\n",
              "      <td>1.0</td>\n",
              "      <td>1.0</td>\n",
              "      <td>1.0</td>\n",
              "      <td>1.0</td>\n",
              "      <td>3474.0</td>\n",
              "      <td>0.000864</td>\n",
              "      <td>0.029378</td>\n",
              "      <td>0.0</td>\n",
              "      <td>0.0</td>\n",
              "      <td>0.0</td>\n",
              "      <td>0.0</td>\n",
              "      <td>1.0</td>\n",
              "      <td>3474.0</td>\n",
              "      <td>0.0</td>\n",
              "      <td>0.0</td>\n",
              "      <td>0.0</td>\n",
              "      <td>0.0</td>\n",
              "      <td>0.0</td>\n",
              "      <td>0.0</td>\n",
              "      <td>0.0</td>\n",
              "      <td>3439.0</td>\n",
              "      <td>96.367839</td>\n",
              "      <td>19.047625</td>\n",
              "      <td>11.0</td>\n",
              "      <td>88.0</td>\n",
              "      <td>94.0</td>\n",
              "      <td>105.00</td>\n",
              "      <td>209.0</td>\n",
              "    </tr>\n",
              "    <tr>\n",
              "      <th>7+</th>\n",
              "      <td>1462.0</td>\n",
              "      <td>8054.657319</td>\n",
              "      <td>5118.647567</td>\n",
              "      <td>3.0</td>\n",
              "      <td>3872.50</td>\n",
              "      <td>7545.0</td>\n",
              "      <td>12191.75</td>\n",
              "      <td>16740.0</td>\n",
              "      <td>1462.0</td>\n",
              "      <td>8055.657319</td>\n",
              "      <td>5118.647567</td>\n",
              "      <td>4.0</td>\n",
              "      <td>3873.50</td>\n",
              "      <td>7546.0</td>\n",
              "      <td>12192.75</td>\n",
              "      <td>16741.0</td>\n",
              "      <td>1462.0</td>\n",
              "      <td>2001.865937</td>\n",
              "      <td>18.071986</td>\n",
              "      <td>1912.0</td>\n",
              "      <td>1993.0</td>\n",
              "      <td>2009.0</td>\n",
              "      <td>2015.0</td>\n",
              "      <td>2020.0</td>\n",
              "      <td>1456.0</td>\n",
              "      <td>6.069712</td>\n",
              "      <td>1.231174</td>\n",
              "      <td>1.8</td>\n",
              "      <td>5.3</td>\n",
              "      <td>6.2</td>\n",
              "      <td>7.0</td>\n",
              "      <td>8.7</td>\n",
              "      <td>1462.0</td>\n",
              "      <td>0.220930</td>\n",
              "      <td>0.415016</td>\n",
              "      <td>0.0</td>\n",
              "      <td>0.0</td>\n",
              "      <td>0.0</td>\n",
              "      <td>0.0</td>\n",
              "      <td>1.0</td>\n",
              "      <td>1462.0</td>\n",
              "      <td>0.074555</td>\n",
              "      <td>0.262762</td>\n",
              "      <td>0.0</td>\n",
              "      <td>0.0</td>\n",
              "      <td>0.0</td>\n",
              "      <td>0.0</td>\n",
              "      <td>1.0</td>\n",
              "      <td>1462.0</td>\n",
              "      <td>0.626539</td>\n",
              "      <td>0.483888</td>\n",
              "      <td>0.0</td>\n",
              "      <td>0.0</td>\n",
              "      <td>1.0</td>\n",
              "      <td>1.0</td>\n",
              "      <td>1.0</td>\n",
              "      <td>1462.0</td>\n",
              "      <td>0.122435</td>\n",
              "      <td>0.327900</td>\n",
              "      <td>0.0</td>\n",
              "      <td>0.0</td>\n",
              "      <td>0.0</td>\n",
              "      <td>0.0</td>\n",
              "      <td>1.0</td>\n",
              "      <td>1462.0</td>\n",
              "      <td>0.0</td>\n",
              "      <td>0.0</td>\n",
              "      <td>0.0</td>\n",
              "      <td>0.0</td>\n",
              "      <td>0.0</td>\n",
              "      <td>0.0</td>\n",
              "      <td>0.0</td>\n",
              "      <td>1446.0</td>\n",
              "      <td>98.032503</td>\n",
              "      <td>25.392197</td>\n",
              "      <td>6.0</td>\n",
              "      <td>87.0</td>\n",
              "      <td>94.0</td>\n",
              "      <td>107.00</td>\n",
              "      <td>224.0</td>\n",
              "    </tr>\n",
              "    <tr>\n",
              "      <th>all</th>\n",
              "      <td>843.0</td>\n",
              "      <td>10558.487544</td>\n",
              "      <td>5501.271350</td>\n",
              "      <td>54.0</td>\n",
              "      <td>5761.50</td>\n",
              "      <td>11597.0</td>\n",
              "      <td>16356.50</td>\n",
              "      <td>16738.0</td>\n",
              "      <td>843.0</td>\n",
              "      <td>10559.487544</td>\n",
              "      <td>5501.271350</td>\n",
              "      <td>55.0</td>\n",
              "      <td>5762.50</td>\n",
              "      <td>11598.0</td>\n",
              "      <td>16357.50</td>\n",
              "      <td>16739.0</td>\n",
              "      <td>843.0</td>\n",
              "      <td>1996.103203</td>\n",
              "      <td>22.725148</td>\n",
              "      <td>1902.0</td>\n",
              "      <td>1982.5</td>\n",
              "      <td>2004.0</td>\n",
              "      <td>2013.0</td>\n",
              "      <td>2020.0</td>\n",
              "      <td>832.0</td>\n",
              "      <td>6.172356</td>\n",
              "      <td>1.222534</td>\n",
              "      <td>1.0</td>\n",
              "      <td>5.5</td>\n",
              "      <td>6.2</td>\n",
              "      <td>7.1</td>\n",
              "      <td>8.9</td>\n",
              "      <td>843.0</td>\n",
              "      <td>0.154211</td>\n",
              "      <td>0.361365</td>\n",
              "      <td>0.0</td>\n",
              "      <td>0.0</td>\n",
              "      <td>0.0</td>\n",
              "      <td>0.0</td>\n",
              "      <td>1.0</td>\n",
              "      <td>843.0</td>\n",
              "      <td>0.065243</td>\n",
              "      <td>0.247101</td>\n",
              "      <td>0.0</td>\n",
              "      <td>0.0</td>\n",
              "      <td>0.0</td>\n",
              "      <td>0.0</td>\n",
              "      <td>1.0</td>\n",
              "      <td>843.0</td>\n",
              "      <td>0.481613</td>\n",
              "      <td>0.499958</td>\n",
              "      <td>0.0</td>\n",
              "      <td>0.0</td>\n",
              "      <td>0.0</td>\n",
              "      <td>1.0</td>\n",
              "      <td>1.0</td>\n",
              "      <td>843.0</td>\n",
              "      <td>0.328588</td>\n",
              "      <td>0.469979</td>\n",
              "      <td>0.0</td>\n",
              "      <td>0.0</td>\n",
              "      <td>0.0</td>\n",
              "      <td>1.0</td>\n",
              "      <td>1.0</td>\n",
              "      <td>843.0</td>\n",
              "      <td>0.0</td>\n",
              "      <td>0.0</td>\n",
              "      <td>0.0</td>\n",
              "      <td>0.0</td>\n",
              "      <td>0.0</td>\n",
              "      <td>0.0</td>\n",
              "      <td>0.0</td>\n",
              "      <td>828.0</td>\n",
              "      <td>90.274155</td>\n",
              "      <td>51.043723</td>\n",
              "      <td>2.0</td>\n",
              "      <td>74.0</td>\n",
              "      <td>88.0</td>\n",
              "      <td>100.00</td>\n",
              "      <td>1256.0</td>\n",
              "    </tr>\n",
              "  </tbody>\n",
              "</table>\n",
              "</div>"
            ],
            "text/plain": [
              "    Unnamed: 0                                    ... Runtime                      \n",
              "         count          mean          std    min  ...     25%   50%     75%     max\n",
              "Age                                               ...                              \n",
              "13+     1255.0   6257.701992  4666.912010    0.0  ...    90.0  98.0  113.00   270.0\n",
              "16+      320.0   7403.875000  4778.228431  234.0  ...    85.0  91.0  100.25   360.0\n",
              "18+     3474.0   7238.673575  4632.909828    1.0  ...    88.0  94.0  105.00   209.0\n",
              "7+      1462.0   8054.657319  5118.647567    3.0  ...    87.0  94.0  107.00   224.0\n",
              "all      843.0  10558.487544  5501.271350   54.0  ...    74.0  88.0  100.00  1256.0\n",
              "\n",
              "[5 rows x 80 columns]"
            ]
          },
          "metadata": {
            "tags": []
          },
          "execution_count": 120
        }
      ]
    },
    {
      "cell_type": "markdown",
      "metadata": {
        "id": "BHBUxWBjp_Kz"
      },
      "source": [
        "- **Analisis Pengelompokan** : Digunakan acuan Age dibagi menjadi ID, Year,\tIMDb,\tNetflix,\tHulu,\tPrime, Video,\tDisney+,\tType,\tRuntime. Dikelompokkan menjadi count, mean, std, min, 25%, 50%, 75%, max."
      ]
    },
    {
      "cell_type": "markdown",
      "metadata": {
        "id": "Q4CbYmncqh5r"
      },
      "source": [
        "**Tahap ketiga** : Pengelompokan indeks integer untuk pemilihan berdasarkan kolom 7 sampai 10."
      ]
    },
    {
      "cell_type": "code",
      "metadata": {
        "colab": {
          "base_uri": "https://localhost:8080/",
          "height": 204
        },
        "id": "gHP0DMZMrrpT",
        "outputId": "368f74fe-8776-4dbd-d173-0d1d12085fea"
      },
      "source": [
        "xx = df.iloc[:, 7:11]\r\n",
        "xx.head()"
      ],
      "execution_count": null,
      "outputs": [
        {
          "output_type": "execute_result",
          "data": {
            "text/html": [
              "<div>\n",
              "<style scoped>\n",
              "    .dataframe tbody tr th:only-of-type {\n",
              "        vertical-align: middle;\n",
              "    }\n",
              "\n",
              "    .dataframe tbody tr th {\n",
              "        vertical-align: top;\n",
              "    }\n",
              "\n",
              "    .dataframe thead th {\n",
              "        text-align: right;\n",
              "    }\n",
              "</style>\n",
              "<table border=\"1\" class=\"dataframe\">\n",
              "  <thead>\n",
              "    <tr style=\"text-align: right;\">\n",
              "      <th></th>\n",
              "      <th>Netflix</th>\n",
              "      <th>Hulu</th>\n",
              "      <th>Prime Video</th>\n",
              "      <th>Disney+</th>\n",
              "    </tr>\n",
              "  </thead>\n",
              "  <tbody>\n",
              "    <tr>\n",
              "      <th>0</th>\n",
              "      <td>1</td>\n",
              "      <td>0</td>\n",
              "      <td>0</td>\n",
              "      <td>0</td>\n",
              "    </tr>\n",
              "    <tr>\n",
              "      <th>1</th>\n",
              "      <td>1</td>\n",
              "      <td>0</td>\n",
              "      <td>0</td>\n",
              "      <td>0</td>\n",
              "    </tr>\n",
              "    <tr>\n",
              "      <th>2</th>\n",
              "      <td>1</td>\n",
              "      <td>0</td>\n",
              "      <td>0</td>\n",
              "      <td>0</td>\n",
              "    </tr>\n",
              "    <tr>\n",
              "      <th>3</th>\n",
              "      <td>1</td>\n",
              "      <td>0</td>\n",
              "      <td>0</td>\n",
              "      <td>0</td>\n",
              "    </tr>\n",
              "    <tr>\n",
              "      <th>4</th>\n",
              "      <td>1</td>\n",
              "      <td>0</td>\n",
              "      <td>1</td>\n",
              "      <td>0</td>\n",
              "    </tr>\n",
              "  </tbody>\n",
              "</table>\n",
              "</div>"
            ],
            "text/plain": [
              "   Netflix  Hulu  Prime Video  Disney+\n",
              "0        1     0            0        0\n",
              "1        1     0            0        0\n",
              "2        1     0            0        0\n",
              "3        1     0            0        0\n",
              "4        1     0            1        0"
            ]
          },
          "metadata": {
            "tags": []
          },
          "execution_count": 135
        }
      ]
    },
    {
      "cell_type": "markdown",
      "metadata": {
        "id": "1kfnDUQ9wd6E"
      },
      "source": [
        "- **Analisis** : Kolom yang muncul yaitu IMDb, Rooten Tomatoes, Netflix, Hulu, Prime Video, Disney+, Type. Karena kolom tersebut memiliki nilai integer."
      ]
    },
    {
      "cell_type": "markdown",
      "metadata": {
        "id": "00ES5zCowyIs"
      },
      "source": [
        "**Tahap Keempat** : Pengelompokan menggunakan metode Elbow."
      ]
    },
    {
      "cell_type": "code",
      "metadata": {
        "colab": {
          "base_uri": "https://localhost:8080/",
          "height": 295
        },
        "id": "_sluVnIuw3U_",
        "outputId": "1365996f-9bf0-473a-bcad-ef8433a550be"
      },
      "source": [
        "# Menggunakan metode elbow untuk menentukan angka cluster yang tepat\r\n",
        "wcss = []\r\n",
        "for i in range(1, 11):\r\n",
        "    kmeans = KMeans(n_clusters = i, init = 'k-means++', random_state = 42)\r\n",
        "    kmeans.fit(xx)\r\n",
        "    wcss.append(kmeans.inertia_)\r\n",
        "plt.plot(range(1, 11), wcss)\r\n",
        "plt.title('Metode Elbow')\r\n",
        "plt.xlabel('Jumlah clusters')\r\n",
        "plt.ylabel('WCSS')\r\n",
        "plt.show()"
      ],
      "execution_count": null,
      "outputs": [
        {
          "output_type": "display_data",
          "data": {
            "image/png": "[encoded data removed]",
            "text/plain": [
              "<Figure size 432x288 with 1 Axes>"
            ]
          },
          "metadata": {
            "tags": [],
            "needs_background": "light"
          }
        }
      ]
    },
    {
      "cell_type": "markdown",
      "metadata": {
        "id": "h8N9sVVRxo9c"
      },
      "source": [
        "- **Analisis** : Pengelompokan menggunakan metode Elbow untuk mengetahui jumlah cluster yang optimal. Untuk mendapatkan nilai yang digunakan dalam grafik, beberapa model menggunakan jumlah cluster yang berbeda dan menyimpan nilai intertia_properti (WCSS) setiap saat.\r\n",
        "\r\n",
        "- WCSS didefinisikan sebagai jumlah jarak kuadrat antara setiap anggota cluster dan pusatnya.\r\n",
        "\r\n",
        "- Elbow yang di temukan pada titik (x,y) = (4, 2500)"
      ]
    },
    {
      "cell_type": "markdown",
      "metadata": {
        "id": "5kL7T7VyyL1y"
      },
      "source": [
        "**Tahap kelima** : Pengelompokkan menggunakan KMeans Clustering"
      ]
    },
    {
      "cell_type": "code",
      "metadata": {
        "colab": {
          "base_uri": "https://localhost:8080/"
        },
        "id": "0Gi59EI2yO7A",
        "outputId": "16293498-57e6-4132-e838-6a371b85ae68"
      },
      "source": [
        "# Menjalankan K-Means Clustering ke dataset\r\n",
        "kmeans = KMeans(n_clusters = 5, init = 'k-means++', random_state = 42)\r\n",
        "y_kmeans = kmeans.fit_predict(xx)\r\n",
        "print(kmeans.cluster_centers_)"
      ],
      "execution_count": null,
      "outputs": [
        {
          "output_type": "stream",
          "text": [
            "[[ 1.00000000e+00  5.90979782e-03 -1.65423231e-14  2.79937792e-03]\n",
            " [-3.85247390e-14  1.95686568e-02  1.00000000e+00  1.49887584e-03]\n",
            " [ 3.77475828e-15  1.00000000e+00 -6.77236045e-15  6.22083981e-03]\n",
            " [ 1.00000000e+00  1.73913043e-02  1.00000000e+00  2.89855072e-03]\n",
            " [ 3.08086889e-15 -1.94289029e-16 -4.21884749e-15  1.00000000e+00]]\n"
          ],
          "name": "stdout"
        }
      ]
    },
    {
      "cell_type": "markdown",
      "metadata": {
        "id": "QhawH2oUynvR"
      },
      "source": [
        "- **Analisis** : Prediksi yang didapatkan dari pengelompokan jumlah data xx yaitu dari kolom Netflix, Hulu, Prime Video, Disney+. Membentuk matriks 4x4 dari pengelompokkan nilai tengah."
      ]
    },
    {
      "cell_type": "markdown",
      "metadata": {
        "id": "S_Qbz979zCGQ"
      },
      "source": [
        "**Tahap Keenam** : Pengelompokan berdasarkan Array"
      ]
    },
    {
      "cell_type": "code",
      "metadata": {
        "colab": {
          "base_uri": "https://localhost:8080/"
        },
        "id": "_SEa84xEzBix",
        "outputId": "49cbbde2-6b1d-4636-bf5f-6fdf7d80d844"
      },
      "source": [
        "x_array =  np.array(xx)\r\n",
        "print(x_array)"
      ],
      "execution_count": null,
      "outputs": [
        {
          "output_type": "stream",
          "text": [
            "[[1 0 0 0]\n",
            " [1 0 0 0]\n",
            " [1 0 0 0]\n",
            " ...\n",
            " [0 0 0 1]\n",
            " [0 0 0 1]\n",
            " [0 0 0 1]]\n"
          ],
          "name": "stdout"
        }
      ]
    },
    {
      "cell_type": "markdown",
      "metadata": {
        "id": "YZ75FtNKzKGD"
      },
      "source": [
        "- **Analisis** : Array yang didapatkan dari pengelompokan  jumlah data xx yaitu dari kolom Netflix, Hulu, Prime Video, Disney+."
      ]
    },
    {
      "cell_type": "markdown",
      "metadata": {
        "id": "XaP7pVVGzQ-r"
      },
      "source": [
        "**Tahap Ketujuh** : Mengelompokkan berdasarkan Skala"
      ]
    },
    {
      "cell_type": "code",
      "metadata": {
        "colab": {
          "base_uri": "https://localhost:8080/"
        },
        "id": "SKVK7jvkzTKD",
        "outputId": "b82ce8be-a56b-4251-b27a-6934c081e8d2"
      },
      "source": [
        "scaler = MinMaxScaler()\r\n",
        "x_scaled = scaler.fit_transform(x_array)\r\n",
        "x_scaled"
      ],
      "execution_count": null,
      "outputs": [
        {
          "output_type": "execute_result",
          "data": {
            "text/plain": [
              "array([[1., 0., 0., 0.],\n",
              "       [1., 0., 0., 0.],\n",
              "       [1., 0., 0., 0.],\n",
              "       ...,\n",
              "       [0., 0., 0., 1.],\n",
              "       [0., 0., 0., 1.],\n",
              "       [0., 0., 0., 1.]])"
            ]
          },
          "metadata": {
            "tags": []
          },
          "execution_count": 139
        }
      ]
    },
    {
      "cell_type": "markdown",
      "metadata": {
        "id": "C2WfyNmPzXnO"
      },
      "source": [
        "- **Analisis** : Data ini mewakili array berskala yang berisi sangat sedikit resistansi stdev dan tidak memiliki entri dalam data renggang."
      ]
    },
    {
      "cell_type": "markdown",
      "metadata": {
        "id": "yQQkT-ew0BJW"
      },
      "source": [
        "**Tahap ke delapan** :  Menyelesaikan masalah KMeans dengan menggunakan algoritma Lloyd atau Elkan."
      ]
    },
    {
      "cell_type": "code",
      "metadata": {
        "colab": {
          "base_uri": "https://localhost:8080/"
        },
        "id": "D9j7gjlo0EvI",
        "outputId": "89c60911-221e-4f17-8d23-99a0baecd51e"
      },
      "source": [
        "# Menentukan dan mengkonfigurasi fungsi kmeans\r\n",
        "kmeans = KMeans(n_clusters = 5, random_state=123)\r\n",
        "# Menentukan kluster dari data\r\n",
        "kmeans.fit(x_scaled)"
      ],
      "execution_count": null,
      "outputs": [
        {
          "output_type": "execute_result",
          "data": {
            "text/plain": [
              "KMeans(algorithm='auto', copy_x=True, init='k-means++', max_iter=300,\n",
              "       n_clusters=5, n_init=10, n_jobs=None, precompute_distances='auto',\n",
              "       random_state=123, tol=0.0001, verbose=0)"
            ]
          },
          "metadata": {
            "tags": []
          },
          "execution_count": 140
        }
      ]
    },
    {
      "cell_type": "markdown",
      "metadata": {
        "id": "LVkEvz8k0JLp"
      },
      "source": [
        "- **Analisis** : Inisialisasi dari penyelesaian masalah KMeans."
      ]
    },
    {
      "cell_type": "code",
      "metadata": {
        "colab": {
          "base_uri": "https://localhost:8080/"
        },
        "id": "4HPbyvmd0LQB",
        "outputId": "2a3300a9-1adc-4803-c8bb-723a17619539"
      },
      "source": [
        "print(kmeans.cluster_centers_)"
      ],
      "execution_count": null,
      "outputs": [
        {
          "output_type": "stream",
          "text": [
            "[[ 1.00000000e+00  1.73913043e-02  1.00000000e+00  2.89855072e-03]\n",
            " [-3.85247390e-14  1.95686568e-02  1.00000000e+00  1.49887584e-03]\n",
            " [ 2.87009063e-02  1.00000000e+00 -7.10542736e-15  7.55287009e-03]\n",
            " [ 1.00000000e+00  6.03683770e-16 -1.65423231e-14  2.50312891e-03]\n",
            " [ 3.08086889e-15 -1.94289029e-16 -4.21884749e-15  1.00000000e+00]]\n"
          ],
          "name": "stdout"
        }
      ]
    },
    {
      "cell_type": "markdown",
      "metadata": {
        "id": "ilJE3A6n0Ov_"
      },
      "source": [
        "- **Analisis** : Print kembali setelah masalah diselesaiakn prediksi yang didapatkan dari pengelompokan jumlah data xx yaitu dari kolom Netflix, Hulu, Prime Video, Disney+. Membentuk matriks 4x4 dari pengelompokkan nilai tengah."
      ]
    },
    {
      "cell_type": "markdown",
      "metadata": {
        "id": "jS0f3F630Y_8"
      },
      "source": [
        "**Tahap ke sembilan** : Menampilkan hasil kluster"
      ]
    },
    {
      "cell_type": "code",
      "metadata": {
        "colab": {
          "base_uri": "https://localhost:8080/",
          "height": 796
        },
        "id": "oq0ust-x0cFv",
        "outputId": "8950b918-2599-4f4a-d8bc-68d0e9a53d1e"
      },
      "source": [
        "# Menampilkan hasil kluster\r\n",
        "print (kmeans.labels_)\r\n",
        "# Menambahkan kolom \"kluster\" dalam data frame\r\n",
        "df[\"kluster\"] = kmeans.labels_\r\n",
        "df.head(999)"
      ],
      "execution_count": null,
      "outputs": [
        {
          "output_type": "stream",
          "text": [
            "[3 3 3 ... 4 4 4]\n"
          ],
          "name": "stdout"
        },
        {
          "output_type": "execute_result",
          "data": {
            "text/html": [
              "<div>\n",
              "<style scoped>\n",
              "    .dataframe tbody tr th:only-of-type {\n",
              "        vertical-align: middle;\n",
              "    }\n",
              "\n",
              "    .dataframe tbody tr th {\n",
              "        vertical-align: top;\n",
              "    }\n",
              "\n",
              "    .dataframe thead th {\n",
              "        text-align: right;\n",
              "    }\n",
              "</style>\n",
              "<table border=\"1\" class=\"dataframe\">\n",
              "  <thead>\n",
              "    <tr style=\"text-align: right;\">\n",
              "      <th></th>\n",
              "      <th>Unnamed: 0</th>\n",
              "      <th>ID</th>\n",
              "      <th>Title</th>\n",
              "      <th>Year</th>\n",
              "      <th>Age</th>\n",
              "      <th>IMDb</th>\n",
              "      <th>Rotten Tomatoes</th>\n",
              "      <th>Netflix</th>\n",
              "      <th>Hulu</th>\n",
              "      <th>Prime Video</th>\n",
              "      <th>Disney+</th>\n",
              "      <th>Type</th>\n",
              "      <th>Directors</th>\n",
              "      <th>Genres</th>\n",
              "      <th>Country</th>\n",
              "      <th>Language</th>\n",
              "      <th>Runtime</th>\n",
              "      <th>kluster</th>\n",
              "    </tr>\n",
              "  </thead>\n",
              "  <tbody>\n",
              "    <tr>\n",
              "      <th>0</th>\n",
              "      <td>0</td>\n",
              "      <td>1</td>\n",
              "      <td>Inception</td>\n",
              "      <td>2010</td>\n",
              "      <td>13+</td>\n",
              "      <td>8.8</td>\n",
              "      <td>87%</td>\n",
              "      <td>1</td>\n",
              "      <td>0</td>\n",
              "      <td>0</td>\n",
              "      <td>0</td>\n",
              "      <td>0</td>\n",
              "      <td>Christopher Nolan</td>\n",
              "      <td>Action,Adventure,Sci-Fi,Thriller</td>\n",
              "      <td>United States,United Kingdom</td>\n",
              "      <td>English,Japanese,French</td>\n",
              "      <td>148.0</td>\n",
              "      <td>3</td>\n",
              "    </tr>\n",
              "    <tr>\n",
              "      <th>1</th>\n",
              "      <td>1</td>\n",
              "      <td>2</td>\n",
              "      <td>The Matrix</td>\n",
              "      <td>1999</td>\n",
              "      <td>18+</td>\n",
              "      <td>8.7</td>\n",
              "      <td>87%</td>\n",
              "      <td>1</td>\n",
              "      <td>0</td>\n",
              "      <td>0</td>\n",
              "      <td>0</td>\n",
              "      <td>0</td>\n",
              "      <td>Lana Wachowski,Lilly Wachowski</td>\n",
              "      <td>Action,Sci-Fi</td>\n",
              "      <td>United States</td>\n",
              "      <td>English</td>\n",
              "      <td>136.0</td>\n",
              "      <td>3</td>\n",
              "    </tr>\n",
              "    <tr>\n",
              "      <th>2</th>\n",
              "      <td>2</td>\n",
              "      <td>3</td>\n",
              "      <td>Avengers: Infinity War</td>\n",
              "      <td>2018</td>\n",
              "      <td>13+</td>\n",
              "      <td>8.5</td>\n",
              "      <td>84%</td>\n",
              "      <td>1</td>\n",
              "      <td>0</td>\n",
              "      <td>0</td>\n",
              "      <td>0</td>\n",
              "      <td>0</td>\n",
              "      <td>Anthony Russo,Joe Russo</td>\n",
              "      <td>Action,Adventure,Sci-Fi</td>\n",
              "      <td>United States</td>\n",
              "      <td>English</td>\n",
              "      <td>149.0</td>\n",
              "      <td>3</td>\n",
              "    </tr>\n",
              "    <tr>\n",
              "      <th>3</th>\n",
              "      <td>3</td>\n",
              "      <td>4</td>\n",
              "      <td>Back to the Future</td>\n",
              "      <td>1985</td>\n",
              "      <td>7+</td>\n",
              "      <td>8.5</td>\n",
              "      <td>96%</td>\n",
              "      <td>1</td>\n",
              "      <td>0</td>\n",
              "      <td>0</td>\n",
              "      <td>0</td>\n",
              "      <td>0</td>\n",
              "      <td>Robert Zemeckis</td>\n",
              "      <td>Adventure,Comedy,Sci-Fi</td>\n",
              "      <td>United States</td>\n",
              "      <td>English</td>\n",
              "      <td>116.0</td>\n",
              "      <td>3</td>\n",
              "    </tr>\n",
              "    <tr>\n",
              "      <th>4</th>\n",
              "      <td>4</td>\n",
              "      <td>5</td>\n",
              "      <td>The Good, the Bad and the Ugly</td>\n",
              "      <td>1966</td>\n",
              "      <td>18+</td>\n",
              "      <td>8.8</td>\n",
              "      <td>97%</td>\n",
              "      <td>1</td>\n",
              "      <td>0</td>\n",
              "      <td>1</td>\n",
              "      <td>0</td>\n",
              "      <td>0</td>\n",
              "      <td>Sergio Leone</td>\n",
              "      <td>Western</td>\n",
              "      <td>Italy,Spain,West Germany</td>\n",
              "      <td>Italian</td>\n",
              "      <td>161.0</td>\n",
              "      <td>0</td>\n",
              "    </tr>\n",
              "    <tr>\n",
              "      <th>...</th>\n",
              "      <td>...</td>\n",
              "      <td>...</td>\n",
              "      <td>...</td>\n",
              "      <td>...</td>\n",
              "      <td>...</td>\n",
              "      <td>...</td>\n",
              "      <td>...</td>\n",
              "      <td>...</td>\n",
              "      <td>...</td>\n",
              "      <td>...</td>\n",
              "      <td>...</td>\n",
              "      <td>...</td>\n",
              "      <td>...</td>\n",
              "      <td>...</td>\n",
              "      <td>...</td>\n",
              "      <td>...</td>\n",
              "      <td>...</td>\n",
              "      <td>...</td>\n",
              "    </tr>\n",
              "    <tr>\n",
              "      <th>994</th>\n",
              "      <td>994</td>\n",
              "      <td>995</td>\n",
              "      <td>Can't Help Falling in Love</td>\n",
              "      <td>2017</td>\n",
              "      <td>NaN</td>\n",
              "      <td>7.2</td>\n",
              "      <td>NaN</td>\n",
              "      <td>1</td>\n",
              "      <td>0</td>\n",
              "      <td>0</td>\n",
              "      <td>0</td>\n",
              "      <td>0</td>\n",
              "      <td>Mae Czarina Cruz</td>\n",
              "      <td>Comedy,Drama,Romance</td>\n",
              "      <td>Philippines</td>\n",
              "      <td>Filipino,Tagalog</td>\n",
              "      <td>119.0</td>\n",
              "      <td>3</td>\n",
              "    </tr>\n",
              "    <tr>\n",
              "      <th>995</th>\n",
              "      <td>995</td>\n",
              "      <td>996</td>\n",
              "      <td>In the Tall Grass</td>\n",
              "      <td>2019</td>\n",
              "      <td>18+</td>\n",
              "      <td>5.4</td>\n",
              "      <td>36%</td>\n",
              "      <td>1</td>\n",
              "      <td>0</td>\n",
              "      <td>0</td>\n",
              "      <td>0</td>\n",
              "      <td>0</td>\n",
              "      <td>Vincenzo Natali</td>\n",
              "      <td>Drama,Horror,Mystery,Thriller</td>\n",
              "      <td>Canada,United States</td>\n",
              "      <td>English</td>\n",
              "      <td>101.0</td>\n",
              "      <td>3</td>\n",
              "    </tr>\n",
              "    <tr>\n",
              "      <th>996</th>\n",
              "      <td>996</td>\n",
              "      <td>997</td>\n",
              "      <td>Kevin Hart: Irresponsible</td>\n",
              "      <td>2019</td>\n",
              "      <td>18+</td>\n",
              "      <td>6.4</td>\n",
              "      <td>100%</td>\n",
              "      <td>1</td>\n",
              "      <td>0</td>\n",
              "      <td>0</td>\n",
              "      <td>0</td>\n",
              "      <td>0</td>\n",
              "      <td>Leslie Small</td>\n",
              "      <td>Comedy</td>\n",
              "      <td>United States</td>\n",
              "      <td>English</td>\n",
              "      <td>60.0</td>\n",
              "      <td>3</td>\n",
              "    </tr>\n",
              "    <tr>\n",
              "      <th>997</th>\n",
              "      <td>997</td>\n",
              "      <td>998</td>\n",
              "      <td>The B-Side: Elsa Dorfman's Portrait Photography</td>\n",
              "      <td>2017</td>\n",
              "      <td>18+</td>\n",
              "      <td>6.6</td>\n",
              "      <td>97%</td>\n",
              "      <td>1</td>\n",
              "      <td>0</td>\n",
              "      <td>0</td>\n",
              "      <td>0</td>\n",
              "      <td>0</td>\n",
              "      <td>Errol Morris</td>\n",
              "      <td>Documentary</td>\n",
              "      <td>United States</td>\n",
              "      <td>English</td>\n",
              "      <td>76.0</td>\n",
              "      <td>3</td>\n",
              "    </tr>\n",
              "    <tr>\n",
              "      <th>998</th>\n",
              "      <td>998</td>\n",
              "      <td>999</td>\n",
              "      <td>The Bad Education Movie</td>\n",
              "      <td>2015</td>\n",
              "      <td>13+</td>\n",
              "      <td>5.7</td>\n",
              "      <td>63%</td>\n",
              "      <td>1</td>\n",
              "      <td>0</td>\n",
              "      <td>0</td>\n",
              "      <td>0</td>\n",
              "      <td>0</td>\n",
              "      <td>Elliot Hegarty</td>\n",
              "      <td>Comedy</td>\n",
              "      <td>United Kingdom</td>\n",
              "      <td>English</td>\n",
              "      <td>90.0</td>\n",
              "      <td>3</td>\n",
              "    </tr>\n",
              "  </tbody>\n",
              "</table>\n",
              "<p>999 rows × 18 columns</p>\n",
              "</div>"
            ],
            "text/plain": [
              "     Unnamed: 0   ID  ... Runtime  kluster\n",
              "0             0    1  ...   148.0        3\n",
              "1             1    2  ...   136.0        3\n",
              "2             2    3  ...   149.0        3\n",
              "3             3    4  ...   116.0        3\n",
              "4             4    5  ...   161.0        0\n",
              "..          ...  ...  ...     ...      ...\n",
              "994         994  995  ...   119.0        3\n",
              "995         995  996  ...   101.0        3\n",
              "996         996  997  ...    60.0        3\n",
              "997         997  998  ...    76.0        3\n",
              "998         998  999  ...    90.0        3\n",
              "\n",
              "[999 rows x 18 columns]"
            ]
          },
          "metadata": {
            "tags": []
          },
          "execution_count": 143
        }
      ]
    },
    {
      "cell_type": "markdown",
      "metadata": {
        "id": "WKivBJ4V0lx8"
      },
      "source": [
        "- **Analisis** : Semua data ditampilkan dengan jumlah kluster yang sesuai dengan item-item yang ada."
      ]
    },
    {
      "cell_type": "markdown",
      "metadata": {
        "id": "YlUC4Q6k0oi2"
      },
      "source": [
        "**Tahap ke sepuluh** : Hasil kluster dengan pengelompokan menggunakan diagram"
      ]
    },
    {
      "cell_type": "code",
      "metadata": {
        "colab": {
          "base_uri": "https://localhost:8080/",
          "height": 312
        },
        "id": "g9U6C3GR0qwK",
        "outputId": "7c649e45-2eb5-4e6c-e094-a7b408c8b711"
      },
      "source": [
        "output = plt.scatter(x_scaled[:,0], \r\n",
        "x_scaled[:,1], s = 200, c = df.kluster, marker = \".\", alpha = 1,)\r\n",
        "centers = kmeans.cluster_centers_\r\n",
        "plt.scatter(centers[:,0], centers[:,1], c='red', s=100, alpha=1 , marker=\"s\");\r\n",
        "plt.title(\"Hasil Clustering K-Means\")\r\n",
        "plt.xlabel(\"Clustering X\")\r\n",
        "plt.ylabel(\"Clustering Y\")\r\n",
        "plt.colorbar (output)\r\n",
        "plt.legend()\r\n",
        "plt.show()"
      ],
      "execution_count": null,
      "outputs": [
        {
          "output_type": "stream",
          "text": [
            "No handles with labels found to put in legend.\n"
          ],
          "name": "stderr"
        },
        {
          "output_type": "display_data",
          "data": {
            "image/png": "[encoded data removed]",
            "text/plain": [
              "<Figure size 432x288 with 2 Axes>"
            ]
          },
          "metadata": {
            "tags": [],
            "needs_background": "light"
          }
        }
      ]
    },
    {
      "cell_type": "markdown",
      "metadata": {
        "id": "GtIkmwxU1KSq"
      },
      "source": [
        "- **Analisis** : Dilihat dari warna level diagram dengan range 0-4. Pengelompokan data dibagi menjadi 6 Clustering. Struktur clustering menggunakan metode partitional clustering yaitu data dikelompokkan ke dalam sejumlah cluster tanpa adanya struktur hirarki antara satu dengan yang lainnya."
      ]
    },
    {
      "cell_type": "markdown",
      "metadata": {
        "id": "4G4eqfLE6OZh"
      },
      "source": [
        "> **ANALISIS PEMODELAN MENENTUKAN HIPOTESIS**\r\n",
        "\r\n",
        "**Dengan menggunakan Metode Pearson**"
      ]
    },
    {
      "cell_type": "code",
      "metadata": {
        "id": "nMJe8kuK6dEP"
      },
      "source": [
        "def mean(x):\r\n",
        "        return  sum(x)/len(x)"
      ],
      "execution_count": null,
      "outputs": []
    },
    {
      "cell_type": "code",
      "metadata": {
        "id": "D69N7Vck6hqC"
      },
      "source": [
        "def de_mean(data):\r\n",
        "# convert x by subtracting its mean ( so the result has mean 0)\r\n",
        "        x_bar = mean(data)\r\n",
        "        return [x_i - x_bar for x_i in data]"
      ],
      "execution_count": null,
      "outputs": []
    },
    {
      "cell_type": "code",
      "metadata": {
        "id": "ECZEtrFh6jet"
      },
      "source": [
        "def sum_of_square(v):\r\n",
        "        return np.dot(v,v)"
      ],
      "execution_count": null,
      "outputs": []
    },
    {
      "cell_type": "code",
      "metadata": {
        "id": "N2-Q35GB6lQg"
      },
      "source": [
        "def covariance(x,y):\r\n",
        "        n = len(x)\r\n",
        "        return np.dot(de_mean(x), de_mean(y)) / (n-1)"
      ],
      "execution_count": null,
      "outputs": []
    },
    {
      "cell_type": "code",
      "metadata": {
        "id": "azH1ifMZ6nCM"
      },
      "source": [
        "def variance(data):\r\n",
        "        n = len(data)\r\n",
        "        deviations = de_mean(data)\r\n",
        "        return sum_of_square(deviations) / (n-1)"
      ],
      "execution_count": null,
      "outputs": []
    },
    {
      "cell_type": "code",
      "metadata": {
        "id": "VobApQeP6o4H"
      },
      "source": [
        "def correlation(x,y):\r\n",
        "        stdev_x = np.std(x)\r\n",
        "        stdev_y = np.std(y)\r\n",
        "        if stdev_x > 0 and stdev_y > 0:\r\n",
        "            return covariance(x,y) / stdev_x / stdev_y\r\n",
        "        else:\r\n",
        "            return 0"
      ],
      "execution_count": null,
      "outputs": []
    },
    {
      "cell_type": "code",
      "metadata": {
        "id": "zOcey1q86sWf"
      },
      "source": [
        "up = df['Netflix']\r\n",
        "qu = df['Year']\r\n",
        "tot = df['IMDb']"
      ],
      "execution_count": null,
      "outputs": []
    },
    {
      "cell_type": "code",
      "metadata": {
        "colab": {
          "base_uri": "https://localhost:8080/"
        },
        "id": "HN5csqoT68tr",
        "outputId": "f8d2d743-5b29-4f69-f260-0b3d51194b08"
      },
      "source": [
        "print('Korelasi antar kolom : ')\r\n",
        "print('Korelasi antara Netflix dan Year adalah ', correlation(up, qu))\r\n",
        "print('Korelasi antara Netflix dan IMBd adalah ', correlation(up, tot))\r\n",
        "print('Korelasi antara Year dan IMBd adalah ', correlation(qu, tot))\r\n",
        "\r\n",
        "print(' ')\r\n",
        "print('Kovarian antar kolom : ')\r\n",
        "print('Kovarian antara Netflix dan Year adalah ', covariance (up, qu))\r\n",
        "print('Kovarian antara Netflix dan IMBd adalah ', covariance (up, tot))\r\n",
        "print('Kovarian antara Year dan IMBd adalah ', covariance(qu, tot))\r\n",
        "\r\n"
      ],
      "execution_count": null,
      "outputs": [
        {
          "output_type": "stream",
          "text": [
            "Korelasi antar kolom : \n",
            "Korelasi antara Netflix dan Year adalah  0.25854862549890567\n",
            "Korelasi antara Netflix dan IMBd adalah  nan\n",
            "Korelasi antara Year dan IMBd adalah  nan\n",
            " \n",
            "Kovarian antar kolom : \n",
            "Kovarian antara Netflix dan Year adalah  2.1870056640823887\n",
            "Kovarian antara Netflix dan IMBd adalah  nan\n",
            "Kovarian antara Year dan IMBd adalah  nan\n"
          ],
          "name": "stdout"
        }
      ]
    },
    {
      "cell_type": "code",
      "metadata": {
        "colab": {
          "base_uri": "https://localhost:8080/",
          "height": 353
        },
        "id": "ZWEc6KNX7PJX",
        "outputId": "b04ad4c3-ed69-4b70-ac06-b151f0cb08c3"
      },
      "source": [
        "plt.scatter(df['Netflix'], df['Year'])\r\n",
        "print('Korelasi antar kolom : ')\r\n",
        "print('Korelasi antara Netflix dan Year adalah ', correlation(up, qu))\r\n",
        "\r\n",
        "print(' ')\r\n",
        "print('Kovarian antar kolom : ')\r\n",
        "print('Kovarian antara Netflix dan Year adalah ', covariance (up, qu))"
      ],
      "execution_count": null,
      "outputs": [
        {
          "output_type": "stream",
          "text": [
            "Korelasi antar kolom : \n",
            "Korelasi antara Netflix dan Year adalah  0.25854862549890567\n",
            " \n",
            "Kovarian antar kolom : \n",
            "Kovarian antara Netflix dan Year adalah  2.1870056640823887\n"
          ],
          "name": "stdout"
        },
        {
          "output_type": "display_data",
          "data": {
            "image/png": "[encoded data removed]",
            "text/plain": [
              "<Figure size 432x288 with 1 Axes>"
            ]
          },
          "metadata": {
            "tags": []
          }
        }
      ]
    },
    {
      "cell_type": "markdown",
      "metadata": {
        "id": "9BcG1aMR7dw0"
      },
      "source": [
        "**Analisis** : Dari permodelan di atas, didapatkan prediksi korelasi antara Unit price dan Quantity adalah 0,2, dan prediksi kovarian adalah 2,1."
      ]
    },
    {
      "cell_type": "code",
      "metadata": {
        "colab": {
          "base_uri": "https://localhost:8080/",
          "height": 489
        },
        "id": "K9i-FdcL8cJ-",
        "outputId": "e23f70a4-e996-4bc7-e8b4-6c13198d02e8"
      },
      "source": [
        "corr = df.corr()\r\n",
        "\r\n",
        "plt.figure(figsize=(15,8))\r\n",
        "\r\n",
        "sns.heatmap(corr, annot=True, vmin = -1, cmap='coolwarm')\r\n",
        "\r\n",
        "plt.show()"
      ],
      "execution_count": null,
      "outputs": [
        {
          "output_type": "display_data",
          "data": {
            "image/png": "[encoded data removed]",
            "text/plain": [
              "<Figure size 1080x576 with 2 Axes>"
            ]
          },
          "metadata": {
            "tags": []
          }
        }
      ]
    },
    {
      "cell_type": "markdown",
      "metadata": {
        "id": "jorwRG6Q8l4t"
      },
      "source": [
        "**Analisis** : Pada Heatmap korelasi disini didapatkan korelasi dan simpulan bahwa :\r\n",
        "menggambarkan warna korelasi yang baik dengan sedikit perbedaan data yang tidak cukup relevan"
      ]
    },
    {
      "cell_type": "markdown",
      "metadata": {
        "id": "Qhog0V2Z3wXw"
      },
      "source": [
        "# **TAHAP-TAHAP EVALUASI DATA**"
      ]
    },
    {
      "cell_type": "markdown",
      "metadata": {
        "id": "fSor9IEo3zLW"
      },
      "source": [
        "**Tahap pertama** : Import library yang digunakan untuk evaluasi data."
      ]
    },
    {
      "cell_type": "code",
      "metadata": {
        "id": "NSlFkFSy31CU"
      },
      "source": [
        "from sklearn.datasets import make_classification\r\n",
        "from matplotlib import pyplot as plt\r\n",
        "from sklearn.linear_model import LogisticRegression\r\n",
        "from sklearn.model_selection import train_test_split\r\n",
        "from sklearn.metrics import confusion_matrix\r\n",
        "import seaborn as sns\r\n",
        "import pandas as pd\r\n",
        "\r\n",
        "sns.set()"
      ],
      "execution_count": null,
      "outputs": []
    },
    {
      "cell_type": "markdown",
      "metadata": {
        "id": "fYXCXnL_34IZ"
      },
      "source": [
        "**Tahap kedua** : Inisialisasi klasifikasi dari grafik x dan y"
      ]
    },
    {
      "cell_type": "code",
      "metadata": {
        "id": "Ha5mk-ci342B"
      },
      "source": [
        "x, y = make_classification(\r\n",
        "    n_samples=100,\r\n",
        "    n_features=1,\r\n",
        "    n_classes=2,\r\n",
        "    n_clusters_per_class=1,\r\n",
        "    flip_y=0.03,\r\n",
        "    n_informative=1,\r\n",
        "    n_redundant=0,\r\n",
        "    n_repeated=0\r\n",
        ")"
      ],
      "execution_count": null,
      "outputs": []
    },
    {
      "cell_type": "markdown",
      "metadata": {
        "id": "8kgGO7H139SS"
      },
      "source": [
        "**Tahap ketiga** : Menampilkan plot hubungan antara fungsi dan kelas yang ada dengan klasifikasi yang sudah dibentuk pada grafik x dan y."
      ]
    },
    {
      "cell_type": "code",
      "metadata": {
        "colab": {
          "base_uri": "https://localhost:8080/",
          "height": 285
        },
        "id": "XoEfxZym3_8-",
        "outputId": "969545e0-af5e-4b75-9dfe-dc50dc67ed09"
      },
      "source": [
        "plt.scatter(x, y, c=y, cmap='rainbow')"
      ],
      "execution_count": null,
      "outputs": [
        {
          "output_type": "execute_result",
          "data": {
            "text/plain": [
              "<matplotlib.collections.PathCollection at 0x7f9ff34b7cc0>"
            ]
          },
          "metadata": {
            "tags": []
          },
          "execution_count": 149
        },
        {
          "output_type": "display_data",
          "data": {
            "image/png": "[encoded data removed]",
            "text/plain": [
              "<Figure size 432x288 with 1 Axes>"
            ]
          },
          "metadata": {
            "tags": []
          }
        }
      ]
    },
    {
      "cell_type": "markdown",
      "metadata": {
        "id": "jCVLH7vb4DB1"
      },
      "source": [
        "- **Analisis** : Scatter plot digunakan untuk pemetaan dari grafik x dan y dengan dibagi 2 warna bagian. Pemetaan ini digunakan untuk melihat persebaran data yang ada."
      ]
    },
    {
      "cell_type": "markdown",
      "metadata": {
        "id": "qE0qtcrq4IFT"
      },
      "source": [
        "**Tahap keempat** : Inisialisasi untuk evaluasi subset"
      ]
    },
    {
      "cell_type": "code",
      "metadata": {
        "id": "_FRsZTD_4Kjl"
      },
      "source": [
        "x_train, x_test, y_train, y_test = train_test_split(x, y, random_state=1)"
      ],
      "execution_count": null,
      "outputs": []
    },
    {
      "cell_type": "markdown",
      "metadata": {
        "id": "ytlzTCS54NUo"
      },
      "source": [
        "**Tahap kelima** : Membuat model mempelajari hubungan antara digit (x_train) dan label (y_train)"
      ]
    },
    {
      "cell_type": "code",
      "metadata": {
        "colab": {
          "base_uri": "https://localhost:8080/"
        },
        "id": "QEKiKWW44PsV",
        "outputId": "11e94289-22ce-46cf-8540-b76ca8282266"
      },
      "source": [
        "lr = LogisticRegression()\r\n",
        "lr.fit(x_train, y_train)"
      ],
      "execution_count": null,
      "outputs": [
        {
          "output_type": "execute_result",
          "data": {
            "text/plain": [
              "LogisticRegression(C=1.0, class_weight=None, dual=False, fit_intercept=True,\n",
              "                   intercept_scaling=1, l1_ratio=None, max_iter=100,\n",
              "                   multi_class='auto', n_jobs=None, penalty='l2',\n",
              "                   random_state=None, solver='lbfgs', tol=0.0001, verbose=0,\n",
              "                   warm_start=False)"
            ]
          },
          "metadata": {
            "tags": []
          },
          "execution_count": 151
        }
      ]
    },
    {
      "cell_type": "markdown",
      "metadata": {
        "id": "__6q2AA94SSY"
      },
      "source": [
        "**Tahap keenam** : Menampilkan evaluasi dengan melihat koefisien kemiringan dan perpotongan y dari garis yang paling cocok"
      ]
    },
    {
      "cell_type": "code",
      "metadata": {
        "colab": {
          "base_uri": "https://localhost:8080/"
        },
        "id": "i7ub98EU4UbZ",
        "outputId": "32bb93ba-f228-43d4-b86b-e514ce773adf"
      },
      "source": [
        "print(lr.coef_)\r\n",
        "print(lr.intercept_)"
      ],
      "execution_count": null,
      "outputs": [
        {
          "output_type": "stream",
          "text": [
            "[[2.93366917]]\n",
            "[0.2671935]\n"
          ],
          "name": "stdout"
        }
      ]
    },
    {
      "cell_type": "markdown",
      "metadata": {
        "id": "aKVe5USI4W-Q"
      },
      "source": [
        "Analisis : Evaluasi dengan menggunakan model Regresi dilihat dari koefisien kemiringan bernilai 2.93366917 dan perpotongan garis y adalah 0.2671935"
      ]
    },
    {
      "cell_type": "markdown",
      "metadata": {
        "id": "hk7uUPr14d8Q"
      },
      "source": [
        "> **EVALUASI HIPOTESIS DARI PEMODELAN** "
      ]
    },
    {
      "cell_type": "markdown",
      "metadata": {
        "id": "nHIOy9MJ4g9L"
      },
      "source": [
        "Hipotesis dari pemodelan yang sudah dilakukan mendapatkan nilai korelasi yang baik adalah 0,26. \r\n",
        "\r\n",
        "- Jika P-Value sama dengan 0 atau lebih dari 0 maka hipotesis diterima dan korelasi kuat\r\n",
        "- Jika P-Value kurang dari 0 maka hipotesis ditolak."
      ]
    },
    {
      "cell_type": "code",
      "metadata": {
        "id": "9-_aSbbQ4jt0"
      },
      "source": [
        "class HypothesisTest(object):\r\n",
        "    \r\n",
        "    def __init__(self, data):\r\n",
        "        self.data = data\r\n",
        "        self.MakeModel()\r\n",
        "        self.actual = self.TestStatistic(data)\r\n",
        "        \r\n",
        "    def PValue(self, iters = 1000):\r\n",
        "        self.test_stats = [self.TestStatistic(self.RunModel()) for _ in range(iters)]\r\n",
        "        count = sum(1 for x in self.test_stats if x >= self.actual)\r\n",
        "        return count / iters\r\n",
        "    \r\n",
        "    def TestStatistic(self, data):\r\n",
        "        raise UnimplementedMethodException()\r\n",
        "        \r\n",
        "    def MakeModel(self):\r\n",
        "        pass\r\n",
        "    \r\n",
        "    def RunModel(self):\r\n",
        "        raise UnimplementedMethodException()"
      ],
      "execution_count": null,
      "outputs": []
    },
    {
      "cell_type": "code",
      "metadata": {
        "id": "an1Fyrv94moX"
      },
      "source": [
        "class CorrPermute(HypothesisTest):\r\n",
        "    \r\n",
        "    def TestStatistic(self, data):\r\n",
        "        xs, ys = data\r\n",
        "        test_stat = abs(correlation(xs, ys))\r\n",
        "        return test_stat\r\n",
        "    \r\n",
        "    def RunModel(self):\r\n",
        "        xs, ys = self.data\r\n",
        "        xs = np.random.permutation(xs)\r\n",
        "        return xs, ys\r\n",
        "    \r\n",
        "def correlation(x, y):\r\n",
        "    std_x = np.std(x)\r\n",
        "    std_y = np.std(y)\r\n",
        "    if std_x and std_y > 0:\r\n",
        "        return covariance(x, y) / std_x / std_y\r\n",
        "    else:\r\n",
        "        return 0\r\n",
        "    \r\n",
        "def de_mean(x):\r\n",
        "    x_bar = np.mean(x)\r\n",
        "    return [x_i - x_bar for x_i in x]\r\n",
        "\r\n",
        "def covariance(x, y):\r\n",
        "    n = len(x)\r\n",
        "    return np.dot(de_mean(x), de_mean(y)) / (n - 1)"
      ],
      "execution_count": null,
      "outputs": []
    },
    {
      "cell_type": "code",
      "metadata": {
        "colab": {
          "base_uri": "https://localhost:8080/"
        },
        "id": "l9r00CzY4o1i",
        "outputId": "1ce6c80c-9ccd-4332-af18-e378a1ce0680"
      },
      "source": [
        "cp = CorrPermute((qu, tot))\r\n",
        "pvalue = cp.PValue()\r\n",
        "\r\n",
        "print('Hipotesis akhir p-value: ', pvalue)"
      ],
      "execution_count": null,
      "outputs": [
        {
          "output_type": "stream",
          "text": [
            "Hipotesis akhir p-value:  0.0\n"
          ],
          "name": "stdout"
        }
      ]
    },
    {
      "cell_type": "markdown",
      "metadata": {
        "id": "MotxppPe9g8h"
      },
      "source": [
        "**Analisis** :\r\n",
        "\r\n",
        "Nilai P-Value pada hipotesis akhir di atas adalah 0.\r\n",
        "Hipotesis akhir adalah salah dan korelasi kuat yaitu 0,26 antara Netflix dan Year yang tidak terjadi secara kebetulan. \r\n",
        "\r\n",
        "- Disimpulkan bahwa korelasi yang terjadi adalah signifikan secara statistik."
      ]
    }
  ]
}