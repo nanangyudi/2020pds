{
  "nbformat": 4,
  "nbformat_minor": 0,
  "metadata": {
    "colab": {
      "name": "Projek_akhir_Muhammad_Redo_205150409111032.ipynb",
      "provenance": [],
      "collapsed_sections": [],
      "include_colab_link": true
    },
    "kernelspec": {
      "name": "python3",
      "display_name": "Python 3"
    }
  },
  "cells": [
    {
      "cell_type": "markdown",
      "metadata": {
        "id": "view-in-github",
        "colab_type": "text"
      },
      "source": [
        "<a href=\"https://colab.research.google.com/github/nanangyudi/2020pds_d/blob/main/Projek_akhir_Muhammad_Redo_205150409111032.ipynb\" target=\"_parent\"><img src=\"https://colab.research.google.com/assets/colab-badge.svg\" alt=\"Open In Colab\"/></a>"
      ]
    },
    {
      "cell_type": "code",
      "metadata": {
        "id": "WivgN4B2IZZ_"
      },
      "source": [
        "import pandas as pd\r\n",
        "url = 'https://raw.githubusercontent.com/redosaihul/MuhammadRedo/main/business.retailsales2.csv'"
      ],
      "execution_count": null,
      "outputs": []
    },
    {
      "cell_type": "code",
      "metadata": {
        "id": "1zBL_NovNTUL"
      },
      "source": [
        "from sklearn.datasets import make_classification\r\n",
        "from matplotlib import pyplot as plt\r\n",
        "from sklearn.linear_model import LogisticRegression\r\n",
        "import seaborn as sns\r\n",
        "sns.set()\r\n",
        "from sklearn.model_selection import train_test_split\r\n",
        "from sklearn.metrics import confusion_matrix\r\n",
        "import pandas as pd"
      ],
      "execution_count": null,
      "outputs": []
    },
    {
      "cell_type": "markdown",
      "metadata": {
        "id": "enKEaA7-OeB5"
      },
      "source": [
        "**1. Deskripsi Tujuan Bisnis**\r\n",
        "\r\n",
        "untuk mengetahui kumpulan data penjualan bisnis dan melihat bagian-bagian penting dari data tersebut untuk mendapatkan wawasan lebih jauh tentang pola penjualan tersebut\r\n",
        "\r\n",
        "**2. Analisa Pendekatan**\r\n",
        "\r\n",
        "Dalam analisis ini peneliti menggunakan metode EDA (Exploratory Data Analysis). EDA merupakan metode eksplorasi data dengan menggunakan teknik aritmatika sederhana dan teknik grafis dalam meringkas data pengamatan.\r\n",
        "\r\n",
        "**3. Pengumpulan Data**\r\n",
        "\r\n",
        "Dalam tahap pengumpulan data disini menggunakan dataset yang diambil dari kaggle.com yang berjudul Online Business Sales 2017-2019 oleh tyler morse, dengan ukuran file sebesar 100 KB\r\n",
        "\r\n",
        "**4. Pemahaman Terhadap Data Yang Telah Dikumpulkan**\r\n",
        "\r\n",
        " Data penjualan Online Business Sales 2017-2019 berisikan penjualan online, keuntungan, unit terjual, pengiriman, pengembalian, waktu pemesanan.\r\n",
        "\r\n",
        "**5. Eksplorasi Data**\r\n",
        "\r\n",
        "Library yang digunakan dalam explorasi data adalah pandas, Matpolib, dan Seaborn\r\n",
        "  1. Import data menggunakan library Pandas\r\n",
        "  2. Membuat histogram menggunakan library matplotlib dan pandas\r\n",
        "  3. Membuat scatterplot menggunakan library dan pandas\r\n",
        "  4. Membuat boxplot menggunakan library seaborn\r\n",
        "  5. Menghitung frekuensi menggunakan library pandas\r\n",
        "  6. Membuat mapping menggunakan library matplotlib, pandas, dan seaborn\r\n",
        "\r\n",
        "\r\n",
        "\r\n",
        "**6. Pemodelan data** \r\n",
        "\r\n",
        "Pemodelan data menggunakan metode univariate data, dengan \r\n",
        "\r\n",
        "1.Memuat tabel data\r\n",
        "\r\n",
        "2.Membuat plots, yang terdiri dari Histogram, Scatter Plot, dan Box Plot\r\n",
        "\r\n",
        "3.membuat mapping\r\n",
        "\r\n",
        "\r\n",
        "**7. Evaluasi Model**\r\n",
        "\r\n",
        "-pada data yang telah di analisis menunjukkan diagram histogram yang tidak normal, data tersebut adalah jumlah total order perbulan yang dihasilkan dengan total data statistik penjualan.\r\n",
        "\r\n",
        "-hasil dari scratter plot yang telah dianalisis menunjukan nilai x semakin besar dan semakin besar pula nilai y. Dapat disimpulkan variabel yang diteliti memiliki hubungan linear atau positif dan memiliki hubungan yang sangat kuat.\r\n",
        "\r\n",
        "-Jika dilihat dari hasil mapping maka ratings Total Order tertinggi 300 total order pada tahun 2017"
      ]
    },
    {
      "cell_type": "markdown",
      "metadata": {
        "id": "aWalYcLjRVYG"
      },
      "source": [
        "**1.membuat data**"
      ]
    },
    {
      "cell_type": "code",
      "metadata": {
        "colab": {
          "base_uri": "https://localhost:8080/",
          "height": 206
        },
        "id": "SmMqTr3DRIbL",
        "outputId": "7b34caed-ce78-480a-e0a2-0e84150b5946"
      },
      "source": [
        "import pandas as pd\r\n",
        "dt = pd.read_csv(url, error_bad_lines=False)\r\n",
        "dt.head()"
      ],
      "execution_count": null,
      "outputs": [
        {
          "output_type": "execute_result",
          "data": {
            "text/html": [
              "<div>\n",
              "<style scoped>\n",
              "    .dataframe tbody tr th:only-of-type {\n",
              "        vertical-align: middle;\n",
              "    }\n",
              "\n",
              "    .dataframe tbody tr th {\n",
              "        vertical-align: top;\n",
              "    }\n",
              "\n",
              "    .dataframe thead th {\n",
              "        text-align: right;\n",
              "    }\n",
              "</style>\n",
              "<table border=\"1\" class=\"dataframe\">\n",
              "  <thead>\n",
              "    <tr style=\"text-align: right;\">\n",
              "      <th></th>\n",
              "      <th>Month</th>\n",
              "      <th>Year</th>\n",
              "      <th>Total Orders</th>\n",
              "      <th>Gross Sales</th>\n",
              "      <th>Discounts</th>\n",
              "      <th>Returns</th>\n",
              "      <th>Net Sales</th>\n",
              "      <th>Shipping</th>\n",
              "      <th>Total Sales</th>\n",
              "    </tr>\n",
              "  </thead>\n",
              "  <tbody>\n",
              "    <tr>\n",
              "      <th>0</th>\n",
              "      <td>January</td>\n",
              "      <td>2017</td>\n",
              "      <td>73</td>\n",
              "      <td>8861.5</td>\n",
              "      <td>-129.40</td>\n",
              "      <td>-448.45</td>\n",
              "      <td>8283.65</td>\n",
              "      <td>1088.30</td>\n",
              "      <td>9371.95</td>\n",
              "    </tr>\n",
              "    <tr>\n",
              "      <th>1</th>\n",
              "      <td>February</td>\n",
              "      <td>2017</td>\n",
              "      <td>56</td>\n",
              "      <td>6908.5</td>\n",
              "      <td>-104.70</td>\n",
              "      <td>-416.20</td>\n",
              "      <td>6387.60</td>\n",
              "      <td>892.45</td>\n",
              "      <td>7280.05</td>\n",
              "    </tr>\n",
              "    <tr>\n",
              "      <th>2</th>\n",
              "      <td>March</td>\n",
              "      <td>2017</td>\n",
              "      <td>60</td>\n",
              "      <td>5778.5</td>\n",
              "      <td>-172.20</td>\n",
              "      <td>-1017.20</td>\n",
              "      <td>4589.10</td>\n",
              "      <td>707.43</td>\n",
              "      <td>5296.53</td>\n",
              "    </tr>\n",
              "    <tr>\n",
              "      <th>3</th>\n",
              "      <td>April</td>\n",
              "      <td>2017</td>\n",
              "      <td>70</td>\n",
              "      <td>8814.0</td>\n",
              "      <td>-281.40</td>\n",
              "      <td>0.00</td>\n",
              "      <td>8532.60</td>\n",
              "      <td>1068.30</td>\n",
              "      <td>9600.90</td>\n",
              "    </tr>\n",
              "    <tr>\n",
              "      <th>4</th>\n",
              "      <td>May</td>\n",
              "      <td>2017</td>\n",
              "      <td>54</td>\n",
              "      <td>6677.0</td>\n",
              "      <td>-185.75</td>\n",
              "      <td>-253.80</td>\n",
              "      <td>6237.45</td>\n",
              "      <td>866.46</td>\n",
              "      <td>7103.91</td>\n",
              "    </tr>\n",
              "  </tbody>\n",
              "</table>\n",
              "</div>"
            ],
            "text/plain": [
              "      Month  Year  Total Orders  ...  Net Sales  Shipping  Total Sales\n",
              "0   January  2017            73  ...    8283.65   1088.30      9371.95\n",
              "1  February  2017            56  ...    6387.60    892.45      7280.05\n",
              "2     March  2017            60  ...    4589.10    707.43      5296.53\n",
              "3     April  2017            70  ...    8532.60   1068.30      9600.90\n",
              "4       May  2017            54  ...    6237.45    866.46      7103.91\n",
              "\n",
              "[5 rows x 9 columns]"
            ]
          },
          "metadata": {
            "tags": []
          },
          "execution_count": 6
        }
      ]
    },
    {
      "cell_type": "markdown",
      "metadata": {
        "id": "YlHac9v5RsNW"
      },
      "source": [
        "**2.membuat histogram**"
      ]
    },
    {
      "cell_type": "code",
      "metadata": {
        "colab": {
          "base_uri": "https://localhost:8080/",
          "height": 301
        },
        "id": "nAWqjFDORRwo",
        "outputId": "1b98d6e0-a5c4-46da-8464-d923ab93976d"
      },
      "source": [
        "import matplotlib.pyplot as plt\r\n",
        "import pandas as pd\r\n",
        "dt = pd.read_csv(url, error_bad_lines=False)\r\n",
        "\r\n",
        "#Plots in matplotlib reside within a figure\r\n",
        "\r\n",
        "fig=plt.figure()\r\n",
        "\r\n",
        "\r\n",
        "ax = fig.add_subplot(1,1,1)\r\n",
        "\r\n",
        "#Variable\r\n",
        "ax.hist(dt['Total Orders'],bins = 10)\r\n",
        "#Labels and Tit\r\n",
        "plt.title('monthly total orders')\r\n",
        "plt.xlabel('Month')\r\n",
        "plt.ylabel('Total Sales')\r\n",
        "plt.show()"
      ],
      "execution_count": null,
      "outputs": [
        {
          "output_type": "display_data",
          "data": {
            "image/png": "[encoded data removed]",
            "text/plain": [
              "<Figure size 432x288 with 1 Axes>"
            ]
          },
          "metadata": {
            "tags": []
          }
        }
      ]
    },
    {
      "cell_type": "markdown",
      "metadata": {
        "id": "8SeevyU3RzUI"
      },
      "source": [
        "**3.Membuat Scatter Plot**"
      ]
    },
    {
      "cell_type": "code",
      "metadata": {
        "colab": {
          "base_uri": "https://localhost:8080/",
          "height": 301
        },
        "id": "M-Erf8RMRyoC",
        "outputId": "0786de42-c6cd-4b1f-8d50-1f7e6d9a708d"
      },
      "source": [
        "#Plots in matplotlib reside within a figureobject, use plt.figure to create new figure\r\n",
        "fig=plt.figure()\r\n",
        "\r\n",
        "#Create one or more subplots usingadd_subplot, because you can'tcreate blank figure\r\n",
        "ax = fig.add_subplot(1,1,1)\r\n",
        "\r\n",
        "ax.scatter(dt['Year'],dt['Total Orders'])\r\n",
        "\r\n",
        "plt.title('Monthly total orders')\r\n",
        "plt.xlabel('Year')\r\n",
        "plt.ylabel('Total Orders')\r\n",
        "plt.show()"
      ],
      "execution_count": null,
      "outputs": [
        {
          "output_type": "display_data",
          "data": {
            "image/png": "[encoded data removed]",
            "text/plain": [
              "<Figure size 432x288 with 1 Axes>"
            ]
          },
          "metadata": {
            "tags": []
          }
        }
      ]
    },
    {
      "cell_type": "markdown",
      "metadata": {
        "id": "mJSO3EBnSJ44"
      },
      "source": [
        "**4. Membuat Box Plot**"
      ]
    },
    {
      "cell_type": "code",
      "metadata": {
        "colab": {
          "base_uri": "https://localhost:8080/",
          "height": 342
        },
        "id": "nFV15c4gSN6S",
        "outputId": "83d3fecd-26ca-4c58-d45f-44b088c16c97"
      },
      "source": [
        "import seaborn as sns\r\n",
        "sns.boxplot(dt['Total Orders'])\r\n",
        "sns.despine()"
      ],
      "execution_count": null,
      "outputs": [
        {
          "output_type": "stream",
          "text": [
            "/usr/local/lib/python3.6/dist-packages/seaborn/_decorators.py:43: FutureWarning: Pass the following variable as a keyword arg: x. From version 0.12, the only valid positional argument will be `data`, and passing other arguments without an explicit keyword will result in an error or misinterpretation.\n",
            "  FutureWarning\n"
          ],
          "name": "stderr"
        },
        {
          "output_type": "display_data",
          "data": {
            "image/png": "[encoded data removed]",
            "text/plain": [
              "<Figure size 432x288 with 1 Axes>"
            ]
          },
          "metadata": {
            "tags": []
          }
        }
      ]
    },
    {
      "cell_type": "markdown",
      "metadata": {
        "id": "7OeSTLHsSTaQ"
      },
      "source": [
        "**5. Frekuensi**"
      ]
    },
    {
      "cell_type": "code",
      "metadata": {
        "colab": {
          "base_uri": "https://localhost:8080/"
        },
        "id": "GIEaY0kSSXCQ",
        "outputId": "ff5be8f2-8dc9-426c-a536-bcfa9519cbaa"
      },
      "source": [
        "import pandas as pd\r\n",
        "dt = pd.read_csv(url, error_bad_lines=False)\r\n",
        "print (dt)\r\n",
        "test= dt.groupby(['Year','Total Orders'])\r\n",
        "test.size()"
      ],
      "execution_count": null,
      "outputs": [
        {
          "output_type": "stream",
          "text": [
            "        Month  Year  Total Orders  ...  Net Sales  Shipping  Total Sales\n",
            "0     January  2017            73  ...    8283.65   1088.30      9371.95\n",
            "1    February  2017            56  ...    6387.60    892.45      7280.05\n",
            "2       March  2017            60  ...    4589.10    707.43      5296.53\n",
            "3       April  2017            70  ...    8532.60   1068.30      9600.90\n",
            "4         May  2017            54  ...    6237.45    866.46      7103.91\n",
            "5        June  2017            68  ...    9369.55   1204.32     10573.87\n",
            "6        July  2017            66  ...    5959.30    807.36      6766.66\n",
            "7      August  2017            55  ...    7740.10    843.46      8583.56\n",
            "8   September  2017            68  ...    6732.30    907.32      7639.62\n",
            "9     October  2017            59  ...    5327.00    695.42      6022.42\n",
            "10   November  2017            91  ...   12569.85   1555.10     14124.95\n",
            "11   December  2017           116  ...    9792.00   1340.85     11132.85\n",
            "12    January  2018            83  ...    8679.65   1180.18      9859.83\n",
            "13   February  2018            69  ...    6249.70    908.91      7158.61\n",
            "14      March  2018            64  ...    7207.08   1226.92      8434.00\n",
            "15      April  2018            81  ...    9134.07   1387.56     10521.63\n",
            "16        May  2018            82  ...    5824.63   1234.95      7059.58\n",
            "17       June  2018           124  ...   11418.87   2124.49     13543.36\n",
            "18       July  2018           102  ...    8347.10   1627.03      9974.13\n",
            "19     August  2018            82  ...    7360.78   1404.03      8764.81\n",
            "20  September  2018            79  ...   10306.70   1634.33     11941.03\n",
            "21    October  2018            71  ...    6441.80   1262.45      7704.25\n",
            "22   November  2018           140  ...   11433.85   2237.05     13670.90\n",
            "23   December  2018           164  ...   12383.95   2552.20     14936.15\n",
            "24    January  2019            87  ...    6299.43   1313.78      7615.91\n",
            "25   February  2019            63  ...    6196.30   1121.85      7318.15\n",
            "26      March  2019            99  ...   11654.65   2115.10     13769.75\n",
            "27      April  2019            92  ...    6681.60   1342.45      8024.05\n",
            "28        May  2019            96  ...    9448.00   1768.20     11216.20\n",
            "29       June  2019            85  ...    6970.33   1356.80      8327.13\n",
            "30       July  2019            94  ...    8383.38   1631.40     10014.78\n",
            "31     August  2019           105  ...    8553.46   1724.75     10278.21\n",
            "32  September  2019            88  ...    7869.21   1567.65      9436.86\n",
            "33    October  2019            97  ...    7280.28   1631.25      8911.53\n",
            "34   November  2019           272  ...   22856.55   4824.75     27681.30\n",
            "35   December  2019           342  ...   27603.21   5703.25     33306.46\n",
            "\n",
            "[36 rows x 9 columns]\n"
          ],
          "name": "stdout"
        },
        {
          "output_type": "execute_result",
          "data": {
            "text/plain": [
              "Year  Total Orders\n",
              "2017  54              1\n",
              "      55              1\n",
              "      56              1\n",
              "      59              1\n",
              "      60              1\n",
              "      66              1\n",
              "      68              2\n",
              "      70              1\n",
              "      73              1\n",
              "      91              1\n",
              "      116             1\n",
              "2018  64              1\n",
              "      69              1\n",
              "      71              1\n",
              "      79              1\n",
              "      81              1\n",
              "      82              2\n",
              "      83              1\n",
              "      102             1\n",
              "      124             1\n",
              "      140             1\n",
              "      164             1\n",
              "2019  63              1\n",
              "      85              1\n",
              "      87              1\n",
              "      88              1\n",
              "      92              1\n",
              "      94              1\n",
              "      96              1\n",
              "      97              1\n",
              "      99              1\n",
              "      105             1\n",
              "      272             1\n",
              "      342             1\n",
              "dtype: int64"
            ]
          },
          "metadata": {
            "tags": []
          },
          "execution_count": 16
        }
      ]
    },
    {
      "cell_type": "markdown",
      "metadata": {
        "id": "zggjFuZvTx-2"
      },
      "source": [
        "**6. Membuat Mapping**"
      ]
    },
    {
      "cell_type": "code",
      "metadata": {
        "colab": {
          "base_uri": "https://localhost:8080/",
          "height": 465
        },
        "id": "aBFGkdGnUdxH",
        "outputId": "fe0a119a-edb2-4b43-e266-76a0db24d104"
      },
      "source": [
        "import pandas as pd\r\n",
        "import matplotlib.pyplot as plt\r\n",
        "import seaborn as sns\r\n",
        "\r\n",
        "df = pd.read_csv(url, error_bad_lines=False)\r\n",
        "\r\n",
        "df = df.pivot_table(index='Year', columns='Month', values='Total Orders')\r\n",
        "\r\n",
        "print (df)\r\n",
        "\r\n",
        "sns.heatmap(df, annot=True, cmap='coolwarm')\r\n",
        "\r\n",
        "plt.show()"
      ],
      "execution_count": null,
      "outputs": [
        {
          "output_type": "stream",
          "text": [
            "Month  April  August  December  February  ...  May  November  October  September\n",
            "Year                                      ...                                   \n",
            "2017      70      55       116        56  ...   54        91       59         68\n",
            "2018      81      82       164        69  ...   82       140       71         79\n",
            "2019      92     105       342        63  ...   96       272       97         88\n",
            "\n",
            "[3 rows x 12 columns]\n"
          ],
          "name": "stdout"
        },
        {
          "output_type": "display_data",
          "data": {
            "image/png": "[encoded data removed]",
            "text/plain": [
              "<Figure size 432x288 with 2 Axes>"
            ]
          },
          "metadata": {
            "tags": []
          }
        }
      ]
    },
    {
      "cell_type": "markdown",
      "metadata": {
        "id": "pWOb9NgKXNZX"
      },
      "source": [
        "**Analisis Mapping**: \r\n",
        "\r\n",
        "Dalam mapping dibagi menjadi beberapa pengelompokan angka berdasarkan rating yang ada. Dapat dilihat dari mapping di atas bahwa terjadi pengelompokan rating dari dua variabel Year dan Month."
      ]
    },
    {
      "cell_type": "markdown",
      "metadata": {
        "id": "tyJBTipgXZaQ"
      },
      "source": [
        "**Melakukan Pemodelan**"
      ]
    },
    {
      "cell_type": "code",
      "metadata": {
        "colab": {
          "base_uri": "https://localhost:8080/",
          "height": 206
        },
        "id": "vVQ_yUTCXVry",
        "outputId": "50ffd22f-25b8-480f-9c06-0a37c7bfe1d6"
      },
      "source": [
        "import pandas as pd\r\n",
        "production = pd.read_csv(url, error_bad_lines=False)\r\n",
        "production.head()"
      ],
      "execution_count": null,
      "outputs": [
        {
          "output_type": "execute_result",
          "data": {
            "text/html": [
              "<div>\n",
              "<style scoped>\n",
              "    .dataframe tbody tr th:only-of-type {\n",
              "        vertical-align: middle;\n",
              "    }\n",
              "\n",
              "    .dataframe tbody tr th {\n",
              "        vertical-align: top;\n",
              "    }\n",
              "\n",
              "    .dataframe thead th {\n",
              "        text-align: right;\n",
              "    }\n",
              "</style>\n",
              "<table border=\"1\" class=\"dataframe\">\n",
              "  <thead>\n",
              "    <tr style=\"text-align: right;\">\n",
              "      <th></th>\n",
              "      <th>Month</th>\n",
              "      <th>Year</th>\n",
              "      <th>Total Orders</th>\n",
              "      <th>Gross Sales</th>\n",
              "      <th>Discounts</th>\n",
              "      <th>Returns</th>\n",
              "      <th>Net Sales</th>\n",
              "      <th>Shipping</th>\n",
              "      <th>Total Sales</th>\n",
              "    </tr>\n",
              "  </thead>\n",
              "  <tbody>\n",
              "    <tr>\n",
              "      <th>0</th>\n",
              "      <td>January</td>\n",
              "      <td>2017</td>\n",
              "      <td>73</td>\n",
              "      <td>8861.5</td>\n",
              "      <td>-129.40</td>\n",
              "      <td>-448.45</td>\n",
              "      <td>8283.65</td>\n",
              "      <td>1088.30</td>\n",
              "      <td>9371.95</td>\n",
              "    </tr>\n",
              "    <tr>\n",
              "      <th>1</th>\n",
              "      <td>February</td>\n",
              "      <td>2017</td>\n",
              "      <td>56</td>\n",
              "      <td>6908.5</td>\n",
              "      <td>-104.70</td>\n",
              "      <td>-416.20</td>\n",
              "      <td>6387.60</td>\n",
              "      <td>892.45</td>\n",
              "      <td>7280.05</td>\n",
              "    </tr>\n",
              "    <tr>\n",
              "      <th>2</th>\n",
              "      <td>March</td>\n",
              "      <td>2017</td>\n",
              "      <td>60</td>\n",
              "      <td>5778.5</td>\n",
              "      <td>-172.20</td>\n",
              "      <td>-1017.20</td>\n",
              "      <td>4589.10</td>\n",
              "      <td>707.43</td>\n",
              "      <td>5296.53</td>\n",
              "    </tr>\n",
              "    <tr>\n",
              "      <th>3</th>\n",
              "      <td>April</td>\n",
              "      <td>2017</td>\n",
              "      <td>70</td>\n",
              "      <td>8814.0</td>\n",
              "      <td>-281.40</td>\n",
              "      <td>0.00</td>\n",
              "      <td>8532.60</td>\n",
              "      <td>1068.30</td>\n",
              "      <td>9600.90</td>\n",
              "    </tr>\n",
              "    <tr>\n",
              "      <th>4</th>\n",
              "      <td>May</td>\n",
              "      <td>2017</td>\n",
              "      <td>54</td>\n",
              "      <td>6677.0</td>\n",
              "      <td>-185.75</td>\n",
              "      <td>-253.80</td>\n",
              "      <td>6237.45</td>\n",
              "      <td>866.46</td>\n",
              "      <td>7103.91</td>\n",
              "    </tr>\n",
              "  </tbody>\n",
              "</table>\n",
              "</div>"
            ],
            "text/plain": [
              "      Month  Year  Total Orders  ...  Net Sales  Shipping  Total Sales\n",
              "0   January  2017            73  ...    8283.65   1088.30      9371.95\n",
              "1  February  2017            56  ...    6387.60    892.45      7280.05\n",
              "2     March  2017            60  ...    4589.10    707.43      5296.53\n",
              "3     April  2017            70  ...    8532.60   1068.30      9600.90\n",
              "4       May  2017            54  ...    6237.45    866.46      7103.91\n",
              "\n",
              "[5 rows x 9 columns]"
            ]
          },
          "metadata": {
            "tags": []
          },
          "execution_count": 30
        }
      ]
    },
    {
      "cell_type": "code",
      "metadata": {
        "colab": {
          "base_uri": "https://localhost:8080/"
        },
        "id": "fHofl9JAXe1-",
        "outputId": "2b268010-9fb9-4484-9896-5cd45aa0105d"
      },
      "source": [
        "production.info()"
      ],
      "execution_count": null,
      "outputs": [
        {
          "output_type": "stream",
          "text": [
            "<class 'pandas.core.frame.DataFrame'>\n",
            "RangeIndex: 36 entries, 0 to 35\n",
            "Data columns (total 9 columns):\n",
            " #   Column        Non-Null Count  Dtype  \n",
            "---  ------        --------------  -----  \n",
            " 0   Month         36 non-null     object \n",
            " 1   Year          36 non-null     int64  \n",
            " 2   Total Orders  36 non-null     int64  \n",
            " 3   Gross Sales   36 non-null     float64\n",
            " 4   Discounts     36 non-null     float64\n",
            " 5   Returns       36 non-null     float64\n",
            " 6   Net Sales     36 non-null     float64\n",
            " 7   Shipping      36 non-null     float64\n",
            " 8   Total Sales   36 non-null     float64\n",
            "dtypes: float64(6), int64(2), object(1)\n",
            "memory usage: 2.7+ KB\n"
          ],
          "name": "stdout"
        }
      ]
    },
    {
      "cell_type": "code",
      "metadata": {
        "colab": {
          "base_uri": "https://localhost:8080/",
          "height": 206
        },
        "id": "SuAPRLoWXi0q",
        "outputId": "2bf7eee7-acb2-4342-ee81-f4a7f572b509"
      },
      "source": [
        "production_x = production.iloc[:, 5:7]\r\n",
        "production_x.head()"
      ],
      "execution_count": null,
      "outputs": [
        {
          "output_type": "execute_result",
          "data": {
            "text/html": [
              "<div>\n",
              "<style scoped>\n",
              "    .dataframe tbody tr th:only-of-type {\n",
              "        vertical-align: middle;\n",
              "    }\n",
              "\n",
              "    .dataframe tbody tr th {\n",
              "        vertical-align: top;\n",
              "    }\n",
              "\n",
              "    .dataframe thead th {\n",
              "        text-align: right;\n",
              "    }\n",
              "</style>\n",
              "<table border=\"1\" class=\"dataframe\">\n",
              "  <thead>\n",
              "    <tr style=\"text-align: right;\">\n",
              "      <th></th>\n",
              "      <th>Returns</th>\n",
              "      <th>Net Sales</th>\n",
              "    </tr>\n",
              "  </thead>\n",
              "  <tbody>\n",
              "    <tr>\n",
              "      <th>0</th>\n",
              "      <td>-448.45</td>\n",
              "      <td>8283.65</td>\n",
              "    </tr>\n",
              "    <tr>\n",
              "      <th>1</th>\n",
              "      <td>-416.20</td>\n",
              "      <td>6387.60</td>\n",
              "    </tr>\n",
              "    <tr>\n",
              "      <th>2</th>\n",
              "      <td>-1017.20</td>\n",
              "      <td>4589.10</td>\n",
              "    </tr>\n",
              "    <tr>\n",
              "      <th>3</th>\n",
              "      <td>0.00</td>\n",
              "      <td>8532.60</td>\n",
              "    </tr>\n",
              "    <tr>\n",
              "      <th>4</th>\n",
              "      <td>-253.80</td>\n",
              "      <td>6237.45</td>\n",
              "    </tr>\n",
              "  </tbody>\n",
              "</table>\n",
              "</div>"
            ],
            "text/plain": [
              "   Returns  Net Sales\n",
              "0  -448.45    8283.65\n",
              "1  -416.20    6387.60\n",
              "2 -1017.20    4589.10\n",
              "3     0.00    8532.60\n",
              "4  -253.80    6237.45"
            ]
          },
          "metadata": {
            "tags": []
          },
          "execution_count": 32
        }
      ]
    },
    {
      "cell_type": "code",
      "metadata": {
        "colab": {
          "base_uri": "https://localhost:8080/",
          "height": 303
        },
        "id": "SLHLfEQNXkbc",
        "outputId": "a32d1694-5ce8-4ec5-d1b0-0e74e80edfac"
      },
      "source": [
        "import seaborn as sns\r\n",
        "sns.scatterplot(x=\"Year\", y=\"Total Orders\", data=production, s=100, color=\"red\", alpha = 0.5)"
      ],
      "execution_count": null,
      "outputs": [
        {
          "output_type": "execute_result",
          "data": {
            "text/plain": [
              "<matplotlib.axes._subplots.AxesSubplot at 0x7f27d4e16b70>"
            ]
          },
          "metadata": {
            "tags": []
          },
          "execution_count": 33
        },
        {
          "output_type": "display_data",
          "data": {
            "image/png": "[encoded data removed]",
            "text/plain": [
              "<Figure size 432x288 with 1 Axes>"
            ]
          },
          "metadata": {
            "tags": []
          }
        }
      ]
    },
    {
      "cell_type": "code",
      "metadata": {
        "id": "JQmWTXLfX2D4"
      },
      "source": [
        "from sklearn.cluster import KMeans\r\n",
        "import numpy as np"
      ],
      "execution_count": null,
      "outputs": []
    },
    {
      "cell_type": "code",
      "metadata": {
        "colab": {
          "base_uri": "https://localhost:8080/",
          "height": 301
        },
        "id": "VkfHaySXX40y",
        "outputId": "2f57c695-8e9b-4bf0-a88e-68e9cb078588"
      },
      "source": [
        "# Menggunakan metode elbow untuk menentukan angka cluster yang tepat\r\n",
        "import matplotlib.pyplot as plt\r\n",
        "from sklearn.cluster import KMeans\r\n",
        "wcss = []\r\n",
        "for i in range(1, 11):\r\n",
        "    kmeans = KMeans(n_clusters = i, init = 'k-means++', random_state = 42)\r\n",
        "    kmeans.fit(production_x)\r\n",
        "    wcss.append(kmeans.inertia_)\r\n",
        "plt.plot(range(1, 11), wcss)\r\n",
        "plt.title('Metode Elbow')\r\n",
        "plt.xlabel('Jumlah clusters')\r\n",
        "plt.ylabel('WCSS')\r\n",
        "plt.show()"
      ],
      "execution_count": null,
      "outputs": [
        {
          "output_type": "display_data",
          "data": {
            "image/png": "[encoded data removed]",
            "text/plain": [
              "<Figure size 432x288 with 1 Axes>"
            ]
          },
          "metadata": {
            "tags": []
          }
        }
      ]
    },
    {
      "cell_type": "code",
      "metadata": {
        "id": "1SelFpsrYIOo"
      },
      "source": [
        "# Menjalankan K-Means Clustering ke dataset\r\n",
        "kmeans = KMeans(n_clusters = 5, init = 'k-means++', random_state = 42)\r\n",
        "y_kmeans = kmeans.fit_predict(production_x)"
      ],
      "execution_count": null,
      "outputs": []
    },
    {
      "cell_type": "code",
      "metadata": {
        "colab": {
          "base_uri": "https://localhost:8080/"
        },
        "id": "XM9PZlxfYLPH",
        "outputId": "a19fe842-232f-4cc0-8d24-95e94a6fc1a8"
      },
      "source": [
        "print(kmeans.cluster_centers_)"
      ],
      "execution_count": null,
      "outputs": [
        {
          "output_type": "stream",
          "text": [
            "[[ -490.404375    6359.0425    ]\n",
            " [-1311.18       27603.21      ]\n",
            " [ -283.24615385  8803.03615385]\n",
            " [ -364.51       22856.55      ]\n",
            " [ -778.826      11892.234     ]]\n"
          ],
          "name": "stdout"
        }
      ]
    },
    {
      "cell_type": "code",
      "metadata": {
        "id": "_dPNEXGGYOMd"
      },
      "source": [
        "from sklearn.preprocessing import MinMaxScaler"
      ],
      "execution_count": null,
      "outputs": []
    },
    {
      "cell_type": "code",
      "metadata": {
        "colab": {
          "base_uri": "https://localhost:8080/"
        },
        "id": "6ai9fxy3YQX3",
        "outputId": "2eb08416-74f0-4cd3-8bdb-a497500720ca"
      },
      "source": [
        "x_array =  np.array(production_x)\r\n",
        "print(x_array)"
      ],
      "execution_count": null,
      "outputs": [
        {
          "output_type": "stream",
          "text": [
            "[[-4.484500e+02  8.283650e+03]\n",
            " [-4.162000e+02  6.387600e+03]\n",
            " [-1.017200e+03  4.589100e+03]\n",
            " [ 0.000000e+00  8.532600e+03]\n",
            " [-2.538000e+02  6.237450e+03]\n",
            " [-1.750000e+01  9.369550e+03]\n",
            " [-4.692000e+02  5.959300e+03]\n",
            " [-2.600000e+01  7.740100e+03]\n",
            " [-2.810000e+02  6.732300e+03]\n",
            " [-3.050000e+02  5.327000e+03]\n",
            " [-3.238500e+02  1.256985e+04]\n",
            " [-4.142000e+02  9.792000e+03]\n",
            " [-2.625000e+01  8.679650e+03]\n",
            " [-1.181500e+02  6.249700e+03]\n",
            " [-8.800000e+00  7.207080e+03]\n",
            " [-4.000000e+01  9.134070e+03]\n",
            " [-1.448020e+03  5.824630e+03]\n",
            " [-1.506530e+03  1.141887e+04]\n",
            " [-6.899800e+02  8.347100e+03]\n",
            " [-1.973500e+02  7.360780e+03]\n",
            " [ 0.000000e+00  1.030670e+04]\n",
            " [-2.947500e+02  6.441800e+03]\n",
            " [-1.544000e+02  1.143385e+04]\n",
            " [-9.283500e+02  1.238395e+04]\n",
            " [-1.250350e+03  6.299430e+03]\n",
            " [-3.870000e+01  6.196300e+03]\n",
            " [-9.810000e+02  1.165465e+04]\n",
            " [-1.000000e+01  6.681600e+03]\n",
            " [-1.733500e+02  9.448000e+03]\n",
            " [-1.654000e+02  6.970330e+03]\n",
            " [-9.087500e+02  8.383380e+03]\n",
            " [-8.437000e+01  8.553460e+03]\n",
            " [-8.533500e+02  7.869210e+03]\n",
            " [-1.572550e+03  7.280280e+03]\n",
            " [-3.645100e+02  2.285655e+04]\n",
            " [-1.311180e+03  2.760321e+04]]\n"
          ],
          "name": "stdout"
        }
      ]
    },
    {
      "cell_type": "code",
      "metadata": {
        "colab": {
          "base_uri": "https://localhost:8080/"
        },
        "id": "l93ybpagYVDW",
        "outputId": "be78819a-d70a-46d6-edc8-2a5714cd91df"
      },
      "source": [
        "scaler = MinMaxScaler()\r\n",
        "x_scaled = scaler.fit_transform(x_array)\r\n",
        "x_scaled"
      ],
      "execution_count": null,
      "outputs": [
        {
          "output_type": "execute_result",
          "data": {
            "text/plain": [
              "array([[0.71482624, 0.16053412],\n",
              "       [0.73533433, 0.07814771],\n",
              "       [0.35315252, 0.        ],\n",
              "       [1.        , 0.1713514 ],\n",
              "       [0.83860609, 0.07162345],\n",
              "       [0.98887158, 0.20771822],\n",
              "       [0.70163111, 0.05953739],\n",
              "       [0.98346634, 0.13691601],\n",
              "       [0.82130934, 0.09312548],\n",
              "       [0.8060475 , 0.03206294],\n",
              "       [0.7940606 , 0.34677639],\n",
              "       [0.73660615, 0.22607435],\n",
              "       [0.98330737, 0.17774096],\n",
              "       [0.92486725, 0.07215573],\n",
              "       [0.99440399, 0.11375543],\n",
              "       [0.97456361, 0.19748624],\n",
              "       [0.07918985, 0.05368576],\n",
              "       [0.04198277, 0.29676446],\n",
              "       [0.56123494, 0.16329113],\n",
              "       [0.8745032 , 0.12043394],\n",
              "       [1.        , 0.24843889],\n",
              "       [0.81256558, 0.08050279],\n",
              "       [0.90181552, 0.29741537],\n",
              "       [0.40965311, 0.33869874],\n",
              "       [0.20489015, 0.07431658],\n",
              "       [0.97539029, 0.06983542],\n",
              "       [0.37617246, 0.30700948],\n",
              "       [0.9936409 , 0.09092248],\n",
              "       [0.88976503, 0.211127  ],\n",
              "       [0.89482051, 0.10346826],\n",
              "       [0.42211694, 0.16486755],\n",
              "       [0.94634829, 0.1722578 ],\n",
              "       [0.45734635, 0.14252604],\n",
              "       [0.        , 0.11693609],\n",
              "       [0.76820451, 0.79375001],\n",
              "       [0.16620775, 1.        ]])"
            ]
          },
          "metadata": {
            "tags": []
          },
          "execution_count": 40
        }
      ]
    },
    {
      "cell_type": "code",
      "metadata": {
        "colab": {
          "base_uri": "https://localhost:8080/"
        },
        "id": "Qq795djDYWpQ",
        "outputId": "1eafdec9-6b2c-460f-c1d8-d8712ea92949"
      },
      "source": [
        "# Menentukan dan mengkonfigurasi fungsi kmeans\r\n",
        "kmeans = KMeans(n_clusters = 5, random_state=123)\r\n",
        "# Menentukan kluster dari data\r\n",
        "kmeans.fit(x_scaled)"
      ],
      "execution_count": null,
      "outputs": [
        {
          "output_type": "execute_result",
          "data": {
            "text/plain": [
              "KMeans(algorithm='auto', copy_x=True, init='k-means++', max_iter=300,\n",
              "       n_clusters=5, n_init=10, n_jobs=None, precompute_distances='auto',\n",
              "       random_state=123, tol=0.0001, verbose=0)"
            ]
          },
          "metadata": {
            "tags": []
          },
          "execution_count": 41
        }
      ]
    },
    {
      "cell_type": "code",
      "metadata": {
        "colab": {
          "base_uri": "https://localhost:8080/"
        },
        "id": "Jdzypes-YgQ_",
        "outputId": "e5460191-881b-4881-89c0-a12708e98c3c"
      },
      "source": [
        "print(kmeans.cluster_centers_)"
      ],
      "execution_count": null,
      "outputs": [
        {
          "output_type": "stream",
          "text": [
            "[[0.88694795 0.14747532]\n",
            " [0.08151569 0.13542572]\n",
            " [0.42994605 0.18606549]\n",
            " [0.76820451 0.79375001]\n",
            " [0.16620775 1.        ]]\n"
          ],
          "name": "stdout"
        }
      ]
    },
    {
      "cell_type": "code",
      "metadata": {
        "colab": {
          "base_uri": "https://localhost:8080/",
          "height": 225
        },
        "id": "q_HmntmNYl1u",
        "outputId": "f3febc65-8333-432d-9154-dee587875182"
      },
      "source": [
        "# Menampilkan hasil kluster\r\n",
        "print(kmeans.labels_)\r\n",
        "# Menambahkan kolom \"kluster\" dalam data frame\r\n",
        "production[\"cluster\"] = kmeans.labels_\r\n",
        "production.head()"
      ],
      "execution_count": null,
      "outputs": [
        {
          "output_type": "stream",
          "text": [
            "[0 0 2 0 0 0 0 0 0 0 0 0 0 0 0 0 1 1 2 0 0 0 0 2 1 0 2 0 0 0 2 0 2 1 3 4]\n"
          ],
          "name": "stdout"
        },
        {
          "output_type": "execute_result",
          "data": {
            "text/html": [
              "<div>\n",
              "<style scoped>\n",
              "    .dataframe tbody tr th:only-of-type {\n",
              "        vertical-align: middle;\n",
              "    }\n",
              "\n",
              "    .dataframe tbody tr th {\n",
              "        vertical-align: top;\n",
              "    }\n",
              "\n",
              "    .dataframe thead th {\n",
              "        text-align: right;\n",
              "    }\n",
              "</style>\n",
              "<table border=\"1\" class=\"dataframe\">\n",
              "  <thead>\n",
              "    <tr style=\"text-align: right;\">\n",
              "      <th></th>\n",
              "      <th>Month</th>\n",
              "      <th>Year</th>\n",
              "      <th>Total Orders</th>\n",
              "      <th>Gross Sales</th>\n",
              "      <th>Discounts</th>\n",
              "      <th>Returns</th>\n",
              "      <th>Net Sales</th>\n",
              "      <th>Shipping</th>\n",
              "      <th>Total Sales</th>\n",
              "      <th>cluster</th>\n",
              "    </tr>\n",
              "  </thead>\n",
              "  <tbody>\n",
              "    <tr>\n",
              "      <th>0</th>\n",
              "      <td>January</td>\n",
              "      <td>2017</td>\n",
              "      <td>73</td>\n",
              "      <td>8861.5</td>\n",
              "      <td>-129.40</td>\n",
              "      <td>-448.45</td>\n",
              "      <td>8283.65</td>\n",
              "      <td>1088.30</td>\n",
              "      <td>9371.95</td>\n",
              "      <td>0</td>\n",
              "    </tr>\n",
              "    <tr>\n",
              "      <th>1</th>\n",
              "      <td>February</td>\n",
              "      <td>2017</td>\n",
              "      <td>56</td>\n",
              "      <td>6908.5</td>\n",
              "      <td>-104.70</td>\n",
              "      <td>-416.20</td>\n",
              "      <td>6387.60</td>\n",
              "      <td>892.45</td>\n",
              "      <td>7280.05</td>\n",
              "      <td>0</td>\n",
              "    </tr>\n",
              "    <tr>\n",
              "      <th>2</th>\n",
              "      <td>March</td>\n",
              "      <td>2017</td>\n",
              "      <td>60</td>\n",
              "      <td>5778.5</td>\n",
              "      <td>-172.20</td>\n",
              "      <td>-1017.20</td>\n",
              "      <td>4589.10</td>\n",
              "      <td>707.43</td>\n",
              "      <td>5296.53</td>\n",
              "      <td>2</td>\n",
              "    </tr>\n",
              "    <tr>\n",
              "      <th>3</th>\n",
              "      <td>April</td>\n",
              "      <td>2017</td>\n",
              "      <td>70</td>\n",
              "      <td>8814.0</td>\n",
              "      <td>-281.40</td>\n",
              "      <td>0.00</td>\n",
              "      <td>8532.60</td>\n",
              "      <td>1068.30</td>\n",
              "      <td>9600.90</td>\n",
              "      <td>0</td>\n",
              "    </tr>\n",
              "    <tr>\n",
              "      <th>4</th>\n",
              "      <td>May</td>\n",
              "      <td>2017</td>\n",
              "      <td>54</td>\n",
              "      <td>6677.0</td>\n",
              "      <td>-185.75</td>\n",
              "      <td>-253.80</td>\n",
              "      <td>6237.45</td>\n",
              "      <td>866.46</td>\n",
              "      <td>7103.91</td>\n",
              "      <td>0</td>\n",
              "    </tr>\n",
              "  </tbody>\n",
              "</table>\n",
              "</div>"
            ],
            "text/plain": [
              "      Month  Year  Total Orders  ...  Shipping  Total Sales  cluster\n",
              "0   January  2017            73  ...   1088.30      9371.95        0\n",
              "1  February  2017            56  ...    892.45      7280.05        0\n",
              "2     March  2017            60  ...    707.43      5296.53        2\n",
              "3     April  2017            70  ...   1068.30      9600.90        0\n",
              "4       May  2017            54  ...    866.46      7103.91        0\n",
              "\n",
              "[5 rows x 10 columns]"
            ]
          },
          "metadata": {
            "tags": []
          },
          "execution_count": 43
        }
      ]
    },
    {
      "cell_type": "code",
      "metadata": {
        "colab": {
          "base_uri": "https://localhost:8080/",
          "height": 677
        },
        "id": "24Z_NVbgYoAZ",
        "outputId": "9180dbe0-0b56-4750-adc7-b355c56d919c"
      },
      "source": [
        "production.head(20)"
      ],
      "execution_count": null,
      "outputs": [
        {
          "output_type": "execute_result",
          "data": {
            "text/html": [
              "<div>\n",
              "<style scoped>\n",
              "    .dataframe tbody tr th:only-of-type {\n",
              "        vertical-align: middle;\n",
              "    }\n",
              "\n",
              "    .dataframe tbody tr th {\n",
              "        vertical-align: top;\n",
              "    }\n",
              "\n",
              "    .dataframe thead th {\n",
              "        text-align: right;\n",
              "    }\n",
              "</style>\n",
              "<table border=\"1\" class=\"dataframe\">\n",
              "  <thead>\n",
              "    <tr style=\"text-align: right;\">\n",
              "      <th></th>\n",
              "      <th>Month</th>\n",
              "      <th>Year</th>\n",
              "      <th>Total Orders</th>\n",
              "      <th>Gross Sales</th>\n",
              "      <th>Discounts</th>\n",
              "      <th>Returns</th>\n",
              "      <th>Net Sales</th>\n",
              "      <th>Shipping</th>\n",
              "      <th>Total Sales</th>\n",
              "      <th>cluster</th>\n",
              "    </tr>\n",
              "  </thead>\n",
              "  <tbody>\n",
              "    <tr>\n",
              "      <th>0</th>\n",
              "      <td>January</td>\n",
              "      <td>2017</td>\n",
              "      <td>73</td>\n",
              "      <td>8861.50</td>\n",
              "      <td>-129.40</td>\n",
              "      <td>-448.45</td>\n",
              "      <td>8283.65</td>\n",
              "      <td>1088.30</td>\n",
              "      <td>9371.95</td>\n",
              "      <td>0</td>\n",
              "    </tr>\n",
              "    <tr>\n",
              "      <th>1</th>\n",
              "      <td>February</td>\n",
              "      <td>2017</td>\n",
              "      <td>56</td>\n",
              "      <td>6908.50</td>\n",
              "      <td>-104.70</td>\n",
              "      <td>-416.20</td>\n",
              "      <td>6387.60</td>\n",
              "      <td>892.45</td>\n",
              "      <td>7280.05</td>\n",
              "      <td>0</td>\n",
              "    </tr>\n",
              "    <tr>\n",
              "      <th>2</th>\n",
              "      <td>March</td>\n",
              "      <td>2017</td>\n",
              "      <td>60</td>\n",
              "      <td>5778.50</td>\n",
              "      <td>-172.20</td>\n",
              "      <td>-1017.20</td>\n",
              "      <td>4589.10</td>\n",
              "      <td>707.43</td>\n",
              "      <td>5296.53</td>\n",
              "      <td>2</td>\n",
              "    </tr>\n",
              "    <tr>\n",
              "      <th>3</th>\n",
              "      <td>April</td>\n",
              "      <td>2017</td>\n",
              "      <td>70</td>\n",
              "      <td>8814.00</td>\n",
              "      <td>-281.40</td>\n",
              "      <td>0.00</td>\n",
              "      <td>8532.60</td>\n",
              "      <td>1068.30</td>\n",
              "      <td>9600.90</td>\n",
              "      <td>0</td>\n",
              "    </tr>\n",
              "    <tr>\n",
              "      <th>4</th>\n",
              "      <td>May</td>\n",
              "      <td>2017</td>\n",
              "      <td>54</td>\n",
              "      <td>6677.00</td>\n",
              "      <td>-185.75</td>\n",
              "      <td>-253.80</td>\n",
              "      <td>6237.45</td>\n",
              "      <td>866.46</td>\n",
              "      <td>7103.91</td>\n",
              "      <td>0</td>\n",
              "    </tr>\n",
              "    <tr>\n",
              "      <th>5</th>\n",
              "      <td>June</td>\n",
              "      <td>2017</td>\n",
              "      <td>68</td>\n",
              "      <td>9621.50</td>\n",
              "      <td>-234.45</td>\n",
              "      <td>-17.50</td>\n",
              "      <td>9369.55</td>\n",
              "      <td>1204.32</td>\n",
              "      <td>10573.87</td>\n",
              "      <td>0</td>\n",
              "    </tr>\n",
              "    <tr>\n",
              "      <th>6</th>\n",
              "      <td>July</td>\n",
              "      <td>2017</td>\n",
              "      <td>66</td>\n",
              "      <td>6480.00</td>\n",
              "      <td>-51.50</td>\n",
              "      <td>-469.20</td>\n",
              "      <td>5959.30</td>\n",
              "      <td>807.36</td>\n",
              "      <td>6766.66</td>\n",
              "      <td>0</td>\n",
              "    </tr>\n",
              "    <tr>\n",
              "      <th>7</th>\n",
              "      <td>August</td>\n",
              "      <td>2017</td>\n",
              "      <td>55</td>\n",
              "      <td>8025.00</td>\n",
              "      <td>-258.90</td>\n",
              "      <td>-26.00</td>\n",
              "      <td>7740.10</td>\n",
              "      <td>843.46</td>\n",
              "      <td>8583.56</td>\n",
              "      <td>0</td>\n",
              "    </tr>\n",
              "    <tr>\n",
              "      <th>8</th>\n",
              "      <td>September</td>\n",
              "      <td>2017</td>\n",
              "      <td>68</td>\n",
              "      <td>7075.00</td>\n",
              "      <td>-61.70</td>\n",
              "      <td>-281.00</td>\n",
              "      <td>6732.30</td>\n",
              "      <td>907.32</td>\n",
              "      <td>7639.62</td>\n",
              "      <td>0</td>\n",
              "    </tr>\n",
              "    <tr>\n",
              "      <th>9</th>\n",
              "      <td>October</td>\n",
              "      <td>2017</td>\n",
              "      <td>59</td>\n",
              "      <td>5720.00</td>\n",
              "      <td>-88.00</td>\n",
              "      <td>-305.00</td>\n",
              "      <td>5327.00</td>\n",
              "      <td>695.42</td>\n",
              "      <td>6022.42</td>\n",
              "      <td>0</td>\n",
              "    </tr>\n",
              "    <tr>\n",
              "      <th>10</th>\n",
              "      <td>November</td>\n",
              "      <td>2017</td>\n",
              "      <td>91</td>\n",
              "      <td>13025.00</td>\n",
              "      <td>-131.30</td>\n",
              "      <td>-323.85</td>\n",
              "      <td>12569.85</td>\n",
              "      <td>1555.10</td>\n",
              "      <td>14124.95</td>\n",
              "      <td>0</td>\n",
              "    </tr>\n",
              "    <tr>\n",
              "      <th>11</th>\n",
              "      <td>December</td>\n",
              "      <td>2017</td>\n",
              "      <td>116</td>\n",
              "      <td>10356.05</td>\n",
              "      <td>-149.85</td>\n",
              "      <td>-414.20</td>\n",
              "      <td>9792.00</td>\n",
              "      <td>1340.85</td>\n",
              "      <td>11132.85</td>\n",
              "      <td>0</td>\n",
              "    </tr>\n",
              "    <tr>\n",
              "      <th>12</th>\n",
              "      <td>January</td>\n",
              "      <td>2018</td>\n",
              "      <td>83</td>\n",
              "      <td>8923.00</td>\n",
              "      <td>-217.10</td>\n",
              "      <td>-26.25</td>\n",
              "      <td>8679.65</td>\n",
              "      <td>1180.18</td>\n",
              "      <td>9859.83</td>\n",
              "      <td>0</td>\n",
              "    </tr>\n",
              "    <tr>\n",
              "      <th>13</th>\n",
              "      <td>February</td>\n",
              "      <td>2018</td>\n",
              "      <td>69</td>\n",
              "      <td>6529.20</td>\n",
              "      <td>-161.35</td>\n",
              "      <td>-118.15</td>\n",
              "      <td>6249.70</td>\n",
              "      <td>908.91</td>\n",
              "      <td>7158.61</td>\n",
              "      <td>0</td>\n",
              "    </tr>\n",
              "    <tr>\n",
              "      <th>14</th>\n",
              "      <td>March</td>\n",
              "      <td>2018</td>\n",
              "      <td>64</td>\n",
              "      <td>7442.70</td>\n",
              "      <td>-226.82</td>\n",
              "      <td>-8.80</td>\n",
              "      <td>7207.08</td>\n",
              "      <td>1226.92</td>\n",
              "      <td>8434.00</td>\n",
              "      <td>0</td>\n",
              "    </tr>\n",
              "    <tr>\n",
              "      <th>15</th>\n",
              "      <td>April</td>\n",
              "      <td>2018</td>\n",
              "      <td>81</td>\n",
              "      <td>9406.35</td>\n",
              "      <td>-232.28</td>\n",
              "      <td>-40.00</td>\n",
              "      <td>9134.07</td>\n",
              "      <td>1387.56</td>\n",
              "      <td>10521.63</td>\n",
              "      <td>0</td>\n",
              "    </tr>\n",
              "    <tr>\n",
              "      <th>16</th>\n",
              "      <td>May</td>\n",
              "      <td>2018</td>\n",
              "      <td>82</td>\n",
              "      <td>7493.90</td>\n",
              "      <td>-221.25</td>\n",
              "      <td>-1448.02</td>\n",
              "      <td>5824.63</td>\n",
              "      <td>1234.95</td>\n",
              "      <td>7059.58</td>\n",
              "      <td>1</td>\n",
              "    </tr>\n",
              "    <tr>\n",
              "      <th>17</th>\n",
              "      <td>June</td>\n",
              "      <td>2018</td>\n",
              "      <td>124</td>\n",
              "      <td>13260.80</td>\n",
              "      <td>-335.40</td>\n",
              "      <td>-1506.53</td>\n",
              "      <td>11418.87</td>\n",
              "      <td>2124.49</td>\n",
              "      <td>13543.36</td>\n",
              "      <td>1</td>\n",
              "    </tr>\n",
              "    <tr>\n",
              "      <th>18</th>\n",
              "      <td>July</td>\n",
              "      <td>2018</td>\n",
              "      <td>102</td>\n",
              "      <td>9274.95</td>\n",
              "      <td>-237.87</td>\n",
              "      <td>-689.98</td>\n",
              "      <td>8347.10</td>\n",
              "      <td>1627.03</td>\n",
              "      <td>9974.13</td>\n",
              "      <td>2</td>\n",
              "    </tr>\n",
              "    <tr>\n",
              "      <th>19</th>\n",
              "      <td>August</td>\n",
              "      <td>2018</td>\n",
              "      <td>82</td>\n",
              "      <td>7698.70</td>\n",
              "      <td>-140.57</td>\n",
              "      <td>-197.35</td>\n",
              "      <td>7360.78</td>\n",
              "      <td>1404.03</td>\n",
              "      <td>8764.81</td>\n",
              "      <td>0</td>\n",
              "    </tr>\n",
              "  </tbody>\n",
              "</table>\n",
              "</div>"
            ],
            "text/plain": [
              "        Month  Year  Total Orders  ...  Shipping  Total Sales  cluster\n",
              "0     January  2017            73  ...   1088.30      9371.95        0\n",
              "1    February  2017            56  ...    892.45      7280.05        0\n",
              "2       March  2017            60  ...    707.43      5296.53        2\n",
              "3       April  2017            70  ...   1068.30      9600.90        0\n",
              "4         May  2017            54  ...    866.46      7103.91        0\n",
              "5        June  2017            68  ...   1204.32     10573.87        0\n",
              "6        July  2017            66  ...    807.36      6766.66        0\n",
              "7      August  2017            55  ...    843.46      8583.56        0\n",
              "8   September  2017            68  ...    907.32      7639.62        0\n",
              "9     October  2017            59  ...    695.42      6022.42        0\n",
              "10   November  2017            91  ...   1555.10     14124.95        0\n",
              "11   December  2017           116  ...   1340.85     11132.85        0\n",
              "12    January  2018            83  ...   1180.18      9859.83        0\n",
              "13   February  2018            69  ...    908.91      7158.61        0\n",
              "14      March  2018            64  ...   1226.92      8434.00        0\n",
              "15      April  2018            81  ...   1387.56     10521.63        0\n",
              "16        May  2018            82  ...   1234.95      7059.58        1\n",
              "17       June  2018           124  ...   2124.49     13543.36        1\n",
              "18       July  2018           102  ...   1627.03      9974.13        2\n",
              "19     August  2018            82  ...   1404.03      8764.81        0\n",
              "\n",
              "[20 rows x 10 columns]"
            ]
          },
          "metadata": {
            "tags": []
          },
          "execution_count": 44
        }
      ]
    },
    {
      "cell_type": "markdown",
      "metadata": {
        "id": "Zruf_dN2Zyha"
      },
      "source": [
        "**Evaluasi menggunakan regresi**"
      ]
    },
    {
      "cell_type": "markdown",
      "metadata": {
        "id": "Y2UPBGyqZzbA"
      },
      "source": [
        "**1. Menggunakan fungsi make_classification dari library scikit-learn untuk menghasilkan data**"
      ]
    },
    {
      "cell_type": "code",
      "metadata": {
        "id": "GbNY6gXiZp1L"
      },
      "source": [
        "x, y = make_classification(\r\n",
        "    n_samples=100,\r\n",
        "    n_features=1,\r\n",
        "    n_classes=2,\r\n",
        "    n_clusters_per_class=1,\r\n",
        "    flip_y=0.03,\r\n",
        "    n_informative=1,\r\n",
        "    n_redundant=0,\r\n",
        "    n_repeated=0\r\n",
        ")"
      ],
      "execution_count": null,
      "outputs": []
    },
    {
      "cell_type": "markdown",
      "metadata": {
        "id": "EChgRudqZ3D3"
      },
      "source": [
        "**2. Melakukan plot untuk fitur dan kelas**"
      ]
    },
    {
      "cell_type": "code",
      "metadata": {
        "colab": {
          "base_uri": "https://localhost:8080/",
          "height": 286
        },
        "id": "SxWZCa19ZsRM",
        "outputId": "64cdb46a-bdcc-42af-9409-5dc271533015"
      },
      "source": [
        "plt.scatter(x, y, c=y, cmap='rainbow')"
      ],
      "execution_count": null,
      "outputs": [
        {
          "output_type": "execute_result",
          "data": {
            "text/plain": [
              "<matplotlib.collections.PathCollection at 0x7f27d1d537b8>"
            ]
          },
          "metadata": {
            "tags": []
          },
          "execution_count": 50
        },
        {
          "output_type": "display_data",
          "data": {
            "image/png": "[encoded data removed]",
            "text/plain": [
              "<Figure size 432x288 with 1 Axes>"
            ]
          },
          "metadata": {
            "tags": []
          }
        }
      ]
    },
    {
      "cell_type": "markdown",
      "metadata": {
        "id": "cE9OWjteZ919"
      },
      "source": [
        "**3. Menyisihkan sebagian data untuk mengevaluasi performanya**"
      ]
    },
    {
      "cell_type": "code",
      "metadata": {
        "id": "tD5WV-iHaBYL"
      },
      "source": [
        "x_train, x_test, y_train, y_test = train_test_split(x, y, random_state=1)"
      ],
      "execution_count": null,
      "outputs": []
    },
    {
      "cell_type": "markdown",
      "metadata": {
        "id": "XCF6R8HpaKQO"
      },
      "source": [
        "**4. Membuat intance kelas LogisticRegression dan memanggil fungsi fit dengan fitur dan label sebagai argumen**"
      ]
    },
    {
      "cell_type": "code",
      "metadata": {
        "colab": {
          "base_uri": "https://localhost:8080/"
        },
        "id": "aBH0GlD5aI4P",
        "outputId": "090c158d-8901-4067-9cf4-8957ea43ffb8"
      },
      "source": [
        "lr = LogisticRegression()\r\n",
        "lr.fit(x_train, y_train)"
      ],
      "execution_count": null,
      "outputs": [
        {
          "output_type": "execute_result",
          "data": {
            "text/plain": [
              "LogisticRegression(C=1.0, class_weight=None, dual=False, fit_intercept=True,\n",
              "                   intercept_scaling=1, l1_ratio=None, max_iter=100,\n",
              "                   multi_class='auto', n_jobs=None, penalty='l2',\n",
              "                   random_state=None, solver='lbfgs', tol=0.0001, verbose=0,\n",
              "                   warm_start=False)"
            ]
          },
          "metadata": {
            "tags": []
          },
          "execution_count": 52
        }
      ]
    },
    {
      "cell_type": "markdown",
      "metadata": {
        "id": "6AfzABIKaiH_"
      },
      "source": [
        "**5. Mengakses properti untuk melihat koefisien kemiringan dan perpotongan y dari garis yang cocok**"
      ]
    },
    {
      "cell_type": "code",
      "metadata": {
        "colab": {
          "base_uri": "https://localhost:8080/"
        },
        "id": "CFhl5D6pajn5",
        "outputId": "58608629-6cff-46b0-fd63-224989b849cb"
      },
      "source": [
        "print(lr.coef_)\r\n",
        "print(lr.intercept_)"
      ],
      "execution_count": null,
      "outputs": [
        {
          "output_type": "stream",
          "text": [
            "[[2.98641834]]\n",
            "[-0.1394594]\n"
          ],
          "name": "stdout"
        }
      ]
    },
    {
      "cell_type": "markdown",
      "metadata": {
        "id": "eHF_aliOatU8"
      },
      "source": [
        "**6. Performa model terhadap data yang belum dilatih**"
      ]
    },
    {
      "cell_type": "code",
      "metadata": {
        "id": "St3nvBeDayfq"
      },
      "source": [
        "y_pred = lr.predict(x_test)"
      ],
      "execution_count": null,
      "outputs": []
    },
    {
      "cell_type": "markdown",
      "metadata": {
        "id": "Xw4hSap_a2uh"
      },
      "source": [
        "**7. Menggunakan confusion matrix untuk mengukur akurasi model**"
      ]
    },
    {
      "cell_type": "code",
      "metadata": {
        "colab": {
          "base_uri": "https://localhost:8080/"
        },
        "id": "GCeVJ1I1a31B",
        "outputId": "b04a9d76-c16e-41f3-b919-cd6e13d5e6d2"
      },
      "source": [
        "confusion_matrix(y_test, y_pred)"
      ],
      "execution_count": null,
      "outputs": [
        {
          "output_type": "execute_result",
          "data": {
            "text/plain": [
              "array([[ 8,  1],\n",
              "       [ 0, 16]])"
            ]
          },
          "metadata": {
            "tags": []
          },
          "execution_count": 55
        }
      ]
    },
    {
      "cell_type": "markdown",
      "metadata": {
        "id": "vln20rjXa_6p"
      },
      "source": [
        "**8. Memeriksa probabilitas sebenarnya bahwa titik data termasuk dalam kelas tertentu, yang dapat menggunakan fungsi predict_proba**"
      ]
    },
    {
      "cell_type": "code",
      "metadata": {
        "colab": {
          "base_uri": "https://localhost:8080/"
        },
        "id": "bJegsLqSbDDA",
        "outputId": "19f34fe6-c110-41b9-a3dc-ff1e7496d6c4"
      },
      "source": [
        "lr.predict_proba(x_test)"
      ],
      "execution_count": null,
      "outputs": [
        {
          "output_type": "execute_result",
          "data": {
            "text/plain": [
              "array([[0.07797155, 0.92202845],\n",
              "       [0.03815599, 0.96184401],\n",
              "       [0.96732442, 0.03267558],\n",
              "       [0.96637797, 0.03362203],\n",
              "       [0.12168743, 0.87831257],\n",
              "       [0.0478415 , 0.9521585 ],\n",
              "       [0.06673831, 0.93326169],\n",
              "       [0.043495  , 0.956505  ],\n",
              "       [0.03269739, 0.96730261],\n",
              "       [0.934631  , 0.065369  ],\n",
              "       [0.0815041 , 0.9184959 ],\n",
              "       [0.11058668, 0.88941332],\n",
              "       [0.97923435, 0.02076565],\n",
              "       [0.04095889, 0.95904111],\n",
              "       [0.01969763, 0.98030237],\n",
              "       [0.98438822, 0.01561178],\n",
              "       [0.05091472, 0.94908528],\n",
              "       [0.03754832, 0.96245168],\n",
              "       [0.06855044, 0.93144956],\n",
              "       [0.05430112, 0.94569888],\n",
              "       [0.98607074, 0.01392926],\n",
              "       [0.95902564, 0.04097436],\n",
              "       [0.04017901, 0.95982099],\n",
              "       [0.99401008, 0.00598992],\n",
              "       [0.03934459, 0.96065541]])"
            ]
          },
          "metadata": {
            "tags": []
          },
          "execution_count": 56
        }
      ]
    },
    {
      "cell_type": "markdown",
      "metadata": {
        "id": "0RXzvT0ibexX"
      },
      "source": [
        "Kolom pertama menunjukkan probabilitas bahwa sampel termasuk dalam kelas pertama dan kolom kedua menunjukkan probabilitas sampel termasuk dalam kelas kedua"
      ]
    },
    {
      "cell_type": "markdown",
      "metadata": {
        "id": "T5HOHOIkbwIS"
      },
      "source": [
        "**9. Sebelum mencoba fungsi Sigmoid, membuat dan mengurutkan DataFrame yang berisi data pengujian kami**"
      ]
    },
    {
      "cell_type": "code",
      "metadata": {
        "colab": {
          "base_uri": "https://localhost:8080/",
          "height": 286
        },
        "id": "g6xror8_bxGF",
        "outputId": "d5c139d2-bd7c-4b9d-e6ce-5d100bba17d9"
      },
      "source": [
        "df = pd.DataFrame({'x': x_test[:,0], 'y': y_test})\r\n",
        "df = df.sort_values(by='x')\r\n",
        "from scipy.special import expit\r\n",
        "sigmoid_function = expit(df['x'] * lr.coef_[0][0] + lr.intercept_[0]).ravel()\r\n",
        "plt.plot(df['x'], sigmoid_function)\r\n",
        "plt.scatter(df['x'], df['y'], c=df['y'], cmap='rainbow', edgecolors='b')"
      ],
      "execution_count": null,
      "outputs": [
        {
          "output_type": "execute_result",
          "data": {
            "text/plain": [
              "<matplotlib.collections.PathCollection at 0x7f27d1edc748>"
            ]
          },
          "metadata": {
            "tags": []
          },
          "execution_count": 58
        },
        {
          "output_type": "display_data",
          "data": {
            "image/png": "[encoded data removed]",
            "text/plain": [
              "<Figure size 432x288 with 1 Axes>"
            ]
          },
          "metadata": {
            "tags": []
          }
        }
      ]
    },
    {
      "cell_type": "code",
      "metadata": {
        "id": "lAvvn1Pkb0Yp"
      },
      "source": [
        ""
      ],
      "execution_count": null,
      "outputs": []
    }
  ]
}