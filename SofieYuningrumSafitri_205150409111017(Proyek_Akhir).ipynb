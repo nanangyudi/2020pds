{
  "nbformat": 4,
  "nbformat_minor": 0,
  "metadata": {
    "colab": {
      "name": "SofieYuningrumSafitri_205150409111017(Proyek Akhir).ipynb",
      "provenance": [],
      "collapsed_sections": [],
      "include_colab_link": true
    },
    "kernelspec": {
      "name": "python3",
      "display_name": "Python 3"
    }
  },
  "cells": [
    {
      "cell_type": "markdown",
      "metadata": {
        "id": "view-in-github",
        "colab_type": "text"
      },
      "source": [
        "<a href=\"https://colab.research.google.com/github/nanangyudi/2020pds_d/blob/main/SofieYuningrumSafitri_205150409111017(Proyek_Akhir).ipynb\" target=\"_parent\"><img src=\"https://colab.research.google.com/assets/colab-badge.svg\" alt=\"Open In Colab\"/></a>"
      ]
    },
    {
      "cell_type": "markdown",
      "metadata": {
        "id": "JmW1u-9auqIX"
      },
      "source": [
        "> **Deskripsi Tujuan Bisnis**\n",
        "\n",
        "Pengolahan data ini bertujuan untuk memprediksi perfomance karyawan\n",
        "\n",
        "\n"
      ]
    },
    {
      "cell_type": "markdown",
      "metadata": {
        "id": "xI2rU_CZwd8d"
      },
      "source": [
        "> **Analisa Pendekatan**\n",
        "\n",
        "Dalam analisis ini peneliti menggunakan metode EDA (Exploratory Data Analysis). EDA merupakan metode eksplorasi data dengan menggunakan teknik aritmatika sederhana dan teknik grafis dalam meringkas data pengamatan.\n",
        "\n",
        "\n"
      ]
    },
    {
      "cell_type": "markdown",
      "metadata": {
        "id": "4kUNgCUQwwPc"
      },
      "source": [
        "\n",
        "\n",
        "> **Pengumpulan Data**\n",
        "\n",
        "Dalam tahap pengumpulan data disini menggunakan dataset yang diambil dari https://www.kaggle.com/rhuebner/human-resources-data-set yang berjudul Human Resources Data Set, dengan ukuran file sebesar 75.06 KB\n",
        "\n"
      ]
    },
    {
      "cell_type": "markdown",
      "metadata": {
        "id": "gzPzZ8jwxQZ2"
      },
      "source": [
        "> **Pemahaman Terhadap Data Yang Telah Dikumpulkan**\n",
        "\n",
        "Dataset yang berjudul Human Resources Data Set ini berisikan data karyawan pada sebuah perusahaan. Data ini terdiri dari Employee Name, Employee ID, Married ID, Marital Status, Gender ID, EmpStatus ID, Department ID, PerfScore, From Diversity JobFair ID, Salary, TermD, Position ID, Position, State, ZIP, DOB, Sex, Marital Description, CitizenDesc, HispanicLatino, RaceDesc, DateofHire, TermReason, EmploymentStatus, Department, ManagerName, ManagerID, RecruitmentSource, PerformanceScore, EngagementSurvey, EmpSatisfaction, SpecialProjectsCount, LastPerformanceReview_Date, DaysLateLast30, Absences"
      ]
    },
    {
      "cell_type": "markdown",
      "metadata": {
        "id": "qm-jh-dMymki"
      },
      "source": [
        "\n",
        "\n",
        "> **Eksplorasi Data**\n",
        "\n",
        "Library yang digunakan dalam explorasi data adalah pandas, Matpolib, dan Seaborn"
      ]
    },
    {
      "cell_type": "markdown",
      "metadata": {
        "id": "jQfe4o7IzGvA"
      },
      "source": [
        "\n",
        "\n",
        "### **Eksplorasi Data**\n",
        "\n"
      ]
    },
    {
      "cell_type": "markdown",
      "metadata": {
        "id": "rfmhTFx6TqcR"
      },
      "source": [
        "**Import library yang akan digunakan menjalankan project ini**"
      ]
    },
    {
      "cell_type": "code",
      "metadata": {
        "id": "H_eF9RZZMqG8"
      },
      "source": [
        "import pandas as pd \n",
        "pd.set_option('display.max_columns', None)\n",
        "import numpy as np \n",
        "import re"
      ],
      "execution_count": null,
      "outputs": []
    },
    {
      "cell_type": "markdown",
      "metadata": {
        "id": "Xf7b2L5EUDkK"
      },
      "source": [
        "**Membaca data dari github dan simpan pada variable bernama data**"
      ]
    },
    {
      "cell_type": "code",
      "metadata": {
        "colab": {
          "base_uri": "https://localhost:8080/"
        },
        "id": "PXZSG2qeMXR0",
        "outputId": "908fed7c-0d89-4b92-a2ca-d367558e04e4"
      },
      "source": [
        "url = 'https://raw.githubusercontent.com/sofiesafitri/data/main/HRDataset_v14.csv'\n",
        "data = pd.read_csv(url, error_bad_lines=False)\n",
        "print(\"read dataset in dataframe!\")\n"
      ],
      "execution_count": null,
      "outputs": [
        {
          "output_type": "stream",
          "text": [
            "read dataset in dataframe!\n"
          ],
          "name": "stdout"
        }
      ]
    },
    {
      "cell_type": "markdown",
      "metadata": {
        "id": "o2faQSkvUPjc"
      },
      "source": [
        "**Menampilkan data dari file**"
      ]
    },
    {
      "cell_type": "code",
      "metadata": {
        "colab": {
          "base_uri": "https://localhost:8080/",
          "height": 668
        },
        "id": "ZZzGGaX9QB1s",
        "outputId": "e9917d24-978b-4edb-cf24-f330cf9525bf"
      },
      "source": [
        "data.head(10)"
      ],
      "execution_count": null,
      "outputs": [
        {
          "output_type": "execute_result",
          "data": {
            "text/html": [
              "<div>\n",
              "<style scoped>\n",
              "    .dataframe tbody tr th:only-of-type {\n",
              "        vertical-align: middle;\n",
              "    }\n",
              "\n",
              "    .dataframe tbody tr th {\n",
              "        vertical-align: top;\n",
              "    }\n",
              "\n",
              "    .dataframe thead th {\n",
              "        text-align: right;\n",
              "    }\n",
              "</style>\n",
              "<table border=\"1\" class=\"dataframe\">\n",
              "  <thead>\n",
              "    <tr style=\"text-align: right;\">\n",
              "      <th></th>\n",
              "      <th>Employee_Name</th>\n",
              "      <th>EmpID</th>\n",
              "      <th>MarriedID</th>\n",
              "      <th>MaritalStatusID</th>\n",
              "      <th>GenderID</th>\n",
              "      <th>EmpStatusID</th>\n",
              "      <th>DeptID</th>\n",
              "      <th>PerfScoreID</th>\n",
              "      <th>FromDiversityJobFairID</th>\n",
              "      <th>Salary</th>\n",
              "      <th>Termd</th>\n",
              "      <th>PositionID</th>\n",
              "      <th>Position</th>\n",
              "      <th>State</th>\n",
              "      <th>Zip</th>\n",
              "      <th>DOB</th>\n",
              "      <th>Sex</th>\n",
              "      <th>MaritalDesc</th>\n",
              "      <th>CitizenDesc</th>\n",
              "      <th>HispanicLatino</th>\n",
              "      <th>RaceDesc</th>\n",
              "      <th>DateofHire</th>\n",
              "      <th>DateofTermination</th>\n",
              "      <th>TermReason</th>\n",
              "      <th>EmploymentStatus</th>\n",
              "      <th>Department</th>\n",
              "      <th>ManagerName</th>\n",
              "      <th>ManagerID</th>\n",
              "      <th>RecruitmentSource</th>\n",
              "      <th>PerformanceScore</th>\n",
              "      <th>EngagementSurvey</th>\n",
              "      <th>EmpSatisfaction</th>\n",
              "      <th>SpecialProjectsCount</th>\n",
              "      <th>LastPerformanceReview_Date</th>\n",
              "      <th>DaysLateLast30</th>\n",
              "      <th>Absences</th>\n",
              "    </tr>\n",
              "  </thead>\n",
              "  <tbody>\n",
              "    <tr>\n",
              "      <th>0</th>\n",
              "      <td>Adinolfi, Wilson  K</td>\n",
              "      <td>10026</td>\n",
              "      <td>0</td>\n",
              "      <td>0</td>\n",
              "      <td>1</td>\n",
              "      <td>1</td>\n",
              "      <td>5</td>\n",
              "      <td>4</td>\n",
              "      <td>0</td>\n",
              "      <td>62506</td>\n",
              "      <td>0</td>\n",
              "      <td>19</td>\n",
              "      <td>Production Technician I</td>\n",
              "      <td>MA</td>\n",
              "      <td>1960</td>\n",
              "      <td>07/10/83</td>\n",
              "      <td>M</td>\n",
              "      <td>Single</td>\n",
              "      <td>US Citizen</td>\n",
              "      <td>No</td>\n",
              "      <td>White</td>\n",
              "      <td>7/5/2011</td>\n",
              "      <td>NaN</td>\n",
              "      <td>N/A-StillEmployed</td>\n",
              "      <td>Active</td>\n",
              "      <td>Production</td>\n",
              "      <td>Michael Albert</td>\n",
              "      <td>22.0</td>\n",
              "      <td>LinkedIn</td>\n",
              "      <td>Exceeds</td>\n",
              "      <td>4.60</td>\n",
              "      <td>5</td>\n",
              "      <td>0</td>\n",
              "      <td>1/17/2019</td>\n",
              "      <td>0</td>\n",
              "      <td>1</td>\n",
              "    </tr>\n",
              "    <tr>\n",
              "      <th>1</th>\n",
              "      <td>Ait Sidi, Karthikeyan</td>\n",
              "      <td>10084</td>\n",
              "      <td>1</td>\n",
              "      <td>1</td>\n",
              "      <td>1</td>\n",
              "      <td>5</td>\n",
              "      <td>3</td>\n",
              "      <td>3</td>\n",
              "      <td>0</td>\n",
              "      <td>104437</td>\n",
              "      <td>1</td>\n",
              "      <td>27</td>\n",
              "      <td>Sr. DBA</td>\n",
              "      <td>MA</td>\n",
              "      <td>2148</td>\n",
              "      <td>05/05/75</td>\n",
              "      <td>M</td>\n",
              "      <td>Married</td>\n",
              "      <td>US Citizen</td>\n",
              "      <td>No</td>\n",
              "      <td>White</td>\n",
              "      <td>3/30/2015</td>\n",
              "      <td>6/16/2016</td>\n",
              "      <td>career change</td>\n",
              "      <td>Voluntarily Terminated</td>\n",
              "      <td>IT/IS</td>\n",
              "      <td>Simon Roup</td>\n",
              "      <td>4.0</td>\n",
              "      <td>Indeed</td>\n",
              "      <td>Fully Meets</td>\n",
              "      <td>4.96</td>\n",
              "      <td>3</td>\n",
              "      <td>6</td>\n",
              "      <td>2/24/2016</td>\n",
              "      <td>0</td>\n",
              "      <td>17</td>\n",
              "    </tr>\n",
              "    <tr>\n",
              "      <th>2</th>\n",
              "      <td>Akinkuolie, Sarah</td>\n",
              "      <td>10196</td>\n",
              "      <td>1</td>\n",
              "      <td>1</td>\n",
              "      <td>0</td>\n",
              "      <td>5</td>\n",
              "      <td>5</td>\n",
              "      <td>3</td>\n",
              "      <td>0</td>\n",
              "      <td>64955</td>\n",
              "      <td>1</td>\n",
              "      <td>20</td>\n",
              "      <td>Production Technician II</td>\n",
              "      <td>MA</td>\n",
              "      <td>1810</td>\n",
              "      <td>09/19/88</td>\n",
              "      <td>F</td>\n",
              "      <td>Married</td>\n",
              "      <td>US Citizen</td>\n",
              "      <td>No</td>\n",
              "      <td>White</td>\n",
              "      <td>7/5/2011</td>\n",
              "      <td>9/24/2012</td>\n",
              "      <td>hours</td>\n",
              "      <td>Voluntarily Terminated</td>\n",
              "      <td>Production</td>\n",
              "      <td>Kissy Sullivan</td>\n",
              "      <td>20.0</td>\n",
              "      <td>LinkedIn</td>\n",
              "      <td>Fully Meets</td>\n",
              "      <td>3.02</td>\n",
              "      <td>3</td>\n",
              "      <td>0</td>\n",
              "      <td>5/15/2012</td>\n",
              "      <td>0</td>\n",
              "      <td>3</td>\n",
              "    </tr>\n",
              "    <tr>\n",
              "      <th>3</th>\n",
              "      <td>Alagbe,Trina</td>\n",
              "      <td>10088</td>\n",
              "      <td>1</td>\n",
              "      <td>1</td>\n",
              "      <td>0</td>\n",
              "      <td>1</td>\n",
              "      <td>5</td>\n",
              "      <td>3</td>\n",
              "      <td>0</td>\n",
              "      <td>64991</td>\n",
              "      <td>0</td>\n",
              "      <td>19</td>\n",
              "      <td>Production Technician I</td>\n",
              "      <td>MA</td>\n",
              "      <td>1886</td>\n",
              "      <td>09/27/88</td>\n",
              "      <td>F</td>\n",
              "      <td>Married</td>\n",
              "      <td>US Citizen</td>\n",
              "      <td>No</td>\n",
              "      <td>White</td>\n",
              "      <td>1/7/2008</td>\n",
              "      <td>NaN</td>\n",
              "      <td>N/A-StillEmployed</td>\n",
              "      <td>Active</td>\n",
              "      <td>Production</td>\n",
              "      <td>Elijiah Gray</td>\n",
              "      <td>16.0</td>\n",
              "      <td>Indeed</td>\n",
              "      <td>Fully Meets</td>\n",
              "      <td>4.84</td>\n",
              "      <td>5</td>\n",
              "      <td>0</td>\n",
              "      <td>1/3/2019</td>\n",
              "      <td>0</td>\n",
              "      <td>15</td>\n",
              "    </tr>\n",
              "    <tr>\n",
              "      <th>4</th>\n",
              "      <td>Anderson, Carol</td>\n",
              "      <td>10069</td>\n",
              "      <td>0</td>\n",
              "      <td>2</td>\n",
              "      <td>0</td>\n",
              "      <td>5</td>\n",
              "      <td>5</td>\n",
              "      <td>3</td>\n",
              "      <td>0</td>\n",
              "      <td>50825</td>\n",
              "      <td>1</td>\n",
              "      <td>19</td>\n",
              "      <td>Production Technician I</td>\n",
              "      <td>MA</td>\n",
              "      <td>2169</td>\n",
              "      <td>09/08/89</td>\n",
              "      <td>F</td>\n",
              "      <td>Divorced</td>\n",
              "      <td>US Citizen</td>\n",
              "      <td>No</td>\n",
              "      <td>White</td>\n",
              "      <td>7/11/2011</td>\n",
              "      <td>9/6/2016</td>\n",
              "      <td>return to school</td>\n",
              "      <td>Voluntarily Terminated</td>\n",
              "      <td>Production</td>\n",
              "      <td>Webster Butler</td>\n",
              "      <td>39.0</td>\n",
              "      <td>Google Search</td>\n",
              "      <td>Fully Meets</td>\n",
              "      <td>5.00</td>\n",
              "      <td>4</td>\n",
              "      <td>0</td>\n",
              "      <td>2/1/2016</td>\n",
              "      <td>0</td>\n",
              "      <td>2</td>\n",
              "    </tr>\n",
              "    <tr>\n",
              "      <th>5</th>\n",
              "      <td>Anderson, Linda</td>\n",
              "      <td>10002</td>\n",
              "      <td>0</td>\n",
              "      <td>0</td>\n",
              "      <td>0</td>\n",
              "      <td>1</td>\n",
              "      <td>5</td>\n",
              "      <td>4</td>\n",
              "      <td>0</td>\n",
              "      <td>57568</td>\n",
              "      <td>0</td>\n",
              "      <td>19</td>\n",
              "      <td>Production Technician I</td>\n",
              "      <td>MA</td>\n",
              "      <td>1844</td>\n",
              "      <td>05/22/77</td>\n",
              "      <td>F</td>\n",
              "      <td>Single</td>\n",
              "      <td>US Citizen</td>\n",
              "      <td>No</td>\n",
              "      <td>White</td>\n",
              "      <td>1/9/2012</td>\n",
              "      <td>NaN</td>\n",
              "      <td>N/A-StillEmployed</td>\n",
              "      <td>Active</td>\n",
              "      <td>Production</td>\n",
              "      <td>Amy Dunn</td>\n",
              "      <td>11.0</td>\n",
              "      <td>LinkedIn</td>\n",
              "      <td>Exceeds</td>\n",
              "      <td>5.00</td>\n",
              "      <td>5</td>\n",
              "      <td>0</td>\n",
              "      <td>1/7/2019</td>\n",
              "      <td>0</td>\n",
              "      <td>15</td>\n",
              "    </tr>\n",
              "    <tr>\n",
              "      <th>6</th>\n",
              "      <td>Andreola, Colby</td>\n",
              "      <td>10194</td>\n",
              "      <td>0</td>\n",
              "      <td>0</td>\n",
              "      <td>0</td>\n",
              "      <td>1</td>\n",
              "      <td>4</td>\n",
              "      <td>3</td>\n",
              "      <td>0</td>\n",
              "      <td>95660</td>\n",
              "      <td>0</td>\n",
              "      <td>24</td>\n",
              "      <td>Software Engineer</td>\n",
              "      <td>MA</td>\n",
              "      <td>2110</td>\n",
              "      <td>05/24/79</td>\n",
              "      <td>F</td>\n",
              "      <td>Single</td>\n",
              "      <td>US Citizen</td>\n",
              "      <td>No</td>\n",
              "      <td>White</td>\n",
              "      <td>11/10/2014</td>\n",
              "      <td>NaN</td>\n",
              "      <td>N/A-StillEmployed</td>\n",
              "      <td>Active</td>\n",
              "      <td>Software Engineering</td>\n",
              "      <td>Alex Sweetwater</td>\n",
              "      <td>10.0</td>\n",
              "      <td>LinkedIn</td>\n",
              "      <td>Fully Meets</td>\n",
              "      <td>3.04</td>\n",
              "      <td>3</td>\n",
              "      <td>4</td>\n",
              "      <td>1/2/2019</td>\n",
              "      <td>0</td>\n",
              "      <td>19</td>\n",
              "    </tr>\n",
              "    <tr>\n",
              "      <th>7</th>\n",
              "      <td>Athwal, Sam</td>\n",
              "      <td>10062</td>\n",
              "      <td>0</td>\n",
              "      <td>4</td>\n",
              "      <td>1</td>\n",
              "      <td>1</td>\n",
              "      <td>5</td>\n",
              "      <td>3</td>\n",
              "      <td>0</td>\n",
              "      <td>59365</td>\n",
              "      <td>0</td>\n",
              "      <td>19</td>\n",
              "      <td>Production Technician I</td>\n",
              "      <td>MA</td>\n",
              "      <td>2199</td>\n",
              "      <td>02/18/83</td>\n",
              "      <td>M</td>\n",
              "      <td>Widowed</td>\n",
              "      <td>US Citizen</td>\n",
              "      <td>No</td>\n",
              "      <td>White</td>\n",
              "      <td>9/30/2013</td>\n",
              "      <td>NaN</td>\n",
              "      <td>N/A-StillEmployed</td>\n",
              "      <td>Active</td>\n",
              "      <td>Production</td>\n",
              "      <td>Ketsia Liebig</td>\n",
              "      <td>19.0</td>\n",
              "      <td>Employee Referral</td>\n",
              "      <td>Fully Meets</td>\n",
              "      <td>5.00</td>\n",
              "      <td>4</td>\n",
              "      <td>0</td>\n",
              "      <td>2/25/2019</td>\n",
              "      <td>0</td>\n",
              "      <td>19</td>\n",
              "    </tr>\n",
              "    <tr>\n",
              "      <th>8</th>\n",
              "      <td>Bachiochi, Linda</td>\n",
              "      <td>10114</td>\n",
              "      <td>0</td>\n",
              "      <td>0</td>\n",
              "      <td>0</td>\n",
              "      <td>3</td>\n",
              "      <td>5</td>\n",
              "      <td>3</td>\n",
              "      <td>1</td>\n",
              "      <td>47837</td>\n",
              "      <td>0</td>\n",
              "      <td>19</td>\n",
              "      <td>Production Technician I</td>\n",
              "      <td>MA</td>\n",
              "      <td>1902</td>\n",
              "      <td>02/11/70</td>\n",
              "      <td>F</td>\n",
              "      <td>Single</td>\n",
              "      <td>US Citizen</td>\n",
              "      <td>No</td>\n",
              "      <td>Black or African American</td>\n",
              "      <td>7/6/2009</td>\n",
              "      <td>NaN</td>\n",
              "      <td>N/A-StillEmployed</td>\n",
              "      <td>Active</td>\n",
              "      <td>Production</td>\n",
              "      <td>Brannon Miller</td>\n",
              "      <td>12.0</td>\n",
              "      <td>Diversity Job Fair</td>\n",
              "      <td>Fully Meets</td>\n",
              "      <td>4.46</td>\n",
              "      <td>3</td>\n",
              "      <td>0</td>\n",
              "      <td>1/25/2019</td>\n",
              "      <td>0</td>\n",
              "      <td>4</td>\n",
              "    </tr>\n",
              "    <tr>\n",
              "      <th>9</th>\n",
              "      <td>Bacong, Alejandro</td>\n",
              "      <td>10250</td>\n",
              "      <td>0</td>\n",
              "      <td>2</td>\n",
              "      <td>1</td>\n",
              "      <td>1</td>\n",
              "      <td>3</td>\n",
              "      <td>3</td>\n",
              "      <td>0</td>\n",
              "      <td>50178</td>\n",
              "      <td>0</td>\n",
              "      <td>14</td>\n",
              "      <td>IT Support</td>\n",
              "      <td>MA</td>\n",
              "      <td>1886</td>\n",
              "      <td>01/07/88</td>\n",
              "      <td>M</td>\n",
              "      <td>Divorced</td>\n",
              "      <td>US Citizen</td>\n",
              "      <td>No</td>\n",
              "      <td>White</td>\n",
              "      <td>1/5/2015</td>\n",
              "      <td>NaN</td>\n",
              "      <td>N/A-StillEmployed</td>\n",
              "      <td>Active</td>\n",
              "      <td>IT/IS</td>\n",
              "      <td>Peter Monroe</td>\n",
              "      <td>7.0</td>\n",
              "      <td>Indeed</td>\n",
              "      <td>Fully Meets</td>\n",
              "      <td>5.00</td>\n",
              "      <td>5</td>\n",
              "      <td>6</td>\n",
              "      <td>2/18/2019</td>\n",
              "      <td>0</td>\n",
              "      <td>16</td>\n",
              "    </tr>\n",
              "  </tbody>\n",
              "</table>\n",
              "</div>"
            ],
            "text/plain": [
              "              Employee_Name  EmpID  MarriedID  MaritalStatusID  GenderID  \\\n",
              "0       Adinolfi, Wilson  K  10026          0                0         1   \n",
              "1  Ait Sidi, Karthikeyan     10084          1                1         1   \n",
              "2         Akinkuolie, Sarah  10196          1                1         0   \n",
              "3              Alagbe,Trina  10088          1                1         0   \n",
              "4          Anderson, Carol   10069          0                2         0   \n",
              "5         Anderson, Linda    10002          0                0         0   \n",
              "6           Andreola, Colby  10194          0                0         0   \n",
              "7               Athwal, Sam  10062          0                4         1   \n",
              "8          Bachiochi, Linda  10114          0                0         0   \n",
              "9        Bacong, Alejandro   10250          0                2         1   \n",
              "\n",
              "   EmpStatusID  DeptID  PerfScoreID  FromDiversityJobFairID  Salary  Termd  \\\n",
              "0            1       5            4                       0   62506      0   \n",
              "1            5       3            3                       0  104437      1   \n",
              "2            5       5            3                       0   64955      1   \n",
              "3            1       5            3                       0   64991      0   \n",
              "4            5       5            3                       0   50825      1   \n",
              "5            1       5            4                       0   57568      0   \n",
              "6            1       4            3                       0   95660      0   \n",
              "7            1       5            3                       0   59365      0   \n",
              "8            3       5            3                       1   47837      0   \n",
              "9            1       3            3                       0   50178      0   \n",
              "\n",
              "   PositionID                  Position State   Zip       DOB Sex MaritalDesc  \\\n",
              "0          19   Production Technician I    MA  1960  07/10/83  M       Single   \n",
              "1          27                   Sr. DBA    MA  2148  05/05/75  M      Married   \n",
              "2          20  Production Technician II    MA  1810  09/19/88   F     Married   \n",
              "3          19   Production Technician I    MA  1886  09/27/88   F     Married   \n",
              "4          19   Production Technician I    MA  2169  09/08/89   F    Divorced   \n",
              "5          19   Production Technician I    MA  1844  05/22/77   F      Single   \n",
              "6          24         Software Engineer    MA  2110  05/24/79   F      Single   \n",
              "7          19   Production Technician I    MA  2199  02/18/83  M      Widowed   \n",
              "8          19   Production Technician I    MA  1902  02/11/70   F      Single   \n",
              "9          14                IT Support    MA  1886  01/07/88  M     Divorced   \n",
              "\n",
              "  CitizenDesc HispanicLatino                   RaceDesc  DateofHire  \\\n",
              "0  US Citizen             No                      White    7/5/2011   \n",
              "1  US Citizen             No                      White   3/30/2015   \n",
              "2  US Citizen             No                      White    7/5/2011   \n",
              "3  US Citizen             No                      White    1/7/2008   \n",
              "4  US Citizen             No                      White   7/11/2011   \n",
              "5  US Citizen             No                      White    1/9/2012   \n",
              "6  US Citizen             No                      White  11/10/2014   \n",
              "7  US Citizen             No                      White   9/30/2013   \n",
              "8  US Citizen             No  Black or African American    7/6/2009   \n",
              "9  US Citizen             No                      White    1/5/2015   \n",
              "\n",
              "  DateofTermination         TermReason        EmploymentStatus  \\\n",
              "0               NaN  N/A-StillEmployed                  Active   \n",
              "1         6/16/2016      career change  Voluntarily Terminated   \n",
              "2         9/24/2012              hours  Voluntarily Terminated   \n",
              "3               NaN  N/A-StillEmployed                  Active   \n",
              "4          9/6/2016   return to school  Voluntarily Terminated   \n",
              "5               NaN  N/A-StillEmployed                  Active   \n",
              "6               NaN  N/A-StillEmployed                  Active   \n",
              "7               NaN  N/A-StillEmployed                  Active   \n",
              "8               NaN  N/A-StillEmployed                  Active   \n",
              "9               NaN  N/A-StillEmployed                  Active   \n",
              "\n",
              "             Department      ManagerName  ManagerID   RecruitmentSource  \\\n",
              "0     Production          Michael Albert       22.0            LinkedIn   \n",
              "1                 IT/IS       Simon Roup        4.0              Indeed   \n",
              "2     Production          Kissy Sullivan       20.0            LinkedIn   \n",
              "3     Production            Elijiah Gray       16.0              Indeed   \n",
              "4     Production          Webster Butler       39.0       Google Search   \n",
              "5     Production                Amy Dunn       11.0            LinkedIn   \n",
              "6  Software Engineering  Alex Sweetwater       10.0            LinkedIn   \n",
              "7     Production           Ketsia Liebig       19.0   Employee Referral   \n",
              "8     Production          Brannon Miller       12.0  Diversity Job Fair   \n",
              "9                 IT/IS     Peter Monroe        7.0              Indeed   \n",
              "\n",
              "  PerformanceScore  EngagementSurvey  EmpSatisfaction  SpecialProjectsCount  \\\n",
              "0          Exceeds              4.60                5                     0   \n",
              "1      Fully Meets              4.96                3                     6   \n",
              "2      Fully Meets              3.02                3                     0   \n",
              "3      Fully Meets              4.84                5                     0   \n",
              "4      Fully Meets              5.00                4                     0   \n",
              "5          Exceeds              5.00                5                     0   \n",
              "6      Fully Meets              3.04                3                     4   \n",
              "7      Fully Meets              5.00                4                     0   \n",
              "8      Fully Meets              4.46                3                     0   \n",
              "9      Fully Meets              5.00                5                     6   \n",
              "\n",
              "  LastPerformanceReview_Date  DaysLateLast30  Absences  \n",
              "0                  1/17/2019               0         1  \n",
              "1                  2/24/2016               0        17  \n",
              "2                  5/15/2012               0         3  \n",
              "3                   1/3/2019               0        15  \n",
              "4                   2/1/2016               0         2  \n",
              "5                   1/7/2019               0        15  \n",
              "6                   1/2/2019               0        19  \n",
              "7                  2/25/2019               0        19  \n",
              "8                  1/25/2019               0         4  \n",
              "9                  2/18/2019               0        16  "
            ]
          },
          "metadata": {
            "tags": []
          },
          "execution_count": 20
        }
      ]
    },
    {
      "cell_type": "markdown",
      "metadata": {
        "id": "7cp3GHJzOs56"
      },
      "source": [
        "**Mendeskipsikan data dari file. Terdiri dari count,mean,std,min,25%,50%,75%, dan max**"
      ]
    },
    {
      "cell_type": "code",
      "metadata": {
        "colab": {
          "base_uri": "https://localhost:8080/",
          "height": 317
        },
        "id": "BKTnSKm7OlpG",
        "outputId": "5887ab75-b7ad-4ad1-84f9-fe7da029fce8"
      },
      "source": [
        "data.describe()"
      ],
      "execution_count": null,
      "outputs": [
        {
          "output_type": "execute_result",
          "data": {
            "text/html": [
              "<div>\n",
              "<style scoped>\n",
              "    .dataframe tbody tr th:only-of-type {\n",
              "        vertical-align: middle;\n",
              "    }\n",
              "\n",
              "    .dataframe tbody tr th {\n",
              "        vertical-align: top;\n",
              "    }\n",
              "\n",
              "    .dataframe thead th {\n",
              "        text-align: right;\n",
              "    }\n",
              "</style>\n",
              "<table border=\"1\" class=\"dataframe\">\n",
              "  <thead>\n",
              "    <tr style=\"text-align: right;\">\n",
              "      <th></th>\n",
              "      <th>EmpID</th>\n",
              "      <th>MarriedID</th>\n",
              "      <th>MaritalStatusID</th>\n",
              "      <th>GenderID</th>\n",
              "      <th>EmpStatusID</th>\n",
              "      <th>DeptID</th>\n",
              "      <th>PerfScoreID</th>\n",
              "      <th>FromDiversityJobFairID</th>\n",
              "      <th>Salary</th>\n",
              "      <th>Termd</th>\n",
              "      <th>PositionID</th>\n",
              "      <th>Zip</th>\n",
              "      <th>ManagerID</th>\n",
              "      <th>EngagementSurvey</th>\n",
              "      <th>EmpSatisfaction</th>\n",
              "      <th>SpecialProjectsCount</th>\n",
              "      <th>DaysLateLast30</th>\n",
              "      <th>Absences</th>\n",
              "    </tr>\n",
              "  </thead>\n",
              "  <tbody>\n",
              "    <tr>\n",
              "      <th>count</th>\n",
              "      <td>311.000000</td>\n",
              "      <td>311.000000</td>\n",
              "      <td>311.000000</td>\n",
              "      <td>311.000000</td>\n",
              "      <td>311.000000</td>\n",
              "      <td>311.000000</td>\n",
              "      <td>311.000000</td>\n",
              "      <td>311.000000</td>\n",
              "      <td>311.000000</td>\n",
              "      <td>311.000000</td>\n",
              "      <td>311.000000</td>\n",
              "      <td>311.000000</td>\n",
              "      <td>303.000000</td>\n",
              "      <td>311.000000</td>\n",
              "      <td>311.000000</td>\n",
              "      <td>311.000000</td>\n",
              "      <td>311.000000</td>\n",
              "      <td>311.000000</td>\n",
              "    </tr>\n",
              "    <tr>\n",
              "      <th>mean</th>\n",
              "      <td>10156.000000</td>\n",
              "      <td>0.398714</td>\n",
              "      <td>0.810289</td>\n",
              "      <td>0.434084</td>\n",
              "      <td>2.392283</td>\n",
              "      <td>4.610932</td>\n",
              "      <td>2.977492</td>\n",
              "      <td>0.093248</td>\n",
              "      <td>69020.684887</td>\n",
              "      <td>0.334405</td>\n",
              "      <td>16.845659</td>\n",
              "      <td>6555.482315</td>\n",
              "      <td>14.570957</td>\n",
              "      <td>4.110000</td>\n",
              "      <td>3.890675</td>\n",
              "      <td>1.218650</td>\n",
              "      <td>0.414791</td>\n",
              "      <td>10.237942</td>\n",
              "    </tr>\n",
              "    <tr>\n",
              "      <th>std</th>\n",
              "      <td>89.922189</td>\n",
              "      <td>0.490423</td>\n",
              "      <td>0.943239</td>\n",
              "      <td>0.496435</td>\n",
              "      <td>1.794383</td>\n",
              "      <td>1.083487</td>\n",
              "      <td>0.587072</td>\n",
              "      <td>0.291248</td>\n",
              "      <td>25156.636930</td>\n",
              "      <td>0.472542</td>\n",
              "      <td>6.223419</td>\n",
              "      <td>16908.396884</td>\n",
              "      <td>8.078306</td>\n",
              "      <td>0.789938</td>\n",
              "      <td>0.909241</td>\n",
              "      <td>2.349421</td>\n",
              "      <td>1.294519</td>\n",
              "      <td>5.852596</td>\n",
              "    </tr>\n",
              "    <tr>\n",
              "      <th>min</th>\n",
              "      <td>10001.000000</td>\n",
              "      <td>0.000000</td>\n",
              "      <td>0.000000</td>\n",
              "      <td>0.000000</td>\n",
              "      <td>1.000000</td>\n",
              "      <td>1.000000</td>\n",
              "      <td>1.000000</td>\n",
              "      <td>0.000000</td>\n",
              "      <td>45046.000000</td>\n",
              "      <td>0.000000</td>\n",
              "      <td>1.000000</td>\n",
              "      <td>1013.000000</td>\n",
              "      <td>1.000000</td>\n",
              "      <td>1.120000</td>\n",
              "      <td>1.000000</td>\n",
              "      <td>0.000000</td>\n",
              "      <td>0.000000</td>\n",
              "      <td>1.000000</td>\n",
              "    </tr>\n",
              "    <tr>\n",
              "      <th>25%</th>\n",
              "      <td>10078.500000</td>\n",
              "      <td>0.000000</td>\n",
              "      <td>0.000000</td>\n",
              "      <td>0.000000</td>\n",
              "      <td>1.000000</td>\n",
              "      <td>5.000000</td>\n",
              "      <td>3.000000</td>\n",
              "      <td>0.000000</td>\n",
              "      <td>55501.500000</td>\n",
              "      <td>0.000000</td>\n",
              "      <td>18.000000</td>\n",
              "      <td>1901.500000</td>\n",
              "      <td>10.000000</td>\n",
              "      <td>3.690000</td>\n",
              "      <td>3.000000</td>\n",
              "      <td>0.000000</td>\n",
              "      <td>0.000000</td>\n",
              "      <td>5.000000</td>\n",
              "    </tr>\n",
              "    <tr>\n",
              "      <th>50%</th>\n",
              "      <td>10156.000000</td>\n",
              "      <td>0.000000</td>\n",
              "      <td>1.000000</td>\n",
              "      <td>0.000000</td>\n",
              "      <td>1.000000</td>\n",
              "      <td>5.000000</td>\n",
              "      <td>3.000000</td>\n",
              "      <td>0.000000</td>\n",
              "      <td>62810.000000</td>\n",
              "      <td>0.000000</td>\n",
              "      <td>19.000000</td>\n",
              "      <td>2132.000000</td>\n",
              "      <td>15.000000</td>\n",
              "      <td>4.280000</td>\n",
              "      <td>4.000000</td>\n",
              "      <td>0.000000</td>\n",
              "      <td>0.000000</td>\n",
              "      <td>10.000000</td>\n",
              "    </tr>\n",
              "    <tr>\n",
              "      <th>75%</th>\n",
              "      <td>10233.500000</td>\n",
              "      <td>1.000000</td>\n",
              "      <td>1.000000</td>\n",
              "      <td>1.000000</td>\n",
              "      <td>5.000000</td>\n",
              "      <td>5.000000</td>\n",
              "      <td>3.000000</td>\n",
              "      <td>0.000000</td>\n",
              "      <td>72036.000000</td>\n",
              "      <td>1.000000</td>\n",
              "      <td>20.000000</td>\n",
              "      <td>2355.000000</td>\n",
              "      <td>19.000000</td>\n",
              "      <td>4.700000</td>\n",
              "      <td>5.000000</td>\n",
              "      <td>0.000000</td>\n",
              "      <td>0.000000</td>\n",
              "      <td>15.000000</td>\n",
              "    </tr>\n",
              "    <tr>\n",
              "      <th>max</th>\n",
              "      <td>10311.000000</td>\n",
              "      <td>1.000000</td>\n",
              "      <td>4.000000</td>\n",
              "      <td>1.000000</td>\n",
              "      <td>5.000000</td>\n",
              "      <td>6.000000</td>\n",
              "      <td>4.000000</td>\n",
              "      <td>1.000000</td>\n",
              "      <td>250000.000000</td>\n",
              "      <td>1.000000</td>\n",
              "      <td>30.000000</td>\n",
              "      <td>98052.000000</td>\n",
              "      <td>39.000000</td>\n",
              "      <td>5.000000</td>\n",
              "      <td>5.000000</td>\n",
              "      <td>8.000000</td>\n",
              "      <td>6.000000</td>\n",
              "      <td>20.000000</td>\n",
              "    </tr>\n",
              "  </tbody>\n",
              "</table>\n",
              "</div>"
            ],
            "text/plain": [
              "              EmpID   MarriedID  MaritalStatusID    GenderID  EmpStatusID  \\\n",
              "count    311.000000  311.000000       311.000000  311.000000   311.000000   \n",
              "mean   10156.000000    0.398714         0.810289    0.434084     2.392283   \n",
              "std       89.922189    0.490423         0.943239    0.496435     1.794383   \n",
              "min    10001.000000    0.000000         0.000000    0.000000     1.000000   \n",
              "25%    10078.500000    0.000000         0.000000    0.000000     1.000000   \n",
              "50%    10156.000000    0.000000         1.000000    0.000000     1.000000   \n",
              "75%    10233.500000    1.000000         1.000000    1.000000     5.000000   \n",
              "max    10311.000000    1.000000         4.000000    1.000000     5.000000   \n",
              "\n",
              "           DeptID  PerfScoreID  FromDiversityJobFairID         Salary  \\\n",
              "count  311.000000   311.000000              311.000000     311.000000   \n",
              "mean     4.610932     2.977492                0.093248   69020.684887   \n",
              "std      1.083487     0.587072                0.291248   25156.636930   \n",
              "min      1.000000     1.000000                0.000000   45046.000000   \n",
              "25%      5.000000     3.000000                0.000000   55501.500000   \n",
              "50%      5.000000     3.000000                0.000000   62810.000000   \n",
              "75%      5.000000     3.000000                0.000000   72036.000000   \n",
              "max      6.000000     4.000000                1.000000  250000.000000   \n",
              "\n",
              "            Termd  PositionID           Zip   ManagerID  EngagementSurvey  \\\n",
              "count  311.000000  311.000000    311.000000  303.000000        311.000000   \n",
              "mean     0.334405   16.845659   6555.482315   14.570957          4.110000   \n",
              "std      0.472542    6.223419  16908.396884    8.078306          0.789938   \n",
              "min      0.000000    1.000000   1013.000000    1.000000          1.120000   \n",
              "25%      0.000000   18.000000   1901.500000   10.000000          3.690000   \n",
              "50%      0.000000   19.000000   2132.000000   15.000000          4.280000   \n",
              "75%      1.000000   20.000000   2355.000000   19.000000          4.700000   \n",
              "max      1.000000   30.000000  98052.000000   39.000000          5.000000   \n",
              "\n",
              "       EmpSatisfaction  SpecialProjectsCount  DaysLateLast30    Absences  \n",
              "count       311.000000            311.000000      311.000000  311.000000  \n",
              "mean          3.890675              1.218650        0.414791   10.237942  \n",
              "std           0.909241              2.349421        1.294519    5.852596  \n",
              "min           1.000000              0.000000        0.000000    1.000000  \n",
              "25%           3.000000              0.000000        0.000000    5.000000  \n",
              "50%           4.000000              0.000000        0.000000   10.000000  \n",
              "75%           5.000000              0.000000        0.000000   15.000000  \n",
              "max           5.000000              8.000000        6.000000   20.000000  "
            ]
          },
          "metadata": {
            "tags": []
          },
          "execution_count": 21
        }
      ]
    },
    {
      "cell_type": "markdown",
      "metadata": {
        "id": "80cu6zpWUU2R"
      },
      "source": [
        "**Menampilkan dimensi data**"
      ]
    },
    {
      "cell_type": "code",
      "metadata": {
        "colab": {
          "base_uri": "https://localhost:8080/"
        },
        "id": "-V7W3Q1XQV6e",
        "outputId": "4e68d049-a5cf-46e4-c8c0-111b33955d14"
      },
      "source": [
        "dimensi = data.shape\n",
        "print(f'Dimensi data sejumlah {dimensi[0]} data, dan terdiri dari {dimensi[1]} kolom')"
      ],
      "execution_count": null,
      "outputs": [
        {
          "output_type": "stream",
          "text": [
            "Dimensi data sejumlah 311 data, dan terdiri dari 36 kolom\n"
          ],
          "name": "stdout"
        }
      ]
    },
    {
      "cell_type": "markdown",
      "metadata": {
        "id": "hbloeI11Rogv"
      },
      "source": [
        "**Menampilkan jumlah karyawan dalam grafik berdasarkan jenis kelamin**"
      ]
    },
    {
      "cell_type": "code",
      "metadata": {
        "colab": {
          "base_uri": "https://localhost:8080/",
          "height": 284
        },
        "id": "-INl1BFWPsoH",
        "outputId": "c0018e0f-7143-431e-b7fa-3a4f1eec5310"
      },
      "source": [
        "data['Sex'].value_counts() \r\n",
        "data['Sex'].value_counts().plot(kind='bar')"
      ],
      "execution_count": null,
      "outputs": [
        {
          "output_type": "execute_result",
          "data": {
            "text/plain": [
              "<matplotlib.axes._subplots.AxesSubplot at 0x7fe756a322e8>"
            ]
          },
          "metadata": {
            "tags": []
          },
          "execution_count": 23
        },
        {
          "output_type": "display_data",
          "data": {
            "image/png": "[encoded data removed]",
            "text/plain": [
              "<Figure size 432x288 with 1 Axes>"
            ]
          },
          "metadata": {
            "tags": [],
            "needs_background": "light"
          }
        }
      ]
    },
    {
      "cell_type": "markdown",
      "metadata": {
        "id": "yfkMDRwQR3IB"
      },
      "source": [
        "Pada grafik ditampilkan jumlah perempuan(Female) lebih banyak daripada jumlah laki-laki (Male)\r\n"
      ]
    },
    {
      "cell_type": "markdown",
      "metadata": {
        "id": "p1ffM8XwV2V_"
      },
      "source": [
        "**Menampilkan grafik pendapatan karyawan**"
      ]
    },
    {
      "cell_type": "code",
      "metadata": {
        "colab": {
          "base_uri": "https://localhost:8080/",
          "height": 295
        },
        "id": "GGf-0C1BTpmi",
        "outputId": "bd44b689-91d4-482f-87c0-08d0f3ac1ae4"
      },
      "source": [
        "import matplotlib.pyplot as plt\n",
        "fig=plt.figure()\n",
        "ax = fig.add_subplot(1,1,1)\n",
        "\n",
        "#Variable\n",
        "ax.hist(data['Salary'],bins = 10)\n",
        "#Labels and Title\n",
        "plt.title('Grafik Salary')\n",
        "plt.xlabel('Salary')\n",
        "plt.ylabel('Jumlah')\n",
        "plt.show()"
      ],
      "execution_count": null,
      "outputs": [
        {
          "output_type": "display_data",
          "data": {
            "image/png": "[encoded data removed]",
            "text/plain": [
              "<Figure size 432x288 with 1 Axes>"
            ]
          },
          "metadata": {
            "tags": [],
            "needs_background": "light"
          }
        }
      ]
    },
    {
      "cell_type": "markdown",
      "metadata": {
        "id": "BfTFPpp6Y-mZ"
      },
      "source": [
        "Pada grafik diatas diperoleh data berupa gaji karyawan kebanyakan sejumlah $50000 US Dollar"
      ]
    },
    {
      "cell_type": "markdown",
      "metadata": {
        "id": "Cc3nY5f_mkyf"
      },
      "source": [
        "**Tabel Pengelompokkan posisi pekerjaan dengan bagaimana cara direkrut**"
      ]
    },
    {
      "cell_type": "code",
      "metadata": {
        "colab": {
          "base_uri": "https://localhost:8080/"
        },
        "id": "Aps-Ebgplq3I",
        "outputId": "56aacd21-ba32-4300-9801-c8b2cad5fb25"
      },
      "source": [
        "dt= data.groupby(['Position','RecruitmentSource'])\n",
        "dt.size()"
      ],
      "execution_count": null,
      "outputs": [
        {
          "output_type": "execute_result",
          "data": {
            "text/plain": [
              "Position                  RecruitmentSource \n",
              "Accountant I              Diversity Job Fair    1\n",
              "                          Indeed                1\n",
              "                          Website               1\n",
              "Administrative Assistant  Diversity Job Fair    1\n",
              "                          Indeed                1\n",
              "                                               ..\n",
              "Sr. Accountant            Other                 1\n",
              "Sr. DBA                   Indeed                1\n",
              "                          LinkedIn              1\n",
              "Sr. Network Engineer      Employee Referral     3\n",
              "                          LinkedIn              2\n",
              "Length: 80, dtype: int64"
            ]
          },
          "metadata": {
            "tags": []
          },
          "execution_count": 25
        }
      ]
    },
    {
      "cell_type": "markdown",
      "metadata": {
        "id": "6-E5R6womA1K"
      },
      "source": [
        "Tabel diatas ditunjukkan posisi pekerjaan dan darimana dia direkrut."
      ]
    },
    {
      "cell_type": "markdown",
      "metadata": {
        "id": "zFV6rTShWBrP"
      },
      "source": [
        "**Keragaman gender lintas departemen**"
      ]
    },
    {
      "cell_type": "code",
      "metadata": {
        "colab": {
          "base_uri": "https://localhost:8080/",
          "height": 551
        },
        "id": "Fx2LP_RdVzPx",
        "outputId": "4240396f-3bac-4d9b-a0b1-6feac36e10a3"
      },
      "source": [
        "import seaborn as sns\r\n",
        "plt.figure(figsize=(16,9))\r\n",
        "ax=sns.countplot(x=data['Department'],hue=data['Sex'])"
      ],
      "execution_count": null,
      "outputs": [
        {
          "output_type": "display_data",
          "data": {
            "image/png": "[encoded data removed]",
            "text/plain": [
              "<Figure size 1152x648 with 1 Axes>"
            ]
          },
          "metadata": {
            "tags": [],
            "needs_background": "light"
          }
        }
      ]
    },
    {
      "cell_type": "markdown",
      "metadata": {
        "id": "5M4TFP7dWKyH"
      },
      "source": [
        "Pada grafik ditampilkan penyebaran gender pada semua departemen.\r\n",
        "Kesimpulan yang dapat ditarik yaitu:\r\n",
        "Tidak ada laki-laki di kantor eksekutif dan tidak ada perempuan di departemen software engineering.\r\n",
        "Keragaman gender tidak dipertahankan di departemen produksi dan rekayasa perangkat lunak. (Jumlah perempuan hampir dua kali lipat jumlah laki-laki)\r\n",
        "\r\n"
      ]
    },
    {
      "cell_type": "markdown",
      "metadata": {
        "id": "ec-X9g1vny-D"
      },
      "source": [
        "**Corellation Mapping**"
      ]
    },
    {
      "cell_type": "code",
      "metadata": {
        "colab": {
          "base_uri": "https://localhost:8080/",
          "height": 364
        },
        "id": "WS35lqkfn8_a",
        "outputId": "20652671-6558-4007-9487-93b90141001d"
      },
      "source": [
        "\n",
        "dt = pd.DataFrame(data,columns=['Salary','SpecialProjectsCount','EmpSatisfaction','EngagementSurvey','DaysLateLast30','Absences'])\n",
        "\n",
        "corrMatrix = dt.corr()\n",
        "sns.heatmap(corrMatrix, annot=True)\n",
        "plt.show()"
      ],
      "execution_count": null,
      "outputs": [
        {
          "output_type": "display_data",
          "data": {
            "image/png": "[encoded data removed]",
            "text/plain": [
              "<Figure size 432x288 with 2 Axes>"
            ]
          },
          "metadata": {
            "tags": [],
            "needs_background": "light"
          }
        }
      ]
    },
    {
      "cell_type": "markdown",
      "metadata": {
        "id": "2WZdHw4q5H-f"
      },
      "source": [
        "*0.00 - 0,199 = sangat rendah*\n",
        "\n",
        "*0,20 - 0,3999 = rendah*\n",
        "\n",
        "*0,40 - 0,5999 = sedang*\n",
        "\n",
        "*0,60 - 0,799 = kuat*\n",
        "\n",
        "*0,80 - 1,000 = sangat kuat*"
      ]
    },
    {
      "cell_type": "markdown",
      "metadata": {
        "id": "Mk7seypi0gpO"
      },
      "source": [
        "Dilihat dari Corelation Mapping diatas dapat disimpulkan bahwa yang mempunyai:\n",
        "\n",
        "Korelasi positif yaitu kolom \"SpecialProjectsCount\" dan \"Salary\".\n",
        "\n",
        "Korelasi negatif yaitu kolom \"EngagementSurvey\" dan \"DaysLateLast30\"\n"
      ]
    },
    {
      "cell_type": "markdown",
      "metadata": {
        "id": "7ZZ24vKfatHB"
      },
      "source": [
        "**Melihat keterkaitan antara citizen dengan gaji karyawan**"
      ]
    },
    {
      "cell_type": "code",
      "metadata": {
        "colab": {
          "base_uri": "https://localhost:8080/",
          "height": 295
        },
        "id": "7IP_xxMjZpKh",
        "outputId": "5b81ff8a-a8d3-4ad7-da1b-d7cf4ec9b9ee"
      },
      "source": [
        "#Plots in matplotlib reside within a figureobject, use plt.figure to create new figure\n",
        "fig=plt.figure()\n",
        "\n",
        "#Create one or more subplots usingadd_subplot, because you can'tcreate blank figure\n",
        "ax = fig.add_subplot(1,1,1)\n",
        "\n",
        "#Variable\n",
        "ax.scatter(data['CitizenDesc'],data['Salary'])\n",
        "\n",
        "#Labels and Tit\n",
        "plt.title('Citizen dan Salary')\n",
        "plt.xlabel('Citizen')\n",
        "plt.ylabel('Salary')\n",
        "plt.show()"
      ],
      "execution_count": null,
      "outputs": [
        {
          "output_type": "display_data",
          "data": {
            "image/png": "[encoded data removed]",
            "text/plain": [
              "<Figure size 432x288 with 1 Axes>"
            ]
          },
          "metadata": {
            "tags": [],
            "needs_background": "light"
          }
        }
      ]
    },
    {
      "cell_type": "markdown",
      "metadata": {
        "id": "ubH8jf1CbGUA"
      },
      "source": [
        "Berdasarkan Scatterplot diatas menunjukkan bahwa karyawan dengan kewarganegaraan US(United States) Memiliki gaji yang cenderung tinggi."
      ]
    },
    {
      "cell_type": "markdown",
      "metadata": {
        "id": "LIkNV5hFpYLV"
      },
      "source": [
        "**Menampilkan Top 10 Karyawan dengan Gaji Tertinggi**"
      ]
    },
    {
      "cell_type": "code",
      "metadata": {
        "colab": {
          "base_uri": "https://localhost:8080/",
          "height": 379
        },
        "id": "vxxj-KgvoauI",
        "outputId": "9f5a01dd-f198-4be5-e470-259fc612e5c7"
      },
      "source": [
        "data[[\"Employee_Name\",\"Salary\"]].nlargest(10,\"Salary\").plot.bar(x=\"Employee_Name\",y=\"Salary\",width=0.4,)#'vertical', 'horizontal',color=color\n",
        "plt.title(\"Top 10 Employees With High Salary\",fontsize=20)\n",
        "plt.xlabel(\"Employee Name\",fontsize=15)\n",
        "plt.ylabel(\"Salary\",fontsize=15)\n",
        "plt.show()"
      ],
      "execution_count": null,
      "outputs": [
        {
          "output_type": "display_data",
          "data": {
            "image/png": "[encoded data removed]",
            "text/plain": [
              "<Figure size 432x288 with 1 Axes>"
            ]
          },
          "metadata": {
            "tags": [],
            "needs_background": "light"
          }
        }
      ]
    },
    {
      "cell_type": "markdown",
      "metadata": {
        "id": "rqj8WSZbpvaO"
      },
      "source": [
        "Grafik diatas menunjukan 10 karyawan dengan gaji tertinggi"
      ]
    },
    {
      "cell_type": "markdown",
      "metadata": {
        "id": "HP_n7Pa4zV_d"
      },
      "source": [
        "\n",
        "\n",
        "### **Pemodelan Data**\n",
        "\n"
      ]
    },
    {
      "cell_type": "markdown",
      "metadata": {
        "id": "NFp8cMJnZN4R"
      },
      "source": [
        "Pada tahap ini dibuat model regresi linier sederhana untuk memprediksi kinerja karyawan"
      ]
    },
    {
      "cell_type": "code",
      "metadata": {
        "id": "qdBTQEZPYsnD"
      },
      "source": [
        "from sklearn.model_selection import train_test_split"
      ],
      "execution_count": null,
      "outputs": []
    },
    {
      "cell_type": "code",
      "metadata": {
        "colab": {
          "base_uri": "https://localhost:8080/"
        },
        "id": "tc7C3ez3ZZQC",
        "outputId": "0a55e07d-23ca-4d0a-8dbe-6a277f3bc1e5"
      },
      "source": [
        "data[['EmpSatisfaction','Salary','SpecialProjectsCount','ManagerID']].isna().sum()"
      ],
      "execution_count": null,
      "outputs": [
        {
          "output_type": "execute_result",
          "data": {
            "text/plain": [
              "EmpSatisfaction         0\n",
              "Salary                  0\n",
              "SpecialProjectsCount    0\n",
              "ManagerID               8\n",
              "dtype: int64"
            ]
          },
          "metadata": {
            "tags": []
          },
          "execution_count": 34
        }
      ]
    },
    {
      "cell_type": "markdown",
      "metadata": {
        "id": "CSDIzgl9bzXO"
      },
      "source": [
        "Terdapat 8 nilai yang hilang di kolom ManagerID"
      ]
    },
    {
      "cell_type": "code",
      "metadata": {
        "colab": {
          "base_uri": "https://localhost:8080/",
          "height": 589
        },
        "id": "DNfigKUtb7Nv",
        "outputId": "20df886d-99f6-41e1-d292-6467c9e6b87d"
      },
      "source": [
        "data[data['ManagerID'].isna()]\r\n",
        "\r\n",
        "#the manager Webster Butler tidak memiliki ID yang ditetapkan kepadanya dala 8 instansi"
      ],
      "execution_count": null,
      "outputs": [
        {
          "output_type": "execute_result",
          "data": {
            "text/html": [
              "<div>\n",
              "<style scoped>\n",
              "    .dataframe tbody tr th:only-of-type {\n",
              "        vertical-align: middle;\n",
              "    }\n",
              "\n",
              "    .dataframe tbody tr th {\n",
              "        vertical-align: top;\n",
              "    }\n",
              "\n",
              "    .dataframe thead th {\n",
              "        text-align: right;\n",
              "    }\n",
              "</style>\n",
              "<table border=\"1\" class=\"dataframe\">\n",
              "  <thead>\n",
              "    <tr style=\"text-align: right;\">\n",
              "      <th></th>\n",
              "      <th>Employee_Name</th>\n",
              "      <th>EmpID</th>\n",
              "      <th>MarriedID</th>\n",
              "      <th>MaritalStatusID</th>\n",
              "      <th>GenderID</th>\n",
              "      <th>EmpStatusID</th>\n",
              "      <th>DeptID</th>\n",
              "      <th>PerfScoreID</th>\n",
              "      <th>FromDiversityJobFairID</th>\n",
              "      <th>Salary</th>\n",
              "      <th>Termd</th>\n",
              "      <th>PositionID</th>\n",
              "      <th>Position</th>\n",
              "      <th>State</th>\n",
              "      <th>Zip</th>\n",
              "      <th>DOB</th>\n",
              "      <th>Sex</th>\n",
              "      <th>MaritalDesc</th>\n",
              "      <th>CitizenDesc</th>\n",
              "      <th>HispanicLatino</th>\n",
              "      <th>RaceDesc</th>\n",
              "      <th>DateofHire</th>\n",
              "      <th>DateofTermination</th>\n",
              "      <th>TermReason</th>\n",
              "      <th>EmploymentStatus</th>\n",
              "      <th>Department</th>\n",
              "      <th>ManagerName</th>\n",
              "      <th>ManagerID</th>\n",
              "      <th>RecruitmentSource</th>\n",
              "      <th>PerformanceScore</th>\n",
              "      <th>EngagementSurvey</th>\n",
              "      <th>EmpSatisfaction</th>\n",
              "      <th>SpecialProjectsCount</th>\n",
              "      <th>LastPerformanceReview_Date</th>\n",
              "      <th>DaysLateLast30</th>\n",
              "      <th>Absences</th>\n",
              "    </tr>\n",
              "  </thead>\n",
              "  <tbody>\n",
              "    <tr>\n",
              "      <th>19</th>\n",
              "      <td>Becker, Scott</td>\n",
              "      <td>10277</td>\n",
              "      <td>0</td>\n",
              "      <td>0</td>\n",
              "      <td>1</td>\n",
              "      <td>3</td>\n",
              "      <td>5</td>\n",
              "      <td>3</td>\n",
              "      <td>0</td>\n",
              "      <td>53250</td>\n",
              "      <td>0</td>\n",
              "      <td>19</td>\n",
              "      <td>Production Technician I</td>\n",
              "      <td>MA</td>\n",
              "      <td>2452</td>\n",
              "      <td>04/06/79</td>\n",
              "      <td>M</td>\n",
              "      <td>Single</td>\n",
              "      <td>US Citizen</td>\n",
              "      <td>No</td>\n",
              "      <td>Asian</td>\n",
              "      <td>7/8/2013</td>\n",
              "      <td>NaN</td>\n",
              "      <td>N/A-StillEmployed</td>\n",
              "      <td>Active</td>\n",
              "      <td>Production</td>\n",
              "      <td>Webster Butler</td>\n",
              "      <td>NaN</td>\n",
              "      <td>LinkedIn</td>\n",
              "      <td>Fully Meets</td>\n",
              "      <td>4.20</td>\n",
              "      <td>4</td>\n",
              "      <td>0</td>\n",
              "      <td>1/11/2019</td>\n",
              "      <td>0</td>\n",
              "      <td>13</td>\n",
              "    </tr>\n",
              "    <tr>\n",
              "      <th>30</th>\n",
              "      <td>Buccheri, Joseph</td>\n",
              "      <td>10184</td>\n",
              "      <td>0</td>\n",
              "      <td>0</td>\n",
              "      <td>1</td>\n",
              "      <td>1</td>\n",
              "      <td>5</td>\n",
              "      <td>3</td>\n",
              "      <td>0</td>\n",
              "      <td>65288</td>\n",
              "      <td>0</td>\n",
              "      <td>20</td>\n",
              "      <td>Production Technician II</td>\n",
              "      <td>MA</td>\n",
              "      <td>1013</td>\n",
              "      <td>07/28/83</td>\n",
              "      <td>M</td>\n",
              "      <td>Single</td>\n",
              "      <td>US Citizen</td>\n",
              "      <td>No</td>\n",
              "      <td>White</td>\n",
              "      <td>9/29/2014</td>\n",
              "      <td>NaN</td>\n",
              "      <td>N/A-StillEmployed</td>\n",
              "      <td>Active</td>\n",
              "      <td>Production</td>\n",
              "      <td>Webster Butler</td>\n",
              "      <td>NaN</td>\n",
              "      <td>Google Search</td>\n",
              "      <td>Fully Meets</td>\n",
              "      <td>3.19</td>\n",
              "      <td>3</td>\n",
              "      <td>0</td>\n",
              "      <td>2/1/2019</td>\n",
              "      <td>0</td>\n",
              "      <td>9</td>\n",
              "    </tr>\n",
              "    <tr>\n",
              "      <th>44</th>\n",
              "      <td>Chang, Donovan  E</td>\n",
              "      <td>10154</td>\n",
              "      <td>0</td>\n",
              "      <td>0</td>\n",
              "      <td>1</td>\n",
              "      <td>1</td>\n",
              "      <td>5</td>\n",
              "      <td>3</td>\n",
              "      <td>0</td>\n",
              "      <td>60380</td>\n",
              "      <td>0</td>\n",
              "      <td>19</td>\n",
              "      <td>Production Technician I</td>\n",
              "      <td>MA</td>\n",
              "      <td>1845</td>\n",
              "      <td>08/24/83</td>\n",
              "      <td>M</td>\n",
              "      <td>Single</td>\n",
              "      <td>US Citizen</td>\n",
              "      <td>No</td>\n",
              "      <td>White</td>\n",
              "      <td>7/8/2013</td>\n",
              "      <td>NaN</td>\n",
              "      <td>N/A-StillEmployed</td>\n",
              "      <td>Active</td>\n",
              "      <td>Production</td>\n",
              "      <td>Webster Butler</td>\n",
              "      <td>NaN</td>\n",
              "      <td>LinkedIn</td>\n",
              "      <td>Fully Meets</td>\n",
              "      <td>3.80</td>\n",
              "      <td>5</td>\n",
              "      <td>0</td>\n",
              "      <td>1/14/2019</td>\n",
              "      <td>0</td>\n",
              "      <td>4</td>\n",
              "    </tr>\n",
              "    <tr>\n",
              "      <th>88</th>\n",
              "      <td>Fancett, Nicole</td>\n",
              "      <td>10136</td>\n",
              "      <td>0</td>\n",
              "      <td>0</td>\n",
              "      <td>0</td>\n",
              "      <td>1</td>\n",
              "      <td>5</td>\n",
              "      <td>3</td>\n",
              "      <td>0</td>\n",
              "      <td>65902</td>\n",
              "      <td>0</td>\n",
              "      <td>20</td>\n",
              "      <td>Production Technician II</td>\n",
              "      <td>MA</td>\n",
              "      <td>2324</td>\n",
              "      <td>09/27/87</td>\n",
              "      <td>F</td>\n",
              "      <td>Single</td>\n",
              "      <td>US Citizen</td>\n",
              "      <td>No</td>\n",
              "      <td>Black or African American</td>\n",
              "      <td>2/17/2014</td>\n",
              "      <td>NaN</td>\n",
              "      <td>N/A-StillEmployed</td>\n",
              "      <td>Active</td>\n",
              "      <td>Production</td>\n",
              "      <td>Webster Butler</td>\n",
              "      <td>NaN</td>\n",
              "      <td>LinkedIn</td>\n",
              "      <td>Fully Meets</td>\n",
              "      <td>4.00</td>\n",
              "      <td>4</td>\n",
              "      <td>0</td>\n",
              "      <td>1/7/2019</td>\n",
              "      <td>0</td>\n",
              "      <td>7</td>\n",
              "    </tr>\n",
              "    <tr>\n",
              "      <th>135</th>\n",
              "      <td>Hutter, Rosalie</td>\n",
              "      <td>10214</td>\n",
              "      <td>0</td>\n",
              "      <td>3</td>\n",
              "      <td>0</td>\n",
              "      <td>2</td>\n",
              "      <td>5</td>\n",
              "      <td>3</td>\n",
              "      <td>0</td>\n",
              "      <td>64995</td>\n",
              "      <td>0</td>\n",
              "      <td>20</td>\n",
              "      <td>Production Technician II</td>\n",
              "      <td>MA</td>\n",
              "      <td>2351</td>\n",
              "      <td>05/07/92</td>\n",
              "      <td>F</td>\n",
              "      <td>Separated</td>\n",
              "      <td>US Citizen</td>\n",
              "      <td>No</td>\n",
              "      <td>White</td>\n",
              "      <td>6/5/2015</td>\n",
              "      <td>NaN</td>\n",
              "      <td>N/A-StillEmployed</td>\n",
              "      <td>Active</td>\n",
              "      <td>Production</td>\n",
              "      <td>Webster Butler</td>\n",
              "      <td>NaN</td>\n",
              "      <td>Indeed</td>\n",
              "      <td>Fully Meets</td>\n",
              "      <td>4.50</td>\n",
              "      <td>3</td>\n",
              "      <td>0</td>\n",
              "      <td>2/14/2019</td>\n",
              "      <td>0</td>\n",
              "      <td>6</td>\n",
              "    </tr>\n",
              "    <tr>\n",
              "      <th>177</th>\n",
              "      <td>Manchester, Robyn</td>\n",
              "      <td>10077</td>\n",
              "      <td>1</td>\n",
              "      <td>1</td>\n",
              "      <td>0</td>\n",
              "      <td>2</td>\n",
              "      <td>5</td>\n",
              "      <td>3</td>\n",
              "      <td>0</td>\n",
              "      <td>62385</td>\n",
              "      <td>0</td>\n",
              "      <td>20</td>\n",
              "      <td>Production Technician II</td>\n",
              "      <td>MA</td>\n",
              "      <td>2324</td>\n",
              "      <td>08/25/76</td>\n",
              "      <td>F</td>\n",
              "      <td>Married</td>\n",
              "      <td>US Citizen</td>\n",
              "      <td>No</td>\n",
              "      <td>White</td>\n",
              "      <td>5/11/2016</td>\n",
              "      <td>NaN</td>\n",
              "      <td>N/A-StillEmployed</td>\n",
              "      <td>Active</td>\n",
              "      <td>Production</td>\n",
              "      <td>Webster Butler</td>\n",
              "      <td>NaN</td>\n",
              "      <td>LinkedIn</td>\n",
              "      <td>Fully Meets</td>\n",
              "      <td>5.00</td>\n",
              "      <td>3</td>\n",
              "      <td>0</td>\n",
              "      <td>1/21/2019</td>\n",
              "      <td>0</td>\n",
              "      <td>4</td>\n",
              "    </tr>\n",
              "    <tr>\n",
              "      <th>232</th>\n",
              "      <td>Rivera, Haley</td>\n",
              "      <td>10011</td>\n",
              "      <td>1</td>\n",
              "      <td>1</td>\n",
              "      <td>0</td>\n",
              "      <td>1</td>\n",
              "      <td>5</td>\n",
              "      <td>4</td>\n",
              "      <td>0</td>\n",
              "      <td>46738</td>\n",
              "      <td>0</td>\n",
              "      <td>19</td>\n",
              "      <td>Production Technician I</td>\n",
              "      <td>MA</td>\n",
              "      <td>2171</td>\n",
              "      <td>01/12/73</td>\n",
              "      <td>F</td>\n",
              "      <td>Married</td>\n",
              "      <td>US Citizen</td>\n",
              "      <td>No</td>\n",
              "      <td>Asian</td>\n",
              "      <td>11/28/2011</td>\n",
              "      <td>NaN</td>\n",
              "      <td>N/A-StillEmployed</td>\n",
              "      <td>Active</td>\n",
              "      <td>Production</td>\n",
              "      <td>Webster Butler</td>\n",
              "      <td>NaN</td>\n",
              "      <td>Google Search</td>\n",
              "      <td>Exceeds</td>\n",
              "      <td>4.36</td>\n",
              "      <td>5</td>\n",
              "      <td>0</td>\n",
              "      <td>2/11/2019</td>\n",
              "      <td>0</td>\n",
              "      <td>16</td>\n",
              "    </tr>\n",
              "    <tr>\n",
              "      <th>251</th>\n",
              "      <td>Sewkumar, Nori</td>\n",
              "      <td>10071</td>\n",
              "      <td>0</td>\n",
              "      <td>0</td>\n",
              "      <td>0</td>\n",
              "      <td>3</td>\n",
              "      <td>5</td>\n",
              "      <td>3</td>\n",
              "      <td>0</td>\n",
              "      <td>50923</td>\n",
              "      <td>0</td>\n",
              "      <td>19</td>\n",
              "      <td>Production Technician I</td>\n",
              "      <td>MA</td>\n",
              "      <td>2191</td>\n",
              "      <td>03/10/75</td>\n",
              "      <td>F</td>\n",
              "      <td>Single</td>\n",
              "      <td>US Citizen</td>\n",
              "      <td>No</td>\n",
              "      <td>Asian</td>\n",
              "      <td>9/30/2013</td>\n",
              "      <td>NaN</td>\n",
              "      <td>N/A-StillEmployed</td>\n",
              "      <td>Active</td>\n",
              "      <td>Production</td>\n",
              "      <td>Webster Butler</td>\n",
              "      <td>NaN</td>\n",
              "      <td>Google Search</td>\n",
              "      <td>Fully Meets</td>\n",
              "      <td>5.00</td>\n",
              "      <td>5</td>\n",
              "      <td>0</td>\n",
              "      <td>2/6/2019</td>\n",
              "      <td>0</td>\n",
              "      <td>14</td>\n",
              "    </tr>\n",
              "  </tbody>\n",
              "</table>\n",
              "</div>"
            ],
            "text/plain": [
              "          Employee_Name  EmpID  MarriedID  MaritalStatusID  GenderID  \\\n",
              "19        Becker, Scott  10277          0                0         1   \n",
              "30   Buccheri, Joseph    10184          0                0         1   \n",
              "44    Chang, Donovan  E  10154          0                0         1   \n",
              "88      Fancett, Nicole  10136          0                0         0   \n",
              "135     Hutter, Rosalie  10214          0                3         0   \n",
              "177   Manchester, Robyn  10077          1                1         0   \n",
              "232     Rivera, Haley    10011          1                1         0   \n",
              "251      Sewkumar, Nori  10071          0                0         0   \n",
              "\n",
              "     EmpStatusID  DeptID  PerfScoreID  FromDiversityJobFairID  Salary  Termd  \\\n",
              "19             3       5            3                       0   53250      0   \n",
              "30             1       5            3                       0   65288      0   \n",
              "44             1       5            3                       0   60380      0   \n",
              "88             1       5            3                       0   65902      0   \n",
              "135            2       5            3                       0   64995      0   \n",
              "177            2       5            3                       0   62385      0   \n",
              "232            1       5            4                       0   46738      0   \n",
              "251            3       5            3                       0   50923      0   \n",
              "\n",
              "     PositionID                  Position State   Zip       DOB Sex  \\\n",
              "19           19   Production Technician I    MA  2452  04/06/79  M    \n",
              "30           20  Production Technician II    MA  1013  07/28/83  M    \n",
              "44           19   Production Technician I    MA  1845  08/24/83  M    \n",
              "88           20  Production Technician II    MA  2324  09/27/87   F   \n",
              "135          20  Production Technician II    MA  2351  05/07/92   F   \n",
              "177          20  Production Technician II    MA  2324  08/25/76   F   \n",
              "232          19   Production Technician I    MA  2171  01/12/73   F   \n",
              "251          19   Production Technician I    MA  2191  03/10/75   F   \n",
              "\n",
              "    MaritalDesc CitizenDesc HispanicLatino                   RaceDesc  \\\n",
              "19       Single  US Citizen             No                      Asian   \n",
              "30       Single  US Citizen             No                      White   \n",
              "44       Single  US Citizen             No                      White   \n",
              "88       Single  US Citizen             No  Black or African American   \n",
              "135   Separated  US Citizen             No                      White   \n",
              "177     Married  US Citizen             No                      White   \n",
              "232     Married  US Citizen             No                      Asian   \n",
              "251      Single  US Citizen             No                      Asian   \n",
              "\n",
              "     DateofHire DateofTermination         TermReason EmploymentStatus  \\\n",
              "19     7/8/2013               NaN  N/A-StillEmployed           Active   \n",
              "30    9/29/2014               NaN  N/A-StillEmployed           Active   \n",
              "44     7/8/2013               NaN  N/A-StillEmployed           Active   \n",
              "88    2/17/2014               NaN  N/A-StillEmployed           Active   \n",
              "135    6/5/2015               NaN  N/A-StillEmployed           Active   \n",
              "177   5/11/2016               NaN  N/A-StillEmployed           Active   \n",
              "232  11/28/2011               NaN  N/A-StillEmployed           Active   \n",
              "251   9/30/2013               NaN  N/A-StillEmployed           Active   \n",
              "\n",
              "            Department     ManagerName  ManagerID RecruitmentSource  \\\n",
              "19   Production         Webster Butler        NaN          LinkedIn   \n",
              "30   Production         Webster Butler        NaN     Google Search   \n",
              "44   Production         Webster Butler        NaN          LinkedIn   \n",
              "88   Production         Webster Butler        NaN          LinkedIn   \n",
              "135  Production         Webster Butler        NaN            Indeed   \n",
              "177  Production         Webster Butler        NaN          LinkedIn   \n",
              "232  Production         Webster Butler        NaN     Google Search   \n",
              "251  Production         Webster Butler        NaN     Google Search   \n",
              "\n",
              "    PerformanceScore  EngagementSurvey  EmpSatisfaction  SpecialProjectsCount  \\\n",
              "19       Fully Meets              4.20                4                     0   \n",
              "30       Fully Meets              3.19                3                     0   \n",
              "44       Fully Meets              3.80                5                     0   \n",
              "88       Fully Meets              4.00                4                     0   \n",
              "135      Fully Meets              4.50                3                     0   \n",
              "177      Fully Meets              5.00                3                     0   \n",
              "232          Exceeds              4.36                5                     0   \n",
              "251      Fully Meets              5.00                5                     0   \n",
              "\n",
              "    LastPerformanceReview_Date  DaysLateLast30  Absences  \n",
              "19                   1/11/2019               0        13  \n",
              "30                    2/1/2019               0         9  \n",
              "44                   1/14/2019               0         4  \n",
              "88                    1/7/2019               0         7  \n",
              "135                  2/14/2019               0         6  \n",
              "177                  1/21/2019               0         4  \n",
              "232                  2/11/2019               0        16  \n",
              "251                   2/6/2019               0        14  "
            ]
          },
          "metadata": {
            "tags": []
          },
          "execution_count": 36
        }
      ]
    },
    {
      "cell_type": "markdown",
      "metadata": {
        "id": "oxJyeQM_cTPo"
      },
      "source": [
        "Pada data diatas ditunjukkan terdapat 8 data karyawan yang pada kolom ID Manager tidak memiliki nilai"
      ]
    },
    {
      "cell_type": "code",
      "metadata": {
        "colab": {
          "base_uri": "https://localhost:8080/",
          "height": 700
        },
        "id": "aQSEekoDco9p",
        "outputId": "80dbff49-e648-4fe4-f9d8-2c1514248e4f"
      },
      "source": [
        "data[data['ManagerName']=='Webster Butler'][['ManagerName','ManagerID']]"
      ],
      "execution_count": null,
      "outputs": [
        {
          "output_type": "execute_result",
          "data": {
            "text/html": [
              "<div>\n",
              "<style scoped>\n",
              "    .dataframe tbody tr th:only-of-type {\n",
              "        vertical-align: middle;\n",
              "    }\n",
              "\n",
              "    .dataframe tbody tr th {\n",
              "        vertical-align: top;\n",
              "    }\n",
              "\n",
              "    .dataframe thead th {\n",
              "        text-align: right;\n",
              "    }\n",
              "</style>\n",
              "<table border=\"1\" class=\"dataframe\">\n",
              "  <thead>\n",
              "    <tr style=\"text-align: right;\">\n",
              "      <th></th>\n",
              "      <th>ManagerName</th>\n",
              "      <th>ManagerID</th>\n",
              "    </tr>\n",
              "  </thead>\n",
              "  <tbody>\n",
              "    <tr>\n",
              "      <th>4</th>\n",
              "      <td>Webster Butler</td>\n",
              "      <td>39.0</td>\n",
              "    </tr>\n",
              "    <tr>\n",
              "      <th>19</th>\n",
              "      <td>Webster Butler</td>\n",
              "      <td>NaN</td>\n",
              "    </tr>\n",
              "    <tr>\n",
              "      <th>30</th>\n",
              "      <td>Webster Butler</td>\n",
              "      <td>NaN</td>\n",
              "    </tr>\n",
              "    <tr>\n",
              "      <th>44</th>\n",
              "      <td>Webster Butler</td>\n",
              "      <td>NaN</td>\n",
              "    </tr>\n",
              "    <tr>\n",
              "      <th>65</th>\n",
              "      <td>Webster Butler</td>\n",
              "      <td>39.0</td>\n",
              "    </tr>\n",
              "    <tr>\n",
              "      <th>88</th>\n",
              "      <td>Webster Butler</td>\n",
              "      <td>NaN</td>\n",
              "    </tr>\n",
              "    <tr>\n",
              "      <th>89</th>\n",
              "      <td>Webster Butler</td>\n",
              "      <td>39.0</td>\n",
              "    </tr>\n",
              "    <tr>\n",
              "      <th>105</th>\n",
              "      <td>Webster Butler</td>\n",
              "      <td>39.0</td>\n",
              "    </tr>\n",
              "    <tr>\n",
              "      <th>124</th>\n",
              "      <td>Webster Butler</td>\n",
              "      <td>39.0</td>\n",
              "    </tr>\n",
              "    <tr>\n",
              "      <th>135</th>\n",
              "      <td>Webster Butler</td>\n",
              "      <td>NaN</td>\n",
              "    </tr>\n",
              "    <tr>\n",
              "      <th>151</th>\n",
              "      <td>Webster Butler</td>\n",
              "      <td>39.0</td>\n",
              "    </tr>\n",
              "    <tr>\n",
              "      <th>174</th>\n",
              "      <td>Webster Butler</td>\n",
              "      <td>39.0</td>\n",
              "    </tr>\n",
              "    <tr>\n",
              "      <th>177</th>\n",
              "      <td>Webster Butler</td>\n",
              "      <td>NaN</td>\n",
              "    </tr>\n",
              "    <tr>\n",
              "      <th>198</th>\n",
              "      <td>Webster Butler</td>\n",
              "      <td>39.0</td>\n",
              "    </tr>\n",
              "    <tr>\n",
              "      <th>206</th>\n",
              "      <td>Webster Butler</td>\n",
              "      <td>39.0</td>\n",
              "    </tr>\n",
              "    <tr>\n",
              "      <th>214</th>\n",
              "      <td>Webster Butler</td>\n",
              "      <td>39.0</td>\n",
              "    </tr>\n",
              "    <tr>\n",
              "      <th>232</th>\n",
              "      <td>Webster Butler</td>\n",
              "      <td>NaN</td>\n",
              "    </tr>\n",
              "    <tr>\n",
              "      <th>251</th>\n",
              "      <td>Webster Butler</td>\n",
              "      <td>NaN</td>\n",
              "    </tr>\n",
              "    <tr>\n",
              "      <th>276</th>\n",
              "      <td>Webster Butler</td>\n",
              "      <td>39.0</td>\n",
              "    </tr>\n",
              "    <tr>\n",
              "      <th>280</th>\n",
              "      <td>Webster Butler</td>\n",
              "      <td>39.0</td>\n",
              "    </tr>\n",
              "    <tr>\n",
              "      <th>300</th>\n",
              "      <td>Webster Butler</td>\n",
              "      <td>39.0</td>\n",
              "    </tr>\n",
              "  </tbody>\n",
              "</table>\n",
              "</div>"
            ],
            "text/plain": [
              "        ManagerName  ManagerID\n",
              "4    Webster Butler       39.0\n",
              "19   Webster Butler        NaN\n",
              "30   Webster Butler        NaN\n",
              "44   Webster Butler        NaN\n",
              "65   Webster Butler       39.0\n",
              "88   Webster Butler        NaN\n",
              "89   Webster Butler       39.0\n",
              "105  Webster Butler       39.0\n",
              "124  Webster Butler       39.0\n",
              "135  Webster Butler        NaN\n",
              "151  Webster Butler       39.0\n",
              "174  Webster Butler       39.0\n",
              "177  Webster Butler        NaN\n",
              "198  Webster Butler       39.0\n",
              "206  Webster Butler       39.0\n",
              "214  Webster Butler       39.0\n",
              "232  Webster Butler        NaN\n",
              "251  Webster Butler        NaN\n",
              "276  Webster Butler       39.0\n",
              "280  Webster Butler       39.0\n",
              "300  Webster Butler       39.0"
            ]
          },
          "metadata": {
            "tags": []
          },
          "execution_count": 39
        }
      ]
    },
    {
      "cell_type": "markdown",
      "metadata": {
        "id": "pJ3clVdUdJ01"
      },
      "source": [
        "*    Sepertinya 8 baris tanpa ManagerID telah dibiarkan kosong secara tidak sengaja yang bermanager Webster Butler\r\n",
        "*    Webster Butler memiliki ID 39 yang telah ditetapkan"
      ]
    },
    {
      "cell_type": "markdown",
      "metadata": {
        "id": "c94hsAGCdj8Q"
      },
      "source": [
        "**Mengganti ID Manager karyawan yang memiliki manager Webster Butler yang masih tidak bernilai menjadi memiliki ID = 39**"
      ]
    },
    {
      "cell_type": "code",
      "metadata": {
        "colab": {
          "base_uri": "https://localhost:8080/",
          "height": 700
        },
        "id": "Q4IniKPxdbEX",
        "outputId": "3d61bfbb-be28-4bff-f2c1-d0a243e7fb8d"
      },
      "source": [
        "data['ManagerID'] = data['ManagerID'].replace(np.nan, 39.0)\r\n",
        "data[data['ManagerName']=='Webster Butler'][['ManagerName','ManagerID']]"
      ],
      "execution_count": null,
      "outputs": [
        {
          "output_type": "execute_result",
          "data": {
            "text/html": [
              "<div>\n",
              "<style scoped>\n",
              "    .dataframe tbody tr th:only-of-type {\n",
              "        vertical-align: middle;\n",
              "    }\n",
              "\n",
              "    .dataframe tbody tr th {\n",
              "        vertical-align: top;\n",
              "    }\n",
              "\n",
              "    .dataframe thead th {\n",
              "        text-align: right;\n",
              "    }\n",
              "</style>\n",
              "<table border=\"1\" class=\"dataframe\">\n",
              "  <thead>\n",
              "    <tr style=\"text-align: right;\">\n",
              "      <th></th>\n",
              "      <th>ManagerName</th>\n",
              "      <th>ManagerID</th>\n",
              "    </tr>\n",
              "  </thead>\n",
              "  <tbody>\n",
              "    <tr>\n",
              "      <th>4</th>\n",
              "      <td>Webster Butler</td>\n",
              "      <td>39.0</td>\n",
              "    </tr>\n",
              "    <tr>\n",
              "      <th>19</th>\n",
              "      <td>Webster Butler</td>\n",
              "      <td>39.0</td>\n",
              "    </tr>\n",
              "    <tr>\n",
              "      <th>30</th>\n",
              "      <td>Webster Butler</td>\n",
              "      <td>39.0</td>\n",
              "    </tr>\n",
              "    <tr>\n",
              "      <th>44</th>\n",
              "      <td>Webster Butler</td>\n",
              "      <td>39.0</td>\n",
              "    </tr>\n",
              "    <tr>\n",
              "      <th>65</th>\n",
              "      <td>Webster Butler</td>\n",
              "      <td>39.0</td>\n",
              "    </tr>\n",
              "    <tr>\n",
              "      <th>88</th>\n",
              "      <td>Webster Butler</td>\n",
              "      <td>39.0</td>\n",
              "    </tr>\n",
              "    <tr>\n",
              "      <th>89</th>\n",
              "      <td>Webster Butler</td>\n",
              "      <td>39.0</td>\n",
              "    </tr>\n",
              "    <tr>\n",
              "      <th>105</th>\n",
              "      <td>Webster Butler</td>\n",
              "      <td>39.0</td>\n",
              "    </tr>\n",
              "    <tr>\n",
              "      <th>124</th>\n",
              "      <td>Webster Butler</td>\n",
              "      <td>39.0</td>\n",
              "    </tr>\n",
              "    <tr>\n",
              "      <th>135</th>\n",
              "      <td>Webster Butler</td>\n",
              "      <td>39.0</td>\n",
              "    </tr>\n",
              "    <tr>\n",
              "      <th>151</th>\n",
              "      <td>Webster Butler</td>\n",
              "      <td>39.0</td>\n",
              "    </tr>\n",
              "    <tr>\n",
              "      <th>174</th>\n",
              "      <td>Webster Butler</td>\n",
              "      <td>39.0</td>\n",
              "    </tr>\n",
              "    <tr>\n",
              "      <th>177</th>\n",
              "      <td>Webster Butler</td>\n",
              "      <td>39.0</td>\n",
              "    </tr>\n",
              "    <tr>\n",
              "      <th>198</th>\n",
              "      <td>Webster Butler</td>\n",
              "      <td>39.0</td>\n",
              "    </tr>\n",
              "    <tr>\n",
              "      <th>206</th>\n",
              "      <td>Webster Butler</td>\n",
              "      <td>39.0</td>\n",
              "    </tr>\n",
              "    <tr>\n",
              "      <th>214</th>\n",
              "      <td>Webster Butler</td>\n",
              "      <td>39.0</td>\n",
              "    </tr>\n",
              "    <tr>\n",
              "      <th>232</th>\n",
              "      <td>Webster Butler</td>\n",
              "      <td>39.0</td>\n",
              "    </tr>\n",
              "    <tr>\n",
              "      <th>251</th>\n",
              "      <td>Webster Butler</td>\n",
              "      <td>39.0</td>\n",
              "    </tr>\n",
              "    <tr>\n",
              "      <th>276</th>\n",
              "      <td>Webster Butler</td>\n",
              "      <td>39.0</td>\n",
              "    </tr>\n",
              "    <tr>\n",
              "      <th>280</th>\n",
              "      <td>Webster Butler</td>\n",
              "      <td>39.0</td>\n",
              "    </tr>\n",
              "    <tr>\n",
              "      <th>300</th>\n",
              "      <td>Webster Butler</td>\n",
              "      <td>39.0</td>\n",
              "    </tr>\n",
              "  </tbody>\n",
              "</table>\n",
              "</div>"
            ],
            "text/plain": [
              "        ManagerName  ManagerID\n",
              "4    Webster Butler       39.0\n",
              "19   Webster Butler       39.0\n",
              "30   Webster Butler       39.0\n",
              "44   Webster Butler       39.0\n",
              "65   Webster Butler       39.0\n",
              "88   Webster Butler       39.0\n",
              "89   Webster Butler       39.0\n",
              "105  Webster Butler       39.0\n",
              "124  Webster Butler       39.0\n",
              "135  Webster Butler       39.0\n",
              "151  Webster Butler       39.0\n",
              "174  Webster Butler       39.0\n",
              "177  Webster Butler       39.0\n",
              "198  Webster Butler       39.0\n",
              "206  Webster Butler       39.0\n",
              "214  Webster Butler       39.0\n",
              "232  Webster Butler       39.0\n",
              "251  Webster Butler       39.0\n",
              "276  Webster Butler       39.0\n",
              "280  Webster Butler       39.0\n",
              "300  Webster Butler       39.0"
            ]
          },
          "metadata": {
            "tags": []
          },
          "execution_count": 44
        }
      ]
    },
    {
      "cell_type": "markdown",
      "metadata": {
        "id": "vHlQjI5ud9rD"
      },
      "source": [
        "Sekarang semua data telah memiliki ID Manager"
      ]
    },
    {
      "cell_type": "code",
      "metadata": {
        "id": "iB2bkhC3eXcx"
      },
      "source": [
        "X = data[['EmpSatisfaction','Salary','SpecialProjectsCount','ManagerID']]\r\n",
        "y = data['PerfScoreID']\r\n",
        "\r\n",
        "X_train, X_test, y_train, y_test = train_test_split(X, y, test_size=0.3, random_state=42)"
      ],
      "execution_count": null,
      "outputs": []
    },
    {
      "cell_type": "code",
      "metadata": {
        "colab": {
          "base_uri": "https://localhost:8080/"
        },
        "id": "CTtvLva1efsj",
        "outputId": "645e7126-0e91-448c-add0-dcc82995f8bf"
      },
      "source": [
        "#fitting data yang telah dikoreksi\r\n",
        "lm.fit(X_train,y_train)"
      ],
      "execution_count": null,
      "outputs": [
        {
          "output_type": "execute_result",
          "data": {
            "text/plain": [
              "LinearRegression(copy_X=True, fit_intercept=True, n_jobs=None, normalize=False)"
            ]
          },
          "metadata": {
            "tags": []
          },
          "execution_count": 47
        }
      ]
    },
    {
      "cell_type": "markdown",
      "metadata": {
        "id": "1TNfclOgeq7U"
      },
      "source": [
        "Sekarang semua data telah memiliki nilai"
      ]
    },
    {
      "cell_type": "code",
      "metadata": {
        "id": "rwB8uI6-env7"
      },
      "source": [
        "predictions = lm.predict(X_test)"
      ],
      "execution_count": null,
      "outputs": []
    },
    {
      "cell_type": "markdown",
      "metadata": {
        "id": "xtqEjo78z9Fp"
      },
      "source": [
        "### **Evaluasi Model**"
      ]
    },
    {
      "cell_type": "markdown",
      "metadata": {
        "id": "qc-cfVuGfLll"
      },
      "source": [
        "Pada tahap ini dilakukan evaluasi model dengan menghitung jumlah sisa kuadrat dan skor varians yang dijelaskan (R ^ 2)."
      ]
    },
    {
      "cell_type": "code",
      "metadata": {
        "colab": {
          "base_uri": "https://localhost:8080/"
        },
        "id": "9qLHgusGfAe4",
        "outputId": "a08488c4-ac7d-477c-fe44-f27f1dcb5a9d"
      },
      "source": [
        "from sklearn import metrics\r\n",
        "\r\n",
        "print('MAE:', metrics.mean_absolute_error(y_test, predictions))\r\n",
        "print('MSE:', metrics.mean_squared_error(y_test, predictions))\r\n",
        "print('RMSE:', np.sqrt(metrics.mean_squared_error(y_test, predictions)))"
      ],
      "execution_count": null,
      "outputs": [
        {
          "output_type": "stream",
          "text": [
            "MAE: 0.3092076768791097\n",
            "MSE: 0.2347468097647208\n",
            "RMSE: 0.4845067695757416\n"
          ],
          "name": "stdout"
        }
      ]
    },
    {
      "cell_type": "markdown",
      "metadata": {
        "id": "Y1gzq7xgfUyE"
      },
      "source": [
        "**Residuals**"
      ]
    },
    {
      "cell_type": "code",
      "metadata": {
        "colab": {
          "base_uri": "https://localhost:8080/",
          "height": 333
        },
        "id": "AUxNrE8jfWtq",
        "outputId": "660b8422-3463-476a-ff2e-1825e69f6b24"
      },
      "source": [
        "sns.distplot((y_test-predictions),bins=50);"
      ],
      "execution_count": null,
      "outputs": [
        {
          "output_type": "stream",
          "text": [
            "/usr/local/lib/python3.6/dist-packages/seaborn/distributions.py:2551: FutureWarning: `distplot` is a deprecated function and will be removed in a future version. Please adapt your code to use either `displot` (a figure-level function with similar flexibility) or `histplot` (an axes-level function for histograms).\n",
            "  warnings.warn(msg, FutureWarning)\n"
          ],
          "name": "stderr"
        },
        {
          "output_type": "display_data",
          "data": {
            "image/png": "[encoded data removed]",
            "text/plain": [
              "<Figure size 432x288 with 1 Axes>"
            ]
          },
          "metadata": {
            "tags": [],
            "needs_background": "light"
          }
        }
      ]
    },
    {
      "cell_type": "markdown",
      "metadata": {
        "id": "p-0XDppDfd9Z"
      },
      "source": [
        "Pada diagram diatas ditampilkan data yang bersifat normal"
      ]
    },
    {
      "cell_type": "code",
      "metadata": {
        "colab": {
          "base_uri": "https://localhost:8080/",
          "height": 173
        },
        "id": "kGKxWIxWfoVb",
        "outputId": "796c80a7-5f14-4929-95d1-5c6c1154ccbd"
      },
      "source": [
        "coeffecients = pd.DataFrame(lm.coef_,X.columns)\r\n",
        "coeffecients.columns = ['Coeffecient']\r\n",
        "coeffecients"
      ],
      "execution_count": null,
      "outputs": [
        {
          "output_type": "execute_result",
          "data": {
            "text/html": [
              "<div>\n",
              "<style scoped>\n",
              "    .dataframe tbody tr th:only-of-type {\n",
              "        vertical-align: middle;\n",
              "    }\n",
              "\n",
              "    .dataframe tbody tr th {\n",
              "        vertical-align: top;\n",
              "    }\n",
              "\n",
              "    .dataframe thead th {\n",
              "        text-align: right;\n",
              "    }\n",
              "</style>\n",
              "<table border=\"1\" class=\"dataframe\">\n",
              "  <thead>\n",
              "    <tr style=\"text-align: right;\">\n",
              "      <th></th>\n",
              "      <th>Coeffecient</th>\n",
              "    </tr>\n",
              "  </thead>\n",
              "  <tbody>\n",
              "    <tr>\n",
              "      <th>EmpSatisfaction</th>\n",
              "      <td>0.245674</td>\n",
              "    </tr>\n",
              "    <tr>\n",
              "      <th>Salary</th>\n",
              "      <td>0.000002</td>\n",
              "    </tr>\n",
              "    <tr>\n",
              "      <th>SpecialProjectsCount</th>\n",
              "      <td>-0.010926</td>\n",
              "    </tr>\n",
              "    <tr>\n",
              "      <th>ManagerID</th>\n",
              "      <td>-0.003805</td>\n",
              "    </tr>\n",
              "  </tbody>\n",
              "</table>\n",
              "</div>"
            ],
            "text/plain": [
              "                      Coeffecient\n",
              "EmpSatisfaction          0.245674\n",
              "Salary                   0.000002\n",
              "SpecialProjectsCount    -0.010926\n",
              "ManagerID               -0.003805"
            ]
          },
          "metadata": {
            "tags": []
          },
          "execution_count": 52
        }
      ]
    },
    {
      "cell_type": "markdown",
      "metadata": {
        "id": "PoIv9n_sfyuH"
      },
      "source": [
        "* Peningkatan 1 unit dalam EmpSatisfaction dikaitkan dengan peningkatan perfomance score sebesar ~ 0,25 poin.\r\n",
        "* Peningkatan 1 unit dalam PayRate tidak dikaitkan dengan peningkatan perfomance score.\r\n",
        "* Peningkatan 1 unit di SpecialProjectsCount tidak terkait dengan peningkatan perfomance score.\r\n",
        "* ManagerID, seperti yang diduga, tidak mempengaruhi perfomance score. Karena tidak masuk akal bahwa ManagerID akan menyebabkan peningkatan skor kinerja"
      ]
    },
    {
      "cell_type": "markdown",
      "metadata": {
        "id": "VcFfAONOgWAT"
      },
      "source": [
        "> Kesimpulan :\r\n",
        "\r\n",
        "Kepuasan karyawan adalah faktor terpenting dalam memprediksi kinerja karyawan, dan keduanya berkorelasi positif, meskipun sedikit. Perusahaan mungkin tertarik untuk meningkatkan kinerja karyawan melalui peningkatan kepuasan menggunakan strategi yang diteliti, mungkin untuk meningkatkan kepuasan mereka yang mendapat skor 3,0 atau kurang pada survei Kepuasan Karyawan."
      ]
    }
  ]
}