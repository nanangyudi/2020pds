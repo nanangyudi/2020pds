{
  "nbformat": 4,
  "nbformat_minor": 0,
  "metadata": {
    "colab": {
      "name": "BudiSantoso_205150409111007.ipynb",
      "provenance": [],
      "collapsed_sections": [
        "MHKVM686AOtg",
        "BMdOBT5tFiPb"
      ],
      "include_colab_link": true
    },
    "kernelspec": {
      "name": "python3",
      "display_name": "Python 3"
    }
  },
  "cells": [
    {
      "cell_type": "markdown",
      "metadata": {
        "id": "view-in-github",
        "colab_type": "text"
      },
      "source": [
        "<a href=\"https://colab.research.google.com/github/nanangyudi/2020pds_d/blob/main/BudiSantoso_205150409111007.ipynb\" target=\"_parent\"><img src=\"https://colab.research.google.com/assets/colab-badge.svg\" alt=\"Open In Colab\"/></a>"
      ]
    },
    {
      "cell_type": "markdown",
      "metadata": {
        "id": "vOeCwqZuvJAf"
      },
      "source": [
        "**Deskripsi Tujuan Bisnis**\n",
        "\n",
        "Dari pengolahan data yang telah dilakukan mempunyai tujuan yang ingin dicapai, yaitu:\n",
        "- Mengetahui jejak karir Lebron James sejak pertama berkarir didunia NBA\n",
        "- Menganalisa hasil permainan dari Lebron James\n",
        "- Menganalisa hasil usia paling produktif Lebron James selama bermain basket\n",
        "\n",
        "\n"
      ]
    },
    {
      "cell_type": "markdown",
      "metadata": {
        "id": "NDQwx7mF9Hcq"
      },
      "source": [
        "**Analisa Hasil Pendekatan yang Akan Dilakukan**\n",
        "- Pada hasil analisa pendekatan yang digunakan oleh penulis menggunakan metode data analisis exploratory. \n",
        "- Data analisis Exploratory adalah teknik yang melihat pola yang divisualisasikan oleh data, guna menemukan jawaban atas percobaan yang telah dilakukan."
      ]
    },
    {
      "cell_type": "markdown",
      "metadata": {
        "id": "rutY9v0Z-gyC"
      },
      "source": [
        "**Pengumpulan Data**\n",
        "- Pengumpulan data atau akuisisi data yang digunakan adalah teknik dokumen, dikarenakan dataset yang digunakan merupakan dokumen yang diambil dari kaggle.com kemudian dilakukan proses pengolahan data guna mendapat tujuan dari sebuah penilitian"
      ]
    },
    {
      "cell_type": "markdown",
      "metadata": {
        "id": "jg6hS1CO_Fg0"
      },
      "source": [
        "**Pemahaman Terhadap Data yang Telah Dikumpulkan**\n",
        "- Data yang telah dikumpulkan merupakan dataset berjudul Jordan vs Lebron James\n",
        "- Pada dataset yang telah didownload berekstensi file csv\n",
        "- File berukuran 108.88 kb\n",
        "- Data set yang telah didownload tedapat banyak tabel seperti game, data, age, team, opp, result dan lain sebagainya."
      ]
    },
    {
      "cell_type": "markdown",
      "metadata": {
        "id": "MHKVM686AOtg"
      },
      "source": [
        "# **PERSIAPAN DATA (Eksplorasi Data)**"
      ]
    },
    {
      "cell_type": "markdown",
      "metadata": {
        "id": "Un8LtYjH4XqV"
      },
      "source": [
        "**Tahap 1** : Memasukan data dari url yang disimpan dalam file komputer,lalu data di commit pada repository Github"
      ]
    },
    {
      "cell_type": "code",
      "metadata": {
        "id": "jLgypoEUokeC"
      },
      "source": [
        "import pandas as pd \n",
        "pd.set_option('display.max_columns', None)\n",
        "import matplotlib.pyplot as plt\n",
        "import numpy as np \n",
        "import re"
      ],
      "execution_count": null,
      "outputs": []
    },
    {
      "cell_type": "code",
      "metadata": {
        "colab": {
          "base_uri": "https://localhost:8080/"
        },
        "id": "1uD-J2htoqaa",
        "outputId": "ef02930e-3f39-4c27-bbab-0a7185d83049"
      },
      "source": [
        "url = 'https://raw.githubusercontent.com/budiisan/Demo-eksplorasi-data-dengan-phyton/main/lebron_career.csv'\n",
        "data = pd.read_csv(url, error_bad_lines=False)\n",
        "print(\"read dataset in dataframe!\")"
      ],
      "execution_count": null,
      "outputs": [
        {
          "output_type": "stream",
          "text": [
            "read dataset in dataframe!\n"
          ],
          "name": "stdout"
        }
      ]
    },
    {
      "cell_type": "markdown",
      "metadata": {
        "id": "Eq0EJlwi4bcH"
      },
      "source": [
        "**Tahap 2** : Memastikan data dapat diakses, dan dapat ditampilkan"
      ]
    },
    {
      "cell_type": "code",
      "metadata": {
        "colab": {
          "base_uri": "https://localhost:8080/",
          "height": 309
        },
        "id": "76V4hE09o08o",
        "outputId": "307f3db7-1d77-4f85-989d-5962b32db470"
      },
      "source": [
        "data.head()"
      ],
      "execution_count": null,
      "outputs": [
        {
          "output_type": "execute_result",
          "data": {
            "text/html": [
              "<div>\n",
              "<style scoped>\n",
              "    .dataframe tbody tr th:only-of-type {\n",
              "        vertical-align: middle;\n",
              "    }\n",
              "\n",
              "    .dataframe tbody tr th {\n",
              "        vertical-align: top;\n",
              "    }\n",
              "\n",
              "    .dataframe thead th {\n",
              "        text-align: right;\n",
              "    }\n",
              "</style>\n",
              "<table border=\"1\" class=\"dataframe\">\n",
              "  <thead>\n",
              "    <tr style=\"text-align: right;\">\n",
              "      <th></th>\n",
              "      <th>game</th>\n",
              "      <th>date</th>\n",
              "      <th>age</th>\n",
              "      <th>team</th>\n",
              "      <th>opp</th>\n",
              "      <th>result</th>\n",
              "      <th>mp</th>\n",
              "      <th>fg</th>\n",
              "      <th>fga</th>\n",
              "      <th>fgp</th>\n",
              "      <th>three</th>\n",
              "      <th>threeatt</th>\n",
              "      <th>threep</th>\n",
              "      <th>ft</th>\n",
              "      <th>fta</th>\n",
              "      <th>ftp</th>\n",
              "      <th>orb</th>\n",
              "      <th>drb</th>\n",
              "      <th>trb</th>\n",
              "      <th>ast</th>\n",
              "      <th>stl</th>\n",
              "      <th>blk</th>\n",
              "      <th>tov</th>\n",
              "      <th>pts</th>\n",
              "      <th>game_score</th>\n",
              "      <th>minus_plus</th>\n",
              "    </tr>\n",
              "  </thead>\n",
              "  <tbody>\n",
              "    <tr>\n",
              "      <th>0</th>\n",
              "      <td>1</td>\n",
              "      <td>2003-10-29</td>\n",
              "      <td>18-303</td>\n",
              "      <td>CLE</td>\n",
              "      <td>SAC</td>\n",
              "      <td>L (-14)</td>\n",
              "      <td>42:00</td>\n",
              "      <td>12</td>\n",
              "      <td>20</td>\n",
              "      <td>0.600</td>\n",
              "      <td>0</td>\n",
              "      <td>2</td>\n",
              "      <td>0.0</td>\n",
              "      <td>1</td>\n",
              "      <td>3</td>\n",
              "      <td>0.333</td>\n",
              "      <td>2</td>\n",
              "      <td>4</td>\n",
              "      <td>6</td>\n",
              "      <td>9</td>\n",
              "      <td>4</td>\n",
              "      <td>0</td>\n",
              "      <td>2</td>\n",
              "      <td>25</td>\n",
              "      <td>24.7</td>\n",
              "      <td>-9</td>\n",
              "    </tr>\n",
              "    <tr>\n",
              "      <th>1</th>\n",
              "      <td>2</td>\n",
              "      <td>2003-10-30</td>\n",
              "      <td>18-304</td>\n",
              "      <td>CLE</td>\n",
              "      <td>PHO</td>\n",
              "      <td>L (-9)</td>\n",
              "      <td>41:00</td>\n",
              "      <td>8</td>\n",
              "      <td>17</td>\n",
              "      <td>0.471</td>\n",
              "      <td>1</td>\n",
              "      <td>5</td>\n",
              "      <td>0.2</td>\n",
              "      <td>4</td>\n",
              "      <td>7</td>\n",
              "      <td>0.571</td>\n",
              "      <td>2</td>\n",
              "      <td>10</td>\n",
              "      <td>12</td>\n",
              "      <td>8</td>\n",
              "      <td>1</td>\n",
              "      <td>0</td>\n",
              "      <td>7</td>\n",
              "      <td>21</td>\n",
              "      <td>14.7</td>\n",
              "      <td>-3</td>\n",
              "    </tr>\n",
              "    <tr>\n",
              "      <th>2</th>\n",
              "      <td>3</td>\n",
              "      <td>2003-11-01</td>\n",
              "      <td>18-306</td>\n",
              "      <td>CLE</td>\n",
              "      <td>POR</td>\n",
              "      <td>L (-19)</td>\n",
              "      <td>39:00</td>\n",
              "      <td>3</td>\n",
              "      <td>12</td>\n",
              "      <td>0.250</td>\n",
              "      <td>0</td>\n",
              "      <td>1</td>\n",
              "      <td>0.0</td>\n",
              "      <td>2</td>\n",
              "      <td>2</td>\n",
              "      <td>1.000</td>\n",
              "      <td>0</td>\n",
              "      <td>4</td>\n",
              "      <td>4</td>\n",
              "      <td>6</td>\n",
              "      <td>2</td>\n",
              "      <td>0</td>\n",
              "      <td>2</td>\n",
              "      <td>8</td>\n",
              "      <td>5.0</td>\n",
              "      <td>-21</td>\n",
              "    </tr>\n",
              "    <tr>\n",
              "      <th>3</th>\n",
              "      <td>4</td>\n",
              "      <td>2003-11-05</td>\n",
              "      <td>18-310</td>\n",
              "      <td>CLE</td>\n",
              "      <td>DEN</td>\n",
              "      <td>L (-4)</td>\n",
              "      <td>41:00</td>\n",
              "      <td>3</td>\n",
              "      <td>11</td>\n",
              "      <td>0.273</td>\n",
              "      <td>0</td>\n",
              "      <td>2</td>\n",
              "      <td>0.0</td>\n",
              "      <td>1</td>\n",
              "      <td>1</td>\n",
              "      <td>1.000</td>\n",
              "      <td>2</td>\n",
              "      <td>9</td>\n",
              "      <td>11</td>\n",
              "      <td>7</td>\n",
              "      <td>2</td>\n",
              "      <td>3</td>\n",
              "      <td>2</td>\n",
              "      <td>7</td>\n",
              "      <td>11.2</td>\n",
              "      <td>-3</td>\n",
              "    </tr>\n",
              "    <tr>\n",
              "      <th>4</th>\n",
              "      <td>5</td>\n",
              "      <td>2003-11-07</td>\n",
              "      <td>18-312</td>\n",
              "      <td>CLE</td>\n",
              "      <td>IND</td>\n",
              "      <td>L (-1)</td>\n",
              "      <td>44:00</td>\n",
              "      <td>8</td>\n",
              "      <td>18</td>\n",
              "      <td>0.444</td>\n",
              "      <td>1</td>\n",
              "      <td>2</td>\n",
              "      <td>0.5</td>\n",
              "      <td>6</td>\n",
              "      <td>7</td>\n",
              "      <td>0.857</td>\n",
              "      <td>0</td>\n",
              "      <td>5</td>\n",
              "      <td>5</td>\n",
              "      <td>3</td>\n",
              "      <td>0</td>\n",
              "      <td>0</td>\n",
              "      <td>7</td>\n",
              "      <td>23</td>\n",
              "      <td>9.0</td>\n",
              "      <td>-7</td>\n",
              "    </tr>\n",
              "  </tbody>\n",
              "</table>\n",
              "</div>"
            ],
            "text/plain": [
              "   game        date     age team  opp   result     mp  fg  fga    fgp  three  \\\n",
              "0     1  2003-10-29  18-303  CLE  SAC  L (-14)  42:00  12   20  0.600      0   \n",
              "1     2  2003-10-30  18-304  CLE  PHO   L (-9)  41:00   8   17  0.471      1   \n",
              "2     3  2003-11-01  18-306  CLE  POR  L (-19)  39:00   3   12  0.250      0   \n",
              "3     4  2003-11-05  18-310  CLE  DEN   L (-4)  41:00   3   11  0.273      0   \n",
              "4     5  2003-11-07  18-312  CLE  IND   L (-1)  44:00   8   18  0.444      1   \n",
              "\n",
              "   threeatt  threep  ft  fta    ftp  orb  drb  trb  ast  stl  blk  tov  pts  \\\n",
              "0         2     0.0   1    3  0.333    2    4    6    9    4    0    2   25   \n",
              "1         5     0.2   4    7  0.571    2   10   12    8    1    0    7   21   \n",
              "2         1     0.0   2    2  1.000    0    4    4    6    2    0    2    8   \n",
              "3         2     0.0   1    1  1.000    2    9   11    7    2    3    2    7   \n",
              "4         2     0.5   6    7  0.857    0    5    5    3    0    0    7   23   \n",
              "\n",
              "   game_score  minus_plus  \n",
              "0        24.7          -9  \n",
              "1        14.7          -3  \n",
              "2         5.0         -21  \n",
              "3        11.2          -3  \n",
              "4         9.0          -7  "
            ]
          },
          "metadata": {
            "tags": []
          },
          "execution_count": 9
        }
      ]
    },
    {
      "cell_type": "markdown",
      "metadata": {
        "id": "N09d9TrS4mtq"
      },
      "source": [
        "**Tahap 3** : Menampilkan informasi data yang telah diimport pada google collabs"
      ]
    },
    {
      "cell_type": "code",
      "metadata": {
        "colab": {
          "base_uri": "https://localhost:8080/"
        },
        "id": "IEWwM5DBpHWP",
        "outputId": "9e86b27e-18c2-423a-a7d7-1fdee8b85f18"
      },
      "source": [
        "dimensi = data.shape\n",
        "print(f'Dimensi data sejumlah {dimensi[0]} data, dan terdiri dari {dimensi[1]} kolom')"
      ],
      "execution_count": null,
      "outputs": [
        {
          "output_type": "stream",
          "text": [
            "Dimensi data sejumlah 1132 data, dan terdiri dari 26 kolom\n"
          ],
          "name": "stdout"
        }
      ]
    },
    {
      "cell_type": "code",
      "metadata": {
        "colab": {
          "base_uri": "https://localhost:8080/"
        },
        "id": "wkyrolCKpTah",
        "outputId": "13a80cb9-f4de-4d3c-8864-4b633d146f60"
      },
      "source": [
        "data.isnull().sum()"
      ],
      "execution_count": null,
      "outputs": [
        {
          "output_type": "execute_result",
          "data": {
            "text/plain": [
              "game           0\n",
              "date           0\n",
              "age            0\n",
              "team           0\n",
              "opp            0\n",
              "result         0\n",
              "mp             0\n",
              "fg             0\n",
              "fga            0\n",
              "fgp            0\n",
              "three          0\n",
              "threeatt       0\n",
              "threep        40\n",
              "ft             0\n",
              "fta            0\n",
              "ftp           12\n",
              "orb            0\n",
              "drb            0\n",
              "trb            0\n",
              "ast            0\n",
              "stl            0\n",
              "blk            0\n",
              "tov            0\n",
              "pts            0\n",
              "game_score     0\n",
              "minus_plus     0\n",
              "dtype: int64"
            ]
          },
          "metadata": {
            "tags": []
          },
          "execution_count": 11
        }
      ]
    },
    {
      "cell_type": "markdown",
      "metadata": {
        "id": "F43cvd1k40cj"
      },
      "source": [
        "**Tahap 4** : Menganalisis tentang jenis game score terbanyak yang telah dimainkan oleh lebron james"
      ]
    },
    {
      "cell_type": "code",
      "metadata": {
        "colab": {
          "base_uri": "https://localhost:8080/",
          "height": 295
        },
        "id": "Ctpr1VTepaPw",
        "outputId": "5ebcc2e6-212a-4bd7-d9ca-b495287ae68b"
      },
      "source": [
        "import matplotlib.pyplot as plt\n",
        "fig=plt.figure()\n",
        "ax = fig.add_subplot(1,1,1)\n",
        "\n",
        "#Variable\n",
        "ax.hist(data['game_score'],bins = 10)\n",
        "#Labels and Title\n",
        "plt.title('Game Score')\n",
        "plt.xlabel('Game score')\n",
        "plt.ylabel('Total')\n",
        "plt.show()"
      ],
      "execution_count": null,
      "outputs": [
        {
          "output_type": "display_data",
          "data": {
            "image/png": "[encoded data removed]",
            "text/plain": [
              "<Figure size 432x288 with 1 Axes>"
            ]
          },
          "metadata": {
            "tags": [],
            "needs_background": "light"
          }
        }
      ]
    },
    {
      "cell_type": "markdown",
      "metadata": {
        "id": "ZwBFvQko5Y5B"
      },
      "source": [
        "  - **Analisis Diagram Histogram :** Ditampilkan bahwa pada data yang tertinggi pada game score yang ke 25 dengan total nilai 340"
      ]
    },
    {
      "cell_type": "markdown",
      "metadata": {
        "id": "BMO3G8Ea8oDR"
      },
      "source": [
        "**Tahap 5** : Menganalisis tentang game score dengan game dengan diagram scatter\r\n",
        "\r\n"
      ]
    },
    {
      "cell_type": "code",
      "metadata": {
        "colab": {
          "base_uri": "https://localhost:8080/",
          "height": 295
        },
        "id": "okG_spL0qL8g",
        "outputId": "56592a8d-0a8c-496e-b88a-e7eaa6824109"
      },
      "source": [
        "#Plots in matplotlib reside within a figureobject, use plt.figure to create new figure\n",
        "fig=plt.figure()\n",
        "\n",
        "#Create one or more subplots usingadd_subplot, because you can'tcreate blank figure\n",
        "ax = fig.add_subplot(1,1,1)\n",
        "\n",
        "#Variable\n",
        "ax.scatter(data['game'],data['game_score'])\n",
        "\n",
        "#Labels and Tit\n",
        "plt.title('Game dan Game Score')\n",
        "plt.xlabel('game')\n",
        "plt.ylabel('Game Score')\n",
        "plt.show()"
      ],
      "execution_count": null,
      "outputs": [
        {
          "output_type": "display_data",
          "data": {
            "image/png": "[encoded data removed]",
            "text/plain": [
              "<Figure size 432x288 with 1 Axes>"
            ]
          },
          "metadata": {
            "tags": [],
            "needs_background": "light"
          }
        }
      ]
    },
    {
      "cell_type": "markdown",
      "metadata": {
        "id": "_Srq9JyE85gm"
      },
      "source": [
        "  - **Analisis Diagram Scatter :** Ditampilkan bahwa pada data yang berinteraksi paling banyak pada game score 20- 30"
      ]
    },
    {
      "cell_type": "markdown",
      "metadata": {
        "id": "b-XhPX2I9UOU"
      },
      "source": [
        "**Tahap 6** : Menganalisis tentang game score dengan game dengan diagram boxplot"
      ]
    },
    {
      "cell_type": "code",
      "metadata": {
        "colab": {
          "base_uri": "https://localhost:8080/",
          "height": 279
        },
        "id": "QOjeaVW7rBeL",
        "outputId": "eb03453d-106c-46b4-b35d-1d13ecf409a6"
      },
      "source": [
        "import seaborn as sns\n",
        "sns.boxplot(data=data, x='game_score', y='game')\n",
        "sns.despine()"
      ],
      "execution_count": null,
      "outputs": [
        {
          "output_type": "display_data",
          "data": {
            "image/png": "[encoded data removed]",
            "text/plain": [
              "<Figure size 432x288 with 1 Axes>"
            ]
          },
          "metadata": {
            "tags": [],
            "needs_background": "light"
          }
        }
      ]
    },
    {
      "cell_type": "markdown",
      "metadata": {
        "id": "I2Y-pJf3-iQG"
      },
      "source": [
        "**Tahap 7** : Menganalisis tentang game score dengan game dengan diagram stripllot"
      ]
    },
    {
      "cell_type": "code",
      "metadata": {
        "colab": {
          "base_uri": "https://localhost:8080/",
          "height": 297
        },
        "id": "RkidJOte-tio",
        "outputId": "12ba7914-240b-4ebf-bf8b-9bdb9c12cf14"
      },
      "source": [
        "sns.stripplot(x=\"game\", y=\"game_score\", data=data) "
      ],
      "execution_count": null,
      "outputs": [
        {
          "output_type": "execute_result",
          "data": {
            "text/plain": [
              "<matplotlib.axes._subplots.AxesSubplot at 0x7f40b469fac8>"
            ]
          },
          "metadata": {
            "tags": []
          },
          "execution_count": 17
        },
        {
          "output_type": "display_data",
          "data": {
            "image/png": "[encoded data removed]",
            "text/plain": [
              "<Figure size 432x288 with 1 Axes>"
            ]
          },
          "metadata": {
            "tags": [],
            "needs_background": "light"
          }
        }
      ]
    },
    {
      "cell_type": "markdown",
      "metadata": {
        "id": "XeVjEiCPAuv-"
      },
      "source": [
        "**Tahap 8** : Mengelompokan data dengan grouping"
      ]
    },
    {
      "cell_type": "code",
      "metadata": {
        "colab": {
          "base_uri": "https://localhost:8080/"
        },
        "id": "uKqTyTUTrO02",
        "outputId": "60948f9d-b20c-41c0-cd1d-15a3e66207c6"
      },
      "source": [
        "dt= data.groupby(['team','game_score'])\n",
        "dt.size()"
      ],
      "execution_count": null,
      "outputs": [
        {
          "output_type": "execute_result",
          "data": {
            "text/plain": [
              "team  game_score\n",
              "CLE   -0.1          1\n",
              "       0.6          1\n",
              "       0.8          1\n",
              "       0.9          1\n",
              "       1.1          1\n",
              "                   ..\n",
              "MIA    40.6         1\n",
              "       42.0         1\n",
              "       44.2         1\n",
              "       46.7         1\n",
              "       48.8         1\n",
              "Length: 482, dtype: int64"
            ]
          },
          "metadata": {
            "tags": []
          },
          "execution_count": 21
        }
      ]
    },
    {
      "cell_type": "code",
      "metadata": {
        "colab": {
          "base_uri": "https://localhost:8080/",
          "height": 497
        },
        "id": "qPxNUVdLrf61",
        "outputId": "0a2f8a6b-bb6e-4eb8-a290-b4a0868e8d6c"
      },
      "source": [
        "dt= data.groupby(['game_score'])\n",
        "dt.describe()"
      ],
      "execution_count": null,
      "outputs": [
        {
          "output_type": "execute_result",
          "data": {
            "text/html": [
              "<div>\n",
              "<style scoped>\n",
              "    .dataframe tbody tr th:only-of-type {\n",
              "        vertical-align: middle;\n",
              "    }\n",
              "\n",
              "    .dataframe tbody tr th {\n",
              "        vertical-align: top;\n",
              "    }\n",
              "\n",
              "    .dataframe thead tr th {\n",
              "        text-align: left;\n",
              "    }\n",
              "\n",
              "    .dataframe thead tr:last-of-type th {\n",
              "        text-align: right;\n",
              "    }\n",
              "</style>\n",
              "<table border=\"1\" class=\"dataframe\">\n",
              "  <thead>\n",
              "    <tr>\n",
              "      <th></th>\n",
              "      <th colspan=\"8\" halign=\"left\">game</th>\n",
              "      <th colspan=\"8\" halign=\"left\">fg</th>\n",
              "      <th colspan=\"8\" halign=\"left\">fga</th>\n",
              "      <th colspan=\"8\" halign=\"left\">fgp</th>\n",
              "      <th colspan=\"8\" halign=\"left\">three</th>\n",
              "      <th colspan=\"8\" halign=\"left\">threeatt</th>\n",
              "      <th colspan=\"8\" halign=\"left\">threep</th>\n",
              "      <th colspan=\"8\" halign=\"left\">ft</th>\n",
              "      <th colspan=\"8\" halign=\"left\">fta</th>\n",
              "      <th colspan=\"8\" halign=\"left\">ftp</th>\n",
              "      <th colspan=\"8\" halign=\"left\">orb</th>\n",
              "      <th colspan=\"8\" halign=\"left\">drb</th>\n",
              "      <th colspan=\"8\" halign=\"left\">trb</th>\n",
              "      <th colspan=\"8\" halign=\"left\">ast</th>\n",
              "      <th colspan=\"8\" halign=\"left\">stl</th>\n",
              "      <th colspan=\"8\" halign=\"left\">blk</th>\n",
              "      <th colspan=\"8\" halign=\"left\">tov</th>\n",
              "      <th colspan=\"8\" halign=\"left\">pts</th>\n",
              "      <th colspan=\"8\" halign=\"left\">minus_plus</th>\n",
              "    </tr>\n",
              "    <tr>\n",
              "      <th></th>\n",
              "      <th>count</th>\n",
              "      <th>mean</th>\n",
              "      <th>std</th>\n",
              "      <th>min</th>\n",
              "      <th>25%</th>\n",
              "      <th>50%</th>\n",
              "      <th>75%</th>\n",
              "      <th>max</th>\n",
              "      <th>count</th>\n",
              "      <th>mean</th>\n",
              "      <th>std</th>\n",
              "      <th>min</th>\n",
              "      <th>25%</th>\n",
              "      <th>50%</th>\n",
              "      <th>75%</th>\n",
              "      <th>max</th>\n",
              "      <th>count</th>\n",
              "      <th>mean</th>\n",
              "      <th>std</th>\n",
              "      <th>min</th>\n",
              "      <th>25%</th>\n",
              "      <th>50%</th>\n",
              "      <th>75%</th>\n",
              "      <th>max</th>\n",
              "      <th>count</th>\n",
              "      <th>mean</th>\n",
              "      <th>std</th>\n",
              "      <th>min</th>\n",
              "      <th>25%</th>\n",
              "      <th>50%</th>\n",
              "      <th>75%</th>\n",
              "      <th>max</th>\n",
              "      <th>count</th>\n",
              "      <th>mean</th>\n",
              "      <th>std</th>\n",
              "      <th>min</th>\n",
              "      <th>25%</th>\n",
              "      <th>50%</th>\n",
              "      <th>75%</th>\n",
              "      <th>max</th>\n",
              "      <th>count</th>\n",
              "      <th>mean</th>\n",
              "      <th>std</th>\n",
              "      <th>min</th>\n",
              "      <th>25%</th>\n",
              "      <th>50%</th>\n",
              "      <th>75%</th>\n",
              "      <th>max</th>\n",
              "      <th>count</th>\n",
              "      <th>mean</th>\n",
              "      <th>std</th>\n",
              "      <th>min</th>\n",
              "      <th>25%</th>\n",
              "      <th>50%</th>\n",
              "      <th>75%</th>\n",
              "      <th>max</th>\n",
              "      <th>count</th>\n",
              "      <th>mean</th>\n",
              "      <th>std</th>\n",
              "      <th>min</th>\n",
              "      <th>25%</th>\n",
              "      <th>50%</th>\n",
              "      <th>75%</th>\n",
              "      <th>max</th>\n",
              "      <th>count</th>\n",
              "      <th>mean</th>\n",
              "      <th>std</th>\n",
              "      <th>min</th>\n",
              "      <th>25%</th>\n",
              "      <th>50%</th>\n",
              "      <th>75%</th>\n",
              "      <th>max</th>\n",
              "      <th>count</th>\n",
              "      <th>mean</th>\n",
              "      <th>std</th>\n",
              "      <th>min</th>\n",
              "      <th>25%</th>\n",
              "      <th>50%</th>\n",
              "      <th>75%</th>\n",
              "      <th>max</th>\n",
              "      <th>count</th>\n",
              "      <th>mean</th>\n",
              "      <th>std</th>\n",
              "      <th>min</th>\n",
              "      <th>25%</th>\n",
              "      <th>50%</th>\n",
              "      <th>75%</th>\n",
              "      <th>max</th>\n",
              "      <th>count</th>\n",
              "      <th>mean</th>\n",
              "      <th>std</th>\n",
              "      <th>min</th>\n",
              "      <th>25%</th>\n",
              "      <th>50%</th>\n",
              "      <th>75%</th>\n",
              "      <th>max</th>\n",
              "      <th>count</th>\n",
              "      <th>mean</th>\n",
              "      <th>std</th>\n",
              "      <th>min</th>\n",
              "      <th>25%</th>\n",
              "      <th>50%</th>\n",
              "      <th>75%</th>\n",
              "      <th>max</th>\n",
              "      <th>count</th>\n",
              "      <th>mean</th>\n",
              "      <th>std</th>\n",
              "      <th>min</th>\n",
              "      <th>25%</th>\n",
              "      <th>50%</th>\n",
              "      <th>75%</th>\n",
              "      <th>max</th>\n",
              "      <th>count</th>\n",
              "      <th>mean</th>\n",
              "      <th>std</th>\n",
              "      <th>min</th>\n",
              "      <th>25%</th>\n",
              "      <th>50%</th>\n",
              "      <th>75%</th>\n",
              "      <th>max</th>\n",
              "      <th>count</th>\n",
              "      <th>mean</th>\n",
              "      <th>std</th>\n",
              "      <th>min</th>\n",
              "      <th>25%</th>\n",
              "      <th>50%</th>\n",
              "      <th>75%</th>\n",
              "      <th>max</th>\n",
              "      <th>count</th>\n",
              "      <th>mean</th>\n",
              "      <th>std</th>\n",
              "      <th>min</th>\n",
              "      <th>25%</th>\n",
              "      <th>50%</th>\n",
              "      <th>75%</th>\n",
              "      <th>max</th>\n",
              "      <th>count</th>\n",
              "      <th>mean</th>\n",
              "      <th>std</th>\n",
              "      <th>min</th>\n",
              "      <th>25%</th>\n",
              "      <th>50%</th>\n",
              "      <th>75%</th>\n",
              "      <th>max</th>\n",
              "      <th>count</th>\n",
              "      <th>mean</th>\n",
              "      <th>std</th>\n",
              "      <th>min</th>\n",
              "      <th>25%</th>\n",
              "      <th>50%</th>\n",
              "      <th>75%</th>\n",
              "      <th>max</th>\n",
              "    </tr>\n",
              "    <tr>\n",
              "      <th>game_score</th>\n",
              "      <th></th>\n",
              "      <th></th>\n",
              "      <th></th>\n",
              "      <th></th>\n",
              "      <th></th>\n",
              "      <th></th>\n",
              "      <th></th>\n",
              "      <th></th>\n",
              "      <th></th>\n",
              "      <th></th>\n",
              "      <th></th>\n",
              "      <th></th>\n",
              "      <th></th>\n",
              "      <th></th>\n",
              "      <th></th>\n",
              "      <th></th>\n",
              "      <th></th>\n",
              "      <th></th>\n",
              "      <th></th>\n",
              "      <th></th>\n",
              "      <th></th>\n",
              "      <th></th>\n",
              "      <th></th>\n",
              "      <th></th>\n",
              "      <th></th>\n",
              "      <th></th>\n",
              "      <th></th>\n",
              "      <th></th>\n",
              "      <th></th>\n",
              "      <th></th>\n",
              "      <th></th>\n",
              "      <th></th>\n",
              "      <th></th>\n",
              "      <th></th>\n",
              "      <th></th>\n",
              "      <th></th>\n",
              "      <th></th>\n",
              "      <th></th>\n",
              "      <th></th>\n",
              "      <th></th>\n",
              "      <th></th>\n",
              "      <th></th>\n",
              "      <th></th>\n",
              "      <th></th>\n",
              "      <th></th>\n",
              "      <th></th>\n",
              "      <th></th>\n",
              "      <th></th>\n",
              "      <th></th>\n",
              "      <th></th>\n",
              "      <th></th>\n",
              "      <th></th>\n",
              "      <th></th>\n",
              "      <th></th>\n",
              "      <th></th>\n",
              "      <th></th>\n",
              "      <th></th>\n",
              "      <th></th>\n",
              "      <th></th>\n",
              "      <th></th>\n",
              "      <th></th>\n",
              "      <th></th>\n",
              "      <th></th>\n",
              "      <th></th>\n",
              "      <th></th>\n",
              "      <th></th>\n",
              "      <th></th>\n",
              "      <th></th>\n",
              "      <th></th>\n",
              "      <th></th>\n",
              "      <th></th>\n",
              "      <th></th>\n",
              "      <th></th>\n",
              "      <th></th>\n",
              "      <th></th>\n",
              "      <th></th>\n",
              "      <th></th>\n",
              "      <th></th>\n",
              "      <th></th>\n",
              "      <th></th>\n",
              "      <th></th>\n",
              "      <th></th>\n",
              "      <th></th>\n",
              "      <th></th>\n",
              "      <th></th>\n",
              "      <th></th>\n",
              "      <th></th>\n",
              "      <th></th>\n",
              "      <th></th>\n",
              "      <th></th>\n",
              "      <th></th>\n",
              "      <th></th>\n",
              "      <th></th>\n",
              "      <th></th>\n",
              "      <th></th>\n",
              "      <th></th>\n",
              "      <th></th>\n",
              "      <th></th>\n",
              "      <th></th>\n",
              "      <th></th>\n",
              "      <th></th>\n",
              "      <th></th>\n",
              "      <th></th>\n",
              "      <th></th>\n",
              "      <th></th>\n",
              "      <th></th>\n",
              "      <th></th>\n",
              "      <th></th>\n",
              "      <th></th>\n",
              "      <th></th>\n",
              "      <th></th>\n",
              "      <th></th>\n",
              "      <th></th>\n",
              "      <th></th>\n",
              "      <th></th>\n",
              "      <th></th>\n",
              "      <th></th>\n",
              "      <th></th>\n",
              "      <th></th>\n",
              "      <th></th>\n",
              "      <th></th>\n",
              "      <th></th>\n",
              "      <th></th>\n",
              "      <th></th>\n",
              "      <th></th>\n",
              "      <th></th>\n",
              "      <th></th>\n",
              "      <th></th>\n",
              "      <th></th>\n",
              "      <th></th>\n",
              "      <th></th>\n",
              "      <th></th>\n",
              "      <th></th>\n",
              "      <th></th>\n",
              "      <th></th>\n",
              "      <th></th>\n",
              "      <th></th>\n",
              "      <th></th>\n",
              "      <th></th>\n",
              "      <th></th>\n",
              "      <th></th>\n",
              "      <th></th>\n",
              "      <th></th>\n",
              "      <th></th>\n",
              "      <th></th>\n",
              "      <th></th>\n",
              "      <th></th>\n",
              "      <th></th>\n",
              "      <th></th>\n",
              "      <th></th>\n",
              "      <th></th>\n",
              "      <th></th>\n",
              "    </tr>\n",
              "  </thead>\n",
              "  <tbody>\n",
              "    <tr>\n",
              "      <th>-0.1</th>\n",
              "      <td>1.0</td>\n",
              "      <td>37.0</td>\n",
              "      <td>NaN</td>\n",
              "      <td>37.0</td>\n",
              "      <td>37.0</td>\n",
              "      <td>37.0</td>\n",
              "      <td>37.0</td>\n",
              "      <td>37.0</td>\n",
              "      <td>1.0</td>\n",
              "      <td>5.0</td>\n",
              "      <td>NaN</td>\n",
              "      <td>5.0</td>\n",
              "      <td>5.0</td>\n",
              "      <td>5.0</td>\n",
              "      <td>5.0</td>\n",
              "      <td>5.0</td>\n",
              "      <td>1.0</td>\n",
              "      <td>22.0</td>\n",
              "      <td>NaN</td>\n",
              "      <td>22.0</td>\n",
              "      <td>22.0</td>\n",
              "      <td>22.0</td>\n",
              "      <td>22.0</td>\n",
              "      <td>22.0</td>\n",
              "      <td>1.0</td>\n",
              "      <td>0.227</td>\n",
              "      <td>NaN</td>\n",
              "      <td>0.227</td>\n",
              "      <td>0.227</td>\n",
              "      <td>0.227</td>\n",
              "      <td>0.227</td>\n",
              "      <td>0.227</td>\n",
              "      <td>1.0</td>\n",
              "      <td>0.0</td>\n",
              "      <td>NaN</td>\n",
              "      <td>0.0</td>\n",
              "      <td>0.0</td>\n",
              "      <td>0.0</td>\n",
              "      <td>0.0</td>\n",
              "      <td>0.0</td>\n",
              "      <td>1.0</td>\n",
              "      <td>3.0</td>\n",
              "      <td>NaN</td>\n",
              "      <td>3.0</td>\n",
              "      <td>3.0</td>\n",
              "      <td>3.0</td>\n",
              "      <td>3.0</td>\n",
              "      <td>3.0</td>\n",
              "      <td>1.0</td>\n",
              "      <td>0.000</td>\n",
              "      <td>NaN</td>\n",
              "      <td>0.000</td>\n",
              "      <td>0.000</td>\n",
              "      <td>0.000</td>\n",
              "      <td>0.000</td>\n",
              "      <td>0.000</td>\n",
              "      <td>1.0</td>\n",
              "      <td>4.0</td>\n",
              "      <td>NaN</td>\n",
              "      <td>4.0</td>\n",
              "      <td>4.0</td>\n",
              "      <td>4.0</td>\n",
              "      <td>4.0</td>\n",
              "      <td>4.0</td>\n",
              "      <td>1.0</td>\n",
              "      <td>6.0</td>\n",
              "      <td>NaN</td>\n",
              "      <td>6.0</td>\n",
              "      <td>6.0</td>\n",
              "      <td>6.0</td>\n",
              "      <td>6.0</td>\n",
              "      <td>6.0</td>\n",
              "      <td>1.0</td>\n",
              "      <td>0.667</td>\n",
              "      <td>NaN</td>\n",
              "      <td>0.667</td>\n",
              "      <td>0.667</td>\n",
              "      <td>0.667</td>\n",
              "      <td>0.667</td>\n",
              "      <td>0.667</td>\n",
              "      <td>1.0</td>\n",
              "      <td>1.0</td>\n",
              "      <td>NaN</td>\n",
              "      <td>1.0</td>\n",
              "      <td>1.0</td>\n",
              "      <td>1.0</td>\n",
              "      <td>1.0</td>\n",
              "      <td>1.0</td>\n",
              "      <td>1.0</td>\n",
              "      <td>8.0</td>\n",
              "      <td>NaN</td>\n",
              "      <td>8.0</td>\n",
              "      <td>8.0</td>\n",
              "      <td>8.0</td>\n",
              "      <td>8.0</td>\n",
              "      <td>8.0</td>\n",
              "      <td>1.0</td>\n",
              "      <td>9.0</td>\n",
              "      <td>NaN</td>\n",
              "      <td>9.0</td>\n",
              "      <td>9.0</td>\n",
              "      <td>9.0</td>\n",
              "      <td>9.0</td>\n",
              "      <td>9.0</td>\n",
              "      <td>1.0</td>\n",
              "      <td>6.0</td>\n",
              "      <td>NaN</td>\n",
              "      <td>6.0</td>\n",
              "      <td>6.0</td>\n",
              "      <td>6.0</td>\n",
              "      <td>6.0</td>\n",
              "      <td>6.0</td>\n",
              "      <td>1.0</td>\n",
              "      <td>0.0</td>\n",
              "      <td>NaN</td>\n",
              "      <td>0.0</td>\n",
              "      <td>0.0</td>\n",
              "      <td>0.0</td>\n",
              "      <td>0.0</td>\n",
              "      <td>0.0</td>\n",
              "      <td>1.0</td>\n",
              "      <td>0.0</td>\n",
              "      <td>NaN</td>\n",
              "      <td>0.0</td>\n",
              "      <td>0.0</td>\n",
              "      <td>0.0</td>\n",
              "      <td>0.0</td>\n",
              "      <td>0.0</td>\n",
              "      <td>1.0</td>\n",
              "      <td>6.0</td>\n",
              "      <td>NaN</td>\n",
              "      <td>6.0</td>\n",
              "      <td>6.0</td>\n",
              "      <td>6.0</td>\n",
              "      <td>6.0</td>\n",
              "      <td>6.0</td>\n",
              "      <td>1.0</td>\n",
              "      <td>14.0</td>\n",
              "      <td>NaN</td>\n",
              "      <td>14.0</td>\n",
              "      <td>14.0</td>\n",
              "      <td>14.0</td>\n",
              "      <td>14.0</td>\n",
              "      <td>14.0</td>\n",
              "      <td>1.0</td>\n",
              "      <td>-9.0</td>\n",
              "      <td>NaN</td>\n",
              "      <td>-9.0</td>\n",
              "      <td>-9.0</td>\n",
              "      <td>-9.0</td>\n",
              "      <td>-9.0</td>\n",
              "      <td>-9.0</td>\n",
              "    </tr>\n",
              "    <tr>\n",
              "      <th>0.6</th>\n",
              "      <td>1.0</td>\n",
              "      <td>1.0</td>\n",
              "      <td>NaN</td>\n",
              "      <td>1.0</td>\n",
              "      <td>1.0</td>\n",
              "      <td>1.0</td>\n",
              "      <td>1.0</td>\n",
              "      <td>1.0</td>\n",
              "      <td>1.0</td>\n",
              "      <td>2.0</td>\n",
              "      <td>NaN</td>\n",
              "      <td>2.0</td>\n",
              "      <td>2.0</td>\n",
              "      <td>2.0</td>\n",
              "      <td>2.0</td>\n",
              "      <td>2.0</td>\n",
              "      <td>1.0</td>\n",
              "      <td>11.0</td>\n",
              "      <td>NaN</td>\n",
              "      <td>11.0</td>\n",
              "      <td>11.0</td>\n",
              "      <td>11.0</td>\n",
              "      <td>11.0</td>\n",
              "      <td>11.0</td>\n",
              "      <td>1.0</td>\n",
              "      <td>0.182</td>\n",
              "      <td>NaN</td>\n",
              "      <td>0.182</td>\n",
              "      <td>0.182</td>\n",
              "      <td>0.182</td>\n",
              "      <td>0.182</td>\n",
              "      <td>0.182</td>\n",
              "      <td>1.0</td>\n",
              "      <td>0.0</td>\n",
              "      <td>NaN</td>\n",
              "      <td>0.0</td>\n",
              "      <td>0.0</td>\n",
              "      <td>0.0</td>\n",
              "      <td>0.0</td>\n",
              "      <td>0.0</td>\n",
              "      <td>1.0</td>\n",
              "      <td>2.0</td>\n",
              "      <td>NaN</td>\n",
              "      <td>2.0</td>\n",
              "      <td>2.0</td>\n",
              "      <td>2.0</td>\n",
              "      <td>2.0</td>\n",
              "      <td>2.0</td>\n",
              "      <td>1.0</td>\n",
              "      <td>0.000</td>\n",
              "      <td>NaN</td>\n",
              "      <td>0.000</td>\n",
              "      <td>0.000</td>\n",
              "      <td>0.000</td>\n",
              "      <td>0.000</td>\n",
              "      <td>0.000</td>\n",
              "      <td>1.0</td>\n",
              "      <td>6.0</td>\n",
              "      <td>NaN</td>\n",
              "      <td>6.0</td>\n",
              "      <td>6.0</td>\n",
              "      <td>6.0</td>\n",
              "      <td>6.0</td>\n",
              "      <td>6.0</td>\n",
              "      <td>1.0</td>\n",
              "      <td>10.0</td>\n",
              "      <td>NaN</td>\n",
              "      <td>10.0</td>\n",
              "      <td>10.0</td>\n",
              "      <td>10.0</td>\n",
              "      <td>10.0</td>\n",
              "      <td>10.0</td>\n",
              "      <td>1.0</td>\n",
              "      <td>0.600</td>\n",
              "      <td>NaN</td>\n",
              "      <td>0.600</td>\n",
              "      <td>0.600</td>\n",
              "      <td>0.600</td>\n",
              "      <td>0.600</td>\n",
              "      <td>0.600</td>\n",
              "      <td>1.0</td>\n",
              "      <td>1.0</td>\n",
              "      <td>NaN</td>\n",
              "      <td>1.0</td>\n",
              "      <td>1.0</td>\n",
              "      <td>1.0</td>\n",
              "      <td>1.0</td>\n",
              "      <td>1.0</td>\n",
              "      <td>1.0</td>\n",
              "      <td>4.0</td>\n",
              "      <td>NaN</td>\n",
              "      <td>4.0</td>\n",
              "      <td>4.0</td>\n",
              "      <td>4.0</td>\n",
              "      <td>4.0</td>\n",
              "      <td>4.0</td>\n",
              "      <td>1.0</td>\n",
              "      <td>5.0</td>\n",
              "      <td>NaN</td>\n",
              "      <td>5.0</td>\n",
              "      <td>5.0</td>\n",
              "      <td>5.0</td>\n",
              "      <td>5.0</td>\n",
              "      <td>5.0</td>\n",
              "      <td>1.0</td>\n",
              "      <td>4.0</td>\n",
              "      <td>NaN</td>\n",
              "      <td>4.0</td>\n",
              "      <td>4.0</td>\n",
              "      <td>4.0</td>\n",
              "      <td>4.0</td>\n",
              "      <td>4.0</td>\n",
              "      <td>1.0</td>\n",
              "      <td>1.0</td>\n",
              "      <td>NaN</td>\n",
              "      <td>1.0</td>\n",
              "      <td>1.0</td>\n",
              "      <td>1.0</td>\n",
              "      <td>1.0</td>\n",
              "      <td>1.0</td>\n",
              "      <td>1.0</td>\n",
              "      <td>0.0</td>\n",
              "      <td>NaN</td>\n",
              "      <td>0.0</td>\n",
              "      <td>0.0</td>\n",
              "      <td>0.0</td>\n",
              "      <td>0.0</td>\n",
              "      <td>0.0</td>\n",
              "      <td>1.0</td>\n",
              "      <td>5.0</td>\n",
              "      <td>NaN</td>\n",
              "      <td>5.0</td>\n",
              "      <td>5.0</td>\n",
              "      <td>5.0</td>\n",
              "      <td>5.0</td>\n",
              "      <td>5.0</td>\n",
              "      <td>1.0</td>\n",
              "      <td>10.0</td>\n",
              "      <td>NaN</td>\n",
              "      <td>10.0</td>\n",
              "      <td>10.0</td>\n",
              "      <td>10.0</td>\n",
              "      <td>10.0</td>\n",
              "      <td>10.0</td>\n",
              "      <td>1.0</td>\n",
              "      <td>-12.0</td>\n",
              "      <td>NaN</td>\n",
              "      <td>-12.0</td>\n",
              "      <td>-12.0</td>\n",
              "      <td>-12.0</td>\n",
              "      <td>-12.0</td>\n",
              "      <td>-12.0</td>\n",
              "    </tr>\n",
              "    <tr>\n",
              "      <th>0.8</th>\n",
              "      <td>1.0</td>\n",
              "      <td>9.0</td>\n",
              "      <td>NaN</td>\n",
              "      <td>9.0</td>\n",
              "      <td>9.0</td>\n",
              "      <td>9.0</td>\n",
              "      <td>9.0</td>\n",
              "      <td>9.0</td>\n",
              "      <td>1.0</td>\n",
              "      <td>3.0</td>\n",
              "      <td>NaN</td>\n",
              "      <td>3.0</td>\n",
              "      <td>3.0</td>\n",
              "      <td>3.0</td>\n",
              "      <td>3.0</td>\n",
              "      <td>3.0</td>\n",
              "      <td>1.0</td>\n",
              "      <td>12.0</td>\n",
              "      <td>NaN</td>\n",
              "      <td>12.0</td>\n",
              "      <td>12.0</td>\n",
              "      <td>12.0</td>\n",
              "      <td>12.0</td>\n",
              "      <td>12.0</td>\n",
              "      <td>1.0</td>\n",
              "      <td>0.250</td>\n",
              "      <td>NaN</td>\n",
              "      <td>0.250</td>\n",
              "      <td>0.250</td>\n",
              "      <td>0.250</td>\n",
              "      <td>0.250</td>\n",
              "      <td>0.250</td>\n",
              "      <td>1.0</td>\n",
              "      <td>2.0</td>\n",
              "      <td>NaN</td>\n",
              "      <td>2.0</td>\n",
              "      <td>2.0</td>\n",
              "      <td>2.0</td>\n",
              "      <td>2.0</td>\n",
              "      <td>2.0</td>\n",
              "      <td>1.0</td>\n",
              "      <td>4.0</td>\n",
              "      <td>NaN</td>\n",
              "      <td>4.0</td>\n",
              "      <td>4.0</td>\n",
              "      <td>4.0</td>\n",
              "      <td>4.0</td>\n",
              "      <td>4.0</td>\n",
              "      <td>1.0</td>\n",
              "      <td>0.500</td>\n",
              "      <td>NaN</td>\n",
              "      <td>0.500</td>\n",
              "      <td>0.500</td>\n",
              "      <td>0.500</td>\n",
              "      <td>0.500</td>\n",
              "      <td>0.500</td>\n",
              "      <td>1.0</td>\n",
              "      <td>2.0</td>\n",
              "      <td>NaN</td>\n",
              "      <td>2.0</td>\n",
              "      <td>2.0</td>\n",
              "      <td>2.0</td>\n",
              "      <td>2.0</td>\n",
              "      <td>2.0</td>\n",
              "      <td>1.0</td>\n",
              "      <td>4.0</td>\n",
              "      <td>NaN</td>\n",
              "      <td>4.0</td>\n",
              "      <td>4.0</td>\n",
              "      <td>4.0</td>\n",
              "      <td>4.0</td>\n",
              "      <td>4.0</td>\n",
              "      <td>1.0</td>\n",
              "      <td>0.500</td>\n",
              "      <td>NaN</td>\n",
              "      <td>0.500</td>\n",
              "      <td>0.500</td>\n",
              "      <td>0.500</td>\n",
              "      <td>0.500</td>\n",
              "      <td>0.500</td>\n",
              "      <td>1.0</td>\n",
              "      <td>1.0</td>\n",
              "      <td>NaN</td>\n",
              "      <td>1.0</td>\n",
              "      <td>1.0</td>\n",
              "      <td>1.0</td>\n",
              "      <td>1.0</td>\n",
              "      <td>1.0</td>\n",
              "      <td>1.0</td>\n",
              "      <td>4.0</td>\n",
              "      <td>NaN</td>\n",
              "      <td>4.0</td>\n",
              "      <td>4.0</td>\n",
              "      <td>4.0</td>\n",
              "      <td>4.0</td>\n",
              "      <td>4.0</td>\n",
              "      <td>1.0</td>\n",
              "      <td>5.0</td>\n",
              "      <td>NaN</td>\n",
              "      <td>5.0</td>\n",
              "      <td>5.0</td>\n",
              "      <td>5.0</td>\n",
              "      <td>5.0</td>\n",
              "      <td>5.0</td>\n",
              "      <td>1.0</td>\n",
              "      <td>3.0</td>\n",
              "      <td>NaN</td>\n",
              "      <td>3.0</td>\n",
              "      <td>3.0</td>\n",
              "      <td>3.0</td>\n",
              "      <td>3.0</td>\n",
              "      <td>3.0</td>\n",
              "      <td>1.0</td>\n",
              "      <td>0.0</td>\n",
              "      <td>NaN</td>\n",
              "      <td>0.0</td>\n",
              "      <td>0.0</td>\n",
              "      <td>0.0</td>\n",
              "      <td>0.0</td>\n",
              "      <td>0.0</td>\n",
              "      <td>1.0</td>\n",
              "      <td>0.0</td>\n",
              "      <td>NaN</td>\n",
              "      <td>0.0</td>\n",
              "      <td>0.0</td>\n",
              "      <td>0.0</td>\n",
              "      <td>0.0</td>\n",
              "      <td>0.0</td>\n",
              "      <td>1.0</td>\n",
              "      <td>4.0</td>\n",
              "      <td>NaN</td>\n",
              "      <td>4.0</td>\n",
              "      <td>4.0</td>\n",
              "      <td>4.0</td>\n",
              "      <td>4.0</td>\n",
              "      <td>4.0</td>\n",
              "      <td>1.0</td>\n",
              "      <td>10.0</td>\n",
              "      <td>NaN</td>\n",
              "      <td>10.0</td>\n",
              "      <td>10.0</td>\n",
              "      <td>10.0</td>\n",
              "      <td>10.0</td>\n",
              "      <td>10.0</td>\n",
              "      <td>1.0</td>\n",
              "      <td>-1.0</td>\n",
              "      <td>NaN</td>\n",
              "      <td>-1.0</td>\n",
              "      <td>-1.0</td>\n",
              "      <td>-1.0</td>\n",
              "      <td>-1.0</td>\n",
              "      <td>-1.0</td>\n",
              "    </tr>\n",
              "    <tr>\n",
              "      <th>0.9</th>\n",
              "      <td>1.0</td>\n",
              "      <td>19.0</td>\n",
              "      <td>NaN</td>\n",
              "      <td>19.0</td>\n",
              "      <td>19.0</td>\n",
              "      <td>19.0</td>\n",
              "      <td>19.0</td>\n",
              "      <td>19.0</td>\n",
              "      <td>1.0</td>\n",
              "      <td>2.0</td>\n",
              "      <td>NaN</td>\n",
              "      <td>2.0</td>\n",
              "      <td>2.0</td>\n",
              "      <td>2.0</td>\n",
              "      <td>2.0</td>\n",
              "      <td>2.0</td>\n",
              "      <td>1.0</td>\n",
              "      <td>13.0</td>\n",
              "      <td>NaN</td>\n",
              "      <td>13.0</td>\n",
              "      <td>13.0</td>\n",
              "      <td>13.0</td>\n",
              "      <td>13.0</td>\n",
              "      <td>13.0</td>\n",
              "      <td>1.0</td>\n",
              "      <td>0.154</td>\n",
              "      <td>NaN</td>\n",
              "      <td>0.154</td>\n",
              "      <td>0.154</td>\n",
              "      <td>0.154</td>\n",
              "      <td>0.154</td>\n",
              "      <td>0.154</td>\n",
              "      <td>1.0</td>\n",
              "      <td>0.0</td>\n",
              "      <td>NaN</td>\n",
              "      <td>0.0</td>\n",
              "      <td>0.0</td>\n",
              "      <td>0.0</td>\n",
              "      <td>0.0</td>\n",
              "      <td>0.0</td>\n",
              "      <td>1.0</td>\n",
              "      <td>3.0</td>\n",
              "      <td>NaN</td>\n",
              "      <td>3.0</td>\n",
              "      <td>3.0</td>\n",
              "      <td>3.0</td>\n",
              "      <td>3.0</td>\n",
              "      <td>3.0</td>\n",
              "      <td>1.0</td>\n",
              "      <td>0.000</td>\n",
              "      <td>NaN</td>\n",
              "      <td>0.000</td>\n",
              "      <td>0.000</td>\n",
              "      <td>0.000</td>\n",
              "      <td>0.000</td>\n",
              "      <td>0.000</td>\n",
              "      <td>1.0</td>\n",
              "      <td>0.0</td>\n",
              "      <td>NaN</td>\n",
              "      <td>0.0</td>\n",
              "      <td>0.0</td>\n",
              "      <td>0.0</td>\n",
              "      <td>0.0</td>\n",
              "      <td>0.0</td>\n",
              "      <td>1.0</td>\n",
              "      <td>0.0</td>\n",
              "      <td>NaN</td>\n",
              "      <td>0.0</td>\n",
              "      <td>0.0</td>\n",
              "      <td>0.0</td>\n",
              "      <td>0.0</td>\n",
              "      <td>0.0</td>\n",
              "      <td>0.0</td>\n",
              "      <td>NaN</td>\n",
              "      <td>NaN</td>\n",
              "      <td>NaN</td>\n",
              "      <td>NaN</td>\n",
              "      <td>NaN</td>\n",
              "      <td>NaN</td>\n",
              "      <td>NaN</td>\n",
              "      <td>1.0</td>\n",
              "      <td>4.0</td>\n",
              "      <td>NaN</td>\n",
              "      <td>4.0</td>\n",
              "      <td>4.0</td>\n",
              "      <td>4.0</td>\n",
              "      <td>4.0</td>\n",
              "      <td>4.0</td>\n",
              "      <td>1.0</td>\n",
              "      <td>2.0</td>\n",
              "      <td>NaN</td>\n",
              "      <td>2.0</td>\n",
              "      <td>2.0</td>\n",
              "      <td>2.0</td>\n",
              "      <td>2.0</td>\n",
              "      <td>2.0</td>\n",
              "      <td>1.0</td>\n",
              "      <td>6.0</td>\n",
              "      <td>NaN</td>\n",
              "      <td>6.0</td>\n",
              "      <td>6.0</td>\n",
              "      <td>6.0</td>\n",
              "      <td>6.0</td>\n",
              "      <td>6.0</td>\n",
              "      <td>1.0</td>\n",
              "      <td>8.0</td>\n",
              "      <td>NaN</td>\n",
              "      <td>8.0</td>\n",
              "      <td>8.0</td>\n",
              "      <td>8.0</td>\n",
              "      <td>8.0</td>\n",
              "      <td>8.0</td>\n",
              "      <td>1.0</td>\n",
              "      <td>2.0</td>\n",
              "      <td>NaN</td>\n",
              "      <td>2.0</td>\n",
              "      <td>2.0</td>\n",
              "      <td>2.0</td>\n",
              "      <td>2.0</td>\n",
              "      <td>2.0</td>\n",
              "      <td>1.0</td>\n",
              "      <td>0.0</td>\n",
              "      <td>NaN</td>\n",
              "      <td>0.0</td>\n",
              "      <td>0.0</td>\n",
              "      <td>0.0</td>\n",
              "      <td>0.0</td>\n",
              "      <td>0.0</td>\n",
              "      <td>1.0</td>\n",
              "      <td>5.0</td>\n",
              "      <td>NaN</td>\n",
              "      <td>5.0</td>\n",
              "      <td>5.0</td>\n",
              "      <td>5.0</td>\n",
              "      <td>5.0</td>\n",
              "      <td>5.0</td>\n",
              "      <td>1.0</td>\n",
              "      <td>4.0</td>\n",
              "      <td>NaN</td>\n",
              "      <td>4.0</td>\n",
              "      <td>4.0</td>\n",
              "      <td>4.0</td>\n",
              "      <td>4.0</td>\n",
              "      <td>4.0</td>\n",
              "      <td>1.0</td>\n",
              "      <td>3.0</td>\n",
              "      <td>NaN</td>\n",
              "      <td>3.0</td>\n",
              "      <td>3.0</td>\n",
              "      <td>3.0</td>\n",
              "      <td>3.0</td>\n",
              "      <td>3.0</td>\n",
              "    </tr>\n",
              "    <tr>\n",
              "      <th>1.1</th>\n",
              "      <td>1.0</td>\n",
              "      <td>16.0</td>\n",
              "      <td>NaN</td>\n",
              "      <td>16.0</td>\n",
              "      <td>16.0</td>\n",
              "      <td>16.0</td>\n",
              "      <td>16.0</td>\n",
              "      <td>16.0</td>\n",
              "      <td>1.0</td>\n",
              "      <td>2.0</td>\n",
              "      <td>NaN</td>\n",
              "      <td>2.0</td>\n",
              "      <td>2.0</td>\n",
              "      <td>2.0</td>\n",
              "      <td>2.0</td>\n",
              "      <td>2.0</td>\n",
              "      <td>1.0</td>\n",
              "      <td>8.0</td>\n",
              "      <td>NaN</td>\n",
              "      <td>8.0</td>\n",
              "      <td>8.0</td>\n",
              "      <td>8.0</td>\n",
              "      <td>8.0</td>\n",
              "      <td>8.0</td>\n",
              "      <td>1.0</td>\n",
              "      <td>0.250</td>\n",
              "      <td>NaN</td>\n",
              "      <td>0.250</td>\n",
              "      <td>0.250</td>\n",
              "      <td>0.250</td>\n",
              "      <td>0.250</td>\n",
              "      <td>0.250</td>\n",
              "      <td>1.0</td>\n",
              "      <td>0.0</td>\n",
              "      <td>NaN</td>\n",
              "      <td>0.0</td>\n",
              "      <td>0.0</td>\n",
              "      <td>0.0</td>\n",
              "      <td>0.0</td>\n",
              "      <td>0.0</td>\n",
              "      <td>1.0</td>\n",
              "      <td>2.0</td>\n",
              "      <td>NaN</td>\n",
              "      <td>2.0</td>\n",
              "      <td>2.0</td>\n",
              "      <td>2.0</td>\n",
              "      <td>2.0</td>\n",
              "      <td>2.0</td>\n",
              "      <td>1.0</td>\n",
              "      <td>0.000</td>\n",
              "      <td>NaN</td>\n",
              "      <td>0.000</td>\n",
              "      <td>0.000</td>\n",
              "      <td>0.000</td>\n",
              "      <td>0.000</td>\n",
              "      <td>0.000</td>\n",
              "      <td>1.0</td>\n",
              "      <td>2.0</td>\n",
              "      <td>NaN</td>\n",
              "      <td>2.0</td>\n",
              "      <td>2.0</td>\n",
              "      <td>2.0</td>\n",
              "      <td>2.0</td>\n",
              "      <td>2.0</td>\n",
              "      <td>1.0</td>\n",
              "      <td>3.0</td>\n",
              "      <td>NaN</td>\n",
              "      <td>3.0</td>\n",
              "      <td>3.0</td>\n",
              "      <td>3.0</td>\n",
              "      <td>3.0</td>\n",
              "      <td>3.0</td>\n",
              "      <td>1.0</td>\n",
              "      <td>0.667</td>\n",
              "      <td>NaN</td>\n",
              "      <td>0.667</td>\n",
              "      <td>0.667</td>\n",
              "      <td>0.667</td>\n",
              "      <td>0.667</td>\n",
              "      <td>0.667</td>\n",
              "      <td>1.0</td>\n",
              "      <td>0.0</td>\n",
              "      <td>NaN</td>\n",
              "      <td>0.0</td>\n",
              "      <td>0.0</td>\n",
              "      <td>0.0</td>\n",
              "      <td>0.0</td>\n",
              "      <td>0.0</td>\n",
              "      <td>1.0</td>\n",
              "      <td>2.0</td>\n",
              "      <td>NaN</td>\n",
              "      <td>2.0</td>\n",
              "      <td>2.0</td>\n",
              "      <td>2.0</td>\n",
              "      <td>2.0</td>\n",
              "      <td>2.0</td>\n",
              "      <td>1.0</td>\n",
              "      <td>2.0</td>\n",
              "      <td>NaN</td>\n",
              "      <td>2.0</td>\n",
              "      <td>2.0</td>\n",
              "      <td>2.0</td>\n",
              "      <td>2.0</td>\n",
              "      <td>2.0</td>\n",
              "      <td>1.0</td>\n",
              "      <td>7.0</td>\n",
              "      <td>NaN</td>\n",
              "      <td>7.0</td>\n",
              "      <td>7.0</td>\n",
              "      <td>7.0</td>\n",
              "      <td>7.0</td>\n",
              "      <td>7.0</td>\n",
              "      <td>1.0</td>\n",
              "      <td>0.0</td>\n",
              "      <td>NaN</td>\n",
              "      <td>0.0</td>\n",
              "      <td>0.0</td>\n",
              "      <td>0.0</td>\n",
              "      <td>0.0</td>\n",
              "      <td>0.0</td>\n",
              "      <td>1.0</td>\n",
              "      <td>0.0</td>\n",
              "      <td>NaN</td>\n",
              "      <td>0.0</td>\n",
              "      <td>0.0</td>\n",
              "      <td>0.0</td>\n",
              "      <td>0.0</td>\n",
              "      <td>0.0</td>\n",
              "      <td>1.0</td>\n",
              "      <td>4.0</td>\n",
              "      <td>NaN</td>\n",
              "      <td>4.0</td>\n",
              "      <td>4.0</td>\n",
              "      <td>4.0</td>\n",
              "      <td>4.0</td>\n",
              "      <td>4.0</td>\n",
              "      <td>1.0</td>\n",
              "      <td>6.0</td>\n",
              "      <td>NaN</td>\n",
              "      <td>6.0</td>\n",
              "      <td>6.0</td>\n",
              "      <td>6.0</td>\n",
              "      <td>6.0</td>\n",
              "      <td>6.0</td>\n",
              "      <td>1.0</td>\n",
              "      <td>-10.0</td>\n",
              "      <td>NaN</td>\n",
              "      <td>-10.0</td>\n",
              "      <td>-10.0</td>\n",
              "      <td>-10.0</td>\n",
              "      <td>-10.0</td>\n",
              "      <td>-10.0</td>\n",
              "    </tr>\n",
              "    <tr>\n",
              "      <th>...</th>\n",
              "      <td>...</td>\n",
              "      <td>...</td>\n",
              "      <td>...</td>\n",
              "      <td>...</td>\n",
              "      <td>...</td>\n",
              "      <td>...</td>\n",
              "      <td>...</td>\n",
              "      <td>...</td>\n",
              "      <td>...</td>\n",
              "      <td>...</td>\n",
              "      <td>...</td>\n",
              "      <td>...</td>\n",
              "      <td>...</td>\n",
              "      <td>...</td>\n",
              "      <td>...</td>\n",
              "      <td>...</td>\n",
              "      <td>...</td>\n",
              "      <td>...</td>\n",
              "      <td>...</td>\n",
              "      <td>...</td>\n",
              "      <td>...</td>\n",
              "      <td>...</td>\n",
              "      <td>...</td>\n",
              "      <td>...</td>\n",
              "      <td>...</td>\n",
              "      <td>...</td>\n",
              "      <td>...</td>\n",
              "      <td>...</td>\n",
              "      <td>...</td>\n",
              "      <td>...</td>\n",
              "      <td>...</td>\n",
              "      <td>...</td>\n",
              "      <td>...</td>\n",
              "      <td>...</td>\n",
              "      <td>...</td>\n",
              "      <td>...</td>\n",
              "      <td>...</td>\n",
              "      <td>...</td>\n",
              "      <td>...</td>\n",
              "      <td>...</td>\n",
              "      <td>...</td>\n",
              "      <td>...</td>\n",
              "      <td>...</td>\n",
              "      <td>...</td>\n",
              "      <td>...</td>\n",
              "      <td>...</td>\n",
              "      <td>...</td>\n",
              "      <td>...</td>\n",
              "      <td>...</td>\n",
              "      <td>...</td>\n",
              "      <td>...</td>\n",
              "      <td>...</td>\n",
              "      <td>...</td>\n",
              "      <td>...</td>\n",
              "      <td>...</td>\n",
              "      <td>...</td>\n",
              "      <td>...</td>\n",
              "      <td>...</td>\n",
              "      <td>...</td>\n",
              "      <td>...</td>\n",
              "      <td>...</td>\n",
              "      <td>...</td>\n",
              "      <td>...</td>\n",
              "      <td>...</td>\n",
              "      <td>...</td>\n",
              "      <td>...</td>\n",
              "      <td>...</td>\n",
              "      <td>...</td>\n",
              "      <td>...</td>\n",
              "      <td>...</td>\n",
              "      <td>...</td>\n",
              "      <td>...</td>\n",
              "      <td>...</td>\n",
              "      <td>...</td>\n",
              "      <td>...</td>\n",
              "      <td>...</td>\n",
              "      <td>...</td>\n",
              "      <td>...</td>\n",
              "      <td>...</td>\n",
              "      <td>...</td>\n",
              "      <td>...</td>\n",
              "      <td>...</td>\n",
              "      <td>...</td>\n",
              "      <td>...</td>\n",
              "      <td>...</td>\n",
              "      <td>...</td>\n",
              "      <td>...</td>\n",
              "      <td>...</td>\n",
              "      <td>...</td>\n",
              "      <td>...</td>\n",
              "      <td>...</td>\n",
              "      <td>...</td>\n",
              "      <td>...</td>\n",
              "      <td>...</td>\n",
              "      <td>...</td>\n",
              "      <td>...</td>\n",
              "      <td>...</td>\n",
              "      <td>...</td>\n",
              "      <td>...</td>\n",
              "      <td>...</td>\n",
              "      <td>...</td>\n",
              "      <td>...</td>\n",
              "      <td>...</td>\n",
              "      <td>...</td>\n",
              "      <td>...</td>\n",
              "      <td>...</td>\n",
              "      <td>...</td>\n",
              "      <td>...</td>\n",
              "      <td>...</td>\n",
              "      <td>...</td>\n",
              "      <td>...</td>\n",
              "      <td>...</td>\n",
              "      <td>...</td>\n",
              "      <td>...</td>\n",
              "      <td>...</td>\n",
              "      <td>...</td>\n",
              "      <td>...</td>\n",
              "      <td>...</td>\n",
              "      <td>...</td>\n",
              "      <td>...</td>\n",
              "      <td>...</td>\n",
              "      <td>...</td>\n",
              "      <td>...</td>\n",
              "      <td>...</td>\n",
              "      <td>...</td>\n",
              "      <td>...</td>\n",
              "      <td>...</td>\n",
              "      <td>...</td>\n",
              "      <td>...</td>\n",
              "      <td>...</td>\n",
              "      <td>...</td>\n",
              "      <td>...</td>\n",
              "      <td>...</td>\n",
              "      <td>...</td>\n",
              "      <td>...</td>\n",
              "      <td>...</td>\n",
              "      <td>...</td>\n",
              "      <td>...</td>\n",
              "      <td>...</td>\n",
              "      <td>...</td>\n",
              "      <td>...</td>\n",
              "      <td>...</td>\n",
              "      <td>...</td>\n",
              "      <td>...</td>\n",
              "      <td>...</td>\n",
              "      <td>...</td>\n",
              "      <td>...</td>\n",
              "      <td>...</td>\n",
              "      <td>...</td>\n",
              "      <td>...</td>\n",
              "      <td>...</td>\n",
              "      <td>...</td>\n",
              "    </tr>\n",
              "    <tr>\n",
              "      <th>44.7</th>\n",
              "      <td>1.0</td>\n",
              "      <td>34.0</td>\n",
              "      <td>NaN</td>\n",
              "      <td>34.0</td>\n",
              "      <td>34.0</td>\n",
              "      <td>34.0</td>\n",
              "      <td>34.0</td>\n",
              "      <td>34.0</td>\n",
              "      <td>1.0</td>\n",
              "      <td>15.0</td>\n",
              "      <td>NaN</td>\n",
              "      <td>15.0</td>\n",
              "      <td>15.0</td>\n",
              "      <td>15.0</td>\n",
              "      <td>15.0</td>\n",
              "      <td>15.0</td>\n",
              "      <td>1.0</td>\n",
              "      <td>23.0</td>\n",
              "      <td>NaN</td>\n",
              "      <td>23.0</td>\n",
              "      <td>23.0</td>\n",
              "      <td>23.0</td>\n",
              "      <td>23.0</td>\n",
              "      <td>23.0</td>\n",
              "      <td>1.0</td>\n",
              "      <td>0.652</td>\n",
              "      <td>NaN</td>\n",
              "      <td>0.652</td>\n",
              "      <td>0.652</td>\n",
              "      <td>0.652</td>\n",
              "      <td>0.652</td>\n",
              "      <td>0.652</td>\n",
              "      <td>1.0</td>\n",
              "      <td>4.0</td>\n",
              "      <td>NaN</td>\n",
              "      <td>4.0</td>\n",
              "      <td>4.0</td>\n",
              "      <td>4.0</td>\n",
              "      <td>4.0</td>\n",
              "      <td>4.0</td>\n",
              "      <td>1.0</td>\n",
              "      <td>6.0</td>\n",
              "      <td>NaN</td>\n",
              "      <td>6.0</td>\n",
              "      <td>6.0</td>\n",
              "      <td>6.0</td>\n",
              "      <td>6.0</td>\n",
              "      <td>6.0</td>\n",
              "      <td>1.0</td>\n",
              "      <td>0.667</td>\n",
              "      <td>NaN</td>\n",
              "      <td>0.667</td>\n",
              "      <td>0.667</td>\n",
              "      <td>0.667</td>\n",
              "      <td>0.667</td>\n",
              "      <td>0.667</td>\n",
              "      <td>1.0</td>\n",
              "      <td>14.0</td>\n",
              "      <td>NaN</td>\n",
              "      <td>14.0</td>\n",
              "      <td>14.0</td>\n",
              "      <td>14.0</td>\n",
              "      <td>14.0</td>\n",
              "      <td>14.0</td>\n",
              "      <td>1.0</td>\n",
              "      <td>16.0</td>\n",
              "      <td>NaN</td>\n",
              "      <td>16.0</td>\n",
              "      <td>16.0</td>\n",
              "      <td>16.0</td>\n",
              "      <td>16.0</td>\n",
              "      <td>16.0</td>\n",
              "      <td>1.0</td>\n",
              "      <td>0.875</td>\n",
              "      <td>NaN</td>\n",
              "      <td>0.875</td>\n",
              "      <td>0.875</td>\n",
              "      <td>0.875</td>\n",
              "      <td>0.875</td>\n",
              "      <td>0.875</td>\n",
              "      <td>1.0</td>\n",
              "      <td>3.0</td>\n",
              "      <td>NaN</td>\n",
              "      <td>3.0</td>\n",
              "      <td>3.0</td>\n",
              "      <td>3.0</td>\n",
              "      <td>3.0</td>\n",
              "      <td>3.0</td>\n",
              "      <td>1.0</td>\n",
              "      <td>7.0</td>\n",
              "      <td>NaN</td>\n",
              "      <td>7.0</td>\n",
              "      <td>7.0</td>\n",
              "      <td>7.0</td>\n",
              "      <td>7.0</td>\n",
              "      <td>7.0</td>\n",
              "      <td>1.0</td>\n",
              "      <td>10.0</td>\n",
              "      <td>NaN</td>\n",
              "      <td>10.0</td>\n",
              "      <td>10.0</td>\n",
              "      <td>10.0</td>\n",
              "      <td>10.0</td>\n",
              "      <td>10.0</td>\n",
              "      <td>1.0</td>\n",
              "      <td>6.0</td>\n",
              "      <td>NaN</td>\n",
              "      <td>6.0</td>\n",
              "      <td>6.0</td>\n",
              "      <td>6.0</td>\n",
              "      <td>6.0</td>\n",
              "      <td>6.0</td>\n",
              "      <td>1.0</td>\n",
              "      <td>2.0</td>\n",
              "      <td>NaN</td>\n",
              "      <td>2.0</td>\n",
              "      <td>2.0</td>\n",
              "      <td>2.0</td>\n",
              "      <td>2.0</td>\n",
              "      <td>2.0</td>\n",
              "      <td>1.0</td>\n",
              "      <td>2.0</td>\n",
              "      <td>NaN</td>\n",
              "      <td>2.0</td>\n",
              "      <td>2.0</td>\n",
              "      <td>2.0</td>\n",
              "      <td>2.0</td>\n",
              "      <td>2.0</td>\n",
              "      <td>1.0</td>\n",
              "      <td>3.0</td>\n",
              "      <td>NaN</td>\n",
              "      <td>3.0</td>\n",
              "      <td>3.0</td>\n",
              "      <td>3.0</td>\n",
              "      <td>3.0</td>\n",
              "      <td>3.0</td>\n",
              "      <td>1.0</td>\n",
              "      <td>48.0</td>\n",
              "      <td>NaN</td>\n",
              "      <td>48.0</td>\n",
              "      <td>48.0</td>\n",
              "      <td>48.0</td>\n",
              "      <td>48.0</td>\n",
              "      <td>48.0</td>\n",
              "      <td>1.0</td>\n",
              "      <td>7.0</td>\n",
              "      <td>NaN</td>\n",
              "      <td>7.0</td>\n",
              "      <td>7.0</td>\n",
              "      <td>7.0</td>\n",
              "      <td>7.0</td>\n",
              "      <td>7.0</td>\n",
              "    </tr>\n",
              "    <tr>\n",
              "      <th>45.0</th>\n",
              "      <td>1.0</td>\n",
              "      <td>33.0</td>\n",
              "      <td>NaN</td>\n",
              "      <td>33.0</td>\n",
              "      <td>33.0</td>\n",
              "      <td>33.0</td>\n",
              "      <td>33.0</td>\n",
              "      <td>33.0</td>\n",
              "      <td>1.0</td>\n",
              "      <td>18.0</td>\n",
              "      <td>NaN</td>\n",
              "      <td>18.0</td>\n",
              "      <td>18.0</td>\n",
              "      <td>18.0</td>\n",
              "      <td>18.0</td>\n",
              "      <td>18.0</td>\n",
              "      <td>1.0</td>\n",
              "      <td>28.0</td>\n",
              "      <td>NaN</td>\n",
              "      <td>28.0</td>\n",
              "      <td>28.0</td>\n",
              "      <td>28.0</td>\n",
              "      <td>28.0</td>\n",
              "      <td>28.0</td>\n",
              "      <td>1.0</td>\n",
              "      <td>0.643</td>\n",
              "      <td>NaN</td>\n",
              "      <td>0.643</td>\n",
              "      <td>0.643</td>\n",
              "      <td>0.643</td>\n",
              "      <td>0.643</td>\n",
              "      <td>0.643</td>\n",
              "      <td>1.0</td>\n",
              "      <td>6.0</td>\n",
              "      <td>NaN</td>\n",
              "      <td>6.0</td>\n",
              "      <td>6.0</td>\n",
              "      <td>6.0</td>\n",
              "      <td>6.0</td>\n",
              "      <td>6.0</td>\n",
              "      <td>1.0</td>\n",
              "      <td>12.0</td>\n",
              "      <td>NaN</td>\n",
              "      <td>12.0</td>\n",
              "      <td>12.0</td>\n",
              "      <td>12.0</td>\n",
              "      <td>12.0</td>\n",
              "      <td>12.0</td>\n",
              "      <td>1.0</td>\n",
              "      <td>0.500</td>\n",
              "      <td>NaN</td>\n",
              "      <td>0.500</td>\n",
              "      <td>0.500</td>\n",
              "      <td>0.500</td>\n",
              "      <td>0.500</td>\n",
              "      <td>0.500</td>\n",
              "      <td>1.0</td>\n",
              "      <td>9.0</td>\n",
              "      <td>NaN</td>\n",
              "      <td>9.0</td>\n",
              "      <td>9.0</td>\n",
              "      <td>9.0</td>\n",
              "      <td>9.0</td>\n",
              "      <td>9.0</td>\n",
              "      <td>1.0</td>\n",
              "      <td>16.0</td>\n",
              "      <td>NaN</td>\n",
              "      <td>16.0</td>\n",
              "      <td>16.0</td>\n",
              "      <td>16.0</td>\n",
              "      <td>16.0</td>\n",
              "      <td>16.0</td>\n",
              "      <td>1.0</td>\n",
              "      <td>0.563</td>\n",
              "      <td>NaN</td>\n",
              "      <td>0.563</td>\n",
              "      <td>0.563</td>\n",
              "      <td>0.563</td>\n",
              "      <td>0.563</td>\n",
              "      <td>0.563</td>\n",
              "      <td>1.0</td>\n",
              "      <td>3.0</td>\n",
              "      <td>NaN</td>\n",
              "      <td>3.0</td>\n",
              "      <td>3.0</td>\n",
              "      <td>3.0</td>\n",
              "      <td>3.0</td>\n",
              "      <td>3.0</td>\n",
              "      <td>1.0</td>\n",
              "      <td>5.0</td>\n",
              "      <td>NaN</td>\n",
              "      <td>5.0</td>\n",
              "      <td>5.0</td>\n",
              "      <td>5.0</td>\n",
              "      <td>5.0</td>\n",
              "      <td>5.0</td>\n",
              "      <td>1.0</td>\n",
              "      <td>8.0</td>\n",
              "      <td>NaN</td>\n",
              "      <td>8.0</td>\n",
              "      <td>8.0</td>\n",
              "      <td>8.0</td>\n",
              "      <td>8.0</td>\n",
              "      <td>8.0</td>\n",
              "      <td>1.0</td>\n",
              "      <td>9.0</td>\n",
              "      <td>NaN</td>\n",
              "      <td>9.0</td>\n",
              "      <td>9.0</td>\n",
              "      <td>9.0</td>\n",
              "      <td>9.0</td>\n",
              "      <td>9.0</td>\n",
              "      <td>1.0</td>\n",
              "      <td>3.0</td>\n",
              "      <td>NaN</td>\n",
              "      <td>3.0</td>\n",
              "      <td>3.0</td>\n",
              "      <td>3.0</td>\n",
              "      <td>3.0</td>\n",
              "      <td>3.0</td>\n",
              "      <td>1.0</td>\n",
              "      <td>1.0</td>\n",
              "      <td>NaN</td>\n",
              "      <td>1.0</td>\n",
              "      <td>1.0</td>\n",
              "      <td>1.0</td>\n",
              "      <td>1.0</td>\n",
              "      <td>1.0</td>\n",
              "      <td>1.0</td>\n",
              "      <td>4.0</td>\n",
              "      <td>NaN</td>\n",
              "      <td>4.0</td>\n",
              "      <td>4.0</td>\n",
              "      <td>4.0</td>\n",
              "      <td>4.0</td>\n",
              "      <td>4.0</td>\n",
              "      <td>1.0</td>\n",
              "      <td>51.0</td>\n",
              "      <td>NaN</td>\n",
              "      <td>51.0</td>\n",
              "      <td>51.0</td>\n",
              "      <td>51.0</td>\n",
              "      <td>51.0</td>\n",
              "      <td>51.0</td>\n",
              "      <td>1.0</td>\n",
              "      <td>10.0</td>\n",
              "      <td>NaN</td>\n",
              "      <td>10.0</td>\n",
              "      <td>10.0</td>\n",
              "      <td>10.0</td>\n",
              "      <td>10.0</td>\n",
              "      <td>10.0</td>\n",
              "    </tr>\n",
              "    <tr>\n",
              "      <th>46.7</th>\n",
              "      <td>1.0</td>\n",
              "      <td>47.0</td>\n",
              "      <td>NaN</td>\n",
              "      <td>47.0</td>\n",
              "      <td>47.0</td>\n",
              "      <td>47.0</td>\n",
              "      <td>47.0</td>\n",
              "      <td>47.0</td>\n",
              "      <td>1.0</td>\n",
              "      <td>17.0</td>\n",
              "      <td>NaN</td>\n",
              "      <td>17.0</td>\n",
              "      <td>17.0</td>\n",
              "      <td>17.0</td>\n",
              "      <td>17.0</td>\n",
              "      <td>17.0</td>\n",
              "      <td>1.0</td>\n",
              "      <td>25.0</td>\n",
              "      <td>NaN</td>\n",
              "      <td>25.0</td>\n",
              "      <td>25.0</td>\n",
              "      <td>25.0</td>\n",
              "      <td>25.0</td>\n",
              "      <td>25.0</td>\n",
              "      <td>1.0</td>\n",
              "      <td>0.680</td>\n",
              "      <td>NaN</td>\n",
              "      <td>0.680</td>\n",
              "      <td>0.680</td>\n",
              "      <td>0.680</td>\n",
              "      <td>0.680</td>\n",
              "      <td>0.680</td>\n",
              "      <td>1.0</td>\n",
              "      <td>3.0</td>\n",
              "      <td>NaN</td>\n",
              "      <td>3.0</td>\n",
              "      <td>3.0</td>\n",
              "      <td>3.0</td>\n",
              "      <td>3.0</td>\n",
              "      <td>3.0</td>\n",
              "      <td>1.0</td>\n",
              "      <td>5.0</td>\n",
              "      <td>NaN</td>\n",
              "      <td>5.0</td>\n",
              "      <td>5.0</td>\n",
              "      <td>5.0</td>\n",
              "      <td>5.0</td>\n",
              "      <td>5.0</td>\n",
              "      <td>1.0</td>\n",
              "      <td>0.600</td>\n",
              "      <td>NaN</td>\n",
              "      <td>0.600</td>\n",
              "      <td>0.600</td>\n",
              "      <td>0.600</td>\n",
              "      <td>0.600</td>\n",
              "      <td>0.600</td>\n",
              "      <td>1.0</td>\n",
              "      <td>14.0</td>\n",
              "      <td>NaN</td>\n",
              "      <td>14.0</td>\n",
              "      <td>14.0</td>\n",
              "      <td>14.0</td>\n",
              "      <td>14.0</td>\n",
              "      <td>14.0</td>\n",
              "      <td>1.0</td>\n",
              "      <td>17.0</td>\n",
              "      <td>NaN</td>\n",
              "      <td>17.0</td>\n",
              "      <td>17.0</td>\n",
              "      <td>17.0</td>\n",
              "      <td>17.0</td>\n",
              "      <td>17.0</td>\n",
              "      <td>1.0</td>\n",
              "      <td>0.824</td>\n",
              "      <td>NaN</td>\n",
              "      <td>0.824</td>\n",
              "      <td>0.824</td>\n",
              "      <td>0.824</td>\n",
              "      <td>0.824</td>\n",
              "      <td>0.824</td>\n",
              "      <td>1.0</td>\n",
              "      <td>2.0</td>\n",
              "      <td>NaN</td>\n",
              "      <td>2.0</td>\n",
              "      <td>2.0</td>\n",
              "      <td>2.0</td>\n",
              "      <td>2.0</td>\n",
              "      <td>2.0</td>\n",
              "      <td>1.0</td>\n",
              "      <td>9.0</td>\n",
              "      <td>NaN</td>\n",
              "      <td>9.0</td>\n",
              "      <td>9.0</td>\n",
              "      <td>9.0</td>\n",
              "      <td>9.0</td>\n",
              "      <td>9.0</td>\n",
              "      <td>1.0</td>\n",
              "      <td>11.0</td>\n",
              "      <td>NaN</td>\n",
              "      <td>11.0</td>\n",
              "      <td>11.0</td>\n",
              "      <td>11.0</td>\n",
              "      <td>11.0</td>\n",
              "      <td>11.0</td>\n",
              "      <td>1.0</td>\n",
              "      <td>8.0</td>\n",
              "      <td>NaN</td>\n",
              "      <td>8.0</td>\n",
              "      <td>8.0</td>\n",
              "      <td>8.0</td>\n",
              "      <td>8.0</td>\n",
              "      <td>8.0</td>\n",
              "      <td>1.0</td>\n",
              "      <td>1.0</td>\n",
              "      <td>NaN</td>\n",
              "      <td>1.0</td>\n",
              "      <td>1.0</td>\n",
              "      <td>1.0</td>\n",
              "      <td>1.0</td>\n",
              "      <td>1.0</td>\n",
              "      <td>1.0</td>\n",
              "      <td>1.0</td>\n",
              "      <td>NaN</td>\n",
              "      <td>1.0</td>\n",
              "      <td>1.0</td>\n",
              "      <td>1.0</td>\n",
              "      <td>1.0</td>\n",
              "      <td>1.0</td>\n",
              "      <td>1.0</td>\n",
              "      <td>3.0</td>\n",
              "      <td>NaN</td>\n",
              "      <td>3.0</td>\n",
              "      <td>3.0</td>\n",
              "      <td>3.0</td>\n",
              "      <td>3.0</td>\n",
              "      <td>3.0</td>\n",
              "      <td>1.0</td>\n",
              "      <td>51.0</td>\n",
              "      <td>NaN</td>\n",
              "      <td>51.0</td>\n",
              "      <td>51.0</td>\n",
              "      <td>51.0</td>\n",
              "      <td>51.0</td>\n",
              "      <td>51.0</td>\n",
              "      <td>1.0</td>\n",
              "      <td>2.0</td>\n",
              "      <td>NaN</td>\n",
              "      <td>2.0</td>\n",
              "      <td>2.0</td>\n",
              "      <td>2.0</td>\n",
              "      <td>2.0</td>\n",
              "      <td>2.0</td>\n",
              "    </tr>\n",
              "    <tr>\n",
              "      <th>48.8</th>\n",
              "      <td>1.0</td>\n",
              "      <td>55.0</td>\n",
              "      <td>NaN</td>\n",
              "      <td>55.0</td>\n",
              "      <td>55.0</td>\n",
              "      <td>55.0</td>\n",
              "      <td>55.0</td>\n",
              "      <td>55.0</td>\n",
              "      <td>1.0</td>\n",
              "      <td>22.0</td>\n",
              "      <td>NaN</td>\n",
              "      <td>22.0</td>\n",
              "      <td>22.0</td>\n",
              "      <td>22.0</td>\n",
              "      <td>22.0</td>\n",
              "      <td>22.0</td>\n",
              "      <td>1.0</td>\n",
              "      <td>33.0</td>\n",
              "      <td>NaN</td>\n",
              "      <td>33.0</td>\n",
              "      <td>33.0</td>\n",
              "      <td>33.0</td>\n",
              "      <td>33.0</td>\n",
              "      <td>33.0</td>\n",
              "      <td>1.0</td>\n",
              "      <td>0.667</td>\n",
              "      <td>NaN</td>\n",
              "      <td>0.667</td>\n",
              "      <td>0.667</td>\n",
              "      <td>0.667</td>\n",
              "      <td>0.667</td>\n",
              "      <td>0.667</td>\n",
              "      <td>1.0</td>\n",
              "      <td>8.0</td>\n",
              "      <td>NaN</td>\n",
              "      <td>8.0</td>\n",
              "      <td>8.0</td>\n",
              "      <td>8.0</td>\n",
              "      <td>8.0</td>\n",
              "      <td>8.0</td>\n",
              "      <td>1.0</td>\n",
              "      <td>10.0</td>\n",
              "      <td>NaN</td>\n",
              "      <td>10.0</td>\n",
              "      <td>10.0</td>\n",
              "      <td>10.0</td>\n",
              "      <td>10.0</td>\n",
              "      <td>10.0</td>\n",
              "      <td>1.0</td>\n",
              "      <td>0.800</td>\n",
              "      <td>NaN</td>\n",
              "      <td>0.800</td>\n",
              "      <td>0.800</td>\n",
              "      <td>0.800</td>\n",
              "      <td>0.800</td>\n",
              "      <td>0.800</td>\n",
              "      <td>1.0</td>\n",
              "      <td>9.0</td>\n",
              "      <td>NaN</td>\n",
              "      <td>9.0</td>\n",
              "      <td>9.0</td>\n",
              "      <td>9.0</td>\n",
              "      <td>9.0</td>\n",
              "      <td>9.0</td>\n",
              "      <td>1.0</td>\n",
              "      <td>12.0</td>\n",
              "      <td>NaN</td>\n",
              "      <td>12.0</td>\n",
              "      <td>12.0</td>\n",
              "      <td>12.0</td>\n",
              "      <td>12.0</td>\n",
              "      <td>12.0</td>\n",
              "      <td>1.0</td>\n",
              "      <td>0.750</td>\n",
              "      <td>NaN</td>\n",
              "      <td>0.750</td>\n",
              "      <td>0.750</td>\n",
              "      <td>0.750</td>\n",
              "      <td>0.750</td>\n",
              "      <td>0.750</td>\n",
              "      <td>1.0</td>\n",
              "      <td>3.0</td>\n",
              "      <td>NaN</td>\n",
              "      <td>3.0</td>\n",
              "      <td>3.0</td>\n",
              "      <td>3.0</td>\n",
              "      <td>3.0</td>\n",
              "      <td>3.0</td>\n",
              "      <td>1.0</td>\n",
              "      <td>4.0</td>\n",
              "      <td>NaN</td>\n",
              "      <td>4.0</td>\n",
              "      <td>4.0</td>\n",
              "      <td>4.0</td>\n",
              "      <td>4.0</td>\n",
              "      <td>4.0</td>\n",
              "      <td>1.0</td>\n",
              "      <td>7.0</td>\n",
              "      <td>NaN</td>\n",
              "      <td>7.0</td>\n",
              "      <td>7.0</td>\n",
              "      <td>7.0</td>\n",
              "      <td>7.0</td>\n",
              "      <td>7.0</td>\n",
              "      <td>1.0</td>\n",
              "      <td>4.0</td>\n",
              "      <td>NaN</td>\n",
              "      <td>4.0</td>\n",
              "      <td>4.0</td>\n",
              "      <td>4.0</td>\n",
              "      <td>4.0</td>\n",
              "      <td>4.0</td>\n",
              "      <td>1.0</td>\n",
              "      <td>0.0</td>\n",
              "      <td>NaN</td>\n",
              "      <td>0.0</td>\n",
              "      <td>0.0</td>\n",
              "      <td>0.0</td>\n",
              "      <td>0.0</td>\n",
              "      <td>0.0</td>\n",
              "      <td>1.0</td>\n",
              "      <td>0.0</td>\n",
              "      <td>NaN</td>\n",
              "      <td>0.0</td>\n",
              "      <td>0.0</td>\n",
              "      <td>0.0</td>\n",
              "      <td>0.0</td>\n",
              "      <td>0.0</td>\n",
              "      <td>1.0</td>\n",
              "      <td>2.0</td>\n",
              "      <td>NaN</td>\n",
              "      <td>2.0</td>\n",
              "      <td>2.0</td>\n",
              "      <td>2.0</td>\n",
              "      <td>2.0</td>\n",
              "      <td>2.0</td>\n",
              "      <td>1.0</td>\n",
              "      <td>61.0</td>\n",
              "      <td>NaN</td>\n",
              "      <td>61.0</td>\n",
              "      <td>61.0</td>\n",
              "      <td>61.0</td>\n",
              "      <td>61.0</td>\n",
              "      <td>61.0</td>\n",
              "      <td>1.0</td>\n",
              "      <td>16.0</td>\n",
              "      <td>NaN</td>\n",
              "      <td>16.0</td>\n",
              "      <td>16.0</td>\n",
              "      <td>16.0</td>\n",
              "      <td>16.0</td>\n",
              "      <td>16.0</td>\n",
              "    </tr>\n",
              "    <tr>\n",
              "      <th>53.2</th>\n",
              "      <td>1.0</td>\n",
              "      <td>9.0</td>\n",
              "      <td>NaN</td>\n",
              "      <td>9.0</td>\n",
              "      <td>9.0</td>\n",
              "      <td>9.0</td>\n",
              "      <td>9.0</td>\n",
              "      <td>9.0</td>\n",
              "      <td>1.0</td>\n",
              "      <td>23.0</td>\n",
              "      <td>NaN</td>\n",
              "      <td>23.0</td>\n",
              "      <td>23.0</td>\n",
              "      <td>23.0</td>\n",
              "      <td>23.0</td>\n",
              "      <td>23.0</td>\n",
              "      <td>1.0</td>\n",
              "      <td>34.0</td>\n",
              "      <td>NaN</td>\n",
              "      <td>34.0</td>\n",
              "      <td>34.0</td>\n",
              "      <td>34.0</td>\n",
              "      <td>34.0</td>\n",
              "      <td>34.0</td>\n",
              "      <td>1.0</td>\n",
              "      <td>0.676</td>\n",
              "      <td>NaN</td>\n",
              "      <td>0.676</td>\n",
              "      <td>0.676</td>\n",
              "      <td>0.676</td>\n",
              "      <td>0.676</td>\n",
              "      <td>0.676</td>\n",
              "      <td>1.0</td>\n",
              "      <td>2.0</td>\n",
              "      <td>NaN</td>\n",
              "      <td>2.0</td>\n",
              "      <td>2.0</td>\n",
              "      <td>2.0</td>\n",
              "      <td>2.0</td>\n",
              "      <td>2.0</td>\n",
              "      <td>1.0</td>\n",
              "      <td>4.0</td>\n",
              "      <td>NaN</td>\n",
              "      <td>4.0</td>\n",
              "      <td>4.0</td>\n",
              "      <td>4.0</td>\n",
              "      <td>4.0</td>\n",
              "      <td>4.0</td>\n",
              "      <td>1.0</td>\n",
              "      <td>0.500</td>\n",
              "      <td>NaN</td>\n",
              "      <td>0.500</td>\n",
              "      <td>0.500</td>\n",
              "      <td>0.500</td>\n",
              "      <td>0.500</td>\n",
              "      <td>0.500</td>\n",
              "      <td>1.0</td>\n",
              "      <td>9.0</td>\n",
              "      <td>NaN</td>\n",
              "      <td>9.0</td>\n",
              "      <td>9.0</td>\n",
              "      <td>9.0</td>\n",
              "      <td>9.0</td>\n",
              "      <td>9.0</td>\n",
              "      <td>1.0</td>\n",
              "      <td>9.0</td>\n",
              "      <td>NaN</td>\n",
              "      <td>9.0</td>\n",
              "      <td>9.0</td>\n",
              "      <td>9.0</td>\n",
              "      <td>9.0</td>\n",
              "      <td>9.0</td>\n",
              "      <td>1.0</td>\n",
              "      <td>1.000</td>\n",
              "      <td>NaN</td>\n",
              "      <td>1.000</td>\n",
              "      <td>1.000</td>\n",
              "      <td>1.000</td>\n",
              "      <td>1.000</td>\n",
              "      <td>1.000</td>\n",
              "      <td>1.0</td>\n",
              "      <td>5.0</td>\n",
              "      <td>NaN</td>\n",
              "      <td>5.0</td>\n",
              "      <td>5.0</td>\n",
              "      <td>5.0</td>\n",
              "      <td>5.0</td>\n",
              "      <td>5.0</td>\n",
              "      <td>1.0</td>\n",
              "      <td>6.0</td>\n",
              "      <td>NaN</td>\n",
              "      <td>6.0</td>\n",
              "      <td>6.0</td>\n",
              "      <td>6.0</td>\n",
              "      <td>6.0</td>\n",
              "      <td>6.0</td>\n",
              "      <td>1.0</td>\n",
              "      <td>11.0</td>\n",
              "      <td>NaN</td>\n",
              "      <td>11.0</td>\n",
              "      <td>11.0</td>\n",
              "      <td>11.0</td>\n",
              "      <td>11.0</td>\n",
              "      <td>11.0</td>\n",
              "      <td>1.0</td>\n",
              "      <td>7.0</td>\n",
              "      <td>NaN</td>\n",
              "      <td>7.0</td>\n",
              "      <td>7.0</td>\n",
              "      <td>7.0</td>\n",
              "      <td>7.0</td>\n",
              "      <td>7.0</td>\n",
              "      <td>1.0</td>\n",
              "      <td>3.0</td>\n",
              "      <td>NaN</td>\n",
              "      <td>3.0</td>\n",
              "      <td>3.0</td>\n",
              "      <td>3.0</td>\n",
              "      <td>3.0</td>\n",
              "      <td>3.0</td>\n",
              "      <td>1.0</td>\n",
              "      <td>2.0</td>\n",
              "      <td>NaN</td>\n",
              "      <td>2.0</td>\n",
              "      <td>2.0</td>\n",
              "      <td>2.0</td>\n",
              "      <td>2.0</td>\n",
              "      <td>2.0</td>\n",
              "      <td>1.0</td>\n",
              "      <td>3.0</td>\n",
              "      <td>NaN</td>\n",
              "      <td>3.0</td>\n",
              "      <td>3.0</td>\n",
              "      <td>3.0</td>\n",
              "      <td>3.0</td>\n",
              "      <td>3.0</td>\n",
              "      <td>1.0</td>\n",
              "      <td>57.0</td>\n",
              "      <td>NaN</td>\n",
              "      <td>57.0</td>\n",
              "      <td>57.0</td>\n",
              "      <td>57.0</td>\n",
              "      <td>57.0</td>\n",
              "      <td>57.0</td>\n",
              "      <td>1.0</td>\n",
              "      <td>6.0</td>\n",
              "      <td>NaN</td>\n",
              "      <td>6.0</td>\n",
              "      <td>6.0</td>\n",
              "      <td>6.0</td>\n",
              "      <td>6.0</td>\n",
              "      <td>6.0</td>\n",
              "    </tr>\n",
              "  </tbody>\n",
              "</table>\n",
              "<p>328 rows × 152 columns</p>\n",
              "</div>"
            ],
            "text/plain": [
              "            game                                            fg            \\\n",
              "           count  mean std   min   25%   50%   75%   max count  mean std   \n",
              "game_score                                                                 \n",
              "-0.1         1.0  37.0 NaN  37.0  37.0  37.0  37.0  37.0   1.0   5.0 NaN   \n",
              " 0.6         1.0   1.0 NaN   1.0   1.0   1.0   1.0   1.0   1.0   2.0 NaN   \n",
              " 0.8         1.0   9.0 NaN   9.0   9.0   9.0   9.0   9.0   1.0   3.0 NaN   \n",
              " 0.9         1.0  19.0 NaN  19.0  19.0  19.0  19.0  19.0   1.0   2.0 NaN   \n",
              " 1.1         1.0  16.0 NaN  16.0  16.0  16.0  16.0  16.0   1.0   2.0 NaN   \n",
              "...          ...   ...  ..   ...   ...   ...   ...   ...   ...   ...  ..   \n",
              " 44.7        1.0  34.0 NaN  34.0  34.0  34.0  34.0  34.0   1.0  15.0 NaN   \n",
              " 45.0        1.0  33.0 NaN  33.0  33.0  33.0  33.0  33.0   1.0  18.0 NaN   \n",
              " 46.7        1.0  47.0 NaN  47.0  47.0  47.0  47.0  47.0   1.0  17.0 NaN   \n",
              " 48.8        1.0  55.0 NaN  55.0  55.0  55.0  55.0  55.0   1.0  22.0 NaN   \n",
              " 53.2        1.0   9.0 NaN   9.0   9.0   9.0   9.0   9.0   1.0  23.0 NaN   \n",
              "\n",
              "                                           fga                              \\\n",
              "             min   25%   50%   75%   max count  mean std   min   25%   50%   \n",
              "game_score                                                                   \n",
              "-0.1         5.0   5.0   5.0   5.0   5.0   1.0  22.0 NaN  22.0  22.0  22.0   \n",
              " 0.6         2.0   2.0   2.0   2.0   2.0   1.0  11.0 NaN  11.0  11.0  11.0   \n",
              " 0.8         3.0   3.0   3.0   3.0   3.0   1.0  12.0 NaN  12.0  12.0  12.0   \n",
              " 0.9         2.0   2.0   2.0   2.0   2.0   1.0  13.0 NaN  13.0  13.0  13.0   \n",
              " 1.1         2.0   2.0   2.0   2.0   2.0   1.0   8.0 NaN   8.0   8.0   8.0   \n",
              "...          ...   ...   ...   ...   ...   ...   ...  ..   ...   ...   ...   \n",
              " 44.7       15.0  15.0  15.0  15.0  15.0   1.0  23.0 NaN  23.0  23.0  23.0   \n",
              " 45.0       18.0  18.0  18.0  18.0  18.0   1.0  28.0 NaN  28.0  28.0  28.0   \n",
              " 46.7       17.0  17.0  17.0  17.0  17.0   1.0  25.0 NaN  25.0  25.0  25.0   \n",
              " 48.8       22.0  22.0  22.0  22.0  22.0   1.0  33.0 NaN  33.0  33.0  33.0   \n",
              " 53.2       23.0  23.0  23.0  23.0  23.0   1.0  34.0 NaN  34.0  34.0  34.0   \n",
              "\n",
              "                         fgp                                                \\\n",
              "             75%   max count   mean std    min    25%    50%    75%    max   \n",
              "game_score                                                                   \n",
              "-0.1        22.0  22.0   1.0  0.227 NaN  0.227  0.227  0.227  0.227  0.227   \n",
              " 0.6        11.0  11.0   1.0  0.182 NaN  0.182  0.182  0.182  0.182  0.182   \n",
              " 0.8        12.0  12.0   1.0  0.250 NaN  0.250  0.250  0.250  0.250  0.250   \n",
              " 0.9        13.0  13.0   1.0  0.154 NaN  0.154  0.154  0.154  0.154  0.154   \n",
              " 1.1         8.0   8.0   1.0  0.250 NaN  0.250  0.250  0.250  0.250  0.250   \n",
              "...          ...   ...   ...    ...  ..    ...    ...    ...    ...    ...   \n",
              " 44.7       23.0  23.0   1.0  0.652 NaN  0.652  0.652  0.652  0.652  0.652   \n",
              " 45.0       28.0  28.0   1.0  0.643 NaN  0.643  0.643  0.643  0.643  0.643   \n",
              " 46.7       25.0  25.0   1.0  0.680 NaN  0.680  0.680  0.680  0.680  0.680   \n",
              " 48.8       33.0  33.0   1.0  0.667 NaN  0.667  0.667  0.667  0.667  0.667   \n",
              " 53.2       34.0  34.0   1.0  0.676 NaN  0.676  0.676  0.676  0.676  0.676   \n",
              "\n",
              "           three                                   threeatt                  \\\n",
              "           count mean std  min  25%  50%  75%  max    count  mean std   min   \n",
              "game_score                                                                    \n",
              "-0.1         1.0  0.0 NaN  0.0  0.0  0.0  0.0  0.0      1.0   3.0 NaN   3.0   \n",
              " 0.6         1.0  0.0 NaN  0.0  0.0  0.0  0.0  0.0      1.0   2.0 NaN   2.0   \n",
              " 0.8         1.0  2.0 NaN  2.0  2.0  2.0  2.0  2.0      1.0   4.0 NaN   4.0   \n",
              " 0.9         1.0  0.0 NaN  0.0  0.0  0.0  0.0  0.0      1.0   3.0 NaN   3.0   \n",
              " 1.1         1.0  0.0 NaN  0.0  0.0  0.0  0.0  0.0      1.0   2.0 NaN   2.0   \n",
              "...          ...  ...  ..  ...  ...  ...  ...  ...      ...   ...  ..   ...   \n",
              " 44.7        1.0  4.0 NaN  4.0  4.0  4.0  4.0  4.0      1.0   6.0 NaN   6.0   \n",
              " 45.0        1.0  6.0 NaN  6.0  6.0  6.0  6.0  6.0      1.0  12.0 NaN  12.0   \n",
              " 46.7        1.0  3.0 NaN  3.0  3.0  3.0  3.0  3.0      1.0   5.0 NaN   5.0   \n",
              " 48.8        1.0  8.0 NaN  8.0  8.0  8.0  8.0  8.0      1.0  10.0 NaN  10.0   \n",
              " 53.2        1.0  2.0 NaN  2.0  2.0  2.0  2.0  2.0      1.0   4.0 NaN   4.0   \n",
              "\n",
              "                                   threep                                  \\\n",
              "             25%   50%   75%   max  count   mean std    min    25%    50%   \n",
              "game_score                                                                  \n",
              "-0.1         3.0   3.0   3.0   3.0    1.0  0.000 NaN  0.000  0.000  0.000   \n",
              " 0.6         2.0   2.0   2.0   2.0    1.0  0.000 NaN  0.000  0.000  0.000   \n",
              " 0.8         4.0   4.0   4.0   4.0    1.0  0.500 NaN  0.500  0.500  0.500   \n",
              " 0.9         3.0   3.0   3.0   3.0    1.0  0.000 NaN  0.000  0.000  0.000   \n",
              " 1.1         2.0   2.0   2.0   2.0    1.0  0.000 NaN  0.000  0.000  0.000   \n",
              "...          ...   ...   ...   ...    ...    ...  ..    ...    ...    ...   \n",
              " 44.7        6.0   6.0   6.0   6.0    1.0  0.667 NaN  0.667  0.667  0.667   \n",
              " 45.0       12.0  12.0  12.0  12.0    1.0  0.500 NaN  0.500  0.500  0.500   \n",
              " 46.7        5.0   5.0   5.0   5.0    1.0  0.600 NaN  0.600  0.600  0.600   \n",
              " 48.8       10.0  10.0  10.0  10.0    1.0  0.800 NaN  0.800  0.800  0.800   \n",
              " 53.2        4.0   4.0   4.0   4.0    1.0  0.500 NaN  0.500  0.500  0.500   \n",
              "\n",
              "                            ft                                           fta  \\\n",
              "              75%    max count  mean std   min   25%   50%   75%   max count   \n",
              "game_score                                                                     \n",
              "-0.1        0.000  0.000   1.0   4.0 NaN   4.0   4.0   4.0   4.0   4.0   1.0   \n",
              " 0.6        0.000  0.000   1.0   6.0 NaN   6.0   6.0   6.0   6.0   6.0   1.0   \n",
              " 0.8        0.500  0.500   1.0   2.0 NaN   2.0   2.0   2.0   2.0   2.0   1.0   \n",
              " 0.9        0.000  0.000   1.0   0.0 NaN   0.0   0.0   0.0   0.0   0.0   1.0   \n",
              " 1.1        0.000  0.000   1.0   2.0 NaN   2.0   2.0   2.0   2.0   2.0   1.0   \n",
              "...           ...    ...   ...   ...  ..   ...   ...   ...   ...   ...   ...   \n",
              " 44.7       0.667  0.667   1.0  14.0 NaN  14.0  14.0  14.0  14.0  14.0   1.0   \n",
              " 45.0       0.500  0.500   1.0   9.0 NaN   9.0   9.0   9.0   9.0   9.0   1.0   \n",
              " 46.7       0.600  0.600   1.0  14.0 NaN  14.0  14.0  14.0  14.0  14.0   1.0   \n",
              " 48.8       0.800  0.800   1.0   9.0 NaN   9.0   9.0   9.0   9.0   9.0   1.0   \n",
              " 53.2       0.500  0.500   1.0   9.0 NaN   9.0   9.0   9.0   9.0   9.0   1.0   \n",
              "\n",
              "                                                     ftp                    \\\n",
              "            mean std   min   25%   50%   75%   max count   mean std    min   \n",
              "game_score                                                                   \n",
              "-0.1         6.0 NaN   6.0   6.0   6.0   6.0   6.0   1.0  0.667 NaN  0.667   \n",
              " 0.6        10.0 NaN  10.0  10.0  10.0  10.0  10.0   1.0  0.600 NaN  0.600   \n",
              " 0.8         4.0 NaN   4.0   4.0   4.0   4.0   4.0   1.0  0.500 NaN  0.500   \n",
              " 0.9         0.0 NaN   0.0   0.0   0.0   0.0   0.0   0.0    NaN NaN    NaN   \n",
              " 1.1         3.0 NaN   3.0   3.0   3.0   3.0   3.0   1.0  0.667 NaN  0.667   \n",
              "...          ...  ..   ...   ...   ...   ...   ...   ...    ...  ..    ...   \n",
              " 44.7       16.0 NaN  16.0  16.0  16.0  16.0  16.0   1.0  0.875 NaN  0.875   \n",
              " 45.0       16.0 NaN  16.0  16.0  16.0  16.0  16.0   1.0  0.563 NaN  0.563   \n",
              " 46.7       17.0 NaN  17.0  17.0  17.0  17.0  17.0   1.0  0.824 NaN  0.824   \n",
              " 48.8       12.0 NaN  12.0  12.0  12.0  12.0  12.0   1.0  0.750 NaN  0.750   \n",
              " 53.2        9.0 NaN   9.0   9.0   9.0   9.0   9.0   1.0  1.000 NaN  1.000   \n",
              "\n",
              "                                         orb                               \\\n",
              "              25%    50%    75%    max count mean std  min  25%  50%  75%   \n",
              "game_score                                                                  \n",
              "-0.1        0.667  0.667  0.667  0.667   1.0  1.0 NaN  1.0  1.0  1.0  1.0   \n",
              " 0.6        0.600  0.600  0.600  0.600   1.0  1.0 NaN  1.0  1.0  1.0  1.0   \n",
              " 0.8        0.500  0.500  0.500  0.500   1.0  1.0 NaN  1.0  1.0  1.0  1.0   \n",
              " 0.9          NaN    NaN    NaN    NaN   1.0  4.0 NaN  4.0  4.0  4.0  4.0   \n",
              " 1.1        0.667  0.667  0.667  0.667   1.0  0.0 NaN  0.0  0.0  0.0  0.0   \n",
              "...           ...    ...    ...    ...   ...  ...  ..  ...  ...  ...  ...   \n",
              " 44.7       0.875  0.875  0.875  0.875   1.0  3.0 NaN  3.0  3.0  3.0  3.0   \n",
              " 45.0       0.563  0.563  0.563  0.563   1.0  3.0 NaN  3.0  3.0  3.0  3.0   \n",
              " 46.7       0.824  0.824  0.824  0.824   1.0  2.0 NaN  2.0  2.0  2.0  2.0   \n",
              " 48.8       0.750  0.750  0.750  0.750   1.0  3.0 NaN  3.0  3.0  3.0  3.0   \n",
              " 53.2       1.000  1.000  1.000  1.000   1.0  5.0 NaN  5.0  5.0  5.0  5.0   \n",
              "\n",
              "                  drb                                     trb                  \\\n",
              "            max count mean std  min  25%  50%  75%  max count  mean std   min   \n",
              "game_score                                                                      \n",
              "-0.1        1.0   1.0  8.0 NaN  8.0  8.0  8.0  8.0  8.0   1.0   9.0 NaN   9.0   \n",
              " 0.6        1.0   1.0  4.0 NaN  4.0  4.0  4.0  4.0  4.0   1.0   5.0 NaN   5.0   \n",
              " 0.8        1.0   1.0  4.0 NaN  4.0  4.0  4.0  4.0  4.0   1.0   5.0 NaN   5.0   \n",
              " 0.9        4.0   1.0  2.0 NaN  2.0  2.0  2.0  2.0  2.0   1.0   6.0 NaN   6.0   \n",
              " 1.1        0.0   1.0  2.0 NaN  2.0  2.0  2.0  2.0  2.0   1.0   2.0 NaN   2.0   \n",
              "...         ...   ...  ...  ..  ...  ...  ...  ...  ...   ...   ...  ..   ...   \n",
              " 44.7       3.0   1.0  7.0 NaN  7.0  7.0  7.0  7.0  7.0   1.0  10.0 NaN  10.0   \n",
              " 45.0       3.0   1.0  5.0 NaN  5.0  5.0  5.0  5.0  5.0   1.0   8.0 NaN   8.0   \n",
              " 46.7       2.0   1.0  9.0 NaN  9.0  9.0  9.0  9.0  9.0   1.0  11.0 NaN  11.0   \n",
              " 48.8       3.0   1.0  4.0 NaN  4.0  4.0  4.0  4.0  4.0   1.0   7.0 NaN   7.0   \n",
              " 53.2       5.0   1.0  6.0 NaN  6.0  6.0  6.0  6.0  6.0   1.0  11.0 NaN  11.0   \n",
              "\n",
              "                                     ast                                    \\\n",
              "             25%   50%   75%   max count mean std  min  25%  50%  75%  max   \n",
              "game_score                                                                   \n",
              "-0.1         9.0   9.0   9.0   9.0   1.0  6.0 NaN  6.0  6.0  6.0  6.0  6.0   \n",
              " 0.6         5.0   5.0   5.0   5.0   1.0  4.0 NaN  4.0  4.0  4.0  4.0  4.0   \n",
              " 0.8         5.0   5.0   5.0   5.0   1.0  3.0 NaN  3.0  3.0  3.0  3.0  3.0   \n",
              " 0.9         6.0   6.0   6.0   6.0   1.0  8.0 NaN  8.0  8.0  8.0  8.0  8.0   \n",
              " 1.1         2.0   2.0   2.0   2.0   1.0  7.0 NaN  7.0  7.0  7.0  7.0  7.0   \n",
              "...          ...   ...   ...   ...   ...  ...  ..  ...  ...  ...  ...  ...   \n",
              " 44.7       10.0  10.0  10.0  10.0   1.0  6.0 NaN  6.0  6.0  6.0  6.0  6.0   \n",
              " 45.0        8.0   8.0   8.0   8.0   1.0  9.0 NaN  9.0  9.0  9.0  9.0  9.0   \n",
              " 46.7       11.0  11.0  11.0  11.0   1.0  8.0 NaN  8.0  8.0  8.0  8.0  8.0   \n",
              " 48.8        7.0   7.0   7.0   7.0   1.0  4.0 NaN  4.0  4.0  4.0  4.0  4.0   \n",
              " 53.2       11.0  11.0  11.0  11.0   1.0  7.0 NaN  7.0  7.0  7.0  7.0  7.0   \n",
              "\n",
              "             stl                                     blk                     \\\n",
              "           count mean std  min  25%  50%  75%  max count mean std  min  25%   \n",
              "game_score                                                                    \n",
              "-0.1         1.0  0.0 NaN  0.0  0.0  0.0  0.0  0.0   1.0  0.0 NaN  0.0  0.0   \n",
              " 0.6         1.0  1.0 NaN  1.0  1.0  1.0  1.0  1.0   1.0  0.0 NaN  0.0  0.0   \n",
              " 0.8         1.0  0.0 NaN  0.0  0.0  0.0  0.0  0.0   1.0  0.0 NaN  0.0  0.0   \n",
              " 0.9         1.0  2.0 NaN  2.0  2.0  2.0  2.0  2.0   1.0  0.0 NaN  0.0  0.0   \n",
              " 1.1         1.0  0.0 NaN  0.0  0.0  0.0  0.0  0.0   1.0  0.0 NaN  0.0  0.0   \n",
              "...          ...  ...  ..  ...  ...  ...  ...  ...   ...  ...  ..  ...  ...   \n",
              " 44.7        1.0  2.0 NaN  2.0  2.0  2.0  2.0  2.0   1.0  2.0 NaN  2.0  2.0   \n",
              " 45.0        1.0  3.0 NaN  3.0  3.0  3.0  3.0  3.0   1.0  1.0 NaN  1.0  1.0   \n",
              " 46.7        1.0  1.0 NaN  1.0  1.0  1.0  1.0  1.0   1.0  1.0 NaN  1.0  1.0   \n",
              " 48.8        1.0  0.0 NaN  0.0  0.0  0.0  0.0  0.0   1.0  0.0 NaN  0.0  0.0   \n",
              " 53.2        1.0  3.0 NaN  3.0  3.0  3.0  3.0  3.0   1.0  2.0 NaN  2.0  2.0   \n",
              "\n",
              "                            tov                                     pts        \\\n",
              "            50%  75%  max count mean std  min  25%  50%  75%  max count  mean   \n",
              "game_score                                                                      \n",
              "-0.1        0.0  0.0  0.0   1.0  6.0 NaN  6.0  6.0  6.0  6.0  6.0   1.0  14.0   \n",
              " 0.6        0.0  0.0  0.0   1.0  5.0 NaN  5.0  5.0  5.0  5.0  5.0   1.0  10.0   \n",
              " 0.8        0.0  0.0  0.0   1.0  4.0 NaN  4.0  4.0  4.0  4.0  4.0   1.0  10.0   \n",
              " 0.9        0.0  0.0  0.0   1.0  5.0 NaN  5.0  5.0  5.0  5.0  5.0   1.0   4.0   \n",
              " 1.1        0.0  0.0  0.0   1.0  4.0 NaN  4.0  4.0  4.0  4.0  4.0   1.0   6.0   \n",
              "...         ...  ...  ...   ...  ...  ..  ...  ...  ...  ...  ...   ...   ...   \n",
              " 44.7       2.0  2.0  2.0   1.0  3.0 NaN  3.0  3.0  3.0  3.0  3.0   1.0  48.0   \n",
              " 45.0       1.0  1.0  1.0   1.0  4.0 NaN  4.0  4.0  4.0  4.0  4.0   1.0  51.0   \n",
              " 46.7       1.0  1.0  1.0   1.0  3.0 NaN  3.0  3.0  3.0  3.0  3.0   1.0  51.0   \n",
              " 48.8       0.0  0.0  0.0   1.0  2.0 NaN  2.0  2.0  2.0  2.0  2.0   1.0  61.0   \n",
              " 53.2       2.0  2.0  2.0   1.0  3.0 NaN  3.0  3.0  3.0  3.0  3.0   1.0  57.0   \n",
              "\n",
              "                                             minus_plus                        \\\n",
              "           std   min   25%   50%   75%   max      count  mean std   min   25%   \n",
              "game_score                                                                      \n",
              "-0.1       NaN  14.0  14.0  14.0  14.0  14.0        1.0  -9.0 NaN  -9.0  -9.0   \n",
              " 0.6       NaN  10.0  10.0  10.0  10.0  10.0        1.0 -12.0 NaN -12.0 -12.0   \n",
              " 0.8       NaN  10.0  10.0  10.0  10.0  10.0        1.0  -1.0 NaN  -1.0  -1.0   \n",
              " 0.9       NaN   4.0   4.0   4.0   4.0   4.0        1.0   3.0 NaN   3.0   3.0   \n",
              " 1.1       NaN   6.0   6.0   6.0   6.0   6.0        1.0 -10.0 NaN -10.0 -10.0   \n",
              "...         ..   ...   ...   ...   ...   ...        ...   ...  ..   ...   ...   \n",
              " 44.7      NaN  48.0  48.0  48.0  48.0  48.0        1.0   7.0 NaN   7.0   7.0   \n",
              " 45.0      NaN  51.0  51.0  51.0  51.0  51.0        1.0  10.0 NaN  10.0  10.0   \n",
              " 46.7      NaN  51.0  51.0  51.0  51.0  51.0        1.0   2.0 NaN   2.0   2.0   \n",
              " 48.8      NaN  61.0  61.0  61.0  61.0  61.0        1.0  16.0 NaN  16.0  16.0   \n",
              " 53.2      NaN  57.0  57.0  57.0  57.0  57.0        1.0   6.0 NaN   6.0   6.0   \n",
              "\n",
              "                              \n",
              "             50%   75%   max  \n",
              "game_score                    \n",
              "-0.1        -9.0  -9.0  -9.0  \n",
              " 0.6       -12.0 -12.0 -12.0  \n",
              " 0.8        -1.0  -1.0  -1.0  \n",
              " 0.9         3.0   3.0   3.0  \n",
              " 1.1       -10.0 -10.0 -10.0  \n",
              "...          ...   ...   ...  \n",
              " 44.7        7.0   7.0   7.0  \n",
              " 45.0       10.0  10.0  10.0  \n",
              " 46.7        2.0   2.0   2.0  \n",
              " 48.8       16.0  16.0  16.0  \n",
              " 53.2        6.0   6.0   6.0  \n",
              "\n",
              "[328 rows x 152 columns]"
            ]
          },
          "metadata": {
            "tags": []
          },
          "execution_count": 22
        }
      ]
    },
    {
      "cell_type": "markdown",
      "metadata": {
        "id": "tp_ggK6DBP9p"
      },
      "source": [
        "**Tahap 9** : Analisa game score pada beberapa game dan team"
      ]
    },
    {
      "cell_type": "code",
      "metadata": {
        "colab": {
          "base_uri": "https://localhost:8080/"
        },
        "id": "aJnreudkr9Mq",
        "outputId": "20618dc5-70c3-4c47-b5d6-11fdec822903"
      },
      "source": [
        "print (data)\n",
        "test= data.groupby(['game_score','game'])\n",
        "test.size()"
      ],
      "execution_count": null,
      "outputs": [
        {
          "output_type": "stream",
          "text": [
            "      game        date     age team  opp   result     mp  fg  fga    fgp  \\\n",
            "0        1  2003-10-29  18-303  CLE  SAC  L (-14)  42:00  12   20  0.600   \n",
            "1        2  2003-10-30  18-304  CLE  PHO   L (-9)  41:00   8   17  0.471   \n",
            "2        3  2003-11-01  18-306  CLE  POR  L (-19)  39:00   3   12  0.250   \n",
            "3        4  2003-11-05  18-310  CLE  DEN   L (-4)  41:00   3   11  0.273   \n",
            "4        5  2003-11-07  18-312  CLE  IND   L (-1)  44:00   8   18  0.444   \n",
            "...    ...         ...     ...  ...  ...      ...    ...  ..  ...    ...   \n",
            "1127    67  2018-03-13  33-073  CLE  PHO  W (+22)  33:13   7   14  0.500   \n",
            "1128    68  2018-03-15  33-075  CLE  POR   L (-8)  41:05  15   25  0.600   \n",
            "1129    69  2018-03-17  33-077  CLE  CHI   W (+5)  39:53  15   26  0.577   \n",
            "1130    70  2018-03-19  33-079  CLE  MIL   W (+7)  40:01  16   29  0.552   \n",
            "1131    71  2018-03-21  33-081  CLE  TOR   W (+3)  39:24  11   19  0.579   \n",
            "\n",
            "      three  threeatt  threep  ft  fta    ftp  orb  drb  trb  ast  stl  blk  \\\n",
            "0         0         2   0.000   1    3  0.333    2    4    6    9    4    0   \n",
            "1         1         5   0.200   4    7  0.571    2   10   12    8    1    0   \n",
            "2         0         1   0.000   2    2  1.000    0    4    4    6    2    0   \n",
            "3         0         2   0.000   1    1  1.000    2    9   11    7    2    3   \n",
            "4         1         2   0.500   6    7  0.857    0    5    5    3    0    0   \n",
            "...     ...       ...     ...  ..  ...    ...  ...  ...  ...  ...  ...  ...   \n",
            "1127      1         2   0.500  13   15  0.867    0   12   12   11    3    2   \n",
            "1128      1         4   0.250   4    9  0.444    0   14   14    6    2    3   \n",
            "1129      2         8   0.250   1    4  0.250    1   12   13   12    1    2   \n",
            "1130      3         7   0.429   5    8  0.625    5    7   12   10    2    1   \n",
            "1131      1         3   0.333  12   14  0.857    1    6    7   17    1    0   \n",
            "\n",
            "      tov  pts  game_score  minus_plus  \n",
            "0       2   25        24.7          -9  \n",
            "1       7   21        14.7          -3  \n",
            "2       2    8         5.0         -21  \n",
            "3       2    7        11.2          -3  \n",
            "4       7   23         9.0          -7  \n",
            "...   ...  ...         ...         ...  \n",
            "1127    5   28        30.1          23  \n",
            "1128    6   35        26.4          -3  \n",
            "1129    6   33        27.5          -4  \n",
            "1130    6   40        33.4           4  \n",
            "1131    0   35        39.9          12  \n",
            "\n",
            "[1132 rows x 26 columns]\n"
          ],
          "name": "stdout"
        },
        {
          "output_type": "execute_result",
          "data": {
            "text/plain": [
              "game_score  game\n",
              "-0.1        37      1\n",
              " 0.6        1       1\n",
              " 0.8        9       1\n",
              " 0.9        19      1\n",
              " 1.1        16      1\n",
              "                   ..\n",
              " 44.7       34      1\n",
              " 45.0       33      1\n",
              " 46.7       47      1\n",
              " 48.8       55      1\n",
              " 53.2       9       1\n",
              "Length: 1106, dtype: int64"
            ]
          },
          "metadata": {
            "tags": []
          },
          "execution_count": 23
        }
      ]
    },
    {
      "cell_type": "markdown",
      "metadata": {
        "id": "sSONFBuZC6ZA"
      },
      "source": [
        "**Tahap 10** : Analisa game score tertinggi dan terendah dengan tabel diagram histogram"
      ]
    },
    {
      "cell_type": "code",
      "metadata": {
        "colab": {
          "base_uri": "https://localhost:8080/",
          "height": 331
        },
        "id": "kudcxYx5sPGj",
        "outputId": "eab0db83-ab00-45f0-8555-17b6704329db"
      },
      "source": [
        "data[[\"age\",\"game_score\"]].nlargest(10,\"game_score\").plot.bar(x=\"age\",y=\"game_score\",width=0.4,)#'vertical', 'horizontal',color=color\n",
        "plt.title(\"Highest Game Score\",fontsize=20)\n",
        "plt.xlabel(\"Age\",fontsize=15)\n",
        "plt.ylabel(\"Game Score\",fontsize=15)\n",
        "plt.show()"
      ],
      "execution_count": null,
      "outputs": [
        {
          "output_type": "display_data",
          "data": {
            "image/png": "[encoded data removed]",
            "text/plain": [
              "<Figure size 432x288 with 1 Axes>"
            ]
          },
          "metadata": {
            "tags": [],
            "needs_background": "light"
          }
        }
      ]
    },
    {
      "cell_type": "markdown",
      "metadata": {
        "id": "bsMGC8ffDVPd"
      },
      "source": [
        "  - **Analisis Diagram histogram :** Ditampilkan bahwa pada data histogram bahwa game score tertinggi pada umur 32-308"
      ]
    },
    {
      "cell_type": "code",
      "metadata": {
        "colab": {
          "base_uri": "https://localhost:8080/",
          "height": 117
        },
        "id": "XPH5P_k6tH5B",
        "outputId": "7ea8feb5-fb1b-42a6-fb43-dd69f32909e2"
      },
      "source": [
        "data[data.game_score == max(data.game_score)]"
      ],
      "execution_count": null,
      "outputs": [
        {
          "output_type": "execute_result",
          "data": {
            "text/html": [
              "<div>\n",
              "<style scoped>\n",
              "    .dataframe tbody tr th:only-of-type {\n",
              "        vertical-align: middle;\n",
              "    }\n",
              "\n",
              "    .dataframe tbody tr th {\n",
              "        vertical-align: top;\n",
              "    }\n",
              "\n",
              "    .dataframe thead th {\n",
              "        text-align: right;\n",
              "    }\n",
              "</style>\n",
              "<table border=\"1\" class=\"dataframe\">\n",
              "  <thead>\n",
              "    <tr style=\"text-align: right;\">\n",
              "      <th></th>\n",
              "      <th>game</th>\n",
              "      <th>date</th>\n",
              "      <th>age</th>\n",
              "      <th>team</th>\n",
              "      <th>opp</th>\n",
              "      <th>result</th>\n",
              "      <th>mp</th>\n",
              "      <th>fg</th>\n",
              "      <th>fga</th>\n",
              "      <th>fgp</th>\n",
              "      <th>three</th>\n",
              "      <th>threeatt</th>\n",
              "      <th>threep</th>\n",
              "      <th>ft</th>\n",
              "      <th>fta</th>\n",
              "      <th>ftp</th>\n",
              "      <th>orb</th>\n",
              "      <th>drb</th>\n",
              "      <th>trb</th>\n",
              "      <th>ast</th>\n",
              "      <th>stl</th>\n",
              "      <th>blk</th>\n",
              "      <th>tov</th>\n",
              "      <th>pts</th>\n",
              "      <th>game_score</th>\n",
              "      <th>minus_plus</th>\n",
              "    </tr>\n",
              "  </thead>\n",
              "  <tbody>\n",
              "    <tr>\n",
              "      <th>1069</th>\n",
              "      <td>9</td>\n",
              "      <td>2017-11-03</td>\n",
              "      <td>32-308</td>\n",
              "      <td>CLE</td>\n",
              "      <td>WAS</td>\n",
              "      <td>W (+8)</td>\n",
              "      <td>42:41</td>\n",
              "      <td>23</td>\n",
              "      <td>34</td>\n",
              "      <td>0.676</td>\n",
              "      <td>2</td>\n",
              "      <td>4</td>\n",
              "      <td>0.5</td>\n",
              "      <td>9</td>\n",
              "      <td>9</td>\n",
              "      <td>1.0</td>\n",
              "      <td>5</td>\n",
              "      <td>6</td>\n",
              "      <td>11</td>\n",
              "      <td>7</td>\n",
              "      <td>3</td>\n",
              "      <td>2</td>\n",
              "      <td>3</td>\n",
              "      <td>57</td>\n",
              "      <td>53.2</td>\n",
              "      <td>6</td>\n",
              "    </tr>\n",
              "  </tbody>\n",
              "</table>\n",
              "</div>"
            ],
            "text/plain": [
              "      game        date     age team  opp  result     mp  fg  fga    fgp  \\\n",
              "1069     9  2017-11-03  32-308  CLE  WAS  W (+8)  42:41  23   34  0.676   \n",
              "\n",
              "      three  threeatt  threep  ft  fta  ftp  orb  drb  trb  ast  stl  blk  \\\n",
              "1069      2         4     0.5   9    9  1.0    5    6   11    7    3    2   \n",
              "\n",
              "      tov  pts  game_score  minus_plus  \n",
              "1069    3   57        53.2           6  "
            ]
          },
          "metadata": {
            "tags": []
          },
          "execution_count": 25
        }
      ]
    },
    {
      "cell_type": "code",
      "metadata": {
        "colab": {
          "base_uri": "https://localhost:8080/",
          "height": 117
        },
        "id": "Fptq23BYtPeh",
        "outputId": "6c78edb8-2bff-44ec-93cc-3951c2448a4b"
      },
      "source": [
        "data[data.game_score == min(data.game_score)]"
      ],
      "execution_count": null,
      "outputs": [
        {
          "output_type": "execute_result",
          "data": {
            "text/html": [
              "<div>\n",
              "<style scoped>\n",
              "    .dataframe tbody tr th:only-of-type {\n",
              "        vertical-align: middle;\n",
              "    }\n",
              "\n",
              "    .dataframe tbody tr th {\n",
              "        vertical-align: top;\n",
              "    }\n",
              "\n",
              "    .dataframe thead th {\n",
              "        text-align: right;\n",
              "    }\n",
              "</style>\n",
              "<table border=\"1\" class=\"dataframe\">\n",
              "  <thead>\n",
              "    <tr style=\"text-align: right;\">\n",
              "      <th></th>\n",
              "      <th>game</th>\n",
              "      <th>date</th>\n",
              "      <th>age</th>\n",
              "      <th>team</th>\n",
              "      <th>opp</th>\n",
              "      <th>result</th>\n",
              "      <th>mp</th>\n",
              "      <th>fg</th>\n",
              "      <th>fga</th>\n",
              "      <th>fgp</th>\n",
              "      <th>three</th>\n",
              "      <th>threeatt</th>\n",
              "      <th>threep</th>\n",
              "      <th>ft</th>\n",
              "      <th>fta</th>\n",
              "      <th>ftp</th>\n",
              "      <th>orb</th>\n",
              "      <th>drb</th>\n",
              "      <th>trb</th>\n",
              "      <th>ast</th>\n",
              "      <th>stl</th>\n",
              "      <th>blk</th>\n",
              "      <th>tov</th>\n",
              "      <th>pts</th>\n",
              "      <th>game_score</th>\n",
              "      <th>minus_plus</th>\n",
              "    </tr>\n",
              "  </thead>\n",
              "  <tbody>\n",
              "    <tr>\n",
              "      <th>195</th>\n",
              "      <td>37</td>\n",
              "      <td>2006-01-20</td>\n",
              "      <td>21-021</td>\n",
              "      <td>CLE</td>\n",
              "      <td>GSW</td>\n",
              "      <td>L (-20)</td>\n",
              "      <td>35:12</td>\n",
              "      <td>5</td>\n",
              "      <td>22</td>\n",
              "      <td>0.227</td>\n",
              "      <td>0</td>\n",
              "      <td>3</td>\n",
              "      <td>0.0</td>\n",
              "      <td>4</td>\n",
              "      <td>6</td>\n",
              "      <td>0.667</td>\n",
              "      <td>1</td>\n",
              "      <td>8</td>\n",
              "      <td>9</td>\n",
              "      <td>6</td>\n",
              "      <td>0</td>\n",
              "      <td>0</td>\n",
              "      <td>6</td>\n",
              "      <td>14</td>\n",
              "      <td>-0.1</td>\n",
              "      <td>-9</td>\n",
              "    </tr>\n",
              "  </tbody>\n",
              "</table>\n",
              "</div>"
            ],
            "text/plain": [
              "     game        date     age team  opp   result     mp  fg  fga    fgp  \\\n",
              "195    37  2006-01-20  21-021  CLE  GSW  L (-20)  35:12   5   22  0.227   \n",
              "\n",
              "     three  threeatt  threep  ft  fta    ftp  orb  drb  trb  ast  stl  blk  \\\n",
              "195      0         3     0.0   4    6  0.667    1    8    9    6    0    0   \n",
              "\n",
              "     tov  pts  game_score  minus_plus  \n",
              "195    6   14        -0.1          -9  "
            ]
          },
          "metadata": {
            "tags": []
          },
          "execution_count": 26
        }
      ]
    },
    {
      "cell_type": "markdown",
      "metadata": {
        "id": "EvrYdBuLvEwx"
      },
      "source": [
        "**Tahap 11** : Analisis mapping tentang jenis transaksi dengan quantity yang dianalisis dari rating yang diberikan."
      ]
    },
    {
      "cell_type": "code",
      "metadata": {
        "colab": {
          "base_uri": "https://localhost:8080/",
          "height": 1000
        },
        "id": "3KPGHY_TEdk0",
        "outputId": "81cacd5e-7b11-4310-e760-9c5517bfa163"
      },
      "source": [
        "sp_pivot = data.pivot_table(index='team', columns='game', values='game_score')\r\n",
        "\r\n",
        "print(sp_pivot)\r\n",
        "\r\n",
        "sns.heatmap(sp_pivot, annot=True, cmap='coolwarm')\r\n",
        "\r\n",
        "plt.show()"
      ],
      "execution_count": null,
      "outputs": [
        {
          "output_type": "stream",
          "text": [
            "game         1          2      3          4          5          6          7   \\\n",
            "team                                                                            \n",
            "CLE   18.527273  19.490909  17.90  22.045455  24.245455  21.736364  22.181818   \n",
            "MIA   23.025000  17.775000  21.45  19.850000  24.100000  18.400000  23.425000   \n",
            "\n",
            "game         8          9          10         11         12         13  \\\n",
            "team                                                                     \n",
            "CLE   24.672727  22.263636  22.190909  22.245455  23.472727  23.272727   \n",
            "MIA   25.450000  25.600000  20.700000  18.250000  23.025000  22.900000   \n",
            "\n",
            "game         14         15         16         17         18         19  \\\n",
            "team                                                                     \n",
            "CLE   21.127273  18.109091  16.218182  18.990909  20.118182  20.245455   \n",
            "MIA   24.525000  21.425000  18.100000  22.700000  20.800000  18.775000   \n",
            "\n",
            "game         20      21         22         23         24         25  \\\n",
            "team                                                                  \n",
            "CLE   20.954545  26.400  22.336364  21.727273  25.754545  19.590909   \n",
            "MIA   24.725000  22.225  17.000000  25.150000  23.125000  21.775000   \n",
            "\n",
            "game         26         27         28      29         30         31  \\\n",
            "team                                                                  \n",
            "CLE   21.036364  23.390909  21.845455  20.100  21.281818  23.781818   \n",
            "MIA   19.675000  25.825000  22.150000  26.725  22.500000  23.150000   \n",
            "\n",
            "game         32         33         34         35         36         37  \\\n",
            "team                                                                     \n",
            "CLE   22.209091  18.945455  24.509091  22.290909  21.827273  17.690909   \n",
            "MIA   21.300000  18.325000  23.800000  26.925000  26.750000  21.950000   \n",
            "\n",
            "game         38         39         40         41         42         43  \\\n",
            "team                                                                     \n",
            "CLE   19.781818  24.318182  22.154545  22.963636  23.409091  23.127273   \n",
            "MIA   26.625000  27.050000  18.925000  25.125000  25.400000  15.150000   \n",
            "\n",
            "game         44         45         46         47         48         49  \\\n",
            "team                                                                     \n",
            "CLE   18.009091  20.554545  21.627273  18.445455  22.845455  19.681818   \n",
            "MIA   25.775000  25.675000  21.075000  28.000000  16.100000  23.450000   \n",
            "\n",
            "game         50         51         52         53         54         55  \\\n",
            "team                                                                     \n",
            "CLE   21.854545  23.963636  23.963636  22.363636  20.463636  24.736364   \n",
            "MIA   29.625000  28.875000  24.425000  20.600000  20.600000  35.575000   \n",
            "\n",
            "game         56         57         58         59         60         61  \\\n",
            "team                                                                     \n",
            "CLE   21.681818  24.090909  21.527273  25.118182  23.445455  20.572727   \n",
            "MIA   20.825000  20.600000  15.575000  25.575000  20.275000  17.925000   \n",
            "\n",
            "game         62         63         64         65         66         67  \\\n",
            "team                                                                     \n",
            "CLE   23.736364  24.863636  21.400000  22.100000  20.745455  19.945455   \n",
            "MIA   20.150000  27.566667  20.133333  20.766667  22.700000  28.333333   \n",
            "\n",
            "game         68         69         70    71         72         73         74  \\\n",
            "team                                                                           \n",
            "CLE   20.890909  25.427273  27.440000  24.7  26.811111  24.522222  22.077778   \n",
            "MIA   24.533333  19.566667  24.833333  24.4  26.433333  29.033333  27.066667   \n",
            "\n",
            "game    75         76     77     78     79    80    81  \n",
            "team                                                    \n",
            "CLE   23.8  21.385714  20.56  20.18  17.35  25.6  25.1  \n",
            "MIA   26.1  23.633333  21.35  23.20  26.40   NaN   NaN  \n"
          ],
          "name": "stdout"
        },
        {
          "output_type": "display_data",
          "data": {
            "image/png": "[encoded data removed]",
            "text/plain": [
              "<Figure size 432x288 with 2 Axes>"
            ]
          },
          "metadata": {
            "tags": [],
            "needs_background": "light"
          }
        }
      ]
    },
    {
      "cell_type": "markdown",
      "metadata": {
        "id": "BMdOBT5tFiPb"
      },
      "source": [
        "# **PEMODELAN DATA**"
      ]
    },
    {
      "cell_type": "markdown",
      "metadata": {
        "id": "QXRrPuDPGGps"
      },
      "source": [
        "**Tahap 1** : Import library yang diperlukan dalam analisis data"
      ]
    },
    {
      "cell_type": "code",
      "metadata": {
        "id": "TlOEVy06GSiE"
      },
      "source": [
        "from sklearn.cluster import KMeans\r\n",
        "import numpy as np\r\n",
        "from sklearn.preprocessing import MinMaxScaler\r\n",
        "import math"
      ],
      "execution_count": null,
      "outputs": []
    },
    {
      "cell_type": "markdown",
      "metadata": {
        "id": "zTjlnaK5HBSY"
      },
      "source": [
        "**Tahap 2** : Pengelompokan data menggunakan metode elbow"
      ]
    },
    {
      "cell_type": "code",
      "metadata": {
        "colab": {
          "base_uri": "https://localhost:8080/",
          "height": 202
        },
        "id": "exZdnZ65HIbZ",
        "outputId": "0ba11e4a-675b-4005-a45a-5551d5598efd"
      },
      "source": [
        "dataku = data.iloc[:,7:10]\r\n",
        "dataku.head()"
      ],
      "execution_count": null,
      "outputs": [
        {
          "output_type": "execute_result",
          "data": {
            "text/html": [
              "<div>\n",
              "<style scoped>\n",
              "    .dataframe tbody tr th:only-of-type {\n",
              "        vertical-align: middle;\n",
              "    }\n",
              "\n",
              "    .dataframe tbody tr th {\n",
              "        vertical-align: top;\n",
              "    }\n",
              "\n",
              "    .dataframe thead th {\n",
              "        text-align: right;\n",
              "    }\n",
              "</style>\n",
              "<table border=\"1\" class=\"dataframe\">\n",
              "  <thead>\n",
              "    <tr style=\"text-align: right;\">\n",
              "      <th></th>\n",
              "      <th>fg</th>\n",
              "      <th>fga</th>\n",
              "      <th>fgp</th>\n",
              "    </tr>\n",
              "  </thead>\n",
              "  <tbody>\n",
              "    <tr>\n",
              "      <th>0</th>\n",
              "      <td>12</td>\n",
              "      <td>20</td>\n",
              "      <td>0.600</td>\n",
              "    </tr>\n",
              "    <tr>\n",
              "      <th>1</th>\n",
              "      <td>8</td>\n",
              "      <td>17</td>\n",
              "      <td>0.471</td>\n",
              "    </tr>\n",
              "    <tr>\n",
              "      <th>2</th>\n",
              "      <td>3</td>\n",
              "      <td>12</td>\n",
              "      <td>0.250</td>\n",
              "    </tr>\n",
              "    <tr>\n",
              "      <th>3</th>\n",
              "      <td>3</td>\n",
              "      <td>11</td>\n",
              "      <td>0.273</td>\n",
              "    </tr>\n",
              "    <tr>\n",
              "      <th>4</th>\n",
              "      <td>8</td>\n",
              "      <td>18</td>\n",
              "      <td>0.444</td>\n",
              "    </tr>\n",
              "  </tbody>\n",
              "</table>\n",
              "</div>"
            ],
            "text/plain": [
              "   fg  fga    fgp\n",
              "0  12   20  0.600\n",
              "1   8   17  0.471\n",
              "2   3   12  0.250\n",
              "3   3   11  0.273\n",
              "4   8   18  0.444"
            ]
          },
          "metadata": {
            "tags": []
          },
          "execution_count": 31
        }
      ]
    },
    {
      "cell_type": "code",
      "metadata": {
        "colab": {
          "base_uri": "https://localhost:8080/",
          "height": 295
        },
        "id": "S6flSJz1IKuw",
        "outputId": "4e8e437f-d999-4372-d276-82032b68a25c"
      },
      "source": [
        "wcss = []\r\n",
        "for i in range(1, 11):\r\n",
        "    kmeans = KMeans(n_clusters = i, init = 'k-means++', random_state = 42)\r\n",
        "    kmeans.fit(dataku)\r\n",
        "    wcss.append(kmeans.inertia_)\r\n",
        "plt.plot(range(1, 11), wcss)\r\n",
        "plt.title('Metode Elbow')\r\n",
        "plt.xlabel('game_score')\r\n",
        "plt.ylabel('WCSS')\r\n",
        "plt.show()"
      ],
      "execution_count": null,
      "outputs": [
        {
          "output_type": "display_data",
          "data": {
            "image/png": "[encoded data removed]",
            "text/plain": [
              "<Figure size 432x288 with 1 Axes>"
            ]
          },
          "metadata": {
            "tags": [],
            "needs_background": "light"
          }
        }
      ]
    },
    {
      "cell_type": "markdown",
      "metadata": {
        "id": "NfXStbIOSe7_"
      },
      "source": [
        "  - **Analisis Metode Elbow :**  Pengelompokan menggunakan metode Elbow untuk mengetahui jumlah cluster yang optimal. Untuk mendapatkan nilai yang digunakan dalam grafik."
      ]
    },
    {
      "cell_type": "markdown",
      "metadata": {
        "id": "DL-Jt9YvT9ZB"
      },
      "source": [
        "**Tahap 3** : Pengelompokkan menggunakan KMeans Clustering"
      ]
    },
    {
      "cell_type": "code",
      "metadata": {
        "id": "2idWDcQcUeA2"
      },
      "source": [
        "kmeans = KMeans(n_clusters = 5, init = 'k-means++', random_state = 42)\r\n",
        "y_kmeans = kmeans.fit_predict(dataku)"
      ],
      "execution_count": null,
      "outputs": []
    },
    {
      "cell_type": "code",
      "metadata": {
        "colab": {
          "base_uri": "https://localhost:8080/"
        },
        "id": "tTe6nNA2UoLc",
        "outputId": "944e45f5-91b7-4bb5-c217-0d8392de1527"
      },
      "source": [
        "print(kmeans.cluster_centers_)"
      ],
      "execution_count": null,
      "outputs": [
        {
          "output_type": "stream",
          "text": [
            "[[ 8.52159468 16.5448505   0.52037542]\n",
            " [ 9.8449848  20.38297872  0.4871459 ]\n",
            " [12.62857143 23.75102041  0.53537143]\n",
            " [ 5.87209302 12.5755814   0.47176163]\n",
            " [14.83529412 29.44705882  0.5056    ]]\n"
          ],
          "name": "stdout"
        }
      ]
    },
    {
      "cell_type": "markdown",
      "metadata": {
        "id": "1f_wH6kxU7EP"
      },
      "source": [
        "  - **Analisis** : Prediksi yang didapatkan dari pengelompokan jumlah data permainan lebron james dinilai dari matrix 3x3 dari pengelompokan nilai tengah"
      ]
    },
    {
      "cell_type": "markdown",
      "metadata": {
        "id": "w9dV1vPfT_aK"
      },
      "source": [
        "**Tahap 4** : Pengelompokan data berdasarkan array"
      ]
    },
    {
      "cell_type": "code",
      "metadata": {
        "colab": {
          "base_uri": "https://localhost:8080/"
        },
        "id": "VXNaRl-iW-tw",
        "outputId": "daf0dec5-ba4b-4d30-8cb9-1143fdf89a91"
      },
      "source": [
        "x_array =  np.array(dataku)\r\n",
        "print(x_array)"
      ],
      "execution_count": null,
      "outputs": [
        {
          "output_type": "stream",
          "text": [
            "[[12.    20.     0.6  ]\n",
            " [ 8.    17.     0.471]\n",
            " [ 3.    12.     0.25 ]\n",
            " ...\n",
            " [15.    26.     0.577]\n",
            " [16.    29.     0.552]\n",
            " [11.    19.     0.579]]\n"
          ],
          "name": "stdout"
        }
      ]
    },
    {
      "cell_type": "markdown",
      "metadata": {
        "id": "PXCTHtVUXr60"
      },
      "source": [
        "  - **Analisis** : Array 3x3 yang didapatkan dari pengelompokan jumlah data permainan lebron james."
      ]
    },
    {
      "cell_type": "markdown",
      "metadata": {
        "id": "ZpiWc2TNUAGC"
      },
      "source": [
        "**Tahap 5** : Pengelompokan data berdasarkan Skala"
      ]
    },
    {
      "cell_type": "code",
      "metadata": {
        "colab": {
          "base_uri": "https://localhost:8080/"
        },
        "id": "Ks7OoxmnYIDG",
        "outputId": "e4500622-3fd4-425b-d842-4a5f167766d2"
      },
      "source": [
        "scaler = MinMaxScaler()\r\n",
        "x_scaled = scaler.fit_transform(x_array)\r\n",
        "x_scaled"
      ],
      "execution_count": null,
      "outputs": [
        {
          "output_type": "execute_result",
          "data": {
            "text/plain": [
              "array([[0.52173913, 0.48387097, 0.64585576],\n",
              "       [0.34782609, 0.38709677, 0.50699677],\n",
              "       [0.13043478, 0.22580645, 0.26910657],\n",
              "       ...,\n",
              "       [0.65217391, 0.67741935, 0.62109795],\n",
              "       [0.69565217, 0.77419355, 0.5941873 ],\n",
              "       [0.47826087, 0.4516129 , 0.62325081]])"
            ]
          },
          "metadata": {
            "tags": []
          },
          "execution_count": 37
        }
      ]
    },
    {
      "cell_type": "markdown",
      "metadata": {
        "id": "YoxxpJ7EYTcn"
      },
      "source": [
        "  - **Analisis** : Data ini menunjukan array dengan menggunakan penskalaan  mencakup ketahanan terhadap stdev yang sangat kecil dan mempertahankan entri nol dalam data renggang."
      ]
    },
    {
      "cell_type": "markdown",
      "metadata": {
        "id": "XUiJu6acUAjz"
      },
      "source": [
        "**Tahap 6** : Menyelesaikan masalah KMeans dengan menggunakan algoritma Lloyd atau Elkan."
      ]
    },
    {
      "cell_type": "code",
      "metadata": {
        "colab": {
          "base_uri": "https://localhost:8080/"
        },
        "id": "pXoVrBtWaFZL",
        "outputId": "ba145aaf-2a65-44ce-df96-c8981699fbc0"
      },
      "source": [
        "# Menentukan dan mengkonfigurasi fungsi kmeans\r\n",
        "kmeans = KMeans(n_clusters = 5, random_state=123)\r\n",
        "# Menentukan kluster dari data\r\n",
        "kmeans.fit(x_scaled)"
      ],
      "execution_count": null,
      "outputs": [
        {
          "output_type": "execute_result",
          "data": {
            "text/plain": [
              "KMeans(algorithm='auto', copy_x=True, init='k-means++', max_iter=300,\n",
              "       n_clusters=5, n_init=10, n_jobs=None, precompute_distances='auto',\n",
              "       random_state=123, tol=0.0001, verbose=0)"
            ]
          },
          "metadata": {
            "tags": []
          },
          "execution_count": 38
        }
      ]
    },
    {
      "cell_type": "markdown",
      "metadata": {
        "id": "oBmZawjpaqLr"
      },
      "source": [
        "  - **Analisis** : Konfigurasi data yang akan diselesaikan dengan fungsi kmeans"
      ]
    },
    {
      "cell_type": "code",
      "metadata": {
        "colab": {
          "base_uri": "https://localhost:8080/"
        },
        "id": "0rJq9LFua3jJ",
        "outputId": "1560342c-3b64-4a70-b8db-72f80217af83"
      },
      "source": [
        "print(kmeans.cluster_centers_)"
      ],
      "execution_count": null,
      "outputs": [
        {
          "output_type": "stream",
          "text": [
            "[[0.40386057 0.32967186 0.66168201]\n",
            " [0.24057971 0.3019024  0.41867462]\n",
            " [0.61130435 0.73591398 0.5459347 ]\n",
            " [0.54278813 0.52892985 0.63005963]\n",
            " [0.3845602  0.50686682 0.4623837 ]]\n"
          ],
          "name": "stdout"
        }
      ]
    },
    {
      "cell_type": "markdown",
      "metadata": {
        "id": "ff0RBaNRbCQE"
      },
      "source": [
        "\r\n",
        "\r\n",
        "  - **Analisis** : Prediksi yang didapatkan dari pengelompokan jumlah data permainan lebron james dinilai dari matrix 3x3 dari pengelompokan nilai tengah"
      ]
    },
    {
      "cell_type": "markdown",
      "metadata": {
        "id": "ZzeCM2LLZwSL"
      },
      "source": [
        "**Tahap 7** : Menampilkan hasil kluster"
      ]
    },
    {
      "cell_type": "code",
      "metadata": {
        "colab": {
          "base_uri": "https://localhost:8080/",
          "height": 626
        },
        "id": "ZbtsLOpybeRM",
        "outputId": "33b3e34a-f2c4-4ddc-8563-b4e9b5417cb8"
      },
      "source": [
        "# Menampilkan hasil kluster\r\n",
        "print (kmeans.labels_)\r\n",
        "# Menambahkan kolom \"kluster\" dalam data frame\r\n",
        "data[\"kluster\"] = kmeans.labels_\r\n",
        "data.head(999)"
      ],
      "execution_count": null,
      "outputs": [
        {
          "output_type": "stream",
          "text": [
            "[3 4 1 ... 2 2 3]\n"
          ],
          "name": "stdout"
        },
        {
          "output_type": "execute_result",
          "data": {
            "text/html": [
              "<div>\n",
              "<style scoped>\n",
              "    .dataframe tbody tr th:only-of-type {\n",
              "        vertical-align: middle;\n",
              "    }\n",
              "\n",
              "    .dataframe tbody tr th {\n",
              "        vertical-align: top;\n",
              "    }\n",
              "\n",
              "    .dataframe thead th {\n",
              "        text-align: right;\n",
              "    }\n",
              "</style>\n",
              "<table border=\"1\" class=\"dataframe\">\n",
              "  <thead>\n",
              "    <tr style=\"text-align: right;\">\n",
              "      <th></th>\n",
              "      <th>game</th>\n",
              "      <th>date</th>\n",
              "      <th>age</th>\n",
              "      <th>team</th>\n",
              "      <th>opp</th>\n",
              "      <th>result</th>\n",
              "      <th>mp</th>\n",
              "      <th>fg</th>\n",
              "      <th>fga</th>\n",
              "      <th>fgp</th>\n",
              "      <th>three</th>\n",
              "      <th>threeatt</th>\n",
              "      <th>threep</th>\n",
              "      <th>ft</th>\n",
              "      <th>fta</th>\n",
              "      <th>ftp</th>\n",
              "      <th>orb</th>\n",
              "      <th>drb</th>\n",
              "      <th>trb</th>\n",
              "      <th>ast</th>\n",
              "      <th>stl</th>\n",
              "      <th>blk</th>\n",
              "      <th>tov</th>\n",
              "      <th>pts</th>\n",
              "      <th>game_score</th>\n",
              "      <th>minus_plus</th>\n",
              "      <th>kluster</th>\n",
              "    </tr>\n",
              "  </thead>\n",
              "  <tbody>\n",
              "    <tr>\n",
              "      <th>0</th>\n",
              "      <td>1</td>\n",
              "      <td>2003-10-29</td>\n",
              "      <td>18-303</td>\n",
              "      <td>CLE</td>\n",
              "      <td>SAC</td>\n",
              "      <td>L (-14)</td>\n",
              "      <td>42:00</td>\n",
              "      <td>12</td>\n",
              "      <td>20</td>\n",
              "      <td>0.600</td>\n",
              "      <td>0</td>\n",
              "      <td>2</td>\n",
              "      <td>0.000</td>\n",
              "      <td>1</td>\n",
              "      <td>3</td>\n",
              "      <td>0.333</td>\n",
              "      <td>2</td>\n",
              "      <td>4</td>\n",
              "      <td>6</td>\n",
              "      <td>9</td>\n",
              "      <td>4</td>\n",
              "      <td>0</td>\n",
              "      <td>2</td>\n",
              "      <td>25</td>\n",
              "      <td>24.7</td>\n",
              "      <td>-9</td>\n",
              "      <td>3</td>\n",
              "    </tr>\n",
              "    <tr>\n",
              "      <th>1</th>\n",
              "      <td>2</td>\n",
              "      <td>2003-10-30</td>\n",
              "      <td>18-304</td>\n",
              "      <td>CLE</td>\n",
              "      <td>PHO</td>\n",
              "      <td>L (-9)</td>\n",
              "      <td>41:00</td>\n",
              "      <td>8</td>\n",
              "      <td>17</td>\n",
              "      <td>0.471</td>\n",
              "      <td>1</td>\n",
              "      <td>5</td>\n",
              "      <td>0.200</td>\n",
              "      <td>4</td>\n",
              "      <td>7</td>\n",
              "      <td>0.571</td>\n",
              "      <td>2</td>\n",
              "      <td>10</td>\n",
              "      <td>12</td>\n",
              "      <td>8</td>\n",
              "      <td>1</td>\n",
              "      <td>0</td>\n",
              "      <td>7</td>\n",
              "      <td>21</td>\n",
              "      <td>14.7</td>\n",
              "      <td>-3</td>\n",
              "      <td>4</td>\n",
              "    </tr>\n",
              "    <tr>\n",
              "      <th>2</th>\n",
              "      <td>3</td>\n",
              "      <td>2003-11-01</td>\n",
              "      <td>18-306</td>\n",
              "      <td>CLE</td>\n",
              "      <td>POR</td>\n",
              "      <td>L (-19)</td>\n",
              "      <td>39:00</td>\n",
              "      <td>3</td>\n",
              "      <td>12</td>\n",
              "      <td>0.250</td>\n",
              "      <td>0</td>\n",
              "      <td>1</td>\n",
              "      <td>0.000</td>\n",
              "      <td>2</td>\n",
              "      <td>2</td>\n",
              "      <td>1.000</td>\n",
              "      <td>0</td>\n",
              "      <td>4</td>\n",
              "      <td>4</td>\n",
              "      <td>6</td>\n",
              "      <td>2</td>\n",
              "      <td>0</td>\n",
              "      <td>2</td>\n",
              "      <td>8</td>\n",
              "      <td>5.0</td>\n",
              "      <td>-21</td>\n",
              "      <td>1</td>\n",
              "    </tr>\n",
              "    <tr>\n",
              "      <th>3</th>\n",
              "      <td>4</td>\n",
              "      <td>2003-11-05</td>\n",
              "      <td>18-310</td>\n",
              "      <td>CLE</td>\n",
              "      <td>DEN</td>\n",
              "      <td>L (-4)</td>\n",
              "      <td>41:00</td>\n",
              "      <td>3</td>\n",
              "      <td>11</td>\n",
              "      <td>0.273</td>\n",
              "      <td>0</td>\n",
              "      <td>2</td>\n",
              "      <td>0.000</td>\n",
              "      <td>1</td>\n",
              "      <td>1</td>\n",
              "      <td>1.000</td>\n",
              "      <td>2</td>\n",
              "      <td>9</td>\n",
              "      <td>11</td>\n",
              "      <td>7</td>\n",
              "      <td>2</td>\n",
              "      <td>3</td>\n",
              "      <td>2</td>\n",
              "      <td>7</td>\n",
              "      <td>11.2</td>\n",
              "      <td>-3</td>\n",
              "      <td>1</td>\n",
              "    </tr>\n",
              "    <tr>\n",
              "      <th>4</th>\n",
              "      <td>5</td>\n",
              "      <td>2003-11-07</td>\n",
              "      <td>18-312</td>\n",
              "      <td>CLE</td>\n",
              "      <td>IND</td>\n",
              "      <td>L (-1)</td>\n",
              "      <td>44:00</td>\n",
              "      <td>8</td>\n",
              "      <td>18</td>\n",
              "      <td>0.444</td>\n",
              "      <td>1</td>\n",
              "      <td>2</td>\n",
              "      <td>0.500</td>\n",
              "      <td>6</td>\n",
              "      <td>7</td>\n",
              "      <td>0.857</td>\n",
              "      <td>0</td>\n",
              "      <td>5</td>\n",
              "      <td>5</td>\n",
              "      <td>3</td>\n",
              "      <td>0</td>\n",
              "      <td>0</td>\n",
              "      <td>7</td>\n",
              "      <td>23</td>\n",
              "      <td>9.0</td>\n",
              "      <td>-7</td>\n",
              "      <td>4</td>\n",
              "    </tr>\n",
              "    <tr>\n",
              "      <th>...</th>\n",
              "      <td>...</td>\n",
              "      <td>...</td>\n",
              "      <td>...</td>\n",
              "      <td>...</td>\n",
              "      <td>...</td>\n",
              "      <td>...</td>\n",
              "      <td>...</td>\n",
              "      <td>...</td>\n",
              "      <td>...</td>\n",
              "      <td>...</td>\n",
              "      <td>...</td>\n",
              "      <td>...</td>\n",
              "      <td>...</td>\n",
              "      <td>...</td>\n",
              "      <td>...</td>\n",
              "      <td>...</td>\n",
              "      <td>...</td>\n",
              "      <td>...</td>\n",
              "      <td>...</td>\n",
              "      <td>...</td>\n",
              "      <td>...</td>\n",
              "      <td>...</td>\n",
              "      <td>...</td>\n",
              "      <td>...</td>\n",
              "      <td>...</td>\n",
              "      <td>...</td>\n",
              "      <td>...</td>\n",
              "    </tr>\n",
              "    <tr>\n",
              "      <th>994</th>\n",
              "      <td>8</td>\n",
              "      <td>2016-11-11</td>\n",
              "      <td>31-317</td>\n",
              "      <td>CLE</td>\n",
              "      <td>WAS</td>\n",
              "      <td>W (+11)</td>\n",
              "      <td>38:06</td>\n",
              "      <td>9</td>\n",
              "      <td>18</td>\n",
              "      <td>0.500</td>\n",
              "      <td>3</td>\n",
              "      <td>4</td>\n",
              "      <td>0.750</td>\n",
              "      <td>6</td>\n",
              "      <td>9</td>\n",
              "      <td>0.667</td>\n",
              "      <td>0</td>\n",
              "      <td>10</td>\n",
              "      <td>10</td>\n",
              "      <td>5</td>\n",
              "      <td>2</td>\n",
              "      <td>2</td>\n",
              "      <td>6</td>\n",
              "      <td>27</td>\n",
              "      <td>20.3</td>\n",
              "      <td>7</td>\n",
              "      <td>4</td>\n",
              "    </tr>\n",
              "    <tr>\n",
              "      <th>995</th>\n",
              "      <td>9</td>\n",
              "      <td>2016-11-13</td>\n",
              "      <td>31-319</td>\n",
              "      <td>CLE</td>\n",
              "      <td>CHO</td>\n",
              "      <td>W (+7)</td>\n",
              "      <td>38:42</td>\n",
              "      <td>8</td>\n",
              "      <td>21</td>\n",
              "      <td>0.381</td>\n",
              "      <td>2</td>\n",
              "      <td>5</td>\n",
              "      <td>0.400</td>\n",
              "      <td>1</td>\n",
              "      <td>2</td>\n",
              "      <td>0.500</td>\n",
              "      <td>0</td>\n",
              "      <td>8</td>\n",
              "      <td>8</td>\n",
              "      <td>8</td>\n",
              "      <td>1</td>\n",
              "      <td>1</td>\n",
              "      <td>3</td>\n",
              "      <td>19</td>\n",
              "      <td>13.8</td>\n",
              "      <td>12</td>\n",
              "      <td>4</td>\n",
              "    </tr>\n",
              "    <tr>\n",
              "      <th>996</th>\n",
              "      <td>10</td>\n",
              "      <td>2016-11-15</td>\n",
              "      <td>31-321</td>\n",
              "      <td>CLE</td>\n",
              "      <td>TOR</td>\n",
              "      <td>W (+4)</td>\n",
              "      <td>38:04</td>\n",
              "      <td>10</td>\n",
              "      <td>15</td>\n",
              "      <td>0.667</td>\n",
              "      <td>2</td>\n",
              "      <td>5</td>\n",
              "      <td>0.400</td>\n",
              "      <td>6</td>\n",
              "      <td>10</td>\n",
              "      <td>0.600</td>\n",
              "      <td>0</td>\n",
              "      <td>9</td>\n",
              "      <td>9</td>\n",
              "      <td>15</td>\n",
              "      <td>1</td>\n",
              "      <td>0</td>\n",
              "      <td>5</td>\n",
              "      <td>28</td>\n",
              "      <td>28.3</td>\n",
              "      <td>1</td>\n",
              "      <td>0</td>\n",
              "    </tr>\n",
              "    <tr>\n",
              "      <th>997</th>\n",
              "      <td>11</td>\n",
              "      <td>2016-11-18</td>\n",
              "      <td>31-324</td>\n",
              "      <td>CLE</td>\n",
              "      <td>DET</td>\n",
              "      <td>W (+23)</td>\n",
              "      <td>28:03</td>\n",
              "      <td>9</td>\n",
              "      <td>14</td>\n",
              "      <td>0.643</td>\n",
              "      <td>1</td>\n",
              "      <td>3</td>\n",
              "      <td>0.333</td>\n",
              "      <td>2</td>\n",
              "      <td>3</td>\n",
              "      <td>0.667</td>\n",
              "      <td>0</td>\n",
              "      <td>3</td>\n",
              "      <td>3</td>\n",
              "      <td>3</td>\n",
              "      <td>0</td>\n",
              "      <td>1</td>\n",
              "      <td>2</td>\n",
              "      <td>21</td>\n",
              "      <td>15.7</td>\n",
              "      <td>21</td>\n",
              "      <td>0</td>\n",
              "    </tr>\n",
              "    <tr>\n",
              "      <th>998</th>\n",
              "      <td>12</td>\n",
              "      <td>2016-11-23</td>\n",
              "      <td>31-329</td>\n",
              "      <td>CLE</td>\n",
              "      <td>POR</td>\n",
              "      <td>W (+12)</td>\n",
              "      <td>37:30</td>\n",
              "      <td>11</td>\n",
              "      <td>21</td>\n",
              "      <td>0.524</td>\n",
              "      <td>2</td>\n",
              "      <td>3</td>\n",
              "      <td>0.667</td>\n",
              "      <td>7</td>\n",
              "      <td>8</td>\n",
              "      <td>0.875</td>\n",
              "      <td>1</td>\n",
              "      <td>9</td>\n",
              "      <td>10</td>\n",
              "      <td>13</td>\n",
              "      <td>3</td>\n",
              "      <td>0</td>\n",
              "      <td>3</td>\n",
              "      <td>31</td>\n",
              "      <td>32.8</td>\n",
              "      <td>17</td>\n",
              "      <td>3</td>\n",
              "    </tr>\n",
              "  </tbody>\n",
              "</table>\n",
              "<p>999 rows × 27 columns</p>\n",
              "</div>"
            ],
            "text/plain": [
              "     game        date     age team  opp   result     mp  fg  fga    fgp  \\\n",
              "0       1  2003-10-29  18-303  CLE  SAC  L (-14)  42:00  12   20  0.600   \n",
              "1       2  2003-10-30  18-304  CLE  PHO   L (-9)  41:00   8   17  0.471   \n",
              "2       3  2003-11-01  18-306  CLE  POR  L (-19)  39:00   3   12  0.250   \n",
              "3       4  2003-11-05  18-310  CLE  DEN   L (-4)  41:00   3   11  0.273   \n",
              "4       5  2003-11-07  18-312  CLE  IND   L (-1)  44:00   8   18  0.444   \n",
              "..    ...         ...     ...  ...  ...      ...    ...  ..  ...    ...   \n",
              "994     8  2016-11-11  31-317  CLE  WAS  W (+11)  38:06   9   18  0.500   \n",
              "995     9  2016-11-13  31-319  CLE  CHO   W (+7)  38:42   8   21  0.381   \n",
              "996    10  2016-11-15  31-321  CLE  TOR   W (+4)  38:04  10   15  0.667   \n",
              "997    11  2016-11-18  31-324  CLE  DET  W (+23)  28:03   9   14  0.643   \n",
              "998    12  2016-11-23  31-329  CLE  POR  W (+12)  37:30  11   21  0.524   \n",
              "\n",
              "     three  threeatt  threep  ft  fta    ftp  orb  drb  trb  ast  stl  blk  \\\n",
              "0        0         2   0.000   1    3  0.333    2    4    6    9    4    0   \n",
              "1        1         5   0.200   4    7  0.571    2   10   12    8    1    0   \n",
              "2        0         1   0.000   2    2  1.000    0    4    4    6    2    0   \n",
              "3        0         2   0.000   1    1  1.000    2    9   11    7    2    3   \n",
              "4        1         2   0.500   6    7  0.857    0    5    5    3    0    0   \n",
              "..     ...       ...     ...  ..  ...    ...  ...  ...  ...  ...  ...  ...   \n",
              "994      3         4   0.750   6    9  0.667    0   10   10    5    2    2   \n",
              "995      2         5   0.400   1    2  0.500    0    8    8    8    1    1   \n",
              "996      2         5   0.400   6   10  0.600    0    9    9   15    1    0   \n",
              "997      1         3   0.333   2    3  0.667    0    3    3    3    0    1   \n",
              "998      2         3   0.667   7    8  0.875    1    9   10   13    3    0   \n",
              "\n",
              "     tov  pts  game_score  minus_plus  kluster  \n",
              "0      2   25        24.7          -9        3  \n",
              "1      7   21        14.7          -3        4  \n",
              "2      2    8         5.0         -21        1  \n",
              "3      2    7        11.2          -3        1  \n",
              "4      7   23         9.0          -7        4  \n",
              "..   ...  ...         ...         ...      ...  \n",
              "994    6   27        20.3           7        4  \n",
              "995    3   19        13.8          12        4  \n",
              "996    5   28        28.3           1        0  \n",
              "997    2   21        15.7          21        0  \n",
              "998    3   31        32.8          17        3  \n",
              "\n",
              "[999 rows x 27 columns]"
            ]
          },
          "metadata": {
            "tags": []
          },
          "execution_count": 41
        }
      ]
    },
    {
      "cell_type": "markdown",
      "metadata": {
        "id": "aSjQNEvHZxBP"
      },
      "source": [
        "**Tahap 8** : Hasil kluster dengan pengelompokan menggunakan diagram"
      ]
    },
    {
      "cell_type": "code",
      "metadata": {
        "colab": {
          "base_uri": "https://localhost:8080/",
          "height": 313
        },
        "id": "QbLIBqnrcE42",
        "outputId": "1f6d4635-43cc-42c8-b084-b72eaf7f2943"
      },
      "source": [
        "output = plt.scatter(x_scaled[:,0], \r\n",
        "x_scaled[:,1], s = 200, c = data.kluster, marker = \".\", alpha = 1,)\r\n",
        "centers = kmeans.cluster_centers_\r\n",
        "plt.scatter(centers[:,0], centers[:,1], c='red', s=100, alpha=1 , marker=\"s\");\r\n",
        "plt.title(\"Hasil Clustering K-Means\")\r\n",
        "plt.xlabel(\"Clustering X\")\r\n",
        "plt.ylabel(\"Clustering Y\")\r\n",
        "plt.colorbar (output)\r\n",
        "plt.legend()\r\n",
        "plt.show()"
      ],
      "execution_count": null,
      "outputs": [
        {
          "output_type": "stream",
          "text": [
            "No handles with labels found to put in legend.\n"
          ],
          "name": "stderr"
        },
        {
          "output_type": "display_data",
          "data": {
            "image/png": "[encoded data removed]",
            "text/plain": [
              "<Figure size 432x288 with 2 Axes>"
            ]
          },
          "metadata": {
            "tags": [],
            "needs_background": "light"
          }
        }
      ]
    },
    {
      "cell_type": "markdown",
      "metadata": {
        "id": "YQdoQsBcebxq"
      },
      "source": [
        "  - **Analisis** : Dilihat dari warna level diagram dengan range 0-4. Pengelompokan data dibagi menjadi 5 Clustering. Struktur clustering menggunakan metode partitional clustering yaitu data dikelompokkan ke dalam sejumlah cluster tanpa adanya struktur hirarki antara satu dengan yang lainnya."
      ]
    },
    {
      "cell_type": "markdown",
      "metadata": {
        "id": "UwmEmHjUdPMD"
      },
      "source": [
        " **ANALISIS PEMODELAN MENENTUKAN HIPOTESIS DENGAN MENGGUNAKAN METODE PEARSON**"
      ]
    },
    {
      "cell_type": "code",
      "metadata": {
        "id": "V9tfcVXHezee"
      },
      "source": [
        "def mean(x):\r\n",
        "        return  sum(x)/len(x)"
      ],
      "execution_count": null,
      "outputs": []
    },
    {
      "cell_type": "code",
      "metadata": {
        "id": "SDwzo18ne23D"
      },
      "source": [
        "def de_mean(data):\r\n",
        "# convert x by subtracting its mean ( so the result has mean 0)\r\n",
        "        x_bar = mean(data)\r\n",
        "        return [x_i - x_bar for x_i in data]"
      ],
      "execution_count": null,
      "outputs": []
    },
    {
      "cell_type": "code",
      "metadata": {
        "id": "4nAuxXYHe8Rn"
      },
      "source": [
        "def sum_of_square(v):\r\n",
        "        return np.dot(v,v)"
      ],
      "execution_count": null,
      "outputs": []
    },
    {
      "cell_type": "code",
      "metadata": {
        "id": "PT6x7eiae_Nm"
      },
      "source": [
        "def covariance(x,y):\r\n",
        "        n = len(x)\r\n",
        "        return np.dot(de_mean(x), de_mean(y)) / (n-1)"
      ],
      "execution_count": null,
      "outputs": []
    },
    {
      "cell_type": "code",
      "metadata": {
        "id": "HHtmhbfBfCyh"
      },
      "source": [
        "def variance(data):\r\n",
        "        n = len(data)\r\n",
        "        deviations = de_mean(data)\r\n",
        "        return sum_of_square(deviations) / (n-1)"
      ],
      "execution_count": null,
      "outputs": []
    },
    {
      "cell_type": "code",
      "metadata": {
        "id": "sIOQL4HhfG2P"
      },
      "source": [
        "def correlation(x,y):\r\n",
        "        stdev_x = np.std(x)\r\n",
        "        stdev_y = np.std(y)\r\n",
        "        if stdev_x > 0 and stdev_y > 0:\r\n",
        "            return covariance(x,y) / stdev_x / stdev_y\r\n",
        "        else:\r\n",
        "            return 0"
      ],
      "execution_count": null,
      "outputs": []
    },
    {
      "cell_type": "code",
      "metadata": {
        "id": "aQI_DXWriYxK"
      },
      "source": [
        "gm = data['game']\r\n",
        "gs = data['game_score']\r\n",
        "pts = data['pts']"
      ],
      "execution_count": null,
      "outputs": []
    },
    {
      "cell_type": "code",
      "metadata": {
        "colab": {
          "base_uri": "https://localhost:8080/"
        },
        "id": "avw_rT8hi2bT",
        "outputId": "4ebca0f1-fc5a-407a-923f-6da0a19ac21a"
      },
      "source": [
        "print('Korelasi antar kolom : ')\r\n",
        "print('Korelasi antara Game Score dan Game adalah ', correlation(gs, gm))\r\n",
        "print('Korelasi antara Game Score dan Points adalah ', correlation(gs, pts))\r\n",
        "print('Korelasi antara Points dan Game adalah ', correlation(pts, gm))\r\n",
        "\r\n",
        "print(' ')\r\n",
        "print('Kovarian antar kolom : ')\r\n",
        "print('Kovarian antara Game Score dan Game adalah ', covariance (gs, gm))\r\n",
        "print('Kovarian antara Game Score dan Points adalah ', covariance (gs, pts))\r\n",
        "print('Kovarian antara antara Points dan Game adalahh ', covariance(pts, gm))\r\n"
      ],
      "execution_count": null,
      "outputs": [
        {
          "output_type": "stream",
          "text": [
            "Korelasi antar kolom : \n",
            "Korelasi antara Game Score dan Game adalah  0.08111896879130927\n",
            "Korelasi antara Game Score dan Points adalah  0.8471607895825264\n",
            "Korelasi antara Points dan Game adalah  0.08815396423718244\n",
            " \n",
            "Kovarian antar kolom : \n",
            "Kovarian antara Game Score dan Game adalah  13.91539836224861\n",
            "Kovarian antara Game Score dan Points adalah  52.01153361889319\n",
            "Kovarian antara antara Points dan Game adalahh  15.309719970131814\n"
          ],
          "name": "stdout"
        }
      ]
    },
    {
      "cell_type": "code",
      "metadata": {
        "colab": {
          "base_uri": "https://localhost:8080/",
          "height": 352
        },
        "id": "rAMvZGSHkDc1",
        "outputId": "b50f3bfd-79ab-48c5-aa06-3b8eb689635d"
      },
      "source": [
        "plt.scatter(data['game_score'], data['game'])\r\n",
        "print('Korelasi antar kolom : ')\r\n",
        "print('Korelasi antara Game Score dan Game adalah ', correlation(gs, gm))\r\n",
        "\r\n",
        "print(' ')\r\n",
        "print('Kovarian antar kolom : ')\r\n",
        "print('Kovarian antara Game Score dan Game adalah ', covariance (gs, gm))"
      ],
      "execution_count": null,
      "outputs": [
        {
          "output_type": "stream",
          "text": [
            "Korelasi antar kolom : \n",
            "Korelasi antara Game Score dan Game adalah  0.08111896879130927\n",
            " \n",
            "Kovarian antar kolom : \n",
            "Kovarian antara Game Score dan Game adalah  13.91539836224861\n"
          ],
          "name": "stdout"
        },
        {
          "output_type": "display_data",
          "data": {
            "image/png": "[encoded data removed]",
            "text/plain": [
              "<Figure size 432x288 with 1 Axes>"
            ]
          },
          "metadata": {
            "tags": [],
            "needs_background": "light"
          }
        }
      ]
    },
    {
      "cell_type": "markdown",
      "metadata": {
        "id": "Q_A2F6PAk7yg"
      },
      "source": [
        "  - **Analisis** : Dari permodelan di atas, didapatkan prediksi korelasi antara Game Score dan game adalah 0,08, dan prediksi kovarian adalah 13,9."
      ]
    },
    {
      "cell_type": "code",
      "metadata": {
        "colab": {
          "base_uri": "https://localhost:8080/",
          "height": 352
        },
        "id": "jGDcptCPlJf3",
        "outputId": "98e9d3c6-f7e9-4cd8-94d6-e434de2e6b77"
      },
      "source": [
        "plt.scatter(data['game_score'], data['pts'])\r\n",
        "print('Korelasi antar kolom : ')\r\n",
        "print('Korelasi antara Game Score dan Points adalah ', correlation(gs, pts))\r\n",
        "\r\n",
        "print(' ')\r\n",
        "print('Kovarian antar kolom : ')\r\n",
        "print('Kovarian antara Game Score dan Points adalah ', covariance (gs, pts))"
      ],
      "execution_count": null,
      "outputs": [
        {
          "output_type": "stream",
          "text": [
            "Korelasi antar kolom : \n",
            "Korelasi antara Game Score dan Points adalah  0.8471607895825264\n",
            " \n",
            "Kovarian antar kolom : \n",
            "Kovarian antara Game Score dan Points adalah  52.01153361889319\n"
          ],
          "name": "stdout"
        },
        {
          "output_type": "display_data",
          "data": {
            "image/png": "[encoded data removed]",
            "text/plain": [
              "<Figure size 432x288 with 1 Axes>"
            ]
          },
          "metadata": {
            "tags": [],
            "needs_background": "light"
          }
        }
      ]
    },
    {
      "cell_type": "markdown",
      "metadata": {
        "id": "BdY659T9l1D7"
      },
      "source": [
        " - **Analisis** : Dari permodelan di atas, didapatkan prediksi korelasi antara Game Score dan Points adalah 0,08, dan prediksi kovarian adalah 52"
      ]
    },
    {
      "cell_type": "code",
      "metadata": {
        "colab": {
          "base_uri": "https://localhost:8080/",
          "height": 352
        },
        "id": "gMuJv8EHl68F",
        "outputId": "4cc957ea-87b3-441f-8926-a671513f7553"
      },
      "source": [
        "plt.scatter(data['game'], data['pts'])\r\n",
        "print('Korelasi antar kolom : ')\r\n",
        "print('Korelasi antara Game dan Points adalah ', correlation(gm, pts))\r\n",
        "\r\n",
        "print(' ')\r\n",
        "print('Kovarian antar kolom : ')\r\n",
        "print('Kovarian antara Game dan Points adalah ', covariance (gm, pts))"
      ],
      "execution_count": null,
      "outputs": [
        {
          "output_type": "stream",
          "text": [
            "Korelasi antar kolom : \n",
            "Korelasi antara Game dan Points adalah  0.08815396423718244\n",
            " \n",
            "Kovarian antar kolom : \n",
            "Kovarian antara Game dan Points adalah  15.309719970131814\n"
          ],
          "name": "stdout"
        },
        {
          "output_type": "display_data",
          "data": {
            "image/png": "[encoded data removed]",
            "text/plain": [
              "<Figure size 432x288 with 1 Axes>"
            ]
          },
          "metadata": {
            "tags": [],
            "needs_background": "light"
          }
        }
      ]
    },
    {
      "cell_type": "markdown",
      "metadata": {
        "id": "i7kjVCH_mLyC"
      },
      "source": [
        " - **Analisis** : Dari permodelan di atas, didapatkan prediksi korelasi antara Game Score dan Points adalah 0,08, dan prediksi kovarian adalah 15,3"
      ]
    },
    {
      "cell_type": "code",
      "metadata": {
        "colab": {
          "base_uri": "https://localhost:8080/",
          "height": 537
        },
        "id": "DsX6QwOWmUCP",
        "outputId": "658360a2-e3dc-42ce-9e27-0c3335058ea1"
      },
      "source": [
        "corr = data.corr()\r\n",
        "\r\n",
        "plt.figure(figsize=(15,8))\r\n",
        "\r\n",
        "sns.heatmap(corr, annot=True, vmin = -1, cmap='coolwarm')\r\n",
        "\r\n",
        "plt.show()"
      ],
      "execution_count": null,
      "outputs": [
        {
          "output_type": "display_data",
          "data": {
            "image/png": "[encoded data removed]",
            "text/plain": [
              "<Figure size 1080x576 with 2 Axes>"
            ]
          },
          "metadata": {
            "tags": [],
            "needs_background": "light"
          }
        }
      ]
    },
    {
      "cell_type": "markdown",
      "metadata": {
        "id": "FqE3jqJLmgWw"
      },
      "source": [
        " - **Analisis** : Pada Heatmap korelasi disini didapatkan korelasi antara Game Score, Game, dengan Points. dan dari data heatmap diatas dapat disimpulkan:\r\n",
        "    - Game Score dan Game senilai 0,081\r\n",
        "    - Game Score dan points senilai 0,85\r\n",
        "    - Gane dan Points senilai 0,088"
      ]
    },
    {
      "cell_type": "markdown",
      "metadata": {
        "id": "_s-TquMW4pma"
      },
      "source": [
        ""
      ]
    },
    {
      "cell_type": "markdown",
      "metadata": {
        "id": "HijraAS64uu5"
      },
      "source": [
        "# **EVALUASI MODEL**"
      ]
    },
    {
      "cell_type": "markdown",
      "metadata": {
        "id": "RTJV9-qG5pFm"
      },
      "source": [
        "**Tahap 1** : Import library yang diperlukan dalam tahap evaluasi data ini\r\n",
        "\r\n"
      ]
    },
    {
      "cell_type": "code",
      "metadata": {
        "id": "ISzBWSr058C-"
      },
      "source": [
        "from sklearn.datasets import make_classification\r\n",
        "from matplotlib import pyplot as plt\r\n",
        "from sklearn.linear_model import LogisticRegression\r\n",
        "from sklearn.model_selection import train_test_split\r\n",
        "from sklearn.metrics import confusion_matrix\r\n",
        "import seaborn as sns\r\n",
        "import pandas as pd\r\n",
        "\r\n",
        "sns.set()"
      ],
      "execution_count": null,
      "outputs": []
    },
    {
      "cell_type": "markdown",
      "metadata": {
        "id": "srGo5ZOO5qZO"
      },
      "source": [
        "**Tahap 2** :Membuat klasifikasi dari grafik x dan y"
      ]
    },
    {
      "cell_type": "code",
      "metadata": {
        "id": "9qAXOvyT6MWL"
      },
      "source": [
        "x, y = make_classification(\r\n",
        "    n_samples=100,\r\n",
        "    n_features=1,\r\n",
        "    n_classes=2,\r\n",
        "    n_clusters_per_class=1,\r\n",
        "    flip_y=0.03,\r\n",
        "    n_informative=1,\r\n",
        "    n_redundant=0,\r\n",
        "    n_repeated=0\r\n",
        ")"
      ],
      "execution_count": null,
      "outputs": []
    },
    {
      "cell_type": "markdown",
      "metadata": {
        "id": "YDim0bgi5t6h"
      },
      "source": [
        "**Tahap 3** : Menampilkan plot hubungan antara fungsi dan kelas yang ada dengan klasifikasi yang sudah dibentuk pada grafik x dan y."
      ]
    },
    {
      "cell_type": "code",
      "metadata": {
        "colab": {
          "base_uri": "https://localhost:8080/",
          "height": 286
        },
        "id": "_cioyjaz6d2s",
        "outputId": "5a23be24-673e-4fe2-c6a0-37134aa88fcd"
      },
      "source": [
        "plt.scatter(x, y, c=y, cmap='rainbow')"
      ],
      "execution_count": null,
      "outputs": [
        {
          "output_type": "execute_result",
          "data": {
            "text/plain": [
              "<matplotlib.collections.PathCollection at 0x7f40a1b48a90>"
            ]
          },
          "metadata": {
            "tags": []
          },
          "execution_count": 60
        },
        {
          "output_type": "display_data",
          "data": {
            "image/png": "[encoded data removed]",
            "text/plain": [
              "<Figure size 432x288 with 1 Axes>"
            ]
          },
          "metadata": {
            "tags": []
          }
        }
      ]
    },
    {
      "cell_type": "markdown",
      "metadata": {
        "id": "MT_F0mN96jYl"
      },
      "source": [
        "  - **Analisis :** Scatter plot digunakan untuk pemetaan dari grafik x dan y dengan dibagi 2 warna bagian. Pemetaan ini digunakan untuk melihat persebaran data yang ada."
      ]
    },
    {
      "cell_type": "markdown",
      "metadata": {
        "id": "CG4RzpQz5ufe"
      },
      "source": [
        "**Tahap 4** : Inisialisasi untuk evaluasi subset"
      ]
    },
    {
      "cell_type": "code",
      "metadata": {
        "id": "EVVCfnE36vJs"
      },
      "source": [
        "x_train, x_test, y_train, y_test = train_test_split(x, y, random_state=1)"
      ],
      "execution_count": null,
      "outputs": []
    },
    {
      "cell_type": "markdown",
      "metadata": {
        "id": "Hwl1wDAz5uzq"
      },
      "source": [
        "**Tahap 5** : Membuat model mempelajari hubungan antara digit (x_train) dan label (y_train)"
      ]
    },
    {
      "cell_type": "code",
      "metadata": {
        "colab": {
          "base_uri": "https://localhost:8080/"
        },
        "id": "WrrrR_4e67qk",
        "outputId": "978ef189-9cae-47d3-a4a9-5b3e3b01f6d6"
      },
      "source": [
        "lr = LogisticRegression()\r\n",
        "lr.fit(x_train, y_train)"
      ],
      "execution_count": null,
      "outputs": [
        {
          "output_type": "execute_result",
          "data": {
            "text/plain": [
              "LogisticRegression(C=1.0, class_weight=None, dual=False, fit_intercept=True,\n",
              "                   intercept_scaling=1, l1_ratio=None, max_iter=100,\n",
              "                   multi_class='auto', n_jobs=None, penalty='l2',\n",
              "                   random_state=None, solver='lbfgs', tol=0.0001, verbose=0,\n",
              "                   warm_start=False)"
            ]
          },
          "metadata": {
            "tags": []
          },
          "execution_count": 63
        }
      ]
    },
    {
      "cell_type": "markdown",
      "metadata": {
        "id": "iFP-eOn05vFD"
      },
      "source": [
        "**Tahap 6** : Menampilkan evaluasi dengan melihat koefisien kemiringan dan perpotongan y dari garis yang paling cocok"
      ]
    },
    {
      "cell_type": "code",
      "metadata": {
        "colab": {
          "base_uri": "https://localhost:8080/"
        },
        "id": "PhPW9SWy7IiO",
        "outputId": "a4e2b015-44bc-4156-d730-8b85bced541b"
      },
      "source": [
        "print(lr.coef_)\r\n",
        "print(lr.intercept_)"
      ],
      "execution_count": null,
      "outputs": [
        {
          "output_type": "stream",
          "text": [
            "[[3.26700472]]\n",
            "[-0.17494839]\n"
          ],
          "name": "stdout"
        }
      ]
    },
    {
      "cell_type": "markdown",
      "metadata": {
        "id": "KnHJPYWI7PBP"
      },
      "source": [
        "  - **Analisis :**  Evaluasi dengan menggunakan model Regresi dilihat dari koefisien kemiringan bernilai 3.26700472 dan perpotongan garis y adalah -0.17494839"
      ]
    },
    {
      "cell_type": "markdown",
      "metadata": {
        "id": "DGrjK0bZ5vUd"
      },
      "source": [
        "**EVALUASI HIPOTESIS DARI PEMODELAN**  "
      ]
    },
    {
      "cell_type": "markdown",
      "metadata": {
        "id": "gHJNOjg_-Qv0"
      },
      "source": [
        "Hipotesis dari pemodelan yang sudah dilakukan mendapatkan nilai korelasi yang baik adalah 0,7. \r\n",
        "\r\n",
        "- Jika P-Value sama dengan 0 atau lebih dari 0 maka hipotesis diterima dan korelasi kuat\r\n",
        "- Jika P-Value kurang dari 0 maka hipotesis ditolak."
      ]
    },
    {
      "cell_type": "code",
      "metadata": {
        "id": "TzitwTO8-WqO"
      },
      "source": [
        "class HypothesisTest(object):\r\n",
        "    \r\n",
        "    def __init__(self, data):\r\n",
        "        self.data = data\r\n",
        "        self.MakeModel()\r\n",
        "        self.actual = self.TestStatistic(data)\r\n",
        "        \r\n",
        "    def PValue(self, iters = 1000):\r\n",
        "        self.test_stats = [self.TestStatistic(self.RunModel()) for _ in range(iters)]\r\n",
        "        count = sum(1 for x in self.test_stats if x >= self.actual)\r\n",
        "        return count / iters\r\n",
        "    \r\n",
        "    def TestStatistic(self, data):\r\n",
        "        raise UnimplementedMethodException()\r\n",
        "        \r\n",
        "    def MakeModel(self):\r\n",
        "        pass\r\n",
        "    \r\n",
        "    def RunModel(self):\r\n",
        "        raise UnimplementedMethodException()"
      ],
      "execution_count": null,
      "outputs": []
    },
    {
      "cell_type": "code",
      "metadata": {
        "id": "wF6HNF6L-hd6"
      },
      "source": [
        "class CorrPermute(HypothesisTest):\r\n",
        "    \r\n",
        "    def TestStatistic(self, data):\r\n",
        "        xs, ys = data\r\n",
        "        test_stat = abs(correlation(xs, ys))\r\n",
        "        return test_stat\r\n",
        "    \r\n",
        "    def RunModel(self):\r\n",
        "        xs, ys = self.data\r\n",
        "        xs = np.random.permutation(xs)\r\n",
        "        return xs, ys\r\n",
        "    \r\n",
        "def correlation(x, y):\r\n",
        "    std_x = np.std(x)\r\n",
        "    std_y = np.std(y)\r\n",
        "    if std_x and std_y > 0:\r\n",
        "        return covariance(x, y) / std_x / std_y\r\n",
        "    else:\r\n",
        "        return 0\r\n",
        "    \r\n",
        "def de_mean(x):\r\n",
        "    x_bar = np.mean(x)\r\n",
        "    return [x_i - x_bar for x_i in x]\r\n",
        "\r\n",
        "def covariance(x, y):\r\n",
        "    n = len(x)\r\n",
        "    return np.dot(de_mean(x), de_mean(y)) / (n - 1)"
      ],
      "execution_count": null,
      "outputs": []
    },
    {
      "cell_type": "code",
      "metadata": {
        "colab": {
          "base_uri": "https://localhost:8080/"
        },
        "id": "TYlrOZ6h-q6R",
        "outputId": "26c1deb5-821c-4563-faec-0466d30a4550"
      },
      "source": [
        "cp = CorrPermute((gm, gs))\r\n",
        "pvalue = cp.PValue()\r\n",
        "\r\n",
        "print('Hipotesis akhir p-value: ', pvalue)"
      ],
      "execution_count": null,
      "outputs": [
        {
          "output_type": "stream",
          "text": [
            "Hipotesis akhir p-value:  0.004\n"
          ],
          "name": "stdout"
        }
      ]
    },
    {
      "cell_type": "markdown",
      "metadata": {
        "id": "gJd4iQ5X_ATH"
      },
      "source": [
        "  - **Analisis :** Hipotesis akhir p value yang ada adalah 0.0004. Hipotesis akhir adalah salah dan korelasi kuat yaitu 0,7 antara Game Score dan Game yang tidak terjadi secara kebetulan."
      ]
    },
    {
      "cell_type": "markdown",
      "metadata": {
        "id": "hASBd9AC5vkX"
      },
      "source": [
        "**PREDIKSI MENGGUNAKAN LINEAR LEAST SQUARE** : "
      ]
    },
    {
      "cell_type": "code",
      "metadata": {
        "id": "CfZEvOt8BIlJ"
      },
      "source": [
        "def LeastSquares(xs, ys):\r\n",
        "    meanx, varx = np.mean(xs), np.var(xs)\r\n",
        "    meany = np.mean(ys)\r\n",
        "    \r\n",
        "    slope = covariance(xs, ys) / varx\r\n",
        "    inter = meany - slope * meanx\r\n",
        "    \r\n",
        "    return inter, slope\r\n",
        "\r\n",
        "def FitLine(xs, inter, slope):\r\n",
        "    fit_xs = np.sort(xs)\r\n",
        "    fit_ys = inter + slope * fit_xs\r\n",
        "    \r\n",
        "    return fit_xs, fit_ys"
      ],
      "execution_count": null,
      "outputs": []
    },
    {
      "cell_type": "code",
      "metadata": {
        "colab": {
          "base_uri": "https://localhost:8080/"
        },
        "id": "LfdNXwrZBPq2",
        "outputId": "3dce2b36-fc46-4c7c-d095-6da05cbb694b"
      },
      "source": [
        "inter, slope = LeastSquares(gs, gm)\r\n",
        "fit_xs, fit_ys = FitLine(gs, inter, slope)\r\n",
        "\r\n",
        "print('intercept is: {} and slope is: {}'.format(inter, slope))"
      ],
      "execution_count": null,
      "outputs": [
        {
          "output_type": "stream",
          "text": [
            "intercept is: 33.285388903407835 and slope is: 0.2294637083972881\n"
          ],
          "name": "stdout"
        }
      ]
    },
    {
      "cell_type": "markdown",
      "metadata": {
        "id": "M7FT4rgc5v7W"
      },
      "source": [
        "**RESIDUAL** : "
      ]
    },
    {
      "cell_type": "code",
      "metadata": {
        "id": "zOVEYKyUBkO9"
      },
      "source": [
        "def Residuals(xs, ys, inter, slope):\r\n",
        "    xs = np.asarray(xs)\r\n",
        "    ys = np.asarray(ys)\r\n",
        "    res = ys - (inter + slope * xs)\r\n",
        "    return res"
      ],
      "execution_count": null,
      "outputs": []
    },
    {
      "cell_type": "code",
      "metadata": {
        "id": "szzEc3a8BokS"
      },
      "source": [
        "res = Residuals(gs, gm, inter, slope)\r\n",
        "\r\n",
        "data['residuals'] = res"
      ],
      "execution_count": null,
      "outputs": []
    },
    {
      "cell_type": "code",
      "metadata": {
        "colab": {
          "base_uri": "https://localhost:8080/"
        },
        "id": "vx6ittBuByKH",
        "outputId": "783249d0-74cc-48b2-b91a-23cd2665ed03"
      },
      "source": [
        "print('Prediksi RMSE adalah :  ', np.std(res))"
      ],
      "execution_count": null,
      "outputs": [
        {
          "output_type": "stream",
          "text": [
            "Prediksi RMSE adalah :   21.955904481675752\n"
          ],
          "name": "stdout"
        }
      ]
    },
    {
      "cell_type": "markdown",
      "metadata": {
        "id": "-cq1ZS8w5w-w"
      },
      "source": [
        "**KOEFISIEN DETERMINASI** "
      ]
    },
    {
      "cell_type": "code",
      "metadata": {
        "colab": {
          "base_uri": "https://localhost:8080/"
        },
        "id": "2EPB5b_pCC8V",
        "outputId": "df31ac95-a5b8-43ef-cfdb-ecb8d682129a"
      },
      "source": [
        "r_squared = 1 - (np.var(res) / np.var(gm))\r\n",
        "\r\n",
        "print('Koefisien determinasi didapatkan adalah: ', r_squared)"
      ],
      "execution_count": null,
      "outputs": [
        {
          "output_type": "stream",
          "text": [
            "Koefisien determinasi didapatkan adalah:  0.006568661148830368\n"
          ],
          "name": "stdout"
        }
      ]
    },
    {
      "cell_type": "markdown",
      "metadata": {
        "id": "EzSMtaMj5xdY"
      },
      "source": [
        "**VISUALISASI PLOT** "
      ]
    },
    {
      "cell_type": "code",
      "metadata": {
        "colab": {
          "base_uri": "https://localhost:8080/",
          "height": 520
        },
        "id": "GMiqkoteCRbv",
        "outputId": "f3550811-f4e7-4574-95c8-ea522aaf5b66"
      },
      "source": [
        "plt.figure(figsize = (15, 8))\r\n",
        "\r\n",
        "plt.xlabel('game_score')\r\n",
        "plt.ylabel('game')\r\n",
        "\r\n",
        "plt.plot(fit_xs, fit_ys, color = 'red')\r\n",
        "plt.scatter(gs, gm, color = 'blue')"
      ],
      "execution_count": null,
      "outputs": [
        {
          "output_type": "execute_result",
          "data": {
            "text/plain": [
              "<matplotlib.collections.PathCollection at 0x7f40b4ce52b0>"
            ]
          },
          "metadata": {
            "tags": []
          },
          "execution_count": 76
        },
        {
          "output_type": "display_data",
          "data": {
            "image/png": "[encoded data removed]",
            "text/plain": [
              "<Figure size 1080x576 with 1 Axes>"
            ]
          },
          "metadata": {
            "tags": []
          }
        }
      ]
    }
  ]
}