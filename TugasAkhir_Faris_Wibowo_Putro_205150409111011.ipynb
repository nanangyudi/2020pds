{
  "nbformat": 4,
  "nbformat_minor": 0,
  "metadata": {
    "colab": {
      "name": "TugasAkhir_Faris Wibowo Putro_205150409111011",
      "provenance": [],
      "collapsed_sections": [
        "oOkD95f96DGK",
        "eSB0VguM6ywU"
      ],
      "toc_visible": true,
      "include_colab_link": true
    },
    "kernelspec": {
      "display_name": "Python 3",
      "name": "python3"
    }
  },
  "cells": [
    {
      "cell_type": "markdown",
      "metadata": {
        "id": "view-in-github",
        "colab_type": "text"
      },
      "source": [
        "<a href=\"https://colab.research.google.com/github/nanangyudi/2020pds_d/blob/main/TugasAkhir_Faris_Wibowo_Putro_205150409111011.ipynb\" target=\"_parent\"><img src=\"https://colab.research.google.com/assets/colab-badge.svg\" alt=\"Open In Colab\"/></a>"
      ]
    },
    {
      "cell_type": "markdown",
      "metadata": {
        "id": "5fCEDCU_qrC0"
      },
      "source": [
        "<p><img alt=\"Colaboratory logo\" height=\"45px\" src=\"/img/colab_favicon.ico\" align=\"left\" hspace=\"10px\" vspace=\"0px\"></p>\n",
        "\n",
        "<h1>What is Colaboratory?</h1>\n",
        "\n",
        "Colaboratory, or \"Colab\" for short, allows you to write and execute Python in your browser, with \n",
        "- Zero configuration required\n",
        "- Free access to GPUs\n",
        "- Easy sharing\n",
        "\n",
        "Whether you're a **student**, a **data scientist** or an **AI researcher**, Colab can make your work easier. Watch [Introduction to Colab](https://www.youtube.com/watch?v=inN8seMm7UI) to learn more, or just get started below!"
      ]
    },
    {
      "cell_type": "markdown",
      "metadata": {
        "id": "ANtELk2W12mj"
      },
      "source": [
        "># **TAHAP DESKRIPSI TUJUAN**"
      ]
    },
    {
      "cell_type": "markdown",
      "metadata": {
        "id": "sZhzLw8G2c6y"
      },
      "source": [
        "**A. Deskripsi Tujuan  Data Konsumsi Alkohol Dikalangan Siswa**\r\n",
        "\r\n",
        "Tujuan dari pengelolahan data ini adalah:\r\n",
        "\r\n",
        "1. Untuk mengelola data pemakai alkohol dikalangan siswa\r\n",
        "2. Untuk mengetahui informasi dan menghasilkan informasi yang dibutuhkan bagi sekolah yang telah didata\r\n",
        "\r\n",
        "**B. Kebutuhan Organisasi**\r\n",
        "\r\n",
        "Kebutuhan organisasi adalah kebutuhan yang akan dianalisis atau informasi yang akan didapatkan setelah melakukan analisis, yaitu:\r\n",
        "\r\n",
        "1. Mengetahui sekolah yang telah didata\r\n",
        "2. Mengetahui seberapa banyak yang telah mengkonsumsi alkohol di umur siswa sekolah pada data\r\n",
        "3. Mengetahui jenis kelamin siswa yang telah mengkonsumsi alkohol\r\n",
        "4. Mengetahui tingkat kesehatan siswa berdasarkan data\r\n",
        "5. Mengetahui jumlah konsumsi alkohol di hari kerja pada siswa sekolah tersebut\r\n",
        "\r\n",
        "\r\n"
      ]
    },
    {
      "cell_type": "markdown",
      "metadata": {
        "id": "oOkD95f96DGK"
      },
      "source": [
        "># **TAHAP ANALISIS PENDEKATAN**"
      ]
    },
    {
      "cell_type": "markdown",
      "metadata": {
        "id": "8UBY3bbd6YqH"
      },
      "source": [
        "**Analisis Pendekatan Yang Dilakukan**\r\n",
        "\r\n",
        "Analisis pendekatan yang dipakai adalah EDA, yaitu metode eksplorasi data dengan menggunakan teknik aritmatika sederhana dan teknik grafis dalam meringkas data pengamatan. Tahapan yang dilakukan dalam analisis EDA adalah :\r\n",
        "\r\n",
        "1. Merumuskan masalah,\r\n",
        "2. Mengumpulkan data,\r\n",
        "3. Melakukan analisis,\r\n",
        "4. Melakukan pemodelan data,\r\n",
        "5. Kesimpulan."
      ]
    },
    {
      "cell_type": "markdown",
      "metadata": {
        "id": "eSB0VguM6ywU"
      },
      "source": [
        "># **TAHAP PENGUMPULAN DATA**"
      ]
    },
    {
      "cell_type": "markdown",
      "metadata": {
        "id": "Sw5xnJKC7cOX"
      },
      "source": [
        "**Pengumpulan Data**\r\n",
        "\r\n",
        "Dataset ini diperoleh dari sumber kaggle.com. \r\n",
        "\r\n",
        "Berikut link data : https://www.kaggle.com/uciml/student-alcohol-consumption dan dipublikasi oleh UCI Machine Learning"
      ]
    },
    {
      "cell_type": "markdown",
      "metadata": {
        "id": "n85Fpfml65Wn"
      },
      "source": [
        "># **TAHAP PEMAHAMAN DATA YANG DIKUMPULKAN**"
      ]
    },
    {
      "cell_type": "markdown",
      "metadata": {
        "id": "NrsBIF6q7wPd"
      },
      "source": [
        "**Pemahaman Terhadap Data Yang Telah Dikumpulkan**\r\n",
        "\r\n",
        "Data yang didapat berupa data siswa diberapa sekolahan.\r\n",
        "\r\n",
        "Terdapat beberapa data seperti nama sekolah, jenis kelamin, umur, alamat, Ukuran keluarga, Status kohabitasi orang tua, Pendidikan ibu, Pendidikan ayah, Pekerjaan ibu, Pekerjaan Ayah, Alasan memilih sekolah ini, Wali siswa, Waktu tempuh pulang ke sekolah, Waktu belajar mingguan, Jumlah kegagalan kelas sebelumnya, Dukungan pendidikan ekstra, Pendidikan keluarga, Kelas berbayar ekstra dalam subjek kursus, Kegiatan ekstrakulikuler, Menghadiri sekolah pembibitan, Ingin mengambil pendidikan tinggi, Akses internet di rumah, Dengan hubungan romantis, Kualitas hubungan keluarga, Waktu luang sepulang sekolah, Pergi bersama teman-teman, Konsumsi alkohol di hari kerja, Konsumsi alkohol akhir pekan, Status kesehatan saat ini, Jumlah ketidakhadiran sekolah, Kelas satu, Kelas periode kedua, dan Nilai akhir\r\n",
        "\r\n",
        "Pada data ini dijelaskan bahwa histori siswa Gabriel Pereira dan Mousinho da telah terdata dengan baik"
      ]
    },
    {
      "cell_type": "markdown",
      "metadata": {
        "id": "myJHZP8P7Cl1"
      },
      "source": [
        "># **TAHAP EKSPLORASI DATA**"
      ]
    },
    {
      "cell_type": "markdown",
      "metadata": {
        "id": "1AwV67q6Bjpb"
      },
      "source": [
        "**Tahap pertama**\r\n",
        "\r\n",
        "Memasukan data dari url, data disimpan di repository Github"
      ]
    },
    {
      "cell_type": "code",
      "metadata": {
        "id": "cnzZdNIrBxEh"
      },
      "source": [
        "import os \r\n",
        "url=\"https://raw.githubusercontent.com/farisputro/Demo-eksplorasi-data-dengan-phyton/main/student-mat.csv\"\r\n"
      ],
      "execution_count": null,
      "outputs": []
    },
    {
      "cell_type": "markdown",
      "metadata": {
        "id": "R1JRLlvQCCtD"
      },
      "source": [
        "**Tahap Kedua**\r\n",
        "\r\n",
        "Menampilkan data yang telah di import dari url dengan menampilkan data bagian atas"
      ]
    },
    {
      "cell_type": "code",
      "metadata": {
        "colab": {
          "base_uri": "https://localhost:8080/",
          "height": 222
        },
        "id": "X2QyPfTDCJMv",
        "outputId": "a74e2446-b5d6-41a9-b8d6-7faf7447051f"
      },
      "source": [
        "import pandas as pd\r\n",
        "student = pd.read_csv(url, error_bad_lines=False)\r\n",
        "student.head()"
      ],
      "execution_count": null,
      "outputs": [
        {
          "output_type": "execute_result",
          "data": {
            "text/html": [
              "<div>\n",
              "<style scoped>\n",
              "    .dataframe tbody tr th:only-of-type {\n",
              "        vertical-align: middle;\n",
              "    }\n",
              "\n",
              "    .dataframe tbody tr th {\n",
              "        vertical-align: top;\n",
              "    }\n",
              "\n",
              "    .dataframe thead th {\n",
              "        text-align: right;\n",
              "    }\n",
              "</style>\n",
              "<table border=\"1\" class=\"dataframe\">\n",
              "  <thead>\n",
              "    <tr style=\"text-align: right;\">\n",
              "      <th></th>\n",
              "      <th>school</th>\n",
              "      <th>sex</th>\n",
              "      <th>age</th>\n",
              "      <th>address</th>\n",
              "      <th>famsize</th>\n",
              "      <th>Pstatus</th>\n",
              "      <th>Medu</th>\n",
              "      <th>Fedu</th>\n",
              "      <th>Mjob</th>\n",
              "      <th>Fjob</th>\n",
              "      <th>reason</th>\n",
              "      <th>guardian</th>\n",
              "      <th>traveltime</th>\n",
              "      <th>studytime</th>\n",
              "      <th>failures</th>\n",
              "      <th>schoolsup</th>\n",
              "      <th>famsup</th>\n",
              "      <th>paid</th>\n",
              "      <th>activities</th>\n",
              "      <th>nursery</th>\n",
              "      <th>higher</th>\n",
              "      <th>internet</th>\n",
              "      <th>romantic</th>\n",
              "      <th>famrel</th>\n",
              "      <th>freetime</th>\n",
              "      <th>goout</th>\n",
              "      <th>Dalc</th>\n",
              "      <th>Walc</th>\n",
              "      <th>health</th>\n",
              "      <th>absences</th>\n",
              "      <th>G1</th>\n",
              "      <th>G2</th>\n",
              "      <th>G3</th>\n",
              "    </tr>\n",
              "  </thead>\n",
              "  <tbody>\n",
              "    <tr>\n",
              "      <th>0</th>\n",
              "      <td>GP</td>\n",
              "      <td>F</td>\n",
              "      <td>18</td>\n",
              "      <td>U</td>\n",
              "      <td>GT3</td>\n",
              "      <td>A</td>\n",
              "      <td>4</td>\n",
              "      <td>4</td>\n",
              "      <td>at_home</td>\n",
              "      <td>teacher</td>\n",
              "      <td>course</td>\n",
              "      <td>mother</td>\n",
              "      <td>2</td>\n",
              "      <td>2</td>\n",
              "      <td>0</td>\n",
              "      <td>yes</td>\n",
              "      <td>no</td>\n",
              "      <td>no</td>\n",
              "      <td>no</td>\n",
              "      <td>yes</td>\n",
              "      <td>yes</td>\n",
              "      <td>no</td>\n",
              "      <td>no</td>\n",
              "      <td>4</td>\n",
              "      <td>3</td>\n",
              "      <td>4</td>\n",
              "      <td>1</td>\n",
              "      <td>1</td>\n",
              "      <td>3</td>\n",
              "      <td>6</td>\n",
              "      <td>5</td>\n",
              "      <td>6</td>\n",
              "      <td>6</td>\n",
              "    </tr>\n",
              "    <tr>\n",
              "      <th>1</th>\n",
              "      <td>GP</td>\n",
              "      <td>F</td>\n",
              "      <td>17</td>\n",
              "      <td>U</td>\n",
              "      <td>GT3</td>\n",
              "      <td>T</td>\n",
              "      <td>1</td>\n",
              "      <td>1</td>\n",
              "      <td>at_home</td>\n",
              "      <td>other</td>\n",
              "      <td>course</td>\n",
              "      <td>father</td>\n",
              "      <td>1</td>\n",
              "      <td>2</td>\n",
              "      <td>0</td>\n",
              "      <td>no</td>\n",
              "      <td>yes</td>\n",
              "      <td>no</td>\n",
              "      <td>no</td>\n",
              "      <td>no</td>\n",
              "      <td>yes</td>\n",
              "      <td>yes</td>\n",
              "      <td>no</td>\n",
              "      <td>5</td>\n",
              "      <td>3</td>\n",
              "      <td>3</td>\n",
              "      <td>1</td>\n",
              "      <td>1</td>\n",
              "      <td>3</td>\n",
              "      <td>4</td>\n",
              "      <td>5</td>\n",
              "      <td>5</td>\n",
              "      <td>6</td>\n",
              "    </tr>\n",
              "    <tr>\n",
              "      <th>2</th>\n",
              "      <td>GP</td>\n",
              "      <td>F</td>\n",
              "      <td>15</td>\n",
              "      <td>U</td>\n",
              "      <td>LE3</td>\n",
              "      <td>T</td>\n",
              "      <td>1</td>\n",
              "      <td>1</td>\n",
              "      <td>at_home</td>\n",
              "      <td>other</td>\n",
              "      <td>other</td>\n",
              "      <td>mother</td>\n",
              "      <td>1</td>\n",
              "      <td>2</td>\n",
              "      <td>3</td>\n",
              "      <td>yes</td>\n",
              "      <td>no</td>\n",
              "      <td>yes</td>\n",
              "      <td>no</td>\n",
              "      <td>yes</td>\n",
              "      <td>yes</td>\n",
              "      <td>yes</td>\n",
              "      <td>no</td>\n",
              "      <td>4</td>\n",
              "      <td>3</td>\n",
              "      <td>2</td>\n",
              "      <td>2</td>\n",
              "      <td>3</td>\n",
              "      <td>3</td>\n",
              "      <td>10</td>\n",
              "      <td>7</td>\n",
              "      <td>8</td>\n",
              "      <td>10</td>\n",
              "    </tr>\n",
              "    <tr>\n",
              "      <th>3</th>\n",
              "      <td>GP</td>\n",
              "      <td>F</td>\n",
              "      <td>15</td>\n",
              "      <td>U</td>\n",
              "      <td>GT3</td>\n",
              "      <td>T</td>\n",
              "      <td>4</td>\n",
              "      <td>2</td>\n",
              "      <td>health</td>\n",
              "      <td>services</td>\n",
              "      <td>home</td>\n",
              "      <td>mother</td>\n",
              "      <td>1</td>\n",
              "      <td>3</td>\n",
              "      <td>0</td>\n",
              "      <td>no</td>\n",
              "      <td>yes</td>\n",
              "      <td>yes</td>\n",
              "      <td>yes</td>\n",
              "      <td>yes</td>\n",
              "      <td>yes</td>\n",
              "      <td>yes</td>\n",
              "      <td>yes</td>\n",
              "      <td>3</td>\n",
              "      <td>2</td>\n",
              "      <td>2</td>\n",
              "      <td>1</td>\n",
              "      <td>1</td>\n",
              "      <td>5</td>\n",
              "      <td>2</td>\n",
              "      <td>15</td>\n",
              "      <td>14</td>\n",
              "      <td>15</td>\n",
              "    </tr>\n",
              "    <tr>\n",
              "      <th>4</th>\n",
              "      <td>GP</td>\n",
              "      <td>F</td>\n",
              "      <td>16</td>\n",
              "      <td>U</td>\n",
              "      <td>GT3</td>\n",
              "      <td>T</td>\n",
              "      <td>3</td>\n",
              "      <td>3</td>\n",
              "      <td>other</td>\n",
              "      <td>other</td>\n",
              "      <td>home</td>\n",
              "      <td>father</td>\n",
              "      <td>1</td>\n",
              "      <td>2</td>\n",
              "      <td>0</td>\n",
              "      <td>no</td>\n",
              "      <td>yes</td>\n",
              "      <td>yes</td>\n",
              "      <td>no</td>\n",
              "      <td>yes</td>\n",
              "      <td>yes</td>\n",
              "      <td>no</td>\n",
              "      <td>no</td>\n",
              "      <td>4</td>\n",
              "      <td>3</td>\n",
              "      <td>2</td>\n",
              "      <td>1</td>\n",
              "      <td>2</td>\n",
              "      <td>5</td>\n",
              "      <td>4</td>\n",
              "      <td>6</td>\n",
              "      <td>10</td>\n",
              "      <td>10</td>\n",
              "    </tr>\n",
              "  </tbody>\n",
              "</table>\n",
              "</div>"
            ],
            "text/plain": [
              "  school sex  age address famsize Pstatus  ...  Walc  health absences  G1  G2  G3\n",
              "0     GP   F   18       U     GT3       A  ...     1       3        6   5   6   6\n",
              "1     GP   F   17       U     GT3       T  ...     1       3        4   5   5   6\n",
              "2     GP   F   15       U     LE3       T  ...     3       3       10   7   8  10\n",
              "3     GP   F   15       U     GT3       T  ...     1       5        2  15  14  15\n",
              "4     GP   F   16       U     GT3       T  ...     2       5        4   6  10  10\n",
              "\n",
              "[5 rows x 33 columns]"
            ]
          },
          "metadata": {
            "tags": []
          },
          "execution_count": 34
        }
      ]
    },
    {
      "cell_type": "markdown",
      "metadata": {
        "id": "-9UEzmv2CR_E"
      },
      "source": [
        "**Tahap Ketiga**\r\n",
        "\r\n",
        "Menampilkan data yang telah di import dari url dengan menampilkan data bagian bawah"
      ]
    },
    {
      "cell_type": "code",
      "metadata": {
        "colab": {
          "base_uri": "https://localhost:8080/",
          "height": 222
        },
        "id": "rGyfBj21NqgF",
        "outputId": "1914279a-ef11-4fc3-e0be-817538f93854"
      },
      "source": [
        "import pandas as pd\r\n",
        "student = pd.read_csv(url, error_bad_lines=False)\r\n",
        "student.tail()"
      ],
      "execution_count": null,
      "outputs": [
        {
          "output_type": "execute_result",
          "data": {
            "text/html": [
              "<div>\n",
              "<style scoped>\n",
              "    .dataframe tbody tr th:only-of-type {\n",
              "        vertical-align: middle;\n",
              "    }\n",
              "\n",
              "    .dataframe tbody tr th {\n",
              "        vertical-align: top;\n",
              "    }\n",
              "\n",
              "    .dataframe thead th {\n",
              "        text-align: right;\n",
              "    }\n",
              "</style>\n",
              "<table border=\"1\" class=\"dataframe\">\n",
              "  <thead>\n",
              "    <tr style=\"text-align: right;\">\n",
              "      <th></th>\n",
              "      <th>school</th>\n",
              "      <th>sex</th>\n",
              "      <th>age</th>\n",
              "      <th>address</th>\n",
              "      <th>famsize</th>\n",
              "      <th>Pstatus</th>\n",
              "      <th>Medu</th>\n",
              "      <th>Fedu</th>\n",
              "      <th>Mjob</th>\n",
              "      <th>Fjob</th>\n",
              "      <th>reason</th>\n",
              "      <th>guardian</th>\n",
              "      <th>traveltime</th>\n",
              "      <th>studytime</th>\n",
              "      <th>failures</th>\n",
              "      <th>schoolsup</th>\n",
              "      <th>famsup</th>\n",
              "      <th>paid</th>\n",
              "      <th>activities</th>\n",
              "      <th>nursery</th>\n",
              "      <th>higher</th>\n",
              "      <th>internet</th>\n",
              "      <th>romantic</th>\n",
              "      <th>famrel</th>\n",
              "      <th>freetime</th>\n",
              "      <th>goout</th>\n",
              "      <th>Dalc</th>\n",
              "      <th>Walc</th>\n",
              "      <th>health</th>\n",
              "      <th>absences</th>\n",
              "      <th>G1</th>\n",
              "      <th>G2</th>\n",
              "      <th>G3</th>\n",
              "    </tr>\n",
              "  </thead>\n",
              "  <tbody>\n",
              "    <tr>\n",
              "      <th>390</th>\n",
              "      <td>MS</td>\n",
              "      <td>M</td>\n",
              "      <td>20</td>\n",
              "      <td>U</td>\n",
              "      <td>LE3</td>\n",
              "      <td>A</td>\n",
              "      <td>2</td>\n",
              "      <td>2</td>\n",
              "      <td>services</td>\n",
              "      <td>services</td>\n",
              "      <td>course</td>\n",
              "      <td>other</td>\n",
              "      <td>1</td>\n",
              "      <td>2</td>\n",
              "      <td>2</td>\n",
              "      <td>no</td>\n",
              "      <td>yes</td>\n",
              "      <td>yes</td>\n",
              "      <td>no</td>\n",
              "      <td>yes</td>\n",
              "      <td>yes</td>\n",
              "      <td>no</td>\n",
              "      <td>no</td>\n",
              "      <td>5</td>\n",
              "      <td>5</td>\n",
              "      <td>4</td>\n",
              "      <td>4</td>\n",
              "      <td>5</td>\n",
              "      <td>4</td>\n",
              "      <td>11</td>\n",
              "      <td>9</td>\n",
              "      <td>9</td>\n",
              "      <td>9</td>\n",
              "    </tr>\n",
              "    <tr>\n",
              "      <th>391</th>\n",
              "      <td>MS</td>\n",
              "      <td>M</td>\n",
              "      <td>17</td>\n",
              "      <td>U</td>\n",
              "      <td>LE3</td>\n",
              "      <td>T</td>\n",
              "      <td>3</td>\n",
              "      <td>1</td>\n",
              "      <td>services</td>\n",
              "      <td>services</td>\n",
              "      <td>course</td>\n",
              "      <td>mother</td>\n",
              "      <td>2</td>\n",
              "      <td>1</td>\n",
              "      <td>0</td>\n",
              "      <td>no</td>\n",
              "      <td>no</td>\n",
              "      <td>no</td>\n",
              "      <td>no</td>\n",
              "      <td>no</td>\n",
              "      <td>yes</td>\n",
              "      <td>yes</td>\n",
              "      <td>no</td>\n",
              "      <td>2</td>\n",
              "      <td>4</td>\n",
              "      <td>5</td>\n",
              "      <td>3</td>\n",
              "      <td>4</td>\n",
              "      <td>2</td>\n",
              "      <td>3</td>\n",
              "      <td>14</td>\n",
              "      <td>16</td>\n",
              "      <td>16</td>\n",
              "    </tr>\n",
              "    <tr>\n",
              "      <th>392</th>\n",
              "      <td>MS</td>\n",
              "      <td>M</td>\n",
              "      <td>21</td>\n",
              "      <td>R</td>\n",
              "      <td>GT3</td>\n",
              "      <td>T</td>\n",
              "      <td>1</td>\n",
              "      <td>1</td>\n",
              "      <td>other</td>\n",
              "      <td>other</td>\n",
              "      <td>course</td>\n",
              "      <td>other</td>\n",
              "      <td>1</td>\n",
              "      <td>1</td>\n",
              "      <td>3</td>\n",
              "      <td>no</td>\n",
              "      <td>no</td>\n",
              "      <td>no</td>\n",
              "      <td>no</td>\n",
              "      <td>no</td>\n",
              "      <td>yes</td>\n",
              "      <td>no</td>\n",
              "      <td>no</td>\n",
              "      <td>5</td>\n",
              "      <td>5</td>\n",
              "      <td>3</td>\n",
              "      <td>3</td>\n",
              "      <td>3</td>\n",
              "      <td>3</td>\n",
              "      <td>3</td>\n",
              "      <td>10</td>\n",
              "      <td>8</td>\n",
              "      <td>7</td>\n",
              "    </tr>\n",
              "    <tr>\n",
              "      <th>393</th>\n",
              "      <td>MS</td>\n",
              "      <td>M</td>\n",
              "      <td>18</td>\n",
              "      <td>R</td>\n",
              "      <td>LE3</td>\n",
              "      <td>T</td>\n",
              "      <td>3</td>\n",
              "      <td>2</td>\n",
              "      <td>services</td>\n",
              "      <td>other</td>\n",
              "      <td>course</td>\n",
              "      <td>mother</td>\n",
              "      <td>3</td>\n",
              "      <td>1</td>\n",
              "      <td>0</td>\n",
              "      <td>no</td>\n",
              "      <td>no</td>\n",
              "      <td>no</td>\n",
              "      <td>no</td>\n",
              "      <td>no</td>\n",
              "      <td>yes</td>\n",
              "      <td>yes</td>\n",
              "      <td>no</td>\n",
              "      <td>4</td>\n",
              "      <td>4</td>\n",
              "      <td>1</td>\n",
              "      <td>3</td>\n",
              "      <td>4</td>\n",
              "      <td>5</td>\n",
              "      <td>0</td>\n",
              "      <td>11</td>\n",
              "      <td>12</td>\n",
              "      <td>10</td>\n",
              "    </tr>\n",
              "    <tr>\n",
              "      <th>394</th>\n",
              "      <td>MS</td>\n",
              "      <td>M</td>\n",
              "      <td>19</td>\n",
              "      <td>U</td>\n",
              "      <td>LE3</td>\n",
              "      <td>T</td>\n",
              "      <td>1</td>\n",
              "      <td>1</td>\n",
              "      <td>other</td>\n",
              "      <td>at_home</td>\n",
              "      <td>course</td>\n",
              "      <td>father</td>\n",
              "      <td>1</td>\n",
              "      <td>1</td>\n",
              "      <td>0</td>\n",
              "      <td>no</td>\n",
              "      <td>no</td>\n",
              "      <td>no</td>\n",
              "      <td>no</td>\n",
              "      <td>yes</td>\n",
              "      <td>yes</td>\n",
              "      <td>yes</td>\n",
              "      <td>no</td>\n",
              "      <td>3</td>\n",
              "      <td>2</td>\n",
              "      <td>3</td>\n",
              "      <td>3</td>\n",
              "      <td>3</td>\n",
              "      <td>5</td>\n",
              "      <td>5</td>\n",
              "      <td>8</td>\n",
              "      <td>9</td>\n",
              "      <td>9</td>\n",
              "    </tr>\n",
              "  </tbody>\n",
              "</table>\n",
              "</div>"
            ],
            "text/plain": [
              "    school sex  age address famsize Pstatus  ...  Walc  health absences  G1  G2  G3\n",
              "390     MS   M   20       U     LE3       A  ...     5       4       11   9   9   9\n",
              "391     MS   M   17       U     LE3       T  ...     4       2        3  14  16  16\n",
              "392     MS   M   21       R     GT3       T  ...     3       3        3  10   8   7\n",
              "393     MS   M   18       R     LE3       T  ...     4       5        0  11  12  10\n",
              "394     MS   M   19       U     LE3       T  ...     3       5        5   8   9   9\n",
              "\n",
              "[5 rows x 33 columns]"
            ]
          },
          "metadata": {
            "tags": []
          },
          "execution_count": 35
        }
      ]
    },
    {
      "cell_type": "markdown",
      "metadata": {
        "id": "g0OPt6WWOaqV"
      },
      "source": [
        "**Tahap Keempat**\r\n",
        "\r\n",
        "Menampilkan jumlah data dan baris kolom"
      ]
    },
    {
      "cell_type": "code",
      "metadata": {
        "colab": {
          "base_uri": "https://localhost:8080/"
        },
        "id": "CSAIjSwNOkio",
        "outputId": "f43a5a88-8bff-471f-f8a0-5ebd1538c23b"
      },
      "source": [
        "import pandas as pd\r\n",
        "student = pd.read_csv(url, error_bad_lines=False)\r\n",
        "student.shape"
      ],
      "execution_count": null,
      "outputs": [
        {
          "output_type": "execute_result",
          "data": {
            "text/plain": [
              "(395, 33)"
            ]
          },
          "metadata": {
            "tags": []
          },
          "execution_count": 36
        }
      ]
    },
    {
      "cell_type": "markdown",
      "metadata": {
        "id": "yLhTFX_ePTUi"
      },
      "source": [
        "**Tahap Kelima**\r\n",
        "\r\n",
        "Menampilkan data informasi mengenai kolom"
      ]
    },
    {
      "cell_type": "code",
      "metadata": {
        "colab": {
          "base_uri": "https://localhost:8080/"
        },
        "id": "F--V89KAPjxQ",
        "outputId": "83e2c1d7-81da-482d-b220-3b097f8fd1e0"
      },
      "source": [
        "import pandas as pd\r\n",
        "student = pd.read_csv(url, error_bad_lines=False)\r\n",
        "student.info()"
      ],
      "execution_count": null,
      "outputs": [
        {
          "output_type": "stream",
          "text": [
            "<class 'pandas.core.frame.DataFrame'>\n",
            "RangeIndex: 395 entries, 0 to 394\n",
            "Data columns (total 33 columns):\n",
            " #   Column      Non-Null Count  Dtype \n",
            "---  ------      --------------  ----- \n",
            " 0   school      395 non-null    object\n",
            " 1   sex         395 non-null    object\n",
            " 2   age         395 non-null    int64 \n",
            " 3   address     395 non-null    object\n",
            " 4   famsize     395 non-null    object\n",
            " 5   Pstatus     395 non-null    object\n",
            " 6   Medu        395 non-null    int64 \n",
            " 7   Fedu        395 non-null    int64 \n",
            " 8   Mjob        395 non-null    object\n",
            " 9   Fjob        395 non-null    object\n",
            " 10  reason      395 non-null    object\n",
            " 11  guardian    395 non-null    object\n",
            " 12  traveltime  395 non-null    int64 \n",
            " 13  studytime   395 non-null    int64 \n",
            " 14  failures    395 non-null    int64 \n",
            " 15  schoolsup   395 non-null    object\n",
            " 16  famsup      395 non-null    object\n",
            " 17  paid        395 non-null    object\n",
            " 18  activities  395 non-null    object\n",
            " 19  nursery     395 non-null    object\n",
            " 20  higher      395 non-null    object\n",
            " 21  internet    395 non-null    object\n",
            " 22  romantic    395 non-null    object\n",
            " 23  famrel      395 non-null    int64 \n",
            " 24  freetime    395 non-null    int64 \n",
            " 25  goout       395 non-null    int64 \n",
            " 26  Dalc        395 non-null    int64 \n",
            " 27  Walc        395 non-null    int64 \n",
            " 28  health      395 non-null    int64 \n",
            " 29  absences    395 non-null    int64 \n",
            " 30  G1          395 non-null    int64 \n",
            " 31  G2          395 non-null    int64 \n",
            " 32  G3          395 non-null    int64 \n",
            "dtypes: int64(16), object(17)\n",
            "memory usage: 102.0+ KB\n"
          ],
          "name": "stdout"
        }
      ]
    },
    {
      "cell_type": "markdown",
      "metadata": {
        "id": "y5eyJwg0PZE5"
      },
      "source": [
        "**Tahap Keenam**\r\n",
        "\r\n",
        "Menganalisis tentang sekolah Gabriel Pereira dan Mousinho da tentang jumlah siswa yang mengkonsumsi alkohol "
      ]
    },
    {
      "cell_type": "code",
      "metadata": {
        "colab": {
          "base_uri": "https://localhost:8080/",
          "height": 295
        },
        "id": "4CChYHTNP1zp",
        "outputId": "375bcad2-67f5-4934-e896-9f62b27d132e"
      },
      "source": [
        "import matplotlib.pyplot as plt\r\n",
        "import pandas as pd\r\n",
        "student = pd.read_csv(url, error_bad_lines=False)\r\n",
        "\r\n",
        "#Plots in matplotlib reside within a figure\r\n",
        "\r\n",
        "fig=plt.figure()\r\n",
        "\r\n",
        "#Create one or more subplots using\r\n",
        "ax = fig.add_subplot(1,1,1)\r\n",
        "\r\n",
        "#Variable\r\n",
        "ax.hist(student['school'],bins = 5)\r\n",
        "#Labels and Tit\r\n",
        "plt.title('Student Alcohol Consumption')\r\n",
        "plt.xlabel('school')\r\n",
        "plt.ylabel('student')\r\n",
        "plt.show()"
      ],
      "execution_count": null,
      "outputs": [
        {
          "output_type": "display_data",
          "data": {
            "image/png": "[encoded data removed]",
            "text/plain": [
              "<Figure size 432x288 with 1 Axes>"
            ]
          },
          "metadata": {
            "tags": [],
            "needs_background": "light"
          }
        }
      ]
    },
    {
      "cell_type": "markdown",
      "metadata": {
        "id": "uSNrUkBpSR-L"
      },
      "source": [
        "*   **Analisis Histogram :** Ditampilkan sekolah Gabriel Pereira dan Mousinho da. Sekolah Gabriel Pereira memiliki 350 total siswa yang mengkonsumsi alkohol sedangkan sekolah Mousinho da hanya 50 total siswa yang mengkonsumsi alkohol"
      ]
    },
    {
      "cell_type": "markdown",
      "metadata": {
        "id": "bRaODovePmFY"
      },
      "source": [
        "**Tahap ketujuh :** \n",
        "\n",
        "Analisis kesehatan saat ini dengan umur siswa yang berada pada sekolah Gabriel Pereira dan Mousinho da sesuai dengan tabel"
      ]
    },
    {
      "cell_type": "code",
      "metadata": {
        "id": "C6JGeLy_1_wL",
        "colab": {
          "base_uri": "https://localhost:8080/",
          "height": 295
        },
        "outputId": "12b6393b-cc01-4d10-f751-b89d53a1faee"
      },
      "source": [
        "Student = pd.read_csv(url, error_bad_lines=False)\n",
        "\n",
        "fig=plt.figure()\n",
        "\n",
        "#Create one or more subplots using\n",
        "\n",
        "ax = fig.add_subplot(1,1,1)\n",
        "\n",
        "#Variable\n",
        "ax.scatter(student['age'],student['health'])\n",
        "\n",
        "#Labels and Tit\n",
        "plt.title('Student Alcohol Consumption')\n",
        "plt.xlabel('age')\n",
        "plt.ylabel('health')\n",
        "plt.show()"
      ],
      "execution_count": null,
      "outputs": [
        {
          "output_type": "display_data",
          "data": {
            "image/png": "[encoded data removed]",
            "text/plain": [
              "<Figure size 432x288 with 1 Axes>"
            ]
          },
          "metadata": {
            "tags": [],
            "needs_background": "light"
          }
        }
      ]
    },
    {
      "cell_type": "markdown",
      "metadata": {
        "id": "WkIU0mLuJuuG"
      },
      "source": [
        "*   **Analisis Scatter Plot :**Total kesehatan saat ini di umur 15 sampai 16 bisa mendapatkan nilai 5 sampai 1, dan total umur 20 sampai 22 tidak rata dalam mendapatkan nilai 5 sampai 1."
      ]
    },
    {
      "cell_type": "markdown",
      "metadata": {
        "id": "Yu_v5F5MI819"
      },
      "source": [
        "**Tahap kedelapan**\n",
        "\n",
        "Analisis menggunakan Boxplot dilihat dari total umur dengan kesehatan saat ini yang diberikan oleh sekolah Gabriel Pereira dan Mousinho da pada tabel"
      ]
    },
    {
      "cell_type": "code",
      "metadata": {
        "id": "j_2VT6YG8I-c",
        "colab": {
          "base_uri": "https://localhost:8080/",
          "height": 334
        },
        "outputId": "4acb9dd0-c6ef-40dd-c744-606616143dc3"
      },
      "source": [
        "import seaborn as sns\n",
        "sns.boxplot(student['age'])\n",
        "sns.despine()"
      ],
      "execution_count": null,
      "outputs": [
        {
          "output_type": "stream",
          "text": [
            "/usr/local/lib/python3.6/dist-packages/seaborn/_decorators.py:43: FutureWarning: Pass the following variable as a keyword arg: x. From version 0.12, the only valid positional argument will be `data`, and passing other arguments without an explicit keyword will result in an error or misinterpretation.\n",
            "  FutureWarning\n"
          ],
          "name": "stderr"
        },
        {
          "output_type": "display_data",
          "data": {
            "image/png": "[encoded data removed]",
            "text/plain": [
              "<Figure size 432x288 with 1 Axes>"
            ]
          },
          "metadata": {
            "tags": [],
            "needs_background": "light"
          }
        }
      ]
    },
    {
      "cell_type": "markdown",
      "metadata": {
        "id": "lfwAe3_oBxsf"
      },
      "source": [
        "*   **Analisis Boxplot**\n",
        "\n",
        "1.   Nilai minimal menunjukan total umur 15\n",
        "2.   Nilai Quartil terendah menunjukan total umur 16\n",
        "3.   Nilai Median menunjukan total umur 17\n",
        "4.   Nilai Quartil tertinggi menunjukan total umur 18\n",
        "5.   Nilai maksimal menunjukan total umur 21\n",
        "6.   Terdapat 1 pencilan data pada total umur 22\n"
      ]
    },
    {
      "cell_type": "markdown",
      "metadata": {
        "id": "wgEVFizMckw9"
      },
      "source": [
        "**Tahap kesembilan**\r\n",
        "\r\n",
        "Analisis menggunakan Plots untuk mengetahui seberapa sering mengkonsumsi alkohol di hari kerja pada siswa sekolah Gabriel Pereira dan Mousinho da"
      ]
    },
    {
      "cell_type": "code",
      "metadata": {
        "colab": {
          "base_uri": "https://localhost:8080/",
          "height": 297
        },
        "id": "uGDmlH1Jc8It",
        "outputId": "df86c513-7889-41f4-b7f0-d2124bee622e"
      },
      "source": [
        "sns.stripplot(x=\"school\", y=\"Dalc\", data=student) "
      ],
      "execution_count": null,
      "outputs": [
        {
          "output_type": "execute_result",
          "data": {
            "text/plain": [
              "<matplotlib.axes._subplots.AxesSubplot at 0x7fc9ade64208>"
            ]
          },
          "metadata": {
            "tags": []
          },
          "execution_count": 41
        },
        {
          "output_type": "display_data",
          "data": {
            "image/png": "[encoded data removed]",
            "text/plain": [
              "<Figure size 432x288 with 1 Axes>"
            ]
          },
          "metadata": {
            "tags": [],
            "needs_background": "light"
          }
        }
      ]
    },
    {
      "cell_type": "markdown",
      "metadata": {
        "id": "tmLndgGVgG_2"
      },
      "source": [
        "*   **Analisis Plots** : Terlihat pada sekolah GP dan MS rata-rata mengkonsumsi alkohol pada hari kerja angkanya 1-3 yang berarti sangat rendah sampai ke sedang\r\n"
      ]
    },
    {
      "cell_type": "markdown",
      "metadata": {
        "id": "4ggi-hPJjuKw"
      },
      "source": [
        "**Tahap kesepuluh**\r\n",
        "\r\n",
        "Analisis menggunakan Boxplot untuk melihat usia dan jenis kelamin berapa banyak yang mengkonsumsi alkohol pada sekolah Gabriel Pereira dan Mousinho da"
      ]
    },
    {
      "cell_type": "code",
      "metadata": {
        "colab": {
          "base_uri": "https://localhost:8080/",
          "height": 297
        },
        "id": "K5xDie1akpkR",
        "outputId": "215f93f8-11c1-462d-faca-1e96b2943845"
      },
      "source": [
        "sns.boxplot(x=\"school\", y=\"age\", data=student, hue = 'sex') "
      ],
      "execution_count": null,
      "outputs": [
        {
          "output_type": "execute_result",
          "data": {
            "text/plain": [
              "<matplotlib.axes._subplots.AxesSubplot at 0x7fc9addd4cc0>"
            ]
          },
          "metadata": {
            "tags": []
          },
          "execution_count": 42
        },
        {
          "output_type": "display_data",
          "data": {
            "image/png": "[encoded data removed]",
            "text/plain": [
              "<Figure size 432x288 with 1 Axes>"
            ]
          },
          "metadata": {
            "tags": [],
            "needs_background": "light"
          }
        }
      ]
    },
    {
      "cell_type": "markdown",
      "metadata": {
        "id": "3RurthHrlzFH"
      },
      "source": [
        "*   **Analisis Boxplot Female Sekolah Gabriel Pereira**\r\n",
        "\r\n",
        "1.   Nilai minimal menunjukan total umur 15\r\n",
        "2.   Nilai Median menunjukan total umur 16\r\n",
        "3.   Nilai Quartil tertinggi menunjukan total umur 17\r\n",
        "4.   Nilai maksimal menunjukan total umur 18\r\n",
        "5.   Terdapat 1 pencilan data pada total umur 19\r\n",
        "\r\n",
        "*   **Analisis Boxplot Male Sekolah Gabriel Pereira**\r\n",
        "\r\n",
        "1.   Nilai Quartil terendah menunjukan total umur 15\r\n",
        "2.   Nilai Median menunjukan total umur 16\r\n",
        "3.   Nilai Quartil tertinggi menunjukan total umur 17\r\n",
        "4.   Nilai maksimal menunjukan total umur 20\r\n",
        "5.   Terdapat 1 pencilan data pada total umur 22\r\n",
        "\r\n",
        "*   **Analisis Boxplot Female Sekolah Mousinho da**\r\n",
        "\r\n",
        "1.   Nilai Median menunjukan total umur 17\r\n",
        "2.   Nilai Quartil tertinggi menunjukan total umur 18\r\n",
        "3.   Nilai maksimal menunjukan total umur 19\r\n",
        "4.   Terdapat 1 pencilan data pada total umur 20\r\n",
        "\r\n",
        "*   **Analisis Boxplot Male Sekolah Mousinho da**\r\n",
        "\r\n",
        "1.   Nilai minimal menunjukan total umur 17\r\n",
        "2.   Nilai Median menunjukan total umur 18\r\n",
        "3.   Nilai Quartil tertinggi menunjukan total umur 19\r\n",
        "4.   Nilai maksimal menunjukan total umur 20\r\n",
        "5.   Terdapat 1 pencilan data pada total umur 21"
      ]
    },
    {
      "cell_type": "markdown",
      "metadata": {
        "id": "RlQHATJfno6c"
      },
      "source": [
        "**Tahap kesebelas**\r\n",
        "\r\n",
        "Analisis frekuensi untuk melihat kesehatan saat ini dengan umur siswa pada sekolah Gabriel Pereira dan Mousinho da"
      ]
    },
    {
      "cell_type": "code",
      "metadata": {
        "id": "y8Wd_cVc8ql5",
        "colab": {
          "base_uri": "https://localhost:8080/"
        },
        "outputId": "a37381ba-abe3-4ea4-9b64-4d0173fa5e7d"
      },
      "source": [
        "import pandas as pd\n",
        "student=pd.read_csv(url, error_bad_lines=False)\n",
        "print (student)\n",
        "test= student.groupby(['age','health'])\n",
        "test.size()"
      ],
      "execution_count": null,
      "outputs": [
        {
          "output_type": "stream",
          "text": [
            "    school sex  age address famsize Pstatus  ...  Walc  health absences  G1  G2  G3\n",
            "0       GP   F   18       U     GT3       A  ...     1       3        6   5   6   6\n",
            "1       GP   F   17       U     GT3       T  ...     1       3        4   5   5   6\n",
            "2       GP   F   15       U     LE3       T  ...     3       3       10   7   8  10\n",
            "3       GP   F   15       U     GT3       T  ...     1       5        2  15  14  15\n",
            "4       GP   F   16       U     GT3       T  ...     2       5        4   6  10  10\n",
            "..     ...  ..  ...     ...     ...     ...  ...   ...     ...      ...  ..  ..  ..\n",
            "390     MS   M   20       U     LE3       A  ...     5       4       11   9   9   9\n",
            "391     MS   M   17       U     LE3       T  ...     4       2        3  14  16  16\n",
            "392     MS   M   21       R     GT3       T  ...     3       3        3  10   8   7\n",
            "393     MS   M   18       R     LE3       T  ...     4       5        0  11  12  10\n",
            "394     MS   M   19       U     LE3       T  ...     3       5        5   8   9   9\n",
            "\n",
            "[395 rows x 33 columns]\n"
          ],
          "name": "stdout"
        },
        {
          "output_type": "execute_result",
          "data": {
            "text/plain": [
              "age  health\n",
              "15   1         15\n",
              "     2          6\n",
              "     3         14\n",
              "     4         10\n",
              "     5         37\n",
              "16   1          8\n",
              "     2         14\n",
              "     3         22\n",
              "     4         17\n",
              "     5         43\n",
              "17   1         12\n",
              "     2         11\n",
              "     3         25\n",
              "     4         16\n",
              "     5         34\n",
              "18   1          9\n",
              "     2         11\n",
              "     3         20\n",
              "     4         19\n",
              "     5         23\n",
              "19   1          2\n",
              "     2          3\n",
              "     3          8\n",
              "     4          3\n",
              "     5          8\n",
              "20   3          1\n",
              "     4          1\n",
              "     5          1\n",
              "21   3          1\n",
              "22   1          1\n",
              "dtype: int64"
            ]
          },
          "metadata": {
            "tags": []
          },
          "execution_count": 43
        }
      ]
    },
    {
      "cell_type": "markdown",
      "metadata": {
        "id": "KacaKnz_Lgij"
      },
      "source": [
        "- **Analisis Frekuensi**\n",
        "\n",
        "1. Terdapat data table yang ingin dianalisis,\n",
        "2. Umur dan kesehatan dikelompokan dan terdapat jumlah frekuensi yang telah dilakukan\n",
        "3. Nilai kesehatan 1 (sangat buruk) sampai 5 (sangat baik)\n",
        "4. Di umur 15 sampai 19 memiliki nilai kesehatan 1 sampai 5\n",
        "5. Di umur 20 hanya memiliki nilai kesehatan 3,4, dan 5\n",
        "6. Di umur 21 hanya memiliki nilai kesehatan 3\n",
        "7. Di umur 22 hanya memiliki nilai kesehatan 1"
      ]
    },
    {
      "cell_type": "markdown",
      "metadata": {
        "id": "s3Rrt1H4o-v_"
      },
      "source": [
        "**Tahap keduabelas**\r\n",
        "\r\n",
        "Analisis mapping untuk melihat kesehatan saat ini dengan umur siswa dan jenis kelamin pada sekolah Gabriel Pereira dan Mousinho da"
      ]
    },
    {
      "cell_type": "code",
      "metadata": {
        "id": "-nRi7bXiA3h7",
        "colab": {
          "base_uri": "https://localhost:8080/",
          "height": 457
        },
        "outputId": "8cf1ba08-8ed2-40dd-821a-700885edc070"
      },
      "source": [
        "import pandas as pd\n",
        "import matplotlib.pyplot as plt\n",
        "import seaborn as sns\n",
        "\n",
        "student=pd.read_csv(url, error_bad_lines=False)\n",
        "\n",
        "student = student.pivot_table(index='age', columns='sex', values='health')\n",
        "\n",
        "print(student)\\\n",
        "\n",
        "sns.heatmap(student, annot=True, cmap='coolwarm')\n",
        "\n",
        "plt.show()"
      ],
      "execution_count": null,
      "outputs": [
        {
          "output_type": "stream",
          "text": [
            "sex         F         M\n",
            "age                    \n",
            "15   3.500000  3.659091\n",
            "16   3.462963  3.960000\n",
            "17   3.275862  3.825000\n",
            "18   3.279070  3.615385\n",
            "19   3.285714  3.800000\n",
            "20   3.000000  4.500000\n",
            "21        NaN  3.000000\n",
            "22        NaN  1.000000\n"
          ],
          "name": "stdout"
        },
        {
          "output_type": "display_data",
          "data": {
            "image/png": "[encoded data removed]",
            "text/plain": [
              "<Figure size 432x288 with 2 Axes>"
            ]
          },
          "metadata": {
            "tags": [],
            "needs_background": "light"
          }
        }
      ]
    },
    {
      "cell_type": "markdown",
      "metadata": {
        "id": "XSyLwYNdMqjU"
      },
      "source": [
        "- **Analisis Mapping**\n",
        "\n",
        "1. Dibagi antara beberapa kelompok berdasarkan jenis kelamin yang terdapat pada tabel. \n",
        "2. Dapat dilihat pada gambar diatas tentang kesehatan saat ini terhadap jenis kelamin dan usia di sekolah Gabriel Pereira dan Mousinho da. Dari gambar diatas perempuan diumur 15 sampai 20 mendapatkan nilai rata rata 3 sampai 3.5. Pada laki-laki nilai tertinggi 4.5 diumur 20 dan terendah 1 pada umur 22. Nilai kesehatan 1 yang berarti sangat buruk sampai 5 yang berarti sangat baik."
      ]
    },
    {
      "cell_type": "markdown",
      "metadata": {
        "id": "ATNfqEq-7K56"
      },
      "source": [
        "># **TAHAP PEMODELAN DATA**"
      ]
    },
    {
      "cell_type": "markdown",
      "metadata": {
        "id": "Uh5OLY_PrrEx"
      },
      "source": [
        "**Tahap pertama**\r\n",
        "\r\n",
        "Import library yang digunakan"
      ]
    },
    {
      "cell_type": "code",
      "metadata": {
        "id": "75qDM05zr11j"
      },
      "source": [
        "from sklearn.cluster import KMeans\r\n",
        "import numpy as np\r\n",
        "from sklearn.preprocessing import MinMaxScaler\r\n",
        "import math"
      ],
      "execution_count": null,
      "outputs": []
    },
    {
      "cell_type": "markdown",
      "metadata": {
        "id": "prYgsUUer97g"
      },
      "source": [
        "**Tahap kedua**\r\n",
        "\r\n",
        "Pengelompokan data menggunakan acuan usia di sekolah Gabriel Pereira dan Mousinho da"
      ]
    },
    {
      "cell_type": "code",
      "metadata": {
        "colab": {
          "base_uri": "https://localhost:8080/",
          "height": 375
        },
        "id": "6r2OvdcesNeU",
        "outputId": "5888d35c-30b2-4d33-b355-859a3c3e81cf"
      },
      "source": [
        "test= student.groupby(['age'])\r\n",
        "test.describe()"
      ],
      "execution_count": null,
      "outputs": [
        {
          "output_type": "execute_result",
          "data": {
            "text/html": [
              "<div>\n",
              "<style scoped>\n",
              "    .dataframe tbody tr th:only-of-type {\n",
              "        vertical-align: middle;\n",
              "    }\n",
              "\n",
              "    .dataframe tbody tr th {\n",
              "        vertical-align: top;\n",
              "    }\n",
              "\n",
              "    .dataframe thead tr th {\n",
              "        text-align: left;\n",
              "    }\n",
              "\n",
              "    .dataframe thead tr:last-of-type th {\n",
              "        text-align: right;\n",
              "    }\n",
              "</style>\n",
              "<table border=\"1\" class=\"dataframe\">\n",
              "  <thead>\n",
              "    <tr>\n",
              "      <th>sex</th>\n",
              "      <th colspan=\"8\" halign=\"left\">F</th>\n",
              "      <th colspan=\"8\" halign=\"left\">M</th>\n",
              "    </tr>\n",
              "    <tr>\n",
              "      <th></th>\n",
              "      <th>count</th>\n",
              "      <th>mean</th>\n",
              "      <th>std</th>\n",
              "      <th>min</th>\n",
              "      <th>25%</th>\n",
              "      <th>50%</th>\n",
              "      <th>75%</th>\n",
              "      <th>max</th>\n",
              "      <th>count</th>\n",
              "      <th>mean</th>\n",
              "      <th>std</th>\n",
              "      <th>min</th>\n",
              "      <th>25%</th>\n",
              "      <th>50%</th>\n",
              "      <th>75%</th>\n",
              "      <th>max</th>\n",
              "    </tr>\n",
              "    <tr>\n",
              "      <th>age</th>\n",
              "      <th></th>\n",
              "      <th></th>\n",
              "      <th></th>\n",
              "      <th></th>\n",
              "      <th></th>\n",
              "      <th></th>\n",
              "      <th></th>\n",
              "      <th></th>\n",
              "      <th></th>\n",
              "      <th></th>\n",
              "      <th></th>\n",
              "      <th></th>\n",
              "      <th></th>\n",
              "      <th></th>\n",
              "      <th></th>\n",
              "      <th></th>\n",
              "    </tr>\n",
              "  </thead>\n",
              "  <tbody>\n",
              "    <tr>\n",
              "      <th>15</th>\n",
              "      <td>1.0</td>\n",
              "      <td>3.500000</td>\n",
              "      <td>NaN</td>\n",
              "      <td>3.500000</td>\n",
              "      <td>3.500000</td>\n",
              "      <td>3.500000</td>\n",
              "      <td>3.500000</td>\n",
              "      <td>3.500000</td>\n",
              "      <td>1.0</td>\n",
              "      <td>3.659091</td>\n",
              "      <td>NaN</td>\n",
              "      <td>3.659091</td>\n",
              "      <td>3.659091</td>\n",
              "      <td>3.659091</td>\n",
              "      <td>3.659091</td>\n",
              "      <td>3.659091</td>\n",
              "    </tr>\n",
              "    <tr>\n",
              "      <th>16</th>\n",
              "      <td>1.0</td>\n",
              "      <td>3.462963</td>\n",
              "      <td>NaN</td>\n",
              "      <td>3.462963</td>\n",
              "      <td>3.462963</td>\n",
              "      <td>3.462963</td>\n",
              "      <td>3.462963</td>\n",
              "      <td>3.462963</td>\n",
              "      <td>1.0</td>\n",
              "      <td>3.960000</td>\n",
              "      <td>NaN</td>\n",
              "      <td>3.960000</td>\n",
              "      <td>3.960000</td>\n",
              "      <td>3.960000</td>\n",
              "      <td>3.960000</td>\n",
              "      <td>3.960000</td>\n",
              "    </tr>\n",
              "    <tr>\n",
              "      <th>17</th>\n",
              "      <td>1.0</td>\n",
              "      <td>3.275862</td>\n",
              "      <td>NaN</td>\n",
              "      <td>3.275862</td>\n",
              "      <td>3.275862</td>\n",
              "      <td>3.275862</td>\n",
              "      <td>3.275862</td>\n",
              "      <td>3.275862</td>\n",
              "      <td>1.0</td>\n",
              "      <td>3.825000</td>\n",
              "      <td>NaN</td>\n",
              "      <td>3.825000</td>\n",
              "      <td>3.825000</td>\n",
              "      <td>3.825000</td>\n",
              "      <td>3.825000</td>\n",
              "      <td>3.825000</td>\n",
              "    </tr>\n",
              "    <tr>\n",
              "      <th>18</th>\n",
              "      <td>1.0</td>\n",
              "      <td>3.279070</td>\n",
              "      <td>NaN</td>\n",
              "      <td>3.279070</td>\n",
              "      <td>3.279070</td>\n",
              "      <td>3.279070</td>\n",
              "      <td>3.279070</td>\n",
              "      <td>3.279070</td>\n",
              "      <td>1.0</td>\n",
              "      <td>3.615385</td>\n",
              "      <td>NaN</td>\n",
              "      <td>3.615385</td>\n",
              "      <td>3.615385</td>\n",
              "      <td>3.615385</td>\n",
              "      <td>3.615385</td>\n",
              "      <td>3.615385</td>\n",
              "    </tr>\n",
              "    <tr>\n",
              "      <th>19</th>\n",
              "      <td>1.0</td>\n",
              "      <td>3.285714</td>\n",
              "      <td>NaN</td>\n",
              "      <td>3.285714</td>\n",
              "      <td>3.285714</td>\n",
              "      <td>3.285714</td>\n",
              "      <td>3.285714</td>\n",
              "      <td>3.285714</td>\n",
              "      <td>1.0</td>\n",
              "      <td>3.800000</td>\n",
              "      <td>NaN</td>\n",
              "      <td>3.800000</td>\n",
              "      <td>3.800000</td>\n",
              "      <td>3.800000</td>\n",
              "      <td>3.800000</td>\n",
              "      <td>3.800000</td>\n",
              "    </tr>\n",
              "    <tr>\n",
              "      <th>20</th>\n",
              "      <td>1.0</td>\n",
              "      <td>3.000000</td>\n",
              "      <td>NaN</td>\n",
              "      <td>3.000000</td>\n",
              "      <td>3.000000</td>\n",
              "      <td>3.000000</td>\n",
              "      <td>3.000000</td>\n",
              "      <td>3.000000</td>\n",
              "      <td>1.0</td>\n",
              "      <td>4.500000</td>\n",
              "      <td>NaN</td>\n",
              "      <td>4.500000</td>\n",
              "      <td>4.500000</td>\n",
              "      <td>4.500000</td>\n",
              "      <td>4.500000</td>\n",
              "      <td>4.500000</td>\n",
              "    </tr>\n",
              "    <tr>\n",
              "      <th>21</th>\n",
              "      <td>0.0</td>\n",
              "      <td>NaN</td>\n",
              "      <td>NaN</td>\n",
              "      <td>NaN</td>\n",
              "      <td>NaN</td>\n",
              "      <td>NaN</td>\n",
              "      <td>NaN</td>\n",
              "      <td>NaN</td>\n",
              "      <td>1.0</td>\n",
              "      <td>3.000000</td>\n",
              "      <td>NaN</td>\n",
              "      <td>3.000000</td>\n",
              "      <td>3.000000</td>\n",
              "      <td>3.000000</td>\n",
              "      <td>3.000000</td>\n",
              "      <td>3.000000</td>\n",
              "    </tr>\n",
              "    <tr>\n",
              "      <th>22</th>\n",
              "      <td>0.0</td>\n",
              "      <td>NaN</td>\n",
              "      <td>NaN</td>\n",
              "      <td>NaN</td>\n",
              "      <td>NaN</td>\n",
              "      <td>NaN</td>\n",
              "      <td>NaN</td>\n",
              "      <td>NaN</td>\n",
              "      <td>1.0</td>\n",
              "      <td>1.000000</td>\n",
              "      <td>NaN</td>\n",
              "      <td>1.000000</td>\n",
              "      <td>1.000000</td>\n",
              "      <td>1.000000</td>\n",
              "      <td>1.000000</td>\n",
              "      <td>1.000000</td>\n",
              "    </tr>\n",
              "  </tbody>\n",
              "</table>\n",
              "</div>"
            ],
            "text/plain": [
              "sex     F                          ...         M                              \n",
              "    count      mean std       min  ...       25%       50%       75%       max\n",
              "age                                ...                                        \n",
              "15    1.0  3.500000 NaN  3.500000  ...  3.659091  3.659091  3.659091  3.659091\n",
              "16    1.0  3.462963 NaN  3.462963  ...  3.960000  3.960000  3.960000  3.960000\n",
              "17    1.0  3.275862 NaN  3.275862  ...  3.825000  3.825000  3.825000  3.825000\n",
              "18    1.0  3.279070 NaN  3.279070  ...  3.615385  3.615385  3.615385  3.615385\n",
              "19    1.0  3.285714 NaN  3.285714  ...  3.800000  3.800000  3.800000  3.800000\n",
              "20    1.0  3.000000 NaN  3.000000  ...  4.500000  4.500000  4.500000  4.500000\n",
              "21    0.0       NaN NaN       NaN  ...  3.000000  3.000000  3.000000  3.000000\n",
              "22    0.0       NaN NaN       NaN  ...  1.000000  1.000000  1.000000  1.000000\n",
              "\n",
              "[8 rows x 16 columns]"
            ]
          },
          "metadata": {
            "tags": []
          },
          "execution_count": 47
        }
      ]
    },
    {
      "cell_type": "markdown",
      "metadata": {
        "id": "zMA87eiPs4vS"
      },
      "source": [
        "- **Analisis Pengelompokan** :\r\n",
        "Digunakan acuan Age(Usia) dibagi menjadi sex female dan male. Dikelompokkan menjadi count, mean, std, min, 25%, 50%, 75%, max."
      ]
    },
    {
      "cell_type": "markdown",
      "metadata": {
        "id": "5H-Eu6Hx-KnC"
      },
      "source": [
        "**Tahap ketiga**\r\n",
        "\r\n",
        "Pengelompokan indeks integer untuk pemilihan berdasarkan kolom 1 sampai 4"
      ]
    },
    {
      "cell_type": "code",
      "metadata": {
        "colab": {
          "base_uri": "https://localhost:8080/",
          "height": 233
        },
        "id": "spFt2Ml4_bqx",
        "outputId": "6f710218-2b01-4564-f686-609cf542ad6e"
      },
      "source": [
        "student_x = student.iloc[:, 1:4]\r\n",
        "student_x.head()"
      ],
      "execution_count": null,
      "outputs": [
        {
          "output_type": "execute_result",
          "data": {
            "text/html": [
              "<div>\n",
              "<style scoped>\n",
              "    .dataframe tbody tr th:only-of-type {\n",
              "        vertical-align: middle;\n",
              "    }\n",
              "\n",
              "    .dataframe tbody tr th {\n",
              "        vertical-align: top;\n",
              "    }\n",
              "\n",
              "    .dataframe thead th {\n",
              "        text-align: right;\n",
              "    }\n",
              "</style>\n",
              "<table border=\"1\" class=\"dataframe\">\n",
              "  <thead>\n",
              "    <tr style=\"text-align: right;\">\n",
              "      <th>sex</th>\n",
              "      <th>M</th>\n",
              "    </tr>\n",
              "    <tr>\n",
              "      <th>age</th>\n",
              "      <th></th>\n",
              "    </tr>\n",
              "  </thead>\n",
              "  <tbody>\n",
              "    <tr>\n",
              "      <th>15</th>\n",
              "      <td>3.659091</td>\n",
              "    </tr>\n",
              "    <tr>\n",
              "      <th>16</th>\n",
              "      <td>3.960000</td>\n",
              "    </tr>\n",
              "    <tr>\n",
              "      <th>17</th>\n",
              "      <td>3.825000</td>\n",
              "    </tr>\n",
              "    <tr>\n",
              "      <th>18</th>\n",
              "      <td>3.615385</td>\n",
              "    </tr>\n",
              "    <tr>\n",
              "      <th>19</th>\n",
              "      <td>3.800000</td>\n",
              "    </tr>\n",
              "  </tbody>\n",
              "</table>\n",
              "</div>"
            ],
            "text/plain": [
              "sex         M\n",
              "age          \n",
              "15   3.659091\n",
              "16   3.960000\n",
              "17   3.825000\n",
              "18   3.615385\n",
              "19   3.800000"
            ]
          },
          "metadata": {
            "tags": []
          },
          "execution_count": 48
        }
      ]
    },
    {
      "cell_type": "markdown",
      "metadata": {
        "id": "s7Bcw4y1AFSE"
      },
      "source": [
        "- **Analis** : Kolom yang muncul adalah M (male) karena kolom tersebut memiliki nilai integer"
      ]
    },
    {
      "cell_type": "markdown",
      "metadata": {
        "id": "3KT39rTJAeJK"
      },
      "source": [
        "**Tahap keempat**\r\n",
        "\r\n",
        "Pengelompokan menggunakan metode Elbow"
      ]
    },
    {
      "cell_type": "code",
      "metadata": {
        "colab": {
          "base_uri": "https://localhost:8080/",
          "height": 295
        },
        "id": "P92J-KU6CFNU",
        "outputId": "df7308e3-a94d-45fe-eee6-bd4f1b1f2d57"
      },
      "source": [
        "# Menggunakan metode elbow untuk menentukan angka cluster yang tepat\r\n",
        "wcss = []\r\n",
        "for i in range(1, 4):\r\n",
        "    kmeans = KMeans(n_clusters = i, init = 'k-means++', random_state = 4)\r\n",
        "    kmeans.fit(student_x)\r\n",
        "    wcss.append(kmeans.inertia_)\r\n",
        "plt.plot(range(1, 4), wcss)\r\n",
        "plt.title('Metode Elbow')\r\n",
        "plt.xlabel('Jumlah clusters')\r\n",
        "plt.ylabel('WCSS')\r\n",
        "plt.show()"
      ],
      "execution_count": null,
      "outputs": [
        {
          "output_type": "display_data",
          "data": {
            "image/png": "[encoded data removed]",
            "text/plain": [
              "<Figure size 432x288 with 1 Axes>"
            ]
          },
          "metadata": {
            "tags": [],
            "needs_background": "light"
          }
        }
      ]
    },
    {
      "cell_type": "markdown",
      "metadata": {
        "id": "vaIMNGe3H48c"
      },
      "source": [
        "- **Analisis** : Pengelompokan menggunakan metode Elbow untuk mengetahui jumlah cluster yang optimal. Untuk mendapatkan nilai yang digunakan dalam grafik, beberapa model menggunakan jumlah cluster yang berbeda dan menyimpan nilai intertia_properti (WCSS) setiap saat.\r\n",
        "\r\n",
        "- WCSS didefinisikan sebagai jumlah jarak kuadrat antara setiap anggota cluster dan pusatnya.\r\n",
        "\r\n",
        "- Elbow yang di temukan pada titik (x,y) = (2.00, 1)"
      ]
    },
    {
      "cell_type": "markdown",
      "metadata": {
        "id": "2tZWSmR6AjbG"
      },
      "source": [
        "**Tahap kelima**\r\n",
        "\r\n",
        "Pengelompokan berdasarkan Array"
      ]
    },
    {
      "cell_type": "code",
      "metadata": {
        "colab": {
          "base_uri": "https://localhost:8080/"
        },
        "id": "8WUVQKtkP5ss",
        "outputId": "d9101708-b074-462f-fd9c-9f3964ef23d7"
      },
      "source": [
        "x_array =  np.array(student_x)\r\n",
        "print(x_array)"
      ],
      "execution_count": null,
      "outputs": [
        {
          "output_type": "stream",
          "text": [
            "[[3.65909091]\n",
            " [3.96      ]\n",
            " [3.825     ]\n",
            " [3.61538462]\n",
            " [3.8       ]\n",
            " [4.5       ]\n",
            " [3.        ]\n",
            " [1.        ]]\n"
          ],
          "name": "stdout"
        }
      ]
    },
    {
      "cell_type": "markdown",
      "metadata": {
        "id": "6-kWIYiGQAlO"
      },
      "source": [
        "- **Analisis** : Array yang didapatkan dari pengelompokan jumlah data student_x yaitu dari kolom M (Male)."
      ]
    },
    {
      "cell_type": "markdown",
      "metadata": {
        "id": "FrpsKMj0AnY3"
      },
      "source": [
        "**Tahap keenam**\r\n",
        "\r\n",
        "Pengelompokan berdasarkan Skala"
      ]
    },
    {
      "cell_type": "code",
      "metadata": {
        "colab": {
          "base_uri": "https://localhost:8080/"
        },
        "id": "dnnQYKHyQ6ID",
        "outputId": "ae68127e-c2c3-4a41-dfe7-0e45edf3fec1"
      },
      "source": [
        "scaler = MinMaxScaler()\r\n",
        "x_scaled = scaler.fit_transform(x_array)\r\n",
        "x_scaled"
      ],
      "execution_count": null,
      "outputs": [
        {
          "output_type": "execute_result",
          "data": {
            "text/plain": [
              "array([[0.75974026],\n",
              "       [0.84571429],\n",
              "       [0.80714286],\n",
              "       [0.74725275],\n",
              "       [0.8       ],\n",
              "       [1.        ],\n",
              "       [0.57142857],\n",
              "       [0.        ]])"
            ]
          },
          "metadata": {
            "tags": []
          },
          "execution_count": 51
        }
      ]
    },
    {
      "cell_type": "markdown",
      "metadata": {
        "id": "sZpOGZ0uAg0y"
      },
      "source": [
        "**Tahap ketujuh**\r\n",
        "\r\n",
        "Pengelompokan menggunakan KMeans Clustering"
      ]
    },
    {
      "cell_type": "code",
      "metadata": {
        "id": "qyoJiOw1JFxA"
      },
      "source": [
        "# Menjalankan K-Means Clustering ke dataset\r\n",
        "kmeans = KMeans(n_clusters = 5, init = 'k-means++', random_state = 4)\r\n",
        "y_kmeans = kmeans.fit_predict(student_x)"
      ],
      "execution_count": null,
      "outputs": []
    },
    {
      "cell_type": "code",
      "metadata": {
        "colab": {
          "base_uri": "https://localhost:8080/"
        },
        "id": "mL2BUv_5K16p",
        "outputId": "0e4a23fc-4889-46c7-dbf7-6961840b3f91"
      },
      "source": [
        "print(kmeans.cluster_centers_)"
      ],
      "execution_count": null,
      "outputs": [
        {
          "output_type": "stream",
          "text": [
            "[[3.86166667]\n",
            " [1.        ]\n",
            " [3.        ]\n",
            " [4.5       ]\n",
            " [3.63723776]]\n"
          ],
          "name": "stdout"
        }
      ]
    },
    {
      "cell_type": "markdown",
      "metadata": {
        "id": "y1Lj-dm_LKhx"
      },
      "source": [
        "- **Analisis** : Prediksi yang didapatkan dari pengelompokan jumlah data student_x yaitu dari kolom M (Male). Membentuk matriks 1X1 dari pengelompokkan nilai tengah."
      ]
    },
    {
      "cell_type": "markdown",
      "metadata": {
        "id": "6Co7Uug-Q63k"
      },
      "source": [
        "- **Analisis** : Data ini menunjukan array dengan menggunakan penskalaan mencakup ketahanan terhadap stdev yang sangat kecil dan mempertahankan entri nol dalam data renggang."
      ]
    },
    {
      "cell_type": "markdown",
      "metadata": {
        "id": "ZZDM99Q0AqZI"
      },
      "source": [
        "**Tahap kedelapan**\r\n",
        "\r\n",
        "Menyelesaikan masalah KMeans dengan menggunakan algoritma Lloyd atau Elkan."
      ]
    },
    {
      "cell_type": "code",
      "metadata": {
        "colab": {
          "base_uri": "https://localhost:8080/"
        },
        "id": "QW2LLsdXQ74v",
        "outputId": "9aaebaff-e548-42f8-b3b0-dff13318ab45"
      },
      "source": [
        "# Menentukan dan mengkonfigurasi fungsi kmeans\r\n",
        "kmeans = KMeans(n_clusters = 5, random_state=123)\r\n",
        "# Menentukan kluster dari data\r\n",
        "kmeans.fit(x_scaled)"
      ],
      "execution_count": null,
      "outputs": [
        {
          "output_type": "execute_result",
          "data": {
            "text/plain": [
              "KMeans(algorithm='auto', copy_x=True, init='k-means++', max_iter=300,\n",
              "       n_clusters=5, n_init=10, n_jobs=None, precompute_distances='auto',\n",
              "       random_state=123, tol=0.0001, verbose=0)"
            ]
          },
          "metadata": {
            "tags": []
          },
          "execution_count": 54
        }
      ]
    },
    {
      "cell_type": "markdown",
      "metadata": {
        "id": "nfXyuvooQ9R0"
      },
      "source": [
        "- **Analisis** : Inisialisasi dari penyelesaian masalah KMeans\r\n"
      ]
    },
    {
      "cell_type": "code",
      "metadata": {
        "colab": {
          "base_uri": "https://localhost:8080/"
        },
        "id": "ETR_0ACtUBmw",
        "outputId": "1b9a7028-cd82-4a2a-8ce6-5b4bf68852ab"
      },
      "source": [
        "print(kmeans.cluster_centers_)"
      ],
      "execution_count": null,
      "outputs": [
        {
          "output_type": "stream",
          "text": [
            "[[0.81761905]\n",
            " [0.        ]\n",
            " [0.57142857]\n",
            " [1.        ]\n",
            " [0.7534965 ]]\n"
          ],
          "name": "stdout"
        }
      ]
    },
    {
      "cell_type": "markdown",
      "metadata": {
        "id": "Ot0ToxIXUD9V"
      },
      "source": [
        "- **Analisis** : Print kembali setelah masalah diselesaiakn prediksi yang didapatkan dari pengelompokan jumlah data student_x yaitu dari kolom M (Male). Membentuk matriks 1x1 dari pengelompokkan nilai tengah"
      ]
    },
    {
      "cell_type": "markdown",
      "metadata": {
        "id": "P5-aJqLkAuB8"
      },
      "source": [
        "**Tahap kesembilan**\r\n",
        "\r\n",
        "Menampilkan hasil kluster"
      ]
    },
    {
      "cell_type": "code",
      "metadata": {
        "colab": {
          "base_uri": "https://localhost:8080/",
          "height": 342
        },
        "id": "Fj3UhdGURRdZ",
        "outputId": "8e11e7ee-1174-4ae7-99c6-a2cbaabb22dd"
      },
      "source": [
        "# Menampilkan hasil kluster\r\n",
        "print (kmeans.labels_)\r\n",
        "# Menambahkan kolom \"kluster\" dalam data frame\r\n",
        "student[\"kluster\"] = kmeans.labels_\r\n",
        "student.head(999)"
      ],
      "execution_count": null,
      "outputs": [
        {
          "output_type": "stream",
          "text": [
            "[4 0 0 4 0 3 2 1]\n"
          ],
          "name": "stdout"
        },
        {
          "output_type": "execute_result",
          "data": {
            "text/html": [
              "<div>\n",
              "<style scoped>\n",
              "    .dataframe tbody tr th:only-of-type {\n",
              "        vertical-align: middle;\n",
              "    }\n",
              "\n",
              "    .dataframe tbody tr th {\n",
              "        vertical-align: top;\n",
              "    }\n",
              "\n",
              "    .dataframe thead th {\n",
              "        text-align: right;\n",
              "    }\n",
              "</style>\n",
              "<table border=\"1\" class=\"dataframe\">\n",
              "  <thead>\n",
              "    <tr style=\"text-align: right;\">\n",
              "      <th>sex</th>\n",
              "      <th>F</th>\n",
              "      <th>M</th>\n",
              "      <th>kluster</th>\n",
              "    </tr>\n",
              "    <tr>\n",
              "      <th>age</th>\n",
              "      <th></th>\n",
              "      <th></th>\n",
              "      <th></th>\n",
              "    </tr>\n",
              "  </thead>\n",
              "  <tbody>\n",
              "    <tr>\n",
              "      <th>15</th>\n",
              "      <td>3.500000</td>\n",
              "      <td>3.659091</td>\n",
              "      <td>4</td>\n",
              "    </tr>\n",
              "    <tr>\n",
              "      <th>16</th>\n",
              "      <td>3.462963</td>\n",
              "      <td>3.960000</td>\n",
              "      <td>0</td>\n",
              "    </tr>\n",
              "    <tr>\n",
              "      <th>17</th>\n",
              "      <td>3.275862</td>\n",
              "      <td>3.825000</td>\n",
              "      <td>0</td>\n",
              "    </tr>\n",
              "    <tr>\n",
              "      <th>18</th>\n",
              "      <td>3.279070</td>\n",
              "      <td>3.615385</td>\n",
              "      <td>4</td>\n",
              "    </tr>\n",
              "    <tr>\n",
              "      <th>19</th>\n",
              "      <td>3.285714</td>\n",
              "      <td>3.800000</td>\n",
              "      <td>0</td>\n",
              "    </tr>\n",
              "    <tr>\n",
              "      <th>20</th>\n",
              "      <td>3.000000</td>\n",
              "      <td>4.500000</td>\n",
              "      <td>3</td>\n",
              "    </tr>\n",
              "    <tr>\n",
              "      <th>21</th>\n",
              "      <td>NaN</td>\n",
              "      <td>3.000000</td>\n",
              "      <td>2</td>\n",
              "    </tr>\n",
              "    <tr>\n",
              "      <th>22</th>\n",
              "      <td>NaN</td>\n",
              "      <td>1.000000</td>\n",
              "      <td>1</td>\n",
              "    </tr>\n",
              "  </tbody>\n",
              "</table>\n",
              "</div>"
            ],
            "text/plain": [
              "sex         F         M  kluster\n",
              "age                             \n",
              "15   3.500000  3.659091        4\n",
              "16   3.462963  3.960000        0\n",
              "17   3.275862  3.825000        0\n",
              "18   3.279070  3.615385        4\n",
              "19   3.285714  3.800000        0\n",
              "20   3.000000  4.500000        3\n",
              "21        NaN  3.000000        2\n",
              "22        NaN  1.000000        1"
            ]
          },
          "metadata": {
            "tags": []
          },
          "execution_count": 56
        }
      ]
    },
    {
      "cell_type": "markdown",
      "metadata": {
        "id": "S1AN3ECuRTDN"
      },
      "source": [
        "- **Analisis** : Semua data ditampilkan dengan jumlah kluster yang sesuai dengan item-item yang ada."
      ]
    },
    {
      "cell_type": "markdown",
      "metadata": {
        "id": "jecvcajLAyFd"
      },
      "source": [
        "**Tahap kesepuluh**\r\n",
        "\r\n",
        "Hasil kluster dengan pengelompokan menggunakan diagram"
      ]
    },
    {
      "cell_type": "code",
      "metadata": {
        "colab": {
          "base_uri": "https://localhost:8080/",
          "height": 313
        },
        "id": "P-C66e3GRUvj",
        "outputId": "0c082e4a-a6f2-446c-cec4-d32afcd0d656"
      },
      "source": [
        "output = plt.scatter(x_scaled[:,0], \r\n",
        "x_scaled[:,0], s = 200, c = student.kluster, marker = \".\", alpha = 1,)\r\n",
        "centers = kmeans.cluster_centers_\r\n",
        "plt.scatter(centers[:,0], centers[:,0], c='red', s=100, alpha=1 , marker=\"s\");\r\n",
        "plt.title(\"Hasil Clustering K-Means\")\r\n",
        "plt.xlabel(\"Clustering X\")\r\n",
        "plt.ylabel(\"Clustering Y\")\r\n",
        "plt.colorbar (output)\r\n",
        "plt.legend()\r\n",
        "plt.show()"
      ],
      "execution_count": null,
      "outputs": [
        {
          "output_type": "stream",
          "text": [
            "No handles with labels found to put in legend.\n"
          ],
          "name": "stderr"
        },
        {
          "output_type": "display_data",
          "data": {
            "image/png": "[encoded data removed]",
            "text/plain": [
              "<Figure size 432x288 with 2 Axes>"
            ]
          },
          "metadata": {
            "tags": [],
            "needs_background": "light"
          }
        }
      ]
    },
    {
      "cell_type": "markdown",
      "metadata": {
        "id": "SdposZlNRVJq"
      },
      "source": [
        "- **Analisis** : Dilihat dari warna level diagram dengan range 0-4. Pengelompokan data dibagi menjadi 5 Clustering. Struktur clustering menggunakan metode partitional clustering yaitu data dikelompokkan ke dalam sejumlah cluster tanpa adanya struktur hirarki antara satu dengan yang lainnya."
      ]
    },
    {
      "cell_type": "markdown",
      "metadata": {
        "id": "4vlu5JruA04L"
      },
      "source": [
        "> ### **ANALISIS PEMODELAN MENENTUKAN HIPOTESIS**"
      ]
    },
    {
      "cell_type": "markdown",
      "metadata": {
        "id": "SpBCQz0RBVTW"
      },
      "source": [
        "**Dengan menggunakan Metode Pearson**"
      ]
    },
    {
      "cell_type": "code",
      "metadata": {
        "id": "gjGT1kSRzcdF"
      },
      "source": [
        "def mean(x):\r\n",
        "        return  sum(x)/len(x)"
      ],
      "execution_count": null,
      "outputs": []
    },
    {
      "cell_type": "code",
      "metadata": {
        "id": "1CImeQJZzfn6"
      },
      "source": [
        "def de_mean(data):\r\n",
        "# convert x by subtracting its mean ( so the result has mean 0)\r\n",
        "        x_bar = mean(data)\r\n",
        "        return [x_i - x_bar for x_i in data]"
      ],
      "execution_count": null,
      "outputs": []
    },
    {
      "cell_type": "code",
      "metadata": {
        "id": "qRe3U9OPzj1w"
      },
      "source": [
        "def sum_of_square(v):\r\n",
        "        return np.dot(v,v)"
      ],
      "execution_count": null,
      "outputs": []
    },
    {
      "cell_type": "code",
      "metadata": {
        "id": "Vt5smko4zpWi"
      },
      "source": [
        "def covariance(x,y):\r\n",
        "        n = len(x)\r\n",
        "        return np.dot(de_mean(x), de_mean(y)) / (n-1)"
      ],
      "execution_count": null,
      "outputs": []
    },
    {
      "cell_type": "code",
      "metadata": {
        "id": "RvFm8QLVztUj"
      },
      "source": [
        "def variance(data):\r\n",
        "        n = len(data)\r\n",
        "        deviations = de_mean(data)\r\n",
        "        return sum_of_square(deviations) / (n-1)"
      ],
      "execution_count": null,
      "outputs": []
    },
    {
      "cell_type": "code",
      "metadata": {
        "id": "7iu8z3Rez1gx"
      },
      "source": [
        "def correlation(x,y):\r\n",
        "        stdev_x = np.std(x)\r\n",
        "        stdev_y = np.std(y)\r\n",
        "        if stdev_x > 0 and stdev_y > 0:\r\n",
        "            return covariance(x,y) / stdev_x / stdev_y\r\n",
        "        else:\r\n",
        "            return 0"
      ],
      "execution_count": null,
      "outputs": []
    },
    {
      "cell_type": "code",
      "metadata": {
        "id": "qwC4nrkgz3QQ"
      },
      "source": [
        "fe = student['F']\r\n",
        "ma = student['M']"
      ],
      "execution_count": null,
      "outputs": []
    },
    {
      "cell_type": "code",
      "metadata": {
        "colab": {
          "base_uri": "https://localhost:8080/"
        },
        "id": "N1TdXxiC0Xnw",
        "outputId": "01ffe84c-3fbc-4f0f-d688-7061e2806f9f"
      },
      "source": [
        "print('Korelasi antar kolom : ')\r\n",
        "print('Korelasi antara Female dan Male adalah ', correlation(fe, ma))\r\n",
        "\r\n",
        "print(' ')\r\n",
        "print('Kovarian antar kolom : ')\r\n",
        "print('Kovarian antara Female dan Male adalah ', covariance (fe, ma))\r\n",
        "\r\n"
      ],
      "execution_count": null,
      "outputs": [
        {
          "output_type": "stream",
          "text": [
            "Korelasi antar kolom : \n",
            "Korelasi antara Female dan Male adalah  nan\n",
            " \n",
            "Kovarian antar kolom : \n",
            "Kovarian antara Female dan Male adalah  nan\n"
          ],
          "name": "stdout"
        }
      ]
    },
    {
      "cell_type": "code",
      "metadata": {
        "colab": {
          "base_uri": "https://localhost:8080/",
          "height": 352
        },
        "id": "nRx2teqH6FgC",
        "outputId": "36ee51be-2248-4d45-c91d-e54568f15ca7"
      },
      "source": [
        "plt.scatter(student['F'], student['M'])\r\n",
        "print('Korelasi antar kolom : ')\r\n",
        "print('Korelasi antara Female dan Male adalah ', correlation(fe, ma))\r\n",
        "\r\n",
        "print(' ')\r\n",
        "print('Kovarian antar kolom : ')\r\n",
        "print('Kovarian antara Female dan Male adalah ', covariance (fe, ma))"
      ],
      "execution_count": null,
      "outputs": [
        {
          "output_type": "stream",
          "text": [
            "Korelasi antar kolom : \n",
            "Korelasi antara Female dan Male adalah  nan\n",
            " \n",
            "Kovarian antar kolom : \n",
            "Kovarian antara Female dan Male adalah  nan\n"
          ],
          "name": "stdout"
        },
        {
          "output_type": "display_data",
          "data": {
            "image/png": "[encoded data removed]",
            "text/plain": [
              "<Figure size 432x288 with 1 Axes>"
            ]
          },
          "metadata": {
            "tags": [],
            "needs_background": "light"
          }
        }
      ]
    },
    {
      "cell_type": "markdown",
      "metadata": {
        "id": "EU-Jq3hVdaZv"
      },
      "source": [
        "- **Analisis** : Dari permodelan di atas, didapatkan prediksi korelasi antara Female dan Male adalah nan, dan prediksi kovarian adalah nan."
      ]
    },
    {
      "cell_type": "code",
      "metadata": {
        "colab": {
          "base_uri": "https://localhost:8080/",
          "height": 501
        },
        "id": "NNzwrNPYeCEq",
        "outputId": "b28f4c82-b31c-48f2-8efb-57cf6b89744f"
      },
      "source": [
        "corr = student.corr()\r\n",
        "\r\n",
        "plt.figure(figsize=(15,8))\r\n",
        "\r\n",
        "sns.heatmap(corr, annot=True, vmin = -1, cmap='coolwarm')\r\n",
        "\r\n",
        "plt.show()"
      ],
      "execution_count": null,
      "outputs": [
        {
          "output_type": "display_data",
          "data": {
            "image/png": "[encoded data removed]",
            "text/plain": [
              "<Figure size 1080x576 with 2 Axes>"
            ]
          },
          "metadata": {
            "tags": [],
            "needs_background": "light"
          }
        }
      ]
    },
    {
      "cell_type": "markdown",
      "metadata": {
        "id": "P-nWRJO3eMeM"
      },
      "source": [
        "- **Analisis** : Pada Heatmap korelasi disini didapatkan korelasi antara Female dan Male dengan simpulan bahwa :\r\n",
        "\r\n",
        "1. Female dan Male senilai -0.73 (menggambarkan warna  korelasi berada hampir dinilai paling bawah)\r\n",
        "2. Female dan Kluster senilai -0.1 (menggambarkan warna korelasi yang lebih baik dibandingkan korelasi Female dan Male karena berada di tengah-tengah)\r\n",
        "3. Male dan Kluster senilai 0,13 (menggambarkan warna korelasi yang lebih baik dibandingkan korelasi Female dan Male karena berada di tengah-tengah)"
      ]
    },
    {
      "cell_type": "markdown",
      "metadata": {
        "id": "HKKHKaX37SIO"
      },
      "source": [
        "># **TAHAP-TAHAP EVALUASI DATA**"
      ]
    },
    {
      "cell_type": "markdown",
      "metadata": {
        "id": "cRgvxUyx7YcD"
      },
      "source": [
        "**Tahap Pertama** : \r\n",
        "\r\n",
        "Import library yang digunakan untuk evaluasi data."
      ]
    },
    {
      "cell_type": "code",
      "metadata": {
        "id": "RLo8qGK1hDN_"
      },
      "source": [
        "from sklearn.datasets import make_classification\r\n",
        "from matplotlib import pyplot as plt\r\n",
        "from sklearn.linear_model import LogisticRegression\r\n",
        "from sklearn.model_selection import train_test_split\r\n",
        "from sklearn.metrics import confusion_matrix\r\n",
        "import seaborn as sns\r\n",
        "import pandas as pd\r\n",
        "\r\n",
        "sns.set()"
      ],
      "execution_count": null,
      "outputs": []
    },
    {
      "cell_type": "markdown",
      "metadata": {
        "id": "_-O8LiybgnXD"
      },
      "source": [
        "**Tahap Kedua** : \r\n",
        "\r\n",
        "Inisialisasi klasifikasi dari grafik x dan y"
      ]
    },
    {
      "cell_type": "code",
      "metadata": {
        "id": "aGdoy7zBhMdq"
      },
      "source": [
        "x, y = make_classification(\r\n",
        "    n_samples=100,\r\n",
        "    n_features=1,\r\n",
        "    n_classes=2,\r\n",
        "    n_clusters_per_class=1,\r\n",
        "    flip_y=0.03,\r\n",
        "    n_informative=1,\r\n",
        "    n_redundant=0,\r\n",
        "    n_repeated=0\r\n",
        ")"
      ],
      "execution_count": null,
      "outputs": []
    },
    {
      "cell_type": "markdown",
      "metadata": {
        "id": "pIbLbjlxgru0"
      },
      "source": [
        "**Tahap Ketiga** : \r\n",
        "\r\n",
        "Menampilkan plot hubungan antara fungsi dan kelas yang ada dengan klasifikasi yang sudah dibentuk pada grafik x dan y."
      ]
    },
    {
      "cell_type": "code",
      "metadata": {
        "colab": {
          "base_uri": "https://localhost:8080/",
          "height": 285
        },
        "id": "SvFZBPCchVak",
        "outputId": "16156ca7-f570-4184-a1c2-fe9e358ae164"
      },
      "source": [
        "plt.scatter(x, y, c=y, cmap='rainbow')"
      ],
      "execution_count": null,
      "outputs": [
        {
          "output_type": "execute_result",
          "data": {
            "text/plain": [
              "<matplotlib.collections.PathCollection at 0x7fc9a31bd940>"
            ]
          },
          "metadata": {
            "tags": []
          },
          "execution_count": 71
        },
        {
          "output_type": "display_data",
          "data": {
            "image/png": "[encoded data removed]",
            "text/plain": [
              "<Figure size 432x288 with 1 Axes>"
            ]
          },
          "metadata": {
            "tags": []
          }
        }
      ]
    },
    {
      "cell_type": "markdown",
      "metadata": {
        "id": "p17m7rBQhaP_"
      },
      "source": [
        "- **Analisis** : Scatter plot digunakan untuk pemetaan dari grafik x dan y dengan dibagi 2 warna bagian. Pemetaan ini digunakan untuk melihat persebaran data yang ada."
      ]
    },
    {
      "cell_type": "markdown",
      "metadata": {
        "id": "weORkyJEguKr"
      },
      "source": [
        "**Tahap Keempat** : \r\n",
        "\r\n",
        "Inisialisasi untuk evaluasi subset"
      ]
    },
    {
      "cell_type": "code",
      "metadata": {
        "id": "KsvPJL5ujRfL"
      },
      "source": [
        "x_train, x_test, y_train, y_test = train_test_split(x, y, random_state=1)"
      ],
      "execution_count": null,
      "outputs": []
    },
    {
      "cell_type": "markdown",
      "metadata": {
        "id": "vrjxMtRugzB1"
      },
      "source": [
        "**Tahap Kelima** : \r\n",
        "\r\n",
        "Membuat model mempelajari hubungan antara digit (x_train) dan label (y_train)"
      ]
    },
    {
      "cell_type": "code",
      "metadata": {
        "colab": {
          "base_uri": "https://localhost:8080/"
        },
        "id": "LYOas-67jU3J",
        "outputId": "992f4b8a-f938-4f28-cb5f-1f0686ce4743"
      },
      "source": [
        "lr = LogisticRegression()\r\n",
        "lr.fit(x_train, y_train)"
      ],
      "execution_count": null,
      "outputs": [
        {
          "output_type": "execute_result",
          "data": {
            "text/plain": [
              "LogisticRegression(C=1.0, class_weight=None, dual=False, fit_intercept=True,\n",
              "                   intercept_scaling=1, l1_ratio=None, max_iter=100,\n",
              "                   multi_class='auto', n_jobs=None, penalty='l2',\n",
              "                   random_state=None, solver='lbfgs', tol=0.0001, verbose=0,\n",
              "                   warm_start=False)"
            ]
          },
          "metadata": {
            "tags": []
          },
          "execution_count": 73
        }
      ]
    },
    {
      "cell_type": "markdown",
      "metadata": {
        "id": "aXYSiZC5g3B3"
      },
      "source": [
        "**Tahap Keenam** : \r\n",
        "\r\n",
        "Menampilkan evaluasi dengan melihat koefisien kemiringan dan perpotongan y dari garis yang paling cocok"
      ]
    },
    {
      "cell_type": "code",
      "metadata": {
        "colab": {
          "base_uri": "https://localhost:8080/"
        },
        "id": "OAoi80lAjmuY",
        "outputId": "29844267-878e-47ff-9f1d-1f6f6b5c0556"
      },
      "source": [
        "print(lr.coef_)\r\n",
        "print(lr.intercept_)"
      ],
      "execution_count": null,
      "outputs": [
        {
          "output_type": "stream",
          "text": [
            "[[2.78677802]]\n",
            "[-0.42662772]\n"
          ],
          "name": "stdout"
        }
      ]
    },
    {
      "cell_type": "markdown",
      "metadata": {
        "id": "knucifX4jP2w"
      },
      "source": [
        "- **Analisis** : Evaluasi dengan menggunakan model Regresi dilihat dari koefisien kemiringan bernilai 2.93219323 dan perpotongan garis y adalah 0.240213"
      ]
    },
    {
      "cell_type": "markdown",
      "metadata": {
        "id": "TtEMX0khj5xY"
      },
      "source": [
        "> **EVALUASI HIPOTESIS DARI PEMODELAN** "
      ]
    },
    {
      "cell_type": "markdown",
      "metadata": {
        "id": "3KDOSuuBGYOI"
      },
      "source": [
        "Hipotesis dari pemodelan yang sudah dilakukan mendapatkan nilai korelasi yang baik adalah 0,7. \r\n",
        "\r\n",
        "- Jika P-Value sama dengan 0 atau lebih dari 0 maka hipotesis diterima dan korelasi kuat\r\n",
        "- Jika P-Value kurang dari 0 maka hipotesis ditolak."
      ]
    },
    {
      "cell_type": "code",
      "metadata": {
        "id": "wD4CuGeKHniE"
      },
      "source": [
        "class HypothesisTest(object):\r\n",
        "    \r\n",
        "    def __init__(self, data):\r\n",
        "        self.data = data\r\n",
        "        self.MakeModel()\r\n",
        "        self.actual = self.TestStatistic(data)\r\n",
        "        \r\n",
        "    def PValue(self, iters = 1000):\r\n",
        "        self.test_stats = [self.TestStatistic(self.RunModel()) for _ in range(iters)]\r\n",
        "        count = sum(1 for x in self.test_stats if x >= self.actual)\r\n",
        "        return count / iters\r\n",
        "    \r\n",
        "    def TestStatistic(self, data):\r\n",
        "        raise UnimplementedMethodException()\r\n",
        "        \r\n",
        "    def MakeModel(self):\r\n",
        "        pass\r\n",
        "    \r\n",
        "    def RunModel(self):\r\n",
        "        raise UnimplementedMethodException()"
      ],
      "execution_count": null,
      "outputs": []
    },
    {
      "cell_type": "code",
      "metadata": {
        "id": "67l-9CutH5uu"
      },
      "source": [
        "class CorrPermute(HypothesisTest):\r\n",
        "    \r\n",
        "    def TestStatistic(self, data):\r\n",
        "        xs, ys = data\r\n",
        "        test_stat = abs(correlation(xs, ys))\r\n",
        "        return test_stat\r\n",
        "    \r\n",
        "    def RunModel(self):\r\n",
        "        xs, ys = self.data\r\n",
        "        xs = np.random.permutation(xs)\r\n",
        "        return xs, ys\r\n",
        "    \r\n",
        "def correlation(x, y):\r\n",
        "    std_x = np.std(x)\r\n",
        "    std_y = np.std(y)\r\n",
        "    if std_x and std_y > 0:\r\n",
        "        return covariance(x, y) / std_x / std_y\r\n",
        "    else:\r\n",
        "        return 0\r\n",
        "    \r\n",
        "def de_mean(x):\r\n",
        "    x_bar = np.mean(x)\r\n",
        "    return [x_i - x_bar for x_i in x]\r\n",
        "\r\n",
        "def covariance(x, y):\r\n",
        "    n = len(x)\r\n",
        "    return np.dot(de_mean(x), de_mean(y)) / (n - 1)"
      ],
      "execution_count": null,
      "outputs": []
    },
    {
      "cell_type": "code",
      "metadata": {
        "colab": {
          "base_uri": "https://localhost:8080/"
        },
        "id": "s3_xxiAKH-Pz",
        "outputId": "05ec094a-961b-4cd0-bbdc-8662d593d513"
      },
      "source": [
        "cp = CorrPermute((fe,ma))\r\n",
        "pvalue = cp.PValue()\r\n",
        "\r\n",
        "print('Hipotesis akhir p-value: ', pvalue)"
      ],
      "execution_count": null,
      "outputs": [
        {
          "output_type": "stream",
          "text": [
            "Hipotesis akhir p-value:  0.0\n"
          ],
          "name": "stdout"
        }
      ]
    },
    {
      "cell_type": "markdown",
      "metadata": {
        "id": "5EFeDDTzKB5k"
      },
      "source": [
        "**Analisis** :\r\n",
        "\r\n",
        "Nilai P-Value pada hipotesis akhir di atas adalah 0.\r\n",
        "Hipotesis akhir adalah salah dan korelasi kuat yaitu 0,7 antara Quantity dan Total yang tidak terjadi secara kebetulan. \r\n",
        "\r\n",
        "- Disimpulkan bahwa korelasi yang terjadi adalah signifikan secara statistik."
      ]
    },
    {
      "cell_type": "markdown",
      "metadata": {
        "id": "9hYq29TiKLQf"
      },
      "source": [
        "> **MEMPREDIKSI ANTARA QUANTITY DAN TOTAL MENGGUNAKAN LINEAR LEAST SQUARE** "
      ]
    },
    {
      "cell_type": "code",
      "metadata": {
        "id": "IfxkHeeKKT5b"
      },
      "source": [
        "def LeastSquares(xs, ys):\r\n",
        "    meanx, varx = np.mean(xs), np.var(xs)\r\n",
        "    meany = np.mean(ys)\r\n",
        "    \r\n",
        "    slope = covariance(xs, ys) / varx\r\n",
        "    inter = meany - slope * meanx\r\n",
        "    \r\n",
        "    return inter, slope\r\n",
        "\r\n",
        "def FitLine(xs, inter, slope):\r\n",
        "    fit_xs = np.sort(xs)\r\n",
        "    fit_ys = inter + slope * fit_xs\r\n",
        "    \r\n",
        "    return fit_xs, fit_ys"
      ],
      "execution_count": null,
      "outputs": []
    },
    {
      "cell_type": "code",
      "metadata": {
        "colab": {
          "base_uri": "https://localhost:8080/"
        },
        "id": "07h2pgKxKYJX",
        "outputId": "1684f2fd-724e-459d-f720-6a78c8cade31"
      },
      "source": [
        "inter, slope = LeastSquares(fe, ma)\r\n",
        "fit_xs, fit_ys = FitLine(fe, inter, slope)\r\n",
        "\r\n",
        "print('intercept is: {} and slope is: {}'.format(inter, slope))"
      ],
      "execution_count": null,
      "outputs": [
        {
          "output_type": "stream",
          "text": [
            "intercept is: nan and slope is: nan\n"
          ],
          "name": "stdout"
        }
      ]
    },
    {
      "cell_type": "markdown",
      "metadata": {
        "id": "xqfWIzGPKk3X"
      },
      "source": [
        "**Analisis** : Pada hasil linear least square untuk intersepsi adalah nan dan slope adalah nan"
      ]
    },
    {
      "cell_type": "markdown",
      "metadata": {
        "id": "uh0hSU7uKwub"
      },
      "source": [
        "> **RESIDUAL** "
      ]
    },
    {
      "cell_type": "code",
      "metadata": {
        "id": "dFN6_9EdKwCO"
      },
      "source": [
        "def Residuals(xs, ys, inter, slope):\r\n",
        "    xs = np.asarray(xs)\r\n",
        "    ys = np.asarray(ys)\r\n",
        "    res = ys - (inter + slope * xs)\r\n",
        "    return res"
      ],
      "execution_count": null,
      "outputs": []
    },
    {
      "cell_type": "code",
      "metadata": {
        "id": "RYCBPFQDK4BZ"
      },
      "source": [
        "res = Residuals(fe, ma, inter, slope)\r\n",
        "\r\n",
        "student['residuals'] = res"
      ],
      "execution_count": null,
      "outputs": []
    },
    {
      "cell_type": "code",
      "metadata": {
        "colab": {
          "base_uri": "https://localhost:8080/"
        },
        "id": "QKSbTTN_LHzw",
        "outputId": "da6a8d74-2569-4ef6-b8e0-c47da6cf5760"
      },
      "source": [
        "print('Prediksi RMSE adalah :  ', np.std(res))"
      ],
      "execution_count": null,
      "outputs": [
        {
          "output_type": "stream",
          "text": [
            "Prediksi RMSE adalah :   nan\n"
          ],
          "name": "stdout"
        }
      ]
    },
    {
      "cell_type": "markdown",
      "metadata": {
        "id": "9vBjXY8eLNy1"
      },
      "source": [
        "**Analisis** : Prediksi RSME adalah nan\r\n"
      ]
    },
    {
      "cell_type": "markdown",
      "metadata": {
        "id": "JiNW-K1MLY7j"
      },
      "source": [
        "> **KOEFISIEN DETERMINASI** "
      ]
    },
    {
      "cell_type": "code",
      "metadata": {
        "colab": {
          "base_uri": "https://localhost:8080/"
        },
        "id": "RR9s71d0LfDP",
        "outputId": "923b2b36-9779-487e-9542-59a33122c76c"
      },
      "source": [
        "r_squared = 1 - (np.var(fe) / np.var(ma))\r\n",
        "\r\n",
        "print('Koefisien determinasi didapatkan adalah: ', r_squared)"
      ],
      "execution_count": null,
      "outputs": [
        {
          "output_type": "stream",
          "text": [
            "Koefisien determinasi didapatkan adalah:  0.9733522052482202\n"
          ],
          "name": "stdout"
        }
      ]
    },
    {
      "cell_type": "markdown",
      "metadata": {
        "id": "p0IyvRneLqtr"
      },
      "source": [
        "**Analisis** : koefisien determinasi yang didapatkan adalah 0.9733522052482202."
      ]
    },
    {
      "cell_type": "markdown",
      "metadata": {
        "id": "nlPQ0hq2L4hx"
      },
      "source": [
        "> **VISUALISASI PLOT DARI EVALUASI YANG SUDAH DILAKUKAN** "
      ]
    },
    {
      "cell_type": "code",
      "metadata": {
        "colab": {
          "base_uri": "https://localhost:8080/",
          "height": 499
        },
        "id": "9miyJ8JwL9bI",
        "outputId": "51028598-5244-4054-daa1-df9b262983c2"
      },
      "source": [
        "plt.figure(figsize = (15, 8))\r\n",
        "\r\n",
        "plt.xlabel('Female')\r\n",
        "plt.ylabel('Male')\r\n",
        "\r\n",
        "plt.plot(fit_xs, fit_ys, color = 'black')\r\n",
        "plt.scatter(fe, ma, color = 'blue')"
      ],
      "execution_count": null,
      "outputs": [
        {
          "output_type": "execute_result",
          "data": {
            "text/plain": [
              "<matplotlib.collections.PathCollection at 0x7fc9a4004278>"
            ]
          },
          "metadata": {
            "tags": []
          },
          "execution_count": 95
        },
        {
          "output_type": "display_data",
          "data": {
            "image/png": "[encoded data removed]",
            "text/plain": [
              "<Figure size 1080x576 with 1 Axes>"
            ]
          },
          "metadata": {
            "tags": []
          }
        }
      ]
    },
    {
      "cell_type": "markdown",
      "metadata": {
        "id": "keL_uKE3MIfg"
      },
      "source": [
        "**Analisis** : Hasil visualisasi yang didapatkan antara Female dan Male pada pemodelan yang sudah dilakukan sama dengan data visualisasi ini."
      ]
    }
  ]
}