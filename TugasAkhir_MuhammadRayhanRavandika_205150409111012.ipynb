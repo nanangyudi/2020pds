{
  "nbformat": 4,
  "nbformat_minor": 0,
  "metadata": {
    "colab": {
      "name": "TugasAkhir_MuhammadRayhanRavandika_205150409111012.ipynb",
      "provenance": [],
      "collapsed_sections": [
        "a_N5oKneXANo"
      ],
      "include_colab_link": true
    },
    "kernelspec": {
      "name": "python3",
      "display_name": "Python 3"
    }
  },
  "cells": [
    {
      "cell_type": "markdown",
      "metadata": {
        "id": "view-in-github",
        "colab_type": "text"
      },
      "source": [
        "<a href=\"https://colab.research.google.com/github/nanangyudi/2020pds_d/blob/main/TugasAkhir_MuhammadRayhanRavandika_205150409111012.ipynb\" target=\"_parent\"><img src=\"https://colab.research.google.com/assets/colab-badge.svg\" alt=\"Open In Colab\"/></a>"
      ]
    },
    {
      "cell_type": "markdown",
      "metadata": {
        "id": "Rhaq6S6UWagt"
      },
      "source": [
        "# **TAHAP :** DESKRIPSI TUJUAN"
      ]
    },
    {
      "cell_type": "markdown",
      "metadata": {
        "id": "YgCECiUfWid9"
      },
      "source": [
        "**A. Deskripsi Tujuan Data Body Shop**\r\n",
        "\r\n",
        "Tujuan dari pengolahan data ini adalah :\r\n",
        "\r\n",
        "- Untuk menganalisis informasi feedback dari pelanggan yang menggunakan produk Body Shop bedasarkan rating dan jumlah total review dari produk tersebut.\r\n",
        "\r\n",
        "- Yang bertujuan untuk mengetahui feedback dari pelanggan berupa saran dan kritik agar produk bisa menjadi lebih baik.\r\n",
        "\r\n",
        "\r\n",
        "**B. Kebutuhan organisasi :**\r\n",
        "\r\n",
        "Kebutuhan organisasi adalah kebutuhan yang akan dianalisis atau informasi yang akan didapatkan setelah melakukan analisis ini, yaitu :\r\n",
        "\r\n",
        "- Mengetahui rating setiap produk dari pelanggan.\r\n",
        "- Mengetahui total review pada setiap produknya \r\n",
        "- Mengetahui Produk mana yang perlu ditingkat bedasarkan feedback dari pelanggan.\r\n",
        "\r\n"
      ]
    },
    {
      "cell_type": "markdown",
      "metadata": {
        "id": "a_N5oKneXANo"
      },
      "source": [
        "# **TAHAP :** ANALISIS PENDEKATAN\r\n",
        "\r\n",
        "**Analisis Pendekatan yang Dilakukan**\r\n",
        "\r\n",
        "Menggunakan pendekatan EDA, yaitu metode eksplorasi data dengan menggunakan teknik aritmatika sederhana dan teknik grafis dalam meringkas data pengamatan.\r\n",
        "Tahapan yang dilakukan dalam analisis EDA adalah :\r\n",
        "1. Merumuskan masalah\r\n",
        "2. Mengumpulkan data\r\n",
        "3. Melakukan analisis\r\n",
        "4. Melakukan pemodelan data\r\n",
        "5. Kesimpulan"
      ]
    },
    {
      "cell_type": "markdown",
      "metadata": {
        "id": "HwBJq-IhXfhv"
      },
      "source": [
        "# **TAHAP :** PENGUMPULAN DATA"
      ]
    },
    {
      "cell_type": "markdown",
      "metadata": {
        "id": "kB9_ACViXnN9"
      },
      "source": [
        "**Pengumpulan Data**\r\n",
        "\r\n",
        "Dataset yang didapatkan bersumber dari Kanggle.com. Berikut link data : https://www.kaggle.com/aditig02/the-body-shop-dataset di publikasi oleh Aditi Shah."
      ]
    },
    {
      "cell_type": "markdown",
      "metadata": {
        "id": "3hSWiXd9YbTM"
      },
      "source": [
        "# **TAHAP :** PEMAHAMAN DATA YANG DIKUMPULKAN\r\n"
      ]
    },
    {
      "cell_type": "markdown",
      "metadata": {
        "id": "Att4fUDxYm9W"
      },
      "source": [
        "\r\n",
        "**Pemahaman Terhadap Data yang Telah Dikumpulkan**\r\n",
        "\r\n",
        "Data yang didapatkan berupa data detail produk beserta total review yang telah dilakukan oleh pengguna dan rating dari setiap produk.\r\n",
        "\r\n",
        "Terdapat beberapa data seperti kode item, nama produk, kategori utama, sub-kategori, bahan produk, total review setiap produk, rating produk, ukuran yang tersedia, ukuran dan harga produk.\r\n",
        "\r\n",
        "Pada data ini dijelaskan bahwa histori feedback yang diberikan pelanggan akan terekam pada setiap harinya.\r\n",
        "\r\n"
      ]
    },
    {
      "cell_type": "markdown",
      "metadata": {
        "id": "36DKwg_iv10d"
      },
      "source": [
        "### **Tahap Eksplorasi Data**\r\n",
        "\r\n",
        "**Tahap pertama :** memasukkan data dan menyimpan di github"
      ]
    },
    {
      "cell_type": "code",
      "metadata": {
        "id": "e02o3o37vTuS"
      },
      "source": [
        "import pandas as pd\r\n",
        "import matplotlib.pyplot as plt\r\n",
        "import seaborn as sns\r\n",
        "\r\n",
        "url = 'https://raw.githubusercontent.com/ivanrayhan12/Tugas_MuhammadRayhanRavandika_PengatarDataSaintis/main/export_bodyshop.csv'\r\n",
        "export_bodyshop = pd.read_csv(url, error_bad_lines=False)"
      ],
      "execution_count": null,
      "outputs": []
    },
    {
      "cell_type": "markdown",
      "metadata": {
        "id": "kdcXv1y6AsOk"
      },
      "source": [
        "**Tahap Kedua :** Menampilkan 10 data teratas yang telah di import github "
      ]
    },
    {
      "cell_type": "code",
      "metadata": {
        "colab": {
          "base_uri": "https://localhost:8080/",
          "height": 797
        },
        "id": "EFdJFkncwNnA",
        "outputId": "6f872c51-bd60-482a-95c2-760518d70ca2"
      },
      "source": [
        "export_bodyshop.head(10)"
      ],
      "execution_count": null,
      "outputs": [
        {
          "output_type": "execute_result",
          "data": {
            "text/html": [
              "<div>\n",
              "<style scoped>\n",
              "    .dataframe tbody tr th:only-of-type {\n",
              "        vertical-align: middle;\n",
              "    }\n",
              "\n",
              "    .dataframe tbody tr th {\n",
              "        vertical-align: top;\n",
              "    }\n",
              "\n",
              "    .dataframe thead th {\n",
              "        text-align: right;\n",
              "    }\n",
              "</style>\n",
              "<table border=\"1\" class=\"dataframe\">\n",
              "  <thead>\n",
              "    <tr style=\"text-align: right;\">\n",
              "      <th></th>\n",
              "      <th>Item_Number</th>\n",
              "      <th>Main_Category</th>\n",
              "      <th>Sub_Category</th>\n",
              "      <th>Product_Name</th>\n",
              "      <th>Main_Ingredient</th>\n",
              "      <th>Reviews_Count</th>\n",
              "      <th>Ratings_out_of_5</th>\n",
              "      <th>Sizes_Available</th>\n",
              "      <th>Sizes</th>\n",
              "      <th>Prices</th>\n",
              "      <th>Short_Description</th>\n",
              "      <th>Long_Description</th>\n",
              "    </tr>\n",
              "  </thead>\n",
              "  <tbody>\n",
              "    <tr>\n",
              "      <th>0</th>\n",
              "      <td>ITEM 30100</td>\n",
              "      <td>Collection</td>\n",
              "      <td>Tea Tree Oil For Skin</td>\n",
              "      <td>Tea Tree Skin Clearing Facial Wash</td>\n",
              "      <td>Tea Tree</td>\n",
              "      <td>1324</td>\n",
              "      <td>4.76</td>\n",
              "      <td>3</td>\n",
              "      <td>['2 FL OZ', '8.4 FL OZ', '13.5 FL OZ']</td>\n",
              "      <td>['$4.50', '$10.50', '$13.50']</td>\n",
              "      <td>Our Tea Tree Skin Clearing Facial Wash,  infus...</td>\n",
              "      <td>['100% vegan ', 'Enriched with Community Trade...</td>\n",
              "    </tr>\n",
              "    <tr>\n",
              "      <th>1</th>\n",
              "      <td>ITEM 96119</td>\n",
              "      <td>Makeup</td>\n",
              "      <td>Makeup Remover</td>\n",
              "      <td>Chamomile Gentle Eye Makeup Remover</td>\n",
              "      <td>Chamomile</td>\n",
              "      <td>423</td>\n",
              "      <td>4.29</td>\n",
              "      <td>2</td>\n",
              "      <td>['8.4 FL OZ', '2 FL OZ']</td>\n",
              "      <td>['$13.50', '$4.50']</td>\n",
              "      <td>Melt away eye make-up around the eyes. Our Cha...</td>\n",
              "      <td>['Suitable for sensitive skin and contact lens...</td>\n",
              "    </tr>\n",
              "    <tr>\n",
              "      <th>2</th>\n",
              "      <td>ITEM 96145</td>\n",
              "      <td>Skin Care</td>\n",
              "      <td>Face Cleansers</td>\n",
              "      <td>Chamomile Sumptuous Cleansing Butter</td>\n",
              "      <td>Chamomile</td>\n",
              "      <td>271</td>\n",
              "      <td>4.82</td>\n",
              "      <td>1</td>\n",
              "      <td>['2.7 Ounce']</td>\n",
              "      <td>['$12.00']</td>\n",
              "      <td>Cleanse and nourish your skin with our rich Ch...</td>\n",
              "      <td>['Cleansing Butter', ' Suitable for sensitive ...</td>\n",
              "    </tr>\n",
              "    <tr>\n",
              "      <th>3</th>\n",
              "      <td>ITEM 30106</td>\n",
              "      <td>Collection</td>\n",
              "      <td>Tea Tree Oil For Skin</td>\n",
              "      <td>Tea Tree Skin Clearing Mattifying Toner</td>\n",
              "      <td>Tea Tree</td>\n",
              "      <td>606</td>\n",
              "      <td>4.64</td>\n",
              "      <td>3</td>\n",
              "      <td>['2 FL OZ', '8.4 FL OZ', '13.5 FL OZ']</td>\n",
              "      <td>['$4.50', '$10.50', '$13.50']</td>\n",
              "      <td>Our Tea Tree Skin Clearing Mattifying Toner he...</td>\n",
              "      <td>['Refreshing, purifying toner', ' 100% vegan',...</td>\n",
              "    </tr>\n",
              "    <tr>\n",
              "      <th>4</th>\n",
              "      <td>ITEM 94351</td>\n",
              "      <td>Collection</td>\n",
              "      <td>Tea Tree Oil For Skin</td>\n",
              "      <td>Tea Tree Squeaky-Clean Exfoliating Face Scrub</td>\n",
              "      <td>Tea Tree</td>\n",
              "      <td>137</td>\n",
              "      <td>4.67</td>\n",
              "      <td>1</td>\n",
              "      <td>['3.3 FL OZ']</td>\n",
              "      <td>['$12.00']</td>\n",
              "      <td>Our Tea Tree Squeaky-Clean Scrub is a gentle d...</td>\n",
              "      <td>['100% vegetarian', 'Enriched with Community T...</td>\n",
              "    </tr>\n",
              "    <tr>\n",
              "      <th>5</th>\n",
              "      <td>ITEM 94697</td>\n",
              "      <td>Skin Care</td>\n",
              "      <td>Face Cleansers</td>\n",
              "      <td>Drops of Youth™ Youth Liquid Peel</td>\n",
              "      <td>Edelweiss Stem Cells</td>\n",
              "      <td>318</td>\n",
              "      <td>4.69</td>\n",
              "      <td>1</td>\n",
              "      <td>['4.9 FL OZ']</td>\n",
              "      <td>['$18.75']</td>\n",
              "      <td>The Drops of Youth™ Youth Liquid Peel exfoliat...</td>\n",
              "      <td>['100% vegetarian', ' With three plant stem ce...</td>\n",
              "    </tr>\n",
              "    <tr>\n",
              "      <th>6</th>\n",
              "      <td>ITEM 96941</td>\n",
              "      <td>Skin Care</td>\n",
              "      <td>Face Masks</td>\n",
              "      <td>Tea Tree 3-in-1 Wash Scrub Mask</td>\n",
              "      <td>Tea Tree</td>\n",
              "      <td>169</td>\n",
              "      <td>4.81</td>\n",
              "      <td>1</td>\n",
              "      <td>['4.2 FL OZ']</td>\n",
              "      <td>['$16.50']</td>\n",
              "      <td>Our Tea Tree 3-in-1 Wash.Scrub.Mask gives you ...</td>\n",
              "      <td>['100% vegan ', 'Enriched with Community Trade...</td>\n",
              "    </tr>\n",
              "    <tr>\n",
              "      <th>7</th>\n",
              "      <td>ITEM 94703</td>\n",
              "      <td>Skin Care</td>\n",
              "      <td>Face Cleansers</td>\n",
              "      <td>Vitamin C Glow Revealing Liquid Peel</td>\n",
              "      <td>Camu Camu</td>\n",
              "      <td>173</td>\n",
              "      <td>4.53</td>\n",
              "      <td>1</td>\n",
              "      <td>['4.9 FL OZ']</td>\n",
              "      <td>['$17.25']</td>\n",
              "      <td>The Vitamin C Glow Revealing Liquid Peel speci...</td>\n",
              "      <td>['This transforming gel-to-peel texture peels ...</td>\n",
              "    </tr>\n",
              "    <tr>\n",
              "      <th>8</th>\n",
              "      <td>ITEM 96083</td>\n",
              "      <td>Skin Care</td>\n",
              "      <td>Face Cleansers</td>\n",
              "      <td>Vitamin E Cream Cleanser</td>\n",
              "      <td>Shea</td>\n",
              "      <td>176</td>\n",
              "      <td>4.58</td>\n",
              "      <td>1</td>\n",
              "      <td>['8.4 FL OZ']</td>\n",
              "      <td>['$12.75']</td>\n",
              "      <td>Our Vitamin E Cream Cleanser is a light and cr...</td>\n",
              "      <td>['Perfect for all skin types, especially dry &amp;...</td>\n",
              "    </tr>\n",
              "    <tr>\n",
              "      <th>9</th>\n",
              "      <td>ITEM 26958</td>\n",
              "      <td>Collection</td>\n",
              "      <td>Tea Tree Oil For Skin</td>\n",
              "      <td>Tea Tree Skin Clearing Foaming Cleanser</td>\n",
              "      <td>Tea Tree</td>\n",
              "      <td>250</td>\n",
              "      <td>4.66</td>\n",
              "      <td>1</td>\n",
              "      <td>['5 FL OZ']</td>\n",
              "      <td>['$11.25']</td>\n",
              "      <td>Our Tea Tree Skin Clearing Foaming Cleanser is...</td>\n",
              "      <td>['100% vegan', 'Enriched with Community Trade ...</td>\n",
              "    </tr>\n",
              "  </tbody>\n",
              "</table>\n",
              "</div>"
            ],
            "text/plain": [
              "  Item_Number  ...                                   Long_Description\n",
              "0  ITEM 30100  ...  ['100% vegan ', 'Enriched with Community Trade...\n",
              "1  ITEM 96119  ...  ['Suitable for sensitive skin and contact lens...\n",
              "2  ITEM 96145  ...  ['Cleansing Butter', ' Suitable for sensitive ...\n",
              "3  ITEM 30106  ...  ['Refreshing, purifying toner', ' 100% vegan',...\n",
              "4  ITEM 94351  ...  ['100% vegetarian', 'Enriched with Community T...\n",
              "5  ITEM 94697  ...  ['100% vegetarian', ' With three plant stem ce...\n",
              "6  ITEM 96941  ...  ['100% vegan ', 'Enriched with Community Trade...\n",
              "7  ITEM 94703  ...  ['This transforming gel-to-peel texture peels ...\n",
              "8  ITEM 96083  ...  ['Perfect for all skin types, especially dry &...\n",
              "9  ITEM 26958  ...  ['100% vegan', 'Enriched with Community Trade ...\n",
              "\n",
              "[10 rows x 12 columns]"
            ]
          },
          "metadata": {
            "tags": []
          },
          "execution_count": 6
        }
      ]
    },
    {
      "cell_type": "markdown",
      "metadata": {
        "id": "Yqnfwrif_muS"
      },
      "source": [
        "**Tahap Ketiga** : Menampilkan 10 data terbawah yang telah di import "
      ]
    },
    {
      "cell_type": "code",
      "metadata": {
        "colab": {
          "base_uri": "https://localhost:8080/",
          "height": 747
        },
        "id": "_kpFi-rNxRCc",
        "outputId": "3dd5529d-8137-4be1-fa54-0b9cfe7d0e72"
      },
      "source": [
        "export_bodyshop.tail(10)"
      ],
      "execution_count": null,
      "outputs": [
        {
          "output_type": "execute_result",
          "data": {
            "text/html": [
              "<div>\n",
              "<style scoped>\n",
              "    .dataframe tbody tr th:only-of-type {\n",
              "        vertical-align: middle;\n",
              "    }\n",
              "\n",
              "    .dataframe tbody tr th {\n",
              "        vertical-align: top;\n",
              "    }\n",
              "\n",
              "    .dataframe thead th {\n",
              "        text-align: right;\n",
              "    }\n",
              "</style>\n",
              "<table border=\"1\" class=\"dataframe\">\n",
              "  <thead>\n",
              "    <tr style=\"text-align: right;\">\n",
              "      <th></th>\n",
              "      <th>Item_Number</th>\n",
              "      <th>Main_Category</th>\n",
              "      <th>Sub_Category</th>\n",
              "      <th>Product_Name</th>\n",
              "      <th>Main_Ingredient</th>\n",
              "      <th>Reviews_Count</th>\n",
              "      <th>Ratings_out_of_5</th>\n",
              "      <th>Sizes_Available</th>\n",
              "      <th>Sizes</th>\n",
              "      <th>Prices</th>\n",
              "      <th>Short_Description</th>\n",
              "      <th>Long_Description</th>\n",
              "    </tr>\n",
              "  </thead>\n",
              "  <tbody>\n",
              "    <tr>\n",
              "      <th>316</th>\n",
              "      <td>ITEM 80540</td>\n",
              "      <td>Body</td>\n",
              "      <td>Lotion and Cream</td>\n",
              "      <td>Olive Nourishing Body Lotion</td>\n",
              "      <td>Olive</td>\n",
              "      <td>13</td>\n",
              "      <td>4.38</td>\n",
              "      <td>1</td>\n",
              "      <td>['6.75 FL OZ']</td>\n",
              "      <td>['$9.75']</td>\n",
              "      <td>Our Olive Nourishing Body Lotion helps protect...</td>\n",
              "      <td>['100% vegetarian', '72 hour intense moisture ...</td>\n",
              "    </tr>\n",
              "    <tr>\n",
              "      <th>317</th>\n",
              "      <td>ITEM 44259</td>\n",
              "      <td>Body</td>\n",
              "      <td>Lotion and Cream</td>\n",
              "      <td>British Rose Instant Glow Body Lotion</td>\n",
              "      <td>Rose Extract</td>\n",
              "      <td>20</td>\n",
              "      <td>4.35</td>\n",
              "      <td>1</td>\n",
              "      <td>['8.4 FL OZ']</td>\n",
              "      <td>['$9.75']</td>\n",
              "      <td>Glow from top to toe with our first essence lo...</td>\n",
              "      <td>['Body lotion with a ultra-light texture', '24...</td>\n",
              "    </tr>\n",
              "    <tr>\n",
              "      <th>318</th>\n",
              "      <td>ITEM 96058</td>\n",
              "      <td>Body</td>\n",
              "      <td>Lotion and Cream</td>\n",
              "      <td>Fuji Green Tea™ Body Lotion</td>\n",
              "      <td>Green Tea</td>\n",
              "      <td>9</td>\n",
              "      <td>4.11</td>\n",
              "      <td>1</td>\n",
              "      <td>['8.4 FL OZ']</td>\n",
              "      <td>['$9.75']</td>\n",
              "      <td>Hydrate your skin, while purifying body and so...</td>\n",
              "      <td>['Body Lotion', ' Lightweight hydration', 'Inf...</td>\n",
              "    </tr>\n",
              "    <tr>\n",
              "      <th>319</th>\n",
              "      <td>ITEM 96105</td>\n",
              "      <td>Body</td>\n",
              "      <td>Lotion and Cream</td>\n",
              "      <td>English Dawn Gardenia Body Lotion</td>\n",
              "      <td>Babassu</td>\n",
              "      <td>5</td>\n",
              "      <td>5.00</td>\n",
              "      <td>1</td>\n",
              "      <td>['8.4 FL OZ']</td>\n",
              "      <td>['$10.50']</td>\n",
              "      <td>The English Dawn Gardenia Body Lotion leaves y...</td>\n",
              "      <td>['100% vegetarian ', 'Blooming, fresh, floral ...</td>\n",
              "    </tr>\n",
              "    <tr>\n",
              "      <th>320</th>\n",
              "      <td>ITEM 96950</td>\n",
              "      <td>Body</td>\n",
              "      <td>Lotion and Cream</td>\n",
              "      <td>Black Musk Body Lotion</td>\n",
              "      <td>Babassu</td>\n",
              "      <td>4</td>\n",
              "      <td>5.00</td>\n",
              "      <td>1</td>\n",
              "      <td>['8.4 FL OZ']</td>\n",
              "      <td>['$11.25']</td>\n",
              "      <td>The Black Musk Body Lotion leaves your skin fe...</td>\n",
              "      <td>['A subtle, deep blend of musk and spices', 'C...</td>\n",
              "    </tr>\n",
              "    <tr>\n",
              "      <th>321</th>\n",
              "      <td>ITEM 61410</td>\n",
              "      <td>Body</td>\n",
              "      <td>Lotion and Cream</td>\n",
              "      <td>Amazonian Saviour™ Multi-Purpose Balm</td>\n",
              "      <td>Beeswax</td>\n",
              "      <td>31</td>\n",
              "      <td>4.61</td>\n",
              "      <td>1</td>\n",
              "      <td>['1.6 Ounce']</td>\n",
              "      <td>['$7.50']</td>\n",
              "      <td>Packed with powerful natural origin oils and w...</td>\n",
              "      <td>['Nourishing multi-purpose balm', 'Helps reviv...</td>\n",
              "    </tr>\n",
              "    <tr>\n",
              "      <th>322</th>\n",
              "      <td>ITEM 94301</td>\n",
              "      <td>Body</td>\n",
              "      <td>Lotion and Cream</td>\n",
              "      <td>English Dawn Gardenia Body Cream</td>\n",
              "      <td>NaN</td>\n",
              "      <td>18</td>\n",
              "      <td>4.83</td>\n",
              "      <td>1</td>\n",
              "      <td>['6.7 Ounce']</td>\n",
              "      <td>['$12.00']</td>\n",
              "      <td>This rich moisturizer leaves your skin feeling...</td>\n",
              "      <td>['100% vegetarian', '   Body cream', 'Fresh, f...</td>\n",
              "    </tr>\n",
              "    <tr>\n",
              "      <th>323</th>\n",
              "      <td>ITEM 15287</td>\n",
              "      <td>Body</td>\n",
              "      <td>Body Yogurt</td>\n",
              "      <td>Almond Milk Body Yogurt</td>\n",
              "      <td>Almond</td>\n",
              "      <td>279</td>\n",
              "      <td>4.69</td>\n",
              "      <td>1</td>\n",
              "      <td>['6.98 Ounce']</td>\n",
              "      <td>['$11.25']</td>\n",
              "      <td>Life’s too short for waiting - jump straight i...</td>\n",
              "      <td>['NEW lightweight, fast-absorbing gel-cream fo...</td>\n",
              "    </tr>\n",
              "    <tr>\n",
              "      <th>324</th>\n",
              "      <td>ITEM 19402</td>\n",
              "      <td>Body</td>\n",
              "      <td>body butter</td>\n",
              "      <td>Shea Body Butter</td>\n",
              "      <td>Shea</td>\n",
              "      <td>864</td>\n",
              "      <td>4.77</td>\n",
              "      <td>3</td>\n",
              "      <td>['1.69 Ounce', '6.75 Ounce', '13.5 Ounce']</td>\n",
              "      <td>['$4.50', '$12.00', '$27.00']</td>\n",
              "      <td>This super-rich and creamy natural Body Butter...</td>\n",
              "      <td>['Body Butter for dry to very dry skin ', ' 72...</td>\n",
              "    </tr>\n",
              "    <tr>\n",
              "      <th>325</th>\n",
              "      <td>ITEM 94166</td>\n",
              "      <td>Body</td>\n",
              "      <td>body butter</td>\n",
              "      <td>Almond Milk &amp; Honey Body Butter</td>\n",
              "      <td>Honey</td>\n",
              "      <td>222</td>\n",
              "      <td>4.76</td>\n",
              "      <td>2</td>\n",
              "      <td>['1.7 Ounce', '6.9 Ounce']</td>\n",
              "      <td>['$4.50', '$12.00']</td>\n",
              "      <td>This heavenly, rich body butter has been speci...</td>\n",
              "      <td>['Soothing and restoring Body Butter ', 'Inten...</td>\n",
              "    </tr>\n",
              "  </tbody>\n",
              "</table>\n",
              "</div>"
            ],
            "text/plain": [
              "    Item_Number  ...                                   Long_Description\n",
              "316  ITEM 80540  ...  ['100% vegetarian', '72 hour intense moisture ...\n",
              "317  ITEM 44259  ...  ['Body lotion with a ultra-light texture', '24...\n",
              "318  ITEM 96058  ...  ['Body Lotion', ' Lightweight hydration', 'Inf...\n",
              "319  ITEM 96105  ...  ['100% vegetarian ', 'Blooming, fresh, floral ...\n",
              "320  ITEM 96950  ...  ['A subtle, deep blend of musk and spices', 'C...\n",
              "321  ITEM 61410  ...  ['Nourishing multi-purpose balm', 'Helps reviv...\n",
              "322  ITEM 94301  ...  ['100% vegetarian', '   Body cream', 'Fresh, f...\n",
              "323  ITEM 15287  ...  ['NEW lightweight, fast-absorbing gel-cream fo...\n",
              "324  ITEM 19402  ...  ['Body Butter for dry to very dry skin ', ' 72...\n",
              "325  ITEM 94166  ...  ['Soothing and restoring Body Butter ', 'Inten...\n",
              "\n",
              "[10 rows x 12 columns]"
            ]
          },
          "metadata": {
            "tags": []
          },
          "execution_count": 10
        }
      ]
    },
    {
      "cell_type": "markdown",
      "metadata": {
        "id": "fHMAEgRykR5I"
      },
      "source": [
        "**Tahap Keempat** : Menampilkan jumlah data dan baris kolom.\r\n",
        "\r\n"
      ]
    },
    {
      "cell_type": "code",
      "metadata": {
        "colab": {
          "base_uri": "https://localhost:8080/"
        },
        "id": "MazxlySAlTJI",
        "outputId": "d82d6472-402c-4eeb-d69d-b579a368d0a6"
      },
      "source": [
        "export_bodyshop.shape"
      ],
      "execution_count": null,
      "outputs": [
        {
          "output_type": "execute_result",
          "data": {
            "text/plain": [
              "(326, 12)"
            ]
          },
          "metadata": {
            "tags": []
          },
          "execution_count": 11
        }
      ]
    },
    {
      "cell_type": "markdown",
      "metadata": {
        "id": "ic7RWm07llTb"
      },
      "source": [
        "**Tahap Kelima** : Menampilkan data informasi mengenai kolom.\r\n",
        "\r\n",
        "\r\n",
        "\r\n",
        "\r\n"
      ]
    },
    {
      "cell_type": "code",
      "metadata": {
        "colab": {
          "base_uri": "https://localhost:8080/"
        },
        "id": "b6uUtA9qlwDO",
        "outputId": "4e7c432d-0c66-4199-9b22-2d8b25b49a5b"
      },
      "source": [
        "export_bodyshop.info()"
      ],
      "execution_count": null,
      "outputs": [
        {
          "output_type": "stream",
          "text": [
            "<class 'pandas.core.frame.DataFrame'>\n",
            "RangeIndex: 326 entries, 0 to 325\n",
            "Data columns (total 12 columns):\n",
            " #   Column             Non-Null Count  Dtype  \n",
            "---  ------             --------------  -----  \n",
            " 0   Item_Number        326 non-null    object \n",
            " 1   Main_Category      326 non-null    object \n",
            " 2   Sub_Category       321 non-null    object \n",
            " 3   Product_Name       326 non-null    object \n",
            " 4   Main_Ingredient    259 non-null    object \n",
            " 5   Reviews_Count      326 non-null    int64  \n",
            " 6   Ratings_out_of_5   326 non-null    float64\n",
            " 7   Sizes_Available    326 non-null    int64  \n",
            " 8   Sizes              326 non-null    object \n",
            " 9   Prices             326 non-null    object \n",
            " 10  Short_Description  326 non-null    object \n",
            " 11  Long_Description   326 non-null    object \n",
            "dtypes: float64(1), int64(2), object(9)\n",
            "memory usage: 30.7+ KB\n"
          ],
          "name": "stdout"
        }
      ]
    },
    {
      "cell_type": "markdown",
      "metadata": {
        "id": "m1S88tUTmXj0"
      },
      "source": [
        "**Tahap keenam** : Menganalisis Rating yang diberikan pengguna pada produk Body Shop\r\n",
        "\r\n",
        "- Analisis Histogram : Ditampilkan bahwa pengguna yang memberikan rating pada rentang angka 4,6 hingga 4,8 mencapai 3% bedasarkan 5 angka rating teratas."
      ]
    },
    {
      "cell_type": "code",
      "metadata": {
        "colab": {
          "base_uri": "https://localhost:8080/",
          "height": 294
        },
        "id": "x1Thj_famxAR",
        "outputId": "6a711c08-9107-4373-bd3a-bf151b26b126"
      },
      "source": [
        "fig=plt.figure()\r\n",
        "ax = fig.add_subplot(1,1,1)\r\n",
        "\r\n",
        "\r\n",
        "#Variable\r\n",
        "ax.hist(export_bodyshop.head(5)['Ratings_out_of_5'],bins = 3)\r\n",
        "\r\n",
        "#Labels and Tit\r\n",
        "plt.title('Analisis Rating Pengguna pada Produk Body Shop')\r\n",
        "plt.xlabel('Rating Pengguna')\r\n",
        "plt.ylabel('Rating Line')\r\n",
        "plt.show()"
      ],
      "execution_count": null,
      "outputs": [
        {
          "output_type": "display_data",
          "data": {
            "image/png": "[encoded data removed]",
            "text/plain": [
              "<Figure size 432x288 with 1 Axes>"
            ]
          },
          "metadata": {
            "tags": [],
            "needs_background": "light"
          }
        }
      ]
    },
    {
      "cell_type": "markdown",
      "metadata": {
        "id": "anvQP1bSuozl"
      },
      "source": [
        "**Tahap ketujuh :** Analisis total penjualan dengan rating yang diberikan oleh konsumen.\r\n",
        "\r\n",
        " - **Analisis Scatter Plot**: Dari Semua Kategori produk Body Shop, Kategori Gift, Hands, dan Sale yang paling sedikit mendapatkan rating diatas 4. \r\n"
      ]
    },
    {
      "cell_type": "code",
      "metadata": {
        "colab": {
          "base_uri": "https://localhost:8080/",
          "height": 294
        },
        "id": "zeMnxDlpurRK",
        "outputId": "0dd28b45-6f56-44e2-899a-d6ee588e7128"
      },
      "source": [
        "fig=plt.figure()\r\n",
        "ax = fig.add_subplot(1,1,1)\r\n",
        "\r\n",
        "#Variable\r\n",
        "ax.scatter(export_bodyshop['Ratings_out_of_5'],export_bodyshop['Main_Category'])\r\n",
        "\r\n",
        "#Labels and Tit\r\n",
        "plt.title('Analisis Rating dari Setiap Kategori Produk Bodyshop')\r\n",
        "plt.xlabel('Rating Produk')\r\n",
        "plt.ylabel('Kateogri Produk')\r\n",
        "plt.show()"
      ],
      "execution_count": null,
      "outputs": [
        {
          "output_type": "display_data",
          "data": {
            "image/png": "[encoded data removed]",
            "text/plain": [
              "<Figure size 432x288 with 1 Axes>"
            ]
          },
          "metadata": {
            "tags": [],
            "needs_background": "light"
          }
        }
      ]
    },
    {
      "cell_type": "markdown",
      "metadata": {
        "id": "_sVczS3o0Lx9"
      },
      "source": [
        "**Tahap ke delapan** : Analisis menggunakan Boxplot dilihat dari total penjualan dengan rating yang diberikan oleh konsumen\r\n",
        "\r\n",
        "- **Analisis Boxplot :**\r\n",
        "  - Nilai minimal menunjukan angka 3,8\r\n",
        "  - Nilai Quartil terendah menunjukan angka 3,5\r\n",
        "  - Nilai Median menunjukan angka 4,75\r\n",
        "  - Nilai Quartil teratas menunjukan angka 5\r\n",
        "  - Nilai maksimal menunjukan angka 5\r\n",
        "  - Terdapat pencilan data pada angka 0 "
      ]
    },
    {
      "cell_type": "code",
      "metadata": {
        "colab": {
          "base_uri": "https://localhost:8080/",
          "height": 333
        },
        "id": "Pp3vHjp60OX0",
        "outputId": "2a8b0157-bd93-4068-f8b0-42fa8259cede"
      },
      "source": [
        "sns.boxplot(export_bodyshop['Ratings_out_of_5'])\r\n",
        "sns.despine()"
      ],
      "execution_count": null,
      "outputs": [
        {
          "output_type": "stream",
          "text": [
            "/usr/local/lib/python3.6/dist-packages/seaborn/_decorators.py:43: FutureWarning: Pass the following variable as a keyword arg: x. From version 0.12, the only valid positional argument will be `data`, and passing other arguments without an explicit keyword will result in an error or misinterpretation.\n",
            "  FutureWarning\n"
          ],
          "name": "stderr"
        },
        {
          "output_type": "display_data",
          "data": {
            "image/png": "[encoded data removed]",
            "text/plain": [
              "<Figure size 432x288 with 1 Axes>"
            ]
          },
          "metadata": {
            "tags": [],
            "needs_background": "light"
          }
        }
      ]
    },
    {
      "cell_type": "markdown",
      "metadata": {
        "id": "--IBcBNlANUG"
      },
      "source": [
        "**Tahap ke sembilan** : Analisis menggunakan Plots Kategori Produk yang diukur dengan rating produk dari pengguna.\r\n",
        "\r\n",
        "- **Analisis Plots :** Pada Kategori Collection mencapai angka rating 4,5-5, Makeup mencapai angka rating 3,75-5, Skin Care mencapai angka rating 4,25-5, Body mencapai angka rating 3,5-5 dan Fragrances mencapai angka rating 4-5"
      ]
    },
    {
      "cell_type": "code",
      "metadata": {
        "colab": {
          "base_uri": "https://localhost:8080/",
          "height": 296
        },
        "id": "KSYo45MSAY0z",
        "outputId": "8148c698-d675-4808-aff5-09436fa8543a"
      },
      "source": [
        "sns.stripplot(x=\"Main_Category\", y=\"Ratings_out_of_5\", data=export_bodyshop) "
      ],
      "execution_count": null,
      "outputs": [
        {
          "output_type": "execute_result",
          "data": {
            "text/plain": [
              "<matplotlib.axes._subplots.AxesSubplot at 0x7f8e12fc25f8>"
            ]
          },
          "metadata": {
            "tags": []
          },
          "execution_count": 47
        },
        {
          "output_type": "display_data",
          "data": {
            "image/png": "[encoded data removed]",
            "text/plain": [
              "<Figure size 432x288 with 1 Axes>"
            ]
          },
          "metadata": {
            "tags": [],
            "needs_background": "light"
          }
        }
      ]
    },
    {
      "cell_type": "markdown",
      "metadata": {
        "id": "ZdNMvW8dKCJK"
      },
      "source": [
        "**Tahap kesepuluh** : Analisis menggunakan Boxplot Kategori Produk yang digunakan dengan Rating Produk \r\n",
        "1. Nilai minimal menunjukan rating collection(4,25), Makeup(3,5), Skin Care(4), Body(2,5), Sale(4,25), Gifts(0), Fragnance(0,5), Hands(4,2)\r\n",
        "2. Nilai Quartil terendah menunjukan rating collection(4,75), Makeup(4,5), Skin Care(4,5), Body(4,5), Sale(4,5), Gifts(0), Fragnance(4), Hands(0)\r\n",
        "3. Nilai Median menunjukan rating collection(2,75), Makeup(0,5), Skin Care(3,5), Body(0,5), Sale(4,8), Gifts(0), Fragnance(4,8), Hands(0)\r\n",
        "4. Nilai Quartil teratas menunjukan rating collection(5), Makeup(5), Skin Care(5), Body(5), Sale(5), Gifts(0), Fragnance(5), Hands(0)\r\n",
        "5. Nilai maksimal menunjukan rating collection(5), Makeup(5), Skin Care(5), Body(5), Sale(5), Gifts(0), Fragnance(5), Hands(0)\r\n",
        "\r\n",
        "\r\n",
        "\r\n"
      ]
    },
    {
      "cell_type": "code",
      "metadata": {
        "colab": {
          "base_uri": "https://localhost:8080/",
          "height": 296
        },
        "id": "eRLmmHD1KPfl",
        "outputId": "226df5b5-fd5f-4088-a50e-9b5e8c34355d"
      },
      "source": [
        "sns.boxplot(x=\"Main_Category\", y=\"Ratings_out_of_5\", data=export_bodyshop, hue ='Sizes_Available') "
      ],
      "execution_count": null,
      "outputs": [
        {
          "output_type": "execute_result",
          "data": {
            "text/plain": [
              "<matplotlib.axes._subplots.AxesSubplot at 0x7f8e12196550>"
            ]
          },
          "metadata": {
            "tags": []
          },
          "execution_count": 60
        },
        {
          "output_type": "display_data",
          "data": {
            "image/png": "[encoded data removed]",
            "text/plain": [
              "<Figure size 432x288 with 1 Axes>"
            ]
          },
          "metadata": {
            "tags": [],
            "needs_background": "light"
          }
        }
      ]
    },
    {
      "cell_type": "markdown",
      "metadata": {
        "id": "6nWKrVySTR5L"
      },
      "source": [
        "**Tahap ke sebelas** : Analisis frekuensi Kategori Produk yang sering direview\r\n",
        "- **Analisis Frekuensi** : \r\n",
        "1. Terdapat data table yang akan dianalisis\r\n",
        "2. Kategori Produk dan Review dikelompokan dan terdapat jumlah frekuensi yang telah dilakukan\r\n",
        "\r\n",
        "- Kategori Produk yang banyak direview tertinggi pada Collection (1324) dan terendah (723)"
      ]
    },
    {
      "cell_type": "code",
      "metadata": {
        "colab": {
          "base_uri": "https://localhost:8080/"
        },
        "id": "4GHBND9wTdiz",
        "outputId": "ce7fe04e-1bcd-4139-f59e-28527627f964"
      },
      "source": [
        "print (export_bodyshop)\r\n",
        "test= export_bodyshop.groupby(['Reviews_Count','Main_Category'])\r\n",
        "test.size()"
      ],
      "execution_count": null,
      "outputs": [
        {
          "output_type": "stream",
          "text": [
            "    Item_Number  ...                                   Long_Description\n",
            "0    ITEM 30100  ...  ['100% vegan ', 'Enriched with Community Trade...\n",
            "1    ITEM 96119  ...  ['Suitable for sensitive skin and contact lens...\n",
            "2    ITEM 96145  ...  ['Cleansing Butter', ' Suitable for sensitive ...\n",
            "3    ITEM 30106  ...  ['Refreshing, purifying toner', ' 100% vegan',...\n",
            "4    ITEM 94351  ...  ['100% vegetarian', 'Enriched with Community T...\n",
            "..          ...  ...                                                ...\n",
            "321  ITEM 61410  ...  ['Nourishing multi-purpose balm', 'Helps reviv...\n",
            "322  ITEM 94301  ...  ['100% vegetarian', '   Body cream', 'Fresh, f...\n",
            "323  ITEM 15287  ...  ['NEW lightweight, fast-absorbing gel-cream fo...\n",
            "324  ITEM 19402  ...  ['Body Butter for dry to very dry skin ', ' 72...\n",
            "325  ITEM 94166  ...  ['Soothing and restoring Body Butter ', 'Inten...\n",
            "\n",
            "[326 rows x 12 columns]\n"
          ],
          "name": "stdout"
        },
        {
          "output_type": "execute_result",
          "data": {
            "text/plain": [
              "Reviews_Count  Main_Category\n",
              "0              Body             2\n",
              "               Fragrances       1\n",
              "               Gifts            1\n",
              "               Makeup           2\n",
              "1              Body             2\n",
              "                               ..\n",
              "723            Body             1\n",
              "766            Skin Care        1\n",
              "864            Body             1\n",
              "1298           Body             1\n",
              "1324           Collection       1\n",
              "Length: 251, dtype: int64"
            ]
          },
          "metadata": {
            "tags": []
          },
          "execution_count": 57
        }
      ]
    },
    {
      "cell_type": "markdown",
      "metadata": {
        "id": "Gwvb7IpbWZix"
      },
      "source": [
        "**Tahap ke dua belas** : Analisis mapping tentang Kategori Produk dengan Rating Produk bedasarkan Ukuran yang tersedia\r\n"
      ]
    },
    {
      "cell_type": "markdown",
      "metadata": {
        "id": "wNgD7leKP7z-"
      },
      "source": [
        "- **Analisis Mapping**: Dibagi antara beberapa kelompok berdasarkan Ukuran Produk tersedia yang diberikan dapat dilihat dari Kategori Produk dan Rating\r\n",
        "\r\n",
        "- Dilihat dari mapping yang sudah dibuat bahwa Rating tertinggi 5 dengan Kategori Produk Collection dan Gift dengan Rating 3,25"
      ]
    },
    {
      "cell_type": "code",
      "metadata": {
        "colab": {
          "base_uri": "https://localhost:8080/",
          "height": 510
        },
        "id": "_9UFK9rSWom2",
        "outputId": "87772b0d-d3c8-4365-a9a9-58acc380ce2f"
      },
      "source": [
        "sp_pivot = export_bodyshop.pivot_table(index='Main_Category', columns='Ratings_out_of_5', values='Sizes_Available')\r\n",
        "\r\n",
        "print(sp_pivot)\r\n",
        "\r\n",
        "sns.heatmap(sp_pivot, annot=True, cmap='coolwarm')\r\n",
        "\r\n",
        "plt.show()"
      ],
      "execution_count": null,
      "outputs": [
        {
          "output_type": "stream",
          "text": [
            "Ratings_out_of_5  0.00  1.00  2.00  2.25  2.55  ...  4.90  4.94  4.95  4.96  5.00\n",
            "Main_Category                                   ...                              \n",
            "Body               1.0   NaN   NaN   NaN   NaN  ...   1.0   1.0   NaN   NaN   1.0\n",
            "Collection         NaN   NaN   NaN   NaN   1.0  ...   NaN   NaN   NaN   NaN   NaN\n",
            "Fragrances         1.0   NaN   NaN   NaN   NaN  ...   NaN   NaN   NaN   NaN   1.0\n",
            "Gifts              1.0   NaN   NaN   NaN   NaN  ...   NaN   NaN   NaN   NaN   NaN\n",
            "Hair               NaN   NaN   NaN   NaN   NaN  ...   NaN   NaN   1.0   NaN   NaN\n",
            "Hands              NaN   NaN   NaN   NaN   NaN  ...   NaN   NaN   NaN   NaN   NaN\n",
            "Makeup             1.0   1.0   6.0   1.0   NaN  ...   NaN   NaN   NaN   1.0   1.0\n",
            "Sale               NaN   NaN   NaN   NaN   NaN  ...   NaN   NaN   NaN   NaN   NaN\n",
            "Skin Care          NaN   NaN   NaN   NaN   NaN  ...   NaN   NaN   NaN   NaN   1.0\n",
            "\n",
            "[9 rows x 106 columns]\n"
          ],
          "name": "stdout"
        },
        {
          "output_type": "display_data",
          "data": {
            "image/png": "[encoded data removed]",
            "text/plain": [
              "<Figure size 432x288 with 2 Axes>"
            ]
          },
          "metadata": {
            "tags": [],
            "needs_background": "light"
          }
        }
      ]
    },
    {
      "cell_type": "markdown",
      "metadata": {
        "id": "-hegT4Vd9s65"
      },
      "source": [
        "# **TAHAP PEMODELAN DATA**"
      ]
    },
    {
      "cell_type": "markdown",
      "metadata": {
        "id": "v4GNyhU2-AHk"
      },
      "source": [
        "**Tahap pertama :** Import library yang digunakan"
      ]
    },
    {
      "cell_type": "code",
      "metadata": {
        "id": "XdvhlIsV-FyJ"
      },
      "source": [
        "from sklearn.cluster import KMeans\r\n",
        "import numpy as np\r\n",
        "from sklearn.preprocessing import MinMaxScaler\r\n",
        "import math"
      ],
      "execution_count": null,
      "outputs": []
    },
    {
      "cell_type": "markdown",
      "metadata": {
        "id": "R6Gs6pR9AanH"
      },
      "source": [
        "**Tahap kedua** : Pengelompokan data menggunakan acuan product name"
      ]
    },
    {
      "cell_type": "markdown",
      "metadata": {
        "id": "mVuQlVhxQ7In"
      },
      "source": [
        "- **Analisis Pengelompokan** : Digunakan acuan Product Name dibagi menjadi review count, ratings out of 5, sizes available, unit price, quantity, tax 5%, total, cogs, gross margin percentage, gross income,\tRating. Dikelompokkan menjadi count, mean, std, min, 25%, 50%, 75%, max."
      ]
    },
    {
      "cell_type": "code",
      "metadata": {
        "colab": {
          "base_uri": "https://localhost:8080/",
          "height": 397
        },
        "id": "7uQsLL2jBELO",
        "outputId": "8f2f8e99-8965-4aac-9222-24314f4370de"
      },
      "source": [
        "test= export_bodyshop.groupby(['Main_Category'])\r\n",
        "test.describe()"
      ],
      "execution_count": null,
      "outputs": [
        {
          "output_type": "execute_result",
          "data": {
            "text/html": [
              "<div>\n",
              "<style scoped>\n",
              "    .dataframe tbody tr th:only-of-type {\n",
              "        vertical-align: middle;\n",
              "    }\n",
              "\n",
              "    .dataframe tbody tr th {\n",
              "        vertical-align: top;\n",
              "    }\n",
              "\n",
              "    .dataframe thead tr th {\n",
              "        text-align: left;\n",
              "    }\n",
              "\n",
              "    .dataframe thead tr:last-of-type th {\n",
              "        text-align: right;\n",
              "    }\n",
              "</style>\n",
              "<table border=\"1\" class=\"dataframe\">\n",
              "  <thead>\n",
              "    <tr>\n",
              "      <th></th>\n",
              "      <th colspan=\"8\" halign=\"left\">Reviews_Count</th>\n",
              "      <th colspan=\"8\" halign=\"left\">Ratings_out_of_5</th>\n",
              "      <th colspan=\"8\" halign=\"left\">Sizes_Available</th>\n",
              "    </tr>\n",
              "    <tr>\n",
              "      <th></th>\n",
              "      <th>count</th>\n",
              "      <th>mean</th>\n",
              "      <th>std</th>\n",
              "      <th>min</th>\n",
              "      <th>25%</th>\n",
              "      <th>50%</th>\n",
              "      <th>75%</th>\n",
              "      <th>max</th>\n",
              "      <th>count</th>\n",
              "      <th>mean</th>\n",
              "      <th>std</th>\n",
              "      <th>min</th>\n",
              "      <th>25%</th>\n",
              "      <th>50%</th>\n",
              "      <th>75%</th>\n",
              "      <th>max</th>\n",
              "      <th>count</th>\n",
              "      <th>mean</th>\n",
              "      <th>std</th>\n",
              "      <th>min</th>\n",
              "      <th>25%</th>\n",
              "      <th>50%</th>\n",
              "      <th>75%</th>\n",
              "      <th>max</th>\n",
              "    </tr>\n",
              "    <tr>\n",
              "      <th>Main_Category</th>\n",
              "      <th></th>\n",
              "      <th></th>\n",
              "      <th></th>\n",
              "      <th></th>\n",
              "      <th></th>\n",
              "      <th></th>\n",
              "      <th></th>\n",
              "      <th></th>\n",
              "      <th></th>\n",
              "      <th></th>\n",
              "      <th></th>\n",
              "      <th></th>\n",
              "      <th></th>\n",
              "      <th></th>\n",
              "      <th></th>\n",
              "      <th></th>\n",
              "      <th></th>\n",
              "      <th></th>\n",
              "      <th></th>\n",
              "      <th></th>\n",
              "      <th></th>\n",
              "      <th></th>\n",
              "      <th></th>\n",
              "      <th></th>\n",
              "    </tr>\n",
              "  </thead>\n",
              "  <tbody>\n",
              "    <tr>\n",
              "      <th>Body</th>\n",
              "      <td>121.0</td>\n",
              "      <td>105.884298</td>\n",
              "      <td>170.702968</td>\n",
              "      <td>0.0</td>\n",
              "      <td>17.00</td>\n",
              "      <td>53.0</td>\n",
              "      <td>134.00</td>\n",
              "      <td>1298.0</td>\n",
              "      <td>121.0</td>\n",
              "      <td>4.520909</td>\n",
              "      <td>0.668774</td>\n",
              "      <td>0.00</td>\n",
              "      <td>4.5000</td>\n",
              "      <td>4.670</td>\n",
              "      <td>4.7700</td>\n",
              "      <td>5.00</td>\n",
              "      <td>121.0</td>\n",
              "      <td>1.446281</td>\n",
              "      <td>0.763221</td>\n",
              "      <td>1.0</td>\n",
              "      <td>1.0</td>\n",
              "      <td>1.0</td>\n",
              "      <td>2.0</td>\n",
              "      <td>6.0</td>\n",
              "    </tr>\n",
              "    <tr>\n",
              "      <th>Collection</th>\n",
              "      <td>17.0</td>\n",
              "      <td>304.352941</td>\n",
              "      <td>342.382998</td>\n",
              "      <td>9.0</td>\n",
              "      <td>68.00</td>\n",
              "      <td>175.0</td>\n",
              "      <td>414.00</td>\n",
              "      <td>1324.0</td>\n",
              "      <td>17.0</td>\n",
              "      <td>4.487059</td>\n",
              "      <td>0.544538</td>\n",
              "      <td>2.55</td>\n",
              "      <td>4.5200</td>\n",
              "      <td>4.660</td>\n",
              "      <td>4.6900</td>\n",
              "      <td>4.88</td>\n",
              "      <td>17.0</td>\n",
              "      <td>1.294118</td>\n",
              "      <td>0.685994</td>\n",
              "      <td>1.0</td>\n",
              "      <td>1.0</td>\n",
              "      <td>1.0</td>\n",
              "      <td>1.0</td>\n",
              "      <td>3.0</td>\n",
              "    </tr>\n",
              "    <tr>\n",
              "      <th>Fragrances</th>\n",
              "      <td>27.0</td>\n",
              "      <td>34.851852</td>\n",
              "      <td>23.104618</td>\n",
              "      <td>0.0</td>\n",
              "      <td>18.00</td>\n",
              "      <td>31.0</td>\n",
              "      <td>47.50</td>\n",
              "      <td>97.0</td>\n",
              "      <td>27.0</td>\n",
              "      <td>4.385926</td>\n",
              "      <td>0.915752</td>\n",
              "      <td>0.00</td>\n",
              "      <td>4.2900</td>\n",
              "      <td>4.580</td>\n",
              "      <td>4.7500</td>\n",
              "      <td>5.00</td>\n",
              "      <td>27.0</td>\n",
              "      <td>1.148148</td>\n",
              "      <td>0.533761</td>\n",
              "      <td>1.0</td>\n",
              "      <td>1.0</td>\n",
              "      <td>1.0</td>\n",
              "      <td>1.0</td>\n",
              "      <td>3.0</td>\n",
              "    </tr>\n",
              "    <tr>\n",
              "      <th>Gifts</th>\n",
              "      <td>1.0</td>\n",
              "      <td>0.000000</td>\n",
              "      <td>NaN</td>\n",
              "      <td>0.0</td>\n",
              "      <td>0.00</td>\n",
              "      <td>0.0</td>\n",
              "      <td>0.00</td>\n",
              "      <td>0.0</td>\n",
              "      <td>1.0</td>\n",
              "      <td>0.000000</td>\n",
              "      <td>NaN</td>\n",
              "      <td>0.00</td>\n",
              "      <td>0.0000</td>\n",
              "      <td>0.000</td>\n",
              "      <td>0.0000</td>\n",
              "      <td>0.00</td>\n",
              "      <td>1.0</td>\n",
              "      <td>1.000000</td>\n",
              "      <td>NaN</td>\n",
              "      <td>1.0</td>\n",
              "      <td>1.0</td>\n",
              "      <td>1.0</td>\n",
              "      <td>1.0</td>\n",
              "      <td>1.0</td>\n",
              "    </tr>\n",
              "    <tr>\n",
              "      <th>Hair</th>\n",
              "      <td>18.0</td>\n",
              "      <td>81.944444</td>\n",
              "      <td>98.875128</td>\n",
              "      <td>8.0</td>\n",
              "      <td>27.25</td>\n",
              "      <td>54.0</td>\n",
              "      <td>106.00</td>\n",
              "      <td>440.0</td>\n",
              "      <td>18.0</td>\n",
              "      <td>4.625000</td>\n",
              "      <td>0.149637</td>\n",
              "      <td>4.37</td>\n",
              "      <td>4.5325</td>\n",
              "      <td>4.600</td>\n",
              "      <td>4.6875</td>\n",
              "      <td>4.95</td>\n",
              "      <td>18.0</td>\n",
              "      <td>1.722222</td>\n",
              "      <td>0.826442</td>\n",
              "      <td>1.0</td>\n",
              "      <td>1.0</td>\n",
              "      <td>1.5</td>\n",
              "      <td>2.0</td>\n",
              "      <td>3.0</td>\n",
              "    </tr>\n",
              "    <tr>\n",
              "      <th>Hands</th>\n",
              "      <td>1.0</td>\n",
              "      <td>6.000000</td>\n",
              "      <td>NaN</td>\n",
              "      <td>6.0</td>\n",
              "      <td>6.00</td>\n",
              "      <td>6.0</td>\n",
              "      <td>6.00</td>\n",
              "      <td>6.0</td>\n",
              "      <td>1.0</td>\n",
              "      <td>4.330000</td>\n",
              "      <td>NaN</td>\n",
              "      <td>4.33</td>\n",
              "      <td>4.3300</td>\n",
              "      <td>4.330</td>\n",
              "      <td>4.3300</td>\n",
              "      <td>4.33</td>\n",
              "      <td>1.0</td>\n",
              "      <td>1.000000</td>\n",
              "      <td>NaN</td>\n",
              "      <td>1.0</td>\n",
              "      <td>1.0</td>\n",
              "      <td>1.0</td>\n",
              "      <td>1.0</td>\n",
              "      <td>1.0</td>\n",
              "    </tr>\n",
              "    <tr>\n",
              "      <th>Makeup</th>\n",
              "      <td>78.0</td>\n",
              "      <td>44.423077</td>\n",
              "      <td>66.937559</td>\n",
              "      <td>0.0</td>\n",
              "      <td>10.25</td>\n",
              "      <td>22.0</td>\n",
              "      <td>53.25</td>\n",
              "      <td>423.0</td>\n",
              "      <td>78.0</td>\n",
              "      <td>4.114231</td>\n",
              "      <td>0.941936</td>\n",
              "      <td>0.00</td>\n",
              "      <td>3.9550</td>\n",
              "      <td>4.340</td>\n",
              "      <td>4.5925</td>\n",
              "      <td>5.00</td>\n",
              "      <td>78.0</td>\n",
              "      <td>2.615385</td>\n",
              "      <td>3.362246</td>\n",
              "      <td>1.0</td>\n",
              "      <td>1.0</td>\n",
              "      <td>1.0</td>\n",
              "      <td>2.0</td>\n",
              "      <td>16.0</td>\n",
              "    </tr>\n",
              "    <tr>\n",
              "      <th>Sale</th>\n",
              "      <td>2.0</td>\n",
              "      <td>43.000000</td>\n",
              "      <td>49.497475</td>\n",
              "      <td>8.0</td>\n",
              "      <td>25.50</td>\n",
              "      <td>43.0</td>\n",
              "      <td>60.50</td>\n",
              "      <td>78.0</td>\n",
              "      <td>2.0</td>\n",
              "      <td>4.645000</td>\n",
              "      <td>0.318198</td>\n",
              "      <td>4.42</td>\n",
              "      <td>4.5325</td>\n",
              "      <td>4.645</td>\n",
              "      <td>4.7575</td>\n",
              "      <td>4.87</td>\n",
              "      <td>2.0</td>\n",
              "      <td>1.000000</td>\n",
              "      <td>0.000000</td>\n",
              "      <td>1.0</td>\n",
              "      <td>1.0</td>\n",
              "      <td>1.0</td>\n",
              "      <td>1.0</td>\n",
              "      <td>1.0</td>\n",
              "    </tr>\n",
              "    <tr>\n",
              "      <th>Skin Care</th>\n",
              "      <td>61.0</td>\n",
              "      <td>121.721311</td>\n",
              "      <td>138.726485</td>\n",
              "      <td>2.0</td>\n",
              "      <td>24.00</td>\n",
              "      <td>61.0</td>\n",
              "      <td>173.00</td>\n",
              "      <td>766.0</td>\n",
              "      <td>61.0</td>\n",
              "      <td>4.538361</td>\n",
              "      <td>0.273332</td>\n",
              "      <td>3.50</td>\n",
              "      <td>4.4100</td>\n",
              "      <td>4.610</td>\n",
              "      <td>4.7200</td>\n",
              "      <td>5.00</td>\n",
              "      <td>61.0</td>\n",
              "      <td>1.049180</td>\n",
              "      <td>0.218039</td>\n",
              "      <td>1.0</td>\n",
              "      <td>1.0</td>\n",
              "      <td>1.0</td>\n",
              "      <td>1.0</td>\n",
              "      <td>2.0</td>\n",
              "    </tr>\n",
              "  </tbody>\n",
              "</table>\n",
              "</div>"
            ],
            "text/plain": [
              "              Reviews_Count                               ... Sizes_Available                \n",
              "                      count        mean         std  min  ...             25%  50%  75%   max\n",
              "Main_Category                                             ...                                \n",
              "Body                  121.0  105.884298  170.702968  0.0  ...             1.0  1.0  2.0   6.0\n",
              "Collection             17.0  304.352941  342.382998  9.0  ...             1.0  1.0  1.0   3.0\n",
              "Fragrances             27.0   34.851852   23.104618  0.0  ...             1.0  1.0  1.0   3.0\n",
              "Gifts                   1.0    0.000000         NaN  0.0  ...             1.0  1.0  1.0   1.0\n",
              "Hair                   18.0   81.944444   98.875128  8.0  ...             1.0  1.5  2.0   3.0\n",
              "Hands                   1.0    6.000000         NaN  6.0  ...             1.0  1.0  1.0   1.0\n",
              "Makeup                 78.0   44.423077   66.937559  0.0  ...             1.0  1.0  2.0  16.0\n",
              "Sale                    2.0   43.000000   49.497475  8.0  ...             1.0  1.0  1.0   1.0\n",
              "Skin Care              61.0  121.721311  138.726485  2.0  ...             1.0  1.0  1.0   2.0\n",
              "\n",
              "[9 rows x 24 columns]"
            ]
          },
          "metadata": {
            "tags": []
          },
          "execution_count": 89
        }
      ]
    },
    {
      "cell_type": "markdown",
      "metadata": {
        "id": "xovqMpuuM9BR"
      },
      "source": [
        "**Tahap ketiga** : Pengelompokan indeks integer untuk pemilihan berdasarkan kolom 5 sampai 7"
      ]
    },
    {
      "cell_type": "markdown",
      "metadata": {
        "id": "hyilnfcPOOfJ"
      },
      "source": [
        "- **Analisis** : Kolom yang muncul yaitu Reviews_Count dan Ratings_out_of_5 karena kolom tersebut memiliki nilai integer."
      ]
    },
    {
      "cell_type": "code",
      "metadata": {
        "colab": {
          "base_uri": "https://localhost:8080/",
          "height": 197
        },
        "id": "RURcX-YDJFJJ",
        "outputId": "548c8816-c18c-4741-f4ad-19033e64e0f2"
      },
      "source": [
        "export_bodyshop_x = export_bodyshop.iloc[:, 5:7]\r\n",
        "export_bodyshop_x.head()"
      ],
      "execution_count": null,
      "outputs": [
        {
          "output_type": "execute_result",
          "data": {
            "text/html": [
              "<div>\n",
              "<style scoped>\n",
              "    .dataframe tbody tr th:only-of-type {\n",
              "        vertical-align: middle;\n",
              "    }\n",
              "\n",
              "    .dataframe tbody tr th {\n",
              "        vertical-align: top;\n",
              "    }\n",
              "\n",
              "    .dataframe thead th {\n",
              "        text-align: right;\n",
              "    }\n",
              "</style>\n",
              "<table border=\"1\" class=\"dataframe\">\n",
              "  <thead>\n",
              "    <tr style=\"text-align: right;\">\n",
              "      <th></th>\n",
              "      <th>Reviews_Count</th>\n",
              "      <th>Ratings_out_of_5</th>\n",
              "    </tr>\n",
              "  </thead>\n",
              "  <tbody>\n",
              "    <tr>\n",
              "      <th>0</th>\n",
              "      <td>1324</td>\n",
              "      <td>4.76</td>\n",
              "    </tr>\n",
              "    <tr>\n",
              "      <th>1</th>\n",
              "      <td>423</td>\n",
              "      <td>4.29</td>\n",
              "    </tr>\n",
              "    <tr>\n",
              "      <th>2</th>\n",
              "      <td>271</td>\n",
              "      <td>4.82</td>\n",
              "    </tr>\n",
              "    <tr>\n",
              "      <th>3</th>\n",
              "      <td>606</td>\n",
              "      <td>4.64</td>\n",
              "    </tr>\n",
              "    <tr>\n",
              "      <th>4</th>\n",
              "      <td>137</td>\n",
              "      <td>4.67</td>\n",
              "    </tr>\n",
              "  </tbody>\n",
              "</table>\n",
              "</div>"
            ],
            "text/plain": [
              "   Reviews_Count  Ratings_out_of_5\n",
              "0           1324              4.76\n",
              "1            423              4.29\n",
              "2            271              4.82\n",
              "3            606              4.64\n",
              "4            137              4.67"
            ]
          },
          "metadata": {
            "tags": []
          },
          "execution_count": 86
        }
      ]
    },
    {
      "cell_type": "markdown",
      "metadata": {
        "id": "IjSZm7v9OzCN"
      },
      "source": [
        "**Tahap Keempat** : Pengelompokan menggunakan metode Elbow.\r\n"
      ]
    },
    {
      "cell_type": "markdown",
      "metadata": {
        "id": "v-PXsEesRAN8"
      },
      "source": [
        "- **Analisis** : Pengelompokan menggunakan metode Elbow untuk mengetahui jumlah cluster yang optimal. Untuk mendapatkan nilai yang digunakan dalam grafik, beberapa model menggunakan jumlah cluster yang berbeda dan menyimpan nilai intertia_properti (WCSS) setiap saat.\r\n",
        "\r\n",
        "- WCSS didefinisikan sebagai jumlah jarak kuadrat antara setiap anggota cluster dan pusatnya.\r\n",
        "\r\n",
        "- Elbow yang di temukan pada titik (x,y) = (3, 0.9)"
      ]
    },
    {
      "cell_type": "code",
      "metadata": {
        "colab": {
          "base_uri": "https://localhost:8080/",
          "height": 294
        },
        "id": "vU0qXSzcO4GO",
        "outputId": "39a34b6a-d84a-4f95-8cf0-70c579c57e59"
      },
      "source": [
        "# Menggunakan metode elbow untuk menentukan angka cluster yang tepat\r\n",
        "wcss = []\r\n",
        "for i in range(1, 11):\r\n",
        "    kmeans = KMeans(n_clusters = i, init = 'k-means++', random_state = 42)\r\n",
        "    kmeans.fit(export_bodyshop_x)\r\n",
        "    wcss.append(kmeans.inertia_)\r\n",
        "plt.plot(range(1, 11), wcss)\r\n",
        "plt.title('Metode Elbow')\r\n",
        "plt.xlabel('Jumlah clusters')\r\n",
        "plt.ylabel('WCSS')\r\n",
        "plt.show()"
      ],
      "execution_count": null,
      "outputs": [
        {
          "output_type": "display_data",
          "data": {
            "image/png": "[encoded data removed]",
            "text/plain": [
              "<Figure size 432x288 with 1 Axes>"
            ]
          },
          "metadata": {
            "tags": [],
            "needs_background": "light"
          }
        }
      ]
    },
    {
      "cell_type": "markdown",
      "metadata": {
        "id": "ZpXGl_0eRXmO"
      },
      "source": [
        "**Tahap kelima** : Pengelompokkan menggunakan KMeans Clustering"
      ]
    },
    {
      "cell_type": "markdown",
      "metadata": {
        "id": "p1kkWLmmRgfw"
      },
      "source": [
        "- **Analisis** : Prediksi yang didapatkan dari pengelompokan jumlah data \r\n",
        "\r\n",
        "supermarket_x yaitu dari kolom Rating dan Review Count. Membentuk matriks 3x3 dari pengelompokkan nilai tengah."
      ]
    },
    {
      "cell_type": "code",
      "metadata": {
        "id": "pV3IiHi-RrOp"
      },
      "source": [
        "# Menjalankan K-Means Clustering ke dataset\r\n",
        "kmeans = KMeans(n_clusters = 5, init = 'k-means++', random_state = 42)\r\n",
        "y_kmeans = kmeans.fit_predict(export_bodyshop_x)"
      ],
      "execution_count": null,
      "outputs": []
    },
    {
      "cell_type": "code",
      "metadata": {
        "colab": {
          "base_uri": "https://localhost:8080/"
        },
        "id": "YbK1roq4RtHh",
        "outputId": "029210fc-29d0-4a4a-99dd-591f1140eb3f"
      },
      "source": [
        "print(kmeans.cluster_centers_)"
      ],
      "execution_count": null,
      "outputs": [
        {
          "output_type": "stream",
          "text": [
            "[[  32.99586777    4.32785124]\n",
            " [ 735.4           4.716     ]\n",
            " [ 170.            4.60785714]\n",
            " [1311.            4.745     ]\n",
            " [ 360.95238095    4.66190476]]\n"
          ],
          "name": "stdout"
        }
      ]
    },
    {
      "cell_type": "markdown",
      "metadata": {
        "id": "319p2eNIUaUo"
      },
      "source": [
        "**Tahap Keenam** : Pengelompokan berdasarkan Array\r\n"
      ]
    },
    {
      "cell_type": "markdown",
      "metadata": {
        "id": "c72cz6viVNGE"
      },
      "source": [
        "- **Analisis** : Array yang didapatkan dari pengelompokan jumlah data export_bodyshop yaitu dari kolom Review Counts dan Rating"
      ]
    },
    {
      "cell_type": "code",
      "metadata": {
        "colab": {
          "base_uri": "https://localhost:8080/"
        },
        "id": "mKmuH11xUy2N",
        "outputId": "5b429e8f-df3c-484e-d377-8df0395fa3a5"
      },
      "source": [
        "x_array =  np.array(export_bodyshop_x.head(10))\r\n",
        "print(x_array)"
      ],
      "execution_count": null,
      "outputs": [
        {
          "output_type": "stream",
          "text": [
            "[[1324.      4.76]\n",
            " [ 423.      4.29]\n",
            " [ 271.      4.82]\n",
            " [ 606.      4.64]\n",
            " [ 137.      4.67]\n",
            " [ 318.      4.69]\n",
            " [ 169.      4.81]\n",
            " [ 173.      4.53]\n",
            " [ 176.      4.58]\n",
            " [ 250.      4.66]]\n"
          ],
          "name": "stdout"
        }
      ]
    },
    {
      "cell_type": "markdown",
      "metadata": {
        "id": "_NSSiizfVc-C"
      },
      "source": [
        "**Tahap Ketujuh** : Mengelompokkan berdasarkan Skala"
      ]
    },
    {
      "cell_type": "markdown",
      "metadata": {
        "id": "lIRG7fiNVhc1"
      },
      "source": [
        "- **Analisis** : Data ini menunjukan array dengan menggunakan penskalaan  mencakup ketahanan terhadap stdev yang sangat kecil dan mempertahankan entri nol dalam data renggang."
      ]
    },
    {
      "cell_type": "code",
      "metadata": {
        "colab": {
          "base_uri": "https://localhost:8080/"
        },
        "id": "htDQYocVVjIr",
        "outputId": "56c96e6a-91fc-45b3-f9a1-42f54ef30682"
      },
      "source": [
        "scaler = MinMaxScaler()\r\n",
        "x_scaled = scaler.fit_transform(x_array)\r\n",
        "x_scaled"
      ],
      "execution_count": null,
      "outputs": [
        {
          "output_type": "execute_result",
          "data": {
            "text/plain": [
              "array([[1.        , 0.88679245],\n",
              "       [0.24094356, 0.        ],\n",
              "       [0.11288964, 1.        ],\n",
              "       [0.39511373, 0.66037736],\n",
              "       [0.        , 0.71698113],\n",
              "       [0.15248526, 0.75471698],\n",
              "       [0.02695872, 0.98113208],\n",
              "       [0.03032856, 0.45283019],\n",
              "       [0.03285594, 0.54716981],\n",
              "       [0.09519798, 0.69811321]])"
            ]
          },
          "metadata": {
            "tags": []
          },
          "execution_count": 60
        }
      ]
    },
    {
      "cell_type": "markdown",
      "metadata": {
        "id": "5cRLsYpMVpad"
      },
      "source": [
        "**Tahap ke delapan** :  Menyelesaikan masalah KMeans dengan menggunakan algoritma Lloyd atau Elkan."
      ]
    },
    {
      "cell_type": "markdown",
      "metadata": {
        "id": "3bEZqlt_V7Ae"
      },
      "source": [
        "- **Analisis** : Inisialisasi dari penyelesaian masalah KMeans.\r\n"
      ]
    },
    {
      "cell_type": "code",
      "metadata": {
        "colab": {
          "base_uri": "https://localhost:8080/"
        },
        "id": "IYWvp36AVtiw",
        "outputId": "b1465d8d-ecdd-474a-e679-fac11cc24176"
      },
      "source": [
        "# Menentukan dan mengkonfigurasi fungsi kmeans\r\n",
        "kmeans = KMeans(n_clusters = 5, random_state=123)\r\n",
        "# Menentukan kluster dari data\r\n",
        "kmeans.fit(x_scaled)"
      ],
      "execution_count": null,
      "outputs": [
        {
          "output_type": "execute_result",
          "data": {
            "text/plain": [
              "KMeans(algorithm='auto', copy_x=True, init='k-means++', max_iter=300,\n",
              "       n_clusters=5, n_init=10, n_jobs=None, precompute_distances='auto',\n",
              "       random_state=123, tol=0.0001, verbose=0)"
            ]
          },
          "metadata": {
            "tags": []
          },
          "execution_count": 61
        }
      ]
    },
    {
      "cell_type": "code",
      "metadata": {
        "colab": {
          "base_uri": "https://localhost:8080/"
        },
        "id": "XHUCEa9yV9Cf",
        "outputId": "28865f93-7341-482c-87e9-9f951977843c"
      },
      "source": [
        "print(kmeans.cluster_centers_)"
      ],
      "execution_count": null,
      "outputs": [
        {
          "output_type": "stream",
          "text": [
            "[[0.06217355 0.63396226]\n",
            " [0.39511373 0.66037736]\n",
            " [1.         0.88679245]\n",
            " [0.24094356 0.        ]\n",
            " [0.06992418 0.99056604]]\n"
          ],
          "name": "stdout"
        }
      ]
    },
    {
      "cell_type": "markdown",
      "metadata": {
        "id": "f3Zin5QMV9YY"
      },
      "source": [
        "- **Analisis** : Print kembali setelah masalah diselesaiakn prediksi yang didapatkan dari pengelompokan jumlah data export_bodyshop yaitu dari kolom review counts dan rating. Membentuk matriks 3x3 dari pengelompokkan nilai tengah."
      ]
    },
    {
      "cell_type": "markdown",
      "metadata": {
        "id": "irO5ErQwWobu"
      },
      "source": [
        "**Tahap ke sembilan** : Menampilkan hasil kluster\r\n",
        "- **Analisis** : Semua data ditampilkan dengan jumlah kluster yang sesuai dengan item-item yang ada."
      ]
    },
    {
      "cell_type": "code",
      "metadata": {
        "colab": {
          "base_uri": "https://localhost:8080/",
          "height": 1000
        },
        "id": "x5DzVf2KWqLM",
        "outputId": "be6b1e6a-4515-434e-d1b1-562499bf7e08"
      },
      "source": [
        "# Menampilkan hasil kluster\r\n",
        "print (kmeans.labels_)\r\n",
        "# Menambahkan kolom \"kluster\" dalam data frame\r\n",
        "export_bodyshop[\"kluster\"] = kmeans.labels_\r\n",
        "export_bodyshop.head(100)"
      ],
      "execution_count": null,
      "outputs": [
        {
          "output_type": "stream",
          "text": [
            "[3 7 2 1 4 8 9 9 9 2 0 9 4 0 6 8 9 6 4 0 6 0 0 6 4 9 5 2 5 8 7 2 2 0 9 7 7\n",
            " 8 2 6 8 6 0 9 0 2 0 6 0 6 6 1 0 9 6 4 6 6 9 6 4 0 6 6 6 6 6 6 6 9 0 0 0 6\n",
            " 0 4 9 6 0 6 6 0 6 6 4 0 6 6 0 7 9 0 6 4 0 4 9 6 0 6 6 6 4 0 6 6 0 0 6 6 6\n",
            " 4 6 6 6 6 6 6 6 6 6 6 6 6 6 6 6 6 6 6 6 6 6 6 6 4 0 6 0 6 6 6 6 6 6 6 6 6\n",
            " 0 6 6 0 0 0 6 6 6 6 4 9 8 6 0 6 6 6 0 6 6 6 4 6 6 0 4 6 6 6 6 6 6 6 4 6 4\n",
            " 0 0 0 0 0 0 6 0 6 0 0 6 0 6 6 0 6 6 6 6 6 6 6 9 4 9 6 4 0 6 6 9 0 6 4 0 4\n",
            " 6 6 6 0 6 6 6 0 6 6 6 6 0 6 9 4 2 9 6 0 0 4 2 6 6 9 6 1 6 4 0 0 0 6 6 6 6\n",
            " 6 6 6 6 6 6 0 6 4 6 4 6 0 2 4 0 2 9 0 0 3 0 6 0 6 6 6 6 6 6 4 6 4 0 0 0 6\n",
            " 0 6 9 5 2 9 2 7 2 2 8 8 4 9 2 0 0 2 6 0 6 6 6 6 6 6 6 2 5 2]\n"
          ],
          "name": "stdout"
        },
        {
          "output_type": "execute_result",
          "data": {
            "text/html": [
              "<div>\n",
              "<style scoped>\n",
              "    .dataframe tbody tr th:only-of-type {\n",
              "        vertical-align: middle;\n",
              "    }\n",
              "\n",
              "    .dataframe tbody tr th {\n",
              "        vertical-align: top;\n",
              "    }\n",
              "\n",
              "    .dataframe thead th {\n",
              "        text-align: right;\n",
              "    }\n",
              "</style>\n",
              "<table border=\"1\" class=\"dataframe\">\n",
              "  <thead>\n",
              "    <tr style=\"text-align: right;\">\n",
              "      <th></th>\n",
              "      <th>Item_Number</th>\n",
              "      <th>Main_Category</th>\n",
              "      <th>Sub_Category</th>\n",
              "      <th>Product_Name</th>\n",
              "      <th>Main_Ingredient</th>\n",
              "      <th>Reviews_Count</th>\n",
              "      <th>Ratings_out_of_5</th>\n",
              "      <th>Sizes_Available</th>\n",
              "      <th>Sizes</th>\n",
              "      <th>Prices</th>\n",
              "      <th>Short_Description</th>\n",
              "      <th>Long_Description</th>\n",
              "      <th>kluster</th>\n",
              "    </tr>\n",
              "  </thead>\n",
              "  <tbody>\n",
              "    <tr>\n",
              "      <th>0</th>\n",
              "      <td>ITEM 30100</td>\n",
              "      <td>Collection</td>\n",
              "      <td>Tea Tree Oil For Skin</td>\n",
              "      <td>Tea Tree Skin Clearing Facial Wash</td>\n",
              "      <td>Tea Tree</td>\n",
              "      <td>1324</td>\n",
              "      <td>4.76</td>\n",
              "      <td>3</td>\n",
              "      <td>['2 FL OZ', '8.4 FL OZ', '13.5 FL OZ']</td>\n",
              "      <td>['$4.50', '$10.50', '$13.50']</td>\n",
              "      <td>Our Tea Tree Skin Clearing Facial Wash,  infus...</td>\n",
              "      <td>['100% vegan ', 'Enriched with Community Trade...</td>\n",
              "      <td>3</td>\n",
              "    </tr>\n",
              "    <tr>\n",
              "      <th>1</th>\n",
              "      <td>ITEM 96119</td>\n",
              "      <td>Makeup</td>\n",
              "      <td>Makeup Remover</td>\n",
              "      <td>Chamomile Gentle Eye Makeup Remover</td>\n",
              "      <td>Chamomile</td>\n",
              "      <td>423</td>\n",
              "      <td>4.29</td>\n",
              "      <td>2</td>\n",
              "      <td>['8.4 FL OZ', '2 FL OZ']</td>\n",
              "      <td>['$13.50', '$4.50']</td>\n",
              "      <td>Melt away eye make-up around the eyes. Our Cha...</td>\n",
              "      <td>['Suitable for sensitive skin and contact lens...</td>\n",
              "      <td>7</td>\n",
              "    </tr>\n",
              "    <tr>\n",
              "      <th>2</th>\n",
              "      <td>ITEM 96145</td>\n",
              "      <td>Skin Care</td>\n",
              "      <td>Face Cleansers</td>\n",
              "      <td>Chamomile Sumptuous Cleansing Butter</td>\n",
              "      <td>Chamomile</td>\n",
              "      <td>271</td>\n",
              "      <td>4.82</td>\n",
              "      <td>1</td>\n",
              "      <td>['2.7 Ounce']</td>\n",
              "      <td>['$12.00']</td>\n",
              "      <td>Cleanse and nourish your skin with our rich Ch...</td>\n",
              "      <td>['Cleansing Butter', ' Suitable for sensitive ...</td>\n",
              "      <td>2</td>\n",
              "    </tr>\n",
              "    <tr>\n",
              "      <th>3</th>\n",
              "      <td>ITEM 30106</td>\n",
              "      <td>Collection</td>\n",
              "      <td>Tea Tree Oil For Skin</td>\n",
              "      <td>Tea Tree Skin Clearing Mattifying Toner</td>\n",
              "      <td>Tea Tree</td>\n",
              "      <td>606</td>\n",
              "      <td>4.64</td>\n",
              "      <td>3</td>\n",
              "      <td>['2 FL OZ', '8.4 FL OZ', '13.5 FL OZ']</td>\n",
              "      <td>['$4.50', '$10.50', '$13.50']</td>\n",
              "      <td>Our Tea Tree Skin Clearing Mattifying Toner he...</td>\n",
              "      <td>['Refreshing, purifying toner', ' 100% vegan',...</td>\n",
              "      <td>1</td>\n",
              "    </tr>\n",
              "    <tr>\n",
              "      <th>4</th>\n",
              "      <td>ITEM 94351</td>\n",
              "      <td>Collection</td>\n",
              "      <td>Tea Tree Oil For Skin</td>\n",
              "      <td>Tea Tree Squeaky-Clean Exfoliating Face Scrub</td>\n",
              "      <td>Tea Tree</td>\n",
              "      <td>137</td>\n",
              "      <td>4.67</td>\n",
              "      <td>1</td>\n",
              "      <td>['3.3 FL OZ']</td>\n",
              "      <td>['$12.00']</td>\n",
              "      <td>Our Tea Tree Squeaky-Clean Scrub is a gentle d...</td>\n",
              "      <td>['100% vegetarian', 'Enriched with Community T...</td>\n",
              "      <td>4</td>\n",
              "    </tr>\n",
              "    <tr>\n",
              "      <th>...</th>\n",
              "      <td>...</td>\n",
              "      <td>...</td>\n",
              "      <td>...</td>\n",
              "      <td>...</td>\n",
              "      <td>...</td>\n",
              "      <td>...</td>\n",
              "      <td>...</td>\n",
              "      <td>...</td>\n",
              "      <td>...</td>\n",
              "      <td>...</td>\n",
              "      <td>...</td>\n",
              "      <td>...</td>\n",
              "      <td>...</td>\n",
              "    </tr>\n",
              "    <tr>\n",
              "      <th>95</th>\n",
              "      <td>ITEM 96495</td>\n",
              "      <td>Hair</td>\n",
              "      <td>Treatments</td>\n",
              "      <td>Banana Truly Nourishing Hair Mask</td>\n",
              "      <td>Banana</td>\n",
              "      <td>118</td>\n",
              "      <td>4.65</td>\n",
              "      <td>1</td>\n",
              "      <td>['8.12 FL OZ']</td>\n",
              "      <td>['$13.50']</td>\n",
              "      <td>Featuring a delicious blend of Community Trade...</td>\n",
              "      <td>['Weekly ritual for normal hair to dry hair', ...</td>\n",
              "      <td>4</td>\n",
              "    </tr>\n",
              "    <tr>\n",
              "      <th>96</th>\n",
              "      <td>ITEM 94693</td>\n",
              "      <td>Hair</td>\n",
              "      <td>Treatments</td>\n",
              "      <td>Grapeseed Hair Serum</td>\n",
              "      <td>NaN</td>\n",
              "      <td>141</td>\n",
              "      <td>4.70</td>\n",
              "      <td>1</td>\n",
              "      <td>['2.5 FL OZ']</td>\n",
              "      <td>['$9.00']</td>\n",
              "      <td>Smooth your hair and increase the shine with t...</td>\n",
              "      <td>['Hair serum', 'Adds gloss', 'Easily washed ou...</td>\n",
              "      <td>9</td>\n",
              "    </tr>\n",
              "    <tr>\n",
              "      <th>97</th>\n",
              "      <td>ITEM 63189</td>\n",
              "      <td>Hair</td>\n",
              "      <td>Conditioner</td>\n",
              "      <td>Fuji Green Tea™ Refreshingly Hydrating Conditi...</td>\n",
              "      <td>Green Tea</td>\n",
              "      <td>25</td>\n",
              "      <td>4.64</td>\n",
              "      <td>2</td>\n",
              "      <td>['2 FL OZ', '8.5 FL OZ']</td>\n",
              "      <td>['$4.50', '$8.25']</td>\n",
              "      <td>Enriched with revitalizing Japanese green tea,...</td>\n",
              "      <td>['Conditioner for normal hair', ' Perfectly pa...</td>\n",
              "      <td>6</td>\n",
              "    </tr>\n",
              "    <tr>\n",
              "      <th>98</th>\n",
              "      <td>ITEM 96065</td>\n",
              "      <td>Hair</td>\n",
              "      <td>Brushes and Combs</td>\n",
              "      <td>Large Bamboo Hairbrush</td>\n",
              "      <td>NaN</td>\n",
              "      <td>73</td>\n",
              "      <td>4.43</td>\n",
              "      <td>1</td>\n",
              "      <td>['1 Piece']</td>\n",
              "      <td>['$9.00']</td>\n",
              "      <td>Keep your hair smooth and tangle-free with our...</td>\n",
              "      <td>['Paddle hairbrush', 'Bamboo brush', 'Large si...</td>\n",
              "      <td>0</td>\n",
              "    </tr>\n",
              "    <tr>\n",
              "      <th>99</th>\n",
              "      <td>ITEM 96111</td>\n",
              "      <td>Hair</td>\n",
              "      <td>Treatments</td>\n",
              "      <td>Coconut Oil Brilliantly Nourishing Pre-Shampoo...</td>\n",
              "      <td>Coconut</td>\n",
              "      <td>28</td>\n",
              "      <td>4.50</td>\n",
              "      <td>1</td>\n",
              "      <td>['6.7 FL OZ']</td>\n",
              "      <td>['$7.50']</td>\n",
              "      <td>Featuring a blend of Community Trade organic v...</td>\n",
              "      <td>['Nourishing coconut hair oil ', 'Massaged int...</td>\n",
              "      <td>6</td>\n",
              "    </tr>\n",
              "  </tbody>\n",
              "</table>\n",
              "<p>100 rows × 13 columns</p>\n",
              "</div>"
            ],
            "text/plain": [
              "   Item_Number  ... kluster\n",
              "0   ITEM 30100  ...       3\n",
              "1   ITEM 96119  ...       7\n",
              "2   ITEM 96145  ...       2\n",
              "3   ITEM 30106  ...       1\n",
              "4   ITEM 94351  ...       4\n",
              "..         ...  ...     ...\n",
              "95  ITEM 96495  ...       4\n",
              "96  ITEM 94693  ...       9\n",
              "97  ITEM 63189  ...       6\n",
              "98  ITEM 96065  ...       0\n",
              "99  ITEM 96111  ...       6\n",
              "\n",
              "[100 rows x 13 columns]"
            ]
          },
          "metadata": {
            "tags": []
          },
          "execution_count": 95
        }
      ]
    },
    {
      "cell_type": "markdown",
      "metadata": {
        "id": "-PzaqQkgfD5B"
      },
      "source": [
        "**Tahap ke sepuluh** : Hasil kluster dengan pengelompokan menggunakan diagram"
      ]
    },
    {
      "cell_type": "markdown",
      "metadata": {
        "id": "F9lgNcbyf7GR"
      },
      "source": [
        "- **Analisis** : Dilihat dari warna level diagram dengan range 0-4. \r\n",
        "\r\n",
        "Pengelompokan data dibagi menjadi 5 Clustering. Struktur clustering menggunakan metode partitional clustering yaitu data dikelompokkan ke dalam sejumlah cluster tanpa adanya struktur hirarki antara satu dengan yang lainnya."
      ]
    },
    {
      "cell_type": "code",
      "metadata": {
        "colab": {
          "base_uri": "https://localhost:8080/",
          "height": 311
        },
        "id": "cKKRF746fWoi",
        "outputId": "6f2c22e0-1ece-484e-8698-3113aebffae0"
      },
      "source": [
        "output = plt.scatter(x_scaled[:,0], \r\n",
        "x_scaled[:,1], s = 200, c = export_bodyshop.head(10).kluster, marker = \".\", alpha = 1,)\r\n",
        "centers = kmeans.cluster_centers_\r\n",
        "plt.scatter(centers[:,0], centers[:,1], c='red', s=100, alpha=1 , marker=\"s\");\r\n",
        "plt.title(\"Hasil Clustering K-Means\")\r\n",
        "plt.xlabel(\"Clustering X\")\r\n",
        "plt.ylabel(\"Clustering Y\")\r\n",
        "plt.colorbar (output)\r\n",
        "plt.legend()\r\n",
        "plt.show()"
      ],
      "execution_count": null,
      "outputs": [
        {
          "output_type": "stream",
          "text": [
            "No handles with labels found to put in legend.\n"
          ],
          "name": "stderr"
        },
        {
          "output_type": "display_data",
          "data": {
            "image/png": "[encoded data removed]",
            "text/plain": [
              "<Figure size 432x288 with 2 Axes>"
            ]
          },
          "metadata": {
            "tags": [],
            "needs_background": "light"
          }
        }
      ]
    },
    {
      "cell_type": "markdown",
      "metadata": {
        "id": "9wJJO5qHf9TQ"
      },
      "source": [
        "> **ANALISIS PEMODELAN MENENTUKAN HIPOTESIS**\r\n"
      ]
    },
    {
      "cell_type": "markdown",
      "metadata": {
        "id": "8N9_XaHqgTN3"
      },
      "source": [
        "**Dengan menggunakan Metode Pearson**"
      ]
    },
    {
      "cell_type": "code",
      "metadata": {
        "id": "owbbNDXlgHiK"
      },
      "source": [
        "def mean(x):\r\n",
        "        return  sum(x)/len(x)"
      ],
      "execution_count": null,
      "outputs": []
    },
    {
      "cell_type": "code",
      "metadata": {
        "id": "Kf9v3NmWgbC7"
      },
      "source": [
        "def de_mean(data):\r\n",
        "# convert x by subtracting its mean ( so the result has mean 0)\r\n",
        "        x_bar = mean(data)\r\n",
        "        return [x_i - x_bar for x_i in data]"
      ],
      "execution_count": null,
      "outputs": []
    },
    {
      "cell_type": "code",
      "metadata": {
        "id": "Oq7zL_50geGW"
      },
      "source": [
        "def sum_of_square(v):\r\n",
        "        return np.dot(v,v)"
      ],
      "execution_count": null,
      "outputs": []
    },
    {
      "cell_type": "code",
      "metadata": {
        "id": "7mbSl5ZsghHQ"
      },
      "source": [
        "def covariance(x,y):\r\n",
        "        n = len(x)\r\n",
        "        return np.dot(de_mean(x), de_mean(y)) / (n-1)"
      ],
      "execution_count": null,
      "outputs": []
    },
    {
      "cell_type": "code",
      "metadata": {
        "id": "k2JwCr7xgikR"
      },
      "source": [
        "def variance(data):\r\n",
        "        n = len(data)\r\n",
        "        deviations = de_mean(data)\r\n",
        "        return sum_of_square(deviations) / (n-1)"
      ],
      "execution_count": null,
      "outputs": []
    },
    {
      "cell_type": "code",
      "metadata": {
        "id": "UJaYpat2gm0y"
      },
      "source": [
        "def correlation(x,y):\r\n",
        "        stdev_x = np.std(x)\r\n",
        "        stdev_y = np.std(y)\r\n",
        "        if stdev_x > 0 and stdev_y > 0:\r\n",
        "            return covariance(x,y) / stdev_x / stdev_y\r\n",
        "        else:\r\n",
        "            return 0"
      ],
      "execution_count": null,
      "outputs": []
    },
    {
      "cell_type": "code",
      "metadata": {
        "id": "0Oy1CWpmgrj3"
      },
      "source": [
        "ra = export_bodyshop['Ratings_out_of_5']\r\n",
        "re = export_bodyshop['Reviews_Count']\r\n"
      ],
      "execution_count": null,
      "outputs": []
    },
    {
      "cell_type": "code",
      "metadata": {
        "colab": {
          "base_uri": "https://localhost:8080/"
        },
        "id": "qWKYhAQ0hM9h",
        "outputId": "96afb1c3-e5ba-4e60-b67c-2d9fee39dcaa"
      },
      "source": [
        "print('Korelasi antar kolom : ')\r\n",
        "print('Korelasi antara Rating dan Jumlah Review adalah ', correlation(ra, re))\r\n",
        "\r\n",
        "\r\n",
        "print(' ')\r\n",
        "print('Kovarian antar kolom : ')\r\n",
        "print('Kovarian antara Rating dan Jumlah Review adalah ', covariance (ra, re))\r\n"
      ],
      "execution_count": null,
      "outputs": [
        {
          "output_type": "stream",
          "text": [
            "Korelasi antar kolom : \n",
            "Korelasi antara Rating dan Jumlah Review adalah  0.16697971572537712\n",
            " \n",
            "Kovarian antar kolom : \n",
            "Kovarian antara Rating dan Jumlah Review adalah  19.83474959886739\n"
          ],
          "name": "stdout"
        }
      ]
    },
    {
      "cell_type": "code",
      "metadata": {
        "colab": {
          "base_uri": "https://localhost:8080/",
          "height": 347
        },
        "id": "mLatb4soiF2x",
        "outputId": "743c4dce-e91f-4038-a4af-bc8b3afea3dd"
      },
      "source": [
        "plt.scatter(export_bodyshop['Ratings_out_of_5'], export_bodyshop['Reviews_Count'])\r\n",
        "print('Korelasi antar kolom : ')\r\n",
        "print('Korelasi antara Rating dan Jumlah Review adalah ', correlation(ra, re))\r\n",
        "\r\n",
        "print(' ')\r\n",
        "print('Kovarian antar kolom : ')\r\n",
        "print('Kovarian antara Rating dan Jumlah Review adalah ', covariance (ra, re))"
      ],
      "execution_count": null,
      "outputs": [
        {
          "output_type": "stream",
          "text": [
            "Korelasi antar kolom : \n",
            "Korelasi antara Rating dan Jumlah Review adalah  0.16697971572537712\n",
            " \n",
            "Kovarian antar kolom : \n",
            "Kovarian antara Rating dan Jumlah Review adalah  19.83474959886739\n"
          ],
          "name": "stdout"
        },
        {
          "output_type": "display_data",
          "data": {
            "image/png": "[encoded data removed]",
            "text/plain": [
              "<Figure size 432x288 with 1 Axes>"
            ]
          },
          "metadata": {
            "tags": [],
            "needs_background": "light"
          }
        }
      ]
    },
    {
      "cell_type": "markdown",
      "metadata": {
        "id": "RgqFqJ8zgbDX"
      },
      "source": [
        "**Analisis** : Dari permodelan di atas, didapatkan prediksi korelasi antara \r\n",
        "Rating dan Jumlah Tersedia adalah 0,16, dan prediksi kovarian adalah 19,8."
      ]
    },
    {
      "cell_type": "code",
      "metadata": {
        "colab": {
          "base_uri": "https://localhost:8080/",
          "height": 487
        },
        "id": "GgUBYIOtlC4H",
        "outputId": "63d4d66a-acfd-48e3-aa05-8e5f72283674"
      },
      "source": [
        "corr = export_bodyshop.corr()\r\n",
        "\r\n",
        "plt.figure(figsize=(15,8))\r\n",
        "\r\n",
        "sns.heatmap(corr, annot=True, vmin = -1, cmap='coolwarm')\r\n",
        "\r\n",
        "plt.show()"
      ],
      "execution_count": null,
      "outputs": [
        {
          "output_type": "display_data",
          "data": {
            "image/png": "[encoded data removed]",
            "text/plain": [
              "<Figure size 1080x576 with 2 Axes>"
            ]
          },
          "metadata": {
            "tags": [],
            "needs_background": "light"
          }
        }
      ]
    },
    {
      "cell_type": "markdown",
      "metadata": {
        "id": "Zt8kMZZ3ldau"
      },
      "source": [
        "Analisis : Pada Heatmap korelasi disini didapatkan korelasi antara Rating dan Reviews Count\r\n",
        "\r\n",
        "- Rating dan Reviews Count senilai 0,17 (menggambarkan warna korelasi berada di tengah-tengah)\r\n"
      ]
    },
    {
      "cell_type": "markdown",
      "metadata": {
        "id": "bRxKRdm2mZOF"
      },
      "source": [
        "# **TAHAP-TAHAP EVALUASI DATA**\r\n"
      ]
    },
    {
      "cell_type": "markdown",
      "metadata": {
        "id": "4CMfw1ssmda4"
      },
      "source": [
        "**Tahap pertama** : Import library yang digunakan untuk evaluasi data.\r\n"
      ]
    },
    {
      "cell_type": "code",
      "metadata": {
        "id": "q4h30C8umfpa"
      },
      "source": [
        "from sklearn.datasets import make_classification\r\n",
        "from matplotlib import pyplot as plt\r\n",
        "from sklearn.linear_model import LogisticRegression\r\n",
        "from sklearn.model_selection import train_test_split\r\n",
        "from sklearn.metrics import confusion_matrix\r\n",
        "import seaborn as sns\r\n",
        "import pandas as pd\r\n",
        "\r\n",
        "sns.set()"
      ],
      "execution_count": null,
      "outputs": []
    },
    {
      "cell_type": "markdown",
      "metadata": {
        "id": "GJBa7BMEmk_q"
      },
      "source": [
        "**Tahap kedua** : Inisialisasi klasifikasi dari grafik x dan y"
      ]
    },
    {
      "cell_type": "code",
      "metadata": {
        "id": "jwRoHOyGmoLD"
      },
      "source": [
        "x, y = make_classification(\r\n",
        "    n_samples=100,\r\n",
        "    n_features=1,\r\n",
        "    n_classes=2,\r\n",
        "    n_clusters_per_class=1,\r\n",
        "    flip_y=0.03,\r\n",
        "    n_informative=1,\r\n",
        "    n_redundant=0,\r\n",
        "    n_repeated=0\r\n",
        ")"
      ],
      "execution_count": null,
      "outputs": []
    },
    {
      "cell_type": "markdown",
      "metadata": {
        "id": "RNEmbez3m1vv"
      },
      "source": [
        "**Tahap ketiga** : Menampilkan plot hubungan antara fungsi dan kelas yang ada dengan klasifikasi yang sudah dibentuk pada grafik x dan y."
      ]
    },
    {
      "cell_type": "code",
      "metadata": {
        "colab": {
          "base_uri": "https://localhost:8080/",
          "height": 284
        },
        "id": "HflT7Qcgm4uf",
        "outputId": "34231978-72c3-4bcf-f3da-6e59c7025533"
      },
      "source": [
        "plt.scatter(x, y, c=y, cmap='rainbow')"
      ],
      "execution_count": null,
      "outputs": [
        {
          "output_type": "execute_result",
          "data": {
            "text/plain": [
              "<matplotlib.collections.PathCollection at 0x7f6ee7e06ac8>"
            ]
          },
          "metadata": {
            "tags": []
          },
          "execution_count": 130
        },
        {
          "output_type": "display_data",
          "data": {
            "image/png": "[encoded data removed]",
            "text/plain": [
              "<Figure size 432x288 with 1 Axes>"
            ]
          },
          "metadata": {
            "tags": []
          }
        }
      ]
    },
    {
      "cell_type": "markdown",
      "metadata": {
        "id": "nY0TUp9gnCav"
      },
      "source": [
        "- **Analisis** : Scatter plot digunakan untuk pemetaan dari grafik x dan y dengan dibagi 2 warna bagian. Pemetaan ini digunakan untuk melihat persebaran data yang ada."
      ]
    },
    {
      "cell_type": "markdown",
      "metadata": {
        "id": "P8_4SrLQnGY7"
      },
      "source": [
        "**Tahap keempat** : Inisialisasi untuk evaluasi subset"
      ]
    },
    {
      "cell_type": "code",
      "metadata": {
        "id": "RpMOhPnSnGCl"
      },
      "source": [
        "x_train, x_test, y_train, y_test = train_test_split(x, y, random_state=1)"
      ],
      "execution_count": null,
      "outputs": []
    },
    {
      "cell_type": "markdown",
      "metadata": {
        "id": "yf3AdKJXnO1_"
      },
      "source": [
        "**Tahap kelima** : Membuat model mempelajari hubungan antara digit (x_train) dan label (y_train)"
      ]
    },
    {
      "cell_type": "code",
      "metadata": {
        "colab": {
          "base_uri": "https://localhost:8080/"
        },
        "id": "g4P4aTBQnTOP",
        "outputId": "2f09fee1-c212-4994-dc39-1e773cd21078"
      },
      "source": [
        "lr = LogisticRegression()\r\n",
        "lr.fit(x_train, y_train)"
      ],
      "execution_count": null,
      "outputs": [
        {
          "output_type": "execute_result",
          "data": {
            "text/plain": [
              "LogisticRegression(C=1.0, class_weight=None, dual=False, fit_intercept=True,\n",
              "                   intercept_scaling=1, l1_ratio=None, max_iter=100,\n",
              "                   multi_class='auto', n_jobs=None, penalty='l2',\n",
              "                   random_state=None, solver='lbfgs', tol=0.0001, verbose=0,\n",
              "                   warm_start=False)"
            ]
          },
          "metadata": {
            "tags": []
          },
          "execution_count": 133
        }
      ]
    },
    {
      "cell_type": "markdown",
      "metadata": {
        "id": "Ibf7mbjunZwP"
      },
      "source": [
        "**Tahap keenam** : Menampilkan evaluasi dengan melihat koefisien kemiringan dan perpotongan y dari garis yang paling cocok"
      ]
    },
    {
      "cell_type": "code",
      "metadata": {
        "colab": {
          "base_uri": "https://localhost:8080/"
        },
        "id": "TV7d-B8TnbqF",
        "outputId": "d7a71939-9a51-422f-94ce-e88de1e6fa0f"
      },
      "source": [
        "print(lr.coef_)\r\n",
        "print(lr.intercept_)"
      ],
      "execution_count": null,
      "outputs": [
        {
          "output_type": "stream",
          "text": [
            "[[2.73777267]]\n",
            "[0.67839656]\n"
          ],
          "name": "stdout"
        }
      ]
    },
    {
      "cell_type": "markdown",
      "metadata": {
        "id": "5xXRsBWTnxVc"
      },
      "source": [
        "Analisis : Evaluasi dengan menggunakan model Regresi dilihat dari koefisien kemiringan bernilai 2.25464169 dan perpotongan garis y adalah -0.00150097"
      ]
    },
    {
      "cell_type": "markdown",
      "metadata": {
        "id": "Jg2Ga4wDn0D0"
      },
      "source": [
        "> **EVALUASI HIPOTESIS DARI PEMODELAN** "
      ]
    },
    {
      "cell_type": "markdown",
      "metadata": {
        "id": "ke6BMWjxn8ud"
      },
      "source": [
        "Hipotesis dari pemodelan yang sudah dilakukan mendapatkan nilai korelasi yang baik adalah 0,7. \r\n",
        "\r\n",
        "- Jika P-Value sama dengan 0 atau lebih dari 0 maka hipotesis diterima dan korelasi kuat\r\n",
        "- Jika P-Value kurang dari 0 maka hipotesis ditolak."
      ]
    },
    {
      "cell_type": "code",
      "metadata": {
        "id": "q5-m86OQnypV"
      },
      "source": [
        "class HypothesisTest(object):\r\n",
        "    \r\n",
        "    def __init__(self, data):\r\n",
        "        self.data = data\r\n",
        "        self.MakeModel()\r\n",
        "        self.actual = self.TestStatistic(data)\r\n",
        "        \r\n",
        "    def PValue(self, iters = 1000):\r\n",
        "        self.test_stats = [self.TestStatistic(self.RunModel()) for _ in range(iters)]\r\n",
        "        count = sum(1 for x in self.test_stats if x >= self.actual)\r\n",
        "        return count / iters\r\n",
        "    \r\n",
        "    def TestStatistic(self, data):\r\n",
        "        raise UnimplementedMethodException()\r\n",
        "        \r\n",
        "    def MakeModel(self):\r\n",
        "        pass\r\n",
        "    \r\n",
        "    def RunModel(self):\r\n",
        "        raise UnimplementedMethodException()"
      ],
      "execution_count": null,
      "outputs": []
    },
    {
      "cell_type": "code",
      "metadata": {
        "id": "YhTvIIfwoMN1"
      },
      "source": [
        "class CorrPermute(HypothesisTest):\r\n",
        "    \r\n",
        "    def TestStatistic(self, data):\r\n",
        "        xs, ys = data\r\n",
        "        test_stat = abs(correlation(xs, ys))\r\n",
        "        return test_stat\r\n",
        "    \r\n",
        "    def RunModel(self):\r\n",
        "        xs, ys = self.data\r\n",
        "        xs = np.random.permutation(xs)\r\n",
        "        return xs, ys\r\n",
        "    \r\n",
        "def correlation(x, y):\r\n",
        "    std_x = np.std(x)\r\n",
        "    std_y = np.std(y)\r\n",
        "    if std_x and std_y > 0:\r\n",
        "        return covariance(x, y) / std_x / std_y\r\n",
        "    else:\r\n",
        "        return 0\r\n",
        "    \r\n",
        "def de_mean(x):\r\n",
        "    x_bar = np.mean(x)\r\n",
        "    return [x_i - x_bar for x_i in x]\r\n",
        "\r\n",
        "def covariance(x, y):\r\n",
        "    n = len(x)\r\n",
        "    return np.dot(de_mean(x), de_mean(y)) / (n - 1)"
      ],
      "execution_count": null,
      "outputs": []
    },
    {
      "cell_type": "code",
      "metadata": {
        "colab": {
          "base_uri": "https://localhost:8080/"
        },
        "id": "Bunflsd8oOtV",
        "outputId": "0e284707-56bc-4389-b6ea-33e28dc0b0ad"
      },
      "source": [
        "cp = CorrPermute((ra, re))\r\n",
        "pvalue = cp.PValue()\r\n",
        "\r\n",
        "print('Hipotesis akhir p-value: ', pvalue)"
      ],
      "execution_count": null,
      "outputs": [
        {
          "output_type": "stream",
          "text": [
            "Hipotesis akhir p-value:  0.007\n"
          ],
          "name": "stdout"
        }
      ]
    },
    {
      "cell_type": "markdown",
      "metadata": {
        "id": "58gdlM3xoTvv"
      },
      "source": [
        "**Analisis** :\r\n",
        "\r\n",
        "Nilai P-Value pada hipotesis akhir di atas adalah 0.\r\n",
        "Hipotesis akhir adalah salah dan korelasi kuat yaitu 0,7 antara Quantity dan Total yang tidak terjadi secara kebetulan. \r\n",
        "\r\n",
        "- Disimpulkan bahwa korelasi yang terjadi adalah signifikan secara statistik."
      ]
    },
    {
      "cell_type": "markdown",
      "metadata": {
        "id": "aF4EOEOVoy3K"
      },
      "source": [
        "> **MEMPREDIKSI ANTARA QUANTITY DAN TOTAL MENGGUNAKAN LINEAR LEAST SQUARE**"
      ]
    },
    {
      "cell_type": "code",
      "metadata": {
        "id": "Sj5eT4wFo1Gv"
      },
      "source": [
        "def LeastSquares(xs, ys):\r\n",
        "    meanx, varx = np.mean(xs), np.var(xs)\r\n",
        "    meany = np.mean(ys)\r\n",
        "    \r\n",
        "    slope = covariance(xs, ys) / varx\r\n",
        "    inter = meany - slope * meanx\r\n",
        "    \r\n",
        "    return inter, slope\r\n",
        "\r\n",
        "def FitLine(xs, inter, slope):\r\n",
        "    fit_xs = np.sort(xs)\r\n",
        "    fit_ys = inter + slope * fit_xs\r\n",
        "    \r\n",
        "    return fit_xs, fit_ys"
      ],
      "execution_count": null,
      "outputs": []
    },
    {
      "cell_type": "code",
      "metadata": {
        "colab": {
          "base_uri": "https://localhost:8080/"
        },
        "id": "uDD3k61Jo4vu",
        "outputId": "d59c0c3d-afe9-4e7b-9ade-3421c89dc4b1"
      },
      "source": [
        "inter, slope = LeastSquares(ra, re)\r\n",
        "fit_xs, fit_ys = FitLine(re, inter, slope)\r\n",
        "\r\n",
        "print('intercept is: {} and slope is: {}'.format(inter, slope))"
      ],
      "execution_count": null,
      "outputs": [
        {
          "output_type": "stream",
          "text": [
            "intercept is: -59.13395849137122 and slope is: 35.2711180897323\n"
          ],
          "name": "stdout"
        }
      ]
    },
    {
      "cell_type": "markdown",
      "metadata": {
        "id": "3F6uFTsfo-CS"
      },
      "source": [
        "**Analisis** : Pada hasil linear least square untuk intersepsi adalah -4,32 dan \r\n",
        "slope adalah 59,4"
      ]
    },
    {
      "cell_type": "markdown",
      "metadata": {
        "id": "2DCaxCe8pBoH"
      },
      "source": [
        "> **RESIDUAL**"
      ]
    },
    {
      "cell_type": "code",
      "metadata": {
        "id": "eZuPDCLJpDGv"
      },
      "source": [
        "def Residuals(xs, ys, inter, slope):\r\n",
        "    xs = np.asarray(xs)\r\n",
        "    ys = np.asarray(ys)\r\n",
        "    res = ys - (inter + slope * xs)\r\n",
        "    return res"
      ],
      "execution_count": null,
      "outputs": []
    },
    {
      "cell_type": "code",
      "metadata": {
        "id": "YmhT6ahgpG_I"
      },
      "source": [
        "res = Residuals(ra, re, inter, slope)\r\n",
        "\r\n",
        "export_bodyshop['residuals'] = res"
      ],
      "execution_count": null,
      "outputs": []
    },
    {
      "cell_type": "code",
      "metadata": {
        "colab": {
          "base_uri": "https://localhost:8080/"
        },
        "id": "3-Y9fa4SpwNL",
        "outputId": "629a58a2-1378-4511-80b9-17dfb0cdb871"
      },
      "source": [
        "print('Prediksi RMSE adalah :  ', np.std(res))"
      ],
      "execution_count": null,
      "outputs": [
        {
          "output_type": "stream",
          "text": [
            "Prediksi RMSE adalah :   158.4013251960319\n"
          ],
          "name": "stdout"
        }
      ]
    },
    {
      "cell_type": "markdown",
      "metadata": {
        "id": "S-4KYFIdpzm9"
      },
      "source": [
        "**Analisis** : Prediksi RSME adalah 174,17"
      ]
    },
    {
      "cell_type": "markdown",
      "metadata": {
        "id": "V1rGIFQyp31X"
      },
      "source": [
        "> **KOEFISIEN DETERMINASI**"
      ]
    },
    {
      "cell_type": "code",
      "metadata": {
        "id": "9ijUvy7wp49-"
      },
      "source": [
        "r_squared = 1 - (np.var(res) / np.var(tot))\r\n",
        "\r\n",
        "print('Koefisien determinasi didapatkan adalah: ', r_squared)"
      ],
      "execution_count": null,
      "outputs": []
    },
    {
      "cell_type": "markdown",
      "metadata": {
        "id": "AJaw1o8Bp9P3"
      },
      "source": [
        "**Analisis** : koefisien determinasi yang didapatkan adalah 0,498."
      ]
    },
    {
      "cell_type": "markdown",
      "metadata": {
        "id": "j_Qp7IJuqCYB"
      },
      "source": [
        "> **VISUALISASI PLOT DARI EVALUASI YANG SUDAH DILAKUKAN**"
      ]
    },
    {
      "cell_type": "code",
      "metadata": {
        "colab": {
          "base_uri": "https://localhost:8080/",
          "height": 518
        },
        "id": "tflDMaZSqE1r",
        "outputId": "98338611-b0ae-431d-b8a3-7970cab2386f"
      },
      "source": [
        "plt.figure(figsize = (15, 8))\r\n",
        "\r\n",
        "plt.xlabel('Rating')\r\n",
        "plt.ylabel('Reviews_Count')\r\n",
        "\r\n",
        "plt.plot(fit_xs, fit_ys, color = 'black')\r\n",
        "plt.scatter(ra, re, color = 'blue')"
      ],
      "execution_count": null,
      "outputs": [
        {
          "output_type": "execute_result",
          "data": {
            "text/plain": [
              "<matplotlib.collections.PathCollection at 0x7f6eeb7935f8>"
            ]
          },
          "metadata": {
            "tags": []
          },
          "execution_count": 155
        },
        {
          "output_type": "display_data",
          "data": {
            "image/png": "[encoded data removed]",
            "text/plain": [
              "<Figure size 1080x576 with 1 Axes>"
            ]
          },
          "metadata": {
            "tags": []
          }
        }
      ]
    },
    {
      "cell_type": "markdown",
      "metadata": {
        "id": "UOmdadm4q_aT"
      },
      "source": [
        "**Analisis** : hasil visualisasi yang didapatkan antara Rating dan Reviews Count pada pemodelan yang sudah dilakukan sama dengan data visualisasi ini."
      ]
    }
  ]
}