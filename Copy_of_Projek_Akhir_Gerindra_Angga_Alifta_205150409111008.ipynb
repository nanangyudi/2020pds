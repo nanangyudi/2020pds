{
  "nbformat": 4,
  "nbformat_minor": 0,
  "metadata": {
    "colab": {
      "name": "Copy of Projek_Akhir_Gerindra_Angga_Alifta_205150409111008.ipynb",
      "provenance": [],
      "collapsed_sections": [],
      "include_colab_link": true
    },
    "kernelspec": {
      "name": "python3",
      "display_name": "Python 3"
    }
  },
  "cells": [
    {
      "cell_type": "markdown",
      "metadata": {
        "id": "view-in-github",
        "colab_type": "text"
      },
      "source": [
        "<a href=\"https://colab.research.google.com/github/nanangyudi/2020pds_d/blob/main/Copy_of_Projek_Akhir_Gerindra_Angga_Alifta_205150409111008.ipynb\" target=\"_parent\"><img src=\"https://colab.research.google.com/assets/colab-badge.svg\" alt=\"Open In Colab\"/></a>"
      ]
    },
    {
      "cell_type": "code",
      "metadata": {
        "id": "789oLu8UGz0F"
      },
      "source": [
        "import pandas as pd\r\n",
        "url = 'https://raw.githubusercontent.com/Gerindraanggaalifta98/projekakhir/main/cars_validate_new.csv'"
      ],
      "execution_count": null,
      "outputs": []
    },
    {
      "cell_type": "code",
      "metadata": {
        "id": "ixPX_MjxIm5h"
      },
      "source": [
        "from sklearn.datasets import make_classification\r\n",
        "from matplotlib import pyplot as plt\r\n",
        "from sklearn.linear_model import LogisticRegression\r\n",
        "import seaborn as sns\r\n",
        "sns.set()\r\n",
        "from sklearn.model_selection import train_test_split\r\n",
        "from sklearn.metrics import confusion_matrix\r\n",
        "import pandas as pd"
      ],
      "execution_count": null,
      "outputs": []
    },
    {
      "cell_type": "markdown",
      "metadata": {
        "id": "4BOZj2gHJhak"
      },
      "source": [
        "**Deskripsi Tujuan Bisnis Harga Mobil Bekas**\r\n",
        "\r\n",
        "untuk mengelola data dari setiap mobil bekas. Dengan mengelola data maka orang-orang dapat mempelajari data mobil sehingga akan membantu dalam membuat keputusan yang berhubungan. Dengan memberikan prediksi data, maka keputusan yang dibuat oleh calon pembeli akan lebih akurat.\r\n",
        "\r\n",
        "**Kebutuhan Organisasi**\r\n",
        "\r\n",
        "Kebutuhan organisasi melalui analisa data saintis ini adalah:\r\n",
        "\r\n",
        "Menghitung jumlah produksi mobil bekas pada kurun waktu tertentu\r\n",
        "Mengetahui total produksi mobil bekas dengan kategori tertentu\r\n",
        "Mengetahui jumlah rating dengan total produksi mobil bekas yang terbanyak\r\n",
        "\r\n",
        "**Analisa pendekatan yang dilakukan :**\r\n",
        "\r\n",
        "EDA (Exploratory Data Analysis) Teknik EDA merupakan metode eksplorasi data dengan menggunakan teknik aritmatika sederhana dan teknik grafis dalam meringkas data pengamatan Langkah-langkah yang digunakan yaitu: 1 Mencari permasalahan 2 Pengumpulan data 3 Melakukan analisis 4 Membuat pemodelan 5 Kesimpulan\r\n",
        "\r\n",
        "**Pengumpulan data :**\r\n",
        "\r\n",
        "data yang didapatkan bersumber dari AtapData.ai\r\n",
        "\r\n",
        "**Pemahaman terhadap data yang telah dikumpulkan :**\r\n",
        "\r\n",
        "Berdasarkan tabel data yang didapatkan, tabel tersebut menggambarkan title, band, model, variant, fuelType, dan lain sebagainya\r\n",
        "\r\n",
        "**Persiapan data (eksplorasi data) :**\r\n",
        "\r\n",
        "Import data menggunakan library Pandas\r\n",
        "Membuat histogram menggunakan library matplotlib dan pandas\r\n",
        "Membuat scatterplot menggunakan library dan pandas\r\n",
        "Membuat boxplot menggunakan library seaborn\r\n",
        "Menghitung frekuensi menggunakan library pandas\r\n",
        "Membuat mapping menggunakan library matplotlib, pandas, dan seaborn\r\n",
        "\r\n",
        "**Pemodelan data :**\r\n",
        "\r\n",
        "Menggunakan metode univariate data, dengan memuat tabel data\r\n",
        "Membuat plots, yang terdiri dari Histogram, Scatter Plot, dan Box Plot\r\n",
        "Membuat mapping\r\n",
        "\r\n",
        "**Evaluasi model :**\r\n",
        "- pada data yang telah dianalisis terdapat diagram histogram yang tidak normal. data tersebut adalah jumlah band mobil bekas.\r\n",
        "- pada model mobil review tertinggi/max mode diketahui dengan band mobil hyundai i10. Sedangkan mobil review terendah pada peugeot 107.\r\n",
        "- Berdasarkan dimensi data adalah 5585 baris, dan 15 kolom\r\n",
        "\r\n"
      ]
    },
    {
      "cell_type": "code",
      "metadata": {
        "id": "YGHI_EOhOX5S"
      },
      "source": [
        ""
      ],
      "execution_count": null,
      "outputs": []
    },
    {
      "cell_type": "markdown",
      "metadata": {
        "id": "xjevgNSQOZrN"
      },
      "source": [
        "**Memuat Tabel Data**"
      ]
    },
    {
      "cell_type": "code",
      "metadata": {
        "colab": {
          "base_uri": "https://localhost:8080/",
          "height": 564
        },
        "id": "wbxYP2G7OfFU",
        "outputId": "9a98c706-571d-492e-8793-c4d55107719d"
      },
      "source": [
        "import pandas as pd\r\n",
        "dt = pd.read_csv(url, error_bad_lines=False)\r\n",
        "dt.head()"
      ],
      "execution_count": null,
      "outputs": [
        {
          "output_type": "execute_result",
          "data": {
            "text/html": [
              "<div>\n",
              "<style scoped>\n",
              "    .dataframe tbody tr th:only-of-type {\n",
              "        vertical-align: middle;\n",
              "    }\n",
              "\n",
              "    .dataframe tbody tr th {\n",
              "        vertical-align: top;\n",
              "    }\n",
              "\n",
              "    .dataframe thead th {\n",
              "        text-align: right;\n",
              "    }\n",
              "</style>\n",
              "<table border=\"1\" class=\"dataframe\">\n",
              "  <thead>\n",
              "    <tr style=\"text-align: right;\">\n",
              "      <th></th>\n",
              "      <th>id</th>\n",
              "      <th>title</th>\n",
              "      <th>band</th>\n",
              "      <th>model</th>\n",
              "      <th>variant</th>\n",
              "      <th>fuelType</th>\n",
              "      <th>bodytype</th>\n",
              "      <th>tramsmission</th>\n",
              "      <th>seating</th>\n",
              "      <th>year</th>\n",
              "      <th>milage</th>\n",
              "      <th>color</th>\n",
              "      <th>image</th>\n",
              "      <th>place</th>\n",
              "      <th>price</th>\n",
              "    </tr>\n",
              "  </thead>\n",
              "  <tbody>\n",
              "    <tr>\n",
              "      <th>0</th>\n",
              "      <td>41256</td>\n",
              "      <td>2012 Toyota Avanza 1.3 G MPV</td>\n",
              "      <td>Toyota</td>\n",
              "      <td>Avanza</td>\n",
              "      <td>G</td>\n",
              "      <td>Pertamax</td>\n",
              "      <td>MPV</td>\n",
              "      <td>Automatic</td>\n",
              "      <td>7</td>\n",
              "      <td>2012</td>\n",
              "      <td>62500</td>\n",
              "      <td>Hitam</td>\n",
              "      <td>https://img1.icarcdn.com/8419806/thumb-l_used-...</td>\n",
              "      <td>Jakarta Selatan</td>\n",
              "      <td>112000000</td>\n",
              "    </tr>\n",
              "    <tr>\n",
              "      <th>1</th>\n",
              "      <td>5637</td>\n",
              "      <td>2014 Honda Mobilio 1.5 E Prestige MPV</td>\n",
              "      <td>Honda</td>\n",
              "      <td>Mobilio</td>\n",
              "      <td>E Prestige</td>\n",
              "      <td>Pertamax</td>\n",
              "      <td>MPV</td>\n",
              "      <td>Automatic</td>\n",
              "      <td>7</td>\n",
              "      <td>2014</td>\n",
              "      <td>70000</td>\n",
              "      <td>Putih</td>\n",
              "      <td>https://img5.icarcdn.com/0798656/thumb-l_used-...</td>\n",
              "      <td>Makasar</td>\n",
              "      <td>135000000</td>\n",
              "    </tr>\n",
              "    <tr>\n",
              "      <th>2</th>\n",
              "      <td>61059</td>\n",
              "      <td>2014 Ford EcoSport 1.5 Titanium SUV</td>\n",
              "      <td>Ford</td>\n",
              "      <td>EcoSport</td>\n",
              "      <td>Titanium</td>\n",
              "      <td>Pertamax</td>\n",
              "      <td>SUV</td>\n",
              "      <td>Automatic</td>\n",
              "      <td>5</td>\n",
              "      <td>2014</td>\n",
              "      <td>108000</td>\n",
              "      <td>Silver</td>\n",
              "      <td>https://img4.icarcdn.com/3308465/thumb-l_used-...</td>\n",
              "      <td>Bekasi</td>\n",
              "      <td>133000000</td>\n",
              "    </tr>\n",
              "    <tr>\n",
              "      <th>3</th>\n",
              "      <td>75984</td>\n",
              "      <td>2007 Toyota Kijang Innova 2.0 E MPV</td>\n",
              "      <td>Toyota</td>\n",
              "      <td>Kijang Innova</td>\n",
              "      <td>E</td>\n",
              "      <td>Pertamax</td>\n",
              "      <td>MPV</td>\n",
              "      <td>Manual</td>\n",
              "      <td>8</td>\n",
              "      <td>2007</td>\n",
              "      <td>46000</td>\n",
              "      <td>Hitam</td>\n",
              "      <td>https://img1.icarcdn.com/9066856/thumb-l_used-...</td>\n",
              "      <td>Jakarta Barat</td>\n",
              "      <td>98000000</td>\n",
              "    </tr>\n",
              "    <tr>\n",
              "      <th>4</th>\n",
              "      <td>35687</td>\n",
              "      <td>2017 Daihatsu Ayla 1.0 X Hatchback</td>\n",
              "      <td>Daihatsu</td>\n",
              "      <td>Ayla</td>\n",
              "      <td>X</td>\n",
              "      <td>Pertamax</td>\n",
              "      <td>Hatchback</td>\n",
              "      <td>Manual</td>\n",
              "      <td>5</td>\n",
              "      <td>2017</td>\n",
              "      <td>45000</td>\n",
              "      <td>Merah</td>\n",
              "      <td>https://img1.icarcdn.com/5359506/thumb-l_used-...</td>\n",
              "      <td>Surabaya</td>\n",
              "      <td>110000000</td>\n",
              "    </tr>\n",
              "  </tbody>\n",
              "</table>\n",
              "</div>"
            ],
            "text/plain": [
              "      id                                  title  ...            place      price\n",
              "0  41256           2012 Toyota Avanza 1.3 G MPV  ...  Jakarta Selatan  112000000\n",
              "1   5637  2014 Honda Mobilio 1.5 E Prestige MPV  ...          Makasar  135000000\n",
              "2  61059    2014 Ford EcoSport 1.5 Titanium SUV  ...           Bekasi  133000000\n",
              "3  75984    2007 Toyota Kijang Innova 2.0 E MPV  ...    Jakarta Barat   98000000\n",
              "4  35687     2017 Daihatsu Ayla 1.0 X Hatchback  ...         Surabaya  110000000\n",
              "\n",
              "[5 rows x 15 columns]"
            ]
          },
          "metadata": {
            "tags": []
          },
          "execution_count": 3
        }
      ]
    },
    {
      "cell_type": "code",
      "metadata": {
        "id": "NBPKX-j1OpH4"
      },
      "source": [
        ""
      ],
      "execution_count": null,
      "outputs": []
    },
    {
      "cell_type": "markdown",
      "metadata": {
        "id": "LsPAZPw_Oy-b"
      },
      "source": [
        "**Membuat Histogram**"
      ]
    },
    {
      "cell_type": "code",
      "metadata": {
        "colab": {
          "base_uri": "https://localhost:8080/",
          "height": 301
        },
        "id": "M84khCIWO1s1",
        "outputId": "63d69467-22c3-4e4f-ef5e-b179653ffcc4"
      },
      "source": [
        "import matplotlib.pyplot as plt\r\n",
        "import pandas as pd\r\n",
        "dt = pd.read_csv(url, error_bad_lines=False)\r\n",
        "\r\n",
        "#Plots in matplotlib reside within a figure\r\n",
        "\r\n",
        "fig=plt.figure()\r\n",
        "\r\n",
        "\r\n",
        "ax = fig.add_subplot(1,1,1)\r\n",
        "\r\n",
        "#Variable\r\n",
        "ax.hist(dt['band'],bins = 5)\r\n",
        "#Labels and Title\r\n",
        "plt.title('band distribution')\r\n",
        "plt.xlabel('band')\r\n",
        "plt.ylabel('Jumlah kategori band mobil')\r\n",
        "plt.show()"
      ],
      "execution_count": null,
      "outputs": [
        {
          "output_type": "display_data",
          "data": {
            "image/png": "[encoded data removed]",
            "text/plain": [
              "<Figure size 432x288 with 1 Axes>"
            ]
          },
          "metadata": {
            "tags": []
          }
        }
      ]
    },
    {
      "cell_type": "code",
      "metadata": {
        "id": "sHZNDecDPIuY"
      },
      "source": [
        ""
      ],
      "execution_count": null,
      "outputs": []
    },
    {
      "cell_type": "markdown",
      "metadata": {
        "id": "deybSh_4POjV"
      },
      "source": [
        "**Membuat Scatter Plot**"
      ]
    },
    {
      "cell_type": "code",
      "metadata": {
        "colab": {
          "base_uri": "https://localhost:8080/",
          "height": 301
        },
        "id": "98JAqM8gPcQq",
        "outputId": "f413a2c7-2588-480d-837f-3c2182d09841"
      },
      "source": [
        "#Plots in matplotlib reside within a figureobject, use plt.figure to create new figure\r\n",
        "fig=plt.figure()\r\n",
        "\r\n",
        "#Create one or more subplots usingadd_subplot, because you can'tcreate blank figure\r\n",
        "ax = fig.add_subplot(1,1,1)\r\n",
        "\r\n",
        "#Variable\r\n",
        "ax.scatter(dt['title'],dt['band'])\r\n",
        "\r\n",
        "#Labels and Title\r\n",
        "plt.title('Distribusi Nilai title dan band Produk')\r\n",
        "plt.xlabel('title')\r\n",
        "plt.ylabel('band')\r\n",
        "plt.show()"
      ],
      "execution_count": null,
      "outputs": [
        {
          "output_type": "display_data",
          "data": {
            "image/png": "[encoded data removed]",
            "text/plain": [
              "<Figure size 432x288 with 1 Axes>"
            ]
          },
          "metadata": {
            "tags": []
          }
        }
      ]
    },
    {
      "cell_type": "code",
      "metadata": {
        "id": "nnLqNGbOPrWh"
      },
      "source": [
        ""
      ],
      "execution_count": null,
      "outputs": []
    },
    {
      "cell_type": "markdown",
      "metadata": {
        "id": "pg83EchUQWFL"
      },
      "source": [
        "**Membuat Box Plot**"
      ]
    },
    {
      "cell_type": "code",
      "metadata": {
        "colab": {
          "base_uri": "https://localhost:8080/",
          "height": 339
        },
        "id": "ONnBdL0rQgV_",
        "outputId": "133c1d8f-338c-4142-9b49-12e9da55f621"
      },
      "source": [
        "import seaborn as sns\r\n",
        "sns.boxplot(dt['milage'])\r\n",
        "sns.despine()"
      ],
      "execution_count": null,
      "outputs": [
        {
          "output_type": "stream",
          "text": [
            "/usr/local/lib/python3.6/dist-packages/seaborn/_decorators.py:43: FutureWarning: Pass the following variable as a keyword arg: x. From version 0.12, the only valid positional argument will be `data`, and passing other arguments without an explicit keyword will result in an error or misinterpretation.\n",
            "  FutureWarning\n"
          ],
          "name": "stderr"
        },
        {
          "output_type": "display_data",
          "data": {
            "image/png": "[encoded data removed]",
            "text/plain": [
              "<Figure size 432x288 with 1 Axes>"
            ]
          },
          "metadata": {
            "tags": []
          }
        }
      ]
    },
    {
      "cell_type": "code",
      "metadata": {
        "id": "-dmSTCY1QlSF"
      },
      "source": [
        ""
      ],
      "execution_count": null,
      "outputs": []
    },
    {
      "cell_type": "markdown",
      "metadata": {
        "id": "biQcbKd0QqSF"
      },
      "source": [
        "**Frekuensi**"
      ]
    },
    {
      "cell_type": "code",
      "metadata": {
        "colab": {
          "base_uri": "https://localhost:8080/"
        },
        "id": "V1BzeNv2QvX2",
        "outputId": "39bdf7b6-59c4-4e84-a660-977f9d9362c3"
      },
      "source": [
        "import pandas as pd\r\n",
        "dt = pd.read_csv(url, error_bad_lines=False)\r\n",
        "print (dt)\r\n",
        "test= dt.groupby(['band','variant'])\r\n",
        "test.size()"
      ],
      "execution_count": null,
      "outputs": [
        {
          "output_type": "stream",
          "text": [
            "         id  ...       price\n",
            "0     41256  ...   112000000\n",
            "1      5637  ...   135000000\n",
            "2     61059  ...   133000000\n",
            "3     75984  ...    98000000\n",
            "4     35687  ...   110000000\n",
            "...     ...  ...         ...\n",
            "5580  56388  ...   242000000\n",
            "5581  16471  ...  1450000000\n",
            "5582  10803  ...   147000000\n",
            "5583  14175  ...   119000000\n",
            "5584  45854  ...   140000000\n",
            "\n",
            "[5585 rows x 15 columns]\n"
          ],
          "name": "stdout"
        },
        {
          "output_type": "execute_result",
          "data": {
            "text/plain": [
              "band    variant          \n",
              "Audi    1.8 TFSI PI          1\n",
              "        2.0 S TFSI           4\n",
              "        2.0 TFSI             4\n",
              "        8N                   1\n",
              "        B8                   1\n",
              "                            ..\n",
              "Wuling  LT Lux Exclusive     1\n",
              "        LT Lux+ Exclusive    1\n",
              "        S C                  1\n",
              "        S L                  7\n",
              "smart   Passion              1\n",
              "Length: 523, dtype: int64"
            ]
          },
          "metadata": {
            "tags": []
          },
          "execution_count": 11
        }
      ]
    },
    {
      "cell_type": "code",
      "metadata": {
        "id": "yGswneKjQ07M"
      },
      "source": [
        ""
      ],
      "execution_count": null,
      "outputs": []
    },
    {
      "cell_type": "markdown",
      "metadata": {
        "id": "-1UL2CDRRJsa"
      },
      "source": [
        "**Membuat Mapping**"
      ]
    },
    {
      "cell_type": "code",
      "metadata": {
        "colab": {
          "base_uri": "https://localhost:8080/",
          "height": 1000
        },
        "id": "-hT-drfnRQm4",
        "outputId": "0027f12a-299a-4ec1-d15d-40218385e7b2"
      },
      "source": [
        "import pandas as pd\r\n",
        "import matplotlib.pyplot as plt\r\n",
        "import seaborn as sns\r\n",
        "\r\n",
        "df = pd.read_csv(url, error_bad_lines=False)\r\n",
        "\r\n",
        "df = df.pivot_table(index='band', columns='model', values='year')\r\n",
        "\r\n",
        "print (df)\r\n",
        "\r\n",
        "sns.heatmap(df, annot=True, cmap='coolwarm')\r\n",
        "\r\n",
        "plt.show()"
      ],
      "execution_count": null,
      "outputs": [
        {
          "output_type": "stream",
          "text": [
            "model             107            2     207  ...   Zebra       fortwo     i10\n",
            "band                                        ...                             \n",
            "Audi              NaN          NaN     NaN  ...     NaN          NaN     NaN\n",
            "BMW               NaN          NaN     NaN  ...     NaN          NaN     NaN\n",
            "Bentley           NaN          NaN     NaN  ...     NaN          NaN     NaN\n",
            "Cadillac          NaN          NaN     NaN  ...     NaN          NaN     NaN\n",
            "Chevrolet         NaN          NaN     NaN  ...     NaN          NaN     NaN\n",
            "Daihatsu          NaN          NaN     NaN  ...  2003.0          NaN     NaN\n",
            "Datsun            NaN          NaN     NaN  ...     NaN          NaN     NaN\n",
            "Dodge             NaN          NaN     NaN  ...     NaN          NaN     NaN\n",
            "Ferrari           NaN          NaN     NaN  ...     NaN          NaN     NaN\n",
            "Ford              NaN          NaN     NaN  ...     NaN          NaN     NaN\n",
            "Geely             NaN          NaN     NaN  ...     NaN          NaN     NaN\n",
            "Hino              NaN          NaN     NaN  ...     NaN          NaN     NaN\n",
            "Honda             NaN          NaN     NaN  ...     NaN          NaN     NaN\n",
            "Hummer            NaN          NaN     NaN  ...     NaN          NaN     NaN\n",
            "Hyundai           NaN          NaN     NaN  ...     NaN          NaN  2011.0\n",
            "Isuzu             NaN          NaN     NaN  ...     NaN          NaN     NaN\n",
            "Jaguar            NaN          NaN     NaN  ...     NaN          NaN     NaN\n",
            "Jeep              NaN          NaN     NaN  ...     NaN          NaN     NaN\n",
            "KIA               NaN          NaN     NaN  ...     NaN          NaN     NaN\n",
            "Lamborghini       NaN          NaN     NaN  ...     NaN          NaN     NaN\n",
            "Land Rover        NaN          NaN     NaN  ...     NaN          NaN     NaN\n",
            "Lexus             NaN          NaN     NaN  ...     NaN          NaN     NaN\n",
            "MINI              NaN          NaN     NaN  ...     NaN          NaN     NaN\n",
            "Maserati          NaN          NaN     NaN  ...     NaN          NaN     NaN\n",
            "Mazda             NaN  2013.388889     NaN  ...     NaN          NaN     NaN\n",
            "Mercedes-Benz     NaN          NaN     NaN  ...     NaN          NaN     NaN\n",
            "Mitsubishi        NaN          NaN     NaN  ...     NaN          NaN     NaN\n",
            "Nissan            NaN          NaN     NaN  ...     NaN          NaN     NaN\n",
            "Opel              NaN          NaN     NaN  ...     NaN          NaN     NaN\n",
            "Peugeot        2013.0          NaN  2011.0  ...     NaN          NaN     NaN\n",
            "Porsche           NaN          NaN     NaN  ...     NaN          NaN     NaN\n",
            "Proton            NaN          NaN     NaN  ...     NaN          NaN     NaN\n",
            "Renault           NaN          NaN     NaN  ...     NaN          NaN     NaN\n",
            "Rolls-Royce       NaN          NaN     NaN  ...     NaN          NaN     NaN\n",
            "Subaru            NaN          NaN     NaN  ...     NaN          NaN     NaN\n",
            "Suzuki            NaN          NaN     NaN  ...     NaN          NaN     NaN\n",
            "Tata              NaN          NaN     NaN  ...     NaN          NaN     NaN\n",
            "Tesla             NaN          NaN     NaN  ...     NaN          NaN     NaN\n",
            "Timor             NaN          NaN     NaN  ...     NaN          NaN     NaN\n",
            "Toyota            NaN          NaN     NaN  ...     NaN          NaN     NaN\n",
            "UD TRUCKS         NaN          NaN     NaN  ...     NaN          NaN     NaN\n",
            "Volkswagen        NaN          NaN     NaN  ...     NaN          NaN     NaN\n",
            "Wuling            NaN          NaN     NaN  ...     NaN          NaN     NaN\n",
            "smart             NaN          NaN     NaN  ...     NaN  2010.333333     NaN\n",
            "\n",
            "[44 rows x 321 columns]\n"
          ],
          "name": "stdout"
        },
        {
          "output_type": "display_data",
          "data": {
            "image/png": "[encoded data removed]",
            "text/plain": [
              "<Figure size 432x288 with 2 Axes>"
            ]
          },
          "metadata": {
            "tags": []
          }
        }
      ]
    },
    {
      "cell_type": "markdown",
      "metadata": {
        "id": "fWTv0i3yRmVq"
      },
      "source": [
        "Dapat dilihat dari mapping di atas bahwa terjadi pengelompokan tahun dari dua variabel yaitu band dan model."
      ]
    },
    {
      "cell_type": "markdown",
      "metadata": {
        "id": "UcOWXnWISyyW"
      },
      "source": [
        "**Melakukan Pemodelan**"
      ]
    },
    {
      "cell_type": "code",
      "metadata": {
        "colab": {
          "base_uri": "https://localhost:8080/",
          "height": 564
        },
        "id": "Bhi-2kUtS7e2",
        "outputId": "499013c0-0ba6-4392-cd3e-51168b525427"
      },
      "source": [
        "import pandas as pd\r\n",
        "production = pd.read_csv(url, error_bad_lines=False)\r\n",
        "production.head()"
      ],
      "execution_count": null,
      "outputs": [
        {
          "output_type": "execute_result",
          "data": {
            "text/html": [
              "<div>\n",
              "<style scoped>\n",
              "    .dataframe tbody tr th:only-of-type {\n",
              "        vertical-align: middle;\n",
              "    }\n",
              "\n",
              "    .dataframe tbody tr th {\n",
              "        vertical-align: top;\n",
              "    }\n",
              "\n",
              "    .dataframe thead th {\n",
              "        text-align: right;\n",
              "    }\n",
              "</style>\n",
              "<table border=\"1\" class=\"dataframe\">\n",
              "  <thead>\n",
              "    <tr style=\"text-align: right;\">\n",
              "      <th></th>\n",
              "      <th>id</th>\n",
              "      <th>title</th>\n",
              "      <th>band</th>\n",
              "      <th>model</th>\n",
              "      <th>variant</th>\n",
              "      <th>fuelType</th>\n",
              "      <th>bodytype</th>\n",
              "      <th>tramsmission</th>\n",
              "      <th>seating</th>\n",
              "      <th>year</th>\n",
              "      <th>milage</th>\n",
              "      <th>color</th>\n",
              "      <th>image</th>\n",
              "      <th>place</th>\n",
              "      <th>price</th>\n",
              "    </tr>\n",
              "  </thead>\n",
              "  <tbody>\n",
              "    <tr>\n",
              "      <th>0</th>\n",
              "      <td>41256</td>\n",
              "      <td>2012 Toyota Avanza 1.3 G MPV</td>\n",
              "      <td>Toyota</td>\n",
              "      <td>Avanza</td>\n",
              "      <td>G</td>\n",
              "      <td>Pertamax</td>\n",
              "      <td>MPV</td>\n",
              "      <td>Automatic</td>\n",
              "      <td>7</td>\n",
              "      <td>2012</td>\n",
              "      <td>62500</td>\n",
              "      <td>Hitam</td>\n",
              "      <td>https://img1.icarcdn.com/8419806/thumb-l_used-...</td>\n",
              "      <td>Jakarta Selatan</td>\n",
              "      <td>112000000</td>\n",
              "    </tr>\n",
              "    <tr>\n",
              "      <th>1</th>\n",
              "      <td>5637</td>\n",
              "      <td>2014 Honda Mobilio 1.5 E Prestige MPV</td>\n",
              "      <td>Honda</td>\n",
              "      <td>Mobilio</td>\n",
              "      <td>E Prestige</td>\n",
              "      <td>Pertamax</td>\n",
              "      <td>MPV</td>\n",
              "      <td>Automatic</td>\n",
              "      <td>7</td>\n",
              "      <td>2014</td>\n",
              "      <td>70000</td>\n",
              "      <td>Putih</td>\n",
              "      <td>https://img5.icarcdn.com/0798656/thumb-l_used-...</td>\n",
              "      <td>Makasar</td>\n",
              "      <td>135000000</td>\n",
              "    </tr>\n",
              "    <tr>\n",
              "      <th>2</th>\n",
              "      <td>61059</td>\n",
              "      <td>2014 Ford EcoSport 1.5 Titanium SUV</td>\n",
              "      <td>Ford</td>\n",
              "      <td>EcoSport</td>\n",
              "      <td>Titanium</td>\n",
              "      <td>Pertamax</td>\n",
              "      <td>SUV</td>\n",
              "      <td>Automatic</td>\n",
              "      <td>5</td>\n",
              "      <td>2014</td>\n",
              "      <td>108000</td>\n",
              "      <td>Silver</td>\n",
              "      <td>https://img4.icarcdn.com/3308465/thumb-l_used-...</td>\n",
              "      <td>Bekasi</td>\n",
              "      <td>133000000</td>\n",
              "    </tr>\n",
              "    <tr>\n",
              "      <th>3</th>\n",
              "      <td>75984</td>\n",
              "      <td>2007 Toyota Kijang Innova 2.0 E MPV</td>\n",
              "      <td>Toyota</td>\n",
              "      <td>Kijang Innova</td>\n",
              "      <td>E</td>\n",
              "      <td>Pertamax</td>\n",
              "      <td>MPV</td>\n",
              "      <td>Manual</td>\n",
              "      <td>8</td>\n",
              "      <td>2007</td>\n",
              "      <td>46000</td>\n",
              "      <td>Hitam</td>\n",
              "      <td>https://img1.icarcdn.com/9066856/thumb-l_used-...</td>\n",
              "      <td>Jakarta Barat</td>\n",
              "      <td>98000000</td>\n",
              "    </tr>\n",
              "    <tr>\n",
              "      <th>4</th>\n",
              "      <td>35687</td>\n",
              "      <td>2017 Daihatsu Ayla 1.0 X Hatchback</td>\n",
              "      <td>Daihatsu</td>\n",
              "      <td>Ayla</td>\n",
              "      <td>X</td>\n",
              "      <td>Pertamax</td>\n",
              "      <td>Hatchback</td>\n",
              "      <td>Manual</td>\n",
              "      <td>5</td>\n",
              "      <td>2017</td>\n",
              "      <td>45000</td>\n",
              "      <td>Merah</td>\n",
              "      <td>https://img1.icarcdn.com/5359506/thumb-l_used-...</td>\n",
              "      <td>Surabaya</td>\n",
              "      <td>110000000</td>\n",
              "    </tr>\n",
              "  </tbody>\n",
              "</table>\n",
              "</div>"
            ],
            "text/plain": [
              "      id                                  title  ...            place      price\n",
              "0  41256           2012 Toyota Avanza 1.3 G MPV  ...  Jakarta Selatan  112000000\n",
              "1   5637  2014 Honda Mobilio 1.5 E Prestige MPV  ...          Makasar  135000000\n",
              "2  61059    2014 Ford EcoSport 1.5 Titanium SUV  ...           Bekasi  133000000\n",
              "3  75984    2007 Toyota Kijang Innova 2.0 E MPV  ...    Jakarta Barat   98000000\n",
              "4  35687     2017 Daihatsu Ayla 1.0 X Hatchback  ...         Surabaya  110000000\n",
              "\n",
              "[5 rows x 15 columns]"
            ]
          },
          "metadata": {
            "tags": []
          },
          "execution_count": 13
        }
      ]
    },
    {
      "cell_type": "code",
      "metadata": {
        "colab": {
          "base_uri": "https://localhost:8080/",
          "height": 204
        },
        "id": "zAWM-wveS8y0",
        "outputId": "01c0cb35-e984-4d13-cc46-d09b18126a09"
      },
      "source": [
        "production_x = production.iloc[:, 5:7]\r\n",
        "production_x.head()"
      ],
      "execution_count": null,
      "outputs": [
        {
          "output_type": "execute_result",
          "data": {
            "text/html": [
              "<div>\n",
              "<style scoped>\n",
              "    .dataframe tbody tr th:only-of-type {\n",
              "        vertical-align: middle;\n",
              "    }\n",
              "\n",
              "    .dataframe tbody tr th {\n",
              "        vertical-align: top;\n",
              "    }\n",
              "\n",
              "    .dataframe thead th {\n",
              "        text-align: right;\n",
              "    }\n",
              "</style>\n",
              "<table border=\"1\" class=\"dataframe\">\n",
              "  <thead>\n",
              "    <tr style=\"text-align: right;\">\n",
              "      <th></th>\n",
              "      <th>fuelType</th>\n",
              "      <th>bodytype</th>\n",
              "    </tr>\n",
              "  </thead>\n",
              "  <tbody>\n",
              "    <tr>\n",
              "      <th>0</th>\n",
              "      <td>Pertamax</td>\n",
              "      <td>MPV</td>\n",
              "    </tr>\n",
              "    <tr>\n",
              "      <th>1</th>\n",
              "      <td>Pertamax</td>\n",
              "      <td>MPV</td>\n",
              "    </tr>\n",
              "    <tr>\n",
              "      <th>2</th>\n",
              "      <td>Pertamax</td>\n",
              "      <td>SUV</td>\n",
              "    </tr>\n",
              "    <tr>\n",
              "      <th>3</th>\n",
              "      <td>Pertamax</td>\n",
              "      <td>MPV</td>\n",
              "    </tr>\n",
              "    <tr>\n",
              "      <th>4</th>\n",
              "      <td>Pertamax</td>\n",
              "      <td>Hatchback</td>\n",
              "    </tr>\n",
              "  </tbody>\n",
              "</table>\n",
              "</div>"
            ],
            "text/plain": [
              "   fuelType   bodytype\n",
              "0  Pertamax        MPV\n",
              "1  Pertamax        MPV\n",
              "2  Pertamax        SUV\n",
              "3  Pertamax        MPV\n",
              "4  Pertamax  Hatchback"
            ]
          },
          "metadata": {
            "tags": []
          },
          "execution_count": 14
        }
      ]
    },
    {
      "cell_type": "code",
      "metadata": {
        "colab": {
          "base_uri": "https://localhost:8080/",
          "height": 302
        },
        "id": "c3iw2W6jTC-R",
        "outputId": "af091aa6-fe13-4b37-dc05-1f6f0d8d1b7a"
      },
      "source": [
        "import seaborn as sns\r\n",
        "sns.scatterplot(x=\"model\", y=\"variant\", data=production, s=100, color=\"red\", alpha = 0.5)"
      ],
      "execution_count": null,
      "outputs": [
        {
          "output_type": "execute_result",
          "data": {
            "text/plain": [
              "<matplotlib.axes._subplots.AxesSubplot at 0x7f0723af4080>"
            ]
          },
          "metadata": {
            "tags": []
          },
          "execution_count": 15
        },
        {
          "output_type": "display_data",
          "data": {
            "image/png": "[encoded data removed]",
            "text/plain": [
              "<Figure size 432x288 with 1 Axes>"
            ]
          },
          "metadata": {
            "tags": []
          }
        }
      ]
    },
    {
      "cell_type": "code",
      "metadata": {
        "id": "tSxxZpzYTJAC"
      },
      "source": [
        "from sklearn.cluster import KMeans\r\n",
        "import numpy as np"
      ],
      "execution_count": null,
      "outputs": []
    },
    {
      "cell_type": "code",
      "metadata": {
        "colab": {
          "base_uri": "https://localhost:8080/",
          "height": 1000
        },
        "id": "-NffLy0LTWo5",
        "outputId": "b0a9b1c5-53cd-4cae-cd26-e5d27dd7a7ff"
      },
      "source": [
        "production.head(20)"
      ],
      "execution_count": null,
      "outputs": [
        {
          "output_type": "execute_result",
          "data": {
            "text/html": [
              "<div>\n",
              "<style scoped>\n",
              "    .dataframe tbody tr th:only-of-type {\n",
              "        vertical-align: middle;\n",
              "    }\n",
              "\n",
              "    .dataframe tbody tr th {\n",
              "        vertical-align: top;\n",
              "    }\n",
              "\n",
              "    .dataframe thead th {\n",
              "        text-align: right;\n",
              "    }\n",
              "</style>\n",
              "<table border=\"1\" class=\"dataframe\">\n",
              "  <thead>\n",
              "    <tr style=\"text-align: right;\">\n",
              "      <th></th>\n",
              "      <th>id</th>\n",
              "      <th>title</th>\n",
              "      <th>band</th>\n",
              "      <th>model</th>\n",
              "      <th>variant</th>\n",
              "      <th>fuelType</th>\n",
              "      <th>bodytype</th>\n",
              "      <th>tramsmission</th>\n",
              "      <th>seating</th>\n",
              "      <th>year</th>\n",
              "      <th>milage</th>\n",
              "      <th>color</th>\n",
              "      <th>image</th>\n",
              "      <th>place</th>\n",
              "      <th>price</th>\n",
              "    </tr>\n",
              "  </thead>\n",
              "  <tbody>\n",
              "    <tr>\n",
              "      <th>0</th>\n",
              "      <td>41256</td>\n",
              "      <td>2012 Toyota Avanza 1.3 G MPV</td>\n",
              "      <td>Toyota</td>\n",
              "      <td>Avanza</td>\n",
              "      <td>G</td>\n",
              "      <td>Pertamax</td>\n",
              "      <td>MPV</td>\n",
              "      <td>Automatic</td>\n",
              "      <td>7</td>\n",
              "      <td>2012</td>\n",
              "      <td>62500</td>\n",
              "      <td>Hitam</td>\n",
              "      <td>https://img1.icarcdn.com/8419806/thumb-l_used-...</td>\n",
              "      <td>Jakarta Selatan</td>\n",
              "      <td>112000000</td>\n",
              "    </tr>\n",
              "    <tr>\n",
              "      <th>1</th>\n",
              "      <td>5637</td>\n",
              "      <td>2014 Honda Mobilio 1.5 E Prestige MPV</td>\n",
              "      <td>Honda</td>\n",
              "      <td>Mobilio</td>\n",
              "      <td>E Prestige</td>\n",
              "      <td>Pertamax</td>\n",
              "      <td>MPV</td>\n",
              "      <td>Automatic</td>\n",
              "      <td>7</td>\n",
              "      <td>2014</td>\n",
              "      <td>70000</td>\n",
              "      <td>Putih</td>\n",
              "      <td>https://img5.icarcdn.com/0798656/thumb-l_used-...</td>\n",
              "      <td>Makasar</td>\n",
              "      <td>135000000</td>\n",
              "    </tr>\n",
              "    <tr>\n",
              "      <th>2</th>\n",
              "      <td>61059</td>\n",
              "      <td>2014 Ford EcoSport 1.5 Titanium SUV</td>\n",
              "      <td>Ford</td>\n",
              "      <td>EcoSport</td>\n",
              "      <td>Titanium</td>\n",
              "      <td>Pertamax</td>\n",
              "      <td>SUV</td>\n",
              "      <td>Automatic</td>\n",
              "      <td>5</td>\n",
              "      <td>2014</td>\n",
              "      <td>108000</td>\n",
              "      <td>Silver</td>\n",
              "      <td>https://img4.icarcdn.com/3308465/thumb-l_used-...</td>\n",
              "      <td>Bekasi</td>\n",
              "      <td>133000000</td>\n",
              "    </tr>\n",
              "    <tr>\n",
              "      <th>3</th>\n",
              "      <td>75984</td>\n",
              "      <td>2007 Toyota Kijang Innova 2.0 E MPV</td>\n",
              "      <td>Toyota</td>\n",
              "      <td>Kijang Innova</td>\n",
              "      <td>E</td>\n",
              "      <td>Pertamax</td>\n",
              "      <td>MPV</td>\n",
              "      <td>Manual</td>\n",
              "      <td>8</td>\n",
              "      <td>2007</td>\n",
              "      <td>46000</td>\n",
              "      <td>Hitam</td>\n",
              "      <td>https://img1.icarcdn.com/9066856/thumb-l_used-...</td>\n",
              "      <td>Jakarta Barat</td>\n",
              "      <td>98000000</td>\n",
              "    </tr>\n",
              "    <tr>\n",
              "      <th>4</th>\n",
              "      <td>35687</td>\n",
              "      <td>2017 Daihatsu Ayla 1.0 X Hatchback</td>\n",
              "      <td>Daihatsu</td>\n",
              "      <td>Ayla</td>\n",
              "      <td>X</td>\n",
              "      <td>Pertamax</td>\n",
              "      <td>Hatchback</td>\n",
              "      <td>Manual</td>\n",
              "      <td>5</td>\n",
              "      <td>2017</td>\n",
              "      <td>45000</td>\n",
              "      <td>Merah</td>\n",
              "      <td>https://img1.icarcdn.com/5359506/thumb-l_used-...</td>\n",
              "      <td>Surabaya</td>\n",
              "      <td>110000000</td>\n",
              "    </tr>\n",
              "    <tr>\n",
              "      <th>5</th>\n",
              "      <td>74769</td>\n",
              "      <td>2012 Suzuki Swift 1.5 GT3 Hatchback</td>\n",
              "      <td>Suzuki</td>\n",
              "      <td>Swift</td>\n",
              "      <td>GT3</td>\n",
              "      <td>Pertamax</td>\n",
              "      <td>Hatchback</td>\n",
              "      <td>Manual</td>\n",
              "      <td>5</td>\n",
              "      <td>2012</td>\n",
              "      <td>40000</td>\n",
              "      <td>Putih</td>\n",
              "      <td>https://img3.icarcdn.com/4722016/thumb-l_used-...</td>\n",
              "      <td>Makasar</td>\n",
              "      <td>125000000</td>\n",
              "    </tr>\n",
              "    <tr>\n",
              "      <th>6</th>\n",
              "      <td>26695</td>\n",
              "      <td>2017 Toyota Fortuner 2.4 VRZ SUV</td>\n",
              "      <td>Toyota</td>\n",
              "      <td>Fortuner</td>\n",
              "      <td>VRZ</td>\n",
              "      <td>Solar</td>\n",
              "      <td>SUV</td>\n",
              "      <td>Automatic</td>\n",
              "      <td>7</td>\n",
              "      <td>2017</td>\n",
              "      <td>32000</td>\n",
              "      <td>Hitam</td>\n",
              "      <td>https://img5.icarcdn.com/0943756/thumb-l_used-...</td>\n",
              "      <td>Jakarta Timur</td>\n",
              "      <td>380000000</td>\n",
              "    </tr>\n",
              "    <tr>\n",
              "      <th>7</th>\n",
              "      <td>73531</td>\n",
              "      <td>2013 Honda CR-V 2.4 2.4 SUV</td>\n",
              "      <td>Honda</td>\n",
              "      <td>CR-V</td>\n",
              "      <td>2.4</td>\n",
              "      <td>Pertamax</td>\n",
              "      <td>SUV</td>\n",
              "      <td>Automatic</td>\n",
              "      <td>5</td>\n",
              "      <td>2013</td>\n",
              "      <td>64000</td>\n",
              "      <td>Hitam</td>\n",
              "      <td>https://img3.icarcdn.com/3458216/thumb-l_used-...</td>\n",
              "      <td>Tangerang</td>\n",
              "      <td>213500000</td>\n",
              "    </tr>\n",
              "    <tr>\n",
              "      <th>8</th>\n",
              "      <td>74843</td>\n",
              "      <td>2011 Isuzu Panther 2.5 SMART SUV</td>\n",
              "      <td>Isuzu</td>\n",
              "      <td>Panther</td>\n",
              "      <td>SMART</td>\n",
              "      <td>Solar</td>\n",
              "      <td>SUV</td>\n",
              "      <td>Manual</td>\n",
              "      <td>7</td>\n",
              "      <td>2011</td>\n",
              "      <td>200000</td>\n",
              "      <td>Silver</td>\n",
              "      <td>https://img5.icarcdn.com/8529706/thumb-l_used-...</td>\n",
              "      <td>Sleman</td>\n",
              "      <td>115000000</td>\n",
              "    </tr>\n",
              "    <tr>\n",
              "      <th>9</th>\n",
              "      <td>78168</td>\n",
              "      <td>2017 Toyota Avanza 1.3 G MPV</td>\n",
              "      <td>Toyota</td>\n",
              "      <td>Avanza</td>\n",
              "      <td>G</td>\n",
              "      <td>Pertamax</td>\n",
              "      <td>MPV</td>\n",
              "      <td>Manual</td>\n",
              "      <td>7</td>\n",
              "      <td>2017</td>\n",
              "      <td>102500</td>\n",
              "      <td>Hitam</td>\n",
              "      <td>https://img5.icarcdn.com/4749756/thumb-l_used-...</td>\n",
              "      <td>Tangerang</td>\n",
              "      <td>140000000</td>\n",
              "    </tr>\n",
              "    <tr>\n",
              "      <th>10</th>\n",
              "      <td>51388</td>\n",
              "      <td>2011 Mitsubishi Pajero Sport 2.5 Exceed SUV</td>\n",
              "      <td>Mitsubishi</td>\n",
              "      <td>Pajero Sport</td>\n",
              "      <td>Exceed</td>\n",
              "      <td>Solar</td>\n",
              "      <td>SUV</td>\n",
              "      <td>Automatic</td>\n",
              "      <td>7</td>\n",
              "      <td>2011</td>\n",
              "      <td>190000</td>\n",
              "      <td>Hitam</td>\n",
              "      <td>https://img3.icarcdn.com/6736016/thumb-l_used-...</td>\n",
              "      <td>Bekasi</td>\n",
              "      <td>225000000</td>\n",
              "    </tr>\n",
              "    <tr>\n",
              "      <th>11</th>\n",
              "      <td>17315</td>\n",
              "      <td>2017 Toyota Calya 1.2 G MPV</td>\n",
              "      <td>Toyota</td>\n",
              "      <td>Calya</td>\n",
              "      <td>G</td>\n",
              "      <td>Pertamax</td>\n",
              "      <td>MPV</td>\n",
              "      <td>Manual</td>\n",
              "      <td>7</td>\n",
              "      <td>2017</td>\n",
              "      <td>52500</td>\n",
              "      <td>Putih</td>\n",
              "      <td>https://img3.icarcdn.com/4702556/thumb-l_used-...</td>\n",
              "      <td>Kediri</td>\n",
              "      <td>115000000</td>\n",
              "    </tr>\n",
              "    <tr>\n",
              "      <th>12</th>\n",
              "      <td>5335</td>\n",
              "      <td>2016 Suzuki Ertiga 1.4 GX MPV</td>\n",
              "      <td>Suzuki</td>\n",
              "      <td>Ertiga</td>\n",
              "      <td>GX</td>\n",
              "      <td>Pertamax</td>\n",
              "      <td>MPV</td>\n",
              "      <td>Automatic</td>\n",
              "      <td>7</td>\n",
              "      <td>2016</td>\n",
              "      <td>42000</td>\n",
              "      <td>Putih</td>\n",
              "      <td>https://img4.icarcdn.com/8889226/thumb-l_used-...</td>\n",
              "      <td>Surabaya</td>\n",
              "      <td>170000000</td>\n",
              "    </tr>\n",
              "    <tr>\n",
              "      <th>13</th>\n",
              "      <td>61972</td>\n",
              "      <td>2005 Suzuki APV 1.5 X Manual MPV Minivans</td>\n",
              "      <td>Suzuki</td>\n",
              "      <td>APV</td>\n",
              "      <td>X Manual</td>\n",
              "      <td>Pertamax</td>\n",
              "      <td>MPV Minivans</td>\n",
              "      <td>Manual</td>\n",
              "      <td>7</td>\n",
              "      <td>2005</td>\n",
              "      <td>196326</td>\n",
              "      <td>Hitam</td>\n",
              "      <td>https://img1.icarcdn.com/0993456/thumb-l_used-...</td>\n",
              "      <td>Surabaya</td>\n",
              "      <td>70000000</td>\n",
              "    </tr>\n",
              "    <tr>\n",
              "      <th>14</th>\n",
              "      <td>72223</td>\n",
              "      <td>2017 Mitsubishi Pajero Sport 2.4 Dakar SUV</td>\n",
              "      <td>Mitsubishi</td>\n",
              "      <td>Pajero Sport</td>\n",
              "      <td>Dakar</td>\n",
              "      <td>Solar</td>\n",
              "      <td>SUV</td>\n",
              "      <td>Automatic</td>\n",
              "      <td>7</td>\n",
              "      <td>2017</td>\n",
              "      <td>17212</td>\n",
              "      <td>Putih</td>\n",
              "      <td>https://img5.icarcdn.com/5756946/thumb-l_used-...</td>\n",
              "      <td>Jember</td>\n",
              "      <td>440000000</td>\n",
              "    </tr>\n",
              "    <tr>\n",
              "      <th>15</th>\n",
              "      <td>33674</td>\n",
              "      <td>1996 Toyota Kijang 1.8 MPV Minivans</td>\n",
              "      <td>Toyota</td>\n",
              "      <td>Kijang</td>\n",
              "      <td>NaN</td>\n",
              "      <td>Pertamax</td>\n",
              "      <td>MPV Minivans</td>\n",
              "      <td>Manual</td>\n",
              "      <td>7</td>\n",
              "      <td>1996</td>\n",
              "      <td>202500</td>\n",
              "      <td>Merah</td>\n",
              "      <td>https://img1.icarcdn.com/2833015/thumb-l_used-...</td>\n",
              "      <td>Jakarta Timur</td>\n",
              "      <td>36000000</td>\n",
              "    </tr>\n",
              "    <tr>\n",
              "      <th>16</th>\n",
              "      <td>36623</td>\n",
              "      <td>2016 BMW 528i 2.0 Luxury Sedan</td>\n",
              "      <td>BMW</td>\n",
              "      <td>528i</td>\n",
              "      <td>Luxury</td>\n",
              "      <td>Pertamax</td>\n",
              "      <td>Sedan</td>\n",
              "      <td>Automatic</td>\n",
              "      <td>5</td>\n",
              "      <td>2016</td>\n",
              "      <td>33000</td>\n",
              "      <td>Hitam</td>\n",
              "      <td>https://img2.icarcdn.com/7046506/thumb-l_used-...</td>\n",
              "      <td>Jakarta Utara</td>\n",
              "      <td>610000000</td>\n",
              "    </tr>\n",
              "    <tr>\n",
              "      <th>17</th>\n",
              "      <td>83829</td>\n",
              "      <td>2012 Rolls-Royce Ghost 6.6 V12 Sedan</td>\n",
              "      <td>Rolls-Royce</td>\n",
              "      <td>Ghost</td>\n",
              "      <td>V12</td>\n",
              "      <td>Pertamax</td>\n",
              "      <td>Sedan</td>\n",
              "      <td>Automatic</td>\n",
              "      <td>5</td>\n",
              "      <td>2012</td>\n",
              "      <td>9000</td>\n",
              "      <td>Hitam</td>\n",
              "      <td>https://img2.icarcdn.com/1703775/thumb-l_used-...</td>\n",
              "      <td>Jakarta Selatan</td>\n",
              "      <td>5250000000</td>\n",
              "    </tr>\n",
              "    <tr>\n",
              "      <th>18</th>\n",
              "      <td>26399</td>\n",
              "      <td>2009 Suzuki Swift 1.5 ST Hatchback</td>\n",
              "      <td>Suzuki</td>\n",
              "      <td>Swift</td>\n",
              "      <td>ST</td>\n",
              "      <td>Pertamax</td>\n",
              "      <td>Hatchback</td>\n",
              "      <td>Automatic</td>\n",
              "      <td>5</td>\n",
              "      <td>2009</td>\n",
              "      <td>127500</td>\n",
              "      <td>Hitam</td>\n",
              "      <td>https://img4.icarcdn.com/4310656/thumb-l_used-...</td>\n",
              "      <td>Jakarta Pusat</td>\n",
              "      <td>85000000</td>\n",
              "    </tr>\n",
              "    <tr>\n",
              "      <th>19</th>\n",
              "      <td>72629</td>\n",
              "      <td>2017 Honda Mobilio 1.5 E MPV</td>\n",
              "      <td>Honda</td>\n",
              "      <td>Mobilio</td>\n",
              "      <td>E</td>\n",
              "      <td>Pertamax</td>\n",
              "      <td>MPV</td>\n",
              "      <td>Manual</td>\n",
              "      <td>7</td>\n",
              "      <td>2017</td>\n",
              "      <td>37500</td>\n",
              "      <td>Abu-abu</td>\n",
              "      <td>https://img3.icarcdn.com/3442606/thumb-l_used-...</td>\n",
              "      <td>Bekasi</td>\n",
              "      <td>150000000</td>\n",
              "    </tr>\n",
              "  </tbody>\n",
              "</table>\n",
              "</div>"
            ],
            "text/plain": [
              "       id  ...       price\n",
              "0   41256  ...   112000000\n",
              "1    5637  ...   135000000\n",
              "2   61059  ...   133000000\n",
              "3   75984  ...    98000000\n",
              "4   35687  ...   110000000\n",
              "5   74769  ...   125000000\n",
              "6   26695  ...   380000000\n",
              "7   73531  ...   213500000\n",
              "8   74843  ...   115000000\n",
              "9   78168  ...   140000000\n",
              "10  51388  ...   225000000\n",
              "11  17315  ...   115000000\n",
              "12   5335  ...   170000000\n",
              "13  61972  ...    70000000\n",
              "14  72223  ...   440000000\n",
              "15  33674  ...    36000000\n",
              "16  36623  ...   610000000\n",
              "17  83829  ...  5250000000\n",
              "18  26399  ...    85000000\n",
              "19  72629  ...   150000000\n",
              "\n",
              "[20 rows x 15 columns]"
            ]
          },
          "metadata": {
            "tags": []
          },
          "execution_count": 22
        }
      ]
    },
    {
      "cell_type": "markdown",
      "metadata": {
        "id": "o9tAr3kGWvrW"
      },
      "source": [
        "**Evaluasi menggunakan regresi**\r\n",
        "\r\n",
        "**Menggunakan fungsi make_classification dari library scikit-learn untuk menghasilkan data** "
      ]
    },
    {
      "cell_type": "code",
      "metadata": {
        "id": "TEweRGQTTpAA"
      },
      "source": [
        "x, y = make_classification(\r\n",
        "    n_samples=100,\r\n",
        "    n_features=1,\r\n",
        "    n_classes=2,\r\n",
        "    n_clusters_per_class=1,\r\n",
        "    flip_y=0.03,\r\n",
        "    n_informative=1,\r\n",
        "    n_redundant=0,\r\n",
        "    n_repeated=0\r\n",
        ")"
      ],
      "execution_count": null,
      "outputs": []
    },
    {
      "cell_type": "markdown",
      "metadata": {
        "id": "6cPDX0hJXBg2"
      },
      "source": [
        "**Melakukan plot untuk fitur dan kelas**"
      ]
    },
    {
      "cell_type": "code",
      "metadata": {
        "colab": {
          "base_uri": "https://localhost:8080/",
          "height": 285
        },
        "id": "HanQr33dXHIv",
        "outputId": "c56cc33b-9c94-440d-e88d-5405b158aea4"
      },
      "source": [
        "plt.scatter(x, y, c=y, cmap='rainbow')"
      ],
      "execution_count": null,
      "outputs": [
        {
          "output_type": "execute_result",
          "data": {
            "text/plain": [
              "<matplotlib.collections.PathCollection at 0x7f072a6cc240>"
            ]
          },
          "metadata": {
            "tags": []
          },
          "execution_count": 26
        },
        {
          "output_type": "display_data",
          "data": {
            "image/png": "[encoded data removed]",
            "text/plain": [
              "<Figure size 432x288 with 1 Axes>"
            ]
          },
          "metadata": {
            "tags": []
          }
        }
      ]
    },
    {
      "cell_type": "code",
      "metadata": {
        "id": "Y671mRbtWLIF"
      },
      "source": [
        ""
      ],
      "execution_count": null,
      "outputs": []
    },
    {
      "cell_type": "markdown",
      "metadata": {
        "id": "qvE6XUezXfko"
      },
      "source": [
        "**Melihat Dimensi Data**"
      ]
    },
    {
      "cell_type": "code",
      "metadata": {
        "colab": {
          "base_uri": "https://localhost:8080/"
        },
        "id": "QMSE1RCMXjQt",
        "outputId": "a54fad40-16e7-4f53-d762-739c0eecddd0"
      },
      "source": [
        "dimensi      = dt.shape\r\n",
        "panjang_data = len(dt)\r\n",
        "print(f'Dimensi data adalah {dimensi[0]} baris, dan {dimensi[1]} kolom')"
      ],
      "execution_count": null,
      "outputs": [
        {
          "output_type": "stream",
          "text": [
            "Dimensi data adalah 5585 baris, dan 15 kolom\n"
          ],
          "name": "stdout"
        }
      ]
    },
    {
      "cell_type": "code",
      "metadata": {
        "id": "AxBt7ZpBXj1H"
      },
      "source": [
        ""
      ],
      "execution_count": null,
      "outputs": []
    },
    {
      "cell_type": "markdown",
      "metadata": {
        "id": "-Ml0vFKOXnXX"
      },
      "source": [
        "**Cek Missing Values**"
      ]
    },
    {
      "cell_type": "code",
      "metadata": {
        "colab": {
          "base_uri": "https://localhost:8080/"
        },
        "id": "yKM0BB2-XqjM",
        "outputId": "b9eee3f0-76d9-4a6d-c9ea-d781b0b4dbfd"
      },
      "source": [
        "dt.isnull().sum()"
      ],
      "execution_count": null,
      "outputs": [
        {
          "output_type": "execute_result",
          "data": {
            "text/plain": [
              "id                0\n",
              "title             0\n",
              "band              0\n",
              "model             0\n",
              "variant         119\n",
              "fuelType          1\n",
              "bodytype         13\n",
              "tramsmission      0\n",
              "seating           0\n",
              "year              0\n",
              "milage            0\n",
              "color             0\n",
              "image             0\n",
              "place             0\n",
              "price             0\n",
              "dtype: int64"
            ]
          },
          "metadata": {
            "tags": []
          },
          "execution_count": 28
        }
      ]
    },
    {
      "cell_type": "code",
      "metadata": {
        "id": "oYhOvE6DXsos"
      },
      "source": [
        ""
      ],
      "execution_count": null,
      "outputs": []
    },
    {
      "cell_type": "markdown",
      "metadata": {
        "id": "t-MNAQjiXxxD"
      },
      "source": [
        "**Mengelompokkan Variabel**"
      ]
    },
    {
      "cell_type": "code",
      "metadata": {
        "colab": {
          "base_uri": "https://localhost:8080/",
          "height": 501
        },
        "id": "hZTcKKEtX0bT",
        "outputId": "46504774-7b85-4068-eaa0-2fb2546e96d6"
      },
      "source": [
        "test= dt.groupby(['model'])\r\n",
        "test.describe()"
      ],
      "execution_count": null,
      "outputs": [
        {
          "output_type": "execute_result",
          "data": {
            "text/html": [
              "<div>\n",
              "<style scoped>\n",
              "    .dataframe tbody tr th:only-of-type {\n",
              "        vertical-align: middle;\n",
              "    }\n",
              "\n",
              "    .dataframe tbody tr th {\n",
              "        vertical-align: top;\n",
              "    }\n",
              "\n",
              "    .dataframe thead tr th {\n",
              "        text-align: left;\n",
              "    }\n",
              "\n",
              "    .dataframe thead tr:last-of-type th {\n",
              "        text-align: right;\n",
              "    }\n",
              "</style>\n",
              "<table border=\"1\" class=\"dataframe\">\n",
              "  <thead>\n",
              "    <tr>\n",
              "      <th></th>\n",
              "      <th colspan=\"8\" halign=\"left\">id</th>\n",
              "      <th colspan=\"8\" halign=\"left\">seating</th>\n",
              "      <th colspan=\"8\" halign=\"left\">year</th>\n",
              "      <th colspan=\"8\" halign=\"left\">milage</th>\n",
              "      <th colspan=\"8\" halign=\"left\">price</th>\n",
              "    </tr>\n",
              "    <tr>\n",
              "      <th></th>\n",
              "      <th>count</th>\n",
              "      <th>mean</th>\n",
              "      <th>std</th>\n",
              "      <th>min</th>\n",
              "      <th>25%</th>\n",
              "      <th>50%</th>\n",
              "      <th>75%</th>\n",
              "      <th>max</th>\n",
              "      <th>count</th>\n",
              "      <th>mean</th>\n",
              "      <th>std</th>\n",
              "      <th>min</th>\n",
              "      <th>25%</th>\n",
              "      <th>50%</th>\n",
              "      <th>75%</th>\n",
              "      <th>max</th>\n",
              "      <th>count</th>\n",
              "      <th>mean</th>\n",
              "      <th>std</th>\n",
              "      <th>min</th>\n",
              "      <th>25%</th>\n",
              "      <th>50%</th>\n",
              "      <th>75%</th>\n",
              "      <th>max</th>\n",
              "      <th>count</th>\n",
              "      <th>mean</th>\n",
              "      <th>std</th>\n",
              "      <th>min</th>\n",
              "      <th>25%</th>\n",
              "      <th>50%</th>\n",
              "      <th>75%</th>\n",
              "      <th>max</th>\n",
              "      <th>count</th>\n",
              "      <th>mean</th>\n",
              "      <th>std</th>\n",
              "      <th>min</th>\n",
              "      <th>25%</th>\n",
              "      <th>50%</th>\n",
              "      <th>75%</th>\n",
              "      <th>max</th>\n",
              "    </tr>\n",
              "    <tr>\n",
              "      <th>model</th>\n",
              "      <th></th>\n",
              "      <th></th>\n",
              "      <th></th>\n",
              "      <th></th>\n",
              "      <th></th>\n",
              "      <th></th>\n",
              "      <th></th>\n",
              "      <th></th>\n",
              "      <th></th>\n",
              "      <th></th>\n",
              "      <th></th>\n",
              "      <th></th>\n",
              "      <th></th>\n",
              "      <th></th>\n",
              "      <th></th>\n",
              "      <th></th>\n",
              "      <th></th>\n",
              "      <th></th>\n",
              "      <th></th>\n",
              "      <th></th>\n",
              "      <th></th>\n",
              "      <th></th>\n",
              "      <th></th>\n",
              "      <th></th>\n",
              "      <th></th>\n",
              "      <th></th>\n",
              "      <th></th>\n",
              "      <th></th>\n",
              "      <th></th>\n",
              "      <th></th>\n",
              "      <th></th>\n",
              "      <th></th>\n",
              "      <th></th>\n",
              "      <th></th>\n",
              "      <th></th>\n",
              "      <th></th>\n",
              "      <th></th>\n",
              "      <th></th>\n",
              "      <th></th>\n",
              "      <th></th>\n",
              "    </tr>\n",
              "  </thead>\n",
              "  <tbody>\n",
              "    <tr>\n",
              "      <th>107</th>\n",
              "      <td>1.0</td>\n",
              "      <td>7959.000000</td>\n",
              "      <td>NaN</td>\n",
              "      <td>7959.0</td>\n",
              "      <td>7959.00</td>\n",
              "      <td>7959.0</td>\n",
              "      <td>7959.0</td>\n",
              "      <td>7959.0</td>\n",
              "      <td>1.0</td>\n",
              "      <td>5.000000</td>\n",
              "      <td>NaN</td>\n",
              "      <td>5.0</td>\n",
              "      <td>5.0</td>\n",
              "      <td>5.0</td>\n",
              "      <td>5.0</td>\n",
              "      <td>5.0</td>\n",
              "      <td>1.0</td>\n",
              "      <td>2013.000000</td>\n",
              "      <td>NaN</td>\n",
              "      <td>2013.0</td>\n",
              "      <td>2013.0</td>\n",
              "      <td>2013.0</td>\n",
              "      <td>2013.0</td>\n",
              "      <td>2013.0</td>\n",
              "      <td>1.0</td>\n",
              "      <td>4000.000000</td>\n",
              "      <td>NaN</td>\n",
              "      <td>4000.0</td>\n",
              "      <td>4000.0</td>\n",
              "      <td>4000.0</td>\n",
              "      <td>4000.0</td>\n",
              "      <td>4000.0</td>\n",
              "      <td>1.0</td>\n",
              "      <td>1.580000e+08</td>\n",
              "      <td>NaN</td>\n",
              "      <td>158000000.0</td>\n",
              "      <td>158000000.0</td>\n",
              "      <td>158000000.0</td>\n",
              "      <td>158000000.0</td>\n",
              "      <td>158000000.0</td>\n",
              "    </tr>\n",
              "    <tr>\n",
              "      <th>2</th>\n",
              "      <td>54.0</td>\n",
              "      <td>47649.370370</td>\n",
              "      <td>26426.806977</td>\n",
              "      <td>2602.0</td>\n",
              "      <td>25057.00</td>\n",
              "      <td>50578.5</td>\n",
              "      <td>68096.5</td>\n",
              "      <td>88281.0</td>\n",
              "      <td>54.0</td>\n",
              "      <td>5.000000</td>\n",
              "      <td>0.00000</td>\n",
              "      <td>5.0</td>\n",
              "      <td>5.0</td>\n",
              "      <td>5.0</td>\n",
              "      <td>5.0</td>\n",
              "      <td>5.0</td>\n",
              "      <td>54.0</td>\n",
              "      <td>2013.388889</td>\n",
              "      <td>2.050464</td>\n",
              "      <td>2009.0</td>\n",
              "      <td>2012.0</td>\n",
              "      <td>2014.0</td>\n",
              "      <td>2015.0</td>\n",
              "      <td>2017.0</td>\n",
              "      <td>54.0</td>\n",
              "      <td>46192.444444</td>\n",
              "      <td>28912.976081</td>\n",
              "      <td>250.0</td>\n",
              "      <td>22000.0</td>\n",
              "      <td>41500.0</td>\n",
              "      <td>62500.0</td>\n",
              "      <td>122500.0</td>\n",
              "      <td>54.0</td>\n",
              "      <td>1.490185e+08</td>\n",
              "      <td>3.868949e+07</td>\n",
              "      <td>65000000.0</td>\n",
              "      <td>110500000.0</td>\n",
              "      <td>160000000.0</td>\n",
              "      <td>181250000.0</td>\n",
              "      <td>218000000.0</td>\n",
              "    </tr>\n",
              "    <tr>\n",
              "      <th>207</th>\n",
              "      <td>1.0</td>\n",
              "      <td>75960.000000</td>\n",
              "      <td>NaN</td>\n",
              "      <td>75960.0</td>\n",
              "      <td>75960.00</td>\n",
              "      <td>75960.0</td>\n",
              "      <td>75960.0</td>\n",
              "      <td>75960.0</td>\n",
              "      <td>1.0</td>\n",
              "      <td>4.000000</td>\n",
              "      <td>NaN</td>\n",
              "      <td>4.0</td>\n",
              "      <td>4.0</td>\n",
              "      <td>4.0</td>\n",
              "      <td>4.0</td>\n",
              "      <td>4.0</td>\n",
              "      <td>1.0</td>\n",
              "      <td>2011.000000</td>\n",
              "      <td>NaN</td>\n",
              "      <td>2011.0</td>\n",
              "      <td>2011.0</td>\n",
              "      <td>2011.0</td>\n",
              "      <td>2011.0</td>\n",
              "      <td>2011.0</td>\n",
              "      <td>1.0</td>\n",
              "      <td>57500.000000</td>\n",
              "      <td>NaN</td>\n",
              "      <td>57500.0</td>\n",
              "      <td>57500.0</td>\n",
              "      <td>57500.0</td>\n",
              "      <td>57500.0</td>\n",
              "      <td>57500.0</td>\n",
              "      <td>1.0</td>\n",
              "      <td>1.000000e+08</td>\n",
              "      <td>NaN</td>\n",
              "      <td>100000000.0</td>\n",
              "      <td>100000000.0</td>\n",
              "      <td>100000000.0</td>\n",
              "      <td>100000000.0</td>\n",
              "      <td>100000000.0</td>\n",
              "    </tr>\n",
              "    <tr>\n",
              "      <th>218i</th>\n",
              "      <td>1.0</td>\n",
              "      <td>40751.000000</td>\n",
              "      <td>NaN</td>\n",
              "      <td>40751.0</td>\n",
              "      <td>40751.00</td>\n",
              "      <td>40751.0</td>\n",
              "      <td>40751.0</td>\n",
              "      <td>40751.0</td>\n",
              "      <td>1.0</td>\n",
              "      <td>5.000000</td>\n",
              "      <td>NaN</td>\n",
              "      <td>5.0</td>\n",
              "      <td>5.0</td>\n",
              "      <td>5.0</td>\n",
              "      <td>5.0</td>\n",
              "      <td>5.0</td>\n",
              "      <td>1.0</td>\n",
              "      <td>2015.000000</td>\n",
              "      <td>NaN</td>\n",
              "      <td>2015.0</td>\n",
              "      <td>2015.0</td>\n",
              "      <td>2015.0</td>\n",
              "      <td>2015.0</td>\n",
              "      <td>2015.0</td>\n",
              "      <td>1.0</td>\n",
              "      <td>42500.000000</td>\n",
              "      <td>NaN</td>\n",
              "      <td>42500.0</td>\n",
              "      <td>42500.0</td>\n",
              "      <td>42500.0</td>\n",
              "      <td>42500.0</td>\n",
              "      <td>42500.0</td>\n",
              "      <td>1.0</td>\n",
              "      <td>3.880000e+08</td>\n",
              "      <td>NaN</td>\n",
              "      <td>388000000.0</td>\n",
              "      <td>388000000.0</td>\n",
              "      <td>388000000.0</td>\n",
              "      <td>388000000.0</td>\n",
              "      <td>388000000.0</td>\n",
              "    </tr>\n",
              "    <tr>\n",
              "      <th>220E</th>\n",
              "      <td>1.0</td>\n",
              "      <td>77057.000000</td>\n",
              "      <td>NaN</td>\n",
              "      <td>77057.0</td>\n",
              "      <td>77057.00</td>\n",
              "      <td>77057.0</td>\n",
              "      <td>77057.0</td>\n",
              "      <td>77057.0</td>\n",
              "      <td>1.0</td>\n",
              "      <td>5.000000</td>\n",
              "      <td>NaN</td>\n",
              "      <td>5.0</td>\n",
              "      <td>5.0</td>\n",
              "      <td>5.0</td>\n",
              "      <td>5.0</td>\n",
              "      <td>5.0</td>\n",
              "      <td>1.0</td>\n",
              "      <td>1994.000000</td>\n",
              "      <td>NaN</td>\n",
              "      <td>1994.0</td>\n",
              "      <td>1994.0</td>\n",
              "      <td>1994.0</td>\n",
              "      <td>1994.0</td>\n",
              "      <td>1994.0</td>\n",
              "      <td>1.0</td>\n",
              "      <td>182500.000000</td>\n",
              "      <td>NaN</td>\n",
              "      <td>182500.0</td>\n",
              "      <td>182500.0</td>\n",
              "      <td>182500.0</td>\n",
              "      <td>182500.0</td>\n",
              "      <td>182500.0</td>\n",
              "      <td>1.0</td>\n",
              "      <td>5.400000e+07</td>\n",
              "      <td>NaN</td>\n",
              "      <td>54000000.0</td>\n",
              "      <td>54000000.0</td>\n",
              "      <td>54000000.0</td>\n",
              "      <td>54000000.0</td>\n",
              "      <td>54000000.0</td>\n",
              "    </tr>\n",
              "    <tr>\n",
              "      <th>...</th>\n",
              "      <td>...</td>\n",
              "      <td>...</td>\n",
              "      <td>...</td>\n",
              "      <td>...</td>\n",
              "      <td>...</td>\n",
              "      <td>...</td>\n",
              "      <td>...</td>\n",
              "      <td>...</td>\n",
              "      <td>...</td>\n",
              "      <td>...</td>\n",
              "      <td>...</td>\n",
              "      <td>...</td>\n",
              "      <td>...</td>\n",
              "      <td>...</td>\n",
              "      <td>...</td>\n",
              "      <td>...</td>\n",
              "      <td>...</td>\n",
              "      <td>...</td>\n",
              "      <td>...</td>\n",
              "      <td>...</td>\n",
              "      <td>...</td>\n",
              "      <td>...</td>\n",
              "      <td>...</td>\n",
              "      <td>...</td>\n",
              "      <td>...</td>\n",
              "      <td>...</td>\n",
              "      <td>...</td>\n",
              "      <td>...</td>\n",
              "      <td>...</td>\n",
              "      <td>...</td>\n",
              "      <td>...</td>\n",
              "      <td>...</td>\n",
              "      <td>...</td>\n",
              "      <td>...</td>\n",
              "      <td>...</td>\n",
              "      <td>...</td>\n",
              "      <td>...</td>\n",
              "      <td>...</td>\n",
              "      <td>...</td>\n",
              "      <td>...</td>\n",
              "    </tr>\n",
              "    <tr>\n",
              "      <th>Yaris</th>\n",
              "      <td>146.0</td>\n",
              "      <td>45961.239726</td>\n",
              "      <td>26482.298437</td>\n",
              "      <td>1525.0</td>\n",
              "      <td>21983.75</td>\n",
              "      <td>46957.5</td>\n",
              "      <td>68787.5</td>\n",
              "      <td>88305.0</td>\n",
              "      <td>146.0</td>\n",
              "      <td>5.000000</td>\n",
              "      <td>0.00000</td>\n",
              "      <td>5.0</td>\n",
              "      <td>5.0</td>\n",
              "      <td>5.0</td>\n",
              "      <td>5.0</td>\n",
              "      <td>5.0</td>\n",
              "      <td>146.0</td>\n",
              "      <td>2013.068493</td>\n",
              "      <td>3.093168</td>\n",
              "      <td>2007.0</td>\n",
              "      <td>2011.0</td>\n",
              "      <td>2013.0</td>\n",
              "      <td>2016.0</td>\n",
              "      <td>2019.0</td>\n",
              "      <td>146.0</td>\n",
              "      <td>51364.363014</td>\n",
              "      <td>33835.645463</td>\n",
              "      <td>100.0</td>\n",
              "      <td>30000.0</td>\n",
              "      <td>46000.0</td>\n",
              "      <td>69500.0</td>\n",
              "      <td>175000.0</td>\n",
              "      <td>146.0</td>\n",
              "      <td>1.473658e+08</td>\n",
              "      <td>3.602926e+07</td>\n",
              "      <td>80000000.0</td>\n",
              "      <td>118125000.0</td>\n",
              "      <td>140000000.0</td>\n",
              "      <td>175750000.0</td>\n",
              "      <td>250000000.0</td>\n",
              "    </tr>\n",
              "    <tr>\n",
              "      <th>Z4</th>\n",
              "      <td>2.0</td>\n",
              "      <td>10453.000000</td>\n",
              "      <td>8199.610235</td>\n",
              "      <td>4655.0</td>\n",
              "      <td>7554.00</td>\n",
              "      <td>10453.0</td>\n",
              "      <td>13352.0</td>\n",
              "      <td>16251.0</td>\n",
              "      <td>2.0</td>\n",
              "      <td>2.000000</td>\n",
              "      <td>0.00000</td>\n",
              "      <td>2.0</td>\n",
              "      <td>2.0</td>\n",
              "      <td>2.0</td>\n",
              "      <td>2.0</td>\n",
              "      <td>2.0</td>\n",
              "      <td>2.0</td>\n",
              "      <td>2014.000000</td>\n",
              "      <td>0.000000</td>\n",
              "      <td>2014.0</td>\n",
              "      <td>2014.0</td>\n",
              "      <td>2014.0</td>\n",
              "      <td>2014.0</td>\n",
              "      <td>2014.0</td>\n",
              "      <td>2.0</td>\n",
              "      <td>19250.000000</td>\n",
              "      <td>2474.873734</td>\n",
              "      <td>17500.0</td>\n",
              "      <td>18375.0</td>\n",
              "      <td>19250.0</td>\n",
              "      <td>20125.0</td>\n",
              "      <td>21000.0</td>\n",
              "      <td>2.0</td>\n",
              "      <td>8.500000e+08</td>\n",
              "      <td>2.121320e+07</td>\n",
              "      <td>835000000.0</td>\n",
              "      <td>842500000.0</td>\n",
              "      <td>850000000.0</td>\n",
              "      <td>857500000.0</td>\n",
              "      <td>865000000.0</td>\n",
              "    </tr>\n",
              "    <tr>\n",
              "      <th>Zebra</th>\n",
              "      <td>3.0</td>\n",
              "      <td>31863.333333</td>\n",
              "      <td>5384.866789</td>\n",
              "      <td>26573.0</td>\n",
              "      <td>29126.00</td>\n",
              "      <td>31679.0</td>\n",
              "      <td>34508.5</td>\n",
              "      <td>37338.0</td>\n",
              "      <td>3.0</td>\n",
              "      <td>6.333333</td>\n",
              "      <td>3.05505</td>\n",
              "      <td>3.0</td>\n",
              "      <td>5.0</td>\n",
              "      <td>7.0</td>\n",
              "      <td>8.0</td>\n",
              "      <td>9.0</td>\n",
              "      <td>3.0</td>\n",
              "      <td>2003.000000</td>\n",
              "      <td>6.082763</td>\n",
              "      <td>1996.0</td>\n",
              "      <td>2001.0</td>\n",
              "      <td>2006.0</td>\n",
              "      <td>2006.5</td>\n",
              "      <td>2007.0</td>\n",
              "      <td>3.0</td>\n",
              "      <td>260833.333333</td>\n",
              "      <td>337141.785208</td>\n",
              "      <td>57500.0</td>\n",
              "      <td>66250.0</td>\n",
              "      <td>75000.0</td>\n",
              "      <td>362500.0</td>\n",
              "      <td>650000.0</td>\n",
              "      <td>3.0</td>\n",
              "      <td>4.050000e+07</td>\n",
              "      <td>9.987492e+06</td>\n",
              "      <td>29500000.0</td>\n",
              "      <td>36250000.0</td>\n",
              "      <td>43000000.0</td>\n",
              "      <td>46000000.0</td>\n",
              "      <td>49000000.0</td>\n",
              "    </tr>\n",
              "    <tr>\n",
              "      <th>fortwo</th>\n",
              "      <td>3.0</td>\n",
              "      <td>47591.000000</td>\n",
              "      <td>23966.621310</td>\n",
              "      <td>26068.0</td>\n",
              "      <td>34677.50</td>\n",
              "      <td>43287.0</td>\n",
              "      <td>58352.5</td>\n",
              "      <td>73418.0</td>\n",
              "      <td>3.0</td>\n",
              "      <td>2.000000</td>\n",
              "      <td>0.00000</td>\n",
              "      <td>2.0</td>\n",
              "      <td>2.0</td>\n",
              "      <td>2.0</td>\n",
              "      <td>2.0</td>\n",
              "      <td>2.0</td>\n",
              "      <td>3.0</td>\n",
              "      <td>2010.333333</td>\n",
              "      <td>0.577350</td>\n",
              "      <td>2010.0</td>\n",
              "      <td>2010.0</td>\n",
              "      <td>2010.0</td>\n",
              "      <td>2010.5</td>\n",
              "      <td>2011.0</td>\n",
              "      <td>3.0</td>\n",
              "      <td>34666.666667</td>\n",
              "      <td>22143.471574</td>\n",
              "      <td>19000.0</td>\n",
              "      <td>22000.0</td>\n",
              "      <td>25000.0</td>\n",
              "      <td>42500.0</td>\n",
              "      <td>60000.0</td>\n",
              "      <td>3.0</td>\n",
              "      <td>1.983333e+08</td>\n",
              "      <td>1.527525e+07</td>\n",
              "      <td>185000000.0</td>\n",
              "      <td>190000000.0</td>\n",
              "      <td>195000000.0</td>\n",
              "      <td>205000000.0</td>\n",
              "      <td>215000000.0</td>\n",
              "    </tr>\n",
              "    <tr>\n",
              "      <th>i10</th>\n",
              "      <td>1.0</td>\n",
              "      <td>29732.000000</td>\n",
              "      <td>NaN</td>\n",
              "      <td>29732.0</td>\n",
              "      <td>29732.00</td>\n",
              "      <td>29732.0</td>\n",
              "      <td>29732.0</td>\n",
              "      <td>29732.0</td>\n",
              "      <td>1.0</td>\n",
              "      <td>5.000000</td>\n",
              "      <td>NaN</td>\n",
              "      <td>5.0</td>\n",
              "      <td>5.0</td>\n",
              "      <td>5.0</td>\n",
              "      <td>5.0</td>\n",
              "      <td>5.0</td>\n",
              "      <td>1.0</td>\n",
              "      <td>2011.000000</td>\n",
              "      <td>NaN</td>\n",
              "      <td>2011.0</td>\n",
              "      <td>2011.0</td>\n",
              "      <td>2011.0</td>\n",
              "      <td>2011.0</td>\n",
              "      <td>2011.0</td>\n",
              "      <td>1.0</td>\n",
              "      <td>72500.000000</td>\n",
              "      <td>NaN</td>\n",
              "      <td>72500.0</td>\n",
              "      <td>72500.0</td>\n",
              "      <td>72500.0</td>\n",
              "      <td>72500.0</td>\n",
              "      <td>72500.0</td>\n",
              "      <td>1.0</td>\n",
              "      <td>5.800000e+07</td>\n",
              "      <td>NaN</td>\n",
              "      <td>58000000.0</td>\n",
              "      <td>58000000.0</td>\n",
              "      <td>58000000.0</td>\n",
              "      <td>58000000.0</td>\n",
              "      <td>58000000.0</td>\n",
              "    </tr>\n",
              "  </tbody>\n",
              "</table>\n",
              "<p>321 rows × 40 columns</p>\n",
              "</div>"
            ],
            "text/plain": [
              "           id                ...        price             \n",
              "        count          mean  ...          75%          max\n",
              "model                        ...                          \n",
              "107       1.0   7959.000000  ...  158000000.0  158000000.0\n",
              "2        54.0  47649.370370  ...  181250000.0  218000000.0\n",
              "207       1.0  75960.000000  ...  100000000.0  100000000.0\n",
              "218i      1.0  40751.000000  ...  388000000.0  388000000.0\n",
              "220E      1.0  77057.000000  ...   54000000.0   54000000.0\n",
              "...       ...           ...  ...          ...          ...\n",
              "Yaris   146.0  45961.239726  ...  175750000.0  250000000.0\n",
              "Z4        2.0  10453.000000  ...  857500000.0  865000000.0\n",
              "Zebra     3.0  31863.333333  ...   46000000.0   49000000.0\n",
              "fortwo    3.0  47591.000000  ...  205000000.0  215000000.0\n",
              "i10       1.0  29732.000000  ...   58000000.0   58000000.0\n",
              "\n",
              "[321 rows x 40 columns]"
            ]
          },
          "metadata": {
            "tags": []
          },
          "execution_count": 29
        }
      ]
    },
    {
      "cell_type": "code",
      "metadata": {
        "id": "s_tIBacUX1Mc"
      },
      "source": [
        ""
      ],
      "execution_count": null,
      "outputs": []
    },
    {
      "cell_type": "markdown",
      "metadata": {
        "id": "q0jvbTd2X4Jy"
      },
      "source": [
        "**Correlation Mapping**"
      ]
    },
    {
      "cell_type": "code",
      "metadata": {
        "colab": {
          "base_uri": "https://localhost:8080/",
          "height": 556
        },
        "id": "RGRWQUZhX63n",
        "outputId": "3eefc6cf-7c17-41ad-9635-8f3184f799be"
      },
      "source": [
        "f, ax = plt.subplots(figsize=(11, 9))\r\n",
        "cmap = sns.diverging_palette(230, 20, as_cmap=True)\r\n",
        "\r\n",
        "sns.heatmap(dt.corr(),annot=True, cmap=cmap, vmax=.3, center=0,\r\n",
        "            square=True, linewidths=.5, cbar_kws={\"shrink\": .5})\r\n",
        "plt.title(\"Correlation Matrix Cars\",fontweight=\"bold\")\r\n",
        "plt.show()"
      ],
      "execution_count": null,
      "outputs": [
        {
          "output_type": "display_data",
          "data": {
            "image/png": "[encoded data removed]",
            "text/plain": [
              "<Figure size 792x648 with 2 Axes>"
            ]
          },
          "metadata": {
            "tags": []
          }
        }
      ]
    },
    {
      "cell_type": "code",
      "metadata": {
        "id": "VvqKrPSHX8Dk"
      },
      "source": [
        ""
      ],
      "execution_count": null,
      "outputs": []
    },
    {
      "cell_type": "markdown",
      "metadata": {
        "id": "gcAtSwn3X-7o"
      },
      "source": [
        "**Evaluasi Model**"
      ]
    },
    {
      "cell_type": "code",
      "metadata": {
        "colab": {
          "base_uri": "https://localhost:8080/",
          "height": 535
        },
        "id": "2AjM8f_jYBv3",
        "outputId": "ff593f46-3bd4-4e15-ecb6-1ebec3b7849d"
      },
      "source": [
        "dt[[\"title\",\"milage\"]].nlargest(20,\"milage\").plot.bar(x=\"title\",y=\"milage\",width=0.4,)#'vertical', 'horizontal',color=color\r\n",
        "plt.title(\"Top 20 Cars \",fontsize=20)\r\n",
        "plt.xlabel(\"Name of the Cars\",fontsize=15)\r\n",
        "plt.ylabel(\"No.of Reviews\",fontsize=15)\r\n",
        "plt.show()"
      ],
      "execution_count": null,
      "outputs": [
        {
          "output_type": "display_data",
          "data": {
            "image/png": "[encoded data removed]",
            "text/plain": [
              "<Figure size 432x288 with 1 Axes>"
            ]
          },
          "metadata": {
            "tags": []
          }
        }
      ]
    },
    {
      "cell_type": "code",
      "metadata": {
        "id": "Xg9K6PHZYD5F"
      },
      "source": [
        ""
      ],
      "execution_count": null,
      "outputs": []
    },
    {
      "cell_type": "markdown",
      "metadata": {
        "id": "AaCz0LpmYIwQ"
      },
      "source": [
        "**Menganalisa model mobil review tertinggi**"
      ]
    },
    {
      "cell_type": "code",
      "metadata": {
        "colab": {
          "base_uri": "https://localhost:8080/",
          "height": 168
        },
        "id": "_xlb_mUbYNEm",
        "outputId": "498e7d40-c34c-4284-8dfe-1012d59ec3e6"
      },
      "source": [
        "dt[dt.model == max(dt.model)]"
      ],
      "execution_count": null,
      "outputs": [
        {
          "output_type": "execute_result",
          "data": {
            "text/html": [
              "<div>\n",
              "<style scoped>\n",
              "    .dataframe tbody tr th:only-of-type {\n",
              "        vertical-align: middle;\n",
              "    }\n",
              "\n",
              "    .dataframe tbody tr th {\n",
              "        vertical-align: top;\n",
              "    }\n",
              "\n",
              "    .dataframe thead th {\n",
              "        text-align: right;\n",
              "    }\n",
              "</style>\n",
              "<table border=\"1\" class=\"dataframe\">\n",
              "  <thead>\n",
              "    <tr style=\"text-align: right;\">\n",
              "      <th></th>\n",
              "      <th>id</th>\n",
              "      <th>title</th>\n",
              "      <th>band</th>\n",
              "      <th>model</th>\n",
              "      <th>variant</th>\n",
              "      <th>fuelType</th>\n",
              "      <th>bodytype</th>\n",
              "      <th>tramsmission</th>\n",
              "      <th>seating</th>\n",
              "      <th>year</th>\n",
              "      <th>milage</th>\n",
              "      <th>color</th>\n",
              "      <th>image</th>\n",
              "      <th>place</th>\n",
              "      <th>price</th>\n",
              "    </tr>\n",
              "  </thead>\n",
              "  <tbody>\n",
              "    <tr>\n",
              "      <th>5086</th>\n",
              "      <td>29732</td>\n",
              "      <td>2011 Hyundai i10 1.1 GLS Hatchback</td>\n",
              "      <td>Hyundai</td>\n",
              "      <td>i10</td>\n",
              "      <td>GLS</td>\n",
              "      <td>Pertamax</td>\n",
              "      <td>Hatchback</td>\n",
              "      <td>Automatic</td>\n",
              "      <td>5</td>\n",
              "      <td>2011</td>\n",
              "      <td>72500</td>\n",
              "      <td>Silver</td>\n",
              "      <td>https://img4.icarcdn.com/9253405/thumb-l_used-...</td>\n",
              "      <td>Jakarta Barat</td>\n",
              "      <td>58000000</td>\n",
              "    </tr>\n",
              "  </tbody>\n",
              "</table>\n",
              "</div>"
            ],
            "text/plain": [
              "         id                               title  ...          place     price\n",
              "5086  29732  2011 Hyundai i10 1.1 GLS Hatchback  ...  Jakarta Barat  58000000\n",
              "\n",
              "[1 rows x 15 columns]"
            ]
          },
          "metadata": {
            "tags": []
          },
          "execution_count": 32
        }
      ]
    },
    {
      "cell_type": "code",
      "metadata": {
        "id": "CtIGpHOEYNub"
      },
      "source": [
        ""
      ],
      "execution_count": null,
      "outputs": []
    },
    {
      "cell_type": "markdown",
      "metadata": {
        "id": "5IKwmTDaYQPi"
      },
      "source": [
        "**Menganalisa model mobil review terendah**"
      ]
    },
    {
      "cell_type": "code",
      "metadata": {
        "colab": {
          "base_uri": "https://localhost:8080/",
          "height": 168
        },
        "id": "BT8ugPtQYU4c",
        "outputId": "436d531f-31ce-469a-aa71-976258551913"
      },
      "source": [
        "dt[dt.model == min(dt.model)]"
      ],
      "execution_count": null,
      "outputs": [
        {
          "output_type": "execute_result",
          "data": {
            "text/html": [
              "<div>\n",
              "<style scoped>\n",
              "    .dataframe tbody tr th:only-of-type {\n",
              "        vertical-align: middle;\n",
              "    }\n",
              "\n",
              "    .dataframe tbody tr th {\n",
              "        vertical-align: top;\n",
              "    }\n",
              "\n",
              "    .dataframe thead th {\n",
              "        text-align: right;\n",
              "    }\n",
              "</style>\n",
              "<table border=\"1\" class=\"dataframe\">\n",
              "  <thead>\n",
              "    <tr style=\"text-align: right;\">\n",
              "      <th></th>\n",
              "      <th>id</th>\n",
              "      <th>title</th>\n",
              "      <th>band</th>\n",
              "      <th>model</th>\n",
              "      <th>variant</th>\n",
              "      <th>fuelType</th>\n",
              "      <th>bodytype</th>\n",
              "      <th>tramsmission</th>\n",
              "      <th>seating</th>\n",
              "      <th>year</th>\n",
              "      <th>milage</th>\n",
              "      <th>color</th>\n",
              "      <th>image</th>\n",
              "      <th>place</th>\n",
              "      <th>price</th>\n",
              "    </tr>\n",
              "  </thead>\n",
              "  <tbody>\n",
              "    <tr>\n",
              "      <th>4454</th>\n",
              "      <td>7959</td>\n",
              "      <td>2013 Peugeot 107 1.0 107 Hatchback</td>\n",
              "      <td>Peugeot</td>\n",
              "      <td>107</td>\n",
              "      <td>107</td>\n",
              "      <td>Pertamax</td>\n",
              "      <td>Hatchback</td>\n",
              "      <td>Automatic</td>\n",
              "      <td>5</td>\n",
              "      <td>2013</td>\n",
              "      <td>4000</td>\n",
              "      <td>Ungu</td>\n",
              "      <td>https://img1.icarcdn.com/1043085/thumb-l_used-...</td>\n",
              "      <td>Jember</td>\n",
              "      <td>158000000</td>\n",
              "    </tr>\n",
              "  </tbody>\n",
              "</table>\n",
              "</div>"
            ],
            "text/plain": [
              "        id                               title  ...   place      price\n",
              "4454  7959  2013 Peugeot 107 1.0 107 Hatchback  ...  Jember  158000000\n",
              "\n",
              "[1 rows x 15 columns]"
            ]
          },
          "metadata": {
            "tags": []
          },
          "execution_count": 33
        }
      ]
    },
    {
      "cell_type": "code",
      "metadata": {
        "id": "fdpyJ00_YaJK"
      },
      "source": [
        ""
      ],
      "execution_count": null,
      "outputs": []
    },
    {
      "cell_type": "markdown",
      "metadata": {
        "id": "DkryfTARYc9B"
      },
      "source": [
        "**Melihat mobil berdasarkan tahun**"
      ]
    },
    {
      "cell_type": "code",
      "metadata": {
        "colab": {
          "base_uri": "https://localhost:8080/"
        },
        "id": "eb6vYop8YgV9",
        "outputId": "cf61a2dc-da28-4b73-cdb8-2789ee43f35f"
      },
      "source": [
        "dt[\"year\"].value_counts()"
      ],
      "execution_count": null,
      "outputs": [
        {
          "output_type": "execute_result",
          "data": {
            "text/plain": [
              "2015    713\n",
              "2014    710\n",
              "2016    708\n",
              "2013    640\n",
              "2017    635\n",
              "2012    545\n",
              "2018    365\n",
              "2011    310\n",
              "2010    241\n",
              "2009    132\n",
              "2008    120\n",
              "2019     90\n",
              "2007     89\n",
              "2005     52\n",
              "2004     44\n",
              "2006     35\n",
              "2003     28\n",
              "2000     19\n",
              "2001     19\n",
              "2002     19\n",
              "1996     13\n",
              "1997     12\n",
              "1995      7\n",
              "1994      6\n",
              "1999      6\n",
              "1998      5\n",
              "1991      5\n",
              "1988      3\n",
              "1993      3\n",
              "1990      3\n",
              "1992      2\n",
              "1977      1\n",
              "1981      1\n",
              "1989      1\n",
              "1986      1\n",
              "1979      1\n",
              "1978      1\n",
              "Name: year, dtype: int64"
            ]
          },
          "metadata": {
            "tags": []
          },
          "execution_count": 34
        },
        {
          "output_type": "execute_result",
          "data": {
            "text/plain": [
              "2015    713\n",
              "2014    710\n",
              "2016    708\n",
              "2013    640\n",
              "2017    635\n",
              "2012    545\n",
              "2018    365\n",
              "2011    310\n",
              "2010    241\n",
              "2009    132\n",
              "2008    120\n",
              "2019     90\n",
              "2007     89\n",
              "2005     52\n",
              "2004     44\n",
              "2006     35\n",
              "2003     28\n",
              "2000     19\n",
              "2001     19\n",
              "2002     19\n",
              "1996     13\n",
              "1997     12\n",
              "1995      7\n",
              "1994      6\n",
              "1999      6\n",
              "1998      5\n",
              "1991      5\n",
              "1988      3\n",
              "1993      3\n",
              "1990      3\n",
              "1992      2\n",
              "1977      1\n",
              "1981      1\n",
              "1989      1\n",
              "1986      1\n",
              "1979      1\n",
              "1978      1\n",
              "Name: year, dtype: int64"
            ]
          },
          "metadata": {
            "tags": []
          },
          "execution_count": 35
        }
      ]
    },
    {
      "cell_type": "code",
      "metadata": {
        "id": "hgXPdMEWYhBb"
      },
      "source": [
        ""
      ],
      "execution_count": null,
      "outputs": []
    },
    {
      "cell_type": "markdown",
      "metadata": {
        "id": "equEa14BYmja"
      },
      "source": [
        "**Analisa mobil top 50**"
      ]
    },
    {
      "cell_type": "code",
      "metadata": {
        "colab": {
          "base_uri": "https://localhost:8080/",
          "height": 1000
        },
        "id": "0IzbAMVUYqAr",
        "outputId": "71a41748-8104-43f4-efd5-3937b7e2de55"
      },
      "source": [
        "dt[[\"title\",\"year\",\"model\",\"variant\"]].nlargest(50,\"year\")"
      ],
      "execution_count": null,
      "outputs": [
        {
          "output_type": "execute_result",
          "data": {
            "text/html": [
              "<div>\n",
              "<style scoped>\n",
              "    .dataframe tbody tr th:only-of-type {\n",
              "        vertical-align: middle;\n",
              "    }\n",
              "\n",
              "    .dataframe tbody tr th {\n",
              "        vertical-align: top;\n",
              "    }\n",
              "\n",
              "    .dataframe thead th {\n",
              "        text-align: right;\n",
              "    }\n",
              "</style>\n",
              "<table border=\"1\" class=\"dataframe\">\n",
              "  <thead>\n",
              "    <tr style=\"text-align: right;\">\n",
              "      <th></th>\n",
              "      <th>title</th>\n",
              "      <th>year</th>\n",
              "      <th>model</th>\n",
              "      <th>variant</th>\n",
              "    </tr>\n",
              "  </thead>\n",
              "  <tbody>\n",
              "    <tr>\n",
              "      <th>84</th>\n",
              "      <td>2019 Suzuki Ignis 1.2 Sport Hatchback</td>\n",
              "      <td>2019</td>\n",
              "      <td>Ignis</td>\n",
              "      <td>Sport</td>\n",
              "    </tr>\n",
              "    <tr>\n",
              "      <th>330</th>\n",
              "      <td>2019 BMW 330i 2.0 M Sport Sedan</td>\n",
              "      <td>2019</td>\n",
              "      <td>330i</td>\n",
              "      <td>M Sport</td>\n",
              "    </tr>\n",
              "    <tr>\n",
              "      <th>434</th>\n",
              "      <td>2019 Suzuki Ertiga 1.5 GL MPV</td>\n",
              "      <td>2019</td>\n",
              "      <td>Ertiga</td>\n",
              "      <td>GL</td>\n",
              "    </tr>\n",
              "    <tr>\n",
              "      <th>492</th>\n",
              "      <td>2019 Toyota Vellfire 2.5 G Van Wagon</td>\n",
              "      <td>2019</td>\n",
              "      <td>Vellfire</td>\n",
              "      <td>G</td>\n",
              "    </tr>\n",
              "    <tr>\n",
              "      <th>578</th>\n",
              "      <td>2019 Honda Brio 1.2 Satya E Hatchback</td>\n",
              "      <td>2019</td>\n",
              "      <td>Brio</td>\n",
              "      <td>Satya E</td>\n",
              "    </tr>\n",
              "    <tr>\n",
              "      <th>598</th>\n",
              "      <td>2019 Toyota Kijang Innova 2.0 G MPV</td>\n",
              "      <td>2019</td>\n",
              "      <td>Kijang Innova</td>\n",
              "      <td>G</td>\n",
              "    </tr>\n",
              "    <tr>\n",
              "      <th>599</th>\n",
              "      <td>2019 Daihatsu Terios 1.5 R SUV</td>\n",
              "      <td>2019</td>\n",
              "      <td>Terios</td>\n",
              "      <td>R</td>\n",
              "    </tr>\n",
              "    <tr>\n",
              "      <th>655</th>\n",
              "      <td>2019 Honda Mobilio 1.5 E MPV</td>\n",
              "      <td>2019</td>\n",
              "      <td>Mobilio</td>\n",
              "      <td>E</td>\n",
              "    </tr>\n",
              "    <tr>\n",
              "      <th>702</th>\n",
              "      <td>2019 Mercedes-Benz GLC200 2.0 AMG Night Editio...</td>\n",
              "      <td>2019</td>\n",
              "      <td>GLC200</td>\n",
              "      <td>AMG Night Edition</td>\n",
              "    </tr>\n",
              "    <tr>\n",
              "      <th>827</th>\n",
              "      <td>2019 Toyota Agya 1.2 TRD Hatchback</td>\n",
              "      <td>2019</td>\n",
              "      <td>Agya</td>\n",
              "      <td>TRD</td>\n",
              "    </tr>\n",
              "    <tr>\n",
              "      <th>829</th>\n",
              "      <td>2019 Honda Brio 1.2 Satya E Hatchback</td>\n",
              "      <td>2019</td>\n",
              "      <td>Brio</td>\n",
              "      <td>Satya E</td>\n",
              "    </tr>\n",
              "    <tr>\n",
              "      <th>844</th>\n",
              "      <td>2019 Toyota Calya 1.2 E MPV</td>\n",
              "      <td>2019</td>\n",
              "      <td>Calya</td>\n",
              "      <td>E</td>\n",
              "    </tr>\n",
              "    <tr>\n",
              "      <th>868</th>\n",
              "      <td>2019 Honda HR-V 1.8 Prestige SUV</td>\n",
              "      <td>2019</td>\n",
              "      <td>HR-V</td>\n",
              "      <td>Prestige</td>\n",
              "    </tr>\n",
              "    <tr>\n",
              "      <th>937</th>\n",
              "      <td>2019 Honda Mobilio 1.5 RS MPV</td>\n",
              "      <td>2019</td>\n",
              "      <td>Mobilio</td>\n",
              "      <td>RS</td>\n",
              "    </tr>\n",
              "    <tr>\n",
              "      <th>959</th>\n",
              "      <td>2019 Toyota Yaris 1.5 G Hatchback</td>\n",
              "      <td>2019</td>\n",
              "      <td>Yaris</td>\n",
              "      <td>G</td>\n",
              "    </tr>\n",
              "    <tr>\n",
              "      <th>966</th>\n",
              "      <td>2019 Mercedes-Benz C200 1.5 Avantgarde Sedan</td>\n",
              "      <td>2019</td>\n",
              "      <td>C200</td>\n",
              "      <td>Avantgarde</td>\n",
              "    </tr>\n",
              "    <tr>\n",
              "      <th>990</th>\n",
              "      <td>2019 Toyota Avanza 1.3 Veloz MPV</td>\n",
              "      <td>2019</td>\n",
              "      <td>Avanza</td>\n",
              "      <td>Veloz</td>\n",
              "    </tr>\n",
              "    <tr>\n",
              "      <th>1123</th>\n",
              "      <td>2019 Honda Brio 1.2 Satya E Hatchback</td>\n",
              "      <td>2019</td>\n",
              "      <td>Brio</td>\n",
              "      <td>Satya E</td>\n",
              "    </tr>\n",
              "    <tr>\n",
              "      <th>1200</th>\n",
              "      <td>2019 Mercedes-Benz GLC200 2.0 AMG SUV</td>\n",
              "      <td>2019</td>\n",
              "      <td>GLC200</td>\n",
              "      <td>AMG</td>\n",
              "    </tr>\n",
              "    <tr>\n",
              "      <th>1249</th>\n",
              "      <td>2019 Jeep Wrangler 2.0 Rubicon SUV</td>\n",
              "      <td>2019</td>\n",
              "      <td>Wrangler</td>\n",
              "      <td>Rubicon</td>\n",
              "    </tr>\n",
              "    <tr>\n",
              "      <th>1300</th>\n",
              "      <td>2019 Toyota Avanza 1.3 G MPV</td>\n",
              "      <td>2019</td>\n",
              "      <td>Avanza</td>\n",
              "      <td>G</td>\n",
              "    </tr>\n",
              "    <tr>\n",
              "      <th>1328</th>\n",
              "      <td>2019 Mazda 3 2.0 SKYACTIV-G Hatchback</td>\n",
              "      <td>2019</td>\n",
              "      <td>3</td>\n",
              "      <td>SKYACTIV-G</td>\n",
              "    </tr>\n",
              "    <tr>\n",
              "      <th>1334</th>\n",
              "      <td>2019 Honda Mobilio 1.5 RS MPV</td>\n",
              "      <td>2019</td>\n",
              "      <td>Mobilio</td>\n",
              "      <td>RS</td>\n",
              "    </tr>\n",
              "    <tr>\n",
              "      <th>1453</th>\n",
              "      <td>2019 Toyota Avanza 1.5 Veloz MPV</td>\n",
              "      <td>2019</td>\n",
              "      <td>Avanza</td>\n",
              "      <td>Veloz</td>\n",
              "    </tr>\n",
              "    <tr>\n",
              "      <th>1503</th>\n",
              "      <td>2019 Toyota Calya 1.2 G MPV</td>\n",
              "      <td>2019</td>\n",
              "      <td>Calya</td>\n",
              "      <td>G</td>\n",
              "    </tr>\n",
              "    <tr>\n",
              "      <th>1628</th>\n",
              "      <td>2019 Suzuki Ertiga 1.5 GX MPV</td>\n",
              "      <td>2019</td>\n",
              "      <td>Ertiga</td>\n",
              "      <td>GX</td>\n",
              "    </tr>\n",
              "    <tr>\n",
              "      <th>1685</th>\n",
              "      <td>2019 Mercedes-Benz C300 2.0 AMG Sedan</td>\n",
              "      <td>2019</td>\n",
              "      <td>C300</td>\n",
              "      <td>AMG</td>\n",
              "    </tr>\n",
              "    <tr>\n",
              "      <th>1808</th>\n",
              "      <td>2019 Honda Mobilio 1.5 E MPV</td>\n",
              "      <td>2019</td>\n",
              "      <td>Mobilio</td>\n",
              "      <td>E</td>\n",
              "    </tr>\n",
              "    <tr>\n",
              "      <th>1821</th>\n",
              "      <td>2019 Suzuki Ertiga 1.5 GL MPV</td>\n",
              "      <td>2019</td>\n",
              "      <td>Ertiga</td>\n",
              "      <td>GL</td>\n",
              "    </tr>\n",
              "    <tr>\n",
              "      <th>1926</th>\n",
              "      <td>2019 Toyota Calya 1.2 E MPV</td>\n",
              "      <td>2019</td>\n",
              "      <td>Calya</td>\n",
              "      <td>E</td>\n",
              "    </tr>\n",
              "    <tr>\n",
              "      <th>1987</th>\n",
              "      <td>2019 Suzuki Ertiga 1.5 GX MPV</td>\n",
              "      <td>2019</td>\n",
              "      <td>Ertiga</td>\n",
              "      <td>GX</td>\n",
              "    </tr>\n",
              "    <tr>\n",
              "      <th>2025</th>\n",
              "      <td>2019 Suzuki Carry 1.5 FD Pick-up</td>\n",
              "      <td>2019</td>\n",
              "      <td>Carry</td>\n",
              "      <td>FD</td>\n",
              "    </tr>\n",
              "    <tr>\n",
              "      <th>2140</th>\n",
              "      <td>2019 Honda Civic 1.5 E Hatchback</td>\n",
              "      <td>2019</td>\n",
              "      <td>Civic</td>\n",
              "      <td>E</td>\n",
              "    </tr>\n",
              "    <tr>\n",
              "      <th>2151</th>\n",
              "      <td>2019 Daihatsu Sigra 1.2 X MPV</td>\n",
              "      <td>2019</td>\n",
              "      <td>Sigra</td>\n",
              "      <td>X</td>\n",
              "    </tr>\n",
              "    <tr>\n",
              "      <th>2187</th>\n",
              "      <td>2019 Lexus LX570 5.7 SUV</td>\n",
              "      <td>2019</td>\n",
              "      <td>LX570</td>\n",
              "      <td>NaN</td>\n",
              "    </tr>\n",
              "    <tr>\n",
              "      <th>2198</th>\n",
              "      <td>2019 MINI Clubman 1.5 Cooper Wagon</td>\n",
              "      <td>2019</td>\n",
              "      <td>Clubman</td>\n",
              "      <td>Cooper</td>\n",
              "    </tr>\n",
              "    <tr>\n",
              "      <th>2234</th>\n",
              "      <td>2019 Toyota Camry 2.5 V Sedan</td>\n",
              "      <td>2019</td>\n",
              "      <td>Camry</td>\n",
              "      <td>V</td>\n",
              "    </tr>\n",
              "    <tr>\n",
              "      <th>2281</th>\n",
              "      <td>2019 Daihatsu Ayla 1.0 D Hatchback</td>\n",
              "      <td>2019</td>\n",
              "      <td>Ayla</td>\n",
              "      <td>D</td>\n",
              "    </tr>\n",
              "    <tr>\n",
              "      <th>2302</th>\n",
              "      <td>2019 Honda Mobilio 1.5 E MPV</td>\n",
              "      <td>2019</td>\n",
              "      <td>Mobilio</td>\n",
              "      <td>E</td>\n",
              "    </tr>\n",
              "    <tr>\n",
              "      <th>2315</th>\n",
              "      <td>2019 Wuling Almaz 1.5 LT Lux Exclusive Wagon</td>\n",
              "      <td>2019</td>\n",
              "      <td>Almaz</td>\n",
              "      <td>LT Lux Exclusive</td>\n",
              "    </tr>\n",
              "    <tr>\n",
              "      <th>2328</th>\n",
              "      <td>2019 Honda Brio 1.2 Satya E Hatchback</td>\n",
              "      <td>2019</td>\n",
              "      <td>Brio</td>\n",
              "      <td>Satya E</td>\n",
              "    </tr>\n",
              "    <tr>\n",
              "      <th>2548</th>\n",
              "      <td>2019 Honda Mobilio 1.5 E MPV</td>\n",
              "      <td>2019</td>\n",
              "      <td>Mobilio</td>\n",
              "      <td>E</td>\n",
              "    </tr>\n",
              "    <tr>\n",
              "      <th>2585</th>\n",
              "      <td>2019 Jeep Wrangler 2.0 Rubicon SUV</td>\n",
              "      <td>2019</td>\n",
              "      <td>Wrangler</td>\n",
              "      <td>Rubicon</td>\n",
              "    </tr>\n",
              "    <tr>\n",
              "      <th>2602</th>\n",
              "      <td>2019 Daihatsu Terios 1.5 R Deluxe SUV</td>\n",
              "      <td>2019</td>\n",
              "      <td>Terios</td>\n",
              "      <td>R Deluxe</td>\n",
              "    </tr>\n",
              "    <tr>\n",
              "      <th>2769</th>\n",
              "      <td>2019 Honda Mobilio 1.5 E MPV</td>\n",
              "      <td>2019</td>\n",
              "      <td>Mobilio</td>\n",
              "      <td>E</td>\n",
              "    </tr>\n",
              "    <tr>\n",
              "      <th>2815</th>\n",
              "      <td>2019 Lexus RX300 2.0 F-Sport SUV</td>\n",
              "      <td>2019</td>\n",
              "      <td>RX300</td>\n",
              "      <td>F-Sport</td>\n",
              "    </tr>\n",
              "    <tr>\n",
              "      <th>2858</th>\n",
              "      <td>2019 Suzuki Carry 1.5 FD Pick-up</td>\n",
              "      <td>2019</td>\n",
              "      <td>Carry</td>\n",
              "      <td>FD</td>\n",
              "    </tr>\n",
              "    <tr>\n",
              "      <th>2868</th>\n",
              "      <td>2019 Honda Mobilio 1.5 E MPV</td>\n",
              "      <td>2019</td>\n",
              "      <td>Mobilio</td>\n",
              "      <td>E</td>\n",
              "    </tr>\n",
              "    <tr>\n",
              "      <th>2874</th>\n",
              "      <td>2019 Mitsubishi Pajero Sport 2.4 Dakar Ultimat...</td>\n",
              "      <td>2019</td>\n",
              "      <td>Pajero Sport</td>\n",
              "      <td>Dakar Ultimate</td>\n",
              "    </tr>\n",
              "    <tr>\n",
              "      <th>2916</th>\n",
              "      <td>2019 Daihatsu Sigra 1.0 M MPV</td>\n",
              "      <td>2019</td>\n",
              "      <td>Sigra</td>\n",
              "      <td>M</td>\n",
              "    </tr>\n",
              "  </tbody>\n",
              "</table>\n",
              "</div>"
            ],
            "text/plain": [
              "                                                  title  ...            variant\n",
              "84                2019 Suzuki Ignis 1.2 Sport Hatchback  ...              Sport\n",
              "330                     2019 BMW 330i 2.0 M Sport Sedan  ...            M Sport\n",
              "434                       2019 Suzuki Ertiga 1.5 GL MPV  ...                 GL\n",
              "492                2019 Toyota Vellfire 2.5 G Van Wagon  ...                  G\n",
              "578               2019 Honda Brio 1.2 Satya E Hatchback  ...            Satya E\n",
              "598                 2019 Toyota Kijang Innova 2.0 G MPV  ...                  G\n",
              "599                      2019 Daihatsu Terios 1.5 R SUV  ...                  R\n",
              "655                        2019 Honda Mobilio 1.5 E MPV  ...                  E\n",
              "702   2019 Mercedes-Benz GLC200 2.0 AMG Night Editio...  ...  AMG Night Edition\n",
              "827                  2019 Toyota Agya 1.2 TRD Hatchback  ...                TRD\n",
              "829               2019 Honda Brio 1.2 Satya E Hatchback  ...            Satya E\n",
              "844                         2019 Toyota Calya 1.2 E MPV  ...                  E\n",
              "868                    2019 Honda HR-V 1.8 Prestige SUV  ...           Prestige\n",
              "937                       2019 Honda Mobilio 1.5 RS MPV  ...                 RS\n",
              "959                   2019 Toyota Yaris 1.5 G Hatchback  ...                  G\n",
              "966        2019 Mercedes-Benz C200 1.5 Avantgarde Sedan  ...         Avantgarde\n",
              "990                    2019 Toyota Avanza 1.3 Veloz MPV  ...              Veloz\n",
              "1123              2019 Honda Brio 1.2 Satya E Hatchback  ...            Satya E\n",
              "1200              2019 Mercedes-Benz GLC200 2.0 AMG SUV  ...                AMG\n",
              "1249                 2019 Jeep Wrangler 2.0 Rubicon SUV  ...            Rubicon\n",
              "1300                       2019 Toyota Avanza 1.3 G MPV  ...                  G\n",
              "1328              2019 Mazda 3 2.0 SKYACTIV-G Hatchback  ...         SKYACTIV-G\n",
              "1334                      2019 Honda Mobilio 1.5 RS MPV  ...                 RS\n",
              "1453                   2019 Toyota Avanza 1.5 Veloz MPV  ...              Veloz\n",
              "1503                        2019 Toyota Calya 1.2 G MPV  ...                  G\n",
              "1628                      2019 Suzuki Ertiga 1.5 GX MPV  ...                 GX\n",
              "1685              2019 Mercedes-Benz C300 2.0 AMG Sedan  ...                AMG\n",
              "1808                       2019 Honda Mobilio 1.5 E MPV  ...                  E\n",
              "1821                      2019 Suzuki Ertiga 1.5 GL MPV  ...                 GL\n",
              "1926                        2019 Toyota Calya 1.2 E MPV  ...                  E\n",
              "1987                      2019 Suzuki Ertiga 1.5 GX MPV  ...                 GX\n",
              "2025                   2019 Suzuki Carry 1.5 FD Pick-up  ...                 FD\n",
              "2140                   2019 Honda Civic 1.5 E Hatchback  ...                  E\n",
              "2151                      2019 Daihatsu Sigra 1.2 X MPV  ...                  X\n",
              "2187                           2019 Lexus LX570 5.7 SUV  ...                NaN\n",
              "2198                 2019 MINI Clubman 1.5 Cooper Wagon  ...             Cooper\n",
              "2234                      2019 Toyota Camry 2.5 V Sedan  ...                  V\n",
              "2281                 2019 Daihatsu Ayla 1.0 D Hatchback  ...                  D\n",
              "2302                       2019 Honda Mobilio 1.5 E MPV  ...                  E\n",
              "2315       2019 Wuling Almaz 1.5 LT Lux Exclusive Wagon  ...   LT Lux Exclusive\n",
              "2328              2019 Honda Brio 1.2 Satya E Hatchback  ...            Satya E\n",
              "2548                       2019 Honda Mobilio 1.5 E MPV  ...                  E\n",
              "2585                 2019 Jeep Wrangler 2.0 Rubicon SUV  ...            Rubicon\n",
              "2602              2019 Daihatsu Terios 1.5 R Deluxe SUV  ...           R Deluxe\n",
              "2769                       2019 Honda Mobilio 1.5 E MPV  ...                  E\n",
              "2815                   2019 Lexus RX300 2.0 F-Sport SUV  ...            F-Sport\n",
              "2858                   2019 Suzuki Carry 1.5 FD Pick-up  ...                 FD\n",
              "2868                       2019 Honda Mobilio 1.5 E MPV  ...                  E\n",
              "2874  2019 Mitsubishi Pajero Sport 2.4 Dakar Ultimat...  ...     Dakar Ultimate\n",
              "2916                      2019 Daihatsu Sigra 1.0 M MPV  ...                  M\n",
              "\n",
              "[50 rows x 4 columns]"
            ]
          },
          "metadata": {
            "tags": []
          },
          "execution_count": 36
        }
      ]
    },
    {
      "cell_type": "code",
      "metadata": {
        "id": "sxKniNF1Yy2S"
      },
      "source": [
        ""
      ],
      "execution_count": null,
      "outputs": []
    }
  ]
}