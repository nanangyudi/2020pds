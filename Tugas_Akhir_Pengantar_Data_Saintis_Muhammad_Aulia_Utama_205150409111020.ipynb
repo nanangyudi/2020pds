{
  "nbformat": 4,
  "nbformat_minor": 0,
  "metadata": {
    "colab": {
      "name": "Tugas Akhir Pengantar Data Saintis Muhammad Aulia Utama 205150409111020",
      "provenance": [],
      "collapsed_sections": [],
      "include_colab_link": true
    },
    "kernelspec": {
      "name": "python3",
      "display_name": "Python 3"
    }
  },
  "cells": [
    {
      "cell_type": "markdown",
      "metadata": {
        "id": "view-in-github",
        "colab_type": "text"
      },
      "source": [
        "<a href=\"https://colab.research.google.com/github/nanangyudi/2020pds_d/blob/main/Tugas_Akhir_Pengantar_Data_Saintis_Muhammad_Aulia_Utama_205150409111020.ipynb\" target=\"_parent\"><img src=\"https://colab.research.google.com/assets/colab-badge.svg\" alt=\"Open In Colab\"/></a>"
      ]
    },
    {
      "cell_type": "code",
      "metadata": {
        "id": "4is_yO1VaBIt"
      },
      "source": [
        " import pandas as pd\n",
        "URL = \"https://raw.githubusercontent.com/muhauliautama/DemoEksplorasiData/main/museum-visitors.csv\""
      ],
      "execution_count": null,
      "outputs": []
    },
    {
      "cell_type": "code",
      "metadata": {
        "id": "Iet2p4zk5RF2"
      },
      "source": [
        "from sklearn.datasets import make_classification\r\n",
        "from matplotlib import pyplot as plt\r\n",
        "from sklearn.linear_model import LogisticRegression\r\n",
        "import seaborn as sns\r\n",
        "sns.set()\r\n",
        "from sklearn.model_selection import train_test_split\r\n",
        "from sklearn.metrics import confusion_matrix\r\n",
        "import pandas as pd"
      ],
      "execution_count": null,
      "outputs": []
    },
    {
      "cell_type": "code",
      "metadata": {
        "colab": {
          "base_uri": "https://localhost:8080/",
          "height": 323
        },
        "id": "WWzhbp_ul48B",
        "outputId": "6c1001b4-0fef-446b-8a50-802da7bc3e48"
      },
      "source": [
        "import os \n",
        "os.listdir ('sample_data')\n",
        "\n",
        "import pandas as pd\n",
        "dt = pd.read_csv(URL, error_bad_lines=False)\n",
        "dt.head()"
      ],
      "execution_count": null,
      "outputs": [
        {
          "output_type": "execute_result",
          "data": {
            "text/html": [
              "<div>\n",
              "<style scoped>\n",
              "    .dataframe tbody tr th:only-of-type {\n",
              "        vertical-align: middle;\n",
              "    }\n",
              "\n",
              "    .dataframe tbody tr th {\n",
              "        vertical-align: top;\n",
              "    }\n",
              "\n",
              "    .dataframe thead th {\n",
              "        text-align: right;\n",
              "    }\n",
              "</style>\n",
              "<table border=\"1\" class=\"dataframe\">\n",
              "  <thead>\n",
              "    <tr style=\"text-align: right;\">\n",
              "      <th></th>\n",
              "      <th>Month</th>\n",
              "      <th>America Tropical Interpretive Center</th>\n",
              "      <th>Avila Adobe</th>\n",
              "      <th>Chinese American Museum</th>\n",
              "      <th>Gateway to Nature Center</th>\n",
              "      <th>Firehouse Museum</th>\n",
              "      <th>Hellman Quon</th>\n",
              "      <th>IAMLA</th>\n",
              "      <th>Pico House</th>\n",
              "      <th>Visitor Center/ El Tranquilo Gallery</th>\n",
              "      <th>Museum of Social Justice</th>\n",
              "      <th>Biscailuz Gallery/ PK Outdoor Exhibit</th>\n",
              "    </tr>\n",
              "  </thead>\n",
              "  <tbody>\n",
              "    <tr>\n",
              "      <th>0</th>\n",
              "      <td>2014-01-01T00:00:00.000</td>\n",
              "      <td>6602</td>\n",
              "      <td>24778</td>\n",
              "      <td>1581</td>\n",
              "      <td>NaN</td>\n",
              "      <td>4486</td>\n",
              "      <td>0.0</td>\n",
              "      <td>NaN</td>\n",
              "      <td>2204.0</td>\n",
              "      <td>2961.0</td>\n",
              "      <td>NaN</td>\n",
              "      <td>NaN</td>\n",
              "    </tr>\n",
              "    <tr>\n",
              "      <th>1</th>\n",
              "      <td>2014-02-01T00:00:00.000</td>\n",
              "      <td>5029</td>\n",
              "      <td>18976</td>\n",
              "      <td>1785</td>\n",
              "      <td>NaN</td>\n",
              "      <td>4172</td>\n",
              "      <td>0.0</td>\n",
              "      <td>NaN</td>\n",
              "      <td>1330.0</td>\n",
              "      <td>2276.0</td>\n",
              "      <td>NaN</td>\n",
              "      <td>NaN</td>\n",
              "    </tr>\n",
              "    <tr>\n",
              "      <th>2</th>\n",
              "      <td>2014-03-01T00:00:00.000</td>\n",
              "      <td>8129</td>\n",
              "      <td>25231</td>\n",
              "      <td>3229</td>\n",
              "      <td>NaN</td>\n",
              "      <td>7082</td>\n",
              "      <td>70.0</td>\n",
              "      <td>NaN</td>\n",
              "      <td>4320.0</td>\n",
              "      <td>3116.0</td>\n",
              "      <td>NaN</td>\n",
              "      <td>NaN</td>\n",
              "    </tr>\n",
              "    <tr>\n",
              "      <th>3</th>\n",
              "      <td>2014-04-01T00:00:00.000</td>\n",
              "      <td>2824</td>\n",
              "      <td>26989</td>\n",
              "      <td>2129</td>\n",
              "      <td>NaN</td>\n",
              "      <td>6756</td>\n",
              "      <td>250.0</td>\n",
              "      <td>NaN</td>\n",
              "      <td>3277.0</td>\n",
              "      <td>2808.0</td>\n",
              "      <td>NaN</td>\n",
              "      <td>NaN</td>\n",
              "    </tr>\n",
              "    <tr>\n",
              "      <th>4</th>\n",
              "      <td>2014-05-01T00:00:00.000</td>\n",
              "      <td>10694</td>\n",
              "      <td>36883</td>\n",
              "      <td>3676</td>\n",
              "      <td>NaN</td>\n",
              "      <td>10858</td>\n",
              "      <td>135.0</td>\n",
              "      <td>NaN</td>\n",
              "      <td>4122.0</td>\n",
              "      <td>3987.0</td>\n",
              "      <td>NaN</td>\n",
              "      <td>NaN</td>\n",
              "    </tr>\n",
              "  </tbody>\n",
              "</table>\n",
              "</div>"
            ],
            "text/plain": [
              "                     Month  ...  Biscailuz Gallery/ PK Outdoor Exhibit\n",
              "0  2014-01-01T00:00:00.000  ...                                    NaN\n",
              "1  2014-02-01T00:00:00.000  ...                                    NaN\n",
              "2  2014-03-01T00:00:00.000  ...                                    NaN\n",
              "3  2014-04-01T00:00:00.000  ...                                    NaN\n",
              "4  2014-05-01T00:00:00.000  ...                                    NaN\n",
              "\n",
              "[5 rows x 12 columns]"
            ]
          },
          "metadata": {
            "tags": []
          },
          "execution_count": 188
        }
      ]
    },
    {
      "cell_type": "code",
      "metadata": {
        "colab": {
          "base_uri": "https://localhost:8080/"
        },
        "id": "4C2UahklNpE0",
        "outputId": "08d66add-72c5-4b1a-ad42-94ec1bec1d0f"
      },
      "source": [
        "df.isna().sum()"
      ],
      "execution_count": null,
      "outputs": [
        {
          "output_type": "execute_result",
          "data": {
            "text/plain": [
              "x    0\n",
              "y    0\n",
              "dtype: int64"
            ]
          },
          "metadata": {
            "tags": []
          },
          "execution_count": 189
        }
      ]
    },
    {
      "cell_type": "code",
      "metadata": {
        "colab": {
          "base_uri": "https://localhost:8080/"
        },
        "id": "Ip5RsQ0EOXxU",
        "outputId": "46fda515-3231-4250-c385-e15fb5df23f6"
      },
      "source": [
        "df.dropna(inplace=True)\n",
        "df.isnull().sum()"
      ],
      "execution_count": null,
      "outputs": [
        {
          "output_type": "execute_result",
          "data": {
            "text/plain": [
              "x    0\n",
              "y    0\n",
              "dtype: int64"
            ]
          },
          "metadata": {
            "tags": []
          },
          "execution_count": 197
        }
      ]
    },
    {
      "cell_type": "code",
      "metadata": {
        "colab": {
          "base_uri": "https://localhost:8080/",
          "height": 359
        },
        "id": "id0-hEoHOmqo",
        "outputId": "2a3fa290-5f23-4f78-8b6a-545ca4c8484e"
      },
      "source": [
        "df.head(10)"
      ],
      "execution_count": null,
      "outputs": [
        {
          "output_type": "execute_result",
          "data": {
            "text/html": [
              "<div>\n",
              "<style scoped>\n",
              "    .dataframe tbody tr th:only-of-type {\n",
              "        vertical-align: middle;\n",
              "    }\n",
              "\n",
              "    .dataframe tbody tr th {\n",
              "        vertical-align: top;\n",
              "    }\n",
              "\n",
              "    .dataframe thead th {\n",
              "        text-align: right;\n",
              "    }\n",
              "</style>\n",
              "<table border=\"1\" class=\"dataframe\">\n",
              "  <thead>\n",
              "    <tr style=\"text-align: right;\">\n",
              "      <th></th>\n",
              "      <th>x</th>\n",
              "      <th>y</th>\n",
              "    </tr>\n",
              "  </thead>\n",
              "  <tbody>\n",
              "    <tr>\n",
              "      <th>8</th>\n",
              "      <td>-2.779306</td>\n",
              "      <td>0</td>\n",
              "    </tr>\n",
              "    <tr>\n",
              "      <th>21</th>\n",
              "      <td>-2.330632</td>\n",
              "      <td>0</td>\n",
              "    </tr>\n",
              "    <tr>\n",
              "      <th>22</th>\n",
              "      <td>-1.954875</td>\n",
              "      <td>0</td>\n",
              "    </tr>\n",
              "    <tr>\n",
              "      <th>16</th>\n",
              "      <td>-1.207807</td>\n",
              "      <td>0</td>\n",
              "    </tr>\n",
              "    <tr>\n",
              "      <th>3</th>\n",
              "      <td>-1.155627</td>\n",
              "      <td>0</td>\n",
              "    </tr>\n",
              "    <tr>\n",
              "      <th>5</th>\n",
              "      <td>-0.822698</td>\n",
              "      <td>0</td>\n",
              "    </tr>\n",
              "    <tr>\n",
              "      <th>20</th>\n",
              "      <td>-0.645067</td>\n",
              "      <td>0</td>\n",
              "    </tr>\n",
              "    <tr>\n",
              "      <th>15</th>\n",
              "      <td>-0.576781</td>\n",
              "      <td>0</td>\n",
              "    </tr>\n",
              "    <tr>\n",
              "      <th>23</th>\n",
              "      <td>0.020203</td>\n",
              "      <td>0</td>\n",
              "    </tr>\n",
              "    <tr>\n",
              "      <th>10</th>\n",
              "      <td>0.321775</td>\n",
              "      <td>0</td>\n",
              "    </tr>\n",
              "  </tbody>\n",
              "</table>\n",
              "</div>"
            ],
            "text/plain": [
              "           x  y\n",
              "8  -2.779306  0\n",
              "21 -2.330632  0\n",
              "22 -1.954875  0\n",
              "16 -1.207807  0\n",
              "3  -1.155627  0\n",
              "5  -0.822698  0\n",
              "20 -0.645067  0\n",
              "15 -0.576781  0\n",
              "23  0.020203  0\n",
              "10  0.321775  0"
            ]
          },
          "metadata": {
            "tags": []
          },
          "execution_count": 198
        }
      ]
    },
    {
      "cell_type": "code",
      "metadata": {
        "colab": {
          "base_uri": "https://localhost:8080/",
          "height": 316
        },
        "id": "IdIb1bhCPCbh",
        "outputId": "db6a1629-282f-4893-9d5e-acbae351616e"
      },
      "source": [
        "import matplotlib.pyplot as plt\n",
        "import pandas as pd\n",
        "dt = pd.read_csv(URL, error_bad_lines=False)\n",
        "\n",
        "#Plots in matplotlib reside within a figure\n",
        "\n",
        "fig=plt.figure()\n",
        "\n",
        "\n",
        "ax = fig.add_subplot(1,1,1)\n",
        "\n",
        "#Variable\n",
        "ax.hist(dt['America Tropical Interpretive Center'],bins = 5)\n",
        "#Labels and Tit\n",
        "plt.title('America Tropical Interpretive Center')\n",
        "plt.xlabel('Chinese American Museum')\n",
        "plt.ylabel('Averange America Tropical Interpretive Center')\n",
        "plt.show()"
      ],
      "execution_count": null,
      "outputs": [
        {
          "output_type": "display_data",
          "data": {
            "image/png": "[encoded data removed]",
            "text/plain": [
              "<Figure size 432x288 with 1 Axes>"
            ]
          },
          "metadata": {
            "tags": []
          }
        }
      ]
    },
    {
      "cell_type": "code",
      "metadata": {
        "colab": {
          "base_uri": "https://localhost:8080/",
          "height": 301
        },
        "id": "XdsrMi4PuUX7",
        "outputId": "16f27fe0-b9a8-468b-c39f-5788d1288cb4"
      },
      "source": [
        "#Plots in matplotlib reside within a figureobject, use plt.figure to create new figure\r\n",
        "fig=plt.figure()\r\n",
        "\r\n",
        "#Create one or more subplots usingadd_subplot, because you can'tcreate blank figure\r\n",
        "ax = fig.add_subplot(1,1,1)\r\n",
        "\r\n",
        "#Variable\r\n",
        "ax.scatter(dt['America Tropical Interpretive Center'],dt['Chinese American Museum'])\r\n",
        "\r\n",
        "#Labels and Title\r\n",
        "plt.title('America Tropical Interpretive Center dan Chinese American Museum')\r\n",
        "plt.xlabel('Chinese American Museum')\r\n",
        "plt.ylabel('America Tropical Interpretive Center')\r\n",
        "plt.show()"
      ],
      "execution_count": null,
      "outputs": [
        {
          "output_type": "display_data",
          "data": {
            "image/png": "[encoded data removed]",
            "text/plain": [
              "<Figure size 432x288 with 1 Axes>"
            ]
          },
          "metadata": {
            "tags": []
          }
        }
      ]
    },
    {
      "cell_type": "code",
      "metadata": {
        "colab": {
          "base_uri": "https://localhost:8080/",
          "height": 339
        },
        "id": "bZu8oOywsVt0",
        "outputId": "9ac1d3a4-f537-4145-ad86-883ad37286cd"
      },
      "source": [
        "import seaborn as sns\n",
        "sns.boxplot(dt['America Tropical Interpretive Center'])\n",
        "sns.despine()"
      ],
      "execution_count": null,
      "outputs": [
        {
          "output_type": "stream",
          "text": [
            "/usr/local/lib/python3.6/dist-packages/seaborn/_decorators.py:43: FutureWarning: Pass the following variable as a keyword arg: x. From version 0.12, the only valid positional argument will be `data`, and passing other arguments without an explicit keyword will result in an error or misinterpretation.\n",
            "  FutureWarning\n"
          ],
          "name": "stderr"
        },
        {
          "output_type": "display_data",
          "data": {
            "image/png": "[encoded data removed]",
            "text/plain": [
              "<Figure size 432x288 with 1 Axes>"
            ]
          },
          "metadata": {
            "tags": []
          }
        }
      ]
    },
    {
      "cell_type": "code",
      "metadata": {
        "colab": {
          "base_uri": "https://localhost:8080/"
        },
        "id": "cu0ZaQbwsoZG",
        "outputId": "b958e728-b413-4431-9f74-7d3bfc6176c5"
      },
      "source": [
        "import pandas as pd\n",
        "df=pd.read_csv(URL, error_bad_lines=False)\n",
        "print (df)\n",
        "test= df.groupby(['America Tropical Interpretive Center','Chinese American Museum'])\n",
        "test.size()"
      ],
      "execution_count": null,
      "outputs": [
        {
          "output_type": "stream",
          "text": [
            "                      Month  ...  Biscailuz Gallery/ PK Outdoor Exhibit\n",
            "0   2014-01-01T00:00:00.000  ...                                    NaN\n",
            "1   2014-02-01T00:00:00.000  ...                                    NaN\n",
            "2   2014-03-01T00:00:00.000  ...                                    NaN\n",
            "3   2014-04-01T00:00:00.000  ...                                    NaN\n",
            "4   2014-05-01T00:00:00.000  ...                                    NaN\n",
            "..                      ...  ...                                    ...\n",
            "78  2020-07-01T00:00:00.000  ...                                    NaN\n",
            "79  2020-08-01T00:00:00.000  ...                                    NaN\n",
            "80  2020-09-01T00:00:00.000  ...                                    NaN\n",
            "81  2020-10-01T00:00:00.000  ...                                 2533.0\n",
            "82  2020-11-01T00:00:00.000  ...                                 3801.0\n",
            "\n",
            "[83 rows x 12 columns]\n"
          ],
          "name": "stdout"
        },
        {
          "output_type": "execute_result",
          "data": {
            "text/plain": [
              "America Tropical Interpretive Center  Chinese American Museum\n",
              "0                                     0                          8\n",
              "1062                                  524                        1\n",
              "2702                                  2388                       1\n",
              "2824                                  2129                       1\n",
              "2907                                  2371                       1\n",
              "                                                                ..\n",
              "12096                                 2415                       1\n",
              "12188                                 2776                       1\n",
              "12524                                 2237                       1\n",
              "13207                                 4009                       1\n",
              "13490                                 2239                       1\n",
              "Length: 76, dtype: int64"
            ]
          },
          "metadata": {
            "tags": []
          },
          "execution_count": 16
        }
      ]
    },
    {
      "cell_type": "code",
      "metadata": {
        "colab": {
          "base_uri": "https://localhost:8080/",
          "height": 552
        },
        "id": "LukCRiGgtOzf",
        "outputId": "340a062a-c707-4d6e-caad-9053d1ed02cf"
      },
      "source": [
        "test= df.groupby(['America Tropical Interpretive Center'])\n",
        "test.describe()"
      ],
      "execution_count": null,
      "outputs": [
        {
          "output_type": "execute_result",
          "data": {
            "text/html": [
              "<div>\n",
              "<style scoped>\n",
              "    .dataframe tbody tr th:only-of-type {\n",
              "        vertical-align: middle;\n",
              "    }\n",
              "\n",
              "    .dataframe tbody tr th {\n",
              "        vertical-align: top;\n",
              "    }\n",
              "\n",
              "    .dataframe thead tr th {\n",
              "        text-align: left;\n",
              "    }\n",
              "\n",
              "    .dataframe thead tr:last-of-type th {\n",
              "        text-align: right;\n",
              "    }\n",
              "</style>\n",
              "<table border=\"1\" class=\"dataframe\">\n",
              "  <thead>\n",
              "    <tr>\n",
              "      <th></th>\n",
              "      <th colspan=\"8\" halign=\"left\">Avila Adobe</th>\n",
              "      <th colspan=\"8\" halign=\"left\">Chinese American Museum</th>\n",
              "      <th colspan=\"8\" halign=\"left\">Gateway to Nature Center</th>\n",
              "      <th colspan=\"8\" halign=\"left\">Firehouse Museum</th>\n",
              "      <th colspan=\"8\" halign=\"left\">Hellman Quon</th>\n",
              "      <th colspan=\"8\" halign=\"left\">IAMLA</th>\n",
              "      <th colspan=\"8\" halign=\"left\">Pico House</th>\n",
              "      <th colspan=\"8\" halign=\"left\">Visitor Center/ El Tranquilo Gallery</th>\n",
              "      <th colspan=\"8\" halign=\"left\">Museum of Social Justice</th>\n",
              "      <th colspan=\"8\" halign=\"left\">Biscailuz Gallery/ PK Outdoor Exhibit</th>\n",
              "    </tr>\n",
              "    <tr>\n",
              "      <th></th>\n",
              "      <th>count</th>\n",
              "      <th>mean</th>\n",
              "      <th>std</th>\n",
              "      <th>min</th>\n",
              "      <th>25%</th>\n",
              "      <th>50%</th>\n",
              "      <th>75%</th>\n",
              "      <th>max</th>\n",
              "      <th>count</th>\n",
              "      <th>mean</th>\n",
              "      <th>std</th>\n",
              "      <th>min</th>\n",
              "      <th>25%</th>\n",
              "      <th>50%</th>\n",
              "      <th>75%</th>\n",
              "      <th>max</th>\n",
              "      <th>count</th>\n",
              "      <th>mean</th>\n",
              "      <th>std</th>\n",
              "      <th>min</th>\n",
              "      <th>25%</th>\n",
              "      <th>50%</th>\n",
              "      <th>75%</th>\n",
              "      <th>max</th>\n",
              "      <th>count</th>\n",
              "      <th>mean</th>\n",
              "      <th>std</th>\n",
              "      <th>min</th>\n",
              "      <th>25%</th>\n",
              "      <th>50%</th>\n",
              "      <th>75%</th>\n",
              "      <th>max</th>\n",
              "      <th>count</th>\n",
              "      <th>mean</th>\n",
              "      <th>std</th>\n",
              "      <th>min</th>\n",
              "      <th>25%</th>\n",
              "      <th>50%</th>\n",
              "      <th>75%</th>\n",
              "      <th>max</th>\n",
              "      <th>count</th>\n",
              "      <th>mean</th>\n",
              "      <th>std</th>\n",
              "      <th>min</th>\n",
              "      <th>25%</th>\n",
              "      <th>50%</th>\n",
              "      <th>75%</th>\n",
              "      <th>max</th>\n",
              "      <th>count</th>\n",
              "      <th>mean</th>\n",
              "      <th>std</th>\n",
              "      <th>min</th>\n",
              "      <th>25%</th>\n",
              "      <th>50%</th>\n",
              "      <th>75%</th>\n",
              "      <th>max</th>\n",
              "      <th>count</th>\n",
              "      <th>mean</th>\n",
              "      <th>std</th>\n",
              "      <th>min</th>\n",
              "      <th>25%</th>\n",
              "      <th>50%</th>\n",
              "      <th>75%</th>\n",
              "      <th>max</th>\n",
              "      <th>count</th>\n",
              "      <th>mean</th>\n",
              "      <th>std</th>\n",
              "      <th>min</th>\n",
              "      <th>25%</th>\n",
              "      <th>50%</th>\n",
              "      <th>75%</th>\n",
              "      <th>max</th>\n",
              "      <th>count</th>\n",
              "      <th>mean</th>\n",
              "      <th>std</th>\n",
              "      <th>min</th>\n",
              "      <th>25%</th>\n",
              "      <th>50%</th>\n",
              "      <th>75%</th>\n",
              "      <th>max</th>\n",
              "    </tr>\n",
              "    <tr>\n",
              "      <th>America Tropical Interpretive Center</th>\n",
              "      <th></th>\n",
              "      <th></th>\n",
              "      <th></th>\n",
              "      <th></th>\n",
              "      <th></th>\n",
              "      <th></th>\n",
              "      <th></th>\n",
              "      <th></th>\n",
              "      <th></th>\n",
              "      <th></th>\n",
              "      <th></th>\n",
              "      <th></th>\n",
              "      <th></th>\n",
              "      <th></th>\n",
              "      <th></th>\n",
              "      <th></th>\n",
              "      <th></th>\n",
              "      <th></th>\n",
              "      <th></th>\n",
              "      <th></th>\n",
              "      <th></th>\n",
              "      <th></th>\n",
              "      <th></th>\n",
              "      <th></th>\n",
              "      <th></th>\n",
              "      <th></th>\n",
              "      <th></th>\n",
              "      <th></th>\n",
              "      <th></th>\n",
              "      <th></th>\n",
              "      <th></th>\n",
              "      <th></th>\n",
              "      <th></th>\n",
              "      <th></th>\n",
              "      <th></th>\n",
              "      <th></th>\n",
              "      <th></th>\n",
              "      <th></th>\n",
              "      <th></th>\n",
              "      <th></th>\n",
              "      <th></th>\n",
              "      <th></th>\n",
              "      <th></th>\n",
              "      <th></th>\n",
              "      <th></th>\n",
              "      <th></th>\n",
              "      <th></th>\n",
              "      <th></th>\n",
              "      <th></th>\n",
              "      <th></th>\n",
              "      <th></th>\n",
              "      <th></th>\n",
              "      <th></th>\n",
              "      <th></th>\n",
              "      <th></th>\n",
              "      <th></th>\n",
              "      <th></th>\n",
              "      <th></th>\n",
              "      <th></th>\n",
              "      <th></th>\n",
              "      <th></th>\n",
              "      <th></th>\n",
              "      <th></th>\n",
              "      <th></th>\n",
              "      <th></th>\n",
              "      <th></th>\n",
              "      <th></th>\n",
              "      <th></th>\n",
              "      <th></th>\n",
              "      <th></th>\n",
              "      <th></th>\n",
              "      <th></th>\n",
              "      <th></th>\n",
              "      <th></th>\n",
              "      <th></th>\n",
              "      <th></th>\n",
              "      <th></th>\n",
              "      <th></th>\n",
              "      <th></th>\n",
              "      <th></th>\n",
              "    </tr>\n",
              "  </thead>\n",
              "  <tbody>\n",
              "    <tr>\n",
              "      <th>0</th>\n",
              "      <td>8.0</td>\n",
              "      <td>0.0</td>\n",
              "      <td>0.0</td>\n",
              "      <td>0.0</td>\n",
              "      <td>0.0</td>\n",
              "      <td>0.0</td>\n",
              "      <td>0.0</td>\n",
              "      <td>0.0</td>\n",
              "      <td>8.0</td>\n",
              "      <td>0.0</td>\n",
              "      <td>0.0</td>\n",
              "      <td>0.0</td>\n",
              "      <td>0.0</td>\n",
              "      <td>0.0</td>\n",
              "      <td>0.0</td>\n",
              "      <td>0.0</td>\n",
              "      <td>8.0</td>\n",
              "      <td>0.0</td>\n",
              "      <td>0.0</td>\n",
              "      <td>0.0</td>\n",
              "      <td>0.0</td>\n",
              "      <td>0.0</td>\n",
              "      <td>0.0</td>\n",
              "      <td>0.0</td>\n",
              "      <td>8.0</td>\n",
              "      <td>0.0</td>\n",
              "      <td>0.0</td>\n",
              "      <td>0.0</td>\n",
              "      <td>0.0</td>\n",
              "      <td>0.0</td>\n",
              "      <td>0.0</td>\n",
              "      <td>0.0</td>\n",
              "      <td>0.0</td>\n",
              "      <td>NaN</td>\n",
              "      <td>NaN</td>\n",
              "      <td>NaN</td>\n",
              "      <td>NaN</td>\n",
              "      <td>NaN</td>\n",
              "      <td>NaN</td>\n",
              "      <td>NaN</td>\n",
              "      <td>8.0</td>\n",
              "      <td>0.0</td>\n",
              "      <td>0.0</td>\n",
              "      <td>0.0</td>\n",
              "      <td>0.0</td>\n",
              "      <td>0.0</td>\n",
              "      <td>0.0</td>\n",
              "      <td>0.0</td>\n",
              "      <td>8.0</td>\n",
              "      <td>0.0</td>\n",
              "      <td>0.0</td>\n",
              "      <td>0.0</td>\n",
              "      <td>0.0</td>\n",
              "      <td>0.0</td>\n",
              "      <td>0.0</td>\n",
              "      <td>0.0</td>\n",
              "      <td>0.0</td>\n",
              "      <td>NaN</td>\n",
              "      <td>NaN</td>\n",
              "      <td>NaN</td>\n",
              "      <td>NaN</td>\n",
              "      <td>NaN</td>\n",
              "      <td>NaN</td>\n",
              "      <td>NaN</td>\n",
              "      <td>8.0</td>\n",
              "      <td>0.0</td>\n",
              "      <td>0.0</td>\n",
              "      <td>0.0</td>\n",
              "      <td>0.0</td>\n",
              "      <td>0.0</td>\n",
              "      <td>0.0</td>\n",
              "      <td>0.0</td>\n",
              "      <td>2.0</td>\n",
              "      <td>3167.0</td>\n",
              "      <td>896.611399</td>\n",
              "      <td>2533.0</td>\n",
              "      <td>2850.0</td>\n",
              "      <td>3167.0</td>\n",
              "      <td>3484.0</td>\n",
              "      <td>3801.0</td>\n",
              "    </tr>\n",
              "    <tr>\n",
              "      <th>1062</th>\n",
              "      <td>1.0</td>\n",
              "      <td>4520.0</td>\n",
              "      <td>NaN</td>\n",
              "      <td>4520.0</td>\n",
              "      <td>4520.0</td>\n",
              "      <td>4520.0</td>\n",
              "      <td>4520.0</td>\n",
              "      <td>4520.0</td>\n",
              "      <td>1.0</td>\n",
              "      <td>524.0</td>\n",
              "      <td>NaN</td>\n",
              "      <td>524.0</td>\n",
              "      <td>524.0</td>\n",
              "      <td>524.0</td>\n",
              "      <td>524.0</td>\n",
              "      <td>524.0</td>\n",
              "      <td>1.0</td>\n",
              "      <td>261.0</td>\n",
              "      <td>NaN</td>\n",
              "      <td>261.0</td>\n",
              "      <td>261.0</td>\n",
              "      <td>261.0</td>\n",
              "      <td>261.0</td>\n",
              "      <td>261.0</td>\n",
              "      <td>1.0</td>\n",
              "      <td>1052.0</td>\n",
              "      <td>NaN</td>\n",
              "      <td>1052.0</td>\n",
              "      <td>1052.0</td>\n",
              "      <td>1052.0</td>\n",
              "      <td>1052.0</td>\n",
              "      <td>1052.0</td>\n",
              "      <td>0.0</td>\n",
              "      <td>NaN</td>\n",
              "      <td>NaN</td>\n",
              "      <td>NaN</td>\n",
              "      <td>NaN</td>\n",
              "      <td>NaN</td>\n",
              "      <td>NaN</td>\n",
              "      <td>NaN</td>\n",
              "      <td>1.0</td>\n",
              "      <td>260.0</td>\n",
              "      <td>NaN</td>\n",
              "      <td>260.0</td>\n",
              "      <td>260.0</td>\n",
              "      <td>260.0</td>\n",
              "      <td>260.0</td>\n",
              "      <td>260.0</td>\n",
              "      <td>1.0</td>\n",
              "      <td>140.0</td>\n",
              "      <td>NaN</td>\n",
              "      <td>140.0</td>\n",
              "      <td>140.0</td>\n",
              "      <td>140.0</td>\n",
              "      <td>140.0</td>\n",
              "      <td>140.0</td>\n",
              "      <td>0.0</td>\n",
              "      <td>NaN</td>\n",
              "      <td>NaN</td>\n",
              "      <td>NaN</td>\n",
              "      <td>NaN</td>\n",
              "      <td>NaN</td>\n",
              "      <td>NaN</td>\n",
              "      <td>NaN</td>\n",
              "      <td>1.0</td>\n",
              "      <td>373.0</td>\n",
              "      <td>NaN</td>\n",
              "      <td>373.0</td>\n",
              "      <td>373.0</td>\n",
              "      <td>373.0</td>\n",
              "      <td>373.0</td>\n",
              "      <td>373.0</td>\n",
              "      <td>0.0</td>\n",
              "      <td>NaN</td>\n",
              "      <td>NaN</td>\n",
              "      <td>NaN</td>\n",
              "      <td>NaN</td>\n",
              "      <td>NaN</td>\n",
              "      <td>NaN</td>\n",
              "      <td>NaN</td>\n",
              "    </tr>\n",
              "    <tr>\n",
              "      <th>2702</th>\n",
              "      <td>1.0</td>\n",
              "      <td>15398.0</td>\n",
              "      <td>NaN</td>\n",
              "      <td>15398.0</td>\n",
              "      <td>15398.0</td>\n",
              "      <td>15398.0</td>\n",
              "      <td>15398.0</td>\n",
              "      <td>15398.0</td>\n",
              "      <td>1.0</td>\n",
              "      <td>2388.0</td>\n",
              "      <td>NaN</td>\n",
              "      <td>2388.0</td>\n",
              "      <td>2388.0</td>\n",
              "      <td>2388.0</td>\n",
              "      <td>2388.0</td>\n",
              "      <td>2388.0</td>\n",
              "      <td>1.0</td>\n",
              "      <td>1211.0</td>\n",
              "      <td>NaN</td>\n",
              "      <td>1211.0</td>\n",
              "      <td>1211.0</td>\n",
              "      <td>1211.0</td>\n",
              "      <td>1211.0</td>\n",
              "      <td>1211.0</td>\n",
              "      <td>1.0</td>\n",
              "      <td>3566.0</td>\n",
              "      <td>NaN</td>\n",
              "      <td>3566.0</td>\n",
              "      <td>3566.0</td>\n",
              "      <td>3566.0</td>\n",
              "      <td>3566.0</td>\n",
              "      <td>3566.0</td>\n",
              "      <td>0.0</td>\n",
              "      <td>NaN</td>\n",
              "      <td>NaN</td>\n",
              "      <td>NaN</td>\n",
              "      <td>NaN</td>\n",
              "      <td>NaN</td>\n",
              "      <td>NaN</td>\n",
              "      <td>NaN</td>\n",
              "      <td>1.0</td>\n",
              "      <td>1088.0</td>\n",
              "      <td>NaN</td>\n",
              "      <td>1088.0</td>\n",
              "      <td>1088.0</td>\n",
              "      <td>1088.0</td>\n",
              "      <td>1088.0</td>\n",
              "      <td>1088.0</td>\n",
              "      <td>1.0</td>\n",
              "      <td>485.0</td>\n",
              "      <td>NaN</td>\n",
              "      <td>485.0</td>\n",
              "      <td>485.0</td>\n",
              "      <td>485.0</td>\n",
              "      <td>485.0</td>\n",
              "      <td>485.0</td>\n",
              "      <td>0.0</td>\n",
              "      <td>NaN</td>\n",
              "      <td>NaN</td>\n",
              "      <td>NaN</td>\n",
              "      <td>NaN</td>\n",
              "      <td>NaN</td>\n",
              "      <td>NaN</td>\n",
              "      <td>NaN</td>\n",
              "      <td>1.0</td>\n",
              "      <td>1948.0</td>\n",
              "      <td>NaN</td>\n",
              "      <td>1948.0</td>\n",
              "      <td>1948.0</td>\n",
              "      <td>1948.0</td>\n",
              "      <td>1948.0</td>\n",
              "      <td>1948.0</td>\n",
              "      <td>0.0</td>\n",
              "      <td>NaN</td>\n",
              "      <td>NaN</td>\n",
              "      <td>NaN</td>\n",
              "      <td>NaN</td>\n",
              "      <td>NaN</td>\n",
              "      <td>NaN</td>\n",
              "      <td>NaN</td>\n",
              "    </tr>\n",
              "    <tr>\n",
              "      <th>2824</th>\n",
              "      <td>1.0</td>\n",
              "      <td>26989.0</td>\n",
              "      <td>NaN</td>\n",
              "      <td>26989.0</td>\n",
              "      <td>26989.0</td>\n",
              "      <td>26989.0</td>\n",
              "      <td>26989.0</td>\n",
              "      <td>26989.0</td>\n",
              "      <td>1.0</td>\n",
              "      <td>2129.0</td>\n",
              "      <td>NaN</td>\n",
              "      <td>2129.0</td>\n",
              "      <td>2129.0</td>\n",
              "      <td>2129.0</td>\n",
              "      <td>2129.0</td>\n",
              "      <td>2129.0</td>\n",
              "      <td>0.0</td>\n",
              "      <td>NaN</td>\n",
              "      <td>NaN</td>\n",
              "      <td>NaN</td>\n",
              "      <td>NaN</td>\n",
              "      <td>NaN</td>\n",
              "      <td>NaN</td>\n",
              "      <td>NaN</td>\n",
              "      <td>1.0</td>\n",
              "      <td>6756.0</td>\n",
              "      <td>NaN</td>\n",
              "      <td>6756.0</td>\n",
              "      <td>6756.0</td>\n",
              "      <td>6756.0</td>\n",
              "      <td>6756.0</td>\n",
              "      <td>6756.0</td>\n",
              "      <td>1.0</td>\n",
              "      <td>250.0</td>\n",
              "      <td>NaN</td>\n",
              "      <td>250.0</td>\n",
              "      <td>250.0</td>\n",
              "      <td>250.0</td>\n",
              "      <td>250.0</td>\n",
              "      <td>250.0</td>\n",
              "      <td>0.0</td>\n",
              "      <td>NaN</td>\n",
              "      <td>NaN</td>\n",
              "      <td>NaN</td>\n",
              "      <td>NaN</td>\n",
              "      <td>NaN</td>\n",
              "      <td>NaN</td>\n",
              "      <td>NaN</td>\n",
              "      <td>1.0</td>\n",
              "      <td>3277.0</td>\n",
              "      <td>NaN</td>\n",
              "      <td>3277.0</td>\n",
              "      <td>3277.0</td>\n",
              "      <td>3277.0</td>\n",
              "      <td>3277.0</td>\n",
              "      <td>3277.0</td>\n",
              "      <td>1.0</td>\n",
              "      <td>2808.0</td>\n",
              "      <td>NaN</td>\n",
              "      <td>2808.0</td>\n",
              "      <td>2808.0</td>\n",
              "      <td>2808.0</td>\n",
              "      <td>2808.0</td>\n",
              "      <td>2808.0</td>\n",
              "      <td>0.0</td>\n",
              "      <td>NaN</td>\n",
              "      <td>NaN</td>\n",
              "      <td>NaN</td>\n",
              "      <td>NaN</td>\n",
              "      <td>NaN</td>\n",
              "      <td>NaN</td>\n",
              "      <td>NaN</td>\n",
              "      <td>0.0</td>\n",
              "      <td>NaN</td>\n",
              "      <td>NaN</td>\n",
              "      <td>NaN</td>\n",
              "      <td>NaN</td>\n",
              "      <td>NaN</td>\n",
              "      <td>NaN</td>\n",
              "      <td>NaN</td>\n",
              "    </tr>\n",
              "    <tr>\n",
              "      <th>2907</th>\n",
              "      <td>1.0</td>\n",
              "      <td>10737.0</td>\n",
              "      <td>NaN</td>\n",
              "      <td>10737.0</td>\n",
              "      <td>10737.0</td>\n",
              "      <td>10737.0</td>\n",
              "      <td>10737.0</td>\n",
              "      <td>10737.0</td>\n",
              "      <td>1.0</td>\n",
              "      <td>2371.0</td>\n",
              "      <td>NaN</td>\n",
              "      <td>2371.0</td>\n",
              "      <td>2371.0</td>\n",
              "      <td>2371.0</td>\n",
              "      <td>2371.0</td>\n",
              "      <td>2371.0</td>\n",
              "      <td>0.0</td>\n",
              "      <td>NaN</td>\n",
              "      <td>NaN</td>\n",
              "      <td>NaN</td>\n",
              "      <td>NaN</td>\n",
              "      <td>NaN</td>\n",
              "      <td>NaN</td>\n",
              "      <td>NaN</td>\n",
              "      <td>1.0</td>\n",
              "      <td>2900.0</td>\n",
              "      <td>NaN</td>\n",
              "      <td>2900.0</td>\n",
              "      <td>2900.0</td>\n",
              "      <td>2900.0</td>\n",
              "      <td>2900.0</td>\n",
              "      <td>2900.0</td>\n",
              "      <td>0.0</td>\n",
              "      <td>NaN</td>\n",
              "      <td>NaN</td>\n",
              "      <td>NaN</td>\n",
              "      <td>NaN</td>\n",
              "      <td>NaN</td>\n",
              "      <td>NaN</td>\n",
              "      <td>NaN</td>\n",
              "      <td>1.0</td>\n",
              "      <td>816.0</td>\n",
              "      <td>NaN</td>\n",
              "      <td>816.0</td>\n",
              "      <td>816.0</td>\n",
              "      <td>816.0</td>\n",
              "      <td>816.0</td>\n",
              "      <td>816.0</td>\n",
              "      <td>1.0</td>\n",
              "      <td>475.0</td>\n",
              "      <td>NaN</td>\n",
              "      <td>475.0</td>\n",
              "      <td>475.0</td>\n",
              "      <td>475.0</td>\n",
              "      <td>475.0</td>\n",
              "      <td>475.0</td>\n",
              "      <td>0.0</td>\n",
              "      <td>NaN</td>\n",
              "      <td>NaN</td>\n",
              "      <td>NaN</td>\n",
              "      <td>NaN</td>\n",
              "      <td>NaN</td>\n",
              "      <td>NaN</td>\n",
              "      <td>NaN</td>\n",
              "      <td>1.0</td>\n",
              "      <td>2080.0</td>\n",
              "      <td>NaN</td>\n",
              "      <td>2080.0</td>\n",
              "      <td>2080.0</td>\n",
              "      <td>2080.0</td>\n",
              "      <td>2080.0</td>\n",
              "      <td>2080.0</td>\n",
              "      <td>1.0</td>\n",
              "      <td>406.0</td>\n",
              "      <td>NaN</td>\n",
              "      <td>406.0</td>\n",
              "      <td>406.0</td>\n",
              "      <td>406.0</td>\n",
              "      <td>406.0</td>\n",
              "      <td>406.0</td>\n",
              "    </tr>\n",
              "    <tr>\n",
              "      <th>...</th>\n",
              "      <td>...</td>\n",
              "      <td>...</td>\n",
              "      <td>...</td>\n",
              "      <td>...</td>\n",
              "      <td>...</td>\n",
              "      <td>...</td>\n",
              "      <td>...</td>\n",
              "      <td>...</td>\n",
              "      <td>...</td>\n",
              "      <td>...</td>\n",
              "      <td>...</td>\n",
              "      <td>...</td>\n",
              "      <td>...</td>\n",
              "      <td>...</td>\n",
              "      <td>...</td>\n",
              "      <td>...</td>\n",
              "      <td>...</td>\n",
              "      <td>...</td>\n",
              "      <td>...</td>\n",
              "      <td>...</td>\n",
              "      <td>...</td>\n",
              "      <td>...</td>\n",
              "      <td>...</td>\n",
              "      <td>...</td>\n",
              "      <td>...</td>\n",
              "      <td>...</td>\n",
              "      <td>...</td>\n",
              "      <td>...</td>\n",
              "      <td>...</td>\n",
              "      <td>...</td>\n",
              "      <td>...</td>\n",
              "      <td>...</td>\n",
              "      <td>...</td>\n",
              "      <td>...</td>\n",
              "      <td>...</td>\n",
              "      <td>...</td>\n",
              "      <td>...</td>\n",
              "      <td>...</td>\n",
              "      <td>...</td>\n",
              "      <td>...</td>\n",
              "      <td>...</td>\n",
              "      <td>...</td>\n",
              "      <td>...</td>\n",
              "      <td>...</td>\n",
              "      <td>...</td>\n",
              "      <td>...</td>\n",
              "      <td>...</td>\n",
              "      <td>...</td>\n",
              "      <td>...</td>\n",
              "      <td>...</td>\n",
              "      <td>...</td>\n",
              "      <td>...</td>\n",
              "      <td>...</td>\n",
              "      <td>...</td>\n",
              "      <td>...</td>\n",
              "      <td>...</td>\n",
              "      <td>...</td>\n",
              "      <td>...</td>\n",
              "      <td>...</td>\n",
              "      <td>...</td>\n",
              "      <td>...</td>\n",
              "      <td>...</td>\n",
              "      <td>...</td>\n",
              "      <td>...</td>\n",
              "      <td>...</td>\n",
              "      <td>...</td>\n",
              "      <td>...</td>\n",
              "      <td>...</td>\n",
              "      <td>...</td>\n",
              "      <td>...</td>\n",
              "      <td>...</td>\n",
              "      <td>...</td>\n",
              "      <td>...</td>\n",
              "      <td>...</td>\n",
              "      <td>...</td>\n",
              "      <td>...</td>\n",
              "      <td>...</td>\n",
              "      <td>...</td>\n",
              "      <td>...</td>\n",
              "      <td>...</td>\n",
              "    </tr>\n",
              "    <tr>\n",
              "      <th>12096</th>\n",
              "      <td>1.0</td>\n",
              "      <td>30700.0</td>\n",
              "      <td>NaN</td>\n",
              "      <td>30700.0</td>\n",
              "      <td>30700.0</td>\n",
              "      <td>30700.0</td>\n",
              "      <td>30700.0</td>\n",
              "      <td>30700.0</td>\n",
              "      <td>1.0</td>\n",
              "      <td>2415.0</td>\n",
              "      <td>NaN</td>\n",
              "      <td>2415.0</td>\n",
              "      <td>2415.0</td>\n",
              "      <td>2415.0</td>\n",
              "      <td>2415.0</td>\n",
              "      <td>2415.0</td>\n",
              "      <td>0.0</td>\n",
              "      <td>NaN</td>\n",
              "      <td>NaN</td>\n",
              "      <td>NaN</td>\n",
              "      <td>NaN</td>\n",
              "      <td>NaN</td>\n",
              "      <td>NaN</td>\n",
              "      <td>NaN</td>\n",
              "      <td>1.0</td>\n",
              "      <td>5383.0</td>\n",
              "      <td>NaN</td>\n",
              "      <td>5383.0</td>\n",
              "      <td>5383.0</td>\n",
              "      <td>5383.0</td>\n",
              "      <td>5383.0</td>\n",
              "      <td>5383.0</td>\n",
              "      <td>1.0</td>\n",
              "      <td>50.0</td>\n",
              "      <td>NaN</td>\n",
              "      <td>50.0</td>\n",
              "      <td>50.0</td>\n",
              "      <td>50.0</td>\n",
              "      <td>50.0</td>\n",
              "      <td>50.0</td>\n",
              "      <td>0.0</td>\n",
              "      <td>NaN</td>\n",
              "      <td>NaN</td>\n",
              "      <td>NaN</td>\n",
              "      <td>NaN</td>\n",
              "      <td>NaN</td>\n",
              "      <td>NaN</td>\n",
              "      <td>NaN</td>\n",
              "      <td>1.0</td>\n",
              "      <td>5974.0</td>\n",
              "      <td>NaN</td>\n",
              "      <td>5974.0</td>\n",
              "      <td>5974.0</td>\n",
              "      <td>5974.0</td>\n",
              "      <td>5974.0</td>\n",
              "      <td>5974.0</td>\n",
              "      <td>1.0</td>\n",
              "      <td>3606.0</td>\n",
              "      <td>NaN</td>\n",
              "      <td>3606.0</td>\n",
              "      <td>3606.0</td>\n",
              "      <td>3606.0</td>\n",
              "      <td>3606.0</td>\n",
              "      <td>3606.0</td>\n",
              "      <td>0.0</td>\n",
              "      <td>NaN</td>\n",
              "      <td>NaN</td>\n",
              "      <td>NaN</td>\n",
              "      <td>NaN</td>\n",
              "      <td>NaN</td>\n",
              "      <td>NaN</td>\n",
              "      <td>NaN</td>\n",
              "      <td>0.0</td>\n",
              "      <td>NaN</td>\n",
              "      <td>NaN</td>\n",
              "      <td>NaN</td>\n",
              "      <td>NaN</td>\n",
              "      <td>NaN</td>\n",
              "      <td>NaN</td>\n",
              "      <td>NaN</td>\n",
              "    </tr>\n",
              "    <tr>\n",
              "      <th>12188</th>\n",
              "      <td>1.0</td>\n",
              "      <td>31689.0</td>\n",
              "      <td>NaN</td>\n",
              "      <td>31689.0</td>\n",
              "      <td>31689.0</td>\n",
              "      <td>31689.0</td>\n",
              "      <td>31689.0</td>\n",
              "      <td>31689.0</td>\n",
              "      <td>1.0</td>\n",
              "      <td>2776.0</td>\n",
              "      <td>NaN</td>\n",
              "      <td>2776.0</td>\n",
              "      <td>2776.0</td>\n",
              "      <td>2776.0</td>\n",
              "      <td>2776.0</td>\n",
              "      <td>2776.0</td>\n",
              "      <td>0.0</td>\n",
              "      <td>NaN</td>\n",
              "      <td>NaN</td>\n",
              "      <td>NaN</td>\n",
              "      <td>NaN</td>\n",
              "      <td>NaN</td>\n",
              "      <td>NaN</td>\n",
              "      <td>NaN</td>\n",
              "      <td>1.0</td>\n",
              "      <td>5602.0</td>\n",
              "      <td>NaN</td>\n",
              "      <td>5602.0</td>\n",
              "      <td>5602.0</td>\n",
              "      <td>5602.0</td>\n",
              "      <td>5602.0</td>\n",
              "      <td>5602.0</td>\n",
              "      <td>0.0</td>\n",
              "      <td>NaN</td>\n",
              "      <td>NaN</td>\n",
              "      <td>NaN</td>\n",
              "      <td>NaN</td>\n",
              "      <td>NaN</td>\n",
              "      <td>NaN</td>\n",
              "      <td>NaN</td>\n",
              "      <td>0.0</td>\n",
              "      <td>NaN</td>\n",
              "      <td>NaN</td>\n",
              "      <td>NaN</td>\n",
              "      <td>NaN</td>\n",
              "      <td>NaN</td>\n",
              "      <td>NaN</td>\n",
              "      <td>NaN</td>\n",
              "      <td>1.0</td>\n",
              "      <td>215.0</td>\n",
              "      <td>NaN</td>\n",
              "      <td>215.0</td>\n",
              "      <td>215.0</td>\n",
              "      <td>215.0</td>\n",
              "      <td>215.0</td>\n",
              "      <td>215.0</td>\n",
              "      <td>1.0</td>\n",
              "      <td>2951.0</td>\n",
              "      <td>NaN</td>\n",
              "      <td>2951.0</td>\n",
              "      <td>2951.0</td>\n",
              "      <td>2951.0</td>\n",
              "      <td>2951.0</td>\n",
              "      <td>2951.0</td>\n",
              "      <td>0.0</td>\n",
              "      <td>NaN</td>\n",
              "      <td>NaN</td>\n",
              "      <td>NaN</td>\n",
              "      <td>NaN</td>\n",
              "      <td>NaN</td>\n",
              "      <td>NaN</td>\n",
              "      <td>NaN</td>\n",
              "      <td>0.0</td>\n",
              "      <td>NaN</td>\n",
              "      <td>NaN</td>\n",
              "      <td>NaN</td>\n",
              "      <td>NaN</td>\n",
              "      <td>NaN</td>\n",
              "      <td>NaN</td>\n",
              "      <td>NaN</td>\n",
              "    </tr>\n",
              "    <tr>\n",
              "      <th>12524</th>\n",
              "      <td>1.0</td>\n",
              "      <td>29764.0</td>\n",
              "      <td>NaN</td>\n",
              "      <td>29764.0</td>\n",
              "      <td>29764.0</td>\n",
              "      <td>29764.0</td>\n",
              "      <td>29764.0</td>\n",
              "      <td>29764.0</td>\n",
              "      <td>1.0</td>\n",
              "      <td>2237.0</td>\n",
              "      <td>NaN</td>\n",
              "      <td>2237.0</td>\n",
              "      <td>2237.0</td>\n",
              "      <td>2237.0</td>\n",
              "      <td>2237.0</td>\n",
              "      <td>2237.0</td>\n",
              "      <td>0.0</td>\n",
              "      <td>NaN</td>\n",
              "      <td>NaN</td>\n",
              "      <td>NaN</td>\n",
              "      <td>NaN</td>\n",
              "      <td>NaN</td>\n",
              "      <td>NaN</td>\n",
              "      <td>NaN</td>\n",
              "      <td>1.0</td>\n",
              "      <td>8882.0</td>\n",
              "      <td>NaN</td>\n",
              "      <td>8882.0</td>\n",
              "      <td>8882.0</td>\n",
              "      <td>8882.0</td>\n",
              "      <td>8882.0</td>\n",
              "      <td>8882.0</td>\n",
              "      <td>1.0</td>\n",
              "      <td>750.0</td>\n",
              "      <td>NaN</td>\n",
              "      <td>750.0</td>\n",
              "      <td>750.0</td>\n",
              "      <td>750.0</td>\n",
              "      <td>750.0</td>\n",
              "      <td>750.0</td>\n",
              "      <td>0.0</td>\n",
              "      <td>NaN</td>\n",
              "      <td>NaN</td>\n",
              "      <td>NaN</td>\n",
              "      <td>NaN</td>\n",
              "      <td>NaN</td>\n",
              "      <td>NaN</td>\n",
              "      <td>NaN</td>\n",
              "      <td>1.0</td>\n",
              "      <td>4158.0</td>\n",
              "      <td>NaN</td>\n",
              "      <td>4158.0</td>\n",
              "      <td>4158.0</td>\n",
              "      <td>4158.0</td>\n",
              "      <td>4158.0</td>\n",
              "      <td>4158.0</td>\n",
              "      <td>1.0</td>\n",
              "      <td>3209.0</td>\n",
              "      <td>NaN</td>\n",
              "      <td>3209.0</td>\n",
              "      <td>3209.0</td>\n",
              "      <td>3209.0</td>\n",
              "      <td>3209.0</td>\n",
              "      <td>3209.0</td>\n",
              "      <td>0.0</td>\n",
              "      <td>NaN</td>\n",
              "      <td>NaN</td>\n",
              "      <td>NaN</td>\n",
              "      <td>NaN</td>\n",
              "      <td>NaN</td>\n",
              "      <td>NaN</td>\n",
              "      <td>NaN</td>\n",
              "      <td>0.0</td>\n",
              "      <td>NaN</td>\n",
              "      <td>NaN</td>\n",
              "      <td>NaN</td>\n",
              "      <td>NaN</td>\n",
              "      <td>NaN</td>\n",
              "      <td>NaN</td>\n",
              "      <td>NaN</td>\n",
              "    </tr>\n",
              "    <tr>\n",
              "      <th>13207</th>\n",
              "      <td>1.0</td>\n",
              "      <td>34383.0</td>\n",
              "      <td>NaN</td>\n",
              "      <td>34383.0</td>\n",
              "      <td>34383.0</td>\n",
              "      <td>34383.0</td>\n",
              "      <td>34383.0</td>\n",
              "      <td>34383.0</td>\n",
              "      <td>1.0</td>\n",
              "      <td>4009.0</td>\n",
              "      <td>NaN</td>\n",
              "      <td>4009.0</td>\n",
              "      <td>4009.0</td>\n",
              "      <td>4009.0</td>\n",
              "      <td>4009.0</td>\n",
              "      <td>4009.0</td>\n",
              "      <td>0.0</td>\n",
              "      <td>NaN</td>\n",
              "      <td>NaN</td>\n",
              "      <td>NaN</td>\n",
              "      <td>NaN</td>\n",
              "      <td>NaN</td>\n",
              "      <td>NaN</td>\n",
              "      <td>NaN</td>\n",
              "      <td>1.0</td>\n",
              "      <td>12528.0</td>\n",
              "      <td>NaN</td>\n",
              "      <td>12528.0</td>\n",
              "      <td>12528.0</td>\n",
              "      <td>12528.0</td>\n",
              "      <td>12528.0</td>\n",
              "      <td>12528.0</td>\n",
              "      <td>1.0</td>\n",
              "      <td>475.0</td>\n",
              "      <td>NaN</td>\n",
              "      <td>475.0</td>\n",
              "      <td>475.0</td>\n",
              "      <td>475.0</td>\n",
              "      <td>475.0</td>\n",
              "      <td>475.0</td>\n",
              "      <td>0.0</td>\n",
              "      <td>NaN</td>\n",
              "      <td>NaN</td>\n",
              "      <td>NaN</td>\n",
              "      <td>NaN</td>\n",
              "      <td>NaN</td>\n",
              "      <td>NaN</td>\n",
              "      <td>NaN</td>\n",
              "      <td>1.0</td>\n",
              "      <td>5042.0</td>\n",
              "      <td>NaN</td>\n",
              "      <td>5042.0</td>\n",
              "      <td>5042.0</td>\n",
              "      <td>5042.0</td>\n",
              "      <td>5042.0</td>\n",
              "      <td>5042.0</td>\n",
              "      <td>1.0</td>\n",
              "      <td>3785.0</td>\n",
              "      <td>NaN</td>\n",
              "      <td>3785.0</td>\n",
              "      <td>3785.0</td>\n",
              "      <td>3785.0</td>\n",
              "      <td>3785.0</td>\n",
              "      <td>3785.0</td>\n",
              "      <td>0.0</td>\n",
              "      <td>NaN</td>\n",
              "      <td>NaN</td>\n",
              "      <td>NaN</td>\n",
              "      <td>NaN</td>\n",
              "      <td>NaN</td>\n",
              "      <td>NaN</td>\n",
              "      <td>NaN</td>\n",
              "      <td>0.0</td>\n",
              "      <td>NaN</td>\n",
              "      <td>NaN</td>\n",
              "      <td>NaN</td>\n",
              "      <td>NaN</td>\n",
              "      <td>NaN</td>\n",
              "      <td>NaN</td>\n",
              "      <td>NaN</td>\n",
              "    </tr>\n",
              "    <tr>\n",
              "      <th>13490</th>\n",
              "      <td>1.0</td>\n",
              "      <td>32378.0</td>\n",
              "      <td>NaN</td>\n",
              "      <td>32378.0</td>\n",
              "      <td>32378.0</td>\n",
              "      <td>32378.0</td>\n",
              "      <td>32378.0</td>\n",
              "      <td>32378.0</td>\n",
              "      <td>1.0</td>\n",
              "      <td>2239.0</td>\n",
              "      <td>NaN</td>\n",
              "      <td>2239.0</td>\n",
              "      <td>2239.0</td>\n",
              "      <td>2239.0</td>\n",
              "      <td>2239.0</td>\n",
              "      <td>2239.0</td>\n",
              "      <td>0.0</td>\n",
              "      <td>NaN</td>\n",
              "      <td>NaN</td>\n",
              "      <td>NaN</td>\n",
              "      <td>NaN</td>\n",
              "      <td>NaN</td>\n",
              "      <td>NaN</td>\n",
              "      <td>NaN</td>\n",
              "      <td>1.0</td>\n",
              "      <td>5406.0</td>\n",
              "      <td>NaN</td>\n",
              "      <td>5406.0</td>\n",
              "      <td>5406.0</td>\n",
              "      <td>5406.0</td>\n",
              "      <td>5406.0</td>\n",
              "      <td>5406.0</td>\n",
              "      <td>1.0</td>\n",
              "      <td>120.0</td>\n",
              "      <td>NaN</td>\n",
              "      <td>120.0</td>\n",
              "      <td>120.0</td>\n",
              "      <td>120.0</td>\n",
              "      <td>120.0</td>\n",
              "      <td>120.0</td>\n",
              "      <td>0.0</td>\n",
              "      <td>NaN</td>\n",
              "      <td>NaN</td>\n",
              "      <td>NaN</td>\n",
              "      <td>NaN</td>\n",
              "      <td>NaN</td>\n",
              "      <td>NaN</td>\n",
              "      <td>NaN</td>\n",
              "      <td>1.0</td>\n",
              "      <td>3375.0</td>\n",
              "      <td>NaN</td>\n",
              "      <td>3375.0</td>\n",
              "      <td>3375.0</td>\n",
              "      <td>3375.0</td>\n",
              "      <td>3375.0</td>\n",
              "      <td>3375.0</td>\n",
              "      <td>1.0</td>\n",
              "      <td>3527.0</td>\n",
              "      <td>NaN</td>\n",
              "      <td>3527.0</td>\n",
              "      <td>3527.0</td>\n",
              "      <td>3527.0</td>\n",
              "      <td>3527.0</td>\n",
              "      <td>3527.0</td>\n",
              "      <td>0.0</td>\n",
              "      <td>NaN</td>\n",
              "      <td>NaN</td>\n",
              "      <td>NaN</td>\n",
              "      <td>NaN</td>\n",
              "      <td>NaN</td>\n",
              "      <td>NaN</td>\n",
              "      <td>NaN</td>\n",
              "      <td>0.0</td>\n",
              "      <td>NaN</td>\n",
              "      <td>NaN</td>\n",
              "      <td>NaN</td>\n",
              "      <td>NaN</td>\n",
              "      <td>NaN</td>\n",
              "      <td>NaN</td>\n",
              "      <td>NaN</td>\n",
              "    </tr>\n",
              "  </tbody>\n",
              "</table>\n",
              "<p>76 rows × 80 columns</p>\n",
              "</div>"
            ],
            "text/plain": [
              "                                     Avila Adobe           ... Biscailuz Gallery/ PK Outdoor Exhibit        \n",
              "                                           count     mean  ...                                   75%     max\n",
              "America Tropical Interpretive Center                       ...                                              \n",
              "0                                            8.0      0.0  ...                                3484.0  3801.0\n",
              "1062                                         1.0   4520.0  ...                                   NaN     NaN\n",
              "2702                                         1.0  15398.0  ...                                   NaN     NaN\n",
              "2824                                         1.0  26989.0  ...                                   NaN     NaN\n",
              "2907                                         1.0  10737.0  ...                                 406.0   406.0\n",
              "...                                          ...      ...  ...                                   ...     ...\n",
              "12096                                        1.0  30700.0  ...                                   NaN     NaN\n",
              "12188                                        1.0  31689.0  ...                                   NaN     NaN\n",
              "12524                                        1.0  29764.0  ...                                   NaN     NaN\n",
              "13207                                        1.0  34383.0  ...                                   NaN     NaN\n",
              "13490                                        1.0  32378.0  ...                                   NaN     NaN\n",
              "\n",
              "[76 rows x 80 columns]"
            ]
          },
          "metadata": {
            "tags": []
          },
          "execution_count": 19
        }
      ]
    },
    {
      "cell_type": "code",
      "metadata": {
        "colab": {
          "base_uri": "https://localhost:8080/",
          "height": 743
        },
        "id": "u025FYH1lMQ8",
        "outputId": "e7a0f320-adf8-4586-8558-bc389605b1dd"
      },
      "source": [
        "import pandas as pd\n",
        "import matplotlib.pyplot as plt\n",
        "import seaborn as sns\n",
        "\n",
        "df = pd.read_csv(URL, error_bad_lines=False)\n",
        "\n",
        "df = df.pivot_table(index='Hellman Quon', columns='America Tropical Interpretive Center', values='Firehouse Museum')\n",
        "\n",
        "print (df)\n",
        "\n",
        "sns.heatmap(df, annot=True, cmap='coolwarm')\n",
        "\n",
        "plt.show()"
      ],
      "execution_count": null,
      "outputs": [
        {
          "output_type": "stream",
          "text": [
            "America Tropical Interpretive Center   2824    5029   ...    13207   13490\n",
            "Hellman Quon                                          ...                 \n",
            "0.0                                      NaN  4172.0  ...      NaN     NaN\n",
            "50.0                                     NaN     NaN  ...      NaN     NaN\n",
            "60.0                                     NaN     NaN  ...      NaN     NaN\n",
            "70.0                                     NaN     NaN  ...      NaN     NaN\n",
            "75.0                                     NaN     NaN  ...      NaN     NaN\n",
            "100.0                                    NaN     NaN  ...      NaN     NaN\n",
            "120.0                                    NaN     NaN  ...      NaN  5406.0\n",
            "125.0                                    NaN     NaN  ...      NaN     NaN\n",
            "135.0                                    NaN     NaN  ...      NaN     NaN\n",
            "160.0                                    NaN     NaN  ...      NaN     NaN\n",
            "200.0                                    NaN     NaN  ...      NaN     NaN\n",
            "250.0                                 6756.0     NaN  ...      NaN     NaN\n",
            "255.0                                    NaN     NaN  ...      NaN     NaN\n",
            "325.0                                    NaN     NaN  ...      NaN     NaN\n",
            "410.0                                    NaN     NaN  ...      NaN     NaN\n",
            "475.0                                    NaN     NaN  ...  12528.0     NaN\n",
            "550.0                                    NaN     NaN  ...      NaN     NaN\n",
            "565.0                                    NaN     NaN  ...      NaN     NaN\n",
            "750.0                                    NaN     NaN  ...      NaN     NaN\n",
            "950.0                                    NaN     NaN  ...      NaN     NaN\n",
            "1145.0                                   NaN     NaN  ...      NaN     NaN\n",
            "2000.0                                   NaN     NaN  ...      NaN     NaN\n",
            "\n",
            "[22 rows x 26 columns]\n"
          ],
          "name": "stdout"
        },
        {
          "output_type": "display_data",
          "data": {
            "image/png": "[encoded data removed]",
            "text/plain": [
              "<Figure size 432x288 with 2 Axes>"
            ]
          },
          "metadata": {
            "tags": [],
            "needs_background": "light"
          }
        }
      ]
    },
    {
      "cell_type": "markdown",
      "metadata": {
        "id": "T7jq5h1_0erq"
      },
      "source": [
        "1. **Deskripsi Tujuan Bisnis** :\n",
        "  A. Untuk mengetahui jumlah pengunjung museum pada beberapa museum di amerika\n",
        "  B. Untuk mengetahui pada bulan dan tahun berapa saja museum itu ramai dikunjungi\n",
        "  C. Sebagai bahan perbandingan jumlah pengunjung antar satu museum dengan yang lain\n",
        "\n",
        "2. **Analisa Pendekatan** :\n",
        "   A. Pada analisa data ini kami menggunakan Exploratory Data Analysis (EDA)\n",
        "   B. pendekatan untuk menganalisis set data untuk merangkum karakteristik     utama mereka, seringkali dengan metode visual.\n",
        "\n",
        "3. **Pengumpulan data** :\n",
        "   A. Mendapatkan data melalui website kaggle.com\n",
        "\n",
        "4. **Pemahaman terhadap data yang dikumpulkan**: \n",
        "   A. Data yang ditunjukan memuat informasi pengunjung beberapa museum di amerika pada tahun 2014-2020.\n",
        "   B. Beberapa data  tersebut antara lain America Tropical Interpretive Center, Avila Adobe, Chinese American Museum, Gateway to Nature Center, Firehouse Museum, Hellman Quon, IAMLA, Pico House , Visitor Center/ El Tranquilo Gallery, Museum of Social Justice, Biscailuz Gallery/ PK Outdoor Exhibit.\n",
        "   \n",
        "5. **Persiapan data** :\n",
        "Library yang saya gunakan dalam explorasi data adalah pandas, Matpolib, Seaborn\n",
        "\n",
        "6. **Pemodelan data** :\n",
        "Explorasi data yang telah saya lakukan menghasilkan sebuah informasi berupa scater scatter plot, diagram histogram dan boxplot.\n",
        " \n",
        "\n",
        "7. **Evaluasi model** :\n",
        "data pada boxplot menunjukan mean diantara rentang nilai 6000, data minimal dari sodium adalah 0 dan data maksimal berada pada rentang 11.000, Kemudian pada scatter plot data menunjukan kebanyakan pengunjung museum berada pada jumlah rentang 2500-6500 dan yang terakhir pada diagram histogram menunjukan bahwa distribusi data normal, data tersebut adalah jumlah pengunjung America Tropical Interpretive Center dan Chinese American Museum.\n",
        "\n",
        "8. **Analisis maping** :\n",
        "Data tertinggi pada America Tropical Interpretive Center yaitu 5661 dan data tertinggi pada Hellman Quon 1145.0\n",
        "\n",
        "\n"
      ]
    },
    {
      "cell_type": "code",
      "metadata": {
        "colab": {
          "base_uri": "https://localhost:8080/",
          "height": 323
        },
        "id": "r5tLGpQ6OA6Q",
        "outputId": "a06243ba-c7a3-4dd8-e500-b19e08e1d9d4"
      },
      "source": [
        "import pandas as pd\r\n",
        "retail = pd.read_csv(URL, error_bad_lines=False)\r\n",
        "retail.head()"
      ],
      "execution_count": null,
      "outputs": [
        {
          "output_type": "execute_result",
          "data": {
            "text/html": [
              "<div>\n",
              "<style scoped>\n",
              "    .dataframe tbody tr th:only-of-type {\n",
              "        vertical-align: middle;\n",
              "    }\n",
              "\n",
              "    .dataframe tbody tr th {\n",
              "        vertical-align: top;\n",
              "    }\n",
              "\n",
              "    .dataframe thead th {\n",
              "        text-align: right;\n",
              "    }\n",
              "</style>\n",
              "<table border=\"1\" class=\"dataframe\">\n",
              "  <thead>\n",
              "    <tr style=\"text-align: right;\">\n",
              "      <th></th>\n",
              "      <th>Month</th>\n",
              "      <th>America Tropical Interpretive Center</th>\n",
              "      <th>Avila Adobe</th>\n",
              "      <th>Chinese American Museum</th>\n",
              "      <th>Gateway to Nature Center</th>\n",
              "      <th>Firehouse Museum</th>\n",
              "      <th>Hellman Quon</th>\n",
              "      <th>IAMLA</th>\n",
              "      <th>Pico House</th>\n",
              "      <th>Visitor Center/ El Tranquilo Gallery</th>\n",
              "      <th>Museum of Social Justice</th>\n",
              "      <th>Biscailuz Gallery/ PK Outdoor Exhibit</th>\n",
              "    </tr>\n",
              "  </thead>\n",
              "  <tbody>\n",
              "    <tr>\n",
              "      <th>0</th>\n",
              "      <td>2014-01-01T00:00:00.000</td>\n",
              "      <td>6602</td>\n",
              "      <td>24778</td>\n",
              "      <td>1581</td>\n",
              "      <td>NaN</td>\n",
              "      <td>4486</td>\n",
              "      <td>0.0</td>\n",
              "      <td>NaN</td>\n",
              "      <td>2204.0</td>\n",
              "      <td>2961.0</td>\n",
              "      <td>NaN</td>\n",
              "      <td>NaN</td>\n",
              "    </tr>\n",
              "    <tr>\n",
              "      <th>1</th>\n",
              "      <td>2014-02-01T00:00:00.000</td>\n",
              "      <td>5029</td>\n",
              "      <td>18976</td>\n",
              "      <td>1785</td>\n",
              "      <td>NaN</td>\n",
              "      <td>4172</td>\n",
              "      <td>0.0</td>\n",
              "      <td>NaN</td>\n",
              "      <td>1330.0</td>\n",
              "      <td>2276.0</td>\n",
              "      <td>NaN</td>\n",
              "      <td>NaN</td>\n",
              "    </tr>\n",
              "    <tr>\n",
              "      <th>2</th>\n",
              "      <td>2014-03-01T00:00:00.000</td>\n",
              "      <td>8129</td>\n",
              "      <td>25231</td>\n",
              "      <td>3229</td>\n",
              "      <td>NaN</td>\n",
              "      <td>7082</td>\n",
              "      <td>70.0</td>\n",
              "      <td>NaN</td>\n",
              "      <td>4320.0</td>\n",
              "      <td>3116.0</td>\n",
              "      <td>NaN</td>\n",
              "      <td>NaN</td>\n",
              "    </tr>\n",
              "    <tr>\n",
              "      <th>3</th>\n",
              "      <td>2014-04-01T00:00:00.000</td>\n",
              "      <td>2824</td>\n",
              "      <td>26989</td>\n",
              "      <td>2129</td>\n",
              "      <td>NaN</td>\n",
              "      <td>6756</td>\n",
              "      <td>250.0</td>\n",
              "      <td>NaN</td>\n",
              "      <td>3277.0</td>\n",
              "      <td>2808.0</td>\n",
              "      <td>NaN</td>\n",
              "      <td>NaN</td>\n",
              "    </tr>\n",
              "    <tr>\n",
              "      <th>4</th>\n",
              "      <td>2014-05-01T00:00:00.000</td>\n",
              "      <td>10694</td>\n",
              "      <td>36883</td>\n",
              "      <td>3676</td>\n",
              "      <td>NaN</td>\n",
              "      <td>10858</td>\n",
              "      <td>135.0</td>\n",
              "      <td>NaN</td>\n",
              "      <td>4122.0</td>\n",
              "      <td>3987.0</td>\n",
              "      <td>NaN</td>\n",
              "      <td>NaN</td>\n",
              "    </tr>\n",
              "  </tbody>\n",
              "</table>\n",
              "</div>"
            ],
            "text/plain": [
              "                     Month  ...  Biscailuz Gallery/ PK Outdoor Exhibit\n",
              "0  2014-01-01T00:00:00.000  ...                                    NaN\n",
              "1  2014-02-01T00:00:00.000  ...                                    NaN\n",
              "2  2014-03-01T00:00:00.000  ...                                    NaN\n",
              "3  2014-04-01T00:00:00.000  ...                                    NaN\n",
              "4  2014-05-01T00:00:00.000  ...                                    NaN\n",
              "\n",
              "[5 rows x 12 columns]"
            ]
          },
          "metadata": {
            "tags": []
          },
          "execution_count": 103
        }
      ]
    },
    {
      "cell_type": "code",
      "metadata": {
        "colab": {
          "base_uri": "https://localhost:8080/"
        },
        "id": "oOwKnrBpOYax",
        "outputId": "021c421d-96c9-4665-93dd-c528512c04b2"
      },
      "source": [
        "retail.info()"
      ],
      "execution_count": null,
      "outputs": [
        {
          "output_type": "stream",
          "text": [
            "<class 'pandas.core.frame.DataFrame'>\n",
            "RangeIndex: 83 entries, 0 to 82\n",
            "Data columns (total 12 columns):\n",
            " #   Column                                 Non-Null Count  Dtype  \n",
            "---  ------                                 --------------  -----  \n",
            " 0   Month                                  83 non-null     object \n",
            " 1   America Tropical Interpretive Center   83 non-null     int64  \n",
            " 2   Avila Adobe                            83 non-null     int64  \n",
            " 3   Chinese American Museum                83 non-null     int64  \n",
            " 4   Gateway to Nature Center               30 non-null     float64\n",
            " 5   Firehouse Museum                       83 non-null     int64  \n",
            " 6   Hellman Quon                           26 non-null     float64\n",
            " 7   IAMLA                                  52 non-null     float64\n",
            " 8   Pico House                             81 non-null     float64\n",
            " 9   Visitor Center/ El Tranquilo Gallery   45 non-null     float64\n",
            " 10  Museum of Social Justice               35 non-null     float64\n",
            " 11  Biscailuz Gallery/ PK Outdoor Exhibit  37 non-null     float64\n",
            "dtypes: float64(7), int64(4), object(1)\n",
            "memory usage: 7.9+ KB\n"
          ],
          "name": "stdout"
        }
      ]
    },
    {
      "cell_type": "code",
      "metadata": {
        "colab": {
          "base_uri": "https://localhost:8080/",
          "height": 204
        },
        "id": "HQqBAT76Oste",
        "outputId": "a8d2641b-541d-4136-d5b1-3ee767e46e6a"
      },
      "source": [
        "retail_x = retail.iloc[:, 1:3]\r\n",
        "retail_x.head()"
      ],
      "execution_count": null,
      "outputs": [
        {
          "output_type": "execute_result",
          "data": {
            "text/html": [
              "<div>\n",
              "<style scoped>\n",
              "    .dataframe tbody tr th:only-of-type {\n",
              "        vertical-align: middle;\n",
              "    }\n",
              "\n",
              "    .dataframe tbody tr th {\n",
              "        vertical-align: top;\n",
              "    }\n",
              "\n",
              "    .dataframe thead th {\n",
              "        text-align: right;\n",
              "    }\n",
              "</style>\n",
              "<table border=\"1\" class=\"dataframe\">\n",
              "  <thead>\n",
              "    <tr style=\"text-align: right;\">\n",
              "      <th></th>\n",
              "      <th>America Tropical Interpretive Center</th>\n",
              "      <th>Avila Adobe</th>\n",
              "    </tr>\n",
              "  </thead>\n",
              "  <tbody>\n",
              "    <tr>\n",
              "      <th>0</th>\n",
              "      <td>6602</td>\n",
              "      <td>24778</td>\n",
              "    </tr>\n",
              "    <tr>\n",
              "      <th>1</th>\n",
              "      <td>5029</td>\n",
              "      <td>18976</td>\n",
              "    </tr>\n",
              "    <tr>\n",
              "      <th>2</th>\n",
              "      <td>8129</td>\n",
              "      <td>25231</td>\n",
              "    </tr>\n",
              "    <tr>\n",
              "      <th>3</th>\n",
              "      <td>2824</td>\n",
              "      <td>26989</td>\n",
              "    </tr>\n",
              "    <tr>\n",
              "      <th>4</th>\n",
              "      <td>10694</td>\n",
              "      <td>36883</td>\n",
              "    </tr>\n",
              "  </tbody>\n",
              "</table>\n",
              "</div>"
            ],
            "text/plain": [
              "   America Tropical Interpretive Center  Avila Adobe\n",
              "0                                  6602        24778\n",
              "1                                  5029        18976\n",
              "2                                  8129        25231\n",
              "3                                  2824        26989\n",
              "4                                 10694        36883"
            ]
          },
          "metadata": {
            "tags": []
          },
          "execution_count": 105
        }
      ]
    },
    {
      "cell_type": "code",
      "metadata": {
        "colab": {
          "base_uri": "https://localhost:8080/",
          "height": 296
        },
        "id": "cr1Nrmy3QNwH",
        "outputId": "dd3b1f6b-57ab-43f3-d6ae-97eba12925ea"
      },
      "source": [
        "import seaborn as sns\r\n",
        "sns.scatterplot(x=\"America Tropical Interpretive Center\", y=\"Avila Adobe\", data=retail, s=100, color=\"red\", alpha = 0.5)"
      ],
      "execution_count": null,
      "outputs": [
        {
          "output_type": "execute_result",
          "data": {
            "text/plain": [
              "<matplotlib.axes._subplots.AxesSubplot at 0x7fa886399d30>"
            ]
          },
          "metadata": {
            "tags": []
          },
          "execution_count": 106
        },
        {
          "output_type": "display_data",
          "data": {
            "image/png": "[encoded data removed]",
            "text/plain": [
              "<Figure size 432x288 with 1 Axes>"
            ]
          },
          "metadata": {
            "tags": [],
            "needs_background": "light"
          }
        }
      ]
    },
    {
      "cell_type": "code",
      "metadata": {
        "id": "Z6vOCf05QtJB"
      },
      "source": [
        "from sklearn.cluster import KMeans\r\n",
        "import numpy as np"
      ],
      "execution_count": null,
      "outputs": []
    },
    {
      "cell_type": "code",
      "metadata": {
        "colab": {
          "base_uri": "https://localhost:8080/",
          "height": 295
        },
        "id": "fuJQinbqRhR7",
        "outputId": "ca5c03c4-fca4-46f0-9bde-542ec5be52e2"
      },
      "source": [
        "# Menggunakan metode elbow untuk menentukan angka cluster yang tepat\r\n",
        "import matplotlib.pyplot as plt\r\n",
        "from sklearn.cluster import KMeans\r\n",
        "wcss = []\r\n",
        "for i in range(1, 11):\r\n",
        "    kmeans = KMeans(n_clusters = i, init = 'k-means++', random_state = 42)\r\n",
        "    kmeans.fit(retail_x)\r\n",
        "    wcss.append(kmeans.inertia_)\r\n",
        "plt.plot(range(1, 11), wcss)\r\n",
        "plt.title('Metode Elbow')\r\n",
        "plt.xlabel('Jumlah cluster')\r\n",
        "plt.ylabel('WCSS')\r\n",
        "plt.show()"
      ],
      "execution_count": null,
      "outputs": [
        {
          "output_type": "display_data",
          "data": {
            "image/png": "[encoded data removed]",
            "text/plain": [
              "<Figure size 432x288 with 1 Axes>"
            ]
          },
          "metadata": {
            "tags": [],
            "needs_background": "light"
          }
        }
      ]
    },
    {
      "cell_type": "code",
      "metadata": {
        "id": "n-kgbwwoSPG-"
      },
      "source": [
        "# Menjalankan K-Means Clustering ke dataset\r\n",
        "kmeans = KMeans(n_clusters = 5, init = 'k-means++', random_state = 42)\r\n",
        "y_kmeans = kmeans.fit_predict(retail_x)"
      ],
      "execution_count": null,
      "outputs": []
    },
    {
      "cell_type": "code",
      "metadata": {
        "colab": {
          "base_uri": "https://localhost:8080/"
        },
        "id": "VRc_nvv2SwzA",
        "outputId": "83cc1c89-947b-4ebd-8cc7-c4f0e69a9ef8"
      },
      "source": [
        "print(kmeans.cluster_centers_)"
      ],
      "execution_count": null,
      "outputs": [
        {
          "output_type": "stream",
          "text": [
            "[[ 4155.42857143 15310.07142857]\n",
            " [10810.46153846 32874.07692308]\n",
            " [ 6210.65       25327.2       ]\n",
            " [  118.           502.22222222]\n",
            " [ 5748.77777778 19968.62962963]]\n"
          ],
          "name": "stdout"
        }
      ]
    },
    {
      "cell_type": "code",
      "metadata": {
        "id": "BRcUyl17S_XX"
      },
      "source": [
        "from sklearn.preprocessing import MinMaxScaler"
      ],
      "execution_count": null,
      "outputs": []
    },
    {
      "cell_type": "code",
      "metadata": {
        "colab": {
          "base_uri": "https://localhost:8080/"
        },
        "id": "geaZph2VTEeD",
        "outputId": "8a7fe56d-4c45-47a0-a2af-bfa09a85b8c7"
      },
      "source": [
        "x_array =  np.array(retail_x)\r\n",
        "print(x_array)"
      ],
      "execution_count": null,
      "outputs": [
        {
          "output_type": "stream",
          "text": [
            "[[ 6602 24778]\n",
            " [ 5029 18976]\n",
            " [ 8129 25231]\n",
            " [ 2824 26989]\n",
            " [10694 36883]\n",
            " [11036 29487]\n",
            " [13490 32378]\n",
            " [ 9139 37680]\n",
            " [ 5661 28473]\n",
            " [ 7356 27995]\n",
            " [ 9773 25691]\n",
            " [ 7184 18754]\n",
            " [ 6250 20438]\n",
            " [ 5907 15578]\n",
            " [ 9884 21297]\n",
            " [ 7254 26670]\n",
            " [13207 34383]\n",
            " [11072 41242]\n",
            " [11102 30569]\n",
            " [12096 30700]\n",
            " [ 6608 20967]\n",
            " [12524 29764]\n",
            " [ 6677 24483]\n",
            " [ 5967 21426]\n",
            " [ 6587 19659]\n",
            " [ 6955 17378]\n",
            " [ 7556 30029]\n",
            " [ 6818 22169]\n",
            " [ 9979 20322]\n",
            " [ 6245 25987]\n",
            " [ 6977 22897]\n",
            " [ 6282 25040]\n",
            " [ 6365 17760]\n",
            " [ 5223 20107]\n",
            " [ 4929 18792]\n",
            " [ 4493 14035]\n",
            " [ 6271 20680]\n",
            " [ 6685 25234]\n",
            " [ 7757 31728]\n",
            " [ 6751 23696]\n",
            " [ 5113 24521]\n",
            " [12188 31689]\n",
            " [ 8675 30831]\n",
            " [ 6212 27009]\n",
            " [ 4607 23403]\n",
            " [ 6097 22164]\n",
            " [ 6757 17629]\n",
            " [ 6780 18339]\n",
            " [ 4909 19001]\n",
            " [ 5705 14718]\n",
            " [ 4650 18966]\n",
            " [ 5837 16265]\n",
            " [ 5626 25173]\n",
            " [ 4694 22171]\n",
            " [ 4718 23136]\n",
            " [ 3891 20815]\n",
            " [ 3180 21020]\n",
            " [ 3775 19280]\n",
            " [ 4562 17163]\n",
            " [ 4081 17722]\n",
            " [ 3424 13958]\n",
            " [ 2907 10737]\n",
            " [ 4384 17056]\n",
            " [ 4830 21074]\n",
            " [ 6230 26041]\n",
            " [ 3995 20226]\n",
            " [ 4491 24097]\n",
            " [ 3410 20921]\n",
            " [ 3229 17689]\n",
            " [ 4200 18822]\n",
            " [ 4362 15507]\n",
            " [ 2702 15398]\n",
            " [ 3508 15518]\n",
            " [ 3075 12997]\n",
            " [ 1062  4520]\n",
            " [    0     0]\n",
            " [    0     0]\n",
            " [    0     0]\n",
            " [    0     0]\n",
            " [    0     0]\n",
            " [    0     0]\n",
            " [    0     0]\n",
            " [    0     0]]\n"
          ],
          "name": "stdout"
        }
      ]
    },
    {
      "cell_type": "code",
      "metadata": {
        "colab": {
          "base_uri": "https://localhost:8080/"
        },
        "id": "DsHA0J9DTeEp",
        "outputId": "af44a710-29ab-45e6-f088-279ecb7e6542"
      },
      "source": [
        "scaler = MinMaxScaler()\r\n",
        "x_scaled = scaler.fit_transform(x_array)\r\n",
        "x_scaled"
      ],
      "execution_count": null,
      "outputs": [
        {
          "output_type": "execute_result",
          "data": {
            "text/plain": [
              "array([[0.48939956, 0.60079531],\n",
              "       [0.37279466, 0.46011348],\n",
              "       [0.60259451, 0.61177925],\n",
              "       [0.20934025, 0.6544057 ],\n",
              "       [0.79273536, 0.89430677],\n",
              "       [0.81808747, 0.71497503],\n",
              "       [1.        , 0.78507347],\n",
              "       [0.67746479, 0.91363173],\n",
              "       [0.41964418, 0.69038844],\n",
              "       [0.54529281, 0.67879831],\n",
              "       [0.72446256, 0.62293293],\n",
              "       [0.53254262, 0.45473061],\n",
              "       [0.46330615, 0.49556278],\n",
              "       [0.43787991, 0.37772174],\n",
              "       [0.73269088, 0.51639106],\n",
              "       [0.53773165, 0.64667087],\n",
              "       [0.9790215 , 0.83368896],\n",
              "       [0.82075612, 1.        ],\n",
              "       [0.82297999, 0.74121042],\n",
              "       [0.8966642 , 0.74438679],\n",
              "       [0.48984433, 0.50838951],\n",
              "       [0.9283914 , 0.72169148],\n",
              "       [0.49495923, 0.5936424 ],\n",
              "       [0.44232765, 0.51951894],\n",
              "       [0.48828762, 0.47667426],\n",
              "       [0.51556709, 0.42136657],\n",
              "       [0.56011861, 0.72811697],\n",
              "       [0.50541142, 0.53753455],\n",
              "       [0.73973314, 0.49275011],\n",
              "       [0.46293551, 0.63011008],\n",
              "       [0.51719792, 0.55518646],\n",
              "       [0.46567828, 0.60714805],\n",
              "       [0.47183099, 0.43062897],\n",
              "       [0.38717569, 0.48753698],\n",
              "       [0.36538176, 0.45565201],\n",
              "       [0.33306153, 0.34030842],\n",
              "       [0.46486286, 0.50143058],\n",
              "       [0.49555226, 0.611852  ],\n",
              "       [0.57501853, 0.76931284],\n",
              "       [0.50044477, 0.57455991],\n",
              "       [0.3790215 , 0.59456379],\n",
              "       [0.90348406, 0.7683672 ],\n",
              "       [0.64306894, 0.74756316],\n",
              "       [0.46048925, 0.65489065],\n",
              "       [0.34151223, 0.56745551],\n",
              "       [0.45196442, 0.53741332],\n",
              "       [0.50088955, 0.4274526 ],\n",
              "       [0.50259451, 0.44466806],\n",
              "       [0.36389918, 0.46071965],\n",
              "       [0.42290586, 0.35686921],\n",
              "       [0.34469978, 0.45987101],\n",
              "       [0.43269088, 0.39437952],\n",
              "       [0.41704967, 0.61037292],\n",
              "       [0.34796145, 0.53758305],\n",
              "       [0.34974055, 0.56098152],\n",
              "       [0.28843588, 0.50470394],\n",
              "       [0.23573017, 0.5096746 ],\n",
              "       [0.27983692, 0.4674846 ],\n",
              "       [0.33817643, 0.41615344],\n",
              "       [0.30252039, 0.42970758],\n",
              "       [0.25381764, 0.33844139],\n",
              "       [0.21549296, 0.2603414 ],\n",
              "       [0.32498147, 0.41355899],\n",
              "       [0.35804299, 0.51098395],\n",
              "       [0.46182357, 0.63141943],\n",
              "       [0.29614529, 0.49042238],\n",
              "       [0.33291327, 0.58428301],\n",
              "       [0.25277984, 0.50727414],\n",
              "       [0.23936249, 0.42890742],\n",
              "       [0.31134173, 0.45637942],\n",
              "       [0.32335063, 0.37600019],\n",
              "       [0.20029652, 0.37335726],\n",
              "       [0.26004448, 0.37626691],\n",
              "       [0.22794663, 0.31513991],\n",
              "       [0.07872498, 0.10959701],\n",
              "       [0.        , 0.        ],\n",
              "       [0.        , 0.        ],\n",
              "       [0.        , 0.        ],\n",
              "       [0.        , 0.        ],\n",
              "       [0.        , 0.        ],\n",
              "       [0.        , 0.        ],\n",
              "       [0.        , 0.        ],\n",
              "       [0.        , 0.        ]])"
            ]
          },
          "metadata": {
            "tags": []
          },
          "execution_count": 113
        }
      ]
    },
    {
      "cell_type": "code",
      "metadata": {
        "colab": {
          "base_uri": "https://localhost:8080/"
        },
        "id": "bwQ9gZDUUIWD",
        "outputId": "9925f79b-ff93-47f9-ff02-e135b8d8d130"
      },
      "source": [
        "# Menentukan dan mengkonfigurasi fungsi kmeans\r\n",
        "kmeans = KMeans(n_clusters = 5, random_state=123)\r\n",
        "# Menentukan kluster dari data\r\n",
        "kmeans.fit(x_scaled)"
      ],
      "execution_count": null,
      "outputs": [
        {
          "output_type": "execute_result",
          "data": {
            "text/plain": [
              "KMeans(algorithm='auto', copy_x=True, init='k-means++', max_iter=300,\n",
              "       n_clusters=5, n_init=10, n_jobs=None, precompute_distances='auto',\n",
              "       random_state=123, tol=0.0001, verbose=0)"
            ]
          },
          "metadata": {
            "tags": []
          },
          "execution_count": 114
        }
      ]
    },
    {
      "cell_type": "code",
      "metadata": {
        "colab": {
          "base_uri": "https://localhost:8080/"
        },
        "id": "izxIONc-U4Yy",
        "outputId": "628b8f4a-4bbe-4799-fa4f-755768f0cda3"
      },
      "source": [
        "print(kmeans.cluster_centers_)"
      ],
      "execution_count": null,
      "outputs": [
        {
          "output_type": "stream",
          "text": [
            "[[0.42839995 0.48902258]\n",
            " [0.86395849 0.81173318]\n",
            " [0.00874722 0.01217745]\n",
            " [0.54888611 0.62970043]\n",
            " [0.27565058 0.42728414]]\n"
          ],
          "name": "stdout"
        }
      ]
    },
    {
      "cell_type": "code",
      "metadata": {
        "colab": {
          "base_uri": "https://localhost:8080/",
          "height": 374
        },
        "id": "9_GiTEEAVauD",
        "outputId": "ee5e8a54-fa7f-4516-f3c0-56c0947c4ebf"
      },
      "source": [
        "# Menampilkan hasil kluster\r\n",
        "print(kmeans.labels_)\r\n",
        "# Menambahkan kolom \"kluster\" dalam data frame\r\n",
        "retail[\"cluster\"] = kmeans.labels_\r\n",
        "retail.head()"
      ],
      "execution_count": null,
      "outputs": [
        {
          "output_type": "stream",
          "text": [
            "[3 0 3 4 1 1 1 1 3 3 3 0 0 0 3 3 1 1 1 1 0 1 3 0 0 0 3 0 3 3 3 3 0 0 0 4 0\n",
            " 3 3 3 0 1 3 3 0 0 0 0 0 0 4 0 0 0 0 4 4 4 4 4 4 4 4 0 3 4 0 4 4 4 4 4 4 4\n",
            " 2 2 2 2 2 2 2 2 2]\n"
          ],
          "name": "stdout"
        },
        {
          "output_type": "execute_result",
          "data": {
            "text/html": [
              "<div>\n",
              "<style scoped>\n",
              "    .dataframe tbody tr th:only-of-type {\n",
              "        vertical-align: middle;\n",
              "    }\n",
              "\n",
              "    .dataframe tbody tr th {\n",
              "        vertical-align: top;\n",
              "    }\n",
              "\n",
              "    .dataframe thead th {\n",
              "        text-align: right;\n",
              "    }\n",
              "</style>\n",
              "<table border=\"1\" class=\"dataframe\">\n",
              "  <thead>\n",
              "    <tr style=\"text-align: right;\">\n",
              "      <th></th>\n",
              "      <th>Month</th>\n",
              "      <th>America Tropical Interpretive Center</th>\n",
              "      <th>Avila Adobe</th>\n",
              "      <th>Chinese American Museum</th>\n",
              "      <th>Gateway to Nature Center</th>\n",
              "      <th>Firehouse Museum</th>\n",
              "      <th>Hellman Quon</th>\n",
              "      <th>IAMLA</th>\n",
              "      <th>Pico House</th>\n",
              "      <th>Visitor Center/ El Tranquilo Gallery</th>\n",
              "      <th>Museum of Social Justice</th>\n",
              "      <th>Biscailuz Gallery/ PK Outdoor Exhibit</th>\n",
              "      <th>cluster</th>\n",
              "    </tr>\n",
              "  </thead>\n",
              "  <tbody>\n",
              "    <tr>\n",
              "      <th>0</th>\n",
              "      <td>2014-01-01T00:00:00.000</td>\n",
              "      <td>6602</td>\n",
              "      <td>24778</td>\n",
              "      <td>1581</td>\n",
              "      <td>NaN</td>\n",
              "      <td>4486</td>\n",
              "      <td>0.0</td>\n",
              "      <td>NaN</td>\n",
              "      <td>2204.0</td>\n",
              "      <td>2961.0</td>\n",
              "      <td>NaN</td>\n",
              "      <td>NaN</td>\n",
              "      <td>3</td>\n",
              "    </tr>\n",
              "    <tr>\n",
              "      <th>1</th>\n",
              "      <td>2014-02-01T00:00:00.000</td>\n",
              "      <td>5029</td>\n",
              "      <td>18976</td>\n",
              "      <td>1785</td>\n",
              "      <td>NaN</td>\n",
              "      <td>4172</td>\n",
              "      <td>0.0</td>\n",
              "      <td>NaN</td>\n",
              "      <td>1330.0</td>\n",
              "      <td>2276.0</td>\n",
              "      <td>NaN</td>\n",
              "      <td>NaN</td>\n",
              "      <td>0</td>\n",
              "    </tr>\n",
              "    <tr>\n",
              "      <th>2</th>\n",
              "      <td>2014-03-01T00:00:00.000</td>\n",
              "      <td>8129</td>\n",
              "      <td>25231</td>\n",
              "      <td>3229</td>\n",
              "      <td>NaN</td>\n",
              "      <td>7082</td>\n",
              "      <td>70.0</td>\n",
              "      <td>NaN</td>\n",
              "      <td>4320.0</td>\n",
              "      <td>3116.0</td>\n",
              "      <td>NaN</td>\n",
              "      <td>NaN</td>\n",
              "      <td>3</td>\n",
              "    </tr>\n",
              "    <tr>\n",
              "      <th>3</th>\n",
              "      <td>2014-04-01T00:00:00.000</td>\n",
              "      <td>2824</td>\n",
              "      <td>26989</td>\n",
              "      <td>2129</td>\n",
              "      <td>NaN</td>\n",
              "      <td>6756</td>\n",
              "      <td>250.0</td>\n",
              "      <td>NaN</td>\n",
              "      <td>3277.0</td>\n",
              "      <td>2808.0</td>\n",
              "      <td>NaN</td>\n",
              "      <td>NaN</td>\n",
              "      <td>4</td>\n",
              "    </tr>\n",
              "    <tr>\n",
              "      <th>4</th>\n",
              "      <td>2014-05-01T00:00:00.000</td>\n",
              "      <td>10694</td>\n",
              "      <td>36883</td>\n",
              "      <td>3676</td>\n",
              "      <td>NaN</td>\n",
              "      <td>10858</td>\n",
              "      <td>135.0</td>\n",
              "      <td>NaN</td>\n",
              "      <td>4122.0</td>\n",
              "      <td>3987.0</td>\n",
              "      <td>NaN</td>\n",
              "      <td>NaN</td>\n",
              "      <td>1</td>\n",
              "    </tr>\n",
              "  </tbody>\n",
              "</table>\n",
              "</div>"
            ],
            "text/plain": [
              "                     Month  ...  cluster\n",
              "0  2014-01-01T00:00:00.000  ...        3\n",
              "1  2014-02-01T00:00:00.000  ...        0\n",
              "2  2014-03-01T00:00:00.000  ...        3\n",
              "3  2014-04-01T00:00:00.000  ...        4\n",
              "4  2014-05-01T00:00:00.000  ...        1\n",
              "\n",
              "[5 rows x 13 columns]"
            ]
          },
          "metadata": {
            "tags": []
          },
          "execution_count": 116
        }
      ]
    },
    {
      "cell_type": "code",
      "metadata": {
        "colab": {
          "base_uri": "https://localhost:8080/",
          "height": 1000
        },
        "id": "3FGh4NTDWtfB",
        "outputId": "313e6bbf-b477-499a-95fb-46b6cb7257e4"
      },
      "source": [
        "retail.head(20)"
      ],
      "execution_count": null,
      "outputs": [
        {
          "output_type": "execute_result",
          "data": {
            "text/html": [
              "<div>\n",
              "<style scoped>\n",
              "    .dataframe tbody tr th:only-of-type {\n",
              "        vertical-align: middle;\n",
              "    }\n",
              "\n",
              "    .dataframe tbody tr th {\n",
              "        vertical-align: top;\n",
              "    }\n",
              "\n",
              "    .dataframe thead th {\n",
              "        text-align: right;\n",
              "    }\n",
              "</style>\n",
              "<table border=\"1\" class=\"dataframe\">\n",
              "  <thead>\n",
              "    <tr style=\"text-align: right;\">\n",
              "      <th></th>\n",
              "      <th>Month</th>\n",
              "      <th>America Tropical Interpretive Center</th>\n",
              "      <th>Avila Adobe</th>\n",
              "      <th>Chinese American Museum</th>\n",
              "      <th>Gateway to Nature Center</th>\n",
              "      <th>Firehouse Museum</th>\n",
              "      <th>Hellman Quon</th>\n",
              "      <th>IAMLA</th>\n",
              "      <th>Pico House</th>\n",
              "      <th>Visitor Center/ El Tranquilo Gallery</th>\n",
              "      <th>Museum of Social Justice</th>\n",
              "      <th>Biscailuz Gallery/ PK Outdoor Exhibit</th>\n",
              "      <th>cluster</th>\n",
              "    </tr>\n",
              "  </thead>\n",
              "  <tbody>\n",
              "    <tr>\n",
              "      <th>0</th>\n",
              "      <td>2014-01-01T00:00:00.000</td>\n",
              "      <td>6602</td>\n",
              "      <td>24778</td>\n",
              "      <td>1581</td>\n",
              "      <td>NaN</td>\n",
              "      <td>4486</td>\n",
              "      <td>0.0</td>\n",
              "      <td>NaN</td>\n",
              "      <td>2204.0</td>\n",
              "      <td>2961.0</td>\n",
              "      <td>NaN</td>\n",
              "      <td>NaN</td>\n",
              "      <td>3</td>\n",
              "    </tr>\n",
              "    <tr>\n",
              "      <th>1</th>\n",
              "      <td>2014-02-01T00:00:00.000</td>\n",
              "      <td>5029</td>\n",
              "      <td>18976</td>\n",
              "      <td>1785</td>\n",
              "      <td>NaN</td>\n",
              "      <td>4172</td>\n",
              "      <td>0.0</td>\n",
              "      <td>NaN</td>\n",
              "      <td>1330.0</td>\n",
              "      <td>2276.0</td>\n",
              "      <td>NaN</td>\n",
              "      <td>NaN</td>\n",
              "      <td>0</td>\n",
              "    </tr>\n",
              "    <tr>\n",
              "      <th>2</th>\n",
              "      <td>2014-03-01T00:00:00.000</td>\n",
              "      <td>8129</td>\n",
              "      <td>25231</td>\n",
              "      <td>3229</td>\n",
              "      <td>NaN</td>\n",
              "      <td>7082</td>\n",
              "      <td>70.0</td>\n",
              "      <td>NaN</td>\n",
              "      <td>4320.0</td>\n",
              "      <td>3116.0</td>\n",
              "      <td>NaN</td>\n",
              "      <td>NaN</td>\n",
              "      <td>3</td>\n",
              "    </tr>\n",
              "    <tr>\n",
              "      <th>3</th>\n",
              "      <td>2014-04-01T00:00:00.000</td>\n",
              "      <td>2824</td>\n",
              "      <td>26989</td>\n",
              "      <td>2129</td>\n",
              "      <td>NaN</td>\n",
              "      <td>6756</td>\n",
              "      <td>250.0</td>\n",
              "      <td>NaN</td>\n",
              "      <td>3277.0</td>\n",
              "      <td>2808.0</td>\n",
              "      <td>NaN</td>\n",
              "      <td>NaN</td>\n",
              "      <td>4</td>\n",
              "    </tr>\n",
              "    <tr>\n",
              "      <th>4</th>\n",
              "      <td>2014-05-01T00:00:00.000</td>\n",
              "      <td>10694</td>\n",
              "      <td>36883</td>\n",
              "      <td>3676</td>\n",
              "      <td>NaN</td>\n",
              "      <td>10858</td>\n",
              "      <td>135.0</td>\n",
              "      <td>NaN</td>\n",
              "      <td>4122.0</td>\n",
              "      <td>3987.0</td>\n",
              "      <td>NaN</td>\n",
              "      <td>NaN</td>\n",
              "      <td>1</td>\n",
              "    </tr>\n",
              "    <tr>\n",
              "      <th>5</th>\n",
              "      <td>2014-06-01T00:00:00.000</td>\n",
              "      <td>11036</td>\n",
              "      <td>29487</td>\n",
              "      <td>2121</td>\n",
              "      <td>NaN</td>\n",
              "      <td>5751</td>\n",
              "      <td>255.0</td>\n",
              "      <td>NaN</td>\n",
              "      <td>355.0</td>\n",
              "      <td>3133.0</td>\n",
              "      <td>NaN</td>\n",
              "      <td>NaN</td>\n",
              "      <td>1</td>\n",
              "    </tr>\n",
              "    <tr>\n",
              "      <th>6</th>\n",
              "      <td>2014-07-01T00:00:00.000</td>\n",
              "      <td>13490</td>\n",
              "      <td>32378</td>\n",
              "      <td>2239</td>\n",
              "      <td>NaN</td>\n",
              "      <td>5406</td>\n",
              "      <td>120.0</td>\n",
              "      <td>NaN</td>\n",
              "      <td>3375.0</td>\n",
              "      <td>3527.0</td>\n",
              "      <td>NaN</td>\n",
              "      <td>NaN</td>\n",
              "      <td>1</td>\n",
              "    </tr>\n",
              "    <tr>\n",
              "      <th>7</th>\n",
              "      <td>2014-08-01T00:00:00.000</td>\n",
              "      <td>9139</td>\n",
              "      <td>37680</td>\n",
              "      <td>1769</td>\n",
              "      <td>NaN</td>\n",
              "      <td>8619</td>\n",
              "      <td>250.0</td>\n",
              "      <td>NaN</td>\n",
              "      <td>1550.0</td>\n",
              "      <td>0.0</td>\n",
              "      <td>NaN</td>\n",
              "      <td>NaN</td>\n",
              "      <td>1</td>\n",
              "    </tr>\n",
              "    <tr>\n",
              "      <th>8</th>\n",
              "      <td>2014-09-01T00:00:00.000</td>\n",
              "      <td>5661</td>\n",
              "      <td>28473</td>\n",
              "      <td>1073</td>\n",
              "      <td>NaN</td>\n",
              "      <td>61192</td>\n",
              "      <td>1145.0</td>\n",
              "      <td>NaN</td>\n",
              "      <td>1335.0</td>\n",
              "      <td>0.0</td>\n",
              "      <td>NaN</td>\n",
              "      <td>NaN</td>\n",
              "      <td>3</td>\n",
              "    </tr>\n",
              "    <tr>\n",
              "      <th>9</th>\n",
              "      <td>2014-10-01T00:00:00.000</td>\n",
              "      <td>7356</td>\n",
              "      <td>27995</td>\n",
              "      <td>1979</td>\n",
              "      <td>NaN</td>\n",
              "      <td>6488</td>\n",
              "      <td>550.0</td>\n",
              "      <td>NaN</td>\n",
              "      <td>1518.0</td>\n",
              "      <td>0.0</td>\n",
              "      <td>NaN</td>\n",
              "      <td>NaN</td>\n",
              "      <td>3</td>\n",
              "    </tr>\n",
              "    <tr>\n",
              "      <th>10</th>\n",
              "      <td>2014-11-01T00:00:00.000</td>\n",
              "      <td>9773</td>\n",
              "      <td>25691</td>\n",
              "      <td>2404</td>\n",
              "      <td>NaN</td>\n",
              "      <td>4189</td>\n",
              "      <td>410.0</td>\n",
              "      <td>NaN</td>\n",
              "      <td>7769.0</td>\n",
              "      <td>0.0</td>\n",
              "      <td>NaN</td>\n",
              "      <td>NaN</td>\n",
              "      <td>3</td>\n",
              "    </tr>\n",
              "    <tr>\n",
              "      <th>11</th>\n",
              "      <td>2014-12-01T00:00:00.000</td>\n",
              "      <td>7184</td>\n",
              "      <td>18754</td>\n",
              "      <td>1319</td>\n",
              "      <td>NaN</td>\n",
              "      <td>4339</td>\n",
              "      <td>565.0</td>\n",
              "      <td>NaN</td>\n",
              "      <td>1140.0</td>\n",
              "      <td>0.0</td>\n",
              "      <td>NaN</td>\n",
              "      <td>NaN</td>\n",
              "      <td>0</td>\n",
              "    </tr>\n",
              "    <tr>\n",
              "      <th>12</th>\n",
              "      <td>2015-01-01T00:00:00.000</td>\n",
              "      <td>6250</td>\n",
              "      <td>20438</td>\n",
              "      <td>1823</td>\n",
              "      <td>NaN</td>\n",
              "      <td>3858</td>\n",
              "      <td>75.0</td>\n",
              "      <td>NaN</td>\n",
              "      <td>200.0</td>\n",
              "      <td>2082.0</td>\n",
              "      <td>NaN</td>\n",
              "      <td>NaN</td>\n",
              "      <td>0</td>\n",
              "    </tr>\n",
              "    <tr>\n",
              "      <th>13</th>\n",
              "      <td>2015-02-01T00:00:00.000</td>\n",
              "      <td>5907</td>\n",
              "      <td>15578</td>\n",
              "      <td>1558</td>\n",
              "      <td>NaN</td>\n",
              "      <td>3742</td>\n",
              "      <td>160.0</td>\n",
              "      <td>NaN</td>\n",
              "      <td>1075.0</td>\n",
              "      <td>2751.0</td>\n",
              "      <td>NaN</td>\n",
              "      <td>NaN</td>\n",
              "      <td>0</td>\n",
              "    </tr>\n",
              "    <tr>\n",
              "      <th>14</th>\n",
              "      <td>2015-03-01T00:00:00.000</td>\n",
              "      <td>9884</td>\n",
              "      <td>21297</td>\n",
              "      <td>2336</td>\n",
              "      <td>NaN</td>\n",
              "      <td>5390</td>\n",
              "      <td>325.0</td>\n",
              "      <td>NaN</td>\n",
              "      <td>3445.0</td>\n",
              "      <td>2748.0</td>\n",
              "      <td>NaN</td>\n",
              "      <td>NaN</td>\n",
              "      <td>3</td>\n",
              "    </tr>\n",
              "    <tr>\n",
              "      <th>15</th>\n",
              "      <td>2015-04-01T00:00:00.000</td>\n",
              "      <td>7254</td>\n",
              "      <td>26670</td>\n",
              "      <td>3057</td>\n",
              "      <td>NaN</td>\n",
              "      <td>7000</td>\n",
              "      <td>2000.0</td>\n",
              "      <td>NaN</td>\n",
              "      <td>3292.0</td>\n",
              "      <td>3408.0</td>\n",
              "      <td>NaN</td>\n",
              "      <td>NaN</td>\n",
              "      <td>3</td>\n",
              "    </tr>\n",
              "    <tr>\n",
              "      <th>16</th>\n",
              "      <td>2015-05-01T00:00:00.000</td>\n",
              "      <td>13207</td>\n",
              "      <td>34383</td>\n",
              "      <td>4009</td>\n",
              "      <td>NaN</td>\n",
              "      <td>12528</td>\n",
              "      <td>475.0</td>\n",
              "      <td>NaN</td>\n",
              "      <td>5042.0</td>\n",
              "      <td>3785.0</td>\n",
              "      <td>NaN</td>\n",
              "      <td>NaN</td>\n",
              "      <td>1</td>\n",
              "    </tr>\n",
              "    <tr>\n",
              "      <th>17</th>\n",
              "      <td>2015-07-01T00:00:00.000</td>\n",
              "      <td>11072</td>\n",
              "      <td>41242</td>\n",
              "      <td>3057</td>\n",
              "      <td>NaN</td>\n",
              "      <td>6111</td>\n",
              "      <td>100.0</td>\n",
              "      <td>NaN</td>\n",
              "      <td>4225.0</td>\n",
              "      <td>4233.0</td>\n",
              "      <td>NaN</td>\n",
              "      <td>NaN</td>\n",
              "      <td>1</td>\n",
              "    </tr>\n",
              "    <tr>\n",
              "      <th>18</th>\n",
              "      <td>2015-06-01T00:00:00.000</td>\n",
              "      <td>11102</td>\n",
              "      <td>30569</td>\n",
              "      <td>2544</td>\n",
              "      <td>NaN</td>\n",
              "      <td>5377</td>\n",
              "      <td>200.0</td>\n",
              "      <td>NaN</td>\n",
              "      <td>4552.0</td>\n",
              "      <td>3444.0</td>\n",
              "      <td>NaN</td>\n",
              "      <td>NaN</td>\n",
              "      <td>1</td>\n",
              "    </tr>\n",
              "    <tr>\n",
              "      <th>19</th>\n",
              "      <td>2015-08-01T00:00:00.000</td>\n",
              "      <td>12096</td>\n",
              "      <td>30700</td>\n",
              "      <td>2415</td>\n",
              "      <td>NaN</td>\n",
              "      <td>5383</td>\n",
              "      <td>50.0</td>\n",
              "      <td>NaN</td>\n",
              "      <td>5974.0</td>\n",
              "      <td>3606.0</td>\n",
              "      <td>NaN</td>\n",
              "      <td>NaN</td>\n",
              "      <td>1</td>\n",
              "    </tr>\n",
              "  </tbody>\n",
              "</table>\n",
              "</div>"
            ],
            "text/plain": [
              "                      Month  ...  cluster\n",
              "0   2014-01-01T00:00:00.000  ...        3\n",
              "1   2014-02-01T00:00:00.000  ...        0\n",
              "2   2014-03-01T00:00:00.000  ...        3\n",
              "3   2014-04-01T00:00:00.000  ...        4\n",
              "4   2014-05-01T00:00:00.000  ...        1\n",
              "5   2014-06-01T00:00:00.000  ...        1\n",
              "6   2014-07-01T00:00:00.000  ...        1\n",
              "7   2014-08-01T00:00:00.000  ...        1\n",
              "8   2014-09-01T00:00:00.000  ...        3\n",
              "9   2014-10-01T00:00:00.000  ...        3\n",
              "10  2014-11-01T00:00:00.000  ...        3\n",
              "11  2014-12-01T00:00:00.000  ...        0\n",
              "12  2015-01-01T00:00:00.000  ...        0\n",
              "13  2015-02-01T00:00:00.000  ...        0\n",
              "14  2015-03-01T00:00:00.000  ...        3\n",
              "15  2015-04-01T00:00:00.000  ...        3\n",
              "16  2015-05-01T00:00:00.000  ...        1\n",
              "17  2015-07-01T00:00:00.000  ...        1\n",
              "18  2015-06-01T00:00:00.000  ...        1\n",
              "19  2015-08-01T00:00:00.000  ...        1\n",
              "\n",
              "[20 rows x 13 columns]"
            ]
          },
          "metadata": {
            "tags": []
          },
          "execution_count": 117
        }
      ]
    },
    {
      "cell_type": "code",
      "metadata": {
        "colab": {
          "base_uri": "https://localhost:8080/",
          "height": 312
        },
        "id": "Tto31OhtXU1v",
        "outputId": "d125c03f-154a-4ab1-e670-a83b58767323"
      },
      "source": [
        "output = plt.scatter(x_scaled[:,0], \r\n",
        "x_scaled[:,1], s = 100, c = retail.cluster, marker = \"o\", alpha = 1,)\r\n",
        "centers = kmeans.cluster_centers_\r\n",
        "plt.scatter(centers[:,0], centers[:,1], c='red', s=200, alpha=1 , marker=\"s\");\r\n",
        "plt.title(\"Hasil Klustering K-Means\")\r\n",
        "plt.xlabel(\"Scaled America Tropical Interpretive Center\")\r\n",
        "plt.ylabel(\"Scaled Avila Adobe\")\r\n",
        "plt.colorbar (output)\r\n",
        "plt.legend()\r\n",
        "plt.show()"
      ],
      "execution_count": null,
      "outputs": [
        {
          "output_type": "stream",
          "text": [
            "No handles with labels found to put in legend.\n"
          ],
          "name": "stderr"
        },
        {
          "output_type": "display_data",
          "data": {
            "image/png": "[encoded data removed]",
            "text/plain": [
              "<Figure size 432x288 with 2 Axes>"
            ]
          },
          "metadata": {
            "tags": [],
            "needs_background": "light"
          }
        }
      ]
    },
    {
      "cell_type": "code",
      "metadata": {
        "id": "aFcWSuWmr4yS"
      },
      "source": [
        "def mean(x):\r\n",
        "        return  sum(x)/len(x)"
      ],
      "execution_count": null,
      "outputs": []
    },
    {
      "cell_type": "code",
      "metadata": {
        "id": "_giUukf8sEr4"
      },
      "source": [
        "def de_mean(data):\r\n",
        "# convert x by subtracting its mean ( so the result has mean 0)\r\n",
        "        x_bar = mean(data)\r\n",
        "        return [x_i - x_bar for x_i in data]"
      ],
      "execution_count": null,
      "outputs": []
    },
    {
      "cell_type": "code",
      "metadata": {
        "id": "FqqkoUtS7RoE"
      },
      "source": [
        "def sum_of_square(v):\r\n",
        "        return np.dot(v,v)"
      ],
      "execution_count": null,
      "outputs": []
    },
    {
      "cell_type": "code",
      "metadata": {
        "id": "ilcPKWDP7UZ5"
      },
      "source": [
        "def covariance(x,y):\r\n",
        "        n = len(x)\r\n",
        "        return np.dot(de_mean(x), de_mean(y)) / (n-1)"
      ],
      "execution_count": null,
      "outputs": []
    },
    {
      "cell_type": "code",
      "metadata": {
        "id": "CNvMnFEl7VES"
      },
      "source": [
        "def variance(data):\r\n",
        "        n = len(data)\r\n",
        "        deviations = de_mean(data)\r\n",
        "        return sum_of_square(deviations) / (n-1)"
      ],
      "execution_count": null,
      "outputs": []
    },
    {
      "cell_type": "code",
      "metadata": {
        "id": "hirjKCsC7XVo"
      },
      "source": [
        "def correlation(x,y):\r\n",
        "        stdev_x = np.std(x)\r\n",
        "        stdev_y = np.std(y)\r\n",
        "        if stdev_x > 0 and stdev_y > 0:\r\n",
        "            return covariance(x,y) / stdev_x / stdev_y\r\n",
        "        else:\r\n",
        "            return 0"
      ],
      "execution_count": null,
      "outputs": []
    },
    {
      "cell_type": "code",
      "metadata": {
        "id": "vOOXaJzLEqh7"
      },
      "source": [
        "atic = dt['America Tropical Interpretive Center']\r\n",
        "aa = dt['Avila Adobe']\r\n",
        "cam = dt['Chinese American Museum']"
      ],
      "execution_count": null,
      "outputs": []
    },
    {
      "cell_type": "code",
      "metadata": {
        "colab": {
          "base_uri": "https://localhost:8080/"
        },
        "id": "pZZplDkY9ctM",
        "outputId": "ef0e3b36-68cd-4756-8912-ea47af02ee3d"
      },
      "source": [
        "print('Korelasi antar kolom : ')\r\n",
        "print('Korelasi antara America Tropical Interpretive Center dan Avila Adobe adalah', correlation(atic, aa))\r\n",
        "print('Korelasi antara America Tropical Interpretive Center dan Chinese American Museum adalah ', correlation(atic, cam))\r\n",
        "print('Korelasi antara Avila Adobe dan Chinese American Museum', correlation(aa, cam))\r\n",
        "\r\n",
        "print(' ')\r\n",
        "print('Korelasi antar kolom : ')\r\n",
        "print('Korelasi antara America Tropical Interpretive Center dan Avila Adobe adalah', correlation(atic, aa))\r\n",
        "print('Korelasi antara America Tropical Interpretive Center dan Chinese American Museum adalah ', correlation(atic, cam))\r\n",
        "print('Korelasi antara Avila Adobe dan Chinese American Museum', correlation(aa, cam))\r\n"
      ],
      "execution_count": null,
      "outputs": [
        {
          "output_type": "stream",
          "text": [
            "Korelasi antar kolom : \n",
            "Korelasi antara America Tropical Interpretive Center dan Avila Adobe adalah 0.8529127388035858\n",
            "Korelasi antara America Tropical Interpretive Center dan Chinese American Museum adalah  0.5110643662422201\n",
            "Korelasi antara Avila Adobe dan Chinese American Museum 0.5597364629326149\n",
            " \n",
            "Korelasi antar kolom : \n",
            "Korelasi antara America Tropical Interpretive Center dan Avila Adobe adalah 0.8529127388035858\n",
            "Korelasi antara America Tropical Interpretive Center dan Chinese American Museum adalah  0.5110643662422201\n",
            "Korelasi antara Avila Adobe dan Chinese American Museum 0.5597364629326149\n"
          ],
          "name": "stdout"
        }
      ]
    },
    {
      "cell_type": "code",
      "metadata": {
        "colab": {
          "base_uri": "https://localhost:8080/",
          "height": 350
        },
        "id": "j-SBHJZfBRiG",
        "outputId": "8d40b9cc-cab0-4456-a90c-8b18d7c3e17c"
      },
      "source": [
        "plt.scatter(dt['America Tropical Interpretive Center'], dt['Avila Adobe'])\r\n",
        "print('Korelasi antar kolom : ')\r\n",
        "print('Korelasi antara America Tropical Interpretive Center dan Avila Adobe adalah', correlation(atic, aa))\r\n",
        "\r\n",
        "print(' ')\r\n",
        "print('Kovarian antar kolom : ')\r\n",
        "print('Kovarian antara Ameria Tropical Interpretive Center dan Avila Adobe adalah', covariance (atic, aa))"
      ],
      "execution_count": null,
      "outputs": [
        {
          "output_type": "stream",
          "text": [
            "Korelasi antar kolom : \n",
            "Korelasi antara America Tropical Interpretive Center dan Avila Adobe adalah 0.8529127388035858\n",
            " \n",
            "Kovarian antar kolom : \n",
            "Kovarian antara Ameria Tropical Interpretive Center dan Avila Adobe adalah 24450148.04187482\n"
          ],
          "name": "stdout"
        },
        {
          "output_type": "display_data",
          "data": {
            "image/png": "[encoded data removed]",
            "text/plain": [
              "<Figure size 432x288 with 1 Axes>"
            ]
          },
          "metadata": {
            "tags": [],
            "needs_background": "light"
          }
        }
      ]
    },
    {
      "cell_type": "markdown",
      "metadata": {
        "id": "kBLym2xSGsTa"
      },
      "source": [
        "**Analisis**\r\n",
        "Berdasarkan pemodelan di atas, didapatkan prediksi korelasi antara Ameria Tropical Interpretive Center dan Avila Adobe adalah 0,85 dan prediksi kovarian adalah 2445"
      ]
    },
    {
      "cell_type": "code",
      "metadata": {
        "colab": {
          "base_uri": "https://localhost:8080/",
          "height": 660
        },
        "id": "CdegoxPGHPfM",
        "outputId": "2fb6300d-9dc7-43c9-81db-2944ac12f816"
      },
      "source": [
        "corr = dt.corr()\r\n",
        "\r\n",
        "plt.figure(figsize=(15,8))\r\n",
        "\r\n",
        "sns.heatmap(corr, annot=True, vmin = -1, cmap='coolwarm')\r\n",
        "\r\n",
        "plt.show()"
      ],
      "execution_count": null,
      "outputs": [
        {
          "output_type": "display_data",
          "data": {
            "image/png": "[encoded data removed]",
            "text/plain": [
              "<Figure size 1080x576 with 2 Axes>"
            ]
          },
          "metadata": {
            "tags": [],
            "needs_background": "light"
          }
        }
      ]
    },
    {
      "cell_type": "markdown",
      "metadata": {
        "id": "h_iAtWCxEnNQ"
      },
      "source": [
        "**Analisis**\r\n",
        "Berdasarkan hasil heatmap korelasi didapatkan korelasi antara America Tropical Interpretive Center, Avila Adobe, Chinese American Museum dengan kesimpulan sebagai berikut :\r\n",
        "1. America Tropical Interpretive Center dan Avila Adobe memiliki nilai kolerasi 0,852 dimana hal ini menunjukan bahwa kedua variabel tersebut memiliki hubungan yang baik karena warna pada tabelnya mendekati warna merah\r\n",
        "2. America Tropical Interpretive Center dan Chinese American Museum memiliki nilai kolerasi 0,5 dimana hal ini menunjukan bahwa kedua variabel tersebut berada di korelasi tengah-tengah dikarenakan berwarna krim\r\n",
        "3. Avila Adobe dan Chinese American Museum memiliki nilai kolerasi 0.55 dimana hal ini menunjukan bahwa kedua variabel tersebut berada di korelasi tengah-tengah dikarenakan berwarna krim"
      ]
    },
    {
      "cell_type": "markdown",
      "metadata": {
        "id": "rEAu9LD4k6ko"
      },
      "source": [
        " **1. Inisialisasi klasifikasi grafik x dan y.** menggunakan fungsi make_classification dari library scikit-learn untuk menghasilkan data"
      ]
    },
    {
      "cell_type": "code",
      "metadata": {
        "id": "JFjDTE1clFNz"
      },
      "source": [
        "x, y = make_classification(\r\n",
        "    n_samples=100,\r\n",
        "    n_features=1,\r\n",
        "    n_classes=2,\r\n",
        "    n_clusters_per_class=1,\r\n",
        "    flip_y=0.03,\r\n",
        "    n_informative=1,\r\n",
        "    n_redundant=0,\r\n",
        "    n_repeated=0\r\n",
        ")"
      ],
      "execution_count": null,
      "outputs": []
    },
    {
      "cell_type": "markdown",
      "metadata": {
        "id": "4jVAYMAdJ9DZ"
      },
      "source": [
        "2. **melakukan plot untuk fitur dan kelas** :\r\n",
        "Dalam tahap ini menampilkan plot hubungan antara fitur dan kelas yang ada dengan klasifikasi yang sudah dibentuk pada grafik x dan y"
      ]
    },
    {
      "cell_type": "code",
      "metadata": {
        "id": "VE_cQT5ymMjY",
        "colab": {
          "base_uri": "https://localhost:8080/",
          "height": 285
        },
        "outputId": "393daa77-ac70-4a0e-9de9-4e086c6672c7"
      },
      "source": [
        "plt.scatter(x, y, c=y, cmap='rainbow')"
      ],
      "execution_count": null,
      "outputs": [
        {
          "output_type": "execute_result",
          "data": {
            "text/plain": [
              "<matplotlib.collections.PathCollection at 0x7fa887e4fc88>"
            ]
          },
          "metadata": {
            "tags": []
          },
          "execution_count": 151
        },
        {
          "output_type": "display_data",
          "data": {
            "image/png": "[encoded data removed]",
            "text/plain": [
              "<Figure size 432x288 with 1 Axes>"
            ]
          },
          "metadata": {
            "tags": []
          }
        }
      ]
    },
    {
      "cell_type": "markdown",
      "metadata": {
        "id": "oTxMD2WbLGm0"
      },
      "source": [
        "**Analisis** \r\n",
        "Scatter Plot digunakan untuk pemetaan dari grafik x dan y dengan dibagi menjadi 2 warna yang berbeda untuk menunjukan masing-masing bagiannya. Pemetaan ini dilakukan untuk persebaran data yang ada."
      ]
    },
    {
      "cell_type": "code",
      "metadata": {
        "id": "qVmgC0Ev5-Xl"
      },
      "source": [
        "x_train, x_test, y_train, y_test = train_test_split(x, y, random_state=1)"
      ],
      "execution_count": null,
      "outputs": []
    },
    {
      "cell_type": "markdown",
      "metadata": {
        "id": "NoC_7lTWMFIX"
      },
      "source": [
        "4. **Membuat model yang mempelajari hubungan antara digit (x_train) dan label (y_train**)\r\n",
        "\r\n",
        "Tahapan ini dilakukan untuk membuat intance kelas LogisticRegression dan memanggil fungsi fit dengan fitur dan label sebagai argumen"
      ]
    },
    {
      "cell_type": "code",
      "metadata": {
        "colab": {
          "base_uri": "https://localhost:8080/"
        },
        "id": "AZb7U25E6PWx",
        "outputId": "361d24c5-e922-4ab6-f985-a1165ad87514"
      },
      "source": [
        "lr = LogisticRegression()\r\n",
        "lr.fit(x_train, y_train)"
      ],
      "execution_count": null,
      "outputs": [
        {
          "output_type": "execute_result",
          "data": {
            "text/plain": [
              "LogisticRegression(C=1.0, class_weight=None, dual=False, fit_intercept=True,\n",
              "                   intercept_scaling=1, l1_ratio=None, max_iter=100,\n",
              "                   multi_class='auto', n_jobs=None, penalty='l2',\n",
              "                   random_state=None, solver='lbfgs', tol=0.0001, verbose=0,\n",
              "                   warm_start=False)"
            ]
          },
          "metadata": {
            "tags": []
          },
          "execution_count": 153
        }
      ]
    },
    {
      "cell_type": "markdown",
      "metadata": {
        "id": "khqUt9RuNApn"
      },
      "source": [
        "5. **Menampilkan evaluasi dengan melihat koefisien kemiringan dan perpotongan y dari garis yang paling cocok.**"
      ]
    },
    {
      "cell_type": "code",
      "metadata": {
        "colab": {
          "base_uri": "https://localhost:8080/"
        },
        "id": "6oFMFs_66vl6",
        "outputId": "cac8e84a-0461-4794-a124-ecf13b3aca75"
      },
      "source": [
        "print(lr.coef_)\r\n",
        "print(lr.intercept_)"
      ],
      "execution_count": null,
      "outputs": [
        {
          "output_type": "stream",
          "text": [
            "[[2.8226474]]\n",
            "[-0.95075175]\n"
          ],
          "name": "stdout"
        }
      ]
    },
    {
      "cell_type": "markdown",
      "metadata": {
        "id": "4KtaNh5UNsPn"
      },
      "source": [
        "Analisis :\r\n",
        "Evaluasi dengan menggunakan model regresi dilihat dari koefisien kemiringan yang bernilai 2.8226474 dan -0.95075175"
      ]
    },
    {
      "cell_type": "markdown",
      "metadata": {
        "id": "i_skjPgqOD64"
      },
      "source": [
        "**6. Performa model terhadap data yang belum dilatih**"
      ]
    },
    {
      "cell_type": "code",
      "metadata": {
        "id": "0gqHKHS879ly"
      },
      "source": [
        "y_pred = lr.predict(x_test)"
      ],
      "execution_count": null,
      "outputs": []
    },
    {
      "cell_type": "markdown",
      "metadata": {
        "id": "9P-lnaDnOfFL"
      },
      "source": [
        "7.** Menggunakan confusion matrix untuk mengukur akurasi model** "
      ]
    },
    {
      "cell_type": "code",
      "metadata": {
        "colab": {
          "base_uri": "https://localhost:8080/"
        },
        "id": "PazeBwCV8B8O",
        "outputId": "8a741b4f-98a7-47bc-e22e-59d351848231"
      },
      "source": [
        "confusion_matrix(y_test, y_pred)"
      ],
      "execution_count": null,
      "outputs": [
        {
          "output_type": "execute_result",
          "data": {
            "text/plain": [
              "array([[10,  0],\n",
              "       [ 0, 15]])"
            ]
          },
          "metadata": {
            "tags": []
          },
          "execution_count": 156
        }
      ]
    },
    {
      "cell_type": "markdown",
      "metadata": {
        "id": "FxcsHDzXPFeb"
      },
      "source": [
        "8. **Memeriksa probabilitas sebenarnya bahwa titik data termasuk dalam kelas tertentu, yang dapat menggunakan fungsi predict_proba**"
      ]
    },
    {
      "cell_type": "code",
      "metadata": {
        "colab": {
          "base_uri": "https://localhost:8080/"
        },
        "id": "X8xK0DyE8RJf",
        "outputId": "dbf99a46-52c4-4399-e092-f8dc413dbd6c"
      },
      "source": [
        "lr.predict_proba(x_test)"
      ],
      "execution_count": null,
      "outputs": [
        {
          "output_type": "execute_result",
          "data": {
            "text/plain": [
              "array([[1.48260237e-01, 8.51739763e-01],\n",
              "       [1.15923999e-01, 8.84076001e-01],\n",
              "       [1.08260815e-01, 8.91739185e-01],\n",
              "       [9.85409391e-01, 1.45906086e-02],\n",
              "       [1.66012553e-01, 8.33987447e-01],\n",
              "       [9.63488666e-01, 3.65113337e-02],\n",
              "       [1.34616628e-01, 8.65383372e-01],\n",
              "       [1.04127500e-01, 8.95872500e-01],\n",
              "       [9.99848648e-01, 1.51351614e-04],\n",
              "       [1.33506543e-01, 8.66493457e-01],\n",
              "       [5.10621739e-01, 4.89378261e-01],\n",
              "       [1.22255496e-01, 8.77744504e-01],\n",
              "       [1.29081500e-01, 8.70918500e-01],\n",
              "       [1.34931569e-01, 8.65068431e-01],\n",
              "       [1.43828464e-01, 8.56171536e-01],\n",
              "       [9.29484765e-01, 7.05152349e-02],\n",
              "       [9.87382392e-01, 1.26176081e-02],\n",
              "       [1.30707703e-01, 8.69292297e-01],\n",
              "       [1.41179112e-01, 8.58820888e-01],\n",
              "       [1.54667619e-01, 8.45332381e-01],\n",
              "       [9.41118889e-01, 5.88811107e-02],\n",
              "       [9.99463176e-01, 5.36823574e-04],\n",
              "       [9.98451123e-01, 1.54887715e-03],\n",
              "       [7.09658668e-01, 2.90341332e-01],\n",
              "       [1.33038826e-01, 8.66961174e-01]])"
            ]
          },
          "metadata": {
            "tags": []
          },
          "execution_count": 157
        }
      ]
    },
    {
      "cell_type": "markdown",
      "metadata": {
        "id": "YYa4efQuPmZ-"
      },
      "source": [
        "Kolom pertama menunjukkan probabilitas bahwa sampel termasuk dalam kelas pertama dan kolom kedua menunjukkan probabilitas sampel termasuk dalam kelas kedua"
      ]
    },
    {
      "cell_type": "markdown",
      "metadata": {
        "id": "O6EC3JxzPqNj"
      },
      "source": [
        "**Sebelum mencoba fungsi Sigmoid, membuat dan mengurutkan DataFrame yang berisi data pengujian kami**"
      ]
    },
    {
      "cell_type": "code",
      "metadata": {
        "colab": {
          "base_uri": "https://localhost:8080/",
          "height": 285
        },
        "id": "kd8jM2tt8dDr",
        "outputId": "577bb7a7-d74f-4caf-8a87-4d50d9448188"
      },
      "source": [
        "df = pd.DataFrame({'x': x_test[:,0], 'y': y_test})\r\n",
        "df = df.sort_values(by='x')\r\n",
        "from scipy.special import expit\r\n",
        "sigmoid_function = expit(df['x'] * lr.coef_[0][0] + lr.intercept_[0]).ravel()\r\n",
        "plt.plot(df['x'], sigmoid_function)\r\n",
        "plt.scatter(df['x'], df['y'], c=df['y'], cmap='rainbow', edgecolors='b')"
      ],
      "execution_count": null,
      "outputs": [
        {
          "output_type": "execute_result",
          "data": {
            "text/plain": [
              "<matplotlib.collections.PathCollection at 0x7fa8865fe518>"
            ]
          },
          "metadata": {
            "tags": []
          },
          "execution_count": 158
        },
        {
          "output_type": "display_data",
          "data": {
            "image/png": "[encoded data removed]",
            "text/plain": [
              "<Figure size 432x288 with 1 Axes>"
            ]
          },
          "metadata": {
            "tags": []
          }
        }
      ]
    },
    {
      "cell_type": "markdown",
      "metadata": {
        "id": "MRLTg5faQTqD"
      },
      "source": [
        "**Evaluasi Hipotesis Pemodelan**\r\n",
        "Jika nilai P-value = 0 atau lebih dari 0 maka hipotesis diterima dan korelasinya kuat. Jika nilai P-value kurang dari 0 maka hipotesis ditolak."
      ]
    },
    {
      "cell_type": "code",
      "metadata": {
        "id": "M9XUqLku8io1"
      },
      "source": [
        "class HypothesisTest(object):\r\n",
        "    \r\n",
        "    def __init__(self, data):\r\n",
        "        self.data = data\r\n",
        "        self.MakeModel()\r\n",
        "        self.actual = self.TestStatistic(data)\r\n",
        "        \r\n",
        "    def PValue(self, iters = 1000):\r\n",
        "        self.test_stats = [self.TestStatistic(self.RunModel()) for _ in range(iters)]\r\n",
        "        count = sum(1 for x in self.test_stats if x >= self.actual)\r\n",
        "        return count / iters\r\n",
        "    \r\n",
        "    def TestStatistic(self, data):\r\n",
        "        raise UnimplementedMethodException()\r\n",
        "        \r\n",
        "    def MakeModel(self):\r\n",
        "        pass\r\n",
        "    \r\n",
        "    def RunModel(self):\r\n",
        "        raise UnimplementedMethodException()"
      ],
      "execution_count": null,
      "outputs": []
    },
    {
      "cell_type": "code",
      "metadata": {
        "id": "C9OtSFy-8p4V"
      },
      "source": [
        "class CorrPermute(HypothesisTest):\r\n",
        "    \r\n",
        "    def TestStatistic(self, data):\r\n",
        "        xs, ys = data\r\n",
        "        test_stat = abs(correlation(xs, ys))\r\n",
        "        return test_stat\r\n",
        "    \r\n",
        "    def RunModel(self):\r\n",
        "        xs, ys = self.data\r\n",
        "        xs = np.random.permutation(xs)\r\n",
        "        return xs, ys\r\n",
        "    \r\n",
        "def correlation(x, y):\r\n",
        "    std_x = np.std(x)\r\n",
        "    std_y = np.std(y)\r\n",
        "    if std_x and std_y > 0:\r\n",
        "        return covariance(x, y) / std_x / std_y\r\n",
        "    else:\r\n",
        "        return 0\r\n",
        "    \r\n",
        "def de_mean(x):\r\n",
        "    x_bar = np.mean(x)\r\n",
        "    return [x_i - x_bar for x_i in x]\r\n",
        "\r\n",
        "def covariance(x, y):\r\n",
        "    n = len(x)\r\n",
        "    return np.dot(de_mean(x), de_mean(y)) / (n - 1)"
      ],
      "execution_count": null,
      "outputs": []
    },
    {
      "cell_type": "code",
      "metadata": {
        "colab": {
          "base_uri": "https://localhost:8080/"
        },
        "id": "bpdHtFWt8xp_",
        "outputId": "38d90070-9313-40e7-9f88-e62bc7eb8ff3"
      },
      "source": [
        "cp = CorrPermute((atic, cam))\r\n",
        "pvalue = cp.PValue()\r\n",
        "\r\n",
        "print('Hipotesis akhir p-value: ', pvalue)"
      ],
      "execution_count": null,
      "outputs": [
        {
          "output_type": "stream",
          "text": [
            "Hipotesis akhir p-value:  0.0\n"
          ],
          "name": "stdout"
        }
      ]
    },
    {
      "cell_type": "markdown",
      "metadata": {
        "id": "cM7QBOATQy3x"
      },
      "source": [
        "**ANALISIS**\r\n",
        "Nilai P-value pada hipotesis akhir adalah 0. Dimana dapat disimpulkan bahwa korelasi yang terjadi adalah signifikan secara statistik."
      ]
    },
    {
      "cell_type": "markdown",
      "metadata": {
        "id": "gQFL-A-ERGxT"
      },
      "source": [
        "**MEMPREDIKSI AMERICAN TROPICAL INTERPRETIVE CENTER DAN CHINESE AMERICAN MUSEUM MENGGUNAKAN LINEAR LEAST SQUAARE**"
      ]
    },
    {
      "cell_type": "code",
      "metadata": {
        "id": "ug1mjCfPBJI7"
      },
      "source": [
        "def LeastSquares(xs, ys):\r\n",
        "    meanx, varx = np.mean(xs), np.var(xs)\r\n",
        "    meany = np.mean(ys)\r\n",
        "    \r\n",
        "    slope = covariance(xs, ys) / varx\r\n",
        "    inter = meany - slope * meanx\r\n",
        "    \r\n",
        "    return inter, slope\r\n",
        "\r\n",
        "def FitLine(xs, inter, slope):\r\n",
        "    fit_xs = np.sort(xs)\r\n",
        "    fit_ys = inter + slope * fit_xs\r\n",
        "    \r\n",
        "    return fit_xs, fit_ys"
      ],
      "execution_count": null,
      "outputs": []
    },
    {
      "cell_type": "code",
      "metadata": {
        "colab": {
          "base_uri": "https://localhost:8080/"
        },
        "id": "5lWkGOvXBYey",
        "outputId": "8915916c-a94f-46fd-9658-5a9eb1481ff8"
      },
      "source": [
        "inter, slope = LeastSquares(atic, cam)\r\n",
        "fit_xs, fit_ys = FitLine(atic, inter, slope)\r\n",
        "\r\n",
        "print('intercept is: {} and slope is: {}'.format(inter, slope))"
      ],
      "execution_count": null,
      "outputs": [
        {
          "output_type": "stream",
          "text": [
            "intercept is: 1191.9635792415502 and slope is: 0.21200161710451362\n"
          ],
          "name": "stdout"
        }
      ]
    },
    {
      "cell_type": "markdown",
      "metadata": {
        "id": "i40isy0DRw_i"
      },
      "source": [
        "**Analisis** : \r\n",
        "Pada hasil linear least square untuk intercept adalah 1191 dan Slope 0.21200"
      ]
    },
    {
      "cell_type": "markdown",
      "metadata": {
        "id": "f244WlbQSP1e"
      },
      "source": [
        "**RESIDUAL**"
      ]
    },
    {
      "cell_type": "code",
      "metadata": {
        "id": "H3_DxXQ5B9U4"
      },
      "source": [
        "def Residuals(xs, ys, inter, slope):\r\n",
        "    xs = np.asarray(xs)\r\n",
        "    ys = np.asarray(ys)\r\n",
        "    res = ys - (inter + slope * xs)\r\n",
        "    return res"
      ],
      "execution_count": null,
      "outputs": []
    },
    {
      "cell_type": "code",
      "metadata": {
        "id": "eGOxjRqHCdHZ"
      },
      "source": [
        "res = Residuals(atic, cam, inter, slope)\r\n",
        "\r\n",
        "dt['residuals'] = res"
      ],
      "execution_count": null,
      "outputs": []
    },
    {
      "cell_type": "code",
      "metadata": {
        "colab": {
          "base_uri": "https://localhost:8080/"
        },
        "id": "OXGu9t9bCu0C",
        "outputId": "a368a387-4c97-4906-ff21-4466dd334f03"
      },
      "source": [
        "print('Prediksi RMSE adalah :  ', np.std(res))"
      ],
      "execution_count": null,
      "outputs": [
        {
          "output_type": "stream",
          "text": [
            "Prediksi RMSE adalah :   1137.2328354994197\n"
          ],
          "name": "stdout"
        }
      ]
    },
    {
      "cell_type": "markdown",
      "metadata": {
        "id": "X9CNop5NSYMp"
      },
      "source": [
        "Analisis : \r\n",
        "Prediksi RMSE adalah 1137,23"
      ]
    },
    {
      "cell_type": "markdown",
      "metadata": {
        "id": "T-UqkQp0Tw6g"
      },
      "source": [
        "**KOEFISIEN DETERMINASI**"
      ]
    },
    {
      "cell_type": "code",
      "metadata": {
        "colab": {
          "base_uri": "https://localhost:8080/"
        },
        "id": "ezup_tXjDBcV",
        "outputId": "8f432c6c-0136-4189-ed14-8fc5c32a308b"
      },
      "source": [
        "r_squared = 1 - (np.var(res) / np.var(cam))\r\n",
        "\r\n",
        "print('Koefisien determinasi didapatkan adalah: ', r_squared)"
      ],
      "execution_count": null,
      "outputs": [
        {
          "output_type": "stream",
          "text": [
            "Koefisien determinasi didapatkan adalah:  0.25489312893792193\n"
          ],
          "name": "stdout"
        }
      ]
    },
    {
      "cell_type": "markdown",
      "metadata": {
        "id": "Naps4JGXUA3K"
      },
      "source": [
        "**Analisis**\r\n",
        "Koefisien determinasi yang didapatkan adalah 0,254"
      ]
    },
    {
      "cell_type": "markdown",
      "metadata": {
        "id": "SgycLVjaURjw"
      },
      "source": [
        "**VISUALISASI PLOT DARI EVALUASI YANG SUDAH DILAKUKAN**"
      ]
    },
    {
      "cell_type": "code",
      "metadata": {
        "colab": {
          "base_uri": "https://localhost:8080/",
          "height": 519
        },
        "id": "_hCw2ACuDMlo",
        "outputId": "18c094a3-4534-4257-e63f-4ba9afe9910f"
      },
      "source": [
        "plt.figure(figsize = (15, 8))\r\n",
        "\r\n",
        "plt.xlabel('Avila Adobe')\r\n",
        "plt.ylabel('Chinese American Museum')\r\n",
        "\r\n",
        "plt.plot(fit_xs, fit_ys, color = 'black')\r\n",
        "plt.scatter(cam, aa , color = 'blue')"
      ],
      "execution_count": null,
      "outputs": [
        {
          "output_type": "execute_result",
          "data": {
            "text/plain": [
              "<matplotlib.collections.PathCollection at 0x7fa8861fa518>"
            ]
          },
          "metadata": {
            "tags": []
          },
          "execution_count": 182
        },
        {
          "output_type": "display_data",
          "data": {
            "image/png": "[encoded data removed]",
            "text/plain": [
              "<Figure size 1080x576 with 1 Axes>"
            ]
          },
          "metadata": {
            "tags": []
          }
        }
      ]
    }
  ]
}