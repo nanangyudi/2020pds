{
  "nbformat": 4,
  "nbformat_minor": 0,
  "metadata": {
    "colab": {
      "name": "(Revisi)TugasBesar_Miftachul_Bachruddin_205150409111024.ipynb",
      "provenance": [],
      "collapsed_sections": [],
      "include_colab_link": true
    },
    "kernelspec": {
      "name": "python3",
      "display_name": "Python 3"
    }
  },
  "cells": [
    {
      "cell_type": "markdown",
      "metadata": {
        "id": "view-in-github",
        "colab_type": "text"
      },
      "source": [
        "<a href=\"https://colab.research.google.com/github/nanangyudi/2020pds_d/blob/main/(Revisi)TugasBesar_Miftachul_Bachruddin_205150409111024.ipynb\" target=\"_parent\"><img src=\"https://colab.research.google.com/assets/colab-badge.svg\" alt=\"Open In Colab\"/></a>"
      ]
    },
    {
      "cell_type": "markdown",
      "metadata": {
        "id": "RbTHEVg0-Kr4"
      },
      "source": [
        " >**Deskripsi Tujuan Bisnis**\r\n",
        "\r\n",
        "\r\n",
        "1. User akan mengetahui IPK tiap semester\r\n",
        "2. Mengetahui IPK paling tinggi dan terrendah tiap semester.\r\n",
        "3. Dapat mengetahui banyak kelulusan tepat waktu."
      ]
    },
    {
      "cell_type": "markdown",
      "metadata": {
        "id": "3m1DsX9n-NOA"
      },
      "source": [
        "\r\n",
        "> **Pengumpulan Data**\r\n",
        "\r\n",
        "Pada tahapan pengumpulan data kita menggunakan dataset yang diambil dari internet berikut data informaasi lengkapnya:\r\n",
        "*   Situs  : kaggle.com \r\n",
        "*   Judul  : On Time Graduation Classification, A GPA dataset gathered from a private university in Indonesia\r\n",
        "*   Author : Oddy Virgantara Putra\r\n",
        "*   url    : https://www.kaggle.com/oddyvirgantara/on-time-graduation-classification\r\n",
        "\r\n",
        "\r\n"
      ]
    },
    {
      "cell_type": "markdown",
      "metadata": {
        "id": "4nDeqqbx-Qzg"
      },
      "source": [
        "> **Analisa Pendekatan**\r\n",
        "1.   dalam analisi data ini kita menggunakan metode Exploratory Data Analysis (EDA)\r\n",
        "2.   Dalam statistik, analisis data eksplorasi adalah pendekatan untuk menganalisis set data untuk merangkum karakteristik utama mereka."
      ]
    },
    {
      "cell_type": "markdown",
      "metadata": {
        "id": "wFAumU0o-VtR"
      },
      "source": [
        "\r\n",
        "\r\n",
        "> **Pemahaman Data**\r\n",
        "\r\n",
        "Dalam dataset ini berisikan mengenai data terkait IPK yang dikumpulkan dari sebuah universitas di Indonesia. Dalam data ini berisi kolom yang menyediakan ip1,ip2,ip3,ip4 dan tepat. sehingga kita bisa melakukan analisa data.\r\n",
        "\r\n",
        "\r\n"
      ]
    },
    {
      "cell_type": "markdown",
      "metadata": {
        "id": "P_iL7sZS-YTS"
      },
      "source": [
        "> **Eksplorasi Data**"
      ]
    },
    {
      "cell_type": "markdown",
      "metadata": {
        "id": "IboQq2e8AcAn"
      },
      "source": [
        "- **Mempersiapkan Data**\r\n",
        "\r\n",
        "dengan cara import library yang dibutuhkan\r\n"
      ]
    },
    {
      "cell_type": "code",
      "metadata": {
        "id": "9898LYN40z2v"
      },
      "source": [
        "import pandas as pd\r\n",
        "import numpy as np\r\n",
        "import seaborn as sns\r\n",
        "import matplotlib.pyplot as plt\r\n",
        "from sklearn.cluster import KMeans\r\n",
        "from sklearn.preprocessing import MinMaxScaler"
      ],
      "execution_count": null,
      "outputs": []
    },
    {
      "cell_type": "markdown",
      "metadata": {
        "id": "ZHohK6bEAg0J"
      },
      "source": [
        "- **Memasukkan Dataset**\r\n",
        "\r\n",
        "Kita melakukan Import data berupa \"CSV\" yang ada di Github"
      ]
    },
    {
      "cell_type": "code",
      "metadata": {
        "colab": {
          "base_uri": "https://localhost:8080/",
          "height": 197
        },
        "id": "9apNyhzV2rCJ",
        "outputId": "084b8f88-1dfc-40ac-ac9e-e5f01cd02758"
      },
      "source": [
        "url = 'https://raw.githubusercontent.com/Mifta-ux/Tugas-Pengantar-Data-Saintis/main/data_lulus_tepat_waktu.csv'\r\n",
        "df = pd.read_csv(\"https://raw.githubusercontent.com/Mifta-ux/Tugas-Pengantar-Data-Saintis/main/data_lulus_tepat_waktu.csv\") \r\n",
        "df.head()"
      ],
      "execution_count": null,
      "outputs": [
        {
          "output_type": "execute_result",
          "data": {
            "text/html": [
              "<div>\n",
              "<style scoped>\n",
              "    .dataframe tbody tr th:only-of-type {\n",
              "        vertical-align: middle;\n",
              "    }\n",
              "\n",
              "    .dataframe tbody tr th {\n",
              "        vertical-align: top;\n",
              "    }\n",
              "\n",
              "    .dataframe thead th {\n",
              "        text-align: right;\n",
              "    }\n",
              "</style>\n",
              "<table border=\"1\" class=\"dataframe\">\n",
              "  <thead>\n",
              "    <tr style=\"text-align: right;\">\n",
              "      <th></th>\n",
              "      <th>ip1</th>\n",
              "      <th>ip2</th>\n",
              "      <th>ip3</th>\n",
              "      <th>ip4</th>\n",
              "      <th>tepat</th>\n",
              "    </tr>\n",
              "  </thead>\n",
              "  <tbody>\n",
              "    <tr>\n",
              "      <th>0</th>\n",
              "      <td>2.30</td>\n",
              "      <td>1.97</td>\n",
              "      <td>1.80</td>\n",
              "      <td>1.56</td>\n",
              "      <td>Tidak</td>\n",
              "    </tr>\n",
              "    <tr>\n",
              "      <th>1</th>\n",
              "      <td>1.81</td>\n",
              "      <td>1.68</td>\n",
              "      <td>1.57</td>\n",
              "      <td>1.86</td>\n",
              "      <td>Tidak</td>\n",
              "    </tr>\n",
              "    <tr>\n",
              "      <th>2</th>\n",
              "      <td>3.07</td>\n",
              "      <td>3.00</td>\n",
              "      <td>2.75</td>\n",
              "      <td>3.21</td>\n",
              "      <td>Tidak</td>\n",
              "    </tr>\n",
              "    <tr>\n",
              "      <th>3</th>\n",
              "      <td>2.71</td>\n",
              "      <td>2.33</td>\n",
              "      <td>2.61</td>\n",
              "      <td>1.98</td>\n",
              "      <td>Tidak</td>\n",
              "    </tr>\n",
              "    <tr>\n",
              "      <th>4</th>\n",
              "      <td>3.17</td>\n",
              "      <td>3.02</td>\n",
              "      <td>3.28</td>\n",
              "      <td>2.96</td>\n",
              "      <td>Tidak</td>\n",
              "    </tr>\n",
              "  </tbody>\n",
              "</table>\n",
              "</div>"
            ],
            "text/plain": [
              "    ip1   ip2   ip3   ip4  tepat\n",
              "0  2.30  1.97  1.80  1.56  Tidak\n",
              "1  1.81  1.68  1.57  1.86  Tidak\n",
              "2  3.07  3.00  2.75  3.21  Tidak\n",
              "3  2.71  2.33  2.61  1.98  Tidak\n",
              "4  3.17  3.02  3.28  2.96  Tidak"
            ]
          },
          "metadata": {
            "tags": []
          },
          "execution_count": 289
        }
      ]
    },
    {
      "cell_type": "markdown",
      "metadata": {
        "id": "uqILz37tA4Jv"
      },
      "source": [
        "- **Preprocessing Data**\r\n",
        "\r\n",
        "Kita dapat melihat bahwa tidak semua nilai fitur bertipe sama. Beberapa dari data adalah angka dan beberapa dari mereka tidak. Untuk mempermudah perhitungan, kita akan mengumpankan semua data numerik ke model. Kita lihat tipe data dari berbagai fitur yang dimiliki:"
      ]
    },
    {
      "cell_type": "code",
      "metadata": {
        "colab": {
          "base_uri": "https://localhost:8080/"
        },
        "id": "DB48wQ7I24JG",
        "outputId": "5cf8fe35-944c-434e-dfd2-8352abea97ea"
      },
      "source": [
        "df.info()"
      ],
      "execution_count": null,
      "outputs": [
        {
          "output_type": "stream",
          "text": [
            "<class 'pandas.core.frame.DataFrame'>\n",
            "RangeIndex: 1687 entries, 0 to 1686\n",
            "Data columns (total 5 columns):\n",
            " #   Column  Non-Null Count  Dtype  \n",
            "---  ------  --------------  -----  \n",
            " 0   ip1     1687 non-null   float64\n",
            " 1   ip2     1687 non-null   float64\n",
            " 2   ip3     1687 non-null   float64\n",
            " 3   ip4     1687 non-null   float64\n",
            " 4   tepat   1687 non-null   object \n",
            "dtypes: float64(4), object(1)\n",
            "memory usage: 66.0+ KB\n"
          ],
          "name": "stdout"
        }
      ]
    },
    {
      "cell_type": "markdown",
      "metadata": {
        "id": "FjbbAw5pBLRa"
      },
      "source": [
        "Dapat dilihat bersadarkan output di atas, kolom yang digunakan ip1,ip2,ip3,ip4 sudah bersifat numerik"
      ]
    },
    {
      "cell_type": "markdown",
      "metadata": {
        "id": "KJlRkPq7FlPd"
      },
      "source": [
        "- **Melihat Dimensi Data**\r\n",
        "\r\n",
        "dengan melihat dimensi data kita bisa melihat jumlah baris dan kolom dari data kita"
      ]
    },
    {
      "cell_type": "code",
      "metadata": {
        "colab": {
          "base_uri": "https://localhost:8080/"
        },
        "id": "qkcatuYhFhAf",
        "outputId": "64820eab-f7b0-44e2-aa61-9a8405cdcedd"
      },
      "source": [
        "dimensi      = df.shape\r\n",
        "panjang_data = len(df)\r\n",
        "print(f'Dimensi data adalah {dimensi[0]} baris, dan {dimensi[1]} kolom')\r\n",
        "print(f'Panjang data adalah {panjang_data} baris')"
      ],
      "execution_count": null,
      "outputs": [
        {
          "output_type": "stream",
          "text": [
            "Dimensi data adalah 1687 baris, dan 5 kolom\n",
            "Panjang data adalah 1687 baris\n"
          ],
          "name": "stdout"
        }
      ]
    },
    {
      "cell_type": "markdown",
      "metadata": {
        "id": "585hQOf_GsWl"
      },
      "source": [
        "- **Melihat jumlah Lulus tepat waktu**"
      ]
    },
    {
      "cell_type": "code",
      "metadata": {
        "colab": {
          "base_uri": "https://localhost:8080/"
        },
        "id": "9MQmihmjGnrD",
        "outputId": "5d804e29-7c3e-4f89-ab2f-71e65342458f"
      },
      "source": [
        "df.tepat.value_counts()"
      ],
      "execution_count": null,
      "outputs": [
        {
          "output_type": "execute_result",
          "data": {
            "text/plain": [
              "Ya       1552\n",
              "Tidak     135\n",
              "Name: tepat, dtype: int64"
            ]
          },
          "metadata": {
            "tags": []
          },
          "execution_count": 292
        }
      ]
    },
    {
      "cell_type": "markdown",
      "metadata": {
        "id": "QDoX7taTHE38"
      },
      "source": [
        "\r\n",
        "> **Pemodelan Data**"
      ]
    },
    {
      "cell_type": "code",
      "metadata": {
        "colab": {
          "base_uri": "https://localhost:8080/",
          "height": 307
        },
        "id": "S1YK8WLmG7uN",
        "outputId": "a3fe276b-f788-4928-d5c2-a37a38413eb5"
      },
      "source": [
        "plt.hist(df['ip1'], bins = 5, edgecolor = 'black')\r\n",
        "plt.suptitle('Ipk Semester 1', fontsize=14, fontweight='bold')\r\n",
        "plt.title('distribusi Ipk smester 1')\r\n",
        "plt.xlabel('ip1')\r\n",
        "plt.ylabel('Frekuensi')\r\n",
        "plt.show()"
      ],
      "execution_count": null,
      "outputs": [
        {
          "output_type": "display_data",
          "data": {
            "image/png": "[encoded data removed]",
            "text/plain": [
              "<Figure size 432x288 with 1 Axes>"
            ]
          },
          "metadata": {
            "tags": [],
            "needs_background": "light"
          }
        }
      ]
    },
    {
      "cell_type": "code",
      "metadata": {
        "colab": {
          "base_uri": "https://localhost:8080/",
          "height": 307
        },
        "id": "ktrwKj58HcPm",
        "outputId": "f6bb9d27-3ee9-4d65-8829-f4b0bd0d427b"
      },
      "source": [
        "plt.hist(df['ip2'], bins = 5, edgecolor = 'black')\r\n",
        "plt.suptitle('Ipk Semester 2', fontsize=14, fontweight='bold')\r\n",
        "plt.title('distribusi Ipk smester 2')\r\n",
        "plt.xlabel('ip2')\r\n",
        "plt.ylabel('Frekuensi')\r\n",
        "plt.show()"
      ],
      "execution_count": null,
      "outputs": [
        {
          "output_type": "display_data",
          "data": {
            "image/png": "[encoded data removed]",
            "text/plain": [
              "<Figure size 432x288 with 1 Axes>"
            ]
          },
          "metadata": {
            "tags": [],
            "needs_background": "light"
          }
        }
      ]
    },
    {
      "cell_type": "code",
      "metadata": {
        "colab": {
          "base_uri": "https://localhost:8080/",
          "height": 307
        },
        "id": "jPm1M4Y4Hh8e",
        "outputId": "15ccacfa-777f-4b53-f3bf-eafb0b8ce1eb"
      },
      "source": [
        "plt.hist(df['ip3'], bins = 5, edgecolor = 'black')\r\n",
        "plt.suptitle('Ipk Semester 3', fontsize=14, fontweight='bold')\r\n",
        "plt.title('distribusi Ipk smester 3')\r\n",
        "plt.xlabel('ip3')\r\n",
        "plt.ylabel('Frekuensi')\r\n",
        "plt.show()"
      ],
      "execution_count": null,
      "outputs": [
        {
          "output_type": "display_data",
          "data": {
            "image/png": "[encoded data removed]",
            "text/plain": [
              "<Figure size 432x288 with 1 Axes>"
            ]
          },
          "metadata": {
            "tags": [],
            "needs_background": "light"
          }
        }
      ]
    },
    {
      "cell_type": "code",
      "metadata": {
        "colab": {
          "base_uri": "https://localhost:8080/",
          "height": 307
        },
        "id": "Z6cMBJQ7Hx9l",
        "outputId": "2fcf1e50-fa63-4cbe-ec3b-0a5d434f8df0"
      },
      "source": [
        "plt.hist(df['ip4'], bins = 5, edgecolor = 'black')\r\n",
        "plt.suptitle('Ipk Semester 4', fontsize=14, fontweight='bold')\r\n",
        "plt.title('distribusi Ipk smester 4')\r\n",
        "plt.xlabel('ip4')\r\n",
        "plt.ylabel('Frekuensi')\r\n",
        "plt.show()"
      ],
      "execution_count": null,
      "outputs": [
        {
          "output_type": "display_data",
          "data": {
            "image/png": "[encoded data removed]",
            "text/plain": [
              "<Figure size 432x288 with 1 Axes>"
            ]
          },
          "metadata": {
            "tags": [],
            "needs_background": "light"
          }
        }
      ]
    },
    {
      "cell_type": "markdown",
      "metadata": {
        "id": "eAz3ulEWR3TF"
      },
      "source": [
        "dari histogram di atas rata-rata mahasiswa memiliki ipk 3,5 sampai 4.0"
      ]
    },
    {
      "cell_type": "markdown",
      "metadata": {
        "id": "B_YJGLZHJrSb"
      },
      "source": [
        "- **Mengelompokkan variabel**"
      ]
    },
    {
      "cell_type": "code",
      "metadata": {
        "colab": {
          "base_uri": "https://localhost:8080/",
          "height": 187
        },
        "id": "jZnwXqyJJpaV",
        "outputId": "e97ec3a7-9fae-4464-fe68-09dae8020e3f"
      },
      "source": [
        "test= df.groupby(['tepat'])\r\n",
        "test.describe()"
      ],
      "execution_count": null,
      "outputs": [
        {
          "output_type": "execute_result",
          "data": {
            "text/html": [
              "<div>\n",
              "<style scoped>\n",
              "    .dataframe tbody tr th:only-of-type {\n",
              "        vertical-align: middle;\n",
              "    }\n",
              "\n",
              "    .dataframe tbody tr th {\n",
              "        vertical-align: top;\n",
              "    }\n",
              "\n",
              "    .dataframe thead tr th {\n",
              "        text-align: left;\n",
              "    }\n",
              "\n",
              "    .dataframe thead tr:last-of-type th {\n",
              "        text-align: right;\n",
              "    }\n",
              "</style>\n",
              "<table border=\"1\" class=\"dataframe\">\n",
              "  <thead>\n",
              "    <tr>\n",
              "      <th></th>\n",
              "      <th colspan=\"8\" halign=\"left\">ip1</th>\n",
              "      <th colspan=\"8\" halign=\"left\">ip2</th>\n",
              "      <th colspan=\"8\" halign=\"left\">ip3</th>\n",
              "      <th colspan=\"8\" halign=\"left\">ip4</th>\n",
              "    </tr>\n",
              "    <tr>\n",
              "      <th></th>\n",
              "      <th>count</th>\n",
              "      <th>mean</th>\n",
              "      <th>std</th>\n",
              "      <th>min</th>\n",
              "      <th>25%</th>\n",
              "      <th>50%</th>\n",
              "      <th>75%</th>\n",
              "      <th>max</th>\n",
              "      <th>count</th>\n",
              "      <th>mean</th>\n",
              "      <th>std</th>\n",
              "      <th>min</th>\n",
              "      <th>25%</th>\n",
              "      <th>50%</th>\n",
              "      <th>75%</th>\n",
              "      <th>max</th>\n",
              "      <th>count</th>\n",
              "      <th>mean</th>\n",
              "      <th>std</th>\n",
              "      <th>min</th>\n",
              "      <th>25%</th>\n",
              "      <th>50%</th>\n",
              "      <th>75%</th>\n",
              "      <th>max</th>\n",
              "      <th>count</th>\n",
              "      <th>mean</th>\n",
              "      <th>std</th>\n",
              "      <th>min</th>\n",
              "      <th>25%</th>\n",
              "      <th>50%</th>\n",
              "      <th>75%</th>\n",
              "      <th>max</th>\n",
              "    </tr>\n",
              "    <tr>\n",
              "      <th>tepat</th>\n",
              "      <th></th>\n",
              "      <th></th>\n",
              "      <th></th>\n",
              "      <th></th>\n",
              "      <th></th>\n",
              "      <th></th>\n",
              "      <th></th>\n",
              "      <th></th>\n",
              "      <th></th>\n",
              "      <th></th>\n",
              "      <th></th>\n",
              "      <th></th>\n",
              "      <th></th>\n",
              "      <th></th>\n",
              "      <th></th>\n",
              "      <th></th>\n",
              "      <th></th>\n",
              "      <th></th>\n",
              "      <th></th>\n",
              "      <th></th>\n",
              "      <th></th>\n",
              "      <th></th>\n",
              "      <th></th>\n",
              "      <th></th>\n",
              "      <th></th>\n",
              "      <th></th>\n",
              "      <th></th>\n",
              "      <th></th>\n",
              "      <th></th>\n",
              "      <th></th>\n",
              "      <th></th>\n",
              "      <th></th>\n",
              "    </tr>\n",
              "  </thead>\n",
              "  <tbody>\n",
              "    <tr>\n",
              "      <th>Tidak</th>\n",
              "      <td>135.0</td>\n",
              "      <td>2.964148</td>\n",
              "      <td>0.399031</td>\n",
              "      <td>1.45</td>\n",
              "      <td>2.805</td>\n",
              "      <td>3.05</td>\n",
              "      <td>3.185</td>\n",
              "      <td>3.86</td>\n",
              "      <td>135.0</td>\n",
              "      <td>2.944296</td>\n",
              "      <td>0.512041</td>\n",
              "      <td>1.09</td>\n",
              "      <td>2.775</td>\n",
              "      <td>3.07</td>\n",
              "      <td>3.285</td>\n",
              "      <td>3.65</td>\n",
              "      <td>135.0</td>\n",
              "      <td>2.998593</td>\n",
              "      <td>0.437155</td>\n",
              "      <td>1.57</td>\n",
              "      <td>2.835</td>\n",
              "      <td>3.09</td>\n",
              "      <td>3.29</td>\n",
              "      <td>3.66</td>\n",
              "      <td>135.0</td>\n",
              "      <td>3.016148</td>\n",
              "      <td>0.517442</td>\n",
              "      <td>1.31</td>\n",
              "      <td>2.93</td>\n",
              "      <td>3.170</td>\n",
              "      <td>3.34</td>\n",
              "      <td>3.72</td>\n",
              "    </tr>\n",
              "    <tr>\n",
              "      <th>Ya</th>\n",
              "      <td>1552.0</td>\n",
              "      <td>3.192751</td>\n",
              "      <td>0.336931</td>\n",
              "      <td>0.83</td>\n",
              "      <td>3.050</td>\n",
              "      <td>3.24</td>\n",
              "      <td>3.420</td>\n",
              "      <td>3.77</td>\n",
              "      <td>1552.0</td>\n",
              "      <td>3.190232</td>\n",
              "      <td>0.443790</td>\n",
              "      <td>0.23</td>\n",
              "      <td>3.090</td>\n",
              "      <td>3.28</td>\n",
              "      <td>3.450</td>\n",
              "      <td>4.00</td>\n",
              "      <td>1552.0</td>\n",
              "      <td>3.271856</td>\n",
              "      <td>0.320636</td>\n",
              "      <td>0.55</td>\n",
              "      <td>3.150</td>\n",
              "      <td>3.32</td>\n",
              "      <td>3.48</td>\n",
              "      <td>3.92</td>\n",
              "      <td>1552.0</td>\n",
              "      <td>3.309465</td>\n",
              "      <td>0.378010</td>\n",
              "      <td>0.90</td>\n",
              "      <td>3.20</td>\n",
              "      <td>3.405</td>\n",
              "      <td>3.53</td>\n",
              "      <td>3.91</td>\n",
              "    </tr>\n",
              "  </tbody>\n",
              "</table>\n",
              "</div>"
            ],
            "text/plain": [
              "          ip1                                   ...   ip4                         \n",
              "        count      mean       std   min    25%  ...   min   25%    50%   75%   max\n",
              "tepat                                           ...                               \n",
              "Tidak   135.0  2.964148  0.399031  1.45  2.805  ...  1.31  2.93  3.170  3.34  3.72\n",
              "Ya     1552.0  3.192751  0.336931  0.83  3.050  ...  0.90  3.20  3.405  3.53  3.91\n",
              "\n",
              "[2 rows x 32 columns]"
            ]
          },
          "metadata": {
            "tags": []
          },
          "execution_count": 297
        }
      ]
    },
    {
      "cell_type": "markdown",
      "metadata": {
        "id": "0-HuFClnPJb6"
      },
      "source": [
        "\r\n",
        "\r\n",
        "> **Evaluasi Model**"
      ]
    },
    {
      "cell_type": "markdown",
      "metadata": {
        "id": "g-7BlHhoJ03T"
      },
      "source": [
        "- **Corellation Mapping**"
      ]
    },
    {
      "cell_type": "code",
      "metadata": {
        "colab": {
          "base_uri": "https://localhost:8080/",
          "height": 553
        },
        "id": "5dZWz4d-Jz3r",
        "outputId": "1024f2a1-8c38-488e-b60e-198466e4742c"
      },
      "source": [
        "f, ax = plt.subplots(figsize=(11, 9))\r\n",
        "cmap = sns.diverging_palette(230, 20, as_cmap=True)\r\n",
        "\r\n",
        "sns.heatmap(df.corr(),annot=True, cmap=cmap, vmax=.3, center=0,\r\n",
        "            square=True, linewidths=.5, cbar_kws={\"shrink\": .5})\r\n",
        "plt.title(\"Correlation Matrix IPK Tiap Semester\",fontweight=\"bold\")\r\n",
        "plt.show()"
      ],
      "execution_count": null,
      "outputs": [
        {
          "output_type": "display_data",
          "data": {
            "image/png": "[encoded data removed]",
            "text/plain": [
              "<Figure size 792x648 with 2 Axes>"
            ]
          },
          "metadata": {
            "tags": [],
            "needs_background": "light"
          }
        }
      ]
    },
    {
      "cell_type": "markdown",
      "metadata": {
        "id": "WydC1pKmXEDz"
      },
      "source": [
        "**Analisis** :\r\n",
        "\r\n",
        "> Pada heatmap korelasi di atas, dapat disimpulkan dengan kemungkinan bahwa :\r\n",
        "\r\n",
        "1.   Warna yang terang menunjukkan nilai atau skor yang baik pada semua IPK\r\n",
        "2.   Jika mahasiswa memiliki IPK yang baik pada semester 1, maka mereka dapat meningkatkan ipk semester selanjutnya juga.\r\n",
        "\r\n"
      ]
    },
    {
      "cell_type": "markdown",
      "metadata": {
        "id": "B7xJXNT2NYYz"
      },
      "source": [
        "- **IPK tertinggi & Terrendah pada semester 4**"
      ]
    },
    {
      "cell_type": "code",
      "metadata": {
        "colab": {
          "base_uri": "https://localhost:8080/",
          "height": 77
        },
        "id": "0SISoMUMLkl_",
        "outputId": "ce20647a-0b93-4e81-faa1-80527ea2586f"
      },
      "source": [
        "df[df.ip4 == max(df.ip4)]"
      ],
      "execution_count": null,
      "outputs": [
        {
          "output_type": "execute_result",
          "data": {
            "text/html": [
              "<div>\n",
              "<style scoped>\n",
              "    .dataframe tbody tr th:only-of-type {\n",
              "        vertical-align: middle;\n",
              "    }\n",
              "\n",
              "    .dataframe tbody tr th {\n",
              "        vertical-align: top;\n",
              "    }\n",
              "\n",
              "    .dataframe thead th {\n",
              "        text-align: right;\n",
              "    }\n",
              "</style>\n",
              "<table border=\"1\" class=\"dataframe\">\n",
              "  <thead>\n",
              "    <tr style=\"text-align: right;\">\n",
              "      <th></th>\n",
              "      <th>ip1</th>\n",
              "      <th>ip2</th>\n",
              "      <th>ip3</th>\n",
              "      <th>ip4</th>\n",
              "      <th>tepat</th>\n",
              "    </tr>\n",
              "  </thead>\n",
              "  <tbody>\n",
              "    <tr>\n",
              "      <th>1141</th>\n",
              "      <td>3.52</td>\n",
              "      <td>3.76</td>\n",
              "      <td>3.78</td>\n",
              "      <td>3.91</td>\n",
              "      <td>Ya</td>\n",
              "    </tr>\n",
              "  </tbody>\n",
              "</table>\n",
              "</div>"
            ],
            "text/plain": [
              "       ip1   ip2   ip3   ip4 tepat\n",
              "1141  3.52  3.76  3.78  3.91    Ya"
            ]
          },
          "metadata": {
            "tags": []
          },
          "execution_count": 299
        }
      ]
    },
    {
      "cell_type": "code",
      "metadata": {
        "colab": {
          "base_uri": "https://localhost:8080/",
          "height": 77
        },
        "id": "YLvqAyHPN6yh",
        "outputId": "005a3479-fdad-4cc2-be4a-928dc2021408"
      },
      "source": [
        "df[df.ip4 == min(df.ip4)]"
      ],
      "execution_count": null,
      "outputs": [
        {
          "output_type": "execute_result",
          "data": {
            "text/html": [
              "<div>\n",
              "<style scoped>\n",
              "    .dataframe tbody tr th:only-of-type {\n",
              "        vertical-align: middle;\n",
              "    }\n",
              "\n",
              "    .dataframe tbody tr th {\n",
              "        vertical-align: top;\n",
              "    }\n",
              "\n",
              "    .dataframe thead th {\n",
              "        text-align: right;\n",
              "    }\n",
              "</style>\n",
              "<table border=\"1\" class=\"dataframe\">\n",
              "  <thead>\n",
              "    <tr style=\"text-align: right;\">\n",
              "      <th></th>\n",
              "      <th>ip1</th>\n",
              "      <th>ip2</th>\n",
              "      <th>ip3</th>\n",
              "      <th>ip4</th>\n",
              "      <th>tepat</th>\n",
              "    </tr>\n",
              "  </thead>\n",
              "  <tbody>\n",
              "    <tr>\n",
              "      <th>458</th>\n",
              "      <td>3.0</td>\n",
              "      <td>3.14</td>\n",
              "      <td>2.08</td>\n",
              "      <td>0.9</td>\n",
              "      <td>Ya</td>\n",
              "    </tr>\n",
              "  </tbody>\n",
              "</table>\n",
              "</div>"
            ],
            "text/plain": [
              "     ip1   ip2   ip3  ip4 tepat\n",
              "458  3.0  3.14  2.08  0.9    Ya"
            ]
          },
          "metadata": {
            "tags": []
          },
          "execution_count": 300
        }
      ]
    },
    {
      "cell_type": "markdown",
      "metadata": {
        "id": "mbLH1VoENqj0"
      },
      "source": [
        "- **IPK tertinggi & Terrendah  pada semester 3**"
      ]
    },
    {
      "cell_type": "code",
      "metadata": {
        "colab": {
          "base_uri": "https://localhost:8080/",
          "height": 77
        },
        "id": "F1ydlqLnNqkA",
        "outputId": "f9f073ae-8003-434c-a6b2-0dda3a20bbb8"
      },
      "source": [
        "df[df.ip3 == max(df.ip3)]"
      ],
      "execution_count": null,
      "outputs": [
        {
          "output_type": "execute_result",
          "data": {
            "text/html": [
              "<div>\n",
              "<style scoped>\n",
              "    .dataframe tbody tr th:only-of-type {\n",
              "        vertical-align: middle;\n",
              "    }\n",
              "\n",
              "    .dataframe tbody tr th {\n",
              "        vertical-align: top;\n",
              "    }\n",
              "\n",
              "    .dataframe thead th {\n",
              "        text-align: right;\n",
              "    }\n",
              "</style>\n",
              "<table border=\"1\" class=\"dataframe\">\n",
              "  <thead>\n",
              "    <tr style=\"text-align: right;\">\n",
              "      <th></th>\n",
              "      <th>ip1</th>\n",
              "      <th>ip2</th>\n",
              "      <th>ip3</th>\n",
              "      <th>ip4</th>\n",
              "      <th>tepat</th>\n",
              "    </tr>\n",
              "  </thead>\n",
              "  <tbody>\n",
              "    <tr>\n",
              "      <th>1530</th>\n",
              "      <td>3.7</td>\n",
              "      <td>3.85</td>\n",
              "      <td>3.92</td>\n",
              "      <td>3.59</td>\n",
              "      <td>Ya</td>\n",
              "    </tr>\n",
              "  </tbody>\n",
              "</table>\n",
              "</div>"
            ],
            "text/plain": [
              "      ip1   ip2   ip3   ip4 tepat\n",
              "1530  3.7  3.85  3.92  3.59    Ya"
            ]
          },
          "metadata": {
            "tags": []
          },
          "execution_count": 301
        }
      ]
    },
    {
      "cell_type": "code",
      "metadata": {
        "colab": {
          "base_uri": "https://localhost:8080/",
          "height": 77
        },
        "id": "OxzJdDcnOPMh",
        "outputId": "1e970ff8-40f7-4297-ae0c-9d0adbc2ad31"
      },
      "source": [
        "df[df.ip3 == min(df.ip3)]"
      ],
      "execution_count": null,
      "outputs": [
        {
          "output_type": "execute_result",
          "data": {
            "text/html": [
              "<div>\n",
              "<style scoped>\n",
              "    .dataframe tbody tr th:only-of-type {\n",
              "        vertical-align: middle;\n",
              "    }\n",
              "\n",
              "    .dataframe tbody tr th {\n",
              "        vertical-align: top;\n",
              "    }\n",
              "\n",
              "    .dataframe thead th {\n",
              "        text-align: right;\n",
              "    }\n",
              "</style>\n",
              "<table border=\"1\" class=\"dataframe\">\n",
              "  <thead>\n",
              "    <tr style=\"text-align: right;\">\n",
              "      <th></th>\n",
              "      <th>ip1</th>\n",
              "      <th>ip2</th>\n",
              "      <th>ip3</th>\n",
              "      <th>ip4</th>\n",
              "      <th>tepat</th>\n",
              "    </tr>\n",
              "  </thead>\n",
              "  <tbody>\n",
              "    <tr>\n",
              "      <th>210</th>\n",
              "      <td>3.06</td>\n",
              "      <td>2.61</td>\n",
              "      <td>0.55</td>\n",
              "      <td>1.46</td>\n",
              "      <td>Ya</td>\n",
              "    </tr>\n",
              "  </tbody>\n",
              "</table>\n",
              "</div>"
            ],
            "text/plain": [
              "      ip1   ip2   ip3   ip4 tepat\n",
              "210  3.06  2.61  0.55  1.46    Ya"
            ]
          },
          "metadata": {
            "tags": []
          },
          "execution_count": 302
        }
      ]
    },
    {
      "cell_type": "markdown",
      "metadata": {
        "id": "FYtWrpBQOfIZ"
      },
      "source": [
        "- **IPK tertinggi & Terrendah  pada semester 2**"
      ]
    },
    {
      "cell_type": "code",
      "metadata": {
        "colab": {
          "base_uri": "https://localhost:8080/",
          "height": 77
        },
        "id": "4x30yPF8OfIZ",
        "outputId": "2458e731-cf39-4ef3-de93-5fee3859a75b"
      },
      "source": [
        "df[df.ip2 == max(df.ip2)]"
      ],
      "execution_count": null,
      "outputs": [
        {
          "output_type": "execute_result",
          "data": {
            "text/html": [
              "<div>\n",
              "<style scoped>\n",
              "    .dataframe tbody tr th:only-of-type {\n",
              "        vertical-align: middle;\n",
              "    }\n",
              "\n",
              "    .dataframe tbody tr th {\n",
              "        vertical-align: top;\n",
              "    }\n",
              "\n",
              "    .dataframe thead th {\n",
              "        text-align: right;\n",
              "    }\n",
              "</style>\n",
              "<table border=\"1\" class=\"dataframe\">\n",
              "  <thead>\n",
              "    <tr style=\"text-align: right;\">\n",
              "      <th></th>\n",
              "      <th>ip1</th>\n",
              "      <th>ip2</th>\n",
              "      <th>ip3</th>\n",
              "      <th>ip4</th>\n",
              "      <th>tepat</th>\n",
              "    </tr>\n",
              "  </thead>\n",
              "  <tbody>\n",
              "    <tr>\n",
              "      <th>511</th>\n",
              "      <td>3.08</td>\n",
              "      <td>4.0</td>\n",
              "      <td>2.71</td>\n",
              "      <td>3.27</td>\n",
              "      <td>Ya</td>\n",
              "    </tr>\n",
              "  </tbody>\n",
              "</table>\n",
              "</div>"
            ],
            "text/plain": [
              "      ip1  ip2   ip3   ip4 tepat\n",
              "511  3.08  4.0  2.71  3.27    Ya"
            ]
          },
          "metadata": {
            "tags": []
          },
          "execution_count": 303
        }
      ]
    },
    {
      "cell_type": "code",
      "metadata": {
        "colab": {
          "base_uri": "https://localhost:8080/",
          "height": 77
        },
        "id": "1qKxHjMEOfIa",
        "outputId": "4b6ff736-ce41-46ec-bdad-3e70e362a061"
      },
      "source": [
        "df[df.ip2 == min(df.ip2)]"
      ],
      "execution_count": null,
      "outputs": [
        {
          "output_type": "execute_result",
          "data": {
            "text/html": [
              "<div>\n",
              "<style scoped>\n",
              "    .dataframe tbody tr th:only-of-type {\n",
              "        vertical-align: middle;\n",
              "    }\n",
              "\n",
              "    .dataframe tbody tr th {\n",
              "        vertical-align: top;\n",
              "    }\n",
              "\n",
              "    .dataframe thead th {\n",
              "        text-align: right;\n",
              "    }\n",
              "</style>\n",
              "<table border=\"1\" class=\"dataframe\">\n",
              "  <thead>\n",
              "    <tr style=\"text-align: right;\">\n",
              "      <th></th>\n",
              "      <th>ip1</th>\n",
              "      <th>ip2</th>\n",
              "      <th>ip3</th>\n",
              "      <th>ip4</th>\n",
              "      <th>tepat</th>\n",
              "    </tr>\n",
              "  </thead>\n",
              "  <tbody>\n",
              "    <tr>\n",
              "      <th>201</th>\n",
              "      <td>2.75</td>\n",
              "      <td>0.23</td>\n",
              "      <td>1.25</td>\n",
              "      <td>1.56</td>\n",
              "      <td>Ya</td>\n",
              "    </tr>\n",
              "  </tbody>\n",
              "</table>\n",
              "</div>"
            ],
            "text/plain": [
              "      ip1   ip2   ip3   ip4 tepat\n",
              "201  2.75  0.23  1.25  1.56    Ya"
            ]
          },
          "metadata": {
            "tags": []
          },
          "execution_count": 304
        }
      ]
    },
    {
      "cell_type": "markdown",
      "metadata": {
        "id": "xBLuPgj9O4Jd"
      },
      "source": [
        "- **IPK tertinggi & Terrendah  pada semester 1**"
      ]
    },
    {
      "cell_type": "code",
      "metadata": {
        "colab": {
          "base_uri": "https://localhost:8080/",
          "height": 77
        },
        "id": "38W83f0QO4Jk",
        "outputId": "12313f95-b955-43db-bcf8-47086ae2e32f"
      },
      "source": [
        "df[df.ip1 == max(df.ip1)]"
      ],
      "execution_count": null,
      "outputs": [
        {
          "output_type": "execute_result",
          "data": {
            "text/html": [
              "<div>\n",
              "<style scoped>\n",
              "    .dataframe tbody tr th:only-of-type {\n",
              "        vertical-align: middle;\n",
              "    }\n",
              "\n",
              "    .dataframe tbody tr th {\n",
              "        vertical-align: top;\n",
              "    }\n",
              "\n",
              "    .dataframe thead th {\n",
              "        text-align: right;\n",
              "    }\n",
              "</style>\n",
              "<table border=\"1\" class=\"dataframe\">\n",
              "  <thead>\n",
              "    <tr style=\"text-align: right;\">\n",
              "      <th></th>\n",
              "      <th>ip1</th>\n",
              "      <th>ip2</th>\n",
              "      <th>ip3</th>\n",
              "      <th>ip4</th>\n",
              "      <th>tepat</th>\n",
              "    </tr>\n",
              "  </thead>\n",
              "  <tbody>\n",
              "    <tr>\n",
              "      <th>673</th>\n",
              "      <td>3.86</td>\n",
              "      <td>3.64</td>\n",
              "      <td>3.49</td>\n",
              "      <td>3.45</td>\n",
              "      <td>Tidak</td>\n",
              "    </tr>\n",
              "  </tbody>\n",
              "</table>\n",
              "</div>"
            ],
            "text/plain": [
              "      ip1   ip2   ip3   ip4  tepat\n",
              "673  3.86  3.64  3.49  3.45  Tidak"
            ]
          },
          "metadata": {
            "tags": []
          },
          "execution_count": 305
        }
      ]
    },
    {
      "cell_type": "code",
      "metadata": {
        "colab": {
          "base_uri": "https://localhost:8080/",
          "height": 77
        },
        "id": "L4Ou8BkDO4Jm",
        "outputId": "e11819e7-8a76-446c-8580-747ead69359b"
      },
      "source": [
        "df[df.ip1 == min(df.ip1)]"
      ],
      "execution_count": null,
      "outputs": [
        {
          "output_type": "execute_result",
          "data": {
            "text/html": [
              "<div>\n",
              "<style scoped>\n",
              "    .dataframe tbody tr th:only-of-type {\n",
              "        vertical-align: middle;\n",
              "    }\n",
              "\n",
              "    .dataframe tbody tr th {\n",
              "        vertical-align: top;\n",
              "    }\n",
              "\n",
              "    .dataframe thead th {\n",
              "        text-align: right;\n",
              "    }\n",
              "</style>\n",
              "<table border=\"1\" class=\"dataframe\">\n",
              "  <thead>\n",
              "    <tr style=\"text-align: right;\">\n",
              "      <th></th>\n",
              "      <th>ip1</th>\n",
              "      <th>ip2</th>\n",
              "      <th>ip3</th>\n",
              "      <th>ip4</th>\n",
              "      <th>tepat</th>\n",
              "    </tr>\n",
              "  </thead>\n",
              "  <tbody>\n",
              "    <tr>\n",
              "      <th>450</th>\n",
              "      <td>0.83</td>\n",
              "      <td>3.75</td>\n",
              "      <td>3.18</td>\n",
              "      <td>3.38</td>\n",
              "      <td>Ya</td>\n",
              "    </tr>\n",
              "  </tbody>\n",
              "</table>\n",
              "</div>"
            ],
            "text/plain": [
              "      ip1   ip2   ip3   ip4 tepat\n",
              "450  0.83  3.75  3.18  3.38    Ya"
            ]
          },
          "metadata": {
            "tags": []
          },
          "execution_count": 306
        }
      ]
    },
    {
      "cell_type": "markdown",
      "metadata": {
        "id": "m8nZef2XK8fr"
      },
      "source": [
        "> **Membuat K-Means Clustering**"
      ]
    },
    {
      "cell_type": "markdown",
      "metadata": {
        "id": "fOmKN4x_B--U"
      },
      "source": [
        "- **Visualisasi Data**\r\n",
        "\r\n",
        "Visualisasikan data yang ada dengan plot poin-poin dan periksa apakah kita dapat melihat kelompok manapun, sehingga didapatkan hasil visualisasi data seperti gambar berikut."
      ]
    },
    {
      "cell_type": "code",
      "metadata": {
        "colab": {
          "base_uri": "https://localhost:8080/",
          "height": 295
        },
        "id": "y-_kxuyF3Rdt",
        "outputId": "e7485295-c823-4472-b15b-9e02293d52e5"
      },
      "source": [
        "sns.scatterplot(x=\"ip3\", y=\"ip4\", data=df, s=100, color=\"red\" , alpha = 0.5)"
      ],
      "execution_count": null,
      "outputs": [
        {
          "output_type": "execute_result",
          "data": {
            "text/plain": [
              "<matplotlib.axes._subplots.AxesSubplot at 0x7fb5f3d11390>"
            ]
          },
          "metadata": {
            "tags": []
          },
          "execution_count": 307
        },
        {
          "output_type": "display_data",
          "data": {
            "image/png": "[encoded data removed]",
            "text/plain": [
              "<Figure size 432x288 with 1 Axes>"
            ]
          },
          "metadata": {
            "tags": [],
            "needs_background": "light"
          }
        }
      ]
    },
    {
      "cell_type": "markdown",
      "metadata": {
        "id": "EV6TC6nKCXI4"
      },
      "source": [
        "- **Buat Clusters**\r\n",
        "\r\n",
        "Menentukan variabel yang akan dikelompokkan. Disini variabel yang akan dikelompokkan adalah variabel ip1,ip2,ip3 dan ip4."
      ]
    },
    {
      "cell_type": "code",
      "metadata": {
        "colab": {
          "base_uri": "https://localhost:8080/",
          "height": 197
        },
        "id": "1Wh7PT-U29-o",
        "outputId": "279c1a78-c122-4655-9620-842b8ce21971"
      },
      "source": [
        "df_x = df.iloc[:, 0:4]\r\n",
        "df_x.head()"
      ],
      "execution_count": null,
      "outputs": [
        {
          "output_type": "execute_result",
          "data": {
            "text/html": [
              "<div>\n",
              "<style scoped>\n",
              "    .dataframe tbody tr th:only-of-type {\n",
              "        vertical-align: middle;\n",
              "    }\n",
              "\n",
              "    .dataframe tbody tr th {\n",
              "        vertical-align: top;\n",
              "    }\n",
              "\n",
              "    .dataframe thead th {\n",
              "        text-align: right;\n",
              "    }\n",
              "</style>\n",
              "<table border=\"1\" class=\"dataframe\">\n",
              "  <thead>\n",
              "    <tr style=\"text-align: right;\">\n",
              "      <th></th>\n",
              "      <th>ip1</th>\n",
              "      <th>ip2</th>\n",
              "      <th>ip3</th>\n",
              "      <th>ip4</th>\n",
              "    </tr>\n",
              "  </thead>\n",
              "  <tbody>\n",
              "    <tr>\n",
              "      <th>0</th>\n",
              "      <td>2.30</td>\n",
              "      <td>1.97</td>\n",
              "      <td>1.80</td>\n",
              "      <td>1.56</td>\n",
              "    </tr>\n",
              "    <tr>\n",
              "      <th>1</th>\n",
              "      <td>1.81</td>\n",
              "      <td>1.68</td>\n",
              "      <td>1.57</td>\n",
              "      <td>1.86</td>\n",
              "    </tr>\n",
              "    <tr>\n",
              "      <th>2</th>\n",
              "      <td>3.07</td>\n",
              "      <td>3.00</td>\n",
              "      <td>2.75</td>\n",
              "      <td>3.21</td>\n",
              "    </tr>\n",
              "    <tr>\n",
              "      <th>3</th>\n",
              "      <td>2.71</td>\n",
              "      <td>2.33</td>\n",
              "      <td>2.61</td>\n",
              "      <td>1.98</td>\n",
              "    </tr>\n",
              "    <tr>\n",
              "      <th>4</th>\n",
              "      <td>3.17</td>\n",
              "      <td>3.02</td>\n",
              "      <td>3.28</td>\n",
              "      <td>2.96</td>\n",
              "    </tr>\n",
              "  </tbody>\n",
              "</table>\n",
              "</div>"
            ],
            "text/plain": [
              "    ip1   ip2   ip3   ip4\n",
              "0  2.30  1.97  1.80  1.56\n",
              "1  1.81  1.68  1.57  1.86\n",
              "2  3.07  3.00  2.75  3.21\n",
              "3  2.71  2.33  2.61  1.98\n",
              "4  3.17  3.02  3.28  2.96"
            ]
          },
          "metadata": {
            "tags": []
          },
          "execution_count": 308
        }
      ]
    },
    {
      "cell_type": "markdown",
      "metadata": {
        "id": "eFNf1ANBD7wv"
      },
      "source": [
        "Mengubah variabel data frame menjadi array sebelum menentukan nilai K."
      ]
    },
    {
      "cell_type": "code",
      "metadata": {
        "colab": {
          "base_uri": "https://localhost:8080/"
        },
        "id": "CAMrEjTe4Kcm",
        "outputId": "63712e42-cdaa-4432-89be-fed34abfeed4"
      },
      "source": [
        "x_array = np.array(df_x)\r\n",
        "print(x_array)"
      ],
      "execution_count": null,
      "outputs": [
        {
          "output_type": "stream",
          "text": [
            "[[2.3  1.97 1.8  1.56]\n",
            " [1.81 1.68 1.57 1.86]\n",
            " [3.07 3.   2.75 3.21]\n",
            " ...\n",
            " [3.31 3.25 3.44 3.52]\n",
            " [3.44 3.35 3.5  3.5 ]\n",
            " [3.18 3.05 3.05 3.27]]\n"
          ],
          "name": "stdout"
        }
      ]
    },
    {
      "cell_type": "markdown",
      "metadata": {
        "id": "EzsVCWMnD_XN"
      },
      "source": [
        "Menstandarkan kembali ukuran variabel array."
      ]
    },
    {
      "cell_type": "code",
      "metadata": {
        "colab": {
          "base_uri": "https://localhost:8080/"
        },
        "id": "HuKHFkKu4ltH",
        "outputId": "6d3a3659-521a-4819-c2a3-62aaad20fe83"
      },
      "source": [
        "scaler = MinMaxScaler()\r\n",
        "x_scaled = scaler.fit_transform(x_array)\r\n",
        "x_scaled"
      ],
      "execution_count": null,
      "outputs": [
        {
          "output_type": "execute_result",
          "data": {
            "text/plain": [
              "array([[0.48514851, 0.46153846, 0.37091988, 0.2192691 ],\n",
              "       [0.32343234, 0.38461538, 0.30267062, 0.31893688],\n",
              "       [0.73927393, 0.73474801, 0.65281899, 0.76744186],\n",
              "       ...,\n",
              "       [0.81848185, 0.80106101, 0.85756677, 0.87043189],\n",
              "       [0.86138614, 0.82758621, 0.87537092, 0.86378738],\n",
              "       [0.77557756, 0.74801061, 0.74183976, 0.78737542]])"
            ]
          },
          "metadata": {
            "tags": []
          },
          "execution_count": 310
        }
      ]
    },
    {
      "cell_type": "markdown",
      "metadata": {
        "id": "R8KH5GzHEEGH"
      },
      "source": [
        "Menentukan dan konfigurasi fungsi k-means. syntax berikut merupakan syntax untuk mengelompokkan data menjadi 4 cluster.\r\n",
        "menentukan nilai K (cluster) dari data."
      ]
    },
    {
      "cell_type": "code",
      "metadata": {
        "colab": {
          "base_uri": "https://localhost:8080/"
        },
        "id": "hg8VfdC34tL2",
        "outputId": "998a95f3-392e-4586-a2f9-df5f7fb5c20d"
      },
      "source": [
        "# Menentukan dan mengkonfigurasi fungsi kmeans\r\n",
        "kmeans = KMeans(n_clusters = 4, random_state=123)\r\n",
        "# Menentukan kluster dari data\r\n",
        "kmeans.fit(x_scaled)"
      ],
      "execution_count": null,
      "outputs": [
        {
          "output_type": "execute_result",
          "data": {
            "text/plain": [
              "KMeans(algorithm='auto', copy_x=True, init='k-means++', max_iter=300,\n",
              "       n_clusters=4, n_init=10, n_jobs=None, precompute_distances='auto',\n",
              "       random_state=123, tol=0.0001, verbose=0)"
            ]
          },
          "metadata": {
            "tags": []
          },
          "execution_count": 311
        }
      ]
    },
    {
      "cell_type": "markdown",
      "metadata": {
        "id": "l22MoJ3SEI-O"
      },
      "source": [
        "Menampilkan pusat cluster. Untuk melihat pusat cluster."
      ]
    },
    {
      "cell_type": "code",
      "metadata": {
        "colab": {
          "base_uri": "https://localhost:8080/"
        },
        "id": "W42X4nxg42TC",
        "outputId": "1ec53244-e9bc-4003-8d34-2e2bd91306f6"
      },
      "source": [
        "print(kmeans.cluster_centers_)"
      ],
      "execution_count": null,
      "outputs": [
        {
          "output_type": "stream",
          "text": [
            "[[0.73561017 0.76739532 0.76912445 0.77881763]\n",
            " [0.52867404 0.45139647 0.75224297 0.76638655]\n",
            " [0.84845373 0.84630121 0.85899183 0.86092449]\n",
            " [0.65665567 0.63563218 0.6251731  0.42840532]]\n"
          ],
          "name": "stdout"
        }
      ]
    },
    {
      "cell_type": "markdown",
      "metadata": {
        "id": "tmH_vv_aEM6B"
      },
      "source": [
        "Menambahkan kolom cluster dalam data frame df."
      ]
    },
    {
      "cell_type": "code",
      "metadata": {
        "colab": {
          "base_uri": "https://localhost:8080/",
          "height": 214
        },
        "id": "Y8NpcKHk5Lu8",
        "outputId": "a749a502-cbe8-488c-97c3-945ef6cdc70b"
      },
      "source": [
        "# Menampilkan hasil kluster\r\n",
        "print(kmeans.labels_)\r\n",
        "# Menambahkan kolom \"kluster\" dalam data frame ritel\r\n",
        "df[\"kluster\"] = kmeans.labels_\r\n",
        "df.head()"
      ],
      "execution_count": null,
      "outputs": [
        {
          "output_type": "stream",
          "text": [
            "[3 3 0 ... 2 2 0]\n"
          ],
          "name": "stdout"
        },
        {
          "output_type": "execute_result",
          "data": {
            "text/html": [
              "<div>\n",
              "<style scoped>\n",
              "    .dataframe tbody tr th:only-of-type {\n",
              "        vertical-align: middle;\n",
              "    }\n",
              "\n",
              "    .dataframe tbody tr th {\n",
              "        vertical-align: top;\n",
              "    }\n",
              "\n",
              "    .dataframe thead th {\n",
              "        text-align: right;\n",
              "    }\n",
              "</style>\n",
              "<table border=\"1\" class=\"dataframe\">\n",
              "  <thead>\n",
              "    <tr style=\"text-align: right;\">\n",
              "      <th></th>\n",
              "      <th>ip1</th>\n",
              "      <th>ip2</th>\n",
              "      <th>ip3</th>\n",
              "      <th>ip4</th>\n",
              "      <th>tepat</th>\n",
              "      <th>kluster</th>\n",
              "    </tr>\n",
              "  </thead>\n",
              "  <tbody>\n",
              "    <tr>\n",
              "      <th>0</th>\n",
              "      <td>2.30</td>\n",
              "      <td>1.97</td>\n",
              "      <td>1.80</td>\n",
              "      <td>1.56</td>\n",
              "      <td>Tidak</td>\n",
              "      <td>3</td>\n",
              "    </tr>\n",
              "    <tr>\n",
              "      <th>1</th>\n",
              "      <td>1.81</td>\n",
              "      <td>1.68</td>\n",
              "      <td>1.57</td>\n",
              "      <td>1.86</td>\n",
              "      <td>Tidak</td>\n",
              "      <td>3</td>\n",
              "    </tr>\n",
              "    <tr>\n",
              "      <th>2</th>\n",
              "      <td>3.07</td>\n",
              "      <td>3.00</td>\n",
              "      <td>2.75</td>\n",
              "      <td>3.21</td>\n",
              "      <td>Tidak</td>\n",
              "      <td>0</td>\n",
              "    </tr>\n",
              "    <tr>\n",
              "      <th>3</th>\n",
              "      <td>2.71</td>\n",
              "      <td>2.33</td>\n",
              "      <td>2.61</td>\n",
              "      <td>1.98</td>\n",
              "      <td>Tidak</td>\n",
              "      <td>3</td>\n",
              "    </tr>\n",
              "    <tr>\n",
              "      <th>4</th>\n",
              "      <td>3.17</td>\n",
              "      <td>3.02</td>\n",
              "      <td>3.28</td>\n",
              "      <td>2.96</td>\n",
              "      <td>Tidak</td>\n",
              "      <td>0</td>\n",
              "    </tr>\n",
              "  </tbody>\n",
              "</table>\n",
              "</div>"
            ],
            "text/plain": [
              "    ip1   ip2   ip3   ip4  tepat  kluster\n",
              "0  2.30  1.97  1.80  1.56  Tidak        3\n",
              "1  1.81  1.68  1.57  1.86  Tidak        3\n",
              "2  3.07  3.00  2.75  3.21  Tidak        0\n",
              "3  2.71  2.33  2.61  1.98  Tidak        3\n",
              "4  3.17  3.02  3.28  2.96  Tidak        0"
            ]
          },
          "metadata": {
            "tags": []
          },
          "execution_count": 313
        }
      ]
    },
    {
      "cell_type": "code",
      "metadata": {
        "colab": {
          "base_uri": "https://localhost:8080/",
          "height": 294
        },
        "id": "r3ki2wXf5W0D",
        "outputId": "c6491e66-a7ce-4a71-e47b-d7561839c51e"
      },
      "source": [
        "fig, ax = plt.subplots()\r\n",
        "sct = ax.scatter(x_scaled[:,1], x_scaled[:,0], s = 100,\r\n",
        "c = df.kluster, marker = \"o\", alpha = 0.5)\r\n",
        "centers = kmeans.cluster_centers_\r\n",
        "ax.scatter(centers[:,1], centers[:,0], c='blue', s=200, alpha=0.5);plt.title(\"Hasil Klustering K-Means\")\r\n",
        "plt.xlabel(\"Scaled Longitude\")\r\n",
        "plt.ylabel(\"Scaled Latitude\")\r\n",
        "plt.show()"
      ],
      "execution_count": null,
      "outputs": [
        {
          "output_type": "display_data",
          "data": {
            "image/png": "[encoded data removed]",
            "text/plain": [
              "<Figure size 432x288 with 1 Axes>"
            ]
          },
          "metadata": {
            "tags": [],
            "needs_background": "light"
          }
        }
      ]
    },
    {
      "cell_type": "markdown",
      "metadata": {
        "id": "0inWytUfzPjP"
      },
      "source": [
        "Data kelulusan tepat waktu telah berhasil kita klasterkan menjadi 4 klaster!"
      ]
    },
    {
      "cell_type": "markdown",
      "metadata": {
        "id": "ip1rr767Yl4e"
      },
      "source": [
        "# **Evaluasi Data**\r\n",
        "\r\n",
        "---\r\n",
        "\r\n"
      ]
    },
    {
      "cell_type": "markdown",
      "metadata": {
        "id": "eFXIB-t3Y0jD"
      },
      "source": [
        "Untuk evaluasi, /kita akan menggunakan **analisis regresi** untuk memprediksi IPK3 menggunakan variabel IPK"
      ]
    },
    {
      "cell_type": "code",
      "metadata": {
        "id": "AQbNH8WFYzau"
      },
      "source": [
        "import numpy as np \r\n",
        "import pandas as pd "
      ],
      "execution_count": null,
      "outputs": []
    },
    {
      "cell_type": "code",
      "metadata": {
        "colab": {
          "base_uri": "https://localhost:8080/",
          "height": 197
        },
        "id": "5v-4JIFFYzYU",
        "outputId": "34bdc8f4-04cf-40f4-8bfc-7d802402ef8d"
      },
      "source": [
        "url = 'https://raw.githubusercontent.com/Mifta-ux/Tugas-Pengantar-Data-Saintis/main/data_lulus_tepat_waktu.csv'\r\n",
        "df = pd.read_csv(\"https://raw.githubusercontent.com/Mifta-ux/Tugas-Pengantar-Data-Saintis/main/data_lulus_tepat_waktu.csv\") \r\n",
        "df.head()"
      ],
      "execution_count": null,
      "outputs": [
        {
          "output_type": "execute_result",
          "data": {
            "text/html": [
              "<div>\n",
              "<style scoped>\n",
              "    .dataframe tbody tr th:only-of-type {\n",
              "        vertical-align: middle;\n",
              "    }\n",
              "\n",
              "    .dataframe tbody tr th {\n",
              "        vertical-align: top;\n",
              "    }\n",
              "\n",
              "    .dataframe thead th {\n",
              "        text-align: right;\n",
              "    }\n",
              "</style>\n",
              "<table border=\"1\" class=\"dataframe\">\n",
              "  <thead>\n",
              "    <tr style=\"text-align: right;\">\n",
              "      <th></th>\n",
              "      <th>ip1</th>\n",
              "      <th>ip2</th>\n",
              "      <th>ip3</th>\n",
              "      <th>ip4</th>\n",
              "      <th>tepat</th>\n",
              "    </tr>\n",
              "  </thead>\n",
              "  <tbody>\n",
              "    <tr>\n",
              "      <th>0</th>\n",
              "      <td>2.30</td>\n",
              "      <td>1.97</td>\n",
              "      <td>1.80</td>\n",
              "      <td>1.56</td>\n",
              "      <td>Tidak</td>\n",
              "    </tr>\n",
              "    <tr>\n",
              "      <th>1</th>\n",
              "      <td>1.81</td>\n",
              "      <td>1.68</td>\n",
              "      <td>1.57</td>\n",
              "      <td>1.86</td>\n",
              "      <td>Tidak</td>\n",
              "    </tr>\n",
              "    <tr>\n",
              "      <th>2</th>\n",
              "      <td>3.07</td>\n",
              "      <td>3.00</td>\n",
              "      <td>2.75</td>\n",
              "      <td>3.21</td>\n",
              "      <td>Tidak</td>\n",
              "    </tr>\n",
              "    <tr>\n",
              "      <th>3</th>\n",
              "      <td>2.71</td>\n",
              "      <td>2.33</td>\n",
              "      <td>2.61</td>\n",
              "      <td>1.98</td>\n",
              "      <td>Tidak</td>\n",
              "    </tr>\n",
              "    <tr>\n",
              "      <th>4</th>\n",
              "      <td>3.17</td>\n",
              "      <td>3.02</td>\n",
              "      <td>3.28</td>\n",
              "      <td>2.96</td>\n",
              "      <td>Tidak</td>\n",
              "    </tr>\n",
              "  </tbody>\n",
              "</table>\n",
              "</div>"
            ],
            "text/plain": [
              "    ip1   ip2   ip3   ip4  tepat\n",
              "0  2.30  1.97  1.80  1.56  Tidak\n",
              "1  1.81  1.68  1.57  1.86  Tidak\n",
              "2  3.07  3.00  2.75  3.21  Tidak\n",
              "3  2.71  2.33  2.61  1.98  Tidak\n",
              "4  3.17  3.02  3.28  2.96  Tidak"
            ]
          },
          "metadata": {
            "tags": []
          },
          "execution_count": 316
        }
      ]
    },
    {
      "cell_type": "markdown",
      "metadata": {
        "id": "0XluSdzxZjJG"
      },
      "source": [
        "Pada data permodelan korelasi IPK semester 3 dan IPK semester 4 memiliki nilai korelasi yang kuat yaitu lebih dari 0,9 dengan menggunakan perhitungan pearson. Korelasi antara reading score dan writing score juga linear."
      ]
    },
    {
      "cell_type": "markdown",
      "metadata": {
        "id": "P7NDhaYcZmgv"
      },
      "source": [
        "Pada uji regresi kali ini ditetapkan hipotesis null nya adalah korelasi kuat lebih dari 0,9 yang terjadi dengan kebetulan.\r\n",
        "\r\n",
        "> Jika p value pada hipotesis null berubah menjadi lebih kecil maka hipotesis ditolak.\r\n",
        "\r\n",
        "> Langkah selanjutnya bertujuan untuk mengetahui apakah hipotesis ditolak atau diterima dengan mengetahui hasil signifikasnsinya.\r\n",
        "\r\n",
        "\r\n",
        "\r\n"
      ]
    },
    {
      "cell_type": "code",
      "metadata": {
        "id": "C_y5TcTYZil7"
      },
      "source": [
        "class HypothesisTest(object):\r\n",
        "    \r\n",
        "    def __init__(self, data):\r\n",
        "        self.data = data\r\n",
        "        self.MakeModel()\r\n",
        "        self.actual = self.TestStatistic(data)\r\n",
        "        \r\n",
        "    def PValue(self, iters = 1000):\r\n",
        "        self.test_stats = [self.TestStatistic(self.RunModel()) for _ in range(iters)]\r\n",
        "        count = sum(1 for x in self.test_stats if x >= self.actual)\r\n",
        "        return count / iters\r\n",
        "    \r\n",
        "    def TestStatistic(self, data):\r\n",
        "        raise UnimplementedMethodException()\r\n",
        "        \r\n",
        "    def MakeModel(self):\r\n",
        "        pass\r\n",
        "    \r\n",
        "    def RunModel(self):\r\n",
        "        raise UnimplementedMethodException()"
      ],
      "execution_count": null,
      "outputs": []
    },
    {
      "cell_type": "code",
      "metadata": {
        "id": "m8sTlHX-Z_5b"
      },
      "source": [
        "class CorrPermute(HypothesisTest):\r\n",
        "    \r\n",
        "    def TestStatistic(self, data):\r\n",
        "        xs, ys = data\r\n",
        "        test_stat = abs(correlation(xs, ys))\r\n",
        "        return test_stat\r\n",
        "    \r\n",
        "    def RunModel(self):\r\n",
        "        xs, ys = self.data\r\n",
        "        xs = np.random.permutation(xs)\r\n",
        "        return xs, ys\r\n",
        "    \r\n",
        "def correlation(x, y):\r\n",
        "    std_x = np.std(x)\r\n",
        "    std_y = np.std(y)\r\n",
        "    if std_x and std_y > 0:\r\n",
        "        return covariance(x, y) / std_x / std_y\r\n",
        "    else:\r\n",
        "        return 0\r\n",
        "    \r\n",
        "def de_mean(x):\r\n",
        "    x_bar = np.mean(x)\r\n",
        "    return [x_i - x_bar for x_i in x]\r\n",
        "\r\n",
        "def covariance(x, y):\r\n",
        "    n = len(x)\r\n",
        "    return np.dot(de_mean(x), de_mean(y)) / (n - 1)"
      ],
      "execution_count": null,
      "outputs": []
    },
    {
      "cell_type": "code",
      "metadata": {
        "id": "kAjai6giaBSn"
      },
      "source": [
        "rs = df['ip3']\r\n",
        "ws = df['ip4']\r\n",
        "\r\n",
        "ct = CorrPermute((rs, ws))\r\n",
        "pvalue = ct.PValue()"
      ],
      "execution_count": null,
      "outputs": []
    },
    {
      "cell_type": "code",
      "metadata": {
        "colab": {
          "base_uri": "https://localhost:8080/"
        },
        "id": "Y-O50VPRaJaS",
        "outputId": "cd27e41f-21cf-4fc8-c26d-1180767e3a7d"
      },
      "source": [
        "print('The P-Value is: ', pvalue)"
      ],
      "execution_count": null,
      "outputs": [
        {
          "output_type": "stream",
          "text": [
            "The P-Value is:  0.0\n"
          ],
          "name": "stdout"
        }
      ]
    },
    {
      "cell_type": "markdown",
      "metadata": {
        "id": "XlfuLaX5aZTc"
      },
      "source": [
        "**Analisis** :\r\n",
        "\r\n",
        "*   Nilai P-Value pada hipotesis null di atas adalah 0.\r\n",
        "*   Hipotesis null adalah salah, dan korelasi kuat yaitu 0,9 antara skor reading dan writing tidak terjadi secara kebetulan. Dapat disimpulkan bahwa korelasi yang terjadi adalah signifikan secara statistik.\r\n",
        "\r\n"
      ]
    },
    {
      "cell_type": "markdown",
      "metadata": {
        "id": "CVdIsTclajfD"
      },
      "source": [
        "**Memprediksi IPK semester 3 dengan atau tanpa IPK semseter 4**"
      ]
    },
    {
      "cell_type": "markdown",
      "metadata": {
        "id": "UWNesgj5axQu"
      },
      "source": [
        "Penggunaan Linear least square :\r\n",
        "\r\n",
        "*    Linear least score digunakan untuk mengetahui korelasi dalam mengukur kekuatan dan tanda suatu hubungan antar variabel.\r\n",
        "*   Linear least square digunakan untuk meminimalkan MSE (mean squared error)."
      ]
    },
    {
      "cell_type": "markdown",
      "metadata": {
        "id": "ogNyMEuFa4DK"
      },
      "source": [
        "Kali ini, untuk mendapatkan garis kemiringan dan intersep menggunakan linear least square untuk memprediksi skor reading."
      ]
    },
    {
      "cell_type": "code",
      "metadata": {
        "id": "uR-ke8aka09i"
      },
      "source": [
        "def LeastSquares(xs, ys):\r\n",
        "    meanx, varx = np.mean(xs), np.var(xs)\r\n",
        "    meany = np.mean(ys)\r\n",
        "    \r\n",
        "    slope = covariance(xs, ys) / varx\r\n",
        "    inter = meany - slope * meanx\r\n",
        "    \r\n",
        "    return inter, slope\r\n",
        "\r\n",
        "def FitLine(xs, inter, slope):\r\n",
        "    fit_xs = np.sort(xs)\r\n",
        "    fit_ys = inter + slope * fit_xs\r\n",
        "    \r\n",
        "    return fit_xs, fit_ys"
      ],
      "execution_count": null,
      "outputs": []
    },
    {
      "cell_type": "code",
      "metadata": {
        "colab": {
          "base_uri": "https://localhost:8080/"
        },
        "id": "O1X8dLqga-I7",
        "outputId": "c60432b4-264a-4b80-b1b8-e55c5ab1e72e"
      },
      "source": [
        "inter, slope = LeastSquares(ws, rs)\r\n",
        "fit_xs, fit_ys = FitLine(ws, inter, slope)\r\n",
        "\r\n",
        "print('intercept is: {} and slope is: {}'.format(inter, slope))"
      ],
      "execution_count": null,
      "outputs": [
        {
          "output_type": "stream",
          "text": [
            "intercept is: 1.7078942710872669 and slope is: 0.4692931259077411\n"
          ],
          "name": "stdout"
        }
      ]
    },
    {
      "cell_type": "markdown",
      "metadata": {
        "id": "OS8eTpp6bEQQ"
      },
      "source": [
        "Pada linear least skor di atas, didapatkan hasil intersepnya adalah lebih dari 1,70 dan slope-nya adalah lebih dari 0,4"
      ]
    },
    {
      "cell_type": "markdown",
      "metadata": {
        "id": "fMNJACYUbQCH"
      },
      "source": [
        "**Residual** :"
      ]
    },
    {
      "cell_type": "code",
      "metadata": {
        "id": "h1iEOSaybRFb"
      },
      "source": [
        "def Residuals(xs, ys, inter, slope):\r\n",
        "    xs = np.asarray(xs)\r\n",
        "    ys = np.asarray(ys)\r\n",
        "    res = ys - (inter + slope * xs)\r\n",
        "    return res"
      ],
      "execution_count": null,
      "outputs": []
    },
    {
      "cell_type": "code",
      "metadata": {
        "id": "ubN_PhUZbTf0"
      },
      "source": [
        "res = Residuals(ws, rs, inter, slope)\r\n",
        "\r\n",
        "df['residuals'] = res"
      ],
      "execution_count": null,
      "outputs": []
    },
    {
      "cell_type": "markdown",
      "metadata": {
        "id": "Onm-H1FWbXLi"
      },
      "source": [
        "**Memprediksi IPK semester 3 dengan atau tanpa IPK semseter 4 :**"
      ]
    },
    {
      "cell_type": "code",
      "metadata": {
        "colab": {
          "base_uri": "https://localhost:8080/"
        },
        "id": "J50qAzOGbWpS",
        "outputId": "bf27f31e-f705-41e7-cebf-cf41f5fa3665"
      },
      "source": [
        "print('RMSE if we predict the reading scores using the writing scores: ', np.std(res))\r\n",
        "print('RMSE if we predict the reading scores without using the writing scores: ', np.std(rs))"
      ],
      "execution_count": null,
      "outputs": [
        {
          "output_type": "stream",
          "text": [
            "RMSE if we predict the reading scores using the writing scores:  0.2832421405711723\n",
            "RMSE if we predict the reading scores without using the writing scores:  0.33940584069287644\n"
          ],
          "name": "stdout"
        }
      ]
    },
    {
      "cell_type": "markdown",
      "metadata": {
        "id": "JnJyYjW9bpwS"
      },
      "source": [
        "Dari data di atas, dapat diinterpretasikan sebagai berikut :\r\n",
        "\r\n",
        "*   Nilai RMSE (Root Mean Square Error) lebih dari 4 jika menggunakan IPK semseter 4 untuk memprediksi nilai dari IPK Semester 3.\r\n",
        "*   Nilai RMSE (Root Mean Square Error) lebih dari 14 jika tidak menggunakan IPK semseter 4 untuk memprediksi nilai dari IPK Semester 3.\r\n",
        "\r\n",
        "> Sehingga dari RMSE di atas, dapat disimpulkan bahwa lebih baik menggunakan IPK semseter 4 untuk memprediksi nilai dari IPK Semester 3."
      ]
    },
    {
      "cell_type": "markdown",
      "metadata": {
        "id": "lnjHpUJwdI5j"
      },
      "source": [
        "**Koefisien Determinasi**:\r\n",
        "\r\n",
        "> Koefisien determinasi merupakan metric yang digunakan untuk mendeterminasikan seberapa baik model kita\r\n",
        "\r\n",
        "\r\n"
      ]
    },
    {
      "cell_type": "code",
      "metadata": {
        "colab": {
          "base_uri": "https://localhost:8080/"
        },
        "id": "ac9dc_pidKW7",
        "outputId": "b6002638-c9a7-482b-bec1-048670761a94"
      },
      "source": [
        "r_squared = 1 - (np.var(res) / np.var(rs))\r\n",
        "\r\n",
        "print('The Coefficient of Determination or r^2 is: ', r_squared)"
      ],
      "execution_count": null,
      "outputs": [
        {
          "output_type": "stream",
          "text": [
            "The Coefficient of Determination or r^2 is:  0.3035705747839691\n"
          ],
          "name": "stdout"
        }
      ]
    },
    {
      "cell_type": "markdown",
      "metadata": {
        "id": "Wh9nZQ3odNgy"
      },
      "source": [
        "Dari data di atas, nilai dari R^2 lebih dari 0,3, sehingga garis yang dihasilkan cocok untuk data ini sehingga garis ini dapat digunakan untuk memprediksi IPK Semester 3."
      ]
    },
    {
      "cell_type": "markdown",
      "metadata": {
        "id": "1u5tD8l4djGa"
      },
      "source": [
        "**Visualisasi Plotting Garis/Line :**"
      ]
    },
    {
      "cell_type": "code",
      "metadata": {
        "colab": {
          "base_uri": "https://localhost:8080/",
          "height": 513
        },
        "id": "bkc2pSdadmgj",
        "outputId": "c5ceef4d-e1ad-47ff-9118-04d7056e4fca"
      },
      "source": [
        "plt.figure(figsize = (15, 8))\r\n",
        "\r\n",
        "plt.xlabel('ip4')\r\n",
        "plt.ylabel('ip3')\r\n",
        "\r\n",
        "plt.plot(fit_xs, fit_ys, color = 'black')\r\n",
        "plt.scatter(ws, rs, color = 'red')"
      ],
      "execution_count": null,
      "outputs": [
        {
          "output_type": "execute_result",
          "data": {
            "text/plain": [
              "<matplotlib.collections.PathCollection at 0x7fb5f3bb0668>"
            ]
          },
          "metadata": {
            "tags": []
          },
          "execution_count": 327
        },
        {
          "output_type": "display_data",
          "data": {
            "image/png": "[encoded data removed]",
            "text/plain": [
              "<Figure size 1080x576 with 1 Axes>"
            ]
          },
          "metadata": {
            "tags": [],
            "needs_background": "light"
          }
        }
      ]
    },
    {
      "cell_type": "markdown",
      "metadata": {
        "id": "Om7dCC1kd8qd"
      },
      "source": [
        "Gambar visualisasi di atas, menunjukkan bahwa garis yang dihasilkan cocok dengan diagram pada visualisasi data sebelumnya."
      ]
    },
    {
      "cell_type": "markdown",
      "metadata": {
        "id": "t8Wat4uXmab3"
      },
      "source": [
        "> **Klasifikasi dengan Random Forest**"
      ]
    },
    {
      "cell_type": "code",
      "metadata": {
        "id": "k2ap7Gttm_LV"
      },
      "source": [
        "import numpy as np # linear algebra\r\n",
        "import pandas as pd # data processing, CSV file I/O (e.g. pd.read_csv)\r\n",
        "from sklearn.model_selection import train_test_split\r\n",
        "from sklearn.model_selection import KFold\r\n",
        "from sklearn.model_selection import cross_val_score\r\n",
        "from sklearn.metrics import classification_report\r\n",
        "from sklearn.metrics import confusion_matrix\r\n",
        "from sklearn.metrics import accuracy_score\r\n",
        "from sklearn.linear_model import LogisticRegression\r\n",
        "from sklearn.tree import DecisionTreeClassifier\r\n",
        "from sklearn.neighbors import KNeighborsClassifier\r\n",
        "from sklearn.ensemble import RandomForestClassifier\r\n",
        "from sklearn.discriminant_analysis import LinearDiscriminantAnalysis\r\n",
        "from sklearn.naive_bayes import GaussianNB"
      ],
      "execution_count": null,
      "outputs": []
    },
    {
      "cell_type": "code",
      "metadata": {
        "colab": {
          "base_uri": "https://localhost:8080/",
          "height": 197
        },
        "id": "iNPbwW4-msLG",
        "outputId": "742193be-6c17-46e8-8628-12e2c731b40a"
      },
      "source": [
        "url = 'https://raw.githubusercontent.com/Mifta-ux/Tugas-Pengantar-Data-Saintis/main/data_lulus_tepat_waktu.csv'\r\n",
        "dataset = pd.read_csv(\"https://raw.githubusercontent.com/Mifta-ux/Tugas-Pengantar-Data-Saintis/main/data_lulus_tepat_waktu.csv\") \r\n",
        "dataset.head()"
      ],
      "execution_count": null,
      "outputs": [
        {
          "output_type": "execute_result",
          "data": {
            "text/html": [
              "<div>\n",
              "<style scoped>\n",
              "    .dataframe tbody tr th:only-of-type {\n",
              "        vertical-align: middle;\n",
              "    }\n",
              "\n",
              "    .dataframe tbody tr th {\n",
              "        vertical-align: top;\n",
              "    }\n",
              "\n",
              "    .dataframe thead th {\n",
              "        text-align: right;\n",
              "    }\n",
              "</style>\n",
              "<table border=\"1\" class=\"dataframe\">\n",
              "  <thead>\n",
              "    <tr style=\"text-align: right;\">\n",
              "      <th></th>\n",
              "      <th>ip1</th>\n",
              "      <th>ip2</th>\n",
              "      <th>ip3</th>\n",
              "      <th>ip4</th>\n",
              "      <th>tepat</th>\n",
              "    </tr>\n",
              "  </thead>\n",
              "  <tbody>\n",
              "    <tr>\n",
              "      <th>0</th>\n",
              "      <td>2.30</td>\n",
              "      <td>1.97</td>\n",
              "      <td>1.80</td>\n",
              "      <td>1.56</td>\n",
              "      <td>Tidak</td>\n",
              "    </tr>\n",
              "    <tr>\n",
              "      <th>1</th>\n",
              "      <td>1.81</td>\n",
              "      <td>1.68</td>\n",
              "      <td>1.57</td>\n",
              "      <td>1.86</td>\n",
              "      <td>Tidak</td>\n",
              "    </tr>\n",
              "    <tr>\n",
              "      <th>2</th>\n",
              "      <td>3.07</td>\n",
              "      <td>3.00</td>\n",
              "      <td>2.75</td>\n",
              "      <td>3.21</td>\n",
              "      <td>Tidak</td>\n",
              "    </tr>\n",
              "    <tr>\n",
              "      <th>3</th>\n",
              "      <td>2.71</td>\n",
              "      <td>2.33</td>\n",
              "      <td>2.61</td>\n",
              "      <td>1.98</td>\n",
              "      <td>Tidak</td>\n",
              "    </tr>\n",
              "    <tr>\n",
              "      <th>4</th>\n",
              "      <td>3.17</td>\n",
              "      <td>3.02</td>\n",
              "      <td>3.28</td>\n",
              "      <td>2.96</td>\n",
              "      <td>Tidak</td>\n",
              "    </tr>\n",
              "  </tbody>\n",
              "</table>\n",
              "</div>"
            ],
            "text/plain": [
              "    ip1   ip2   ip3   ip4  tepat\n",
              "0  2.30  1.97  1.80  1.56  Tidak\n",
              "1  1.81  1.68  1.57  1.86  Tidak\n",
              "2  3.07  3.00  2.75  3.21  Tidak\n",
              "3  2.71  2.33  2.61  1.98  Tidak\n",
              "4  3.17  3.02  3.28  2.96  Tidak"
            ]
          },
          "metadata": {
            "tags": []
          },
          "execution_count": 329
        }
      ]
    },
    {
      "cell_type": "code",
      "metadata": {
        "colab": {
          "base_uri": "https://localhost:8080/"
        },
        "id": "iZ-JIkIMmyhJ",
        "outputId": "60a75e38-5c8f-4d26-9ede-b9734713da1b"
      },
      "source": [
        "dataset.shape"
      ],
      "execution_count": null,
      "outputs": [
        {
          "output_type": "execute_result",
          "data": {
            "text/plain": [
              "(1687, 5)"
            ]
          },
          "metadata": {
            "tags": []
          },
          "execution_count": 330
        }
      ]
    },
    {
      "cell_type": "code",
      "metadata": {
        "colab": {
          "base_uri": "https://localhost:8080/"
        },
        "id": "QEiRHbWApEAU",
        "outputId": "24125723-70d4-42ff-e7ea-e763fe6f3f87"
      },
      "source": [
        "dataset.info()"
      ],
      "execution_count": null,
      "outputs": [
        {
          "output_type": "stream",
          "text": [
            "<class 'pandas.core.frame.DataFrame'>\n",
            "RangeIndex: 1687 entries, 0 to 1686\n",
            "Data columns (total 5 columns):\n",
            " #   Column  Non-Null Count  Dtype  \n",
            "---  ------  --------------  -----  \n",
            " 0   ip1     1687 non-null   float64\n",
            " 1   ip2     1687 non-null   float64\n",
            " 2   ip3     1687 non-null   float64\n",
            " 3   ip4     1687 non-null   float64\n",
            " 4   tepat   1687 non-null   object \n",
            "dtypes: float64(4), object(1)\n",
            "memory usage: 66.0+ KB\n"
          ],
          "name": "stdout"
        }
      ]
    },
    {
      "cell_type": "code",
      "metadata": {
        "colab": {
          "base_uri": "https://localhost:8080/"
        },
        "id": "s6oKBd9UpJT7",
        "outputId": "eebe9be5-50e0-4ab7-ee95-228216f8dfcb"
      },
      "source": [
        "dataset.isnull().values.any()"
      ],
      "execution_count": null,
      "outputs": [
        {
          "output_type": "execute_result",
          "data": {
            "text/plain": [
              "False"
            ]
          },
          "metadata": {
            "tags": []
          },
          "execution_count": 332
        }
      ]
    },
    {
      "cell_type": "code",
      "metadata": {
        "id": "-_hgSA_gpMXW"
      },
      "source": [
        "ket = {\"Ya\" : 0, \"Tidak\" : 1}\r\n",
        "dataset[\"tepat\"] = dataset[\"tepat\"].map(ket)"
      ],
      "execution_count": null,
      "outputs": []
    },
    {
      "cell_type": "code",
      "metadata": {
        "colab": {
          "base_uri": "https://localhost:8080/"
        },
        "id": "q5zm5kIYpPN6",
        "outputId": "0a5324fa-3f57-426a-cb0e-57f52cac2bcd"
      },
      "source": [
        "dataset['tepat'].value_counts()"
      ],
      "execution_count": null,
      "outputs": [
        {
          "output_type": "execute_result",
          "data": {
            "text/plain": [
              "0    1552\n",
              "1     135\n",
              "Name: tepat, dtype: int64"
            ]
          },
          "metadata": {
            "tags": []
          },
          "execution_count": 334
        }
      ]
    },
    {
      "cell_type": "code",
      "metadata": {
        "colab": {
          "base_uri": "https://localhost:8080/"
        },
        "id": "twLQ9nBfpTaK",
        "outputId": "f465146c-205e-4464-d17d-044070c8e742"
      },
      "source": [
        "print('Ya', round(dataset['tepat'].value_counts()[0]/len(dataset) * 100,2), '% of the dataset')\r\n",
        "print('Tidak', round(dataset['tepat'].value_counts()[1]/len(dataset) * 100,2), '% of the dataset')"
      ],
      "execution_count": null,
      "outputs": [
        {
          "output_type": "stream",
          "text": [
            "Ya 92.0 % of the dataset\n",
            "Tidak 8.0 % of the dataset\n"
          ],
          "name": "stdout"
        }
      ]
    },
    {
      "cell_type": "code",
      "metadata": {
        "colab": {
          "base_uri": "https://localhost:8080/",
          "height": 383
        },
        "id": "8sX6duIApVSi",
        "outputId": "485ee5ef-fb3e-47e4-9ae8-bb8002b7a83f"
      },
      "source": [
        "import seaborn as sns\r\n",
        "import matplotlib.pyplot as plt\r\n",
        "\r\n",
        "colors = [\"#0101DF\", \"#DF0101\"]\r\n",
        "\r\n",
        "sns.countplot('tepat', data=dataset, palette=colors)\r\n",
        "plt.title('Class Distributions \\n (0: YA || 1: Tidak)', fontsize=14)"
      ],
      "execution_count": null,
      "outputs": [
        {
          "output_type": "stream",
          "text": [
            "/usr/local/lib/python3.6/dist-packages/seaborn/_decorators.py:43: FutureWarning: Pass the following variable as a keyword arg: x. From version 0.12, the only valid positional argument will be `data`, and passing other arguments without an explicit keyword will result in an error or misinterpretation.\n",
            "  FutureWarning\n"
          ],
          "name": "stderr"
        },
        {
          "output_type": "execute_result",
          "data": {
            "text/plain": [
              "Text(0.5, 1.0, 'Class Distributions \\n (0: YA || 1: Tidak)')"
            ]
          },
          "metadata": {
            "tags": []
          },
          "execution_count": 336
        },
        {
          "output_type": "display_data",
          "data": {
            "image/png": "[encoded data removed]",
            "text/plain": [
              "<Figure size 432x288 with 1 Axes>"
            ]
          },
          "metadata": {
            "tags": [],
            "needs_background": "light"
          }
        }
      ]
    },
    {
      "cell_type": "markdown",
      "metadata": {
        "id": "geROZ_xNpigS"
      },
      "source": [
        "Data dari diagram diatas tidak seimbang"
      ]
    },
    {
      "cell_type": "markdown",
      "metadata": {
        "id": "Pt9RSEkDpfMQ"
      },
      "source": [
        "Kita melakukan resampling datanya. Resampling ada 2 :\r\n",
        "\r\n",
        "Random Oversampling: Randomly duplicate examples in the minority class.\r\n",
        "Random Undersampling: Randomly delete examples in the majority class.\r\n",
        "disini kita menggunakan random over sampling"
      ]
    },
    {
      "cell_type": "code",
      "metadata": {
        "id": "3zoOinXnpZFO"
      },
      "source": [
        "# Class count\r\n",
        "count_class_0, count_class_1 = dataset.tepat.value_counts()\r\n",
        "\r\n",
        "# Divide by class\r\n",
        "df_class_0 = dataset[dataset['tepat'] == 0]\r\n",
        "df_class_1 = dataset[dataset['tepat'] == 1]"
      ],
      "execution_count": null,
      "outputs": []
    },
    {
      "cell_type": "code",
      "metadata": {
        "colab": {
          "base_uri": "https://localhost:8080/",
          "height": 344
        },
        "id": "pA4-flTAqDXD",
        "outputId": "4d68940a-8f31-4fa7-e57f-6e64b5d64ee0"
      },
      "source": [
        "df_class_1_over = df_class_1.sample(count_class_0, replace=True)\r\n",
        "df_test_over = pd.concat([df_class_0, df_class_1_over], axis=0)\r\n",
        "\r\n",
        "print('Random over-sampling:')\r\n",
        "print(df_test_over.tepat.value_counts())\r\n",
        "\r\n",
        "df_test_over.tepat.value_counts().plot(kind='bar', title='Count (tepat)');"
      ],
      "execution_count": null,
      "outputs": [
        {
          "output_type": "stream",
          "text": [
            "Random over-sampling:\n",
            "1    1552\n",
            "0    1552\n",
            "Name: tepat, dtype: int64\n"
          ],
          "name": "stdout"
        },
        {
          "output_type": "display_data",
          "data": {
            "image/png": "[encoded data removed]",
            "text/plain": [
              "<Figure size 432x288 with 1 Axes>"
            ]
          },
          "metadata": {
            "tags": [],
            "needs_background": "light"
          }
        }
      ]
    },
    {
      "cell_type": "code",
      "metadata": {
        "colab": {
          "base_uri": "https://localhost:8080/"
        },
        "id": "-vrv3kAGqG16",
        "outputId": "8afd5fbe-2585-4af8-bc95-e5d4844f4ea3"
      },
      "source": [
        "df_test_over.tepat.value_counts()"
      ],
      "execution_count": null,
      "outputs": [
        {
          "output_type": "execute_result",
          "data": {
            "text/plain": [
              "1    1552\n",
              "0    1552\n",
              "Name: tepat, dtype: int64"
            ]
          },
          "metadata": {
            "tags": []
          },
          "execution_count": 339
        }
      ]
    },
    {
      "cell_type": "markdown",
      "metadata": {
        "id": "5j-5gcMtqLoy"
      },
      "source": [
        "Data dari diagram diatas sudah seimbang , kita bisa melanjutkan ke proses selanjutnya."
      ]
    },
    {
      "cell_type": "code",
      "metadata": {
        "id": "F6XepTAPqVjQ"
      },
      "source": [
        "x = df_test_over.iloc[:, :-1].values\r\n",
        "y = df_test_over.iloc[:, -1].values"
      ],
      "execution_count": null,
      "outputs": []
    },
    {
      "cell_type": "code",
      "metadata": {
        "id": "RSFKfMxnqiO0"
      },
      "source": [
        "from sklearn.model_selection import train_test_split\r\n",
        "\r\n",
        "validation_size = 0.20\r\n",
        "num_trees = 100\r\n",
        "seed = 5\r\n",
        "x_train, x_test, y_train, y_test=train_test_split(x, y, test_size=validation_size, random_state=seed)"
      ],
      "execution_count": null,
      "outputs": []
    },
    {
      "cell_type": "code",
      "metadata": {
        "colab": {
          "base_uri": "https://localhost:8080/"
        },
        "id": "0U2Av494ql0h",
        "outputId": "cdb3be94-f158-46de-ddc7-72096bb282a7"
      },
      "source": [
        "#Check Algorithms\r\n",
        "models = []\r\n",
        "models.append(( 'LR' , LogisticRegression()))\r\n",
        "models.append(( 'LDA' , LinearDiscriminantAnalysis()))\r\n",
        "models.append(( 'KNN' , KNeighborsClassifier()))\r\n",
        "models.append(( 'CART' , DecisionTreeClassifier()))\r\n",
        "models.append(( 'NB' , GaussianNB()))\r\n",
        "models.append(('RF', RandomForestClassifier(n_estimators=num_trees, random_state=seed)))\r\n",
        "# evaluate each model\r\n",
        "results = []\r\n",
        "names = []\r\n",
        "for name, model in models:\r\n",
        "  kfold = KFold(n_splits=2, random_state=seed)\r\n",
        "  cv_results = cross_val_score(model, x_train, y_train, cv=kfold, scoring= 'accuracy' )\r\n",
        "  results.append(cv_results)\r\n",
        "  names.append(name)\r\n",
        "  msg = \"%s: %f (%f)\" % (name, cv_results.mean(), cv_results.std())\r\n",
        "  print(msg)"
      ],
      "execution_count": null,
      "outputs": [
        {
          "output_type": "stream",
          "text": [
            "/usr/local/lib/python3.6/dist-packages/sklearn/model_selection/_split.py:296: FutureWarning: Setting a random_state has no effect since shuffle is False. This will raise an error in 0.24. You should leave random_state to its default (None), or set shuffle=True.\n",
            "  FutureWarning\n",
            "/usr/local/lib/python3.6/dist-packages/sklearn/model_selection/_split.py:296: FutureWarning: Setting a random_state has no effect since shuffle is False. This will raise an error in 0.24. You should leave random_state to its default (None), or set shuffle=True.\n",
            "  FutureWarning\n",
            "/usr/local/lib/python3.6/dist-packages/sklearn/model_selection/_split.py:296: FutureWarning: Setting a random_state has no effect since shuffle is False. This will raise an error in 0.24. You should leave random_state to its default (None), or set shuffle=True.\n",
            "  FutureWarning\n",
            "/usr/local/lib/python3.6/dist-packages/sklearn/model_selection/_split.py:296: FutureWarning: Setting a random_state has no effect since shuffle is False. This will raise an error in 0.24. You should leave random_state to its default (None), or set shuffle=True.\n",
            "  FutureWarning\n",
            "/usr/local/lib/python3.6/dist-packages/sklearn/model_selection/_split.py:296: FutureWarning: Setting a random_state has no effect since shuffle is False. This will raise an error in 0.24. You should leave random_state to its default (None), or set shuffle=True.\n",
            "  FutureWarning\n",
            "/usr/local/lib/python3.6/dist-packages/sklearn/model_selection/_split.py:296: FutureWarning: Setting a random_state has no effect since shuffle is False. This will raise an error in 0.24. You should leave random_state to its default (None), or set shuffle=True.\n",
            "  FutureWarning\n"
          ],
          "name": "stderr"
        },
        {
          "output_type": "stream",
          "text": [
            "LR: 0.641162 (0.005897)\n",
            "LDA: 0.635117 (0.004980)\n",
            "KNN: 0.810711 (0.004909)\n",
            "CART: 0.928715 (0.001237)\n",
            "NB: 0.613771 (0.006197)\n",
            "RF: 0.953282 (0.001630)\n"
          ],
          "name": "stdout"
        }
      ]
    },
    {
      "cell_type": "markdown",
      "metadata": {
        "id": "1bku6XsBsMtT"
      },
      "source": [
        "RF paling besar 94%"
      ]
    },
    {
      "cell_type": "code",
      "metadata": {
        "colab": {
          "base_uri": "https://localhost:8080/"
        },
        "id": "tbAtgUQQsll_",
        "outputId": "127647b6-b361-4dcb-aa9d-daa02cfa5330"
      },
      "source": [
        "rf = RandomForestClassifier(n_estimators=num_trees, random_state=seed)\r\n",
        "rf.fit(x_train, y_train)\r\n",
        "predictions = rf.predict(x_test)\r\n",
        "print(accuracy_score(y_test, predictions))\r\n",
        "print(confusion_matrix(y_test, predictions))\r\n",
        "print(classification_report(y_test, predictions))"
      ],
      "execution_count": null,
      "outputs": [
        {
          "output_type": "stream",
          "text": [
            "0.9774557165861514\n",
            "[[295  14]\n",
            " [  0 312]]\n",
            "              precision    recall  f1-score   support\n",
            "\n",
            "           0       1.00      0.95      0.98       309\n",
            "           1       0.96      1.00      0.98       312\n",
            "\n",
            "    accuracy                           0.98       621\n",
            "   macro avg       0.98      0.98      0.98       621\n",
            "weighted avg       0.98      0.98      0.98       621\n",
            "\n"
          ],
          "name": "stdout"
        }
      ]
    },
    {
      "cell_type": "markdown",
      "metadata": {
        "id": "-XrGq6_WtF5N"
      },
      "source": [
        "Melakukan Test"
      ]
    },
    {
      "cell_type": "code",
      "metadata": {
        "colab": {
          "base_uri": "https://localhost:8080/"
        },
        "id": "CrjuQbm-suUj",
        "outputId": "653e3860-efa7-410d-b16c-b35194faf0eb"
      },
      "source": [
        "# ip1 = 3.17\r\n",
        "# ip2 = 3.02\r\n",
        "# ip3 = 3.28\r\n",
        "# ip4 = 2.96\r\n",
        "\r\n",
        "prediction_rf=rf.predict([[3.17,3.02,3.28,2.96]])\r\n",
        "score1 = rf.score(x_test, y_test)\r\n",
        "if prediction_rf[0] == 0:\r\n",
        "    pred = \"Tepat Waktu\"\r\n",
        "else:\r\n",
        "    pred = \"Tidak Tepat Waktu\"\r\n",
        "print('Prediksi :',pred)\r\n",
        "print(\"Test score: {0:.2f} %\".format(100 * score1)) "
      ],
      "execution_count": null,
      "outputs": [
        {
          "output_type": "stream",
          "text": [
            "Prediksi : Tidak Tepat Waktu\n",
            "Test score: 97.75 %\n"
          ],
          "name": "stdout"
        }
      ]
    },
    {
      "cell_type": "code",
      "metadata": {
        "colab": {
          "base_uri": "https://localhost:8080/"
        },
        "id": "ChlDdnmuthwm",
        "outputId": "6cef5c99-2eb8-42e7-f5d3-2e649f1bec9e"
      },
      "source": [
        "prediction_rf=rf.predict([[3.07,3.04,3.39,3.55]])\r\n",
        "score1 = rf.score(x_test, y_test)\r\n",
        "if prediction_rf[0] == 0:\r\n",
        "    pred = \"Tepat Waktu\"\r\n",
        "else:\r\n",
        "    pred = \"Tidak Tepat Waktu\"\r\n",
        "print('Prediksi :',pred)\r\n",
        "print(\"Test score: {0:.2f} %\".format(100 * score1)) "
      ],
      "execution_count": null,
      "outputs": [
        {
          "output_type": "stream",
          "text": [
            "Prediksi : Tepat Waktu\n",
            "Test score: 97.75 %\n"
          ],
          "name": "stdout"
        }
      ]
    }
  ]
}