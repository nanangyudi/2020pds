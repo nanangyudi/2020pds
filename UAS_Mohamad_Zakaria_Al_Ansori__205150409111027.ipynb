{
  "nbformat": 4,
  "nbformat_minor": 0,
  "metadata": {
    "colab": {
      "name": "UAS_Mohamad Zakaria Al Ansori _205150409111027.ipynb",
      "provenance": [],
      "collapsed_sections": [],
      "include_colab_link": true
    },
    "kernelspec": {
      "name": "python3",
      "display_name": "Python 3"
    }
  },
  "cells": [
    {
      "cell_type": "markdown",
      "metadata": {
        "id": "view-in-github",
        "colab_type": "text"
      },
      "source": [
        "<a href=\"https://colab.research.google.com/github/nanangyudi/2020pds_d/blob/main/UAS_Mohamad_Zakaria_Al_Ansori__205150409111027.ipynb\" target=\"_parent\"><img src=\"https://colab.research.google.com/assets/colab-badge.svg\" alt=\"Open In Colab\"/></a>"
      ]
    },
    {
      "cell_type": "markdown",
      "metadata": {
        "id": "AOEJHLJlMFm9"
      },
      "source": [
        "*Catatan : Saat menjalankan codingan harus menjalankan bagian persiapan data dan import dataframe*"
      ]
    },
    {
      "cell_type": "markdown",
      "metadata": {
        "id": "1LXcwqb7aQ-u"
      },
      "source": [
        "**Tujuan Bisnis Top 100 Lagu Billboard :**\n",
        "1.   Bisa Menjadi Barometer Musik Dunia\n",
        "2.   Memberikan manfaat untuk musisi, perusahaan rekaman, maupun masyarakat mengenai lagu yang berkualitas dengan beragam genre\n",
        "3. Mengetahui Lagu Terpopuler & Terbaik diantara Tahun 2006-2019\n",
        "4. Bentuk apresiasi bagi para penyanyi,label rekaman dan pembuat musik\n",
        "\n",
        "\n",
        "\n",
        "\n",
        "\n"
      ]
    },
    {
      "cell_type": "markdown",
      "metadata": {
        "id": "-gAFT8pwbtx8"
      },
      "source": [
        "**Analisa pendekatan yang akan dilakukan**\n",
        "Yaitu menganalisa dengan pendekatan Analisis data eksploratif (Exploratory Data Analysis – EDA) merupakan metode eksplorasi data dengan menggunakan teknik aritmatika sederhana dan teknik grafis dalam meringkas data pengamatan.\n",
        "Kontribusi utama dari pendekatan analisis data secara eksploratif terletak pada penyajian seluruh ringkasan statistik secara visual.\n",
        "\n",
        "EDA banyak digunakan dalam berbagai hal, seperti:\n",
        "*   Memaksimalkan telaahan data\n",
        "*   Mencari struktur data yang tersembunyi (mengungakp misteri yang tersembunyi)\n",
        "*   Mengeluarkan variable penting\n",
        "*   Mendeteksi kelainan dan anomali\n",
        "*   Melakukan test suatu asumsi\n",
        "*   Membangun model\n",
        "*   Melakukan optimasi\n",
        "\n",
        "Langkah - langkah EDA yaitu:\n",
        "Masalah → Data → Analisis → Model → Kesimpulan\n",
        "\n",
        "\n",
        "\n"
      ]
    },
    {
      "cell_type": "markdown",
      "metadata": {
        "id": "kWMhcb2ddlsq"
      },
      "source": [
        "**Pengumpulan Data**\n",
        "Data yang dikumpulkan berasal dari https://www.kaggle.com/diegoguzmn/hot-100-songs-billboard-20062019 \n",
        "Yang kemudian dipindahkan ke Github agar bisa dijalakan bersama pada GoogleCollabs"
      ]
    },
    {
      "cell_type": "markdown",
      "metadata": {
        "id": "5WcIiNmxes23"
      },
      "source": [
        "**Pemahaman terhadap data yang telah dikumpulkan**\n",
        "Data yang tersedia merupakan daftar top 100 lagu billboard dari tahun 2006 hingga 2019 yang terdiri daru berbagai kolom : \n",
        "- title - Judul trek.\n",
        "- artis - Nama artis, seperti yang diformat di Billboard.com.\n",
        "- image - URL gambar untuk trek.\n",
        "- rank - Posisi trek saat ini pada grafik.\n",
        "- year - Tahun\n",
        "Dengan jumlah banyaknya data yaitu 1398 Lagu"
      ]
    },
    {
      "cell_type": "markdown",
      "metadata": {
        "id": "otQFNFfANckQ"
      },
      "source": [
        "**Eksplorasi data**\n",
        "\n",
        "Pada tahapan ini dilakukan menggunakan library numpy, scikit-learn, pandas, matplotlib, dan seaborn.\n"
      ]
    },
    {
      "cell_type": "markdown",
      "metadata": {
        "id": "lhG6pG3xN25m"
      },
      "source": [
        "**Pemodelan Data**\n",
        "\n",
        "Pada bagian ini yaitu dilakukan dengan :\n",
        "\n",
        "1.   Membuat Tabel Data dari Dataframe\n",
        "2.   Membuat plots yang terdiri dari beberapa grafik seperti : Histogram, Scatter Plot, dan Box Plot\n",
        "3.   Membuat frekuensi tabel\n",
        "\n"
      ]
    },
    {
      "cell_type": "markdown",
      "metadata": {
        "id": "NNPCA2eRHH88"
      },
      "source": [
        "**Praktik Eksplorasi Data**"
      ]
    },
    {
      "cell_type": "code",
      "metadata": {
        "id": "ii2KC1f9GimW"
      },
      "source": [
        "import pandas as pd\n",
        "pd.set_option('display.max_columns',None)\n",
        "import numpy as np\n",
        "import matplotlib.pyplot as plt\n",
        "import seaborn as sns \n",
        "from sklearn.datasets import make_classification\n",
        "from sklearn.linear_model import LogisticRegression\n",
        "sns.set()\n",
        "from sklearn.model_selection import train_test_split\n",
        "from sklearn.metrics import confusion_matrix\n"
      ],
      "execution_count": null,
      "outputs": []
    },
    {
      "cell_type": "markdown",
      "metadata": {
        "id": "c_nvPHomH5Mt"
      },
      "source": [
        "**Import Dataframe dari CSV**"
      ]
    },
    {
      "cell_type": "code",
      "metadata": {
        "colab": {
          "base_uri": "https://localhost:8080/"
        },
        "id": "iyl2OpEmIDtW",
        "outputId": "1668edda-ea87-426a-ae74-4f352af999ae"
      },
      "source": [
        "url = 'https://raw.githubusercontent.com/ZakaID/Tugas/main/songs.csv'\n",
        "df = pd.read_csv(\"https://raw.githubusercontent.com/ZakaID/Tugas/main/songs.csv\") \n",
        "print(\"data dibaca ke dalam dataframe!\")"
      ],
      "execution_count": null,
      "outputs": [
        {
          "output_type": "stream",
          "text": [
            "data dibaca ke dalam dataframe!\n"
          ],
          "name": "stdout"
        }
      ]
    },
    {
      "cell_type": "markdown",
      "metadata": {
        "id": "1lcZTm6lIr0P"
      },
      "source": [
        "**Melihat 10 Data Teratas**\n",
        "\n",
        "Berikut merupakan tabel dari data Top 100 Songs Billboard. Dari data tersebut hanya menampilkan 10 data teratas. Berdasarkan data tersebut maka tabel terdiri dari 6 kolom yaitu No, Title, Artist, Image, Rank dan Year."
      ]
    },
    {
      "cell_type": "code",
      "metadata": {
        "colab": {
          "base_uri": "https://localhost:8080/",
          "height": 363
        },
        "id": "4fN8sIv1I-fK",
        "outputId": "1ee06e5d-4812-4f83-e312-87658da124bc"
      },
      "source": [
        "df.head(10)"
      ],
      "execution_count": null,
      "outputs": [
        {
          "output_type": "execute_result",
          "data": {
            "text/html": [
              "<div>\n",
              "<style scoped>\n",
              "    .dataframe tbody tr th:only-of-type {\n",
              "        vertical-align: middle;\n",
              "    }\n",
              "\n",
              "    .dataframe tbody tr th {\n",
              "        vertical-align: top;\n",
              "    }\n",
              "\n",
              "    .dataframe thead th {\n",
              "        text-align: right;\n",
              "    }\n",
              "</style>\n",
              "<table border=\"1\" class=\"dataframe\">\n",
              "  <thead>\n",
              "    <tr style=\"text-align: right;\">\n",
              "      <th></th>\n",
              "      <th>no</th>\n",
              "      <th>title</th>\n",
              "      <th>artist</th>\n",
              "      <th>image</th>\n",
              "      <th>rank</th>\n",
              "      <th>year</th>\n",
              "    </tr>\n",
              "  </thead>\n",
              "  <tbody>\n",
              "    <tr>\n",
              "      <th>0</th>\n",
              "      <td>0</td>\n",
              "      <td>Bad Day</td>\n",
              "      <td>Daniel Powter</td>\n",
              "      <td>https://charts-static.billboard.com/img/1840/1...</td>\n",
              "      <td>1</td>\n",
              "      <td>2006</td>\n",
              "    </tr>\n",
              "    <tr>\n",
              "      <th>1</th>\n",
              "      <td>1</td>\n",
              "      <td>Temperature</td>\n",
              "      <td>Sean Paul</td>\n",
              "      <td>https://charts-static.billboard.com/img/2005/1...</td>\n",
              "      <td>2</td>\n",
              "      <td>2006</td>\n",
              "    </tr>\n",
              "    <tr>\n",
              "      <th>2</th>\n",
              "      <td>2</td>\n",
              "      <td>Promiscuous</td>\n",
              "      <td>Nelly Furtado Featuring Timbaland</td>\n",
              "      <td>https://charts-static.billboard.com/img/2006/0...</td>\n",
              "      <td>3</td>\n",
              "      <td>2006</td>\n",
              "    </tr>\n",
              "    <tr>\n",
              "      <th>3</th>\n",
              "      <td>3</td>\n",
              "      <td>You're Beautiful</td>\n",
              "      <td>James Blunt</td>\n",
              "      <td>https://charts-static.billboard.com/img/2005/0...</td>\n",
              "      <td>4</td>\n",
              "      <td>2006</td>\n",
              "    </tr>\n",
              "    <tr>\n",
              "      <th>4</th>\n",
              "      <td>4</td>\n",
              "      <td>Hips Don't Lie</td>\n",
              "      <td>Shakira Featuring Wyclef Jean</td>\n",
              "      <td>https://charts-static.billboard.com/img/2006/0...</td>\n",
              "      <td>5</td>\n",
              "      <td>2006</td>\n",
              "    </tr>\n",
              "    <tr>\n",
              "      <th>5</th>\n",
              "      <td>5</td>\n",
              "      <td>Unwritten</td>\n",
              "      <td>Natasha Bedingfield</td>\n",
              "      <td>https://charts-static.billboard.com/img/2005/1...</td>\n",
              "      <td>6</td>\n",
              "      <td>2006</td>\n",
              "    </tr>\n",
              "    <tr>\n",
              "      <th>6</th>\n",
              "      <td>6</td>\n",
              "      <td>Crazy</td>\n",
              "      <td>Gnarls Barkley</td>\n",
              "      <td>https://charts-static.billboard.com/img/2006/0...</td>\n",
              "      <td>7</td>\n",
              "      <td>2006</td>\n",
              "    </tr>\n",
              "    <tr>\n",
              "      <th>7</th>\n",
              "      <td>7</td>\n",
              "      <td>Ridin'</td>\n",
              "      <td>Chamillionaire Featuring Krayzie Bone</td>\n",
              "      <td>https://charts-static.billboard.com/img/2006/0...</td>\n",
              "      <td>8</td>\n",
              "      <td>2006</td>\n",
              "    </tr>\n",
              "    <tr>\n",
              "      <th>8</th>\n",
              "      <td>8</td>\n",
              "      <td>SexyBack</td>\n",
              "      <td>Justin Timberlake</td>\n",
              "      <td>https://charts-static.billboard.com/img/2006/0...</td>\n",
              "      <td>9</td>\n",
              "      <td>2006</td>\n",
              "    </tr>\n",
              "    <tr>\n",
              "      <th>9</th>\n",
              "      <td>9</td>\n",
              "      <td>Check On It</td>\n",
              "      <td>Beyonce Featuring Slim Thug</td>\n",
              "      <td>https://charts-static.billboard.com/img/2002/0...</td>\n",
              "      <td>10</td>\n",
              "      <td>2006</td>\n",
              "    </tr>\n",
              "  </tbody>\n",
              "</table>\n",
              "</div>"
            ],
            "text/plain": [
              "   no             title                                 artist  \\\n",
              "0   0           Bad Day                          Daniel Powter   \n",
              "1   1       Temperature                              Sean Paul   \n",
              "2   2       Promiscuous      Nelly Furtado Featuring Timbaland   \n",
              "3   3  You're Beautiful                            James Blunt   \n",
              "4   4    Hips Don't Lie          Shakira Featuring Wyclef Jean   \n",
              "5   5         Unwritten                    Natasha Bedingfield   \n",
              "6   6             Crazy                         Gnarls Barkley   \n",
              "7   7            Ridin'  Chamillionaire Featuring Krayzie Bone   \n",
              "8   8          SexyBack                      Justin Timberlake   \n",
              "9   9       Check On It            Beyonce Featuring Slim Thug   \n",
              "\n",
              "                                               image  rank  year  \n",
              "0  https://charts-static.billboard.com/img/1840/1...     1  2006  \n",
              "1  https://charts-static.billboard.com/img/2005/1...     2  2006  \n",
              "2  https://charts-static.billboard.com/img/2006/0...     3  2006  \n",
              "3  https://charts-static.billboard.com/img/2005/0...     4  2006  \n",
              "4  https://charts-static.billboard.com/img/2006/0...     5  2006  \n",
              "5  https://charts-static.billboard.com/img/2005/1...     6  2006  \n",
              "6  https://charts-static.billboard.com/img/2006/0...     7  2006  \n",
              "7  https://charts-static.billboard.com/img/2006/0...     8  2006  \n",
              "8  https://charts-static.billboard.com/img/2006/0...     9  2006  \n",
              "9  https://charts-static.billboard.com/img/2002/0...    10  2006  "
            ]
          },
          "metadata": {
            "tags": []
          },
          "execution_count": 63
        }
      ]
    },
    {
      "cell_type": "markdown",
      "metadata": {
        "id": "WpwXbuh_JTcz"
      },
      "source": [
        "**Melihat Banyaknya Data**"
      ]
    },
    {
      "cell_type": "code",
      "metadata": {
        "colab": {
          "base_uri": "https://localhost:8080/"
        },
        "id": "cR1JY_G_JhN1",
        "outputId": "0f184d93-dfc3-4ee0-fab2-2179d61e0914"
      },
      "source": [
        "data      = df.shape\n",
        "panjang_data = len(df)\n",
        "print(f'Banyaknya Kolom data adalah {data[1]} kolom')\n",
        "print(f'Banyak Baris data adalah {panjang_data} baris')"
      ],
      "execution_count": null,
      "outputs": [
        {
          "output_type": "stream",
          "text": [
            "Banyaknya Kolom data adalah 6 kolom\n",
            "Banyak Baris data adalah 1398 baris\n"
          ],
          "name": "stdout"
        }
      ]
    },
    {
      "cell_type": "code",
      "metadata": {
        "colab": {
          "base_uri": "https://localhost:8080/",
          "height": 35
        },
        "id": "YSx5gEWTKuZY",
        "outputId": "a51c392f-856a-4391-e401-b8c7c746f6da"
      },
      "source": [
        "fig=plt.figure()"
      ],
      "execution_count": null,
      "outputs": [
        {
          "output_type": "display_data",
          "data": {
            "text/plain": [
              "<Figure size 432x288 with 0 Axes>"
            ]
          },
          "metadata": {
            "tags": []
          }
        }
      ]
    },
    {
      "cell_type": "markdown",
      "metadata": {
        "id": "uA4zZh6KKxVC"
      },
      "source": [
        "**Melihat Jumlah Lagu Per Tahun**"
      ]
    },
    {
      "cell_type": "code",
      "metadata": {
        "colab": {
          "base_uri": "https://localhost:8080/"
        },
        "id": "0PsRcOYyK_8V",
        "outputId": "4ac92d7a-f236-4fb8-b672-e6533bed76d1"
      },
      "source": [
        "df.year.value_counts()"
      ],
      "execution_count": null,
      "outputs": [
        {
          "output_type": "execute_result",
          "data": {
            "text/plain": [
              "2019    100\n",
              "2018    100\n",
              "2017    100\n",
              "2015    100\n",
              "2014    100\n",
              "2013    100\n",
              "2012    100\n",
              "2010    100\n",
              "2009    100\n",
              "2008    100\n",
              "2007    100\n",
              "2006    100\n",
              "2016     99\n",
              "2011     99\n",
              "Name: year, dtype: int64"
            ]
          },
          "metadata": {
            "tags": []
          },
          "execution_count": 65
        }
      ]
    },
    {
      "cell_type": "markdown",
      "metadata": {
        "id": "f2_mPeu0MPoa"
      },
      "source": [
        "**Melihat Jumlah frekuensi data Berdasarkan Tahun**\n",
        "\n",
        "Berikut merupakan grafik atau diagram histogram dari jumlah frekuensi berdasarkan tiap tiap tahunnya. "
      ]
    },
    {
      "cell_type": "code",
      "metadata": {
        "colab": {
          "base_uri": "https://localhost:8080/",
          "height": 308
        },
        "id": "TtuYh8VNM3fR",
        "outputId": "1f802630-8930-4206-b093-b24da28a6aee"
      },
      "source": [
        "plt.hist(df['year'], bins = 14, edgecolor = 'black')\n",
        "plt.suptitle('Data Frekuensi Lagu', fontsize=14, fontweight='bold')\n",
        "plt.title('Berdasarkan Tahunnya')\n",
        "plt.xlabel('Tahun')\n",
        "plt.ylabel('Jumlah')\n",
        "plt.show()"
      ],
      "execution_count": null,
      "outputs": [
        {
          "output_type": "display_data",
          "data": {
            "image/png": "[encoded data removed]",
            "text/plain": [
              "<Figure size 432x288 with 1 Axes>"
            ]
          },
          "metadata": {
            "tags": [],
            "needs_background": "light"
          }
        }
      ]
    },
    {
      "cell_type": "markdown",
      "metadata": {
        "id": "3Qw9mHghOeub"
      },
      "source": [
        "**Melihat hubungan data Berdasarkan Tahun lagu dan nomor lagu menggunakan Scatter plot**\n",
        "\n",
        "Berdasarkan data tersebut daoat diketahui bahwan lagu yang berasal dari tahun 2006 yaitu dimulai dari nomor 0-100, dan seterusnya."
      ]
    },
    {
      "cell_type": "code",
      "metadata": {
        "colab": {
          "base_uri": "https://localhost:8080/",
          "height": 301
        },
        "id": "QArjrBJvO3mc",
        "outputId": "0e7f495e-9783-4c8e-e31b-ff268bb6e033"
      },
      "source": [
        "fig=plt.figure()\n",
        "ax = fig.add_subplot(1,1,1)\n",
        "ax.scatter(df['year'],df['no'])\n",
        "plt.title('Tahun Lagu dan Nomor lagu')\n",
        "plt.xlabel('Tahun')\n",
        "plt.ylabel('Ranking')\n",
        "plt.show()"
      ],
      "execution_count": null,
      "outputs": [
        {
          "output_type": "display_data",
          "data": {
            "image/png": "[encoded data removed]",
            "text/plain": [
              "<Figure size 432x288 with 1 Axes>"
            ]
          },
          "metadata": {
            "tags": []
          }
        }
      ]
    },
    {
      "cell_type": "markdown",
      "metadata": {
        "id": "Eh_RE3UlQdlw"
      },
      "source": [
        "**Box-plot dari Tahun Lagu**\n",
        "\n",
        "Berdasarkan hasil Boxplot maka dapat dilihat bahwa nilai median berada pada antara pada tahun 2012-2013. Hasil interval minimum yaitu 2006 sedangkan interval maximum yaitu adalah 2019. kemudian banyaknya data tersebar sama rata."
      ]
    },
    {
      "cell_type": "code",
      "metadata": {
        "colab": {
          "base_uri": "https://localhost:8080/",
          "height": 335
        },
        "id": "hufarZZdQmWy",
        "outputId": "af733538-72db-49bf-f178-b9a4b4f9ceff"
      },
      "source": [
        "sns.boxplot(df['year']),\n",
        "sns.despine()"
      ],
      "execution_count": null,
      "outputs": [
        {
          "output_type": "stream",
          "text": [
            "/usr/local/lib/python3.6/dist-packages/seaborn/_decorators.py:43: FutureWarning: Pass the following variable as a keyword arg: x. From version 0.12, the only valid positional argument will be `data`, and passing other arguments without an explicit keyword will result in an error or misinterpretation.\n",
            "  FutureWarning\n"
          ],
          "name": "stderr"
        },
        {
          "output_type": "display_data",
          "data": {
            "image/png": "[encoded data removed]",
            "text/plain": [
              "<Figure size 432x288 with 1 Axes>"
            ]
          },
          "metadata": {
            "tags": [],
            "needs_background": "light"
          }
        }
      ]
    },
    {
      "cell_type": "markdown",
      "metadata": {
        "id": "dkFh23eZQl_w"
      },
      "source": [
        "**Tabel Frekuensi Lagu**\n",
        "\n",
        "Dapat dilihat bahwa pada Tabel Frekuensi menujukkan pengelompokkan judul lagu dan tahun pada masing-masing lagu. Sehingga dapat dilihat bahwa judul lagu dan tahun pada Top 100 Songs Billboard."
      ]
    },
    {
      "cell_type": "code",
      "metadata": {
        "colab": {
          "base_uri": "https://localhost:8080/"
        },
        "id": "tZvcjr7-RKiC",
        "outputId": "0c716ed1-11e4-471f-9295-8b50d340c9ed"
      },
      "source": [
        "song= df.groupby(['title','year'])\n",
        "song.size()"
      ],
      "execution_count": null,
      "outputs": [
        {
          "output_type": "execute_result",
          "data": {
            "text/plain": [
              "title                              year\n",
              "#Beautiful                         2013    1\n",
              "#thatPOWER                         2013    1\n",
              "(When You Gonna) Give It Up To Me  2006    1\n",
              "0 To 100 / The Catch Up            2014    1\n",
              "1-800-273-8255                     2017    1\n",
              "                                          ..\n",
              "Youngblood                         2019    1\n",
              "Your Love                          2010    1\n",
              "Your Love Is My Drug               2010    1\n",
              "ZEZE                               2019    1\n",
              "iSpy                               2017    1\n",
              "Length: 1396, dtype: int64"
            ]
          },
          "metadata": {
            "tags": []
          },
          "execution_count": 41
        }
      ]
    },
    {
      "cell_type": "markdown",
      "metadata": {
        "id": "IwE__LRPRJ1E"
      },
      "source": [
        "**Mengelompokkan variabel per tahun**\n",
        "\n",
        "Berikut merupakan pengabungan data berdasarkan tahunnya. Dapat dilihat bahwa data (rank count) pada tahun 2011 dan 2016 berjumlah 99 data sedangkan yang lainnya berjumlah 100. \n",
        "\n"
      ]
    },
    {
      "cell_type": "code",
      "metadata": {
        "colab": {
          "base_uri": "https://localhost:8080/",
          "height": 551
        },
        "id": "FZeLsM3ORm0_",
        "outputId": "f1d6c21e-3eb1-47c5-dc9a-3cbcbd1b1ed7"
      },
      "source": [
        "song1= df.groupby(['year'])\n",
        "song1.describe()"
      ],
      "execution_count": null,
      "outputs": [
        {
          "output_type": "execute_result",
          "data": {
            "text/html": [
              "<div>\n",
              "<style scoped>\n",
              "    .dataframe tbody tr th:only-of-type {\n",
              "        vertical-align: middle;\n",
              "    }\n",
              "\n",
              "    .dataframe tbody tr th {\n",
              "        vertical-align: top;\n",
              "    }\n",
              "\n",
              "    .dataframe thead tr th {\n",
              "        text-align: left;\n",
              "    }\n",
              "\n",
              "    .dataframe thead tr:last-of-type th {\n",
              "        text-align: right;\n",
              "    }\n",
              "</style>\n",
              "<table border=\"1\" class=\"dataframe\">\n",
              "  <thead>\n",
              "    <tr>\n",
              "      <th></th>\n",
              "      <th colspan=\"8\" halign=\"left\">no</th>\n",
              "      <th colspan=\"8\" halign=\"left\">rank</th>\n",
              "    </tr>\n",
              "    <tr>\n",
              "      <th></th>\n",
              "      <th>count</th>\n",
              "      <th>mean</th>\n",
              "      <th>std</th>\n",
              "      <th>min</th>\n",
              "      <th>25%</th>\n",
              "      <th>50%</th>\n",
              "      <th>75%</th>\n",
              "      <th>max</th>\n",
              "      <th>count</th>\n",
              "      <th>mean</th>\n",
              "      <th>std</th>\n",
              "      <th>min</th>\n",
              "      <th>25%</th>\n",
              "      <th>50%</th>\n",
              "      <th>75%</th>\n",
              "      <th>max</th>\n",
              "    </tr>\n",
              "    <tr>\n",
              "      <th>year</th>\n",
              "      <th></th>\n",
              "      <th></th>\n",
              "      <th></th>\n",
              "      <th></th>\n",
              "      <th></th>\n",
              "      <th></th>\n",
              "      <th></th>\n",
              "      <th></th>\n",
              "      <th></th>\n",
              "      <th></th>\n",
              "      <th></th>\n",
              "      <th></th>\n",
              "      <th></th>\n",
              "      <th></th>\n",
              "      <th></th>\n",
              "      <th></th>\n",
              "    </tr>\n",
              "  </thead>\n",
              "  <tbody>\n",
              "    <tr>\n",
              "      <th>2006</th>\n",
              "      <td>100.0</td>\n",
              "      <td>49.5</td>\n",
              "      <td>29.011492</td>\n",
              "      <td>0.0</td>\n",
              "      <td>24.75</td>\n",
              "      <td>49.5</td>\n",
              "      <td>74.25</td>\n",
              "      <td>99.0</td>\n",
              "      <td>100.0</td>\n",
              "      <td>50.500000</td>\n",
              "      <td>29.011492</td>\n",
              "      <td>1.0</td>\n",
              "      <td>25.75</td>\n",
              "      <td>50.5</td>\n",
              "      <td>75.25</td>\n",
              "      <td>100.0</td>\n",
              "    </tr>\n",
              "    <tr>\n",
              "      <th>2007</th>\n",
              "      <td>100.0</td>\n",
              "      <td>149.5</td>\n",
              "      <td>29.011492</td>\n",
              "      <td>100.0</td>\n",
              "      <td>124.75</td>\n",
              "      <td>149.5</td>\n",
              "      <td>174.25</td>\n",
              "      <td>199.0</td>\n",
              "      <td>100.0</td>\n",
              "      <td>50.500000</td>\n",
              "      <td>29.011492</td>\n",
              "      <td>1.0</td>\n",
              "      <td>25.75</td>\n",
              "      <td>50.5</td>\n",
              "      <td>75.25</td>\n",
              "      <td>100.0</td>\n",
              "    </tr>\n",
              "    <tr>\n",
              "      <th>2008</th>\n",
              "      <td>100.0</td>\n",
              "      <td>249.5</td>\n",
              "      <td>29.011492</td>\n",
              "      <td>200.0</td>\n",
              "      <td>224.75</td>\n",
              "      <td>249.5</td>\n",
              "      <td>274.25</td>\n",
              "      <td>299.0</td>\n",
              "      <td>100.0</td>\n",
              "      <td>50.500000</td>\n",
              "      <td>29.011492</td>\n",
              "      <td>1.0</td>\n",
              "      <td>25.75</td>\n",
              "      <td>50.5</td>\n",
              "      <td>75.25</td>\n",
              "      <td>100.0</td>\n",
              "    </tr>\n",
              "    <tr>\n",
              "      <th>2009</th>\n",
              "      <td>100.0</td>\n",
              "      <td>349.5</td>\n",
              "      <td>29.011492</td>\n",
              "      <td>300.0</td>\n",
              "      <td>324.75</td>\n",
              "      <td>349.5</td>\n",
              "      <td>374.25</td>\n",
              "      <td>399.0</td>\n",
              "      <td>100.0</td>\n",
              "      <td>50.500000</td>\n",
              "      <td>29.011492</td>\n",
              "      <td>1.0</td>\n",
              "      <td>25.75</td>\n",
              "      <td>50.5</td>\n",
              "      <td>75.25</td>\n",
              "      <td>100.0</td>\n",
              "    </tr>\n",
              "    <tr>\n",
              "      <th>2010</th>\n",
              "      <td>100.0</td>\n",
              "      <td>449.5</td>\n",
              "      <td>29.011492</td>\n",
              "      <td>400.0</td>\n",
              "      <td>424.75</td>\n",
              "      <td>449.5</td>\n",
              "      <td>474.25</td>\n",
              "      <td>499.0</td>\n",
              "      <td>100.0</td>\n",
              "      <td>50.500000</td>\n",
              "      <td>29.011492</td>\n",
              "      <td>1.0</td>\n",
              "      <td>25.75</td>\n",
              "      <td>50.5</td>\n",
              "      <td>75.25</td>\n",
              "      <td>100.0</td>\n",
              "    </tr>\n",
              "    <tr>\n",
              "      <th>2011</th>\n",
              "      <td>99.0</td>\n",
              "      <td>549.0</td>\n",
              "      <td>28.722813</td>\n",
              "      <td>500.0</td>\n",
              "      <td>524.50</td>\n",
              "      <td>549.0</td>\n",
              "      <td>573.50</td>\n",
              "      <td>598.0</td>\n",
              "      <td>99.0</td>\n",
              "      <td>50.939394</td>\n",
              "      <td>28.822758</td>\n",
              "      <td>1.0</td>\n",
              "      <td>26.50</td>\n",
              "      <td>51.0</td>\n",
              "      <td>75.50</td>\n",
              "      <td>100.0</td>\n",
              "    </tr>\n",
              "    <tr>\n",
              "      <th>2012</th>\n",
              "      <td>100.0</td>\n",
              "      <td>648.5</td>\n",
              "      <td>29.011492</td>\n",
              "      <td>599.0</td>\n",
              "      <td>623.75</td>\n",
              "      <td>648.5</td>\n",
              "      <td>673.25</td>\n",
              "      <td>698.0</td>\n",
              "      <td>100.0</td>\n",
              "      <td>50.500000</td>\n",
              "      <td>29.011492</td>\n",
              "      <td>1.0</td>\n",
              "      <td>25.75</td>\n",
              "      <td>50.5</td>\n",
              "      <td>75.25</td>\n",
              "      <td>100.0</td>\n",
              "    </tr>\n",
              "    <tr>\n",
              "      <th>2013</th>\n",
              "      <td>100.0</td>\n",
              "      <td>748.5</td>\n",
              "      <td>29.011492</td>\n",
              "      <td>699.0</td>\n",
              "      <td>723.75</td>\n",
              "      <td>748.5</td>\n",
              "      <td>773.25</td>\n",
              "      <td>798.0</td>\n",
              "      <td>100.0</td>\n",
              "      <td>50.500000</td>\n",
              "      <td>29.011492</td>\n",
              "      <td>1.0</td>\n",
              "      <td>25.75</td>\n",
              "      <td>50.5</td>\n",
              "      <td>75.25</td>\n",
              "      <td>100.0</td>\n",
              "    </tr>\n",
              "    <tr>\n",
              "      <th>2014</th>\n",
              "      <td>100.0</td>\n",
              "      <td>848.5</td>\n",
              "      <td>29.011492</td>\n",
              "      <td>799.0</td>\n",
              "      <td>823.75</td>\n",
              "      <td>848.5</td>\n",
              "      <td>873.25</td>\n",
              "      <td>898.0</td>\n",
              "      <td>100.0</td>\n",
              "      <td>50.500000</td>\n",
              "      <td>29.011492</td>\n",
              "      <td>1.0</td>\n",
              "      <td>25.75</td>\n",
              "      <td>50.5</td>\n",
              "      <td>75.25</td>\n",
              "      <td>100.0</td>\n",
              "    </tr>\n",
              "    <tr>\n",
              "      <th>2015</th>\n",
              "      <td>100.0</td>\n",
              "      <td>948.5</td>\n",
              "      <td>29.011492</td>\n",
              "      <td>899.0</td>\n",
              "      <td>923.75</td>\n",
              "      <td>948.5</td>\n",
              "      <td>973.25</td>\n",
              "      <td>998.0</td>\n",
              "      <td>100.0</td>\n",
              "      <td>50.500000</td>\n",
              "      <td>29.011492</td>\n",
              "      <td>1.0</td>\n",
              "      <td>25.75</td>\n",
              "      <td>50.5</td>\n",
              "      <td>75.25</td>\n",
              "      <td>100.0</td>\n",
              "    </tr>\n",
              "    <tr>\n",
              "      <th>2016</th>\n",
              "      <td>99.0</td>\n",
              "      <td>1048.0</td>\n",
              "      <td>28.722813</td>\n",
              "      <td>999.0</td>\n",
              "      <td>1023.50</td>\n",
              "      <td>1048.0</td>\n",
              "      <td>1072.50</td>\n",
              "      <td>1097.0</td>\n",
              "      <td>99.0</td>\n",
              "      <td>50.131313</td>\n",
              "      <td>28.922714</td>\n",
              "      <td>1.0</td>\n",
              "      <td>25.50</td>\n",
              "      <td>50.0</td>\n",
              "      <td>74.50</td>\n",
              "      <td>100.0</td>\n",
              "    </tr>\n",
              "    <tr>\n",
              "      <th>2017</th>\n",
              "      <td>100.0</td>\n",
              "      <td>1147.5</td>\n",
              "      <td>29.011492</td>\n",
              "      <td>1098.0</td>\n",
              "      <td>1122.75</td>\n",
              "      <td>1147.5</td>\n",
              "      <td>1172.25</td>\n",
              "      <td>1197.0</td>\n",
              "      <td>100.0</td>\n",
              "      <td>50.500000</td>\n",
              "      <td>29.011492</td>\n",
              "      <td>1.0</td>\n",
              "      <td>25.75</td>\n",
              "      <td>50.5</td>\n",
              "      <td>75.25</td>\n",
              "      <td>100.0</td>\n",
              "    </tr>\n",
              "    <tr>\n",
              "      <th>2018</th>\n",
              "      <td>100.0</td>\n",
              "      <td>1247.5</td>\n",
              "      <td>29.011492</td>\n",
              "      <td>1198.0</td>\n",
              "      <td>1222.75</td>\n",
              "      <td>1247.5</td>\n",
              "      <td>1272.25</td>\n",
              "      <td>1297.0</td>\n",
              "      <td>100.0</td>\n",
              "      <td>50.500000</td>\n",
              "      <td>29.011492</td>\n",
              "      <td>1.0</td>\n",
              "      <td>25.75</td>\n",
              "      <td>50.5</td>\n",
              "      <td>75.25</td>\n",
              "      <td>100.0</td>\n",
              "    </tr>\n",
              "    <tr>\n",
              "      <th>2019</th>\n",
              "      <td>100.0</td>\n",
              "      <td>1347.5</td>\n",
              "      <td>29.011492</td>\n",
              "      <td>1298.0</td>\n",
              "      <td>1322.75</td>\n",
              "      <td>1347.5</td>\n",
              "      <td>1372.25</td>\n",
              "      <td>1397.0</td>\n",
              "      <td>100.0</td>\n",
              "      <td>50.500000</td>\n",
              "      <td>29.011492</td>\n",
              "      <td>1.0</td>\n",
              "      <td>25.75</td>\n",
              "      <td>50.5</td>\n",
              "      <td>75.25</td>\n",
              "      <td>100.0</td>\n",
              "    </tr>\n",
              "  </tbody>\n",
              "</table>\n",
              "</div>"
            ],
            "text/plain": [
              "         no                                                               \\\n",
              "      count    mean        std     min      25%     50%      75%     max   \n",
              "year                                                                       \n",
              "2006  100.0    49.5  29.011492     0.0    24.75    49.5    74.25    99.0   \n",
              "2007  100.0   149.5  29.011492   100.0   124.75   149.5   174.25   199.0   \n",
              "2008  100.0   249.5  29.011492   200.0   224.75   249.5   274.25   299.0   \n",
              "2009  100.0   349.5  29.011492   300.0   324.75   349.5   374.25   399.0   \n",
              "2010  100.0   449.5  29.011492   400.0   424.75   449.5   474.25   499.0   \n",
              "2011   99.0   549.0  28.722813   500.0   524.50   549.0   573.50   598.0   \n",
              "2012  100.0   648.5  29.011492   599.0   623.75   648.5   673.25   698.0   \n",
              "2013  100.0   748.5  29.011492   699.0   723.75   748.5   773.25   798.0   \n",
              "2014  100.0   848.5  29.011492   799.0   823.75   848.5   873.25   898.0   \n",
              "2015  100.0   948.5  29.011492   899.0   923.75   948.5   973.25   998.0   \n",
              "2016   99.0  1048.0  28.722813   999.0  1023.50  1048.0  1072.50  1097.0   \n",
              "2017  100.0  1147.5  29.011492  1098.0  1122.75  1147.5  1172.25  1197.0   \n",
              "2018  100.0  1247.5  29.011492  1198.0  1222.75  1247.5  1272.25  1297.0   \n",
              "2019  100.0  1347.5  29.011492  1298.0  1322.75  1347.5  1372.25  1397.0   \n",
              "\n",
              "       rank                                                        \n",
              "      count       mean        std  min    25%   50%    75%    max  \n",
              "year                                                               \n",
              "2006  100.0  50.500000  29.011492  1.0  25.75  50.5  75.25  100.0  \n",
              "2007  100.0  50.500000  29.011492  1.0  25.75  50.5  75.25  100.0  \n",
              "2008  100.0  50.500000  29.011492  1.0  25.75  50.5  75.25  100.0  \n",
              "2009  100.0  50.500000  29.011492  1.0  25.75  50.5  75.25  100.0  \n",
              "2010  100.0  50.500000  29.011492  1.0  25.75  50.5  75.25  100.0  \n",
              "2011   99.0  50.939394  28.822758  1.0  26.50  51.0  75.50  100.0  \n",
              "2012  100.0  50.500000  29.011492  1.0  25.75  50.5  75.25  100.0  \n",
              "2013  100.0  50.500000  29.011492  1.0  25.75  50.5  75.25  100.0  \n",
              "2014  100.0  50.500000  29.011492  1.0  25.75  50.5  75.25  100.0  \n",
              "2015  100.0  50.500000  29.011492  1.0  25.75  50.5  75.25  100.0  \n",
              "2016   99.0  50.131313  28.922714  1.0  25.50  50.0  74.50  100.0  \n",
              "2017  100.0  50.500000  29.011492  1.0  25.75  50.5  75.25  100.0  \n",
              "2018  100.0  50.500000  29.011492  1.0  25.75  50.5  75.25  100.0  \n",
              "2019  100.0  50.500000  29.011492  1.0  25.75  50.5  75.25  100.0  "
            ]
          },
          "metadata": {
            "tags": []
          },
          "execution_count": 47
        }
      ]
    },
    {
      "cell_type": "markdown",
      "metadata": {
        "id": "vbWspLBd06_h"
      },
      "source": [
        "**Judul lagu dengan nomor urut terbesar pada dataset**\n",
        "\n",
        "Dapat dilihat pada tabel dibawah ini merupakan data dengan nomor urut terbesar. Hal ini dapat dilakukan ketika ingin mencari berapakah nomor urut lagu terbesar dengan nilai . "
      ]
    },
    {
      "cell_type": "code",
      "metadata": {
        "colab": {
          "base_uri": "https://localhost:8080/",
          "height": 81
        },
        "id": "o2u076xO1HRP",
        "outputId": "4936dcb7-f803-48a9-9782-e160d4c6ccbd"
      },
      "source": [
        "df[df.no == max(df.no)]"
      ],
      "execution_count": null,
      "outputs": [
        {
          "output_type": "execute_result",
          "data": {
            "text/html": [
              "<div>\n",
              "<style scoped>\n",
              "    .dataframe tbody tr th:only-of-type {\n",
              "        vertical-align: middle;\n",
              "    }\n",
              "\n",
              "    .dataframe tbody tr th {\n",
              "        vertical-align: top;\n",
              "    }\n",
              "\n",
              "    .dataframe thead th {\n",
              "        text-align: right;\n",
              "    }\n",
              "</style>\n",
              "<table border=\"1\" class=\"dataframe\">\n",
              "  <thead>\n",
              "    <tr style=\"text-align: right;\">\n",
              "      <th></th>\n",
              "      <th>no</th>\n",
              "      <th>title</th>\n",
              "      <th>artist</th>\n",
              "      <th>image</th>\n",
              "      <th>rank</th>\n",
              "      <th>year</th>\n",
              "    </tr>\n",
              "  </thead>\n",
              "  <tbody>\n",
              "    <tr>\n",
              "      <th>1397</th>\n",
              "      <td>1397</td>\n",
              "      <td>Robbery</td>\n",
              "      <td>Juice WRLD</td>\n",
              "      <td>https://charts-static.billboard.com/img/2019/0...</td>\n",
              "      <td>100</td>\n",
              "      <td>2019</td>\n",
              "    </tr>\n",
              "  </tbody>\n",
              "</table>\n",
              "</div>"
            ],
            "text/plain": [
              "        no    title      artist  \\\n",
              "1397  1397  Robbery  Juice WRLD   \n",
              "\n",
              "                                                  image  rank  year  \n",
              "1397  https://charts-static.billboard.com/img/2019/0...   100  2019  "
            ]
          },
          "metadata": {
            "tags": []
          },
          "execution_count": 10
        }
      ]
    },
    {
      "cell_type": "markdown",
      "metadata": {
        "id": "6QIzIlUpUJIF"
      },
      "source": [
        "**Top 20 Judul Lagu Dari Tahun Terbaru**\n",
        "\n",
        "Berdasarkan grafik dibawah dapat mengetahui top 20 judul lagu yang paling baru dari data Top 100 Songs Billboard"
      ]
    },
    {
      "cell_type": "code",
      "metadata": {
        "colab": {
          "base_uri": "https://localhost:8080/",
          "height": 525
        },
        "id": "RwISEZcxUTKF",
        "outputId": "a59ff182-352c-426c-cc38-9858c5f59382"
      },
      "source": [
        "df[[\"title\",\"year\"]].nlargest(20,\"year\").plot.bar(x=\"title\",y=\"year\",width=0.4,)#'vertical', 'horizontal',color=color\n",
        "plt.title(\"Top 20 Songs with the recent year\",fontsize=20)\n",
        "plt.xlabel(\"Name of Song\",fontsize=15)\n",
        "plt.ylabel(\"Year\",fontsize=15)\n",
        "plt.show()"
      ],
      "execution_count": null,
      "outputs": [
        {
          "output_type": "display_data",
          "data": {
            "image/png": "[encoded data removed]",
            "text/plain": [
              "<Figure size 432x288 with 1 Axes>"
            ]
          },
          "metadata": {
            "tags": [],
            "needs_background": "light"
          }
        }
      ]
    },
    {
      "cell_type": "markdown",
      "metadata": {
        "id": "4iQ_moLY2srg"
      },
      "source": [
        "\n",
        "**Melihat Jumlah lagu Berdasarkan tahun**\n",
        "\n",
        "Dapat kita lihat bahwa jumlah judul lagu dengan pada tahun selain 2016 dan 2011 memiliki 100 lagu."
      ]
    },
    {
      "cell_type": "code",
      "metadata": {
        "colab": {
          "base_uri": "https://localhost:8080/"
        },
        "id": "Dhk3UmZS2tOr",
        "outputId": "a14e2aa1-3e90-41f7-b502-0db1312b02b8"
      },
      "source": [
        "df[\"year\"].value_counts()"
      ],
      "execution_count": null,
      "outputs": [
        {
          "output_type": "execute_result",
          "data": {
            "text/plain": [
              "2019    100\n",
              "2018    100\n",
              "2017    100\n",
              "2015    100\n",
              "2014    100\n",
              "2013    100\n",
              "2012    100\n",
              "2010    100\n",
              "2009    100\n",
              "2008    100\n",
              "2007    100\n",
              "2006    100\n",
              "2016     99\n",
              "2011     99\n",
              "Name: year, dtype: int64"
            ]
          },
          "metadata": {
            "tags": []
          },
          "execution_count": 7
        }
      ]
    },
    {
      "cell_type": "markdown",
      "metadata": {
        "id": "uCScosth49Hf"
      },
      "source": [
        "**Melakukan Pemodelan**"
      ]
    },
    {
      "cell_type": "code",
      "metadata": {
        "colab": {
          "base_uri": "https://localhost:8080/",
          "height": 206
        },
        "id": "yFjld6Oj4_f-",
        "outputId": "26c1f933-7e58-4818-ac38-869884bcf2cf"
      },
      "source": [
        "import pandas as pd\r\n",
        "lagu = pd.read_csv(url, error_bad_lines=False)\r\n",
        "lagu.head()"
      ],
      "execution_count": null,
      "outputs": [
        {
          "output_type": "execute_result",
          "data": {
            "text/html": [
              "<div>\n",
              "<style scoped>\n",
              "    .dataframe tbody tr th:only-of-type {\n",
              "        vertical-align: middle;\n",
              "    }\n",
              "\n",
              "    .dataframe tbody tr th {\n",
              "        vertical-align: top;\n",
              "    }\n",
              "\n",
              "    .dataframe thead th {\n",
              "        text-align: right;\n",
              "    }\n",
              "</style>\n",
              "<table border=\"1\" class=\"dataframe\">\n",
              "  <thead>\n",
              "    <tr style=\"text-align: right;\">\n",
              "      <th></th>\n",
              "      <th>no</th>\n",
              "      <th>title</th>\n",
              "      <th>artist</th>\n",
              "      <th>image</th>\n",
              "      <th>rank</th>\n",
              "      <th>year</th>\n",
              "    </tr>\n",
              "  </thead>\n",
              "  <tbody>\n",
              "    <tr>\n",
              "      <th>0</th>\n",
              "      <td>0</td>\n",
              "      <td>Bad Day</td>\n",
              "      <td>Daniel Powter</td>\n",
              "      <td>https://charts-static.billboard.com/img/1840/1...</td>\n",
              "      <td>1</td>\n",
              "      <td>2006</td>\n",
              "    </tr>\n",
              "    <tr>\n",
              "      <th>1</th>\n",
              "      <td>1</td>\n",
              "      <td>Temperature</td>\n",
              "      <td>Sean Paul</td>\n",
              "      <td>https://charts-static.billboard.com/img/2005/1...</td>\n",
              "      <td>2</td>\n",
              "      <td>2006</td>\n",
              "    </tr>\n",
              "    <tr>\n",
              "      <th>2</th>\n",
              "      <td>2</td>\n",
              "      <td>Promiscuous</td>\n",
              "      <td>Nelly Furtado Featuring Timbaland</td>\n",
              "      <td>https://charts-static.billboard.com/img/2006/0...</td>\n",
              "      <td>3</td>\n",
              "      <td>2006</td>\n",
              "    </tr>\n",
              "    <tr>\n",
              "      <th>3</th>\n",
              "      <td>3</td>\n",
              "      <td>You're Beautiful</td>\n",
              "      <td>James Blunt</td>\n",
              "      <td>https://charts-static.billboard.com/img/2005/0...</td>\n",
              "      <td>4</td>\n",
              "      <td>2006</td>\n",
              "    </tr>\n",
              "    <tr>\n",
              "      <th>4</th>\n",
              "      <td>4</td>\n",
              "      <td>Hips Don't Lie</td>\n",
              "      <td>Shakira Featuring Wyclef Jean</td>\n",
              "      <td>https://charts-static.billboard.com/img/2006/0...</td>\n",
              "      <td>5</td>\n",
              "      <td>2006</td>\n",
              "    </tr>\n",
              "  </tbody>\n",
              "</table>\n",
              "</div>"
            ],
            "text/plain": [
              "   no             title                             artist  \\\n",
              "0   0           Bad Day                      Daniel Powter   \n",
              "1   1       Temperature                          Sean Paul   \n",
              "2   2       Promiscuous  Nelly Furtado Featuring Timbaland   \n",
              "3   3  You're Beautiful                        James Blunt   \n",
              "4   4    Hips Don't Lie      Shakira Featuring Wyclef Jean   \n",
              "\n",
              "                                               image  rank  year  \n",
              "0  https://charts-static.billboard.com/img/1840/1...     1  2006  \n",
              "1  https://charts-static.billboard.com/img/2005/1...     2  2006  \n",
              "2  https://charts-static.billboard.com/img/2006/0...     3  2006  \n",
              "3  https://charts-static.billboard.com/img/2005/0...     4  2006  \n",
              "4  https://charts-static.billboard.com/img/2006/0...     5  2006  "
            ]
          },
          "metadata": {
            "tags": []
          },
          "execution_count": 64
        }
      ]
    },
    {
      "cell_type": "code",
      "metadata": {
        "colab": {
          "base_uri": "https://localhost:8080/"
        },
        "id": "YU6uhmN55RRu",
        "outputId": "c1e97d12-dfd4-4a85-d5f8-c722c4816f50"
      },
      "source": [
        "lagu.info()"
      ],
      "execution_count": null,
      "outputs": [
        {
          "output_type": "stream",
          "text": [
            "<class 'pandas.core.frame.DataFrame'>\n",
            "RangeIndex: 1398 entries, 0 to 1397\n",
            "Data columns (total 6 columns):\n",
            " #   Column  Non-Null Count  Dtype \n",
            "---  ------  --------------  ----- \n",
            " 0   no      1398 non-null   int64 \n",
            " 1   title   1398 non-null   object\n",
            " 2   artist  1398 non-null   object\n",
            " 3   image   1398 non-null   object\n",
            " 4   rank    1398 non-null   int64 \n",
            " 5   year    1398 non-null   int64 \n",
            "dtypes: int64(3), object(3)\n",
            "memory usage: 65.7+ KB\n"
          ],
          "name": "stdout"
        }
      ]
    },
    {
      "cell_type": "code",
      "metadata": {
        "colab": {
          "base_uri": "https://localhost:8080/",
          "height": 206
        },
        "id": "sGrLC-mR5UA-",
        "outputId": "d73e3b97-36c2-438a-baf3-5307206f0029"
      },
      "source": [
        "lagu_x = lagu.iloc[:, 5:7]\r\n",
        "lagu_x.head()"
      ],
      "execution_count": null,
      "outputs": [
        {
          "output_type": "execute_result",
          "data": {
            "text/html": [
              "<div>\n",
              "<style scoped>\n",
              "    .dataframe tbody tr th:only-of-type {\n",
              "        vertical-align: middle;\n",
              "    }\n",
              "\n",
              "    .dataframe tbody tr th {\n",
              "        vertical-align: top;\n",
              "    }\n",
              "\n",
              "    .dataframe thead th {\n",
              "        text-align: right;\n",
              "    }\n",
              "</style>\n",
              "<table border=\"1\" class=\"dataframe\">\n",
              "  <thead>\n",
              "    <tr style=\"text-align: right;\">\n",
              "      <th></th>\n",
              "      <th>year</th>\n",
              "    </tr>\n",
              "  </thead>\n",
              "  <tbody>\n",
              "    <tr>\n",
              "      <th>0</th>\n",
              "      <td>2006</td>\n",
              "    </tr>\n",
              "    <tr>\n",
              "      <th>1</th>\n",
              "      <td>2006</td>\n",
              "    </tr>\n",
              "    <tr>\n",
              "      <th>2</th>\n",
              "      <td>2006</td>\n",
              "    </tr>\n",
              "    <tr>\n",
              "      <th>3</th>\n",
              "      <td>2006</td>\n",
              "    </tr>\n",
              "    <tr>\n",
              "      <th>4</th>\n",
              "      <td>2006</td>\n",
              "    </tr>\n",
              "  </tbody>\n",
              "</table>\n",
              "</div>"
            ],
            "text/plain": [
              "   year\n",
              "0  2006\n",
              "1  2006\n",
              "2  2006\n",
              "3  2006\n",
              "4  2006"
            ]
          },
          "metadata": {
            "tags": []
          },
          "execution_count": 66
        }
      ]
    },
    {
      "cell_type": "code",
      "metadata": {
        "id": "CMZnCjIc5tpo"
      },
      "source": [
        "from sklearn.cluster import KMeans\r\n",
        "import numpy as np"
      ],
      "execution_count": null,
      "outputs": []
    },
    {
      "cell_type": "markdown",
      "metadata": {
        "id": "ATaeJxVFcrk0"
      },
      "source": [
        "**Menggunakan Metode Elbow**\r\n",
        "\r\n",
        "*  Pengelompokan menggunakan metode Elbow untuk mengetahui jumlah cluster yang  optimal. Untuk mendapatkan nilai yang digunakan dalam grafik, beberapa model menggunakan jumlah cluster yang berbeda dan menyimpan nilai intertia_properti (WCSS) setiap saat.\r\n",
        "\r\n",
        "*  WCSS didefinisikan sebagai jumlah jarak kuadrat antara setiap anggota cluster dan pusatnya.\r\n"
      ]
    },
    {
      "cell_type": "code",
      "metadata": {
        "colab": {
          "base_uri": "https://localhost:8080/",
          "height": 301
        },
        "id": "P-0ti-7e5ytU",
        "outputId": "73433bf2-bb6e-42d9-bfbe-cce9ae2d5c6d"
      },
      "source": [
        "\r\n",
        "import matplotlib.pyplot as plt\r\n",
        "from sklearn.cluster import KMeans\r\n",
        "wcss = []\r\n",
        "for i in range(1, 11):\r\n",
        "    kmeans = KMeans(n_clusters = i, init = 'k-means++', random_state = 42)\r\n",
        "    kmeans.fit(lagu_x)\r\n",
        "    wcss.append(kmeans.inertia_)\r\n",
        "plt.plot(range(1, 11), wcss)\r\n",
        "plt.title('Metode Elbow')\r\n",
        "plt.xlabel('Jumlah clusters')\r\n",
        "plt.ylabel('WCSS')\r\n",
        "plt.show()"
      ],
      "execution_count": null,
      "outputs": [
        {
          "output_type": "display_data",
          "data": {
            "image/png": "[encoded data removed]",
            "text/plain": [
              "<Figure size 432x288 with 1 Axes>"
            ]
          },
          "metadata": {
            "tags": []
          }
        }
      ]
    },
    {
      "cell_type": "code",
      "metadata": {
        "id": "Z_PV58-kCzR3"
      },
      "source": [
        "# Menjalankan K-Means Clustering ke dataset\r\n",
        "kmeans = KMeans(n_clusters = 5, init = 'k-means++', random_state = 42)\r\n",
        "y_kmeans = kmeans.fit_predict(lagu_x)"
      ],
      "execution_count": null,
      "outputs": []
    },
    {
      "cell_type": "code",
      "metadata": {
        "colab": {
          "base_uri": "https://localhost:8080/"
        },
        "id": "z_C3l4GlILZQ",
        "outputId": "76a41072-0484-4e33-c299-b40d350e496c"
      },
      "source": [
        "print(kmeans.cluster_centers_)"
      ],
      "execution_count": null,
      "outputs": [
        {
          "output_type": "stream",
          "text": [
            "[[2009.        ]\n",
            " [2014.99665552]\n",
            " [2018.        ]\n",
            " [2012.00334448]\n",
            " [2006.5       ]]\n"
          ],
          "name": "stdout"
        }
      ]
    },
    {
      "cell_type": "code",
      "metadata": {
        "id": "CuJG4er2IPdz"
      },
      "source": [
        "from sklearn.preprocessing import MinMaxScaler"
      ],
      "execution_count": null,
      "outputs": []
    },
    {
      "cell_type": "code",
      "metadata": {
        "colab": {
          "base_uri": "https://localhost:8080/"
        },
        "id": "YzOp2jkUIR7i",
        "outputId": "35dfb1b1-3f7d-4a47-aea7-9e6a3053c373"
      },
      "source": [
        "x_array =  np.array(lagu_x)\r\n",
        "print(x_array)"
      ],
      "execution_count": null,
      "outputs": [
        {
          "output_type": "stream",
          "text": [
            "[[2006]\n",
            " [2006]\n",
            " [2006]\n",
            " ...\n",
            " [2019]\n",
            " [2019]\n",
            " [2019]]\n"
          ],
          "name": "stdout"
        }
      ]
    },
    {
      "cell_type": "code",
      "metadata": {
        "colab": {
          "base_uri": "https://localhost:8080/"
        },
        "id": "A7M6V2AFIXgE",
        "outputId": "50ddc63a-34a2-4dbc-ac2d-5f8a76ba7dfd"
      },
      "source": [
        "scaler = MinMaxScaler()\r\n",
        "x_scaled = scaler.fit_transform(x_array)\r\n",
        "x_scaled"
      ],
      "execution_count": null,
      "outputs": [
        {
          "output_type": "execute_result",
          "data": {
            "text/plain": [
              "array([[0.],\n",
              "       [0.],\n",
              "       [0.],\n",
              "       ...,\n",
              "       [1.],\n",
              "       [1.],\n",
              "       [1.]])"
            ]
          },
          "metadata": {
            "tags": []
          },
          "execution_count": 73
        }
      ]
    },
    {
      "cell_type": "code",
      "metadata": {
        "colab": {
          "base_uri": "https://localhost:8080/"
        },
        "id": "-wPceKSSIbfs",
        "outputId": "0f386082-840e-466b-9e49-35fc7bda92a0"
      },
      "source": [
        "# Menentukan dan mengkonfigurasi fungsi kmeans\r\n",
        "kmeans = KMeans(n_clusters = 5, random_state=123)\r\n",
        "# Menentukan kluster dari data\r\n",
        "kmeans.fit(x_scaled)"
      ],
      "execution_count": null,
      "outputs": [
        {
          "output_type": "execute_result",
          "data": {
            "text/plain": [
              "KMeans(algorithm='auto', copy_x=True, init='k-means++', max_iter=300,\n",
              "       n_clusters=5, n_init=10, n_jobs=None, precompute_distances='auto',\n",
              "       random_state=123, tol=0.0001, verbose=0)"
            ]
          },
          "metadata": {
            "tags": []
          },
          "execution_count": 74
        }
      ]
    },
    {
      "cell_type": "code",
      "metadata": {
        "colab": {
          "base_uri": "https://localhost:8080/"
        },
        "id": "8TOwfmnEIgOW",
        "outputId": "4c794912-613e-4657-ec1e-275b678bc1d1"
      },
      "source": [
        "print(kmeans.cluster_centers_)"
      ],
      "execution_count": null,
      "outputs": [
        {
          "output_type": "stream",
          "text": [
            "[[0.46179573]\n",
            " [0.92307692]\n",
            " [0.23076923]\n",
            " [0.69205042]\n",
            " [0.03846154]]\n"
          ],
          "name": "stdout"
        }
      ]
    },
    {
      "cell_type": "markdown",
      "metadata": {
        "id": "orRFK9s8IvOD"
      },
      "source": [
        "**Menampilkan hasil kluster dan Menambahkan kolom \"Cluster\" dalam data frame**\r\n",
        "\r\n",
        "Dapat dilihat bahwa terdapat 4 cluster pada data set yaitu dimulai angka 1 hingga angka 4"
      ]
    },
    {
      "cell_type": "code",
      "metadata": {
        "colab": {
          "base_uri": "https://localhost:8080/",
          "height": 224
        },
        "id": "J8XSbnI5Ii-B",
        "outputId": "be382083-a31d-41f0-cdc3-c427ac5cfc5b"
      },
      "source": [
        "\r\n",
        "print(kmeans.labels_)\r\n",
        "lagu[\"cluster\"] = kmeans.labels_\r\n",
        "lagu.head()"
      ],
      "execution_count": null,
      "outputs": [
        {
          "output_type": "stream",
          "text": [
            "[4 4 4 ... 1 1 1]\n"
          ],
          "name": "stdout"
        },
        {
          "output_type": "execute_result",
          "data": {
            "text/html": [
              "<div>\n",
              "<style scoped>\n",
              "    .dataframe tbody tr th:only-of-type {\n",
              "        vertical-align: middle;\n",
              "    }\n",
              "\n",
              "    .dataframe tbody tr th {\n",
              "        vertical-align: top;\n",
              "    }\n",
              "\n",
              "    .dataframe thead th {\n",
              "        text-align: right;\n",
              "    }\n",
              "</style>\n",
              "<table border=\"1\" class=\"dataframe\">\n",
              "  <thead>\n",
              "    <tr style=\"text-align: right;\">\n",
              "      <th></th>\n",
              "      <th>no</th>\n",
              "      <th>title</th>\n",
              "      <th>artist</th>\n",
              "      <th>image</th>\n",
              "      <th>rank</th>\n",
              "      <th>year</th>\n",
              "      <th>cluster</th>\n",
              "    </tr>\n",
              "  </thead>\n",
              "  <tbody>\n",
              "    <tr>\n",
              "      <th>0</th>\n",
              "      <td>0</td>\n",
              "      <td>Bad Day</td>\n",
              "      <td>Daniel Powter</td>\n",
              "      <td>https://charts-static.billboard.com/img/1840/1...</td>\n",
              "      <td>1</td>\n",
              "      <td>2006</td>\n",
              "      <td>4</td>\n",
              "    </tr>\n",
              "    <tr>\n",
              "      <th>1</th>\n",
              "      <td>1</td>\n",
              "      <td>Temperature</td>\n",
              "      <td>Sean Paul</td>\n",
              "      <td>https://charts-static.billboard.com/img/2005/1...</td>\n",
              "      <td>2</td>\n",
              "      <td>2006</td>\n",
              "      <td>4</td>\n",
              "    </tr>\n",
              "    <tr>\n",
              "      <th>2</th>\n",
              "      <td>2</td>\n",
              "      <td>Promiscuous</td>\n",
              "      <td>Nelly Furtado Featuring Timbaland</td>\n",
              "      <td>https://charts-static.billboard.com/img/2006/0...</td>\n",
              "      <td>3</td>\n",
              "      <td>2006</td>\n",
              "      <td>4</td>\n",
              "    </tr>\n",
              "    <tr>\n",
              "      <th>3</th>\n",
              "      <td>3</td>\n",
              "      <td>You're Beautiful</td>\n",
              "      <td>James Blunt</td>\n",
              "      <td>https://charts-static.billboard.com/img/2005/0...</td>\n",
              "      <td>4</td>\n",
              "      <td>2006</td>\n",
              "      <td>4</td>\n",
              "    </tr>\n",
              "    <tr>\n",
              "      <th>4</th>\n",
              "      <td>4</td>\n",
              "      <td>Hips Don't Lie</td>\n",
              "      <td>Shakira Featuring Wyclef Jean</td>\n",
              "      <td>https://charts-static.billboard.com/img/2006/0...</td>\n",
              "      <td>5</td>\n",
              "      <td>2006</td>\n",
              "      <td>4</td>\n",
              "    </tr>\n",
              "  </tbody>\n",
              "</table>\n",
              "</div>"
            ],
            "text/plain": [
              "   no             title                             artist  \\\n",
              "0   0           Bad Day                      Daniel Powter   \n",
              "1   1       Temperature                          Sean Paul   \n",
              "2   2       Promiscuous  Nelly Furtado Featuring Timbaland   \n",
              "3   3  You're Beautiful                        James Blunt   \n",
              "4   4    Hips Don't Lie      Shakira Featuring Wyclef Jean   \n",
              "\n",
              "                                               image  rank  year  cluster  \n",
              "0  https://charts-static.billboard.com/img/1840/1...     1  2006        4  \n",
              "1  https://charts-static.billboard.com/img/2005/1...     2  2006        4  \n",
              "2  https://charts-static.billboard.com/img/2006/0...     3  2006        4  \n",
              "3  https://charts-static.billboard.com/img/2005/0...     4  2006        4  \n",
              "4  https://charts-static.billboard.com/img/2006/0...     5  2006        4  "
            ]
          },
          "metadata": {
            "tags": []
          },
          "execution_count": 76
        }
      ]
    },
    {
      "cell_type": "code",
      "metadata": {
        "colab": {
          "base_uri": "https://localhost:8080/",
          "height": 424
        },
        "id": "Hben1WIMI7Oc",
        "outputId": "4f104580-952e-4d46-b5df-3b0903b1afaa"
      },
      "source": [
        "lagu.head(1000)"
      ],
      "execution_count": null,
      "outputs": [
        {
          "output_type": "execute_result",
          "data": {
            "text/html": [
              "<div>\n",
              "<style scoped>\n",
              "    .dataframe tbody tr th:only-of-type {\n",
              "        vertical-align: middle;\n",
              "    }\n",
              "\n",
              "    .dataframe tbody tr th {\n",
              "        vertical-align: top;\n",
              "    }\n",
              "\n",
              "    .dataframe thead th {\n",
              "        text-align: right;\n",
              "    }\n",
              "</style>\n",
              "<table border=\"1\" class=\"dataframe\">\n",
              "  <thead>\n",
              "    <tr style=\"text-align: right;\">\n",
              "      <th></th>\n",
              "      <th>no</th>\n",
              "      <th>title</th>\n",
              "      <th>artist</th>\n",
              "      <th>image</th>\n",
              "      <th>rank</th>\n",
              "      <th>year</th>\n",
              "      <th>cluster</th>\n",
              "    </tr>\n",
              "  </thead>\n",
              "  <tbody>\n",
              "    <tr>\n",
              "      <th>0</th>\n",
              "      <td>0</td>\n",
              "      <td>Bad Day</td>\n",
              "      <td>Daniel Powter</td>\n",
              "      <td>https://charts-static.billboard.com/img/1840/1...</td>\n",
              "      <td>1</td>\n",
              "      <td>2006</td>\n",
              "      <td>4</td>\n",
              "    </tr>\n",
              "    <tr>\n",
              "      <th>1</th>\n",
              "      <td>1</td>\n",
              "      <td>Temperature</td>\n",
              "      <td>Sean Paul</td>\n",
              "      <td>https://charts-static.billboard.com/img/2005/1...</td>\n",
              "      <td>2</td>\n",
              "      <td>2006</td>\n",
              "      <td>4</td>\n",
              "    </tr>\n",
              "    <tr>\n",
              "      <th>2</th>\n",
              "      <td>2</td>\n",
              "      <td>Promiscuous</td>\n",
              "      <td>Nelly Furtado Featuring Timbaland</td>\n",
              "      <td>https://charts-static.billboard.com/img/2006/0...</td>\n",
              "      <td>3</td>\n",
              "      <td>2006</td>\n",
              "      <td>4</td>\n",
              "    </tr>\n",
              "    <tr>\n",
              "      <th>3</th>\n",
              "      <td>3</td>\n",
              "      <td>You're Beautiful</td>\n",
              "      <td>James Blunt</td>\n",
              "      <td>https://charts-static.billboard.com/img/2005/0...</td>\n",
              "      <td>4</td>\n",
              "      <td>2006</td>\n",
              "      <td>4</td>\n",
              "    </tr>\n",
              "    <tr>\n",
              "      <th>4</th>\n",
              "      <td>4</td>\n",
              "      <td>Hips Don't Lie</td>\n",
              "      <td>Shakira Featuring Wyclef Jean</td>\n",
              "      <td>https://charts-static.billboard.com/img/2006/0...</td>\n",
              "      <td>5</td>\n",
              "      <td>2006</td>\n",
              "      <td>4</td>\n",
              "    </tr>\n",
              "    <tr>\n",
              "      <th>...</th>\n",
              "      <td>...</td>\n",
              "      <td>...</td>\n",
              "      <td>...</td>\n",
              "      <td>...</td>\n",
              "      <td>...</td>\n",
              "      <td>...</td>\n",
              "      <td>...</td>\n",
              "    </tr>\n",
              "    <tr>\n",
              "      <th>995</th>\n",
              "      <td>995</td>\n",
              "      <td>She Knows</td>\n",
              "      <td>Ne-Yo Featuring Juicy J</td>\n",
              "      <td>https://charts-static.billboard.com/img/2014/1...</td>\n",
              "      <td>97</td>\n",
              "      <td>2015</td>\n",
              "      <td>3</td>\n",
              "    </tr>\n",
              "    <tr>\n",
              "      <th>996</th>\n",
              "      <td>996</td>\n",
              "      <td>Night Changes</td>\n",
              "      <td>One Direction</td>\n",
              "      <td>https://charts-static.billboard.com/img/2011/0...</td>\n",
              "      <td>98</td>\n",
              "      <td>2015</td>\n",
              "      <td>3</td>\n",
              "    </tr>\n",
              "    <tr>\n",
              "      <th>997</th>\n",
              "      <td>997</td>\n",
              "      <td>Back To Back</td>\n",
              "      <td>Drake</td>\n",
              "      <td>https://charts-static.billboard.com/img/2009/0...</td>\n",
              "      <td>99</td>\n",
              "      <td>2015</td>\n",
              "      <td>3</td>\n",
              "    </tr>\n",
              "    <tr>\n",
              "      <th>998</th>\n",
              "      <td>998</td>\n",
              "      <td>How Deep Is Your Love</td>\n",
              "      <td>Calvin Harris &amp; Disciples</td>\n",
              "      <td>https://charts-static.billboard.com/img/2015/0...</td>\n",
              "      <td>100</td>\n",
              "      <td>2015</td>\n",
              "      <td>3</td>\n",
              "    </tr>\n",
              "    <tr>\n",
              "      <th>999</th>\n",
              "      <td>999</td>\n",
              "      <td>Love Yourself</td>\n",
              "      <td>Justin Bieber</td>\n",
              "      <td>https://charts-static.billboard.com/img/2009/0...</td>\n",
              "      <td>1</td>\n",
              "      <td>2016</td>\n",
              "      <td>3</td>\n",
              "    </tr>\n",
              "  </tbody>\n",
              "</table>\n",
              "<p>1000 rows × 7 columns</p>\n",
              "</div>"
            ],
            "text/plain": [
              "      no                  title                             artist  \\\n",
              "0      0                Bad Day                      Daniel Powter   \n",
              "1      1            Temperature                          Sean Paul   \n",
              "2      2            Promiscuous  Nelly Furtado Featuring Timbaland   \n",
              "3      3       You're Beautiful                        James Blunt   \n",
              "4      4         Hips Don't Lie      Shakira Featuring Wyclef Jean   \n",
              "..   ...                    ...                                ...   \n",
              "995  995              She Knows            Ne-Yo Featuring Juicy J   \n",
              "996  996          Night Changes                      One Direction   \n",
              "997  997           Back To Back                              Drake   \n",
              "998  998  How Deep Is Your Love          Calvin Harris & Disciples   \n",
              "999  999          Love Yourself                      Justin Bieber   \n",
              "\n",
              "                                                 image  rank  year  cluster  \n",
              "0    https://charts-static.billboard.com/img/1840/1...     1  2006        4  \n",
              "1    https://charts-static.billboard.com/img/2005/1...     2  2006        4  \n",
              "2    https://charts-static.billboard.com/img/2006/0...     3  2006        4  \n",
              "3    https://charts-static.billboard.com/img/2005/0...     4  2006        4  \n",
              "4    https://charts-static.billboard.com/img/2006/0...     5  2006        4  \n",
              "..                                                 ...   ...   ...      ...  \n",
              "995  https://charts-static.billboard.com/img/2014/1...    97  2015        3  \n",
              "996  https://charts-static.billboard.com/img/2011/0...    98  2015        3  \n",
              "997  https://charts-static.billboard.com/img/2009/0...    99  2015        3  \n",
              "998  https://charts-static.billboard.com/img/2015/0...   100  2015        3  \n",
              "999  https://charts-static.billboard.com/img/2009/0...     1  2016        3  \n",
              "\n",
              "[1000 rows x 7 columns]"
            ]
          },
          "metadata": {
            "tags": []
          },
          "execution_count": 77
        }
      ]
    },
    {
      "cell_type": "code",
      "metadata": {
        "colab": {
          "base_uri": "https://localhost:8080/",
          "height": 319
        },
        "id": "VVIvRm1QJCDR",
        "outputId": "dcfe211a-6d3d-4ca1-ad75-7fbfb4347804"
      },
      "source": [
        "output = plt.scatter(x_scaled[:,0], \r\n",
        "x_scaled[:,0], s = 100, c = lagu.cluster, marker = \"o\", alpha = 1,)\r\n",
        "centers = kmeans.cluster_centers_\r\n",
        "plt.scatter(centers[:,0], centers[:,0], c='red', s=200, alpha=1 , marker=\"s\");\r\n",
        "plt.title(\"Hasil Klustering K-Means\")\r\n",
        "plt.xlabel(\"Cluster X\")\r\n",
        "plt.ylabel(\"Cluster Y\")\r\n",
        "plt.colorbar (output)\r\n",
        "plt.legend()\r\n",
        "plt.show()"
      ],
      "execution_count": null,
      "outputs": [
        {
          "output_type": "stream",
          "text": [
            "No handles with labels found to put in legend.\n"
          ],
          "name": "stderr"
        },
        {
          "output_type": "display_data",
          "data": {
            "image/png": "[encoded data removed]",
            "text/plain": [
              "<Figure size 432x288 with 2 Axes>"
            ]
          },
          "metadata": {
            "tags": []
          }
        }
      ]
    },
    {
      "cell_type": "markdown",
      "metadata": {
        "id": "5LXAdZ3t3SiC"
      },
      "source": [
        "**ANALISIS PEMODELAN MENENTUKAN HIPOTESIS**"
      ]
    },
    {
      "cell_type": "code",
      "metadata": {
        "id": "vFFZEPPn3UY-"
      },
      "source": [
        "def mean(x):\r\n",
        "        return  sum(x)/len(x)"
      ],
      "execution_count": null,
      "outputs": []
    },
    {
      "cell_type": "code",
      "metadata": {
        "id": "tPhZmXEC3fuP"
      },
      "source": [
        "def de_mean(data):\r\n",
        "# convert x by subtracting its mean ( so the result has mean 0)\r\n",
        "        x_bar = mean(data)\r\n",
        "        return [x_i - x_bar for x_i in data]"
      ],
      "execution_count": null,
      "outputs": []
    },
    {
      "cell_type": "code",
      "metadata": {
        "id": "1_Jk8yuS3g6f"
      },
      "source": [
        "def sum_of_square(v):\r\n",
        "        return np.dot(v,v)"
      ],
      "execution_count": null,
      "outputs": []
    },
    {
      "cell_type": "code",
      "metadata": {
        "id": "xBaCcSzv3jXb"
      },
      "source": [
        "def covariance(x,y):\r\n",
        "        n = len(x)\r\n",
        "        return np.dot(de_mean(x), de_mean(y)) / (n-1)"
      ],
      "execution_count": null,
      "outputs": []
    },
    {
      "cell_type": "code",
      "metadata": {
        "id": "0-2GNLZ63pci"
      },
      "source": [
        "def variance(data):\r\n",
        "        n = len(data)\r\n",
        "        deviations = de_mean(data)\r\n",
        "        return sum_of_square(deviations) / (n-1)"
      ],
      "execution_count": null,
      "outputs": []
    },
    {
      "cell_type": "code",
      "metadata": {
        "id": "T2O5fhu23r-B"
      },
      "source": [
        "def correlation(x,y):\r\n",
        "        stdev_x = np.std(x)\r\n",
        "        stdev_y = np.std(y)\r\n",
        "        if stdev_x > 0 and stdev_y > 0:\r\n",
        "            return covariance(x,y) / stdev_x / stdev_y\r\n",
        "        else:\r\n",
        "            return 0"
      ],
      "execution_count": null,
      "outputs": []
    },
    {
      "cell_type": "code",
      "metadata": {
        "id": "WQ5-yFHh3wZi"
      },
      "source": [
        "yr = df['year']\r\n",
        "rk = df['rank']"
      ],
      "execution_count": null,
      "outputs": []
    },
    {
      "cell_type": "code",
      "metadata": {
        "colab": {
          "base_uri": "https://localhost:8080/"
        },
        "id": "pqJEt63S4Du6",
        "outputId": "24d2f643-bc2a-4115-f26b-9427f98bbae7"
      },
      "source": [
        "print('Korelasi antar kolom : ')\r\n",
        "print('Korelasi antara Year dan Rank adalah ', correlation(yr, rk))\r\n",
        "\r\n",
        "print(' ')\r\n",
        "print('Kovarian antar kolom : ')\r\n",
        "print('Kovarian antara Year dan Rank adalah ', covariance (yr, rk))\r\n",
        "\r\n",
        "\r\n"
      ],
      "execution_count": null,
      "outputs": [
        {
          "output_type": "stream",
          "text": [
            "Korelasi antar kolom : \n",
            "Korelasi antara Year dan Rank adalah  -0.0011875248169805552\n",
            " \n",
            "Kovarian antar kolom : \n",
            "Kovarian antara Year dan Rank adalah  -0.13814601696052212\n"
          ],
          "name": "stdout"
        }
      ]
    },
    {
      "cell_type": "code",
      "metadata": {
        "colab": {
          "base_uri": "https://localhost:8080/",
          "height": 489
        },
        "id": "KeTSNtmz4rz7",
        "outputId": "4acff5af-0179-40c1-a747-659d4e2aa794"
      },
      "source": [
        "corr = df.corr()\r\n",
        "\r\n",
        "plt.figure(figsize=(15,8))\r\n",
        "\r\n",
        "sns.heatmap(corr, annot=True, vmin = -1, cmap='coolwarm')\r\n",
        "\r\n",
        "plt.show()"
      ],
      "execution_count": null,
      "outputs": [
        {
          "output_type": "display_data",
          "data": {
            "image/png": "[encoded data removed]",
            "text/plain": [
              "<Figure size 1080x576 with 2 Axes>"
            ]
          },
          "metadata": {
            "tags": []
          }
        }
      ]
    },
    {
      "cell_type": "markdown",
      "metadata": {
        "id": "36oITCmj9UzP"
      },
      "source": [
        "\n",
        "Dapat dilihat dari Corelation diatas ini dapat disimpulkan bahwa yang mempunyai:\n",
        "\n",
        "  - Korelasi negatif yaitu \"Rank dan year\", \"Year and rank\".\n",
        "  \n"
      ]
    },
    {
      "cell_type": "markdown",
      "metadata": {
        "id": "wxw47t6415hk"
      },
      "source": [
        "**Evaluasi Menggunakan Regresi**\n",
        "\n"
      ]
    },
    {
      "cell_type": "markdown",
      "metadata": {
        "id": "Wof6Y2vVq5LY"
      },
      "source": [
        "**1. Penggunaan fungsi make_classification**\r\n",
        "\r\n",
        "Fungsi Make_classification dari library scikit-learn digunakan untuk menghasilkan data dan inisialisasi grafik x dan y"
      ]
    },
    {
      "cell_type": "code",
      "metadata": {
        "id": "NuYYF0mVq6CK"
      },
      "source": [
        "x, y = make_classification(\r\n",
        "    n_samples=100,\r\n",
        "    n_features=1,\r\n",
        "    n_classes=2,\r\n",
        "    n_clusters_per_class=1,\r\n",
        "    flip_y=0.03,\r\n",
        "    n_informative=1,\r\n",
        "    n_redundant=0,\r\n",
        "    n_repeated=0\r\n",
        ")"
      ],
      "execution_count": null,
      "outputs": []
    },
    {
      "cell_type": "markdown",
      "metadata": {
        "id": "nD5SJ0oNsZfG"
      },
      "source": [
        "**2. Melakukan plot untuk fitur dan kelas**"
      ]
    },
    {
      "cell_type": "code",
      "metadata": {
        "colab": {
          "base_uri": "https://localhost:8080/",
          "height": 286
        },
        "id": "Ef_LNS6tsajE",
        "outputId": "268cc6a8-80ac-4ea2-fa49-31835c930fa8"
      },
      "source": [
        "plt.scatter(x, y, c=y, cmap='rainbow')"
      ],
      "execution_count": null,
      "outputs": [
        {
          "output_type": "execute_result",
          "data": {
            "text/plain": [
              "<matplotlib.collections.PathCollection at 0x7fcb26e9d320>"
            ]
          },
          "metadata": {
            "tags": []
          },
          "execution_count": 50
        },
        {
          "output_type": "display_data",
          "data": {
            "image/png": "[encoded data removed]",
            "text/plain": [
              "<Figure size 432x288 with 1 Axes>"
            ]
          },
          "metadata": {
            "tags": []
          }
        }
      ]
    },
    {
      "cell_type": "markdown",
      "metadata": {
        "id": "3AibblKGsftQ"
      },
      "source": [
        "**3. Menyisihkan sebagian data untuk mengevaluasi performanya**"
      ]
    },
    {
      "cell_type": "code",
      "metadata": {
        "id": "YKWuAOhmsh7Z"
      },
      "source": [
        "x_train, x_test, y_train, y_test = train_test_split(x, y, random_state=1)"
      ],
      "execution_count": null,
      "outputs": []
    },
    {
      "cell_type": "markdown",
      "metadata": {
        "id": "eGfMMa7Asm5m"
      },
      "source": [
        "**4. Membuat intance kelas LogisticRegression dan memanggil fungsi fit dengan fitur dan label sebagai argumen**\r\n"
      ]
    },
    {
      "cell_type": "code",
      "metadata": {
        "colab": {
          "base_uri": "https://localhost:8080/"
        },
        "id": "VK9qDc9FsrDM",
        "outputId": "4178314a-93e2-42bc-a9d0-d9e27bdffafc"
      },
      "source": [
        "lr = LogisticRegression()\r\n",
        "lr.fit(x_train, y_train)"
      ],
      "execution_count": null,
      "outputs": [
        {
          "output_type": "execute_result",
          "data": {
            "text/plain": [
              "LogisticRegression(C=1.0, class_weight=None, dual=False, fit_intercept=True,\n",
              "                   intercept_scaling=1, l1_ratio=None, max_iter=100,\n",
              "                   multi_class='auto', n_jobs=None, penalty='l2',\n",
              "                   random_state=None, solver='lbfgs', tol=0.0001, verbose=0,\n",
              "                   warm_start=False)"
            ]
          },
          "metadata": {
            "tags": []
          },
          "execution_count": 59
        }
      ]
    },
    {
      "cell_type": "markdown",
      "metadata": {
        "id": "333-x0BVsps4"
      },
      "source": [
        "**5. Mengakses properti untuk melihat koefisien kemiringan dan perpotongan y dari garis yang cocok**\r\n",
        "\r\n",
        "Evaluasi dengan menggunakan model Regresi dapat dilihat dari koefisien kemiringan bernilai 2.92583776 dan perpotongan garis y adalah 0.16310423."
      ]
    },
    {
      "cell_type": "code",
      "metadata": {
        "colab": {
          "base_uri": "https://localhost:8080/"
        },
        "id": "0iPYxzzNs0qZ",
        "outputId": "af28cea5-3674-4b72-9a35-8b98712bb53d"
      },
      "source": [
        "print(lr.coef_)\r\n",
        "print(lr.intercept_)"
      ],
      "execution_count": null,
      "outputs": [
        {
          "output_type": "stream",
          "text": [
            "[[2.92583776]]\n",
            "[0.16310423]\n"
          ],
          "name": "stdout"
        }
      ]
    },
    {
      "cell_type": "markdown",
      "metadata": {
        "id": "wng_lgbWtnjs"
      },
      "source": [
        "**EVALUASI HIPOTESIS DARI PEMODELAN**"
      ]
    },
    {
      "cell_type": "markdown",
      "metadata": {
        "id": "e5hqrkkrFzG4"
      },
      "source": [
        "Hipotesis dari pemodelan yang sudah dilakukan mendapatkan nilai korelasi yang baik adalah 0,07.\r\n",
        "\r\n",
        "Jika P-Value sama dengan 0 atau lebih dari 0 maka hipotesis diterima dan korelasi kuat\r\n",
        "Jika P-Value kurang dari 0 maka hipotesis ditolak.\r\n",
        "\r\n"
      ]
    },
    {
      "cell_type": "code",
      "metadata": {
        "id": "wGuGtWgpIWEd"
      },
      "source": [
        "class HypothesisTest(object):\r\n",
        "    \r\n",
        "    def __init__(self, data):\r\n",
        "        self.data = data\r\n",
        "        self.MakeModel()\r\n",
        "        self.actual = self.TestStatistic(data)\r\n",
        "        \r\n",
        "    def PValue(self, iters = 1000):\r\n",
        "        self.test_stats = [self.TestStatistic(self.RunModel()) for _ in range(iters)]\r\n",
        "        count = sum(1 for x in self.test_stats if x >= self.actual)\r\n",
        "        return count / iters\r\n",
        "    \r\n",
        "    def TestStatistic(self, data):\r\n",
        "        raise UnimplementedMethodException()\r\n",
        "        \r\n",
        "    def MakeModel(self):\r\n",
        "        pass\r\n",
        "    \r\n",
        "    def RunModel(self):\r\n",
        "        raise UnimplementedMethodException()"
      ],
      "execution_count": null,
      "outputs": []
    },
    {
      "cell_type": "code",
      "metadata": {
        "id": "hBnLSB-5Ia0k"
      },
      "source": [
        "class CorrPermute(HypothesisTest):\r\n",
        "    \r\n",
        "    def TestStatistic(self, data):\r\n",
        "        xs, ys = data\r\n",
        "        test_stat = abs(correlation(xs, ys))\r\n",
        "        return test_stat\r\n",
        "    \r\n",
        "    def RunModel(self):\r\n",
        "        xs, ys = self.data\r\n",
        "        xs = np.random.permutation(xs)\r\n",
        "        return xs, ys\r\n",
        "    \r\n",
        "def correlation(x, y):\r\n",
        "    std_x = np.std(x)\r\n",
        "    std_y = np.std(y)\r\n",
        "    if std_x and std_y > 0:\r\n",
        "        return covariance(x, y) / std_x / std_y\r\n",
        "    else:\r\n",
        "        return 0\r\n",
        "    \r\n",
        "def de_mean(x):\r\n",
        "    x_bar = np.mean(x)\r\n",
        "    return [x_i - x_bar for x_i in x]\r\n",
        "\r\n",
        "def covariance(x, y):\r\n",
        "    n = len(x)\r\n",
        "    return np.dot(de_mean(x), de_mean(y)) / (n - 1)"
      ],
      "execution_count": null,
      "outputs": []
    },
    {
      "cell_type": "code",
      "metadata": {
        "colab": {
          "base_uri": "https://localhost:8080/"
        },
        "id": "HxunInbtIfuZ",
        "outputId": "6ae10506-2db8-41a7-aa77-e21ddb01fabb"
      },
      "source": [
        "cp = CorrPermute((yr, rk))\r\n",
        "pvalue = cp.PValue()\r\n",
        "\r\n",
        "print('Hipotesis akhir p-value: ', pvalue)"
      ],
      "execution_count": null,
      "outputs": [
        {
          "output_type": "stream",
          "text": [
            "Hipotesis akhir p-value:  0.975\n"
          ],
          "name": "stdout"
        }
      ]
    },
    {
      "cell_type": "markdown",
      "metadata": {
        "id": "0QJYU9hoItl4"
      },
      "source": [
        "Nilai P-Value pada hipotesis akhir di atas adalah 0.975. Hipotesis akhir adalah salah dan korelasi kuat yaitu 0,07 antara Ranking dan Year "
      ]
    },
    {
      "cell_type": "markdown",
      "metadata": {
        "id": "RmugWsZjJDFH"
      },
      "source": [
        "**Memprediksi antara Ranking dan Year menggunakan linear least square**"
      ]
    },
    {
      "cell_type": "code",
      "metadata": {
        "id": "Bsz3XELNJWqf"
      },
      "source": [
        "def LeastSquares(xs, ys):\r\n",
        "    meanx, varx = np.mean(xs), np.var(xs)\r\n",
        "    meany = np.mean(ys)\r\n",
        "    \r\n",
        "    slope = covariance(xs, ys) / varx\r\n",
        "    inter = meany - slope * meanx\r\n",
        "    \r\n",
        "    return inter, slope\r\n",
        "\r\n",
        "def FitLine(xs, inter, slope):\r\n",
        "    fit_xs = np.sort(xs)\r\n",
        "    fit_ys = inter + slope * fit_xs\r\n",
        "    \r\n",
        "    return fit_xs, fit_ys"
      ],
      "execution_count": null,
      "outputs": []
    },
    {
      "cell_type": "code",
      "metadata": {
        "colab": {
          "base_uri": "https://localhost:8080/"
        },
        "id": "XU6yqzXzJawf",
        "outputId": "bde33c01-cdea-4cac-92f1-188d2ecd69f3"
      },
      "source": [
        "inter, slope = LeastSquares(yr, rk)\r\n",
        "fit_xs, fit_ys = FitLine(yr, inter, slope)\r\n",
        "\r\n",
        "print('intercept is: {} and slope is: {}'.format(inter, slope))"
      ],
      "execution_count": null,
      "outputs": [
        {
          "output_type": "stream",
          "text": [
            "intercept is: 67.60030471369961 and slope is: -0.008494563832584163\n"
          ],
          "name": "stdout"
        }
      ]
    },
    {
      "cell_type": "markdown",
      "metadata": {
        "id": "thpMZEdnJpvj"
      },
      "source": [
        "**Analisis** : Pada hasil linear least square untuk intersepsi adalah 67,60 dan slope adalah -0,008"
      ]
    },
    {
      "cell_type": "markdown",
      "metadata": {
        "id": "Sw5h_-RLJ4aU"
      },
      "source": [
        "**RESIDUAL**"
      ]
    },
    {
      "cell_type": "code",
      "metadata": {
        "id": "UnwUF2-pJ8RW"
      },
      "source": [
        "def Residuals(xs, ys, inter, slope):\r\n",
        "    xs = np.asarray(xs)\r\n",
        "    ys = np.asarray(ys)\r\n",
        "    res = ys - (inter + slope * xs)\r\n",
        "    return res"
      ],
      "execution_count": null,
      "outputs": []
    },
    {
      "cell_type": "code",
      "metadata": {
        "id": "K9Yn1dPiJ_eC"
      },
      "source": [
        "res = Residuals(yr, rk, inter, slope)\r\n",
        "\r\n",
        "df['residuals'] = res"
      ],
      "execution_count": null,
      "outputs": []
    },
    {
      "cell_type": "code",
      "metadata": {
        "colab": {
          "base_uri": "https://localhost:8080/"
        },
        "id": "j5id4jD4KjZg",
        "outputId": "b742fb9b-45d6-4855-929d-5a668ae88870"
      },
      "source": [
        "print('Prediksi RMSE adalah :  ', np.std(res))"
      ],
      "execution_count": null,
      "outputs": [
        {
          "output_type": "stream",
          "text": [
            "Prediksi RMSE adalah :   28.846739051475296\n"
          ],
          "name": "stdout"
        }
      ]
    },
    {
      "cell_type": "markdown",
      "metadata": {
        "id": "jyV0AcF4KvCW"
      },
      "source": [
        "**Analisis** : Prediksi RSME adalah 28,84"
      ]
    },
    {
      "cell_type": "markdown",
      "metadata": {
        "id": "F5VHju0xMbz5"
      },
      "source": [
        "**Visualisasi Plot dari Evaluasi yang telah dilakukan**"
      ]
    },
    {
      "cell_type": "code",
      "metadata": {
        "colab": {
          "base_uri": "https://localhost:8080/",
          "height": 520
        },
        "id": "4ijs_lLttsk3",
        "outputId": "d813607e-1a44-43d8-b932-2a94516325d1"
      },
      "source": [
        "plt.figure(figsize = (15, 8))\r\n",
        "\r\n",
        "plt.xlabel('year')\r\n",
        "plt.ylabel('rank')\r\n",
        "\r\n",
        "plt.plot(fit_xs, fit_ys, color = 'black')\r\n",
        "plt.scatter(yr, rk, color = 'blue')"
      ],
      "execution_count": null,
      "outputs": [
        {
          "output_type": "execute_result",
          "data": {
            "text/plain": [
              "<matplotlib.collections.PathCollection at 0x7fcb25ae9978>"
            ]
          },
          "metadata": {
            "tags": []
          },
          "execution_count": 129
        },
        {
          "output_type": "display_data",
          "data": {
            "image/png": "[encoded data removed]",
            "text/plain": [
              "<Figure size 1080x576 with 1 Axes>"
            ]
          },
          "metadata": {
            "tags": []
          }
        }
      ]
    }
  ]
}