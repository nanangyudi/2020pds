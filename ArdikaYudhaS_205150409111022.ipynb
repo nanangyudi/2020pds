{
  "nbformat": 4,
  "nbformat_minor": 0,
  "metadata": {
    "colab": {
      "name": "ArdikaYudhaS_205150409111022.ipynb",
      "provenance": [],
      "collapsed_sections": [],
      "include_colab_link": true
    },
    "kernelspec": {
      "name": "python3",
      "display_name": "Python 3"
    }
  },
  "cells": [
    {
      "cell_type": "markdown",
      "metadata": {
        "id": "view-in-github",
        "colab_type": "text"
      },
      "source": [
        "<a href=\"https://colab.research.google.com/github/nanangyudi/2020pds_d/blob/main/ArdikaYudhaS_205150409111022.ipynb\" target=\"_parent\"><img src=\"https://colab.research.google.com/assets/colab-badge.svg\" alt=\"Open In Colab\"/></a>"
      ]
    },
    {
      "cell_type": "code",
      "metadata": {
        "id": "ooVdy9mkPecf"
      },
      "source": [
        ""
      ],
      "execution_count": null,
      "outputs": []
    },
    {
      "cell_type": "markdown",
      "metadata": {
        "id": "2Me83YthDbWV"
      },
      "source": [
        "**Deskripsi Tujuan Bisnis** :\n",
        "1.   Untuk mengetahui jumlah team PUBG pada Turnament PMPL South Asia 2020\n",
        "2.   Untuk mengetahui placement dan kill di turnament PUBG PMPL South Asia 2020\n",
        "**Analisa Pendekatan** :\n",
        "1.   Pada analisa data ini kami menggunakan Exploratory Data Analysis (EDA)\n",
        "2.   pendekatan untuk menganalisis set data untuk merangkum karakteristik     utama mereka, seringkali dengan metode visual.\n",
        "\n",
        "**Pengumpulan data** :\n",
        "1.  Mendapatkan data melalui website kaggle.com\n",
        "**Pemahaman terhadap data yang dikumpulkan**: \n",
        "1.   Data yang ditunjukan memuat informasi umlah team PUBG pada Turnament PMPL South Asia 2020.\n",
        "**Persiapan data** :\n",
        "1.   Library yang saya gunakan dalam explorasi data adalah pandas, Matpolib, Seaborn\n",
        "\n",
        "**Pemodelan data** :\n",
        "1.   Explorasi data yang telah saya lakukan menghasilkan sebuah informasi berupa scater scatter plot, diagram histogram dan boxplot\n",
        "**Evaluasi Model**\n",
        "\n",
        "1.   Pada data yang telah di analisis menunjukkan diagram histogram yang tidak normal, data tersebut adalah jumlah seluruh Kills yang dihasilkan dengan total data statistik Turnament PUBG PMPL SOUTH ASIA 2020\n",
        "\n"
      ]
    },
    {
      "cell_type": "markdown",
      "metadata": {
        "id": "OrrGMcqpeaND"
      },
      "source": [
        "**Mempersiapkan Data**"
      ]
    },
    {
      "cell_type": "markdown",
      "metadata": {
        "id": "F5Vxwhnpz-wO"
      },
      "source": [
        "Disini peneliti menggunakan library \"pandas\", \"numpy\", \"seaborn\""
      ]
    },
    {
      "cell_type": "code",
      "metadata": {
        "id": "_MwGKg02I9C4"
      },
      "source": [
        "import pandas as pd\n",
        "pd.set_option('display.max_columns',None)\n",
        "import numpy as np\n",
        "import matplotlib.pyplot as plt\n",
        "import seaborn as sns"
      ],
      "execution_count": null,
      "outputs": []
    },
    {
      "cell_type": "markdown",
      "metadata": {
        "id": "etBulzpqemF-"
      },
      "source": [
        "**Memasukkan Dataset**\r\n"
      ]
    },
    {
      "cell_type": "code",
      "metadata": {
        "colab": {
          "base_uri": "https://localhost:8080/"
        },
        "id": "fQK6BwHMUFm5",
        "outputId": "d7eaec5b-2169-4ec7-b2fa-89b553456adb"
      },
      "source": [
        "url = 'https://raw.githubusercontent.com/Ardika46/Tugas-Data-Saintis/main/PMPL%20South%20Asia.csv'\n",
        "df = pd.read_csv(\"https://raw.githubusercontent.com/Ardika46/Tugas-Data-Saintis/main/PMPL%20South%20Asia.csv\") \n",
        "print(\"data read into dataframe!\")"
      ],
      "execution_count": null,
      "outputs": [
        {
          "output_type": "stream",
          "text": [
            "data read into dataframe!\n"
          ],
          "name": "stdout"
        }
      ]
    },
    {
      "cell_type": "markdown",
      "metadata": {
        "id": "1IGFxY_nfBVE"
      },
      "source": [
        "**Menampilkan Data**"
      ]
    },
    {
      "cell_type": "code",
      "metadata": {
        "id": "27PfLd43Ngjf",
        "colab": {
          "base_uri": "https://localhost:8080/",
          "height": 550
        },
        "outputId": "511f5d55-ca96-4ff4-cb0a-27b7151e9a06"
      },
      "source": [
        "df.head(17)"
      ],
      "execution_count": null,
      "outputs": [
        {
          "output_type": "execute_result",
          "data": {
            "text/html": [
              "<div>\n",
              "<style scoped>\n",
              "    .dataframe tbody tr th:only-of-type {\n",
              "        vertical-align: middle;\n",
              "    }\n",
              "\n",
              "    .dataframe tbody tr th {\n",
              "        vertical-align: top;\n",
              "    }\n",
              "\n",
              "    .dataframe thead th {\n",
              "        text-align: right;\n",
              "    }\n",
              "</style>\n",
              "<table border=\"1\" class=\"dataframe\">\n",
              "  <thead>\n",
              "    <tr style=\"text-align: right;\">\n",
              "      <th></th>\n",
              "      <th>Match Played</th>\n",
              "      <th>Teams</th>\n",
              "      <th>Group</th>\n",
              "      <th>Map</th>\n",
              "      <th>Groups Playing</th>\n",
              "      <th>Week</th>\n",
              "      <th>Day</th>\n",
              "      <th>Match No</th>\n",
              "      <th>Team Match No</th>\n",
              "      <th>Chicken Dinner</th>\n",
              "      <th>Placement</th>\n",
              "      <th>Kills</th>\n",
              "      <th>Total</th>\n",
              "    </tr>\n",
              "  </thead>\n",
              "  <tbody>\n",
              "    <tr>\n",
              "      <th>0</th>\n",
              "      <td>1</td>\n",
              "      <td>Celtz</td>\n",
              "      <td>A</td>\n",
              "      <td>Erangel</td>\n",
              "      <td>A B C D</td>\n",
              "      <td>1</td>\n",
              "      <td>1</td>\n",
              "      <td>1</td>\n",
              "      <td>1</td>\n",
              "      <td>0</td>\n",
              "      <td>1</td>\n",
              "      <td>2</td>\n",
              "      <td>3</td>\n",
              "    </tr>\n",
              "    <tr>\n",
              "      <th>1</th>\n",
              "      <td>1</td>\n",
              "      <td>Crwl</td>\n",
              "      <td>B</td>\n",
              "      <td>Erangel</td>\n",
              "      <td>A B C D</td>\n",
              "      <td>1</td>\n",
              "      <td>1</td>\n",
              "      <td>1</td>\n",
              "      <td>1</td>\n",
              "      <td>0</td>\n",
              "      <td>8</td>\n",
              "      <td>3</td>\n",
              "      <td>11</td>\n",
              "    </tr>\n",
              "    <tr>\n",
              "      <th>2</th>\n",
              "      <td>1</td>\n",
              "      <td>Deadeyes</td>\n",
              "      <td>D</td>\n",
              "      <td>Erangel</td>\n",
              "      <td>A B C D</td>\n",
              "      <td>1</td>\n",
              "      <td>1</td>\n",
              "      <td>1</td>\n",
              "      <td>1</td>\n",
              "      <td>0</td>\n",
              "      <td>1</td>\n",
              "      <td>0</td>\n",
              "      <td>1</td>\n",
              "    </tr>\n",
              "    <tr>\n",
              "      <th>3</th>\n",
              "      <td>0</td>\n",
              "      <td>EX</td>\n",
              "      <td>E</td>\n",
              "      <td>Erangel</td>\n",
              "      <td>A B C D</td>\n",
              "      <td>1</td>\n",
              "      <td>1</td>\n",
              "      <td>1</td>\n",
              "      <td>0</td>\n",
              "      <td>0</td>\n",
              "      <td>0</td>\n",
              "      <td>0</td>\n",
              "      <td>0</td>\n",
              "    </tr>\n",
              "    <tr>\n",
              "      <th>4</th>\n",
              "      <td>1</td>\n",
              "      <td>Fnatic</td>\n",
              "      <td>D</td>\n",
              "      <td>Erangel</td>\n",
              "      <td>A B C D</td>\n",
              "      <td>1</td>\n",
              "      <td>1</td>\n",
              "      <td>1</td>\n",
              "      <td>1</td>\n",
              "      <td>0</td>\n",
              "      <td>2</td>\n",
              "      <td>5</td>\n",
              "      <td>7</td>\n",
              "    </tr>\n",
              "    <tr>\n",
              "      <th>5</th>\n",
              "      <td>0</td>\n",
              "      <td>GodLike</td>\n",
              "      <td>E</td>\n",
              "      <td>Erangel</td>\n",
              "      <td>A B C D</td>\n",
              "      <td>1</td>\n",
              "      <td>1</td>\n",
              "      <td>1</td>\n",
              "      <td>0</td>\n",
              "      <td>0</td>\n",
              "      <td>0</td>\n",
              "      <td>0</td>\n",
              "      <td>0</td>\n",
              "    </tr>\n",
              "    <tr>\n",
              "      <th>6</th>\n",
              "      <td>1</td>\n",
              "      <td>Hype</td>\n",
              "      <td>A</td>\n",
              "      <td>Erangel</td>\n",
              "      <td>A B C D</td>\n",
              "      <td>1</td>\n",
              "      <td>1</td>\n",
              "      <td>1</td>\n",
              "      <td>1</td>\n",
              "      <td>0</td>\n",
              "      <td>4</td>\n",
              "      <td>6</td>\n",
              "      <td>10</td>\n",
              "    </tr>\n",
              "    <tr>\n",
              "      <th>7</th>\n",
              "      <td>1</td>\n",
              "      <td>IND</td>\n",
              "      <td>D</td>\n",
              "      <td>Erangel</td>\n",
              "      <td>A B C D</td>\n",
              "      <td>1</td>\n",
              "      <td>1</td>\n",
              "      <td>1</td>\n",
              "      <td>1</td>\n",
              "      <td>0</td>\n",
              "      <td>7</td>\n",
              "      <td>5</td>\n",
              "      <td>12</td>\n",
              "    </tr>\n",
              "    <tr>\n",
              "      <th>8</th>\n",
              "      <td>1</td>\n",
              "      <td>Instinct</td>\n",
              "      <td>B</td>\n",
              "      <td>Erangel</td>\n",
              "      <td>A B C D</td>\n",
              "      <td>1</td>\n",
              "      <td>1</td>\n",
              "      <td>1</td>\n",
              "      <td>1</td>\n",
              "      <td>0</td>\n",
              "      <td>5</td>\n",
              "      <td>0</td>\n",
              "      <td>5</td>\n",
              "    </tr>\n",
              "    <tr>\n",
              "      <th>9</th>\n",
              "      <td>1</td>\n",
              "      <td>JyanMaara</td>\n",
              "      <td>C</td>\n",
              "      <td>Erangel</td>\n",
              "      <td>A B C D</td>\n",
              "      <td>1</td>\n",
              "      <td>1</td>\n",
              "      <td>1</td>\n",
              "      <td>1</td>\n",
              "      <td>0</td>\n",
              "      <td>14</td>\n",
              "      <td>1</td>\n",
              "      <td>15</td>\n",
              "    </tr>\n",
              "    <tr>\n",
              "      <th>10</th>\n",
              "      <td>1</td>\n",
              "      <td>Marcos</td>\n",
              "      <td>A</td>\n",
              "      <td>Erangel</td>\n",
              "      <td>A B C D</td>\n",
              "      <td>1</td>\n",
              "      <td>1</td>\n",
              "      <td>1</td>\n",
              "      <td>1</td>\n",
              "      <td>0</td>\n",
              "      <td>1</td>\n",
              "      <td>1</td>\n",
              "      <td>2</td>\n",
              "    </tr>\n",
              "    <tr>\n",
              "      <th>11</th>\n",
              "      <td>1</td>\n",
              "      <td>MegaStars</td>\n",
              "      <td>C</td>\n",
              "      <td>Erangel</td>\n",
              "      <td>A B C D</td>\n",
              "      <td>1</td>\n",
              "      <td>1</td>\n",
              "      <td>1</td>\n",
              "      <td>1</td>\n",
              "      <td>0</td>\n",
              "      <td>3</td>\n",
              "      <td>1</td>\n",
              "      <td>4</td>\n",
              "    </tr>\n",
              "    <tr>\n",
              "      <th>12</th>\n",
              "      <td>1</td>\n",
              "      <td>OR</td>\n",
              "      <td>D</td>\n",
              "      <td>Erangel</td>\n",
              "      <td>A B C D</td>\n",
              "      <td>1</td>\n",
              "      <td>1</td>\n",
              "      <td>1</td>\n",
              "      <td>1</td>\n",
              "      <td>0</td>\n",
              "      <td>1</td>\n",
              "      <td>0</td>\n",
              "      <td>1</td>\n",
              "    </tr>\n",
              "    <tr>\n",
              "      <th>13</th>\n",
              "      <td>0</td>\n",
              "      <td>PowerH</td>\n",
              "      <td>E</td>\n",
              "      <td>Erangel</td>\n",
              "      <td>A B C D</td>\n",
              "      <td>1</td>\n",
              "      <td>1</td>\n",
              "      <td>1</td>\n",
              "      <td>0</td>\n",
              "      <td>0</td>\n",
              "      <td>0</td>\n",
              "      <td>0</td>\n",
              "      <td>0</td>\n",
              "    </tr>\n",
              "    <tr>\n",
              "      <th>14</th>\n",
              "      <td>1</td>\n",
              "      <td>SGE</td>\n",
              "      <td>C</td>\n",
              "      <td>Erangel</td>\n",
              "      <td>A B C D</td>\n",
              "      <td>1</td>\n",
              "      <td>1</td>\n",
              "      <td>1</td>\n",
              "      <td>1</td>\n",
              "      <td>0</td>\n",
              "      <td>1</td>\n",
              "      <td>0</td>\n",
              "      <td>1</td>\n",
              "    </tr>\n",
              "    <tr>\n",
              "      <th>15</th>\n",
              "      <td>1</td>\n",
              "      <td>SouL</td>\n",
              "      <td>B</td>\n",
              "      <td>Erangel</td>\n",
              "      <td>A B C D</td>\n",
              "      <td>1</td>\n",
              "      <td>1</td>\n",
              "      <td>1</td>\n",
              "      <td>1</td>\n",
              "      <td>0</td>\n",
              "      <td>6</td>\n",
              "      <td>2</td>\n",
              "      <td>8</td>\n",
              "    </tr>\n",
              "    <tr>\n",
              "      <th>16</th>\n",
              "      <td>1</td>\n",
              "      <td>Tamilas</td>\n",
              "      <td>B</td>\n",
              "      <td>Erangel</td>\n",
              "      <td>A B C D</td>\n",
              "      <td>1</td>\n",
              "      <td>1</td>\n",
              "      <td>1</td>\n",
              "      <td>1</td>\n",
              "      <td>0</td>\n",
              "      <td>10</td>\n",
              "      <td>4</td>\n",
              "      <td>14</td>\n",
              "    </tr>\n",
              "  </tbody>\n",
              "</table>\n",
              "</div>"
            ],
            "text/plain": [
              "    Match Played       Teams Group      Map Groups Playing  Week  Day  \\\n",
              "0              1       Celtz     A  Erangel        A B C D     1    1   \n",
              "1              1        Crwl     B  Erangel        A B C D     1    1   \n",
              "2              1    Deadeyes     D  Erangel        A B C D     1    1   \n",
              "3              0          EX     E  Erangel        A B C D     1    1   \n",
              "4              1      Fnatic     D  Erangel        A B C D     1    1   \n",
              "5              0     GodLike     E  Erangel        A B C D     1    1   \n",
              "6              1        Hype     A  Erangel        A B C D     1    1   \n",
              "7              1         IND     D  Erangel        A B C D     1    1   \n",
              "8              1    Instinct     B  Erangel        A B C D     1    1   \n",
              "9              1   JyanMaara     C  Erangel        A B C D     1    1   \n",
              "10             1      Marcos     A  Erangel        A B C D     1    1   \n",
              "11             1   MegaStars     C  Erangel        A B C D     1    1   \n",
              "12             1          OR     D  Erangel        A B C D     1    1   \n",
              "13             0      PowerH     E  Erangel        A B C D     1    1   \n",
              "14             1         SGE     C  Erangel        A B C D     1    1   \n",
              "15             1        SouL     B  Erangel        A B C D     1    1   \n",
              "16             1     Tamilas     B  Erangel        A B C D     1    1   \n",
              "\n",
              "    Match No  Team Match No  Chicken Dinner  Placement  Kills  Total  \n",
              "0          1              1               0          1      2      3  \n",
              "1          1              1               0          8      3     11  \n",
              "2          1              1               0          1      0      1  \n",
              "3          1              0               0          0      0      0  \n",
              "4          1              1               0          2      5      7  \n",
              "5          1              0               0          0      0      0  \n",
              "6          1              1               0          4      6     10  \n",
              "7          1              1               0          7      5     12  \n",
              "8          1              1               0          5      0      5  \n",
              "9          1              1               0         14      1     15  \n",
              "10         1              1               0          1      1      2  \n",
              "11         1              1               0          3      1      4  \n",
              "12         1              1               0          1      0      1  \n",
              "13         1              0               0          0      0      0  \n",
              "14         1              1               0          1      0      1  \n",
              "15         1              1               0          6      2      8  \n",
              "16         1              1               0         10      4     14  "
            ]
          },
          "metadata": {
            "tags": []
          },
          "execution_count": 52
        }
      ]
    },
    {
      "cell_type": "markdown",
      "metadata": {
        "id": "GJ528TFqR4Li"
      },
      "source": [
        "**Melihat Dimensi Data**"
      ]
    },
    {
      "cell_type": "code",
      "metadata": {
        "colab": {
          "base_uri": "https://localhost:8080/"
        },
        "id": "aVkTuYY2N8uS",
        "outputId": "01dfcffc-b257-4da4-d093-93a399eeb284"
      },
      "source": [
        "dimensi      = df.shape\n",
        "panjang_data = len(df)\n",
        "print(f'Dimensi data adalah {dimensi[0]} baris, dan {dimensi[1]} kolom')\n",
        "print(f'Panjang data adalah {panjang_data} baris')"
      ],
      "execution_count": null,
      "outputs": [
        {
          "output_type": "stream",
          "text": [
            "Dimensi data adalah 1200 baris, dan 13 kolom\n",
            "Panjang data adalah 1200 baris\n"
          ],
          "name": "stdout"
        }
      ]
    },
    {
      "cell_type": "markdown",
      "metadata": {
        "id": "_JDQ8HUr5Hod"
      },
      "source": [
        "**Cek Missing Values**"
      ]
    },
    {
      "cell_type": "code",
      "metadata": {
        "colab": {
          "base_uri": "https://localhost:8080/"
        },
        "id": "mzUiaRow0vr3",
        "outputId": "562a40aa-bbd3-440a-bf5b-fc3dba62e861"
      },
      "source": [
        "df.isnull().sum()"
      ],
      "execution_count": null,
      "outputs": [
        {
          "output_type": "execute_result",
          "data": {
            "text/plain": [
              "Match Played      0\n",
              "Teams             0\n",
              "Group             0\n",
              "Map               0\n",
              "Groups Playing    0\n",
              "Week              0\n",
              "Day               0\n",
              "Match No          0\n",
              "Team Match No     0\n",
              "Chicken Dinner    0\n",
              "Placement         0\n",
              "Kills             0\n",
              "Total             0\n",
              "dtype: int64"
            ]
          },
          "metadata": {
            "tags": []
          },
          "execution_count": 54
        }
      ]
    },
    {
      "cell_type": "markdown",
      "metadata": {
        "id": "B1RzUsDl1bPH"
      },
      "source": [
        "Berdasarkan data diatas maka dataset ini tidak terdapat nilai kosong atau \"missing value\" pada setiap kolom nya"
      ]
    },
    {
      "cell_type": "markdown",
      "metadata": {
        "id": "d5THzgYc5MdB"
      },
      "source": [
        "**Cek Dimensi** "
      ]
    },
    {
      "cell_type": "code",
      "metadata": {
        "colab": {
          "base_uri": "https://localhost:8080/",
          "height": 34
        },
        "id": "TH_m61z_UfwD",
        "outputId": "97959125-eede-4f09-a5a1-d1d7c758c1b0"
      },
      "source": [
        "fig=plt.figure()"
      ],
      "execution_count": null,
      "outputs": [
        {
          "output_type": "display_data",
          "data": {
            "text/plain": [
              "<Figure size 432x288 with 0 Axes>"
            ]
          },
          "metadata": {
            "tags": []
          }
        }
      ]
    },
    {
      "cell_type": "markdown",
      "metadata": {
        "id": "MSenaa1N1e1H"
      },
      "source": [
        "Melihat dimensi"
      ]
    },
    {
      "cell_type": "code",
      "metadata": {
        "colab": {
          "base_uri": "https://localhost:8080/"
        },
        "id": "Etu8pztnOTnB",
        "outputId": "ebff3d73-59f5-4cc3-968e-f6f9fa3f9725"
      },
      "source": [
        "df.Map.value_counts()"
      ],
      "execution_count": null,
      "outputs": [
        {
          "output_type": "execute_result",
          "data": {
            "text/plain": [
              "Sanhok     300\n",
              "Miramar    300\n",
              "Vikendi    300\n",
              "Erangel    300\n",
              "Name: Map, dtype: int64"
            ]
          },
          "metadata": {
            "tags": []
          },
          "execution_count": 56
        }
      ]
    },
    {
      "cell_type": "markdown",
      "metadata": {
        "id": "A6XO9oUU_Gqg"
      },
      "source": [
        "**Melihat frekuensi data Berdasarkan Kills**"
      ]
    },
    {
      "cell_type": "code",
      "metadata": {
        "colab": {
          "base_uri": "https://localhost:8080/",
          "height": 308
        },
        "id": "KLC0qHIBOg7B",
        "outputId": "05b59a95-9a8e-464b-c1f9-5ca106953859"
      },
      "source": [
        "plt.hist(df['Kills'], bins = 10, edgecolor = 'black')\n",
        "plt.suptitle('PMPL SOUTH ASIA ', fontsize=14, fontweight='bold')\n",
        "plt.title('Berdasarkan Kills')\n",
        "plt.xlabel('Kills')\n",
        "plt.ylabel('Frekuensi')\n",
        "plt.show()"
      ],
      "execution_count": null,
      "outputs": [
        {
          "output_type": "display_data",
          "data": {
            "image/png": "[encoded data removed]",
            "text/plain": [
              "<Figure size 432x288 with 1 Axes>"
            ]
          },
          "metadata": {
            "tags": [],
            "needs_background": "light"
          }
        }
      ]
    },
    {
      "cell_type": "markdown",
      "metadata": {
        "id": "mblLy_JH182z"
      },
      "source": [
        "Berdasarkan Grafik diatas maka dapat dianalisa bahwa jumlah kills pada Turnament PMPL South Asia"
      ]
    },
    {
      "cell_type": "markdown",
      "metadata": {
        "id": "bN5FXOOR_cOL"
      },
      "source": [
        "**Melihat hubungan data Berdasarkan Hubungan Placement dan Kills menggunakan Scatter plot**"
      ]
    },
    {
      "cell_type": "code",
      "metadata": {
        "id": "4oRrG0XzQZ7S",
        "colab": {
          "base_uri": "https://localhost:8080/",
          "height": 295
        },
        "outputId": "0bcb0287-1bba-4ea3-cbe3-6de7f6dda1ba"
      },
      "source": [
        "fig=plt.figure()\n",
        "ax = fig.add_subplot(1,1,1)\n",
        "ax.scatter(df['Placement'],df['Kills'])\n",
        "plt.title('Placement dan Kills')\n",
        "plt.xlabel('Placement')\n",
        "plt.ylabel('Kills')\n",
        "plt.show()"
      ],
      "execution_count": null,
      "outputs": [
        {
          "output_type": "display_data",
          "data": {
            "image/png": "[encoded data removed]",
            "text/plain": [
              "<Figure size 432x288 with 1 Axes>"
            ]
          },
          "metadata": {
            "tags": [],
            "needs_background": "light"
          }
        }
      ]
    },
    {
      "cell_type": "markdown",
      "metadata": {
        "id": "snLCM8og3TWv"
      },
      "source": [
        "Berdasarkan Scatterplot diatas menunjukkan bahwa data yang dianalisa merupakan data normal."
      ]
    },
    {
      "cell_type": "markdown",
      "metadata": {
        "id": "-oJSGQLs_oMk"
      },
      "source": [
        "**Box-plot dari Placement**"
      ]
    },
    {
      "cell_type": "code",
      "metadata": {
        "colab": {
          "base_uri": "https://localhost:8080/",
          "height": 333
        },
        "id": "TMIK1f5EQ_sy",
        "outputId": "e2d3edba-3c8b-4dbc-c1f5-854ebbce3016"
      },
      "source": [
        "sns.boxplot(df['Placement'])\n",
        "sns.despine()"
      ],
      "execution_count": null,
      "outputs": [
        {
          "output_type": "stream",
          "text": [
            "/usr/local/lib/python3.6/dist-packages/seaborn/_decorators.py:43: FutureWarning: Pass the following variable as a keyword arg: x. From version 0.12, the only valid positional argument will be `data`, and passing other arguments without an explicit keyword will result in an error or misinterpretation.\n",
            "  FutureWarning\n"
          ],
          "name": "stderr"
        },
        {
          "output_type": "display_data",
          "data": {
            "image/png": "[encoded data removed]",
            "text/plain": [
              "<Figure size 432x288 with 1 Axes>"
            ]
          },
          "metadata": {
            "tags": [],
            "needs_background": "light"
          }
        }
      ]
    },
    {
      "cell_type": "markdown",
      "metadata": {
        "id": "HxQz5cS4_zEg"
      },
      "source": [
        "**Tabel Frekuensi**"
      ]
    },
    {
      "cell_type": "code",
      "metadata": {
        "colab": {
          "base_uri": "https://localhost:8080/"
        },
        "id": "lms7JFv7RT25",
        "outputId": "4f2f0a30-905b-4c61-f3d2-417a210b367a"
      },
      "source": [
        "test= df.groupby(['Placement','Kills'])\n",
        "test.size()"
      ],
      "execution_count": null,
      "outputs": [
        {
          "output_type": "execute_result",
          "data": {
            "text/plain": [
              "Placement  Kills\n",
              "0          0        240\n",
              "1          0        135\n",
              "           1         94\n",
              "           2         42\n",
              "           3         41\n",
              "                   ... \n",
              "20         14         3\n",
              "           15         1\n",
              "           16         2\n",
              "           18         1\n",
              "           19         1\n",
              "Length: 120, dtype: int64"
            ]
          },
          "metadata": {
            "tags": []
          },
          "execution_count": 60
        }
      ]
    },
    {
      "cell_type": "code",
      "metadata": {
        "id": "gy7nfkauAiuz"
      },
      "source": [
        ""
      ],
      "execution_count": null,
      "outputs": []
    },
    {
      "cell_type": "markdown",
      "metadata": {
        "id": "DjVtuP_w_5K9"
      },
      "source": [
        "**Mengelompokkan variabel**"
      ]
    },
    {
      "cell_type": "code",
      "metadata": {
        "colab": {
          "base_uri": "https://localhost:8080/",
          "height": 482
        },
        "id": "mJAXK3koRmhS",
        "outputId": "1ff72b30-4608-4720-fd8d-b5e8a9e56fa7"
      },
      "source": [
        "test= df.groupby(['Placement'])\n",
        "test.describe()"
      ],
      "execution_count": null,
      "outputs": [
        {
          "output_type": "execute_result",
          "data": {
            "text/html": [
              "<div>\n",
              "<style scoped>\n",
              "    .dataframe tbody tr th:only-of-type {\n",
              "        vertical-align: middle;\n",
              "    }\n",
              "\n",
              "    .dataframe tbody tr th {\n",
              "        vertical-align: top;\n",
              "    }\n",
              "\n",
              "    .dataframe thead tr th {\n",
              "        text-align: left;\n",
              "    }\n",
              "\n",
              "    .dataframe thead tr:last-of-type th {\n",
              "        text-align: right;\n",
              "    }\n",
              "</style>\n",
              "<table border=\"1\" class=\"dataframe\">\n",
              "  <thead>\n",
              "    <tr>\n",
              "      <th></th>\n",
              "      <th colspan=\"8\" halign=\"left\">Match Played</th>\n",
              "      <th colspan=\"8\" halign=\"left\">Week</th>\n",
              "      <th colspan=\"8\" halign=\"left\">Day</th>\n",
              "      <th colspan=\"8\" halign=\"left\">Match No</th>\n",
              "      <th colspan=\"8\" halign=\"left\">Team Match No</th>\n",
              "      <th colspan=\"8\" halign=\"left\">Chicken Dinner</th>\n",
              "      <th colspan=\"8\" halign=\"left\">Kills</th>\n",
              "      <th colspan=\"8\" halign=\"left\">Total</th>\n",
              "    </tr>\n",
              "    <tr>\n",
              "      <th></th>\n",
              "      <th>count</th>\n",
              "      <th>mean</th>\n",
              "      <th>std</th>\n",
              "      <th>min</th>\n",
              "      <th>25%</th>\n",
              "      <th>50%</th>\n",
              "      <th>75%</th>\n",
              "      <th>max</th>\n",
              "      <th>count</th>\n",
              "      <th>mean</th>\n",
              "      <th>std</th>\n",
              "      <th>min</th>\n",
              "      <th>25%</th>\n",
              "      <th>50%</th>\n",
              "      <th>75%</th>\n",
              "      <th>max</th>\n",
              "      <th>count</th>\n",
              "      <th>mean</th>\n",
              "      <th>std</th>\n",
              "      <th>min</th>\n",
              "      <th>25%</th>\n",
              "      <th>50%</th>\n",
              "      <th>75%</th>\n",
              "      <th>max</th>\n",
              "      <th>count</th>\n",
              "      <th>mean</th>\n",
              "      <th>std</th>\n",
              "      <th>min</th>\n",
              "      <th>25%</th>\n",
              "      <th>50%</th>\n",
              "      <th>75%</th>\n",
              "      <th>max</th>\n",
              "      <th>count</th>\n",
              "      <th>mean</th>\n",
              "      <th>std</th>\n",
              "      <th>min</th>\n",
              "      <th>25%</th>\n",
              "      <th>50%</th>\n",
              "      <th>75%</th>\n",
              "      <th>max</th>\n",
              "      <th>count</th>\n",
              "      <th>mean</th>\n",
              "      <th>std</th>\n",
              "      <th>min</th>\n",
              "      <th>25%</th>\n",
              "      <th>50%</th>\n",
              "      <th>75%</th>\n",
              "      <th>max</th>\n",
              "      <th>count</th>\n",
              "      <th>mean</th>\n",
              "      <th>std</th>\n",
              "      <th>min</th>\n",
              "      <th>25%</th>\n",
              "      <th>50%</th>\n",
              "      <th>75%</th>\n",
              "      <th>max</th>\n",
              "      <th>count</th>\n",
              "      <th>mean</th>\n",
              "      <th>std</th>\n",
              "      <th>min</th>\n",
              "      <th>25%</th>\n",
              "      <th>50%</th>\n",
              "      <th>75%</th>\n",
              "      <th>max</th>\n",
              "    </tr>\n",
              "    <tr>\n",
              "      <th>Placement</th>\n",
              "      <th></th>\n",
              "      <th></th>\n",
              "      <th></th>\n",
              "      <th></th>\n",
              "      <th></th>\n",
              "      <th></th>\n",
              "      <th></th>\n",
              "      <th></th>\n",
              "      <th></th>\n",
              "      <th></th>\n",
              "      <th></th>\n",
              "      <th></th>\n",
              "      <th></th>\n",
              "      <th></th>\n",
              "      <th></th>\n",
              "      <th></th>\n",
              "      <th></th>\n",
              "      <th></th>\n",
              "      <th></th>\n",
              "      <th></th>\n",
              "      <th></th>\n",
              "      <th></th>\n",
              "      <th></th>\n",
              "      <th></th>\n",
              "      <th></th>\n",
              "      <th></th>\n",
              "      <th></th>\n",
              "      <th></th>\n",
              "      <th></th>\n",
              "      <th></th>\n",
              "      <th></th>\n",
              "      <th></th>\n",
              "      <th></th>\n",
              "      <th></th>\n",
              "      <th></th>\n",
              "      <th></th>\n",
              "      <th></th>\n",
              "      <th></th>\n",
              "      <th></th>\n",
              "      <th></th>\n",
              "      <th></th>\n",
              "      <th></th>\n",
              "      <th></th>\n",
              "      <th></th>\n",
              "      <th></th>\n",
              "      <th></th>\n",
              "      <th></th>\n",
              "      <th></th>\n",
              "      <th></th>\n",
              "      <th></th>\n",
              "      <th></th>\n",
              "      <th></th>\n",
              "      <th></th>\n",
              "      <th></th>\n",
              "      <th></th>\n",
              "      <th></th>\n",
              "      <th></th>\n",
              "      <th></th>\n",
              "      <th></th>\n",
              "      <th></th>\n",
              "      <th></th>\n",
              "      <th></th>\n",
              "      <th></th>\n",
              "      <th></th>\n",
              "    </tr>\n",
              "  </thead>\n",
              "  <tbody>\n",
              "    <tr>\n",
              "      <th>0</th>\n",
              "      <td>240.0</td>\n",
              "      <td>0.0</td>\n",
              "      <td>0.0</td>\n",
              "      <td>0.0</td>\n",
              "      <td>0.0</td>\n",
              "      <td>0.0</td>\n",
              "      <td>0.0</td>\n",
              "      <td>0.0</td>\n",
              "      <td>240.0</td>\n",
              "      <td>2.0</td>\n",
              "      <td>0.818203</td>\n",
              "      <td>1.0</td>\n",
              "      <td>1.0</td>\n",
              "      <td>2.0</td>\n",
              "      <td>3.0</td>\n",
              "      <td>3.0</td>\n",
              "      <td>240.0</td>\n",
              "      <td>2.5</td>\n",
              "      <td>1.120371</td>\n",
              "      <td>1.0</td>\n",
              "      <td>1.75</td>\n",
              "      <td>2.5</td>\n",
              "      <td>3.25</td>\n",
              "      <td>4.0</td>\n",
              "      <td>240.0</td>\n",
              "      <td>30.5</td>\n",
              "      <td>17.354295</td>\n",
              "      <td>1.0</td>\n",
              "      <td>15.75</td>\n",
              "      <td>30.5</td>\n",
              "      <td>45.25</td>\n",
              "      <td>60.0</td>\n",
              "      <td>240.0</td>\n",
              "      <td>24.000000</td>\n",
              "      <td>14.265856</td>\n",
              "      <td>0.0</td>\n",
              "      <td>12.00</td>\n",
              "      <td>24.0</td>\n",
              "      <td>36.00</td>\n",
              "      <td>48.0</td>\n",
              "      <td>240.0</td>\n",
              "      <td>0.0</td>\n",
              "      <td>0.0</td>\n",
              "      <td>0.0</td>\n",
              "      <td>0.0</td>\n",
              "      <td>0.0</td>\n",
              "      <td>0.0</td>\n",
              "      <td>0.0</td>\n",
              "      <td>240.0</td>\n",
              "      <td>0.000000</td>\n",
              "      <td>0.000000</td>\n",
              "      <td>0.0</td>\n",
              "      <td>0.00</td>\n",
              "      <td>0.0</td>\n",
              "      <td>0.00</td>\n",
              "      <td>0.0</td>\n",
              "      <td>240.0</td>\n",
              "      <td>0.000000</td>\n",
              "      <td>0.000000</td>\n",
              "      <td>0.0</td>\n",
              "      <td>0.00</td>\n",
              "      <td>0.0</td>\n",
              "      <td>0.00</td>\n",
              "      <td>0.0</td>\n",
              "    </tr>\n",
              "    <tr>\n",
              "      <th>1</th>\n",
              "      <td>360.0</td>\n",
              "      <td>1.0</td>\n",
              "      <td>0.0</td>\n",
              "      <td>1.0</td>\n",
              "      <td>1.0</td>\n",
              "      <td>1.0</td>\n",
              "      <td>1.0</td>\n",
              "      <td>1.0</td>\n",
              "      <td>360.0</td>\n",
              "      <td>2.0</td>\n",
              "      <td>0.817633</td>\n",
              "      <td>1.0</td>\n",
              "      <td>1.0</td>\n",
              "      <td>2.0</td>\n",
              "      <td>3.0</td>\n",
              "      <td>3.0</td>\n",
              "      <td>360.0</td>\n",
              "      <td>2.5</td>\n",
              "      <td>1.119590</td>\n",
              "      <td>1.0</td>\n",
              "      <td>1.75</td>\n",
              "      <td>2.5</td>\n",
              "      <td>3.25</td>\n",
              "      <td>4.0</td>\n",
              "      <td>360.0</td>\n",
              "      <td>30.5</td>\n",
              "      <td>17.342205</td>\n",
              "      <td>1.0</td>\n",
              "      <td>15.75</td>\n",
              "      <td>30.5</td>\n",
              "      <td>45.25</td>\n",
              "      <td>60.0</td>\n",
              "      <td>360.0</td>\n",
              "      <td>24.455556</td>\n",
              "      <td>13.801749</td>\n",
              "      <td>1.0</td>\n",
              "      <td>12.75</td>\n",
              "      <td>24.0</td>\n",
              "      <td>36.00</td>\n",
              "      <td>48.0</td>\n",
              "      <td>360.0</td>\n",
              "      <td>0.0</td>\n",
              "      <td>0.0</td>\n",
              "      <td>0.0</td>\n",
              "      <td>0.0</td>\n",
              "      <td>0.0</td>\n",
              "      <td>0.0</td>\n",
              "      <td>0.0</td>\n",
              "      <td>360.0</td>\n",
              "      <td>1.522222</td>\n",
              "      <td>1.789650</td>\n",
              "      <td>0.0</td>\n",
              "      <td>0.00</td>\n",
              "      <td>1.0</td>\n",
              "      <td>2.00</td>\n",
              "      <td>8.0</td>\n",
              "      <td>360.0</td>\n",
              "      <td>2.522222</td>\n",
              "      <td>1.789650</td>\n",
              "      <td>1.0</td>\n",
              "      <td>1.00</td>\n",
              "      <td>2.0</td>\n",
              "      <td>3.00</td>\n",
              "      <td>9.0</td>\n",
              "    </tr>\n",
              "    <tr>\n",
              "      <th>2</th>\n",
              "      <td>60.0</td>\n",
              "      <td>1.0</td>\n",
              "      <td>0.0</td>\n",
              "      <td>1.0</td>\n",
              "      <td>1.0</td>\n",
              "      <td>1.0</td>\n",
              "      <td>1.0</td>\n",
              "      <td>1.0</td>\n",
              "      <td>60.0</td>\n",
              "      <td>2.0</td>\n",
              "      <td>0.823387</td>\n",
              "      <td>1.0</td>\n",
              "      <td>1.0</td>\n",
              "      <td>2.0</td>\n",
              "      <td>3.0</td>\n",
              "      <td>3.0</td>\n",
              "      <td>60.0</td>\n",
              "      <td>2.5</td>\n",
              "      <td>1.127469</td>\n",
              "      <td>1.0</td>\n",
              "      <td>1.75</td>\n",
              "      <td>2.5</td>\n",
              "      <td>3.25</td>\n",
              "      <td>4.0</td>\n",
              "      <td>60.0</td>\n",
              "      <td>30.5</td>\n",
              "      <td>17.464249</td>\n",
              "      <td>1.0</td>\n",
              "      <td>15.75</td>\n",
              "      <td>30.5</td>\n",
              "      <td>45.25</td>\n",
              "      <td>60.0</td>\n",
              "      <td>60.0</td>\n",
              "      <td>24.366667</td>\n",
              "      <td>14.090466</td>\n",
              "      <td>1.0</td>\n",
              "      <td>12.75</td>\n",
              "      <td>24.5</td>\n",
              "      <td>36.25</td>\n",
              "      <td>48.0</td>\n",
              "      <td>60.0</td>\n",
              "      <td>0.0</td>\n",
              "      <td>0.0</td>\n",
              "      <td>0.0</td>\n",
              "      <td>0.0</td>\n",
              "      <td>0.0</td>\n",
              "      <td>0.0</td>\n",
              "      <td>0.0</td>\n",
              "      <td>60.0</td>\n",
              "      <td>2.500000</td>\n",
              "      <td>1.961494</td>\n",
              "      <td>0.0</td>\n",
              "      <td>1.00</td>\n",
              "      <td>2.0</td>\n",
              "      <td>4.00</td>\n",
              "      <td>9.0</td>\n",
              "      <td>60.0</td>\n",
              "      <td>4.500000</td>\n",
              "      <td>1.961494</td>\n",
              "      <td>2.0</td>\n",
              "      <td>3.00</td>\n",
              "      <td>4.0</td>\n",
              "      <td>6.00</td>\n",
              "      <td>11.0</td>\n",
              "    </tr>\n",
              "    <tr>\n",
              "      <th>3</th>\n",
              "      <td>60.0</td>\n",
              "      <td>1.0</td>\n",
              "      <td>0.0</td>\n",
              "      <td>1.0</td>\n",
              "      <td>1.0</td>\n",
              "      <td>1.0</td>\n",
              "      <td>1.0</td>\n",
              "      <td>1.0</td>\n",
              "      <td>60.0</td>\n",
              "      <td>2.0</td>\n",
              "      <td>0.823387</td>\n",
              "      <td>1.0</td>\n",
              "      <td>1.0</td>\n",
              "      <td>2.0</td>\n",
              "      <td>3.0</td>\n",
              "      <td>3.0</td>\n",
              "      <td>60.0</td>\n",
              "      <td>2.5</td>\n",
              "      <td>1.127469</td>\n",
              "      <td>1.0</td>\n",
              "      <td>1.75</td>\n",
              "      <td>2.5</td>\n",
              "      <td>3.25</td>\n",
              "      <td>4.0</td>\n",
              "      <td>60.0</td>\n",
              "      <td>30.5</td>\n",
              "      <td>17.464249</td>\n",
              "      <td>1.0</td>\n",
              "      <td>15.75</td>\n",
              "      <td>30.5</td>\n",
              "      <td>45.25</td>\n",
              "      <td>60.0</td>\n",
              "      <td>60.0</td>\n",
              "      <td>24.700000</td>\n",
              "      <td>13.976130</td>\n",
              "      <td>1.0</td>\n",
              "      <td>12.75</td>\n",
              "      <td>25.0</td>\n",
              "      <td>37.00</td>\n",
              "      <td>48.0</td>\n",
              "      <td>60.0</td>\n",
              "      <td>0.0</td>\n",
              "      <td>0.0</td>\n",
              "      <td>0.0</td>\n",
              "      <td>0.0</td>\n",
              "      <td>0.0</td>\n",
              "      <td>0.0</td>\n",
              "      <td>0.0</td>\n",
              "      <td>60.0</td>\n",
              "      <td>2.666667</td>\n",
              "      <td>2.199127</td>\n",
              "      <td>0.0</td>\n",
              "      <td>1.00</td>\n",
              "      <td>2.5</td>\n",
              "      <td>4.00</td>\n",
              "      <td>8.0</td>\n",
              "      <td>60.0</td>\n",
              "      <td>5.666667</td>\n",
              "      <td>2.199127</td>\n",
              "      <td>3.0</td>\n",
              "      <td>4.00</td>\n",
              "      <td>5.5</td>\n",
              "      <td>7.00</td>\n",
              "      <td>11.0</td>\n",
              "    </tr>\n",
              "    <tr>\n",
              "      <th>4</th>\n",
              "      <td>60.0</td>\n",
              "      <td>1.0</td>\n",
              "      <td>0.0</td>\n",
              "      <td>1.0</td>\n",
              "      <td>1.0</td>\n",
              "      <td>1.0</td>\n",
              "      <td>1.0</td>\n",
              "      <td>1.0</td>\n",
              "      <td>60.0</td>\n",
              "      <td>2.0</td>\n",
              "      <td>0.823387</td>\n",
              "      <td>1.0</td>\n",
              "      <td>1.0</td>\n",
              "      <td>2.0</td>\n",
              "      <td>3.0</td>\n",
              "      <td>3.0</td>\n",
              "      <td>60.0</td>\n",
              "      <td>2.5</td>\n",
              "      <td>1.127469</td>\n",
              "      <td>1.0</td>\n",
              "      <td>1.75</td>\n",
              "      <td>2.5</td>\n",
              "      <td>3.25</td>\n",
              "      <td>4.0</td>\n",
              "      <td>60.0</td>\n",
              "      <td>30.5</td>\n",
              "      <td>17.464249</td>\n",
              "      <td>1.0</td>\n",
              "      <td>15.75</td>\n",
              "      <td>30.5</td>\n",
              "      <td>45.25</td>\n",
              "      <td>60.0</td>\n",
              "      <td>60.0</td>\n",
              "      <td>24.366667</td>\n",
              "      <td>13.891793</td>\n",
              "      <td>1.0</td>\n",
              "      <td>12.00</td>\n",
              "      <td>23.5</td>\n",
              "      <td>36.25</td>\n",
              "      <td>48.0</td>\n",
              "      <td>60.0</td>\n",
              "      <td>0.0</td>\n",
              "      <td>0.0</td>\n",
              "      <td>0.0</td>\n",
              "      <td>0.0</td>\n",
              "      <td>0.0</td>\n",
              "      <td>0.0</td>\n",
              "      <td>0.0</td>\n",
              "      <td>60.0</td>\n",
              "      <td>2.633333</td>\n",
              "      <td>2.209123</td>\n",
              "      <td>0.0</td>\n",
              "      <td>1.00</td>\n",
              "      <td>2.0</td>\n",
              "      <td>4.00</td>\n",
              "      <td>11.0</td>\n",
              "      <td>60.0</td>\n",
              "      <td>6.633333</td>\n",
              "      <td>2.209123</td>\n",
              "      <td>4.0</td>\n",
              "      <td>5.00</td>\n",
              "      <td>6.0</td>\n",
              "      <td>8.00</td>\n",
              "      <td>15.0</td>\n",
              "    </tr>\n",
              "    <tr>\n",
              "      <th>5</th>\n",
              "      <td>60.0</td>\n",
              "      <td>1.0</td>\n",
              "      <td>0.0</td>\n",
              "      <td>1.0</td>\n",
              "      <td>1.0</td>\n",
              "      <td>1.0</td>\n",
              "      <td>1.0</td>\n",
              "      <td>1.0</td>\n",
              "      <td>60.0</td>\n",
              "      <td>2.0</td>\n",
              "      <td>0.823387</td>\n",
              "      <td>1.0</td>\n",
              "      <td>1.0</td>\n",
              "      <td>2.0</td>\n",
              "      <td>3.0</td>\n",
              "      <td>3.0</td>\n",
              "      <td>60.0</td>\n",
              "      <td>2.5</td>\n",
              "      <td>1.127469</td>\n",
              "      <td>1.0</td>\n",
              "      <td>1.75</td>\n",
              "      <td>2.5</td>\n",
              "      <td>3.25</td>\n",
              "      <td>4.0</td>\n",
              "      <td>60.0</td>\n",
              "      <td>30.5</td>\n",
              "      <td>17.464249</td>\n",
              "      <td>1.0</td>\n",
              "      <td>15.75</td>\n",
              "      <td>30.5</td>\n",
              "      <td>45.25</td>\n",
              "      <td>60.0</td>\n",
              "      <td>60.0</td>\n",
              "      <td>24.300000</td>\n",
              "      <td>13.995520</td>\n",
              "      <td>1.0</td>\n",
              "      <td>11.75</td>\n",
              "      <td>24.5</td>\n",
              "      <td>36.25</td>\n",
              "      <td>48.0</td>\n",
              "      <td>60.0</td>\n",
              "      <td>0.0</td>\n",
              "      <td>0.0</td>\n",
              "      <td>0.0</td>\n",
              "      <td>0.0</td>\n",
              "      <td>0.0</td>\n",
              "      <td>0.0</td>\n",
              "      <td>0.0</td>\n",
              "      <td>60.0</td>\n",
              "      <td>3.316667</td>\n",
              "      <td>2.418093</td>\n",
              "      <td>0.0</td>\n",
              "      <td>2.00</td>\n",
              "      <td>3.0</td>\n",
              "      <td>5.00</td>\n",
              "      <td>10.0</td>\n",
              "      <td>60.0</td>\n",
              "      <td>8.316667</td>\n",
              "      <td>2.418093</td>\n",
              "      <td>5.0</td>\n",
              "      <td>7.00</td>\n",
              "      <td>8.0</td>\n",
              "      <td>10.00</td>\n",
              "      <td>15.0</td>\n",
              "    </tr>\n",
              "    <tr>\n",
              "      <th>6</th>\n",
              "      <td>60.0</td>\n",
              "      <td>1.0</td>\n",
              "      <td>0.0</td>\n",
              "      <td>1.0</td>\n",
              "      <td>1.0</td>\n",
              "      <td>1.0</td>\n",
              "      <td>1.0</td>\n",
              "      <td>1.0</td>\n",
              "      <td>60.0</td>\n",
              "      <td>2.0</td>\n",
              "      <td>0.823387</td>\n",
              "      <td>1.0</td>\n",
              "      <td>1.0</td>\n",
              "      <td>2.0</td>\n",
              "      <td>3.0</td>\n",
              "      <td>3.0</td>\n",
              "      <td>60.0</td>\n",
              "      <td>2.5</td>\n",
              "      <td>1.127469</td>\n",
              "      <td>1.0</td>\n",
              "      <td>1.75</td>\n",
              "      <td>2.5</td>\n",
              "      <td>3.25</td>\n",
              "      <td>4.0</td>\n",
              "      <td>60.0</td>\n",
              "      <td>30.5</td>\n",
              "      <td>17.464249</td>\n",
              "      <td>1.0</td>\n",
              "      <td>15.75</td>\n",
              "      <td>30.5</td>\n",
              "      <td>45.25</td>\n",
              "      <td>60.0</td>\n",
              "      <td>60.0</td>\n",
              "      <td>24.500000</td>\n",
              "      <td>14.182228</td>\n",
              "      <td>1.0</td>\n",
              "      <td>13.00</td>\n",
              "      <td>24.0</td>\n",
              "      <td>37.25</td>\n",
              "      <td>48.0</td>\n",
              "      <td>60.0</td>\n",
              "      <td>0.0</td>\n",
              "      <td>0.0</td>\n",
              "      <td>0.0</td>\n",
              "      <td>0.0</td>\n",
              "      <td>0.0</td>\n",
              "      <td>0.0</td>\n",
              "      <td>0.0</td>\n",
              "      <td>60.0</td>\n",
              "      <td>3.150000</td>\n",
              "      <td>2.268614</td>\n",
              "      <td>0.0</td>\n",
              "      <td>1.75</td>\n",
              "      <td>3.0</td>\n",
              "      <td>5.00</td>\n",
              "      <td>8.0</td>\n",
              "      <td>60.0</td>\n",
              "      <td>9.150000</td>\n",
              "      <td>2.268614</td>\n",
              "      <td>6.0</td>\n",
              "      <td>7.75</td>\n",
              "      <td>9.0</td>\n",
              "      <td>11.00</td>\n",
              "      <td>14.0</td>\n",
              "    </tr>\n",
              "    <tr>\n",
              "      <th>7</th>\n",
              "      <td>60.0</td>\n",
              "      <td>1.0</td>\n",
              "      <td>0.0</td>\n",
              "      <td>1.0</td>\n",
              "      <td>1.0</td>\n",
              "      <td>1.0</td>\n",
              "      <td>1.0</td>\n",
              "      <td>1.0</td>\n",
              "      <td>60.0</td>\n",
              "      <td>2.0</td>\n",
              "      <td>0.823387</td>\n",
              "      <td>1.0</td>\n",
              "      <td>1.0</td>\n",
              "      <td>2.0</td>\n",
              "      <td>3.0</td>\n",
              "      <td>3.0</td>\n",
              "      <td>60.0</td>\n",
              "      <td>2.5</td>\n",
              "      <td>1.127469</td>\n",
              "      <td>1.0</td>\n",
              "      <td>1.75</td>\n",
              "      <td>2.5</td>\n",
              "      <td>3.25</td>\n",
              "      <td>4.0</td>\n",
              "      <td>60.0</td>\n",
              "      <td>30.5</td>\n",
              "      <td>17.464249</td>\n",
              "      <td>1.0</td>\n",
              "      <td>15.75</td>\n",
              "      <td>30.5</td>\n",
              "      <td>45.25</td>\n",
              "      <td>60.0</td>\n",
              "      <td>60.0</td>\n",
              "      <td>24.900000</td>\n",
              "      <td>13.605458</td>\n",
              "      <td>1.0</td>\n",
              "      <td>13.00</td>\n",
              "      <td>25.5</td>\n",
              "      <td>37.25</td>\n",
              "      <td>48.0</td>\n",
              "      <td>60.0</td>\n",
              "      <td>0.0</td>\n",
              "      <td>0.0</td>\n",
              "      <td>0.0</td>\n",
              "      <td>0.0</td>\n",
              "      <td>0.0</td>\n",
              "      <td>0.0</td>\n",
              "      <td>0.0</td>\n",
              "      <td>60.0</td>\n",
              "      <td>4.400000</td>\n",
              "      <td>2.707178</td>\n",
              "      <td>0.0</td>\n",
              "      <td>2.00</td>\n",
              "      <td>4.0</td>\n",
              "      <td>7.00</td>\n",
              "      <td>9.0</td>\n",
              "      <td>60.0</td>\n",
              "      <td>11.400000</td>\n",
              "      <td>2.707178</td>\n",
              "      <td>7.0</td>\n",
              "      <td>9.00</td>\n",
              "      <td>11.0</td>\n",
              "      <td>14.00</td>\n",
              "      <td>16.0</td>\n",
              "    </tr>\n",
              "    <tr>\n",
              "      <th>8</th>\n",
              "      <td>60.0</td>\n",
              "      <td>1.0</td>\n",
              "      <td>0.0</td>\n",
              "      <td>1.0</td>\n",
              "      <td>1.0</td>\n",
              "      <td>1.0</td>\n",
              "      <td>1.0</td>\n",
              "      <td>1.0</td>\n",
              "      <td>60.0</td>\n",
              "      <td>2.0</td>\n",
              "      <td>0.823387</td>\n",
              "      <td>1.0</td>\n",
              "      <td>1.0</td>\n",
              "      <td>2.0</td>\n",
              "      <td>3.0</td>\n",
              "      <td>3.0</td>\n",
              "      <td>60.0</td>\n",
              "      <td>2.5</td>\n",
              "      <td>1.127469</td>\n",
              "      <td>1.0</td>\n",
              "      <td>1.75</td>\n",
              "      <td>2.5</td>\n",
              "      <td>3.25</td>\n",
              "      <td>4.0</td>\n",
              "      <td>60.0</td>\n",
              "      <td>30.5</td>\n",
              "      <td>17.464249</td>\n",
              "      <td>1.0</td>\n",
              "      <td>15.75</td>\n",
              "      <td>30.5</td>\n",
              "      <td>45.25</td>\n",
              "      <td>60.0</td>\n",
              "      <td>60.0</td>\n",
              "      <td>24.433333</td>\n",
              "      <td>14.364937</td>\n",
              "      <td>1.0</td>\n",
              "      <td>13.75</td>\n",
              "      <td>23.0</td>\n",
              "      <td>36.50</td>\n",
              "      <td>48.0</td>\n",
              "      <td>60.0</td>\n",
              "      <td>0.0</td>\n",
              "      <td>0.0</td>\n",
              "      <td>0.0</td>\n",
              "      <td>0.0</td>\n",
              "      <td>0.0</td>\n",
              "      <td>0.0</td>\n",
              "      <td>0.0</td>\n",
              "      <td>60.0</td>\n",
              "      <td>4.833333</td>\n",
              "      <td>3.205750</td>\n",
              "      <td>0.0</td>\n",
              "      <td>2.00</td>\n",
              "      <td>4.5</td>\n",
              "      <td>7.25</td>\n",
              "      <td>12.0</td>\n",
              "      <td>60.0</td>\n",
              "      <td>12.833333</td>\n",
              "      <td>3.205750</td>\n",
              "      <td>8.0</td>\n",
              "      <td>10.00</td>\n",
              "      <td>12.5</td>\n",
              "      <td>15.25</td>\n",
              "      <td>20.0</td>\n",
              "    </tr>\n",
              "    <tr>\n",
              "      <th>10</th>\n",
              "      <td>60.0</td>\n",
              "      <td>1.0</td>\n",
              "      <td>0.0</td>\n",
              "      <td>1.0</td>\n",
              "      <td>1.0</td>\n",
              "      <td>1.0</td>\n",
              "      <td>1.0</td>\n",
              "      <td>1.0</td>\n",
              "      <td>60.0</td>\n",
              "      <td>2.0</td>\n",
              "      <td>0.823387</td>\n",
              "      <td>1.0</td>\n",
              "      <td>1.0</td>\n",
              "      <td>2.0</td>\n",
              "      <td>3.0</td>\n",
              "      <td>3.0</td>\n",
              "      <td>60.0</td>\n",
              "      <td>2.5</td>\n",
              "      <td>1.127469</td>\n",
              "      <td>1.0</td>\n",
              "      <td>1.75</td>\n",
              "      <td>2.5</td>\n",
              "      <td>3.25</td>\n",
              "      <td>4.0</td>\n",
              "      <td>60.0</td>\n",
              "      <td>30.5</td>\n",
              "      <td>17.464249</td>\n",
              "      <td>1.0</td>\n",
              "      <td>15.75</td>\n",
              "      <td>30.5</td>\n",
              "      <td>45.25</td>\n",
              "      <td>60.0</td>\n",
              "      <td>60.0</td>\n",
              "      <td>24.366667</td>\n",
              "      <td>14.061568</td>\n",
              "      <td>1.0</td>\n",
              "      <td>12.00</td>\n",
              "      <td>24.0</td>\n",
              "      <td>36.25</td>\n",
              "      <td>48.0</td>\n",
              "      <td>60.0</td>\n",
              "      <td>0.0</td>\n",
              "      <td>0.0</td>\n",
              "      <td>0.0</td>\n",
              "      <td>0.0</td>\n",
              "      <td>0.0</td>\n",
              "      <td>0.0</td>\n",
              "      <td>0.0</td>\n",
              "      <td>60.0</td>\n",
              "      <td>6.250000</td>\n",
              "      <td>2.960903</td>\n",
              "      <td>0.0</td>\n",
              "      <td>4.00</td>\n",
              "      <td>6.0</td>\n",
              "      <td>8.25</td>\n",
              "      <td>14.0</td>\n",
              "      <td>60.0</td>\n",
              "      <td>16.250000</td>\n",
              "      <td>2.960903</td>\n",
              "      <td>10.0</td>\n",
              "      <td>14.00</td>\n",
              "      <td>16.0</td>\n",
              "      <td>18.25</td>\n",
              "      <td>24.0</td>\n",
              "    </tr>\n",
              "    <tr>\n",
              "      <th>14</th>\n",
              "      <td>60.0</td>\n",
              "      <td>1.0</td>\n",
              "      <td>0.0</td>\n",
              "      <td>1.0</td>\n",
              "      <td>1.0</td>\n",
              "      <td>1.0</td>\n",
              "      <td>1.0</td>\n",
              "      <td>1.0</td>\n",
              "      <td>60.0</td>\n",
              "      <td>2.0</td>\n",
              "      <td>0.823387</td>\n",
              "      <td>1.0</td>\n",
              "      <td>1.0</td>\n",
              "      <td>2.0</td>\n",
              "      <td>3.0</td>\n",
              "      <td>3.0</td>\n",
              "      <td>60.0</td>\n",
              "      <td>2.5</td>\n",
              "      <td>1.127469</td>\n",
              "      <td>1.0</td>\n",
              "      <td>1.75</td>\n",
              "      <td>2.5</td>\n",
              "      <td>3.25</td>\n",
              "      <td>4.0</td>\n",
              "      <td>60.0</td>\n",
              "      <td>30.5</td>\n",
              "      <td>17.464249</td>\n",
              "      <td>1.0</td>\n",
              "      <td>15.75</td>\n",
              "      <td>30.5</td>\n",
              "      <td>45.25</td>\n",
              "      <td>60.0</td>\n",
              "      <td>60.0</td>\n",
              "      <td>24.766667</td>\n",
              "      <td>13.703107</td>\n",
              "      <td>1.0</td>\n",
              "      <td>13.75</td>\n",
              "      <td>25.0</td>\n",
              "      <td>37.00</td>\n",
              "      <td>48.0</td>\n",
              "      <td>60.0</td>\n",
              "      <td>0.0</td>\n",
              "      <td>0.0</td>\n",
              "      <td>0.0</td>\n",
              "      <td>0.0</td>\n",
              "      <td>0.0</td>\n",
              "      <td>0.0</td>\n",
              "      <td>0.0</td>\n",
              "      <td>60.0</td>\n",
              "      <td>7.183333</td>\n",
              "      <td>3.515060</td>\n",
              "      <td>1.0</td>\n",
              "      <td>4.75</td>\n",
              "      <td>7.0</td>\n",
              "      <td>9.00</td>\n",
              "      <td>19.0</td>\n",
              "      <td>60.0</td>\n",
              "      <td>21.183333</td>\n",
              "      <td>3.515060</td>\n",
              "      <td>15.0</td>\n",
              "      <td>18.75</td>\n",
              "      <td>21.0</td>\n",
              "      <td>23.00</td>\n",
              "      <td>33.0</td>\n",
              "    </tr>\n",
              "    <tr>\n",
              "      <th>20</th>\n",
              "      <td>60.0</td>\n",
              "      <td>1.0</td>\n",
              "      <td>0.0</td>\n",
              "      <td>1.0</td>\n",
              "      <td>1.0</td>\n",
              "      <td>1.0</td>\n",
              "      <td>1.0</td>\n",
              "      <td>1.0</td>\n",
              "      <td>60.0</td>\n",
              "      <td>2.0</td>\n",
              "      <td>0.823387</td>\n",
              "      <td>1.0</td>\n",
              "      <td>1.0</td>\n",
              "      <td>2.0</td>\n",
              "      <td>3.0</td>\n",
              "      <td>3.0</td>\n",
              "      <td>60.0</td>\n",
              "      <td>2.5</td>\n",
              "      <td>1.127469</td>\n",
              "      <td>1.0</td>\n",
              "      <td>1.75</td>\n",
              "      <td>2.5</td>\n",
              "      <td>3.25</td>\n",
              "      <td>4.0</td>\n",
              "      <td>60.0</td>\n",
              "      <td>30.5</td>\n",
              "      <td>17.464249</td>\n",
              "      <td>1.0</td>\n",
              "      <td>15.75</td>\n",
              "      <td>30.5</td>\n",
              "      <td>45.25</td>\n",
              "      <td>60.0</td>\n",
              "      <td>60.0</td>\n",
              "      <td>24.566667</td>\n",
              "      <td>14.227410</td>\n",
              "      <td>1.0</td>\n",
              "      <td>12.00</td>\n",
              "      <td>25.5</td>\n",
              "      <td>37.00</td>\n",
              "      <td>48.0</td>\n",
              "      <td>60.0</td>\n",
              "      <td>1.0</td>\n",
              "      <td>0.0</td>\n",
              "      <td>1.0</td>\n",
              "      <td>1.0</td>\n",
              "      <td>1.0</td>\n",
              "      <td>1.0</td>\n",
              "      <td>1.0</td>\n",
              "      <td>60.0</td>\n",
              "      <td>9.683333</td>\n",
              "      <td>3.316582</td>\n",
              "      <td>3.0</td>\n",
              "      <td>8.00</td>\n",
              "      <td>9.0</td>\n",
              "      <td>12.00</td>\n",
              "      <td>19.0</td>\n",
              "      <td>60.0</td>\n",
              "      <td>29.683333</td>\n",
              "      <td>3.316582</td>\n",
              "      <td>23.0</td>\n",
              "      <td>28.00</td>\n",
              "      <td>29.0</td>\n",
              "      <td>32.00</td>\n",
              "      <td>39.0</td>\n",
              "    </tr>\n",
              "  </tbody>\n",
              "</table>\n",
              "</div>"
            ],
            "text/plain": [
              "          Match Played                                      Week       \\\n",
              "                 count mean  std  min  25%  50%  75%  max  count mean   \n",
              "Placement                                                               \n",
              "0                240.0  0.0  0.0  0.0  0.0  0.0  0.0  0.0  240.0  2.0   \n",
              "1                360.0  1.0  0.0  1.0  1.0  1.0  1.0  1.0  360.0  2.0   \n",
              "2                 60.0  1.0  0.0  1.0  1.0  1.0  1.0  1.0   60.0  2.0   \n",
              "3                 60.0  1.0  0.0  1.0  1.0  1.0  1.0  1.0   60.0  2.0   \n",
              "4                 60.0  1.0  0.0  1.0  1.0  1.0  1.0  1.0   60.0  2.0   \n",
              "5                 60.0  1.0  0.0  1.0  1.0  1.0  1.0  1.0   60.0  2.0   \n",
              "6                 60.0  1.0  0.0  1.0  1.0  1.0  1.0  1.0   60.0  2.0   \n",
              "7                 60.0  1.0  0.0  1.0  1.0  1.0  1.0  1.0   60.0  2.0   \n",
              "8                 60.0  1.0  0.0  1.0  1.0  1.0  1.0  1.0   60.0  2.0   \n",
              "10                60.0  1.0  0.0  1.0  1.0  1.0  1.0  1.0   60.0  2.0   \n",
              "14                60.0  1.0  0.0  1.0  1.0  1.0  1.0  1.0   60.0  2.0   \n",
              "20                60.0  1.0  0.0  1.0  1.0  1.0  1.0  1.0   60.0  2.0   \n",
              "\n",
              "                                                Day                            \\\n",
              "                std  min  25%  50%  75%  max  count mean       std  min   25%   \n",
              "Placement                                                                       \n",
              "0          0.818203  1.0  1.0  2.0  3.0  3.0  240.0  2.5  1.120371  1.0  1.75   \n",
              "1          0.817633  1.0  1.0  2.0  3.0  3.0  360.0  2.5  1.119590  1.0  1.75   \n",
              "2          0.823387  1.0  1.0  2.0  3.0  3.0   60.0  2.5  1.127469  1.0  1.75   \n",
              "3          0.823387  1.0  1.0  2.0  3.0  3.0   60.0  2.5  1.127469  1.0  1.75   \n",
              "4          0.823387  1.0  1.0  2.0  3.0  3.0   60.0  2.5  1.127469  1.0  1.75   \n",
              "5          0.823387  1.0  1.0  2.0  3.0  3.0   60.0  2.5  1.127469  1.0  1.75   \n",
              "6          0.823387  1.0  1.0  2.0  3.0  3.0   60.0  2.5  1.127469  1.0  1.75   \n",
              "7          0.823387  1.0  1.0  2.0  3.0  3.0   60.0  2.5  1.127469  1.0  1.75   \n",
              "8          0.823387  1.0  1.0  2.0  3.0  3.0   60.0  2.5  1.127469  1.0  1.75   \n",
              "10         0.823387  1.0  1.0  2.0  3.0  3.0   60.0  2.5  1.127469  1.0  1.75   \n",
              "14         0.823387  1.0  1.0  2.0  3.0  3.0   60.0  2.5  1.127469  1.0  1.75   \n",
              "20         0.823387  1.0  1.0  2.0  3.0  3.0   60.0  2.5  1.127469  1.0  1.75   \n",
              "\n",
              "                          Match No                                            \\\n",
              "           50%   75%  max    count  mean        std  min    25%   50%    75%   \n",
              "Placement                                                                      \n",
              "0          2.5  3.25  4.0    240.0  30.5  17.354295  1.0  15.75  30.5  45.25   \n",
              "1          2.5  3.25  4.0    360.0  30.5  17.342205  1.0  15.75  30.5  45.25   \n",
              "2          2.5  3.25  4.0     60.0  30.5  17.464249  1.0  15.75  30.5  45.25   \n",
              "3          2.5  3.25  4.0     60.0  30.5  17.464249  1.0  15.75  30.5  45.25   \n",
              "4          2.5  3.25  4.0     60.0  30.5  17.464249  1.0  15.75  30.5  45.25   \n",
              "5          2.5  3.25  4.0     60.0  30.5  17.464249  1.0  15.75  30.5  45.25   \n",
              "6          2.5  3.25  4.0     60.0  30.5  17.464249  1.0  15.75  30.5  45.25   \n",
              "7          2.5  3.25  4.0     60.0  30.5  17.464249  1.0  15.75  30.5  45.25   \n",
              "8          2.5  3.25  4.0     60.0  30.5  17.464249  1.0  15.75  30.5  45.25   \n",
              "10         2.5  3.25  4.0     60.0  30.5  17.464249  1.0  15.75  30.5  45.25   \n",
              "14         2.5  3.25  4.0     60.0  30.5  17.464249  1.0  15.75  30.5  45.25   \n",
              "20         2.5  3.25  4.0     60.0  30.5  17.464249  1.0  15.75  30.5  45.25   \n",
              "\n",
              "                Team Match No                                                 \\\n",
              "            max         count       mean        std  min    25%   50%    75%   \n",
              "Placement                                                                      \n",
              "0          60.0         240.0  24.000000  14.265856  0.0  12.00  24.0  36.00   \n",
              "1          60.0         360.0  24.455556  13.801749  1.0  12.75  24.0  36.00   \n",
              "2          60.0          60.0  24.366667  14.090466  1.0  12.75  24.5  36.25   \n",
              "3          60.0          60.0  24.700000  13.976130  1.0  12.75  25.0  37.00   \n",
              "4          60.0          60.0  24.366667  13.891793  1.0  12.00  23.5  36.25   \n",
              "5          60.0          60.0  24.300000  13.995520  1.0  11.75  24.5  36.25   \n",
              "6          60.0          60.0  24.500000  14.182228  1.0  13.00  24.0  37.25   \n",
              "7          60.0          60.0  24.900000  13.605458  1.0  13.00  25.5  37.25   \n",
              "8          60.0          60.0  24.433333  14.364937  1.0  13.75  23.0  36.50   \n",
              "10         60.0          60.0  24.366667  14.061568  1.0  12.00  24.0  36.25   \n",
              "14         60.0          60.0  24.766667  13.703107  1.0  13.75  25.0  37.00   \n",
              "20         60.0          60.0  24.566667  14.227410  1.0  12.00  25.5  37.00   \n",
              "\n",
              "                Chicken Dinner                                     Kills  \\\n",
              "            max          count mean  std  min  25%  50%  75%  max  count   \n",
              "Placement                                                                  \n",
              "0          48.0          240.0  0.0  0.0  0.0  0.0  0.0  0.0  0.0  240.0   \n",
              "1          48.0          360.0  0.0  0.0  0.0  0.0  0.0  0.0  0.0  360.0   \n",
              "2          48.0           60.0  0.0  0.0  0.0  0.0  0.0  0.0  0.0   60.0   \n",
              "3          48.0           60.0  0.0  0.0  0.0  0.0  0.0  0.0  0.0   60.0   \n",
              "4          48.0           60.0  0.0  0.0  0.0  0.0  0.0  0.0  0.0   60.0   \n",
              "5          48.0           60.0  0.0  0.0  0.0  0.0  0.0  0.0  0.0   60.0   \n",
              "6          48.0           60.0  0.0  0.0  0.0  0.0  0.0  0.0  0.0   60.0   \n",
              "7          48.0           60.0  0.0  0.0  0.0  0.0  0.0  0.0  0.0   60.0   \n",
              "8          48.0           60.0  0.0  0.0  0.0  0.0  0.0  0.0  0.0   60.0   \n",
              "10         48.0           60.0  0.0  0.0  0.0  0.0  0.0  0.0  0.0   60.0   \n",
              "14         48.0           60.0  0.0  0.0  0.0  0.0  0.0  0.0  0.0   60.0   \n",
              "20         48.0           60.0  1.0  0.0  1.0  1.0  1.0  1.0  1.0   60.0   \n",
              "\n",
              "                                                            Total             \\\n",
              "               mean       std  min   25%  50%    75%   max  count       mean   \n",
              "Placement                                                                      \n",
              "0          0.000000  0.000000  0.0  0.00  0.0   0.00   0.0  240.0   0.000000   \n",
              "1          1.522222  1.789650  0.0  0.00  1.0   2.00   8.0  360.0   2.522222   \n",
              "2          2.500000  1.961494  0.0  1.00  2.0   4.00   9.0   60.0   4.500000   \n",
              "3          2.666667  2.199127  0.0  1.00  2.5   4.00   8.0   60.0   5.666667   \n",
              "4          2.633333  2.209123  0.0  1.00  2.0   4.00  11.0   60.0   6.633333   \n",
              "5          3.316667  2.418093  0.0  2.00  3.0   5.00  10.0   60.0   8.316667   \n",
              "6          3.150000  2.268614  0.0  1.75  3.0   5.00   8.0   60.0   9.150000   \n",
              "7          4.400000  2.707178  0.0  2.00  4.0   7.00   9.0   60.0  11.400000   \n",
              "8          4.833333  3.205750  0.0  2.00  4.5   7.25  12.0   60.0  12.833333   \n",
              "10         6.250000  2.960903  0.0  4.00  6.0   8.25  14.0   60.0  16.250000   \n",
              "14         7.183333  3.515060  1.0  4.75  7.0   9.00  19.0   60.0  21.183333   \n",
              "20         9.683333  3.316582  3.0  8.00  9.0  12.00  19.0   60.0  29.683333   \n",
              "\n",
              "                                                     \n",
              "                std   min    25%   50%    75%   max  \n",
              "Placement                                            \n",
              "0          0.000000   0.0   0.00   0.0   0.00   0.0  \n",
              "1          1.789650   1.0   1.00   2.0   3.00   9.0  \n",
              "2          1.961494   2.0   3.00   4.0   6.00  11.0  \n",
              "3          2.199127   3.0   4.00   5.5   7.00  11.0  \n",
              "4          2.209123   4.0   5.00   6.0   8.00  15.0  \n",
              "5          2.418093   5.0   7.00   8.0  10.00  15.0  \n",
              "6          2.268614   6.0   7.75   9.0  11.00  14.0  \n",
              "7          2.707178   7.0   9.00  11.0  14.00  16.0  \n",
              "8          3.205750   8.0  10.00  12.5  15.25  20.0  \n",
              "10         2.960903  10.0  14.00  16.0  18.25  24.0  \n",
              "14         3.515060  15.0  18.75  21.0  23.00  33.0  \n",
              "20         3.316582  23.0  28.00  29.0  32.00  39.0  "
            ]
          },
          "metadata": {
            "tags": []
          },
          "execution_count": 61
        }
      ]
    },
    {
      "cell_type": "markdown",
      "metadata": {
        "id": "gEr6MbOr_YoZ"
      },
      "source": [
        "**Corellation Mapping**"
      ]
    },
    {
      "cell_type": "code",
      "metadata": {
        "colab": {
          "base_uri": "https://localhost:8080/",
          "height": 620
        },
        "id": "N2EFRHnTGjpE",
        "outputId": "cf0bb6cb-0183-44d6-da37-c8bd1de13792"
      },
      "source": [
        "f, ax = plt.subplots(figsize=(11, 9))\n",
        "cmap = sns.diverging_palette(230, 20, as_cmap=True)\n",
        "\n",
        "sns.heatmap(df.corr(),annot=True, cmap=cmap, vmax=.3, center=0,\n",
        "            square=True, linewidths=.5, cbar_kws={\"shrink\": .5})\n",
        "plt.title(\"PMPL South Asia 2020\",fontweight=\"bold\")\n",
        "plt.show()"
      ],
      "execution_count": null,
      "outputs": [
        {
          "output_type": "display_data",
          "data": {
            "image/png": "[encoded data removed]",
            "text/plain": [
              "<Figure size 792x648 with 2 Axes>"
            ]
          },
          "metadata": {
            "tags": [],
            "needs_background": "light"
          }
        }
      ]
    },
    {
      "cell_type": "markdown",
      "metadata": {
        "id": "cLa--kCgINkf"
      },
      "source": [
        "Dilihat Corelation Mapping diatas mengandung: \r\n",
        "\r\n",
        "*   Korelasi positif yaitu kolom \"week\" & \"day\",dan \"Match No \".\r\n",
        "*   Korelasi negatif yaitu \"Placement \", Kill\", \"Chicken Dinner\", dan \"Kills\""
      ]
    },
    {
      "cell_type": "markdown",
      "metadata": {
        "id": "pOFtERb8MojV"
      },
      "source": [
        "**Evaluasi Model**"
      ]
    },
    {
      "cell_type": "code",
      "metadata": {
        "colab": {
          "base_uri": "https://localhost:8080/",
          "height": 308
        },
        "id": "xM1H-0-tIRSc",
        "outputId": "21c0f0c6-14b8-464a-f0b6-e603cf31989c"
      },
      "source": [
        "df[[\"Placement\",\"Kills\"]].nlargest(20,\"Kills\").plot.bar(x=\"Placement\",y=\"Kills\",width=0.4,)#'vertical', 'horizontal',color=color\r\n",
        "plt.title(\"Placement dan Kills terbanyak\",fontsize=20)\r\n",
        "plt.xlabel(\"Placement\",fontsize=15)\r\n",
        "plt.ylabel(\"Frekuensi Kills\",fontsize=15)\r\n",
        "plt.show()"
      ],
      "execution_count": null,
      "outputs": [
        {
          "output_type": "display_data",
          "data": {
            "image/png": "[encoded data removed]",
            "text/plain": [
              "<Figure size 432x288 with 1 Axes>"
            ]
          },
          "metadata": {
            "tags": [],
            "needs_background": "light"
          }
        }
      ]
    },
    {
      "cell_type": "markdown",
      "metadata": {
        "id": "x_H5fIBRRUgb"
      },
      "source": [
        "**Team dengan total kill tertinggi**"
      ]
    },
    {
      "cell_type": "code",
      "metadata": {
        "colab": {
          "base_uri": "https://localhost:8080/",
          "height": 106
        },
        "id": "AKCwpc4mRZ4C",
        "outputId": "1f8065bb-6e36-4bcc-f13a-083c4db8b2ec"
      },
      "source": [
        "df[df.Kills == max(df.Kills)]"
      ],
      "execution_count": null,
      "outputs": [
        {
          "output_type": "execute_result",
          "data": {
            "text/html": [
              "<div>\n",
              "<style scoped>\n",
              "    .dataframe tbody tr th:only-of-type {\n",
              "        vertical-align: middle;\n",
              "    }\n",
              "\n",
              "    .dataframe tbody tr th {\n",
              "        vertical-align: top;\n",
              "    }\n",
              "\n",
              "    .dataframe thead th {\n",
              "        text-align: right;\n",
              "    }\n",
              "</style>\n",
              "<table border=\"1\" class=\"dataframe\">\n",
              "  <thead>\n",
              "    <tr style=\"text-align: right;\">\n",
              "      <th></th>\n",
              "      <th>Match Played</th>\n",
              "      <th>Teams</th>\n",
              "      <th>Group</th>\n",
              "      <th>Map</th>\n",
              "      <th>Groups Playing</th>\n",
              "      <th>Week</th>\n",
              "      <th>Day</th>\n",
              "      <th>Match No</th>\n",
              "      <th>Team Match No</th>\n",
              "      <th>Chicken Dinner</th>\n",
              "      <th>Placement</th>\n",
              "      <th>Kills</th>\n",
              "      <th>Total</th>\n",
              "    </tr>\n",
              "  </thead>\n",
              "  <tbody>\n",
              "    <tr>\n",
              "      <th>17</th>\n",
              "      <td>1</td>\n",
              "      <td>TSM Entity</td>\n",
              "      <td>A</td>\n",
              "      <td>Erangel</td>\n",
              "      <td>A B C D</td>\n",
              "      <td>1</td>\n",
              "      <td>1</td>\n",
              "      <td>1</td>\n",
              "      <td>1</td>\n",
              "      <td>1</td>\n",
              "      <td>20</td>\n",
              "      <td>19</td>\n",
              "      <td>39</td>\n",
              "    </tr>\n",
              "    <tr>\n",
              "      <th>737</th>\n",
              "      <td>1</td>\n",
              "      <td>TSM Entity</td>\n",
              "      <td>A</td>\n",
              "      <td>Erangel</td>\n",
              "      <td>A B D E</td>\n",
              "      <td>2</td>\n",
              "      <td>4</td>\n",
              "      <td>37</td>\n",
              "      <td>29</td>\n",
              "      <td>0</td>\n",
              "      <td>14</td>\n",
              "      <td>19</td>\n",
              "      <td>33</td>\n",
              "    </tr>\n",
              "  </tbody>\n",
              "</table>\n",
              "</div>"
            ],
            "text/plain": [
              "     Match Played        Teams Group      Map Groups Playing  Week  Day  \\\n",
              "17              1   TSM Entity     A  Erangel        A B C D     1    1   \n",
              "737             1   TSM Entity     A  Erangel        A B D E     2    4   \n",
              "\n",
              "     Match No  Team Match No  Chicken Dinner  Placement  Kills  Total  \n",
              "17          1              1               1         20     19     39  \n",
              "737        37             29               0         14     19     33  "
            ]
          },
          "metadata": {
            "tags": []
          },
          "execution_count": 64
        }
      ]
    },
    {
      "cell_type": "markdown",
      "metadata": {
        "id": "zPp_ozPkRms5"
      },
      "source": [
        "Dari data diatas map Erangle memiliki total kills terbanyak yaitu sebanyak 19"
      ]
    },
    {
      "cell_type": "markdown",
      "metadata": {
        "id": "PuufXqzBR4Hb"
      },
      "source": [
        "**Team dengan total kill ter rendah**"
      ]
    },
    {
      "cell_type": "code",
      "metadata": {
        "colab": {
          "base_uri": "https://localhost:8080/",
          "height": 402
        },
        "id": "JtX2zE2KR3S6",
        "outputId": "60a3184a-c830-46eb-fbd8-825d2e8a6451"
      },
      "source": [
        "df[df.Kills == min(df.Kills)]"
      ],
      "execution_count": null,
      "outputs": [
        {
          "output_type": "execute_result",
          "data": {
            "text/html": [
              "<div>\n",
              "<style scoped>\n",
              "    .dataframe tbody tr th:only-of-type {\n",
              "        vertical-align: middle;\n",
              "    }\n",
              "\n",
              "    .dataframe tbody tr th {\n",
              "        vertical-align: top;\n",
              "    }\n",
              "\n",
              "    .dataframe thead th {\n",
              "        text-align: right;\n",
              "    }\n",
              "</style>\n",
              "<table border=\"1\" class=\"dataframe\">\n",
              "  <thead>\n",
              "    <tr style=\"text-align: right;\">\n",
              "      <th></th>\n",
              "      <th>Match Played</th>\n",
              "      <th>Teams</th>\n",
              "      <th>Group</th>\n",
              "      <th>Map</th>\n",
              "      <th>Groups Playing</th>\n",
              "      <th>Week</th>\n",
              "      <th>Day</th>\n",
              "      <th>Match No</th>\n",
              "      <th>Team Match No</th>\n",
              "      <th>Chicken Dinner</th>\n",
              "      <th>Placement</th>\n",
              "      <th>Kills</th>\n",
              "      <th>Total</th>\n",
              "    </tr>\n",
              "  </thead>\n",
              "  <tbody>\n",
              "    <tr>\n",
              "      <th>2</th>\n",
              "      <td>1</td>\n",
              "      <td>Deadeyes</td>\n",
              "      <td>D</td>\n",
              "      <td>Erangel</td>\n",
              "      <td>A B C D</td>\n",
              "      <td>1</td>\n",
              "      <td>1</td>\n",
              "      <td>1</td>\n",
              "      <td>1</td>\n",
              "      <td>0</td>\n",
              "      <td>1</td>\n",
              "      <td>0</td>\n",
              "      <td>1</td>\n",
              "    </tr>\n",
              "    <tr>\n",
              "      <th>3</th>\n",
              "      <td>0</td>\n",
              "      <td>EX</td>\n",
              "      <td>E</td>\n",
              "      <td>Erangel</td>\n",
              "      <td>A B C D</td>\n",
              "      <td>1</td>\n",
              "      <td>1</td>\n",
              "      <td>1</td>\n",
              "      <td>0</td>\n",
              "      <td>0</td>\n",
              "      <td>0</td>\n",
              "      <td>0</td>\n",
              "      <td>0</td>\n",
              "    </tr>\n",
              "    <tr>\n",
              "      <th>5</th>\n",
              "      <td>0</td>\n",
              "      <td>GodLike</td>\n",
              "      <td>E</td>\n",
              "      <td>Erangel</td>\n",
              "      <td>A B C D</td>\n",
              "      <td>1</td>\n",
              "      <td>1</td>\n",
              "      <td>1</td>\n",
              "      <td>0</td>\n",
              "      <td>0</td>\n",
              "      <td>0</td>\n",
              "      <td>0</td>\n",
              "      <td>0</td>\n",
              "    </tr>\n",
              "    <tr>\n",
              "      <th>8</th>\n",
              "      <td>1</td>\n",
              "      <td>Instinct</td>\n",
              "      <td>B</td>\n",
              "      <td>Erangel</td>\n",
              "      <td>A B C D</td>\n",
              "      <td>1</td>\n",
              "      <td>1</td>\n",
              "      <td>1</td>\n",
              "      <td>1</td>\n",
              "      <td>0</td>\n",
              "      <td>5</td>\n",
              "      <td>0</td>\n",
              "      <td>5</td>\n",
              "    </tr>\n",
              "    <tr>\n",
              "      <th>12</th>\n",
              "      <td>1</td>\n",
              "      <td>OR</td>\n",
              "      <td>D</td>\n",
              "      <td>Erangel</td>\n",
              "      <td>A B C D</td>\n",
              "      <td>1</td>\n",
              "      <td>1</td>\n",
              "      <td>1</td>\n",
              "      <td>1</td>\n",
              "      <td>0</td>\n",
              "      <td>1</td>\n",
              "      <td>0</td>\n",
              "      <td>1</td>\n",
              "    </tr>\n",
              "    <tr>\n",
              "      <th>...</th>\n",
              "      <td>...</td>\n",
              "      <td>...</td>\n",
              "      <td>...</td>\n",
              "      <td>...</td>\n",
              "      <td>...</td>\n",
              "      <td>...</td>\n",
              "      <td>...</td>\n",
              "      <td>...</td>\n",
              "      <td>...</td>\n",
              "      <td>...</td>\n",
              "      <td>...</td>\n",
              "      <td>...</td>\n",
              "      <td>...</td>\n",
              "    </tr>\n",
              "    <tr>\n",
              "      <th>1191</th>\n",
              "      <td>0</td>\n",
              "      <td>MegaStars</td>\n",
              "      <td>C</td>\n",
              "      <td>Vikendi</td>\n",
              "      <td>A B D E</td>\n",
              "      <td>3</td>\n",
              "      <td>4</td>\n",
              "      <td>60</td>\n",
              "      <td>48</td>\n",
              "      <td>0</td>\n",
              "      <td>0</td>\n",
              "      <td>0</td>\n",
              "      <td>0</td>\n",
              "    </tr>\n",
              "    <tr>\n",
              "      <th>1194</th>\n",
              "      <td>0</td>\n",
              "      <td>SGE</td>\n",
              "      <td>C</td>\n",
              "      <td>Vikendi</td>\n",
              "      <td>A B D E</td>\n",
              "      <td>3</td>\n",
              "      <td>4</td>\n",
              "      <td>60</td>\n",
              "      <td>48</td>\n",
              "      <td>0</td>\n",
              "      <td>0</td>\n",
              "      <td>0</td>\n",
              "      <td>0</td>\n",
              "    </tr>\n",
              "    <tr>\n",
              "      <th>1196</th>\n",
              "      <td>1</td>\n",
              "      <td>Tamilas</td>\n",
              "      <td>B</td>\n",
              "      <td>Vikendi</td>\n",
              "      <td>A B D E</td>\n",
              "      <td>3</td>\n",
              "      <td>4</td>\n",
              "      <td>60</td>\n",
              "      <td>48</td>\n",
              "      <td>0</td>\n",
              "      <td>1</td>\n",
              "      <td>0</td>\n",
              "      <td>1</td>\n",
              "    </tr>\n",
              "    <tr>\n",
              "      <th>1197</th>\n",
              "      <td>1</td>\n",
              "      <td>TSM Entity</td>\n",
              "      <td>A</td>\n",
              "      <td>Vikendi</td>\n",
              "      <td>A B D E</td>\n",
              "      <td>3</td>\n",
              "      <td>4</td>\n",
              "      <td>60</td>\n",
              "      <td>48</td>\n",
              "      <td>0</td>\n",
              "      <td>1</td>\n",
              "      <td>0</td>\n",
              "      <td>1</td>\n",
              "    </tr>\n",
              "    <tr>\n",
              "      <th>1198</th>\n",
              "      <td>0</td>\n",
              "      <td>Umumba Rxn</td>\n",
              "      <td>C</td>\n",
              "      <td>Vikendi</td>\n",
              "      <td>A B D E</td>\n",
              "      <td>3</td>\n",
              "      <td>4</td>\n",
              "      <td>60</td>\n",
              "      <td>48</td>\n",
              "      <td>0</td>\n",
              "      <td>0</td>\n",
              "      <td>0</td>\n",
              "      <td>0</td>\n",
              "    </tr>\n",
              "  </tbody>\n",
              "</table>\n",
              "<p>425 rows × 13 columns</p>\n",
              "</div>"
            ],
            "text/plain": [
              "      Match Played        Teams Group      Map Groups Playing  Week  Day  \\\n",
              "2                1     Deadeyes     D  Erangel        A B C D     1    1   \n",
              "3                0           EX     E  Erangel        A B C D     1    1   \n",
              "5                0      GodLike     E  Erangel        A B C D     1    1   \n",
              "8                1     Instinct     B  Erangel        A B C D     1    1   \n",
              "12               1           OR     D  Erangel        A B C D     1    1   \n",
              "...            ...          ...   ...      ...            ...   ...  ...   \n",
              "1191             0    MegaStars     C  Vikendi        A B D E     3    4   \n",
              "1194             0          SGE     C  Vikendi        A B D E     3    4   \n",
              "1196             1      Tamilas     B  Vikendi        A B D E     3    4   \n",
              "1197             1   TSM Entity     A  Vikendi        A B D E     3    4   \n",
              "1198             0   Umumba Rxn     C  Vikendi        A B D E     3    4   \n",
              "\n",
              "      Match No  Team Match No  Chicken Dinner  Placement  Kills  Total  \n",
              "2            1              1               0          1      0      1  \n",
              "3            1              0               0          0      0      0  \n",
              "5            1              0               0          0      0      0  \n",
              "8            1              1               0          5      0      5  \n",
              "12           1              1               0          1      0      1  \n",
              "...        ...            ...             ...        ...    ...    ...  \n",
              "1191        60             48               0          0      0      0  \n",
              "1194        60             48               0          0      0      0  \n",
              "1196        60             48               0          1      0      1  \n",
              "1197        60             48               0          1      0      1  \n",
              "1198        60             48               0          0      0      0  \n",
              "\n",
              "[425 rows x 13 columns]"
            ]
          },
          "metadata": {
            "tags": []
          },
          "execution_count": 65
        }
      ]
    },
    {
      "cell_type": "markdown",
      "metadata": {
        "id": "_XS0Y6wlSX_q"
      },
      "source": [
        "Dari data diatas terdapat 425 baris kills yang memiliki total kills sebanyak 0 Kills"
      ]
    },
    {
      "cell_type": "markdown",
      "metadata": {
        "id": "Jf_T-x-GS4vz"
      },
      "source": [
        "**Team dengan total kill Tertinggi**"
      ]
    },
    {
      "cell_type": "code",
      "metadata": {
        "colab": {
          "base_uri": "https://localhost:8080/",
          "height": 343
        },
        "id": "GMJxdh_qS31u",
        "outputId": "4750ad8d-10fb-40dd-f0a9-9e6567e77307"
      },
      "source": [
        "df[['Match Played',\t'Map',\t'Teams',\t'Week',\t'Group',\t'Match No', 'Kills',\t'Chicken Dinner',\t'Day']].nlargest(10,\"Kills\")"
      ],
      "execution_count": null,
      "outputs": [
        {
          "output_type": "execute_result",
          "data": {
            "text/html": [
              "<div>\n",
              "<style scoped>\n",
              "    .dataframe tbody tr th:only-of-type {\n",
              "        vertical-align: middle;\n",
              "    }\n",
              "\n",
              "    .dataframe tbody tr th {\n",
              "        vertical-align: top;\n",
              "    }\n",
              "\n",
              "    .dataframe thead th {\n",
              "        text-align: right;\n",
              "    }\n",
              "</style>\n",
              "<table border=\"1\" class=\"dataframe\">\n",
              "  <thead>\n",
              "    <tr style=\"text-align: right;\">\n",
              "      <th></th>\n",
              "      <th>Match Played</th>\n",
              "      <th>Map</th>\n",
              "      <th>Teams</th>\n",
              "      <th>Week</th>\n",
              "      <th>Group</th>\n",
              "      <th>Match No</th>\n",
              "      <th>Kills</th>\n",
              "      <th>Chicken Dinner</th>\n",
              "      <th>Day</th>\n",
              "    </tr>\n",
              "  </thead>\n",
              "  <tbody>\n",
              "    <tr>\n",
              "      <th>17</th>\n",
              "      <td>1</td>\n",
              "      <td>Erangel</td>\n",
              "      <td>TSM Entity</td>\n",
              "      <td>1</td>\n",
              "      <td>A</td>\n",
              "      <td>1</td>\n",
              "      <td>19</td>\n",
              "      <td>1</td>\n",
              "      <td>1</td>\n",
              "    </tr>\n",
              "    <tr>\n",
              "      <th>737</th>\n",
              "      <td>1</td>\n",
              "      <td>Erangel</td>\n",
              "      <td>TSM Entity</td>\n",
              "      <td>2</td>\n",
              "      <td>A</td>\n",
              "      <td>37</td>\n",
              "      <td>19</td>\n",
              "      <td>0</td>\n",
              "      <td>4</td>\n",
              "    </tr>\n",
              "    <tr>\n",
              "      <th>1005</th>\n",
              "      <td>1</td>\n",
              "      <td>Erangel</td>\n",
              "      <td>GodLike</td>\n",
              "      <td>3</td>\n",
              "      <td>E</td>\n",
              "      <td>51</td>\n",
              "      <td>18</td>\n",
              "      <td>1</td>\n",
              "      <td>3</td>\n",
              "    </tr>\n",
              "    <tr>\n",
              "      <th>553</th>\n",
              "      <td>1</td>\n",
              "      <td>Erangel</td>\n",
              "      <td>PowerH</td>\n",
              "      <td>2</td>\n",
              "      <td>E</td>\n",
              "      <td>28</td>\n",
              "      <td>16</td>\n",
              "      <td>1</td>\n",
              "      <td>2</td>\n",
              "    </tr>\n",
              "    <tr>\n",
              "      <th>657</th>\n",
              "      <td>1</td>\n",
              "      <td>Vikendi</td>\n",
              "      <td>TSM Entity</td>\n",
              "      <td>2</td>\n",
              "      <td>A</td>\n",
              "      <td>33</td>\n",
              "      <td>16</td>\n",
              "      <td>1</td>\n",
              "      <td>3</td>\n",
              "    </tr>\n",
              "    <tr>\n",
              "      <th>34</th>\n",
              "      <td>1</td>\n",
              "      <td>Sanhok</td>\n",
              "      <td>SGE</td>\n",
              "      <td>1</td>\n",
              "      <td>C</td>\n",
              "      <td>2</td>\n",
              "      <td>15</td>\n",
              "      <td>0</td>\n",
              "      <td>1</td>\n",
              "    </tr>\n",
              "    <tr>\n",
              "      <th>35</th>\n",
              "      <td>1</td>\n",
              "      <td>Sanhok</td>\n",
              "      <td>SouL</td>\n",
              "      <td>1</td>\n",
              "      <td>B</td>\n",
              "      <td>2</td>\n",
              "      <td>15</td>\n",
              "      <td>1</td>\n",
              "      <td>1</td>\n",
              "    </tr>\n",
              "    <tr>\n",
              "      <th>152</th>\n",
              "      <td>1</td>\n",
              "      <td>Erangel</td>\n",
              "      <td>OR</td>\n",
              "      <td>1</td>\n",
              "      <td>D</td>\n",
              "      <td>8</td>\n",
              "      <td>15</td>\n",
              "      <td>0</td>\n",
              "      <td>2</td>\n",
              "    </tr>\n",
              "    <tr>\n",
              "      <th>174</th>\n",
              "      <td>1</td>\n",
              "      <td>Miramar</td>\n",
              "      <td>SGE</td>\n",
              "      <td>1</td>\n",
              "      <td>C</td>\n",
              "      <td>9</td>\n",
              "      <td>14</td>\n",
              "      <td>1</td>\n",
              "      <td>2</td>\n",
              "    </tr>\n",
              "    <tr>\n",
              "      <th>355</th>\n",
              "      <td>1</td>\n",
              "      <td>Sanhok</td>\n",
              "      <td>SouL</td>\n",
              "      <td>1</td>\n",
              "      <td>B</td>\n",
              "      <td>18</td>\n",
              "      <td>14</td>\n",
              "      <td>1</td>\n",
              "      <td>4</td>\n",
              "    </tr>\n",
              "  </tbody>\n",
              "</table>\n",
              "</div>"
            ],
            "text/plain": [
              "      Match Played      Map        Teams  Week Group  Match No  Kills  \\\n",
              "17               1  Erangel   TSM Entity     1     A         1     19   \n",
              "737              1  Erangel   TSM Entity     2     A        37     19   \n",
              "1005             1  Erangel      GodLike     3     E        51     18   \n",
              "553              1  Erangel       PowerH     2     E        28     16   \n",
              "657              1  Vikendi   TSM Entity     2     A        33     16   \n",
              "34               1   Sanhok          SGE     1     C         2     15   \n",
              "35               1   Sanhok         SouL     1     B         2     15   \n",
              "152              1  Erangel           OR     1     D         8     15   \n",
              "174              1  Miramar          SGE     1     C         9     14   \n",
              "355              1   Sanhok         SouL     1     B        18     14   \n",
              "\n",
              "      Chicken Dinner  Day  \n",
              "17                 1    1  \n",
              "737                0    4  \n",
              "1005               1    3  \n",
              "553                1    2  \n",
              "657                1    3  \n",
              "34                 0    1  \n",
              "35                 1    1  \n",
              "152                0    2  \n",
              "174                1    2  \n",
              "355                1    4  "
            ]
          },
          "metadata": {
            "tags": []
          },
          "execution_count": 66
        }
      ]
    },
    {
      "cell_type": "markdown",
      "metadata": {
        "id": "E3VcvZrHVhuo"
      },
      "source": [
        "Hasil diatas adalah 10 produk dengan total kill terbanyak PMPL SOUTH ASIA. seperti hasil pada \"Team dengan total kill tertinggi\" di atas team dari TSM Entity yang menempati posisi teratas, diikuti team GodLike\tdan team PowerH "
      ]
    },
    {
      "cell_type": "markdown",
      "metadata": {
        "id": "JZS37U8DXCIV"
      },
      "source": [
        "**Clustering menggunakan K-Means**"
      ]
    },
    {
      "cell_type": "code",
      "metadata": {
        "id": "QKIpIKxbW8uV"
      },
      "source": [
        "import pandas as pd\r\n",
        "import numpy as np\r\n",
        "import seaborn as sns\r\n",
        "import matplotlib.pyplot as plt\r\n",
        "from sklearn.cluster import KMeans\r\n",
        "from sklearn.preprocessing import MinMaxScaler"
      ],
      "execution_count": null,
      "outputs": []
    },
    {
      "cell_type": "code",
      "metadata": {
        "colab": {
          "base_uri": "https://localhost:8080/",
          "height": 195
        },
        "id": "_R69ToMMY4Dc",
        "outputId": "f50559fd-1e44-43f0-d791-3e2f312fe726"
      },
      "source": [
        "retail = pd.read_csv(\"https://raw.githubusercontent.com/Ardika46/Tugas-Data-Saintis/main/PMPL%20South%20Asia.csv\")\r\n",
        "retail.head()"
      ],
      "execution_count": null,
      "outputs": [
        {
          "output_type": "execute_result",
          "data": {
            "text/html": [
              "<div>\n",
              "<style scoped>\n",
              "    .dataframe tbody tr th:only-of-type {\n",
              "        vertical-align: middle;\n",
              "    }\n",
              "\n",
              "    .dataframe tbody tr th {\n",
              "        vertical-align: top;\n",
              "    }\n",
              "\n",
              "    .dataframe thead th {\n",
              "        text-align: right;\n",
              "    }\n",
              "</style>\n",
              "<table border=\"1\" class=\"dataframe\">\n",
              "  <thead>\n",
              "    <tr style=\"text-align: right;\">\n",
              "      <th></th>\n",
              "      <th>Match Played</th>\n",
              "      <th>Teams</th>\n",
              "      <th>Group</th>\n",
              "      <th>Map</th>\n",
              "      <th>Groups Playing</th>\n",
              "      <th>Week</th>\n",
              "      <th>Day</th>\n",
              "      <th>Match No</th>\n",
              "      <th>Team Match No</th>\n",
              "      <th>Chicken Dinner</th>\n",
              "      <th>Placement</th>\n",
              "      <th>Kills</th>\n",
              "      <th>Total</th>\n",
              "    </tr>\n",
              "  </thead>\n",
              "  <tbody>\n",
              "    <tr>\n",
              "      <th>0</th>\n",
              "      <td>1</td>\n",
              "      <td>Celtz</td>\n",
              "      <td>A</td>\n",
              "      <td>Erangel</td>\n",
              "      <td>A B C D</td>\n",
              "      <td>1</td>\n",
              "      <td>1</td>\n",
              "      <td>1</td>\n",
              "      <td>1</td>\n",
              "      <td>0</td>\n",
              "      <td>1</td>\n",
              "      <td>2</td>\n",
              "      <td>3</td>\n",
              "    </tr>\n",
              "    <tr>\n",
              "      <th>1</th>\n",
              "      <td>1</td>\n",
              "      <td>Crwl</td>\n",
              "      <td>B</td>\n",
              "      <td>Erangel</td>\n",
              "      <td>A B C D</td>\n",
              "      <td>1</td>\n",
              "      <td>1</td>\n",
              "      <td>1</td>\n",
              "      <td>1</td>\n",
              "      <td>0</td>\n",
              "      <td>8</td>\n",
              "      <td>3</td>\n",
              "      <td>11</td>\n",
              "    </tr>\n",
              "    <tr>\n",
              "      <th>2</th>\n",
              "      <td>1</td>\n",
              "      <td>Deadeyes</td>\n",
              "      <td>D</td>\n",
              "      <td>Erangel</td>\n",
              "      <td>A B C D</td>\n",
              "      <td>1</td>\n",
              "      <td>1</td>\n",
              "      <td>1</td>\n",
              "      <td>1</td>\n",
              "      <td>0</td>\n",
              "      <td>1</td>\n",
              "      <td>0</td>\n",
              "      <td>1</td>\n",
              "    </tr>\n",
              "    <tr>\n",
              "      <th>3</th>\n",
              "      <td>0</td>\n",
              "      <td>EX</td>\n",
              "      <td>E</td>\n",
              "      <td>Erangel</td>\n",
              "      <td>A B C D</td>\n",
              "      <td>1</td>\n",
              "      <td>1</td>\n",
              "      <td>1</td>\n",
              "      <td>0</td>\n",
              "      <td>0</td>\n",
              "      <td>0</td>\n",
              "      <td>0</td>\n",
              "      <td>0</td>\n",
              "    </tr>\n",
              "    <tr>\n",
              "      <th>4</th>\n",
              "      <td>1</td>\n",
              "      <td>Fnatic</td>\n",
              "      <td>D</td>\n",
              "      <td>Erangel</td>\n",
              "      <td>A B C D</td>\n",
              "      <td>1</td>\n",
              "      <td>1</td>\n",
              "      <td>1</td>\n",
              "      <td>1</td>\n",
              "      <td>0</td>\n",
              "      <td>2</td>\n",
              "      <td>5</td>\n",
              "      <td>7</td>\n",
              "    </tr>\n",
              "  </tbody>\n",
              "</table>\n",
              "</div>"
            ],
            "text/plain": [
              "   Match Played      Teams Group      Map Groups Playing  Week  Day  Match No  \\\n",
              "0             1      Celtz     A  Erangel        A B C D     1    1         1   \n",
              "1             1       Crwl     B  Erangel        A B C D     1    1         1   \n",
              "2             1   Deadeyes     D  Erangel        A B C D     1    1         1   \n",
              "3             0         EX     E  Erangel        A B C D     1    1         1   \n",
              "4             1     Fnatic     D  Erangel        A B C D     1    1         1   \n",
              "\n",
              "   Team Match No  Chicken Dinner  Placement  Kills  Total  \n",
              "0              1               0          1      2      3  \n",
              "1              1               0          8      3     11  \n",
              "2              1               0          1      0      1  \n",
              "3              0               0          0      0      0  \n",
              "4              1               0          2      5      7  "
            ]
          },
          "metadata": {
            "tags": []
          },
          "execution_count": 68
        }
      ]
    },
    {
      "cell_type": "code",
      "metadata": {
        "colab": {
          "base_uri": "https://localhost:8080/"
        },
        "id": "WOiZdWSwXq5C",
        "outputId": "1950b579-2509-4007-ef50-0274c2b1dfbd"
      },
      "source": [
        "df.info()"
      ],
      "execution_count": null,
      "outputs": [
        {
          "output_type": "stream",
          "text": [
            "<class 'pandas.core.frame.DataFrame'>\n",
            "RangeIndex: 1200 entries, 0 to 1199\n",
            "Data columns (total 13 columns):\n",
            " #   Column          Non-Null Count  Dtype \n",
            "---  ------          --------------  ----- \n",
            " 0   Match Played    1200 non-null   int64 \n",
            " 1   Teams           1200 non-null   object\n",
            " 2   Group           1200 non-null   object\n",
            " 3   Map             1200 non-null   object\n",
            " 4   Groups Playing  1200 non-null   object\n",
            " 5   Week            1200 non-null   int64 \n",
            " 6   Day             1200 non-null   int64 \n",
            " 7   Match No        1200 non-null   int64 \n",
            " 8   Team Match No   1200 non-null   int64 \n",
            " 9   Chicken Dinner  1200 non-null   int64 \n",
            " 10  Placement       1200 non-null   int64 \n",
            " 11  Kills           1200 non-null   int64 \n",
            " 12  Total           1200 non-null   int64 \n",
            "dtypes: int64(9), object(4)\n",
            "memory usage: 122.0+ KB\n"
          ],
          "name": "stdout"
        }
      ]
    },
    {
      "cell_type": "code",
      "metadata": {
        "colab": {
          "base_uri": "https://localhost:8080/",
          "height": 195
        },
        "id": "IL32Zx9Mqyv4",
        "outputId": "195f3cc5-5dfa-4646-9ade-1172bc9e501c"
      },
      "source": [
        "retail = retail.drop([\"Match Played\", \"Map\", \"Teams\", \"Week\"], axis = 1)\r\n",
        "retail.head()"
      ],
      "execution_count": null,
      "outputs": [
        {
          "output_type": "execute_result",
          "data": {
            "text/html": [
              "<div>\n",
              "<style scoped>\n",
              "    .dataframe tbody tr th:only-of-type {\n",
              "        vertical-align: middle;\n",
              "    }\n",
              "\n",
              "    .dataframe tbody tr th {\n",
              "        vertical-align: top;\n",
              "    }\n",
              "\n",
              "    .dataframe thead th {\n",
              "        text-align: right;\n",
              "    }\n",
              "</style>\n",
              "<table border=\"1\" class=\"dataframe\">\n",
              "  <thead>\n",
              "    <tr style=\"text-align: right;\">\n",
              "      <th></th>\n",
              "      <th>Group</th>\n",
              "      <th>Groups Playing</th>\n",
              "      <th>Day</th>\n",
              "      <th>Match No</th>\n",
              "      <th>Team Match No</th>\n",
              "      <th>Chicken Dinner</th>\n",
              "      <th>Placement</th>\n",
              "      <th>Kills</th>\n",
              "      <th>Total</th>\n",
              "    </tr>\n",
              "  </thead>\n",
              "  <tbody>\n",
              "    <tr>\n",
              "      <th>0</th>\n",
              "      <td>A</td>\n",
              "      <td>A B C D</td>\n",
              "      <td>1</td>\n",
              "      <td>1</td>\n",
              "      <td>1</td>\n",
              "      <td>0</td>\n",
              "      <td>1</td>\n",
              "      <td>2</td>\n",
              "      <td>3</td>\n",
              "    </tr>\n",
              "    <tr>\n",
              "      <th>1</th>\n",
              "      <td>B</td>\n",
              "      <td>A B C D</td>\n",
              "      <td>1</td>\n",
              "      <td>1</td>\n",
              "      <td>1</td>\n",
              "      <td>0</td>\n",
              "      <td>8</td>\n",
              "      <td>3</td>\n",
              "      <td>11</td>\n",
              "    </tr>\n",
              "    <tr>\n",
              "      <th>2</th>\n",
              "      <td>D</td>\n",
              "      <td>A B C D</td>\n",
              "      <td>1</td>\n",
              "      <td>1</td>\n",
              "      <td>1</td>\n",
              "      <td>0</td>\n",
              "      <td>1</td>\n",
              "      <td>0</td>\n",
              "      <td>1</td>\n",
              "    </tr>\n",
              "    <tr>\n",
              "      <th>3</th>\n",
              "      <td>E</td>\n",
              "      <td>A B C D</td>\n",
              "      <td>1</td>\n",
              "      <td>1</td>\n",
              "      <td>0</td>\n",
              "      <td>0</td>\n",
              "      <td>0</td>\n",
              "      <td>0</td>\n",
              "      <td>0</td>\n",
              "    </tr>\n",
              "    <tr>\n",
              "      <th>4</th>\n",
              "      <td>D</td>\n",
              "      <td>A B C D</td>\n",
              "      <td>1</td>\n",
              "      <td>1</td>\n",
              "      <td>1</td>\n",
              "      <td>0</td>\n",
              "      <td>2</td>\n",
              "      <td>5</td>\n",
              "      <td>7</td>\n",
              "    </tr>\n",
              "  </tbody>\n",
              "</table>\n",
              "</div>"
            ],
            "text/plain": [
              "  Group Groups Playing  Day  Match No  Team Match No  Chicken Dinner  \\\n",
              "0     A        A B C D    1         1              1               0   \n",
              "1     B        A B C D    1         1              1               0   \n",
              "2     D        A B C D    1         1              1               0   \n",
              "3     E        A B C D    1         1              0               0   \n",
              "4     D        A B C D    1         1              1               0   \n",
              "\n",
              "   Placement  Kills  Total  \n",
              "0          1      2      3  \n",
              "1          8      3     11  \n",
              "2          1      0      1  \n",
              "3          0      0      0  \n",
              "4          2      5      7  "
            ]
          },
          "metadata": {
            "tags": []
          },
          "execution_count": 70
        }
      ]
    },
    {
      "cell_type": "code",
      "metadata": {
        "colab": {
          "base_uri": "https://localhost:8080/",
          "height": 195
        },
        "id": "qC6cYvk-aQyh",
        "outputId": "7f165bd7-f343-4101-be06-22084b259dd5"
      },
      "source": [
        "df_x = df.iloc[:, 11:13]\r\n",
        "df_x.head()"
      ],
      "execution_count": null,
      "outputs": [
        {
          "output_type": "execute_result",
          "data": {
            "text/html": [
              "<div>\n",
              "<style scoped>\n",
              "    .dataframe tbody tr th:only-of-type {\n",
              "        vertical-align: middle;\n",
              "    }\n",
              "\n",
              "    .dataframe tbody tr th {\n",
              "        vertical-align: top;\n",
              "    }\n",
              "\n",
              "    .dataframe thead th {\n",
              "        text-align: right;\n",
              "    }\n",
              "</style>\n",
              "<table border=\"1\" class=\"dataframe\">\n",
              "  <thead>\n",
              "    <tr style=\"text-align: right;\">\n",
              "      <th></th>\n",
              "      <th>Kills</th>\n",
              "      <th>Total</th>\n",
              "    </tr>\n",
              "  </thead>\n",
              "  <tbody>\n",
              "    <tr>\n",
              "      <th>0</th>\n",
              "      <td>2</td>\n",
              "      <td>3</td>\n",
              "    </tr>\n",
              "    <tr>\n",
              "      <th>1</th>\n",
              "      <td>3</td>\n",
              "      <td>11</td>\n",
              "    </tr>\n",
              "    <tr>\n",
              "      <th>2</th>\n",
              "      <td>0</td>\n",
              "      <td>1</td>\n",
              "    </tr>\n",
              "    <tr>\n",
              "      <th>3</th>\n",
              "      <td>0</td>\n",
              "      <td>0</td>\n",
              "    </tr>\n",
              "    <tr>\n",
              "      <th>4</th>\n",
              "      <td>5</td>\n",
              "      <td>7</td>\n",
              "    </tr>\n",
              "  </tbody>\n",
              "</table>\n",
              "</div>"
            ],
            "text/plain": [
              "   Kills  Total\n",
              "0      2      3\n",
              "1      3     11\n",
              "2      0      1\n",
              "3      0      0\n",
              "4      5      7"
            ]
          },
          "metadata": {
            "tags": []
          },
          "execution_count": 71
        }
      ]
    },
    {
      "cell_type": "markdown",
      "metadata": {
        "id": "Ho4FDtCIa85-"
      },
      "source": [
        "Mengubah variabel data frame menjadi array sebelum menentukan nilai K"
      ]
    },
    {
      "cell_type": "code",
      "metadata": {
        "colab": {
          "base_uri": "https://localhost:8080/"
        },
        "id": "f-z0QgvtZEOe",
        "outputId": "028bd299-a765-45f6-fc4f-5c6ba06af51e"
      },
      "source": [
        "x_array = np.array(df_x)\r\n",
        "print(x_array)"
      ],
      "execution_count": null,
      "outputs": [
        {
          "output_type": "stream",
          "text": [
            "[[ 2  3]\n",
            " [ 3 11]\n",
            " [ 0  1]\n",
            " ...\n",
            " [ 0  1]\n",
            " [ 0  0]\n",
            " [ 2  6]]\n"
          ],
          "name": "stdout"
        }
      ]
    },
    {
      "cell_type": "markdown",
      "metadata": {
        "id": "PkP39fs4a_cX"
      },
      "source": [
        "Menstandarkan kembali ukuran variabel array."
      ]
    },
    {
      "cell_type": "code",
      "metadata": {
        "colab": {
          "base_uri": "https://localhost:8080/",
          "height": 296
        },
        "id": "k-ZzLWVNbFPt",
        "outputId": "10932b01-3c7e-48f7-df39-330a0bcd9dd4"
      },
      "source": [
        "sns.scatterplot(x=\"Placement\", y=\"Kills\", data=df, s=100, color=\"red\" , alpha = 0.5)"
      ],
      "execution_count": null,
      "outputs": [
        {
          "output_type": "execute_result",
          "data": {
            "text/plain": [
              "<matplotlib.axes._subplots.AxesSubplot at 0x7f62a0621470>"
            ]
          },
          "metadata": {
            "tags": []
          },
          "execution_count": 73
        },
        {
          "output_type": "display_data",
          "data": {
            "image/png": "[encoded data removed]",
            "text/plain": [
              "<Figure size 432x288 with 1 Axes>"
            ]
          },
          "metadata": {
            "tags": [],
            "needs_background": "light"
          }
        }
      ]
    },
    {
      "cell_type": "markdown",
      "metadata": {
        "id": "GPz2qK7reA6x"
      },
      "source": [
        "Menentukan dan konfigurasi fungsi k-means. syntax berikut merupakan syntax untuk mengelompokkan data menjadi 4 cluster.\r\n",
        "menentukan nilai K (cluster) dari data."
      ]
    },
    {
      "cell_type": "code",
      "metadata": {
        "id": "CpbXQk4wmvPk",
        "colab": {
          "base_uri": "https://localhost:8080/"
        },
        "outputId": "e35fd4d3-f12d-4ef1-9ca1-9cd3db83fe2c"
      },
      "source": [
        "scaler = MinMaxScaler()\r\n",
        "x_scaled = scaler.fit_transform(x_array)\r\n",
        "x_scaled"
      ],
      "execution_count": null,
      "outputs": [
        {
          "output_type": "execute_result",
          "data": {
            "text/plain": [
              "array([[0.10526316, 0.07692308],\n",
              "       [0.15789474, 0.28205128],\n",
              "       [0.        , 0.02564103],\n",
              "       ...,\n",
              "       [0.        , 0.02564103],\n",
              "       [0.        , 0.        ],\n",
              "       [0.10526316, 0.15384615]])"
            ]
          },
          "metadata": {
            "tags": []
          },
          "execution_count": 74
        }
      ]
    },
    {
      "cell_type": "code",
      "metadata": {
        "id": "T63jqIaPNSk-"
      },
      "source": [
        "from sklearn.cluster import KMeans"
      ],
      "execution_count": null,
      "outputs": []
    },
    {
      "cell_type": "code",
      "metadata": {
        "colab": {
          "base_uri": "https://localhost:8080/"
        },
        "id": "aP-ppjIMuZtl",
        "outputId": "6c3687ea-a93a-40e0-8a07-8f1e5d930fb2"
      },
      "source": [
        "# Menentukan dan mengkonfigurasi fungsi kmeans\r\n",
        "kmeans = KMeans(n_clusters = 5, random_state=123)\r\n",
        "# Menentukan kluster dari data\r\n",
        "kmeans.fit(x_scaled)"
      ],
      "execution_count": null,
      "outputs": [
        {
          "output_type": "execute_result",
          "data": {
            "text/plain": [
              "KMeans(algorithm='auto', copy_x=True, init='k-means++', max_iter=300,\n",
              "       n_clusters=5, n_init=10, n_jobs=None, precompute_distances='auto',\n",
              "       random_state=123, tol=0.0001, verbose=0)"
            ]
          },
          "metadata": {
            "tags": []
          },
          "execution_count": 76
        }
      ]
    },
    {
      "cell_type": "code",
      "metadata": {
        "colab": {
          "base_uri": "https://localhost:8080/"
        },
        "id": "hNd0iKy4ufjx",
        "outputId": "a48f136a-9d7e-4c17-d522-a1ea613dae90"
      },
      "source": [
        "print(kmeans.cluster_centers_)"
      ],
      "execution_count": null,
      "outputs": [
        {
          "output_type": "stream",
          "text": [
            "[[0.11779449 0.14635735]\n",
            " [0.41052632 0.47692308]\n",
            " [0.0105468  0.02374539]\n",
            " [0.56733746 0.75      ]\n",
            " [0.25797655 0.2837784 ]]\n"
          ],
          "name": "stdout"
        }
      ]
    },
    {
      "cell_type": "code",
      "metadata": {
        "colab": {
          "base_uri": "https://localhost:8080/",
          "height": 212
        },
        "id": "8fyi8dMKeCYv",
        "outputId": "dfe7e7c3-2c67-485b-9a20-32f359524971"
      },
      "source": [
        "# Menampilkan hasil kluster\r\n",
        "print(kmeans.labels_)\r\n",
        "# Menambahkan kolom \"kluster\" dalam data frame ritel\r\n",
        "retail[\"kluster\"] = kmeans.labels_\r\n",
        "retail.head()"
      ],
      "execution_count": null,
      "outputs": [
        {
          "output_type": "stream",
          "text": [
            "[0 4 2 ... 2 2 0]\n"
          ],
          "name": "stdout"
        },
        {
          "output_type": "execute_result",
          "data": {
            "text/html": [
              "<div>\n",
              "<style scoped>\n",
              "    .dataframe tbody tr th:only-of-type {\n",
              "        vertical-align: middle;\n",
              "    }\n",
              "\n",
              "    .dataframe tbody tr th {\n",
              "        vertical-align: top;\n",
              "    }\n",
              "\n",
              "    .dataframe thead th {\n",
              "        text-align: right;\n",
              "    }\n",
              "</style>\n",
              "<table border=\"1\" class=\"dataframe\">\n",
              "  <thead>\n",
              "    <tr style=\"text-align: right;\">\n",
              "      <th></th>\n",
              "      <th>Group</th>\n",
              "      <th>Groups Playing</th>\n",
              "      <th>Day</th>\n",
              "      <th>Match No</th>\n",
              "      <th>Team Match No</th>\n",
              "      <th>Chicken Dinner</th>\n",
              "      <th>Placement</th>\n",
              "      <th>Kills</th>\n",
              "      <th>Total</th>\n",
              "      <th>kluster</th>\n",
              "    </tr>\n",
              "  </thead>\n",
              "  <tbody>\n",
              "    <tr>\n",
              "      <th>0</th>\n",
              "      <td>A</td>\n",
              "      <td>A B C D</td>\n",
              "      <td>1</td>\n",
              "      <td>1</td>\n",
              "      <td>1</td>\n",
              "      <td>0</td>\n",
              "      <td>1</td>\n",
              "      <td>2</td>\n",
              "      <td>3</td>\n",
              "      <td>0</td>\n",
              "    </tr>\n",
              "    <tr>\n",
              "      <th>1</th>\n",
              "      <td>B</td>\n",
              "      <td>A B C D</td>\n",
              "      <td>1</td>\n",
              "      <td>1</td>\n",
              "      <td>1</td>\n",
              "      <td>0</td>\n",
              "      <td>8</td>\n",
              "      <td>3</td>\n",
              "      <td>11</td>\n",
              "      <td>4</td>\n",
              "    </tr>\n",
              "    <tr>\n",
              "      <th>2</th>\n",
              "      <td>D</td>\n",
              "      <td>A B C D</td>\n",
              "      <td>1</td>\n",
              "      <td>1</td>\n",
              "      <td>1</td>\n",
              "      <td>0</td>\n",
              "      <td>1</td>\n",
              "      <td>0</td>\n",
              "      <td>1</td>\n",
              "      <td>2</td>\n",
              "    </tr>\n",
              "    <tr>\n",
              "      <th>3</th>\n",
              "      <td>E</td>\n",
              "      <td>A B C D</td>\n",
              "      <td>1</td>\n",
              "      <td>1</td>\n",
              "      <td>0</td>\n",
              "      <td>0</td>\n",
              "      <td>0</td>\n",
              "      <td>0</td>\n",
              "      <td>0</td>\n",
              "      <td>2</td>\n",
              "    </tr>\n",
              "    <tr>\n",
              "      <th>4</th>\n",
              "      <td>D</td>\n",
              "      <td>A B C D</td>\n",
              "      <td>1</td>\n",
              "      <td>1</td>\n",
              "      <td>1</td>\n",
              "      <td>0</td>\n",
              "      <td>2</td>\n",
              "      <td>5</td>\n",
              "      <td>7</td>\n",
              "      <td>4</td>\n",
              "    </tr>\n",
              "  </tbody>\n",
              "</table>\n",
              "</div>"
            ],
            "text/plain": [
              "  Group Groups Playing  Day  Match No  Team Match No  Chicken Dinner  \\\n",
              "0     A        A B C D    1         1              1               0   \n",
              "1     B        A B C D    1         1              1               0   \n",
              "2     D        A B C D    1         1              1               0   \n",
              "3     E        A B C D    1         1              0               0   \n",
              "4     D        A B C D    1         1              1               0   \n",
              "\n",
              "   Placement  Kills  Total  kluster  \n",
              "0          1      2      3        0  \n",
              "1          8      3     11        4  \n",
              "2          1      0      1        2  \n",
              "3          0      0      0        2  \n",
              "4          2      5      7        4  "
            ]
          },
          "metadata": {
            "tags": []
          },
          "execution_count": 78
        }
      ]
    },
    {
      "cell_type": "code",
      "metadata": {
        "colab": {
          "base_uri": "https://localhost:8080/",
          "height": 312
        },
        "id": "IBQGoHNgtCTv",
        "outputId": "99c2ebb2-9420-4113-e53b-28987e686920"
      },
      "source": [
        "output = plt.scatter(x_scaled[:,0], \r\n",
        "x_scaled[:,1], s = 100, c = retail.kluster, marker = \"o\", alpha = 1,)\r\n",
        "centers = kmeans.cluster_centers_\r\n",
        "plt.scatter(centers[:,0], centers[:,1], c='red', s=200, alpha=1 , marker=\"s\");\r\n",
        "plt.title(\"Hasil Klustering K-Means\")\r\n",
        "plt.xlabel(\"Scaled Placement\")\r\n",
        "plt.ylabel(\"Scaled Kills\")\r\n",
        "plt.colorbar (output)\r\n",
        "plt.legend()\r\n",
        "plt.show()"
      ],
      "execution_count": null,
      "outputs": [
        {
          "output_type": "stream",
          "text": [
            "No handles with labels found to put in legend.\n"
          ],
          "name": "stderr"
        },
        {
          "output_type": "display_data",
          "data": {
            "image/png": "[encoded data removed]",
            "text/plain": [
              "<Figure size 432x288 with 2 Axes>"
            ]
          },
          "metadata": {
            "tags": [],
            "needs_background": "light"
          }
        }
      ]
    },
    {
      "cell_type": "markdown",
      "metadata": {
        "id": "ypSCPICQOLRW"
      },
      "source": [
        "**Evaluasi Data**"
      ]
    },
    {
      "cell_type": "code",
      "metadata": {
        "id": "n7bRtlcaOOOB"
      },
      "source": [
        "import numpy as np \r\n",
        "import pandas as pd "
      ],
      "execution_count": null,
      "outputs": []
    },
    {
      "cell_type": "code",
      "metadata": {
        "colab": {
          "base_uri": "https://localhost:8080/",
          "height": 195
        },
        "id": "fKw6mJjxOUEW",
        "outputId": "8aab5d7e-bd5b-4cac-aa2b-bde45aa74d78"
      },
      "source": [
        "url = 'https://raw.githubusercontent.com/Ardika46/Tugas-Data-Saintis/main/PMPL%20South%20Asia.csv'\r\n",
        "df = pd.read_csv(\"https://raw.githubusercontent.com/Ardika46/Tugas-Data-Saintis/main/PMPL%20South%20Asia.csv\") \r\n",
        "df.head()"
      ],
      "execution_count": null,
      "outputs": [
        {
          "output_type": "execute_result",
          "data": {
            "text/html": [
              "<div>\n",
              "<style scoped>\n",
              "    .dataframe tbody tr th:only-of-type {\n",
              "        vertical-align: middle;\n",
              "    }\n",
              "\n",
              "    .dataframe tbody tr th {\n",
              "        vertical-align: top;\n",
              "    }\n",
              "\n",
              "    .dataframe thead th {\n",
              "        text-align: right;\n",
              "    }\n",
              "</style>\n",
              "<table border=\"1\" class=\"dataframe\">\n",
              "  <thead>\n",
              "    <tr style=\"text-align: right;\">\n",
              "      <th></th>\n",
              "      <th>Match Played</th>\n",
              "      <th>Teams</th>\n",
              "      <th>Group</th>\n",
              "      <th>Map</th>\n",
              "      <th>Groups Playing</th>\n",
              "      <th>Week</th>\n",
              "      <th>Day</th>\n",
              "      <th>Match No</th>\n",
              "      <th>Team Match No</th>\n",
              "      <th>Chicken Dinner</th>\n",
              "      <th>Placement</th>\n",
              "      <th>Kills</th>\n",
              "      <th>Total</th>\n",
              "    </tr>\n",
              "  </thead>\n",
              "  <tbody>\n",
              "    <tr>\n",
              "      <th>0</th>\n",
              "      <td>1</td>\n",
              "      <td>Celtz</td>\n",
              "      <td>A</td>\n",
              "      <td>Erangel</td>\n",
              "      <td>A B C D</td>\n",
              "      <td>1</td>\n",
              "      <td>1</td>\n",
              "      <td>1</td>\n",
              "      <td>1</td>\n",
              "      <td>0</td>\n",
              "      <td>1</td>\n",
              "      <td>2</td>\n",
              "      <td>3</td>\n",
              "    </tr>\n",
              "    <tr>\n",
              "      <th>1</th>\n",
              "      <td>1</td>\n",
              "      <td>Crwl</td>\n",
              "      <td>B</td>\n",
              "      <td>Erangel</td>\n",
              "      <td>A B C D</td>\n",
              "      <td>1</td>\n",
              "      <td>1</td>\n",
              "      <td>1</td>\n",
              "      <td>1</td>\n",
              "      <td>0</td>\n",
              "      <td>8</td>\n",
              "      <td>3</td>\n",
              "      <td>11</td>\n",
              "    </tr>\n",
              "    <tr>\n",
              "      <th>2</th>\n",
              "      <td>1</td>\n",
              "      <td>Deadeyes</td>\n",
              "      <td>D</td>\n",
              "      <td>Erangel</td>\n",
              "      <td>A B C D</td>\n",
              "      <td>1</td>\n",
              "      <td>1</td>\n",
              "      <td>1</td>\n",
              "      <td>1</td>\n",
              "      <td>0</td>\n",
              "      <td>1</td>\n",
              "      <td>0</td>\n",
              "      <td>1</td>\n",
              "    </tr>\n",
              "    <tr>\n",
              "      <th>3</th>\n",
              "      <td>0</td>\n",
              "      <td>EX</td>\n",
              "      <td>E</td>\n",
              "      <td>Erangel</td>\n",
              "      <td>A B C D</td>\n",
              "      <td>1</td>\n",
              "      <td>1</td>\n",
              "      <td>1</td>\n",
              "      <td>0</td>\n",
              "      <td>0</td>\n",
              "      <td>0</td>\n",
              "      <td>0</td>\n",
              "      <td>0</td>\n",
              "    </tr>\n",
              "    <tr>\n",
              "      <th>4</th>\n",
              "      <td>1</td>\n",
              "      <td>Fnatic</td>\n",
              "      <td>D</td>\n",
              "      <td>Erangel</td>\n",
              "      <td>A B C D</td>\n",
              "      <td>1</td>\n",
              "      <td>1</td>\n",
              "      <td>1</td>\n",
              "      <td>1</td>\n",
              "      <td>0</td>\n",
              "      <td>2</td>\n",
              "      <td>5</td>\n",
              "      <td>7</td>\n",
              "    </tr>\n",
              "  </tbody>\n",
              "</table>\n",
              "</div>"
            ],
            "text/plain": [
              "   Match Played      Teams Group      Map Groups Playing  Week  Day  Match No  \\\n",
              "0             1      Celtz     A  Erangel        A B C D     1    1         1   \n",
              "1             1       Crwl     B  Erangel        A B C D     1    1         1   \n",
              "2             1   Deadeyes     D  Erangel        A B C D     1    1         1   \n",
              "3             0         EX     E  Erangel        A B C D     1    1         1   \n",
              "4             1     Fnatic     D  Erangel        A B C D     1    1         1   \n",
              "\n",
              "   Team Match No  Chicken Dinner  Placement  Kills  Total  \n",
              "0              1               0          1      2      3  \n",
              "1              1               0          8      3     11  \n",
              "2              1               0          1      0      1  \n",
              "3              0               0          0      0      0  \n",
              "4              1               0          2      5      7  "
            ]
          },
          "metadata": {
            "tags": []
          },
          "execution_count": 81
        }
      ]
    },
    {
      "cell_type": "code",
      "metadata": {
        "id": "0ufFXkJJOiym"
      },
      "source": [
        "class HypothesisTest(object):\r\n",
        "    \r\n",
        "    def __init__(self, data):\r\n",
        "        self.data = data\r\n",
        "        self.MakeModel()\r\n",
        "        self.actual = self.TestStatistic(data)\r\n",
        "        \r\n",
        "    def PValue(self, iters = 1000):\r\n",
        "        self.test_stats = [self.TestStatistic(self.RunModel()) for _ in range(iters)]\r\n",
        "        count = sum(1 for x in self.test_stats if x >= self.actual)\r\n",
        "        return count / iters\r\n",
        "    \r\n",
        "    def TestStatistic(self, data):\r\n",
        "        raise UnimplementedMethodException()\r\n",
        "        \r\n",
        "    def MakeModel(self):\r\n",
        "        pass\r\n",
        "    \r\n",
        "    def RunModel(self):\r\n",
        "        raise UnimplementedMethodException()"
      ],
      "execution_count": null,
      "outputs": []
    },
    {
      "cell_type": "code",
      "metadata": {
        "id": "24uGhwGUOmhH"
      },
      "source": [
        "class CorrPermute(HypothesisTest):\r\n",
        "    \r\n",
        "    def TestStatistic(self, data):\r\n",
        "        xs, ys = data\r\n",
        "        test_stat = abs(correlation(xs, ys))\r\n",
        "        return test_stat\r\n",
        "    \r\n",
        "    def RunModel(self):\r\n",
        "        xs, ys = self.data\r\n",
        "        xs = np.random.permutation(xs)\r\n",
        "        return xs, ys\r\n",
        "    \r\n",
        "def correlation(x, y):\r\n",
        "    std_x = np.std(x)\r\n",
        "    std_y = np.std(y)\r\n",
        "    if std_x and std_y > 0:\r\n",
        "        return covariance(x, y) / std_x / std_y\r\n",
        "    else:\r\n",
        "        return 0\r\n",
        "    \r\n",
        "def de_mean(x):\r\n",
        "    x_bar = np.mean(x)\r\n",
        "    return [x_i - x_bar for x_i in x]\r\n",
        "\r\n",
        "def covariance(x, y):\r\n",
        "    n = len(x)\r\n",
        "    return np.dot(de_mean(x), de_mean(y)) / (n - 1)"
      ],
      "execution_count": null,
      "outputs": []
    },
    {
      "cell_type": "code",
      "metadata": {
        "id": "EQROGT4-On73"
      },
      "source": [
        "rs = df['Placement']\r\n",
        "ws = df['Kills']\r\n",
        "\r\n",
        "ct = CorrPermute((rs, ws))\r\n",
        "pvalue = ct.PValue()"
      ],
      "execution_count": null,
      "outputs": []
    },
    {
      "cell_type": "code",
      "metadata": {
        "colab": {
          "base_uri": "https://localhost:8080/"
        },
        "id": "kaGggbXQO590",
        "outputId": "c8e4f595-eb83-4ec6-9a18-6cf044f904bb"
      },
      "source": [
        "print('The P-Value is: ', pvalue)"
      ],
      "execution_count": null,
      "outputs": [
        {
          "output_type": "stream",
          "text": [
            "The P-Value is:  0.0\n"
          ],
          "name": "stdout"
        }
      ]
    },
    {
      "cell_type": "markdown",
      "metadata": {
        "id": "3eyHJKBpO72h"
      },
      "source": [
        "Memprediksi Placement dan Kills"
      ]
    },
    {
      "cell_type": "code",
      "metadata": {
        "id": "X8TfbEmRPFIu"
      },
      "source": [
        "def LeastSquares(xs, ys):\r\n",
        "    meanx, varx = np.mean(xs), np.var(xs)\r\n",
        "    meany = np.mean(ys)\r\n",
        "    \r\n",
        "    slope = covariance(xs, ys) / varx\r\n",
        "    inter = meany - slope * meanx\r\n",
        "    \r\n",
        "    return inter, slope\r\n",
        "\r\n",
        "def FitLine(xs, inter, slope):\r\n",
        "    fit_xs = np.sort(xs)\r\n",
        "    fit_ys = inter + slope * fit_xs\r\n",
        "    \r\n",
        "    return fit_xs, fit_ys"
      ],
      "execution_count": null,
      "outputs": []
    },
    {
      "cell_type": "code",
      "metadata": {
        "colab": {
          "base_uri": "https://localhost:8080/"
        },
        "id": "i1nQSQHTPIeN",
        "outputId": "a27ccc33-9b73-443e-f695-399393b7421a"
      },
      "source": [
        "inter, slope = LeastSquares(ws, rs)\r\n",
        "fit_xs, fit_ys = FitLine(ws, inter, slope)\r\n",
        "\r\n",
        "print('intercept is: {} and slope is: {}'.format(inter, slope))"
      ],
      "execution_count": null,
      "outputs": [
        {
          "output_type": "stream",
          "text": [
            "intercept is: 0.9720416864438279 and slope is: 1.1759491707824832\n"
          ],
          "name": "stdout"
        }
      ]
    },
    {
      "cell_type": "markdown",
      "metadata": {
        "id": "-DcJb6EBPMG_"
      },
      "source": [
        "Residual"
      ]
    },
    {
      "cell_type": "code",
      "metadata": {
        "id": "p0sTXovlPOsB"
      },
      "source": [
        "def Residuals(xs, ys, inter, slope):\r\n",
        "    xs = np.asarray(xs)\r\n",
        "    ys = np.asarray(ys)\r\n",
        "    res = ys - (inter + slope * xs)\r\n",
        "    return res"
      ],
      "execution_count": null,
      "outputs": []
    },
    {
      "cell_type": "code",
      "metadata": {
        "id": "h4oaB2phPRkq"
      },
      "source": [
        "res = Residuals(ws, rs, inter, slope)"
      ],
      "execution_count": null,
      "outputs": []
    },
    {
      "cell_type": "markdown",
      "metadata": {
        "id": "u7R1p0-kPahV"
      },
      "source": [
        "**Memprediksi Placement dan Kills:**"
      ]
    },
    {
      "cell_type": "code",
      "metadata": {
        "colab": {
          "base_uri": "https://localhost:8080/"
        },
        "id": "MvfoxDivPTw8",
        "outputId": "56e10b4a-495f-47ad-cfc8-3967703a0adf"
      },
      "source": [
        "print('RMSE if we predict the reading scores using the writing scores: ', np.std(res))\r\n",
        "print('RMSE if we predict the reading scores without using the writing scores: ', np.std(rs))"
      ],
      "execution_count": null,
      "outputs": [
        {
          "output_type": "stream",
          "text": [
            "RMSE if we predict the reading scores using the writing scores:  3.4734597148160624\n",
            "RMSE if we predict the reading scores without using the writing scores:  5.2141634036535525\n"
          ],
          "name": "stdout"
        }
      ]
    },
    {
      "cell_type": "markdown",
      "metadata": {
        "id": "xL50PHRwPuOu"
      },
      "source": [
        "**koefisien Desterminasi**"
      ]
    },
    {
      "cell_type": "code",
      "metadata": {
        "colab": {
          "base_uri": "https://localhost:8080/"
        },
        "id": "Kxudkw3vP2a9",
        "outputId": "461a5063-29b3-49e2-c620-00b5d4c436dd"
      },
      "source": [
        "r_squared = 1 - (np.var(res) / np.var(rs))\r\n",
        "\r\n",
        "print('The Coefficient of Determination or r^2 is: ', r_squared)"
      ],
      "execution_count": null,
      "outputs": [
        {
          "output_type": "stream",
          "text": [
            "The Coefficient of Determination or r^2 is:  0.5562327396616062\n"
          ],
          "name": "stdout"
        }
      ]
    },
    {
      "cell_type": "markdown",
      "metadata": {
        "id": "QXaT6xOqQHai"
      },
      "source": [
        "**Visualisasi Plotting Garis/Line**"
      ]
    },
    {
      "cell_type": "code",
      "metadata": {
        "colab": {
          "base_uri": "https://localhost:8080/",
          "height": 514
        },
        "id": "N7qJKa5kQI86",
        "outputId": "46336e2a-928c-4948-a408-f2835adbcb4e"
      },
      "source": [
        "plt.figure(figsize = (15, 8))\r\n",
        "\r\n",
        "plt.xlabel('reb')\r\n",
        "plt.ylabel('ast')\r\n",
        "\r\n",
        "plt.plot(fit_xs, fit_ys, color = 'black')\r\n",
        "plt.scatter(ws, rs, color = 'red')"
      ],
      "execution_count": null,
      "outputs": [
        {
          "output_type": "execute_result",
          "data": {
            "text/plain": [
              "<matplotlib.collections.PathCollection at 0x7f62a04a5860>"
            ]
          },
          "metadata": {
            "tags": []
          },
          "execution_count": 92
        },
        {
          "output_type": "display_data",
          "data": {
            "image/png": "[encoded data removed]",
            "text/plain": [
              "<Figure size 1080x576 with 1 Axes>"
            ]
          },
          "metadata": {
            "tags": [],
            "needs_background": "light"
          }
        }
      ]
    },
    {
      "cell_type": "markdown",
      "metadata": {
        "id": "nkgHCD38QTvp"
      },
      "source": [
        "Gambar visualisasi di atas, menunjukkan bahwa garis yang dihasilkan cocok dengan diagram pada visualisasi data sebelumnya."
      ]
    }
  ]
}