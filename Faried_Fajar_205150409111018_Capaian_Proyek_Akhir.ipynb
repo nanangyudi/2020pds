{
  "nbformat": 4,
  "nbformat_minor": 0,
  "metadata": {
    "colab": {
      "name": "Faried Fajar- 205150409111018 - Capaian Proyek Akhir.ipynb",
      "provenance": [],
      "collapsed_sections": [],
      "include_colab_link": true
    },
    "kernelspec": {
      "name": "python3",
      "display_name": "Python 3"
    }
  },
  "cells": [
    {
      "cell_type": "markdown",
      "metadata": {
        "id": "view-in-github",
        "colab_type": "text"
      },
      "source": [
        "<a href=\"https://colab.research.google.com/github/nanangyudi/2020pds_d/blob/main/Faried_Fajar_205150409111018_Capaian_Proyek_Akhir.ipynb\" target=\"_parent\"><img src=\"https://colab.research.google.com/assets/colab-badge.svg\" alt=\"Open In Colab\"/></a>"
      ]
    },
    {
      "cell_type": "markdown",
      "metadata": {
        "id": "YYV6FU19aiHM"
      },
      "source": [
        "# **1. Tahap Deskripsi Tujuan Bisnis**"
      ]
    },
    {
      "cell_type": "markdown",
      "metadata": {
        "id": "qwL_brGVmirn"
      },
      "source": [
        "**A. Deskripsi Tujuan Hasil FiFA World Cup**\n",
        "\n",
        "Tujuan dari pengolahan data ini adalah :\n",
        "1. Untuk mengelola data pemain Fifa Woreld Cup\n",
        "2. Untuk mengetahui informasi dan menghasilkan informasi yang dibutuhkan Fifa World Cup\n",
        "\n",
        "\n",
        "**B. Kebutuhan organisasi :** \n",
        "\n",
        "Setelah dianalisis atau informasi yang akan didapatkan setelah melakukan analisis ini, yaitu :\n",
        "1. Mengetahui posisi pemain yang seirng melakukan tendangan (shots)\n",
        "2. Mengetahui posisi pemain yang seirng melakukan passes\n",
        "3. Mengetahui posisi pemain yang seirng melakukan trackles\n",
        "4. Mengetahui posisi pemain yang seirng melakukan saves "
      ]
    },
    {
      "cell_type": "markdown",
      "metadata": {
        "id": "XznvvfRWcsEj"
      },
      "source": [
        "# **2. Tahap Analisis Pendekatan**"
      ]
    },
    {
      "cell_type": "markdown",
      "metadata": {
        "id": "RRMns2AbcqDe"
      },
      "source": [
        "Pada analisa data ini kami menggunakan pendekatan Exploratory Data Analysis (EDA). karena dengan pendekatan EDA menjadi sangat penting sebelum melakukan feature engineering dan modeling karena dalam tahap ini saya harus memahami dan menganalisa datanya terlebih dahulu.\r\n",
        "Teknik analisis EDA memiliki urutan\r\n",
        "- Masalah → Data → Analisis → Model → Kesimpulan\r\n",
        "\r\n",
        "\r\n"
      ]
    },
    {
      "cell_type": "markdown",
      "metadata": {
        "id": "hbTcUYcEeJ5_"
      },
      "source": [
        "# **3. Tahap Pengumpulan Data**"
      ]
    },
    {
      "cell_type": "markdown",
      "metadata": {
        "id": "NhoBvMUteWwK"
      },
      "source": [
        "**Pengumpulan Data**\r\n",
        "\r\n",
        "Dataset yang didapatkan bersumber dari Kanggle.com. Berikut link data : https://www.kaggle.com/mohaiminul101/world-cup di publikasi oleh Mohaiminul Islam.\r\n"
      ]
    },
    {
      "cell_type": "markdown",
      "metadata": {
        "id": "-HhHtQXDmxPp"
      },
      "source": [
        "# **4. Tahap Pemahaman Data Yang Dikumpulkan**"
      ]
    },
    {
      "cell_type": "markdown",
      "metadata": {
        "id": "4uuBW5U5dC9J"
      },
      "source": [
        "\r\n",
        "**Pemahaman Terhadap Data yang Dikumpulkan**\r\n",
        "\r\n",
        "\r\n",
        "- Data yang saya dapat menunjukkan informasi menampilkan semua informasi tentang semua Piala Dunia dalam sejarah, sedangkan kumpulan data Pertandingan Piala Dunia menampilkan semua hasil pertandingan yang diperebutkan sebagai bagian dari piala.\r\n",
        "- Beberapa data menunjukkan Fifa World Cup yaitu surname, team,\tposition,\tminutes,\tshots,\tpasses,\ttackles dan\tsaves \r\n"
      ]
    },
    {
      "cell_type": "markdown",
      "metadata": {
        "id": "wj7LFr0Nnxq2"
      },
      "source": [
        "# **5. Tahap Eksplorasi Data**"
      ]
    },
    {
      "cell_type": "markdown",
      "metadata": {
        "id": "p8n1LaXdHvMr"
      },
      "source": [
        "> **Tahap 1**\n",
        ": Memasukan dataset dari url, data disimpan di repository Github"
      ]
    },
    {
      "cell_type": "code",
      "metadata": {
        "id": "JdtZMf81IUuq"
      },
      "source": [
        "import pandas as pd\n",
        "import matplotlib.pyplot as plt\n",
        "import seaborn as sns\n",
        "\n",
        "url = 'https://raw.githubusercontent.com/fariedff/ProjectAkhir/main/Players.csv'\n",
        "players = pd.read_csv(url, error_bad_lines=False)"
      ],
      "execution_count": null,
      "outputs": []
    },
    {
      "cell_type": "markdown",
      "metadata": {
        "id": "On-NJP6Go0hD"
      },
      "source": [
        "> **Tahap 2**\r\n",
        ": Menampilkan data yang telah di import dari url Github dengan menampilkan 15 data teratas"
      ]
    },
    {
      "cell_type": "code",
      "metadata": {
        "colab": {
          "base_uri": "https://localhost:8080/",
          "height": 494
        },
        "id": "un2Rv85qqJtg",
        "outputId": "7aa7131b-4fc4-4934-a07d-27ea3764e321"
      },
      "source": [
        "palyers.head(15)"
      ],
      "execution_count": null,
      "outputs": [
        {
          "output_type": "execute_result",
          "data": {
            "text/html": [
              "<div>\n",
              "<style scoped>\n",
              "    .dataframe tbody tr th:only-of-type {\n",
              "        vertical-align: middle;\n",
              "    }\n",
              "\n",
              "    .dataframe tbody tr th {\n",
              "        vertical-align: top;\n",
              "    }\n",
              "\n",
              "    .dataframe thead th {\n",
              "        text-align: right;\n",
              "    }\n",
              "</style>\n",
              "<table border=\"1\" class=\"dataframe\">\n",
              "  <thead>\n",
              "    <tr style=\"text-align: right;\">\n",
              "      <th></th>\n",
              "      <th>surname</th>\n",
              "      <th>team</th>\n",
              "      <th>position</th>\n",
              "      <th>minutes</th>\n",
              "      <th>shots</th>\n",
              "      <th>passes</th>\n",
              "      <th>tackles</th>\n",
              "      <th>saves</th>\n",
              "    </tr>\n",
              "  </thead>\n",
              "  <tbody>\n",
              "    <tr>\n",
              "      <th>0</th>\n",
              "      <td>Abdoun</td>\n",
              "      <td>Algeria</td>\n",
              "      <td>midfielder</td>\n",
              "      <td>16</td>\n",
              "      <td>0</td>\n",
              "      <td>6</td>\n",
              "      <td>0</td>\n",
              "      <td>0</td>\n",
              "    </tr>\n",
              "    <tr>\n",
              "      <th>1</th>\n",
              "      <td>Belhadj</td>\n",
              "      <td>Algeria</td>\n",
              "      <td>defender</td>\n",
              "      <td>270</td>\n",
              "      <td>1</td>\n",
              "      <td>146</td>\n",
              "      <td>8</td>\n",
              "      <td>0</td>\n",
              "    </tr>\n",
              "    <tr>\n",
              "      <th>2</th>\n",
              "      <td>Boudebouz</td>\n",
              "      <td>Algeria</td>\n",
              "      <td>midfielder</td>\n",
              "      <td>74</td>\n",
              "      <td>3</td>\n",
              "      <td>28</td>\n",
              "      <td>1</td>\n",
              "      <td>0</td>\n",
              "    </tr>\n",
              "    <tr>\n",
              "      <th>3</th>\n",
              "      <td>Bougherra</td>\n",
              "      <td>Algeria</td>\n",
              "      <td>defender</td>\n",
              "      <td>270</td>\n",
              "      <td>1</td>\n",
              "      <td>89</td>\n",
              "      <td>11</td>\n",
              "      <td>0</td>\n",
              "    </tr>\n",
              "    <tr>\n",
              "      <th>4</th>\n",
              "      <td>Chaouchi</td>\n",
              "      <td>Algeria</td>\n",
              "      <td>goalkeeper</td>\n",
              "      <td>90</td>\n",
              "      <td>0</td>\n",
              "      <td>17</td>\n",
              "      <td>0</td>\n",
              "      <td>2</td>\n",
              "    </tr>\n",
              "    <tr>\n",
              "      <th>5</th>\n",
              "      <td>Djebbour</td>\n",
              "      <td>Algeria</td>\n",
              "      <td>forward</td>\n",
              "      <td>123</td>\n",
              "      <td>3</td>\n",
              "      <td>19</td>\n",
              "      <td>1</td>\n",
              "      <td>0</td>\n",
              "    </tr>\n",
              "    <tr>\n",
              "      <th>6</th>\n",
              "      <td>Ghezzal</td>\n",
              "      <td>Algeria</td>\n",
              "      <td>forward</td>\n",
              "      <td>40</td>\n",
              "      <td>3</td>\n",
              "      <td>8</td>\n",
              "      <td>0</td>\n",
              "      <td>0</td>\n",
              "    </tr>\n",
              "    <tr>\n",
              "      <th>7</th>\n",
              "      <td>Guedioura</td>\n",
              "      <td>Algeria</td>\n",
              "      <td>midfielder</td>\n",
              "      <td>38</td>\n",
              "      <td>0</td>\n",
              "      <td>18</td>\n",
              "      <td>1</td>\n",
              "      <td>0</td>\n",
              "    </tr>\n",
              "    <tr>\n",
              "      <th>8</th>\n",
              "      <td>Halliche</td>\n",
              "      <td>Algeria</td>\n",
              "      <td>defender</td>\n",
              "      <td>270</td>\n",
              "      <td>2</td>\n",
              "      <td>94</td>\n",
              "      <td>4</td>\n",
              "      <td>0</td>\n",
              "    </tr>\n",
              "    <tr>\n",
              "      <th>9</th>\n",
              "      <td>Kadir</td>\n",
              "      <td>Algeria</td>\n",
              "      <td>midfielder</td>\n",
              "      <td>262</td>\n",
              "      <td>0</td>\n",
              "      <td>104</td>\n",
              "      <td>3</td>\n",
              "      <td>0</td>\n",
              "    </tr>\n",
              "    <tr>\n",
              "      <th>10</th>\n",
              "      <td>Lacen</td>\n",
              "      <td>Algeria</td>\n",
              "      <td>midfielder</td>\n",
              "      <td>270</td>\n",
              "      <td>0</td>\n",
              "      <td>158</td>\n",
              "      <td>8</td>\n",
              "      <td>0</td>\n",
              "    </tr>\n",
              "    <tr>\n",
              "      <th>11</th>\n",
              "      <td>M'Bolhi</td>\n",
              "      <td>Algeria</td>\n",
              "      <td>goalkeeper</td>\n",
              "      <td>180</td>\n",
              "      <td>0</td>\n",
              "      <td>30</td>\n",
              "      <td>0</td>\n",
              "      <td>12</td>\n",
              "    </tr>\n",
              "    <tr>\n",
              "      <th>12</th>\n",
              "      <td>Matmour</td>\n",
              "      <td>Algeria</td>\n",
              "      <td>midfielder</td>\n",
              "      <td>255</td>\n",
              "      <td>3</td>\n",
              "      <td>68</td>\n",
              "      <td>3</td>\n",
              "      <td>0</td>\n",
              "    </tr>\n",
              "    <tr>\n",
              "      <th>13</th>\n",
              "      <td>Mesbah</td>\n",
              "      <td>Algeria</td>\n",
              "      <td>midfielder</td>\n",
              "      <td>1</td>\n",
              "      <td>0</td>\n",
              "      <td>1</td>\n",
              "      <td>0</td>\n",
              "      <td>0</td>\n",
              "    </tr>\n",
              "    <tr>\n",
              "      <th>14</th>\n",
              "      <td>Saifi</td>\n",
              "      <td>Algeria</td>\n",
              "      <td>forward</td>\n",
              "      <td>15</td>\n",
              "      <td>1</td>\n",
              "      <td>3</td>\n",
              "      <td>0</td>\n",
              "      <td>0</td>\n",
              "    </tr>\n",
              "  </tbody>\n",
              "</table>\n",
              "</div>"
            ],
            "text/plain": [
              "      surname     team    position  minutes  shots  passes  tackles  saves\n",
              "0      Abdoun  Algeria  midfielder       16      0       6        0      0\n",
              "1     Belhadj  Algeria    defender      270      1     146        8      0\n",
              "2   Boudebouz  Algeria  midfielder       74      3      28        1      0\n",
              "3   Bougherra  Algeria    defender      270      1      89       11      0\n",
              "4    Chaouchi  Algeria  goalkeeper       90      0      17        0      2\n",
              "5    Djebbour  Algeria     forward      123      3      19        1      0\n",
              "6     Ghezzal  Algeria     forward       40      3       8        0      0\n",
              "7   Guedioura  Algeria  midfielder       38      0      18        1      0\n",
              "8    Halliche  Algeria    defender      270      2      94        4      0\n",
              "9       Kadir  Algeria  midfielder      262      0     104        3      0\n",
              "10      Lacen  Algeria  midfielder      270      0     158        8      0\n",
              "11    M'Bolhi  Algeria  goalkeeper      180      0      30        0     12\n",
              "12    Matmour  Algeria  midfielder      255      3      68        3      0\n",
              "13     Mesbah  Algeria  midfielder        1      0       1        0      0\n",
              "14      Saifi  Algeria     forward       15      1       3        0      0"
            ]
          },
          "metadata": {
            "tags": []
          },
          "execution_count": 22
        }
      ]
    },
    {
      "cell_type": "markdown",
      "metadata": {
        "id": "kw3tMJeeshUr"
      },
      "source": [
        "> **Tahap 3**\r\n",
        ": Menampilkan data yang telah di import dari url Github dengan menampilkan 15 data terbawah"
      ]
    },
    {
      "cell_type": "code",
      "metadata": {
        "colab": {
          "base_uri": "https://localhost:8080/",
          "height": 494
        },
        "id": "lToWHW4pN7b1",
        "outputId": "7732e16d-09a7-4b56-b33e-716c2ffb9aff"
      },
      "source": [
        "players.tail(15)"
      ],
      "execution_count": null,
      "outputs": [
        {
          "output_type": "execute_result",
          "data": {
            "text/html": [
              "<div>\n",
              "<style scoped>\n",
              "    .dataframe tbody tr th:only-of-type {\n",
              "        vertical-align: middle;\n",
              "    }\n",
              "\n",
              "    .dataframe tbody tr th {\n",
              "        vertical-align: top;\n",
              "    }\n",
              "\n",
              "    .dataframe thead th {\n",
              "        text-align: right;\n",
              "    }\n",
              "</style>\n",
              "<table border=\"1\" class=\"dataframe\">\n",
              "  <thead>\n",
              "    <tr style=\"text-align: right;\">\n",
              "      <th></th>\n",
              "      <th>surname</th>\n",
              "      <th>team</th>\n",
              "      <th>position</th>\n",
              "      <th>minutes</th>\n",
              "      <th>shots</th>\n",
              "      <th>passes</th>\n",
              "      <th>tackles</th>\n",
              "      <th>saves</th>\n",
              "    </tr>\n",
              "  </thead>\n",
              "  <tbody>\n",
              "    <tr>\n",
              "      <th>580</th>\n",
              "      <td>Buddle</td>\n",
              "      <td>USA</td>\n",
              "      <td>forward</td>\n",
              "      <td>39</td>\n",
              "      <td>1</td>\n",
              "      <td>12</td>\n",
              "      <td>0</td>\n",
              "      <td>0</td>\n",
              "    </tr>\n",
              "    <tr>\n",
              "      <th>581</th>\n",
              "      <td>Cherundolo</td>\n",
              "      <td>USA</td>\n",
              "      <td>defender</td>\n",
              "      <td>390</td>\n",
              "      <td>1</td>\n",
              "      <td>180</td>\n",
              "      <td>10</td>\n",
              "      <td>0</td>\n",
              "    </tr>\n",
              "    <tr>\n",
              "      <th>582</th>\n",
              "      <td>Clark</td>\n",
              "      <td>USA</td>\n",
              "      <td>midfielder</td>\n",
              "      <td>121</td>\n",
              "      <td>0</td>\n",
              "      <td>42</td>\n",
              "      <td>4</td>\n",
              "      <td>0</td>\n",
              "    </tr>\n",
              "    <tr>\n",
              "      <th>583</th>\n",
              "      <td>Demerit</td>\n",
              "      <td>USA</td>\n",
              "      <td>defender</td>\n",
              "      <td>390</td>\n",
              "      <td>2</td>\n",
              "      <td>129</td>\n",
              "      <td>7</td>\n",
              "      <td>0</td>\n",
              "    </tr>\n",
              "    <tr>\n",
              "      <th>584</th>\n",
              "      <td>Dempsey</td>\n",
              "      <td>USA</td>\n",
              "      <td>midfielder</td>\n",
              "      <td>390</td>\n",
              "      <td>15</td>\n",
              "      <td>137</td>\n",
              "      <td>6</td>\n",
              "      <td>0</td>\n",
              "    </tr>\n",
              "    <tr>\n",
              "      <th>585</th>\n",
              "      <td>Donovan</td>\n",
              "      <td>USA</td>\n",
              "      <td>forward</td>\n",
              "      <td>390</td>\n",
              "      <td>7</td>\n",
              "      <td>165</td>\n",
              "      <td>9</td>\n",
              "      <td>0</td>\n",
              "    </tr>\n",
              "    <tr>\n",
              "      <th>586</th>\n",
              "      <td>Edu</td>\n",
              "      <td>USA</td>\n",
              "      <td>midfielder</td>\n",
              "      <td>198</td>\n",
              "      <td>2</td>\n",
              "      <td>116</td>\n",
              "      <td>4</td>\n",
              "      <td>0</td>\n",
              "    </tr>\n",
              "    <tr>\n",
              "      <th>587</th>\n",
              "      <td>Feilhaber</td>\n",
              "      <td>USA</td>\n",
              "      <td>midfielder</td>\n",
              "      <td>165</td>\n",
              "      <td>3</td>\n",
              "      <td>71</td>\n",
              "      <td>5</td>\n",
              "      <td>0</td>\n",
              "    </tr>\n",
              "    <tr>\n",
              "      <th>588</th>\n",
              "      <td>Findley</td>\n",
              "      <td>USA</td>\n",
              "      <td>forward</td>\n",
              "      <td>167</td>\n",
              "      <td>1</td>\n",
              "      <td>40</td>\n",
              "      <td>0</td>\n",
              "      <td>0</td>\n",
              "    </tr>\n",
              "    <tr>\n",
              "      <th>589</th>\n",
              "      <td>Gomez</td>\n",
              "      <td>USA</td>\n",
              "      <td>forward</td>\n",
              "      <td>85</td>\n",
              "      <td>4</td>\n",
              "      <td>18</td>\n",
              "      <td>0</td>\n",
              "      <td>0</td>\n",
              "    </tr>\n",
              "    <tr>\n",
              "      <th>590</th>\n",
              "      <td>Holden</td>\n",
              "      <td>USA</td>\n",
              "      <td>midfielder</td>\n",
              "      <td>4</td>\n",
              "      <td>0</td>\n",
              "      <td>2</td>\n",
              "      <td>0</td>\n",
              "      <td>0</td>\n",
              "    </tr>\n",
              "    <tr>\n",
              "      <th>591</th>\n",
              "      <td>Howard</td>\n",
              "      <td>USA</td>\n",
              "      <td>goalkeeper</td>\n",
              "      <td>390</td>\n",
              "      <td>0</td>\n",
              "      <td>81</td>\n",
              "      <td>0</td>\n",
              "      <td>14</td>\n",
              "    </tr>\n",
              "    <tr>\n",
              "      <th>592</th>\n",
              "      <td>Jozy Altidore</td>\n",
              "      <td>USA</td>\n",
              "      <td>forward</td>\n",
              "      <td>356</td>\n",
              "      <td>8</td>\n",
              "      <td>84</td>\n",
              "      <td>2</td>\n",
              "      <td>0</td>\n",
              "    </tr>\n",
              "    <tr>\n",
              "      <th>593</th>\n",
              "      <td>Onyewu</td>\n",
              "      <td>USA</td>\n",
              "      <td>defender</td>\n",
              "      <td>170</td>\n",
              "      <td>1</td>\n",
              "      <td>69</td>\n",
              "      <td>2</td>\n",
              "      <td>0</td>\n",
              "    </tr>\n",
              "    <tr>\n",
              "      <th>594</th>\n",
              "      <td>Torres</td>\n",
              "      <td>USA</td>\n",
              "      <td>midfielder</td>\n",
              "      <td>45</td>\n",
              "      <td>1</td>\n",
              "      <td>32</td>\n",
              "      <td>0</td>\n",
              "      <td>0</td>\n",
              "    </tr>\n",
              "  </tbody>\n",
              "</table>\n",
              "</div>"
            ],
            "text/plain": [
              "           surname team    position  minutes  shots  passes  tackles  saves\n",
              "580         Buddle  USA     forward       39      1      12        0      0\n",
              "581     Cherundolo  USA    defender      390      1     180       10      0\n",
              "582          Clark  USA  midfielder      121      0      42        4      0\n",
              "583        Demerit  USA    defender      390      2     129        7      0\n",
              "584        Dempsey  USA  midfielder      390     15     137        6      0\n",
              "585        Donovan  USA     forward      390      7     165        9      0\n",
              "586            Edu  USA  midfielder      198      2     116        4      0\n",
              "587      Feilhaber  USA  midfielder      165      3      71        5      0\n",
              "588        Findley  USA     forward      167      1      40        0      0\n",
              "589          Gomez  USA     forward       85      4      18        0      0\n",
              "590         Holden  USA  midfielder        4      0       2        0      0\n",
              "591         Howard  USA  goalkeeper      390      0      81        0     14\n",
              "592  Jozy Altidore  USA     forward      356      8      84        2      0\n",
              "593         Onyewu  USA    defender      170      1      69        2      0\n",
              "594         Torres  USA  midfielder       45      1      32        0      0"
            ]
          },
          "metadata": {
            "tags": []
          },
          "execution_count": 23
        }
      ]
    },
    {
      "cell_type": "markdown",
      "metadata": {
        "id": "PbsS6GR7I1wD"
      },
      "source": [
        "> **Tahap 4**\r\n",
        ": Menampilkan jumlah data baris dan kolom"
      ]
    },
    {
      "cell_type": "code",
      "metadata": {
        "colab": {
          "base_uri": "https://localhost:8080/"
        },
        "id": "MirAScpkI-YY",
        "outputId": "fde8502e-606b-4bb2-caea-477a1d72b4df"
      },
      "source": [
        "dimensi      = df.shape\n",
        "panjang_data = len(df)\n",
        "print(f'Dimensi data adalah {dimensi[0]} baris, dan {dimensi[1]} kolom')"
      ],
      "execution_count": null,
      "outputs": [
        {
          "output_type": "stream",
          "text": [
            "Dimensi data adalah 595 baris, dan 8 kolom\n"
          ],
          "name": "stdout"
        }
      ]
    },
    {
      "cell_type": "markdown",
      "metadata": {
        "id": "9ix5nAhkP-d5"
      },
      "source": [
        "> **Tahap 5**\n",
        ": Menampilkan data informasi mengenai kolom"
      ]
    },
    {
      "cell_type": "code",
      "metadata": {
        "colab": {
          "base_uri": "https://localhost:8080/"
        },
        "id": "2paeCD6ANz6h",
        "outputId": "13934472-9a49-4ad7-a0c3-c93d81c89b1d"
      },
      "source": [
        "players.info()"
      ],
      "execution_count": null,
      "outputs": [
        {
          "output_type": "stream",
          "text": [
            "<class 'pandas.core.frame.DataFrame'>\n",
            "RangeIndex: 595 entries, 0 to 594\n",
            "Data columns (total 8 columns):\n",
            " #   Column    Non-Null Count  Dtype \n",
            "---  ------    --------------  ----- \n",
            " 0   surname   595 non-null    object\n",
            " 1   team      595 non-null    object\n",
            " 2   position  595 non-null    object\n",
            " 3   minutes   595 non-null    int64 \n",
            " 4   shots     595 non-null    int64 \n",
            " 5   passes    595 non-null    int64 \n",
            " 6   tackles   595 non-null    int64 \n",
            " 7   saves     595 non-null    int64 \n",
            "dtypes: int64(5), object(3)\n",
            "memory usage: 37.3+ KB\n"
          ],
          "name": "stdout"
        }
      ]
    },
    {
      "cell_type": "markdown",
      "metadata": {
        "id": "k2BoDxR5u924"
      },
      "source": [
        "> **Tahap 6**\r\n",
        ": Menganalisis tentang pemain yang berada di posisi midfielder, defender, goalkeeper dan forward"
      ]
    },
    {
      "cell_type": "code",
      "metadata": {
        "colab": {
          "base_uri": "https://localhost:8080/",
          "height": 295
        },
        "id": "5viscXnxvbf8",
        "outputId": "f73e7f85-4a27-4aa7-ec9b-b8a70eb08d6f"
      },
      "source": [
        "fig=plt.figure()\r\n",
        "ax = fig.add_subplot(1,1,1)\r\n",
        "\r\n",
        "#Variable\r\n",
        "ax.hist(players['position'],bins = 6)\r\n",
        "#Labels and Title\r\n",
        "plt.title('Penempatan Posisi rata-rata pemain')\r\n",
        "plt.xlabel('position')\r\n",
        "plt.ylabel('Pemain')\r\n",
        "plt.show()"
      ],
      "execution_count": null,
      "outputs": [
        {
          "output_type": "display_data",
          "data": {
            "image/png": "[encoded data removed]",
            "text/plain": [
              "<Figure size 432x288 with 1 Axes>"
            ]
          },
          "metadata": {
            "tags": [],
            "needs_background": "light"
          }
        }
      ]
    },
    {
      "cell_type": "markdown",
      "metadata": {
        "id": "-qPLcgjFySkM"
      },
      "source": [
        "- **Analisis Histogram :** Ditampilkan bahwa penempatan pemain di posisi midfielder mencapai sekitar 200 lebih pemain, sedangkan posisi defender mencapai 175 lebih pemain, lalu posisi goalkeeper mencapai sekitar 40 pemain dan posisi forward mencapai 140 pemain."
      ]
    },
    {
      "cell_type": "markdown",
      "metadata": {
        "id": "4Hy4jP9e3HmD"
      },
      "source": [
        "**Tahap 7 :** Analisis shots terbanyak pada position apa"
      ]
    },
    {
      "cell_type": "code",
      "metadata": {
        "colab": {
          "base_uri": "https://localhost:8080/",
          "height": 295
        },
        "id": "UIBr1zaNOea4",
        "outputId": "0062605d-6234-4831-a150-fc0ff71d9093"
      },
      "source": [
        "fig=plt.figure()\n",
        "ax = fig.add_subplot(1,1,1)\n",
        "\n",
        "#Variable\n",
        "ax.scatter(players['position'],players['shots'])\n",
        "\n",
        "#Labels and Tit\n",
        "plt.title('position dan shots')\n",
        "plt.xlabel('position')\n",
        "plt.ylabel('shots')\n",
        "plt.show()"
      ],
      "execution_count": null,
      "outputs": [
        {
          "output_type": "display_data",
          "data": {
            "image/png": "[encoded data removed]",
            "text/plain": [
              "<Figure size 432x288 with 1 Axes>"
            ]
          },
          "metadata": {
            "tags": [],
            "needs_background": "light"
          }
        }
      ]
    },
    {
      "cell_type": "markdown",
      "metadata": {
        "id": "qJFpTnyz9jvP"
      },
      "source": [
        "- **Analisis Scatter Plot**: Total  tembakan (shots) terbanyak dapat dilihat pada mencapai lebih dari 25 tembakan (shots) dan posisi melakukan tembakan (shots) diraih pada posisi forward."
      ]
    },
    {
      "cell_type": "markdown",
      "metadata": {
        "id": "PXuyKMmm-gsy"
      },
      "source": [
        "**Tahap 8** : Analisis menggunakan Boxplot dilihat dari waktu yang dibutuhkan pemain untuk bertanding"
      ]
    },
    {
      "cell_type": "code",
      "metadata": {
        "colab": {
          "base_uri": "https://localhost:8080/",
          "height": 333
        },
        "id": "y-dj53CS-rLX",
        "outputId": "58e13463-f8fa-4d6d-f94d-5886ac2e18f9"
      },
      "source": [
        "sns.boxplot(players['minutes'])\r\n",
        "sns.despine()"
      ],
      "execution_count": null,
      "outputs": [
        {
          "output_type": "stream",
          "text": [
            "/usr/local/lib/python3.6/dist-packages/seaborn/_decorators.py:43: FutureWarning: Pass the following variable as a keyword arg: x. From version 0.12, the only valid positional argument will be `data`, and passing other arguments without an explicit keyword will result in an error or misinterpretation.\n",
            "  FutureWarning\n"
          ],
          "name": "stderr"
        },
        {
          "output_type": "display_data",
          "data": {
            "image/png": "[encoded data removed]",
            "text/plain": [
              "<Figure size 432x288 with 1 Axes>"
            ]
          },
          "metadata": {
            "tags": [],
            "needs_background": "light"
          }
        }
      ]
    },
    {
      "cell_type": "markdown",
      "metadata": {
        "id": "xs8QkzdEAAXh"
      },
      "source": [
        "- **Analisis Boxplot** : \r\n",
        "1. Nilai minimal menunjukan total waktu 0\r\n",
        "2. Nilai Quartil terendah menunjukan total waktu kira-kira 80\r\n",
        "3. Nilai Median menunjukan total waktu kira-kira 190\r\n",
        "4. Nilai Quartil teratas menunjukan total waktu kira-kira 280\r\n",
        "5. Nilai maksimal menunjukan total waktu kira-kira 580\r\n",
        "6. Terdapat pencilan data pada total waktu lebih dari 580"
      ]
    },
    {
      "cell_type": "markdown",
      "metadata": {
        "id": "xmzxc8WOBUk7"
      },
      "source": [
        "**Tahap 9** : Analisis menggunakan Plots jenis posisi pemain untuk kontribusi tendangan yang diberikan oleh pemain"
      ]
    },
    {
      "cell_type": "code",
      "metadata": {
        "colab": {
          "base_uri": "https://localhost:8080/",
          "height": 296
        },
        "id": "s8BU3ze4B3kp",
        "outputId": "3bf670c3-03e8-4471-9387-514c8bd30991"
      },
      "source": [
        "sns.stripplot(x=\"position\", y=\"shots\", data=players) "
      ],
      "execution_count": null,
      "outputs": [
        {
          "output_type": "execute_result",
          "data": {
            "text/plain": [
              "<matplotlib.axes._subplots.AxesSubplot at 0x7fe737087c50>"
            ]
          },
          "metadata": {
            "tags": []
          },
          "execution_count": 53
        },
        {
          "output_type": "display_data",
          "data": {
            "image/png": "[encoded data removed]",
            "text/plain": [
              "<Figure size 432x288 with 1 Axes>"
            ]
          },
          "metadata": {
            "tags": [],
            "needs_background": "light"
          }
        }
      ]
    },
    {
      "cell_type": "markdown",
      "metadata": {
        "id": "TNo8ZhWUDFkU"
      },
      "source": [
        "- **Analisis Plots** : Pada posisi midfielder paling banyak 15 tendangan (shots), posisi defender paling banyak 11 tendangan (shots), posisi goalkeeper  rata - rata tidak melakukan tendangan, posisi forward paling banyak melakukan kontribusi tendangan  (shots).\r\n",
        "\r\n",
        "\r\n"
      ]
    },
    {
      "cell_type": "markdown",
      "metadata": {
        "id": "qiyYvbb0FkFw"
      },
      "source": [
        "**Tahap 10** : Analisis menggunakan Boxplot posisi pemain dalam kontribusi melakukan tendangan (shots)"
      ]
    },
    {
      "cell_type": "code",
      "metadata": {
        "colab": {
          "base_uri": "https://localhost:8080/",
          "height": 356
        },
        "id": "JQ-oHmtWH5V5",
        "outputId": "585dbb4f-0cc8-45dd-e05d-28467a5555a4"
      },
      "source": [
        "  sns.boxplot(x=\"position\", y=\"shots\", data=players, hue = 'saves') "
      ],
      "execution_count": null,
      "outputs": [
        {
          "output_type": "execute_result",
          "data": {
            "text/plain": [
              "<matplotlib.axes._subplots.AxesSubplot at 0x7fe732ab3198>"
            ]
          },
          "metadata": {
            "tags": []
          },
          "execution_count": 60
        },
        {
          "output_type": "display_data",
          "data": {
            "image/png": "[encoded data removed]",
            "text/plain": [
              "<Figure size 432x288 with 1 Axes>"
            ]
          },
          "metadata": {
            "tags": [],
            "needs_background": "light"
          }
        }
      ]
    },
    {
      "cell_type": "markdown",
      "metadata": {
        "id": "bM5rIAAQUHty"
      },
      "source": [
        "- **Analisis Boxplot Midfielder** : \r\n",
        "1. Nilai minimal menunjukan midfielder(0), defender (0), goalkeeper(0), forward(0)\r\n",
        "2. Nilai Quartil terendah menunjukan rating midfielder (0), defender(4,5), goalkeeper(4,5), forward(4,5)\r\n",
        "3. Nilai Median menunjukan rating midfielder (0), defender(4,5), goalkeeper(4,5), forward(4,5)\r\n",
        "4. Nilai Quartil teratas menunjukan rating midfielder (0), defender(4,5), goalkeeper(4,5), forward(4,5)\r\n",
        "5. Nilai maksimal menunjukan rating midfielder (0), defender(4,5), goalkeeper(4,5), forward(4,5)"
      ]
    },
    {
      "cell_type": "markdown",
      "metadata": {
        "id": "8AlcrUAXc2bN"
      },
      "source": [
        "**Tahap 11** : Analisis tendangan (shots) oleh posisi pemain"
      ]
    },
    {
      "cell_type": "code",
      "metadata": {
        "colab": {
          "base_uri": "https://localhost:8080/"
        },
        "id": "lvTQGQA6daWQ",
        "outputId": "98a252c5-9831-4840-891c-bb4c6cb58aaa"
      },
      "source": [
        "print (players)\r\n",
        "test= players.groupby(['position','shots'])\r\n",
        "test.size()"
      ],
      "execution_count": null,
      "outputs": [
        {
          "output_type": "stream",
          "text": [
            "           surname     team    position  minutes  shots  passes  tackles  saves\n",
            "0           Abdoun  Algeria  midfielder       16      0       6        0      0\n",
            "1          Belhadj  Algeria    defender      270      1     146        8      0\n",
            "2        Boudebouz  Algeria  midfielder       74      3      28        1      0\n",
            "3        Bougherra  Algeria    defender      270      1      89       11      0\n",
            "4         Chaouchi  Algeria  goalkeeper       90      0      17        0      2\n",
            "..             ...      ...         ...      ...    ...     ...      ...    ...\n",
            "590         Holden      USA  midfielder        4      0       2        0      0\n",
            "591         Howard      USA  goalkeeper      390      0      81        0     14\n",
            "592  Jozy Altidore      USA     forward      356      8      84        2      0\n",
            "593         Onyewu      USA    defender      170      1      69        2      0\n",
            "594         Torres      USA  midfielder       45      1      32        0      0\n",
            "\n",
            "[595 rows x 8 columns]\n"
          ],
          "name": "stdout"
        },
        {
          "output_type": "execute_result",
          "data": {
            "text/plain": [
              "position    shots\n",
              "defender    0        81\n",
              "            1        57\n",
              "            2        28\n",
              "            3         9\n",
              "            4         5\n",
              "            5         1\n",
              "            6         3\n",
              "            7         1\n",
              "            9         2\n",
              "            11        1\n",
              "forward     0        26\n",
              "            1        21\n",
              "            2        19\n",
              "            3        20\n",
              "            4        12\n",
              "            5         7\n",
              "            6         8\n",
              "            7         7\n",
              "            8         4\n",
              "            9         4\n",
              "            10        2\n",
              "            11        2\n",
              "            13        2\n",
              "            14        2\n",
              "            17        1\n",
              "            18        2\n",
              "            19        1\n",
              "            21        1\n",
              "            22        1\n",
              "            27        1\n",
              "goalkeeper  0        35\n",
              "            1         1\n",
              "midfielder  0        64\n",
              "            1        47\n",
              "            2        40\n",
              "            3        20\n",
              "            4        15\n",
              "            5        15\n",
              "            6         9\n",
              "            7         4\n",
              "            8         5\n",
              "            9         2\n",
              "            10        2\n",
              "            11        2\n",
              "            12        1\n",
              "            15        2\n",
              "dtype: int64"
            ]
          },
          "metadata": {
            "tags": []
          },
          "execution_count": 66
        }
      ]
    },
    {
      "cell_type": "markdown",
      "metadata": {
        "id": "6RPkUjZdfRn0"
      },
      "source": [
        "\r\n",
        "- **Analisis Frekuensi** : \r\n",
        "1. Terdapat data table 595 baris dan 8 kolom yang akan dianalisis\r\n",
        "2. posisi pemain dan shots dikelompokan dan terdapat jumlah frekuensi yang telah dilakukan. Tendangan paling banyak yang dilakukan oleh posisi defender shot dengan nilai 81,posisi forward kontribusi shot 26, posisi goalkeeper kontribusi shot 35."
      ]
    },
    {
      "cell_type": "markdown",
      "metadata": {
        "id": "3iyYl82ZoCf5"
      },
      "source": [
        "**Tahap 12** : Analisis mapping tentang posisi pemain dengan shots yang dianalisis "
      ]
    },
    {
      "cell_type": "code",
      "metadata": {
        "colab": {
          "base_uri": "https://localhost:8080/",
          "height": 416
        },
        "id": "P5Y-7TgyohXh",
        "outputId": "c41b65b5-3bfa-4cce-bb37-1b109493db89"
      },
      "source": [
        "sp_pivot = players.pivot_table(index='position', columns='shots', values='saves')\r\n",
        "\r\n",
        "print(sp_pivot)\r\n",
        "\r\n",
        "sns.heatmap(sp_pivot, annot=True, cmap='coolwarm')\r\n",
        "\r\n",
        "plt.show()"
      ],
      "execution_count": null,
      "outputs": [
        {
          "output_type": "stream",
          "text": [
            "shots              0    1    2    3    4    5   ...   17   18   19   21   22   27\n",
            "position                                        ...                              \n",
            "defender     0.000000  0.0  0.0  0.0  0.0  0.0  ...  NaN  NaN  NaN  NaN  NaN  NaN\n",
            "forward      0.000000  0.0  0.0  0.0  0.0  0.0  ...  0.0  0.0  0.0  0.0  0.0  0.0\n",
            "goalkeeper  11.228571  4.0  NaN  NaN  NaN  NaN  ...  NaN  NaN  NaN  NaN  NaN  NaN\n",
            "midfielder   0.000000  0.0  0.0  0.0  0.0  0.0  ...  NaN  NaN  NaN  NaN  NaN  NaN\n",
            "\n",
            "[4 rows x 22 columns]\n"
          ],
          "name": "stdout"
        },
        {
          "output_type": "display_data",
          "data": {
            "image/png": "[encoded data removed]",
            "text/plain": [
              "<Figure size 432x288 with 2 Axes>"
            ]
          },
          "metadata": {
            "tags": [],
            "needs_background": "light"
          }
        }
      ]
    },
    {
      "cell_type": "markdown",
      "metadata": {
        "id": "rQg1sh68vp8U"
      },
      "source": [
        "- **Analisis Mapping**: Dibagi antara beberapa kelompok berdasarkan saves yang diberikan dapat dilihat dari position dan shots\r\n",
        "\r\n",
        "- Dilihat dari mapping yang sudah dibuat bahwa saves tertinggi yaitu 11 dengan posisi goalkeeper, dan posisi defender, forward dan midfielder yaitu 0"
      ]
    },
    {
      "cell_type": "markdown",
      "metadata": {
        "id": "8KuHEoMpH-vZ"
      },
      "source": [
        "# **6. Tahap Permodelan Data**\n",
        "\n"
      ]
    },
    {
      "cell_type": "markdown",
      "metadata": {
        "id": "CrAC-GK3xpIQ"
      },
      "source": [
        "**Tahap 1** : Import library yang digunakan"
      ]
    },
    {
      "cell_type": "code",
      "metadata": {
        "id": "_O_ReZsHxYqY"
      },
      "source": [
        "from sklearn.cluster import KMeans\r\n",
        "import numpy as np\r\n",
        "from sklearn.preprocessing import MinMaxScaler\r\n",
        "import math"
      ],
      "execution_count": null,
      "outputs": []
    },
    {
      "cell_type": "markdown",
      "metadata": {
        "id": "bUUkRsCExs5R"
      },
      "source": [
        "**Tahap 2** : Pengelompokan data menggunakan acuan position."
      ]
    },
    {
      "cell_type": "code",
      "metadata": {
        "colab": {
          "base_uri": "https://localhost:8080/",
          "height": 246
        },
        "id": "FKxzFSDCoUyS",
        "outputId": "f0fd743e-3c54-4e0b-9953-7819a69e3f55"
      },
      "source": [
        "test= supermarket.groupby(['position'])\n",
        "test.describe()"
      ],
      "execution_count": null,
      "outputs": [
        {
          "output_type": "execute_result",
          "data": {
            "text/html": [
              "<div>\n",
              "<style scoped>\n",
              "    .dataframe tbody tr th:only-of-type {\n",
              "        vertical-align: middle;\n",
              "    }\n",
              "\n",
              "    .dataframe tbody tr th {\n",
              "        vertical-align: top;\n",
              "    }\n",
              "\n",
              "    .dataframe thead tr th {\n",
              "        text-align: left;\n",
              "    }\n",
              "\n",
              "    .dataframe thead tr:last-of-type th {\n",
              "        text-align: right;\n",
              "    }\n",
              "</style>\n",
              "<table border=\"1\" class=\"dataframe\">\n",
              "  <thead>\n",
              "    <tr>\n",
              "      <th></th>\n",
              "      <th colspan=\"8\" halign=\"left\">minutes</th>\n",
              "      <th colspan=\"8\" halign=\"left\">shots</th>\n",
              "      <th colspan=\"8\" halign=\"left\">passes</th>\n",
              "      <th colspan=\"8\" halign=\"left\">tackles</th>\n",
              "      <th colspan=\"8\" halign=\"left\">saves</th>\n",
              "      <th colspan=\"8\" halign=\"left\">kluster</th>\n",
              "    </tr>\n",
              "    <tr>\n",
              "      <th></th>\n",
              "      <th>count</th>\n",
              "      <th>mean</th>\n",
              "      <th>std</th>\n",
              "      <th>min</th>\n",
              "      <th>25%</th>\n",
              "      <th>50%</th>\n",
              "      <th>75%</th>\n",
              "      <th>max</th>\n",
              "      <th>count</th>\n",
              "      <th>mean</th>\n",
              "      <th>std</th>\n",
              "      <th>min</th>\n",
              "      <th>25%</th>\n",
              "      <th>50%</th>\n",
              "      <th>75%</th>\n",
              "      <th>max</th>\n",
              "      <th>count</th>\n",
              "      <th>mean</th>\n",
              "      <th>std</th>\n",
              "      <th>min</th>\n",
              "      <th>25%</th>\n",
              "      <th>50%</th>\n",
              "      <th>75%</th>\n",
              "      <th>max</th>\n",
              "      <th>count</th>\n",
              "      <th>mean</th>\n",
              "      <th>std</th>\n",
              "      <th>min</th>\n",
              "      <th>25%</th>\n",
              "      <th>50%</th>\n",
              "      <th>75%</th>\n",
              "      <th>max</th>\n",
              "      <th>count</th>\n",
              "      <th>mean</th>\n",
              "      <th>std</th>\n",
              "      <th>min</th>\n",
              "      <th>25%</th>\n",
              "      <th>50%</th>\n",
              "      <th>75%</th>\n",
              "      <th>max</th>\n",
              "      <th>count</th>\n",
              "      <th>mean</th>\n",
              "      <th>std</th>\n",
              "      <th>min</th>\n",
              "      <th>25%</th>\n",
              "      <th>50%</th>\n",
              "      <th>75%</th>\n",
              "      <th>max</th>\n",
              "    </tr>\n",
              "    <tr>\n",
              "      <th>position</th>\n",
              "      <th></th>\n",
              "      <th></th>\n",
              "      <th></th>\n",
              "      <th></th>\n",
              "      <th></th>\n",
              "      <th></th>\n",
              "      <th></th>\n",
              "      <th></th>\n",
              "      <th></th>\n",
              "      <th></th>\n",
              "      <th></th>\n",
              "      <th></th>\n",
              "      <th></th>\n",
              "      <th></th>\n",
              "      <th></th>\n",
              "      <th></th>\n",
              "      <th></th>\n",
              "      <th></th>\n",
              "      <th></th>\n",
              "      <th></th>\n",
              "      <th></th>\n",
              "      <th></th>\n",
              "      <th></th>\n",
              "      <th></th>\n",
              "      <th></th>\n",
              "      <th></th>\n",
              "      <th></th>\n",
              "      <th></th>\n",
              "      <th></th>\n",
              "      <th></th>\n",
              "      <th></th>\n",
              "      <th></th>\n",
              "      <th></th>\n",
              "      <th></th>\n",
              "      <th></th>\n",
              "      <th></th>\n",
              "      <th></th>\n",
              "      <th></th>\n",
              "      <th></th>\n",
              "      <th></th>\n",
              "      <th></th>\n",
              "      <th></th>\n",
              "      <th></th>\n",
              "      <th></th>\n",
              "      <th></th>\n",
              "      <th></th>\n",
              "      <th></th>\n",
              "      <th></th>\n",
              "    </tr>\n",
              "  </thead>\n",
              "  <tbody>\n",
              "    <tr>\n",
              "      <th>defender</th>\n",
              "      <td>188.0</td>\n",
              "      <td>241.611702</td>\n",
              "      <td>138.357722</td>\n",
              "      <td>1.0</td>\n",
              "      <td>103.75</td>\n",
              "      <td>270.0</td>\n",
              "      <td>357.75</td>\n",
              "      <td>540.0</td>\n",
              "      <td>188.0</td>\n",
              "      <td>1.164894</td>\n",
              "      <td>1.699148</td>\n",
              "      <td>0.0</td>\n",
              "      <td>0.0</td>\n",
              "      <td>1.0</td>\n",
              "      <td>2.00</td>\n",
              "      <td>11.0</td>\n",
              "      <td>188.0</td>\n",
              "      <td>102.643617</td>\n",
              "      <td>75.608870</td>\n",
              "      <td>0.0</td>\n",
              "      <td>44.00</td>\n",
              "      <td>89.0</td>\n",
              "      <td>138.75</td>\n",
              "      <td>402.0</td>\n",
              "      <td>188.0</td>\n",
              "      <td>5.462766</td>\n",
              "      <td>4.079910</td>\n",
              "      <td>0.0</td>\n",
              "      <td>2.0</td>\n",
              "      <td>4.5</td>\n",
              "      <td>8.0</td>\n",
              "      <td>17.0</td>\n",
              "      <td>188.0</td>\n",
              "      <td>0.000000</td>\n",
              "      <td>0.000000</td>\n",
              "      <td>0.0</td>\n",
              "      <td>0.00</td>\n",
              "      <td>0.0</td>\n",
              "      <td>0.00</td>\n",
              "      <td>0.0</td>\n",
              "      <td>188.0</td>\n",
              "      <td>1.223404</td>\n",
              "      <td>0.897462</td>\n",
              "      <td>0.0</td>\n",
              "      <td>0.0</td>\n",
              "      <td>2.0</td>\n",
              "      <td>2.0</td>\n",
              "      <td>3.0</td>\n",
              "    </tr>\n",
              "    <tr>\n",
              "      <th>forward</th>\n",
              "      <td>143.0</td>\n",
              "      <td>166.699301</td>\n",
              "      <td>137.631782</td>\n",
              "      <td>2.0</td>\n",
              "      <td>51.50</td>\n",
              "      <td>132.0</td>\n",
              "      <td>251.50</td>\n",
              "      <td>564.0</td>\n",
              "      <td>143.0</td>\n",
              "      <td>4.230769</td>\n",
              "      <td>4.907155</td>\n",
              "      <td>0.0</td>\n",
              "      <td>1.0</td>\n",
              "      <td>3.0</td>\n",
              "      <td>6.00</td>\n",
              "      <td>27.0</td>\n",
              "      <td>143.0</td>\n",
              "      <td>50.825175</td>\n",
              "      <td>53.277551</td>\n",
              "      <td>0.0</td>\n",
              "      <td>14.50</td>\n",
              "      <td>35.0</td>\n",
              "      <td>63.50</td>\n",
              "      <td>321.0</td>\n",
              "      <td>143.0</td>\n",
              "      <td>2.020979</td>\n",
              "      <td>2.582358</td>\n",
              "      <td>0.0</td>\n",
              "      <td>0.0</td>\n",
              "      <td>1.0</td>\n",
              "      <td>3.0</td>\n",
              "      <td>13.0</td>\n",
              "      <td>143.0</td>\n",
              "      <td>0.000000</td>\n",
              "      <td>0.000000</td>\n",
              "      <td>0.0</td>\n",
              "      <td>0.00</td>\n",
              "      <td>0.0</td>\n",
              "      <td>0.00</td>\n",
              "      <td>0.0</td>\n",
              "      <td>143.0</td>\n",
              "      <td>0.881119</td>\n",
              "      <td>1.171790</td>\n",
              "      <td>0.0</td>\n",
              "      <td>0.0</td>\n",
              "      <td>0.0</td>\n",
              "      <td>2.0</td>\n",
              "      <td>3.0</td>\n",
              "    </tr>\n",
              "    <tr>\n",
              "      <th>goalkeeper</th>\n",
              "      <td>36.0</td>\n",
              "      <td>314.916667</td>\n",
              "      <td>134.885851</td>\n",
              "      <td>45.0</td>\n",
              "      <td>270.00</td>\n",
              "      <td>270.0</td>\n",
              "      <td>390.00</td>\n",
              "      <td>570.0</td>\n",
              "      <td>36.0</td>\n",
              "      <td>0.027778</td>\n",
              "      <td>0.166667</td>\n",
              "      <td>0.0</td>\n",
              "      <td>0.0</td>\n",
              "      <td>0.0</td>\n",
              "      <td>0.00</td>\n",
              "      <td>1.0</td>\n",
              "      <td>36.0</td>\n",
              "      <td>55.638889</td>\n",
              "      <td>29.191146</td>\n",
              "      <td>4.0</td>\n",
              "      <td>38.25</td>\n",
              "      <td>52.0</td>\n",
              "      <td>69.75</td>\n",
              "      <td>149.0</td>\n",
              "      <td>36.0</td>\n",
              "      <td>0.027778</td>\n",
              "      <td>0.166667</td>\n",
              "      <td>0.0</td>\n",
              "      <td>0.0</td>\n",
              "      <td>0.0</td>\n",
              "      <td>0.0</td>\n",
              "      <td>1.0</td>\n",
              "      <td>36.0</td>\n",
              "      <td>11.027778</td>\n",
              "      <td>5.547129</td>\n",
              "      <td>0.0</td>\n",
              "      <td>7.75</td>\n",
              "      <td>12.0</td>\n",
              "      <td>14.25</td>\n",
              "      <td>20.0</td>\n",
              "      <td>36.0</td>\n",
              "      <td>3.277778</td>\n",
              "      <td>1.446397</td>\n",
              "      <td>0.0</td>\n",
              "      <td>4.0</td>\n",
              "      <td>4.0</td>\n",
              "      <td>4.0</td>\n",
              "      <td>4.0</td>\n",
              "    </tr>\n",
              "    <tr>\n",
              "      <th>midfielder</th>\n",
              "      <td>228.0</td>\n",
              "      <td>191.561404</td>\n",
              "      <td>144.324252</td>\n",
              "      <td>1.0</td>\n",
              "      <td>70.50</td>\n",
              "      <td>167.0</td>\n",
              "      <td>270.00</td>\n",
              "      <td>570.0</td>\n",
              "      <td>228.0</td>\n",
              "      <td>2.394737</td>\n",
              "      <td>2.762615</td>\n",
              "      <td>0.0</td>\n",
              "      <td>0.0</td>\n",
              "      <td>2.0</td>\n",
              "      <td>3.25</td>\n",
              "      <td>15.0</td>\n",
              "      <td>228.0</td>\n",
              "      <td>95.271930</td>\n",
              "      <td>88.249475</td>\n",
              "      <td>0.0</td>\n",
              "      <td>34.75</td>\n",
              "      <td>72.5</td>\n",
              "      <td>135.50</td>\n",
              "      <td>563.0</td>\n",
              "      <td>228.0</td>\n",
              "      <td>5.162281</td>\n",
              "      <td>5.548741</td>\n",
              "      <td>0.0</td>\n",
              "      <td>1.0</td>\n",
              "      <td>3.0</td>\n",
              "      <td>7.0</td>\n",
              "      <td>34.0</td>\n",
              "      <td>228.0</td>\n",
              "      <td>0.000000</td>\n",
              "      <td>0.000000</td>\n",
              "      <td>0.0</td>\n",
              "      <td>0.00</td>\n",
              "      <td>0.0</td>\n",
              "      <td>0.00</td>\n",
              "      <td>0.0</td>\n",
              "      <td>228.0</td>\n",
              "      <td>0.894737</td>\n",
              "      <td>0.974281</td>\n",
              "      <td>0.0</td>\n",
              "      <td>0.0</td>\n",
              "      <td>0.5</td>\n",
              "      <td>2.0</td>\n",
              "      <td>3.0</td>\n",
              "    </tr>\n",
              "  </tbody>\n",
              "</table>\n",
              "</div>"
            ],
            "text/plain": [
              "           minutes                                ... kluster               \n",
              "             count        mean         std   min  ...     25%  50%  75%  max\n",
              "position                                          ...                       \n",
              "defender     188.0  241.611702  138.357722   1.0  ...     0.0  2.0  2.0  3.0\n",
              "forward      143.0  166.699301  137.631782   2.0  ...     0.0  0.0  2.0  3.0\n",
              "goalkeeper    36.0  314.916667  134.885851  45.0  ...     4.0  4.0  4.0  4.0\n",
              "midfielder   228.0  191.561404  144.324252   1.0  ...     0.0  0.5  2.0  3.0\n",
              "\n",
              "[4 rows x 48 columns]"
            ]
          },
          "metadata": {
            "tags": []
          },
          "execution_count": 95
        }
      ]
    },
    {
      "cell_type": "markdown",
      "metadata": {
        "id": "ouLgmNnAeXz4"
      },
      "source": [
        "**Analisis Pengelompokan** : Digunakan acuan postion dibagi menjadi minutes, shots, passes, tackles dan saves. Semua nilai dikelompokkan menjadi min, 25%, 50%, 75%, max, count, mean dan std"
      ]
    },
    {
      "cell_type": "markdown",
      "metadata": {
        "id": "0QWJnbuPHuSC"
      },
      "source": [
        "**Tahap 3** : Pengelompokan indeks integer untuk pemilihan berdasarkan kolom 3 sampai 8."
      ]
    },
    {
      "cell_type": "code",
      "metadata": {
        "colab": {
          "base_uri": "https://localhost:8080/",
          "height": 196
        },
        "id": "uQ-hFeFyLbx0",
        "outputId": "ba5c6b71-72ed-42b0-85e8-eef0a884a60b"
      },
      "source": [
        "players_x = players.iloc[:, 3:6]\r\n",
        "players_x.head()"
      ],
      "execution_count": null,
      "outputs": [
        {
          "output_type": "execute_result",
          "data": {
            "text/html": [
              "<div>\n",
              "<style scoped>\n",
              "    .dataframe tbody tr th:only-of-type {\n",
              "        vertical-align: middle;\n",
              "    }\n",
              "\n",
              "    .dataframe tbody tr th {\n",
              "        vertical-align: top;\n",
              "    }\n",
              "\n",
              "    .dataframe thead th {\n",
              "        text-align: right;\n",
              "    }\n",
              "</style>\n",
              "<table border=\"1\" class=\"dataframe\">\n",
              "  <thead>\n",
              "    <tr style=\"text-align: right;\">\n",
              "      <th></th>\n",
              "      <th>minutes</th>\n",
              "      <th>shots</th>\n",
              "      <th>passes</th>\n",
              "    </tr>\n",
              "  </thead>\n",
              "  <tbody>\n",
              "    <tr>\n",
              "      <th>0</th>\n",
              "      <td>16</td>\n",
              "      <td>0</td>\n",
              "      <td>6</td>\n",
              "    </tr>\n",
              "    <tr>\n",
              "      <th>1</th>\n",
              "      <td>270</td>\n",
              "      <td>1</td>\n",
              "      <td>146</td>\n",
              "    </tr>\n",
              "    <tr>\n",
              "      <th>2</th>\n",
              "      <td>74</td>\n",
              "      <td>3</td>\n",
              "      <td>28</td>\n",
              "    </tr>\n",
              "    <tr>\n",
              "      <th>3</th>\n",
              "      <td>270</td>\n",
              "      <td>1</td>\n",
              "      <td>89</td>\n",
              "    </tr>\n",
              "    <tr>\n",
              "      <th>4</th>\n",
              "      <td>90</td>\n",
              "      <td>0</td>\n",
              "      <td>17</td>\n",
              "    </tr>\n",
              "  </tbody>\n",
              "</table>\n",
              "</div>"
            ],
            "text/plain": [
              "   minutes  shots  passes\n",
              "0       16      0       6\n",
              "1      270      1     146\n",
              "2       74      3      28\n",
              "3      270      1      89\n",
              "4       90      0      17"
            ]
          },
          "metadata": {
            "tags": []
          },
          "execution_count": 129
        }
      ]
    },
    {
      "cell_type": "markdown",
      "metadata": {
        "id": "aE9PP8GIMZhd"
      },
      "source": [
        "- **Analisis** : Kolom yang muncul yaitu minutes\tshots\tpasses karena kolom tersebut memiliki nilai integer."
      ]
    },
    {
      "cell_type": "markdown",
      "metadata": {
        "id": "N3y3zSFkNB3O"
      },
      "source": [
        "**Tahap 4** : Pengelompokan menggunakan metode Elbow."
      ]
    },
    {
      "cell_type": "code",
      "metadata": {
        "colab": {
          "base_uri": "https://localhost:8080/",
          "height": 295
        },
        "id": "ReLcCtHAK-r3",
        "outputId": "29989dc2-a206-4045-9a33-63c0e65cc458"
      },
      "source": [
        "# Menggunakan metode elbow untuk menentukan angka cluster yang tepat\n",
        "wcss = []\n",
        "for i in range(1, 11):\n",
        "    kmeans = KMeans(n_clusters = i, init = 'k-means++', random_state = 42)\n",
        "    kmeans.fit(supermarket_x)\n",
        "    wcss.append(kmeans.inertia_)\n",
        "plt.plot(range(1, 11), wcss)\n",
        "plt.title('Metode Elbow')\n",
        "plt.xlabel('Jumlah clusters')\n",
        "plt.ylabel('WCSS')\n",
        "plt.show()"
      ],
      "execution_count": null,
      "outputs": [
        {
          "output_type": "display_data",
          "data": {
            "image/png": "[encoded data removed]",
            "text/plain": [
              "<Figure size 432x288 with 1 Axes>"
            ]
          },
          "metadata": {
            "tags": [],
            "needs_background": "light"
          }
        }
      ]
    },
    {
      "cell_type": "markdown",
      "metadata": {
        "id": "ah9IxcmYekJJ"
      },
      "source": [
        "**Analisis** : Tujuan pengelompokan menggunakan metode Elbow untuk mengetahui jumlah cluster yang optimal. Untuk mendapatkan nilai yang digunakan dalam grafik, beberapa model menggunakan jumlah cluster yang berbeda dan menyimpan nilai intertia_properti (WCSS) setiap saat. WCSS didefinisikan sebagai jumlah jarak kuadrat antara setiap anggota cluster dan pusatnya. Elbow yang di temukan pada titik (x,y) = (3, 0.5)"
      ]
    },
    {
      "cell_type": "markdown",
      "metadata": {
        "id": "5sRJNZ6UOt_B"
      },
      "source": [
        "**Tahap 5** : Pengelompokkan menggunakan KMeans Clustering\r\n",
        "\r\n"
      ]
    },
    {
      "cell_type": "code",
      "metadata": {
        "id": "GS0knrvQcJv0"
      },
      "source": [
        "# Menjalankan K-Means Clustering ke dataset\n",
        "kmeans = KMeans(n_clusters = 3, init = 'k-means++', random_state = 42)\n",
        "y_kmeans = kmeans.fit_predict(players_x)"
      ],
      "execution_count": null,
      "outputs": []
    },
    {
      "cell_type": "code",
      "metadata": {
        "colab": {
          "base_uri": "https://localhost:8080/"
        },
        "id": "ZjTezSSaQ9H0",
        "outputId": "e6c63bd5-7eee-4559-dd4e-b4dc458b02b6"
      },
      "source": [
        "print(kmeans.cluster_centers_)"
      ],
      "execution_count": null,
      "outputs": [
        {
          "output_type": "stream",
          "text": [
            "[[6.62510460e+01 1.13807531e+00 2.67782427e+01 1.47280335e+00\n",
            "  3.34728033e-02]\n",
            " [3.69875000e+02 4.16666667e+00 1.41093750e+02 7.29166667e+00\n",
            "  1.60416667e+00]\n",
            " [2.32944186e+02 2.03720930e+00 8.57860465e+01 4.34883721e+00\n",
            "  8.55813953e-01]\n",
            " [5.07755556e+02 5.80000000e+00 2.64466667e+02 1.12666667e+01\n",
            "  1.13333333e+00]]\n"
          ],
          "name": "stdout"
        }
      ]
    },
    {
      "cell_type": "markdown",
      "metadata": {
        "id": "7t56ZPI8e0EB"
      },
      "source": [
        "**Analisis Cluster**\n",
        "\n",
        "Prediksi yang didapatkan dari pengelompokan jumlah data players_x dari minutes,\tshots,\tpasses,\ttackles dan\tsaves. Membentuk matix 5x5 "
      ]
    },
    {
      "cell_type": "markdown",
      "metadata": {
        "id": "lNImA2GtPwkx"
      },
      "source": [
        "**Tahap 6** : Pengelompokan berdasarkan Array"
      ]
    },
    {
      "cell_type": "code",
      "metadata": {
        "colab": {
          "base_uri": "https://localhost:8080/"
        },
        "id": "-8BVOuCv82AD",
        "outputId": "998ceceb-280d-47f8-9f47-58caa8b31635"
      },
      "source": [
        "x_array =  np.array(players_x)\n",
        "print(x_array)"
      ],
      "execution_count": null,
      "outputs": [
        {
          "output_type": "stream",
          "text": [
            "[[ 16   0   6   0   0]\n",
            " [270   1 146   8   0]\n",
            " [ 74   3  28   1   0]\n",
            " ...\n",
            " [356   8  84   2   0]\n",
            " [170   1  69   2   0]\n",
            " [ 45   1  32   0   0]]\n"
          ],
          "name": "stdout"
        }
      ]
    },
    {
      "cell_type": "markdown",
      "metadata": {
        "id": "RyKHJPraSBXK"
      },
      "source": [
        "- **Analisis** : Array yang didapatkan dari pengelompokan jumlah data players_x yaitu dariminutes, shots, passes, tackles dan saves"
      ]
    },
    {
      "cell_type": "markdown",
      "metadata": {
        "id": "jz__SRtWSBcb"
      },
      "source": [
        "**Tahap 7** : Pengelompokan berdasarkan skala"
      ]
    },
    {
      "cell_type": "code",
      "metadata": {
        "colab": {
          "base_uri": "https://localhost:8080/"
        },
        "id": "91NzGAD7SX8M",
        "outputId": "503e6fc7-552a-462c-9cdc-043fad65e295"
      },
      "source": [
        "scaler = MinMaxScaler()\r\n",
        "x_scaled = scaler.fit_transform(x_array)\r\n",
        "x_scaled"
      ],
      "execution_count": null,
      "outputs": [
        {
          "output_type": "execute_result",
          "data": {
            "text/plain": [
              "array([[0.02636204, 0.        , 0.01065719, 0.        , 0.        ],\n",
              "       [0.47275923, 0.03703704, 0.25932504, 0.23529412, 0.        ],\n",
              "       [0.12829525, 0.11111111, 0.04973357, 0.02941176, 0.        ],\n",
              "       ...,\n",
              "       [0.62390158, 0.2962963 , 0.14920071, 0.05882353, 0.        ],\n",
              "       [0.2970123 , 0.03703704, 0.12255773, 0.05882353, 0.        ],\n",
              "       [0.07732865, 0.03703704, 0.05683837, 0.        , 0.        ]])"
            ]
          },
          "metadata": {
            "tags": []
          },
          "execution_count": 87
        }
      ]
    },
    {
      "cell_type": "markdown",
      "metadata": {
        "id": "J5n_Vp-ySefG"
      },
      "source": [
        "**Analisis Skala** : Data ini menunjukan array dengan menggunakan penskalaan mencakup ketahanan terhadap stdev yang sangat kecil dan mempertahankan entri nol dalam data renggang."
      ]
    },
    {
      "cell_type": "markdown",
      "metadata": {
        "id": "tlrka30XSsPz"
      },
      "source": [
        "**Tahap 8** : Menyelesaikan masalah KMeans dengan menggunakan algoritma Lloyd atau Elkan."
      ]
    },
    {
      "cell_type": "code",
      "metadata": {
        "colab": {
          "base_uri": "https://localhost:8080/"
        },
        "id": "2sCzSTNySCk_",
        "outputId": "b8195749-90db-4fec-c67f-0c0924160fba"
      },
      "source": [
        "# Menentukan dan mengkonfigurasi fungsi kmeans\n",
        "kmeans = KMeans(n_clusters = 5, random_state=123)\n",
        "# Menentukan kluster dari data\n",
        "kmeans.fit(x_scaled)"
      ],
      "execution_count": null,
      "outputs": [
        {
          "output_type": "execute_result",
          "data": {
            "text/plain": [
              "KMeans(algorithm='auto', copy_x=True, init='k-means++', max_iter=300,\n",
              "       n_clusters=5, n_init=10, n_jobs=None, precompute_distances='auto',\n",
              "       random_state=123, tol=0.0001, verbose=0)"
            ]
          },
          "metadata": {
            "tags": []
          },
          "execution_count": 88
        }
      ]
    },
    {
      "cell_type": "markdown",
      "metadata": {
        "id": "Qopq36rCTSDz"
      },
      "source": [
        "**Analisis** : Inisialisasi dari penyelesaian masalah KMeans."
      ]
    },
    {
      "cell_type": "code",
      "metadata": {
        "colab": {
          "base_uri": "https://localhost:8080/"
        },
        "id": "KVOXi-P5TZJI",
        "outputId": "8a8dc7ef-99ba-4466-84cc-d4f58a9f72f3"
      },
      "source": [
        "print(kmeans.cluster_centers_)"
      ],
      "execution_count": null,
      "outputs": [
        {
          "output_type": "stream",
          "text": [
            "[[ 1.31531651e-01  4.69601677e-02  5.21532223e-02  4.47280799e-02\n",
            "   2.26415094e-03]\n",
            " [ 7.58037837e-01  1.19281046e-01  3.97737958e-01  3.95328720e-01\n",
            "   1.38777878e-17]\n",
            " [ 4.50304571e-01  8.05465660e-02  1.79309869e-01  1.50342661e-01\n",
            "   2.66990291e-03]\n",
            " [ 7.38890284e-01  4.86772487e-01  2.99416392e-01  1.29201681e-01\n",
            "  -1.38777878e-17]\n",
            " [ 6.25282450e-01  5.55111512e-17  1.12027404e-01  1.05042017e-03\n",
            "   6.67857143e-01]]\n"
          ],
          "name": "stdout"
        }
      ]
    },
    {
      "cell_type": "markdown",
      "metadata": {
        "id": "tlCDrs6WTaxD"
      },
      "source": [
        "**Analisis** : Print kembali setelah masalah diselesaiakn prediksi yang didapatkan dari pengelompokan jumlah data players_x yaitu dari minutes, shots, passes, tackles dan saves. Membentuk matriks 3x5 dari pengelompokkan nilai tengah."
      ]
    },
    {
      "cell_type": "markdown",
      "metadata": {
        "id": "21fhD1nsUT0b"
      },
      "source": [
        "**Tahap 9** : Menampilkan Hasil Cluster"
      ]
    },
    {
      "cell_type": "code",
      "metadata": {
        "colab": {
          "base_uri": "https://localhost:8080/",
          "height": 689
        },
        "id": "HYOUavn8UfGq",
        "outputId": "3bedc81b-82b7-4ce7-903b-39b0a43fda71"
      },
      "source": [
        "# Menampilkan hasil kluster\r\n",
        "print (kmeans.labels_)\r\n",
        "# Menambahkan kolom \"kluster\" dalam data frame\r\n",
        "players[\"kluster\"] = kmeans.labels_\r\n",
        "players.head(999)"
      ],
      "execution_count": null,
      "outputs": [
        {
          "output_type": "stream",
          "text": [
            "[0 2 0 2 0 0 0 0 2 2 2 4 2 0 0 2 2 2 0 0 2 1 1 2 2 3 1 1 3 0 2 0 0 0 4 0 2\n",
            " 2 0 0 0 2 0 2 2 0 0 0 0 0 0 2 2 0 4 2 2 0 3 0 3 0 1 0 0 1 4 2 0 1 1 1 1 0\n",
            " 0 3 0 0 2 0 0 0 0 0 0 2 2 4 0 2 0 2 0 2 0 0 2 2 2 0 0 0 0 0 2 2 2 0 0 0 2\n",
            " 0 1 0 2 1 2 0 2 2 0 0 0 2 0 0 2 0 2 0 0 2 2 4 2 1 2 0 0 0 3 1 0 2 2 0 0 3\n",
            " 0 2 3 2 2 0 2 2 0 0 0 0 2 2 0 0 0 0 4 0 2 2 0 2 0 2 2 0 1 0 0 1 0 3 0 1 0\n",
            " 1 1 4 3 1 0 3 0 0 0 1 0 3 1 1 3 2 1 2 4 0 0 1 1 2 2 2 0 0 0 2 2 0 0 0 0 0\n",
            " 0 2 0 0 2 2 4 2 0 0 2 0 2 0 2 0 0 2 0 0 0 0 0 4 0 0 2 0 0 2 2 2 2 0 0 0 2\n",
            " 0 2 0 2 0 2 0 0 2 4 0 2 0 0 2 2 2 0 0 2 0 2 2 2 2 1 1 2 3 0 4 0 1 0 2 2 2\n",
            " 2 0 2 0 0 0 0 0 0 0 0 2 2 0 0 2 0 1 1 4 1 1 1 0 0 2 0 1 0 3 1 0 2 3 4 2 2\n",
            " 1 0 1 1 3 0 2 0 0 2 2 2 2 2 4 2 2 2 2 0 0 0 0 4 2 2 0 0 0 2 0 2 2 0 2 0 2\n",
            " 2 2 2 0 2 2 3 0 0 2 0 2 2 2 2 4 1 0 2 0 2 0 2 0 1 1 1 0 1 2 0 0 2 1 0 4 0\n",
            " 0 2 1 2 0 0 4 0 1 0 2 2 0 0 2 3 2 1 0 2 2 0 2 2 2 0 2 0 0 0 0 0 2 4 0 0 2\n",
            " 2 0 2 2 0 0 2 0 0 2 4 2 0 0 0 0 2 2 2 3 2 2 2 2 2 0 4 2 2 0 2 0 0 2 0 2 2\n",
            " 2 0 0 2 0 2 2 2 2 0 2 0 0 2 0 2 0 0 2 2 2 4 2 0 0 1 0 1 0 2 0 2 0 3 1 2 1\n",
            " 0 1 1 4 0 1 0 0 0 0 0 0 1 1 3 0 2 3 1 2 0 4 0 2 0 2 0 2 2 2 2 2 0 0 0 2 2\n",
            " 0 1 3 0 0 0 0 3 1 0 2 0 0 2 1 4 1 0 3 1 1 0 1 2 1 0 1 0 2 3 1 2 2 0 0 0 4\n",
            " 3 0 0]\n"
          ],
          "name": "stdout"
        },
        {
          "output_type": "execute_result",
          "data": {
            "text/html": [
              "<div>\n",
              "<style scoped>\n",
              "    .dataframe tbody tr th:only-of-type {\n",
              "        vertical-align: middle;\n",
              "    }\n",
              "\n",
              "    .dataframe tbody tr th {\n",
              "        vertical-align: top;\n",
              "    }\n",
              "\n",
              "    .dataframe thead th {\n",
              "        text-align: right;\n",
              "    }\n",
              "</style>\n",
              "<table border=\"1\" class=\"dataframe\">\n",
              "  <thead>\n",
              "    <tr style=\"text-align: right;\">\n",
              "      <th></th>\n",
              "      <th>surname</th>\n",
              "      <th>team</th>\n",
              "      <th>position</th>\n",
              "      <th>minutes</th>\n",
              "      <th>shots</th>\n",
              "      <th>passes</th>\n",
              "      <th>tackles</th>\n",
              "      <th>saves</th>\n",
              "      <th>kluster</th>\n",
              "    </tr>\n",
              "  </thead>\n",
              "  <tbody>\n",
              "    <tr>\n",
              "      <th>0</th>\n",
              "      <td>Abdoun</td>\n",
              "      <td>Algeria</td>\n",
              "      <td>midfielder</td>\n",
              "      <td>16</td>\n",
              "      <td>0</td>\n",
              "      <td>6</td>\n",
              "      <td>0</td>\n",
              "      <td>0</td>\n",
              "      <td>0</td>\n",
              "    </tr>\n",
              "    <tr>\n",
              "      <th>1</th>\n",
              "      <td>Belhadj</td>\n",
              "      <td>Algeria</td>\n",
              "      <td>defender</td>\n",
              "      <td>270</td>\n",
              "      <td>1</td>\n",
              "      <td>146</td>\n",
              "      <td>8</td>\n",
              "      <td>0</td>\n",
              "      <td>2</td>\n",
              "    </tr>\n",
              "    <tr>\n",
              "      <th>2</th>\n",
              "      <td>Boudebouz</td>\n",
              "      <td>Algeria</td>\n",
              "      <td>midfielder</td>\n",
              "      <td>74</td>\n",
              "      <td>3</td>\n",
              "      <td>28</td>\n",
              "      <td>1</td>\n",
              "      <td>0</td>\n",
              "      <td>0</td>\n",
              "    </tr>\n",
              "    <tr>\n",
              "      <th>3</th>\n",
              "      <td>Bougherra</td>\n",
              "      <td>Algeria</td>\n",
              "      <td>defender</td>\n",
              "      <td>270</td>\n",
              "      <td>1</td>\n",
              "      <td>89</td>\n",
              "      <td>11</td>\n",
              "      <td>0</td>\n",
              "      <td>2</td>\n",
              "    </tr>\n",
              "    <tr>\n",
              "      <th>4</th>\n",
              "      <td>Chaouchi</td>\n",
              "      <td>Algeria</td>\n",
              "      <td>goalkeeper</td>\n",
              "      <td>90</td>\n",
              "      <td>0</td>\n",
              "      <td>17</td>\n",
              "      <td>0</td>\n",
              "      <td>2</td>\n",
              "      <td>0</td>\n",
              "    </tr>\n",
              "    <tr>\n",
              "      <th>...</th>\n",
              "      <td>...</td>\n",
              "      <td>...</td>\n",
              "      <td>...</td>\n",
              "      <td>...</td>\n",
              "      <td>...</td>\n",
              "      <td>...</td>\n",
              "      <td>...</td>\n",
              "      <td>...</td>\n",
              "      <td>...</td>\n",
              "    </tr>\n",
              "    <tr>\n",
              "      <th>590</th>\n",
              "      <td>Holden</td>\n",
              "      <td>USA</td>\n",
              "      <td>midfielder</td>\n",
              "      <td>4</td>\n",
              "      <td>0</td>\n",
              "      <td>2</td>\n",
              "      <td>0</td>\n",
              "      <td>0</td>\n",
              "      <td>0</td>\n",
              "    </tr>\n",
              "    <tr>\n",
              "      <th>591</th>\n",
              "      <td>Howard</td>\n",
              "      <td>USA</td>\n",
              "      <td>goalkeeper</td>\n",
              "      <td>390</td>\n",
              "      <td>0</td>\n",
              "      <td>81</td>\n",
              "      <td>0</td>\n",
              "      <td>14</td>\n",
              "      <td>4</td>\n",
              "    </tr>\n",
              "    <tr>\n",
              "      <th>592</th>\n",
              "      <td>Jozy Altidore</td>\n",
              "      <td>USA</td>\n",
              "      <td>forward</td>\n",
              "      <td>356</td>\n",
              "      <td>8</td>\n",
              "      <td>84</td>\n",
              "      <td>2</td>\n",
              "      <td>0</td>\n",
              "      <td>3</td>\n",
              "    </tr>\n",
              "    <tr>\n",
              "      <th>593</th>\n",
              "      <td>Onyewu</td>\n",
              "      <td>USA</td>\n",
              "      <td>defender</td>\n",
              "      <td>170</td>\n",
              "      <td>1</td>\n",
              "      <td>69</td>\n",
              "      <td>2</td>\n",
              "      <td>0</td>\n",
              "      <td>0</td>\n",
              "    </tr>\n",
              "    <tr>\n",
              "      <th>594</th>\n",
              "      <td>Torres</td>\n",
              "      <td>USA</td>\n",
              "      <td>midfielder</td>\n",
              "      <td>45</td>\n",
              "      <td>1</td>\n",
              "      <td>32</td>\n",
              "      <td>0</td>\n",
              "      <td>0</td>\n",
              "      <td>0</td>\n",
              "    </tr>\n",
              "  </tbody>\n",
              "</table>\n",
              "<p>595 rows × 9 columns</p>\n",
              "</div>"
            ],
            "text/plain": [
              "           surname     team    position  ...  tackles  saves  kluster\n",
              "0           Abdoun  Algeria  midfielder  ...        0      0        0\n",
              "1          Belhadj  Algeria    defender  ...        8      0        2\n",
              "2        Boudebouz  Algeria  midfielder  ...        1      0        0\n",
              "3        Bougherra  Algeria    defender  ...       11      0        2\n",
              "4         Chaouchi  Algeria  goalkeeper  ...        0      2        0\n",
              "..             ...      ...         ...  ...      ...    ...      ...\n",
              "590         Holden      USA  midfielder  ...        0      0        0\n",
              "591         Howard      USA  goalkeeper  ...        0     14        4\n",
              "592  Jozy Altidore      USA     forward  ...        2      0        3\n",
              "593         Onyewu      USA    defender  ...        2      0        0\n",
              "594         Torres      USA  midfielder  ...        0      0        0\n",
              "\n",
              "[595 rows x 9 columns]"
            ]
          },
          "metadata": {
            "tags": []
          },
          "execution_count": 91
        }
      ]
    },
    {
      "cell_type": "markdown",
      "metadata": {
        "id": "Nq2I2UgkUnvP"
      },
      "source": [
        "- **Analisis** : Semua data ditampilkan dengan jumlah kluster yang sesuai dengan item-item yang ada."
      ]
    },
    {
      "cell_type": "markdown",
      "metadata": {
        "id": "x3WBZwkEcyZs"
      },
      "source": [
        "**Tahap 10** :  Hasil kluster dengan pengelompokan menggunakan diagram"
      ]
    },
    {
      "cell_type": "code",
      "metadata": {
        "colab": {
          "base_uri": "https://localhost:8080/",
          "height": 312
        },
        "id": "R4KyF4-0dAL7",
        "outputId": "695e99f1-ad83-423f-de0a-60086cdb9f60"
      },
      "source": [
        "output = plt.scatter(x_scaled[:,0], \r\n",
        "x_scaled[:,1], s = 200, c = players.kluster, marker = \".\", alpha = 1,)\r\n",
        "centers = kmeans.cluster_centers_\r\n",
        "plt.scatter(centers[:,0], centers[:,1], c='red', s=100, alpha=1 , marker=\"s\");\r\n",
        "plt.title(\"Hasil Clustering K-Means\")\r\n",
        "plt.xlabel(\"Clustering X\")\r\n",
        "plt.ylabel(\"Clustering Y\")\r\n",
        "plt.colorbar (output)\r\n",
        "plt.legend()\r\n",
        "plt.show()"
      ],
      "execution_count": null,
      "outputs": [
        {
          "output_type": "stream",
          "text": [
            "No handles with labels found to put in legend.\n"
          ],
          "name": "stderr"
        },
        {
          "output_type": "display_data",
          "data": {
            "image/png": "[encoded data removed]",
            "text/plain": [
              "<Figure size 432x288 with 2 Axes>"
            ]
          },
          "metadata": {
            "tags": [],
            "needs_background": "light"
          }
        }
      ]
    },
    {
      "cell_type": "markdown",
      "metadata": {
        "id": "iQ7Z76MGeFYh"
      },
      "source": [
        "**Analisis** : Dilihat dari warna level diagram dengan range 0-4. Pengelompokan data dibagi menjadi 5 Clustering. Struktur clustering menggunakan metode partitional clustering yaitu data dikelompokkan ke dalam sejumlah cluster tanpa adanya struktur hirarki antara satu dengan yang lainnya."
      ]
    },
    {
      "cell_type": "markdown",
      "metadata": {
        "id": "z4a3L49tdW0w"
      },
      "source": [
        "> **ANALISIS PEMODELAN MENENTUKAN HIPOTESIS**"
      ]
    },
    {
      "cell_type": "markdown",
      "metadata": {
        "id": "-TrSvl_6drQN"
      },
      "source": [
        "**Dengan menggunakan Metode Pearson**"
      ]
    },
    {
      "cell_type": "code",
      "metadata": {
        "id": "zImXHvDId1UL"
      },
      "source": [
        "def mean(x):\r\n",
        "        return  sum(x)/len(x)\r\n"
      ],
      "execution_count": null,
      "outputs": []
    },
    {
      "cell_type": "code",
      "metadata": {
        "id": "8pxe-V-yeBpx"
      },
      "source": [
        "def de_mean(data):\r\n",
        "# convert x by subtracting its mean ( so the result has mean 0)\r\n",
        "        x_bar = mean(data)\r\n",
        "        return [x_i - x_bar for x_i in data]\r\n"
      ],
      "execution_count": null,
      "outputs": []
    },
    {
      "cell_type": "code",
      "metadata": {
        "id": "tjJoL8h6eSKo"
      },
      "source": [
        "def sum_of_square(v):\r\n",
        "        return np.dot(v,v)"
      ],
      "execution_count": null,
      "outputs": []
    },
    {
      "cell_type": "code",
      "metadata": {
        "id": "w31pAx9UeWxb"
      },
      "source": [
        "def covariance(x,y):\r\n",
        "        n = len(x)\r\n",
        "        return np.dot(de_mean(x), de_mean(y)) / (n-1)"
      ],
      "execution_count": null,
      "outputs": []
    },
    {
      "cell_type": "code",
      "metadata": {
        "id": "WUEzFlBcebdd"
      },
      "source": [
        "def variance(data):\r\n",
        "        n = len(data)\r\n",
        "        deviations = de_mean(data)\r\n",
        "        return sum_of_square(deviations) / (n-1)"
      ],
      "execution_count": null,
      "outputs": []
    },
    {
      "cell_type": "code",
      "metadata": {
        "id": "0scKCiF-ec0u"
      },
      "source": [
        "def correlation(x,y):\r\n",
        "        stdev_x = np.std(x)\r\n",
        "        stdev_y = np.std(y)\r\n",
        "        if stdev_x > 0 and stdev_y > 0:\r\n",
        "            return covariance(x,y) / stdev_x / stdev_y\r\n",
        "        else:\r\n",
        "            return 0"
      ],
      "execution_count": null,
      "outputs": []
    },
    {
      "cell_type": "code",
      "metadata": {
        "id": "e-XBhvRGeiEW"
      },
      "source": [
        "mi = players['minutes']\r\n",
        "sh = players['shots']\r\n",
        "pas = players['passes']"
      ],
      "execution_count": null,
      "outputs": []
    },
    {
      "cell_type": "code",
      "metadata": {
        "colab": {
          "base_uri": "https://localhost:8080/"
        },
        "id": "sFcpLikde_-G",
        "outputId": "d6aa2009-fe4a-4cfb-8977-e377031d96b2"
      },
      "source": [
        "print('Korelasi antar kolom : ')\r\n",
        "print('Korelasi antara minutes dan shots adalah ', correlation(mi, sh))\r\n",
        "print('Korelasi antara minutes dan passes adalah ', correlation(mi, pas))\r\n",
        "print('Korelasi antara shots dan passes adalah ', correlation(sh, pas))\r\n",
        "\r\n",
        "print(' ')\r\n",
        "print('Kovarian antar kolom : ')\r\n",
        "print('Kovarian antara minutes dan shots adalah ', correlation(mi, sh))\r\n",
        "print('Kovarian antara minutes dan passes adalah ', correlation(mi, pas))\r\n",
        "print('Kovarian antara shots dan passes adalah ', correlation(sh, pas))"
      ],
      "execution_count": null,
      "outputs": [
        {
          "output_type": "stream",
          "text": [
            "Korelasi antar kolom : \n",
            "Korelasi antara minutes dan shots adalah  0.4086098165929688\n",
            "Korelasi antara minutes dan passes adalah  0.816491570535884\n",
            "Korelasi antara shots dan passes adalah  0.34374098050714197\n",
            " \n",
            "Kovarian antar kolom : \n",
            "Kovarian antara minutes dan shots adalah  0.4086098165929688\n",
            "Kovarian antara minutes dan passes adalah  0.816491570535884\n",
            "Kovarian antara shots dan passes adalah  0.34374098050714197\n"
          ],
          "name": "stdout"
        }
      ]
    },
    {
      "cell_type": "code",
      "metadata": {
        "colab": {
          "base_uri": "https://localhost:8080/",
          "height": 348
        },
        "id": "sEiywOivl_WJ",
        "outputId": "7bad82e8-5f5f-46c8-b5a1-78d1579fd182"
      },
      "source": [
        "plt.scatter(players['minutes'], players['shots'])\r\n",
        "print('Korelasi antar kolom : ')\r\n",
        "print('Korelasi antara minutes dan shots adalah ', correlation(mi, sh))\r\n",
        "\r\n",
        "print(' ')\r\n",
        "print('Kovarian antar kolom : ')\r\n",
        "print('Kovarian antara minutes dan shots adalah ', covariance (mi, sh))"
      ],
      "execution_count": null,
      "outputs": [
        {
          "output_type": "stream",
          "text": [
            "Korelasi antar kolom : \n",
            "Korelasi antara minutes dan shots adalah  0.4086098165929688\n",
            " \n",
            "Kovarian antar kolom : \n",
            "Kovarian antara minutes dan shots adalah  198.5886200945025\n"
          ],
          "name": "stdout"
        },
        {
          "output_type": "display_data",
          "data": {
            "image/png": "[encoded data removed]",
            "text/plain": [
              "<Figure size 432x288 with 1 Axes>"
            ]
          },
          "metadata": {
            "tags": [],
            "needs_background": "light"
          }
        }
      ]
    },
    {
      "cell_type": "markdown",
      "metadata": {
        "id": "cXvkvYI3mkgd"
      },
      "source": [
        "**Analisis** : Dari permodelan di atas, didapatkan prediksi korelasi antara minutes dan shots adalah 0,4 , dan prediksi kovarian adalah 198,5."
      ]
    },
    {
      "cell_type": "code",
      "metadata": {
        "colab": {
          "base_uri": "https://localhost:8080/",
          "height": 348
        },
        "id": "QnECp0F0m1Hj",
        "outputId": "5df3cb84-9227-498d-c887-b6284af20436"
      },
      "source": [
        "plt.scatter(supermarket['minutes'], supermarket['shots'])\r\n",
        "print('Korelasi antar kolom : ')\r\n",
        "print('Korelasi antara minutes dan shots adalah ', correlation(mi, sh))\r\n",
        "\r\n",
        "print(' ')\r\n",
        "print('Kovarian antar kolom : ')\r\n",
        "print('Kovarian antara minutes dan shots adalah ', covariance (mi, sh))"
      ],
      "execution_count": null,
      "outputs": [
        {
          "output_type": "stream",
          "text": [
            "Korelasi antar kolom : \n",
            "Korelasi antara minutes dan shots adalah  0.4086098165929688\n",
            " \n",
            "Kovarian antar kolom : \n",
            "Kovarian antara minutes dan shots adalah  198.5886200945025\n"
          ],
          "name": "stdout"
        },
        {
          "output_type": "display_data",
          "data": {
            "image/png": "[encoded data removed]",
            "text/plain": [
              "<Figure size 432x288 with 1 Axes>"
            ]
          },
          "metadata": {
            "tags": [],
            "needs_background": "light"
          }
        }
      ]
    },
    {
      "cell_type": "markdown",
      "metadata": {
        "id": "yrL9W_stnOk2"
      },
      "source": [
        "**Analisis** : Dari permodelan di atas, didapatkan prediksi korelasi antara minutes dan shots adalah 0,4, dan prediksi kovarian adalah 198,5."
      ]
    },
    {
      "cell_type": "code",
      "metadata": {
        "colab": {
          "base_uri": "https://localhost:8080/",
          "height": 348
        },
        "id": "HuSgLumrncG6",
        "outputId": "802663a3-785c-40de-855a-8d987c232c90"
      },
      "source": [
        "plt.scatter(players['shots'], players['passes'])\r\n",
        "\r\n",
        "print('Korelasi antar kolom : ')\r\n",
        "print('Korelasi antara shots dan passes adalah ', correlation(sh, pas))\r\n",
        "\r\n",
        "print(' ')\r\n",
        "print('Kovarian antar kolom : ')\r\n",
        "print('Kovarian antara shots dan passes adalah ', covariance(sh, pas))"
      ],
      "execution_count": null,
      "outputs": [
        {
          "output_type": "stream",
          "text": [
            "Korelasi antar kolom : \n",
            "Korelasi antara shots dan passes adalah  0.34374098050714197\n",
            " \n",
            "Kovarian antar kolom : \n",
            "Kovarian antara shots dan passes adalah  88.80757151345387\n"
          ],
          "name": "stdout"
        },
        {
          "output_type": "display_data",
          "data": {
            "image/png": "[encoded data removed]",
            "text/plain": [
              "<Figure size 432x288 with 1 Axes>"
            ]
          },
          "metadata": {
            "tags": [],
            "needs_background": "light"
          }
        }
      ]
    },
    {
      "cell_type": "markdown",
      "metadata": {
        "id": "CuKYrjTCqtgm"
      },
      "source": [
        "**Analisis** : Dari permodelan di atas, didapatkan prediksi korelasi antara minutes dan shots adalah 0,34, dan prediksi kovarian adalah 88,8."
      ]
    },
    {
      "cell_type": "code",
      "metadata": {
        "colab": {
          "base_uri": "https://localhost:8080/",
          "height": 487
        },
        "id": "FVU2WcLKq5gL",
        "outputId": "3a395ea0-8075-4e4e-a477-bd7eec805327"
      },
      "source": [
        "corr = players.corr()\r\n",
        "\r\n",
        "plt.figure(figsize=(15,8))\r\n",
        "\r\n",
        "sns.heatmap(corr, annot=True, vmin = -1, cmap='coolwarm')\r\n",
        "\r\n",
        "plt.show()"
      ],
      "execution_count": null,
      "outputs": [
        {
          "output_type": "display_data",
          "data": {
            "image/png": "[encoded data removed]",
            "text/plain": [
              "<Figure size 1080x576 with 2 Axes>"
            ]
          },
          "metadata": {
            "tags": [],
            "needs_background": "light"
          }
        }
      ]
    },
    {
      "cell_type": "markdown",
      "metadata": {
        "id": "j5wxe6ojrAZb"
      },
      "source": [
        "**Analisis** : Pada Heatmap korelasi disini didapatkan korelasi antara Unit minutes, shots, passes dengan simpulan bahwa :\r\n",
        "\r\n",
        "- Minutes dan shots senilai 0,41 (menggambarkan warna korelasi berada di atas)\r\n",
        "- Minutes dan passes senilai 0,82 (menggambarkan warna korelasi berada ditengah tengah)\r\n",
        "- Shots dan passes senilai 0,34 (menggambarkan warna korelasi berada ditengah tengah)"
      ]
    },
    {
      "cell_type": "markdown",
      "metadata": {
        "id": "d_GgAcljtBpY"
      },
      "source": [
        "# **Tahap- Tahap Evaluasi Data**"
      ]
    },
    {
      "cell_type": "markdown",
      "metadata": {
        "id": "NVUUl5KrtMVM"
      },
      "source": [
        "**Tahap 1** : Import library yang digunakan untuk evaluasi data."
      ]
    },
    {
      "cell_type": "code",
      "metadata": {
        "id": "HOrN6jJ2tV4s"
      },
      "source": [
        "from sklearn.datasets import make_classification\r\n",
        "from matplotlib import pyplot as plt\r\n",
        "from sklearn.linear_model import LogisticRegression\r\n",
        "from sklearn.model_selection import train_test_split\r\n",
        "from sklearn.metrics import confusion_matrix\r\n",
        "import seaborn as sns\r\n",
        "import pandas as pd\r\n",
        "\r\n",
        "sns.set()"
      ],
      "execution_count": null,
      "outputs": []
    },
    {
      "cell_type": "markdown",
      "metadata": {
        "id": "mQV1rhbTtZPa"
      },
      "source": [
        "**Tahap 2** : Inisialisasi klasifikasi dari grafik x dan y"
      ]
    },
    {
      "cell_type": "code",
      "metadata": {
        "id": "G5OKVNyJtfQm"
      },
      "source": [
        "x, y = make_classification(\r\n",
        "    n_samples=100,\r\n",
        "    n_features=1,\r\n",
        "    n_classes=2,\r\n",
        "    n_clusters_per_class=1,\r\n",
        "    flip_y=0.03,\r\n",
        "    n_informative=1,\r\n",
        "    n_redundant=0,\r\n",
        "    n_repeated=0\r\n",
        ")"
      ],
      "execution_count": null,
      "outputs": []
    },
    {
      "cell_type": "markdown",
      "metadata": {
        "id": "i8nFYszHtn2B"
      },
      "source": [
        "**Tahap 3** : Menampilkan plot hubungan antara fungsi dan kelas yang ada dengan klasifikasi yang sudah dibentuk pada grafik x dan y."
      ]
    },
    {
      "cell_type": "code",
      "metadata": {
        "colab": {
          "base_uri": "https://localhost:8080/",
          "height": 285
        },
        "id": "ZWBFvXhtts7X",
        "outputId": "e21e55a9-b97c-496d-a5ee-7bc5036d60f5"
      },
      "source": [
        "plt.scatter(x, y, c=y, cmap='rainbow')"
      ],
      "execution_count": null,
      "outputs": [
        {
          "output_type": "execute_result",
          "data": {
            "text/plain": [
              "<matplotlib.collections.PathCollection at 0x7fe720958908>"
            ]
          },
          "metadata": {
            "tags": []
          },
          "execution_count": 148
        },
        {
          "output_type": "display_data",
          "data": {
            "image/png": "[encoded data removed]",
            "text/plain": [
              "<Figure size 432x288 with 1 Axes>"
            ]
          },
          "metadata": {
            "tags": []
          }
        }
      ]
    },
    {
      "cell_type": "markdown",
      "metadata": {
        "id": "xVczxe79tx2R"
      },
      "source": [
        "**Analisis** : Scatter plot digunakan untuk pemetaan dari grafik x dan y dengan dibagi 2 warna bagian. Pemetaan ini digunakan untuk melihat persebaran data yang ada."
      ]
    },
    {
      "cell_type": "markdown",
      "metadata": {
        "id": "dlzpTOaGt4Pu"
      },
      "source": [
        "**Tahap 4** : Inisialisasi untuk evaluasi subset"
      ]
    },
    {
      "cell_type": "code",
      "metadata": {
        "id": "1yVZHYeUt1bm"
      },
      "source": [
        "x_train, x_test, y_train, y_test = train_test_split(x, y, random_state=1)"
      ],
      "execution_count": null,
      "outputs": []
    },
    {
      "cell_type": "markdown",
      "metadata": {
        "id": "yFcyj-cIuFWK"
      },
      "source": [
        "**Tahap 5** : Membuat model mempelajari hubungan antara digit (x_train) dan label (y_train)"
      ]
    },
    {
      "cell_type": "code",
      "metadata": {
        "colab": {
          "base_uri": "https://localhost:8080/"
        },
        "id": "sHaagTYduLEK",
        "outputId": "c06d922a-7d94-4323-92c6-b54263d3c67b"
      },
      "source": [
        "lr = LogisticRegression()\r\n",
        "lr.fit(x_train, y_train)"
      ],
      "execution_count": null,
      "outputs": [
        {
          "output_type": "execute_result",
          "data": {
            "text/plain": [
              "LogisticRegression(C=1.0, class_weight=None, dual=False, fit_intercept=True,\n",
              "                   intercept_scaling=1, l1_ratio=None, max_iter=100,\n",
              "                   multi_class='auto', n_jobs=None, penalty='l2',\n",
              "                   random_state=None, solver='lbfgs', tol=0.0001, verbose=0,\n",
              "                   warm_start=False)"
            ]
          },
          "metadata": {
            "tags": []
          },
          "execution_count": 151
        }
      ]
    },
    {
      "cell_type": "markdown",
      "metadata": {
        "id": "gq_byfXDuSJi"
      },
      "source": [
        "**Tahap 6** : Menampilkan evaluasi dengan melihat koefisien kemiringan dan perpotongan y dari garis yang paling cocok"
      ]
    },
    {
      "cell_type": "code",
      "metadata": {
        "colab": {
          "base_uri": "https://localhost:8080/"
        },
        "id": "IziZ1tREubrh",
        "outputId": "d17daff7-2740-4fde-a934-c75a4f6f8227"
      },
      "source": [
        "print(lr.coef_)\r\n",
        "print(lr.intercept_)"
      ],
      "execution_count": null,
      "outputs": [
        {
          "output_type": "stream",
          "text": [
            "[[2.89848916]]\n",
            "[-0.98957778]\n"
          ],
          "name": "stdout"
        }
      ]
    },
    {
      "cell_type": "markdown",
      "metadata": {
        "id": "ho0Yw7xHueti"
      },
      "source": [
        "- **Analisis** : Evaluasi dengan menggunakan model Regresi dilihat dari koefisien kemiringan bernilai 2.89848916 dan perpotongan garis y adalah -0.98957778"
      ]
    },
    {
      "cell_type": "markdown",
      "metadata": {
        "id": "UiZWA1ZhuxZq"
      },
      "source": [
        "> **EVALUASI HIPOTESIS DARI PEMODELAN** "
      ]
    },
    {
      "cell_type": "markdown",
      "metadata": {
        "id": "4H0rGpu6u0C5"
      },
      "source": [
        "Hipotesis dari pemodelan yang sudah dilakukan mendapatkan nilai korelasi yang baik adalah 0,7. \r\n",
        "\r\n",
        "- Jika P-Value sama dengan 0 atau lebih dari 0 maka hipotesis diterima dan korelasi kuat\r\n",
        "- Jika P-Value kurang dari 0 maka hipotesis ditolak."
      ]
    },
    {
      "cell_type": "code",
      "metadata": {
        "id": "QhnXxcQxvja0"
      },
      "source": [
        "class HypothesisTest(object):\r\n",
        "    \r\n",
        "    def __init__(self, data):\r\n",
        "        self.data = data\r\n",
        "        self.MakeModel()\r\n",
        "        self.actual = self.TestStatistic(data)\r\n",
        "        \r\n",
        "    def PValue(self, iters = 1000):\r\n",
        "        self.test_stats = [self.TestStatistic(self.RunModel()) for _ in range(iters)]\r\n",
        "        count = sum(1 for x in self.test_stats if x >= self.actual)\r\n",
        "        return count / iters\r\n",
        "    \r\n",
        "    def TestStatistic(self, data):\r\n",
        "        raise UnimplementedMethodException()\r\n",
        "        \r\n",
        "    def MakeModel(self):\r\n",
        "        pass\r\n",
        "    \r\n",
        "    def RunModel(self):\r\n",
        "        raise UnimplementedMethodException()"
      ],
      "execution_count": null,
      "outputs": []
    },
    {
      "cell_type": "code",
      "metadata": {
        "id": "Q8A4oBvfvmfp"
      },
      "source": [
        "class CorrPermute(HypothesisTest):\r\n",
        "    \r\n",
        "    def TestStatistic(self, data):\r\n",
        "        xs, ys = data\r\n",
        "        test_stat = abs(correlation(xs, ys))\r\n",
        "        return test_stat\r\n",
        "    \r\n",
        "    def RunModel(self):\r\n",
        "        xs, ys = self.data\r\n",
        "        xs = np.random.permutation(xs)\r\n",
        "        return xs, ys\r\n",
        "    \r\n",
        "def correlation(x, y):\r\n",
        "    std_x = np.std(x)\r\n",
        "    std_y = np.std(y)\r\n",
        "    if std_x and std_y > 0:\r\n",
        "        return covariance(x, y) / std_x / std_y\r\n",
        "    else:\r\n",
        "        return 0\r\n",
        "    \r\n",
        "def de_mean(x):\r\n",
        "    x_bar = np.mean(x)\r\n",
        "    return [x_i - x_bar for x_i in x]\r\n",
        "\r\n",
        "def covariance(x, y):\r\n",
        "    n = len(x)\r\n",
        "    return np.dot(de_mean(x), de_mean(y)) / (n - 1)"
      ],
      "execution_count": null,
      "outputs": []
    },
    {
      "cell_type": "code",
      "metadata": {
        "colab": {
          "base_uri": "https://localhost:8080/"
        },
        "id": "RoyDyuUcvpfi",
        "outputId": "faf01d7c-bda6-4948-f1db-a21ee0521c44"
      },
      "source": [
        "cp = CorrPermute((mi, sh))\r\n",
        "pvalue = cp.PValue()\r\n",
        "\r\n",
        "print('Hipotesis akhir p-value: ', pvalue)"
      ],
      "execution_count": null,
      "outputs": [
        {
          "output_type": "stream",
          "text": [
            "Hipotesis akhir p-value:  0.0\n"
          ],
          "name": "stdout"
        }
      ]
    },
    {
      "cell_type": "markdown",
      "metadata": {
        "id": "bcjRzvRnv-x6"
      },
      "source": [
        "**Analisis** :\r\n",
        "\r\n",
        "Nilai P-Value pada hipotesis akhir di atas adalah 0.\r\n",
        "Hipotesis akhir adalah salah dan korelasi kuat yaitu 0,7 antara Quantity dan Total yang tidak terjadi secara kebetulan. \r\n",
        "Disimpulkan bahwa korelasi yang terjadi adalah signifikan secara statistik."
      ]
    },
    {
      "cell_type": "markdown",
      "metadata": {
        "id": "q_mupU-PwINw"
      },
      "source": [
        "> **MEMPREDIKSI ANTARA QUANTITY DAN TOTAL MENGGUNAKAN LINEAR LEAST SQUARE**"
      ]
    },
    {
      "cell_type": "code",
      "metadata": {
        "id": "0jbGvmMbwP9m"
      },
      "source": [
        "def LeastSquares(xs, ys):\r\n",
        "    meanx, varx = np.mean(xs), np.var(xs)\r\n",
        "    meany = np.mean(ys)\r\n",
        "    \r\n",
        "    slope = covariance(xs, ys) / varx\r\n",
        "    inter = meany - slope * meanx\r\n",
        "    \r\n",
        "    return inter, slope\r\n",
        "\r\n",
        "def FitLine(xs, inter, slope):\r\n",
        "    fit_xs = np.sort(xs)\r\n",
        "    fit_ys = inter + slope * fit_xs\r\n",
        "    \r\n",
        "    return fit_xs, fit_ys"
      ],
      "execution_count": null,
      "outputs": []
    },
    {
      "cell_type": "code",
      "metadata": {
        "colab": {
          "base_uri": "https://localhost:8080/"
        },
        "id": "VS7mFEoOwTfi",
        "outputId": "989812b6-c9a2-48ad-d49f-1c518a2238c5"
      },
      "source": [
        "inter, slope = LeastSquares(mi, sh)\r\n",
        "fit_xs, fit_ys = FitLine(mi, inter, slope)\r\n",
        "\r\n",
        "print('intercept is: {} and slope is: {}'.format(inter, slope))"
      ],
      "execution_count": null,
      "outputs": [
        {
          "output_type": "stream",
          "text": [
            "intercept is: 0.3398513458692112 and slope is: 0.009404931435439587\n"
          ],
          "name": "stdout"
        }
      ]
    },
    {
      "cell_type": "markdown",
      "metadata": {
        "id": "ZLADacwEw5FF"
      },
      "source": [
        "**Analisis** : Pada hasil linear least square untuk intersepsi adalah 0.339 dan slope adalah 0.0094"
      ]
    },
    {
      "cell_type": "markdown",
      "metadata": {
        "id": "__NHw8d-xJ58"
      },
      "source": [
        "> **RESIDUAL**"
      ]
    },
    {
      "cell_type": "code",
      "metadata": {
        "id": "msUo303nxPQ2"
      },
      "source": [
        "def Residuals(xs, ys, inter, slope):\r\n",
        "    xs = np.asarray(xs)\r\n",
        "    ys = np.asarray(ys)\r\n",
        "    res = ys - (inter + slope * xs)\r\n",
        "    return res"
      ],
      "execution_count": null,
      "outputs": []
    },
    {
      "cell_type": "code",
      "metadata": {
        "id": "lVykgeM9xXgm"
      },
      "source": [
        "res = Residuals(mi, pas, inter, slope)\r\n",
        "\r\n",
        "supermarket['residuals'] = res"
      ],
      "execution_count": null,
      "outputs": []
    },
    {
      "cell_type": "code",
      "metadata": {
        "colab": {
          "base_uri": "https://localhost:8080/"
        },
        "id": "WcwN4pU5xzAc",
        "outputId": "d79e3916-1f45-4e73-a457-9e74f990dc3b"
      },
      "source": [
        "print('Prediksi RMSE adalah :  ', np.std(res))"
      ],
      "execution_count": null,
      "outputs": [
        {
          "output_type": "stream",
          "text": [
            "Prediksi RMSE adalah :   76.13551383249407\n"
          ],
          "name": "stdout"
        }
      ]
    },
    {
      "cell_type": "markdown",
      "metadata": {
        "id": "QnDzhqZtx3fS"
      },
      "source": [
        "**Analisis** : Prediksi RSME adalah 76,1355"
      ]
    },
    {
      "cell_type": "markdown",
      "metadata": {
        "id": "jPYvi2sRyoPW"
      },
      "source": [
        "> **KOEFISIEN DETERMINASI**"
      ]
    },
    {
      "cell_type": "code",
      "metadata": {
        "colab": {
          "base_uri": "https://localhost:8080/"
        },
        "id": "zFqO0pTWzTZO",
        "outputId": "8a9074f1-841a-4d01-ffd2-46efc0e86dcf"
      },
      "source": [
        "r_squared = 1 - (np.var(mi) / np.var(pas))\r\n",
        "\r\n",
        "print('Koefisien determinasi didapatkan adalah: ', r_squared)"
      ],
      "execution_count": null,
      "outputs": [
        {
          "output_type": "stream",
          "text": [
            "Koefisien determinasi didapatkan adalah:  -2.5387815837101386\n"
          ],
          "name": "stdout"
        }
      ]
    },
    {
      "cell_type": "markdown",
      "metadata": {
        "id": "u6sG8WLbz1tn"
      },
      "source": [
        "**Analisis** : koefisien determinasi yang didapatkan adalah -2.538"
      ]
    },
    {
      "cell_type": "markdown",
      "metadata": {
        "id": "SH0HOWSq0DUd"
      },
      "source": [
        "> **VISUALISASI PLOT DARI EVALUASI YANG SUDAH DILAKUKAN**"
      ]
    },
    {
      "cell_type": "code",
      "metadata": {
        "colab": {
          "base_uri": "https://localhost:8080/",
          "height": 518
        },
        "id": "EKBPVyA90GX0",
        "outputId": "34ddd313-83ed-4c36-f7c2-197999c1f4a0"
      },
      "source": [
        "plt.figure(figsize = (15, 8))\r\n",
        "\r\n",
        "plt.xlabel('passes')\r\n",
        "plt.ylabel('shots')\r\n",
        "\r\n",
        "plt.plot(fit_xs, fit_ys, color = 'black')\r\n",
        "plt.scatter(qu, tot, color = 'blue')"
      ],
      "execution_count": null,
      "outputs": [
        {
          "output_type": "execute_result",
          "data": {
            "text/plain": [
              "<matplotlib.collections.PathCollection at 0x7fe720843ba8>"
            ]
          },
          "metadata": {
            "tags": []
          },
          "execution_count": 169
        },
        {
          "output_type": "display_data",
          "data": {
            "image/png": "[encoded data removed]",
            "text/plain": [
              "<Figure size 1080x576 with 1 Axes>"
            ]
          },
          "metadata": {
            "tags": []
          }
        }
      ]
    },
    {
      "cell_type": "markdown",
      "metadata": {
        "id": "AXs6mL8P0oQ9"
      },
      "source": [
        "**Analisis** : hasil visualisasi yang didapatkan antara passes dan shots pada pemodelan yang sudah dilakukan sama dengan data visualisasi ini"
      ]
    }
  ]
}