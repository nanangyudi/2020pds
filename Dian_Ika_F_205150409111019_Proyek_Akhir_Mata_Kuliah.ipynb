{
  "nbformat": 4,
  "nbformat_minor": 0,
  "metadata": {
    "colab": {
      "name": "Dian Ika F_205150409111019_Proyek Akhir Mata Kuliah.ipynb",
      "provenance": [],
      "collapsed_sections": [],
      "include_colab_link": true
    },
    "kernelspec": {
      "name": "python3",
      "display_name": "Python 3"
    }
  },
  "cells": [
    {
      "cell_type": "markdown",
      "metadata": {
        "id": "view-in-github",
        "colab_type": "text"
      },
      "source": [
        "<a href=\"https://colab.research.google.com/github/nanangyudi/2020pds_d/blob/main/Dian_Ika_F_205150409111019_Proyek_Akhir_Mata_Kuliah.ipynb\" target=\"_parent\"><img src=\"https://colab.research.google.com/assets/colab-badge.svg\" alt=\"Open In Colab\"/></a>"
      ]
    },
    {
      "cell_type": "markdown",
      "metadata": {
        "id": "WZqOI950aFR7"
      },
      "source": [
        "# **METODOLOGI SAINS DATA**"
      ]
    },
    {
      "cell_type": "markdown",
      "metadata": {
        "id": "KaG8vEbsa2vb"
      },
      "source": [
        "**1. DESKRIPSI TUJUAN BISNIS**\n",
        "\n",
        "Analisis data yang dilakukan bertujuan untuk melakukan pengelolaan data pada penjualan buku yang ada di Amazon.com yang kemudian akan menghasilkan sebuah informasi mengenai buku-buku best seller. Informasi ini kemudian dapat dijadikan sebagai strategi bisnis selanjutnya, selain itu juga dapat dijadikan sebagai informasi kepada para calon pembeli sehingga dapat memudahkan pembeli dalam menentukan buku apa yang akan mereka beli atau baca.\n",
        "\n"
      ]
    },
    {
      "cell_type": "markdown",
      "metadata": {
        "id": "XsycYuBBrPAX"
      },
      "source": [
        "**2. ANALISIS DATA YANG DILAKUKAN**\n",
        "\n",
        "Analisis data yang digunakan yaitu Eksplorasi atau EDA. EDA merupakan salah satu dari tiga teknik pendekatan analisis data yang ada. Pada EDA, pengumpulan data diikuti dengan analisis dengan tujuan untuk menentukan model apa yang akan sesuai."
      ]
    },
    {
      "cell_type": "markdown",
      "metadata": {
        "id": "Y74uxkVyPwwH"
      },
      "source": [
        "**3. PENGUMPULAN DATA** \n",
        "\n",
        "Pngumpulan data dilakukan melalui data yang diambil dari komunitas Kaggle. Kaggle adalah sebuah situs web yang berisi kumpulan data yang dapat untuk Data Science dan Machine Learning yang terdiri dari lebih 6.000 set data yang dapat diunduh. Set data ini banyak membantu ilmuwan di seluruh dunia untuk membuat model. Kaggle bukan hanya kumpulan dataset tetapi terdiri dari komunitas ilmuan data terbesar. "
      ]
    },
    {
      "cell_type": "markdown",
      "metadata": {
        "id": "whk4mIf7C7wr"
      },
      "source": [
        "**3. PEMAHAMAN DATA**\n",
        "\n",
        "Data yang digunakan yaitu data yang berisi informasi mengenai penjualan buku yang terjual pada situs Amazon. Pada kolom pertama terdapat nama buku, kemudian kolom kedua berisi nama pengarang. Pada kolom kegita terdapat rating buku yang diberikan oleh para user atau pembeli. Semakin tinggi rating maka semakin banyak orang yang membeli buku tersebut. Hal ini dapat dijadikan bahan pertimbangan pula bagi para calon pembeli ketika memilih buku yang ingin dibaca. Kemudian pada kolom selanjutnya terdapat reviews yaitu banyak nya para user yang memberikan ulasan pada buku yang mereka baca. Pada kolom selanjutnya terdapat kolom harga. Kemudian dilanjutkan oleh kolom selanjutnya yaitu kolom Tahun terbit dan Genre."
      ]
    },
    {
      "cell_type": "markdown",
      "metadata": {
        "id": "V2fEQbA6Uako"
      },
      "source": [
        "**4. PERSIAPAN DATA/EKSPLORASI DATA**"
      ]
    },
    {
      "cell_type": "markdown",
      "metadata": {
        "id": "cx5bZw7Y87YY"
      },
      "source": [
        "**1) Memasukkan data dari URL** "
      ]
    },
    {
      "cell_type": "code",
      "metadata": {
        "colab": {
          "base_uri": "https://localhost:8080/"
        },
        "id": "F3TdnCx_UiBg",
        "outputId": "b827ebf4-cfcc-42ac-b59a-33d231023090"
      },
      "source": [
        "import os\n",
        "os.listdir('sample_data')"
      ],
      "execution_count": null,
      "outputs": [
        {
          "output_type": "execute_result",
          "data": {
            "text/plain": [
              "['README.md',\n",
              " 'anscombe.json',\n",
              " 'mnist_test.csv',\n",
              " 'california_housing_test.csv',\n",
              " 'mnist_train_small.csv',\n",
              " 'california_housing_train.csv']"
            ]
          },
          "metadata": {
            "tags": []
          },
          "execution_count": 4
        }
      ]
    },
    {
      "cell_type": "code",
      "metadata": {
        "id": "46kPbcMjJYxe"
      },
      "source": [
        "import pandas as pd\n",
        "import matplotlib.pyplot as plt\n",
        "import seaborn as sns\n",
        "url = 'https://raw.githubusercontent.com/dianikaf/Dian-Ika-F/main/amazon_data.csv'\n",
        "dt = pd.read_csv(url, error_bad_lines=False)"
      ],
      "execution_count": null,
      "outputs": []
    },
    {
      "cell_type": "markdown",
      "metadata": {
        "id": "OOmXeecy-Rz3"
      },
      "source": [
        "**2) Menampilkan 10 data bagian atas**"
      ]
    },
    {
      "cell_type": "code",
      "metadata": {
        "colab": {
          "base_uri": "https://localhost:8080/",
          "height": 359
        },
        "id": "TgvGqucIXmah",
        "outputId": "789a154a-e1c9-4298-b7bd-7a91be4554fa"
      },
      "source": [
        "dt.head(10)"
      ],
      "execution_count": null,
      "outputs": [
        {
          "output_type": "execute_result",
          "data": {
            "text/html": [
              "<div>\n",
              "<style scoped>\n",
              "    .dataframe tbody tr th:only-of-type {\n",
              "        vertical-align: middle;\n",
              "    }\n",
              "\n",
              "    .dataframe tbody tr th {\n",
              "        vertical-align: top;\n",
              "    }\n",
              "\n",
              "    .dataframe thead th {\n",
              "        text-align: right;\n",
              "    }\n",
              "</style>\n",
              "<table border=\"1\" class=\"dataframe\">\n",
              "  <thead>\n",
              "    <tr style=\"text-align: right;\">\n",
              "      <th></th>\n",
              "      <th>Name</th>\n",
              "      <th>Author</th>\n",
              "      <th>User Rating</th>\n",
              "      <th>Reviews</th>\n",
              "      <th>Price</th>\n",
              "      <th>Year</th>\n",
              "      <th>Genre</th>\n",
              "    </tr>\n",
              "  </thead>\n",
              "  <tbody>\n",
              "    <tr>\n",
              "      <th>0</th>\n",
              "      <td>10-Day Green Smoothie Cleanse</td>\n",
              "      <td>JJ Smith</td>\n",
              "      <td>4.7</td>\n",
              "      <td>17350</td>\n",
              "      <td>8</td>\n",
              "      <td>2016</td>\n",
              "      <td>Non Fiction</td>\n",
              "    </tr>\n",
              "    <tr>\n",
              "      <th>1</th>\n",
              "      <td>11/22/63: A Novel</td>\n",
              "      <td>Stephen King</td>\n",
              "      <td>4.6</td>\n",
              "      <td>2052</td>\n",
              "      <td>22</td>\n",
              "      <td>2011</td>\n",
              "      <td>Fiction</td>\n",
              "    </tr>\n",
              "    <tr>\n",
              "      <th>2</th>\n",
              "      <td>12 Rules for Life: An Antidote to Chaos</td>\n",
              "      <td>Jordan B. Peterson</td>\n",
              "      <td>4.7</td>\n",
              "      <td>18979</td>\n",
              "      <td>15</td>\n",
              "      <td>2018</td>\n",
              "      <td>Non Fiction</td>\n",
              "    </tr>\n",
              "    <tr>\n",
              "      <th>3</th>\n",
              "      <td>1984 (Signet Classics)</td>\n",
              "      <td>George Orwell</td>\n",
              "      <td>4.7</td>\n",
              "      <td>21424</td>\n",
              "      <td>6</td>\n",
              "      <td>2017</td>\n",
              "      <td>Fiction</td>\n",
              "    </tr>\n",
              "    <tr>\n",
              "      <th>4</th>\n",
              "      <td>5,000 Awesome Facts (About Everything!) (Natio...</td>\n",
              "      <td>National Geographic Kids</td>\n",
              "      <td>4.8</td>\n",
              "      <td>7665</td>\n",
              "      <td>12</td>\n",
              "      <td>2019</td>\n",
              "      <td>Non Fiction</td>\n",
              "    </tr>\n",
              "    <tr>\n",
              "      <th>5</th>\n",
              "      <td>A Dance with Dragons (A Song of Ice and Fire)</td>\n",
              "      <td>George R. R. Martin</td>\n",
              "      <td>4.4</td>\n",
              "      <td>12643</td>\n",
              "      <td>11</td>\n",
              "      <td>2011</td>\n",
              "      <td>Fiction</td>\n",
              "    </tr>\n",
              "    <tr>\n",
              "      <th>6</th>\n",
              "      <td>A Game of Thrones / A Clash of Kings / A Storm...</td>\n",
              "      <td>George R. R. Martin</td>\n",
              "      <td>4.7</td>\n",
              "      <td>19735</td>\n",
              "      <td>30</td>\n",
              "      <td>2014</td>\n",
              "      <td>Fiction</td>\n",
              "    </tr>\n",
              "    <tr>\n",
              "      <th>7</th>\n",
              "      <td>A Gentleman in Moscow: A Novel</td>\n",
              "      <td>Amor Towles</td>\n",
              "      <td>4.7</td>\n",
              "      <td>19699</td>\n",
              "      <td>15</td>\n",
              "      <td>2017</td>\n",
              "      <td>Fiction</td>\n",
              "    </tr>\n",
              "    <tr>\n",
              "      <th>8</th>\n",
              "      <td>A Higher Loyalty: Truth, Lies, and Leadership</td>\n",
              "      <td>James Comey</td>\n",
              "      <td>4.7</td>\n",
              "      <td>5983</td>\n",
              "      <td>3</td>\n",
              "      <td>2018</td>\n",
              "      <td>Non Fiction</td>\n",
              "    </tr>\n",
              "    <tr>\n",
              "      <th>9</th>\n",
              "      <td>A Man Called Ove: A Novel</td>\n",
              "      <td>Fredrik Backman</td>\n",
              "      <td>4.6</td>\n",
              "      <td>23848</td>\n",
              "      <td>8</td>\n",
              "      <td>2016</td>\n",
              "      <td>Fiction</td>\n",
              "    </tr>\n",
              "  </tbody>\n",
              "</table>\n",
              "</div>"
            ],
            "text/plain": [
              "                                                Name  ...        Genre\n",
              "0                      10-Day Green Smoothie Cleanse  ...  Non Fiction\n",
              "1                                  11/22/63: A Novel  ...      Fiction\n",
              "2            12 Rules for Life: An Antidote to Chaos  ...  Non Fiction\n",
              "3                             1984 (Signet Classics)  ...      Fiction\n",
              "4  5,000 Awesome Facts (About Everything!) (Natio...  ...  Non Fiction\n",
              "5      A Dance with Dragons (A Song of Ice and Fire)  ...      Fiction\n",
              "6  A Game of Thrones / A Clash of Kings / A Storm...  ...      Fiction\n",
              "7                     A Gentleman in Moscow: A Novel  ...      Fiction\n",
              "8      A Higher Loyalty: Truth, Lies, and Leadership  ...  Non Fiction\n",
              "9                          A Man Called Ove: A Novel  ...      Fiction\n",
              "\n",
              "[10 rows x 7 columns]"
            ]
          },
          "metadata": {
            "tags": []
          },
          "execution_count": 8
        }
      ]
    },
    {
      "cell_type": "markdown",
      "metadata": {
        "id": "l46xQRTd_CL0"
      },
      "source": [
        "**3) Menampilkan 10 data bagian bawah**"
      ]
    },
    {
      "cell_type": "code",
      "metadata": {
        "colab": {
          "base_uri": "https://localhost:8080/",
          "height": 359
        },
        "id": "aPAJWkQG_TbS",
        "outputId": "808879f6-498f-46ba-cc21-6375b76cce01"
      },
      "source": [
        "dt.tail(10)"
      ],
      "execution_count": null,
      "outputs": [
        {
          "output_type": "execute_result",
          "data": {
            "text/html": [
              "<div>\n",
              "<style scoped>\n",
              "    .dataframe tbody tr th:only-of-type {\n",
              "        vertical-align: middle;\n",
              "    }\n",
              "\n",
              "    .dataframe tbody tr th {\n",
              "        vertical-align: top;\n",
              "    }\n",
              "\n",
              "    .dataframe thead th {\n",
              "        text-align: right;\n",
              "    }\n",
              "</style>\n",
              "<table border=\"1\" class=\"dataframe\">\n",
              "  <thead>\n",
              "    <tr style=\"text-align: right;\">\n",
              "      <th></th>\n",
              "      <th>Name</th>\n",
              "      <th>Author</th>\n",
              "      <th>User Rating</th>\n",
              "      <th>Reviews</th>\n",
              "      <th>Price</th>\n",
              "      <th>Year</th>\n",
              "      <th>Genre</th>\n",
              "    </tr>\n",
              "  </thead>\n",
              "  <tbody>\n",
              "    <tr>\n",
              "      <th>540</th>\n",
              "      <td>Wonder</td>\n",
              "      <td>R. J. Palacio</td>\n",
              "      <td>4.8</td>\n",
              "      <td>21625</td>\n",
              "      <td>9</td>\n",
              "      <td>2013</td>\n",
              "      <td>Fiction</td>\n",
              "    </tr>\n",
              "    <tr>\n",
              "      <th>541</th>\n",
              "      <td>Wonder</td>\n",
              "      <td>R. J. Palacio</td>\n",
              "      <td>4.8</td>\n",
              "      <td>21625</td>\n",
              "      <td>9</td>\n",
              "      <td>2014</td>\n",
              "      <td>Fiction</td>\n",
              "    </tr>\n",
              "    <tr>\n",
              "      <th>542</th>\n",
              "      <td>Wonder</td>\n",
              "      <td>R. J. Palacio</td>\n",
              "      <td>4.8</td>\n",
              "      <td>21625</td>\n",
              "      <td>9</td>\n",
              "      <td>2015</td>\n",
              "      <td>Fiction</td>\n",
              "    </tr>\n",
              "    <tr>\n",
              "      <th>543</th>\n",
              "      <td>Wonder</td>\n",
              "      <td>R. J. Palacio</td>\n",
              "      <td>4.8</td>\n",
              "      <td>21625</td>\n",
              "      <td>9</td>\n",
              "      <td>2016</td>\n",
              "      <td>Fiction</td>\n",
              "    </tr>\n",
              "    <tr>\n",
              "      <th>544</th>\n",
              "      <td>Wonder</td>\n",
              "      <td>R. J. Palacio</td>\n",
              "      <td>4.8</td>\n",
              "      <td>21625</td>\n",
              "      <td>9</td>\n",
              "      <td>2017</td>\n",
              "      <td>Fiction</td>\n",
              "    </tr>\n",
              "    <tr>\n",
              "      <th>545</th>\n",
              "      <td>Wrecking Ball (Diary of a Wimpy Kid Book 14)</td>\n",
              "      <td>Jeff Kinney</td>\n",
              "      <td>4.9</td>\n",
              "      <td>9413</td>\n",
              "      <td>8</td>\n",
              "      <td>2019</td>\n",
              "      <td>Fiction</td>\n",
              "    </tr>\n",
              "    <tr>\n",
              "      <th>546</th>\n",
              "      <td>You Are a Badass: How to Stop Doubting Your Gr...</td>\n",
              "      <td>Jen Sincero</td>\n",
              "      <td>4.7</td>\n",
              "      <td>14331</td>\n",
              "      <td>8</td>\n",
              "      <td>2016</td>\n",
              "      <td>Non Fiction</td>\n",
              "    </tr>\n",
              "    <tr>\n",
              "      <th>547</th>\n",
              "      <td>You Are a Badass: How to Stop Doubting Your Gr...</td>\n",
              "      <td>Jen Sincero</td>\n",
              "      <td>4.7</td>\n",
              "      <td>14331</td>\n",
              "      <td>8</td>\n",
              "      <td>2017</td>\n",
              "      <td>Non Fiction</td>\n",
              "    </tr>\n",
              "    <tr>\n",
              "      <th>548</th>\n",
              "      <td>You Are a Badass: How to Stop Doubting Your Gr...</td>\n",
              "      <td>Jen Sincero</td>\n",
              "      <td>4.7</td>\n",
              "      <td>14331</td>\n",
              "      <td>8</td>\n",
              "      <td>2018</td>\n",
              "      <td>Non Fiction</td>\n",
              "    </tr>\n",
              "    <tr>\n",
              "      <th>549</th>\n",
              "      <td>You Are a Badass: How to Stop Doubting Your Gr...</td>\n",
              "      <td>Jen Sincero</td>\n",
              "      <td>4.7</td>\n",
              "      <td>14331</td>\n",
              "      <td>8</td>\n",
              "      <td>2019</td>\n",
              "      <td>Non Fiction</td>\n",
              "    </tr>\n",
              "  </tbody>\n",
              "</table>\n",
              "</div>"
            ],
            "text/plain": [
              "                                                  Name  ...        Genre\n",
              "540                                             Wonder  ...      Fiction\n",
              "541                                             Wonder  ...      Fiction\n",
              "542                                             Wonder  ...      Fiction\n",
              "543                                             Wonder  ...      Fiction\n",
              "544                                             Wonder  ...      Fiction\n",
              "545       Wrecking Ball (Diary of a Wimpy Kid Book 14)  ...      Fiction\n",
              "546  You Are a Badass: How to Stop Doubting Your Gr...  ...  Non Fiction\n",
              "547  You Are a Badass: How to Stop Doubting Your Gr...  ...  Non Fiction\n",
              "548  You Are a Badass: How to Stop Doubting Your Gr...  ...  Non Fiction\n",
              "549  You Are a Badass: How to Stop Doubting Your Gr...  ...  Non Fiction\n",
              "\n",
              "[10 rows x 7 columns]"
            ]
          },
          "metadata": {
            "tags": []
          },
          "execution_count": 8
        }
      ]
    },
    {
      "cell_type": "markdown",
      "metadata": {
        "id": "ELR7za9a_rES"
      },
      "source": [
        "**4) Menampilkan jumlah bari dan kolom data**"
      ]
    },
    {
      "cell_type": "code",
      "metadata": {
        "colab": {
          "base_uri": "https://localhost:8080/"
        },
        "id": "8MrqOhix_xkf",
        "outputId": "b961af8a-2adf-4f8f-e0c6-853cee83dd05"
      },
      "source": [
        "dt.shape"
      ],
      "execution_count": null,
      "outputs": [
        {
          "output_type": "execute_result",
          "data": {
            "text/plain": [
              "(550, 7)"
            ]
          },
          "metadata": {
            "tags": []
          },
          "execution_count": 7
        }
      ]
    },
    {
      "cell_type": "markdown",
      "metadata": {
        "id": "IPOIw4U3Ao5t"
      },
      "source": [
        "**5) Menampilkan informasi mengenia kolom data**"
      ]
    },
    {
      "cell_type": "code",
      "metadata": {
        "colab": {
          "base_uri": "https://localhost:8080/"
        },
        "id": "2cp_dHX1A_e2",
        "outputId": "d43a5b53-62f4-49fc-d186-48c76d68b8e1"
      },
      "source": [
        "dt.info()"
      ],
      "execution_count": null,
      "outputs": [
        {
          "output_type": "stream",
          "text": [
            "<class 'pandas.core.frame.DataFrame'>\n",
            "RangeIndex: 550 entries, 0 to 549\n",
            "Data columns (total 7 columns):\n",
            " #   Column       Non-Null Count  Dtype  \n",
            "---  ------       --------------  -----  \n",
            " 0   Name         550 non-null    object \n",
            " 1   Author       550 non-null    object \n",
            " 2   User Rating  550 non-null    float64\n",
            " 3   Reviews      550 non-null    int64  \n",
            " 4   Price        550 non-null    int64  \n",
            " 5   Year         550 non-null    int64  \n",
            " 6   Genre        550 non-null    object \n",
            "dtypes: float64(1), int64(3), object(3)\n",
            "memory usage: 30.2+ KB\n"
          ],
          "name": "stdout"
        }
      ]
    },
    {
      "cell_type": "markdown",
      "metadata": {
        "id": "YswokmG-BG-P"
      },
      "source": [
        "**6) Menampilkan jumlah Genre yang dilihat dari jumlah User Rating**"
      ]
    },
    {
      "cell_type": "code",
      "metadata": {
        "colab": {
          "base_uri": "https://localhost:8080/",
          "height": 295
        },
        "id": "mwckUI-d7Zel",
        "outputId": "9c9be43a-da22-4701-fd22-94090486edfc"
      },
      "source": [
        "fig=plt.figure()\n",
        "ax = fig.add_subplot(1,1,1)\n",
        "\n",
        "#Variable\n",
        "ax.hist(dt['Genre'],bins = 3)\n",
        "#Labels and Tit\n",
        "plt.title('Title ')\n",
        "plt.xlabel('Genre')\n",
        "plt.ylabel('User Rating')\n",
        "plt.show()"
      ],
      "execution_count": null,
      "outputs": [
        {
          "output_type": "display_data",
          "data": {
            "image/png": "[encoded data removed]",
            "text/plain": [
              "<Figure size 432x288 with 1 Axes>"
            ]
          },
          "metadata": {
            "tags": [],
            "needs_background": "light"
          }
        }
      ]
    },
    {
      "cell_type": "markdown",
      "metadata": {
        "id": "NmlxS11lm8bK"
      },
      "source": [
        "- **Analisis Histogram :** Ditampilkan bahwa buku dengan Genre Non Fiction memiliki jumlah yang lebih tinggi jika dibandingkan dengan Genre Fiction dilihat dari kategori User Rating"
      ]
    },
    {
      "cell_type": "markdown",
      "metadata": {
        "id": "tG6ADNRynUSO"
      },
      "source": [
        "**7) Analisis Price dengan User Rating yang diberikan oleh pembaca**"
      ]
    },
    {
      "cell_type": "code",
      "metadata": {
        "colab": {
          "base_uri": "https://localhost:8080/",
          "height": 295
        },
        "id": "WMl-KBHaJv3h",
        "outputId": "a1edfd68-b671-4ca1-ae82-6a5f168c2e04"
      },
      "source": [
        "fig=plt.figure()\n",
        "ax = fig.add_subplot(1,1,1)\n",
        "\n",
        "#Variable\n",
        "ax.scatter(dt['Price'],dt['User Rating'])\n",
        "\n",
        "#Labels and Tit\n",
        "plt.title('Price dan User Rating')\n",
        "plt.xlabel('Price')\n",
        "plt.ylabel('User Rating')\n",
        "plt.show()"
      ],
      "execution_count": null,
      "outputs": [
        {
          "output_type": "display_data",
          "data": {
            "image/png": "[encoded data removed]",
            "text/plain": [
              "<Figure size 432x288 with 1 Axes>"
            ]
          },
          "metadata": {
            "tags": [],
            "needs_background": "light"
          }
        }
      ]
    },
    {
      "cell_type": "markdown",
      "metadata": {
        "id": "wYmuFCMBnxHO"
      },
      "source": [
        "- **Analisis Scatter Plot**: Persebaran data terbanyak yaitu pada Price antara 0 - 40 dan User Rating 4.4 sampai 4.8"
      ]
    },
    {
      "cell_type": "markdown",
      "metadata": {
        "id": "cgNDxf54ox1o"
      },
      "source": [
        "**8) Analisis menggunakan Boxplot dilihat dari Price dengan User Rating yang diberikan oleh pembaca**"
      ]
    },
    {
      "cell_type": "code",
      "metadata": {
        "colab": {
          "base_uri": "https://localhost:8080/",
          "height": 333
        },
        "id": "8GS7-FujS0sz",
        "outputId": "5b179274-539c-4876-f49a-14bdc8546950"
      },
      "source": [
        "sns.boxplot(dt['Price'])\n",
        "sns.despine()"
      ],
      "execution_count": null,
      "outputs": [
        {
          "output_type": "stream",
          "text": [
            "/usr/local/lib/python3.6/dist-packages/seaborn/_decorators.py:43: FutureWarning: Pass the following variable as a keyword arg: x. From version 0.12, the only valid positional argument will be `data`, and passing other arguments without an explicit keyword will result in an error or misinterpretation.\n",
            "  FutureWarning\n"
          ],
          "name": "stderr"
        },
        {
          "output_type": "display_data",
          "data": {
            "image/png": "[encoded data removed]",
            "text/plain": [
              "<Figure size 432x288 with 1 Axes>"
            ]
          },
          "metadata": {
            "tags": [],
            "needs_background": "light"
          }
        }
      ]
    },
    {
      "cell_type": "markdown",
      "metadata": {
        "id": "Es1d2UTSpAgg"
      },
      "source": [
        "- **Analisis Boxplot** : \n",
        "1. Nilai minimal menunjukan Price 0\n",
        "2. Nilai Quartil terendah menunjukan Price kira-kira 10\n",
        "3. Nilai Median menunjukan Price kira-kira 15\n",
        "4. Nilai Quartil teratas menunjukan Price kira-kira 18\n",
        "5. Nilai maksimal menunjukan Price kira-kira 30\n",
        "6. Terdapat pencilan data pada Price 105"
      ]
    },
    {
      "cell_type": "markdown",
      "metadata": {
        "id": "4A0ZLo51JZpq"
      },
      "source": [
        "**9) Analisis menggunakan Plots jenis  Genre dengan User Rating**"
      ]
    },
    {
      "cell_type": "code",
      "metadata": {
        "colab": {
          "base_uri": "https://localhost:8080/",
          "height": 296
        },
        "id": "wMYZXqN4k7C6",
        "outputId": "65cb1927-9a6a-4e06-90d1-257fe7bcbf4f"
      },
      "source": [
        "sns.stripplot(x=\"Genre\", y=\"User Rating\", data=dt) "
      ],
      "execution_count": null,
      "outputs": [
        {
          "output_type": "execute_result",
          "data": {
            "text/plain": [
              "<matplotlib.axes._subplots.AxesSubplot at 0x7f657537cda0>"
            ]
          },
          "metadata": {
            "tags": []
          },
          "execution_count": 22
        },
        {
          "output_type": "display_data",
          "data": {
            "image/png": "[encoded data removed]",
            "text/plain": [
              "<Figure size 432x288 with 1 Axes>"
            ]
          },
          "metadata": {
            "tags": [],
            "needs_background": "light"
          }
        }
      ]
    },
    {
      "cell_type": "markdown",
      "metadata": {
        "id": "f9dtKRKeKT5g"
      },
      "source": [
        "- **Analisis Plots** : Baik buku dengan genre fiction maupun non fiction jika dilihat dari user rating nya, paling banyak memiliki rata - rata user rating yang tinggi yaitu kisaran 4.6 sampai 4.8"
      ]
    },
    {
      "cell_type": "markdown",
      "metadata": {
        "id": "XzHMmSQtLbI1"
      },
      "source": [
        "**10) Analsis menggunakan Bloxplot Genre dengan User Rating yang diberikan oleh pembaca**"
      ]
    },
    {
      "cell_type": "code",
      "metadata": {
        "colab": {
          "base_uri": "https://localhost:8080/",
          "height": 296
        },
        "id": "VvHnfrlpiJhS",
        "outputId": "a5b7a37d-be94-44fa-b351-f627c2a229fc"
      },
      "source": [
        "sns.boxplot(x=\"User Rating\", y=\"Genre\", data=dt, hue = 'Genre') "
      ],
      "execution_count": null,
      "outputs": [
        {
          "output_type": "execute_result",
          "data": {
            "text/plain": [
              "<matplotlib.axes._subplots.AxesSubplot at 0x7f7c9a93dd30>"
            ]
          },
          "metadata": {
            "tags": []
          },
          "execution_count": 13
        },
        {
          "output_type": "display_data",
          "data": {
            "image/png": "[encoded data removed]",
            "text/plain": [
              "<Figure size 432x288 with 1 Axes>"
            ]
          },
          "metadata": {
            "tags": [],
            "needs_background": "light"
          }
        }
      ]
    },
    {
      "cell_type": "markdown",
      "metadata": {
        "id": "8XdIgUfdLwMr"
      },
      "source": [
        "- **Analisis Boxplot Genre Non Fiction** : \r\n",
        "1. Nilai minimal menunjukan angka User Rating 4.2\r\n",
        "2. Nilai Quartil terendah menunjukan angka User Rating 4.5\r\n",
        "3. Nilai Median menunjukan angka User Rating 4.6\r\n",
        "4. Nilai Quartil teratas menunjukan angka User Rating 4.7\r\n",
        "5. Nilai maksimal menunjukan angka User Rating 4.9\r\n",
        "6. Terdapat pencilan data angka User Rating 4.0 sampai 4.1\r\n",
        "\r\n",
        "- **Analisis Boxplot Genre Fiction** : \r\n",
        "1. Nilai minimal menunjukan angka User Rating 4.3\r\n",
        "2. Nilai Quartil terendah menunjukan angka User Rating 4.6\r\n",
        "3. Nilai Median menunjukan angka User Rating 4.7\r\n",
        "4. Nilai Quartil teratas menunjukan angka User Rating 4.8\r\n",
        "5. Nilai maksimal menunjukan angka User Rating 4.9\r\n",
        "6. Terdapat pencilan data angka User Rating 3.3 sampai 4.2\r\n",
        "\r\n",
        "- "
      ]
    },
    {
      "cell_type": "markdown",
      "metadata": {
        "id": "6-WxRg6tqmDo"
      },
      "source": [
        "**11) Analisis User Rating yang diberikan pembaca pada buku dengan genre nya.**"
      ]
    },
    {
      "cell_type": "code",
      "metadata": {
        "colab": {
          "base_uri": "https://localhost:8080/"
        },
        "id": "OkCyw-coTAys",
        "outputId": "c4ade554-fc55-49c3-9529-1ef133cbebad"
      },
      "source": [
        "print (dt)\n",
        "test= dt.groupby(['User Rating','Genre'])\n",
        "test.size()"
      ],
      "execution_count": null,
      "outputs": [
        {
          "output_type": "stream",
          "text": [
            "                                                  Name  ...        Genre\n",
            "0                        10-Day Green Smoothie Cleanse  ...  Non Fiction\n",
            "1                                    11/22/63: A Novel  ...      Fiction\n",
            "2              12 Rules for Life: An Antidote to Chaos  ...  Non Fiction\n",
            "3                               1984 (Signet Classics)  ...      Fiction\n",
            "4    5,000 Awesome Facts (About Everything!) (Natio...  ...  Non Fiction\n",
            "..                                                 ...  ...          ...\n",
            "545       Wrecking Ball (Diary of a Wimpy Kid Book 14)  ...      Fiction\n",
            "546  You Are a Badass: How to Stop Doubting Your Gr...  ...  Non Fiction\n",
            "547  You Are a Badass: How to Stop Doubting Your Gr...  ...  Non Fiction\n",
            "548  You Are a Badass: How to Stop Doubting Your Gr...  ...  Non Fiction\n",
            "549  You Are a Badass: How to Stop Doubting Your Gr...  ...  Non Fiction\n",
            "\n",
            "[550 rows x 7 columns]\n"
          ],
          "name": "stdout"
        },
        {
          "output_type": "execute_result",
          "data": {
            "text/plain": [
              "User Rating  Genre      \n",
              "3.3          Fiction         1\n",
              "3.6          Fiction         1\n",
              "3.8          Fiction         2\n",
              "3.9          Fiction         3\n",
              "4.0          Fiction         5\n",
              "             Non Fiction     9\n",
              "4.1          Fiction         4\n",
              "             Non Fiction     2\n",
              "4.2          Fiction         3\n",
              "             Non Fiction     5\n",
              "4.3          Fiction        11\n",
              "             Non Fiction    14\n",
              "4.4          Fiction        10\n",
              "             Non Fiction    28\n",
              "4.5          Fiction        18\n",
              "             Non Fiction    42\n",
              "4.6          Fiction        31\n",
              "             Non Fiction    74\n",
              "4.7          Fiction        34\n",
              "             Non Fiction    74\n",
              "4.8          Fiction        76\n",
              "             Non Fiction    51\n",
              "4.9          Fiction        41\n",
              "             Non Fiction    11\n",
              "dtype: int64"
            ]
          },
          "metadata": {
            "tags": []
          },
          "execution_count": 30
        }
      ]
    },
    {
      "cell_type": "markdown",
      "metadata": {
        "id": "yClMFtCIrDj4"
      },
      "source": [
        "**Analisis Frekuensi:**\n",
        "\n",
        " Buku dengan jumlah terbanyak dapat dilihat yaitu buku dengan genre fiction dengan rating 4.8"
      ]
    },
    {
      "cell_type": "markdown",
      "metadata": {
        "id": "XCVqCqKirXFd"
      },
      "source": [
        "**12) Analisis maping tentang jenis transaksi dengan quantity yang dianalisis dari User Rating**"
      ]
    },
    {
      "cell_type": "code",
      "metadata": {
        "colab": {
          "base_uri": "https://localhost:8080/",
          "height": 397
        },
        "id": "9xB3qL8q_BsQ",
        "outputId": "fa92db3c-91a7-47f8-b802-cadc26aaca30"
      },
      "source": [
        "sp_pivot = dt.pivot_table(index='Genre', columns='Year', values='User Rating')\n",
        "\n",
        "print(sp_pivot)\n",
        "\n",
        "sns.heatmap(sp_pivot, annot=True, cmap='coolwarm')\n",
        "\n",
        "plt.show()"
      ],
      "execution_count": null,
      "outputs": [
        {
          "output_type": "stream",
          "text": [
            "Year             2009   2010      2011  ...      2017      2018      2019\n",
            "Genre                                   ...                              \n",
            "Fiction      4.591667  4.615  4.619048  ...  4.737500  4.738095  4.820000\n",
            "Non Fiction  4.576923  4.520  4.513793  ...  4.588462  4.617241  4.686667\n",
            "\n",
            "[2 rows x 11 columns]\n"
          ],
          "name": "stdout"
        },
        {
          "output_type": "display_data",
          "data": {
            "image/png": "[encoded data removed]",
            "text/plain": [
              "<Figure size 432x288 with 2 Axes>"
            ]
          },
          "metadata": {
            "tags": [],
            "needs_background": "light"
          }
        }
      ]
    },
    {
      "cell_type": "markdown",
      "metadata": {
        "id": "wNgD7leKP7z-"
      },
      "source": [
        "- **Analisis Mapping**: Dibagi antara beberapa kelompok berdasarkan genre buku dapat dilihat dari tahun terbit dan user rating.\r\n",
        "\r\n",
        "- Dilihat dari mapping yang sudah dibuat bahwa Rating tertinggi adalah 4,8 dengan buku bergenre fiction yang terbit pada tahun 2019, dan rating terendah buku dengan genre non fiction terbit pada tahun 2010 - 2011"
      ]
    },
    {
      "cell_type": "markdown",
      "metadata": {
        "id": "5lvoZImg9ApC"
      },
      "source": [
        "**5. PEMODELAN DATA**"
      ]
    },
    {
      "cell_type": "markdown",
      "metadata": {
        "id": "LO_-mL3TQMQq"
      },
      "source": [
        "**1) Import library yang digunakan**"
      ]
    },
    {
      "cell_type": "code",
      "metadata": {
        "id": "KiD2C1Pub2Ux"
      },
      "source": [
        "from sklearn.cluster import KMeans\n",
        "import numpy as np\n",
        "from sklearn.preprocessing import MinMaxScaler\n",
        "import math"
      ],
      "execution_count": null,
      "outputs": []
    },
    {
      "cell_type": "markdown",
      "metadata": {
        "id": "6V3NBgTOQdqk"
      },
      "source": [
        "**2) Kelompokkan data berdasarkan acuan Author**"
      ]
    },
    {
      "cell_type": "code",
      "metadata": {
        "colab": {
          "base_uri": "https://localhost:8080/",
          "height": 688
        },
        "id": "ZlEwwWM-lvvL",
        "outputId": "61569c8a-231a-46a8-df00-b33af62aab04"
      },
      "source": [
        "test= dt.groupby(['Author'])\r\n",
        "test.describe()"
      ],
      "execution_count": null,
      "outputs": [
        {
          "output_type": "execute_result",
          "data": {
            "text/html": [
              "<div>\n",
              "<style scoped>\n",
              "    .dataframe tbody tr th:only-of-type {\n",
              "        vertical-align: middle;\n",
              "    }\n",
              "\n",
              "    .dataframe tbody tr th {\n",
              "        vertical-align: top;\n",
              "    }\n",
              "\n",
              "    .dataframe thead tr th {\n",
              "        text-align: left;\n",
              "    }\n",
              "\n",
              "    .dataframe thead tr:last-of-type th {\n",
              "        text-align: right;\n",
              "    }\n",
              "</style>\n",
              "<table border=\"1\" class=\"dataframe\">\n",
              "  <thead>\n",
              "    <tr>\n",
              "      <th></th>\n",
              "      <th colspan=\"8\" halign=\"left\">User Rating</th>\n",
              "      <th colspan=\"8\" halign=\"left\">Reviews</th>\n",
              "      <th colspan=\"8\" halign=\"left\">Price</th>\n",
              "      <th colspan=\"8\" halign=\"left\">Year</th>\n",
              "    </tr>\n",
              "    <tr>\n",
              "      <th></th>\n",
              "      <th>count</th>\n",
              "      <th>mean</th>\n",
              "      <th>std</th>\n",
              "      <th>min</th>\n",
              "      <th>25%</th>\n",
              "      <th>50%</th>\n",
              "      <th>75%</th>\n",
              "      <th>max</th>\n",
              "      <th>count</th>\n",
              "      <th>mean</th>\n",
              "      <th>std</th>\n",
              "      <th>min</th>\n",
              "      <th>25%</th>\n",
              "      <th>50%</th>\n",
              "      <th>75%</th>\n",
              "      <th>max</th>\n",
              "      <th>count</th>\n",
              "      <th>mean</th>\n",
              "      <th>std</th>\n",
              "      <th>min</th>\n",
              "      <th>25%</th>\n",
              "      <th>50%</th>\n",
              "      <th>75%</th>\n",
              "      <th>max</th>\n",
              "      <th>count</th>\n",
              "      <th>mean</th>\n",
              "      <th>std</th>\n",
              "      <th>min</th>\n",
              "      <th>25%</th>\n",
              "      <th>50%</th>\n",
              "      <th>75%</th>\n",
              "      <th>max</th>\n",
              "    </tr>\n",
              "    <tr>\n",
              "      <th>Author</th>\n",
              "      <th></th>\n",
              "      <th></th>\n",
              "      <th></th>\n",
              "      <th></th>\n",
              "      <th></th>\n",
              "      <th></th>\n",
              "      <th></th>\n",
              "      <th></th>\n",
              "      <th></th>\n",
              "      <th></th>\n",
              "      <th></th>\n",
              "      <th></th>\n",
              "      <th></th>\n",
              "      <th></th>\n",
              "      <th></th>\n",
              "      <th></th>\n",
              "      <th></th>\n",
              "      <th></th>\n",
              "      <th></th>\n",
              "      <th></th>\n",
              "      <th></th>\n",
              "      <th></th>\n",
              "      <th></th>\n",
              "      <th></th>\n",
              "      <th></th>\n",
              "      <th></th>\n",
              "      <th></th>\n",
              "      <th></th>\n",
              "      <th></th>\n",
              "      <th></th>\n",
              "      <th></th>\n",
              "      <th></th>\n",
              "    </tr>\n",
              "  </thead>\n",
              "  <tbody>\n",
              "    <tr>\n",
              "      <th>Abraham Verghese</th>\n",
              "      <td>2.0</td>\n",
              "      <td>4.600000</td>\n",
              "      <td>0.000000</td>\n",
              "      <td>4.6</td>\n",
              "      <td>4.60</td>\n",
              "      <td>4.6</td>\n",
              "      <td>4.6</td>\n",
              "      <td>4.6</td>\n",
              "      <td>2.0</td>\n",
              "      <td>4866.000000</td>\n",
              "      <td>0.000000</td>\n",
              "      <td>4866.0</td>\n",
              "      <td>4866.00</td>\n",
              "      <td>4866.0</td>\n",
              "      <td>4866.00</td>\n",
              "      <td>4866.0</td>\n",
              "      <td>2.0</td>\n",
              "      <td>11.000000</td>\n",
              "      <td>0.000000</td>\n",
              "      <td>11.0</td>\n",
              "      <td>11.00</td>\n",
              "      <td>11.0</td>\n",
              "      <td>11.00</td>\n",
              "      <td>11.0</td>\n",
              "      <td>2.0</td>\n",
              "      <td>2010.500000</td>\n",
              "      <td>0.707107</td>\n",
              "      <td>2010.0</td>\n",
              "      <td>2010.25</td>\n",
              "      <td>2010.5</td>\n",
              "      <td>2010.75</td>\n",
              "      <td>2011.0</td>\n",
              "    </tr>\n",
              "    <tr>\n",
              "      <th>Adam Gasiewski</th>\n",
              "      <td>1.0</td>\n",
              "      <td>4.400000</td>\n",
              "      <td>NaN</td>\n",
              "      <td>4.4</td>\n",
              "      <td>4.40</td>\n",
              "      <td>4.4</td>\n",
              "      <td>4.4</td>\n",
              "      <td>4.4</td>\n",
              "      <td>1.0</td>\n",
              "      <td>3113.000000</td>\n",
              "      <td>NaN</td>\n",
              "      <td>3113.0</td>\n",
              "      <td>3113.00</td>\n",
              "      <td>3113.0</td>\n",
              "      <td>3113.00</td>\n",
              "      <td>3113.0</td>\n",
              "      <td>1.0</td>\n",
              "      <td>6.000000</td>\n",
              "      <td>NaN</td>\n",
              "      <td>6.0</td>\n",
              "      <td>6.00</td>\n",
              "      <td>6.0</td>\n",
              "      <td>6.00</td>\n",
              "      <td>6.0</td>\n",
              "      <td>1.0</td>\n",
              "      <td>2017.000000</td>\n",
              "      <td>NaN</td>\n",
              "      <td>2017.0</td>\n",
              "      <td>2017.00</td>\n",
              "      <td>2017.0</td>\n",
              "      <td>2017.00</td>\n",
              "      <td>2017.0</td>\n",
              "    </tr>\n",
              "    <tr>\n",
              "      <th>Adam Mansbach</th>\n",
              "      <td>1.0</td>\n",
              "      <td>4.800000</td>\n",
              "      <td>NaN</td>\n",
              "      <td>4.8</td>\n",
              "      <td>4.80</td>\n",
              "      <td>4.8</td>\n",
              "      <td>4.8</td>\n",
              "      <td>4.8</td>\n",
              "      <td>1.0</td>\n",
              "      <td>9568.000000</td>\n",
              "      <td>NaN</td>\n",
              "      <td>9568.0</td>\n",
              "      <td>9568.00</td>\n",
              "      <td>9568.0</td>\n",
              "      <td>9568.00</td>\n",
              "      <td>9568.0</td>\n",
              "      <td>1.0</td>\n",
              "      <td>9.000000</td>\n",
              "      <td>NaN</td>\n",
              "      <td>9.0</td>\n",
              "      <td>9.00</td>\n",
              "      <td>9.0</td>\n",
              "      <td>9.00</td>\n",
              "      <td>9.0</td>\n",
              "      <td>1.0</td>\n",
              "      <td>2011.000000</td>\n",
              "      <td>NaN</td>\n",
              "      <td>2011.0</td>\n",
              "      <td>2011.00</td>\n",
              "      <td>2011.0</td>\n",
              "      <td>2011.00</td>\n",
              "      <td>2011.0</td>\n",
              "    </tr>\n",
              "    <tr>\n",
              "      <th>Adir Levy</th>\n",
              "      <td>1.0</td>\n",
              "      <td>4.800000</td>\n",
              "      <td>NaN</td>\n",
              "      <td>4.8</td>\n",
              "      <td>4.80</td>\n",
              "      <td>4.8</td>\n",
              "      <td>4.8</td>\n",
              "      <td>4.8</td>\n",
              "      <td>1.0</td>\n",
              "      <td>8170.000000</td>\n",
              "      <td>NaN</td>\n",
              "      <td>8170.0</td>\n",
              "      <td>8170.00</td>\n",
              "      <td>8170.0</td>\n",
              "      <td>8170.00</td>\n",
              "      <td>8170.0</td>\n",
              "      <td>1.0</td>\n",
              "      <td>13.000000</td>\n",
              "      <td>NaN</td>\n",
              "      <td>13.0</td>\n",
              "      <td>13.00</td>\n",
              "      <td>13.0</td>\n",
              "      <td>13.00</td>\n",
              "      <td>13.0</td>\n",
              "      <td>1.0</td>\n",
              "      <td>2019.000000</td>\n",
              "      <td>NaN</td>\n",
              "      <td>2019.0</td>\n",
              "      <td>2019.00</td>\n",
              "      <td>2019.0</td>\n",
              "      <td>2019.00</td>\n",
              "      <td>2019.0</td>\n",
              "    </tr>\n",
              "    <tr>\n",
              "      <th>Admiral William H. McRaven</th>\n",
              "      <td>1.0</td>\n",
              "      <td>4.700000</td>\n",
              "      <td>NaN</td>\n",
              "      <td>4.7</td>\n",
              "      <td>4.70</td>\n",
              "      <td>4.7</td>\n",
              "      <td>4.7</td>\n",
              "      <td>4.7</td>\n",
              "      <td>1.0</td>\n",
              "      <td>10199.000000</td>\n",
              "      <td>NaN</td>\n",
              "      <td>10199.0</td>\n",
              "      <td>10199.00</td>\n",
              "      <td>10199.0</td>\n",
              "      <td>10199.00</td>\n",
              "      <td>10199.0</td>\n",
              "      <td>1.0</td>\n",
              "      <td>11.000000</td>\n",
              "      <td>NaN</td>\n",
              "      <td>11.0</td>\n",
              "      <td>11.00</td>\n",
              "      <td>11.0</td>\n",
              "      <td>11.00</td>\n",
              "      <td>11.0</td>\n",
              "      <td>1.0</td>\n",
              "      <td>2017.000000</td>\n",
              "      <td>NaN</td>\n",
              "      <td>2017.0</td>\n",
              "      <td>2017.00</td>\n",
              "      <td>2017.0</td>\n",
              "      <td>2017.00</td>\n",
              "      <td>2017.0</td>\n",
              "    </tr>\n",
              "    <tr>\n",
              "      <th>...</th>\n",
              "      <td>...</td>\n",
              "      <td>...</td>\n",
              "      <td>...</td>\n",
              "      <td>...</td>\n",
              "      <td>...</td>\n",
              "      <td>...</td>\n",
              "      <td>...</td>\n",
              "      <td>...</td>\n",
              "      <td>...</td>\n",
              "      <td>...</td>\n",
              "      <td>...</td>\n",
              "      <td>...</td>\n",
              "      <td>...</td>\n",
              "      <td>...</td>\n",
              "      <td>...</td>\n",
              "      <td>...</td>\n",
              "      <td>...</td>\n",
              "      <td>...</td>\n",
              "      <td>...</td>\n",
              "      <td>...</td>\n",
              "      <td>...</td>\n",
              "      <td>...</td>\n",
              "      <td>...</td>\n",
              "      <td>...</td>\n",
              "      <td>...</td>\n",
              "      <td>...</td>\n",
              "      <td>...</td>\n",
              "      <td>...</td>\n",
              "      <td>...</td>\n",
              "      <td>...</td>\n",
              "      <td>...</td>\n",
              "      <td>...</td>\n",
              "    </tr>\n",
              "    <tr>\n",
              "      <th>Walter Isaacson</th>\n",
              "      <td>3.0</td>\n",
              "      <td>4.566667</td>\n",
              "      <td>0.057735</td>\n",
              "      <td>4.5</td>\n",
              "      <td>4.55</td>\n",
              "      <td>4.6</td>\n",
              "      <td>4.6</td>\n",
              "      <td>4.6</td>\n",
              "      <td>3.0</td>\n",
              "      <td>6222.666667</td>\n",
              "      <td>2778.786846</td>\n",
              "      <td>3014.0</td>\n",
              "      <td>5420.50</td>\n",
              "      <td>7827.0</td>\n",
              "      <td>7827.00</td>\n",
              "      <td>7827.0</td>\n",
              "      <td>3.0</td>\n",
              "      <td>20.333333</td>\n",
              "      <td>0.577350</td>\n",
              "      <td>20.0</td>\n",
              "      <td>20.00</td>\n",
              "      <td>20.0</td>\n",
              "      <td>20.50</td>\n",
              "      <td>21.0</td>\n",
              "      <td>3.0</td>\n",
              "      <td>2013.333333</td>\n",
              "      <td>3.214550</td>\n",
              "      <td>2011.0</td>\n",
              "      <td>2011.50</td>\n",
              "      <td>2012.0</td>\n",
              "      <td>2014.50</td>\n",
              "      <td>2017.0</td>\n",
              "    </tr>\n",
              "    <tr>\n",
              "      <th>William Davis</th>\n",
              "      <td>2.0</td>\n",
              "      <td>4.400000</td>\n",
              "      <td>0.000000</td>\n",
              "      <td>4.4</td>\n",
              "      <td>4.40</td>\n",
              "      <td>4.4</td>\n",
              "      <td>4.4</td>\n",
              "      <td>4.4</td>\n",
              "      <td>2.0</td>\n",
              "      <td>7497.000000</td>\n",
              "      <td>0.000000</td>\n",
              "      <td>7497.0</td>\n",
              "      <td>7497.00</td>\n",
              "      <td>7497.0</td>\n",
              "      <td>7497.00</td>\n",
              "      <td>7497.0</td>\n",
              "      <td>2.0</td>\n",
              "      <td>6.000000</td>\n",
              "      <td>0.000000</td>\n",
              "      <td>6.0</td>\n",
              "      <td>6.00</td>\n",
              "      <td>6.0</td>\n",
              "      <td>6.00</td>\n",
              "      <td>6.0</td>\n",
              "      <td>2.0</td>\n",
              "      <td>2012.500000</td>\n",
              "      <td>0.707107</td>\n",
              "      <td>2012.0</td>\n",
              "      <td>2012.25</td>\n",
              "      <td>2012.5</td>\n",
              "      <td>2012.75</td>\n",
              "      <td>2013.0</td>\n",
              "    </tr>\n",
              "    <tr>\n",
              "      <th>William P. Young</th>\n",
              "      <td>2.0</td>\n",
              "      <td>4.600000</td>\n",
              "      <td>0.000000</td>\n",
              "      <td>4.6</td>\n",
              "      <td>4.60</td>\n",
              "      <td>4.6</td>\n",
              "      <td>4.6</td>\n",
              "      <td>4.6</td>\n",
              "      <td>2.0</td>\n",
              "      <td>19720.000000</td>\n",
              "      <td>0.000000</td>\n",
              "      <td>19720.0</td>\n",
              "      <td>19720.00</td>\n",
              "      <td>19720.0</td>\n",
              "      <td>19720.00</td>\n",
              "      <td>19720.0</td>\n",
              "      <td>2.0</td>\n",
              "      <td>8.000000</td>\n",
              "      <td>0.000000</td>\n",
              "      <td>8.0</td>\n",
              "      <td>8.00</td>\n",
              "      <td>8.0</td>\n",
              "      <td>8.00</td>\n",
              "      <td>8.0</td>\n",
              "      <td>2.0</td>\n",
              "      <td>2013.000000</td>\n",
              "      <td>5.656854</td>\n",
              "      <td>2009.0</td>\n",
              "      <td>2011.00</td>\n",
              "      <td>2013.0</td>\n",
              "      <td>2015.00</td>\n",
              "      <td>2017.0</td>\n",
              "    </tr>\n",
              "    <tr>\n",
              "      <th>Wizards RPG Team</th>\n",
              "      <td>3.0</td>\n",
              "      <td>4.800000</td>\n",
              "      <td>0.000000</td>\n",
              "      <td>4.8</td>\n",
              "      <td>4.80</td>\n",
              "      <td>4.8</td>\n",
              "      <td>4.8</td>\n",
              "      <td>4.8</td>\n",
              "      <td>3.0</td>\n",
              "      <td>16990.000000</td>\n",
              "      <td>0.000000</td>\n",
              "      <td>16990.0</td>\n",
              "      <td>16990.00</td>\n",
              "      <td>16990.0</td>\n",
              "      <td>16990.00</td>\n",
              "      <td>16990.0</td>\n",
              "      <td>3.0</td>\n",
              "      <td>27.000000</td>\n",
              "      <td>0.000000</td>\n",
              "      <td>27.0</td>\n",
              "      <td>27.00</td>\n",
              "      <td>27.0</td>\n",
              "      <td>27.00</td>\n",
              "      <td>27.0</td>\n",
              "      <td>3.0</td>\n",
              "      <td>2018.000000</td>\n",
              "      <td>1.000000</td>\n",
              "      <td>2017.0</td>\n",
              "      <td>2017.50</td>\n",
              "      <td>2018.0</td>\n",
              "      <td>2018.50</td>\n",
              "      <td>2019.0</td>\n",
              "    </tr>\n",
              "    <tr>\n",
              "      <th>Zhi Gang Sha</th>\n",
              "      <td>2.0</td>\n",
              "      <td>4.600000</td>\n",
              "      <td>0.000000</td>\n",
              "      <td>4.6</td>\n",
              "      <td>4.60</td>\n",
              "      <td>4.6</td>\n",
              "      <td>4.6</td>\n",
              "      <td>4.6</td>\n",
              "      <td>2.0</td>\n",
              "      <td>128.500000</td>\n",
              "      <td>129.400541</td>\n",
              "      <td>37.0</td>\n",
              "      <td>82.75</td>\n",
              "      <td>128.5</td>\n",
              "      <td>174.25</td>\n",
              "      <td>220.0</td>\n",
              "      <td>2.0</td>\n",
              "      <td>11.500000</td>\n",
              "      <td>7.778175</td>\n",
              "      <td>6.0</td>\n",
              "      <td>8.75</td>\n",
              "      <td>11.5</td>\n",
              "      <td>14.25</td>\n",
              "      <td>17.0</td>\n",
              "      <td>2.0</td>\n",
              "      <td>2011.000000</td>\n",
              "      <td>2.828427</td>\n",
              "      <td>2009.0</td>\n",
              "      <td>2010.00</td>\n",
              "      <td>2011.0</td>\n",
              "      <td>2012.00</td>\n",
              "      <td>2013.0</td>\n",
              "    </tr>\n",
              "  </tbody>\n",
              "</table>\n",
              "<p>248 rows × 32 columns</p>\n",
              "</div>"
            ],
            "text/plain": [
              "                           User Rating            ...     Year        \n",
              "                                 count      mean  ...      75%     max\n",
              "Author                                            ...                 \n",
              "Abraham Verghese                   2.0  4.600000  ...  2010.75  2011.0\n",
              "Adam Gasiewski                     1.0  4.400000  ...  2017.00  2017.0\n",
              "Adam Mansbach                      1.0  4.800000  ...  2011.00  2011.0\n",
              "Adir Levy                          1.0  4.800000  ...  2019.00  2019.0\n",
              "Admiral William H. McRaven         1.0  4.700000  ...  2017.00  2017.0\n",
              "...                                ...       ...  ...      ...     ...\n",
              "Walter Isaacson                    3.0  4.566667  ...  2014.50  2017.0\n",
              "William Davis                      2.0  4.400000  ...  2012.75  2013.0\n",
              "William P. Young                   2.0  4.600000  ...  2015.00  2017.0\n",
              "Wizards RPG Team                   3.0  4.800000  ...  2018.50  2019.0\n",
              "Zhi Gang Sha                       2.0  4.600000  ...  2012.00  2013.0\n",
              "\n",
              "[248 rows x 32 columns]"
            ]
          },
          "metadata": {
            "tags": []
          },
          "execution_count": 15
        }
      ]
    },
    {
      "cell_type": "markdown",
      "metadata": {
        "id": "mVuQlVhxQ7In"
      },
      "source": [
        "- **Analisis Pengelompokan** : Dapat dilihat dari semua data buku yang dikelompokkan berdasarkan Author dijabarkan setiap count, mean, std (standart deviation), min, quartil bawah (25%), median (50%), quartil atas (75%), dan max dari setiap kolom data yiatu, User Rating, Reviews, Price, dan Year."
      ]
    },
    {
      "cell_type": "markdown",
      "metadata": {
        "id": "YgmASv131jX5"
      },
      "source": [
        "**3) Pengelompokkan indeks integer untuk pemilihan berdasarkan kolom 3 sampai 5.**"
      ]
    },
    {
      "cell_type": "code",
      "metadata": {
        "colab": {
          "base_uri": "https://localhost:8080/",
          "height": 204
        },
        "id": "l5pRMhCxmVqQ",
        "outputId": "6765d16e-5b28-4426-c3e8-4de3fee92284"
      },
      "source": [
        "dt_x = dt.iloc[:, 3:5]\r\n",
        "dt_x.head()"
      ],
      "execution_count": null,
      "outputs": [
        {
          "output_type": "execute_result",
          "data": {
            "text/html": [
              "<div>\n",
              "<style scoped>\n",
              "    .dataframe tbody tr th:only-of-type {\n",
              "        vertical-align: middle;\n",
              "    }\n",
              "\n",
              "    .dataframe tbody tr th {\n",
              "        vertical-align: top;\n",
              "    }\n",
              "\n",
              "    .dataframe thead th {\n",
              "        text-align: right;\n",
              "    }\n",
              "</style>\n",
              "<table border=\"1\" class=\"dataframe\">\n",
              "  <thead>\n",
              "    <tr style=\"text-align: right;\">\n",
              "      <th></th>\n",
              "      <th>Reviews</th>\n",
              "      <th>Price</th>\n",
              "    </tr>\n",
              "  </thead>\n",
              "  <tbody>\n",
              "    <tr>\n",
              "      <th>0</th>\n",
              "      <td>17350</td>\n",
              "      <td>8</td>\n",
              "    </tr>\n",
              "    <tr>\n",
              "      <th>1</th>\n",
              "      <td>2052</td>\n",
              "      <td>22</td>\n",
              "    </tr>\n",
              "    <tr>\n",
              "      <th>2</th>\n",
              "      <td>18979</td>\n",
              "      <td>15</td>\n",
              "    </tr>\n",
              "    <tr>\n",
              "      <th>3</th>\n",
              "      <td>21424</td>\n",
              "      <td>6</td>\n",
              "    </tr>\n",
              "    <tr>\n",
              "      <th>4</th>\n",
              "      <td>7665</td>\n",
              "      <td>12</td>\n",
              "    </tr>\n",
              "  </tbody>\n",
              "</table>\n",
              "</div>"
            ],
            "text/plain": [
              "   Reviews  Price\n",
              "0    17350      8\n",
              "1     2052     22\n",
              "2    18979     15\n",
              "3    21424      6\n",
              "4     7665     12"
            ]
          },
          "metadata": {
            "tags": []
          },
          "execution_count": 17
        }
      ]
    },
    {
      "cell_type": "markdown",
      "metadata": {
        "id": "RdUhX9Cx14YC"
      },
      "source": [
        "- **Analisis** : Kolom yang muncul yaitu Reviews dan Price karena kolom tersebut memiliki nilai integer."
      ]
    },
    {
      "cell_type": "markdown",
      "metadata": {
        "id": "xDYwdRT62Mdu"
      },
      "source": [
        "**4) Pengelompokan menggunakan metode Elbow.**"
      ]
    },
    {
      "cell_type": "code",
      "metadata": {
        "colab": {
          "base_uri": "https://localhost:8080/",
          "height": 295
        },
        "id": "_oyi8BbBfBqo",
        "outputId": "3713c544-4329-45de-d8d5-61e0241d46a1"
      },
      "source": [
        "# Menggunakan metode elbow untuk menentukan angka cluster yang tepat\n",
        "wcss = []\n",
        "for i in range(1, 11):\n",
        "    kmeans = KMeans(n_clusters = i, init = 'k-means++', random_state = 42)\n",
        "    kmeans.fit(dt_x)\n",
        "    wcss.append(kmeans.inertia_)\n",
        "plt.plot(range(1, 11), wcss)\n",
        "plt.title('Metode Elbow')\n",
        "plt.xlabel('Jumlah clusters')\n",
        "plt.ylabel('WCSS')\n",
        "plt.show()"
      ],
      "execution_count": null,
      "outputs": [
        {
          "output_type": "display_data",
          "data": {
            "image/png": "[encoded data removed]",
            "text/plain": [
              "<Figure size 432x288 with 1 Axes>"
            ]
          },
          "metadata": {
            "tags": [],
            "needs_background": "light"
          }
        }
      ]
    },
    {
      "cell_type": "markdown",
      "metadata": {
        "id": "KoQYE8YV3k9a"
      },
      "source": [
        "- **Analisis** : Pengelompokan menggunakan metode Elbow untuk mengetahui jumlah cluster yang optimal. Untuk mendapatkan nilai yang digunakan dalam grafik, beberapa model menggunakan jumlah cluster yang berbeda dan menyimpan nilai intertia_properti (WCSS) setiap saat.\r\n",
        "\r\n",
        "- WCSS didefinisikan sebagai jumlah jarak kuadrat antara setiap anggota cluster dan pusatnya.\r\n",
        "\r\n",
        "- Elbow yang di temukan pada titik (x,y) = (1,3)"
      ]
    },
    {
      "cell_type": "markdown",
      "metadata": {
        "id": "x_iRgohP4gkS"
      },
      "source": [
        "**5) Pengelompokkan menggunakan KMeans Clustering**"
      ]
    },
    {
      "cell_type": "code",
      "metadata": {
        "id": "MGRvaIuAf3j1"
      },
      "source": [
        "# Menjalankan K-Means Clustering ke dataset\n",
        "kmeans = KMeans(n_clusters = 5, init = 'k-means++', random_state = 42)\n",
        "y_kmeans = kmeans.fit_predict(dt_x)"
      ],
      "execution_count": null,
      "outputs": []
    },
    {
      "cell_type": "code",
      "metadata": {
        "colab": {
          "base_uri": "https://localhost:8080/"
        },
        "id": "NdzWh1ihgFZ2",
        "outputId": "c11613fc-882c-424e-e027-16b688086bdb"
      },
      "source": [
        "print(kmeans.cluster_centers_)"
      ],
      "execution_count": null,
      "outputs": [
        {
          "output_type": "stream",
          "text": [
            "[[4.08195865e+03 1.40639098e+01]\n",
            " [5.20408571e+04 1.11428571e+01]\n",
            " [2.42725135e+04 1.01351351e+01]\n",
            " [1.16599359e+04 1.37371795e+01]\n",
            " [8.22443333e+04 1.33333333e+01]]\n"
          ],
          "name": "stdout"
        }
      ]
    },
    {
      "cell_type": "markdown",
      "metadata": {
        "id": "XRSyqwhO5GoL"
      },
      "source": [
        "- **Analisis** : Prediksi yang didapatkan dari pengelompokan jumlah data yaitu dari kolom Reviews dan Price. Membentuk matriks 2x2 dari pengelompokkan nilai tengah."
      ]
    },
    {
      "cell_type": "markdown",
      "metadata": {
        "id": "ruW8DeLz6PsN"
      },
      "source": [
        "**6) Pengelompokan berdasarkan Array**"
      ]
    },
    {
      "cell_type": "code",
      "metadata": {
        "colab": {
          "base_uri": "https://localhost:8080/"
        },
        "id": "WvOomJCKi1GN",
        "outputId": "131a0371-133e-4cae-9510-7a97ada73ece"
      },
      "source": [
        "x_array =  np.array(dt_x)\n",
        "print(x_array)"
      ],
      "execution_count": null,
      "outputs": [
        {
          "output_type": "stream",
          "text": [
            "[[17350     8]\n",
            " [ 2052    22]\n",
            " [18979    15]\n",
            " ...\n",
            " [14331     8]\n",
            " [14331     8]\n",
            " [14331     8]]\n"
          ],
          "name": "stdout"
        }
      ]
    },
    {
      "cell_type": "markdown",
      "metadata": {
        "id": "0Y5I8aap6a0E"
      },
      "source": [
        "- **Analisis** : Array yang didapatkan dari pengelompokan jumlah data yaitu dari kolom Review dan Price."
      ]
    },
    {
      "cell_type": "markdown",
      "metadata": {
        "id": "mvDmDPsMBGKl"
      },
      "source": [
        "**7) Mengelompokkan berdasarkan Skala**"
      ]
    },
    {
      "cell_type": "code",
      "metadata": {
        "colab": {
          "base_uri": "https://localhost:8080/"
        },
        "id": "AvXeoyY-jhK_",
        "outputId": "8ad15b17-ad21-41b6-df05-8a66222dccee"
      },
      "source": [
        "scaler = MinMaxScaler()\n",
        "x_scaled = scaler.fit_transform(x_array)\n",
        "x_scaled"
      ],
      "execution_count": null,
      "outputs": [
        {
          "output_type": "execute_result",
          "data": {
            "text/plain": [
              "array([[0.19717781, 0.07619048],\n",
              "       [0.02294884, 0.20952381],\n",
              "       [0.21573049, 0.14285714],\n",
              "       ...,\n",
              "       [0.16279441, 0.07619048],\n",
              "       [0.16279441, 0.07619048],\n",
              "       [0.16279441, 0.07619048]])"
            ]
          },
          "metadata": {
            "tags": []
          },
          "execution_count": 23
        }
      ]
    },
    {
      "cell_type": "markdown",
      "metadata": {
        "id": "sZrT3nZGBtER"
      },
      "source": [
        "- **Analisis** : Data ini menunjukan array dengan menggunakan penskalaan  mencakup ketahanan terhadap stdev yang sangat kecil dan mempertahankan entri nol dalam data renggang."
      ]
    },
    {
      "cell_type": "markdown",
      "metadata": {
        "id": "KGVkzlZ4GBHz"
      },
      "source": [
        "**8) Menyelesaikan masalah KMeans dengan menggunakan algoritma Lloyd atau Elkan.**"
      ]
    },
    {
      "cell_type": "code",
      "metadata": {
        "colab": {
          "base_uri": "https://localhost:8080/"
        },
        "id": "GoTU5Sz3jpJ5",
        "outputId": "1b4c75fe-6159-4147-b9b1-564dfdeaec3d"
      },
      "source": [
        "# Menentukan dan mengkonfigurasi fungsi kmeans\n",
        "kmeans = KMeans(n_clusters = 5, random_state=123)\n",
        "# Menentukan kluster dari data\n",
        "kmeans.fit(x_scaled)"
      ],
      "execution_count": null,
      "outputs": [
        {
          "output_type": "execute_result",
          "data": {
            "text/plain": [
              "KMeans(algorithm='auto', copy_x=True, init='k-means++', max_iter=300,\n",
              "       n_clusters=5, n_init=10, n_jobs=None, precompute_distances='auto',\n",
              "       random_state=123, tol=0.0001, verbose=0)"
            ]
          },
          "metadata": {
            "tags": []
          },
          "execution_count": 24
        }
      ]
    },
    {
      "cell_type": "markdown",
      "metadata": {
        "id": "69CErmXXGMEE"
      },
      "source": [
        "- **Analisis** : Inisialisasi dari penyelesaian masalah KMeans."
      ]
    },
    {
      "cell_type": "code",
      "metadata": {
        "colab": {
          "base_uri": "https://localhost:8080/"
        },
        "id": "oE3OmZWMjxVd",
        "outputId": "4c410dd1-a74d-4b4c-c77b-26ee851c314e"
      },
      "source": [
        "print(kmeans.cluster_centers_)"
      ],
      "execution_count": null,
      "outputs": [
        {
          "output_type": "stream",
          "text": [
            "[[0.26504461 0.09128205]\n",
            " [0.07675119 0.07552693]\n",
            " [0.06583091 0.49233954]\n",
            " [0.66572565 0.11130952]\n",
            " [0.06784088 0.18408064]]\n"
          ],
          "name": "stdout"
        }
      ]
    },
    {
      "cell_type": "markdown",
      "metadata": {
        "id": "eEyhoX9tHCkl"
      },
      "source": [
        "- **Analisis** : Print kembali setelah masalah diselesaiakn prediksi yang didapatkan dari pengelompokan jumlah data yaitu dari kolom Reviews dan Price. Membentuk matriks 2x2 dari pengelompokkan nilai tengah."
      ]
    },
    {
      "cell_type": "markdown",
      "metadata": {
        "id": "-PintCwiHaam"
      },
      "source": [
        "**9) Menampilkan hasil kluster**"
      ]
    },
    {
      "cell_type": "code",
      "metadata": {
        "colab": {
          "base_uri": "https://localhost:8080/",
          "height": 674
        },
        "id": "Z9VsNjNwj0jY",
        "outputId": "f5b9184c-ac58-476a-dc34-08533ae99633"
      },
      "source": [
        "# Menampilkan hasil kluster\n",
        "print (kmeans.labels_)\n",
        "# Menambahkan kolom \"kluster\" dalam data frame\n",
        "dt [\"kluster\"] = kmeans.labels_\n",
        "dt.head(999)"
      ],
      "execution_count": null,
      "outputs": [
        {
          "output_type": "stream",
          "text": [
            "[0 4 0 0 1 1 4 0 1 0 0 1 4 1 4 1 1 1 1 1 0 0 1 0 1 1 1 4 1 1 4 4 3 3 4 1 1\n",
            " 4 1 1 1 1 1 1 0 4 0 0 0 4 4 4 4 1 1 1 1 1 1 1 1 1 1 1 1 1 1 4 4 2 2 1 4 4\n",
            " 1 0 0 0 1 0 1 1 1 1 1 1 1 1 4 1 4 1 4 1 1 1 4 0 0 1 1 1 4 1 0 0 3 3 4 1 0\n",
            " 0 0 0 0 1 1 1 1 1 1 4 4 1 1 1 1 1 1 0 0 1 4 1 1 3 3 3 1 4 4 4 4 1 1 1 1 1\n",
            " 1 0 1 2 1 4 0 4 4 4 1 2 1 0 0 0 0 4 0 0 0 0 0 4 4 4 4 4 1 1 0 0 1 4 0 4 1\n",
            " 1 1 0 0 0 0 0 0 1 1 4 1 4 1 1 1 1 1 1 1 1 1 1 1 1 1 1 1 1 4 1 4 4 1 1 0 1\n",
            " 1 0 0 4 4 1 4 0 0 0 1 1 1 1 0 0 0 4 1 1 1 4 4 0 0 0 0 0 0 0 0 1 1 1 1 1 0\n",
            " 0 4 4 1 1 1 4 4 4 1 1 1 2 2 2 2 2 2 2 2 2 2 1 4 1 1 1 0 0 1 1 4 4 1 0 0 1\n",
            " 1 4 1 4 4 4 4 1 4 4 4 4 4 4 4 4 4 4 1 0 4 4 4 4 4 4 4 4 4 0 0 0 0 0 1 4 4\n",
            " 4 4 4 4 4 0 1 1 1 4 1 4 1 2 0 0 1 1 0 0 1 4 1 1 1 1 1 1 1 1 4 1 3 3 3 3 1\n",
            " 1 1 1 1 1 0 0 0 0 0 0 1 3 3 4 4 1 4 1 1 1 1 0 0 1 1 1 1 1 0 1 1 1 1 1 1 4\n",
            " 0 0 0 4 4 1 1 1 1 1 1 1 1 4 1 1 0 0 0 0 4 4 4 1 1 1 0 1 1 1 3 3 2 2 2 2 2\n",
            " 2 4 4 4 4 4 4 1 1 4 4 4 1 4 1 0 0 1 0 1 0 0 0 1 1 1 1 1 1 2 1 1 0 0 0 0 0\n",
            " 0 0 4 4 4 1 1 1 1 0 0 4 4 4 4 1 4 1 1 4 4 4 4 1 0 0 0 0 0 4 4 4 1 1 0 0 0\n",
            " 0 0 4 1 1 1 2 1 4 4 4 1 1 1 1 1 3 1 1 0 4 1 0 0 0 0 0 1 1 1 1 1]\n"
          ],
          "name": "stdout"
        },
        {
          "output_type": "execute_result",
          "data": {
            "text/html": [
              "<div>\n",
              "<style scoped>\n",
              "    .dataframe tbody tr th:only-of-type {\n",
              "        vertical-align: middle;\n",
              "    }\n",
              "\n",
              "    .dataframe tbody tr th {\n",
              "        vertical-align: top;\n",
              "    }\n",
              "\n",
              "    .dataframe thead th {\n",
              "        text-align: right;\n",
              "    }\n",
              "</style>\n",
              "<table border=\"1\" class=\"dataframe\">\n",
              "  <thead>\n",
              "    <tr style=\"text-align: right;\">\n",
              "      <th></th>\n",
              "      <th>Name</th>\n",
              "      <th>Author</th>\n",
              "      <th>User Rating</th>\n",
              "      <th>Reviews</th>\n",
              "      <th>Price</th>\n",
              "      <th>Year</th>\n",
              "      <th>Genre</th>\n",
              "      <th>kluster</th>\n",
              "    </tr>\n",
              "  </thead>\n",
              "  <tbody>\n",
              "    <tr>\n",
              "      <th>0</th>\n",
              "      <td>10-Day Green Smoothie Cleanse</td>\n",
              "      <td>JJ Smith</td>\n",
              "      <td>4.7</td>\n",
              "      <td>17350</td>\n",
              "      <td>8</td>\n",
              "      <td>2016</td>\n",
              "      <td>Non Fiction</td>\n",
              "      <td>0</td>\n",
              "    </tr>\n",
              "    <tr>\n",
              "      <th>1</th>\n",
              "      <td>11/22/63: A Novel</td>\n",
              "      <td>Stephen King</td>\n",
              "      <td>4.6</td>\n",
              "      <td>2052</td>\n",
              "      <td>22</td>\n",
              "      <td>2011</td>\n",
              "      <td>Fiction</td>\n",
              "      <td>4</td>\n",
              "    </tr>\n",
              "    <tr>\n",
              "      <th>2</th>\n",
              "      <td>12 Rules for Life: An Antidote to Chaos</td>\n",
              "      <td>Jordan B. Peterson</td>\n",
              "      <td>4.7</td>\n",
              "      <td>18979</td>\n",
              "      <td>15</td>\n",
              "      <td>2018</td>\n",
              "      <td>Non Fiction</td>\n",
              "      <td>0</td>\n",
              "    </tr>\n",
              "    <tr>\n",
              "      <th>3</th>\n",
              "      <td>1984 (Signet Classics)</td>\n",
              "      <td>George Orwell</td>\n",
              "      <td>4.7</td>\n",
              "      <td>21424</td>\n",
              "      <td>6</td>\n",
              "      <td>2017</td>\n",
              "      <td>Fiction</td>\n",
              "      <td>0</td>\n",
              "    </tr>\n",
              "    <tr>\n",
              "      <th>4</th>\n",
              "      <td>5,000 Awesome Facts (About Everything!) (Natio...</td>\n",
              "      <td>National Geographic Kids</td>\n",
              "      <td>4.8</td>\n",
              "      <td>7665</td>\n",
              "      <td>12</td>\n",
              "      <td>2019</td>\n",
              "      <td>Non Fiction</td>\n",
              "      <td>1</td>\n",
              "    </tr>\n",
              "    <tr>\n",
              "      <th>...</th>\n",
              "      <td>...</td>\n",
              "      <td>...</td>\n",
              "      <td>...</td>\n",
              "      <td>...</td>\n",
              "      <td>...</td>\n",
              "      <td>...</td>\n",
              "      <td>...</td>\n",
              "      <td>...</td>\n",
              "    </tr>\n",
              "    <tr>\n",
              "      <th>545</th>\n",
              "      <td>Wrecking Ball (Diary of a Wimpy Kid Book 14)</td>\n",
              "      <td>Jeff Kinney</td>\n",
              "      <td>4.9</td>\n",
              "      <td>9413</td>\n",
              "      <td>8</td>\n",
              "      <td>2019</td>\n",
              "      <td>Fiction</td>\n",
              "      <td>1</td>\n",
              "    </tr>\n",
              "    <tr>\n",
              "      <th>546</th>\n",
              "      <td>You Are a Badass: How to Stop Doubting Your Gr...</td>\n",
              "      <td>Jen Sincero</td>\n",
              "      <td>4.7</td>\n",
              "      <td>14331</td>\n",
              "      <td>8</td>\n",
              "      <td>2016</td>\n",
              "      <td>Non Fiction</td>\n",
              "      <td>1</td>\n",
              "    </tr>\n",
              "    <tr>\n",
              "      <th>547</th>\n",
              "      <td>You Are a Badass: How to Stop Doubting Your Gr...</td>\n",
              "      <td>Jen Sincero</td>\n",
              "      <td>4.7</td>\n",
              "      <td>14331</td>\n",
              "      <td>8</td>\n",
              "      <td>2017</td>\n",
              "      <td>Non Fiction</td>\n",
              "      <td>1</td>\n",
              "    </tr>\n",
              "    <tr>\n",
              "      <th>548</th>\n",
              "      <td>You Are a Badass: How to Stop Doubting Your Gr...</td>\n",
              "      <td>Jen Sincero</td>\n",
              "      <td>4.7</td>\n",
              "      <td>14331</td>\n",
              "      <td>8</td>\n",
              "      <td>2018</td>\n",
              "      <td>Non Fiction</td>\n",
              "      <td>1</td>\n",
              "    </tr>\n",
              "    <tr>\n",
              "      <th>549</th>\n",
              "      <td>You Are a Badass: How to Stop Doubting Your Gr...</td>\n",
              "      <td>Jen Sincero</td>\n",
              "      <td>4.7</td>\n",
              "      <td>14331</td>\n",
              "      <td>8</td>\n",
              "      <td>2019</td>\n",
              "      <td>Non Fiction</td>\n",
              "      <td>1</td>\n",
              "    </tr>\n",
              "  </tbody>\n",
              "</table>\n",
              "<p>550 rows × 8 columns</p>\n",
              "</div>"
            ],
            "text/plain": [
              "                                                  Name  ... kluster\n",
              "0                        10-Day Green Smoothie Cleanse  ...       0\n",
              "1                                    11/22/63: A Novel  ...       4\n",
              "2              12 Rules for Life: An Antidote to Chaos  ...       0\n",
              "3                               1984 (Signet Classics)  ...       0\n",
              "4    5,000 Awesome Facts (About Everything!) (Natio...  ...       1\n",
              "..                                                 ...  ...     ...\n",
              "545       Wrecking Ball (Diary of a Wimpy Kid Book 14)  ...       1\n",
              "546  You Are a Badass: How to Stop Doubting Your Gr...  ...       1\n",
              "547  You Are a Badass: How to Stop Doubting Your Gr...  ...       1\n",
              "548  You Are a Badass: How to Stop Doubting Your Gr...  ...       1\n",
              "549  You Are a Badass: How to Stop Doubting Your Gr...  ...       1\n",
              "\n",
              "[550 rows x 8 columns]"
            ]
          },
          "metadata": {
            "tags": []
          },
          "execution_count": 26
        }
      ]
    },
    {
      "cell_type": "markdown",
      "metadata": {
        "id": "A_qk_Ci4KOfT"
      },
      "source": [
        "- **Analisis** : Semua data ditampilkan dengan jumlah kluster yang sesuai dengan item-item yang ada."
      ]
    },
    {
      "cell_type": "markdown",
      "metadata": {
        "id": "W9et-4uEPRWA"
      },
      "source": [
        "**10) Hasil kluster dengan pengelompokan menggunakan diagram**"
      ]
    },
    {
      "cell_type": "code",
      "metadata": {
        "colab": {
          "base_uri": "https://localhost:8080/",
          "height": 312
        },
        "id": "1j7foFu3kHBt",
        "outputId": "7fed5d61-b3df-4365-e4db-7872099ee7b4"
      },
      "source": [
        "output = plt.scatter(x_scaled[:,0], \n",
        "x_scaled[:,1], s = 200, c = dt.kluster, marker = \".\", alpha = 1,)\n",
        "centers = kmeans.cluster_centers_\n",
        "plt.scatter(centers[:,0], centers[:,1], c='red', s=100, alpha=1 , marker=\"s\");\n",
        "plt.title(\"Hasil Clustering K-Means\")\n",
        "plt.xlabel(\"Clustering X\")\n",
        "plt.ylabel(\"Clustering Y\")\n",
        "plt.colorbar (output)\n",
        "plt.legend()\n",
        "plt.show()"
      ],
      "execution_count": null,
      "outputs": [
        {
          "output_type": "stream",
          "text": [
            "No handles with labels found to put in legend.\n"
          ],
          "name": "stderr"
        },
        {
          "output_type": "display_data",
          "data": {
            "image/png": "[encoded data removed]",
            "text/plain": [
              "<Figure size 432x288 with 2 Axes>"
            ]
          },
          "metadata": {
            "tags": [],
            "needs_background": "light"
          }
        }
      ]
    },
    {
      "cell_type": "markdown",
      "metadata": {
        "id": "hKnqYMVbSJZ5"
      },
      "source": [
        "- **Analisis** : Dilihat dari warna level diagram dengan range 0-4. Pengelompokan data dibagi menjadi 5 Clustering. Struktur clustering menggunakan metode partitional clustering yaitu data dikelompokkan ke dalam sejumlah cluster tanpa adanya struktur hirarki antara satu dengan yang lainnya."
      ]
    },
    {
      "cell_type": "markdown",
      "metadata": {
        "id": "STTkSsN1Kj58"
      },
      "source": [
        "> **ANALISIS PEMODELAN MENENTUKAN HIPOTESIS**\r\n",
        "\r\n"
      ]
    },
    {
      "cell_type": "markdown",
      "metadata": {
        "id": "BxKZ2wcrgKRH"
      },
      "source": [
        "**Dengan menggunakan Metode Pearson**"
      ]
    },
    {
      "cell_type": "code",
      "metadata": {
        "id": "gjGT1kSRzcdF"
      },
      "source": [
        "def mean(x):\r\n",
        "        return  sum(x)/len(x)"
      ],
      "execution_count": null,
      "outputs": []
    },
    {
      "cell_type": "code",
      "metadata": {
        "id": "1CImeQJZzfn6"
      },
      "source": [
        "def de_mean(data):\r\n",
        "# convert x by subtracting its mean ( so the result has mean 0)\r\n",
        "        x_bar = mean(data)\r\n",
        "        return [x_i - x_bar for x_i in data]"
      ],
      "execution_count": null,
      "outputs": []
    },
    {
      "cell_type": "code",
      "metadata": {
        "id": "qRe3U9OPzj1w"
      },
      "source": [
        "def sum_of_square(v):\r\n",
        "        return np.dot(v,v)"
      ],
      "execution_count": null,
      "outputs": []
    },
    {
      "cell_type": "code",
      "metadata": {
        "id": "Vt5smko4zpWi"
      },
      "source": [
        "def covariance(x,y):\r\n",
        "        n = len(x)\r\n",
        "        return np.dot(de_mean(x), de_mean(y)) / (n-1)"
      ],
      "execution_count": null,
      "outputs": []
    },
    {
      "cell_type": "code",
      "metadata": {
        "id": "RvFm8QLVztUj"
      },
      "source": [
        "def variance(data):\r\n",
        "        n = len(data)\r\n",
        "        deviations = de_mean(data)\r\n",
        "        return sum_of_square(deviations) / (n-1)"
      ],
      "execution_count": null,
      "outputs": []
    },
    {
      "cell_type": "code",
      "metadata": {
        "id": "7iu8z3Rez1gx"
      },
      "source": [
        "def correlation(x,y):\r\n",
        "        stdev_x = np.std(x)\r\n",
        "        stdev_y = np.std(y)\r\n",
        "        if stdev_x > 0 and stdev_y > 0:\r\n",
        "            return covariance(x,y) / stdev_x / stdev_y\r\n",
        "        else:\r\n",
        "            return 0"
      ],
      "execution_count": null,
      "outputs": []
    },
    {
      "cell_type": "code",
      "metadata": {
        "id": "qwC4nrkgz3QQ"
      },
      "source": [
        "up = dt['Reviews']\r\n",
        "qu = dt['Price']\r\n",
        "tot = dt['User Rating']"
      ],
      "execution_count": null,
      "outputs": []
    },
    {
      "cell_type": "code",
      "metadata": {
        "colab": {
          "base_uri": "https://localhost:8080/"
        },
        "id": "N1TdXxiC0Xnw",
        "outputId": "f38d7390-317f-476e-8fe6-73b6abb20c79"
      },
      "source": [
        "print('Korelasi antar kolom : ')\r\n",
        "print('Korelasi antara Reviews dan Price adalah ', correlation(up, qu))\r\n",
        "print('Korelasi antara Reviews dan User Rating adalah ', correlation(up, tot))\r\n",
        "print('Korelasi antara User Rating dan Price adalah ', correlation(qu, tot))\r\n",
        "\r\n",
        "print(' ')\r\n",
        "print('Kovarian antar kolom : ')\r\n",
        "print('Kovarian antara Reviews dan Price adalah ', covariance (up, qu))\r\n",
        "print('Kovarian antara Reviews dan User Rating adalah ', covariance (up, tot))\r\n",
        "print('Kovarian antara User Rating dan Price adalah ', covariance(qu, tot))\r\n",
        "\r\n"
      ],
      "execution_count": null,
      "outputs": [
        {
          "output_type": "stream",
          "text": [
            "Korelasi antar kolom : \n",
            "Korelasi antara Reviews dan Price adalah  -0.10938075753240933\n",
            "Korelasi antara Reviews dan User Rating adalah  -0.0017321636439935845\n",
            "Korelasi antara User Rating dan Price adalah  -0.13332870310470676\n",
            " \n",
            "Kovarian antar kolom : \n",
            "Kovarian antara Reviews dan Price adalah  -13887.06284153005\n",
            "Kovarian antara Reviews dan User Rating adalah  -4.6039095876800795\n",
            "Kovarian antara User Rating dan Price adalah  -0.3275227686703095\n"
          ],
          "name": "stdout"
        }
      ]
    },
    {
      "cell_type": "code",
      "metadata": {
        "colab": {
          "base_uri": "https://localhost:8080/",
          "height": 350
        },
        "id": "nRx2teqH6FgC",
        "outputId": "92cf08ce-0185-45da-e279-eddda364e477"
      },
      "source": [
        "plt.scatter(dt['Reviews'], dt['Price'])\r\n",
        "print('Korelasi antar kolom : ')\r\n",
        "print('Korelasi antara Reviews dan Price adalah ', correlation(up, qu))\r\n",
        "\r\n",
        "print(' ')\r\n",
        "print('Kovarian antar kolom : ')\r\n",
        "print('Kovarian antara Reviews dan Price adalah ', covariance (up, qu))"
      ],
      "execution_count": null,
      "outputs": [
        {
          "output_type": "stream",
          "text": [
            "Korelasi antar kolom : \n",
            "Korelasi antara Reviews dan Price adalah  -0.10938075753240933\n",
            " \n",
            "Kovarian antar kolom : \n",
            "Kovarian antara Reviews dan Price adalah  -13887.06284153005\n"
          ],
          "name": "stdout"
        },
        {
          "output_type": "display_data",
          "data": {
            "image/png": "[encoded data removed]",
            "text/plain": [
              "<Figure size 432x288 with 1 Axes>"
            ]
          },
          "metadata": {
            "tags": [],
            "needs_background": "light"
          }
        }
      ]
    },
    {
      "cell_type": "markdown",
      "metadata": {
        "id": "RgqFqJ8zgbDX"
      },
      "source": [
        "**Analisis** : Dari permodelan di atas, didapatkan prediksi korelasi antara Reviews dan Price adalah -0,1 dan prediksi kovarian adalah -13."
      ]
    },
    {
      "cell_type": "code",
      "metadata": {
        "colab": {
          "base_uri": "https://localhost:8080/",
          "height": 350
        },
        "id": "Ada01GJs6gOs",
        "outputId": "2fd12144-6637-40fb-e93f-ac7d526d7337"
      },
      "source": [
        "plt.scatter(dt['Reviews'], dt['User Rating'])\r\n",
        "print('Korelasi antar kolom : ')\r\n",
        "print('Korelasi antara Reviews dan User Rating adalah ', correlation(up, tot))\r\n",
        "\r\n",
        "print(' ')\r\n",
        "print('Kovarian antar kolom : ')\r\n",
        "print('Kovarian antara Reviews dan User Rating adalah ', covariance (up, tot))"
      ],
      "execution_count": null,
      "outputs": [
        {
          "output_type": "stream",
          "text": [
            "Korelasi antar kolom : \n",
            "Korelasi antara Reviews dan User Rating adalah  -0.0017321636439935845\n",
            " \n",
            "Kovarian antar kolom : \n",
            "Kovarian antara Reviews dan User Rating adalah  -4.6039095876800795\n"
          ],
          "name": "stdout"
        },
        {
          "output_type": "display_data",
          "data": {
            "image/png": "[encoded data removed]",
            "text/plain": [
              "<Figure size 432x288 with 1 Axes>"
            ]
          },
          "metadata": {
            "tags": [],
            "needs_background": "light"
          }
        }
      ]
    },
    {
      "cell_type": "markdown",
      "metadata": {
        "id": "go97g2yMg2Ic"
      },
      "source": [
        "**Analisis** : Dari permodelan di atas, didapatkan prediksi korelasi antara Reviews dan User Rating adalah -0,001, dan prediksi kovarian adalah -4,603."
      ]
    },
    {
      "cell_type": "code",
      "metadata": {
        "colab": {
          "base_uri": "https://localhost:8080/",
          "height": 350
        },
        "id": "LCGvJevZ6lDc",
        "outputId": "82ae46f3-9404-4d23-c847-161235581249"
      },
      "source": [
        "plt.scatter(dt['User Rating'], dt['Price'])\r\n",
        "\r\n",
        "print('Korelasi antar kolom : ')\r\n",
        "print('Korelasi antara User Rating dan Price adalah ', correlation(qu, tot))\r\n",
        "\r\n",
        "print(' ')\r\n",
        "print('Kovarian antar kolom : ')\r\n",
        "print('Kovarian antara User Rating dan Price adalah ', covariance(qu, tot))"
      ],
      "execution_count": null,
      "outputs": [
        {
          "output_type": "stream",
          "text": [
            "Korelasi antar kolom : \n",
            "Korelasi antara User Rating dan Price adalah  -0.13332870310470676\n",
            " \n",
            "Kovarian antar kolom : \n",
            "Kovarian antara User Rating dan Price adalah  -0.3275227686703095\n"
          ],
          "name": "stdout"
        },
        {
          "output_type": "display_data",
          "data": {
            "image/png": "[encoded data removed]",
            "text/plain": [
              "<Figure size 432x288 with 1 Axes>"
            ]
          },
          "metadata": {
            "tags": [],
            "needs_background": "light"
          }
        }
      ]
    },
    {
      "cell_type": "markdown",
      "metadata": {
        "id": "ktNj_g04g9zx"
      },
      "source": [
        "**Analisis** : Dari permodelan di atas, didapatkan prediksi korelasi antara User Rating dan Price adalah -0,1333 dan prediksi kovarian adalah -0,327."
      ]
    },
    {
      "cell_type": "code",
      "metadata": {
        "colab": {
          "base_uri": "https://localhost:8080/",
          "height": 487
        },
        "id": "XXV9sNrd6zIM",
        "outputId": "e0cec342-0f7d-448d-f501-67d3a438c45c"
      },
      "source": [
        "corr = dt.corr()\r\n",
        "\r\n",
        "plt.figure(figsize=(15,8))\r\n",
        "\r\n",
        "sns.heatmap(corr, annot=True, vmin = -1, cmap='coolwarm')\r\n",
        "\r\n",
        "plt.show()"
      ],
      "execution_count": null,
      "outputs": [
        {
          "output_type": "display_data",
          "data": {
            "image/png": "[encoded data removed]",
            "text/plain": [
              "<Figure size 1080x576 with 2 Axes>"
            ]
          },
          "metadata": {
            "tags": [],
            "needs_background": "light"
          }
        }
      ]
    },
    {
      "cell_type": "markdown",
      "metadata": {
        "id": "oFKcG6jdhwvC"
      },
      "source": [
        "**Analisis** : Pada Heatmap korelasi disini didapatkan korelasi antara Unit Reviews, Price dan User Rating dengan simpulan bahwa :\r\n",
        "\r\n",
        "- Reviews dan Price senilai -0,11 (menggambarkan warna korelasi berada condong ke bawah)\r\n",
        "- Reviews dan User Rating senilai -0,0017 (menggambarkan warna korelasi lebih baik dibandingkan korelasi antara Reviews dan Price)\r\n",
        "- Price dan User Rating senilai -0,13 (menggambarkan warna korelasi yang mirip dengan korelasi Reviews dan Price)"
      ]
    },
    {
      "cell_type": "markdown",
      "metadata": {
        "id": "W2c5pRadEMQy"
      },
      "source": [
        "**6. EVALUASI**\n"
      ]
    },
    {
      "cell_type": "markdown",
      "metadata": {
        "id": "nKsrJmzAUtrV"
      },
      "source": [
        "**1) Import library yang digunakan untuk evaluasi data.**"
      ]
    },
    {
      "cell_type": "code",
      "metadata": {
        "id": "x65pxWliIrZi"
      },
      "source": [
        "from sklearn.datasets import make_classification\r\n",
        "from matplotlib import pyplot as plt\r\n",
        "from sklearn.linear_model import LogisticRegression\r\n",
        "from sklearn.model_selection import train_test_split\r\n",
        "from sklearn.metrics import confusion_matrix\r\n",
        "import seaborn as sns\r\n",
        "import pandas as pd\r\n",
        "\r\n",
        "sns.set()"
      ],
      "execution_count": null,
      "outputs": []
    },
    {
      "cell_type": "markdown",
      "metadata": {
        "id": "_NFNIsT6VUiG"
      },
      "source": [
        "**2) Inisialisasi klasifikasi dari grafik x dan y**"
      ]
    },
    {
      "cell_type": "code",
      "metadata": {
        "id": "CDjf0MPNIySy"
      },
      "source": [
        "x, y = make_classification(\r\n",
        "    n_samples=100,\r\n",
        "    n_features=1,\r\n",
        "    n_classes=2,\r\n",
        "    n_clusters_per_class=1,\r\n",
        "    flip_y=0.03,\r\n",
        "    n_informative=1,\r\n",
        "    n_redundant=0,\r\n",
        "    n_repeated=0\r\n",
        ")"
      ],
      "execution_count": null,
      "outputs": []
    },
    {
      "cell_type": "markdown",
      "metadata": {
        "id": "dlg_383PX_kN"
      },
      "source": [
        "**3)  Menampilkan plot hubungan antara fungsi dan kelas yang ada dengan klasifikasi yang sudah dibentuk pada grafik x dan y.**"
      ]
    },
    {
      "cell_type": "code",
      "metadata": {
        "colab": {
          "base_uri": "https://localhost:8080/",
          "height": 285
        },
        "id": "Jma_qagSI0m4",
        "outputId": "ba6444f7-675c-4364-bae0-5ac590d3c9c6"
      },
      "source": [
        "plt.scatter(x, y, c=y, cmap='rainbow')"
      ],
      "execution_count": null,
      "outputs": [
        {
          "output_type": "execute_result",
          "data": {
            "text/plain": [
              "<matplotlib.collections.PathCollection at 0x7f7c93c017f0>"
            ]
          },
          "metadata": {
            "tags": []
          },
          "execution_count": 53
        },
        {
          "output_type": "display_data",
          "data": {
            "image/png": "[encoded data removed]",
            "text/plain": [
              "<Figure size 432x288 with 1 Axes>"
            ]
          },
          "metadata": {
            "tags": []
          }
        }
      ]
    },
    {
      "cell_type": "markdown",
      "metadata": {
        "id": "zWfGQVvvYmAY"
      },
      "source": [
        "- **Analisis** : Scatter plot digunakan untuk pemetaan dari grafik x dan y dengan dibagi 2 warna bagian. Pemetaan ini digunakan untuk melihat persebaran data yang ada."
      ]
    },
    {
      "cell_type": "markdown",
      "metadata": {
        "id": "24BXrWJZb0JR"
      },
      "source": [
        "**4) Inisialisasi untuk evaluasi subset**"
      ]
    },
    {
      "cell_type": "code",
      "metadata": {
        "id": "5tA6VSe8JAiC"
      },
      "source": [
        "x_train, x_test, y_train, y_test = train_test_split(x, y, random_state=1)"
      ],
      "execution_count": null,
      "outputs": []
    },
    {
      "cell_type": "markdown",
      "metadata": {
        "id": "qu9FjM5ehaLU"
      },
      "source": [
        "**Tahap kelima** : Membuat model mempelajari hubungan antara digit (x_train) dan label (y_train)"
      ]
    },
    {
      "cell_type": "code",
      "metadata": {
        "colab": {
          "base_uri": "https://localhost:8080/"
        },
        "id": "ihBH9X4wJGJv",
        "outputId": "a9b11d8f-2f2b-45c9-f8ec-ee3c9365a352"
      },
      "source": [
        "lr = LogisticRegression()\r\n",
        "lr.fit(x_train, y_train)"
      ],
      "execution_count": null,
      "outputs": [
        {
          "output_type": "execute_result",
          "data": {
            "text/plain": [
              "LogisticRegression(C=1.0, class_weight=None, dual=False, fit_intercept=True,\n",
              "                   intercept_scaling=1, l1_ratio=None, max_iter=100,\n",
              "                   multi_class='auto', n_jobs=None, penalty='l2',\n",
              "                   random_state=None, solver='lbfgs', tol=0.0001, verbose=0,\n",
              "                   warm_start=False)"
            ]
          },
          "metadata": {
            "tags": []
          },
          "execution_count": 55
        }
      ]
    },
    {
      "cell_type": "markdown",
      "metadata": {
        "id": "s0VI-0BPhjNW"
      },
      "source": [
        "**6) Menampilkan evaluasi dengan melihat koefisien kemiringan dan perpotongan y dari garis yang paling cocok**"
      ]
    },
    {
      "cell_type": "code",
      "metadata": {
        "colab": {
          "base_uri": "https://localhost:8080/"
        },
        "id": "IUigT9SfJJgs",
        "outputId": "9d68c3d3-19d4-4f7e-ec89-3b198c787a02"
      },
      "source": [
        "print(lr.coef_)\r\n",
        "print(lr.intercept_)"
      ],
      "execution_count": null,
      "outputs": [
        {
          "output_type": "stream",
          "text": [
            "[[2.74361721]]\n",
            "[0.57740875]\n"
          ],
          "name": "stdout"
        }
      ]
    },
    {
      "cell_type": "markdown",
      "metadata": {
        "id": "Xmdp9UO0lCTp"
      },
      "source": [
        "- **Analisis** : Evaluasi dengan menggunakan model Regresi dilihat dari koefisien kemiringan bernilai 2.74361721 dan perpotongan garis y adalah 0.57740875"
      ]
    },
    {
      "cell_type": "markdown",
      "metadata": {
        "id": "HsD1XflolHWN"
      },
      "source": [
        "> **EVALUASI HIPOTESIS DARI PEMODELAN** "
      ]
    },
    {
      "cell_type": "markdown",
      "metadata": {
        "id": "CvcnIdy5lTnG"
      },
      "source": [
        "Hipotesis dari pemodelan yang sudah dilakukan mendapatkan nilai korelasi yang baik adalah 0,7. \r\n",
        "\r\n",
        "- Jika P-Value sama dengan 0 atau lebih dari 0 maka hipotesis diterima dan korelasi kuat\r\n",
        "- Jika P-Value kurang dari 0 maka hipotesis ditolak."
      ]
    },
    {
      "cell_type": "code",
      "metadata": {
        "id": "_aB-Fcpdm3AZ"
      },
      "source": [
        "class HypothesisTest(object):\r\n",
        "    \r\n",
        "    def __init__(self, data):\r\n",
        "        self.data = data\r\n",
        "        self.MakeModel()\r\n",
        "        self.actual = self.TestStatistic(data)\r\n",
        "        \r\n",
        "    def PValue(self, iters = 1000):\r\n",
        "        self.test_stats = [self.TestStatistic(self.RunModel()) for _ in range(iters)]\r\n",
        "        count = sum(1 for x in self.test_stats if x >= self.actual)\r\n",
        "        return count / iters\r\n",
        "    \r\n",
        "    def TestStatistic(self, data):\r\n",
        "        raise UnimplementedMethodException()\r\n",
        "        \r\n",
        "    def MakeModel(self):\r\n",
        "        pass\r\n",
        "    \r\n",
        "    def RunModel(self):\r\n",
        "        raise UnimplementedMethodException()"
      ],
      "execution_count": null,
      "outputs": []
    },
    {
      "cell_type": "code",
      "metadata": {
        "id": "GRG__PRBm9Zk"
      },
      "source": [
        "class CorrPermute(HypothesisTest):\r\n",
        "    \r\n",
        "    def TestStatistic(self, data):\r\n",
        "        xs, ys = data\r\n",
        "        test_stat = abs(correlation(xs, ys))\r\n",
        "        return test_stat\r\n",
        "    \r\n",
        "    def RunModel(self):\r\n",
        "        xs, ys = self.data\r\n",
        "        xs = np.random.permutation(xs)\r\n",
        "        return xs, ys\r\n",
        "    \r\n",
        "def correlation(x, y):\r\n",
        "    std_x = np.std(x)\r\n",
        "    std_y = np.std(y)\r\n",
        "    if std_x and std_y > 0:\r\n",
        "        return covariance(x, y) / std_x / std_y\r\n",
        "    else:\r\n",
        "        return 0\r\n",
        "    \r\n",
        "def de_mean(x):\r\n",
        "    x_bar = np.mean(x)\r\n",
        "    return [x_i - x_bar for x_i in x]\r\n",
        "\r\n",
        "def covariance(x, y):\r\n",
        "    n = len(x)\r\n",
        "    return np.dot(de_mean(x), de_mean(y)) / (n - 1)"
      ],
      "execution_count": null,
      "outputs": []
    },
    {
      "cell_type": "code",
      "metadata": {
        "colab": {
          "base_uri": "https://localhost:8080/"
        },
        "id": "lOBn6tjjnD9F",
        "outputId": "f2429f14-3012-448d-b766-e21e659a34f5"
      },
      "source": [
        "cp = CorrPermute((qu, tot))\r\n",
        "pvalue = cp.PValue()\r\n",
        "\r\n",
        "print('Hipotesis akhir p-value: ', pvalue)"
      ],
      "execution_count": null,
      "outputs": [
        {
          "output_type": "stream",
          "text": [
            "Hipotesis akhir p-value:  0.002\n"
          ],
          "name": "stdout"
        }
      ]
    },
    {
      "cell_type": "markdown",
      "metadata": {
        "id": "AMcvmsFInwgG"
      },
      "source": [
        "**Analisis** :\r\n",
        "\r\n",
        "Nilai P-Value pada hipotesis akhir di atas adalah 0.\r\n",
        "Hipotesis akhir adalah salah dan korelasi kuat yaitu 0,7 antara Reviewa dan Price yang tidak terjadi secara kebetulan. \r\n",
        "\r\n",
        "- Disimpulkan bahwa korelasi yang terjadi adalah signifikan secara statistik."
      ]
    },
    {
      "cell_type": "markdown",
      "metadata": {
        "id": "-tFnNy4fq5Zm"
      },
      "source": [
        "> **MEMPREDIKSI ANTARA QUANTITY DAN TOTAL MENGGUNAKAN LINEAR LEAST SQUARE**"
      ]
    },
    {
      "cell_type": "code",
      "metadata": {
        "id": "TrXDLiI9rJMA"
      },
      "source": [
        "def LeastSquares(xs, ys):\r\n",
        "    meanx, varx = np.mean(xs), np.var(xs)\r\n",
        "    meany = np.mean(ys)\r\n",
        "    \r\n",
        "    slope = covariance(xs, ys) / varx\r\n",
        "    inter = meany - slope * meanx\r\n",
        "    \r\n",
        "    return inter, slope\r\n",
        "\r\n",
        "def FitLine(xs, inter, slope):\r\n",
        "    fit_xs = np.sort(xs)\r\n",
        "    fit_ys = inter + slope * fit_xs\r\n",
        "    \r\n",
        "    return fit_xs, fit_ys"
      ],
      "execution_count": null,
      "outputs": []
    },
    {
      "cell_type": "code",
      "metadata": {
        "colab": {
          "base_uri": "https://localhost:8080/"
        },
        "id": "6qZ_kjprrlT5",
        "outputId": "4a32cdf0-3f34-40c5-a50c-2779e37293f0"
      },
      "source": [
        "inter, slope = LeastSquares(qu, tot)\r\n",
        "fit_xs, fit_ys = FitLine(qu, inter, slope)\r\n",
        "\r\n",
        "print('intercept is: {} and slope is: {}'.format(inter, slope))"
      ],
      "execution_count": null,
      "outputs": [
        {
          "output_type": "stream",
          "text": [
            "intercept is: 4.654928448267876 and slope is: -0.0027912070155904642\n"
          ],
          "name": "stdout"
        }
      ]
    },
    {
      "cell_type": "markdown",
      "metadata": {
        "id": "19NXBYSRsCqg"
      },
      "source": [
        "**Analisis** : Pada hasil linear least square untuk intersepsi adalah 4.65 dan slope adalah -0.002"
      ]
    },
    {
      "cell_type": "markdown",
      "metadata": {
        "id": "Sr4bzp3rsgWO"
      },
      "source": [
        "> **RESIDUAL**"
      ]
    },
    {
      "cell_type": "code",
      "metadata": {
        "id": "MEtOTPA0snTq"
      },
      "source": [
        "def Residuals(xs, ys, inter, slope):\r\n",
        "    xs = np.asarray(xs)\r\n",
        "    ys = np.asarray(ys)\r\n",
        "    res = ys - (inter + slope * xs)\r\n",
        "    return res"
      ],
      "execution_count": null,
      "outputs": []
    },
    {
      "cell_type": "code",
      "metadata": {
        "id": "O_FgDxpwstal"
      },
      "source": [
        "res = Residuals(qu, tot, inter, slope)\r\n",
        "\r\n",
        "dt['residuals'] = res"
      ],
      "execution_count": null,
      "outputs": []
    },
    {
      "cell_type": "code",
      "metadata": {
        "colab": {
          "base_uri": "https://localhost:8080/"
        },
        "id": "joKq23wutJP3",
        "outputId": "78dbeb82-731b-47d6-ecdc-8fe13b81c65e"
      },
      "source": [
        "print('Prediksi RMSE adalah :  ', np.std(res))"
      ],
      "execution_count": null,
      "outputs": [
        {
          "output_type": "stream",
          "text": [
            "Prediksi RMSE adalah :   0.2247566543583754\n"
          ],
          "name": "stdout"
        }
      ]
    },
    {
      "cell_type": "markdown",
      "metadata": {
        "id": "InoNs2mntbG_"
      },
      "source": [
        "**Analisis** : Prediksi RSME adalah 0.224"
      ]
    },
    {
      "cell_type": "markdown",
      "metadata": {
        "id": "qOoM5MZXti4D"
      },
      "source": [
        "> **KOEFISIEN DETERMINASI**"
      ]
    },
    {
      "cell_type": "code",
      "metadata": {
        "colab": {
          "base_uri": "https://localhost:8080/"
        },
        "id": "dwceUNDnt1Hg",
        "outputId": "c2ff49d6-9865-4389-b23c-c10ab46848bc"
      },
      "source": [
        "r_squared = 1 - (np.var(res) / np.var(tot))\r\n",
        "\r\n",
        "print('Koefisien determinasi didapatkan adalah: ', r_squared)"
      ],
      "execution_count": null,
      "outputs": [
        {
          "output_type": "stream",
          "text": [
            "Koefisien determinasi didapatkan adalah:  0.017711901096772675\n"
          ],
          "name": "stdout"
        }
      ]
    },
    {
      "cell_type": "markdown",
      "metadata": {
        "id": "LT7niv8it_4b"
      },
      "source": [
        "**Analisis** : koefisien determinasi yang didapatkan adalah 0,017."
      ]
    },
    {
      "cell_type": "markdown",
      "metadata": {
        "id": "yM-rlCkHuLkn"
      },
      "source": [
        "> **VISUALISASI PLOT DARI EVALUASI YANG SUDAH DILAKUKAN**"
      ]
    },
    {
      "cell_type": "code",
      "metadata": {
        "colab": {
          "base_uri": "https://localhost:8080/",
          "height": 519
        },
        "id": "er2TZEpsuW_O",
        "outputId": "82440bff-e366-40b0-9942-129e3c93fc22"
      },
      "source": [
        "plt.figure(figsize = (15, 8))\r\n",
        "\r\n",
        "plt.xlabel('Reviews')\r\n",
        "plt.ylabel('Price')\r\n",
        "\r\n",
        "plt.plot(fit_xs, fit_ys, color = 'black')\r\n",
        "plt.scatter(qu, tot, color = 'blue')"
      ],
      "execution_count": null,
      "outputs": [
        {
          "output_type": "execute_result",
          "data": {
            "text/plain": [
              "<matplotlib.collections.PathCollection at 0x7f7c93c96b00>"
            ]
          },
          "metadata": {
            "tags": []
          },
          "execution_count": 69
        },
        {
          "output_type": "display_data",
          "data": {
            "image/png": "[encoded data removed]",
            "text/plain": [
              "<Figure size 1080x576 with 1 Axes>"
            ]
          },
          "metadata": {
            "tags": []
          }
        }
      ]
    },
    {
      "cell_type": "markdown",
      "metadata": {
        "id": "GJ1Z4UDAujx8"
      },
      "source": [
        "**Analisis** : hasil visualisasi yang didapatkan antara Reviews dan Price pada pemodelan yang sudah dilakukan sama dengan data visualisasi ini."
      ]
    }
  ]
}