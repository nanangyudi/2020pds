{
  "nbformat": 4,
  "nbformat_minor": 0,
  "metadata": {
    "colab": {
      "name": "Tugas Proyek Akhir Semester_Remizar Fahrezi Achyar Firdaus.ipynb",
      "provenance": [],
      "collapsed_sections": [
        "xE8hlbrPwpGC",
        "zIkFbs7uywkN",
        "LeSnxF-Hy1WS",
        "B27MR4E6zf5U",
        "RTggOwy009YT",
        "aVHpaxGrAzFu"
      ],
      "include_colab_link": true
    },
    "kernelspec": {
      "name": "python3",
      "display_name": "Python 3"
    }
  },
  "cells": [
    {
      "cell_type": "markdown",
      "metadata": {
        "id": "view-in-github",
        "colab_type": "text"
      },
      "source": [
        "<a href=\"https://colab.research.google.com/github/nanangyudi/2020pds_d/blob/main/Tugas_Proyek_Akhir_Semester_Remizar_Fahrezi_Achyar_Firdaus.ipynb\" target=\"_parent\"><img src=\"https://colab.research.google.com/assets/colab-badge.svg\" alt=\"Open In Colab\"/></a>"
      ]
    },
    {
      "cell_type": "markdown",
      "metadata": {
        "id": "xE8hlbrPwpGC"
      },
      "source": [
        "# **Deskripsi Analisis Dataset**"
      ]
    },
    {
      "cell_type": "markdown",
      "metadata": {
        "id": "8vtishV-wvgS"
      },
      "source": [
        "**A. Tujuan Analisis Dataset**\r\n",
        "\r\n",
        "Tujuan dari pengolahan data ini adalah :\r\n",
        "1. Untuk mengelola data kalori yang terdapat pada menu Mc Donald's\r\n",
        "2. Untuk mendapatkan data yang menghasilkan informasi jika dibutuhkan bagi restoran tersebut dan pelanggannya\r\n",
        "\r\n",
        "\r\n",
        "**B. Manfaat bagi organisasi :** \r\n",
        "\r\n",
        "Manfaat yang didapat oleh organisasi adalah  informasi yang akan didapatkan setelah melakukan analisis dari dataset ini, antara lain :\r\n",
        "1. Mengetahui jumlah nutrisi yang ada pada menu restoran\r\n",
        "2. Mengetahui nilai gula pada kategori di menu restoran\r\n",
        "3. Mengetahui kolesterol tertinggi pada menu yang disediakan"
      ]
    },
    {
      "cell_type": "markdown",
      "metadata": {
        "id": "zIkFbs7uywkN"
      },
      "source": [
        "# **TAHAP ANALISIS PENDEKATAN**"
      ]
    },
    {
      "cell_type": "markdown",
      "metadata": {
        "id": "ALOtVnMFyy9l"
      },
      "source": [
        "**Analisis Pendekatan yang Dilakukan**\r\n",
        "\r\n",
        "Menggunakan pendekatan EDA, yaitu metode eksplorasi data dengan menggunakan teknik aritmatika sederhana dan teknik grafis dalam meringkas data pengamatan.\r\n",
        "Tahapan yang dilakukan dalam analisis EDA adalah :\r\n",
        "1. Mencari data \r\n",
        "2. Merumuskan masalah\r\n",
        "3. Melakukan pemodelan data \r\n",
        "4. Melakukan analisis\r\n",
        "5. Kesimpulan"
      ]
    },
    {
      "cell_type": "markdown",
      "metadata": {
        "id": "LeSnxF-Hy1WS"
      },
      "source": [
        "# **TAHAP PENGUMPULAN DATA**"
      ]
    },
    {
      "cell_type": "markdown",
      "metadata": {
        "id": "_i59BSm6y3KL"
      },
      "source": [
        "**Pengumpulan Data**\r\n",
        "\r\n",
        "Dataset yang didapatkan bersumber dari Kanggle.com. Berikut link data : https://www.kaggle.com/mcdonalds/nutrition-facts di publikasi oleh McDonald's."
      ]
    },
    {
      "cell_type": "markdown",
      "metadata": {
        "id": "B27MR4E6zf5U"
      },
      "source": [
        "# **TAHAP PEMAHAMAN DATA YANG DIKUMPULKAN**"
      ]
    },
    {
      "cell_type": "markdown",
      "metadata": {
        "id": "oYiB8IKMziIh"
      },
      "source": [
        "**Pemahaman Terhadap Data yang Telah Dikumpulkan**\r\n",
        "    \r\n",
        "Data yang didapatkan berupa data nutrisi restoran.\r\n",
        "\r\n",
        "Terdapat beberapa data seperti Category,\tItem,\tServing Size,\tCalories,\tCalories from Fat,\tTotal Fat,\tTotal Fat (% Daily Value),\tSaturated Fat,\tSaturated Fat (% Daily Value),\tTrans Fat,\tCholesterol,\tCholesterol (% Daily Value),\tSodium,\tSodium (% Daily Value),\tCarbohydrates,\tCarbohydrates (% Daily Value),\tDietary Fiber,\tDietary Fiber (% Daily Value),\tSugars,\tProtein,\tVitamin A (% Daily Value),\tVitamin C (% Daily Value),\tCalcium (% Daily Value),\tIron (% Daily Value)\r\n",
        "\r\n",
        "Pada data ini menjelaskan detail nutrisi yang ada pada menu restoran."
      ]
    },
    {
      "cell_type": "markdown",
      "metadata": {
        "id": "RTggOwy009YT"
      },
      "source": [
        "# **Eksplorasi Data**"
      ]
    },
    {
      "cell_type": "markdown",
      "metadata": {
        "id": "wv8r02zg13wg"
      },
      "source": [
        "**Tahap pertama** : \r\n",
        "\r\n",
        "Input data dari repository di Github"
      ]
    },
    {
      "cell_type": "code",
      "metadata": {
        "id": "DrmpBxpwsiAj"
      },
      "source": [
        "import pandas as pd\r\n",
        "import numpy as np\r\n",
        "import seaborn as sns\r\n",
        "import matplotlib.pyplot as plt\r\n",
        "from sklearn.cluster import KMeans\r\n",
        "from sklearn.preprocessing import MinMaxScaler\r\n",
        "url = 'https://raw.githubusercontent.com/Remizho/DemoExplorasi/main/menu.csv'"
      ],
      "execution_count": null,
      "outputs": []
    },
    {
      "cell_type": "markdown",
      "metadata": {
        "id": "YLFNR0Pq2Dyr"
      },
      "source": [
        "**Tahap Kedua** : \r\n",
        "\r\n",
        "Menampilkan data yang telah di import dari url dengan menampilkan 10 data teratas."
      ]
    },
    {
      "cell_type": "code",
      "metadata": {
        "colab": {
          "base_uri": "https://localhost:8080/",
          "height": 1000
        },
        "id": "sy-1uURXsqD0",
        "outputId": "7ab141e9-3cd4-49c2-d0df-df0e0e874091"
      },
      "source": [
        "nutrisi = pd.read_csv(url, error_bad_lines=False)\r\n",
        "nutrisi.head(10)"
      ],
      "execution_count": null,
      "outputs": [
        {
          "output_type": "execute_result",
          "data": {
            "text/html": [
              "<div>\n",
              "<style scoped>\n",
              "    .dataframe tbody tr th:only-of-type {\n",
              "        vertical-align: middle;\n",
              "    }\n",
              "\n",
              "    .dataframe tbody tr th {\n",
              "        vertical-align: top;\n",
              "    }\n",
              "\n",
              "    .dataframe thead th {\n",
              "        text-align: right;\n",
              "    }\n",
              "</style>\n",
              "<table border=\"1\" class=\"dataframe\">\n",
              "  <thead>\n",
              "    <tr style=\"text-align: right;\">\n",
              "      <th></th>\n",
              "      <th>Category</th>\n",
              "      <th>Item</th>\n",
              "      <th>Serving Size</th>\n",
              "      <th>Calories</th>\n",
              "      <th>Calories from Fat</th>\n",
              "      <th>Total Fat</th>\n",
              "      <th>Total Fat (% Daily Value)</th>\n",
              "      <th>Saturated Fat</th>\n",
              "      <th>Saturated Fat (% Daily Value)</th>\n",
              "      <th>Trans Fat</th>\n",
              "      <th>Cholesterol</th>\n",
              "      <th>Cholesterol (% Daily Value)</th>\n",
              "      <th>Sodium</th>\n",
              "      <th>Sodium (% Daily Value)</th>\n",
              "      <th>Carbohydrates</th>\n",
              "      <th>Carbohydrates (% Daily Value)</th>\n",
              "      <th>Dietary Fiber</th>\n",
              "      <th>Dietary Fiber (% Daily Value)</th>\n",
              "      <th>Sugars</th>\n",
              "      <th>Protein</th>\n",
              "      <th>Vitamin A (% Daily Value)</th>\n",
              "      <th>Vitamin C (% Daily Value)</th>\n",
              "      <th>Calcium (% Daily Value)</th>\n",
              "      <th>Iron (% Daily Value)</th>\n",
              "    </tr>\n",
              "  </thead>\n",
              "  <tbody>\n",
              "    <tr>\n",
              "      <th>0</th>\n",
              "      <td>Breakfast</td>\n",
              "      <td>Egg McMuffin</td>\n",
              "      <td>4.8 oz (136 g)</td>\n",
              "      <td>300</td>\n",
              "      <td>120</td>\n",
              "      <td>13.0</td>\n",
              "      <td>20</td>\n",
              "      <td>5.0</td>\n",
              "      <td>25</td>\n",
              "      <td>0.0</td>\n",
              "      <td>260</td>\n",
              "      <td>87</td>\n",
              "      <td>750</td>\n",
              "      <td>31</td>\n",
              "      <td>31</td>\n",
              "      <td>10</td>\n",
              "      <td>4</td>\n",
              "      <td>17</td>\n",
              "      <td>3</td>\n",
              "      <td>17</td>\n",
              "      <td>10</td>\n",
              "      <td>0</td>\n",
              "      <td>25</td>\n",
              "      <td>15</td>\n",
              "    </tr>\n",
              "    <tr>\n",
              "      <th>1</th>\n",
              "      <td>Breakfast</td>\n",
              "      <td>Egg White Delight</td>\n",
              "      <td>4.8 oz (135 g)</td>\n",
              "      <td>250</td>\n",
              "      <td>70</td>\n",
              "      <td>8.0</td>\n",
              "      <td>12</td>\n",
              "      <td>3.0</td>\n",
              "      <td>15</td>\n",
              "      <td>0.0</td>\n",
              "      <td>25</td>\n",
              "      <td>8</td>\n",
              "      <td>770</td>\n",
              "      <td>32</td>\n",
              "      <td>30</td>\n",
              "      <td>10</td>\n",
              "      <td>4</td>\n",
              "      <td>17</td>\n",
              "      <td>3</td>\n",
              "      <td>18</td>\n",
              "      <td>6</td>\n",
              "      <td>0</td>\n",
              "      <td>25</td>\n",
              "      <td>8</td>\n",
              "    </tr>\n",
              "    <tr>\n",
              "      <th>2</th>\n",
              "      <td>Breakfast</td>\n",
              "      <td>Sausage McMuffin</td>\n",
              "      <td>3.9 oz (111 g)</td>\n",
              "      <td>370</td>\n",
              "      <td>200</td>\n",
              "      <td>23.0</td>\n",
              "      <td>35</td>\n",
              "      <td>8.0</td>\n",
              "      <td>42</td>\n",
              "      <td>0.0</td>\n",
              "      <td>45</td>\n",
              "      <td>15</td>\n",
              "      <td>780</td>\n",
              "      <td>33</td>\n",
              "      <td>29</td>\n",
              "      <td>10</td>\n",
              "      <td>4</td>\n",
              "      <td>17</td>\n",
              "      <td>2</td>\n",
              "      <td>14</td>\n",
              "      <td>8</td>\n",
              "      <td>0</td>\n",
              "      <td>25</td>\n",
              "      <td>10</td>\n",
              "    </tr>\n",
              "    <tr>\n",
              "      <th>3</th>\n",
              "      <td>Breakfast</td>\n",
              "      <td>Sausage McMuffin with Egg</td>\n",
              "      <td>5.7 oz (161 g)</td>\n",
              "      <td>450</td>\n",
              "      <td>250</td>\n",
              "      <td>28.0</td>\n",
              "      <td>43</td>\n",
              "      <td>10.0</td>\n",
              "      <td>52</td>\n",
              "      <td>0.0</td>\n",
              "      <td>285</td>\n",
              "      <td>95</td>\n",
              "      <td>860</td>\n",
              "      <td>36</td>\n",
              "      <td>30</td>\n",
              "      <td>10</td>\n",
              "      <td>4</td>\n",
              "      <td>17</td>\n",
              "      <td>2</td>\n",
              "      <td>21</td>\n",
              "      <td>15</td>\n",
              "      <td>0</td>\n",
              "      <td>30</td>\n",
              "      <td>15</td>\n",
              "    </tr>\n",
              "    <tr>\n",
              "      <th>4</th>\n",
              "      <td>Breakfast</td>\n",
              "      <td>Sausage McMuffin with Egg Whites</td>\n",
              "      <td>5.7 oz (161 g)</td>\n",
              "      <td>400</td>\n",
              "      <td>210</td>\n",
              "      <td>23.0</td>\n",
              "      <td>35</td>\n",
              "      <td>8.0</td>\n",
              "      <td>42</td>\n",
              "      <td>0.0</td>\n",
              "      <td>50</td>\n",
              "      <td>16</td>\n",
              "      <td>880</td>\n",
              "      <td>37</td>\n",
              "      <td>30</td>\n",
              "      <td>10</td>\n",
              "      <td>4</td>\n",
              "      <td>17</td>\n",
              "      <td>2</td>\n",
              "      <td>21</td>\n",
              "      <td>6</td>\n",
              "      <td>0</td>\n",
              "      <td>25</td>\n",
              "      <td>10</td>\n",
              "    </tr>\n",
              "    <tr>\n",
              "      <th>5</th>\n",
              "      <td>Breakfast</td>\n",
              "      <td>Steak &amp; Egg McMuffin</td>\n",
              "      <td>6.5 oz (185 g)</td>\n",
              "      <td>430</td>\n",
              "      <td>210</td>\n",
              "      <td>23.0</td>\n",
              "      <td>36</td>\n",
              "      <td>9.0</td>\n",
              "      <td>46</td>\n",
              "      <td>1.0</td>\n",
              "      <td>300</td>\n",
              "      <td>100</td>\n",
              "      <td>960</td>\n",
              "      <td>40</td>\n",
              "      <td>31</td>\n",
              "      <td>10</td>\n",
              "      <td>4</td>\n",
              "      <td>18</td>\n",
              "      <td>3</td>\n",
              "      <td>26</td>\n",
              "      <td>15</td>\n",
              "      <td>2</td>\n",
              "      <td>30</td>\n",
              "      <td>20</td>\n",
              "    </tr>\n",
              "    <tr>\n",
              "      <th>6</th>\n",
              "      <td>Breakfast</td>\n",
              "      <td>Bacon, Egg &amp; Cheese Biscuit (Regular Biscuit)</td>\n",
              "      <td>5.3 oz (150 g)</td>\n",
              "      <td>460</td>\n",
              "      <td>230</td>\n",
              "      <td>26.0</td>\n",
              "      <td>40</td>\n",
              "      <td>13.0</td>\n",
              "      <td>65</td>\n",
              "      <td>0.0</td>\n",
              "      <td>250</td>\n",
              "      <td>83</td>\n",
              "      <td>1300</td>\n",
              "      <td>54</td>\n",
              "      <td>38</td>\n",
              "      <td>13</td>\n",
              "      <td>2</td>\n",
              "      <td>7</td>\n",
              "      <td>3</td>\n",
              "      <td>19</td>\n",
              "      <td>10</td>\n",
              "      <td>8</td>\n",
              "      <td>15</td>\n",
              "      <td>15</td>\n",
              "    </tr>\n",
              "    <tr>\n",
              "      <th>7</th>\n",
              "      <td>Breakfast</td>\n",
              "      <td>Bacon, Egg &amp; Cheese Biscuit (Large Biscuit)</td>\n",
              "      <td>5.8 oz (164 g)</td>\n",
              "      <td>520</td>\n",
              "      <td>270</td>\n",
              "      <td>30.0</td>\n",
              "      <td>47</td>\n",
              "      <td>14.0</td>\n",
              "      <td>68</td>\n",
              "      <td>0.0</td>\n",
              "      <td>250</td>\n",
              "      <td>83</td>\n",
              "      <td>1410</td>\n",
              "      <td>59</td>\n",
              "      <td>43</td>\n",
              "      <td>14</td>\n",
              "      <td>3</td>\n",
              "      <td>12</td>\n",
              "      <td>4</td>\n",
              "      <td>19</td>\n",
              "      <td>15</td>\n",
              "      <td>8</td>\n",
              "      <td>20</td>\n",
              "      <td>20</td>\n",
              "    </tr>\n",
              "    <tr>\n",
              "      <th>8</th>\n",
              "      <td>Breakfast</td>\n",
              "      <td>Bacon, Egg &amp; Cheese Biscuit with Egg Whites (R...</td>\n",
              "      <td>5.4 oz (153 g)</td>\n",
              "      <td>410</td>\n",
              "      <td>180</td>\n",
              "      <td>20.0</td>\n",
              "      <td>32</td>\n",
              "      <td>11.0</td>\n",
              "      <td>56</td>\n",
              "      <td>0.0</td>\n",
              "      <td>35</td>\n",
              "      <td>11</td>\n",
              "      <td>1300</td>\n",
              "      <td>54</td>\n",
              "      <td>36</td>\n",
              "      <td>12</td>\n",
              "      <td>2</td>\n",
              "      <td>7</td>\n",
              "      <td>3</td>\n",
              "      <td>20</td>\n",
              "      <td>2</td>\n",
              "      <td>8</td>\n",
              "      <td>15</td>\n",
              "      <td>10</td>\n",
              "    </tr>\n",
              "    <tr>\n",
              "      <th>9</th>\n",
              "      <td>Breakfast</td>\n",
              "      <td>Bacon, Egg &amp; Cheese Biscuit with Egg Whites (L...</td>\n",
              "      <td>5.9 oz (167 g)</td>\n",
              "      <td>470</td>\n",
              "      <td>220</td>\n",
              "      <td>25.0</td>\n",
              "      <td>38</td>\n",
              "      <td>12.0</td>\n",
              "      <td>59</td>\n",
              "      <td>0.0</td>\n",
              "      <td>35</td>\n",
              "      <td>11</td>\n",
              "      <td>1420</td>\n",
              "      <td>59</td>\n",
              "      <td>42</td>\n",
              "      <td>14</td>\n",
              "      <td>3</td>\n",
              "      <td>12</td>\n",
              "      <td>4</td>\n",
              "      <td>20</td>\n",
              "      <td>6</td>\n",
              "      <td>8</td>\n",
              "      <td>15</td>\n",
              "      <td>15</td>\n",
              "    </tr>\n",
              "  </tbody>\n",
              "</table>\n",
              "</div>"
            ],
            "text/plain": [
              "    Category  ... Iron (% Daily Value)\n",
              "0  Breakfast  ...                   15\n",
              "1  Breakfast  ...                    8\n",
              "2  Breakfast  ...                   10\n",
              "3  Breakfast  ...                   15\n",
              "4  Breakfast  ...                   10\n",
              "5  Breakfast  ...                   20\n",
              "6  Breakfast  ...                   15\n",
              "7  Breakfast  ...                   20\n",
              "8  Breakfast  ...                   10\n",
              "9  Breakfast  ...                   15\n",
              "\n",
              "[10 rows x 24 columns]"
            ]
          },
          "metadata": {
            "tags": []
          },
          "execution_count": 2
        }
      ]
    },
    {
      "cell_type": "markdown",
      "metadata": {
        "id": "Mwq9D54I2YKu"
      },
      "source": [
        "**Tahap Ketiga** : \r\n",
        "\r\n",
        "Menampilkan jumlah data dan baris kolom."
      ]
    },
    {
      "cell_type": "code",
      "metadata": {
        "colab": {
          "base_uri": "https://localhost:8080/"
        },
        "id": "_813mqDyssCU",
        "outputId": "733287ec-ffe8-4693-d0bc-c1be69802d13"
      },
      "source": [
        "nutrisi.shape"
      ],
      "execution_count": null,
      "outputs": [
        {
          "output_type": "execute_result",
          "data": {
            "text/plain": [
              "(260, 24)"
            ]
          },
          "metadata": {
            "tags": []
          },
          "execution_count": 3
        }
      ]
    },
    {
      "cell_type": "markdown",
      "metadata": {
        "id": "eZcXYAYi2fUf"
      },
      "source": [
        "**Tahap Keempat** : Menampilkan data informasi mengenai kolom."
      ]
    },
    {
      "cell_type": "code",
      "metadata": {
        "colab": {
          "base_uri": "https://localhost:8080/"
        },
        "id": "N5RG02BhsvSs",
        "outputId": "d025e571-75c4-4d34-c0d3-619d99d20644"
      },
      "source": [
        "nutrisi.info()"
      ],
      "execution_count": null,
      "outputs": [
        {
          "output_type": "stream",
          "text": [
            "<class 'pandas.core.frame.DataFrame'>\n",
            "RangeIndex: 260 entries, 0 to 259\n",
            "Data columns (total 24 columns):\n",
            " #   Column                         Non-Null Count  Dtype  \n",
            "---  ------                         --------------  -----  \n",
            " 0   Category                       260 non-null    object \n",
            " 1   Item                           260 non-null    object \n",
            " 2   Serving Size                   260 non-null    object \n",
            " 3   Calories                       260 non-null    int64  \n",
            " 4   Calories from Fat              260 non-null    int64  \n",
            " 5   Total Fat                      260 non-null    float64\n",
            " 6   Total Fat (% Daily Value)      260 non-null    int64  \n",
            " 7   Saturated Fat                  260 non-null    float64\n",
            " 8   Saturated Fat (% Daily Value)  260 non-null    int64  \n",
            " 9   Trans Fat                      260 non-null    float64\n",
            " 10  Cholesterol                    260 non-null    int64  \n",
            " 11  Cholesterol (% Daily Value)    260 non-null    int64  \n",
            " 12  Sodium                         260 non-null    int64  \n",
            " 13  Sodium (% Daily Value)         260 non-null    int64  \n",
            " 14  Carbohydrates                  260 non-null    int64  \n",
            " 15  Carbohydrates (% Daily Value)  260 non-null    int64  \n",
            " 16  Dietary Fiber                  260 non-null    int64  \n",
            " 17  Dietary Fiber (% Daily Value)  260 non-null    int64  \n",
            " 18  Sugars                         260 non-null    int64  \n",
            " 19  Protein                        260 non-null    int64  \n",
            " 20  Vitamin A (% Daily Value)      260 non-null    int64  \n",
            " 21  Vitamin C (% Daily Value)      260 non-null    int64  \n",
            " 22  Calcium (% Daily Value)        260 non-null    int64  \n",
            " 23  Iron (% Daily Value)           260 non-null    int64  \n",
            "dtypes: float64(3), int64(18), object(3)\n",
            "memory usage: 48.9+ KB\n"
          ],
          "name": "stdout"
        }
      ]
    },
    {
      "cell_type": "markdown",
      "metadata": {
        "id": "hqhD3Nuf21IZ"
      },
      "source": [
        "**Tahap kelima** : \r\n",
        "\r\n",
        "Menganalisis jumlah gula pada menu restoran"
      ]
    },
    {
      "cell_type": "code",
      "metadata": {
        "colab": {
          "base_uri": "https://localhost:8080/",
          "height": 295
        },
        "id": "XS5g8V2ssy57",
        "outputId": "e9d751e1-85d2-458f-f645-2cf3329c84ff"
      },
      "source": [
        "fig=plt.figure()\r\n",
        "ax = fig.add_subplot(1,1,1)\r\n",
        "\r\n",
        "#Variable\r\n",
        "ax.hist(nutrisi['Sugars'],bins = 6)\r\n",
        "#Labels and Tit\r\n",
        "plt.title('Gula yang dihasilkan pada menu')\r\n",
        "plt.xlabel('Sugars')\r\n",
        "plt.ylabel('Category')\r\n",
        "plt.show()"
      ],
      "execution_count": null,
      "outputs": [
        {
          "output_type": "display_data",
          "data": {
            "image/png": "[encoded data removed]",
            "text/plain": [
              "<Figure size 432x288 with 1 Axes>"
            ]
          },
          "metadata": {
            "tags": [],
            "needs_background": "light"
          }
        }
      ]
    },
    {
      "cell_type": "markdown",
      "metadata": {
        "id": "Ywb9duSR35HG"
      },
      "source": [
        "- **Analisis Histogram :** \r\n",
        "\r\n",
        "Ditampilkan bahwa hampir 140 kategori menu makanan menggunakan gula."
      ]
    },
    {
      "cell_type": "markdown",
      "metadata": {
        "id": "aAOqzR1Q6MC_"
      },
      "source": [
        "**Tahap Keenam :** \r\n",
        "\r\n",
        "Analisis total penjualan dengan rating yang diberikan oleh konsumen"
      ]
    },
    {
      "cell_type": "code",
      "metadata": {
        "colab": {
          "base_uri": "https://localhost:8080/",
          "height": 312
        },
        "id": "jFIG9xcItMK4",
        "outputId": "29f4ee14-2ca7-4cc6-a575-8fa309ee8fe3"
      },
      "source": [
        "sns.scatterplot(x=\"Sugars\", y=\"Category\", data=nutrisi, s=100, color=\"green\", alpha=1); \r\n",
        "plt.title(\"Hasil Sebaran Data\")"
      ],
      "execution_count": null,
      "outputs": [
        {
          "output_type": "execute_result",
          "data": {
            "text/plain": [
              "Text(0.5, 1.0, 'Hasil Sebaran Data')"
            ]
          },
          "metadata": {
            "tags": []
          },
          "execution_count": 20
        },
        {
          "output_type": "display_data",
          "data": {
            "image/png": "[encoded data removed]",
            "text/plain": [
              "<Figure size 432x288 with 1 Axes>"
            ]
          },
          "metadata": {
            "tags": [],
            "needs_background": "light"
          }
        }
      ]
    },
    {
      "cell_type": "markdown",
      "metadata": {
        "id": "nYaADoGy6mqZ"
      },
      "source": [
        "- **Analisis Scatter Plot**: \r\n",
        "\r\n",
        "Menu yang menggunakan gula paling banyak berada pada kategori minuman yaitu Smoothies & Shakes"
      ]
    },
    {
      "cell_type": "markdown",
      "metadata": {
        "id": "BIWcpvZ87HOH"
      },
      "source": [
        "**Tahap ke tujuh** : \r\n",
        "\r\n",
        "Analisis menggunakan Boxplot"
      ]
    },
    {
      "cell_type": "code",
      "metadata": {
        "colab": {
          "base_uri": "https://localhost:8080/",
          "height": 335
        },
        "id": "CB_Ens727Wo3",
        "outputId": "6258a319-57b9-47f6-cb90-527b139d0ccc"
      },
      "source": [
        "sns.boxplot(nutrisi['Sugars'])\r\n",
        "sns.despine()"
      ],
      "execution_count": null,
      "outputs": [
        {
          "output_type": "stream",
          "text": [
            "/usr/local/lib/python3.6/dist-packages/seaborn/_decorators.py:43: FutureWarning: Pass the following variable as a keyword arg: x. From version 0.12, the only valid positional argument will be `data`, and passing other arguments without an explicit keyword will result in an error or misinterpretation.\n",
            "  FutureWarning\n"
          ],
          "name": "stderr"
        },
        {
          "output_type": "display_data",
          "data": {
            "image/png": "[encoded data removed]",
            "text/plain": [
              "<Figure size 432x288 with 1 Axes>"
            ]
          },
          "metadata": {
            "tags": [],
            "needs_background": "light"
          }
        }
      ]
    },
    {
      "cell_type": "markdown",
      "metadata": {
        "id": "Nbbr-leS7gU4"
      },
      "source": [
        "- **Analisis Boxplot** : \r\n",
        "\r\n",
        "1. Nilai minimal dari gula yang digunakan adalah 0\r\n",
        "2. Nilai Quartil terendah menunjukan -+ 5\r\n",
        "3. Nilai Median menunjukan -+ 19\r\n",
        "4. Nilai Quartil teratas menunjukkan -+ 50\r\n",
        "5. Nilai maksimal menunjukkan -+ 105\r\n",
        "6. Terdapat outlier data pada yang menunjukkan 110, 120, 121, 125"
      ]
    },
    {
      "cell_type": "markdown",
      "metadata": {
        "id": "RwllUsl68Zun"
      },
      "source": [
        "**Tahap ke delapan** : \r\n",
        "\r\n",
        "Analisis menggunakan Plot"
      ]
    },
    {
      "cell_type": "code",
      "metadata": {
        "colab": {
          "base_uri": "https://localhost:8080/",
          "height": 297
        },
        "id": "PTXtEsl58fpX",
        "outputId": "767107bf-dc9f-4868-fcc0-4454c0448ecd"
      },
      "source": [
        "sns.stripplot(x=\"Cholesterol\", y=\"Category\", data=nutrisi)"
      ],
      "execution_count": null,
      "outputs": [
        {
          "output_type": "execute_result",
          "data": {
            "text/plain": [
              "<matplotlib.axes._subplots.AxesSubplot at 0x7fd9a63a9588>"
            ]
          },
          "metadata": {
            "tags": []
          },
          "execution_count": 28
        },
        {
          "output_type": "display_data",
          "data": {
            "image/png": "[encoded data removed]",
            "text/plain": [
              "<Figure size 432x288 with 1 Axes>"
            ]
          },
          "metadata": {
            "tags": [],
            "needs_background": "light"
          }
        }
      ]
    },
    {
      "cell_type": "markdown",
      "metadata": {
        "id": "qFQpdidy9BO2"
      },
      "source": [
        "- **Analisis Plots** : \r\n",
        "\r\n",
        "Pada menu yang disediakan terlihat kategori sarapan memiliki kolesterol tertinggi yaitu mencapai 600"
      ]
    },
    {
      "cell_type": "markdown",
      "metadata": {
        "id": "gb6lB8QG-QFI"
      },
      "source": [
        "**Tahap ke sembilan** : \r\n",
        "\r\n",
        "Analisis frekuensi produk yang dibeli customer."
      ]
    },
    {
      "cell_type": "code",
      "metadata": {
        "colab": {
          "base_uri": "https://localhost:8080/"
        },
        "id": "9F0P_L4T-VoD",
        "outputId": "80947003-ad63-40ad-8b1f-6360473990c8"
      },
      "source": [
        "print (nutrisi)\r\n",
        "test= nutrisi.groupby(['Item','Sugars'])\r\n",
        "test.size()"
      ],
      "execution_count": null,
      "outputs": [
        {
          "output_type": "stream",
          "text": [
            "               Category  ... Iron (% Daily Value)\n",
            "0             Breakfast  ...                   15\n",
            "1             Breakfast  ...                    8\n",
            "2             Breakfast  ...                   10\n",
            "3             Breakfast  ...                   15\n",
            "4             Breakfast  ...                   10\n",
            "..                  ...  ...                  ...\n",
            "255  Smoothies & Shakes  ...                    8\n",
            "256  Smoothies & Shakes  ...                   10\n",
            "257  Smoothies & Shakes  ...                    6\n",
            "258  Smoothies & Shakes  ...                    6\n",
            "259  Smoothies & Shakes  ...                    4\n",
            "\n",
            "[260 rows x 24 columns]\n"
          ],
          "name": "stdout"
        },
        {
          "output_type": "execute_result",
          "data": {
            "text/plain": [
              "Item                           Sugars\n",
              "1% Low Fat Milk Jug            12        1\n",
              "Apple Slices                   3         1\n",
              "Bacon Buffalo Ranch McChicken  6         1\n",
              "Bacon Cheddar McChicken        6         1\n",
              "Bacon Clubhouse Burger         14        1\n",
              "                                        ..\n",
              "Sweet Tea (Medium)             45        1\n",
              "Sweet Tea (Small)              36        1\n",
              "Vanilla Shake (Large)          101       1\n",
              "Vanilla Shake (Medium)         81        1\n",
              "Vanilla Shake (Small)          63        1\n",
              "Length: 260, dtype: int64"
            ]
          },
          "metadata": {
            "tags": []
          },
          "execution_count": 38
        }
      ]
    },
    {
      "cell_type": "markdown",
      "metadata": {
        "id": "tFRFN7LT_FyW"
      },
      "source": [
        "**Analisis Frekuensi** :\r\n",
        "\r\n",
        "1. Terdapat data table yang akan dianalisis\r\n",
        "2. Item dan Sugars dikelompokan dan terdapat data dari item menu yang paling banyak menggunakan gula\r\n",
        "\r\n",
        "- Item menu yang paling banyak menggunakan gula adalah Vanilla Shake (Large)"
      ]
    },
    {
      "cell_type": "markdown",
      "metadata": {
        "id": "55igGDmv_7_a"
      },
      "source": [
        "**Tahap sepuluh** : \r\n",
        "\r\n",
        "Analisis mapping "
      ]
    },
    {
      "cell_type": "code",
      "metadata": {
        "colab": {
          "base_uri": "https://localhost:8080/",
          "height": 475
        },
        "id": "GI8G_rRHAHwy",
        "outputId": "da85e55e-e681-44ac-8643-4a776908a095"
      },
      "source": [
        "sp_pivot = nutrisi.pivot_table(index='Category', columns='Trans Fat', values='Protein')\r\n",
        "\r\n",
        "print(sp_pivot)\r\n",
        "\r\n",
        "sns.heatmap(sp_pivot, annot=True, cmap='coolwarm')\r\n",
        "\r\n",
        "plt.show()"
      ],
      "execution_count": null,
      "outputs": [
        {
          "output_type": "stream",
          "text": [
            "Trans Fat                 0.0        0.5        1.0   1.5   2.5\n",
            "Category                                                       \n",
            "Beef & Pork         17.000000  15.000000  23.500000  34.4  48.0\n",
            "Beverages            1.333333        NaN        NaN   NaN   NaN\n",
            "Breakfast           18.648649  30.000000  25.500000  33.0   NaN\n",
            "Chicken & Fish      26.047619  30.400000  87.000000   NaN   NaN\n",
            "Coffee & Tea         8.316456  14.571429   8.571429  11.5   NaN\n",
            "Desserts             4.000000        NaN        NaN   NaN   NaN\n",
            "Salads              19.833333        NaN        NaN   NaN   NaN\n",
            "Smoothies & Shakes   4.750000  12.500000  15.857143   NaN   NaN\n",
            "Snacks & Sides       8.384615        NaN        NaN   NaN   NaN\n"
          ],
          "name": "stdout"
        },
        {
          "output_type": "display_data",
          "data": {
            "image/png": "[encoded data removed]",
            "text/plain": [
              "<Figure size 432x288 with 2 Axes>"
            ]
          },
          "metadata": {
            "tags": [],
            "needs_background": "light"
          }
        }
      ]
    },
    {
      "cell_type": "markdown",
      "metadata": {
        "id": "Y3Xu74AXBM0O"
      },
      "source": [
        "- **Analisis Mapping**: \r\n",
        "\r\n",
        "Dibagi antara beberapa kelompok berdasarkan protein yang digunakan dapat dilihat dari jenis kategori dan lemak trans.\r\n",
        "\r\n",
        "- Dilihat dari mapping yang sudah dibuat bahwa pengelompokkan protein tertinggi terdapat pada Chicken & Fish dengan lemak trans di nilai 1.0 "
      ]
    },
    {
      "cell_type": "markdown",
      "metadata": {
        "id": "mjf7gIjxDknN"
      },
      "source": [
        "** Tahap sebelas :**\r\n",
        "\r\n",
        "Analisis Histogram Tiap Kolom"
      ]
    },
    {
      "cell_type": "code",
      "metadata": {
        "colab": {
          "base_uri": "https://localhost:8080/",
          "height": 1000
        },
        "id": "tdksSQACDKVM",
        "outputId": "45a46feb-0bd6-49c4-8e63-9d0b702e72bb"
      },
      "source": [
        "nutrisi.hist(figsize=(16, 20), bins=50, xlabelsize=8, ylabelsize=8)\r\n",
        "plt.show()"
      ],
      "execution_count": null,
      "outputs": [
        {
          "output_type": "display_data",
          "data": {
            "image/png": "[encoded data removed]",
            "text/plain": [
              "<Figure size 1152x1440 with 25 Axes>"
            ]
          },
          "metadata": {
            "tags": [],
            "needs_background": "light"
          }
        }
      ]
    },
    {
      "cell_type": "markdown",
      "metadata": {
        "id": "gLJx-xB8DQVD"
      },
      "source": [
        "** Analisis Histogram Tiap Tabel :**\r\n",
        "\r\n",
        "Hasil data yang telah dianalisis setiap tabel pada dataset"
      ]
    },
    {
      "cell_type": "markdown",
      "metadata": {
        "id": "aVHpaxGrAzFu"
      },
      "source": [
        "# **TAHAP PEMODELAN DATA**"
      ]
    },
    {
      "cell_type": "markdown",
      "metadata": {
        "id": "vh18MJc_CD9t"
      },
      "source": [
        "**Tahap pertama** : \r\n",
        "\r\n",
        "Import library yang akan digunakan untuk analisis"
      ]
    },
    {
      "cell_type": "code",
      "metadata": {
        "id": "NvKMSQc_CNdl"
      },
      "source": [
        "from sklearn.cluster import KMeans\r\n",
        "import numpy as np\r\n",
        "from sklearn.preprocessing import MinMaxScaler\r\n",
        "import math"
      ],
      "execution_count": null,
      "outputs": []
    },
    {
      "cell_type": "markdown",
      "metadata": {
        "id": "Z8OPRE56CQ8r"
      },
      "source": [
        "**Tahap kedua** : \r\n",
        "\r\n",
        "Pengelompokan data menggunakan acuan sugars (gula)."
      ]
    },
    {
      "cell_type": "code",
      "metadata": {
        "colab": {
          "base_uri": "https://localhost:8080/",
          "height": 492
        },
        "id": "ymhF4buGCU8J",
        "outputId": "956dfb92-141e-48c8-e124-391dce8900d0"
      },
      "source": [
        "test= nutrisi.groupby(['Sugars'])\r\n",
        "test.describe()"
      ],
      "execution_count": null,
      "outputs": [
        {
          "output_type": "execute_result",
          "data": {
            "text/html": [
              "<div>\n",
              "<style scoped>\n",
              "    .dataframe tbody tr th:only-of-type {\n",
              "        vertical-align: middle;\n",
              "    }\n",
              "\n",
              "    .dataframe tbody tr th {\n",
              "        vertical-align: top;\n",
              "    }\n",
              "\n",
              "    .dataframe thead tr th {\n",
              "        text-align: left;\n",
              "    }\n",
              "\n",
              "    .dataframe thead tr:last-of-type th {\n",
              "        text-align: right;\n",
              "    }\n",
              "</style>\n",
              "<table border=\"1\" class=\"dataframe\">\n",
              "  <thead>\n",
              "    <tr>\n",
              "      <th></th>\n",
              "      <th colspan=\"8\" halign=\"left\">Calories</th>\n",
              "      <th colspan=\"8\" halign=\"left\">Calories from Fat</th>\n",
              "      <th colspan=\"8\" halign=\"left\">Total Fat</th>\n",
              "      <th colspan=\"8\" halign=\"left\">Total Fat (% Daily Value)</th>\n",
              "      <th colspan=\"8\" halign=\"left\">Saturated Fat</th>\n",
              "      <th>...</th>\n",
              "      <th colspan=\"8\" halign=\"left\">Protein</th>\n",
              "      <th colspan=\"8\" halign=\"left\">Vitamin A (% Daily Value)</th>\n",
              "      <th colspan=\"8\" halign=\"left\">Vitamin C (% Daily Value)</th>\n",
              "      <th colspan=\"8\" halign=\"left\">Calcium (% Daily Value)</th>\n",
              "      <th colspan=\"8\" halign=\"left\">Iron (% Daily Value)</th>\n",
              "    </tr>\n",
              "    <tr>\n",
              "      <th></th>\n",
              "      <th>count</th>\n",
              "      <th>mean</th>\n",
              "      <th>std</th>\n",
              "      <th>min</th>\n",
              "      <th>25%</th>\n",
              "      <th>50%</th>\n",
              "      <th>75%</th>\n",
              "      <th>max</th>\n",
              "      <th>count</th>\n",
              "      <th>mean</th>\n",
              "      <th>std</th>\n",
              "      <th>min</th>\n",
              "      <th>25%</th>\n",
              "      <th>50%</th>\n",
              "      <th>75%</th>\n",
              "      <th>max</th>\n",
              "      <th>count</th>\n",
              "      <th>mean</th>\n",
              "      <th>std</th>\n",
              "      <th>min</th>\n",
              "      <th>25%</th>\n",
              "      <th>50%</th>\n",
              "      <th>75%</th>\n",
              "      <th>max</th>\n",
              "      <th>count</th>\n",
              "      <th>mean</th>\n",
              "      <th>std</th>\n",
              "      <th>min</th>\n",
              "      <th>25%</th>\n",
              "      <th>50%</th>\n",
              "      <th>75%</th>\n",
              "      <th>max</th>\n",
              "      <th>count</th>\n",
              "      <th>mean</th>\n",
              "      <th>std</th>\n",
              "      <th>min</th>\n",
              "      <th>25%</th>\n",
              "      <th>50%</th>\n",
              "      <th>75%</th>\n",
              "      <th>max</th>\n",
              "      <th>...</th>\n",
              "      <th>count</th>\n",
              "      <th>mean</th>\n",
              "      <th>std</th>\n",
              "      <th>min</th>\n",
              "      <th>25%</th>\n",
              "      <th>50%</th>\n",
              "      <th>75%</th>\n",
              "      <th>max</th>\n",
              "      <th>count</th>\n",
              "      <th>mean</th>\n",
              "      <th>std</th>\n",
              "      <th>min</th>\n",
              "      <th>25%</th>\n",
              "      <th>50%</th>\n",
              "      <th>75%</th>\n",
              "      <th>max</th>\n",
              "      <th>count</th>\n",
              "      <th>mean</th>\n",
              "      <th>std</th>\n",
              "      <th>min</th>\n",
              "      <th>25%</th>\n",
              "      <th>50%</th>\n",
              "      <th>75%</th>\n",
              "      <th>max</th>\n",
              "      <th>count</th>\n",
              "      <th>mean</th>\n",
              "      <th>std</th>\n",
              "      <th>min</th>\n",
              "      <th>25%</th>\n",
              "      <th>50%</th>\n",
              "      <th>75%</th>\n",
              "      <th>max</th>\n",
              "      <th>count</th>\n",
              "      <th>mean</th>\n",
              "      <th>std</th>\n",
              "      <th>min</th>\n",
              "      <th>25%</th>\n",
              "      <th>50%</th>\n",
              "      <th>75%</th>\n",
              "      <th>max</th>\n",
              "    </tr>\n",
              "    <tr>\n",
              "      <th>Sugars</th>\n",
              "      <th></th>\n",
              "      <th></th>\n",
              "      <th></th>\n",
              "      <th></th>\n",
              "      <th></th>\n",
              "      <th></th>\n",
              "      <th></th>\n",
              "      <th></th>\n",
              "      <th></th>\n",
              "      <th></th>\n",
              "      <th></th>\n",
              "      <th></th>\n",
              "      <th></th>\n",
              "      <th></th>\n",
              "      <th></th>\n",
              "      <th></th>\n",
              "      <th></th>\n",
              "      <th></th>\n",
              "      <th></th>\n",
              "      <th></th>\n",
              "      <th></th>\n",
              "      <th></th>\n",
              "      <th></th>\n",
              "      <th></th>\n",
              "      <th></th>\n",
              "      <th></th>\n",
              "      <th></th>\n",
              "      <th></th>\n",
              "      <th></th>\n",
              "      <th></th>\n",
              "      <th></th>\n",
              "      <th></th>\n",
              "      <th></th>\n",
              "      <th></th>\n",
              "      <th></th>\n",
              "      <th></th>\n",
              "      <th></th>\n",
              "      <th></th>\n",
              "      <th></th>\n",
              "      <th></th>\n",
              "      <th></th>\n",
              "      <th></th>\n",
              "      <th></th>\n",
              "      <th></th>\n",
              "      <th></th>\n",
              "      <th></th>\n",
              "      <th></th>\n",
              "      <th></th>\n",
              "      <th></th>\n",
              "      <th></th>\n",
              "      <th></th>\n",
              "      <th></th>\n",
              "      <th></th>\n",
              "      <th></th>\n",
              "      <th></th>\n",
              "      <th></th>\n",
              "      <th></th>\n",
              "      <th></th>\n",
              "      <th></th>\n",
              "      <th></th>\n",
              "      <th></th>\n",
              "      <th></th>\n",
              "      <th></th>\n",
              "      <th></th>\n",
              "      <th></th>\n",
              "      <th></th>\n",
              "      <th></th>\n",
              "      <th></th>\n",
              "      <th></th>\n",
              "      <th></th>\n",
              "      <th></th>\n",
              "      <th></th>\n",
              "      <th></th>\n",
              "      <th></th>\n",
              "      <th></th>\n",
              "      <th></th>\n",
              "      <th></th>\n",
              "      <th></th>\n",
              "      <th></th>\n",
              "      <th></th>\n",
              "      <th></th>\n",
              "    </tr>\n",
              "  </thead>\n",
              "  <tbody>\n",
              "    <tr>\n",
              "      <th>0</th>\n",
              "      <td>25.0</td>\n",
              "      <td>128.800000</td>\n",
              "      <td>229.806440</td>\n",
              "      <td>0.0</td>\n",
              "      <td>0.0</td>\n",
              "      <td>0.0</td>\n",
              "      <td>190.0</td>\n",
              "      <td>940.0</td>\n",
              "      <td>25.0</td>\n",
              "      <td>66.400000</td>\n",
              "      <td>123.857445</td>\n",
              "      <td>0.0</td>\n",
              "      <td>0.0</td>\n",
              "      <td>0.0</td>\n",
              "      <td>100.0</td>\n",
              "      <td>530.0</td>\n",
              "      <td>25.0</td>\n",
              "      <td>7.360000</td>\n",
              "      <td>13.774614</td>\n",
              "      <td>0.0</td>\n",
              "      <td>0.000</td>\n",
              "      <td>0.00</td>\n",
              "      <td>11.000</td>\n",
              "      <td>59.0</td>\n",
              "      <td>25.0</td>\n",
              "      <td>11.240000</td>\n",
              "      <td>21.109398</td>\n",
              "      <td>0.0</td>\n",
              "      <td>0.00</td>\n",
              "      <td>0.0</td>\n",
              "      <td>17.00</td>\n",
              "      <td>91.0</td>\n",
              "      <td>25.0</td>\n",
              "      <td>1.200000</td>\n",
              "      <td>2.291288</td>\n",
              "      <td>0.0</td>\n",
              "      <td>0.00</td>\n",
              "      <td>0.0</td>\n",
              "      <td>1.50</td>\n",
              "      <td>10.0</td>\n",
              "      <td>...</td>\n",
              "      <td>25.0</td>\n",
              "      <td>4.480000</td>\n",
              "      <td>9.695875</td>\n",
              "      <td>0.0</td>\n",
              "      <td>0.0</td>\n",
              "      <td>1.0</td>\n",
              "      <td>4.0</td>\n",
              "      <td>44.0</td>\n",
              "      <td>25.0</td>\n",
              "      <td>0.000000</td>\n",
              "      <td>0.000000</td>\n",
              "      <td>0.0</td>\n",
              "      <td>0.0</td>\n",
              "      <td>0.0</td>\n",
              "      <td>0.00</td>\n",
              "      <td>0.0</td>\n",
              "      <td>25.0</td>\n",
              "      <td>7.120000</td>\n",
              "      <td>16.924637</td>\n",
              "      <td>0.0</td>\n",
              "      <td>0.00</td>\n",
              "      <td>0.0</td>\n",
              "      <td>2.00</td>\n",
              "      <td>70.0</td>\n",
              "      <td>25.0</td>\n",
              "      <td>0.480000</td>\n",
              "      <td>1.045626</td>\n",
              "      <td>0.0</td>\n",
              "      <td>0.00</td>\n",
              "      <td>0.0</td>\n",
              "      <td>0.0</td>\n",
              "      <td>4.0</td>\n",
              "      <td>25.0</td>\n",
              "      <td>1.680000</td>\n",
              "      <td>2.809508</td>\n",
              "      <td>0.0</td>\n",
              "      <td>0.00</td>\n",
              "      <td>0.0</td>\n",
              "      <td>2.00</td>\n",
              "      <td>10.0</td>\n",
              "    </tr>\n",
              "    <tr>\n",
              "      <th>1</th>\n",
              "      <td>2.0</td>\n",
              "      <td>980.000000</td>\n",
              "      <td>1272.792206</td>\n",
              "      <td>80.0</td>\n",
              "      <td>530.0</td>\n",
              "      <td>980.0</td>\n",
              "      <td>1430.0</td>\n",
              "      <td>1880.0</td>\n",
              "      <td>2.0</td>\n",
              "      <td>550.000000</td>\n",
              "      <td>721.248917</td>\n",
              "      <td>40.0</td>\n",
              "      <td>295.0</td>\n",
              "      <td>550.0</td>\n",
              "      <td>805.0</td>\n",
              "      <td>1060.0</td>\n",
              "      <td>2.0</td>\n",
              "      <td>61.250000</td>\n",
              "      <td>80.256620</td>\n",
              "      <td>4.5</td>\n",
              "      <td>32.875</td>\n",
              "      <td>61.25</td>\n",
              "      <td>89.625</td>\n",
              "      <td>118.0</td>\n",
              "      <td>2.0</td>\n",
              "      <td>94.500000</td>\n",
              "      <td>123.743687</td>\n",
              "      <td>7.0</td>\n",
              "      <td>50.75</td>\n",
              "      <td>94.5</td>\n",
              "      <td>138.25</td>\n",
              "      <td>182.0</td>\n",
              "      <td>2.0</td>\n",
              "      <td>11.500000</td>\n",
              "      <td>12.020815</td>\n",
              "      <td>3.0</td>\n",
              "      <td>7.25</td>\n",
              "      <td>11.5</td>\n",
              "      <td>15.75</td>\n",
              "      <td>20.0</td>\n",
              "      <td>...</td>\n",
              "      <td>2.0</td>\n",
              "      <td>44.000000</td>\n",
              "      <td>60.811183</td>\n",
              "      <td>1.0</td>\n",
              "      <td>22.5</td>\n",
              "      <td>44.0</td>\n",
              "      <td>65.5</td>\n",
              "      <td>87.0</td>\n",
              "      <td>2.0</td>\n",
              "      <td>2.000000</td>\n",
              "      <td>2.828427</td>\n",
              "      <td>0.0</td>\n",
              "      <td>1.0</td>\n",
              "      <td>2.0</td>\n",
              "      <td>3.00</td>\n",
              "      <td>4.0</td>\n",
              "      <td>2.0</td>\n",
              "      <td>7.500000</td>\n",
              "      <td>10.606602</td>\n",
              "      <td>0.0</td>\n",
              "      <td>3.75</td>\n",
              "      <td>7.5</td>\n",
              "      <td>11.25</td>\n",
              "      <td>15.0</td>\n",
              "      <td>2.0</td>\n",
              "      <td>6.000000</td>\n",
              "      <td>2.828427</td>\n",
              "      <td>4.0</td>\n",
              "      <td>5.00</td>\n",
              "      <td>6.0</td>\n",
              "      <td>7.0</td>\n",
              "      <td>8.0</td>\n",
              "      <td>2.0</td>\n",
              "      <td>12.500000</td>\n",
              "      <td>17.677670</td>\n",
              "      <td>0.0</td>\n",
              "      <td>6.25</td>\n",
              "      <td>12.5</td>\n",
              "      <td>18.75</td>\n",
              "      <td>25.0</td>\n",
              "    </tr>\n",
              "    <tr>\n",
              "      <th>2</th>\n",
              "      <td>11.0</td>\n",
              "      <td>299.090909</td>\n",
              "      <td>152.213964</td>\n",
              "      <td>20.0</td>\n",
              "      <td>205.0</td>\n",
              "      <td>300.0</td>\n",
              "      <td>415.0</td>\n",
              "      <td>510.0</td>\n",
              "      <td>11.0</td>\n",
              "      <td>151.818182</td>\n",
              "      <td>93.039581</td>\n",
              "      <td>0.0</td>\n",
              "      <td>75.0</td>\n",
              "      <td>150.0</td>\n",
              "      <td>225.0</td>\n",
              "      <td>290.0</td>\n",
              "      <td>11.0</td>\n",
              "      <td>17.000000</td>\n",
              "      <td>10.488088</td>\n",
              "      <td>0.0</td>\n",
              "      <td>8.500</td>\n",
              "      <td>16.00</td>\n",
              "      <td>25.000</td>\n",
              "      <td>33.0</td>\n",
              "      <td>11.0</td>\n",
              "      <td>26.181818</td>\n",
              "      <td>15.917400</td>\n",
              "      <td>0.0</td>\n",
              "      <td>13.50</td>\n",
              "      <td>25.0</td>\n",
              "      <td>38.50</td>\n",
              "      <td>50.0</td>\n",
              "      <td>11.0</td>\n",
              "      <td>7.045455</td>\n",
              "      <td>3.996589</td>\n",
              "      <td>0.0</td>\n",
              "      <td>4.50</td>\n",
              "      <td>7.0</td>\n",
              "      <td>9.00</td>\n",
              "      <td>14.0</td>\n",
              "      <td>...</td>\n",
              "      <td>11.0</td>\n",
              "      <td>12.090909</td>\n",
              "      <td>7.595453</td>\n",
              "      <td>1.0</td>\n",
              "      <td>6.5</td>\n",
              "      <td>14.0</td>\n",
              "      <td>17.0</td>\n",
              "      <td>21.0</td>\n",
              "      <td>11.0</td>\n",
              "      <td>9.454545</td>\n",
              "      <td>12.500909</td>\n",
              "      <td>0.0</td>\n",
              "      <td>3.0</td>\n",
              "      <td>6.0</td>\n",
              "      <td>9.00</td>\n",
              "      <td>45.0</td>\n",
              "      <td>11.0</td>\n",
              "      <td>2.818182</td>\n",
              "      <td>7.413746</td>\n",
              "      <td>0.0</td>\n",
              "      <td>0.00</td>\n",
              "      <td>0.0</td>\n",
              "      <td>2.00</td>\n",
              "      <td>25.0</td>\n",
              "      <td>11.0</td>\n",
              "      <td>13.181818</td>\n",
              "      <td>9.400193</td>\n",
              "      <td>2.0</td>\n",
              "      <td>7.00</td>\n",
              "      <td>10.0</td>\n",
              "      <td>20.0</td>\n",
              "      <td>30.0</td>\n",
              "      <td>11.0</td>\n",
              "      <td>9.909091</td>\n",
              "      <td>6.410219</td>\n",
              "      <td>0.0</td>\n",
              "      <td>7.00</td>\n",
              "      <td>10.0</td>\n",
              "      <td>15.00</td>\n",
              "      <td>20.0</td>\n",
              "    </tr>\n",
              "    <tr>\n",
              "      <th>3</th>\n",
              "      <td>17.0</td>\n",
              "      <td>453.823529</td>\n",
              "      <td>185.198622</td>\n",
              "      <td>15.0</td>\n",
              "      <td>360.0</td>\n",
              "      <td>460.0</td>\n",
              "      <td>540.0</td>\n",
              "      <td>800.0</td>\n",
              "      <td>17.0</td>\n",
              "      <td>232.941176</td>\n",
              "      <td>121.179861</td>\n",
              "      <td>0.0</td>\n",
              "      <td>180.0</td>\n",
              "      <td>230.0</td>\n",
              "      <td>290.0</td>\n",
              "      <td>470.0</td>\n",
              "      <td>17.0</td>\n",
              "      <td>25.941176</td>\n",
              "      <td>13.479014</td>\n",
              "      <td>0.0</td>\n",
              "      <td>20.000</td>\n",
              "      <td>26.00</td>\n",
              "      <td>32.000</td>\n",
              "      <td>52.0</td>\n",
              "      <td>17.0</td>\n",
              "      <td>39.941176</td>\n",
              "      <td>20.662377</td>\n",
              "      <td>0.0</td>\n",
              "      <td>30.00</td>\n",
              "      <td>40.0</td>\n",
              "      <td>49.00</td>\n",
              "      <td>80.0</td>\n",
              "      <td>17.0</td>\n",
              "      <td>10.382353</td>\n",
              "      <td>5.325438</td>\n",
              "      <td>0.0</td>\n",
              "      <td>5.00</td>\n",
              "      <td>12.0</td>\n",
              "      <td>14.00</td>\n",
              "      <td>18.0</td>\n",
              "      <td>...</td>\n",
              "      <td>17.0</td>\n",
              "      <td>18.705882</td>\n",
              "      <td>6.953099</td>\n",
              "      <td>0.0</td>\n",
              "      <td>17.0</td>\n",
              "      <td>18.0</td>\n",
              "      <td>25.0</td>\n",
              "      <td>28.0</td>\n",
              "      <td>17.0</td>\n",
              "      <td>6.176471</td>\n",
              "      <td>5.626225</td>\n",
              "      <td>0.0</td>\n",
              "      <td>2.0</td>\n",
              "      <td>4.0</td>\n",
              "      <td>10.00</td>\n",
              "      <td>15.0</td>\n",
              "      <td>17.0</td>\n",
              "      <td>11.058824</td>\n",
              "      <td>38.465034</td>\n",
              "      <td>0.0</td>\n",
              "      <td>0.00</td>\n",
              "      <td>2.0</td>\n",
              "      <td>2.00</td>\n",
              "      <td>160.0</td>\n",
              "      <td>17.0</td>\n",
              "      <td>13.647059</td>\n",
              "      <td>7.565887</td>\n",
              "      <td>2.0</td>\n",
              "      <td>8.00</td>\n",
              "      <td>10.0</td>\n",
              "      <td>15.0</td>\n",
              "      <td>30.0</td>\n",
              "      <td>17.0</td>\n",
              "      <td>15.470588</td>\n",
              "      <td>7.159938</td>\n",
              "      <td>0.0</td>\n",
              "      <td>10.00</td>\n",
              "      <td>15.0</td>\n",
              "      <td>20.00</td>\n",
              "      <td>30.0</td>\n",
              "    </tr>\n",
              "    <tr>\n",
              "      <th>4</th>\n",
              "      <td>6.0</td>\n",
              "      <td>418.333333</td>\n",
              "      <td>203.117372</td>\n",
              "      <td>140.0</td>\n",
              "      <td>282.5</td>\n",
              "      <td>470.0</td>\n",
              "      <td>507.5</td>\n",
              "      <td>690.0</td>\n",
              "      <td>6.0</td>\n",
              "      <td>205.000000</td>\n",
              "      <td>114.673449</td>\n",
              "      <td>70.0</td>\n",
              "      <td>115.0</td>\n",
              "      <td>220.0</td>\n",
              "      <td>257.5</td>\n",
              "      <td>370.0</td>\n",
              "      <td>6.0</td>\n",
              "      <td>22.500000</td>\n",
              "      <td>13.095801</td>\n",
              "      <td>7.0</td>\n",
              "      <td>12.000</td>\n",
              "      <td>24.50</td>\n",
              "      <td>28.750</td>\n",
              "      <td>41.0</td>\n",
              "      <td>6.0</td>\n",
              "      <td>34.833333</td>\n",
              "      <td>20.004166</td>\n",
              "      <td>11.0</td>\n",
              "      <td>19.00</td>\n",
              "      <td>37.5</td>\n",
              "      <td>44.75</td>\n",
              "      <td>63.0</td>\n",
              "      <td>6.0</td>\n",
              "      <td>9.416667</td>\n",
              "      <td>4.758326</td>\n",
              "      <td>3.5</td>\n",
              "      <td>5.25</td>\n",
              "      <td>10.5</td>\n",
              "      <td>13.50</td>\n",
              "      <td>14.0</td>\n",
              "      <td>...</td>\n",
              "      <td>6.0</td>\n",
              "      <td>20.000000</td>\n",
              "      <td>7.042727</td>\n",
              "      <td>9.0</td>\n",
              "      <td>17.5</td>\n",
              "      <td>19.5</td>\n",
              "      <td>24.5</td>\n",
              "      <td>29.0</td>\n",
              "      <td>6.0</td>\n",
              "      <td>51.500000</td>\n",
              "      <td>71.245351</td>\n",
              "      <td>4.0</td>\n",
              "      <td>4.5</td>\n",
              "      <td>10.5</td>\n",
              "      <td>86.25</td>\n",
              "      <td>170.0</td>\n",
              "      <td>6.0</td>\n",
              "      <td>13.333333</td>\n",
              "      <td>13.185851</td>\n",
              "      <td>2.0</td>\n",
              "      <td>3.50</td>\n",
              "      <td>8.0</td>\n",
              "      <td>24.50</td>\n",
              "      <td>30.0</td>\n",
              "      <td>6.0</td>\n",
              "      <td>13.833333</td>\n",
              "      <td>4.262237</td>\n",
              "      <td>8.0</td>\n",
              "      <td>11.25</td>\n",
              "      <td>15.0</td>\n",
              "      <td>15.0</td>\n",
              "      <td>20.0</td>\n",
              "      <td>6.0</td>\n",
              "      <td>13.166667</td>\n",
              "      <td>5.192944</td>\n",
              "      <td>6.0</td>\n",
              "      <td>9.75</td>\n",
              "      <td>15.0</td>\n",
              "      <td>15.00</td>\n",
              "      <td>20.0</td>\n",
              "    </tr>\n",
              "    <tr>\n",
              "      <th>...</th>\n",
              "      <td>...</td>\n",
              "      <td>...</td>\n",
              "      <td>...</td>\n",
              "      <td>...</td>\n",
              "      <td>...</td>\n",
              "      <td>...</td>\n",
              "      <td>...</td>\n",
              "      <td>...</td>\n",
              "      <td>...</td>\n",
              "      <td>...</td>\n",
              "      <td>...</td>\n",
              "      <td>...</td>\n",
              "      <td>...</td>\n",
              "      <td>...</td>\n",
              "      <td>...</td>\n",
              "      <td>...</td>\n",
              "      <td>...</td>\n",
              "      <td>...</td>\n",
              "      <td>...</td>\n",
              "      <td>...</td>\n",
              "      <td>...</td>\n",
              "      <td>...</td>\n",
              "      <td>...</td>\n",
              "      <td>...</td>\n",
              "      <td>...</td>\n",
              "      <td>...</td>\n",
              "      <td>...</td>\n",
              "      <td>...</td>\n",
              "      <td>...</td>\n",
              "      <td>...</td>\n",
              "      <td>...</td>\n",
              "      <td>...</td>\n",
              "      <td>...</td>\n",
              "      <td>...</td>\n",
              "      <td>...</td>\n",
              "      <td>...</td>\n",
              "      <td>...</td>\n",
              "      <td>...</td>\n",
              "      <td>...</td>\n",
              "      <td>...</td>\n",
              "      <td>...</td>\n",
              "      <td>...</td>\n",
              "      <td>...</td>\n",
              "      <td>...</td>\n",
              "      <td>...</td>\n",
              "      <td>...</td>\n",
              "      <td>...</td>\n",
              "      <td>...</td>\n",
              "      <td>...</td>\n",
              "      <td>...</td>\n",
              "      <td>...</td>\n",
              "      <td>...</td>\n",
              "      <td>...</td>\n",
              "      <td>...</td>\n",
              "      <td>...</td>\n",
              "      <td>...</td>\n",
              "      <td>...</td>\n",
              "      <td>...</td>\n",
              "      <td>...</td>\n",
              "      <td>...</td>\n",
              "      <td>...</td>\n",
              "      <td>...</td>\n",
              "      <td>...</td>\n",
              "      <td>...</td>\n",
              "      <td>...</td>\n",
              "      <td>...</td>\n",
              "      <td>...</td>\n",
              "      <td>...</td>\n",
              "      <td>...</td>\n",
              "      <td>...</td>\n",
              "      <td>...</td>\n",
              "      <td>...</td>\n",
              "      <td>...</td>\n",
              "      <td>...</td>\n",
              "      <td>...</td>\n",
              "      <td>...</td>\n",
              "      <td>...</td>\n",
              "      <td>...</td>\n",
              "      <td>...</td>\n",
              "      <td>...</td>\n",
              "      <td>...</td>\n",
              "    </tr>\n",
              "    <tr>\n",
              "      <th>103</th>\n",
              "      <td>1.0</td>\n",
              "      <td>810.000000</td>\n",
              "      <td>NaN</td>\n",
              "      <td>810.0</td>\n",
              "      <td>810.0</td>\n",
              "      <td>810.0</td>\n",
              "      <td>810.0</td>\n",
              "      <td>810.0</td>\n",
              "      <td>1.0</td>\n",
              "      <td>290.000000</td>\n",
              "      <td>NaN</td>\n",
              "      <td>290.0</td>\n",
              "      <td>290.0</td>\n",
              "      <td>290.0</td>\n",
              "      <td>290.0</td>\n",
              "      <td>290.0</td>\n",
              "      <td>1.0</td>\n",
              "      <td>32.000000</td>\n",
              "      <td>NaN</td>\n",
              "      <td>32.0</td>\n",
              "      <td>32.000</td>\n",
              "      <td>32.00</td>\n",
              "      <td>32.000</td>\n",
              "      <td>32.0</td>\n",
              "      <td>1.0</td>\n",
              "      <td>50.000000</td>\n",
              "      <td>NaN</td>\n",
              "      <td>50.0</td>\n",
              "      <td>50.00</td>\n",
              "      <td>50.0</td>\n",
              "      <td>50.00</td>\n",
              "      <td>50.0</td>\n",
              "      <td>1.0</td>\n",
              "      <td>15.000000</td>\n",
              "      <td>NaN</td>\n",
              "      <td>15.0</td>\n",
              "      <td>15.00</td>\n",
              "      <td>15.0</td>\n",
              "      <td>15.00</td>\n",
              "      <td>15.0</td>\n",
              "      <td>...</td>\n",
              "      <td>1.0</td>\n",
              "      <td>21.000000</td>\n",
              "      <td>NaN</td>\n",
              "      <td>21.0</td>\n",
              "      <td>21.0</td>\n",
              "      <td>21.0</td>\n",
              "      <td>21.0</td>\n",
              "      <td>21.0</td>\n",
              "      <td>1.0</td>\n",
              "      <td>20.000000</td>\n",
              "      <td>NaN</td>\n",
              "      <td>20.0</td>\n",
              "      <td>20.0</td>\n",
              "      <td>20.0</td>\n",
              "      <td>20.00</td>\n",
              "      <td>20.0</td>\n",
              "      <td>1.0</td>\n",
              "      <td>0.000000</td>\n",
              "      <td>NaN</td>\n",
              "      <td>0.0</td>\n",
              "      <td>0.00</td>\n",
              "      <td>0.0</td>\n",
              "      <td>0.00</td>\n",
              "      <td>0.0</td>\n",
              "      <td>1.0</td>\n",
              "      <td>60.000000</td>\n",
              "      <td>NaN</td>\n",
              "      <td>60.0</td>\n",
              "      <td>60.00</td>\n",
              "      <td>60.0</td>\n",
              "      <td>60.0</td>\n",
              "      <td>60.0</td>\n",
              "      <td>1.0</td>\n",
              "      <td>6.000000</td>\n",
              "      <td>NaN</td>\n",
              "      <td>6.0</td>\n",
              "      <td>6.00</td>\n",
              "      <td>6.0</td>\n",
              "      <td>6.00</td>\n",
              "      <td>6.0</td>\n",
              "    </tr>\n",
              "    <tr>\n",
              "      <th>115</th>\n",
              "      <td>1.0</td>\n",
              "      <td>820.000000</td>\n",
              "      <td>NaN</td>\n",
              "      <td>820.0</td>\n",
              "      <td>820.0</td>\n",
              "      <td>820.0</td>\n",
              "      <td>820.0</td>\n",
              "      <td>820.0</td>\n",
              "      <td>1.0</td>\n",
              "      <td>210.000000</td>\n",
              "      <td>NaN</td>\n",
              "      <td>210.0</td>\n",
              "      <td>210.0</td>\n",
              "      <td>210.0</td>\n",
              "      <td>210.0</td>\n",
              "      <td>210.0</td>\n",
              "      <td>1.0</td>\n",
              "      <td>23.000000</td>\n",
              "      <td>NaN</td>\n",
              "      <td>23.0</td>\n",
              "      <td>23.000</td>\n",
              "      <td>23.00</td>\n",
              "      <td>23.000</td>\n",
              "      <td>23.0</td>\n",
              "      <td>1.0</td>\n",
              "      <td>35.000000</td>\n",
              "      <td>NaN</td>\n",
              "      <td>35.0</td>\n",
              "      <td>35.00</td>\n",
              "      <td>35.0</td>\n",
              "      <td>35.00</td>\n",
              "      <td>35.0</td>\n",
              "      <td>1.0</td>\n",
              "      <td>15.000000</td>\n",
              "      <td>NaN</td>\n",
              "      <td>15.0</td>\n",
              "      <td>15.00</td>\n",
              "      <td>15.0</td>\n",
              "      <td>15.00</td>\n",
              "      <td>15.0</td>\n",
              "      <td>...</td>\n",
              "      <td>1.0</td>\n",
              "      <td>18.000000</td>\n",
              "      <td>NaN</td>\n",
              "      <td>18.0</td>\n",
              "      <td>18.0</td>\n",
              "      <td>18.0</td>\n",
              "      <td>18.0</td>\n",
              "      <td>18.0</td>\n",
              "      <td>1.0</td>\n",
              "      <td>30.000000</td>\n",
              "      <td>NaN</td>\n",
              "      <td>30.0</td>\n",
              "      <td>30.0</td>\n",
              "      <td>30.0</td>\n",
              "      <td>30.00</td>\n",
              "      <td>30.0</td>\n",
              "      <td>1.0</td>\n",
              "      <td>0.000000</td>\n",
              "      <td>NaN</td>\n",
              "      <td>0.0</td>\n",
              "      <td>0.00</td>\n",
              "      <td>0.0</td>\n",
              "      <td>0.00</td>\n",
              "      <td>0.0</td>\n",
              "      <td>1.0</td>\n",
              "      <td>60.000000</td>\n",
              "      <td>NaN</td>\n",
              "      <td>60.0</td>\n",
              "      <td>60.00</td>\n",
              "      <td>60.0</td>\n",
              "      <td>60.0</td>\n",
              "      <td>60.0</td>\n",
              "      <td>1.0</td>\n",
              "      <td>0.000000</td>\n",
              "      <td>NaN</td>\n",
              "      <td>0.0</td>\n",
              "      <td>0.00</td>\n",
              "      <td>0.0</td>\n",
              "      <td>0.00</td>\n",
              "      <td>0.0</td>\n",
              "    </tr>\n",
              "    <tr>\n",
              "      <th>120</th>\n",
              "      <td>1.0</td>\n",
              "      <td>850.000000</td>\n",
              "      <td>NaN</td>\n",
              "      <td>850.0</td>\n",
              "      <td>850.0</td>\n",
              "      <td>850.0</td>\n",
              "      <td>850.0</td>\n",
              "      <td>850.0</td>\n",
              "      <td>1.0</td>\n",
              "      <td>210.000000</td>\n",
              "      <td>NaN</td>\n",
              "      <td>210.0</td>\n",
              "      <td>210.0</td>\n",
              "      <td>210.0</td>\n",
              "      <td>210.0</td>\n",
              "      <td>210.0</td>\n",
              "      <td>1.0</td>\n",
              "      <td>23.000000</td>\n",
              "      <td>NaN</td>\n",
              "      <td>23.0</td>\n",
              "      <td>23.000</td>\n",
              "      <td>23.00</td>\n",
              "      <td>23.000</td>\n",
              "      <td>23.0</td>\n",
              "      <td>1.0</td>\n",
              "      <td>36.000000</td>\n",
              "      <td>NaN</td>\n",
              "      <td>36.0</td>\n",
              "      <td>36.00</td>\n",
              "      <td>36.0</td>\n",
              "      <td>36.00</td>\n",
              "      <td>36.0</td>\n",
              "      <td>1.0</td>\n",
              "      <td>15.000000</td>\n",
              "      <td>NaN</td>\n",
              "      <td>15.0</td>\n",
              "      <td>15.00</td>\n",
              "      <td>15.0</td>\n",
              "      <td>15.00</td>\n",
              "      <td>15.0</td>\n",
              "      <td>...</td>\n",
              "      <td>1.0</td>\n",
              "      <td>19.000000</td>\n",
              "      <td>NaN</td>\n",
              "      <td>19.0</td>\n",
              "      <td>19.0</td>\n",
              "      <td>19.0</td>\n",
              "      <td>19.0</td>\n",
              "      <td>19.0</td>\n",
              "      <td>1.0</td>\n",
              "      <td>30.000000</td>\n",
              "      <td>NaN</td>\n",
              "      <td>30.0</td>\n",
              "      <td>30.0</td>\n",
              "      <td>30.0</td>\n",
              "      <td>30.00</td>\n",
              "      <td>30.0</td>\n",
              "      <td>1.0</td>\n",
              "      <td>0.000000</td>\n",
              "      <td>NaN</td>\n",
              "      <td>0.0</td>\n",
              "      <td>0.00</td>\n",
              "      <td>0.0</td>\n",
              "      <td>0.00</td>\n",
              "      <td>0.0</td>\n",
              "      <td>1.0</td>\n",
              "      <td>60.000000</td>\n",
              "      <td>NaN</td>\n",
              "      <td>60.0</td>\n",
              "      <td>60.00</td>\n",
              "      <td>60.0</td>\n",
              "      <td>60.0</td>\n",
              "      <td>60.0</td>\n",
              "      <td>1.0</td>\n",
              "      <td>15.000000</td>\n",
              "      <td>NaN</td>\n",
              "      <td>15.0</td>\n",
              "      <td>15.00</td>\n",
              "      <td>15.0</td>\n",
              "      <td>15.00</td>\n",
              "      <td>15.0</td>\n",
              "    </tr>\n",
              "    <tr>\n",
              "      <th>123</th>\n",
              "      <td>1.0</td>\n",
              "      <td>850.000000</td>\n",
              "      <td>NaN</td>\n",
              "      <td>850.0</td>\n",
              "      <td>850.0</td>\n",
              "      <td>850.0</td>\n",
              "      <td>850.0</td>\n",
              "      <td>850.0</td>\n",
              "      <td>1.0</td>\n",
              "      <td>210.000000</td>\n",
              "      <td>NaN</td>\n",
              "      <td>210.0</td>\n",
              "      <td>210.0</td>\n",
              "      <td>210.0</td>\n",
              "      <td>210.0</td>\n",
              "      <td>210.0</td>\n",
              "      <td>1.0</td>\n",
              "      <td>24.000000</td>\n",
              "      <td>NaN</td>\n",
              "      <td>24.0</td>\n",
              "      <td>24.000</td>\n",
              "      <td>24.00</td>\n",
              "      <td>24.000</td>\n",
              "      <td>24.0</td>\n",
              "      <td>1.0</td>\n",
              "      <td>36.000000</td>\n",
              "      <td>NaN</td>\n",
              "      <td>36.0</td>\n",
              "      <td>36.00</td>\n",
              "      <td>36.0</td>\n",
              "      <td>36.00</td>\n",
              "      <td>36.0</td>\n",
              "      <td>1.0</td>\n",
              "      <td>15.000000</td>\n",
              "      <td>NaN</td>\n",
              "      <td>15.0</td>\n",
              "      <td>15.00</td>\n",
              "      <td>15.0</td>\n",
              "      <td>15.00</td>\n",
              "      <td>15.0</td>\n",
              "      <td>...</td>\n",
              "      <td>1.0</td>\n",
              "      <td>18.000000</td>\n",
              "      <td>NaN</td>\n",
              "      <td>18.0</td>\n",
              "      <td>18.0</td>\n",
              "      <td>18.0</td>\n",
              "      <td>18.0</td>\n",
              "      <td>18.0</td>\n",
              "      <td>1.0</td>\n",
              "      <td>30.000000</td>\n",
              "      <td>NaN</td>\n",
              "      <td>30.0</td>\n",
              "      <td>30.0</td>\n",
              "      <td>30.0</td>\n",
              "      <td>30.00</td>\n",
              "      <td>30.0</td>\n",
              "      <td>1.0</td>\n",
              "      <td>0.000000</td>\n",
              "      <td>NaN</td>\n",
              "      <td>0.0</td>\n",
              "      <td>0.00</td>\n",
              "      <td>0.0</td>\n",
              "      <td>0.00</td>\n",
              "      <td>0.0</td>\n",
              "      <td>1.0</td>\n",
              "      <td>70.000000</td>\n",
              "      <td>NaN</td>\n",
              "      <td>70.0</td>\n",
              "      <td>70.00</td>\n",
              "      <td>70.0</td>\n",
              "      <td>70.0</td>\n",
              "      <td>70.0</td>\n",
              "      <td>1.0</td>\n",
              "      <td>0.000000</td>\n",
              "      <td>NaN</td>\n",
              "      <td>0.0</td>\n",
              "      <td>0.00</td>\n",
              "      <td>0.0</td>\n",
              "      <td>0.00</td>\n",
              "      <td>0.0</td>\n",
              "    </tr>\n",
              "    <tr>\n",
              "      <th>128</th>\n",
              "      <td>1.0</td>\n",
              "      <td>930.000000</td>\n",
              "      <td>NaN</td>\n",
              "      <td>930.0</td>\n",
              "      <td>930.0</td>\n",
              "      <td>930.0</td>\n",
              "      <td>930.0</td>\n",
              "      <td>930.0</td>\n",
              "      <td>1.0</td>\n",
              "      <td>290.000000</td>\n",
              "      <td>NaN</td>\n",
              "      <td>290.0</td>\n",
              "      <td>290.0</td>\n",
              "      <td>290.0</td>\n",
              "      <td>290.0</td>\n",
              "      <td>290.0</td>\n",
              "      <td>1.0</td>\n",
              "      <td>33.000000</td>\n",
              "      <td>NaN</td>\n",
              "      <td>33.0</td>\n",
              "      <td>33.000</td>\n",
              "      <td>33.00</td>\n",
              "      <td>33.000</td>\n",
              "      <td>33.0</td>\n",
              "      <td>1.0</td>\n",
              "      <td>50.000000</td>\n",
              "      <td>NaN</td>\n",
              "      <td>50.0</td>\n",
              "      <td>50.00</td>\n",
              "      <td>50.0</td>\n",
              "      <td>50.00</td>\n",
              "      <td>50.0</td>\n",
              "      <td>1.0</td>\n",
              "      <td>20.000000</td>\n",
              "      <td>NaN</td>\n",
              "      <td>20.0</td>\n",
              "      <td>20.00</td>\n",
              "      <td>20.0</td>\n",
              "      <td>20.00</td>\n",
              "      <td>20.0</td>\n",
              "      <td>...</td>\n",
              "      <td>1.0</td>\n",
              "      <td>20.000000</td>\n",
              "      <td>NaN</td>\n",
              "      <td>20.0</td>\n",
              "      <td>20.0</td>\n",
              "      <td>20.0</td>\n",
              "      <td>20.0</td>\n",
              "      <td>20.0</td>\n",
              "      <td>1.0</td>\n",
              "      <td>25.000000</td>\n",
              "      <td>NaN</td>\n",
              "      <td>25.0</td>\n",
              "      <td>25.0</td>\n",
              "      <td>25.0</td>\n",
              "      <td>25.00</td>\n",
              "      <td>25.0</td>\n",
              "      <td>1.0</td>\n",
              "      <td>0.000000</td>\n",
              "      <td>NaN</td>\n",
              "      <td>0.0</td>\n",
              "      <td>0.00</td>\n",
              "      <td>0.0</td>\n",
              "      <td>0.00</td>\n",
              "      <td>0.0</td>\n",
              "      <td>1.0</td>\n",
              "      <td>70.000000</td>\n",
              "      <td>NaN</td>\n",
              "      <td>70.0</td>\n",
              "      <td>70.00</td>\n",
              "      <td>70.0</td>\n",
              "      <td>70.0</td>\n",
              "      <td>70.0</td>\n",
              "      <td>1.0</td>\n",
              "      <td>10.000000</td>\n",
              "      <td>NaN</td>\n",
              "      <td>10.0</td>\n",
              "      <td>10.00</td>\n",
              "      <td>10.0</td>\n",
              "      <td>10.00</td>\n",
              "      <td>10.0</td>\n",
              "    </tr>\n",
              "  </tbody>\n",
              "</table>\n",
              "<p>83 rows × 160 columns</p>\n",
              "</div>"
            ],
            "text/plain": [
              "       Calories                                  ... Iron (% Daily Value)                   \n",
              "          count        mean          std    min  ...                  25%   50%    75%   max\n",
              "Sugars                                           ...                                        \n",
              "0          25.0  128.800000   229.806440    0.0  ...                 0.00   0.0   2.00  10.0\n",
              "1           2.0  980.000000  1272.792206   80.0  ...                 6.25  12.5  18.75  25.0\n",
              "2          11.0  299.090909   152.213964   20.0  ...                 7.00  10.0  15.00  20.0\n",
              "3          17.0  453.823529   185.198622   15.0  ...                10.00  15.0  20.00  30.0\n",
              "4           6.0  418.333333   203.117372  140.0  ...                 9.75  15.0  15.00  20.0\n",
              "...         ...         ...          ...    ...  ...                  ...   ...    ...   ...\n",
              "103         1.0  810.000000          NaN  810.0  ...                 6.00   6.0   6.00   6.0\n",
              "115         1.0  820.000000          NaN  820.0  ...                 0.00   0.0   0.00   0.0\n",
              "120         1.0  850.000000          NaN  850.0  ...                15.00  15.0  15.00  15.0\n",
              "123         1.0  850.000000          NaN  850.0  ...                 0.00   0.0   0.00   0.0\n",
              "128         1.0  930.000000          NaN  930.0  ...                10.00  10.0  10.00  10.0\n",
              "\n",
              "[83 rows x 160 columns]"
            ]
          },
          "metadata": {
            "tags": []
          },
          "execution_count": 51
        }
      ]
    },
    {
      "cell_type": "markdown",
      "metadata": {
        "id": "2rB5k7BcCiCR"
      },
      "source": [
        "- **Analisis Pengelompokan** : \r\n",
        "\r\n",
        "Digunakan acuan Sugras dan dibagi menjadi Calories,\tCalories from Fat,\tTotal Fat,\tTotal Fat (% Daily Value),\tSaturated Fat\t...\tProtein,\tVitamin A (% Daily Value),\tVitamin C (% Daily Value),\tCalcium (% Daily Value),\tIron (% Daily Value)"
      ]
    },
    {
      "cell_type": "markdown",
      "metadata": {
        "id": "4kh-t0EsD0VN"
      },
      "source": [
        "**Tahap ketiga** : \r\n",
        "\r\n",
        "Pengelompokan indeks integer untuk pemilihan berdasarkan kolom 3 sampai 6."
      ]
    },
    {
      "cell_type": "code",
      "metadata": {
        "colab": {
          "base_uri": "https://localhost:8080/",
          "height": 200
        },
        "id": "lvQOjHF1EIvr",
        "outputId": "e9c30805-150a-46b6-df52-1a2be7419963"
      },
      "source": [
        "nutrisi_x = nutrisi.iloc[:, 3:6]\r\n",
        "nutrisi_x.head()"
      ],
      "execution_count": null,
      "outputs": [
        {
          "output_type": "execute_result",
          "data": {
            "text/html": [
              "<div>\n",
              "<style scoped>\n",
              "    .dataframe tbody tr th:only-of-type {\n",
              "        vertical-align: middle;\n",
              "    }\n",
              "\n",
              "    .dataframe tbody tr th {\n",
              "        vertical-align: top;\n",
              "    }\n",
              "\n",
              "    .dataframe thead th {\n",
              "        text-align: right;\n",
              "    }\n",
              "</style>\n",
              "<table border=\"1\" class=\"dataframe\">\n",
              "  <thead>\n",
              "    <tr style=\"text-align: right;\">\n",
              "      <th></th>\n",
              "      <th>Calories</th>\n",
              "      <th>Calories from Fat</th>\n",
              "      <th>Total Fat</th>\n",
              "    </tr>\n",
              "  </thead>\n",
              "  <tbody>\n",
              "    <tr>\n",
              "      <th>0</th>\n",
              "      <td>300</td>\n",
              "      <td>120</td>\n",
              "      <td>13.0</td>\n",
              "    </tr>\n",
              "    <tr>\n",
              "      <th>1</th>\n",
              "      <td>250</td>\n",
              "      <td>70</td>\n",
              "      <td>8.0</td>\n",
              "    </tr>\n",
              "    <tr>\n",
              "      <th>2</th>\n",
              "      <td>370</td>\n",
              "      <td>200</td>\n",
              "      <td>23.0</td>\n",
              "    </tr>\n",
              "    <tr>\n",
              "      <th>3</th>\n",
              "      <td>450</td>\n",
              "      <td>250</td>\n",
              "      <td>28.0</td>\n",
              "    </tr>\n",
              "    <tr>\n",
              "      <th>4</th>\n",
              "      <td>400</td>\n",
              "      <td>210</td>\n",
              "      <td>23.0</td>\n",
              "    </tr>\n",
              "  </tbody>\n",
              "</table>\n",
              "</div>"
            ],
            "text/plain": [
              "   Calories  Calories from Fat  Total Fat\n",
              "0       300                120       13.0\n",
              "1       250                 70        8.0\n",
              "2       370                200       23.0\n",
              "3       450                250       28.0\n",
              "4       400                210       23.0"
            ]
          },
          "metadata": {
            "tags": []
          },
          "execution_count": 55
        }
      ]
    },
    {
      "cell_type": "markdown",
      "metadata": {
        "id": "CKyO_3ElEVzy"
      },
      "source": [
        "- **Analisis** : \r\n",
        "\r\n",
        "Kolom yang muncul yaitu Calories, Calories from Fat, Total Fat karena kolom tersebut memiliki nilai integer."
      ]
    },
    {
      "cell_type": "markdown",
      "metadata": {
        "id": "npDF6uqoEfiL"
      },
      "source": [
        "**Tahap Keempat** : \r\n",
        "\r\n",
        "Pengelompokan menggunakan metode Elbow."
      ]
    },
    {
      "cell_type": "code",
      "metadata": {
        "colab": {
          "base_uri": "https://localhost:8080/",
          "height": 295
        },
        "id": "dfh8WeZNGIt_",
        "outputId": "6ab74067-f2d2-46eb-d9e1-6b3336b90427"
      },
      "source": [
        "# Menggunakan metode elbow untuk menentukan angka cluster yang tepat\r\n",
        "wcss = []\r\n",
        "for i in range(1, 11):\r\n",
        "    kmeans = KMeans(n_clusters = i, init = 'k-means++', random_state = 42)\r\n",
        "    kmeans.fit(nutrisi_x)\r\n",
        "    wcss.append(kmeans.inertia_)\r\n",
        "plt.plot(range(1, 11), wcss)\r\n",
        "plt.title('Metode Elbow')\r\n",
        "plt.xlabel('Sugars')\r\n",
        "plt.ylabel('WCSS')\r\n",
        "plt.show()"
      ],
      "execution_count": null,
      "outputs": [
        {
          "output_type": "display_data",
          "data": {
            "image/png": "[encoded data removed]",
            "text/plain": [
              "<Figure size 432x288 with 1 Axes>"
            ]
          },
          "metadata": {
            "tags": [],
            "needs_background": "light"
          }
        }
      ]
    },
    {
      "cell_type": "markdown",
      "metadata": {
        "id": "tdrh5xQ9HGpv"
      },
      "source": [
        "**Analisis** : \r\n",
        "\r\n",
        "- Pengelompokan menggunakan metode Elbow untuk mengetahui gula yang optimal.\r\n",
        "\r\n",
        "- Elbow yang di temukan pada titik (x,y) = (3, 0.80)"
      ]
    },
    {
      "cell_type": "markdown",
      "metadata": {
        "id": "Iz3fRhJxH9cf"
      },
      "source": [
        "**Tahap kelima** : \r\n",
        "\r\n",
        "Pengelompokkan menggunakan KMeans Clustering"
      ]
    },
    {
      "cell_type": "code",
      "metadata": {
        "id": "4r47h6Kh8-31"
      },
      "source": [
        "# Menjalankan K-Means Clustering ke dataset\r\n",
        "kmeans = KMeans(n_clusters = 5, init = 'k-means++', random_state = 42)\r\n",
        "y_kmeans = kmeans.fit_predict(nutrisi_x)"
      ],
      "execution_count": null,
      "outputs": []
    },
    {
      "cell_type": "code",
      "metadata": {
        "colab": {
          "base_uri": "https://localhost:8080/"
        },
        "id": "Da_JYwDo84D4",
        "outputId": "f646c3a9-5b71-4097-c91c-3cd5baab7549"
      },
      "source": [
        "print(kmeans.cluster_centers_)"
      ],
      "execution_count": null,
      "outputs": [
        {
          "output_type": "stream",
          "text": [
            "[[ 509.88095238  206.78571429   22.98809524]\n",
            " [ 107.23076923   16.61538462    1.88461538]\n",
            " [ 834.28571429  352.38095238   39.19047619]\n",
            " [ 298.31460674   68.93258427    7.73595506]\n",
            " [1880.         1060.          118.        ]]\n"
          ],
          "name": "stdout"
        }
      ]
    },
    {
      "cell_type": "markdown",
      "metadata": {
        "id": "5qeobkKyIlRO"
      },
      "source": [
        "- **Analisis** : \r\n",
        "\r\n",
        "Prediksi yang didapatkan dari pengelompokan jumlah data nutrisi_x yaitu dari kolom Calories,\tCalories from Fat,\tTotal Fat. Membentuk matriks 3x3 dari pengelompokkan nilai tengah."
      ]
    },
    {
      "cell_type": "markdown",
      "metadata": {
        "id": "znIW_ZDtI1J2"
      },
      "source": [
        "**Tahap ke enam:**\r\n",
        "\r\n",
        "Pengelompokkan berdasarkan array"
      ]
    },
    {
      "cell_type": "code",
      "metadata": {
        "colab": {
          "base_uri": "https://localhost:8080/"
        },
        "id": "Stk9P04C747s",
        "outputId": "553e3850-a488-4427-8142-05725769e558"
      },
      "source": [
        "x_array = np.array(nutrisi_x)\r\n",
        "print(x_array)"
      ],
      "execution_count": null,
      "outputs": [
        {
          "output_type": "stream",
          "text": [
            "[[3.00e+02 1.20e+02 1.30e+01]\n",
            " [2.50e+02 7.00e+01 8.00e+00]\n",
            " [3.70e+02 2.00e+02 2.30e+01]\n",
            " [4.50e+02 2.50e+02 2.80e+01]\n",
            " [4.00e+02 2.10e+02 2.30e+01]\n",
            " [4.30e+02 2.10e+02 2.30e+01]\n",
            " [4.60e+02 2.30e+02 2.60e+01]\n",
            " [5.20e+02 2.70e+02 3.00e+01]\n",
            " [4.10e+02 1.80e+02 2.00e+01]\n",
            " [4.70e+02 2.20e+02 2.50e+01]\n",
            " [4.30e+02 2.40e+02 2.70e+01]\n",
            " [4.80e+02 2.80e+02 3.10e+01]\n",
            " [5.10e+02 2.90e+02 3.30e+01]\n",
            " [5.70e+02 3.30e+02 3.70e+01]\n",
            " [4.60e+02 2.50e+02 2.70e+01]\n",
            " [5.20e+02 2.80e+02 3.20e+01]\n",
            " [4.10e+02 1.80e+02 2.00e+01]\n",
            " [4.70e+02 2.20e+02 2.40e+01]\n",
            " [5.40e+02 2.90e+02 3.20e+01]\n",
            " [4.60e+02 1.90e+02 2.10e+01]\n",
            " [4.00e+02 1.40e+02 1.50e+01]\n",
            " [4.20e+02 2.00e+02 2.20e+01]\n",
            " [5.50e+02 2.80e+02 3.10e+01]\n",
            " [5.00e+02 2.30e+02 2.60e+01]\n",
            " [6.20e+02 2.80e+02 3.10e+01]\n",
            " [5.70e+02 2.30e+02 2.50e+01]\n",
            " [6.70e+02 3.10e+02 3.50e+01]\n",
            " [7.40e+02 4.30e+02 4.80e+01]\n",
            " [8.00e+02 4.70e+02 5.20e+01]\n",
            " [6.40e+02 3.30e+02 3.70e+01]\n",
            " [6.90e+02 3.70e+02 4.10e+01]\n",
            " [1.09e+03 5.10e+02 5.60e+01]\n",
            " [1.15e+03 5.40e+02 6.00e+01]\n",
            " [9.90e+02 4.10e+02 4.60e+01]\n",
            " [1.05e+03 4.50e+02 5.00e+01]\n",
            " [3.50e+02 8.00e+01 9.00e+00]\n",
            " [5.20e+02 2.10e+02 2.40e+01]\n",
            " [3.00e+02 1.50e+02 1.60e+01]\n",
            " [1.50e+02 8.00e+01 9.00e+00]\n",
            " [4.60e+02 1.70e+02 1.90e+01]\n",
            " [2.90e+02 3.50e+01 4.00e+00]\n",
            " [2.60e+02 4.00e+01 4.00e+00]\n",
            " [5.30e+02 2.40e+02 2.70e+01]\n",
            " [5.20e+02 2.40e+02 2.60e+01]\n",
            " [6.00e+02 2.60e+02 2.90e+01]\n",
            " [6.10e+02 2.80e+02 3.10e+01]\n",
            " [5.40e+02 2.50e+02 2.70e+01]\n",
            " [7.50e+02 3.80e+02 4.30e+01]\n",
            " [2.40e+02 7.00e+01 8.00e+00]\n",
            " [2.90e+02 1.00e+02 1.10e+01]\n",
            " [4.30e+02 1.90e+02 2.10e+01]\n",
            " [7.20e+02 3.60e+02 4.00e+01]\n",
            " [3.80e+02 1.50e+02 1.70e+01]\n",
            " [4.40e+02 2.00e+02 2.20e+01]\n",
            " [4.30e+02 2.00e+02 2.20e+01]\n",
            " [4.30e+02 2.10e+02 2.30e+01]\n",
            " [5.00e+02 2.40e+02 2.60e+01]\n",
            " [5.10e+02 2.00e+02 2.20e+01]\n",
            " [3.50e+02 8.00e+01 9.00e+00]\n",
            " [6.70e+02 3.00e+02 3.30e+01]\n",
            " [5.10e+02 1.80e+02 2.00e+01]\n",
            " [6.10e+02 2.50e+02 2.80e+01]\n",
            " [4.50e+02 1.30e+02 1.50e+01]\n",
            " [7.50e+02 3.40e+02 3.80e+01]\n",
            " [5.90e+02 2.30e+02 2.50e+01]\n",
            " [4.30e+02 1.70e+02 1.90e+01]\n",
            " [3.60e+02 1.40e+02 1.60e+01]\n",
            " [4.80e+02 2.20e+02 2.40e+01]\n",
            " [4.30e+02 1.90e+02 2.10e+01]\n",
            " [3.60e+02 1.50e+02 1.60e+01]\n",
            " [6.30e+02 2.80e+02 3.20e+01]\n",
            " [4.80e+02 1.70e+02 1.90e+01]\n",
            " [6.10e+02 2.80e+02 3.10e+01]\n",
            " [4.50e+02 1.60e+02 1.80e+01]\n",
            " [6.70e+02 3.00e+02 3.30e+01]\n",
            " [5.20e+02 1.80e+02 2.00e+01]\n",
            " [5.40e+02 2.00e+02 2.30e+01]\n",
            " [3.80e+02 9.00e+01 1.00e+01]\n",
            " [1.90e+02 1.10e+02 1.20e+01]\n",
            " [2.80e+02 1.60e+02 1.80e+01]\n",
            " [4.70e+02 2.70e+02 3.00e+01]\n",
            " [9.40e+02 5.30e+02 5.90e+01]\n",
            " [1.88e+03 1.06e+03 1.18e+02]\n",
            " [3.90e+02 1.70e+02 1.90e+01]\n",
            " [1.40e+02 7.00e+01 7.00e+00]\n",
            " [3.80e+02 1.90e+02 2.10e+01]\n",
            " [2.20e+02 8.00e+01 8.00e+00]\n",
            " [1.40e+02 4.00e+01 4.50e+00]\n",
            " [4.50e+02 1.90e+02 2.20e+01]\n",
            " [2.90e+02 8.00e+01 8.00e+00]\n",
            " [3.40e+02 1.30e+02 1.50e+01]\n",
            " [2.60e+02 7.00e+01 8.00e+00]\n",
            " [3.30e+02 1.30e+02 1.50e+01]\n",
            " [2.50e+02 7.00e+01 8.00e+00]\n",
            " [3.60e+02 1.80e+02 2.00e+01]\n",
            " [2.80e+02 1.20e+02 1.30e+01]\n",
            " [2.30e+02 1.00e+02 1.10e+01]\n",
            " [3.40e+02 1.40e+02 1.60e+01]\n",
            " [5.10e+02 2.20e+02 2.40e+01]\n",
            " [1.10e+02 5.00e+01 5.00e+00]\n",
            " [2.00e+01 0.00e+00 0.00e+00]\n",
            " [1.50e+01 0.00e+00 0.00e+00]\n",
            " [1.50e+02 2.00e+01 2.00e+00]\n",
            " [2.50e+02 1.10e+02 1.30e+01]\n",
            " [1.60e+02 7.00e+01 8.00e+00]\n",
            " [1.50e+02 5.00e+01 6.00e+00]\n",
            " [4.50e+01 1.00e+01 1.50e+00]\n",
            " [3.30e+02 8.00e+01 9.00e+00]\n",
            " [3.40e+02 7.00e+01 8.00e+00]\n",
            " [2.80e+02 6.00e+01 6.00e+00]\n",
            " [1.40e+02 0.00e+00 0.00e+00]\n",
            " [2.00e+02 0.00e+00 0.00e+00]\n",
            " [2.80e+02 0.00e+00 0.00e+00]\n",
            " [1.00e+02 0.00e+00 0.00e+00]\n",
            " [0.00e+00 0.00e+00 0.00e+00]\n",
            " [0.00e+00 0.00e+00 0.00e+00]\n",
            " [0.00e+00 0.00e+00 0.00e+00]\n",
            " [0.00e+00 0.00e+00 0.00e+00]\n",
            " [1.40e+02 0.00e+00 0.00e+00]\n",
            " [1.90e+02 0.00e+00 0.00e+00]\n",
            " [2.70e+02 0.00e+00 0.00e+00]\n",
            " [1.00e+02 0.00e+00 0.00e+00]\n",
            " [0.00e+00 0.00e+00 0.00e+00]\n",
            " [0.00e+00 0.00e+00 0.00e+00]\n",
            " [0.00e+00 0.00e+00 0.00e+00]\n",
            " [0.00e+00 0.00e+00 0.00e+00]\n",
            " [1.40e+02 0.00e+00 0.00e+00]\n",
            " [2.00e+02 0.00e+00 0.00e+00]\n",
            " [2.80e+02 0.00e+00 0.00e+00]\n",
            " [1.00e+02 0.00e+00 0.00e+00]\n",
            " [1.00e+02 2.00e+01 2.50e+00]\n",
            " [1.30e+02 0.00e+00 0.00e+00]\n",
            " [8.00e+01 0.00e+00 0.00e+00]\n",
            " [1.50e+02 0.00e+00 0.00e+00]\n",
            " [1.90e+02 0.00e+00 0.00e+00]\n",
            " [2.80e+02 0.00e+00 0.00e+00]\n",
            " [0.00e+00 0.00e+00 0.00e+00]\n",
            " [0.00e+00 0.00e+00 0.00e+00]\n",
            " [0.00e+00 0.00e+00 0.00e+00]\n",
            " [0.00e+00 0.00e+00 0.00e+00]\n",
            " [0.00e+00 0.00e+00 0.00e+00]\n",
            " [1.50e+02 0.00e+00 0.00e+00]\n",
            " [1.80e+02 0.00e+00 0.00e+00]\n",
            " [2.20e+02 0.00e+00 0.00e+00]\n",
            " [1.10e+02 0.00e+00 0.00e+00]\n",
            " [0.00e+00 0.00e+00 0.00e+00]\n",
            " [0.00e+00 0.00e+00 0.00e+00]\n",
            " [0.00e+00 0.00e+00 0.00e+00]\n",
            " [1.70e+02 8.00e+01 9.00e+00]\n",
            " [2.10e+02 9.00e+01 1.00e+01]\n",
            " [2.80e+02 1.20e+02 1.40e+01]\n",
            " [2.70e+02 8.00e+01 9.00e+00]\n",
            " [3.40e+02 9.00e+01 1.00e+01]\n",
            " [4.30e+02 1.20e+02 1.40e+01]\n",
            " [2.70e+02 8.00e+01 9.00e+00]\n",
            " [3.30e+02 9.00e+01 1.00e+01]\n",
            " [4.30e+02 1.20e+02 1.40e+01]\n",
            " [2.60e+02 8.00e+01 9.00e+00]\n",
            " [3.30e+02 9.00e+01 1.00e+01]\n",
            " [4.20e+02 1.20e+02 1.40e+01]\n",
            " [2.10e+02 8.00e+01 9.00e+00]\n",
            " [2.60e+02 9.00e+01 1.00e+01]\n",
            " [3.30e+02 1.20e+02 1.40e+01]\n",
            " [1.00e+02 0.00e+00 0.00e+00]\n",
            " [1.30e+02 0.00e+00 0.00e+00]\n",
            " [1.70e+02 0.00e+00 5.00e-01]\n",
            " [2.00e+02 0.00e+00 0.00e+00]\n",
            " [2.50e+02 0.00e+00 0.00e+00]\n",
            " [3.10e+02 0.00e+00 5.00e-01]\n",
            " [2.00e+02 0.00e+00 0.00e+00]\n",
            " [2.50e+02 0.00e+00 0.00e+00]\n",
            " [3.10e+02 0.00e+00 5.00e-01]\n",
            " [1.90e+02 0.00e+00 0.00e+00]\n",
            " [2.40e+02 0.00e+00 0.00e+00]\n",
            " [3.00e+02 0.00e+00 5.00e-01]\n",
            " [1.40e+02 0.00e+00 0.00e+00]\n",
            " [1.70e+02 0.00e+00 0.00e+00]\n",
            " [2.20e+02 0.00e+00 5.00e-01]\n",
            " [3.40e+02 1.00e+02 1.10e+01]\n",
            " [4.10e+02 1.20e+02 1.40e+01]\n",
            " [5.00e+02 1.50e+02 1.70e+01]\n",
            " [2.70e+02 3.00e+01 3.50e+00]\n",
            " [3.30e+02 3.00e+01 3.50e+00]\n",
            " [3.90e+02 3.50e+01 4.00e+00]\n",
            " [3.20e+02 1.00e+02 1.10e+01]\n",
            " [3.90e+02 1.20e+02 1.40e+01]\n",
            " [4.80e+02 1.50e+02 1.70e+01]\n",
            " [2.50e+02 3.00e+01 3.50e+00]\n",
            " [3.10e+02 3.00e+01 3.50e+00]\n",
            " [3.70e+02 3.50e+01 3.50e+00]\n",
            " [3.60e+02 1.20e+02 1.30e+01]\n",
            " [4.40e+02 1.40e+02 1.60e+01]\n",
            " [5.40e+02 1.80e+02 2.00e+01]\n",
            " [2.80e+02 3.00e+01 3.50e+00]\n",
            " [3.40e+02 3.00e+01 3.50e+00]\n",
            " [4.00e+02 3.50e+01 3.50e+00]\n",
            " [1.40e+02 4.00e+01 4.50e+00]\n",
            " [1.90e+02 6.00e+01 7.00e+00]\n",
            " [2.70e+02 8.00e+01 9.00e+00]\n",
            " [1.30e+02 4.00e+01 4.50e+00]\n",
            " [1.80e+02 6.00e+01 7.00e+00]\n",
            " [2.60e+02 8.00e+01 9.00e+00]\n",
            " [1.30e+02 4.00e+01 4.50e+00]\n",
            " [1.80e+02 6.00e+01 7.00e+00]\n",
            " [2.50e+02 8.00e+01 9.00e+00]\n",
            " [1.20e+02 4.00e+01 4.50e+00]\n",
            " [1.70e+02 6.00e+01 7.00e+00]\n",
            " [2.40e+02 8.00e+01 9.00e+00]\n",
            " [8.00e+01 4.00e+01 4.50e+00]\n",
            " [1.20e+02 6.00e+01 7.00e+00]\n",
            " [1.60e+02 8.00e+01 9.00e+00]\n",
            " [2.90e+02 1.00e+02 1.10e+01]\n",
            " [3.50e+02 1.10e+02 1.30e+01]\n",
            " [4.80e+02 1.50e+02 1.60e+01]\n",
            " [2.40e+02 4.50e+01 5.00e+00]\n",
            " [2.90e+02 4.50e+01 5.00e+00]\n",
            " [3.90e+02 5.00e+01 6.00e+00]\n",
            " [2.80e+02 1.00e+02 1.10e+01]\n",
            " [3.40e+02 1.10e+02 1.30e+01]\n",
            " [4.60e+02 1.50e+02 1.60e+01]\n",
            " [2.30e+02 4.50e+01 5.00e+00]\n",
            " [2.70e+02 4.50e+01 5.00e+00]\n",
            " [3.70e+02 5.00e+01 6.00e+00]\n",
            " [4.50e+02 1.60e+02 1.80e+01]\n",
            " [5.50e+02 2.00e+02 2.20e+01]\n",
            " [6.70e+02 2.40e+02 2.60e+01]\n",
            " [4.50e+02 1.70e+02 1.90e+01]\n",
            " [5.50e+02 2.00e+02 2.30e+01]\n",
            " [6.70e+02 2.50e+02 2.70e+01]\n",
            " [5.30e+02 2.00e+02 2.30e+01]\n",
            " [6.30e+02 2.40e+02 2.60e+01]\n",
            " [7.60e+02 2.80e+02 3.10e+01]\n",
            " [2.20e+02 5.00e+00 5.00e-01]\n",
            " [2.60e+02 5.00e+00 1.00e+00]\n",
            " [3.40e+02 1.00e+01 1.00e+00]\n",
            " [2.10e+02 5.00e+00 5.00e-01]\n",
            " [2.50e+02 5.00e+00 1.00e+00]\n",
            " [3.30e+02 1.00e+01 1.00e+00]\n",
            " [2.10e+02 5.00e+00 5.00e-01]\n",
            " [2.60e+02 1.00e+01 1.00e+00]\n",
            " [3.40e+02 1.00e+01 1.00e+00]\n",
            " [5.30e+02 1.40e+02 1.50e+01]\n",
            " [6.60e+02 1.70e+02 1.90e+01]\n",
            " [8.20e+02 2.10e+02 2.30e+01]\n",
            " [5.50e+02 1.50e+02 1.60e+01]\n",
            " [6.90e+02 1.80e+02 2.00e+01]\n",
            " [8.50e+02 2.10e+02 2.40e+01]\n",
            " [5.60e+02 1.50e+02 1.60e+01]\n",
            " [7.00e+02 1.80e+02 2.00e+01]\n",
            " [8.50e+02 2.10e+02 2.30e+01]\n",
            " [6.60e+02 1.70e+02 1.90e+01]\n",
            " [8.20e+02 2.10e+02 2.30e+01]\n",
            " [6.50e+02 2.10e+02 2.30e+01]\n",
            " [9.30e+02 2.90e+02 3.30e+01]\n",
            " [4.30e+02 1.40e+02 1.50e+01]\n",
            " [5.10e+02 1.50e+02 1.70e+01]\n",
            " [6.90e+02 2.00e+02 2.30e+01]\n",
            " [3.40e+02 1.00e+02 1.10e+01]\n",
            " [8.10e+02 2.90e+02 3.20e+01]\n",
            " [4.10e+02 1.50e+02 1.60e+01]]\n"
          ],
          "name": "stdout"
        }
      ]
    },
    {
      "cell_type": "markdown",
      "metadata": {
        "id": "jbXPHlp9JMUk"
      },
      "source": [
        "**Tahap Ketujuh** : \r\n",
        "\r\n",
        "Mengelompokkan berdasarkan Skala"
      ]
    },
    {
      "cell_type": "code",
      "metadata": {
        "colab": {
          "base_uri": "https://localhost:8080/"
        },
        "id": "OEdLcY1B7_Gt",
        "outputId": "012d8975-7596-4823-f6e0-3ba236503d12"
      },
      "source": [
        "scaler = MinMaxScaler()\r\n",
        "x_scaled = scaler.fit_transform(x_array)\r\n",
        "x_scaled"
      ],
      "execution_count": null,
      "outputs": [
        {
          "output_type": "execute_result",
          "data": {
            "text/plain": [
              "array([[0.15957447, 0.11320755, 0.11016949],\n",
              "       [0.13297872, 0.06603774, 0.06779661],\n",
              "       [0.19680851, 0.18867925, 0.19491525],\n",
              "       [0.2393617 , 0.23584906, 0.23728814],\n",
              "       [0.21276596, 0.19811321, 0.19491525],\n",
              "       [0.2287234 , 0.19811321, 0.19491525],\n",
              "       [0.24468085, 0.21698113, 0.22033898],\n",
              "       [0.27659574, 0.25471698, 0.25423729],\n",
              "       [0.21808511, 0.16981132, 0.16949153],\n",
              "       [0.25      , 0.20754717, 0.21186441],\n",
              "       [0.2287234 , 0.22641509, 0.22881356],\n",
              "       [0.25531915, 0.26415094, 0.26271186],\n",
              "       [0.2712766 , 0.27358491, 0.27966102],\n",
              "       [0.30319149, 0.31132075, 0.31355932],\n",
              "       [0.24468085, 0.23584906, 0.22881356],\n",
              "       [0.27659574, 0.26415094, 0.27118644],\n",
              "       [0.21808511, 0.16981132, 0.16949153],\n",
              "       [0.25      , 0.20754717, 0.20338983],\n",
              "       [0.28723404, 0.27358491, 0.27118644],\n",
              "       [0.24468085, 0.17924528, 0.1779661 ],\n",
              "       [0.21276596, 0.13207547, 0.12711864],\n",
              "       [0.22340426, 0.18867925, 0.18644068],\n",
              "       [0.29255319, 0.26415094, 0.26271186],\n",
              "       [0.26595745, 0.21698113, 0.22033898],\n",
              "       [0.32978723, 0.26415094, 0.26271186],\n",
              "       [0.30319149, 0.21698113, 0.21186441],\n",
              "       [0.35638298, 0.29245283, 0.29661017],\n",
              "       [0.39361702, 0.40566038, 0.40677966],\n",
              "       [0.42553191, 0.44339623, 0.44067797],\n",
              "       [0.34042553, 0.31132075, 0.31355932],\n",
              "       [0.36702128, 0.3490566 , 0.34745763],\n",
              "       [0.57978723, 0.48113208, 0.47457627],\n",
              "       [0.61170213, 0.50943396, 0.50847458],\n",
              "       [0.52659574, 0.38679245, 0.38983051],\n",
              "       [0.55851064, 0.4245283 , 0.42372881],\n",
              "       [0.18617021, 0.0754717 , 0.07627119],\n",
              "       [0.27659574, 0.19811321, 0.20338983],\n",
              "       [0.15957447, 0.14150943, 0.13559322],\n",
              "       [0.07978723, 0.0754717 , 0.07627119],\n",
              "       [0.24468085, 0.16037736, 0.16101695],\n",
              "       [0.15425532, 0.03301887, 0.03389831],\n",
              "       [0.13829787, 0.03773585, 0.03389831],\n",
              "       [0.28191489, 0.22641509, 0.22881356],\n",
              "       [0.27659574, 0.22641509, 0.22033898],\n",
              "       [0.31914894, 0.24528302, 0.24576271],\n",
              "       [0.32446809, 0.26415094, 0.26271186],\n",
              "       [0.28723404, 0.23584906, 0.22881356],\n",
              "       [0.39893617, 0.35849057, 0.36440678],\n",
              "       [0.12765957, 0.06603774, 0.06779661],\n",
              "       [0.15425532, 0.09433962, 0.09322034],\n",
              "       [0.2287234 , 0.17924528, 0.1779661 ],\n",
              "       [0.38297872, 0.33962264, 0.33898305],\n",
              "       [0.20212766, 0.14150943, 0.1440678 ],\n",
              "       [0.23404255, 0.18867925, 0.18644068],\n",
              "       [0.2287234 , 0.18867925, 0.18644068],\n",
              "       [0.2287234 , 0.19811321, 0.19491525],\n",
              "       [0.26595745, 0.22641509, 0.22033898],\n",
              "       [0.2712766 , 0.18867925, 0.18644068],\n",
              "       [0.18617021, 0.0754717 , 0.07627119],\n",
              "       [0.35638298, 0.28301887, 0.27966102],\n",
              "       [0.2712766 , 0.16981132, 0.16949153],\n",
              "       [0.32446809, 0.23584906, 0.23728814],\n",
              "       [0.2393617 , 0.12264151, 0.12711864],\n",
              "       [0.39893617, 0.32075472, 0.3220339 ],\n",
              "       [0.31382979, 0.21698113, 0.21186441],\n",
              "       [0.2287234 , 0.16037736, 0.16101695],\n",
              "       [0.19148936, 0.13207547, 0.13559322],\n",
              "       [0.25531915, 0.20754717, 0.20338983],\n",
              "       [0.2287234 , 0.17924528, 0.1779661 ],\n",
              "       [0.19148936, 0.14150943, 0.13559322],\n",
              "       [0.33510638, 0.26415094, 0.27118644],\n",
              "       [0.25531915, 0.16037736, 0.16101695],\n",
              "       [0.32446809, 0.26415094, 0.26271186],\n",
              "       [0.2393617 , 0.1509434 , 0.15254237],\n",
              "       [0.35638298, 0.28301887, 0.27966102],\n",
              "       [0.27659574, 0.16981132, 0.16949153],\n",
              "       [0.28723404, 0.18867925, 0.19491525],\n",
              "       [0.20212766, 0.08490566, 0.08474576],\n",
              "       [0.10106383, 0.10377358, 0.10169492],\n",
              "       [0.14893617, 0.1509434 , 0.15254237],\n",
              "       [0.25      , 0.25471698, 0.25423729],\n",
              "       [0.5       , 0.5       , 0.5       ],\n",
              "       [1.        , 1.        , 1.        ],\n",
              "       [0.20744681, 0.16037736, 0.16101695],\n",
              "       [0.07446809, 0.06603774, 0.05932203],\n",
              "       [0.20212766, 0.17924528, 0.1779661 ],\n",
              "       [0.11702128, 0.0754717 , 0.06779661],\n",
              "       [0.07446809, 0.03773585, 0.03813559],\n",
              "       [0.2393617 , 0.17924528, 0.18644068],\n",
              "       [0.15425532, 0.0754717 , 0.06779661],\n",
              "       [0.18085106, 0.12264151, 0.12711864],\n",
              "       [0.13829787, 0.06603774, 0.06779661],\n",
              "       [0.17553191, 0.12264151, 0.12711864],\n",
              "       [0.13297872, 0.06603774, 0.06779661],\n",
              "       [0.19148936, 0.16981132, 0.16949153],\n",
              "       [0.14893617, 0.11320755, 0.11016949],\n",
              "       [0.12234043, 0.09433962, 0.09322034],\n",
              "       [0.18085106, 0.13207547, 0.13559322],\n",
              "       [0.2712766 , 0.20754717, 0.20338983],\n",
              "       [0.05851064, 0.04716981, 0.04237288],\n",
              "       [0.0106383 , 0.        , 0.        ],\n",
              "       [0.00797872, 0.        , 0.        ],\n",
              "       [0.07978723, 0.01886792, 0.01694915],\n",
              "       [0.13297872, 0.10377358, 0.11016949],\n",
              "       [0.08510638, 0.06603774, 0.06779661],\n",
              "       [0.07978723, 0.04716981, 0.05084746],\n",
              "       [0.02393617, 0.00943396, 0.01271186],\n",
              "       [0.17553191, 0.0754717 , 0.07627119],\n",
              "       [0.18085106, 0.06603774, 0.06779661],\n",
              "       [0.14893617, 0.05660377, 0.05084746],\n",
              "       [0.07446809, 0.        , 0.        ],\n",
              "       [0.10638298, 0.        , 0.        ],\n",
              "       [0.14893617, 0.        , 0.        ],\n",
              "       [0.05319149, 0.        , 0.        ],\n",
              "       [0.        , 0.        , 0.        ],\n",
              "       [0.        , 0.        , 0.        ],\n",
              "       [0.        , 0.        , 0.        ],\n",
              "       [0.        , 0.        , 0.        ],\n",
              "       [0.07446809, 0.        , 0.        ],\n",
              "       [0.10106383, 0.        , 0.        ],\n",
              "       [0.14361702, 0.        , 0.        ],\n",
              "       [0.05319149, 0.        , 0.        ],\n",
              "       [0.        , 0.        , 0.        ],\n",
              "       [0.        , 0.        , 0.        ],\n",
              "       [0.        , 0.        , 0.        ],\n",
              "       [0.        , 0.        , 0.        ],\n",
              "       [0.07446809, 0.        , 0.        ],\n",
              "       [0.10638298, 0.        , 0.        ],\n",
              "       [0.14893617, 0.        , 0.        ],\n",
              "       [0.05319149, 0.        , 0.        ],\n",
              "       [0.05319149, 0.01886792, 0.02118644],\n",
              "       [0.06914894, 0.        , 0.        ],\n",
              "       [0.04255319, 0.        , 0.        ],\n",
              "       [0.07978723, 0.        , 0.        ],\n",
              "       [0.10106383, 0.        , 0.        ],\n",
              "       [0.14893617, 0.        , 0.        ],\n",
              "       [0.        , 0.        , 0.        ],\n",
              "       [0.        , 0.        , 0.        ],\n",
              "       [0.        , 0.        , 0.        ],\n",
              "       [0.        , 0.        , 0.        ],\n",
              "       [0.        , 0.        , 0.        ],\n",
              "       [0.07978723, 0.        , 0.        ],\n",
              "       [0.09574468, 0.        , 0.        ],\n",
              "       [0.11702128, 0.        , 0.        ],\n",
              "       [0.05851064, 0.        , 0.        ],\n",
              "       [0.        , 0.        , 0.        ],\n",
              "       [0.        , 0.        , 0.        ],\n",
              "       [0.        , 0.        , 0.        ],\n",
              "       [0.09042553, 0.0754717 , 0.07627119],\n",
              "       [0.11170213, 0.08490566, 0.08474576],\n",
              "       [0.14893617, 0.11320755, 0.11864407],\n",
              "       [0.14361702, 0.0754717 , 0.07627119],\n",
              "       [0.18085106, 0.08490566, 0.08474576],\n",
              "       [0.2287234 , 0.11320755, 0.11864407],\n",
              "       [0.14361702, 0.0754717 , 0.07627119],\n",
              "       [0.17553191, 0.08490566, 0.08474576],\n",
              "       [0.2287234 , 0.11320755, 0.11864407],\n",
              "       [0.13829787, 0.0754717 , 0.07627119],\n",
              "       [0.17553191, 0.08490566, 0.08474576],\n",
              "       [0.22340426, 0.11320755, 0.11864407],\n",
              "       [0.11170213, 0.0754717 , 0.07627119],\n",
              "       [0.13829787, 0.08490566, 0.08474576],\n",
              "       [0.17553191, 0.11320755, 0.11864407],\n",
              "       [0.05319149, 0.        , 0.        ],\n",
              "       [0.06914894, 0.        , 0.        ],\n",
              "       [0.09042553, 0.        , 0.00423729],\n",
              "       [0.10638298, 0.        , 0.        ],\n",
              "       [0.13297872, 0.        , 0.        ],\n",
              "       [0.16489362, 0.        , 0.00423729],\n",
              "       [0.10638298, 0.        , 0.        ],\n",
              "       [0.13297872, 0.        , 0.        ],\n",
              "       [0.16489362, 0.        , 0.00423729],\n",
              "       [0.10106383, 0.        , 0.        ],\n",
              "       [0.12765957, 0.        , 0.        ],\n",
              "       [0.15957447, 0.        , 0.00423729],\n",
              "       [0.07446809, 0.        , 0.        ],\n",
              "       [0.09042553, 0.        , 0.        ],\n",
              "       [0.11702128, 0.        , 0.00423729],\n",
              "       [0.18085106, 0.09433962, 0.09322034],\n",
              "       [0.21808511, 0.11320755, 0.11864407],\n",
              "       [0.26595745, 0.14150943, 0.1440678 ],\n",
              "       [0.14361702, 0.02830189, 0.02966102],\n",
              "       [0.17553191, 0.02830189, 0.02966102],\n",
              "       [0.20744681, 0.03301887, 0.03389831],\n",
              "       [0.17021277, 0.09433962, 0.09322034],\n",
              "       [0.20744681, 0.11320755, 0.11864407],\n",
              "       [0.25531915, 0.14150943, 0.1440678 ],\n",
              "       [0.13297872, 0.02830189, 0.02966102],\n",
              "       [0.16489362, 0.02830189, 0.02966102],\n",
              "       [0.19680851, 0.03301887, 0.02966102],\n",
              "       [0.19148936, 0.11320755, 0.11016949],\n",
              "       [0.23404255, 0.13207547, 0.13559322],\n",
              "       [0.28723404, 0.16981132, 0.16949153],\n",
              "       [0.14893617, 0.02830189, 0.02966102],\n",
              "       [0.18085106, 0.02830189, 0.02966102],\n",
              "       [0.21276596, 0.03301887, 0.02966102],\n",
              "       [0.07446809, 0.03773585, 0.03813559],\n",
              "       [0.10106383, 0.05660377, 0.05932203],\n",
              "       [0.14361702, 0.0754717 , 0.07627119],\n",
              "       [0.06914894, 0.03773585, 0.03813559],\n",
              "       [0.09574468, 0.05660377, 0.05932203],\n",
              "       [0.13829787, 0.0754717 , 0.07627119],\n",
              "       [0.06914894, 0.03773585, 0.03813559],\n",
              "       [0.09574468, 0.05660377, 0.05932203],\n",
              "       [0.13297872, 0.0754717 , 0.07627119],\n",
              "       [0.06382979, 0.03773585, 0.03813559],\n",
              "       [0.09042553, 0.05660377, 0.05932203],\n",
              "       [0.12765957, 0.0754717 , 0.07627119],\n",
              "       [0.04255319, 0.03773585, 0.03813559],\n",
              "       [0.06382979, 0.05660377, 0.05932203],\n",
              "       [0.08510638, 0.0754717 , 0.07627119],\n",
              "       [0.15425532, 0.09433962, 0.09322034],\n",
              "       [0.18617021, 0.10377358, 0.11016949],\n",
              "       [0.25531915, 0.14150943, 0.13559322],\n",
              "       [0.12765957, 0.04245283, 0.04237288],\n",
              "       [0.15425532, 0.04245283, 0.04237288],\n",
              "       [0.20744681, 0.04716981, 0.05084746],\n",
              "       [0.14893617, 0.09433962, 0.09322034],\n",
              "       [0.18085106, 0.10377358, 0.11016949],\n",
              "       [0.24468085, 0.14150943, 0.13559322],\n",
              "       [0.12234043, 0.04245283, 0.04237288],\n",
              "       [0.14361702, 0.04245283, 0.04237288],\n",
              "       [0.19680851, 0.04716981, 0.05084746],\n",
              "       [0.2393617 , 0.1509434 , 0.15254237],\n",
              "       [0.29255319, 0.18867925, 0.18644068],\n",
              "       [0.35638298, 0.22641509, 0.22033898],\n",
              "       [0.2393617 , 0.16037736, 0.16101695],\n",
              "       [0.29255319, 0.18867925, 0.19491525],\n",
              "       [0.35638298, 0.23584906, 0.22881356],\n",
              "       [0.28191489, 0.18867925, 0.19491525],\n",
              "       [0.33510638, 0.22641509, 0.22033898],\n",
              "       [0.40425532, 0.26415094, 0.26271186],\n",
              "       [0.11702128, 0.00471698, 0.00423729],\n",
              "       [0.13829787, 0.00471698, 0.00847458],\n",
              "       [0.18085106, 0.00943396, 0.00847458],\n",
              "       [0.11170213, 0.00471698, 0.00423729],\n",
              "       [0.13297872, 0.00471698, 0.00847458],\n",
              "       [0.17553191, 0.00943396, 0.00847458],\n",
              "       [0.11170213, 0.00471698, 0.00423729],\n",
              "       [0.13829787, 0.00943396, 0.00847458],\n",
              "       [0.18085106, 0.00943396, 0.00847458],\n",
              "       [0.28191489, 0.13207547, 0.12711864],\n",
              "       [0.35106383, 0.16037736, 0.16101695],\n",
              "       [0.43617021, 0.19811321, 0.19491525],\n",
              "       [0.29255319, 0.14150943, 0.13559322],\n",
              "       [0.36702128, 0.16981132, 0.16949153],\n",
              "       [0.45212766, 0.19811321, 0.20338983],\n",
              "       [0.29787234, 0.14150943, 0.13559322],\n",
              "       [0.37234043, 0.16981132, 0.16949153],\n",
              "       [0.45212766, 0.19811321, 0.19491525],\n",
              "       [0.35106383, 0.16037736, 0.16101695],\n",
              "       [0.43617021, 0.19811321, 0.19491525],\n",
              "       [0.34574468, 0.19811321, 0.19491525],\n",
              "       [0.49468085, 0.27358491, 0.27966102],\n",
              "       [0.2287234 , 0.13207547, 0.12711864],\n",
              "       [0.2712766 , 0.14150943, 0.1440678 ],\n",
              "       [0.36702128, 0.18867925, 0.19491525],\n",
              "       [0.18085106, 0.09433962, 0.09322034],\n",
              "       [0.43085106, 0.27358491, 0.27118644],\n",
              "       [0.21808511, 0.14150943, 0.13559322]])"
            ]
          },
          "metadata": {
            "tags": []
          },
          "execution_count": 71
        }
      ]
    },
    {
      "cell_type": "markdown",
      "metadata": {
        "id": "6tWgAd0kJTm_"
      },
      "source": [
        "**Analisis** : \r\n",
        "\r\n",
        "- Data ini menunjukan array dengan menggunakan skala  mencakup ketahanan terhadap stdev yang sangat kecil dan mempertahankan entri nol dalam data renggang."
      ]
    },
    {
      "cell_type": "markdown",
      "metadata": {
        "id": "uxHv5QM2JbDN"
      },
      "source": [
        "**Tahap ke delapan** :  \r\n",
        "\r\n",
        "Menyelesaikan masalah KMeans dengan menggunakan algoritma Lloyd atau Elkan."
      ]
    },
    {
      "cell_type": "code",
      "metadata": {
        "colab": {
          "base_uri": "https://localhost:8080/"
        },
        "id": "POQ1ayzyJlJM",
        "outputId": "dd5568e5-0bb5-4cb2-b439-505aa23c48a0"
      },
      "source": [
        "# Menentukan dan mengkonfigurasi fungsi kmeans\r\n",
        "kmeans = KMeans(n_clusters = 5, random_state=123)\r\n",
        "# Menentukan kluster dari data\r\n",
        "kmeans.fit(x_scaled)"
      ],
      "execution_count": null,
      "outputs": [
        {
          "output_type": "execute_result",
          "data": {
            "text/plain": [
              "KMeans(algorithm='auto', copy_x=True, init='k-means++', max_iter=300,\n",
              "       n_clusters=5, n_init=10, n_jobs=None, precompute_distances='auto',\n",
              "       random_state=123, tol=0.0001, verbose=0)"
            ]
          },
          "metadata": {
            "tags": []
          },
          "execution_count": 72
        }
      ]
    },
    {
      "cell_type": "code",
      "metadata": {
        "colab": {
          "base_uri": "https://localhost:8080/"
        },
        "id": "pZz6kIY8JpiF",
        "outputId": "e100f289-136a-45e9-ed0d-c1fc491f7f11"
      },
      "source": [
        "print(kmeans.cluster_centers_)"
      ],
      "execution_count": null,
      "outputs": [
        {
          "output_type": "stream",
          "text": [
            "[[0.21066826 0.13579591 0.13607066]\n",
            " [0.09895375 0.02631374 0.02661437]\n",
            " [0.46985816 0.39937107 0.39971751]\n",
            " [0.31566731 0.22830189 0.22788906]\n",
            " [1.         1.         1.        ]]\n"
          ],
          "name": "stdout"
        }
      ]
    },
    {
      "cell_type": "markdown",
      "metadata": {
        "id": "0lETrnmXJtKF"
      },
      "source": [
        "**Analisis** : \r\n",
        "\r\n",
        "menampilkan kembali setelah masalah diselesaikan, prediksi yang didapatkan dari pengelompokan jumlah data nutrisi_x yaitu dari kolom Calories, Calories from Fat, Total Fat. Membentuk matriks 3x3 dari pengelompokkan nilai tengah."
      ]
    },
    {
      "cell_type": "markdown",
      "metadata": {
        "id": "-iw6JeldKC48"
      },
      "source": [
        "**Tahap ke sembilan** : \r\n",
        "\r\n",
        "Menampilkan hasil kluster"
      ]
    },
    {
      "cell_type": "code",
      "metadata": {
        "colab": {
          "base_uri": "https://localhost:8080/",
          "height": 584
        },
        "id": "XLWiZNy68NLl",
        "outputId": "4c7512a9-a32b-41d5-c0c4-0de5cb51e4a4"
      },
      "source": [
        "# Menampilkan hasil kluster\r\n",
        "print(kmeans.labels_)\r\n",
        "# Menambahkan kolom \"kluster\" dalam data frame kalori\r\n",
        "nutrisi[\"Cluster\"] = kmeans.labels_\r\n",
        "nutrisi.head(5)"
      ],
      "execution_count": null,
      "outputs": [
        {
          "output_type": "stream",
          "text": [
            "[0 1 0 3 0 0 3 3 0 3 3 3 3 3 3 3 0 3 3 0 0 0 3 3 3 3 3 2 2 3 2 2 2 2 2 0 3\n",
            " 0 1 0 1 1 3 3 3 3 3 2 1 0 0 2 0 0 0 0 3 3 0 3 0 3 0 2 3 0 0 3 0 0 3 0 3 0\n",
            " 3 0 3 0 1 0 3 2 4 0 1 0 1 1 0 1 0 1 0 1 0 0 1 0 3 1 1 1 1 0 1 1 1 0 1 1 1\n",
            " 1 1 1 1 1 1 1 1 1 1 1 1 1 1 1 1 1 1 1 1 1 1 1 1 1 1 1 1 1 1 1 1 1 1 1 1 1\n",
            " 1 1 0 1 0 0 1 0 0 1 0 0 1 1 0 1 1 1 1 1 1 1 1 1 1 1 1 1 1 1 0 0 0 1 1 1 0\n",
            " 0 0 1 1 1 0 0 3 1 1 1 1 1 1 1 1 1 1 1 1 1 1 1 1 1 1 0 0 0 1 1 1 0 0 0 1 1\n",
            " 1 0 3 3 0 3 3 3 3 3 1 1 1 1 1 1 1 1 1 0 3 3 0 3 3 0 3 3 3 3 3 2 0 0 3 0 3\n",
            " 0]\n"
          ],
          "name": "stdout"
        },
        {
          "output_type": "execute_result",
          "data": {
            "text/html": [
              "<div>\n",
              "<style scoped>\n",
              "    .dataframe tbody tr th:only-of-type {\n",
              "        vertical-align: middle;\n",
              "    }\n",
              "\n",
              "    .dataframe tbody tr th {\n",
              "        vertical-align: top;\n",
              "    }\n",
              "\n",
              "    .dataframe thead th {\n",
              "        text-align: right;\n",
              "    }\n",
              "</style>\n",
              "<table border=\"1\" class=\"dataframe\">\n",
              "  <thead>\n",
              "    <tr style=\"text-align: right;\">\n",
              "      <th></th>\n",
              "      <th>Category</th>\n",
              "      <th>Item</th>\n",
              "      <th>Serving Size</th>\n",
              "      <th>Calories</th>\n",
              "      <th>Calories from Fat</th>\n",
              "      <th>Total Fat</th>\n",
              "      <th>Total Fat (% Daily Value)</th>\n",
              "      <th>Saturated Fat</th>\n",
              "      <th>Saturated Fat (% Daily Value)</th>\n",
              "      <th>Trans Fat</th>\n",
              "      <th>Cholesterol</th>\n",
              "      <th>Cholesterol (% Daily Value)</th>\n",
              "      <th>Sodium</th>\n",
              "      <th>Sodium (% Daily Value)</th>\n",
              "      <th>Carbohydrates</th>\n",
              "      <th>Carbohydrates (% Daily Value)</th>\n",
              "      <th>Dietary Fiber</th>\n",
              "      <th>Dietary Fiber (% Daily Value)</th>\n",
              "      <th>Sugars</th>\n",
              "      <th>Protein</th>\n",
              "      <th>Vitamin A (% Daily Value)</th>\n",
              "      <th>Vitamin C (% Daily Value)</th>\n",
              "      <th>Calcium (% Daily Value)</th>\n",
              "      <th>Iron (% Daily Value)</th>\n",
              "      <th>Cluster</th>\n",
              "    </tr>\n",
              "  </thead>\n",
              "  <tbody>\n",
              "    <tr>\n",
              "      <th>0</th>\n",
              "      <td>Breakfast</td>\n",
              "      <td>Egg McMuffin</td>\n",
              "      <td>4.8 oz (136 g)</td>\n",
              "      <td>300</td>\n",
              "      <td>120</td>\n",
              "      <td>13.0</td>\n",
              "      <td>20</td>\n",
              "      <td>5.0</td>\n",
              "      <td>25</td>\n",
              "      <td>0.0</td>\n",
              "      <td>260</td>\n",
              "      <td>87</td>\n",
              "      <td>750</td>\n",
              "      <td>31</td>\n",
              "      <td>31</td>\n",
              "      <td>10</td>\n",
              "      <td>4</td>\n",
              "      <td>17</td>\n",
              "      <td>3</td>\n",
              "      <td>17</td>\n",
              "      <td>10</td>\n",
              "      <td>0</td>\n",
              "      <td>25</td>\n",
              "      <td>15</td>\n",
              "      <td>0</td>\n",
              "    </tr>\n",
              "    <tr>\n",
              "      <th>1</th>\n",
              "      <td>Breakfast</td>\n",
              "      <td>Egg White Delight</td>\n",
              "      <td>4.8 oz (135 g)</td>\n",
              "      <td>250</td>\n",
              "      <td>70</td>\n",
              "      <td>8.0</td>\n",
              "      <td>12</td>\n",
              "      <td>3.0</td>\n",
              "      <td>15</td>\n",
              "      <td>0.0</td>\n",
              "      <td>25</td>\n",
              "      <td>8</td>\n",
              "      <td>770</td>\n",
              "      <td>32</td>\n",
              "      <td>30</td>\n",
              "      <td>10</td>\n",
              "      <td>4</td>\n",
              "      <td>17</td>\n",
              "      <td>3</td>\n",
              "      <td>18</td>\n",
              "      <td>6</td>\n",
              "      <td>0</td>\n",
              "      <td>25</td>\n",
              "      <td>8</td>\n",
              "      <td>1</td>\n",
              "    </tr>\n",
              "    <tr>\n",
              "      <th>2</th>\n",
              "      <td>Breakfast</td>\n",
              "      <td>Sausage McMuffin</td>\n",
              "      <td>3.9 oz (111 g)</td>\n",
              "      <td>370</td>\n",
              "      <td>200</td>\n",
              "      <td>23.0</td>\n",
              "      <td>35</td>\n",
              "      <td>8.0</td>\n",
              "      <td>42</td>\n",
              "      <td>0.0</td>\n",
              "      <td>45</td>\n",
              "      <td>15</td>\n",
              "      <td>780</td>\n",
              "      <td>33</td>\n",
              "      <td>29</td>\n",
              "      <td>10</td>\n",
              "      <td>4</td>\n",
              "      <td>17</td>\n",
              "      <td>2</td>\n",
              "      <td>14</td>\n",
              "      <td>8</td>\n",
              "      <td>0</td>\n",
              "      <td>25</td>\n",
              "      <td>10</td>\n",
              "      <td>0</td>\n",
              "    </tr>\n",
              "    <tr>\n",
              "      <th>3</th>\n",
              "      <td>Breakfast</td>\n",
              "      <td>Sausage McMuffin with Egg</td>\n",
              "      <td>5.7 oz (161 g)</td>\n",
              "      <td>450</td>\n",
              "      <td>250</td>\n",
              "      <td>28.0</td>\n",
              "      <td>43</td>\n",
              "      <td>10.0</td>\n",
              "      <td>52</td>\n",
              "      <td>0.0</td>\n",
              "      <td>285</td>\n",
              "      <td>95</td>\n",
              "      <td>860</td>\n",
              "      <td>36</td>\n",
              "      <td>30</td>\n",
              "      <td>10</td>\n",
              "      <td>4</td>\n",
              "      <td>17</td>\n",
              "      <td>2</td>\n",
              "      <td>21</td>\n",
              "      <td>15</td>\n",
              "      <td>0</td>\n",
              "      <td>30</td>\n",
              "      <td>15</td>\n",
              "      <td>3</td>\n",
              "    </tr>\n",
              "    <tr>\n",
              "      <th>4</th>\n",
              "      <td>Breakfast</td>\n",
              "      <td>Sausage McMuffin with Egg Whites</td>\n",
              "      <td>5.7 oz (161 g)</td>\n",
              "      <td>400</td>\n",
              "      <td>210</td>\n",
              "      <td>23.0</td>\n",
              "      <td>35</td>\n",
              "      <td>8.0</td>\n",
              "      <td>42</td>\n",
              "      <td>0.0</td>\n",
              "      <td>50</td>\n",
              "      <td>16</td>\n",
              "      <td>880</td>\n",
              "      <td>37</td>\n",
              "      <td>30</td>\n",
              "      <td>10</td>\n",
              "      <td>4</td>\n",
              "      <td>17</td>\n",
              "      <td>2</td>\n",
              "      <td>21</td>\n",
              "      <td>6</td>\n",
              "      <td>0</td>\n",
              "      <td>25</td>\n",
              "      <td>10</td>\n",
              "      <td>0</td>\n",
              "    </tr>\n",
              "  </tbody>\n",
              "</table>\n",
              "</div>"
            ],
            "text/plain": [
              "    Category                              Item  ... Iron (% Daily Value)  Cluster\n",
              "0  Breakfast                      Egg McMuffin  ...                   15        0\n",
              "1  Breakfast                 Egg White Delight  ...                    8        1\n",
              "2  Breakfast                  Sausage McMuffin  ...                   10        0\n",
              "3  Breakfast         Sausage McMuffin with Egg  ...                   15        3\n",
              "4  Breakfast  Sausage McMuffin with Egg Whites  ...                   10        0\n",
              "\n",
              "[5 rows x 25 columns]"
            ]
          },
          "metadata": {
            "tags": []
          },
          "execution_count": 74
        }
      ]
    },
    {
      "cell_type": "markdown",
      "metadata": {
        "id": "lORc3ANgKMCt"
      },
      "source": [
        "**Hasil Analisis** : \r\n",
        "\r\n",
        "- Semua data ditampilkan dengan jumlah kluster yang sesuai dengan item-item yang ada."
      ]
    },
    {
      "cell_type": "markdown",
      "metadata": {
        "id": "hXShd_HQK75M"
      },
      "source": [
        "**Tahap ke sepuluh** : \r\n",
        "\r\n",
        "Hasil kluster dengan pengelompokan menggunakan diagram"
      ]
    },
    {
      "cell_type": "code",
      "metadata": {
        "colab": {
          "base_uri": "https://localhost:8080/",
          "height": 312
        },
        "id": "EFwvKjTl970N",
        "outputId": "b96b7787-0f0a-4f42-bc78-0a878d03b8cc"
      },
      "source": [
        "output = plt.scatter(x_scaled[:,0], \r\n",
        "x_scaled[:,1], s = 200, c = nutrisi.Cluster, marker = \".\", alpha = 1,)\r\n",
        "centers = kmeans.cluster_centers_\r\n",
        "plt.scatter(centers[:,0], centers[:,1], c='red', s=100, alpha=1 , marker=\"s\");\r\n",
        "plt.title(\"Hasil Clustering K-Means\")\r\n",
        "plt.xlabel(\"Clustering X\")\r\n",
        "plt.ylabel(\"Clustering Y\")\r\n",
        "plt.colorbar (output)\r\n",
        "plt.legend()\r\n",
        "plt.show()"
      ],
      "execution_count": null,
      "outputs": [
        {
          "output_type": "stream",
          "text": [
            "No handles with labels found to put in legend.\n"
          ],
          "name": "stderr"
        },
        {
          "output_type": "display_data",
          "data": {
            "image/png": "[encoded data removed]",
            "text/plain": [
              "<Figure size 432x288 with 2 Axes>"
            ]
          },
          "metadata": {
            "tags": [],
            "needs_background": "light"
          }
        }
      ]
    },
    {
      "cell_type": "markdown",
      "metadata": {
        "id": "x3iBThFiLcDn"
      },
      "source": [
        "**Analisis** : \r\n",
        "\r\n",
        "Dilihat dari warna level diagram diatur dengan range 0-4. Pengelompokan data dibagi menjadi 5 Clustering, untuk struktur clustering menggunakan metode partitional clustering dimana data dikelompokkan ke dalam sejumlah cluster tanpa adanya struktur hirarki antara data yang satu dengan yang lainnya."
      ]
    },
    {
      "cell_type": "markdown",
      "metadata": {
        "id": "GwTkSej4L_Fm"
      },
      "source": [
        "# **ANALISIS PEMODELAN MENENTUKAN HIPOTESIS**\r\n",
        "\r\n"
      ]
    },
    {
      "cell_type": "markdown",
      "metadata": {
        "id": "G3C1DkesMD2X"
      },
      "source": [
        "**Analisis menggunakan Metode Pearson**"
      ]
    },
    {
      "cell_type": "code",
      "metadata": {
        "id": "E0fD2oLNMI9i"
      },
      "source": [
        "def mean(x):\r\n",
        "        return  sum(x)/len(x)"
      ],
      "execution_count": null,
      "outputs": []
    },
    {
      "cell_type": "code",
      "metadata": {
        "id": "GNpzMBV0MKd5"
      },
      "source": [
        "def de_mean(data):\r\n",
        "# convert x by subtracting its mean ( so the result has mean 0)\r\n",
        "        x_bar = mean(data)\r\n",
        "        return [x_i - x_bar for x_i in data]"
      ],
      "execution_count": null,
      "outputs": []
    },
    {
      "cell_type": "code",
      "metadata": {
        "id": "92K92upDML5b"
      },
      "source": [
        "def sum_of_square(v):\r\n",
        "        return np.dot(v,v)"
      ],
      "execution_count": null,
      "outputs": []
    },
    {
      "cell_type": "code",
      "metadata": {
        "id": "p7vLXMcBML-r"
      },
      "source": [
        "def covariance(x,y):\r\n",
        "        n = len(x)\r\n",
        "        return np.dot(de_mean(x), de_mean(y)) / (n-1)"
      ],
      "execution_count": null,
      "outputs": []
    },
    {
      "cell_type": "code",
      "metadata": {
        "id": "S8f2UaJCMPfx"
      },
      "source": [
        "def variance(data):\r\n",
        "        n = len(data)\r\n",
        "        deviations = de_mean(data)\r\n",
        "        return sum_of_square(deviations) / (n-1)"
      ],
      "execution_count": null,
      "outputs": []
    },
    {
      "cell_type": "code",
      "metadata": {
        "id": "1y9ILLL-MPnK"
      },
      "source": [
        "def correlation(x,y):\r\n",
        "        stdev_x = np.std(x)\r\n",
        "        stdev_y = np.std(y)\r\n",
        "        if stdev_x > 0 and stdev_y > 0:\r\n",
        "            return covariance(x,y) / stdev_x / stdev_y\r\n",
        "        else:\r\n",
        "            return 0"
      ],
      "execution_count": null,
      "outputs": []
    },
    {
      "cell_type": "code",
      "metadata": {
        "id": "mNtDtF0JMPvv"
      },
      "source": [
        "cl = nutrisi['Calories']\r\n",
        "sg = nutrisi['Sugars']\r\n",
        "tr = nutrisi['Trans Fat']"
      ],
      "execution_count": null,
      "outputs": []
    },
    {
      "cell_type": "code",
      "metadata": {
        "colab": {
          "base_uri": "https://localhost:8080/"
        },
        "id": "sowWSdD-MP3e",
        "outputId": "45b2410e-33d7-495b-fbbe-aeac71052095"
      },
      "source": [
        "print('Korelasi antar kolom : ')\r\n",
        "print('Korelasi antara Calories dan Sugars adalah ', correlation(cl, sg))\r\n",
        "print('Korelasi antara Calories dan Trans Fat adalah ', correlation(cl, tr))\r\n",
        "print('Korelasi antara Sugars dan Trans Fat adalah ', correlation(sg, tr))\r\n",
        "\r\n",
        "print(' ')\r\n",
        "print('Kovarian antar kolom : ')\r\n",
        "print('Kovarian antara Calories dan Sugars adalah ', covariance (cl, sg))\r\n",
        "print('Kovarian antara Calories dan Trans Fat adalah ', covariance (cl, tr))\r\n",
        "print('Kovarian antara Sugars dan Trans Fat adalah ', covariance(sg, tr))"
      ],
      "execution_count": null,
      "outputs": [
        {
          "output_type": "stream",
          "text": [
            "Korelasi antar kolom : \n",
            "Korelasi antara Calories dan Sugars adalah  0.2606004308132979\n",
            "Korelasi antara Calories dan Trans Fat adalah  0.5244580620367774\n",
            "Korelasi antara Sugars dan Trans Fat adalah  0.33604828337097076\n",
            " \n",
            "Kovarian antar kolom : \n",
            "Kovarian antara Calories dan Sugars adalah  1788.862488862489\n",
            "Kovarian antara Calories dan Trans Fat adalah  53.86768636768637\n",
            "Kovarian antara Sugars dan Trans Fat adalah  4.119988119988121\n"
          ],
          "name": "stdout"
        }
      ]
    },
    {
      "cell_type": "code",
      "metadata": {
        "colab": {
          "base_uri": "https://localhost:8080/",
          "height": 354
        },
        "id": "TYAao5vsNm7k",
        "outputId": "bad47905-dd07-4896-ac9b-add52c6a169e"
      },
      "source": [
        "plt.scatter(nutrisi['Trans Fat'], nutrisi['Sugars'])\r\n",
        "print('Korelasi antar kolom : ')\r\n",
        "print('Korelasi antara Trans Fat dan Sugars adalah ', correlation(tr, sg))\r\n",
        "\r\n",
        "print(' ')\r\n",
        "print('Kovarian antar kolom : ')\r\n",
        "print('Kovarian antara Trans Fat dan Sugars adalah ', covariance (tr, sg))"
      ],
      "execution_count": null,
      "outputs": [
        {
          "output_type": "stream",
          "text": [
            "Korelasi antar kolom : \n",
            "Korelasi antara Trans Fat dan Sugars adalah  0.3360482833709707\n",
            " \n",
            "Kovarian antar kolom : \n",
            "Kovarian antara Trans Fat dan Sugars adalah  4.119988119988121\n"
          ],
          "name": "stdout"
        },
        {
          "output_type": "display_data",
          "data": {
            "image/png": "[encoded data removed]",
            "text/plain": [
              "<Figure size 432x288 with 1 Axes>"
            ]
          },
          "metadata": {
            "tags": [],
            "needs_background": "light"
          }
        }
      ]
    },
    {
      "cell_type": "markdown",
      "metadata": {
        "id": "Fi8vDNlfN8fx"
      },
      "source": [
        "**Hasil Analisa** : \r\n",
        "\r\n",
        "Dari hasil analisa permodelan di atas mendapatkan prediksi korelasi antara Trans Fat dan Sugars adalah 0,3 sedangkan prediksi kovarian adalah 4,1."
      ]
    },
    {
      "cell_type": "code",
      "metadata": {
        "colab": {
          "base_uri": "https://localhost:8080/",
          "height": 357
        },
        "id": "23ssoBTKO7d2",
        "outputId": "9f0fb704-4ad4-44c2-cd19-ec1871b5f40e"
      },
      "source": [
        "plt.scatter(nutrisi['Calories'], nutrisi['Trans Fat'])\r\n",
        "print('Korelasi antar kolom : ')\r\n",
        "print('Korelasi antara Trans Fat dan Calories adalah ', correlation(cl, tr))\r\n",
        "\r\n",
        "print(' ')\r\n",
        "print('Kovarian antar kolom : ')\r\n",
        "print('Kovarian antara Trans Fat dan Calories adalah ', covariance (cl, tr))"
      ],
      "execution_count": null,
      "outputs": [
        {
          "output_type": "stream",
          "text": [
            "Korelasi antar kolom : \n",
            "Korelasi antara Trans Fat dan Calories adalah  0.5244580620367774\n",
            " \n",
            "Kovarian antar kolom : \n",
            "Kovarian antara Trans Fat dan Calories adalah  53.86768636768637\n"
          ],
          "name": "stdout"
        },
        {
          "output_type": "display_data",
          "data": {
            "image/png": "[encoded data removed]",
            "text/plain": [
              "<Figure size 432x288 with 1 Axes>"
            ]
          },
          "metadata": {
            "tags": []
          }
        }
      ]
    },
    {
      "cell_type": "markdown",
      "metadata": {
        "id": "1AH-8o1xPb-b"
      },
      "source": [
        "**Hasil Analisa** : \r\n",
        "\r\n",
        "Dari hasil analisa permodelan di atas mendapatkan prediksi korelasi antara Trans Fat dan Sugars adalah 0,5 sedangkan prediksi kovarian adalah 53,86."
      ]
    },
    {
      "cell_type": "code",
      "metadata": {
        "colab": {
          "base_uri": "https://localhost:8080/",
          "height": 354
        },
        "id": "Za0baI9VPlBz",
        "outputId": "d323907d-94ea-4897-e0b1-601f296f3c7f"
      },
      "source": [
        "plt.scatter(nutrisi['Calories'], nutrisi['Sugars'])\r\n",
        "\r\n",
        "print('Korelasi antar kolom : ')\r\n",
        "print('Korelasi antara Calories dan Sugars adalah ', correlation(cl, sg))\r\n",
        "\r\n",
        "print(' ')\r\n",
        "print('Kovarian antar kolom : ')\r\n",
        "print('Kovarian antara Calories dan Sugars adalah ', covariance(cl, sg))"
      ],
      "execution_count": null,
      "outputs": [
        {
          "output_type": "stream",
          "text": [
            "Korelasi antar kolom : \n",
            "Korelasi antara Calories dan Sugars adalah  0.2606004308132979\n",
            " \n",
            "Kovarian antar kolom : \n",
            "Kovarian antara Calories dan Sugars adalah  1788.862488862489\n"
          ],
          "name": "stdout"
        },
        {
          "output_type": "display_data",
          "data": {
            "image/png": "[encoded data removed]",
            "text/plain": [
              "<Figure size 432x288 with 1 Axes>"
            ]
          },
          "metadata": {
            "tags": [],
            "needs_background": "light"
          }
        }
      ]
    },
    {
      "cell_type": "markdown",
      "metadata": {
        "id": "k0Qwtv8HP6IS"
      },
      "source": [
        "**Hasil Analisa** : \r\n",
        "\r\n",
        "Dari hasil analisa permodelan di atas mendapatkan prediksi korelasi antara Trans Fat dan Sugars adalah 0,26 sedangkan prediksi kovarian adalah 1788,86."
      ]
    },
    {
      "cell_type": "code",
      "metadata": {
        "colab": {
          "base_uri": "https://localhost:8080/",
          "height": 630
        },
        "id": "2Rk-ee7NQDQP",
        "outputId": "93683bd3-46a2-4e02-e33c-b63de6e434c5"
      },
      "source": [
        "corr = nutrisi.corr()\r\n",
        "\r\n",
        "plt.figure(figsize=(15,8))\r\n",
        "\r\n",
        "sns.heatmap(corr, annot=True, vmin = -1, cmap='coolwarm')\r\n",
        "\r\n",
        "plt.show()"
      ],
      "execution_count": null,
      "outputs": [
        {
          "output_type": "display_data",
          "data": {
            "image/png": "[encoded data removed]",
            "text/plain": [
              "<Figure size 1080x576 with 2 Axes>"
            ]
          },
          "metadata": {
            "tags": [],
            "needs_background": "light"
          }
        }
      ]
    },
    {
      "cell_type": "markdown",
      "metadata": {
        "id": "RxaV69cWQI8D"
      },
      "source": [
        "**Hasil Analisis** : \r\n",
        "\r\n",
        "Pada Heatmap korelasi disini didapatkan korelasi antara Calories, Sugars, dan Trans Fat dengan simpulan bahwa :\r\n",
        "\r\n",
        "- Calories dan Sugars senilai 0,26 (menggambarkan warna korelasi berada area netral)\r\n",
        "- Calories dan Trans Fat senilai 0,52 (menggambarkan warna korelasi meningkat dari korelasi antara Calories dan Sugars)\r\n",
        "- Trans Fat dan Sugars senilai 0,33 (menggambarkan warna korelasi yang masih diatas Calories dan Sugars)"
      ]
    },
    {
      "cell_type": "markdown",
      "metadata": {
        "id": "1GEJVyxuRUpS"
      },
      "source": [
        "# **TAHAP-TAHAP EVALUASI DATA**"
      ]
    },
    {
      "cell_type": "markdown",
      "metadata": {
        "id": "3pYISqgyRZGi"
      },
      "source": [
        "**Tahap pertama** : \r\n",
        "\r\n",
        "Import library yang digunakan untuk evaluasi data."
      ]
    },
    {
      "cell_type": "code",
      "metadata": {
        "id": "khGkbw5PRW43"
      },
      "source": [
        "from sklearn.datasets import make_classification\r\n",
        "from matplotlib import pyplot as plt\r\n",
        "from sklearn.linear_model import LogisticRegression\r\n",
        "from sklearn.model_selection import train_test_split\r\n",
        "from sklearn.metrics import confusion_matrix\r\n",
        "import seaborn as sns\r\n",
        "import pandas as pd\r\n",
        "\r\n",
        "sns.set()"
      ],
      "execution_count": null,
      "outputs": []
    },
    {
      "cell_type": "markdown",
      "metadata": {
        "id": "bExCMDgtRd4i"
      },
      "source": [
        "**Tahap kedua** : \r\n",
        "\r\n",
        "Inisialisasi klasifikasi dari grafik x dan y"
      ]
    },
    {
      "cell_type": "code",
      "metadata": {
        "id": "oM15vA8bRgNE"
      },
      "source": [
        "x, y = make_classification(\r\n",
        "    n_samples=100,\r\n",
        "    n_features=1,\r\n",
        "    n_classes=2,\r\n",
        "    n_clusters_per_class=1,\r\n",
        "    flip_y=0.03,\r\n",
        "    n_informative=1,\r\n",
        "    n_redundant=0,\r\n",
        "    n_repeated=0\r\n",
        ")"
      ],
      "execution_count": null,
      "outputs": []
    },
    {
      "cell_type": "markdown",
      "metadata": {
        "id": "fKML8SuIRl7b"
      },
      "source": [
        "**Tahap ketiga** : \r\n",
        "\r\n",
        "Menampilkan plot hubungan antara fungsi dan kelas yang ada dengan klasifikasi yang sudah dibentuk pada grafik x dan y."
      ]
    },
    {
      "cell_type": "code",
      "metadata": {
        "colab": {
          "base_uri": "https://localhost:8080/",
          "height": 286
        },
        "id": "jXZ06hhPRps5",
        "outputId": "c4fb022f-f3b0-4b96-a142-a8cb30e388c8"
      },
      "source": [
        "plt.scatter(x, y, c=y, cmap='rainbow')"
      ],
      "execution_count": null,
      "outputs": [
        {
          "output_type": "execute_result",
          "data": {
            "text/plain": [
              "<matplotlib.collections.PathCollection at 0x7fd99f8293c8>"
            ]
          },
          "metadata": {
            "tags": []
          },
          "execution_count": 104
        },
        {
          "output_type": "display_data",
          "data": {
            "image/png": "[encoded data removed]",
            "text/plain": [
              "<Figure size 432x288 with 1 Axes>"
            ]
          },
          "metadata": {
            "tags": []
          }
        }
      ]
    },
    {
      "cell_type": "markdown",
      "metadata": {
        "id": "hfFWOEBoRtVY"
      },
      "source": [
        "**Hasil Analisa** : \r\n",
        "\r\n",
        "Scatter plot yang digunakan untuk pemetaan dari grafik x dan y dibagi menjadi 2 warna bagian, salah satu fungsi dari emetaan ini adalah untuk melihat persebaran data yang ada."
      ]
    },
    {
      "cell_type": "markdown",
      "metadata": {
        "id": "TGxSPamqR60L"
      },
      "source": [
        "**Tahap keempat** : \r\n",
        "\r\n",
        "Inisialisasi untuk evaluasi subset"
      ]
    },
    {
      "cell_type": "code",
      "metadata": {
        "id": "R1QiihD9R8El"
      },
      "source": [
        "x_train, x_test, y_train, y_test = train_test_split(x, y, random_state=1)"
      ],
      "execution_count": null,
      "outputs": []
    },
    {
      "cell_type": "markdown",
      "metadata": {
        "id": "LJ5asl5sSBnY"
      },
      "source": [
        "**Tahap kelima** : \r\n",
        "\r\n",
        "Membuat model mempelajari hubungan antara digit (x_train) dan label (y_train)"
      ]
    },
    {
      "cell_type": "code",
      "metadata": {
        "colab": {
          "base_uri": "https://localhost:8080/"
        },
        "id": "_dRkqHNRSCj5",
        "outputId": "195abe5f-6119-42cb-e598-a95b8ffe753a"
      },
      "source": [
        "lr = LogisticRegression()\r\n",
        "lr.fit(x_train, y_train)"
      ],
      "execution_count": null,
      "outputs": [
        {
          "output_type": "execute_result",
          "data": {
            "text/plain": [
              "LogisticRegression(C=1.0, class_weight=None, dual=False, fit_intercept=True,\n",
              "                   intercept_scaling=1, l1_ratio=None, max_iter=100,\n",
              "                   multi_class='auto', n_jobs=None, penalty='l2',\n",
              "                   random_state=None, solver='lbfgs', tol=0.0001, verbose=0,\n",
              "                   warm_start=False)"
            ]
          },
          "metadata": {
            "tags": []
          },
          "execution_count": 106
        }
      ]
    },
    {
      "cell_type": "markdown",
      "metadata": {
        "id": "uo20lFqgSHI4"
      },
      "source": [
        "**Tahap keenam** : \r\n",
        "\r\n",
        "Menampilkan evaluasi dengan melihat koefisien kemiringan dan perpotongan y dari garis yang paling cocok"
      ]
    },
    {
      "cell_type": "code",
      "metadata": {
        "colab": {
          "base_uri": "https://localhost:8080/"
        },
        "id": "79cKlRytSIQ6",
        "outputId": "6efc83f3-e0d5-44df-fa4e-a18b827a494e"
      },
      "source": [
        "print(lr.coef_)\r\n",
        "print(lr.intercept_)"
      ],
      "execution_count": null,
      "outputs": [
        {
          "output_type": "stream",
          "text": [
            "[[3.25213436]]\n",
            "[1.02651375]\n"
          ],
          "name": "stdout"
        }
      ]
    },
    {
      "cell_type": "markdown",
      "metadata": {
        "id": "8qCBNJ0KSL0P"
      },
      "source": [
        "**Evaluasi** : \r\n",
        "\r\n",
        "Evaluasi dengan menggunakan model Regresi dilihat dari koefisien kemiringan bernilai 3.25213436 dan perpotongan garis y adalah 1.02651375"
      ]
    },
    {
      "cell_type": "markdown",
      "metadata": {
        "id": "xW6_TbUXSZLq"
      },
      "source": [
        "> **EVALUASI HIPOTESIS DARI PEMODELAN** "
      ]
    },
    {
      "cell_type": "markdown",
      "metadata": {
        "id": "MtitR6rTSeWq"
      },
      "source": [
        "Hipotesis dari pemodelan yang sudah dilakukan akan mendapatkan nilai korelasi yang lemah jika kurang dari 0,7. \r\n",
        "\r\n",
        "- Jika P-Value sama dengan 0 atau lebih dari 0 maka hipotesis diterima dan korelasi kuat\r\n",
        "- Jika P-Value kurang dari 0 maka hipotesis ditolak."
      ]
    },
    {
      "cell_type": "code",
      "metadata": {
        "id": "NN0ux89WS1cd"
      },
      "source": [
        "class HypothesisTest(object):\r\n",
        "    \r\n",
        "    def __init__(self, data):\r\n",
        "        self.data = data\r\n",
        "        self.MakeModel()\r\n",
        "        self.actual = self.TestStatistic(data)\r\n",
        "        \r\n",
        "    def PValue(self, iters = 1000):\r\n",
        "        self.test_stats = [self.TestStatistic(self.RunModel()) for _ in range(iters)]\r\n",
        "        count = sum(1 for x in self.test_stats if x >= self.actual)\r\n",
        "        return count / iters\r\n",
        "    \r\n",
        "    def TestStatistic(self, data):\r\n",
        "        raise UnimplementedMethodException()\r\n",
        "        \r\n",
        "    def MakeModel(self):\r\n",
        "        pass\r\n",
        "    \r\n",
        "    def RunModel(self):\r\n",
        "        raise UnimplementedMethodException()"
      ],
      "execution_count": null,
      "outputs": []
    },
    {
      "cell_type": "code",
      "metadata": {
        "id": "uidsnoGuS1nX"
      },
      "source": [
        "class CorrPermute(HypothesisTest):\r\n",
        "    \r\n",
        "    def TestStatistic(self, data):\r\n",
        "        xs, ys = data\r\n",
        "        test_stat = abs(correlation(xs, ys))\r\n",
        "        return test_stat\r\n",
        "    \r\n",
        "    def RunModel(self):\r\n",
        "        xs, ys = self.data\r\n",
        "        xs = np.random.permutation(xs)\r\n",
        "        return xs, ys\r\n",
        "    \r\n",
        "def correlation(x, y):\r\n",
        "    std_x = np.std(x)\r\n",
        "    std_y = np.std(y)\r\n",
        "    if std_x and std_y > 0:\r\n",
        "        return covariance(x, y) / std_x / std_y\r\n",
        "    else:\r\n",
        "        return 0\r\n",
        "    \r\n",
        "def de_mean(x):\r\n",
        "    x_bar = np.mean(x)\r\n",
        "    return [x_i - x_bar for x_i in x]\r\n",
        "\r\n",
        "def covariance(x, y):\r\n",
        "    n = len(x)\r\n",
        "    return np.dot(de_mean(x), de_mean(y)) / (n - 1)"
      ],
      "execution_count": null,
      "outputs": []
    },
    {
      "cell_type": "code",
      "metadata": {
        "colab": {
          "base_uri": "https://localhost:8080/"
        },
        "id": "1RybpBYIS1yF",
        "outputId": "abf933eb-4dfc-4bc4-c204-45afc44b933a"
      },
      "source": [
        "cp = CorrPermute((cl, tr))\r\n",
        "pvalue = cp.PValue()\r\n",
        "\r\n",
        "print('Hipotesis akhir p-value: ', pvalue)"
      ],
      "execution_count": null,
      "outputs": [
        {
          "output_type": "stream",
          "text": [
            "Hipotesis akhir p-value:  0.0\n"
          ],
          "name": "stdout"
        }
      ]
    },
    {
      "cell_type": "markdown",
      "metadata": {
        "id": "xhUwAPjXTBDo"
      },
      "source": [
        "**Hasil Analisis** :\r\n",
        "\r\n",
        "Nilai P-Value pada hipotesis akhir antara Colesterol dengan Trans Fat adalah 0.\r\n",
        "Hipotesis akhir adalah salah dan korelasi lemah yaitu 0,52 antara Trans Fat dan Calories. \r\n",
        "\r\n",
        "- Disimpulkan bahwa korelasi yang terjadi adalah tidak signifikan secara statistik."
      ]
    },
    {
      "cell_type": "markdown",
      "metadata": {
        "id": "OUTeDS2HT_Zk"
      },
      "source": [
        "> **MEMPREDIKSI ANTARA QUANTITY DAN TOTAL MENGGUNAKAN LINEAR LEAST SQUARE**"
      ]
    },
    {
      "cell_type": "code",
      "metadata": {
        "id": "WV7uwg9zUGyR"
      },
      "source": [
        "def LeastSquares(xs, ys):\r\n",
        "    meanx, varx = np.mean(xs), np.var(xs)\r\n",
        "    meany = np.mean(ys)\r\n",
        "    \r\n",
        "    slope = covariance(xs, ys) / varx\r\n",
        "    inter = meany - slope * meanx\r\n",
        "    \r\n",
        "    return inter, slope\r\n",
        "\r\n",
        "def FitLine(xs, inter, slope):\r\n",
        "    fit_xs = np.sort(xs)\r\n",
        "    fit_ys = inter + slope * fit_xs\r\n",
        "    \r\n",
        "    return fit_xs, fit_ys"
      ],
      "execution_count": null,
      "outputs": []
    },
    {
      "cell_type": "code",
      "metadata": {
        "colab": {
          "base_uri": "https://localhost:8080/"
        },
        "id": "o2cxIi55UG53",
        "outputId": "47dddc3a-aa60-4be2-fb6c-40db821562b3"
      },
      "source": [
        "inter, slope = LeastSquares(cl, tr)\r\n",
        "fit_xs, fit_ys = FitLine(cl, inter, slope)\r\n",
        "\r\n",
        "print('intercept is: {} and slope is: {}'.format(inter, slope))"
      ],
      "execution_count": null,
      "outputs": [
        {
          "output_type": "stream",
          "text": [
            "intercept is: -0.141113779304814 and slope is: 0.000936705823699756\n"
          ],
          "name": "stdout"
        }
      ]
    },
    {
      "cell_type": "markdown",
      "metadata": {
        "id": "hgD4XMN8Ua39"
      },
      "source": [
        "**Hasil Analisis** : \r\n",
        "\r\n",
        "Pada hasil linear least square untuk intersepsi adalah -0,14 dan slope adalah 0,0009"
      ]
    },
    {
      "cell_type": "markdown",
      "metadata": {
        "id": "TA3Nrj8FUl4i"
      },
      "source": [
        "> **RESIDUAL**"
      ]
    },
    {
      "cell_type": "code",
      "metadata": {
        "id": "TIzAJ2VwUkcV"
      },
      "source": [
        "def Residuals(xs, ys, inter, slope):\r\n",
        "    xs = np.asarray(xs)\r\n",
        "    ys = np.asarray(ys)\r\n",
        "    res = ys - (inter + slope * xs)\r\n",
        "    return res"
      ],
      "execution_count": null,
      "outputs": []
    },
    {
      "cell_type": "code",
      "metadata": {
        "colab": {
          "base_uri": "https://localhost:8080/"
        },
        "id": "JAleRYz8Upei",
        "outputId": "5888583b-3ecc-4220-bf7d-05f86ea12ac5"
      },
      "source": [
        "print('Prediksi RMSE adalah :  ', np.std(cl))"
      ],
      "execution_count": null,
      "outputs": [
        {
          "output_type": "stream",
          "text": [
            "Prediksi RMSE adalah :   239.8073838749482\n"
          ],
          "name": "stdout"
        }
      ]
    },
    {
      "cell_type": "markdown",
      "metadata": {
        "id": "d1Ws8c7MUoCw"
      },
      "source": [
        "**Hasil Analisis** : \r\n",
        "\r\n",
        "Prediksi RSME adalah 239,80"
      ]
    },
    {
      "cell_type": "markdown",
      "metadata": {
        "id": "Q2Y_iNrpU6IH"
      },
      "source": [
        "> **KOEFISIEN DETERMINASI**"
      ]
    },
    {
      "cell_type": "code",
      "metadata": {
        "colab": {
          "base_uri": "https://localhost:8080/"
        },
        "id": "WNH3_FlPU65p",
        "outputId": "de694eb6-8aa9-4b65-e824-6db6487e1056"
      },
      "source": [
        "r_squared = 1 - (np.var(tr) / np.var(cl))\r\n",
        "\r\n",
        "print('Koefisien determinasi didapatkan adalah: ', r_squared)"
      ],
      "execution_count": null,
      "outputs": [
        {
          "output_type": "stream",
          "text": [
            "Koefisien determinasi didapatkan adalah:  0.9999968100424115\n"
          ],
          "name": "stdout"
        }
      ]
    },
    {
      "cell_type": "markdown",
      "metadata": {
        "id": "0-sQLR9kVDj3"
      },
      "source": [
        "**Hasil Analisis** : \r\n",
        "\r\n",
        "Prediksi RSME adalah 0,99999 dibulatkan menjadi 1"
      ]
    },
    {
      "cell_type": "markdown",
      "metadata": {
        "id": "NfQTznhGVNqK"
      },
      "source": [
        "> **VISUALISASI PLOT DARI EVALUASI YANG SUDAH DILAKUKAN**"
      ]
    },
    {
      "cell_type": "code",
      "metadata": {
        "colab": {
          "base_uri": "https://localhost:8080/",
          "height": 520
        },
        "id": "c5yx6AKXVPxB",
        "outputId": "bda2f0c8-bb1d-4c39-de38-f63ea70965a8"
      },
      "source": [
        "plt.figure(figsize = (15, 8))\r\n",
        "\r\n",
        "plt.xlabel('Calories')\r\n",
        "plt.ylabel('Trans fat')\r\n",
        "\r\n",
        "plt.plot(fit_xs, fit_ys, color = 'black')\r\n",
        "plt.scatter(cl, tr, color = 'blue')"
      ],
      "execution_count": null,
      "outputs": [
        {
          "output_type": "execute_result",
          "data": {
            "text/plain": [
              "<matplotlib.collections.PathCollection at 0x7fd9a08f6128>"
            ]
          },
          "metadata": {
            "tags": []
          },
          "execution_count": 130
        },
        {
          "output_type": "display_data",
          "data": {
            "image/png": "[encoded data removed]",
            "text/plain": [
              "<Figure size 1080x576 with 1 Axes>"
            ]
          },
          "metadata": {
            "tags": []
          }
        }
      ]
    },
    {
      "cell_type": "markdown",
      "metadata": {
        "id": "8aj1zAK-Vxrz"
      },
      "source": [
        "**Hasil Analisis** : \r\n",
        "\r\n",
        "Hasil visualisasi yang didapatkan antara Calories dan Trans Fat pada pemodelan yang sudah dilakukan sama dengan data visualisasi ini."
      ]
    }
  ]
}